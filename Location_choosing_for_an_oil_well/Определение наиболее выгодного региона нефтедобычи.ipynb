{
 "cells": [
  {
   "cell_type": "markdown",
   "metadata": {},
   "source": [
    "# Выбор локации для скважины"
   ]
  },
  {
   "cell_type": "markdown",
   "metadata": {},
   "source": [
    "Добывающей компании «ГлавРосГосНефть» нужно решить, где бурить новую скважину.\n",
    "\n",
    "Есть пробы нефти в трёх регионах: в каждом 10 000 месторождений, где измерили качество нефти и объём её запасов. \n",
    "Построим модель машинного обучения, которая поможет определить регион, где добыча принесёт наибольшую прибыль. \n",
    "Проанализируем возможную прибыль и риски техникой *Bootstrap.*\n",
    "\n",
    "Шаги для выбора локации:\n",
    "\n",
    "- В избранном регионе ищем месторождения, для каждого определяем значения признаков;\n",
    "- Строим модель и оцениваем объём запасов;\n",
    "- Выбираем месторождения с самым высокими оценками значений. Количество месторождений зависит от бюджета компании и стоимости разработки одной скважины;\n",
    "- Прибыль равна суммарной прибыли отобранных месторождений."
   ]
  },
  {
   "cell_type": "markdown",
   "metadata": {},
   "source": [
    "Описание данных\n",
    "\n",
    "Данные геологоразведки трёх регионов находятся в 3 файлах.\n",
    "\n",
    "\n",
    "- id — уникальный идентификатор скважины;\n",
    "\n",
    "- f0, f1, f2 — три признака точек (неважно, что они означают, но сами признаки значимы);\n",
    "\n",
    "- product — объём запасов в скважине (тыс. баррелей).\n",
    "\n",
    "\n",
    "Условия задачи:\n",
    "\n",
    "- Для обучения модели подходит только линейная регрессия (остальные — недостаточно предсказуемые).\n",
    "\n",
    "- При разведке региона исследуют 500 точек, из которых с помощью машинного обучения выбирают 200 лучших для разработки.\n",
    "\n",
    "- Бюджет на разработку скважин в регионе — 10 млрд рублей.\n",
    "\n",
    "- При нынешних ценах один баррель сырья приносит 450 рублей дохода. Доход с каждой единицы продукта составляет 450 тыс. рублей, поскольку объём указан в тысячах баррелей.\n",
    "\n",
    "- После оценки рисков нужно оставить лишь те регионы, в которых вероятность убытков меньше 2.5%. Среди них выбирают регион с наибольшей средней прибылью.\n",
    "\n",
    "- Данные синтетические: детали контрактов и характеристики месторождений не разглашаются."
   ]
  },
  {
   "cell_type": "markdown",
   "metadata": {},
   "source": [
    "## Загрузка и подготовка данных"
   ]
  },
  {
   "cell_type": "markdown",
   "metadata": {},
   "source": [
    "### Загрузка данных"
   ]
  },
  {
   "cell_type": "code",
   "execution_count": 1,
   "metadata": {},
   "outputs": [],
   "source": [
    "#импорт библиотек\n",
    "import pandas as pd\n",
    "\n",
    "import numpy as np\n",
    "from numpy.random import RandomState\n",
    "\n",
    "from sklearn.linear_model import LinearRegression\n",
    "from sklearn.metrics import mean_squared_error\n",
    "from sklearn.model_selection import cross_val_score\n",
    "from sklearn.model_selection import train_test_split\n",
    "from sklearn.preprocessing import StandardScaler"
   ]
  },
  {
   "cell_type": "code",
   "execution_count": 2,
   "metadata": {},
   "outputs": [],
   "source": [
    "try: # чтение файла с сайта\n",
    "    geo_data_0 = pd.read_csv('/datasets/geo_data_0.csv')\n",
    "    geo_data_1 = pd.read_csv('/datasets/geo_data_1.csv')\n",
    "    geo_data_2 = pd.read_csv('/datasets/geo_data_2.csv')\n",
    "except: # чтение файла локально\n",
    "    geo_data_0 = pd.read_csv('datasets/geo_data_0.csv')\n",
    "    geo_data_1 = pd.read_csv('datasets/geo_data_1.csv')\n",
    "    geo_data_2 = pd.read_csv('datasets/geo_data_2.csv')"
   ]
  },
  {
   "cell_type": "markdown",
   "metadata": {},
   "source": [
    "Обзор данных:"
   ]
  },
  {
   "cell_type": "code",
   "execution_count": 3,
   "metadata": {
    "scrolled": false
   },
   "outputs": [
    {
     "data": {
      "text/html": [
       "<div>\n",
       "<style scoped>\n",
       "    .dataframe tbody tr th:only-of-type {\n",
       "        vertical-align: middle;\n",
       "    }\n",
       "\n",
       "    .dataframe tbody tr th {\n",
       "        vertical-align: top;\n",
       "    }\n",
       "\n",
       "    .dataframe thead th {\n",
       "        text-align: right;\n",
       "    }\n",
       "</style>\n",
       "<table border=\"1\" class=\"dataframe\">\n",
       "  <thead>\n",
       "    <tr style=\"text-align: right;\">\n",
       "      <th></th>\n",
       "      <th>id</th>\n",
       "      <th>f0</th>\n",
       "      <th>f1</th>\n",
       "      <th>f2</th>\n",
       "      <th>product</th>\n",
       "    </tr>\n",
       "  </thead>\n",
       "  <tbody>\n",
       "    <tr>\n",
       "      <th>0</th>\n",
       "      <td>txEyH</td>\n",
       "      <td>0.705745</td>\n",
       "      <td>-0.497823</td>\n",
       "      <td>1.221170</td>\n",
       "      <td>105.280062</td>\n",
       "    </tr>\n",
       "    <tr>\n",
       "      <th>1</th>\n",
       "      <td>2acmU</td>\n",
       "      <td>1.334711</td>\n",
       "      <td>-0.340164</td>\n",
       "      <td>4.365080</td>\n",
       "      <td>73.037750</td>\n",
       "    </tr>\n",
       "    <tr>\n",
       "      <th>2</th>\n",
       "      <td>409Wp</td>\n",
       "      <td>1.022732</td>\n",
       "      <td>0.151990</td>\n",
       "      <td>1.419926</td>\n",
       "      <td>85.265647</td>\n",
       "    </tr>\n",
       "    <tr>\n",
       "      <th>3</th>\n",
       "      <td>iJLyR</td>\n",
       "      <td>-0.032172</td>\n",
       "      <td>0.139033</td>\n",
       "      <td>2.978566</td>\n",
       "      <td>168.620776</td>\n",
       "    </tr>\n",
       "    <tr>\n",
       "      <th>4</th>\n",
       "      <td>Xdl7t</td>\n",
       "      <td>1.988431</td>\n",
       "      <td>0.155413</td>\n",
       "      <td>4.751769</td>\n",
       "      <td>154.036647</td>\n",
       "    </tr>\n",
       "  </tbody>\n",
       "</table>\n",
       "</div>"
      ],
      "text/plain": [
       "      id        f0        f1        f2     product\n",
       "0  txEyH  0.705745 -0.497823  1.221170  105.280062\n",
       "1  2acmU  1.334711 -0.340164  4.365080   73.037750\n",
       "2  409Wp  1.022732  0.151990  1.419926   85.265647\n",
       "3  iJLyR -0.032172  0.139033  2.978566  168.620776\n",
       "4  Xdl7t  1.988431  0.155413  4.751769  154.036647"
      ]
     },
     "metadata": {},
     "output_type": "display_data"
    },
    {
     "data": {
      "text/html": [
       "<div>\n",
       "<style scoped>\n",
       "    .dataframe tbody tr th:only-of-type {\n",
       "        vertical-align: middle;\n",
       "    }\n",
       "\n",
       "    .dataframe tbody tr th {\n",
       "        vertical-align: top;\n",
       "    }\n",
       "\n",
       "    .dataframe thead th {\n",
       "        text-align: right;\n",
       "    }\n",
       "</style>\n",
       "<table border=\"1\" class=\"dataframe\">\n",
       "  <thead>\n",
       "    <tr style=\"text-align: right;\">\n",
       "      <th></th>\n",
       "      <th>id</th>\n",
       "      <th>f0</th>\n",
       "      <th>f1</th>\n",
       "      <th>f2</th>\n",
       "      <th>product</th>\n",
       "    </tr>\n",
       "  </thead>\n",
       "  <tbody>\n",
       "    <tr>\n",
       "      <th>0</th>\n",
       "      <td>kBEdx</td>\n",
       "      <td>-15.001348</td>\n",
       "      <td>-8.276000</td>\n",
       "      <td>-0.005876</td>\n",
       "      <td>3.179103</td>\n",
       "    </tr>\n",
       "    <tr>\n",
       "      <th>1</th>\n",
       "      <td>62mP7</td>\n",
       "      <td>14.272088</td>\n",
       "      <td>-3.475083</td>\n",
       "      <td>0.999183</td>\n",
       "      <td>26.953261</td>\n",
       "    </tr>\n",
       "    <tr>\n",
       "      <th>2</th>\n",
       "      <td>vyE1P</td>\n",
       "      <td>6.263187</td>\n",
       "      <td>-5.948386</td>\n",
       "      <td>5.001160</td>\n",
       "      <td>134.766305</td>\n",
       "    </tr>\n",
       "    <tr>\n",
       "      <th>3</th>\n",
       "      <td>KcrkZ</td>\n",
       "      <td>-13.081196</td>\n",
       "      <td>-11.506057</td>\n",
       "      <td>4.999415</td>\n",
       "      <td>137.945408</td>\n",
       "    </tr>\n",
       "    <tr>\n",
       "      <th>4</th>\n",
       "      <td>AHL4O</td>\n",
       "      <td>12.702195</td>\n",
       "      <td>-8.147433</td>\n",
       "      <td>5.004363</td>\n",
       "      <td>134.766305</td>\n",
       "    </tr>\n",
       "  </tbody>\n",
       "</table>\n",
       "</div>"
      ],
      "text/plain": [
       "      id         f0         f1        f2     product\n",
       "0  kBEdx -15.001348  -8.276000 -0.005876    3.179103\n",
       "1  62mP7  14.272088  -3.475083  0.999183   26.953261\n",
       "2  vyE1P   6.263187  -5.948386  5.001160  134.766305\n",
       "3  KcrkZ -13.081196 -11.506057  4.999415  137.945408\n",
       "4  AHL4O  12.702195  -8.147433  5.004363  134.766305"
      ]
     },
     "metadata": {},
     "output_type": "display_data"
    },
    {
     "data": {
      "text/html": [
       "<div>\n",
       "<style scoped>\n",
       "    .dataframe tbody tr th:only-of-type {\n",
       "        vertical-align: middle;\n",
       "    }\n",
       "\n",
       "    .dataframe tbody tr th {\n",
       "        vertical-align: top;\n",
       "    }\n",
       "\n",
       "    .dataframe thead th {\n",
       "        text-align: right;\n",
       "    }\n",
       "</style>\n",
       "<table border=\"1\" class=\"dataframe\">\n",
       "  <thead>\n",
       "    <tr style=\"text-align: right;\">\n",
       "      <th></th>\n",
       "      <th>id</th>\n",
       "      <th>f0</th>\n",
       "      <th>f1</th>\n",
       "      <th>f2</th>\n",
       "      <th>product</th>\n",
       "    </tr>\n",
       "  </thead>\n",
       "  <tbody>\n",
       "    <tr>\n",
       "      <th>0</th>\n",
       "      <td>fwXo0</td>\n",
       "      <td>-1.146987</td>\n",
       "      <td>0.963328</td>\n",
       "      <td>-0.828965</td>\n",
       "      <td>27.758673</td>\n",
       "    </tr>\n",
       "    <tr>\n",
       "      <th>1</th>\n",
       "      <td>WJtFt</td>\n",
       "      <td>0.262778</td>\n",
       "      <td>0.269839</td>\n",
       "      <td>-2.530187</td>\n",
       "      <td>56.069697</td>\n",
       "    </tr>\n",
       "    <tr>\n",
       "      <th>2</th>\n",
       "      <td>ovLUW</td>\n",
       "      <td>0.194587</td>\n",
       "      <td>0.289035</td>\n",
       "      <td>-5.586433</td>\n",
       "      <td>62.871910</td>\n",
       "    </tr>\n",
       "    <tr>\n",
       "      <th>3</th>\n",
       "      <td>q6cA6</td>\n",
       "      <td>2.236060</td>\n",
       "      <td>-0.553760</td>\n",
       "      <td>0.930038</td>\n",
       "      <td>114.572842</td>\n",
       "    </tr>\n",
       "    <tr>\n",
       "      <th>4</th>\n",
       "      <td>WPMUX</td>\n",
       "      <td>-0.515993</td>\n",
       "      <td>1.716266</td>\n",
       "      <td>5.899011</td>\n",
       "      <td>149.600746</td>\n",
       "    </tr>\n",
       "  </tbody>\n",
       "</table>\n",
       "</div>"
      ],
      "text/plain": [
       "      id        f0        f1        f2     product\n",
       "0  fwXo0 -1.146987  0.963328 -0.828965   27.758673\n",
       "1  WJtFt  0.262778  0.269839 -2.530187   56.069697\n",
       "2  ovLUW  0.194587  0.289035 -5.586433   62.871910\n",
       "3  q6cA6  2.236060 -0.553760  0.930038  114.572842\n",
       "4  WPMUX -0.515993  1.716266  5.899011  149.600746"
      ]
     },
     "metadata": {},
     "output_type": "display_data"
    },
    {
     "name": "stdout",
     "output_type": "stream",
     "text": [
      "----------------------------\n",
      "Размер:\n",
      "(100000, 5)\n",
      "(100000, 5)\n",
      "(100000, 5)\n",
      "----------------------------\n",
      "Информация:\n",
      "<class 'pandas.core.frame.DataFrame'>\n",
      "RangeIndex: 100000 entries, 0 to 99999\n",
      "Data columns (total 5 columns):\n",
      " #   Column   Non-Null Count   Dtype  \n",
      "---  ------   --------------   -----  \n",
      " 0   id       100000 non-null  object \n",
      " 1   f0       100000 non-null  float64\n",
      " 2   f1       100000 non-null  float64\n",
      " 3   f2       100000 non-null  float64\n",
      " 4   product  100000 non-null  float64\n",
      "dtypes: float64(4), object(1)\n",
      "memory usage: 3.8+ MB\n",
      "None\n",
      "<class 'pandas.core.frame.DataFrame'>\n",
      "RangeIndex: 100000 entries, 0 to 99999\n",
      "Data columns (total 5 columns):\n",
      " #   Column   Non-Null Count   Dtype  \n",
      "---  ------   --------------   -----  \n",
      " 0   id       100000 non-null  object \n",
      " 1   f0       100000 non-null  float64\n",
      " 2   f1       100000 non-null  float64\n",
      " 3   f2       100000 non-null  float64\n",
      " 4   product  100000 non-null  float64\n",
      "dtypes: float64(4), object(1)\n",
      "memory usage: 3.8+ MB\n",
      "None\n",
      "<class 'pandas.core.frame.DataFrame'>\n",
      "RangeIndex: 100000 entries, 0 to 99999\n",
      "Data columns (total 5 columns):\n",
      " #   Column   Non-Null Count   Dtype  \n",
      "---  ------   --------------   -----  \n",
      " 0   id       100000 non-null  object \n",
      " 1   f0       100000 non-null  float64\n",
      " 2   f1       100000 non-null  float64\n",
      " 3   f2       100000 non-null  float64\n",
      " 4   product  100000 non-null  float64\n",
      "dtypes: float64(4), object(1)\n",
      "memory usage: 3.8+ MB\n",
      "None\n",
      "----------------------------\n",
      "Дубликаты:\n",
      "0\n",
      "0\n",
      "0\n",
      "----------------------------\n",
      "Описание данных:\n"
     ]
    },
    {
     "data": {
      "text/html": [
       "<div>\n",
       "<style scoped>\n",
       "    .dataframe tbody tr th:only-of-type {\n",
       "        vertical-align: middle;\n",
       "    }\n",
       "\n",
       "    .dataframe tbody tr th {\n",
       "        vertical-align: top;\n",
       "    }\n",
       "\n",
       "    .dataframe thead th {\n",
       "        text-align: right;\n",
       "    }\n",
       "</style>\n",
       "<table border=\"1\" class=\"dataframe\">\n",
       "  <thead>\n",
       "    <tr style=\"text-align: right;\">\n",
       "      <th></th>\n",
       "      <th>f0</th>\n",
       "      <th>f1</th>\n",
       "      <th>f2</th>\n",
       "      <th>product</th>\n",
       "    </tr>\n",
       "  </thead>\n",
       "  <tbody>\n",
       "    <tr>\n",
       "      <th>count</th>\n",
       "      <td>100000.000000</td>\n",
       "      <td>100000.000000</td>\n",
       "      <td>100000.000000</td>\n",
       "      <td>100000.000000</td>\n",
       "    </tr>\n",
       "    <tr>\n",
       "      <th>mean</th>\n",
       "      <td>0.500419</td>\n",
       "      <td>0.250143</td>\n",
       "      <td>2.502647</td>\n",
       "      <td>92.500000</td>\n",
       "    </tr>\n",
       "    <tr>\n",
       "      <th>std</th>\n",
       "      <td>0.871832</td>\n",
       "      <td>0.504433</td>\n",
       "      <td>3.248248</td>\n",
       "      <td>44.288691</td>\n",
       "    </tr>\n",
       "    <tr>\n",
       "      <th>min</th>\n",
       "      <td>-1.408605</td>\n",
       "      <td>-0.848218</td>\n",
       "      <td>-12.088328</td>\n",
       "      <td>0.000000</td>\n",
       "    </tr>\n",
       "    <tr>\n",
       "      <th>25%</th>\n",
       "      <td>-0.072580</td>\n",
       "      <td>-0.200881</td>\n",
       "      <td>0.287748</td>\n",
       "      <td>56.497507</td>\n",
       "    </tr>\n",
       "    <tr>\n",
       "      <th>50%</th>\n",
       "      <td>0.502360</td>\n",
       "      <td>0.250252</td>\n",
       "      <td>2.515969</td>\n",
       "      <td>91.849972</td>\n",
       "    </tr>\n",
       "    <tr>\n",
       "      <th>75%</th>\n",
       "      <td>1.073581</td>\n",
       "      <td>0.700646</td>\n",
       "      <td>4.715088</td>\n",
       "      <td>128.564089</td>\n",
       "    </tr>\n",
       "    <tr>\n",
       "      <th>max</th>\n",
       "      <td>2.362331</td>\n",
       "      <td>1.343769</td>\n",
       "      <td>16.003790</td>\n",
       "      <td>185.364347</td>\n",
       "    </tr>\n",
       "  </tbody>\n",
       "</table>\n",
       "</div>"
      ],
      "text/plain": [
       "                  f0             f1             f2        product\n",
       "count  100000.000000  100000.000000  100000.000000  100000.000000\n",
       "mean        0.500419       0.250143       2.502647      92.500000\n",
       "std         0.871832       0.504433       3.248248      44.288691\n",
       "min        -1.408605      -0.848218     -12.088328       0.000000\n",
       "25%        -0.072580      -0.200881       0.287748      56.497507\n",
       "50%         0.502360       0.250252       2.515969      91.849972\n",
       "75%         1.073581       0.700646       4.715088     128.564089\n",
       "max         2.362331       1.343769      16.003790     185.364347"
      ]
     },
     "metadata": {},
     "output_type": "display_data"
    },
    {
     "data": {
      "text/html": [
       "<div>\n",
       "<style scoped>\n",
       "    .dataframe tbody tr th:only-of-type {\n",
       "        vertical-align: middle;\n",
       "    }\n",
       "\n",
       "    .dataframe tbody tr th {\n",
       "        vertical-align: top;\n",
       "    }\n",
       "\n",
       "    .dataframe thead th {\n",
       "        text-align: right;\n",
       "    }\n",
       "</style>\n",
       "<table border=\"1\" class=\"dataframe\">\n",
       "  <thead>\n",
       "    <tr style=\"text-align: right;\">\n",
       "      <th></th>\n",
       "      <th>f0</th>\n",
       "      <th>f1</th>\n",
       "      <th>f2</th>\n",
       "      <th>product</th>\n",
       "    </tr>\n",
       "  </thead>\n",
       "  <tbody>\n",
       "    <tr>\n",
       "      <th>count</th>\n",
       "      <td>100000.000000</td>\n",
       "      <td>100000.000000</td>\n",
       "      <td>100000.000000</td>\n",
       "      <td>100000.000000</td>\n",
       "    </tr>\n",
       "    <tr>\n",
       "      <th>mean</th>\n",
       "      <td>1.141296</td>\n",
       "      <td>-4.796579</td>\n",
       "      <td>2.494541</td>\n",
       "      <td>68.825000</td>\n",
       "    </tr>\n",
       "    <tr>\n",
       "      <th>std</th>\n",
       "      <td>8.965932</td>\n",
       "      <td>5.119872</td>\n",
       "      <td>1.703572</td>\n",
       "      <td>45.944423</td>\n",
       "    </tr>\n",
       "    <tr>\n",
       "      <th>min</th>\n",
       "      <td>-31.609576</td>\n",
       "      <td>-26.358598</td>\n",
       "      <td>-0.018144</td>\n",
       "      <td>0.000000</td>\n",
       "    </tr>\n",
       "    <tr>\n",
       "      <th>25%</th>\n",
       "      <td>-6.298551</td>\n",
       "      <td>-8.267985</td>\n",
       "      <td>1.000021</td>\n",
       "      <td>26.953261</td>\n",
       "    </tr>\n",
       "    <tr>\n",
       "      <th>50%</th>\n",
       "      <td>1.153055</td>\n",
       "      <td>-4.813172</td>\n",
       "      <td>2.011479</td>\n",
       "      <td>57.085625</td>\n",
       "    </tr>\n",
       "    <tr>\n",
       "      <th>75%</th>\n",
       "      <td>8.621015</td>\n",
       "      <td>-1.332816</td>\n",
       "      <td>3.999904</td>\n",
       "      <td>107.813044</td>\n",
       "    </tr>\n",
       "    <tr>\n",
       "      <th>max</th>\n",
       "      <td>29.421755</td>\n",
       "      <td>18.734063</td>\n",
       "      <td>5.019721</td>\n",
       "      <td>137.945408</td>\n",
       "    </tr>\n",
       "  </tbody>\n",
       "</table>\n",
       "</div>"
      ],
      "text/plain": [
       "                  f0             f1             f2        product\n",
       "count  100000.000000  100000.000000  100000.000000  100000.000000\n",
       "mean        1.141296      -4.796579       2.494541      68.825000\n",
       "std         8.965932       5.119872       1.703572      45.944423\n",
       "min       -31.609576     -26.358598      -0.018144       0.000000\n",
       "25%        -6.298551      -8.267985       1.000021      26.953261\n",
       "50%         1.153055      -4.813172       2.011479      57.085625\n",
       "75%         8.621015      -1.332816       3.999904     107.813044\n",
       "max        29.421755      18.734063       5.019721     137.945408"
      ]
     },
     "metadata": {},
     "output_type": "display_data"
    },
    {
     "data": {
      "text/html": [
       "<div>\n",
       "<style scoped>\n",
       "    .dataframe tbody tr th:only-of-type {\n",
       "        vertical-align: middle;\n",
       "    }\n",
       "\n",
       "    .dataframe tbody tr th {\n",
       "        vertical-align: top;\n",
       "    }\n",
       "\n",
       "    .dataframe thead th {\n",
       "        text-align: right;\n",
       "    }\n",
       "</style>\n",
       "<table border=\"1\" class=\"dataframe\">\n",
       "  <thead>\n",
       "    <tr style=\"text-align: right;\">\n",
       "      <th></th>\n",
       "      <th>f0</th>\n",
       "      <th>f1</th>\n",
       "      <th>f2</th>\n",
       "      <th>product</th>\n",
       "    </tr>\n",
       "  </thead>\n",
       "  <tbody>\n",
       "    <tr>\n",
       "      <th>count</th>\n",
       "      <td>100000.000000</td>\n",
       "      <td>100000.000000</td>\n",
       "      <td>100000.000000</td>\n",
       "      <td>100000.000000</td>\n",
       "    </tr>\n",
       "    <tr>\n",
       "      <th>mean</th>\n",
       "      <td>0.002023</td>\n",
       "      <td>-0.002081</td>\n",
       "      <td>2.495128</td>\n",
       "      <td>95.000000</td>\n",
       "    </tr>\n",
       "    <tr>\n",
       "      <th>std</th>\n",
       "      <td>1.732045</td>\n",
       "      <td>1.730417</td>\n",
       "      <td>3.473445</td>\n",
       "      <td>44.749921</td>\n",
       "    </tr>\n",
       "    <tr>\n",
       "      <th>min</th>\n",
       "      <td>-8.760004</td>\n",
       "      <td>-7.084020</td>\n",
       "      <td>-11.970335</td>\n",
       "      <td>0.000000</td>\n",
       "    </tr>\n",
       "    <tr>\n",
       "      <th>25%</th>\n",
       "      <td>-1.162288</td>\n",
       "      <td>-1.174820</td>\n",
       "      <td>0.130359</td>\n",
       "      <td>59.450441</td>\n",
       "    </tr>\n",
       "    <tr>\n",
       "      <th>50%</th>\n",
       "      <td>0.009424</td>\n",
       "      <td>-0.009482</td>\n",
       "      <td>2.484236</td>\n",
       "      <td>94.925613</td>\n",
       "    </tr>\n",
       "    <tr>\n",
       "      <th>75%</th>\n",
       "      <td>1.158535</td>\n",
       "      <td>1.163678</td>\n",
       "      <td>4.858794</td>\n",
       "      <td>130.595027</td>\n",
       "    </tr>\n",
       "    <tr>\n",
       "      <th>max</th>\n",
       "      <td>7.238262</td>\n",
       "      <td>7.844801</td>\n",
       "      <td>16.739402</td>\n",
       "      <td>190.029838</td>\n",
       "    </tr>\n",
       "  </tbody>\n",
       "</table>\n",
       "</div>"
      ],
      "text/plain": [
       "                  f0             f1             f2        product\n",
       "count  100000.000000  100000.000000  100000.000000  100000.000000\n",
       "mean        0.002023      -0.002081       2.495128      95.000000\n",
       "std         1.732045       1.730417       3.473445      44.749921\n",
       "min        -8.760004      -7.084020     -11.970335       0.000000\n",
       "25%        -1.162288      -1.174820       0.130359      59.450441\n",
       "50%         0.009424      -0.009482       2.484236      94.925613\n",
       "75%         1.158535       1.163678       4.858794     130.595027\n",
       "max         7.238262       7.844801      16.739402     190.029838"
      ]
     },
     "metadata": {},
     "output_type": "display_data"
    }
   ],
   "source": [
    "display(geo_data_0.head())\n",
    "display(geo_data_1.head())\n",
    "display(geo_data_2.head())\n",
    "print('----------------------------')\n",
    "print('Размер:')\n",
    "print(geo_data_0.shape)\n",
    "print(geo_data_1.shape)\n",
    "print(geo_data_2.shape)\n",
    "print('----------------------------')\n",
    "print('Информация:')\n",
    "print(geo_data_0.info())\n",
    "print(geo_data_1.info())\n",
    "print(geo_data_2.info())\n",
    "print('----------------------------')\n",
    "print('Дубликаты:')\n",
    "print(geo_data_0.duplicated().sum())\n",
    "print(geo_data_1.duplicated().sum())\n",
    "print(geo_data_2.duplicated().sum())\n",
    "print('----------------------------')\n",
    "print('Описание данных:')\n",
    "display(geo_data_0.describe())\n",
    "display(geo_data_1.describe())\n",
    "display(geo_data_2.describe())"
   ]
  },
  {
   "cell_type": "markdown",
   "metadata": {},
   "source": [
    "Размеры датасетов одинаковые.\n",
    "\n",
    "Дубликатов нет.\n",
    "\n",
    "Пропусков нет.\n",
    "\n",
    "Параметры f0, f1, f2 имеют разные минимумы, максимумы, средние. Необходимо будет привести к единому масштабу.\n",
    "\n",
    "Названия столбцов соответствуют описанию."
   ]
  },
  {
   "cell_type": "markdown",
   "metadata": {},
   "source": [
    "Название скважины не помогает обучению модели. Уберём этот столбец.\n",
    "\n"
   ]
  },
  {
   "cell_type": "code",
   "execution_count": 4,
   "metadata": {
    "scrolled": false
   },
   "outputs": [
    {
     "data": {
      "text/html": [
       "<div>\n",
       "<style scoped>\n",
       "    .dataframe tbody tr th:only-of-type {\n",
       "        vertical-align: middle;\n",
       "    }\n",
       "\n",
       "    .dataframe tbody tr th {\n",
       "        vertical-align: top;\n",
       "    }\n",
       "\n",
       "    .dataframe thead th {\n",
       "        text-align: right;\n",
       "    }\n",
       "</style>\n",
       "<table border=\"1\" class=\"dataframe\">\n",
       "  <thead>\n",
       "    <tr style=\"text-align: right;\">\n",
       "      <th></th>\n",
       "      <th>f0</th>\n",
       "      <th>f1</th>\n",
       "      <th>f2</th>\n",
       "      <th>product</th>\n",
       "    </tr>\n",
       "  </thead>\n",
       "  <tbody>\n",
       "    <tr>\n",
       "      <th>0</th>\n",
       "      <td>0.705745</td>\n",
       "      <td>-0.497823</td>\n",
       "      <td>1.221170</td>\n",
       "      <td>105.280062</td>\n",
       "    </tr>\n",
       "    <tr>\n",
       "      <th>1</th>\n",
       "      <td>1.334711</td>\n",
       "      <td>-0.340164</td>\n",
       "      <td>4.365080</td>\n",
       "      <td>73.037750</td>\n",
       "    </tr>\n",
       "    <tr>\n",
       "      <th>2</th>\n",
       "      <td>1.022732</td>\n",
       "      <td>0.151990</td>\n",
       "      <td>1.419926</td>\n",
       "      <td>85.265647</td>\n",
       "    </tr>\n",
       "  </tbody>\n",
       "</table>\n",
       "</div>"
      ],
      "text/plain": [
       "         f0        f1        f2     product\n",
       "0  0.705745 -0.497823  1.221170  105.280062\n",
       "1  1.334711 -0.340164  4.365080   73.037750\n",
       "2  1.022732  0.151990  1.419926   85.265647"
      ]
     },
     "metadata": {},
     "output_type": "display_data"
    },
    {
     "data": {
      "text/html": [
       "<div>\n",
       "<style scoped>\n",
       "    .dataframe tbody tr th:only-of-type {\n",
       "        vertical-align: middle;\n",
       "    }\n",
       "\n",
       "    .dataframe tbody tr th {\n",
       "        vertical-align: top;\n",
       "    }\n",
       "\n",
       "    .dataframe thead th {\n",
       "        text-align: right;\n",
       "    }\n",
       "</style>\n",
       "<table border=\"1\" class=\"dataframe\">\n",
       "  <thead>\n",
       "    <tr style=\"text-align: right;\">\n",
       "      <th></th>\n",
       "      <th>f0</th>\n",
       "      <th>f1</th>\n",
       "      <th>f2</th>\n",
       "      <th>product</th>\n",
       "    </tr>\n",
       "  </thead>\n",
       "  <tbody>\n",
       "    <tr>\n",
       "      <th>0</th>\n",
       "      <td>-15.001348</td>\n",
       "      <td>-8.276000</td>\n",
       "      <td>-0.005876</td>\n",
       "      <td>3.179103</td>\n",
       "    </tr>\n",
       "    <tr>\n",
       "      <th>1</th>\n",
       "      <td>14.272088</td>\n",
       "      <td>-3.475083</td>\n",
       "      <td>0.999183</td>\n",
       "      <td>26.953261</td>\n",
       "    </tr>\n",
       "    <tr>\n",
       "      <th>2</th>\n",
       "      <td>6.263187</td>\n",
       "      <td>-5.948386</td>\n",
       "      <td>5.001160</td>\n",
       "      <td>134.766305</td>\n",
       "    </tr>\n",
       "  </tbody>\n",
       "</table>\n",
       "</div>"
      ],
      "text/plain": [
       "          f0        f1        f2     product\n",
       "0 -15.001348 -8.276000 -0.005876    3.179103\n",
       "1  14.272088 -3.475083  0.999183   26.953261\n",
       "2   6.263187 -5.948386  5.001160  134.766305"
      ]
     },
     "metadata": {},
     "output_type": "display_data"
    },
    {
     "data": {
      "text/html": [
       "<div>\n",
       "<style scoped>\n",
       "    .dataframe tbody tr th:only-of-type {\n",
       "        vertical-align: middle;\n",
       "    }\n",
       "\n",
       "    .dataframe tbody tr th {\n",
       "        vertical-align: top;\n",
       "    }\n",
       "\n",
       "    .dataframe thead th {\n",
       "        text-align: right;\n",
       "    }\n",
       "</style>\n",
       "<table border=\"1\" class=\"dataframe\">\n",
       "  <thead>\n",
       "    <tr style=\"text-align: right;\">\n",
       "      <th></th>\n",
       "      <th>f0</th>\n",
       "      <th>f1</th>\n",
       "      <th>f2</th>\n",
       "      <th>product</th>\n",
       "    </tr>\n",
       "  </thead>\n",
       "  <tbody>\n",
       "    <tr>\n",
       "      <th>0</th>\n",
       "      <td>-1.146987</td>\n",
       "      <td>0.963328</td>\n",
       "      <td>-0.828965</td>\n",
       "      <td>27.758673</td>\n",
       "    </tr>\n",
       "    <tr>\n",
       "      <th>1</th>\n",
       "      <td>0.262778</td>\n",
       "      <td>0.269839</td>\n",
       "      <td>-2.530187</td>\n",
       "      <td>56.069697</td>\n",
       "    </tr>\n",
       "    <tr>\n",
       "      <th>2</th>\n",
       "      <td>0.194587</td>\n",
       "      <td>0.289035</td>\n",
       "      <td>-5.586433</td>\n",
       "      <td>62.871910</td>\n",
       "    </tr>\n",
       "  </tbody>\n",
       "</table>\n",
       "</div>"
      ],
      "text/plain": [
       "         f0        f1        f2    product\n",
       "0 -1.146987  0.963328 -0.828965  27.758673\n",
       "1  0.262778  0.269839 -2.530187  56.069697\n",
       "2  0.194587  0.289035 -5.586433  62.871910"
      ]
     },
     "metadata": {},
     "output_type": "display_data"
    }
   ],
   "source": [
    "geo_data_0 = geo_data_0.drop('id', axis=1) \n",
    "geo_data_1 = geo_data_1.drop('id', axis=1) \n",
    "geo_data_2 = geo_data_2.drop('id', axis=1) \n",
    "\n",
    "display(geo_data_0.head(3)) # проверка\n",
    "display(geo_data_1.head(3))\n",
    "display(geo_data_2.head(3))"
   ]
  },
  {
   "cell_type": "markdown",
   "metadata": {},
   "source": [
    "### Разделение данных на выборки, извлечение признаков."
   ]
  },
  {
   "cell_type": "markdown",
   "metadata": {},
   "source": [
    "Функция для разделения выборок и извлечения признаков:"
   ]
  },
  {
   "cell_type": "code",
   "execution_count": 5,
   "metadata": {},
   "outputs": [],
   "source": [
    "def target_n_features (geo_data):\n",
    "    target = geo_data['product']                                     # целевой признак\n",
    "    features = geo_data.drop(['product'] , axis=1)                   # признаки\n",
    "    features_train, features_valid, target_train, target_valid = train_test_split(\n",
    "    features, target, test_size=0.25, random_state=12345)            # валидационная выборка - 25%\n",
    "    return(features_train, features_valid, target_train, target_valid)"
   ]
  },
  {
   "cell_type": "markdown",
   "metadata": {},
   "source": [
    "Данные первого региона:"
   ]
  },
  {
   "cell_type": "code",
   "execution_count": 6,
   "metadata": {},
   "outputs": [
    {
     "name": "stdout",
     "output_type": "stream",
     "text": [
      "(75000, 3) (75000,)\n",
      "(25000, 3) (25000,)\n"
     ]
    }
   ],
   "source": [
    "features_train_0, features_valid_0, target_train_0, target_valid_0 = target_n_features(geo_data_0)\n",
    "print(features_train_0.shape, target_train_0.shape)                  # контроль размера выборок\n",
    "print(features_valid_0.shape, target_valid_0.shape)"
   ]
  },
  {
   "cell_type": "markdown",
   "metadata": {},
   "source": [
    "Данные второго региона:"
   ]
  },
  {
   "cell_type": "code",
   "execution_count": 7,
   "metadata": {},
   "outputs": [
    {
     "name": "stdout",
     "output_type": "stream",
     "text": [
      "(75000, 3) (75000,)\n",
      "(25000, 3) (25000,)\n"
     ]
    }
   ],
   "source": [
    "features_train_1, features_valid_1, target_train_1, target_valid_1 = target_n_features(geo_data_1)\n",
    "print(features_train_1.shape, target_train_1.shape)                   # контроль размера выборок\n",
    "print(features_valid_1.shape, target_valid_1.shape)"
   ]
  },
  {
   "cell_type": "markdown",
   "metadata": {},
   "source": [
    "Данные третьего региона:"
   ]
  },
  {
   "cell_type": "code",
   "execution_count": 8,
   "metadata": {
    "scrolled": true
   },
   "outputs": [
    {
     "name": "stdout",
     "output_type": "stream",
     "text": [
      "(75000, 3) (75000,)\n",
      "(25000, 3) (25000,)\n"
     ]
    }
   ],
   "source": [
    "features_train_2, features_valid_2, target_train_2, target_valid_2 = target_n_features(geo_data_2)\n",
    "print(features_train_2.shape, target_train_2.shape)                  # контроль размера выборок\n",
    "print(features_valid_2.shape, target_valid_2.shape)"
   ]
  },
  {
   "cell_type": "markdown",
   "metadata": {},
   "source": [
    "### Подготовка данных.\n"
   ]
  },
  {
   "cell_type": "markdown",
   "metadata": {},
   "source": [
    "Приведём признаки к единому масштабу.\n",
    "Используем метод стандартизации данных. "
   ]
  },
  {
   "cell_type": "code",
   "execution_count": 9,
   "metadata": {},
   "outputs": [],
   "source": [
    "scaler = StandardScaler()\n",
    "# первый регион\n",
    "scaler.fit(features_train_0)\n",
    "features_train_0 = scaler.transform(features_train_0)\n",
    "features_valid_0 = scaler.transform(features_valid_0)\n",
    "# второй регион\n",
    "scaler.fit(features_train_1) \n",
    "features_train_1 = scaler.transform(features_train_1)\n",
    "features_valid_1 = scaler.transform(features_valid_1)\n",
    "# третий регион\n",
    "scaler.fit(features_train_2) \n",
    "features_train_2 = scaler.transform(features_train_2)\n",
    "features_valid_2 = scaler.transform(features_valid_2)"
   ]
  },
  {
   "cell_type": "markdown",
   "metadata": {},
   "source": [
    "## Обучение и проверка модели"
   ]
  },
  {
   "cell_type": "markdown",
   "metadata": {},
   "source": [
    "Напишем функцию, в которой применяется модель линейной регрессии для предсказания запасов в регионе."
   ]
  },
  {
   "cell_type": "code",
   "execution_count": 10,
   "metadata": {},
   "outputs": [],
   "source": [
    "def model_ (features_train, target_train, features_valid, target_valid):\n",
    "    model = LinearRegression()\n",
    "    model.fit(features_train, target_train)\n",
    "    predicted_valid = pd.Series(model.predict(features_valid), index = target_valid.index)\n",
    "    mse = mean_squared_error(target_valid, predicted_valid)\n",
    "    print(\"Средний запас предсказанного сырья =\", '%.2f' % predicted_valid.mean(), 'тыс. баррелей')\n",
    "    print(\"RMSE модели линейной регрессии =\", '%.2f' % mse ** 0.5)\n",
    "    return predicted_valid"
   ]
  },
  {
   "cell_type": "markdown",
   "metadata": {},
   "source": [
    "### Регион 1"
   ]
  },
  {
   "cell_type": "markdown",
   "metadata": {},
   "source": [
    "Работа модели:"
   ]
  },
  {
   "cell_type": "code",
   "execution_count": 11,
   "metadata": {},
   "outputs": [
    {
     "name": "stdout",
     "output_type": "stream",
     "text": [
      "Средний запас предсказанного сырья = 92.59 тыс. баррелей\n",
      "RMSE модели линейной регрессии = 37.58\n"
     ]
    }
   ],
   "source": [
    "predicted_valid_0 = model_(features_train_0, target_train_0, features_valid_0, target_valid_0)"
   ]
  },
  {
   "cell_type": "markdown",
   "metadata": {},
   "source": [
    "Качество предсказания низкое, среднеквадратическая почти 50% от среднего. "
   ]
  },
  {
   "cell_type": "markdown",
   "metadata": {},
   "source": [
    "Сравним с работой константной модели:"
   ]
  },
  {
   "cell_type": "code",
   "execution_count": 12,
   "metadata": {},
   "outputs": [
    {
     "name": "stdout",
     "output_type": "stream",
     "text": [
      "RMSE константной модели = 44.29\n"
     ]
    }
   ],
   "source": [
    "mean_valid_0 = pd.Series(target_train_0.mean(), index=target_valid_0.index) \n",
    "mse = mean_squared_error(target_valid_0, mean_valid_0)\n",
    "print(\"RMSE константной модели =\", '%.2f' % mse ** 0.5)"
   ]
  },
  {
   "cell_type": "markdown",
   "metadata": {},
   "source": [
    "Качество работы модели линейной регрессии выше, модель проходит проверку на адекватность."
   ]
  },
  {
   "cell_type": "markdown",
   "metadata": {},
   "source": [
    "### Регион 2"
   ]
  },
  {
   "cell_type": "markdown",
   "metadata": {},
   "source": [
    "Работа модели:"
   ]
  },
  {
   "cell_type": "code",
   "execution_count": 13,
   "metadata": {},
   "outputs": [
    {
     "name": "stdout",
     "output_type": "stream",
     "text": [
      "Средний запас предсказанного сырья = 68.73 тыс. баррелей\n",
      "RMSE модели линейной регрессии = 0.89\n"
     ]
    }
   ],
   "source": [
    "predicted_valid_1 = model_(features_train_1, target_train_1, features_valid_1, target_valid_1)"
   ]
  },
  {
   "cell_type": "markdown",
   "metadata": {},
   "source": [
    "Качество предсказания высокое, среднеквадратическая ошибка 1,27 % от среднего. "
   ]
  },
  {
   "cell_type": "markdown",
   "metadata": {},
   "source": [
    "Сравним с работой константной модели:"
   ]
  },
  {
   "cell_type": "code",
   "execution_count": 14,
   "metadata": {},
   "outputs": [
    {
     "name": "stdout",
     "output_type": "stream",
     "text": [
      "RMSE константной модели = 46.02\n"
     ]
    }
   ],
   "source": [
    "mean_valid_1 = pd.Series(target_train_1.mean(), index=target_valid_1.index)\n",
    "mse = mean_squared_error(target_valid_1, mean_valid_1)\n",
    "print(\"RMSE константной модели =\", '%.2f' % mse ** 0.5)"
   ]
  },
  {
   "cell_type": "markdown",
   "metadata": {},
   "source": [
    "Качество работы модели линейной регрессии выше, модель проходит проверку на адекватность."
   ]
  },
  {
   "cell_type": "markdown",
   "metadata": {},
   "source": [
    "### Регион 3"
   ]
  },
  {
   "cell_type": "markdown",
   "metadata": {},
   "source": [
    "Работа модели:"
   ]
  },
  {
   "cell_type": "code",
   "execution_count": 15,
   "metadata": {},
   "outputs": [
    {
     "name": "stdout",
     "output_type": "stream",
     "text": [
      "Средний запас предсказанного сырья = 94.97 тыс. баррелей\n",
      "RMSE модели линейной регрессии = 40.03\n"
     ]
    }
   ],
   "source": [
    "predicted_valid_2 = model_(features_train_2, target_train_2, features_valid_2, target_valid_2)"
   ]
  },
  {
   "cell_type": "markdown",
   "metadata": {},
   "source": [
    "Качество предсказания низкое, почти 50% от среднего. "
   ]
  },
  {
   "cell_type": "markdown",
   "metadata": {},
   "source": [
    "Сравним с работой константной модели:"
   ]
  },
  {
   "cell_type": "code",
   "execution_count": 16,
   "metadata": {},
   "outputs": [
    {
     "name": "stdout",
     "output_type": "stream",
     "text": [
      "RMSE константной модели = 44.90\n"
     ]
    }
   ],
   "source": [
    "mean_valid_2 = pd.Series(target_train_2.mean(), index=target_valid_2.index)\n",
    "mse = mean_squared_error(target_valid_2, mean_valid_2)\n",
    "print(\"RMSE константной модели =\", '%.2f' % mse ** 0.5)"
   ]
  },
  {
   "cell_type": "markdown",
   "metadata": {},
   "source": [
    "Качество работы модели линейной регрессии выше, модель проходит проверку на адекватность."
   ]
  },
  {
   "cell_type": "markdown",
   "metadata": {},
   "source": [
    "### Вывод: \n",
    "Самое качественное предсказание модели во втором регионе."
   ]
  },
  {
   "cell_type": "markdown",
   "metadata": {},
   "source": [
    "## Подготовка к расчёту прибыли"
   ]
  },
  {
   "cell_type": "markdown",
   "metadata": {},
   "source": [
    "При разведке региона исследуют 500 точек, из которых с помощью машинного обучения выбирают 200 лучших для разработки.\n",
    "\n",
    "Бюджет на разработку скважин в регионе — 10 млрд рублей.\n",
    "\n",
    "При нынешних ценах один баррель сырья приносит 450 рублей дохода. Доход с каждой единицы продукта составляет 450 тыс. рублей, поскольку объём указан в тысячах баррелей.\n",
    "\n",
    "После оценки рисков нужно оставить лишь те регионы, в которых вероятность убытков меньше 2.5%. \n",
    "\n",
    "Среди них выберем регион с наибольшей средней прибылью."
   ]
  },
  {
   "cell_type": "markdown",
   "metadata": {},
   "source": [
    "Рассчитаем достаточный объём сырья для безубыточной разработки новой скважины.\n",
    "\n",
    "Запишем числа в переменные-константы."
   ]
  },
  {
   "cell_type": "code",
   "execution_count": 17,
   "metadata": {},
   "outputs": [],
   "source": [
    "INVEST = 10000000000            # инвестиции в регион\n",
    "NUM_WELLS_EXPLORE = 500         # количество исследуемых точек в регионе\n",
    "NUM_WELLS_CHOSEN = 200          # количество разрабатываемых точек в регионе\n",
    "WELL_INCOME = 450000            # доход с 1 скважины"
   ]
  },
  {
   "cell_type": "markdown",
   "metadata": {},
   "source": [
    "\n",
    "На одну скважину приходится бюджет:"
   ]
  },
  {
   "cell_type": "code",
   "execution_count": 18,
   "metadata": {
    "scrolled": true
   },
   "outputs": [
    {
     "name": "stdout",
     "output_type": "stream",
     "text": [
      "50000000.0 руб\n"
     ]
    }
   ],
   "source": [
    "print(INVEST/NUM_WELLS_CHOSEN, 'руб')"
   ]
  },
  {
   "cell_type": "markdown",
   "metadata": {},
   "source": [
    "Необходимый объём сырья:"
   ]
  },
  {
   "cell_type": "code",
   "execution_count": 19,
   "metadata": {},
   "outputs": [
    {
     "name": "stdout",
     "output_type": "stream",
     "text": [
      "111.11111111111111 тыс.баррелей\n"
     ]
    }
   ],
   "source": [
    "print((INVEST/NUM_WELLS_CHOSEN)/WELL_INCOME, 'тыс.баррелей')"
   ]
  },
  {
   "cell_type": "markdown",
   "metadata": {},
   "source": [
    "Средний реальный запас в регионах:"
   ]
  },
  {
   "cell_type": "code",
   "execution_count": 20,
   "metadata": {
    "scrolled": true
   },
   "outputs": [
    {
     "name": "stdout",
     "output_type": "stream",
     "text": [
      "В первом регионе: 92.50\n",
      "Во втором регионе: 68.83\n",
      "В третьем регионе: 95.00\n"
     ]
    }
   ],
   "source": [
    "print('В первом регионе:', '%.2f' % geo_data_0['product'].mean())\n",
    "print('Во втором регионе:', '%.2f' % geo_data_1['product'].mean())\n",
    "print('В третьем регионе:', '%.2f' % geo_data_2['product'].mean())"
   ]
  },
  {
   "cell_type": "markdown",
   "metadata": {},
   "source": [
    "Средний предсказанный запас в регионах:"
   ]
  },
  {
   "cell_type": "code",
   "execution_count": 21,
   "metadata": {},
   "outputs": [
    {
     "name": "stdout",
     "output_type": "stream",
     "text": [
      "В первом регионе: 92.59\n",
      "Во втором регионе: 68.73\n",
      "В третьем регионе: 94.97\n"
     ]
    }
   ],
   "source": [
    "print('В первом регионе:', '%.2f' % predicted_valid_0.mean())\n",
    "print('Во втором регионе:', '%.2f' % predicted_valid_1.mean())\n",
    "print('В третьем регионе:', '%.2f' % predicted_valid_2.mean())"
   ]
  },
  {
   "cell_type": "markdown",
   "metadata": {},
   "source": [
    "### Вывод: \n",
    "Средний запас слишком мал для безубыточной разработки всех найденных скважин. Необходимо проводить предварительное исследование и отбор скважин, чтобы найти самые прибыльные."
   ]
  },
  {
   "cell_type": "markdown",
   "metadata": {},
   "source": [
    "## Расчёт прибыли и рисков "
   ]
  },
  {
   "cell_type": "markdown",
   "metadata": {},
   "source": [
    "### Расчёт прибыли"
   ]
  },
  {
   "cell_type": "markdown",
   "metadata": {},
   "source": [
    "Напишем функцию, вычисляющую прибыль из региона. Такая прибыль может быть достигнута, если исследовать не 500, а все 10 000 точек."
   ]
  },
  {
   "cell_type": "markdown",
   "metadata": {},
   "source": [
    "Рассчитаем достаточный объём сырья для безубыточной разработки новой скважины."
   ]
  },
  {
   "cell_type": "code",
   "execution_count": 22,
   "metadata": {},
   "outputs": [],
   "source": [
    "def revenue (predicted, target):\n",
    "    indexes = predicted.sort_values(ascending=False)[0:NUM_WELLS_CHOSEN].index  # индексы скважин с лучшими предсказаниями\n",
    "    revenue_per_one = target[indexes]*WELL_INCOME                               # подсчёт реальной прибыли с этих скважин\n",
    "    return revenue_per_one.sum()-INVEST"
   ]
  },
  {
   "cell_type": "markdown",
   "metadata": {},
   "source": [
    "Предсказанная максимальная прибыль:"
   ]
  },
  {
   "cell_type": "code",
   "execution_count": 23,
   "metadata": {
    "scrolled": true
   },
   "outputs": [
    {
     "name": "stdout",
     "output_type": "stream",
     "text": [
      "Прибыль первого региона: 3320.826 млн.руб.\n",
      "Прибыль второго региона: 2415.087 млн.руб.\n",
      "Прибыль третьего региона: 2710.35 млн.руб.\n"
     ]
    }
   ],
   "source": [
    "print('Прибыль первого региона:', round(revenue(predicted_valid_0, target_valid_0)/1000000, 3), 'млн.руб.')\n",
    "print('Прибыль второго региона:', round(revenue(predicted_valid_1, target_valid_1)/1000000, 3), 'млн.руб.')\n",
    "print('Прибыль третьего региона:', round(revenue(predicted_valid_2, target_valid_2)/1000000, 3), 'млн.руб.')"
   ]
  },
  {
   "cell_type": "markdown",
   "metadata": {},
   "source": [
    "### Расчёт рисков и прибылей \n"
   ]
  },
  {
   "cell_type": "markdown",
   "metadata": {},
   "source": [
    "Применим технику Bootstrap с 1000 выборок, чтобы найти распределение прибыли."
   ]
  },
  {
   "cell_type": "code",
   "execution_count": 24,
   "metadata": {},
   "outputs": [],
   "source": [
    "def risk(predicted, target):\n",
    "    state = np.random.RandomState(12345)\n",
    "    values = []   # массив возможных прибылей\n",
    "    for i in range(1000):\n",
    "        predicted_subsample = predicted.sample(\n",
    "            frac=NUM_WELLS_EXPLORE/len(predicted),         # в выборку попадёт количество исследуемых скважин\n",
    "            replace=True, random_state=state)\n",
    "        tagret_subsample = target[predicted_subsample.index]\n",
    "        values.append(revenue(predicted_subsample, tagret_subsample))  # добавляем вычисленную прибыль по выборке\n",
    "    values = pd.Series(values)\n",
    "    higher = values.quantile(.975)                         # с вероятностью 97,5% прибыль будет ниже этого значения\n",
    "    lower = values.quantile(.025)                          # с вероятностью 2,5% прибыль будет ниже этого значения\n",
    "    mean = values.mean()  # средняя прибыль\n",
    "    print(\"Средняя прибыль:\", round(mean/1000000, 3), 'млн.руб.')\n",
    "    print(\"97.5%-квантиль:\", round(higher/1000000, 3), 'млн.руб.')\n",
    "    print(\"2,5%-квантиль:\", round(lower/1000000, 3), 'млн.руб.')\n",
    "    print('Минимальная прибыль:', round(values.min()/1000000, 3), 'млн.руб.')\n",
    "    print('Вероятность убытков:', len(values.loc[values<0])/len(values)*100, \"%\")"
   ]
  },
  {
   "cell_type": "markdown",
   "metadata": {},
   "source": [
    "Рассчитаем среднюю прибыль, 95%-й доверительный интервал и риск убытков для первого региона:"
   ]
  },
  {
   "cell_type": "code",
   "execution_count": 25,
   "metadata": {},
   "outputs": [
    {
     "name": "stdout",
     "output_type": "stream",
     "text": [
      "Средняя прибыль: 600.735 млн.руб.\n",
      "97.5%-квантиль: 1231.164 млн.руб.\n",
      "2,5%-квантиль: 12.948 млн.руб.\n",
      "Минимальная прибыль: -264.535 млн.руб.\n",
      "Вероятность убытков: 2.0 %\n"
     ]
    }
   ],
   "source": [
    "risk(predicted_valid_0, target_valid_0)"
   ]
  },
  {
   "cell_type": "markdown",
   "metadata": {},
   "source": [
    "Рассчитаем среднюю прибыль, 95%-й доверительный интервал и риск убытков для второго региона:"
   ]
  },
  {
   "cell_type": "code",
   "execution_count": 26,
   "metadata": {
    "scrolled": true
   },
   "outputs": [
    {
     "name": "stdout",
     "output_type": "stream",
     "text": [
      "Средняя прибыль: 665.241 млн.руб.\n",
      "97.5%-квантиль: 1197.642 млн.руб.\n",
      "2,5%-квантиль: 157.988 млн.руб.\n",
      "Минимальная прибыль: -105.935 млн.руб.\n",
      "Вероятность убытков: 0.3 %\n"
     ]
    }
   ],
   "source": [
    "risk(predicted_valid_1, target_valid_1)"
   ]
  },
  {
   "cell_type": "markdown",
   "metadata": {},
   "source": [
    "Рассчитаем среднюю прибыль, 95%-й доверительный интервал и риск убытков для третьего региона:"
   ]
  },
  {
   "cell_type": "code",
   "execution_count": 27,
   "metadata": {},
   "outputs": [
    {
     "name": "stdout",
     "output_type": "stream",
     "text": [
      "Средняя прибыль: 615.56 млн.руб.\n",
      "97.5%-квантиль: 1230.644 млн.руб.\n",
      "2,5%-квантиль: -12.218 млн.руб.\n",
      "Минимальная прибыль: -397.674 млн.руб.\n",
      "Вероятность убытков: 3.0 %\n"
     ]
    }
   ],
   "source": [
    "risk(predicted_valid_2, target_valid_2)"
   ]
  },
  {
   "cell_type": "markdown",
   "metadata": {},
   "source": [
    "### Вывод:\n",
    "Регион 3 показывает убыток с вероятностью 3%, что выше порогового значения в 2,5%. Следовательно, третий регион не подходит по условию риска. \n",
    "\n",
    "Наибольшая средняя прибыль рассчитана во втором регионе и составляет 665.241 млн.руб. \n",
    "\n",
    "Другие преимущества второго региона - самая точная модель (1,27% ошибки) и самый низкий риск убытка (0,3%).\n",
    "\n",
    "По итогам исследования для разработки предлагается второй регион."
   ]
  },
  {
   "cell_type": "code",
   "execution_count": null,
   "metadata": {},
   "outputs": [],
   "source": []
  }
 ],
 "metadata": {
  "ExecuteTimeLog": [
   {
    "duration": 413,
    "start_time": "2022-06-16T11:06:20.301Z"
   },
   {
    "duration": 1758,
    "start_time": "2022-06-16T11:06:21.287Z"
   },
   {
    "duration": 20,
    "start_time": "2022-06-16T11:06:23.534Z"
   },
   {
    "duration": 10,
    "start_time": "2022-06-16T11:14:48.787Z"
   },
   {
    "duration": 13,
    "start_time": "2022-06-16T11:15:06.583Z"
   },
   {
    "duration": 24,
    "start_time": "2022-06-16T11:15:17.618Z"
   },
   {
    "duration": 338,
    "start_time": "2022-06-16T11:19:58.769Z"
   },
   {
    "duration": 350,
    "start_time": "2022-06-16T11:20:13.154Z"
   },
   {
    "duration": 310,
    "start_time": "2022-06-16T11:23:39.015Z"
   },
   {
    "duration": 648,
    "start_time": "2022-06-16T11:27:59.053Z"
   },
   {
    "duration": 96,
    "start_time": "2022-06-16T11:28:26.420Z"
   },
   {
    "duration": 13,
    "start_time": "2022-06-16T11:29:36.445Z"
   },
   {
    "duration": 20,
    "start_time": "2022-06-16T11:30:10.592Z"
   },
   {
    "duration": 186,
    "start_time": "2022-06-16T11:30:44.066Z"
   },
   {
    "duration": 304,
    "start_time": "2022-06-16T11:31:06.972Z"
   },
   {
    "duration": 334,
    "start_time": "2022-06-16T11:32:26.604Z"
   },
   {
    "duration": 197,
    "start_time": "2022-06-16T11:33:24.996Z"
   },
   {
    "duration": 19,
    "start_time": "2022-06-16T11:34:26.679Z"
   },
   {
    "duration": 14,
    "start_time": "2022-06-16T11:38:58.513Z"
   },
   {
    "duration": 27,
    "start_time": "2022-06-16T11:39:08.475Z"
   },
   {
    "duration": 20,
    "start_time": "2022-06-16T11:39:35.053Z"
   },
   {
    "duration": 34,
    "start_time": "2022-06-16T11:40:36.375Z"
   },
   {
    "duration": 20,
    "start_time": "2022-06-16T11:40:47.181Z"
   },
   {
    "duration": 32,
    "start_time": "2022-06-16T11:43:13.049Z"
   },
   {
    "duration": 34,
    "start_time": "2022-06-16T11:43:17.157Z"
   },
   {
    "duration": 27,
    "start_time": "2022-06-16T11:43:21.857Z"
   },
   {
    "duration": 21,
    "start_time": "2022-06-16T11:43:44.694Z"
   },
   {
    "duration": 20,
    "start_time": "2022-06-16T11:43:45.845Z"
   },
   {
    "duration": 19,
    "start_time": "2022-06-16T11:43:46.795Z"
   },
   {
    "duration": 4,
    "start_time": "2022-06-16T11:51:56.349Z"
   },
   {
    "duration": 413,
    "start_time": "2022-06-16T11:51:56.662Z"
   },
   {
    "duration": 291,
    "start_time": "2022-06-16T11:51:57.638Z"
   },
   {
    "duration": 298,
    "start_time": "2022-06-16T11:52:05.573Z"
   },
   {
    "duration": 15,
    "start_time": "2022-06-16T11:52:07.489Z"
   },
   {
    "duration": 20,
    "start_time": "2022-06-16T11:52:15.986Z"
   },
   {
    "duration": 4,
    "start_time": "2022-06-16T11:52:22.889Z"
   },
   {
    "duration": 438,
    "start_time": "2022-06-16T11:52:23.106Z"
   },
   {
    "duration": 350,
    "start_time": "2022-06-16T11:52:23.646Z"
   },
   {
    "duration": 216,
    "start_time": "2022-06-16T11:52:26.092Z"
   },
   {
    "duration": 19,
    "start_time": "2022-06-16T11:52:32.162Z"
   },
   {
    "duration": 3,
    "start_time": "2022-06-16T11:53:06.349Z"
   },
   {
    "duration": 409,
    "start_time": "2022-06-16T11:53:06.742Z"
   },
   {
    "duration": 296,
    "start_time": "2022-06-16T11:53:07.501Z"
   },
   {
    "duration": 208,
    "start_time": "2022-06-16T11:53:09.187Z"
   },
   {
    "duration": 34,
    "start_time": "2022-06-16T11:53:10.030Z"
   },
   {
    "duration": 16,
    "start_time": "2022-06-16T11:53:18.988Z"
   },
   {
    "duration": 17,
    "start_time": "2022-06-16T11:53:23.848Z"
   },
   {
    "duration": 23,
    "start_time": "2022-06-16T11:53:25.507Z"
   },
   {
    "duration": 8,
    "start_time": "2022-06-16T11:53:27.158Z"
   },
   {
    "duration": 8,
    "start_time": "2022-06-16T11:53:59.063Z"
   },
   {
    "duration": 8,
    "start_time": "2022-06-16T11:54:56.474Z"
   },
   {
    "duration": 8,
    "start_time": "2022-06-16T11:54:57.229Z"
   },
   {
    "duration": 6,
    "start_time": "2022-06-16T11:54:58.134Z"
   },
   {
    "duration": 20,
    "start_time": "2022-06-16T11:59:54.443Z"
   },
   {
    "duration": 16,
    "start_time": "2022-06-16T12:02:41.226Z"
   },
   {
    "duration": 16,
    "start_time": "2022-06-16T12:02:42.411Z"
   },
   {
    "duration": 17,
    "start_time": "2022-06-16T12:02:43.599Z"
   },
   {
    "duration": 103,
    "start_time": "2022-06-16T12:07:52.858Z"
   },
   {
    "duration": 88,
    "start_time": "2022-06-16T12:08:58.330Z"
   },
   {
    "duration": 19,
    "start_time": "2022-06-16T12:12:18.894Z"
   },
   {
    "duration": 2,
    "start_time": "2022-06-16T12:12:29.048Z"
   },
   {
    "duration": 1545,
    "start_time": "2022-06-16T12:12:29.433Z"
   },
   {
    "duration": 302,
    "start_time": "2022-06-16T12:12:32.004Z"
   },
   {
    "duration": 31,
    "start_time": "2022-06-16T12:12:33.696Z"
   },
   {
    "duration": 14,
    "start_time": "2022-06-16T12:12:34.885Z"
   },
   {
    "duration": 15,
    "start_time": "2022-06-16T12:12:35.608Z"
   },
   {
    "duration": 14,
    "start_time": "2022-06-16T12:12:36.359Z"
   },
   {
    "duration": 20,
    "start_time": "2022-06-16T12:12:37.580Z"
   },
   {
    "duration": 40,
    "start_time": "2022-06-16T12:13:19.201Z"
   },
   {
    "duration": 24,
    "start_time": "2022-06-16T12:13:33.138Z"
   },
   {
    "duration": 6,
    "start_time": "2022-06-16T12:14:11.145Z"
   },
   {
    "duration": 4,
    "start_time": "2022-06-16T12:14:20.438Z"
   },
   {
    "duration": 4,
    "start_time": "2022-06-16T12:14:26.332Z"
   },
   {
    "duration": 4,
    "start_time": "2022-06-16T12:16:00.856Z"
   },
   {
    "duration": 17,
    "start_time": "2022-06-16T12:18:37.117Z"
   },
   {
    "duration": 5,
    "start_time": "2022-06-16T12:18:41.054Z"
   },
   {
    "duration": 5,
    "start_time": "2022-06-16T12:19:16.458Z"
   },
   {
    "duration": 4,
    "start_time": "2022-06-16T12:19:22.671Z"
   },
   {
    "duration": 5,
    "start_time": "2022-06-16T12:19:28.624Z"
   },
   {
    "duration": 11,
    "start_time": "2022-06-16T12:20:28.391Z"
   },
   {
    "duration": 4,
    "start_time": "2022-06-16T12:20:35.776Z"
   },
   {
    "duration": 3,
    "start_time": "2022-06-16T12:24:22.995Z"
   },
   {
    "duration": 20,
    "start_time": "2022-06-16T12:24:26.972Z"
   },
   {
    "duration": 13,
    "start_time": "2022-06-16T12:24:33.986Z"
   },
   {
    "duration": 13,
    "start_time": "2022-06-16T12:25:23.679Z"
   },
   {
    "duration": 12,
    "start_time": "2022-06-16T12:26:03.994Z"
   },
   {
    "duration": 12,
    "start_time": "2022-06-16T12:26:34.465Z"
   },
   {
    "duration": 13,
    "start_time": "2022-06-16T12:26:50.854Z"
   },
   {
    "duration": 11,
    "start_time": "2022-06-16T12:27:03.130Z"
   },
   {
    "duration": 15,
    "start_time": "2022-06-16T12:27:12.976Z"
   },
   {
    "duration": 13,
    "start_time": "2022-06-16T12:27:28.295Z"
   },
   {
    "duration": 14,
    "start_time": "2022-06-16T12:27:31.545Z"
   },
   {
    "duration": 13,
    "start_time": "2022-06-16T12:27:33.441Z"
   },
   {
    "duration": 1282,
    "start_time": "2022-06-16T12:28:52.295Z"
   },
   {
    "duration": 394,
    "start_time": "2022-06-16T12:28:53.579Z"
   },
   {
    "duration": 316,
    "start_time": "2022-06-16T12:28:53.975Z"
   },
   {
    "duration": 32,
    "start_time": "2022-06-16T12:28:54.293Z"
   },
   {
    "duration": 33,
    "start_time": "2022-06-16T12:28:54.327Z"
   },
   {
    "duration": 18,
    "start_time": "2022-06-16T12:28:54.362Z"
   },
   {
    "duration": 18,
    "start_time": "2022-06-16T12:28:54.382Z"
   },
   {
    "duration": 27,
    "start_time": "2022-06-16T12:28:54.402Z"
   },
   {
    "duration": 37,
    "start_time": "2022-06-16T12:28:54.431Z"
   },
   {
    "duration": 185,
    "start_time": "2022-06-16T12:28:54.476Z"
   },
   {
    "duration": 104,
    "start_time": "2022-06-16T12:28:54.664Z"
   },
   {
    "duration": 5,
    "start_time": "2022-06-16T12:29:57.304Z"
   },
   {
    "duration": 6,
    "start_time": "2022-06-16T12:30:04.475Z"
   },
   {
    "duration": 5,
    "start_time": "2022-06-16T12:30:18.466Z"
   },
   {
    "duration": 16,
    "start_time": "2022-06-16T12:32:32.769Z"
   },
   {
    "duration": 12,
    "start_time": "2022-06-16T12:32:36.719Z"
   },
   {
    "duration": 15,
    "start_time": "2022-06-16T12:32:38.148Z"
   },
   {
    "duration": 13,
    "start_time": "2022-06-16T12:32:55.253Z"
   },
   {
    "duration": 13,
    "start_time": "2022-06-16T12:32:57.249Z"
   },
   {
    "duration": 15,
    "start_time": "2022-06-16T12:32:58.371Z"
   },
   {
    "duration": 152,
    "start_time": "2022-06-16T12:35:16.862Z"
   },
   {
    "duration": 6,
    "start_time": "2022-06-16T12:37:31.165Z"
   },
   {
    "duration": 5,
    "start_time": "2022-06-16T12:37:37.370Z"
   },
   {
    "duration": 18,
    "start_time": "2022-06-16T12:37:40.758Z"
   },
   {
    "duration": 5,
    "start_time": "2022-06-16T12:37:43.382Z"
   },
   {
    "duration": 7,
    "start_time": "2022-06-16T12:38:04.935Z"
   },
   {
    "duration": 6,
    "start_time": "2022-06-16T12:38:51.592Z"
   },
   {
    "duration": 5,
    "start_time": "2022-06-16T12:38:57.209Z"
   },
   {
    "duration": 6,
    "start_time": "2022-06-16T12:39:05.902Z"
   },
   {
    "duration": 129,
    "start_time": "2022-06-16T12:41:26.288Z"
   },
   {
    "duration": 4,
    "start_time": "2022-06-16T12:41:59.291Z"
   },
   {
    "duration": 23,
    "start_time": "2022-06-16T12:42:44.843Z"
   },
   {
    "duration": 12,
    "start_time": "2022-06-16T12:42:53.957Z"
   },
   {
    "duration": 162,
    "start_time": "2022-06-16T12:43:09.099Z"
   },
   {
    "duration": 28,
    "start_time": "2022-06-16T12:43:42.986Z"
   },
   {
    "duration": 24,
    "start_time": "2022-06-16T12:44:10.175Z"
   },
   {
    "duration": 14,
    "start_time": "2022-06-16T12:44:14.019Z"
   },
   {
    "duration": 121,
    "start_time": "2022-06-16T12:44:16.936Z"
   },
   {
    "duration": 30,
    "start_time": "2022-06-16T12:44:38.907Z"
   },
   {
    "duration": 7,
    "start_time": "2022-06-16T12:44:39.674Z"
   },
   {
    "duration": 214,
    "start_time": "2022-06-16T12:44:41.445Z"
   },
   {
    "duration": 8,
    "start_time": "2022-06-16T12:44:45.072Z"
   },
   {
    "duration": 132,
    "start_time": "2022-06-16T12:44:53.828Z"
   },
   {
    "duration": 8,
    "start_time": "2022-06-16T12:44:54.913Z"
   },
   {
    "duration": 8,
    "start_time": "2022-06-16T12:45:48.466Z"
   },
   {
    "duration": 8,
    "start_time": "2022-06-16T12:46:27.409Z"
   },
   {
    "duration": 1210,
    "start_time": "2022-06-16T12:56:52.276Z"
   },
   {
    "duration": 423,
    "start_time": "2022-06-16T12:56:53.489Z"
   },
   {
    "duration": 388,
    "start_time": "2022-06-16T12:56:53.914Z"
   },
   {
    "duration": 60,
    "start_time": "2022-06-16T12:56:54.304Z"
   },
   {
    "duration": 23,
    "start_time": "2022-06-16T12:56:54.366Z"
   },
   {
    "duration": 32,
    "start_time": "2022-06-16T12:56:54.391Z"
   },
   {
    "duration": 48,
    "start_time": "2022-06-16T12:56:54.425Z"
   },
   {
    "duration": 30,
    "start_time": "2022-06-16T12:56:54.475Z"
   },
   {
    "duration": 6,
    "start_time": "2022-06-16T12:56:54.507Z"
   },
   {
    "duration": 48,
    "start_time": "2022-06-16T12:56:54.517Z"
   },
   {
    "duration": 110,
    "start_time": "2022-06-16T12:56:54.569Z"
   },
   {
    "duration": 14,
    "start_time": "2022-06-16T12:56:54.761Z"
   },
   {
    "duration": 86,
    "start_time": "2022-06-16T12:56:54.778Z"
   },
   {
    "duration": 113,
    "start_time": "2022-06-16T12:56:54.866Z"
   },
   {
    "duration": 183,
    "start_time": "2022-06-16T12:56:54.981Z"
   },
   {
    "duration": 5,
    "start_time": "2022-06-16T13:09:58.403Z"
   },
   {
    "duration": 7,
    "start_time": "2022-06-16T13:11:02.032Z"
   },
   {
    "duration": 5,
    "start_time": "2022-06-16T13:11:46.979Z"
   },
   {
    "duration": 4,
    "start_time": "2022-06-16T13:13:21.320Z"
   },
   {
    "duration": 58,
    "start_time": "2022-06-16T13:14:39.449Z"
   },
   {
    "duration": 7,
    "start_time": "2022-06-16T13:15:07.718Z"
   },
   {
    "duration": 5,
    "start_time": "2022-06-16T13:15:12.227Z"
   },
   {
    "duration": 8,
    "start_time": "2022-06-16T13:15:53.154Z"
   },
   {
    "duration": 6,
    "start_time": "2022-06-16T13:16:21.121Z"
   },
   {
    "duration": 6,
    "start_time": "2022-06-16T13:18:57.307Z"
   },
   {
    "duration": 4,
    "start_time": "2022-06-16T13:21:59.753Z"
   },
   {
    "duration": 118,
    "start_time": "2022-06-16T13:22:12.357Z"
   },
   {
    "duration": 4,
    "start_time": "2022-06-16T13:22:45.271Z"
   },
   {
    "duration": 3,
    "start_time": "2022-06-16T13:23:08.147Z"
   },
   {
    "duration": 5,
    "start_time": "2022-06-16T13:23:13.583Z"
   },
   {
    "duration": 5,
    "start_time": "2022-06-16T13:23:25.445Z"
   },
   {
    "duration": 10,
    "start_time": "2022-06-16T13:24:01.024Z"
   },
   {
    "duration": 7,
    "start_time": "2022-06-16T13:24:43.769Z"
   },
   {
    "duration": 7,
    "start_time": "2022-06-16T13:24:51.306Z"
   },
   {
    "duration": 6,
    "start_time": "2022-06-16T13:28:33.815Z"
   },
   {
    "duration": 5,
    "start_time": "2022-06-16T13:28:40.280Z"
   },
   {
    "duration": 6,
    "start_time": "2022-06-16T13:29:57.958Z"
   },
   {
    "duration": 4,
    "start_time": "2022-06-16T13:30:09.500Z"
   },
   {
    "duration": 2,
    "start_time": "2022-06-16T13:30:21.185Z"
   },
   {
    "duration": 5,
    "start_time": "2022-06-16T13:30:22.229Z"
   },
   {
    "duration": 4,
    "start_time": "2022-06-16T13:30:30.675Z"
   },
   {
    "duration": 9,
    "start_time": "2022-06-16T13:30:32.178Z"
   },
   {
    "duration": 15,
    "start_time": "2022-06-16T13:30:56.617Z"
   },
   {
    "duration": 110,
    "start_time": "2022-06-16T13:31:08.394Z"
   },
   {
    "duration": 44,
    "start_time": "2022-06-16T13:31:27.844Z"
   },
   {
    "duration": 4,
    "start_time": "2022-06-16T13:31:39.409Z"
   },
   {
    "duration": 405,
    "start_time": "2022-06-16T13:31:39.415Z"
   },
   {
    "duration": 310,
    "start_time": "2022-06-16T13:31:39.822Z"
   },
   {
    "duration": 47,
    "start_time": "2022-06-16T13:31:40.135Z"
   },
   {
    "duration": 14,
    "start_time": "2022-06-16T13:31:40.183Z"
   },
   {
    "duration": 24,
    "start_time": "2022-06-16T13:31:40.199Z"
   },
   {
    "duration": 35,
    "start_time": "2022-06-16T13:31:40.225Z"
   },
   {
    "duration": 39,
    "start_time": "2022-06-16T13:31:40.262Z"
   },
   {
    "duration": 61,
    "start_time": "2022-06-16T13:31:40.305Z"
   },
   {
    "duration": 16,
    "start_time": "2022-06-16T13:31:40.458Z"
   },
   {
    "duration": 38,
    "start_time": "2022-06-16T13:31:40.476Z"
   },
   {
    "duration": 7,
    "start_time": "2022-06-16T13:31:40.558Z"
   },
   {
    "duration": 123,
    "start_time": "2022-06-16T13:31:40.567Z"
   },
   {
    "duration": 177,
    "start_time": "2022-06-16T13:31:40.693Z"
   },
   {
    "duration": 30,
    "start_time": "2022-06-16T13:31:40.872Z"
   },
   {
    "duration": 15,
    "start_time": "2022-06-16T13:31:40.904Z"
   },
   {
    "duration": 32,
    "start_time": "2022-06-16T13:31:40.921Z"
   },
   {
    "duration": 17,
    "start_time": "2022-06-16T13:31:40.955Z"
   },
   {
    "duration": 21,
    "start_time": "2022-06-16T13:31:40.973Z"
   },
   {
    "duration": 5,
    "start_time": "2022-06-16T13:31:44.234Z"
   },
   {
    "duration": 5,
    "start_time": "2022-06-16T13:31:45.229Z"
   },
   {
    "duration": 8,
    "start_time": "2022-06-16T13:31:47.547Z"
   },
   {
    "duration": 4,
    "start_time": "2022-06-16T13:32:00.703Z"
   },
   {
    "duration": 7,
    "start_time": "2022-06-16T13:32:04.878Z"
   },
   {
    "duration": 3,
    "start_time": "2022-06-16T13:33:30.360Z"
   },
   {
    "duration": 11,
    "start_time": "2022-06-16T13:36:01.089Z"
   },
   {
    "duration": 8,
    "start_time": "2022-06-16T13:36:05.978Z"
   },
   {
    "duration": 14,
    "start_time": "2022-06-16T13:36:19.408Z"
   },
   {
    "duration": 6,
    "start_time": "2022-06-16T13:36:23.265Z"
   },
   {
    "duration": 4,
    "start_time": "2022-06-16T13:38:00.330Z"
   },
   {
    "duration": 7,
    "start_time": "2022-06-16T13:38:04.446Z"
   },
   {
    "duration": 9,
    "start_time": "2022-06-16T13:40:26.456Z"
   },
   {
    "duration": 6,
    "start_time": "2022-06-16T13:51:13.172Z"
   },
   {
    "duration": 105,
    "start_time": "2022-06-16T13:51:33.054Z"
   },
   {
    "duration": 6,
    "start_time": "2022-06-16T13:51:35.975Z"
   },
   {
    "duration": 37,
    "start_time": "2022-06-16T13:53:11.478Z"
   },
   {
    "duration": 47,
    "start_time": "2022-06-16T13:53:20.542Z"
   },
   {
    "duration": 21,
    "start_time": "2022-06-16T13:53:50.937Z"
   },
   {
    "duration": 6,
    "start_time": "2022-06-16T13:54:02.404Z"
   },
   {
    "duration": 7,
    "start_time": "2022-06-16T13:55:35.161Z"
   },
   {
    "duration": 13,
    "start_time": "2022-06-16T13:56:05.380Z"
   },
   {
    "duration": 12,
    "start_time": "2022-06-16T13:56:15.655Z"
   },
   {
    "duration": 13,
    "start_time": "2022-06-16T13:57:33.789Z"
   },
   {
    "duration": 12,
    "start_time": "2022-06-16T13:57:46.373Z"
   },
   {
    "duration": 7,
    "start_time": "2022-06-16T13:57:54.097Z"
   },
   {
    "duration": 7,
    "start_time": "2022-06-16T13:57:57.495Z"
   },
   {
    "duration": 17,
    "start_time": "2022-06-16T13:58:02.151Z"
   },
   {
    "duration": 9,
    "start_time": "2022-06-16T13:58:36.176Z"
   },
   {
    "duration": 11,
    "start_time": "2022-06-16T13:58:42.788Z"
   },
   {
    "duration": 12,
    "start_time": "2022-06-16T13:58:50.577Z"
   },
   {
    "duration": 8,
    "start_time": "2022-06-16T13:58:59.078Z"
   },
   {
    "duration": 14,
    "start_time": "2022-06-16T13:59:01.950Z"
   },
   {
    "duration": 5,
    "start_time": "2022-06-16T13:59:26.278Z"
   },
   {
    "duration": 3,
    "start_time": "2022-06-16T14:00:04.582Z"
   },
   {
    "duration": 4,
    "start_time": "2022-06-16T14:01:18.476Z"
   },
   {
    "duration": 3,
    "start_time": "2022-06-16T14:01:48.512Z"
   },
   {
    "duration": 4,
    "start_time": "2022-06-16T14:03:20.540Z"
   },
   {
    "duration": 12,
    "start_time": "2022-06-16T14:03:57.701Z"
   },
   {
    "duration": 3,
    "start_time": "2022-06-16T14:05:25.310Z"
   },
   {
    "duration": 14,
    "start_time": "2022-06-16T14:06:43.577Z"
   },
   {
    "duration": 6,
    "start_time": "2022-06-16T14:06:52.259Z"
   },
   {
    "duration": 7,
    "start_time": "2022-06-16T14:06:53.243Z"
   },
   {
    "duration": 8,
    "start_time": "2022-06-16T14:07:15.183Z"
   },
   {
    "duration": 11,
    "start_time": "2022-06-16T14:07:27.952Z"
   },
   {
    "duration": 3,
    "start_time": "2022-06-16T14:07:41.191Z"
   },
   {
    "duration": 13,
    "start_time": "2022-06-16T14:07:45.378Z"
   },
   {
    "duration": 14,
    "start_time": "2022-06-16T14:08:46.487Z"
   },
   {
    "duration": 55,
    "start_time": "2022-06-16T14:15:58.049Z"
   },
   {
    "duration": 13,
    "start_time": "2022-06-16T14:16:04.283Z"
   },
   {
    "duration": 4,
    "start_time": "2022-06-16T14:16:44.051Z"
   },
   {
    "duration": 7,
    "start_time": "2022-06-16T14:17:41.440Z"
   },
   {
    "duration": 20,
    "start_time": "2022-06-16T14:17:56.015Z"
   },
   {
    "duration": 6,
    "start_time": "2022-06-16T14:19:07.112Z"
   },
   {
    "duration": 716,
    "start_time": "2022-06-16T14:19:13.107Z"
   },
   {
    "duration": 7,
    "start_time": "2022-06-16T14:19:36.881Z"
   },
   {
    "duration": 710,
    "start_time": "2022-06-16T14:19:38.493Z"
   },
   {
    "duration": 667,
    "start_time": "2022-06-16T14:19:47.790Z"
   },
   {
    "duration": 722,
    "start_time": "2022-06-16T14:19:56.918Z"
   },
   {
    "duration": 15,
    "start_time": "2022-06-16T14:27:25.648Z"
   },
   {
    "duration": 4,
    "start_time": "2022-06-16T14:28:07.881Z"
   },
   {
    "duration": 22,
    "start_time": "2022-06-16T14:28:08.856Z"
   },
   {
    "duration": 6,
    "start_time": "2022-06-16T14:28:10.553Z"
   },
   {
    "duration": 701,
    "start_time": "2022-06-16T14:28:11.247Z"
   },
   {
    "duration": 658,
    "start_time": "2022-06-16T14:28:17.847Z"
   },
   {
    "duration": 677,
    "start_time": "2022-06-16T14:28:18.948Z"
   },
   {
    "duration": 7,
    "start_time": "2022-06-16T14:28:38.375Z"
   },
   {
    "duration": 688,
    "start_time": "2022-06-16T14:28:57.090Z"
   },
   {
    "duration": 659,
    "start_time": "2022-06-16T14:29:27.748Z"
   },
   {
    "duration": 687,
    "start_time": "2022-06-16T14:29:28.635Z"
   },
   {
    "duration": 678,
    "start_time": "2022-06-16T14:29:55.821Z"
   },
   {
    "duration": 681,
    "start_time": "2022-06-16T14:29:57.301Z"
   },
   {
    "duration": 686,
    "start_time": "2022-06-16T14:30:01.269Z"
   },
   {
    "duration": 7,
    "start_time": "2022-06-16T14:32:12.916Z"
   },
   {
    "duration": 23,
    "start_time": "2022-06-16T14:32:14.074Z"
   },
   {
    "duration": 6,
    "start_time": "2022-06-16T14:33:24.897Z"
   },
   {
    "duration": 5,
    "start_time": "2022-06-16T14:34:01.709Z"
   },
   {
    "duration": 25,
    "start_time": "2022-06-16T14:34:03.177Z"
   },
   {
    "duration": 6,
    "start_time": "2022-06-16T14:34:12.319Z"
   },
   {
    "duration": 29,
    "start_time": "2022-06-16T14:34:14.287Z"
   },
   {
    "duration": 6,
    "start_time": "2022-06-16T14:34:42.219Z"
   },
   {
    "duration": 33,
    "start_time": "2022-06-16T14:34:43.285Z"
   },
   {
    "duration": 8,
    "start_time": "2022-06-16T14:35:06.485Z"
   },
   {
    "duration": 16,
    "start_time": "2022-06-16T14:35:07.796Z"
   },
   {
    "duration": 8,
    "start_time": "2022-06-16T14:35:14.386Z"
   },
   {
    "duration": 11,
    "start_time": "2022-06-16T14:35:15.208Z"
   },
   {
    "duration": 10,
    "start_time": "2022-06-16T14:36:10.099Z"
   },
   {
    "duration": 11,
    "start_time": "2022-06-16T14:36:11.012Z"
   },
   {
    "duration": 23,
    "start_time": "2022-06-16T14:36:21.984Z"
   },
   {
    "duration": 12,
    "start_time": "2022-06-16T14:36:23.007Z"
   },
   {
    "duration": 12,
    "start_time": "2022-06-16T14:36:28.306Z"
   },
   {
    "duration": 26,
    "start_time": "2022-06-16T14:36:29.249Z"
   },
   {
    "duration": 7,
    "start_time": "2022-06-16T14:37:12.953Z"
   },
   {
    "duration": 18,
    "start_time": "2022-06-16T14:37:13.849Z"
   },
   {
    "duration": 9,
    "start_time": "2022-06-16T14:37:32.196Z"
   },
   {
    "duration": 13,
    "start_time": "2022-06-16T14:37:33.105Z"
   },
   {
    "duration": 14,
    "start_time": "2022-06-16T14:37:34.087Z"
   },
   {
    "duration": 12,
    "start_time": "2022-06-16T14:37:34.992Z"
   },
   {
    "duration": 7,
    "start_time": "2022-06-16T14:38:32.408Z"
   },
   {
    "duration": 16,
    "start_time": "2022-06-16T14:38:33.181Z"
   },
   {
    "duration": 7,
    "start_time": "2022-06-16T14:38:40.145Z"
   },
   {
    "duration": 22,
    "start_time": "2022-06-16T14:38:40.846Z"
   },
   {
    "duration": 8,
    "start_time": "2022-06-16T14:44:41.780Z"
   },
   {
    "duration": 16,
    "start_time": "2022-06-16T14:44:43.218Z"
   },
   {
    "duration": 8,
    "start_time": "2022-06-16T14:44:44.586Z"
   },
   {
    "duration": 11,
    "start_time": "2022-06-16T14:44:46.219Z"
   },
   {
    "duration": 14,
    "start_time": "2022-06-16T14:44:47.586Z"
   },
   {
    "duration": 12,
    "start_time": "2022-06-16T14:44:48.495Z"
   },
   {
    "duration": 16,
    "start_time": "2022-06-16T14:46:08.879Z"
   },
   {
    "duration": 20,
    "start_time": "2022-06-16T14:46:09.875Z"
   },
   {
    "duration": 11,
    "start_time": "2022-06-16T14:46:11.205Z"
   },
   {
    "duration": 15,
    "start_time": "2022-06-16T14:46:12.103Z"
   },
   {
    "duration": 8,
    "start_time": "2022-06-16T14:46:17.786Z"
   },
   {
    "duration": 12,
    "start_time": "2022-06-16T14:46:18.507Z"
   },
   {
    "duration": 11,
    "start_time": "2022-06-16T14:46:19.295Z"
   },
   {
    "duration": 15,
    "start_time": "2022-06-16T14:46:20.187Z"
   },
   {
    "duration": 34,
    "start_time": "2022-06-16T14:49:11.291Z"
   },
   {
    "duration": 6,
    "start_time": "2022-06-16T14:49:38.340Z"
   },
   {
    "duration": 847,
    "start_time": "2022-06-16T14:49:39.202Z"
   },
   {
    "duration": 768,
    "start_time": "2022-06-16T14:49:41.179Z"
   },
   {
    "duration": 819,
    "start_time": "2022-06-16T14:49:43.289Z"
   },
   {
    "duration": 7,
    "start_time": "2022-06-16T14:51:55.750Z"
   },
   {
    "duration": 719,
    "start_time": "2022-06-16T14:51:56.581Z"
   },
   {
    "duration": 784,
    "start_time": "2022-06-16T14:51:58.638Z"
   },
   {
    "duration": 857,
    "start_time": "2022-06-16T14:52:00.435Z"
   },
   {
    "duration": 11,
    "start_time": "2022-06-16T14:52:13.494Z"
   },
   {
    "duration": 819,
    "start_time": "2022-06-16T14:52:15.179Z"
   },
   {
    "duration": 954,
    "start_time": "2022-06-16T14:52:16.943Z"
   },
   {
    "duration": 839,
    "start_time": "2022-06-16T14:52:18.587Z"
   },
   {
    "duration": 8,
    "start_time": "2022-06-16T14:53:02.629Z"
   },
   {
    "duration": 1220,
    "start_time": "2022-06-16T14:53:03.616Z"
   },
   {
    "duration": 801,
    "start_time": "2022-06-16T14:53:06.141Z"
   },
   {
    "duration": 915,
    "start_time": "2022-06-16T14:53:08.477Z"
   },
   {
    "duration": 9,
    "start_time": "2022-06-16T14:53:35.284Z"
   },
   {
    "duration": 812,
    "start_time": "2022-06-16T14:53:36.022Z"
   },
   {
    "duration": 900,
    "start_time": "2022-06-16T14:53:37.639Z"
   },
   {
    "duration": 956,
    "start_time": "2022-06-16T14:53:39.392Z"
   },
   {
    "duration": 1284,
    "start_time": "2022-06-16T14:55:19.045Z"
   },
   {
    "duration": 539,
    "start_time": "2022-06-16T14:55:20.331Z"
   },
   {
    "duration": 435,
    "start_time": "2022-06-16T14:55:20.874Z"
   },
   {
    "duration": 61,
    "start_time": "2022-06-16T14:55:21.311Z"
   },
   {
    "duration": 28,
    "start_time": "2022-06-16T14:55:21.375Z"
   },
   {
    "duration": 21,
    "start_time": "2022-06-16T14:55:21.406Z"
   },
   {
    "duration": 42,
    "start_time": "2022-06-16T14:55:21.430Z"
   },
   {
    "duration": 49,
    "start_time": "2022-06-16T14:55:21.475Z"
   },
   {
    "duration": 50,
    "start_time": "2022-06-16T14:55:21.526Z"
   },
   {
    "duration": 122,
    "start_time": "2022-06-16T14:55:21.582Z"
   },
   {
    "duration": 73,
    "start_time": "2022-06-16T14:55:21.706Z"
   },
   {
    "duration": 102,
    "start_time": "2022-06-16T14:55:21.791Z"
   },
   {
    "duration": 52,
    "start_time": "2022-06-16T14:55:21.898Z"
   },
   {
    "duration": 83,
    "start_time": "2022-06-16T14:55:21.982Z"
   },
   {
    "duration": 54,
    "start_time": "2022-06-16T14:55:22.074Z"
   },
   {
    "duration": 18,
    "start_time": "2022-06-16T14:55:22.131Z"
   },
   {
    "duration": 64,
    "start_time": "2022-06-16T14:55:22.151Z"
   },
   {
    "duration": 22,
    "start_time": "2022-06-16T14:55:22.217Z"
   },
   {
    "duration": 11,
    "start_time": "2022-06-16T14:55:22.241Z"
   },
   {
    "duration": 64,
    "start_time": "2022-06-16T14:55:22.254Z"
   },
   {
    "duration": 14,
    "start_time": "2022-06-16T14:55:22.320Z"
   },
   {
    "duration": 696,
    "start_time": "2022-06-16T14:55:22.337Z"
   },
   {
    "duration": 668,
    "start_time": "2022-06-16T14:55:23.035Z"
   },
   {
    "duration": 755,
    "start_time": "2022-06-16T14:55:23.705Z"
   },
   {
    "duration": 22,
    "start_time": "2022-06-16T15:02:45.707Z"
   },
   {
    "duration": 7,
    "start_time": "2022-06-16T15:02:49.999Z"
   },
   {
    "duration": 14,
    "start_time": "2022-06-16T15:02:52.383Z"
   },
   {
    "duration": 7,
    "start_time": "2022-06-16T15:02:56.021Z"
   },
   {
    "duration": 21,
    "start_time": "2022-06-16T15:02:58.005Z"
   },
   {
    "duration": 6,
    "start_time": "2022-06-16T15:03:02.414Z"
   },
   {
    "duration": 1102,
    "start_time": "2022-06-16T15:04:15.792Z"
   },
   {
    "duration": 452,
    "start_time": "2022-06-16T15:04:16.897Z"
   },
   {
    "duration": 357,
    "start_time": "2022-06-16T15:04:17.351Z"
   },
   {
    "duration": 66,
    "start_time": "2022-06-16T15:04:17.710Z"
   },
   {
    "duration": 19,
    "start_time": "2022-06-16T15:04:17.779Z"
   },
   {
    "duration": 19,
    "start_time": "2022-06-16T15:04:17.800Z"
   },
   {
    "duration": 40,
    "start_time": "2022-06-16T15:04:17.821Z"
   },
   {
    "duration": 39,
    "start_time": "2022-06-16T15:04:17.866Z"
   },
   {
    "duration": 266,
    "start_time": "2022-06-16T15:04:17.907Z"
   },
   {
    "duration": 0,
    "start_time": "2022-06-16T15:04:18.178Z"
   },
   {
    "duration": 0,
    "start_time": "2022-06-16T15:04:18.179Z"
   },
   {
    "duration": 0,
    "start_time": "2022-06-16T15:04:18.179Z"
   },
   {
    "duration": 0,
    "start_time": "2022-06-16T15:04:18.181Z"
   },
   {
    "duration": 0,
    "start_time": "2022-06-16T15:04:18.182Z"
   },
   {
    "duration": 0,
    "start_time": "2022-06-16T15:04:18.184Z"
   },
   {
    "duration": 0,
    "start_time": "2022-06-16T15:04:18.185Z"
   },
   {
    "duration": 0,
    "start_time": "2022-06-16T15:04:18.186Z"
   },
   {
    "duration": 0,
    "start_time": "2022-06-16T15:04:18.187Z"
   },
   {
    "duration": 0,
    "start_time": "2022-06-16T15:04:18.188Z"
   },
   {
    "duration": 0,
    "start_time": "2022-06-16T15:04:18.190Z"
   },
   {
    "duration": 0,
    "start_time": "2022-06-16T15:04:18.192Z"
   },
   {
    "duration": 0,
    "start_time": "2022-06-16T15:04:18.193Z"
   },
   {
    "duration": 0,
    "start_time": "2022-06-16T15:04:18.194Z"
   },
   {
    "duration": 0,
    "start_time": "2022-06-16T15:04:18.196Z"
   },
   {
    "duration": 1153,
    "start_time": "2022-06-16T15:05:09.699Z"
   },
   {
    "duration": 460,
    "start_time": "2022-06-16T15:05:10.854Z"
   },
   {
    "duration": 357,
    "start_time": "2022-06-16T15:05:11.319Z"
   },
   {
    "duration": 42,
    "start_time": "2022-06-16T15:05:11.680Z"
   },
   {
    "duration": 18,
    "start_time": "2022-06-16T15:05:11.724Z"
   },
   {
    "duration": 37,
    "start_time": "2022-06-16T15:05:11.745Z"
   },
   {
    "duration": 43,
    "start_time": "2022-06-16T15:05:11.784Z"
   },
   {
    "duration": 92,
    "start_time": "2022-06-16T15:05:11.829Z"
   },
   {
    "duration": 39,
    "start_time": "2022-06-16T15:05:11.923Z"
   },
   {
    "duration": 98,
    "start_time": "2022-06-16T15:05:11.966Z"
   },
   {
    "duration": 51,
    "start_time": "2022-06-16T15:05:12.066Z"
   },
   {
    "duration": 127,
    "start_time": "2022-06-16T15:05:12.163Z"
   },
   {
    "duration": 27,
    "start_time": "2022-06-16T15:05:12.292Z"
   },
   {
    "duration": 135,
    "start_time": "2022-06-16T15:05:12.324Z"
   },
   {
    "duration": 21,
    "start_time": "2022-06-16T15:05:12.463Z"
   },
   {
    "duration": 23,
    "start_time": "2022-06-16T15:05:12.486Z"
   },
   {
    "duration": 22,
    "start_time": "2022-06-16T15:05:12.511Z"
   },
   {
    "duration": 14,
    "start_time": "2022-06-16T15:05:12.535Z"
   },
   {
    "duration": 27,
    "start_time": "2022-06-16T15:05:12.551Z"
   },
   {
    "duration": 33,
    "start_time": "2022-06-16T15:05:12.581Z"
   },
   {
    "duration": 5,
    "start_time": "2022-06-16T15:05:12.616Z"
   },
   {
    "duration": 687,
    "start_time": "2022-06-16T15:05:12.623Z"
   },
   {
    "duration": 673,
    "start_time": "2022-06-16T15:05:13.312Z"
   },
   {
    "duration": 664,
    "start_time": "2022-06-16T15:05:13.987Z"
   }
  ],
  "kernelspec": {
   "display_name": "Python 3 (ipykernel)",
   "language": "python",
   "name": "python3"
  },
  "language_info": {
   "codemirror_mode": {
    "name": "ipython",
    "version": 3
   },
   "file_extension": ".py",
   "mimetype": "text/x-python",
   "name": "python",
   "nbconvert_exporter": "python",
   "pygments_lexer": "ipython3",
   "version": "3.9.7"
  },
  "toc": {
   "base_numbering": 1,
   "nav_menu": {},
   "number_sections": true,
   "sideBar": true,
   "skip_h1_title": true,
   "title_cell": "Table of Contents",
   "title_sidebar": "Contents",
   "toc_cell": false,
   "toc_position": {
    "height": "calc(100% - 180px)",
    "left": "10px",
    "top": "150px",
    "width": "286.237px"
   },
   "toc_section_display": true,
   "toc_window_display": true
  },
  "toc-autonumbering": true
 },
 "nbformat": 4,
 "nbformat_minor": 4
}
