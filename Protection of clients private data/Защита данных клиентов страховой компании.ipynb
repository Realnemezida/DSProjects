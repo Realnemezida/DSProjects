{
 "cells": [
  {
   "cell_type": "markdown",
   "metadata": {
    "toc": true
   },
   "source": [
    "<h1>Содержание<span class=\"tocSkip\"></span></h1>\n",
    "<div class=\"toc\"><ul class=\"toc-item\"><li><span><a href=\"#Загрузка-данных\" data-toc-modified-id=\"Загрузка-данных-1\"><span class=\"toc-item-num\">1&nbsp;&nbsp;</span>Загрузка данных</a></span></li><li><span><a href=\"#Умножение-матриц\" data-toc-modified-id=\"Умножение-матриц-2\"><span class=\"toc-item-num\">2&nbsp;&nbsp;</span>Умножение матриц</a></span></li><li><span><a href=\"#Алгоритм-преобразования\" data-toc-modified-id=\"Алгоритм-преобразования-3\"><span class=\"toc-item-num\">3&nbsp;&nbsp;</span>Алгоритм преобразования</a></span></li><li><span><a href=\"#Проверка-алгоритма\" data-toc-modified-id=\"Проверка-алгоритма-4\"><span class=\"toc-item-num\">4&nbsp;&nbsp;</span>Проверка алгоритма</a></span><ul class=\"toc-item\"><li><span><a href=\"#Подготовка-данных\" data-toc-modified-id=\"Подготовка-данных-4.1\"><span class=\"toc-item-num\">4.1&nbsp;&nbsp;</span>Подготовка данных</a></span></li><li><span><a href=\"#Алгоритм\" data-toc-modified-id=\"Алгоритм-4.2\"><span class=\"toc-item-num\">4.2&nbsp;&nbsp;</span>Алгоритм</a></span></li><li><span><a href=\"#Обучение-модели-по-исходным-признакам\" data-toc-modified-id=\"Обучение-модели-по-исходным-признакам-4.3\"><span class=\"toc-item-num\">4.3&nbsp;&nbsp;</span>Обучение модели по исходным признакам</a></span></li><li><span><a href=\"#Обучение-модели-по-закодированным-признакам\" data-toc-modified-id=\"Обучение-модели-по-закодированным-признакам-4.4\"><span class=\"toc-item-num\">4.4&nbsp;&nbsp;</span>Обучение модели по закодированным признакам</a></span></li></ul></li><li><span><a href=\"#Чек-лист-проверки\" data-toc-modified-id=\"Чек-лист-проверки-5\"><span class=\"toc-item-num\">5&nbsp;&nbsp;</span>Чек-лист проверки</a></span></li></ul></div>"
   ]
  },
  {
   "cell_type": "markdown",
   "metadata": {},
   "source": [
    "# Защита персональных данных клиентов"
   ]
  },
  {
   "cell_type": "markdown",
   "metadata": {},
   "source": [
    "Нужно защитить данные клиентов страховой компании «Хоть потоп». Разработаем такой метод преобразования данных, чтобы по ним было сложно восстановить персональную информацию. \n",
    "\n",
    "При преобразовании качество моделей машинного обучения не должно ухудшиться."
   ]
  },
  {
   "cell_type": "markdown",
   "metadata": {},
   "source": [
    "## Загрузка данных"
   ]
  },
  {
   "cell_type": "code",
   "execution_count": 1,
   "metadata": {},
   "outputs": [],
   "source": [
    "import pandas as pd #импорт библиотек\n",
    "\n",
    "import numpy as np\n",
    "\n",
    "import random\n",
    "\n",
    "import matplotlib.pyplot as plt\n",
    "\n",
    "from sklearn.linear_model import LinearRegression\n",
    "from sklearn.metrics import r2_score\n",
    "from sklearn.model_selection import train_test_split"
   ]
  },
  {
   "cell_type": "code",
   "execution_count": 2,
   "metadata": {},
   "outputs": [],
   "source": [
    "try: # чтение файла с сайта\n",
    "    df = pd.read_csv('/datasets/insurance.csv')\n",
    "except: # чтение файла локально\n",
    "    df = pd.read_csv('datasets/insurance.csv')"
   ]
  },
  {
   "cell_type": "markdown",
   "metadata": {},
   "source": [
    "Обзор данных:"
   ]
  },
  {
   "cell_type": "code",
   "execution_count": 3,
   "metadata": {},
   "outputs": [
    {
     "data": {
      "text/html": [
       "<div>\n",
       "<style scoped>\n",
       "    .dataframe tbody tr th:only-of-type {\n",
       "        vertical-align: middle;\n",
       "    }\n",
       "\n",
       "    .dataframe tbody tr th {\n",
       "        vertical-align: top;\n",
       "    }\n",
       "\n",
       "    .dataframe thead th {\n",
       "        text-align: right;\n",
       "    }\n",
       "</style>\n",
       "<table border=\"1\" class=\"dataframe\">\n",
       "  <thead>\n",
       "    <tr style=\"text-align: right;\">\n",
       "      <th></th>\n",
       "      <th>Пол</th>\n",
       "      <th>Возраст</th>\n",
       "      <th>Зарплата</th>\n",
       "      <th>Члены семьи</th>\n",
       "      <th>Страховые выплаты</th>\n",
       "    </tr>\n",
       "  </thead>\n",
       "  <tbody>\n",
       "    <tr>\n",
       "      <th>0</th>\n",
       "      <td>1</td>\n",
       "      <td>41.0</td>\n",
       "      <td>49600.0</td>\n",
       "      <td>1</td>\n",
       "      <td>0</td>\n",
       "    </tr>\n",
       "    <tr>\n",
       "      <th>1</th>\n",
       "      <td>0</td>\n",
       "      <td>46.0</td>\n",
       "      <td>38000.0</td>\n",
       "      <td>1</td>\n",
       "      <td>1</td>\n",
       "    </tr>\n",
       "    <tr>\n",
       "      <th>2</th>\n",
       "      <td>0</td>\n",
       "      <td>29.0</td>\n",
       "      <td>21000.0</td>\n",
       "      <td>0</td>\n",
       "      <td>0</td>\n",
       "    </tr>\n",
       "    <tr>\n",
       "      <th>3</th>\n",
       "      <td>0</td>\n",
       "      <td>21.0</td>\n",
       "      <td>41700.0</td>\n",
       "      <td>2</td>\n",
       "      <td>0</td>\n",
       "    </tr>\n",
       "    <tr>\n",
       "      <th>4</th>\n",
       "      <td>1</td>\n",
       "      <td>28.0</td>\n",
       "      <td>26100.0</td>\n",
       "      <td>0</td>\n",
       "      <td>0</td>\n",
       "    </tr>\n",
       "  </tbody>\n",
       "</table>\n",
       "</div>"
      ],
      "text/plain": [
       "   Пол  Возраст  Зарплата  Члены семьи  Страховые выплаты\n",
       "0    1     41.0   49600.0            1                  0\n",
       "1    0     46.0   38000.0            1                  1\n",
       "2    0     29.0   21000.0            0                  0\n",
       "3    0     21.0   41700.0            2                  0\n",
       "4    1     28.0   26100.0            0                  0"
      ]
     },
     "metadata": {},
     "output_type": "display_data"
    },
    {
     "name": "stdout",
     "output_type": "stream",
     "text": [
      "--------------------------------------\n",
      "Размер:\n",
      "(5000, 5)\n",
      "--------------------------------------\n",
      "Информация:\n",
      "<class 'pandas.core.frame.DataFrame'>\n",
      "RangeIndex: 5000 entries, 0 to 4999\n",
      "Data columns (total 5 columns):\n",
      " #   Column             Non-Null Count  Dtype  \n",
      "---  ------             --------------  -----  \n",
      " 0   Пол                5000 non-null   int64  \n",
      " 1   Возраст            5000 non-null   float64\n",
      " 2   Зарплата           5000 non-null   float64\n",
      " 3   Члены семьи        5000 non-null   int64  \n",
      " 4   Страховые выплаты  5000 non-null   int64  \n",
      "dtypes: float64(2), int64(3)\n",
      "memory usage: 195.4 KB\n",
      "None\n",
      "--------------------------------------\n",
      "Дубликаты:\n",
      "153\n",
      "--------------------------------------\n",
      "Пропуски:\n",
      "Пол                  0\n",
      "Возраст              0\n",
      "Зарплата             0\n",
      "Члены семьи          0\n",
      "Страховые выплаты    0\n",
      "dtype: int64\n",
      "--------------------------------------\n",
      "Описание данных:\n"
     ]
    },
    {
     "data": {
      "text/html": [
       "<div>\n",
       "<style scoped>\n",
       "    .dataframe tbody tr th:only-of-type {\n",
       "        vertical-align: middle;\n",
       "    }\n",
       "\n",
       "    .dataframe tbody tr th {\n",
       "        vertical-align: top;\n",
       "    }\n",
       "\n",
       "    .dataframe thead th {\n",
       "        text-align: right;\n",
       "    }\n",
       "</style>\n",
       "<table border=\"1\" class=\"dataframe\">\n",
       "  <thead>\n",
       "    <tr style=\"text-align: right;\">\n",
       "      <th></th>\n",
       "      <th>Пол</th>\n",
       "      <th>Возраст</th>\n",
       "      <th>Зарплата</th>\n",
       "      <th>Члены семьи</th>\n",
       "      <th>Страховые выплаты</th>\n",
       "    </tr>\n",
       "  </thead>\n",
       "  <tbody>\n",
       "    <tr>\n",
       "      <th>count</th>\n",
       "      <td>5000.000000</td>\n",
       "      <td>5000.000000</td>\n",
       "      <td>5000.000000</td>\n",
       "      <td>5000.000000</td>\n",
       "      <td>5000.000000</td>\n",
       "    </tr>\n",
       "    <tr>\n",
       "      <th>mean</th>\n",
       "      <td>0.499000</td>\n",
       "      <td>30.952800</td>\n",
       "      <td>39916.360000</td>\n",
       "      <td>1.194200</td>\n",
       "      <td>0.148000</td>\n",
       "    </tr>\n",
       "    <tr>\n",
       "      <th>std</th>\n",
       "      <td>0.500049</td>\n",
       "      <td>8.440807</td>\n",
       "      <td>9900.083569</td>\n",
       "      <td>1.091387</td>\n",
       "      <td>0.463183</td>\n",
       "    </tr>\n",
       "    <tr>\n",
       "      <th>min</th>\n",
       "      <td>0.000000</td>\n",
       "      <td>18.000000</td>\n",
       "      <td>5300.000000</td>\n",
       "      <td>0.000000</td>\n",
       "      <td>0.000000</td>\n",
       "    </tr>\n",
       "    <tr>\n",
       "      <th>25%</th>\n",
       "      <td>0.000000</td>\n",
       "      <td>24.000000</td>\n",
       "      <td>33300.000000</td>\n",
       "      <td>0.000000</td>\n",
       "      <td>0.000000</td>\n",
       "    </tr>\n",
       "    <tr>\n",
       "      <th>50%</th>\n",
       "      <td>0.000000</td>\n",
       "      <td>30.000000</td>\n",
       "      <td>40200.000000</td>\n",
       "      <td>1.000000</td>\n",
       "      <td>0.000000</td>\n",
       "    </tr>\n",
       "    <tr>\n",
       "      <th>75%</th>\n",
       "      <td>1.000000</td>\n",
       "      <td>37.000000</td>\n",
       "      <td>46600.000000</td>\n",
       "      <td>2.000000</td>\n",
       "      <td>0.000000</td>\n",
       "    </tr>\n",
       "    <tr>\n",
       "      <th>max</th>\n",
       "      <td>1.000000</td>\n",
       "      <td>65.000000</td>\n",
       "      <td>79000.000000</td>\n",
       "      <td>6.000000</td>\n",
       "      <td>5.000000</td>\n",
       "    </tr>\n",
       "  </tbody>\n",
       "</table>\n",
       "</div>"
      ],
      "text/plain": [
       "               Пол      Возраст      Зарплата  Члены семьи  Страховые выплаты\n",
       "count  5000.000000  5000.000000   5000.000000  5000.000000        5000.000000\n",
       "mean      0.499000    30.952800  39916.360000     1.194200           0.148000\n",
       "std       0.500049     8.440807   9900.083569     1.091387           0.463183\n",
       "min       0.000000    18.000000   5300.000000     0.000000           0.000000\n",
       "25%       0.000000    24.000000  33300.000000     0.000000           0.000000\n",
       "50%       0.000000    30.000000  40200.000000     1.000000           0.000000\n",
       "75%       1.000000    37.000000  46600.000000     2.000000           0.000000\n",
       "max       1.000000    65.000000  79000.000000     6.000000           5.000000"
      ]
     },
     "metadata": {},
     "output_type": "display_data"
    }
   ],
   "source": [
    "display(df.head())\n",
    "print('--------------------------------------')\n",
    "print('Размер:')\n",
    "print(df.shape)\n",
    "print('--------------------------------------')\n",
    "print('Информация:')\n",
    "print(df.info())\n",
    "print('--------------------------------------')\n",
    "print('Дубликаты:')\n",
    "print(df.duplicated().sum())\n",
    "print('--------------------------------------')\n",
    "print('Пропуски:')\n",
    "print(df.isna().sum())\n",
    "print('--------------------------------------')\n",
    "print('Описание данных:')\n",
    "display(df.describe())\n"
   ]
  },
  {
   "cell_type": "markdown",
   "metadata": {},
   "source": [
    "Изменим тип данных на целочисленный. Там, где возможно, уменьшим занимаемый размер в памяти."
   ]
  },
  {
   "cell_type": "code",
   "execution_count": 4,
   "metadata": {},
   "outputs": [
    {
     "data": {
      "text/html": [
       "<div>\n",
       "<style scoped>\n",
       "    .dataframe tbody tr th:only-of-type {\n",
       "        vertical-align: middle;\n",
       "    }\n",
       "\n",
       "    .dataframe tbody tr th {\n",
       "        vertical-align: top;\n",
       "    }\n",
       "\n",
       "    .dataframe thead th {\n",
       "        text-align: right;\n",
       "    }\n",
       "</style>\n",
       "<table border=\"1\" class=\"dataframe\">\n",
       "  <thead>\n",
       "    <tr style=\"text-align: right;\">\n",
       "      <th></th>\n",
       "      <th>Пол</th>\n",
       "      <th>Возраст</th>\n",
       "      <th>Зарплата</th>\n",
       "      <th>Члены семьи</th>\n",
       "      <th>Страховые выплаты</th>\n",
       "    </tr>\n",
       "  </thead>\n",
       "  <tbody>\n",
       "    <tr>\n",
       "      <th>0</th>\n",
       "      <td>1</td>\n",
       "      <td>41</td>\n",
       "      <td>49600</td>\n",
       "      <td>1</td>\n",
       "      <td>0</td>\n",
       "    </tr>\n",
       "    <tr>\n",
       "      <th>1</th>\n",
       "      <td>0</td>\n",
       "      <td>46</td>\n",
       "      <td>38000</td>\n",
       "      <td>1</td>\n",
       "      <td>1</td>\n",
       "    </tr>\n",
       "    <tr>\n",
       "      <th>2</th>\n",
       "      <td>0</td>\n",
       "      <td>29</td>\n",
       "      <td>21000</td>\n",
       "      <td>0</td>\n",
       "      <td>0</td>\n",
       "    </tr>\n",
       "    <tr>\n",
       "      <th>3</th>\n",
       "      <td>0</td>\n",
       "      <td>21</td>\n",
       "      <td>41700</td>\n",
       "      <td>2</td>\n",
       "      <td>0</td>\n",
       "    </tr>\n",
       "    <tr>\n",
       "      <th>4</th>\n",
       "      <td>1</td>\n",
       "      <td>28</td>\n",
       "      <td>26100</td>\n",
       "      <td>0</td>\n",
       "      <td>0</td>\n",
       "    </tr>\n",
       "  </tbody>\n",
       "</table>\n",
       "</div>"
      ],
      "text/plain": [
       "   Пол  Возраст  Зарплата  Члены семьи  Страховые выплаты\n",
       "0    1       41     49600            1                  0\n",
       "1    0       46     38000            1                  1\n",
       "2    0       29     21000            0                  0\n",
       "3    0       21     41700            2                  0\n",
       "4    1       28     26100            0                  0"
      ]
     },
     "metadata": {},
     "output_type": "display_data"
    },
    {
     "name": "stdout",
     "output_type": "stream",
     "text": [
      "<class 'pandas.core.frame.DataFrame'>\n",
      "RangeIndex: 5000 entries, 0 to 4999\n",
      "Data columns (total 5 columns):\n",
      " #   Column             Non-Null Count  Dtype\n",
      "---  ------             --------------  -----\n",
      " 0   Пол                5000 non-null   int16\n",
      " 1   Возраст            5000 non-null   int16\n",
      " 2   Зарплата           5000 non-null   int32\n",
      " 3   Члены семьи        5000 non-null   int16\n",
      " 4   Страховые выплаты  5000 non-null   int16\n",
      "dtypes: int16(4), int32(1)\n",
      "memory usage: 58.7 KB\n",
      "None\n"
     ]
    }
   ],
   "source": [
    "df[['Возраст', 'Пол', 'Члены семьи', 'Страховые выплаты'] # столбцы со значениями меньше 32767\n",
    "] = df[['Возраст', 'Пол', 'Члены семьи', 'Страховые выплаты']\n",
    "].astype('int16')\n",
    "df['Зарплата'] = df['Зарплата'].astype('int32')\n",
    "display(df.head())\n",
    "print(df.info())"
   ]
  },
  {
   "cell_type": "markdown",
   "metadata": {},
   "source": [
    "Установлены оптимальные типы данных."
   ]
  },
  {
   "cell_type": "markdown",
   "metadata": {},
   "source": [
    "Посмотрим, как распределены значения в столбце \"Возраст\". Минимум и максимум в нём равны 18 и 65, это правдоподобно."
   ]
  },
  {
   "cell_type": "code",
   "execution_count": 5,
   "metadata": {
    "scrolled": true,
    "tags": []
   },
   "outputs": [
    {
     "data": {
      "image/png": "[encoded data removed]",
      "text/plain": [
       "<Figure size 432x288 with 1 Axes>"
      ]
     },
     "metadata": {
      "needs_background": "light"
     },
     "output_type": "display_data"
    }
   ],
   "source": [
    "col = 'Возраст'\n",
    "plt.suptitle(\"Распределение возраста\")\n",
    "plt.xlabel('Возраст')\n",
    "plt.ylabel('Частота')\n",
    "df[col].hist(bins = df[col].max()-df[col].min());"
   ]
  },
  {
   "cell_type": "markdown",
   "metadata": {},
   "source": [
    "Распределение выглядит похожим на правду, близко к распределению Пуассона."
   ]
  },
  {
   "cell_type": "markdown",
   "metadata": {},
   "source": [
    "Посмотрим, как распределены значения в столбце \"Зарплата\". Минимум и максимум в нём равны 5300 и 79000."
   ]
  },
  {
   "cell_type": "code",
   "execution_count": 6,
   "metadata": {},
   "outputs": [
    {
     "data": {
      "image/png": "[encoded data removed]",
      "text/plain": [
       "<Figure size 432x288 with 1 Axes>"
      ]
     },
     "metadata": {
      "needs_background": "light"
     },
     "output_type": "display_data"
    }
   ],
   "source": [
    "col = 'Зарплата'\n",
    "plt.suptitle(\"Распределение зарплаты\")\n",
    "plt.xlabel('Зарплата')\n",
    "plt.ylabel('Частота')\n",
    "bins = 100\n",
    "df[col].hist(bins = bins);"
   ]
  },
  {
   "cell_type": "markdown",
   "metadata": {},
   "source": [
    "График напоминает нормальное распределение. \n",
    "\n",
    "Слишком низкие зарплаты - ниже прожиточного минимума - возможно, объясняются работой с частичной загрузкой."
   ]
  },
  {
   "cell_type": "markdown",
   "metadata": {},
   "source": [
    "Посмотрим, как распределены значения в столбце \"Члены семьи\". Минимум и максимум в нём равны 0 и 6."
   ]
  },
  {
   "cell_type": "code",
   "execution_count": 7,
   "metadata": {
    "scrolled": true
   },
   "outputs": [
    {
     "data": {
      "image/png": "[encoded data removed]",
      "text/plain": [
       "<Figure size 432x288 with 1 Axes>"
      ]
     },
     "metadata": {
      "needs_background": "light"
     },
     "output_type": "display_data"
    }
   ],
   "source": [
    "col = 'Члены семьи'\n",
    "plt.suptitle(\"Распределение количества членов семьи\")\n",
    "plt.xlabel('Количество членов семьи')\n",
    "plt.ylabel('Частота')\n",
    "df[col].hist(bins = df[col].max()-df[col].min());"
   ]
  },
  {
   "cell_type": "markdown",
   "metadata": {},
   "source": [
    "Посмотрим, как распределены значения в столбце \"Страховые выплаты\".\n",
    "\n",
    "Минимум и максимум в нём равны 0 и 5.\n",
    "\n",
    "Данный столбец содержит целевые признаки, которые наша линейная регрессия должна будет предсказать."
   ]
  },
  {
   "cell_type": "code",
   "execution_count": 8,
   "metadata": {
    "scrolled": true
   },
   "outputs": [
    {
     "data": {
      "image/png": "[encoded data removed]",
      "text/plain": [
       "<Figure size 432x288 with 1 Axes>"
      ]
     },
     "metadata": {
      "needs_background": "light"
     },
     "output_type": "display_data"
    }
   ],
   "source": [
    "col = 'Страховые выплаты'\n",
    "plt.suptitle(\"Распределение страховых выплат\")\n",
    "plt.xlabel('Страховые выплаты')\n",
    "plt.ylabel('Частота')\n",
    "df[col].hist(bins = df[col].max()-df[col].min());"
   ]
  },
  {
   "cell_type": "markdown",
   "metadata": {},
   "source": [
    "Несмотря на небольшое количество вариантов, гистограмма напоминает распределение Пуассона, что логично в данном случае.\n",
    "\n",
    "Чаще всего страховые выплаты клиентам не нужны, и большее количество выплат встречается всё реже.\n"
   ]
  },
  {
   "cell_type": "markdown",
   "metadata": {},
   "source": [
    "Посмотрим на наименее часто встречающиеся значения:"
   ]
  },
  {
   "cell_type": "code",
   "execution_count": 9,
   "metadata": {},
   "outputs": [
    {
     "data": {
      "text/html": [
       "<div>\n",
       "<style scoped>\n",
       "    .dataframe tbody tr th:only-of-type {\n",
       "        vertical-align: middle;\n",
       "    }\n",
       "\n",
       "    .dataframe tbody tr th {\n",
       "        vertical-align: top;\n",
       "    }\n",
       "\n",
       "    .dataframe thead th {\n",
       "        text-align: right;\n",
       "    }\n",
       "</style>\n",
       "<table border=\"1\" class=\"dataframe\">\n",
       "  <thead>\n",
       "    <tr style=\"text-align: right;\">\n",
       "      <th></th>\n",
       "      <th>Пол</th>\n",
       "      <th>Возраст</th>\n",
       "      <th>Зарплата</th>\n",
       "      <th>Члены семьи</th>\n",
       "      <th>Страховые выплаты</th>\n",
       "    </tr>\n",
       "  </thead>\n",
       "  <tbody>\n",
       "    <tr>\n",
       "      <th>228</th>\n",
       "      <td>1</td>\n",
       "      <td>65</td>\n",
       "      <td>39700</td>\n",
       "      <td>1</td>\n",
       "      <td>5</td>\n",
       "    </tr>\n",
       "    <tr>\n",
       "      <th>1568</th>\n",
       "      <td>1</td>\n",
       "      <td>59</td>\n",
       "      <td>32100</td>\n",
       "      <td>0</td>\n",
       "      <td>4</td>\n",
       "    </tr>\n",
       "    <tr>\n",
       "      <th>2240</th>\n",
       "      <td>0</td>\n",
       "      <td>60</td>\n",
       "      <td>27900</td>\n",
       "      <td>0</td>\n",
       "      <td>4</td>\n",
       "    </tr>\n",
       "    <tr>\n",
       "      <th>3117</th>\n",
       "      <td>0</td>\n",
       "      <td>60</td>\n",
       "      <td>43400</td>\n",
       "      <td>2</td>\n",
       "      <td>4</td>\n",
       "    </tr>\n",
       "    <tr>\n",
       "      <th>3209</th>\n",
       "      <td>1</td>\n",
       "      <td>59</td>\n",
       "      <td>51700</td>\n",
       "      <td>2</td>\n",
       "      <td>4</td>\n",
       "    </tr>\n",
       "    <tr>\n",
       "      <th>3674</th>\n",
       "      <td>1</td>\n",
       "      <td>59</td>\n",
       "      <td>29600</td>\n",
       "      <td>0</td>\n",
       "      <td>4</td>\n",
       "    </tr>\n",
       "    <tr>\n",
       "      <th>3907</th>\n",
       "      <td>1</td>\n",
       "      <td>61</td>\n",
       "      <td>39600</td>\n",
       "      <td>1</td>\n",
       "      <td>4</td>\n",
       "    </tr>\n",
       "    <tr>\n",
       "      <th>4019</th>\n",
       "      <td>0</td>\n",
       "      <td>62</td>\n",
       "      <td>14100</td>\n",
       "      <td>0</td>\n",
       "      <td>4</td>\n",
       "    </tr>\n",
       "  </tbody>\n",
       "</table>\n",
       "</div>"
      ],
      "text/plain": [
       "      Пол  Возраст  Зарплата  Члены семьи  Страховые выплаты\n",
       "228     1       65     39700            1                  5\n",
       "1568    1       59     32100            0                  4\n",
       "2240    0       60     27900            0                  4\n",
       "3117    0       60     43400            2                  4\n",
       "3209    1       59     51700            2                  4\n",
       "3674    1       59     29600            0                  4\n",
       "3907    1       61     39600            1                  4\n",
       "4019    0       62     14100            0                  4"
      ]
     },
     "execution_count": 9,
     "metadata": {},
     "output_type": "execute_result"
    }
   ],
   "source": [
    "df[df['Страховые выплаты'] >= 4]"
   ]
  },
  {
   "cell_type": "markdown",
   "metadata": {},
   "source": [
    "Значение 5 встречается только один раз. Это не позволит равномерно разделить выборки для обучения. Удалим эту строку, статистически одно значение из 5000 можно считать выбросом."
   ]
  },
  {
   "cell_type": "code",
   "execution_count": 10,
   "metadata": {},
   "outputs": [
    {
     "data": {
      "text/html": [
       "<div>\n",
       "<style scoped>\n",
       "    .dataframe tbody tr th:only-of-type {\n",
       "        vertical-align: middle;\n",
       "    }\n",
       "\n",
       "    .dataframe tbody tr th {\n",
       "        vertical-align: top;\n",
       "    }\n",
       "\n",
       "    .dataframe thead th {\n",
       "        text-align: right;\n",
       "    }\n",
       "</style>\n",
       "<table border=\"1\" class=\"dataframe\">\n",
       "  <thead>\n",
       "    <tr style=\"text-align: right;\">\n",
       "      <th></th>\n",
       "      <th>Пол</th>\n",
       "      <th>Возраст</th>\n",
       "      <th>Зарплата</th>\n",
       "      <th>Члены семьи</th>\n",
       "      <th>Страховые выплаты</th>\n",
       "    </tr>\n",
       "  </thead>\n",
       "  <tbody>\n",
       "    <tr>\n",
       "      <th>1568</th>\n",
       "      <td>1</td>\n",
       "      <td>59</td>\n",
       "      <td>32100</td>\n",
       "      <td>0</td>\n",
       "      <td>4</td>\n",
       "    </tr>\n",
       "    <tr>\n",
       "      <th>2240</th>\n",
       "      <td>0</td>\n",
       "      <td>60</td>\n",
       "      <td>27900</td>\n",
       "      <td>0</td>\n",
       "      <td>4</td>\n",
       "    </tr>\n",
       "    <tr>\n",
       "      <th>3117</th>\n",
       "      <td>0</td>\n",
       "      <td>60</td>\n",
       "      <td>43400</td>\n",
       "      <td>2</td>\n",
       "      <td>4</td>\n",
       "    </tr>\n",
       "    <tr>\n",
       "      <th>3209</th>\n",
       "      <td>1</td>\n",
       "      <td>59</td>\n",
       "      <td>51700</td>\n",
       "      <td>2</td>\n",
       "      <td>4</td>\n",
       "    </tr>\n",
       "    <tr>\n",
       "      <th>3674</th>\n",
       "      <td>1</td>\n",
       "      <td>59</td>\n",
       "      <td>29600</td>\n",
       "      <td>0</td>\n",
       "      <td>4</td>\n",
       "    </tr>\n",
       "    <tr>\n",
       "      <th>3907</th>\n",
       "      <td>1</td>\n",
       "      <td>61</td>\n",
       "      <td>39600</td>\n",
       "      <td>1</td>\n",
       "      <td>4</td>\n",
       "    </tr>\n",
       "    <tr>\n",
       "      <th>4019</th>\n",
       "      <td>0</td>\n",
       "      <td>62</td>\n",
       "      <td>14100</td>\n",
       "      <td>0</td>\n",
       "      <td>4</td>\n",
       "    </tr>\n",
       "  </tbody>\n",
       "</table>\n",
       "</div>"
      ],
      "text/plain": [
       "      Пол  Возраст  Зарплата  Члены семьи  Страховые выплаты\n",
       "1568    1       59     32100            0                  4\n",
       "2240    0       60     27900            0                  4\n",
       "3117    0       60     43400            2                  4\n",
       "3209    1       59     51700            2                  4\n",
       "3674    1       59     29600            0                  4\n",
       "3907    1       61     39600            1                  4\n",
       "4019    0       62     14100            0                  4"
      ]
     },
     "execution_count": 10,
     "metadata": {},
     "output_type": "execute_result"
    }
   ],
   "source": [
    "df = df.loc[df['Страховые выплаты'] != 5]\n",
    "df[df['Страховые выплаты'] >= 4] # проверка"
   ]
  },
  {
   "cell_type": "markdown",
   "metadata": {},
   "source": [
    "Рассмотрим дубликаты:"
   ]
  },
  {
   "cell_type": "code",
   "execution_count": 11,
   "metadata": {},
   "outputs": [
    {
     "data": {
      "text/html": [
       "<div>\n",
       "<style scoped>\n",
       "    .dataframe tbody tr th:only-of-type {\n",
       "        vertical-align: middle;\n",
       "    }\n",
       "\n",
       "    .dataframe tbody tr th {\n",
       "        vertical-align: top;\n",
       "    }\n",
       "\n",
       "    .dataframe thead th {\n",
       "        text-align: right;\n",
       "    }\n",
       "</style>\n",
       "<table border=\"1\" class=\"dataframe\">\n",
       "  <thead>\n",
       "    <tr style=\"text-align: right;\">\n",
       "      <th></th>\n",
       "      <th>Пол</th>\n",
       "      <th>Возраст</th>\n",
       "      <th>Зарплата</th>\n",
       "      <th>Члены семьи</th>\n",
       "      <th>Страховые выплаты</th>\n",
       "    </tr>\n",
       "  </thead>\n",
       "  <tbody>\n",
       "    <tr>\n",
       "      <th>281</th>\n",
       "      <td>1</td>\n",
       "      <td>39</td>\n",
       "      <td>48100</td>\n",
       "      <td>1</td>\n",
       "      <td>0</td>\n",
       "    </tr>\n",
       "    <tr>\n",
       "      <th>488</th>\n",
       "      <td>1</td>\n",
       "      <td>24</td>\n",
       "      <td>32900</td>\n",
       "      <td>1</td>\n",
       "      <td>0</td>\n",
       "    </tr>\n",
       "    <tr>\n",
       "      <th>513</th>\n",
       "      <td>0</td>\n",
       "      <td>31</td>\n",
       "      <td>37400</td>\n",
       "      <td>2</td>\n",
       "      <td>0</td>\n",
       "    </tr>\n",
       "    <tr>\n",
       "      <th>718</th>\n",
       "      <td>1</td>\n",
       "      <td>22</td>\n",
       "      <td>32600</td>\n",
       "      <td>1</td>\n",
       "      <td>0</td>\n",
       "    </tr>\n",
       "    <tr>\n",
       "      <th>785</th>\n",
       "      <td>0</td>\n",
       "      <td>20</td>\n",
       "      <td>35800</td>\n",
       "      <td>0</td>\n",
       "      <td>0</td>\n",
       "    </tr>\n",
       "    <tr>\n",
       "      <th>...</th>\n",
       "      <td>...</td>\n",
       "      <td>...</td>\n",
       "      <td>...</td>\n",
       "      <td>...</td>\n",
       "      <td>...</td>\n",
       "    </tr>\n",
       "    <tr>\n",
       "      <th>4793</th>\n",
       "      <td>1</td>\n",
       "      <td>24</td>\n",
       "      <td>37800</td>\n",
       "      <td>0</td>\n",
       "      <td>0</td>\n",
       "    </tr>\n",
       "    <tr>\n",
       "      <th>4902</th>\n",
       "      <td>1</td>\n",
       "      <td>35</td>\n",
       "      <td>38700</td>\n",
       "      <td>1</td>\n",
       "      <td>0</td>\n",
       "    </tr>\n",
       "    <tr>\n",
       "      <th>4935</th>\n",
       "      <td>1</td>\n",
       "      <td>19</td>\n",
       "      <td>32700</td>\n",
       "      <td>0</td>\n",
       "      <td>0</td>\n",
       "    </tr>\n",
       "    <tr>\n",
       "      <th>4945</th>\n",
       "      <td>1</td>\n",
       "      <td>21</td>\n",
       "      <td>45800</td>\n",
       "      <td>0</td>\n",
       "      <td>0</td>\n",
       "    </tr>\n",
       "    <tr>\n",
       "      <th>4965</th>\n",
       "      <td>0</td>\n",
       "      <td>22</td>\n",
       "      <td>40100</td>\n",
       "      <td>1</td>\n",
       "      <td>0</td>\n",
       "    </tr>\n",
       "  </tbody>\n",
       "</table>\n",
       "<p>153 rows × 5 columns</p>\n",
       "</div>"
      ],
      "text/plain": [
       "      Пол  Возраст  Зарплата  Члены семьи  Страховые выплаты\n",
       "281     1       39     48100            1                  0\n",
       "488     1       24     32900            1                  0\n",
       "513     0       31     37400            2                  0\n",
       "718     1       22     32600            1                  0\n",
       "785     0       20     35800            0                  0\n",
       "...   ...      ...       ...          ...                ...\n",
       "4793    1       24     37800            0                  0\n",
       "4902    1       35     38700            1                  0\n",
       "4935    1       19     32700            0                  0\n",
       "4945    1       21     45800            0                  0\n",
       "4965    0       22     40100            1                  0\n",
       "\n",
       "[153 rows x 5 columns]"
      ]
     },
     "execution_count": 11,
     "metadata": {},
     "output_type": "execute_result"
    }
   ],
   "source": [
    "df[df.duplicated()]"
   ]
  },
  {
   "cell_type": "markdown",
   "metadata": {},
   "source": [
    "Дубликатов в датафрейме немного (153 из 5000).\n",
    "\n",
    "Количество рассматриваемых параметров тоже небольшое, а самый вариативный из них - зарплата - округляется до 100.\n",
    "\n",
    "Учитывая это, дубликаты могут быть реальным совпадением у нескольких человек пола, возраста, зарплаты и т.д. Из датафрейма их удалять не стоит, оставляем как есть. "
   ]
  },
  {
   "cell_type": "markdown",
   "metadata": {},
   "source": [
    "## Умножение матриц"
   ]
  },
  {
   "cell_type": "markdown",
   "metadata": {},
   "source": [
    "Обозначения:\n",
    "\n",
    "- $X$ — матрица признаков (нулевой столбец состоит из единиц)\n",
    "\n",
    "- $y$ — вектор целевого признака\n",
    "\n",
    "- $P$ — матрица, на которую умножаются признаки\n",
    "\n",
    "- $w$ — вектор весов линейной регрессии (нулевой элемент равен сдвигу)"
   ]
  },
  {
   "cell_type": "markdown",
   "metadata": {},
   "source": [
    "Предсказания:\n",
    "\n",
    "$$\n",
    "a = Xw\n",
    "$$\n",
    "\n",
    "Задача обучения:\n",
    "\n",
    "$$\n",
    "w = \\arg\\min_w MSE(Xw, y)\n",
    "$$\n",
    "\n",
    "Формула обучения(вычисление весов признаков):\n",
    "\n",
    "$$\n",
    "w = (X^T X)^{-1} X^T y\n",
    "$$"
   ]
  },
  {
   "cell_type": "markdown",
   "metadata": {},
   "source": [
    "**Вопрос:**\n",
    "\n",
    "Признаки умножают на обратимую матрицу. Изменится ли качество линейной регрессии?\n"
   ]
  },
  {
   "cell_type": "markdown",
   "metadata": {},
   "source": [
    "**Ответ:** b. Не изменится. \n",
    "\n",
    "**Обоснование:** \n",
    "Возьмём формулу весов предсказания:\n",
    "\n",
    "$$\n",
    "w = (X^T X)^{-1} X^T y\n",
    "$$\n",
    "\n",
    "Заменим $X$ на $Z$, где:\n",
    "\n",
    "$Z = XR$,\n",
    "\n",
    "$R$ - некая квадратная матрица со стороной $n$, равной количеству признаков.\n",
    "\n",
    "Новая формула весов предсказания:\n",
    "\n",
    "$$w_1 = (Z^T Z)^{-1} Z^T y = ((XR)^T(XR))^{-1}(XR)^Ty$$\n",
    "\n",
    "Согласно теореме транспонирования произведения:\n",
    "\n",
    "$$(XR)^T = R^T X^T$$\n",
    "\n",
    "Подставим в формулу:\n",
    "\n",
    "$$w_1 = ((XR)^T(XR))^{-1}(XR)^Ty = (R^TX^TXR)^{-1}R^TX^Ty$$\n",
    "\n",
    "Далее согласно свойству перестановки сомножителей:\n",
    "\n",
    "$$w_1 =((R^TX^TX)R)^{-1}R^TX^Ty = R^{-1}(R^TX^TX)^{-1}R^TX^Ty = R^{-1}(X^TX)^{-1}(R^T)^{-1}R^TX^Ty$$\n",
    "\n",
    "Поскольку произведение матрицы на обратную себе даёт единичную матрицу, а её произведение на любую даёт эту любую, то $(R^T)^{-1}R^T$ можно сократить:\n",
    "\n",
    "$$w_1 = R^{-1}(X^TX)^{-1}X^Ty$$\n",
    "\n",
    "Подставим в формулу предсказания:\n",
    "\n",
    "$$\n",
    "a_1 = Zw_1 = XRR^{-1}(X^TX)^{-1}X^Ty \n",
    "$$\n",
    "\n",
    "Сократим $RR^{-1}$:\n",
    "\n",
    "$$\n",
    "a_1 = X(X^TX)^{-1}X^Ty\n",
    "$$\n",
    "\n",
    "Изначальные веса:\n",
    "\n",
    "$$\n",
    "w = (X^T X)^{-1} X^T y\n",
    "$$\n",
    "\n",
    "Следовательно:\n",
    "$$\n",
    "a_1 = Xw = a\n",
    "$$\n",
    "\n",
    "Что и требовалось доказать, предсказания равны, несмотря на умножение на случайную квадратную обратимую матрицу."
   ]
  },
  {
   "cell_type": "markdown",
   "metadata": {},
   "source": [
    "## Алгоритм преобразования"
   ]
  },
  {
   "cell_type": "markdown",
   "metadata": {},
   "source": [
    "**Алгоритм**\n",
    "\n",
    "1) Выделим из датафрейма признаки и целевой признак.\n",
    "\n",
    "2) Преобразуем датафрейм с признаками в матрицу признаков.\n",
    "\n",
    "3) Умножим матрицу признаков на случайную квадратную обратимую матрицу со стороной, равной количеству признаков. Это произведение будет новой матрицей признаков.\n",
    "\n",
    "4) Произведём обучение модели на новой матрице признаков"
   ]
  },
  {
   "cell_type": "markdown",
   "metadata": {},
   "source": [
    "**Обоснование**\n",
    "\n",
    "Поскольку вектор предсказаний не меняется от умножения на случайную матрицу, качество предсказания не изменится."
   ]
  },
  {
   "cell_type": "markdown",
   "metadata": {},
   "source": [
    "## Проверка алгоритма"
   ]
  },
  {
   "cell_type": "markdown",
   "metadata": {},
   "source": [
    "### Подготовка данных"
   ]
  },
  {
   "cell_type": "markdown",
   "metadata": {},
   "source": [
    "Выделение признаков из исходного датафрейма:"
   ]
  },
  {
   "cell_type": "code",
   "execution_count": 12,
   "metadata": {},
   "outputs": [],
   "source": [
    "features = df.drop('Страховые выплаты', axis=1).values # выделяем признаки, преобразуем в матрицу.\n",
    "target = df['Страховые выплаты'].values"
   ]
  },
  {
   "cell_type": "markdown",
   "metadata": {},
   "source": [
    "### Алгоритм"
   ]
  },
  {
   "cell_type": "markdown",
   "metadata": {},
   "source": [
    "Запрограммируем функцию кодирования:"
   ]
  },
  {
   "cell_type": "code",
   "execution_count": 13,
   "metadata": {},
   "outputs": [],
   "source": [
    "def features_coding(features):\n",
    "    global rnd_num   # фиксируем ключ шифрования\n",
    "    rnd_num = random.randrange(1000000)   # генерируем случайное число для RandomState\n",
    "    rng = np.random.RandomState(rnd_num)\n",
    "    global random_matrix   # запоминаем случайную матрицу на случай, если понадобится для расшифровки\n",
    "    random_matrix = rng.normal(size=(features.shape[1], features.shape[1])) # генерируем случайную матрицу\n",
    "    try:   # проверка обратимости сгенерированной матрицы\n",
    "        inverted_matrix = np.linalg.inv(random_matrix)\n",
    "        print(\"Признаки преобразованы. Можно идти дальше\")\n",
    "        features = features @ random_matrix\n",
    "        return features \n",
    "    except:   # если матрица не обратима, попробуем снова\n",
    "        return features_coding(features)"
   ]
  },
  {
   "cell_type": "markdown",
   "metadata": {},
   "source": [
    "### Обучение модели по исходным признакам"
   ]
  },
  {
   "cell_type": "markdown",
   "metadata": {},
   "source": [
    "Разделение данных на обучающую и валидационную выборку:"
   ]
  },
  {
   "cell_type": "code",
   "execution_count": 14,
   "metadata": {},
   "outputs": [
    {
     "name": "stdout",
     "output_type": "stream",
     "text": [
      "(3349, 4) (1650, 4)\n"
     ]
    }
   ],
   "source": [
    "features_train, features_test, target_train, target_test = train_test_split(\n",
    "features, target, test_size=0.33, random_state=123456, stratify=target)\n",
    "print(features_train.shape, features_test.shape)   #проверка размеров"
   ]
  },
  {
   "cell_type": "markdown",
   "metadata": {},
   "source": [
    "<div class=\"alert alert-success\">\n",
    "<h2> Комментарий ревьюера <a class=\"tocSkip\"> </h2>\n",
    "\n",
    "<b>Отличная работа!👍:</b> \n",
    "    \n",
    "Круто, что продолжаешь следовать всем канонам машинного обучения и делишь выборку на тестовую и тренировочную! Уважаю :)"
   ]
  },
  {
   "cell_type": "code",
   "execution_count": 15,
   "metadata": {},
   "outputs": [
    {
     "name": "stdout",
     "output_type": "stream",
     "text": [
      "Значение R2 для исходных данных: 0.4241966164210276\n"
     ]
    }
   ],
   "source": [
    "model = LinearRegression(normalize=True)\n",
    "model.fit(features_train, target_train)\n",
    "predicted = model.predict(features_test)\n",
    "r2_raw = r2_score(target_test, predicted)\n",
    "print(\"Значение R2 для исходных данных:\", r2_raw)"
   ]
  },
  {
   "cell_type": "markdown",
   "metadata": {},
   "source": [
    "### Обучение модели по закодированным признакам"
   ]
  },
  {
   "cell_type": "markdown",
   "metadata": {},
   "source": [
    "Применение алгоритма кодирования:"
   ]
  },
  {
   "cell_type": "code",
   "execution_count": 16,
   "metadata": {},
   "outputs": [
    {
     "name": "stdout",
     "output_type": "stream",
     "text": [
      "Признаки преобразованы. Можно идти дальше\n"
     ]
    }
   ],
   "source": [
    "features = features_coding(features)"
   ]
  },
  {
   "cell_type": "markdown",
   "metadata": {},
   "source": [
    "Проверка кодирования признаков и защиты персональных данных:"
   ]
  },
  {
   "cell_type": "code",
   "execution_count": 17,
   "metadata": {},
   "outputs": [
    {
     "data": {
      "text/plain": [
       "array([[ 48881.99642101, -20714.88160593,  38709.7679236 ,\n",
       "         28917.55717787],\n",
       "       [ 37454.08826884, -15868.86749428,  29656.99143393,\n",
       "         22136.40960062],\n",
       "       [ 20699.72897232,  -8770.25845476,  16390.21643179,\n",
       "         12229.30828788],\n",
       "       ...,\n",
       "       [ 33405.29465878, -14156.16767119,  26454.64835156,\n",
       "         19772.78454865],\n",
       "       [ 32224.56911374, -13653.77470401,  25517.61922603,\n",
       "         19069.2697713 ],\n",
       "       [ 40010.48391651, -16956.22879177,  31685.35428953,\n",
       "         23677.11828945]])"
      ]
     },
     "execution_count": 17,
     "metadata": {},
     "output_type": "execute_result"
    }
   ],
   "source": [
    "features"
   ]
  },
  {
   "cell_type": "markdown",
   "metadata": {},
   "source": [
    "По этим данным невозможно узнать исходные персональные данные клиентов, защита работает."
   ]
  },
  {
   "cell_type": "markdown",
   "metadata": {},
   "source": [
    "А сможем ли мы восстановить данные при необходимости? Проверим, сохранилась ли случайная матрица, на которую умножали признаки, и ключ шифрования. "
   ]
  },
  {
   "cell_type": "code",
   "execution_count": 18,
   "metadata": {
    "scrolled": true
   },
   "outputs": [
    {
     "name": "stdout",
     "output_type": "stream",
     "text": [
      "963066\n",
      "[[ 1.13204429 -0.40967244  0.4265507   0.4111259 ]\n",
      " [ 0.35015363  0.05141628  0.06153577 -1.21316117]\n",
      " [ 0.98521783 -0.41770236  0.78040152  0.58402333]\n",
      " [-0.29649563  1.45697693 -1.09692526 -0.67158311]]\n"
     ]
    }
   ],
   "source": [
    "print(rnd_num)\n",
    "print(random_matrix)"
   ]
  },
  {
   "cell_type": "markdown",
   "metadata": {},
   "source": [
    "Всё в порядке."
   ]
  },
  {
   "cell_type": "markdown",
   "metadata": {},
   "source": [
    "Разделение данных на обучающую и валидационную выборку:"
   ]
  },
  {
   "cell_type": "code",
   "execution_count": 19,
   "metadata": {},
   "outputs": [
    {
     "name": "stdout",
     "output_type": "stream",
     "text": [
      "(3349, 4) (1650, 4)\n"
     ]
    }
   ],
   "source": [
    "features_train, features_test, target_train, target_test = train_test_split(\n",
    "features, target, test_size=0.33, random_state=123456, stratify=target)\n",
    "print(features_train.shape, features_test.shape) #проверка размеров"
   ]
  },
  {
   "cell_type": "code",
   "execution_count": 20,
   "metadata": {},
   "outputs": [
    {
     "name": "stdout",
     "output_type": "stream",
     "text": [
      "Значение R2 для преобразованных данных: 0.4241966164211306\n",
      "R2 моделей равны.\n"
     ]
    }
   ],
   "source": [
    "model = LinearRegression(normalize=True)\n",
    "model.fit(features_train, target_train)\n",
    "predicted = model.predict(features_test)\n",
    "r2_coded = r2_score(target_test, predicted)\n",
    "print(\"Значение R2 для преобразованных данных:\", r2_coded)\n",
    "if np.isclose(r2_coded, r2_raw):   # проверяем равенство в приближении 1e-08\n",
    "    print('R2 моделей равны.')\n",
    "else:\n",
    "    print('R2 моделей отличаются.')"
   ]
  },
  {
   "cell_type": "markdown",
   "metadata": {},
   "source": [
    "### Вывод:\n",
    "- При кодировании данных признаки имеют вид, по которому невозможно получить доступ к персональным данным клиентов, не зная случайную матрицу, использованнную при кодировании.\n",
    "- Качество предсказания модели согласно признаку R2 истаётся неизменным.\n",
    "- Кодирование данных прошло успешно."
   ]
  },
  {
   "cell_type": "code",
   "execution_count": null,
   "metadata": {},
   "outputs": [],
   "source": []
  }
 ],
 "metadata": {
  "ExecuteTimeLog": [
   {
    "duration": 384,
    "start_time": "2022-07-18T16:57:22.575Z"
   },
   {
    "duration": 107,
    "start_time": "2022-07-18T16:57:23.483Z"
   },
   {
    "duration": 25,
    "start_time": "2022-07-18T16:57:28.469Z"
   },
   {
    "duration": 96,
    "start_time": "2022-07-18T16:58:43.949Z"
   },
   {
    "duration": 65,
    "start_time": "2022-07-18T16:58:58.927Z"
   },
   {
    "duration": 7,
    "start_time": "2022-07-18T16:59:50.043Z"
   },
   {
    "duration": 10,
    "start_time": "2022-07-18T16:59:58.598Z"
   },
   {
    "duration": 28,
    "start_time": "2022-07-18T17:01:27.204Z"
   },
   {
    "duration": 15,
    "start_time": "2022-07-18T17:01:37.242Z"
   },
   {
    "duration": 19,
    "start_time": "2022-07-18T17:01:56.531Z"
   },
   {
    "duration": 25,
    "start_time": "2022-07-18T17:02:21.522Z"
   },
   {
    "duration": 19,
    "start_time": "2022-07-18T17:03:21.871Z"
   },
   {
    "duration": 17,
    "start_time": "2022-07-18T17:04:16.641Z"
   },
   {
    "duration": 32,
    "start_time": "2022-07-18T17:06:13.803Z"
   },
   {
    "duration": 26,
    "start_time": "2022-07-18T17:06:23.303Z"
   },
   {
    "duration": 31,
    "start_time": "2022-07-18T17:07:38.404Z"
   },
   {
    "duration": 513,
    "start_time": "2022-07-18T17:13:10.773Z"
   },
   {
    "duration": 50,
    "start_time": "2022-07-18T17:13:11.292Z"
   },
   {
    "duration": 82,
    "start_time": "2022-07-18T17:13:11.350Z"
   },
   {
    "duration": 13,
    "start_time": "2022-07-18T17:13:11.435Z"
   },
   {
    "duration": 45,
    "start_time": "2022-07-18T17:13:11.450Z"
   },
   {
    "duration": 985,
    "start_time": "2022-07-18T17:13:11.498Z"
   },
   {
    "duration": 267,
    "start_time": "2022-07-18T17:13:41.165Z"
   },
   {
    "duration": 248,
    "start_time": "2022-07-18T17:13:59.200Z"
   },
   {
    "duration": 238,
    "start_time": "2022-07-18T17:14:20.569Z"
   },
   {
    "duration": 203,
    "start_time": "2022-07-18T17:14:24.487Z"
   },
   {
    "duration": 152,
    "start_time": "2022-07-18T17:16:17.806Z"
   },
   {
    "duration": 97,
    "start_time": "2022-07-18T17:16:20.386Z"
   },
   {
    "duration": 80,
    "start_time": "2022-07-18T17:17:05.885Z"
   },
   {
    "duration": 67,
    "start_time": "2022-07-18T17:17:10.441Z"
   },
   {
    "duration": 127723,
    "start_time": "2022-07-18T17:19:17.148Z"
   },
   {
    "duration": 185,
    "start_time": "2022-07-18T17:21:24.873Z"
   },
   {
    "duration": 10,
    "start_time": "2022-07-18T17:21:25.060Z"
   },
   {
    "duration": 461,
    "start_time": "2022-07-25T14:37:35.588Z"
   },
   {
    "duration": 90,
    "start_time": "2022-07-25T14:37:36.052Z"
   },
   {
    "duration": 51,
    "start_time": "2022-07-25T14:37:36.144Z"
   },
   {
    "duration": 26,
    "start_time": "2022-07-25T14:37:36.197Z"
   },
   {
    "duration": 179,
    "start_time": "2022-07-25T14:39:32.155Z"
   },
   {
    "duration": 11,
    "start_time": "2022-07-25T14:39:32.336Z"
   },
   {
    "duration": 397,
    "start_time": "2022-07-25T14:43:42.560Z"
   },
   {
    "duration": 27,
    "start_time": "2022-07-25T14:43:42.960Z"
   },
   {
    "duration": 58,
    "start_time": "2022-07-25T14:43:42.989Z"
   },
   {
    "duration": 20,
    "start_time": "2022-07-25T14:43:43.049Z"
   },
   {
    "duration": 4,
    "start_time": "2022-07-25T14:43:43.071Z"
   },
   {
    "duration": 439,
    "start_time": "2022-07-25T14:43:43.077Z"
   },
   {
    "duration": 11,
    "start_time": "2022-07-25T14:43:43.524Z"
   },
   {
    "duration": 120357,
    "start_time": "2022-07-25T14:44:18.968Z"
   },
   {
    "duration": 152,
    "start_time": "2022-07-25T14:52:48.547Z"
   },
   {
    "duration": 3,
    "start_time": "2022-07-25T14:52:48.700Z"
   },
   {
    "duration": 30,
    "start_time": "2022-07-25T14:52:48.705Z"
   },
   {
    "duration": 43,
    "start_time": "2022-07-25T14:52:48.737Z"
   },
   {
    "duration": 20,
    "start_time": "2022-07-25T14:52:48.782Z"
   },
   {
    "duration": 24,
    "start_time": "2022-07-25T14:52:48.804Z"
   },
   {
    "duration": 183,
    "start_time": "2022-07-25T14:52:48.830Z"
   },
   {
    "duration": 196,
    "start_time": "2022-07-25T14:52:49.016Z"
   },
   {
    "duration": 174,
    "start_time": "2022-07-25T15:08:33.253Z"
   },
   {
    "duration": 12736,
    "start_time": "2022-07-25T15:08:37.322Z"
   },
   {
    "duration": 157,
    "start_time": "2022-07-25T15:08:50.061Z"
   },
   {
    "duration": 126,
    "start_time": "2022-07-25T15:10:52.379Z"
   },
   {
    "duration": 4,
    "start_time": "2022-07-25T15:20:34.349Z"
   },
   {
    "duration": 5,
    "start_time": "2022-07-25T15:20:48.694Z"
   },
   {
    "duration": 50,
    "start_time": "2022-07-26T04:50:15.496Z"
   },
   {
    "duration": 375,
    "start_time": "2022-07-26T04:50:23.467Z"
   },
   {
    "duration": 80,
    "start_time": "2022-07-26T04:50:23.844Z"
   },
   {
    "duration": 53,
    "start_time": "2022-07-26T04:50:23.925Z"
   },
   {
    "duration": 19,
    "start_time": "2022-07-26T04:50:23.980Z"
   },
   {
    "duration": 607,
    "start_time": "2022-07-26T04:50:24.010Z"
   },
   {
    "duration": 444,
    "start_time": "2022-07-26T04:50:24.619Z"
   },
   {
    "duration": 148,
    "start_time": "2022-07-26T04:50:25.065Z"
   },
   {
    "duration": 141,
    "start_time": "2022-07-26T04:50:25.215Z"
   },
   {
    "duration": 15,
    "start_time": "2022-07-26T04:50:25.358Z"
   },
   {
    "duration": 86,
    "start_time": "2022-07-26T04:50:25.375Z"
   },
   {
    "duration": 0,
    "start_time": "2022-07-26T04:50:25.463Z"
   },
   {
    "duration": 0,
    "start_time": "2022-07-26T04:50:25.464Z"
   },
   {
    "duration": 3,
    "start_time": "2022-07-26T04:50:34.652Z"
   },
   {
    "duration": 4,
    "start_time": "2022-07-26T04:50:37.329Z"
   },
   {
    "duration": 757,
    "start_time": "2022-07-26T04:50:48.644Z"
   },
   {
    "duration": 282,
    "start_time": "2022-07-26T04:51:08.079Z"
   },
   {
    "duration": 749,
    "start_time": "2022-07-26T04:51:23.554Z"
   },
   {
    "duration": 728,
    "start_time": "2022-07-26T04:51:36.689Z"
   },
   {
    "duration": 4,
    "start_time": "2022-07-26T04:51:48.880Z"
   },
   {
    "duration": 16418,
    "start_time": "2022-07-26T04:52:12.997Z"
   },
   {
    "duration": 16054,
    "start_time": "2022-07-26T04:52:42.409Z"
   },
   {
    "duration": 5,
    "start_time": "2022-07-26T04:52:58.465Z"
   },
   {
    "duration": 31943,
    "start_time": "2022-07-26T04:55:10.065Z"
   },
   {
    "duration": 3,
    "start_time": "2022-07-26T05:07:47.763Z"
   },
   {
    "duration": 758,
    "start_time": "2022-07-26T05:08:34.238Z"
   },
   {
    "duration": 852,
    "start_time": "2022-07-26T05:08:41.759Z"
   },
   {
    "duration": 768,
    "start_time": "2022-07-26T05:08:56.128Z"
   },
   {
    "duration": 16268,
    "start_time": "2022-07-26T05:09:14.573Z"
   },
   {
    "duration": 725,
    "start_time": "2022-07-26T05:09:39.130Z"
   },
   {
    "duration": 16414,
    "start_time": "2022-07-26T05:09:47.483Z"
   },
   {
    "duration": 769,
    "start_time": "2022-07-26T05:10:17.521Z"
   },
   {
    "duration": 756,
    "start_time": "2022-07-26T05:10:23.093Z"
   },
   {
    "duration": 15831,
    "start_time": "2022-07-26T05:10:25.357Z"
   },
   {
    "duration": 794,
    "start_time": "2022-07-26T05:10:45.712Z"
   },
   {
    "duration": 170,
    "start_time": "2022-07-26T06:36:56.816Z"
   },
   {
    "duration": 10,
    "start_time": "2022-07-26T06:39:09.525Z"
   },
   {
    "duration": 6,
    "start_time": "2022-07-26T06:40:56.051Z"
   },
   {
    "duration": 5,
    "start_time": "2022-07-26T06:40:59.668Z"
   },
   {
    "duration": 5,
    "start_time": "2022-07-26T06:41:06.467Z"
   },
   {
    "duration": 8,
    "start_time": "2022-07-26T06:41:15.596Z"
   },
   {
    "duration": 754,
    "start_time": "2022-07-26T06:44:17.954Z"
   },
   {
    "duration": 34968,
    "start_time": "2022-07-26T06:45:15.375Z"
   },
   {
    "duration": 8,
    "start_time": "2022-07-26T06:45:50.345Z"
   },
   {
    "duration": 754,
    "start_time": "2022-07-26T06:46:09.521Z"
   },
   {
    "duration": 30430,
    "start_time": "2022-07-26T06:46:10.348Z"
   },
   {
    "duration": 8,
    "start_time": "2022-07-26T06:46:40.780Z"
   },
   {
    "duration": 4,
    "start_time": "2022-07-26T06:47:27.078Z"
   },
   {
    "duration": 6,
    "start_time": "2022-07-26T06:47:56.551Z"
   },
   {
    "duration": 5,
    "start_time": "2022-07-26T06:48:00.732Z"
   },
   {
    "duration": 5,
    "start_time": "2022-07-26T06:48:01.646Z"
   },
   {
    "duration": 4,
    "start_time": "2022-07-26T06:48:11.249Z"
   },
   {
    "duration": 10,
    "start_time": "2022-07-26T07:17:24.365Z"
   },
   {
    "duration": 8,
    "start_time": "2022-07-26T07:17:38.949Z"
   },
   {
    "duration": 4,
    "start_time": "2022-07-26T07:19:16.312Z"
   },
   {
    "duration": 4,
    "start_time": "2022-07-26T07:20:49.428Z"
   },
   {
    "duration": 5,
    "start_time": "2022-07-26T07:20:52.265Z"
   },
   {
    "duration": 830,
    "start_time": "2022-07-26T07:21:34.052Z"
   },
   {
    "duration": 5,
    "start_time": "2022-07-26T07:23:02.788Z"
   },
   {
    "duration": 5,
    "start_time": "2022-07-26T07:25:16.370Z"
   },
   {
    "duration": 5,
    "start_time": "2022-07-26T07:28:48.361Z"
   },
   {
    "duration": 5,
    "start_time": "2022-07-26T07:29:18.575Z"
   },
   {
    "duration": 5,
    "start_time": "2022-07-26T07:29:26.697Z"
   },
   {
    "duration": 6,
    "start_time": "2022-07-26T07:29:39.518Z"
   },
   {
    "duration": 56,
    "start_time": "2022-07-26T07:30:37.992Z"
   },
   {
    "duration": 9,
    "start_time": "2022-07-26T07:32:11.590Z"
   },
   {
    "duration": 14,
    "start_time": "2022-07-26T07:32:17.573Z"
   },
   {
    "duration": 10,
    "start_time": "2022-07-26T07:32:20.438Z"
   },
   {
    "duration": 12,
    "start_time": "2022-07-26T07:32:23.819Z"
   },
   {
    "duration": 12,
    "start_time": "2022-07-26T07:33:26.625Z"
   },
   {
    "duration": 19,
    "start_time": "2022-07-26T07:35:22.904Z"
   },
   {
    "duration": 9,
    "start_time": "2022-07-26T07:35:33.098Z"
   },
   {
    "duration": 19,
    "start_time": "2022-07-26T07:35:52.394Z"
   },
   {
    "duration": 9,
    "start_time": "2022-07-26T07:36:02.443Z"
   },
   {
    "duration": 15,
    "start_time": "2022-07-26T07:36:04.432Z"
   },
   {
    "duration": 21,
    "start_time": "2022-07-26T07:36:37.639Z"
   },
   {
    "duration": 15,
    "start_time": "2022-07-26T07:36:54.583Z"
   },
   {
    "duration": 17,
    "start_time": "2022-07-26T07:37:15.709Z"
   },
   {
    "duration": 10,
    "start_time": "2022-07-26T07:38:17.982Z"
   },
   {
    "duration": 10,
    "start_time": "2022-07-26T07:38:27.048Z"
   },
   {
    "duration": 20,
    "start_time": "2022-07-26T07:38:37.869Z"
   },
   {
    "duration": 4,
    "start_time": "2022-07-26T07:38:44.078Z"
   },
   {
    "duration": 88,
    "start_time": "2022-07-26T07:38:44.084Z"
   },
   {
    "duration": 53,
    "start_time": "2022-07-26T07:38:44.175Z"
   },
   {
    "duration": 22,
    "start_time": "2022-07-26T07:38:44.230Z"
   },
   {
    "duration": 207,
    "start_time": "2022-07-26T07:38:44.254Z"
   },
   {
    "duration": 391,
    "start_time": "2022-07-26T07:38:44.463Z"
   },
   {
    "duration": 147,
    "start_time": "2022-07-26T07:38:44.857Z"
   },
   {
    "duration": 137,
    "start_time": "2022-07-26T07:38:45.011Z"
   },
   {
    "duration": 9,
    "start_time": "2022-07-26T07:38:45.150Z"
   },
   {
    "duration": 15,
    "start_time": "2022-07-26T07:38:45.161Z"
   },
   {
    "duration": 34,
    "start_time": "2022-07-26T07:38:45.178Z"
   },
   {
    "duration": 5,
    "start_time": "2022-07-26T07:38:45.214Z"
   },
   {
    "duration": 16,
    "start_time": "2022-07-26T07:38:45.221Z"
   },
   {
    "duration": 12,
    "start_time": "2022-07-26T07:38:45.240Z"
   },
   {
    "duration": 13,
    "start_time": "2022-07-26T07:38:50.293Z"
   },
   {
    "duration": 673,
    "start_time": "2022-07-26T07:40:20.749Z"
   },
   {
    "duration": 10,
    "start_time": "2022-07-26T07:40:24.718Z"
   },
   {
    "duration": 12,
    "start_time": "2022-07-26T07:43:11.924Z"
   },
   {
    "duration": 3,
    "start_time": "2022-07-26T07:43:24.933Z"
   },
   {
    "duration": 36,
    "start_time": "2022-07-26T07:43:24.939Z"
   },
   {
    "duration": 56,
    "start_time": "2022-07-26T07:43:24.978Z"
   },
   {
    "duration": 30,
    "start_time": "2022-07-26T07:43:25.036Z"
   },
   {
    "duration": 212,
    "start_time": "2022-07-26T07:43:25.069Z"
   },
   {
    "duration": 509,
    "start_time": "2022-07-26T07:43:25.283Z"
   },
   {
    "duration": 162,
    "start_time": "2022-07-26T07:43:25.795Z"
   },
   {
    "duration": 134,
    "start_time": "2022-07-26T07:43:25.959Z"
   },
   {
    "duration": 16,
    "start_time": "2022-07-26T07:43:26.095Z"
   },
   {
    "duration": 15,
    "start_time": "2022-07-26T07:43:26.113Z"
   },
   {
    "duration": 12,
    "start_time": "2022-07-26T07:43:26.130Z"
   },
   {
    "duration": 4,
    "start_time": "2022-07-26T07:43:26.144Z"
   },
   {
    "duration": 13,
    "start_time": "2022-07-26T07:43:26.150Z"
   },
   {
    "duration": 8,
    "start_time": "2022-07-26T07:43:26.166Z"
   },
   {
    "duration": 40,
    "start_time": "2022-07-26T07:43:26.176Z"
   },
   {
    "duration": 11,
    "start_time": "2022-07-26T07:44:40.408Z"
   },
   {
    "duration": 7,
    "start_time": "2022-07-26T07:44:57.622Z"
   },
   {
    "duration": 5,
    "start_time": "2022-07-26T07:45:47.150Z"
   },
   {
    "duration": 8,
    "start_time": "2022-07-26T07:45:53.472Z"
   },
   {
    "duration": 7,
    "start_time": "2022-07-26T07:45:55.511Z"
   },
   {
    "duration": 7,
    "start_time": "2022-07-26T07:46:03.996Z"
   },
   {
    "duration": 8,
    "start_time": "2022-07-26T07:46:29.483Z"
   },
   {
    "duration": 10,
    "start_time": "2022-07-26T07:47:41.310Z"
   },
   {
    "duration": 9,
    "start_time": "2022-07-26T07:47:46.162Z"
   },
   {
    "duration": 4,
    "start_time": "2022-07-26T07:47:46.702Z"
   },
   {
    "duration": 75,
    "start_time": "2022-07-26T07:47:55.253Z"
   },
   {
    "duration": 4,
    "start_time": "2022-07-26T07:48:08.890Z"
   },
   {
    "duration": 5,
    "start_time": "2022-07-26T07:49:09.274Z"
   },
   {
    "duration": 5,
    "start_time": "2022-07-26T07:49:12.882Z"
   },
   {
    "duration": 86,
    "start_time": "2022-07-26T07:55:37.558Z"
   },
   {
    "duration": 5,
    "start_time": "2022-07-26T07:55:41.225Z"
   },
   {
    "duration": 5,
    "start_time": "2022-07-26T07:56:10.096Z"
   },
   {
    "duration": 1309,
    "start_time": "2022-07-26T07:56:31.098Z"
   },
   {
    "duration": 29,
    "start_time": "2022-07-26T07:56:32.409Z"
   },
   {
    "duration": 55,
    "start_time": "2022-07-26T07:56:32.441Z"
   },
   {
    "duration": 35,
    "start_time": "2022-07-26T07:56:32.500Z"
   },
   {
    "duration": 449,
    "start_time": "2022-07-26T07:56:32.537Z"
   },
   {
    "duration": 422,
    "start_time": "2022-07-26T07:56:32.989Z"
   },
   {
    "duration": 224,
    "start_time": "2022-07-26T07:56:33.413Z"
   },
   {
    "duration": 222,
    "start_time": "2022-07-26T07:56:33.639Z"
   },
   {
    "duration": 12,
    "start_time": "2022-07-26T07:56:33.863Z"
   },
   {
    "duration": 25,
    "start_time": "2022-07-26T07:56:33.877Z"
   },
   {
    "duration": 23,
    "start_time": "2022-07-26T07:56:33.911Z"
   },
   {
    "duration": 5,
    "start_time": "2022-07-26T07:56:33.938Z"
   },
   {
    "duration": 24,
    "start_time": "2022-07-26T07:56:33.945Z"
   },
   {
    "duration": 19,
    "start_time": "2022-07-26T07:56:33.971Z"
   },
   {
    "duration": 10,
    "start_time": "2022-07-26T07:56:33.993Z"
   },
   {
    "duration": 10,
    "start_time": "2022-07-26T07:56:34.005Z"
   },
   {
    "duration": 104,
    "start_time": "2022-07-26T07:56:34.017Z"
   },
   {
    "duration": 91,
    "start_time": "2022-07-26T07:56:34.123Z"
   },
   {
    "duration": 0,
    "start_time": "2022-07-26T07:56:34.216Z"
   },
   {
    "duration": 0,
    "start_time": "2022-07-26T07:56:34.218Z"
   },
   {
    "duration": 22,
    "start_time": "2022-07-26T07:59:05.564Z"
   },
   {
    "duration": 1118,
    "start_time": "2022-07-26T07:59:11.960Z"
   },
   {
    "duration": 27,
    "start_time": "2022-07-26T07:59:13.080Z"
   },
   {
    "duration": 59,
    "start_time": "2022-07-26T07:59:13.109Z"
   },
   {
    "duration": 49,
    "start_time": "2022-07-26T07:59:13.171Z"
   },
   {
    "duration": 483,
    "start_time": "2022-07-26T07:59:13.223Z"
   },
   {
    "duration": 402,
    "start_time": "2022-07-26T07:59:13.709Z"
   },
   {
    "duration": 204,
    "start_time": "2022-07-26T07:59:14.113Z"
   },
   {
    "duration": 220,
    "start_time": "2022-07-26T07:59:14.319Z"
   },
   {
    "duration": 13,
    "start_time": "2022-07-26T07:59:14.541Z"
   },
   {
    "duration": 11,
    "start_time": "2022-07-26T07:59:14.557Z"
   },
   {
    "duration": 47,
    "start_time": "2022-07-26T07:59:14.569Z"
   },
   {
    "duration": 6,
    "start_time": "2022-07-26T07:59:14.618Z"
   },
   {
    "duration": 5,
    "start_time": "2022-07-26T07:59:14.626Z"
   },
   {
    "duration": 8,
    "start_time": "2022-07-26T07:59:14.633Z"
   },
   {
    "duration": 8,
    "start_time": "2022-07-26T07:59:14.643Z"
   },
   {
    "duration": 61,
    "start_time": "2022-07-26T07:59:14.653Z"
   },
   {
    "duration": 6,
    "start_time": "2022-07-26T07:59:14.717Z"
   },
   {
    "duration": 121,
    "start_time": "2022-07-26T07:59:14.725Z"
   },
   {
    "duration": 0,
    "start_time": "2022-07-26T07:59:14.848Z"
   },
   {
    "duration": 0,
    "start_time": "2022-07-26T07:59:14.849Z"
   },
   {
    "duration": 30,
    "start_time": "2022-07-26T08:01:08.851Z"
   },
   {
    "duration": 1112,
    "start_time": "2022-07-26T08:01:43.754Z"
   },
   {
    "duration": 28,
    "start_time": "2022-07-26T08:01:44.869Z"
   },
   {
    "duration": 65,
    "start_time": "2022-07-26T08:01:44.899Z"
   },
   {
    "duration": 44,
    "start_time": "2022-07-26T08:01:44.966Z"
   },
   {
    "duration": 549,
    "start_time": "2022-07-26T08:01:45.013Z"
   },
   {
    "duration": 893,
    "start_time": "2022-07-26T08:01:45.564Z"
   },
   {
    "duration": 364,
    "start_time": "2022-07-26T08:01:46.459Z"
   },
   {
    "duration": 415,
    "start_time": "2022-07-26T08:01:46.824Z"
   },
   {
    "duration": 11,
    "start_time": "2022-07-26T08:01:47.241Z"
   },
   {
    "duration": 65,
    "start_time": "2022-07-26T08:01:47.254Z"
   },
   {
    "duration": 19,
    "start_time": "2022-07-26T08:01:47.321Z"
   },
   {
    "duration": 4,
    "start_time": "2022-07-26T08:01:47.342Z"
   },
   {
    "duration": 63,
    "start_time": "2022-07-26T08:01:47.348Z"
   },
   {
    "duration": 11,
    "start_time": "2022-07-26T08:01:47.415Z"
   },
   {
    "duration": 8,
    "start_time": "2022-07-26T08:01:47.427Z"
   },
   {
    "duration": 11,
    "start_time": "2022-07-26T08:01:47.438Z"
   },
   {
    "duration": 72,
    "start_time": "2022-07-26T08:01:47.451Z"
   },
   {
    "duration": 120,
    "start_time": "2022-07-26T08:01:47.525Z"
   },
   {
    "duration": 0,
    "start_time": "2022-07-26T08:01:47.647Z"
   },
   {
    "duration": 0,
    "start_time": "2022-07-26T08:01:47.648Z"
   },
   {
    "duration": 20,
    "start_time": "2022-07-26T08:02:48.974Z"
   },
   {
    "duration": 1265,
    "start_time": "2022-07-26T08:06:20.792Z"
   },
   {
    "duration": 35,
    "start_time": "2022-07-26T08:06:22.060Z"
   },
   {
    "duration": 71,
    "start_time": "2022-07-26T08:06:22.098Z"
   },
   {
    "duration": 42,
    "start_time": "2022-07-26T08:06:22.171Z"
   },
   {
    "duration": 483,
    "start_time": "2022-07-26T08:06:22.216Z"
   },
   {
    "duration": 425,
    "start_time": "2022-07-26T08:06:22.702Z"
   },
   {
    "duration": 157,
    "start_time": "2022-07-26T08:06:23.129Z"
   },
   {
    "duration": 246,
    "start_time": "2022-07-26T08:06:23.288Z"
   },
   {
    "duration": 13,
    "start_time": "2022-07-26T08:06:23.535Z"
   },
   {
    "duration": 14,
    "start_time": "2022-07-26T08:06:23.551Z"
   },
   {
    "duration": 13,
    "start_time": "2022-07-26T08:06:23.567Z"
   },
   {
    "duration": 6,
    "start_time": "2022-07-26T08:06:23.609Z"
   },
   {
    "duration": 8,
    "start_time": "2022-07-26T08:06:23.617Z"
   },
   {
    "duration": 11,
    "start_time": "2022-07-26T08:06:23.627Z"
   },
   {
    "duration": 10,
    "start_time": "2022-07-26T08:06:23.640Z"
   },
   {
    "duration": 7,
    "start_time": "2022-07-26T08:06:23.652Z"
   },
   {
    "duration": 8,
    "start_time": "2022-07-26T08:06:23.709Z"
   },
   {
    "duration": 140,
    "start_time": "2022-07-26T08:06:23.719Z"
   },
   {
    "duration": 0,
    "start_time": "2022-07-26T08:06:23.861Z"
   },
   {
    "duration": 0,
    "start_time": "2022-07-26T08:06:23.862Z"
   },
   {
    "duration": 7,
    "start_time": "2022-07-26T08:06:37.589Z"
   },
   {
    "duration": 1290,
    "start_time": "2022-07-26T08:06:44.821Z"
   },
   {
    "duration": 32,
    "start_time": "2022-07-26T08:06:46.114Z"
   },
   {
    "duration": 59,
    "start_time": "2022-07-26T08:06:46.149Z"
   },
   {
    "duration": 24,
    "start_time": "2022-07-26T08:06:46.210Z"
   },
   {
    "duration": 504,
    "start_time": "2022-07-26T08:06:46.237Z"
   },
   {
    "duration": 414,
    "start_time": "2022-07-26T08:06:46.744Z"
   },
   {
    "duration": 161,
    "start_time": "2022-07-26T08:06:47.160Z"
   },
   {
    "duration": 229,
    "start_time": "2022-07-26T08:06:47.323Z"
   },
   {
    "duration": 12,
    "start_time": "2022-07-26T08:06:47.554Z"
   },
   {
    "duration": 10,
    "start_time": "2022-07-26T08:06:47.568Z"
   },
   {
    "duration": 39,
    "start_time": "2022-07-26T08:06:47.580Z"
   },
   {
    "duration": 4,
    "start_time": "2022-07-26T08:06:47.621Z"
   },
   {
    "duration": 9,
    "start_time": "2022-07-26T08:06:47.627Z"
   },
   {
    "duration": 10,
    "start_time": "2022-07-26T08:06:47.641Z"
   },
   {
    "duration": 7,
    "start_time": "2022-07-26T08:06:47.653Z"
   },
   {
    "duration": 49,
    "start_time": "2022-07-26T08:06:47.662Z"
   },
   {
    "duration": 5,
    "start_time": "2022-07-26T08:06:47.714Z"
   },
   {
    "duration": 88,
    "start_time": "2022-07-26T08:06:47.727Z"
   },
   {
    "duration": 9,
    "start_time": "2022-07-26T08:06:47.817Z"
   },
   {
    "duration": 6,
    "start_time": "2022-07-26T08:06:47.828Z"
   },
   {
    "duration": 5,
    "start_time": "2022-07-26T08:07:21.989Z"
   },
   {
    "duration": 4,
    "start_time": "2022-07-26T08:07:42.886Z"
   },
   {
    "duration": 1187,
    "start_time": "2022-07-26T08:09:12.094Z"
   },
   {
    "duration": 27,
    "start_time": "2022-07-26T08:09:13.283Z"
   },
   {
    "duration": 64,
    "start_time": "2022-07-26T08:09:13.313Z"
   },
   {
    "duration": 45,
    "start_time": "2022-07-26T08:09:13.379Z"
   },
   {
    "duration": 452,
    "start_time": "2022-07-26T08:09:13.426Z"
   },
   {
    "duration": 388,
    "start_time": "2022-07-26T08:09:13.880Z"
   },
   {
    "duration": 149,
    "start_time": "2022-07-26T08:09:14.270Z"
   },
   {
    "duration": 216,
    "start_time": "2022-07-26T08:09:14.421Z"
   },
   {
    "duration": 11,
    "start_time": "2022-07-26T08:09:14.639Z"
   },
   {
    "duration": 10,
    "start_time": "2022-07-26T08:09:14.652Z"
   },
   {
    "duration": 19,
    "start_time": "2022-07-26T08:09:14.664Z"
   },
   {
    "duration": 25,
    "start_time": "2022-07-26T08:09:14.685Z"
   },
   {
    "duration": 5,
    "start_time": "2022-07-26T08:09:14.712Z"
   },
   {
    "duration": 10,
    "start_time": "2022-07-26T08:09:14.718Z"
   },
   {
    "duration": 8,
    "start_time": "2022-07-26T08:09:14.730Z"
   },
   {
    "duration": 8,
    "start_time": "2022-07-26T08:09:14.739Z"
   },
   {
    "duration": 65,
    "start_time": "2022-07-26T08:09:14.749Z"
   },
   {
    "duration": 94,
    "start_time": "2022-07-26T08:09:14.815Z"
   },
   {
    "duration": 8,
    "start_time": "2022-07-26T08:09:14.911Z"
   },
   {
    "duration": 1232,
    "start_time": "2022-07-28T05:19:07.637Z"
   },
   {
    "duration": 106,
    "start_time": "2022-07-28T05:19:08.872Z"
   },
   {
    "duration": 64,
    "start_time": "2022-07-28T05:19:08.981Z"
   },
   {
    "duration": 26,
    "start_time": "2022-07-28T05:19:09.046Z"
   },
   {
    "duration": 822,
    "start_time": "2022-07-28T05:19:09.075Z"
   },
   {
    "duration": 500,
    "start_time": "2022-07-28T05:19:09.899Z"
   },
   {
    "duration": 167,
    "start_time": "2022-07-28T05:19:10.409Z"
   },
   {
    "duration": 288,
    "start_time": "2022-07-28T05:19:10.579Z"
   },
   {
    "duration": 14,
    "start_time": "2022-07-28T05:19:10.870Z"
   },
   {
    "duration": 25,
    "start_time": "2022-07-28T05:19:10.886Z"
   },
   {
    "duration": 41,
    "start_time": "2022-07-28T05:19:10.913Z"
   },
   {
    "duration": 12,
    "start_time": "2022-07-28T05:19:10.956Z"
   },
   {
    "duration": 106,
    "start_time": "2022-07-28T05:19:16.087Z"
   },
   {
    "duration": 4,
    "start_time": "2022-07-28T05:20:11.631Z"
   },
   {
    "duration": 7,
    "start_time": "2022-07-28T05:20:17.143Z"
   },
   {
    "duration": 10,
    "start_time": "2022-07-28T05:20:24.157Z"
   },
   {
    "duration": 124,
    "start_time": "2022-07-28T05:20:28.835Z"
   },
   {
    "duration": 3,
    "start_time": "2022-07-28T05:20:55.149Z"
   },
   {
    "duration": 9,
    "start_time": "2022-07-28T05:21:00.007Z"
   },
   {
    "duration": 6,
    "start_time": "2022-07-28T05:21:02.843Z"
   },
   {
    "duration": 10,
    "start_time": "2022-07-28T05:21:12.229Z"
   },
   {
    "duration": 6,
    "start_time": "2022-07-28T05:21:12.892Z"
   },
   {
    "duration": 7,
    "start_time": "2022-07-28T05:24:28.840Z"
   },
   {
    "duration": 7,
    "start_time": "2022-07-28T05:27:57.262Z"
   },
   {
    "duration": 8,
    "start_time": "2022-07-28T05:27:59.330Z"
   },
   {
    "duration": 7,
    "start_time": "2022-07-28T05:27:59.760Z"
   },
   {
    "duration": 6,
    "start_time": "2022-07-28T05:28:00.878Z"
   },
   {
    "duration": 5,
    "start_time": "2022-07-28T05:28:03.234Z"
   },
   {
    "duration": 5,
    "start_time": "2022-07-28T05:28:07.539Z"
   },
   {
    "duration": 6,
    "start_time": "2022-07-28T05:28:48.121Z"
   },
   {
    "duration": 4,
    "start_time": "2022-07-28T05:29:03.202Z"
   },
   {
    "duration": 1132,
    "start_time": "2022-07-28T05:29:09.843Z"
   },
   {
    "duration": 29,
    "start_time": "2022-07-28T05:29:10.977Z"
   },
   {
    "duration": 71,
    "start_time": "2022-07-28T05:29:11.008Z"
   },
   {
    "duration": 41,
    "start_time": "2022-07-28T05:29:11.081Z"
   },
   {
    "duration": 506,
    "start_time": "2022-07-28T05:29:11.132Z"
   },
   {
    "duration": 507,
    "start_time": "2022-07-28T05:29:11.640Z"
   },
   {
    "duration": 193,
    "start_time": "2022-07-28T05:29:12.149Z"
   },
   {
    "duration": 278,
    "start_time": "2022-07-28T05:29:12.345Z"
   },
   {
    "duration": 13,
    "start_time": "2022-07-28T05:29:12.625Z"
   },
   {
    "duration": 12,
    "start_time": "2022-07-28T05:29:12.641Z"
   },
   {
    "duration": 17,
    "start_time": "2022-07-28T05:29:12.655Z"
   },
   {
    "duration": 6,
    "start_time": "2022-07-28T05:29:12.674Z"
   },
   {
    "duration": 6,
    "start_time": "2022-07-28T05:29:12.712Z"
   },
   {
    "duration": 9,
    "start_time": "2022-07-28T05:29:12.720Z"
   },
   {
    "duration": 10,
    "start_time": "2022-07-28T05:29:12.732Z"
   },
   {
    "duration": 7,
    "start_time": "2022-07-28T05:29:12.744Z"
   },
   {
    "duration": 62,
    "start_time": "2022-07-28T05:29:12.754Z"
   },
   {
    "duration": 94,
    "start_time": "2022-07-28T05:29:12.818Z"
   },
   {
    "duration": 24,
    "start_time": "2022-07-28T05:29:12.914Z"
   },
   {
    "duration": 7,
    "start_time": "2022-07-28T05:29:12.940Z"
   },
   {
    "duration": 251,
    "start_time": "2022-07-28T05:33:19.327Z"
   },
   {
    "duration": 8,
    "start_time": "2022-07-28T05:34:33.166Z"
   },
   {
    "duration": 1480,
    "start_time": "2022-07-28T05:36:25.065Z"
   },
   {
    "duration": 32,
    "start_time": "2022-07-28T05:36:26.547Z"
   },
   {
    "duration": 83,
    "start_time": "2022-07-28T05:36:26.581Z"
   },
   {
    "duration": 21,
    "start_time": "2022-07-28T05:36:26.666Z"
   },
   {
    "duration": 531,
    "start_time": "2022-07-28T05:36:26.689Z"
   },
   {
    "duration": 485,
    "start_time": "2022-07-28T05:36:27.223Z"
   },
   {
    "duration": 209,
    "start_time": "2022-07-28T05:36:27.710Z"
   },
   {
    "duration": 219,
    "start_time": "2022-07-28T05:36:27.921Z"
   },
   {
    "duration": 11,
    "start_time": "2022-07-28T05:36:28.142Z"
   },
   {
    "duration": 11,
    "start_time": "2022-07-28T05:36:28.155Z"
   },
   {
    "duration": 19,
    "start_time": "2022-07-28T05:36:28.168Z"
   },
   {
    "duration": 32,
    "start_time": "2022-07-28T05:36:28.189Z"
   },
   {
    "duration": 18,
    "start_time": "2022-07-28T05:36:28.223Z"
   },
   {
    "duration": 23,
    "start_time": "2022-07-28T05:36:28.244Z"
   },
   {
    "duration": 13,
    "start_time": "2022-07-28T05:36:28.269Z"
   },
   {
    "duration": 18,
    "start_time": "2022-07-28T05:36:28.284Z"
   },
   {
    "duration": 94,
    "start_time": "2022-07-28T05:36:28.318Z"
   },
   {
    "duration": 41,
    "start_time": "2022-07-28T05:36:28.414Z"
   },
   {
    "duration": 11,
    "start_time": "2022-07-28T05:36:28.458Z"
   },
   {
    "duration": 8,
    "start_time": "2022-07-28T05:36:28.471Z"
   }
  ],
  "kernelspec": {
   "display_name": "Python 3 (ipykernel)",
   "language": "python",
   "name": "python3"
  },
  "language_info": {
   "codemirror_mode": {
    "name": "ipython",
    "version": 3
   },
   "file_extension": ".py",
   "mimetype": "text/x-python",
   "name": "python",
   "nbconvert_exporter": "python",
   "pygments_lexer": "ipython3",
   "version": "3.9.7"
  },
  "toc": {
   "base_numbering": 1,
   "nav_menu": {},
   "number_sections": true,
   "sideBar": true,
   "skip_h1_title": true,
   "title_cell": "Содержание",
   "title_sidebar": "Contents",
   "toc_cell": true,
   "toc_position": {
    "height": "calc(100% - 180px)",
    "left": "10px",
    "top": "150px",
    "width": "289.6px"
   },
   "toc_section_display": true,
   "toc_window_display": true
  }
 },
 "nbformat": 4,
 "nbformat_minor": 4
}
