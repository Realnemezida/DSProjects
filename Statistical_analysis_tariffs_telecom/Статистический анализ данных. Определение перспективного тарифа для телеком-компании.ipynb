{
 "cells": [
  {
   "cell_type": "markdown",
   "metadata": {},
   "source": [
    "# Определение перспективного тарифа для телеком-компании"
   ]
  },
  {
   "cell_type": "markdown",
   "metadata": {},
   "source": [
    "### Описание проекта\n",
    "\n",
    "Отдел аналитики компании «Мегалайн» — федерального оператора сотовой связи. \n",
    "\n",
    "Клиентам предлагают два тарифных плана: «Смарт» и «Ультра». Чтобы скорректировать рекламный бюджет, коммерческий департамент хочет понять, какой тариф приносит больше денег.\n",
    "\n",
    "Нужно сделать предварительный анализ тарифов на небольшой выборке клиентов. \n",
    "\n",
    "Дла анализа есть данные 500 пользователей «Мегалайна»: кто они, откуда, каким тарифом пользуются, сколько звонков и сообщений каждый отправил за 2018 год. \n",
    "\n",
    "Нужно проанализировать поведение клиентов и сделать вывод — какой тариф лучше.\n",
    "\n",
    "### Описание тарифов\n",
    "\n",
    "**Тариф «Смарт»**\n",
    "\n",
    "Ежемесячная плата: 550 рублей\n",
    "\n",
    "Включено 500 минут разговора, 50 сообщений и 15 Гб интернет-трафика\n",
    "\n",
    "Стоимость услуг сверх тарифного пакета:\n",
    "\n",
    "минута разговора: 3 рубля\n",
    "\n",
    "сообщение: 3 рубля\n",
    "\n",
    "1 Гб интернет-трафика: 200 рублей\n",
    "\n",
    "**Тариф «Ультра»**\n",
    "\n",
    "Ежемесячная плата: 1950 рублей\n",
    "\n",
    "Включено 3000 минут разговора, 1000 сообщений и 30 Гб интернет-трафика\n",
    "\n",
    "Стоимость услуг сверх тарифного пакета:\n",
    "\n",
    "минута разговора: 1 рубль\n",
    "\n",
    "сообщение: 1 рубль\n",
    "\n",
    "1 Гб интернет-трафика: 150 рублей"
   ]
  },
  {
   "cell_type": "markdown",
   "metadata": {},
   "source": [
    "## Подготовка данных\n"
   ]
  },
  {
   "cell_type": "markdown",
   "metadata": {},
   "source": [
    "### Изменение типов данных"
   ]
  },
  {
   "cell_type": "code",
   "execution_count": 1,
   "metadata": {},
   "outputs": [],
   "source": [
    "import pandas as pd #импорт библиотек\n",
    "import numpy as np\n",
    "from scipy import stats as st\n",
    "import matplotlib.pyplot as plt"
   ]
  },
  {
   "cell_type": "markdown",
   "metadata": {},
   "source": [
    "Чтение файлов с данными и сохранение в датафреймы."
   ]
  },
  {
   "cell_type": "code",
   "execution_count": 2,
   "metadata": {},
   "outputs": [],
   "source": [
    "try: # чтение файла с сайта\n",
    "    calls = pd.read_csv('/datasets/calls.csv') \n",
    "    internet = pd.read_csv('/datasets/internet.csv')\n",
    "    messages = pd.read_csv('/datasets/messages.csv')\n",
    "    tariffs = pd.read_csv('/datasets/tariffs.csv')\n",
    "    users = pd.read_csv('/datasets/users.csv')\n",
    "except: # чтение файла локально\n",
    "    calls = pd.read_csv('datasets\\calls.csv') \n",
    "    internet = pd.read_csv('datasets\\internet.csv')\n",
    "    messages = pd.read_csv('datasets\\messages.csv')\n",
    "    tariffs = pd.read_csv('datasets\\\\tariffs.csv')\n",
    "    users = pd.read_csv('datasets\\\\users.csv')"
   ]
  },
  {
   "cell_type": "markdown",
   "metadata": {},
   "source": [
    "Посмотрим на полученные данные."
   ]
  },
  {
   "cell_type": "code",
   "execution_count": 3,
   "metadata": {},
   "outputs": [],
   "source": [
    "# функция для обзора дотафрейма\n",
    "def review_df(df):    \n",
    "    display(df.head())\n",
    "    print('--------------------------------------')\n",
    "    print('Размер:')\n",
    "    print(df.shape)\n",
    "    print('--------------------------------------')\n",
    "    print('Информация:')\n",
    "    print(df.info())\n",
    "    print('--------------------------------------')\n",
    "    print('Дубликаты:')\n",
    "    print(df.duplicated().sum())\n",
    "    print('--------------------------------------')\n",
    "    print('Пропуски:')\n",
    "    print(df.isna().sum())\n",
    "    print('--------------------------------------')\n",
    "    print('Описание данных:')\n",
    "    display(df.describe(include='all'))"
   ]
  },
  {
   "cell_type": "markdown",
   "metadata": {},
   "source": [
    "#### Таблица сalls "
   ]
  },
  {
   "cell_type": "markdown",
   "metadata": {},
   "source": [
    "Таблица calls (информация о звонках):\n",
    "\n",
    "* id — уникальный номер звонка\n",
    "* call_date — дата звонка\n",
    "* duration — длительность звонка в минутах\n",
    "* user_id — идентификатор пользователя, сделавшего звонок"
   ]
  },
  {
   "cell_type": "code",
   "execution_count": 4,
   "metadata": {
    "scrolled": false
   },
   "outputs": [
    {
     "data": {
      "text/html": [
       "<div>\n",
       "<style scoped>\n",
       "    .dataframe tbody tr th:only-of-type {\n",
       "        vertical-align: middle;\n",
       "    }\n",
       "\n",
       "    .dataframe tbody tr th {\n",
       "        vertical-align: top;\n",
       "    }\n",
       "\n",
       "    .dataframe thead th {\n",
       "        text-align: right;\n",
       "    }\n",
       "</style>\n",
       "<table border=\"1\" class=\"dataframe\">\n",
       "  <thead>\n",
       "    <tr style=\"text-align: right;\">\n",
       "      <th></th>\n",
       "      <th>id</th>\n",
       "      <th>call_date</th>\n",
       "      <th>duration</th>\n",
       "      <th>user_id</th>\n",
       "    </tr>\n",
       "  </thead>\n",
       "  <tbody>\n",
       "    <tr>\n",
       "      <th>0</th>\n",
       "      <td>1000_0</td>\n",
       "      <td>2018-07-25</td>\n",
       "      <td>0.00</td>\n",
       "      <td>1000</td>\n",
       "    </tr>\n",
       "    <tr>\n",
       "      <th>1</th>\n",
       "      <td>1000_1</td>\n",
       "      <td>2018-08-17</td>\n",
       "      <td>0.00</td>\n",
       "      <td>1000</td>\n",
       "    </tr>\n",
       "    <tr>\n",
       "      <th>2</th>\n",
       "      <td>1000_2</td>\n",
       "      <td>2018-06-11</td>\n",
       "      <td>2.85</td>\n",
       "      <td>1000</td>\n",
       "    </tr>\n",
       "    <tr>\n",
       "      <th>3</th>\n",
       "      <td>1000_3</td>\n",
       "      <td>2018-09-21</td>\n",
       "      <td>13.80</td>\n",
       "      <td>1000</td>\n",
       "    </tr>\n",
       "    <tr>\n",
       "      <th>4</th>\n",
       "      <td>1000_4</td>\n",
       "      <td>2018-12-15</td>\n",
       "      <td>5.18</td>\n",
       "      <td>1000</td>\n",
       "    </tr>\n",
       "  </tbody>\n",
       "</table>\n",
       "</div>"
      ],
      "text/plain": [
       "       id   call_date  duration  user_id\n",
       "0  1000_0  2018-07-25      0.00     1000\n",
       "1  1000_1  2018-08-17      0.00     1000\n",
       "2  1000_2  2018-06-11      2.85     1000\n",
       "3  1000_3  2018-09-21     13.80     1000\n",
       "4  1000_4  2018-12-15      5.18     1000"
      ]
     },
     "metadata": {},
     "output_type": "display_data"
    },
    {
     "name": "stdout",
     "output_type": "stream",
     "text": [
      "--------------------------------------\n",
      "Размер:\n",
      "(202607, 4)\n",
      "--------------------------------------\n",
      "Информация:\n",
      "<class 'pandas.core.frame.DataFrame'>\n",
      "RangeIndex: 202607 entries, 0 to 202606\n",
      "Data columns (total 4 columns):\n",
      " #   Column     Non-Null Count   Dtype  \n",
      "---  ------     --------------   -----  \n",
      " 0   id         202607 non-null  object \n",
      " 1   call_date  202607 non-null  object \n",
      " 2   duration   202607 non-null  float64\n",
      " 3   user_id    202607 non-null  int64  \n",
      "dtypes: float64(1), int64(1), object(2)\n",
      "memory usage: 6.2+ MB\n",
      "None\n",
      "--------------------------------------\n",
      "Дубликаты:\n",
      "0\n",
      "--------------------------------------\n",
      "Пропуски:\n",
      "id           0\n",
      "call_date    0\n",
      "duration     0\n",
      "user_id      0\n",
      "dtype: int64\n",
      "--------------------------------------\n",
      "Описание данных:\n"
     ]
    },
    {
     "data": {
      "text/html": [
       "<div>\n",
       "<style scoped>\n",
       "    .dataframe tbody tr th:only-of-type {\n",
       "        vertical-align: middle;\n",
       "    }\n",
       "\n",
       "    .dataframe tbody tr th {\n",
       "        vertical-align: top;\n",
       "    }\n",
       "\n",
       "    .dataframe thead th {\n",
       "        text-align: right;\n",
       "    }\n",
       "</style>\n",
       "<table border=\"1\" class=\"dataframe\">\n",
       "  <thead>\n",
       "    <tr style=\"text-align: right;\">\n",
       "      <th></th>\n",
       "      <th>id</th>\n",
       "      <th>call_date</th>\n",
       "      <th>duration</th>\n",
       "      <th>user_id</th>\n",
       "    </tr>\n",
       "  </thead>\n",
       "  <tbody>\n",
       "    <tr>\n",
       "      <th>count</th>\n",
       "      <td>202607</td>\n",
       "      <td>202607</td>\n",
       "      <td>202607.000000</td>\n",
       "      <td>202607.000000</td>\n",
       "    </tr>\n",
       "    <tr>\n",
       "      <th>unique</th>\n",
       "      <td>202607</td>\n",
       "      <td>365</td>\n",
       "      <td>NaN</td>\n",
       "      <td>NaN</td>\n",
       "    </tr>\n",
       "    <tr>\n",
       "      <th>top</th>\n",
       "      <td>1000_0</td>\n",
       "      <td>2018-12-31</td>\n",
       "      <td>NaN</td>\n",
       "      <td>NaN</td>\n",
       "    </tr>\n",
       "    <tr>\n",
       "      <th>freq</th>\n",
       "      <td>1</td>\n",
       "      <td>1435</td>\n",
       "      <td>NaN</td>\n",
       "      <td>NaN</td>\n",
       "    </tr>\n",
       "    <tr>\n",
       "      <th>mean</th>\n",
       "      <td>NaN</td>\n",
       "      <td>NaN</td>\n",
       "      <td>6.755887</td>\n",
       "      <td>1253.940619</td>\n",
       "    </tr>\n",
       "    <tr>\n",
       "      <th>std</th>\n",
       "      <td>NaN</td>\n",
       "      <td>NaN</td>\n",
       "      <td>5.843365</td>\n",
       "      <td>144.722751</td>\n",
       "    </tr>\n",
       "    <tr>\n",
       "      <th>min</th>\n",
       "      <td>NaN</td>\n",
       "      <td>NaN</td>\n",
       "      <td>0.000000</td>\n",
       "      <td>1000.000000</td>\n",
       "    </tr>\n",
       "    <tr>\n",
       "      <th>25%</th>\n",
       "      <td>NaN</td>\n",
       "      <td>NaN</td>\n",
       "      <td>1.300000</td>\n",
       "      <td>1126.000000</td>\n",
       "    </tr>\n",
       "    <tr>\n",
       "      <th>50%</th>\n",
       "      <td>NaN</td>\n",
       "      <td>NaN</td>\n",
       "      <td>6.000000</td>\n",
       "      <td>1260.000000</td>\n",
       "    </tr>\n",
       "    <tr>\n",
       "      <th>75%</th>\n",
       "      <td>NaN</td>\n",
       "      <td>NaN</td>\n",
       "      <td>10.700000</td>\n",
       "      <td>1379.000000</td>\n",
       "    </tr>\n",
       "    <tr>\n",
       "      <th>max</th>\n",
       "      <td>NaN</td>\n",
       "      <td>NaN</td>\n",
       "      <td>38.000000</td>\n",
       "      <td>1499.000000</td>\n",
       "    </tr>\n",
       "  </tbody>\n",
       "</table>\n",
       "</div>"
      ],
      "text/plain": [
       "            id   call_date       duration        user_id\n",
       "count   202607      202607  202607.000000  202607.000000\n",
       "unique  202607         365            NaN            NaN\n",
       "top     1000_0  2018-12-31            NaN            NaN\n",
       "freq         1        1435            NaN            NaN\n",
       "mean       NaN         NaN       6.755887    1253.940619\n",
       "std        NaN         NaN       5.843365     144.722751\n",
       "min        NaN         NaN       0.000000    1000.000000\n",
       "25%        NaN         NaN       1.300000    1126.000000\n",
       "50%        NaN         NaN       6.000000    1260.000000\n",
       "75%        NaN         NaN      10.700000    1379.000000\n",
       "max        NaN         NaN      38.000000    1499.000000"
      ]
     },
     "metadata": {},
     "output_type": "display_data"
    }
   ],
   "source": [
    "review_df(calls)"
   ]
  },
  {
   "cell_type": "markdown",
   "metadata": {},
   "source": [
    "Количество ненулевых значений совпадает с количеством строк, пропусков нет. "
   ]
  },
  {
   "cell_type": "markdown",
   "metadata": {},
   "source": [
    "Столбец 'call_date' содержит дату. Изменим тип данных на дату."
   ]
  },
  {
   "cell_type": "code",
   "execution_count": 5,
   "metadata": {},
   "outputs": [
    {
     "data": {
      "text/plain": [
       "0   2018-07-25\n",
       "1   2018-08-17\n",
       "2   2018-06-11\n",
       "Name: call_date, dtype: datetime64[ns]"
      ]
     },
     "execution_count": 5,
     "metadata": {},
     "output_type": "execute_result"
    }
   ],
   "source": [
    "calls['call_date'] = pd.to_datetime(calls['call_date'], format='%Y-%m-%d')\n",
    "calls['call_date'].head(3) #посмотрим на результат и тип данных\n"
   ]
  },
  {
   "cell_type": "markdown",
   "metadata": {},
   "source": [
    "Столбец 'duration' хранит продолжительность звонка. «Мегалайн» всегда округляет секунды до минут. Каждый звонок округляется отдельно: даже если он длился всего 1 секунду, будет засчитан как 1 минута.\n",
    "Изменим тип данных на целочисленный."
   ]
  },
  {
   "cell_type": "code",
   "execution_count": 6,
   "metadata": {},
   "outputs": [
    {
     "data": {
      "text/plain": [
       "0     0.00\n",
       "1     0.00\n",
       "2     2.85\n",
       "3    13.80\n",
       "4     5.18\n",
       "Name: duration, dtype: float64"
      ]
     },
     "metadata": {},
     "output_type": "display_data"
    },
    {
     "data": {
      "text/plain": [
       "0     0\n",
       "1     0\n",
       "2     3\n",
       "3    14\n",
       "4     6\n",
       "Name: duration, dtype: int64"
      ]
     },
     "execution_count": 6,
     "metadata": {},
     "output_type": "execute_result"
    }
   ],
   "source": [
    "display(calls['duration'].head(5))\n",
    "# округляем в большую сторону и приводим к типу int64\n",
    "calls['duration'] = calls['duration'].apply(np.ceil).astype('int64', errors = 'ignore')\n",
    "calls['duration'].head(5)"
   ]
  },
  {
   "cell_type": "markdown",
   "metadata": {},
   "source": [
    "Изменение прошло корректно."
   ]
  },
  {
   "cell_type": "markdown",
   "metadata": {},
   "source": [
    "#### Таблица internet "
   ]
  },
  {
   "cell_type": "markdown",
   "metadata": {},
   "source": [
    "Таблица internet (информация об интернет-сессиях):\n",
    "* id — уникальный номер сессии\n",
    "* mb_used — объём потраченного за сессию интернет-трафика (в мегабайтах)\n",
    "* session_date — дата интернет-сессии\n",
    "* user_id — идентификатор пользователя"
   ]
  },
  {
   "cell_type": "code",
   "execution_count": 7,
   "metadata": {
    "scrolled": false
   },
   "outputs": [
    {
     "data": {
      "text/html": [
       "<div>\n",
       "<style scoped>\n",
       "    .dataframe tbody tr th:only-of-type {\n",
       "        vertical-align: middle;\n",
       "    }\n",
       "\n",
       "    .dataframe tbody tr th {\n",
       "        vertical-align: top;\n",
       "    }\n",
       "\n",
       "    .dataframe thead th {\n",
       "        text-align: right;\n",
       "    }\n",
       "</style>\n",
       "<table border=\"1\" class=\"dataframe\">\n",
       "  <thead>\n",
       "    <tr style=\"text-align: right;\">\n",
       "      <th></th>\n",
       "      <th>Unnamed: 0</th>\n",
       "      <th>id</th>\n",
       "      <th>mb_used</th>\n",
       "      <th>session_date</th>\n",
       "      <th>user_id</th>\n",
       "    </tr>\n",
       "  </thead>\n",
       "  <tbody>\n",
       "    <tr>\n",
       "      <th>0</th>\n",
       "      <td>0</td>\n",
       "      <td>1000_0</td>\n",
       "      <td>112.95</td>\n",
       "      <td>2018-11-25</td>\n",
       "      <td>1000</td>\n",
       "    </tr>\n",
       "    <tr>\n",
       "      <th>1</th>\n",
       "      <td>1</td>\n",
       "      <td>1000_1</td>\n",
       "      <td>1052.81</td>\n",
       "      <td>2018-09-07</td>\n",
       "      <td>1000</td>\n",
       "    </tr>\n",
       "    <tr>\n",
       "      <th>2</th>\n",
       "      <td>2</td>\n",
       "      <td>1000_2</td>\n",
       "      <td>1197.26</td>\n",
       "      <td>2018-06-25</td>\n",
       "      <td>1000</td>\n",
       "    </tr>\n",
       "    <tr>\n",
       "      <th>3</th>\n",
       "      <td>3</td>\n",
       "      <td>1000_3</td>\n",
       "      <td>550.27</td>\n",
       "      <td>2018-08-22</td>\n",
       "      <td>1000</td>\n",
       "    </tr>\n",
       "    <tr>\n",
       "      <th>4</th>\n",
       "      <td>4</td>\n",
       "      <td>1000_4</td>\n",
       "      <td>302.56</td>\n",
       "      <td>2018-09-24</td>\n",
       "      <td>1000</td>\n",
       "    </tr>\n",
       "  </tbody>\n",
       "</table>\n",
       "</div>"
      ],
      "text/plain": [
       "   Unnamed: 0      id  mb_used session_date  user_id\n",
       "0           0  1000_0   112.95   2018-11-25     1000\n",
       "1           1  1000_1  1052.81   2018-09-07     1000\n",
       "2           2  1000_2  1197.26   2018-06-25     1000\n",
       "3           3  1000_3   550.27   2018-08-22     1000\n",
       "4           4  1000_4   302.56   2018-09-24     1000"
      ]
     },
     "metadata": {},
     "output_type": "display_data"
    },
    {
     "name": "stdout",
     "output_type": "stream",
     "text": [
      "--------------------------------------\n",
      "Размер:\n",
      "(149396, 5)\n",
      "--------------------------------------\n",
      "Информация:\n",
      "<class 'pandas.core.frame.DataFrame'>\n",
      "RangeIndex: 149396 entries, 0 to 149395\n",
      "Data columns (total 5 columns):\n",
      " #   Column        Non-Null Count   Dtype  \n",
      "---  ------        --------------   -----  \n",
      " 0   Unnamed: 0    149396 non-null  int64  \n",
      " 1   id            149396 non-null  object \n",
      " 2   mb_used       149396 non-null  float64\n",
      " 3   session_date  149396 non-null  object \n",
      " 4   user_id       149396 non-null  int64  \n",
      "dtypes: float64(1), int64(2), object(2)\n",
      "memory usage: 5.7+ MB\n",
      "None\n",
      "--------------------------------------\n",
      "Дубликаты:\n",
      "0\n",
      "--------------------------------------\n",
      "Пропуски:\n",
      "Unnamed: 0      0\n",
      "id              0\n",
      "mb_used         0\n",
      "session_date    0\n",
      "user_id         0\n",
      "dtype: int64\n",
      "--------------------------------------\n",
      "Описание данных:\n"
     ]
    },
    {
     "data": {
      "text/html": [
       "<div>\n",
       "<style scoped>\n",
       "    .dataframe tbody tr th:only-of-type {\n",
       "        vertical-align: middle;\n",
       "    }\n",
       "\n",
       "    .dataframe tbody tr th {\n",
       "        vertical-align: top;\n",
       "    }\n",
       "\n",
       "    .dataframe thead th {\n",
       "        text-align: right;\n",
       "    }\n",
       "</style>\n",
       "<table border=\"1\" class=\"dataframe\">\n",
       "  <thead>\n",
       "    <tr style=\"text-align: right;\">\n",
       "      <th></th>\n",
       "      <th>Unnamed: 0</th>\n",
       "      <th>id</th>\n",
       "      <th>mb_used</th>\n",
       "      <th>session_date</th>\n",
       "      <th>user_id</th>\n",
       "    </tr>\n",
       "  </thead>\n",
       "  <tbody>\n",
       "    <tr>\n",
       "      <th>count</th>\n",
       "      <td>149396.000000</td>\n",
       "      <td>149396</td>\n",
       "      <td>149396.000000</td>\n",
       "      <td>149396</td>\n",
       "      <td>149396.000000</td>\n",
       "    </tr>\n",
       "    <tr>\n",
       "      <th>unique</th>\n",
       "      <td>NaN</td>\n",
       "      <td>149396</td>\n",
       "      <td>NaN</td>\n",
       "      <td>365</td>\n",
       "      <td>NaN</td>\n",
       "    </tr>\n",
       "    <tr>\n",
       "      <th>top</th>\n",
       "      <td>NaN</td>\n",
       "      <td>1000_0</td>\n",
       "      <td>NaN</td>\n",
       "      <td>2018-12-31</td>\n",
       "      <td>NaN</td>\n",
       "    </tr>\n",
       "    <tr>\n",
       "      <th>freq</th>\n",
       "      <td>NaN</td>\n",
       "      <td>1</td>\n",
       "      <td>NaN</td>\n",
       "      <td>1057</td>\n",
       "      <td>NaN</td>\n",
       "    </tr>\n",
       "    <tr>\n",
       "      <th>mean</th>\n",
       "      <td>74697.500000</td>\n",
       "      <td>NaN</td>\n",
       "      <td>370.192426</td>\n",
       "      <td>NaN</td>\n",
       "      <td>1252.099842</td>\n",
       "    </tr>\n",
       "    <tr>\n",
       "      <th>std</th>\n",
       "      <td>43127.054745</td>\n",
       "      <td>NaN</td>\n",
       "      <td>278.300951</td>\n",
       "      <td>NaN</td>\n",
       "      <td>144.050823</td>\n",
       "    </tr>\n",
       "    <tr>\n",
       "      <th>min</th>\n",
       "      <td>0.000000</td>\n",
       "      <td>NaN</td>\n",
       "      <td>0.000000</td>\n",
       "      <td>NaN</td>\n",
       "      <td>1000.000000</td>\n",
       "    </tr>\n",
       "    <tr>\n",
       "      <th>25%</th>\n",
       "      <td>37348.750000</td>\n",
       "      <td>NaN</td>\n",
       "      <td>138.187500</td>\n",
       "      <td>NaN</td>\n",
       "      <td>1130.000000</td>\n",
       "    </tr>\n",
       "    <tr>\n",
       "      <th>50%</th>\n",
       "      <td>74697.500000</td>\n",
       "      <td>NaN</td>\n",
       "      <td>348.015000</td>\n",
       "      <td>NaN</td>\n",
       "      <td>1251.000000</td>\n",
       "    </tr>\n",
       "    <tr>\n",
       "      <th>75%</th>\n",
       "      <td>112046.250000</td>\n",
       "      <td>NaN</td>\n",
       "      <td>559.552500</td>\n",
       "      <td>NaN</td>\n",
       "      <td>1380.000000</td>\n",
       "    </tr>\n",
       "    <tr>\n",
       "      <th>max</th>\n",
       "      <td>149395.000000</td>\n",
       "      <td>NaN</td>\n",
       "      <td>1724.830000</td>\n",
       "      <td>NaN</td>\n",
       "      <td>1499.000000</td>\n",
       "    </tr>\n",
       "  </tbody>\n",
       "</table>\n",
       "</div>"
      ],
      "text/plain": [
       "           Unnamed: 0      id        mb_used session_date        user_id\n",
       "count   149396.000000  149396  149396.000000       149396  149396.000000\n",
       "unique            NaN  149396            NaN          365            NaN\n",
       "top               NaN  1000_0            NaN   2018-12-31            NaN\n",
       "freq              NaN       1            NaN         1057            NaN\n",
       "mean     74697.500000     NaN     370.192426          NaN    1252.099842\n",
       "std      43127.054745     NaN     278.300951          NaN     144.050823\n",
       "min          0.000000     NaN       0.000000          NaN    1000.000000\n",
       "25%      37348.750000     NaN     138.187500          NaN    1130.000000\n",
       "50%      74697.500000     NaN     348.015000          NaN    1251.000000\n",
       "75%     112046.250000     NaN     559.552500          NaN    1380.000000\n",
       "max     149395.000000     NaN    1724.830000          NaN    1499.000000"
      ]
     },
     "metadata": {},
     "output_type": "display_data"
    }
   ],
   "source": [
    "review_df(internet)"
   ]
  },
  {
   "cell_type": "markdown",
   "metadata": {},
   "source": [
    "Количество ненулевых значений совпадает с количеством строк, пропусков нет. "
   ]
  },
  {
   "cell_type": "markdown",
   "metadata": {},
   "source": [
    "Столбец 'session_date' содержит дату. Изменим тип данных на дату."
   ]
  },
  {
   "cell_type": "code",
   "execution_count": 8,
   "metadata": {},
   "outputs": [
    {
     "data": {
      "text/plain": [
       "0    2018-11-25\n",
       "1    2018-09-07\n",
       "2    2018-06-25\n",
       "Name: session_date, dtype: object"
      ]
     },
     "metadata": {},
     "output_type": "display_data"
    },
    {
     "data": {
      "text/plain": [
       "0   2018-11-25\n",
       "1   2018-09-07\n",
       "2   2018-06-25\n",
       "Name: session_date, dtype: datetime64[ns]"
      ]
     },
     "execution_count": 8,
     "metadata": {},
     "output_type": "execute_result"
    }
   ],
   "source": [
    "display(internet['session_date'].head(3))\n",
    "internet['session_date'] = pd.to_datetime(internet['session_date'], format='%Y-%m-%d')\n",
    "internet['session_date'].head(3) #посмотрим на результат и тип данных"
   ]
  },
  {
   "cell_type": "markdown",
   "metadata": {},
   "source": [
    "#### Таблица messages "
   ]
  },
  {
   "cell_type": "markdown",
   "metadata": {},
   "source": [
    "Таблица messages (информация о сообщениях):\n",
    "* id — уникальный номер сообщения\n",
    "* message_date — дата сообщения\n",
    "* user_id — идентификатор пользователя, отправившего сообщение"
   ]
  },
  {
   "cell_type": "code",
   "execution_count": 9,
   "metadata": {
    "scrolled": false
   },
   "outputs": [
    {
     "data": {
      "text/html": [
       "<div>\n",
       "<style scoped>\n",
       "    .dataframe tbody tr th:only-of-type {\n",
       "        vertical-align: middle;\n",
       "    }\n",
       "\n",
       "    .dataframe tbody tr th {\n",
       "        vertical-align: top;\n",
       "    }\n",
       "\n",
       "    .dataframe thead th {\n",
       "        text-align: right;\n",
       "    }\n",
       "</style>\n",
       "<table border=\"1\" class=\"dataframe\">\n",
       "  <thead>\n",
       "    <tr style=\"text-align: right;\">\n",
       "      <th></th>\n",
       "      <th>id</th>\n",
       "      <th>message_date</th>\n",
       "      <th>user_id</th>\n",
       "    </tr>\n",
       "  </thead>\n",
       "  <tbody>\n",
       "    <tr>\n",
       "      <th>0</th>\n",
       "      <td>1000_0</td>\n",
       "      <td>2018-06-27</td>\n",
       "      <td>1000</td>\n",
       "    </tr>\n",
       "    <tr>\n",
       "      <th>1</th>\n",
       "      <td>1000_1</td>\n",
       "      <td>2018-10-08</td>\n",
       "      <td>1000</td>\n",
       "    </tr>\n",
       "    <tr>\n",
       "      <th>2</th>\n",
       "      <td>1000_2</td>\n",
       "      <td>2018-08-04</td>\n",
       "      <td>1000</td>\n",
       "    </tr>\n",
       "    <tr>\n",
       "      <th>3</th>\n",
       "      <td>1000_3</td>\n",
       "      <td>2018-06-16</td>\n",
       "      <td>1000</td>\n",
       "    </tr>\n",
       "    <tr>\n",
       "      <th>4</th>\n",
       "      <td>1000_4</td>\n",
       "      <td>2018-12-05</td>\n",
       "      <td>1000</td>\n",
       "    </tr>\n",
       "  </tbody>\n",
       "</table>\n",
       "</div>"
      ],
      "text/plain": [
       "       id message_date  user_id\n",
       "0  1000_0   2018-06-27     1000\n",
       "1  1000_1   2018-10-08     1000\n",
       "2  1000_2   2018-08-04     1000\n",
       "3  1000_3   2018-06-16     1000\n",
       "4  1000_4   2018-12-05     1000"
      ]
     },
     "metadata": {},
     "output_type": "display_data"
    },
    {
     "name": "stdout",
     "output_type": "stream",
     "text": [
      "--------------------------------------\n",
      "Размер:\n",
      "(123036, 3)\n",
      "--------------------------------------\n",
      "Информация:\n",
      "<class 'pandas.core.frame.DataFrame'>\n",
      "RangeIndex: 123036 entries, 0 to 123035\n",
      "Data columns (total 3 columns):\n",
      " #   Column        Non-Null Count   Dtype \n",
      "---  ------        --------------   ----- \n",
      " 0   id            123036 non-null  object\n",
      " 1   message_date  123036 non-null  object\n",
      " 2   user_id       123036 non-null  int64 \n",
      "dtypes: int64(1), object(2)\n",
      "memory usage: 2.8+ MB\n",
      "None\n",
      "--------------------------------------\n",
      "Дубликаты:\n",
      "0\n",
      "--------------------------------------\n",
      "Пропуски:\n",
      "id              0\n",
      "message_date    0\n",
      "user_id         0\n",
      "dtype: int64\n",
      "--------------------------------------\n",
      "Описание данных:\n"
     ]
    },
    {
     "data": {
      "text/html": [
       "<div>\n",
       "<style scoped>\n",
       "    .dataframe tbody tr th:only-of-type {\n",
       "        vertical-align: middle;\n",
       "    }\n",
       "\n",
       "    .dataframe tbody tr th {\n",
       "        vertical-align: top;\n",
       "    }\n",
       "\n",
       "    .dataframe thead th {\n",
       "        text-align: right;\n",
       "    }\n",
       "</style>\n",
       "<table border=\"1\" class=\"dataframe\">\n",
       "  <thead>\n",
       "    <tr style=\"text-align: right;\">\n",
       "      <th></th>\n",
       "      <th>id</th>\n",
       "      <th>message_date</th>\n",
       "      <th>user_id</th>\n",
       "    </tr>\n",
       "  </thead>\n",
       "  <tbody>\n",
       "    <tr>\n",
       "      <th>count</th>\n",
       "      <td>123036</td>\n",
       "      <td>123036</td>\n",
       "      <td>123036.000000</td>\n",
       "    </tr>\n",
       "    <tr>\n",
       "      <th>unique</th>\n",
       "      <td>123036</td>\n",
       "      <td>364</td>\n",
       "      <td>NaN</td>\n",
       "    </tr>\n",
       "    <tr>\n",
       "      <th>top</th>\n",
       "      <td>1000_0</td>\n",
       "      <td>2018-12-31</td>\n",
       "      <td>NaN</td>\n",
       "    </tr>\n",
       "    <tr>\n",
       "      <th>freq</th>\n",
       "      <td>1</td>\n",
       "      <td>859</td>\n",
       "      <td>NaN</td>\n",
       "    </tr>\n",
       "    <tr>\n",
       "      <th>mean</th>\n",
       "      <td>NaN</td>\n",
       "      <td>NaN</td>\n",
       "      <td>1256.989410</td>\n",
       "    </tr>\n",
       "    <tr>\n",
       "      <th>std</th>\n",
       "      <td>NaN</td>\n",
       "      <td>NaN</td>\n",
       "      <td>143.523967</td>\n",
       "    </tr>\n",
       "    <tr>\n",
       "      <th>min</th>\n",
       "      <td>NaN</td>\n",
       "      <td>NaN</td>\n",
       "      <td>1000.000000</td>\n",
       "    </tr>\n",
       "    <tr>\n",
       "      <th>25%</th>\n",
       "      <td>NaN</td>\n",
       "      <td>NaN</td>\n",
       "      <td>1134.000000</td>\n",
       "    </tr>\n",
       "    <tr>\n",
       "      <th>50%</th>\n",
       "      <td>NaN</td>\n",
       "      <td>NaN</td>\n",
       "      <td>1271.000000</td>\n",
       "    </tr>\n",
       "    <tr>\n",
       "      <th>75%</th>\n",
       "      <td>NaN</td>\n",
       "      <td>NaN</td>\n",
       "      <td>1381.000000</td>\n",
       "    </tr>\n",
       "    <tr>\n",
       "      <th>max</th>\n",
       "      <td>NaN</td>\n",
       "      <td>NaN</td>\n",
       "      <td>1499.000000</td>\n",
       "    </tr>\n",
       "  </tbody>\n",
       "</table>\n",
       "</div>"
      ],
      "text/plain": [
       "            id message_date        user_id\n",
       "count   123036       123036  123036.000000\n",
       "unique  123036          364            NaN\n",
       "top     1000_0   2018-12-31            NaN\n",
       "freq         1          859            NaN\n",
       "mean       NaN          NaN    1256.989410\n",
       "std        NaN          NaN     143.523967\n",
       "min        NaN          NaN    1000.000000\n",
       "25%        NaN          NaN    1134.000000\n",
       "50%        NaN          NaN    1271.000000\n",
       "75%        NaN          NaN    1381.000000\n",
       "max        NaN          NaN    1499.000000"
      ]
     },
     "metadata": {},
     "output_type": "display_data"
    }
   ],
   "source": [
    "review_df(messages)"
   ]
  },
  {
   "cell_type": "markdown",
   "metadata": {},
   "source": [
    "Количество ненулевых значений совпадает с количеством строк, пропусков нет. "
   ]
  },
  {
   "cell_type": "markdown",
   "metadata": {},
   "source": [
    "Столбец 'message_date' содержит дату. Изменим тип данных на дату."
   ]
  },
  {
   "cell_type": "code",
   "execution_count": 10,
   "metadata": {},
   "outputs": [
    {
     "data": {
      "text/plain": [
       "0   2018-06-27\n",
       "1   2018-10-08\n",
       "2   2018-08-04\n",
       "Name: message_date, dtype: datetime64[ns]"
      ]
     },
     "execution_count": 10,
     "metadata": {},
     "output_type": "execute_result"
    }
   ],
   "source": [
    "messages['message_date'] = pd.to_datetime(messages['message_date'], format='%Y-%m-%d')\n",
    "messages['message_date'].head(3) #посмотрим на результат и тип данных"
   ]
  },
  {
   "cell_type": "markdown",
   "metadata": {},
   "source": [
    "#### Таблица tariffs "
   ]
  },
  {
   "cell_type": "markdown",
   "metadata": {},
   "source": [
    "Таблица tariffs (информация о тарифах):\n",
    "- tariff_name — название тарифа\n",
    "- rub_monthly_fee — ежемесячная абонентская плата в рублях\n",
    "- minutes_included — количество минут разговора в месяц, включённых в абонентскую плату\n",
    "- messages_included — количество сообщений в месяц, включённых в абонентскую плату\n",
    "- mb_per_month_included — объём интернет-трафика, включённого в абонентскую плату (в мегабайтах)\n",
    "- rub_per_minute — стоимость минуты разговора сверх тарифного пакета (например, если в тарифе 100 минут разговора в месяц, то со 101 минуты будет взиматься плата)\n",
    "- rub_per_message — стоимость отправки сообщения сверх тарифного пакета\n",
    "- rub_per_gb — стоимость дополнительного гигабайта интернет-трафика сверх тарифного пакета (1 гигабайт = 1024 мегабайта)"
   ]
  },
  {
   "cell_type": "code",
   "execution_count": 11,
   "metadata": {},
   "outputs": [
    {
     "data": {
      "text/html": [
       "<div>\n",
       "<style scoped>\n",
       "    .dataframe tbody tr th:only-of-type {\n",
       "        vertical-align: middle;\n",
       "    }\n",
       "\n",
       "    .dataframe tbody tr th {\n",
       "        vertical-align: top;\n",
       "    }\n",
       "\n",
       "    .dataframe thead th {\n",
       "        text-align: right;\n",
       "    }\n",
       "</style>\n",
       "<table border=\"1\" class=\"dataframe\">\n",
       "  <thead>\n",
       "    <tr style=\"text-align: right;\">\n",
       "      <th></th>\n",
       "      <th>messages_included</th>\n",
       "      <th>mb_per_month_included</th>\n",
       "      <th>minutes_included</th>\n",
       "      <th>rub_monthly_fee</th>\n",
       "      <th>rub_per_gb</th>\n",
       "      <th>rub_per_message</th>\n",
       "      <th>rub_per_minute</th>\n",
       "      <th>tariff_name</th>\n",
       "    </tr>\n",
       "  </thead>\n",
       "  <tbody>\n",
       "    <tr>\n",
       "      <th>0</th>\n",
       "      <td>50</td>\n",
       "      <td>15360</td>\n",
       "      <td>500</td>\n",
       "      <td>550</td>\n",
       "      <td>200</td>\n",
       "      <td>3</td>\n",
       "      <td>3</td>\n",
       "      <td>smart</td>\n",
       "    </tr>\n",
       "    <tr>\n",
       "      <th>1</th>\n",
       "      <td>1000</td>\n",
       "      <td>30720</td>\n",
       "      <td>3000</td>\n",
       "      <td>1950</td>\n",
       "      <td>150</td>\n",
       "      <td>1</td>\n",
       "      <td>1</td>\n",
       "      <td>ultra</td>\n",
       "    </tr>\n",
       "  </tbody>\n",
       "</table>\n",
       "</div>"
      ],
      "text/plain": [
       "   messages_included  mb_per_month_included  minutes_included  \\\n",
       "0                 50                  15360               500   \n",
       "1               1000                  30720              3000   \n",
       "\n",
       "   rub_monthly_fee  rub_per_gb  rub_per_message  rub_per_minute tariff_name  \n",
       "0              550         200                3               3       smart  \n",
       "1             1950         150                1               1       ultra  "
      ]
     },
     "metadata": {},
     "output_type": "display_data"
    },
    {
     "name": "stdout",
     "output_type": "stream",
     "text": [
      "--------------------------------------\n",
      "Размер:\n",
      "(2, 8)\n",
      "--------------------------------------\n",
      "Информация:\n",
      "<class 'pandas.core.frame.DataFrame'>\n",
      "RangeIndex: 2 entries, 0 to 1\n",
      "Data columns (total 8 columns):\n",
      " #   Column                 Non-Null Count  Dtype \n",
      "---  ------                 --------------  ----- \n",
      " 0   messages_included      2 non-null      int64 \n",
      " 1   mb_per_month_included  2 non-null      int64 \n",
      " 2   minutes_included       2 non-null      int64 \n",
      " 3   rub_monthly_fee        2 non-null      int64 \n",
      " 4   rub_per_gb             2 non-null      int64 \n",
      " 5   rub_per_message        2 non-null      int64 \n",
      " 6   rub_per_minute         2 non-null      int64 \n",
      " 7   tariff_name            2 non-null      object\n",
      "dtypes: int64(7), object(1)\n",
      "memory usage: 256.0+ bytes\n",
      "None\n",
      "--------------------------------------\n",
      "Дубликаты:\n",
      "0\n",
      "--------------------------------------\n",
      "Пропуски:\n",
      "messages_included        0\n",
      "mb_per_month_included    0\n",
      "minutes_included         0\n",
      "rub_monthly_fee          0\n",
      "rub_per_gb               0\n",
      "rub_per_message          0\n",
      "rub_per_minute           0\n",
      "tariff_name              0\n",
      "dtype: int64\n",
      "--------------------------------------\n",
      "Описание данных:\n"
     ]
    },
    {
     "data": {
      "text/html": [
       "<div>\n",
       "<style scoped>\n",
       "    .dataframe tbody tr th:only-of-type {\n",
       "        vertical-align: middle;\n",
       "    }\n",
       "\n",
       "    .dataframe tbody tr th {\n",
       "        vertical-align: top;\n",
       "    }\n",
       "\n",
       "    .dataframe thead th {\n",
       "        text-align: right;\n",
       "    }\n",
       "</style>\n",
       "<table border=\"1\" class=\"dataframe\">\n",
       "  <thead>\n",
       "    <tr style=\"text-align: right;\">\n",
       "      <th></th>\n",
       "      <th>messages_included</th>\n",
       "      <th>mb_per_month_included</th>\n",
       "      <th>minutes_included</th>\n",
       "      <th>rub_monthly_fee</th>\n",
       "      <th>rub_per_gb</th>\n",
       "      <th>rub_per_message</th>\n",
       "      <th>rub_per_minute</th>\n",
       "      <th>tariff_name</th>\n",
       "    </tr>\n",
       "  </thead>\n",
       "  <tbody>\n",
       "    <tr>\n",
       "      <th>count</th>\n",
       "      <td>2.000000</td>\n",
       "      <td>2.000000</td>\n",
       "      <td>2.000000</td>\n",
       "      <td>2.000000</td>\n",
       "      <td>2.000000</td>\n",
       "      <td>2.000000</td>\n",
       "      <td>2.000000</td>\n",
       "      <td>2</td>\n",
       "    </tr>\n",
       "    <tr>\n",
       "      <th>unique</th>\n",
       "      <td>NaN</td>\n",
       "      <td>NaN</td>\n",
       "      <td>NaN</td>\n",
       "      <td>NaN</td>\n",
       "      <td>NaN</td>\n",
       "      <td>NaN</td>\n",
       "      <td>NaN</td>\n",
       "      <td>2</td>\n",
       "    </tr>\n",
       "    <tr>\n",
       "      <th>top</th>\n",
       "      <td>NaN</td>\n",
       "      <td>NaN</td>\n",
       "      <td>NaN</td>\n",
       "      <td>NaN</td>\n",
       "      <td>NaN</td>\n",
       "      <td>NaN</td>\n",
       "      <td>NaN</td>\n",
       "      <td>smart</td>\n",
       "    </tr>\n",
       "    <tr>\n",
       "      <th>freq</th>\n",
       "      <td>NaN</td>\n",
       "      <td>NaN</td>\n",
       "      <td>NaN</td>\n",
       "      <td>NaN</td>\n",
       "      <td>NaN</td>\n",
       "      <td>NaN</td>\n",
       "      <td>NaN</td>\n",
       "      <td>1</td>\n",
       "    </tr>\n",
       "    <tr>\n",
       "      <th>mean</th>\n",
       "      <td>525.000000</td>\n",
       "      <td>23040.000000</td>\n",
       "      <td>1750.000000</td>\n",
       "      <td>1250.000000</td>\n",
       "      <td>175.000000</td>\n",
       "      <td>2.000000</td>\n",
       "      <td>2.000000</td>\n",
       "      <td>NaN</td>\n",
       "    </tr>\n",
       "    <tr>\n",
       "      <th>std</th>\n",
       "      <td>671.751442</td>\n",
       "      <td>10861.160159</td>\n",
       "      <td>1767.766953</td>\n",
       "      <td>989.949494</td>\n",
       "      <td>35.355339</td>\n",
       "      <td>1.414214</td>\n",
       "      <td>1.414214</td>\n",
       "      <td>NaN</td>\n",
       "    </tr>\n",
       "    <tr>\n",
       "      <th>min</th>\n",
       "      <td>50.000000</td>\n",
       "      <td>15360.000000</td>\n",
       "      <td>500.000000</td>\n",
       "      <td>550.000000</td>\n",
       "      <td>150.000000</td>\n",
       "      <td>1.000000</td>\n",
       "      <td>1.000000</td>\n",
       "      <td>NaN</td>\n",
       "    </tr>\n",
       "    <tr>\n",
       "      <th>25%</th>\n",
       "      <td>287.500000</td>\n",
       "      <td>19200.000000</td>\n",
       "      <td>1125.000000</td>\n",
       "      <td>900.000000</td>\n",
       "      <td>162.500000</td>\n",
       "      <td>1.500000</td>\n",
       "      <td>1.500000</td>\n",
       "      <td>NaN</td>\n",
       "    </tr>\n",
       "    <tr>\n",
       "      <th>50%</th>\n",
       "      <td>525.000000</td>\n",
       "      <td>23040.000000</td>\n",
       "      <td>1750.000000</td>\n",
       "      <td>1250.000000</td>\n",
       "      <td>175.000000</td>\n",
       "      <td>2.000000</td>\n",
       "      <td>2.000000</td>\n",
       "      <td>NaN</td>\n",
       "    </tr>\n",
       "    <tr>\n",
       "      <th>75%</th>\n",
       "      <td>762.500000</td>\n",
       "      <td>26880.000000</td>\n",
       "      <td>2375.000000</td>\n",
       "      <td>1600.000000</td>\n",
       "      <td>187.500000</td>\n",
       "      <td>2.500000</td>\n",
       "      <td>2.500000</td>\n",
       "      <td>NaN</td>\n",
       "    </tr>\n",
       "    <tr>\n",
       "      <th>max</th>\n",
       "      <td>1000.000000</td>\n",
       "      <td>30720.000000</td>\n",
       "      <td>3000.000000</td>\n",
       "      <td>1950.000000</td>\n",
       "      <td>200.000000</td>\n",
       "      <td>3.000000</td>\n",
       "      <td>3.000000</td>\n",
       "      <td>NaN</td>\n",
       "    </tr>\n",
       "  </tbody>\n",
       "</table>\n",
       "</div>"
      ],
      "text/plain": [
       "        messages_included  mb_per_month_included  minutes_included  \\\n",
       "count            2.000000               2.000000          2.000000   \n",
       "unique                NaN                    NaN               NaN   \n",
       "top                   NaN                    NaN               NaN   \n",
       "freq                  NaN                    NaN               NaN   \n",
       "mean           525.000000           23040.000000       1750.000000   \n",
       "std            671.751442           10861.160159       1767.766953   \n",
       "min             50.000000           15360.000000        500.000000   \n",
       "25%            287.500000           19200.000000       1125.000000   \n",
       "50%            525.000000           23040.000000       1750.000000   \n",
       "75%            762.500000           26880.000000       2375.000000   \n",
       "max           1000.000000           30720.000000       3000.000000   \n",
       "\n",
       "        rub_monthly_fee  rub_per_gb  rub_per_message  rub_per_minute  \\\n",
       "count          2.000000    2.000000         2.000000        2.000000   \n",
       "unique              NaN         NaN              NaN             NaN   \n",
       "top                 NaN         NaN              NaN             NaN   \n",
       "freq                NaN         NaN              NaN             NaN   \n",
       "mean        1250.000000  175.000000         2.000000        2.000000   \n",
       "std          989.949494   35.355339         1.414214        1.414214   \n",
       "min          550.000000  150.000000         1.000000        1.000000   \n",
       "25%          900.000000  162.500000         1.500000        1.500000   \n",
       "50%         1250.000000  175.000000         2.000000        2.000000   \n",
       "75%         1600.000000  187.500000         2.500000        2.500000   \n",
       "max         1950.000000  200.000000         3.000000        3.000000   \n",
       "\n",
       "       tariff_name  \n",
       "count            2  \n",
       "unique           2  \n",
       "top          smart  \n",
       "freq             1  \n",
       "mean           NaN  \n",
       "std            NaN  \n",
       "min            NaN  \n",
       "25%            NaN  \n",
       "50%            NaN  \n",
       "75%            NaN  \n",
       "max            NaN  "
      ]
     },
     "metadata": {},
     "output_type": "display_data"
    }
   ],
   "source": [
    "review_df(tariffs)"
   ]
  },
  {
   "cell_type": "markdown",
   "metadata": {},
   "source": [
    "#### Таблица users "
   ]
  },
  {
   "cell_type": "markdown",
   "metadata": {},
   "source": [
    "Таблица users (информация о пользователях):\n",
    "- user_id — уникальный идентификатор пользователя\n",
    "- first_name — имя пользователя\n",
    "- last_name — фамилия пользователя\n",
    "- age — возраст пользователя (годы)\n",
    "- reg_date — дата подключения тарифа (день, месяц, год)\n",
    "- churn_date — дата прекращения пользования тарифом (если значение пропущено, то тариф ещё действовал на момент выгрузки данных)\n",
    "- city — город проживания пользователя\n",
    "- tariff — название тарифного плана"
   ]
  },
  {
   "cell_type": "code",
   "execution_count": 12,
   "metadata": {},
   "outputs": [
    {
     "data": {
      "text/html": [
       "<div>\n",
       "<style scoped>\n",
       "    .dataframe tbody tr th:only-of-type {\n",
       "        vertical-align: middle;\n",
       "    }\n",
       "\n",
       "    .dataframe tbody tr th {\n",
       "        vertical-align: top;\n",
       "    }\n",
       "\n",
       "    .dataframe thead th {\n",
       "        text-align: right;\n",
       "    }\n",
       "</style>\n",
       "<table border=\"1\" class=\"dataframe\">\n",
       "  <thead>\n",
       "    <tr style=\"text-align: right;\">\n",
       "      <th></th>\n",
       "      <th>user_id</th>\n",
       "      <th>age</th>\n",
       "      <th>churn_date</th>\n",
       "      <th>city</th>\n",
       "      <th>first_name</th>\n",
       "      <th>last_name</th>\n",
       "      <th>reg_date</th>\n",
       "      <th>tariff</th>\n",
       "    </tr>\n",
       "  </thead>\n",
       "  <tbody>\n",
       "    <tr>\n",
       "      <th>0</th>\n",
       "      <td>1000</td>\n",
       "      <td>52</td>\n",
       "      <td>NaN</td>\n",
       "      <td>Краснодар</td>\n",
       "      <td>Рафаил</td>\n",
       "      <td>Верещагин</td>\n",
       "      <td>2018-05-25</td>\n",
       "      <td>ultra</td>\n",
       "    </tr>\n",
       "    <tr>\n",
       "      <th>1</th>\n",
       "      <td>1001</td>\n",
       "      <td>41</td>\n",
       "      <td>NaN</td>\n",
       "      <td>Москва</td>\n",
       "      <td>Иван</td>\n",
       "      <td>Ежов</td>\n",
       "      <td>2018-11-01</td>\n",
       "      <td>smart</td>\n",
       "    </tr>\n",
       "    <tr>\n",
       "      <th>2</th>\n",
       "      <td>1002</td>\n",
       "      <td>59</td>\n",
       "      <td>NaN</td>\n",
       "      <td>Стерлитамак</td>\n",
       "      <td>Евгений</td>\n",
       "      <td>Абрамович</td>\n",
       "      <td>2018-06-17</td>\n",
       "      <td>smart</td>\n",
       "    </tr>\n",
       "    <tr>\n",
       "      <th>3</th>\n",
       "      <td>1003</td>\n",
       "      <td>23</td>\n",
       "      <td>NaN</td>\n",
       "      <td>Москва</td>\n",
       "      <td>Белла</td>\n",
       "      <td>Белякова</td>\n",
       "      <td>2018-08-17</td>\n",
       "      <td>ultra</td>\n",
       "    </tr>\n",
       "    <tr>\n",
       "      <th>4</th>\n",
       "      <td>1004</td>\n",
       "      <td>68</td>\n",
       "      <td>NaN</td>\n",
       "      <td>Новокузнецк</td>\n",
       "      <td>Татьяна</td>\n",
       "      <td>Авдеенко</td>\n",
       "      <td>2018-05-14</td>\n",
       "      <td>ultra</td>\n",
       "    </tr>\n",
       "  </tbody>\n",
       "</table>\n",
       "</div>"
      ],
      "text/plain": [
       "   user_id  age churn_date         city first_name  last_name    reg_date  \\\n",
       "0     1000   52        NaN    Краснодар     Рафаил  Верещагин  2018-05-25   \n",
       "1     1001   41        NaN       Москва       Иван       Ежов  2018-11-01   \n",
       "2     1002   59        NaN  Стерлитамак    Евгений  Абрамович  2018-06-17   \n",
       "3     1003   23        NaN       Москва      Белла   Белякова  2018-08-17   \n",
       "4     1004   68        NaN  Новокузнецк    Татьяна   Авдеенко  2018-05-14   \n",
       "\n",
       "  tariff  \n",
       "0  ultra  \n",
       "1  smart  \n",
       "2  smart  \n",
       "3  ultra  \n",
       "4  ultra  "
      ]
     },
     "metadata": {},
     "output_type": "display_data"
    },
    {
     "name": "stdout",
     "output_type": "stream",
     "text": [
      "--------------------------------------\n",
      "Размер:\n",
      "(500, 8)\n",
      "--------------------------------------\n",
      "Информация:\n",
      "<class 'pandas.core.frame.DataFrame'>\n",
      "RangeIndex: 500 entries, 0 to 499\n",
      "Data columns (total 8 columns):\n",
      " #   Column      Non-Null Count  Dtype \n",
      "---  ------      --------------  ----- \n",
      " 0   user_id     500 non-null    int64 \n",
      " 1   age         500 non-null    int64 \n",
      " 2   churn_date  38 non-null     object\n",
      " 3   city        500 non-null    object\n",
      " 4   first_name  500 non-null    object\n",
      " 5   last_name   500 non-null    object\n",
      " 6   reg_date    500 non-null    object\n",
      " 7   tariff      500 non-null    object\n",
      "dtypes: int64(2), object(6)\n",
      "memory usage: 31.4+ KB\n",
      "None\n",
      "--------------------------------------\n",
      "Дубликаты:\n",
      "0\n",
      "--------------------------------------\n",
      "Пропуски:\n",
      "user_id         0\n",
      "age             0\n",
      "churn_date    462\n",
      "city            0\n",
      "first_name      0\n",
      "last_name       0\n",
      "reg_date        0\n",
      "tariff          0\n",
      "dtype: int64\n",
      "--------------------------------------\n",
      "Описание данных:\n"
     ]
    },
    {
     "data": {
      "text/html": [
       "<div>\n",
       "<style scoped>\n",
       "    .dataframe tbody tr th:only-of-type {\n",
       "        vertical-align: middle;\n",
       "    }\n",
       "\n",
       "    .dataframe tbody tr th {\n",
       "        vertical-align: top;\n",
       "    }\n",
       "\n",
       "    .dataframe thead th {\n",
       "        text-align: right;\n",
       "    }\n",
       "</style>\n",
       "<table border=\"1\" class=\"dataframe\">\n",
       "  <thead>\n",
       "    <tr style=\"text-align: right;\">\n",
       "      <th></th>\n",
       "      <th>user_id</th>\n",
       "      <th>age</th>\n",
       "      <th>churn_date</th>\n",
       "      <th>city</th>\n",
       "      <th>first_name</th>\n",
       "      <th>last_name</th>\n",
       "      <th>reg_date</th>\n",
       "      <th>tariff</th>\n",
       "    </tr>\n",
       "  </thead>\n",
       "  <tbody>\n",
       "    <tr>\n",
       "      <th>count</th>\n",
       "      <td>500.000000</td>\n",
       "      <td>500.00000</td>\n",
       "      <td>38</td>\n",
       "      <td>500</td>\n",
       "      <td>500</td>\n",
       "      <td>500</td>\n",
       "      <td>500</td>\n",
       "      <td>500</td>\n",
       "    </tr>\n",
       "    <tr>\n",
       "      <th>unique</th>\n",
       "      <td>NaN</td>\n",
       "      <td>NaN</td>\n",
       "      <td>33</td>\n",
       "      <td>76</td>\n",
       "      <td>246</td>\n",
       "      <td>419</td>\n",
       "      <td>270</td>\n",
       "      <td>2</td>\n",
       "    </tr>\n",
       "    <tr>\n",
       "      <th>top</th>\n",
       "      <td>NaN</td>\n",
       "      <td>NaN</td>\n",
       "      <td>2018-12-03</td>\n",
       "      <td>Москва</td>\n",
       "      <td>Радим</td>\n",
       "      <td>Андреенко</td>\n",
       "      <td>2018-05-28</td>\n",
       "      <td>smart</td>\n",
       "    </tr>\n",
       "    <tr>\n",
       "      <th>freq</th>\n",
       "      <td>NaN</td>\n",
       "      <td>NaN</td>\n",
       "      <td>2</td>\n",
       "      <td>99</td>\n",
       "      <td>6</td>\n",
       "      <td>5</td>\n",
       "      <td>8</td>\n",
       "      <td>351</td>\n",
       "    </tr>\n",
       "    <tr>\n",
       "      <th>mean</th>\n",
       "      <td>1249.500000</td>\n",
       "      <td>46.58800</td>\n",
       "      <td>NaN</td>\n",
       "      <td>NaN</td>\n",
       "      <td>NaN</td>\n",
       "      <td>NaN</td>\n",
       "      <td>NaN</td>\n",
       "      <td>NaN</td>\n",
       "    </tr>\n",
       "    <tr>\n",
       "      <th>std</th>\n",
       "      <td>144.481833</td>\n",
       "      <td>16.66763</td>\n",
       "      <td>NaN</td>\n",
       "      <td>NaN</td>\n",
       "      <td>NaN</td>\n",
       "      <td>NaN</td>\n",
       "      <td>NaN</td>\n",
       "      <td>NaN</td>\n",
       "    </tr>\n",
       "    <tr>\n",
       "      <th>min</th>\n",
       "      <td>1000.000000</td>\n",
       "      <td>18.00000</td>\n",
       "      <td>NaN</td>\n",
       "      <td>NaN</td>\n",
       "      <td>NaN</td>\n",
       "      <td>NaN</td>\n",
       "      <td>NaN</td>\n",
       "      <td>NaN</td>\n",
       "    </tr>\n",
       "    <tr>\n",
       "      <th>25%</th>\n",
       "      <td>1124.750000</td>\n",
       "      <td>32.00000</td>\n",
       "      <td>NaN</td>\n",
       "      <td>NaN</td>\n",
       "      <td>NaN</td>\n",
       "      <td>NaN</td>\n",
       "      <td>NaN</td>\n",
       "      <td>NaN</td>\n",
       "    </tr>\n",
       "    <tr>\n",
       "      <th>50%</th>\n",
       "      <td>1249.500000</td>\n",
       "      <td>46.00000</td>\n",
       "      <td>NaN</td>\n",
       "      <td>NaN</td>\n",
       "      <td>NaN</td>\n",
       "      <td>NaN</td>\n",
       "      <td>NaN</td>\n",
       "      <td>NaN</td>\n",
       "    </tr>\n",
       "    <tr>\n",
       "      <th>75%</th>\n",
       "      <td>1374.250000</td>\n",
       "      <td>62.00000</td>\n",
       "      <td>NaN</td>\n",
       "      <td>NaN</td>\n",
       "      <td>NaN</td>\n",
       "      <td>NaN</td>\n",
       "      <td>NaN</td>\n",
       "      <td>NaN</td>\n",
       "    </tr>\n",
       "    <tr>\n",
       "      <th>max</th>\n",
       "      <td>1499.000000</td>\n",
       "      <td>75.00000</td>\n",
       "      <td>NaN</td>\n",
       "      <td>NaN</td>\n",
       "      <td>NaN</td>\n",
       "      <td>NaN</td>\n",
       "      <td>NaN</td>\n",
       "      <td>NaN</td>\n",
       "    </tr>\n",
       "  </tbody>\n",
       "</table>\n",
       "</div>"
      ],
      "text/plain": [
       "            user_id        age  churn_date    city first_name  last_name  \\\n",
       "count    500.000000  500.00000          38     500        500        500   \n",
       "unique          NaN        NaN          33      76        246        419   \n",
       "top             NaN        NaN  2018-12-03  Москва      Радим  Андреенко   \n",
       "freq            NaN        NaN           2      99          6          5   \n",
       "mean    1249.500000   46.58800         NaN     NaN        NaN        NaN   \n",
       "std      144.481833   16.66763         NaN     NaN        NaN        NaN   \n",
       "min     1000.000000   18.00000         NaN     NaN        NaN        NaN   \n",
       "25%     1124.750000   32.00000         NaN     NaN        NaN        NaN   \n",
       "50%     1249.500000   46.00000         NaN     NaN        NaN        NaN   \n",
       "75%     1374.250000   62.00000         NaN     NaN        NaN        NaN   \n",
       "max     1499.000000   75.00000         NaN     NaN        NaN        NaN   \n",
       "\n",
       "          reg_date tariff  \n",
       "count          500    500  \n",
       "unique         270      2  \n",
       "top     2018-05-28  smart  \n",
       "freq             8    351  \n",
       "mean           NaN    NaN  \n",
       "std            NaN    NaN  \n",
       "min            NaN    NaN  \n",
       "25%            NaN    NaN  \n",
       "50%            NaN    NaN  \n",
       "75%            NaN    NaN  \n",
       "max            NaN    NaN  "
      ]
     },
     "metadata": {},
     "output_type": "display_data"
    }
   ],
   "source": [
    "review_df(users)"
   ]
  },
  {
   "cell_type": "markdown",
   "metadata": {},
   "source": [
    "Количество заполненных значений совпадает с количеством строк, кроме столбца 'churn_date', где это означает, что тариф еще действует на момент выгрузки данных."
   ]
  },
  {
   "cell_type": "markdown",
   "metadata": {},
   "source": [
    "Столбец 'reg_date' содержит дату. Изменим тип данных на дату."
   ]
  },
  {
   "cell_type": "code",
   "execution_count": 13,
   "metadata": {},
   "outputs": [
    {
     "data": {
      "text/plain": [
       "0   2018-05-25\n",
       "1   2018-11-01\n",
       "2   2018-06-17\n",
       "Name: reg_date, dtype: datetime64[ns]"
      ]
     },
     "execution_count": 13,
     "metadata": {},
     "output_type": "execute_result"
    }
   ],
   "source": [
    "users['reg_date'] = pd.to_datetime(users['reg_date'], format='%Y-%m-%d')\n",
    "users['reg_date'].head(3) #посмотрим на результат и тип данных"
   ]
  },
  {
   "cell_type": "markdown",
   "metadata": {},
   "source": [
    "Изменим тип в столбцу 'churn_date'."
   ]
  },
  {
   "cell_type": "markdown",
   "metadata": {},
   "source": [
    "Только ненулевые значения:"
   ]
  },
  {
   "cell_type": "code",
   "execution_count": 14,
   "metadata": {},
   "outputs": [
    {
     "data": {
      "text/plain": [
       "19    2018-10-05\n",
       "20    2018-12-18\n",
       "34    2018-11-21\n",
       "50    2018-10-03\n",
       "51    2018-10-14\n",
       "56    2018-10-14\n",
       "62    2018-12-09\n",
       "63    2018-12-11\n",
       "64    2018-12-26\n",
       "65    2018-12-09\n",
       "Name: churn_date, dtype: object"
      ]
     },
     "execution_count": 14,
     "metadata": {},
     "output_type": "execute_result"
    }
   ],
   "source": [
    "users.loc[users['churn_date'].notna(), 'churn_date'].head(10) "
   ]
  },
  {
   "cell_type": "markdown",
   "metadata": {},
   "source": [
    "Изменим в них тип:"
   ]
  },
  {
   "cell_type": "code",
   "execution_count": 15,
   "metadata": {
    "scrolled": true
   },
   "outputs": [
    {
     "data": {
      "text/plain": [
       "19    2018-10-05 00:00:00\n",
       "20    2018-12-18 00:00:00\n",
       "34    2018-11-21 00:00:00\n",
       "50    2018-10-03 00:00:00\n",
       "51    2018-10-14 00:00:00\n",
       "56    2018-10-14 00:00:00\n",
       "62    2018-12-09 00:00:00\n",
       "63    2018-12-11 00:00:00\n",
       "64    2018-12-26 00:00:00\n",
       "65    2018-12-09 00:00:00\n",
       "Name: churn_date, dtype: object"
      ]
     },
     "execution_count": 15,
     "metadata": {},
     "output_type": "execute_result"
    }
   ],
   "source": [
    "users.loc[users['churn_date'].notna(), 'churn_date'] = pd.to_datetime(users['churn_date'], format='%Y-%m-%d')\n",
    "users.loc[users['churn_date'].notna(), 'churn_date'].head(10)  #посмотрим на результат"
   ]
  },
  {
   "cell_type": "markdown",
   "metadata": {},
   "source": [
    "Проверим тип данных:"
   ]
  },
  {
   "cell_type": "code",
   "execution_count": 16,
   "metadata": {},
   "outputs": [
    {
     "data": {
      "text/plain": [
       "Timestamp('2018-10-05 00:00:00')"
      ]
     },
     "execution_count": 16,
     "metadata": {},
     "output_type": "execute_result"
    }
   ],
   "source": [
    "users.loc[19, 'churn_date']"
   ]
  },
  {
   "cell_type": "markdown",
   "metadata": {},
   "source": [
    "Подойдёт."
   ]
  },
  {
   "cell_type": "markdown",
   "metadata": {},
   "source": [
    "### Исправление ошибок."
   ]
  },
  {
   "cell_type": "markdown",
   "metadata": {},
   "source": [
    "#### Таблица сalls "
   ]
  },
  {
   "cell_type": "code",
   "execution_count": 17,
   "metadata": {},
   "outputs": [
    {
     "data": {
      "text/html": [
       "<div>\n",
       "<style scoped>\n",
       "    .dataframe tbody tr th:only-of-type {\n",
       "        vertical-align: middle;\n",
       "    }\n",
       "\n",
       "    .dataframe tbody tr th {\n",
       "        vertical-align: top;\n",
       "    }\n",
       "\n",
       "    .dataframe thead th {\n",
       "        text-align: right;\n",
       "    }\n",
       "</style>\n",
       "<table border=\"1\" class=\"dataframe\">\n",
       "  <thead>\n",
       "    <tr style=\"text-align: right;\">\n",
       "      <th></th>\n",
       "      <th>id</th>\n",
       "      <th>call_date</th>\n",
       "      <th>duration</th>\n",
       "      <th>user_id</th>\n",
       "    </tr>\n",
       "  </thead>\n",
       "  <tbody>\n",
       "    <tr>\n",
       "      <th>0</th>\n",
       "      <td>1000_0</td>\n",
       "      <td>2018-07-25</td>\n",
       "      <td>0</td>\n",
       "      <td>1000</td>\n",
       "    </tr>\n",
       "    <tr>\n",
       "      <th>1</th>\n",
       "      <td>1000_1</td>\n",
       "      <td>2018-08-17</td>\n",
       "      <td>0</td>\n",
       "      <td>1000</td>\n",
       "    </tr>\n",
       "    <tr>\n",
       "      <th>2</th>\n",
       "      <td>1000_2</td>\n",
       "      <td>2018-06-11</td>\n",
       "      <td>3</td>\n",
       "      <td>1000</td>\n",
       "    </tr>\n",
       "    <tr>\n",
       "      <th>3</th>\n",
       "      <td>1000_3</td>\n",
       "      <td>2018-09-21</td>\n",
       "      <td>14</td>\n",
       "      <td>1000</td>\n",
       "    </tr>\n",
       "    <tr>\n",
       "      <th>4</th>\n",
       "      <td>1000_4</td>\n",
       "      <td>2018-12-15</td>\n",
       "      <td>6</td>\n",
       "      <td>1000</td>\n",
       "    </tr>\n",
       "  </tbody>\n",
       "</table>\n",
       "</div>"
      ],
      "text/plain": [
       "       id  call_date  duration  user_id\n",
       "0  1000_0 2018-07-25         0     1000\n",
       "1  1000_1 2018-08-17         0     1000\n",
       "2  1000_2 2018-06-11         3     1000\n",
       "3  1000_3 2018-09-21        14     1000\n",
       "4  1000_4 2018-12-15         6     1000"
      ]
     },
     "execution_count": 17,
     "metadata": {},
     "output_type": "execute_result"
    }
   ],
   "source": [
    "calls.head()"
   ]
  },
  {
   "cell_type": "markdown",
   "metadata": {},
   "source": [
    "Проверим столбец duration на ошибки."
   ]
  },
  {
   "cell_type": "code",
   "execution_count": 18,
   "metadata": {},
   "outputs": [
    {
     "data": {
      "text/plain": [
       "count    202607.000000\n",
       "mean          7.158198\n",
       "std           5.959173\n",
       "min           0.000000\n",
       "25%           2.000000\n",
       "50%           6.000000\n",
       "75%          11.000000\n",
       "max          38.000000\n",
       "Name: duration, dtype: float64"
      ]
     },
     "execution_count": 18,
     "metadata": {},
     "output_type": "execute_result"
    }
   ],
   "source": [
    "calls['duration'].describe()"
   ]
  },
  {
   "cell_type": "markdown",
   "metadata": {},
   "source": [
    "Столбец duration - продолжительность разговора. \n",
    "Продолжительность от 0 до 38 минут, медиана - 6 минут. Всё нормально, правдоподобно."
   ]
  },
  {
   "cell_type": "code",
   "execution_count": 19,
   "metadata": {},
   "outputs": [],
   "source": [
    "calls_grouped = calls.groupby(by = 'user_id')"
   ]
  },
  {
   "cell_type": "code",
   "execution_count": 20,
   "metadata": {
    "scrolled": false
   },
   "outputs": [
    {
     "data": {
      "text/html": [
       "<div>\n",
       "<style scoped>\n",
       "    .dataframe tbody tr th:only-of-type {\n",
       "        vertical-align: middle;\n",
       "    }\n",
       "\n",
       "    .dataframe tbody tr th {\n",
       "        vertical-align: top;\n",
       "    }\n",
       "\n",
       "    .dataframe thead th {\n",
       "        text-align: right;\n",
       "    }\n",
       "</style>\n",
       "<table border=\"1\" class=\"dataframe\">\n",
       "  <thead>\n",
       "    <tr style=\"text-align: right;\">\n",
       "      <th></th>\n",
       "      <th>id</th>\n",
       "      <th>call_date</th>\n",
       "      <th>duration</th>\n",
       "    </tr>\n",
       "    <tr>\n",
       "      <th>user_id</th>\n",
       "      <th></th>\n",
       "      <th></th>\n",
       "      <th></th>\n",
       "    </tr>\n",
       "  </thead>\n",
       "  <tbody>\n",
       "    <tr>\n",
       "      <th>1000</th>\n",
       "      <td>368</td>\n",
       "      <td>368</td>\n",
       "      <td>368</td>\n",
       "    </tr>\n",
       "    <tr>\n",
       "      <th>1001</th>\n",
       "      <td>122</td>\n",
       "      <td>122</td>\n",
       "      <td>122</td>\n",
       "    </tr>\n",
       "    <tr>\n",
       "      <th>1002</th>\n",
       "      <td>217</td>\n",
       "      <td>217</td>\n",
       "      <td>217</td>\n",
       "    </tr>\n",
       "    <tr>\n",
       "      <th>1003</th>\n",
       "      <td>520</td>\n",
       "      <td>520</td>\n",
       "      <td>520</td>\n",
       "    </tr>\n",
       "    <tr>\n",
       "      <th>1004</th>\n",
       "      <td>176</td>\n",
       "      <td>176</td>\n",
       "      <td>176</td>\n",
       "    </tr>\n",
       "    <tr>\n",
       "      <th>...</th>\n",
       "      <td>...</td>\n",
       "      <td>...</td>\n",
       "      <td>...</td>\n",
       "    </tr>\n",
       "    <tr>\n",
       "      <th>1495</th>\n",
       "      <td>565</td>\n",
       "      <td>565</td>\n",
       "      <td>565</td>\n",
       "    </tr>\n",
       "    <tr>\n",
       "      <th>1496</th>\n",
       "      <td>828</td>\n",
       "      <td>828</td>\n",
       "      <td>828</td>\n",
       "    </tr>\n",
       "    <tr>\n",
       "      <th>1497</th>\n",
       "      <td>201</td>\n",
       "      <td>201</td>\n",
       "      <td>201</td>\n",
       "    </tr>\n",
       "    <tr>\n",
       "      <th>1498</th>\n",
       "      <td>180</td>\n",
       "      <td>180</td>\n",
       "      <td>180</td>\n",
       "    </tr>\n",
       "    <tr>\n",
       "      <th>1499</th>\n",
       "      <td>220</td>\n",
       "      <td>220</td>\n",
       "      <td>220</td>\n",
       "    </tr>\n",
       "  </tbody>\n",
       "</table>\n",
       "<p>492 rows × 3 columns</p>\n",
       "</div>"
      ],
      "text/plain": [
       "          id  call_date  duration\n",
       "user_id                          \n",
       "1000     368        368       368\n",
       "1001     122        122       122\n",
       "1002     217        217       217\n",
       "1003     520        520       520\n",
       "1004     176        176       176\n",
       "...      ...        ...       ...\n",
       "1495     565        565       565\n",
       "1496     828        828       828\n",
       "1497     201        201       201\n",
       "1498     180        180       180\n",
       "1499     220        220       220\n",
       "\n",
       "[492 rows x 3 columns]"
      ]
     },
     "execution_count": 20,
     "metadata": {},
     "output_type": "execute_result"
    }
   ],
   "source": [
    "calls_grouped.count()"
   ]
  },
  {
   "cell_type": "markdown",
   "metadata": {},
   "source": [
    "Всего 492 пользователей, по которым хранятся данные."
   ]
  },
  {
   "cell_type": "code",
   "execution_count": 21,
   "metadata": {
    "scrolled": true
   },
   "outputs": [
    {
     "data": {
      "text/plain": [
       "count     492.000000\n",
       "mean      411.802846\n",
       "std       291.803375\n",
       "min        14.000000\n",
       "25%       180.000000\n",
       "50%       344.500000\n",
       "75%       589.500000\n",
       "max      1760.000000\n",
       "Name: id, dtype: float64"
      ]
     },
     "execution_count": 21,
     "metadata": {},
     "output_type": "execute_result"
    }
   ],
   "source": [
    "calls_grouped['id'].count().describe()"
   ]
  },
  {
   "cell_type": "markdown",
   "metadata": {},
   "source": [
    "- Среднее количество звонков равно 411 в месяц.\n",
    "- Медиана составила 344 звонка.\n",
    "- Максимум - 1760. "
   ]
  },
  {
   "cell_type": "code",
   "execution_count": 22,
   "metadata": {
    "scrolled": false
   },
   "outputs": [
    {
     "data": {
      "image/png": "[encoded data removed]",
      "text/plain": [
       "<Figure size 864x432 with 1 Axes>"
      ]
     },
     "metadata": {
      "needs_background": "light"
     },
     "output_type": "display_data"
    }
   ],
   "source": [
    "plt.suptitle('Распределение количества звонков за месяц')\n",
    "plt.ylabel('Количество пользователей')\n",
    "plt.xlabel('Количество  звонков')\n",
    "calls_grouped['id'].count().hist(bins = 100, figsize = (12,6))\n",
    "plt.show;"
   ]
  },
  {
   "cell_type": "markdown",
   "metadata": {},
   "source": [
    "Вначале график возрастает, затем плавно убывает, показывая распределение Пуассона. \n",
    "\n",
    "Максимум находится вокруг 250 звонков в месяц. \n"
   ]
  },
  {
   "cell_type": "code",
   "execution_count": 23,
   "metadata": {
    "scrolled": false
   },
   "outputs": [
    {
     "data": {
      "text/plain": [
       "count      492.000000\n",
       "mean      2947.766260\n",
       "std       2091.001034\n",
       "min         66.000000\n",
       "25%       1291.500000\n",
       "50%       2478.000000\n",
       "75%       4227.000000\n",
       "max      12973.000000\n",
       "Name: duration, dtype: float64"
      ]
     },
     "execution_count": 23,
     "metadata": {},
     "output_type": "execute_result"
    }
   ],
   "source": [
    "calls_grouped['duration'].sum().describe()"
   ]
  },
  {
   "cell_type": "markdown",
   "metadata": {},
   "source": [
    "Средняя продолжительность разговоров в месяц на одного пользователя составила 2947 минут.\n",
    "\n",
    "Медианное значение равно 2478 минут.\n",
    "\n",
    "Минимум - 66 минут, максимум - 12973 минуты."
   ]
  },
  {
   "cell_type": "code",
   "execution_count": 24,
   "metadata": {
    "scrolled": false
   },
   "outputs": [
    {
     "data": {
      "image/png": "[encoded data removed]",
      "text/plain": [
       "<Figure size 864x432 with 1 Axes>"
      ]
     },
     "metadata": {
      "needs_background": "light"
     },
     "output_type": "display_data"
    }
   ],
   "source": [
    "plt.suptitle('Распределение продолжительности звонков за месяц')\n",
    "plt.ylabel('Количество пользователей')\n",
    "plt.xlabel('Продолжительность звонков')\n",
    "calls_grouped['duration'].sum().hist(bins = 200, figsize = (12,6));"
   ]
  },
  {
   "cell_type": "markdown",
   "metadata": {},
   "source": [
    "Вначале график возрастает, затем плавно убывает, показывая распределение Пуассона. \n",
    "\n",
    "Максимум находится около 800 минут в месяц. \n"
   ]
  },
  {
   "cell_type": "markdown",
   "metadata": {},
   "source": [
    "#### Таблица internet "
   ]
  },
  {
   "cell_type": "code",
   "execution_count": 25,
   "metadata": {},
   "outputs": [
    {
     "data": {
      "text/html": [
       "<div>\n",
       "<style scoped>\n",
       "    .dataframe tbody tr th:only-of-type {\n",
       "        vertical-align: middle;\n",
       "    }\n",
       "\n",
       "    .dataframe tbody tr th {\n",
       "        vertical-align: top;\n",
       "    }\n",
       "\n",
       "    .dataframe thead th {\n",
       "        text-align: right;\n",
       "    }\n",
       "</style>\n",
       "<table border=\"1\" class=\"dataframe\">\n",
       "  <thead>\n",
       "    <tr style=\"text-align: right;\">\n",
       "      <th></th>\n",
       "      <th>Unnamed: 0</th>\n",
       "      <th>id</th>\n",
       "      <th>mb_used</th>\n",
       "      <th>session_date</th>\n",
       "      <th>user_id</th>\n",
       "    </tr>\n",
       "  </thead>\n",
       "  <tbody>\n",
       "    <tr>\n",
       "      <th>0</th>\n",
       "      <td>0</td>\n",
       "      <td>1000_0</td>\n",
       "      <td>112.95</td>\n",
       "      <td>2018-11-25</td>\n",
       "      <td>1000</td>\n",
       "    </tr>\n",
       "    <tr>\n",
       "      <th>1</th>\n",
       "      <td>1</td>\n",
       "      <td>1000_1</td>\n",
       "      <td>1052.81</td>\n",
       "      <td>2018-09-07</td>\n",
       "      <td>1000</td>\n",
       "    </tr>\n",
       "    <tr>\n",
       "      <th>2</th>\n",
       "      <td>2</td>\n",
       "      <td>1000_2</td>\n",
       "      <td>1197.26</td>\n",
       "      <td>2018-06-25</td>\n",
       "      <td>1000</td>\n",
       "    </tr>\n",
       "    <tr>\n",
       "      <th>3</th>\n",
       "      <td>3</td>\n",
       "      <td>1000_3</td>\n",
       "      <td>550.27</td>\n",
       "      <td>2018-08-22</td>\n",
       "      <td>1000</td>\n",
       "    </tr>\n",
       "    <tr>\n",
       "      <th>4</th>\n",
       "      <td>4</td>\n",
       "      <td>1000_4</td>\n",
       "      <td>302.56</td>\n",
       "      <td>2018-09-24</td>\n",
       "      <td>1000</td>\n",
       "    </tr>\n",
       "    <tr>\n",
       "      <th>5</th>\n",
       "      <td>5</td>\n",
       "      <td>1000_5</td>\n",
       "      <td>399.97</td>\n",
       "      <td>2018-10-02</td>\n",
       "      <td>1000</td>\n",
       "    </tr>\n",
       "    <tr>\n",
       "      <th>6</th>\n",
       "      <td>6</td>\n",
       "      <td>1000_6</td>\n",
       "      <td>540.08</td>\n",
       "      <td>2018-09-07</td>\n",
       "      <td>1000</td>\n",
       "    </tr>\n",
       "    <tr>\n",
       "      <th>7</th>\n",
       "      <td>7</td>\n",
       "      <td>1000_7</td>\n",
       "      <td>415.70</td>\n",
       "      <td>2018-07-11</td>\n",
       "      <td>1000</td>\n",
       "    </tr>\n",
       "    <tr>\n",
       "      <th>8</th>\n",
       "      <td>8</td>\n",
       "      <td>1000_8</td>\n",
       "      <td>505.40</td>\n",
       "      <td>2018-10-08</td>\n",
       "      <td>1000</td>\n",
       "    </tr>\n",
       "    <tr>\n",
       "      <th>9</th>\n",
       "      <td>9</td>\n",
       "      <td>1000_9</td>\n",
       "      <td>345.54</td>\n",
       "      <td>2018-09-03</td>\n",
       "      <td>1000</td>\n",
       "    </tr>\n",
       "  </tbody>\n",
       "</table>\n",
       "</div>"
      ],
      "text/plain": [
       "   Unnamed: 0      id  mb_used session_date  user_id\n",
       "0           0  1000_0   112.95   2018-11-25     1000\n",
       "1           1  1000_1  1052.81   2018-09-07     1000\n",
       "2           2  1000_2  1197.26   2018-06-25     1000\n",
       "3           3  1000_3   550.27   2018-08-22     1000\n",
       "4           4  1000_4   302.56   2018-09-24     1000\n",
       "5           5  1000_5   399.97   2018-10-02     1000\n",
       "6           6  1000_6   540.08   2018-09-07     1000\n",
       "7           7  1000_7   415.70   2018-07-11     1000\n",
       "8           8  1000_8   505.40   2018-10-08     1000\n",
       "9           9  1000_9   345.54   2018-09-03     1000"
      ]
     },
     "execution_count": 25,
     "metadata": {},
     "output_type": "execute_result"
    }
   ],
   "source": [
    "internet.head(10)"
   ]
  },
  {
   "cell_type": "markdown",
   "metadata": {},
   "source": [
    "Столбец 'Unnamed: 0' дублирует индексацию, не хранит никакой полезной информации и может быть удалён без потери данных.\n"
   ]
  },
  {
   "cell_type": "code",
   "execution_count": 26,
   "metadata": {
    "scrolled": true
   },
   "outputs": [
    {
     "data": {
      "text/html": [
       "<div>\n",
       "<style scoped>\n",
       "    .dataframe tbody tr th:only-of-type {\n",
       "        vertical-align: middle;\n",
       "    }\n",
       "\n",
       "    .dataframe tbody tr th {\n",
       "        vertical-align: top;\n",
       "    }\n",
       "\n",
       "    .dataframe thead th {\n",
       "        text-align: right;\n",
       "    }\n",
       "</style>\n",
       "<table border=\"1\" class=\"dataframe\">\n",
       "  <thead>\n",
       "    <tr style=\"text-align: right;\">\n",
       "      <th></th>\n",
       "      <th>id</th>\n",
       "      <th>mb_used</th>\n",
       "      <th>session_date</th>\n",
       "      <th>user_id</th>\n",
       "    </tr>\n",
       "  </thead>\n",
       "  <tbody>\n",
       "    <tr>\n",
       "      <th>0</th>\n",
       "      <td>1000_0</td>\n",
       "      <td>112.95</td>\n",
       "      <td>2018-11-25</td>\n",
       "      <td>1000</td>\n",
       "    </tr>\n",
       "    <tr>\n",
       "      <th>1</th>\n",
       "      <td>1000_1</td>\n",
       "      <td>1052.81</td>\n",
       "      <td>2018-09-07</td>\n",
       "      <td>1000</td>\n",
       "    </tr>\n",
       "    <tr>\n",
       "      <th>2</th>\n",
       "      <td>1000_2</td>\n",
       "      <td>1197.26</td>\n",
       "      <td>2018-06-25</td>\n",
       "      <td>1000</td>\n",
       "    </tr>\n",
       "    <tr>\n",
       "      <th>3</th>\n",
       "      <td>1000_3</td>\n",
       "      <td>550.27</td>\n",
       "      <td>2018-08-22</td>\n",
       "      <td>1000</td>\n",
       "    </tr>\n",
       "    <tr>\n",
       "      <th>4</th>\n",
       "      <td>1000_4</td>\n",
       "      <td>302.56</td>\n",
       "      <td>2018-09-24</td>\n",
       "      <td>1000</td>\n",
       "    </tr>\n",
       "    <tr>\n",
       "      <th>5</th>\n",
       "      <td>1000_5</td>\n",
       "      <td>399.97</td>\n",
       "      <td>2018-10-02</td>\n",
       "      <td>1000</td>\n",
       "    </tr>\n",
       "    <tr>\n",
       "      <th>6</th>\n",
       "      <td>1000_6</td>\n",
       "      <td>540.08</td>\n",
       "      <td>2018-09-07</td>\n",
       "      <td>1000</td>\n",
       "    </tr>\n",
       "    <tr>\n",
       "      <th>7</th>\n",
       "      <td>1000_7</td>\n",
       "      <td>415.70</td>\n",
       "      <td>2018-07-11</td>\n",
       "      <td>1000</td>\n",
       "    </tr>\n",
       "    <tr>\n",
       "      <th>8</th>\n",
       "      <td>1000_8</td>\n",
       "      <td>505.40</td>\n",
       "      <td>2018-10-08</td>\n",
       "      <td>1000</td>\n",
       "    </tr>\n",
       "    <tr>\n",
       "      <th>9</th>\n",
       "      <td>1000_9</td>\n",
       "      <td>345.54</td>\n",
       "      <td>2018-09-03</td>\n",
       "      <td>1000</td>\n",
       "    </tr>\n",
       "  </tbody>\n",
       "</table>\n",
       "</div>"
      ],
      "text/plain": [
       "       id  mb_used session_date  user_id\n",
       "0  1000_0   112.95   2018-11-25     1000\n",
       "1  1000_1  1052.81   2018-09-07     1000\n",
       "2  1000_2  1197.26   2018-06-25     1000\n",
       "3  1000_3   550.27   2018-08-22     1000\n",
       "4  1000_4   302.56   2018-09-24     1000\n",
       "5  1000_5   399.97   2018-10-02     1000\n",
       "6  1000_6   540.08   2018-09-07     1000\n",
       "7  1000_7   415.70   2018-07-11     1000\n",
       "8  1000_8   505.40   2018-10-08     1000\n",
       "9  1000_9   345.54   2018-09-03     1000"
      ]
     },
     "execution_count": 26,
     "metadata": {},
     "output_type": "execute_result"
    }
   ],
   "source": [
    "internet = internet[['id', 'mb_used', 'session_date', 'user_id']]\n",
    "internet.head(10)"
   ]
  },
  {
   "cell_type": "code",
   "execution_count": 27,
   "metadata": {
    "scrolled": true
   },
   "outputs": [
    {
     "data": {
      "text/plain": [
       "count    149396.000000\n",
       "mean        370.192426\n",
       "std         278.300951\n",
       "min           0.000000\n",
       "25%         138.187500\n",
       "50%         348.015000\n",
       "75%         559.552500\n",
       "max        1724.830000\n",
       "Name: mb_used, dtype: float64"
      ]
     },
     "execution_count": 27,
     "metadata": {},
     "output_type": "execute_result"
    }
   ],
   "source": [
    "internet['mb_used'].describe()"
   ]
  },
  {
   "cell_type": "markdown",
   "metadata": {},
   "source": [
    "Максимум данных за сессию - 1724 Мб, это 1,68 Гб.\n",
    "Медианное значение - 370 Мб.\n",
    "Кажется, всё нормально."
   ]
  },
  {
   "cell_type": "markdown",
   "metadata": {},
   "source": [
    "Больше видимых ошибок нет."
   ]
  },
  {
   "cell_type": "code",
   "execution_count": 28,
   "metadata": {
    "scrolled": false
   },
   "outputs": [
    {
     "data": {
      "image/png": "[encoded data removed]",
      "text/plain": [
       "<Figure size 864x432 with 1 Axes>"
      ]
     },
     "metadata": {
      "needs_background": "light"
     },
     "output_type": "display_data"
    }
   ],
   "source": [
    "plt.suptitle('Распределение использования интернет-трафика за месяц')\n",
    "plt.ylabel('Количество пользователей')\n",
    "plt.xlabel('Количество мегабайт')\n",
    "internet['mb_used'].hist(bins = 100, figsize = (12,6));"
   ]
  },
  {
   "cell_type": "markdown",
   "metadata": {},
   "source": [
    "Большой выброс в нуле. Многие пользователи не используют мобильный интернет. "
   ]
  },
  {
   "cell_type": "code",
   "execution_count": 29,
   "metadata": {
    "scrolled": false
   },
   "outputs": [
    {
     "data": {
      "image/png": "[encoded data removed]",
      "text/plain": [
       "<Figure size 864x432 with 1 Axes>"
      ]
     },
     "metadata": {
      "needs_background": "light"
     },
     "output_type": "display_data"
    }
   ],
   "source": [
    "plt.suptitle('Распределение использования интернет-трафика за месяц (ненулевые значения)')\n",
    "plt.ylabel('Количество пользователей')\n",
    "plt.xlabel('Количество мегабайт')\n",
    "internet.loc[internet['mb_used']>0]['mb_used'].hist(bins = 100, figsize = (12,6));"
   ]
  },
  {
   "cell_type": "markdown",
   "metadata": {},
   "source": [
    "Распределение Пуассона очень красноречиво. Среди пользователей мобильного интернета большинство используют до 700 МБ за месяц."
   ]
  },
  {
   "cell_type": "markdown",
   "metadata": {},
   "source": [
    "#### Таблица messages "
   ]
  },
  {
   "cell_type": "code",
   "execution_count": 30,
   "metadata": {
    "scrolled": true
   },
   "outputs": [
    {
     "data": {
      "text/html": [
       "<div>\n",
       "<style scoped>\n",
       "    .dataframe tbody tr th:only-of-type {\n",
       "        vertical-align: middle;\n",
       "    }\n",
       "\n",
       "    .dataframe tbody tr th {\n",
       "        vertical-align: top;\n",
       "    }\n",
       "\n",
       "    .dataframe thead th {\n",
       "        text-align: right;\n",
       "    }\n",
       "</style>\n",
       "<table border=\"1\" class=\"dataframe\">\n",
       "  <thead>\n",
       "    <tr style=\"text-align: right;\">\n",
       "      <th></th>\n",
       "      <th>id</th>\n",
       "      <th>message_date</th>\n",
       "      <th>user_id</th>\n",
       "    </tr>\n",
       "  </thead>\n",
       "  <tbody>\n",
       "    <tr>\n",
       "      <th>0</th>\n",
       "      <td>1000_0</td>\n",
       "      <td>2018-06-27</td>\n",
       "      <td>1000</td>\n",
       "    </tr>\n",
       "    <tr>\n",
       "      <th>1</th>\n",
       "      <td>1000_1</td>\n",
       "      <td>2018-10-08</td>\n",
       "      <td>1000</td>\n",
       "    </tr>\n",
       "    <tr>\n",
       "      <th>2</th>\n",
       "      <td>1000_2</td>\n",
       "      <td>2018-08-04</td>\n",
       "      <td>1000</td>\n",
       "    </tr>\n",
       "    <tr>\n",
       "      <th>3</th>\n",
       "      <td>1000_3</td>\n",
       "      <td>2018-06-16</td>\n",
       "      <td>1000</td>\n",
       "    </tr>\n",
       "    <tr>\n",
       "      <th>4</th>\n",
       "      <td>1000_4</td>\n",
       "      <td>2018-12-05</td>\n",
       "      <td>1000</td>\n",
       "    </tr>\n",
       "  </tbody>\n",
       "</table>\n",
       "</div>"
      ],
      "text/plain": [
       "       id message_date  user_id\n",
       "0  1000_0   2018-06-27     1000\n",
       "1  1000_1   2018-10-08     1000\n",
       "2  1000_2   2018-08-04     1000\n",
       "3  1000_3   2018-06-16     1000\n",
       "4  1000_4   2018-12-05     1000"
      ]
     },
     "execution_count": 30,
     "metadata": {},
     "output_type": "execute_result"
    }
   ],
   "source": [
    "messages.head(5)"
   ]
  },
  {
   "cell_type": "code",
   "execution_count": 31,
   "metadata": {
    "scrolled": false
   },
   "outputs": [
    {
     "data": {
      "text/html": [
       "<div>\n",
       "<style scoped>\n",
       "    .dataframe tbody tr th:only-of-type {\n",
       "        vertical-align: middle;\n",
       "    }\n",
       "\n",
       "    .dataframe tbody tr th {\n",
       "        vertical-align: top;\n",
       "    }\n",
       "\n",
       "    .dataframe thead th {\n",
       "        text-align: right;\n",
       "    }\n",
       "</style>\n",
       "<table border=\"1\" class=\"dataframe\">\n",
       "  <thead>\n",
       "    <tr style=\"text-align: right;\">\n",
       "      <th></th>\n",
       "      <th>id</th>\n",
       "      <th>message_date</th>\n",
       "    </tr>\n",
       "    <tr>\n",
       "      <th>user_id</th>\n",
       "      <th></th>\n",
       "      <th></th>\n",
       "    </tr>\n",
       "  </thead>\n",
       "  <tbody>\n",
       "    <tr>\n",
       "      <th>1000</th>\n",
       "      <td>496</td>\n",
       "      <td>496</td>\n",
       "    </tr>\n",
       "    <tr>\n",
       "      <th>1002</th>\n",
       "      <td>70</td>\n",
       "      <td>70</td>\n",
       "    </tr>\n",
       "    <tr>\n",
       "      <th>1003</th>\n",
       "      <td>380</td>\n",
       "      <td>380</td>\n",
       "    </tr>\n",
       "    <tr>\n",
       "      <th>1004</th>\n",
       "      <td>1192</td>\n",
       "      <td>1192</td>\n",
       "    </tr>\n",
       "    <tr>\n",
       "      <th>1005</th>\n",
       "      <td>552</td>\n",
       "      <td>552</td>\n",
       "    </tr>\n",
       "    <tr>\n",
       "      <th>...</th>\n",
       "      <td>...</td>\n",
       "      <td>...</td>\n",
       "    </tr>\n",
       "    <tr>\n",
       "      <th>1495</th>\n",
       "      <td>340</td>\n",
       "      <td>340</td>\n",
       "    </tr>\n",
       "    <tr>\n",
       "      <th>1496</th>\n",
       "      <td>468</td>\n",
       "      <td>468</td>\n",
       "    </tr>\n",
       "    <tr>\n",
       "      <th>1497</th>\n",
       "      <td>51</td>\n",
       "      <td>51</td>\n",
       "    </tr>\n",
       "    <tr>\n",
       "      <th>1498</th>\n",
       "      <td>168</td>\n",
       "      <td>168</td>\n",
       "    </tr>\n",
       "    <tr>\n",
       "      <th>1499</th>\n",
       "      <td>184</td>\n",
       "      <td>184</td>\n",
       "    </tr>\n",
       "  </tbody>\n",
       "</table>\n",
       "<p>426 rows × 2 columns</p>\n",
       "</div>"
      ],
      "text/plain": [
       "           id  message_date\n",
       "user_id                    \n",
       "1000      496           496\n",
       "1002       70            70\n",
       "1003      380           380\n",
       "1004     1192          1192\n",
       "1005      552           552\n",
       "...       ...           ...\n",
       "1495      340           340\n",
       "1496      468           468\n",
       "1497       51            51\n",
       "1498      168           168\n",
       "1499      184           184\n",
       "\n",
       "[426 rows x 2 columns]"
      ]
     },
     "execution_count": 31,
     "metadata": {},
     "output_type": "execute_result"
    }
   ],
   "source": [
    "messages.groupby(by = 'user_id').count()"
   ]
  },
  {
   "cell_type": "markdown",
   "metadata": {},
   "source": [
    "Всего 426 пользователей, по которым хранятся данные."
   ]
  },
  {
   "cell_type": "code",
   "execution_count": 32,
   "metadata": {
    "scrolled": true
   },
   "outputs": [
    {
     "data": {
      "text/plain": [
       "count     426.000000\n",
       "mean      288.816901\n",
       "std       267.607552\n",
       "min         1.000000\n",
       "25%        85.750000\n",
       "50%       215.500000\n",
       "75%       414.000000\n",
       "max      1463.000000\n",
       "Name: id, dtype: float64"
      ]
     },
     "execution_count": 32,
     "metadata": {},
     "output_type": "execute_result"
    }
   ],
   "source": [
    "messages.groupby(by = 'user_id')['id'].count().describe()"
   ]
  },
  {
   "cell_type": "markdown",
   "metadata": {},
   "source": [
    "Среднее количество сообщений равно 288 в месяц,\n",
    "\n",
    "Медиана составила 215 сообщений.\n",
    "\n",
    "Максимум - 1463. "
   ]
  },
  {
   "cell_type": "code",
   "execution_count": 33,
   "metadata": {
    "scrolled": false
   },
   "outputs": [
    {
     "data": {
      "image/png": "[encoded data removed]",
      "text/plain": [
       "<Figure size 720x360 with 1 Axes>"
      ]
     },
     "metadata": {
      "needs_background": "light"
     },
     "output_type": "display_data"
    }
   ],
   "source": [
    "plt.suptitle('Распределение количества сообщений за месяц')\n",
    "plt.ylabel('Количество пользователей')\n",
    "plt.xlabel('Количество сообщений')\n",
    "messages.groupby(by = 'user_id')['id'].count().hist(bins = 50, figsize = (10,5));"
   ]
  },
  {
   "cell_type": "markdown",
   "metadata": {},
   "source": [
    "Гистограмма выглядит правдоподобно, большинство пользователей отправляют меньше 300 сообщений в месяц."
   ]
  },
  {
   "cell_type": "markdown",
   "metadata": {},
   "source": [
    "Ошибок не найдено. "
   ]
  },
  {
   "cell_type": "markdown",
   "metadata": {},
   "source": [
    "#### Таблица tariffs "
   ]
  },
  {
   "cell_type": "code",
   "execution_count": 34,
   "metadata": {
    "scrolled": true
   },
   "outputs": [
    {
     "data": {
      "text/html": [
       "<div>\n",
       "<style scoped>\n",
       "    .dataframe tbody tr th:only-of-type {\n",
       "        vertical-align: middle;\n",
       "    }\n",
       "\n",
       "    .dataframe tbody tr th {\n",
       "        vertical-align: top;\n",
       "    }\n",
       "\n",
       "    .dataframe thead th {\n",
       "        text-align: right;\n",
       "    }\n",
       "</style>\n",
       "<table border=\"1\" class=\"dataframe\">\n",
       "  <thead>\n",
       "    <tr style=\"text-align: right;\">\n",
       "      <th></th>\n",
       "      <th>messages_included</th>\n",
       "      <th>mb_per_month_included</th>\n",
       "      <th>minutes_included</th>\n",
       "      <th>rub_monthly_fee</th>\n",
       "      <th>rub_per_gb</th>\n",
       "      <th>rub_per_message</th>\n",
       "      <th>rub_per_minute</th>\n",
       "      <th>tariff_name</th>\n",
       "    </tr>\n",
       "  </thead>\n",
       "  <tbody>\n",
       "    <tr>\n",
       "      <th>0</th>\n",
       "      <td>50</td>\n",
       "      <td>15360</td>\n",
       "      <td>500</td>\n",
       "      <td>550</td>\n",
       "      <td>200</td>\n",
       "      <td>3</td>\n",
       "      <td>3</td>\n",
       "      <td>smart</td>\n",
       "    </tr>\n",
       "    <tr>\n",
       "      <th>1</th>\n",
       "      <td>1000</td>\n",
       "      <td>30720</td>\n",
       "      <td>3000</td>\n",
       "      <td>1950</td>\n",
       "      <td>150</td>\n",
       "      <td>1</td>\n",
       "      <td>1</td>\n",
       "      <td>ultra</td>\n",
       "    </tr>\n",
       "  </tbody>\n",
       "</table>\n",
       "</div>"
      ],
      "text/plain": [
       "   messages_included  mb_per_month_included  minutes_included  \\\n",
       "0                 50                  15360               500   \n",
       "1               1000                  30720              3000   \n",
       "\n",
       "   rub_monthly_fee  rub_per_gb  rub_per_message  rub_per_minute tariff_name  \n",
       "0              550         200                3               3       smart  \n",
       "1             1950         150                1               1       ultra  "
      ]
     },
     "execution_count": 34,
     "metadata": {},
     "output_type": "execute_result"
    }
   ],
   "source": [
    "tariffs"
   ]
  },
  {
   "cell_type": "markdown",
   "metadata": {},
   "source": [
    "Таблица небольшая, содержит только данные о тарифных ограничениях и стоимости. Ошибок и дубликатов нет."
   ]
  },
  {
   "cell_type": "markdown",
   "metadata": {},
   "source": [
    "#### Таблица users "
   ]
  },
  {
   "cell_type": "code",
   "execution_count": 35,
   "metadata": {
    "scrolled": true
   },
   "outputs": [
    {
     "data": {
      "text/html": [
       "<div>\n",
       "<style scoped>\n",
       "    .dataframe tbody tr th:only-of-type {\n",
       "        vertical-align: middle;\n",
       "    }\n",
       "\n",
       "    .dataframe tbody tr th {\n",
       "        vertical-align: top;\n",
       "    }\n",
       "\n",
       "    .dataframe thead th {\n",
       "        text-align: right;\n",
       "    }\n",
       "</style>\n",
       "<table border=\"1\" class=\"dataframe\">\n",
       "  <thead>\n",
       "    <tr style=\"text-align: right;\">\n",
       "      <th></th>\n",
       "      <th>user_id</th>\n",
       "      <th>age</th>\n",
       "      <th>churn_date</th>\n",
       "      <th>city</th>\n",
       "      <th>first_name</th>\n",
       "      <th>last_name</th>\n",
       "      <th>reg_date</th>\n",
       "      <th>tariff</th>\n",
       "    </tr>\n",
       "  </thead>\n",
       "  <tbody>\n",
       "    <tr>\n",
       "      <th>0</th>\n",
       "      <td>1000</td>\n",
       "      <td>52</td>\n",
       "      <td>NaN</td>\n",
       "      <td>Краснодар</td>\n",
       "      <td>Рафаил</td>\n",
       "      <td>Верещагин</td>\n",
       "      <td>2018-05-25</td>\n",
       "      <td>ultra</td>\n",
       "    </tr>\n",
       "    <tr>\n",
       "      <th>1</th>\n",
       "      <td>1001</td>\n",
       "      <td>41</td>\n",
       "      <td>NaN</td>\n",
       "      <td>Москва</td>\n",
       "      <td>Иван</td>\n",
       "      <td>Ежов</td>\n",
       "      <td>2018-11-01</td>\n",
       "      <td>smart</td>\n",
       "    </tr>\n",
       "    <tr>\n",
       "      <th>2</th>\n",
       "      <td>1002</td>\n",
       "      <td>59</td>\n",
       "      <td>NaN</td>\n",
       "      <td>Стерлитамак</td>\n",
       "      <td>Евгений</td>\n",
       "      <td>Абрамович</td>\n",
       "      <td>2018-06-17</td>\n",
       "      <td>smart</td>\n",
       "    </tr>\n",
       "    <tr>\n",
       "      <th>3</th>\n",
       "      <td>1003</td>\n",
       "      <td>23</td>\n",
       "      <td>NaN</td>\n",
       "      <td>Москва</td>\n",
       "      <td>Белла</td>\n",
       "      <td>Белякова</td>\n",
       "      <td>2018-08-17</td>\n",
       "      <td>ultra</td>\n",
       "    </tr>\n",
       "    <tr>\n",
       "      <th>4</th>\n",
       "      <td>1004</td>\n",
       "      <td>68</td>\n",
       "      <td>NaN</td>\n",
       "      <td>Новокузнецк</td>\n",
       "      <td>Татьяна</td>\n",
       "      <td>Авдеенко</td>\n",
       "      <td>2018-05-14</td>\n",
       "      <td>ultra</td>\n",
       "    </tr>\n",
       "  </tbody>\n",
       "</table>\n",
       "</div>"
      ],
      "text/plain": [
       "   user_id  age churn_date         city first_name  last_name   reg_date  \\\n",
       "0     1000   52        NaN    Краснодар     Рафаил  Верещагин 2018-05-25   \n",
       "1     1001   41        NaN       Москва       Иван       Ежов 2018-11-01   \n",
       "2     1002   59        NaN  Стерлитамак    Евгений  Абрамович 2018-06-17   \n",
       "3     1003   23        NaN       Москва      Белла   Белякова 2018-08-17   \n",
       "4     1004   68        NaN  Новокузнецк    Татьяна   Авдеенко 2018-05-14   \n",
       "\n",
       "  tariff  \n",
       "0  ultra  \n",
       "1  smart  \n",
       "2  smart  \n",
       "3  ultra  \n",
       "4  ultra  "
      ]
     },
     "execution_count": 35,
     "metadata": {},
     "output_type": "execute_result"
    }
   ],
   "source": [
    "users.head(5)"
   ]
  },
  {
   "cell_type": "markdown",
   "metadata": {},
   "source": [
    "Все данные выглядят нормально."
   ]
  },
  {
   "cell_type": "code",
   "execution_count": 36,
   "metadata": {
    "scrolled": true
   },
   "outputs": [
    {
     "data": {
      "text/html": [
       "<div>\n",
       "<style scoped>\n",
       "    .dataframe tbody tr th:only-of-type {\n",
       "        vertical-align: middle;\n",
       "    }\n",
       "\n",
       "    .dataframe tbody tr th {\n",
       "        vertical-align: top;\n",
       "    }\n",
       "\n",
       "    .dataframe thead th {\n",
       "        text-align: right;\n",
       "    }\n",
       "</style>\n",
       "<table border=\"1\" class=\"dataframe\">\n",
       "  <thead>\n",
       "    <tr style=\"text-align: right;\">\n",
       "      <th></th>\n",
       "      <th>id</th>\n",
       "      <th>call_date</th>\n",
       "      <th>duration</th>\n",
       "      <th>user_id</th>\n",
       "    </tr>\n",
       "  </thead>\n",
       "  <tbody>\n",
       "    <tr>\n",
       "      <th>0</th>\n",
       "      <td>1000_0</td>\n",
       "      <td>2018-07-25</td>\n",
       "      <td>0</td>\n",
       "      <td>1000</td>\n",
       "    </tr>\n",
       "    <tr>\n",
       "      <th>1</th>\n",
       "      <td>1000_1</td>\n",
       "      <td>2018-08-17</td>\n",
       "      <td>0</td>\n",
       "      <td>1000</td>\n",
       "    </tr>\n",
       "    <tr>\n",
       "      <th>2</th>\n",
       "      <td>1000_2</td>\n",
       "      <td>2018-06-11</td>\n",
       "      <td>3</td>\n",
       "      <td>1000</td>\n",
       "    </tr>\n",
       "    <tr>\n",
       "      <th>3</th>\n",
       "      <td>1000_3</td>\n",
       "      <td>2018-09-21</td>\n",
       "      <td>14</td>\n",
       "      <td>1000</td>\n",
       "    </tr>\n",
       "    <tr>\n",
       "      <th>4</th>\n",
       "      <td>1000_4</td>\n",
       "      <td>2018-12-15</td>\n",
       "      <td>6</td>\n",
       "      <td>1000</td>\n",
       "    </tr>\n",
       "  </tbody>\n",
       "</table>\n",
       "</div>"
      ],
      "text/plain": [
       "       id  call_date  duration  user_id\n",
       "0  1000_0 2018-07-25         0     1000\n",
       "1  1000_1 2018-08-17         0     1000\n",
       "2  1000_2 2018-06-11         3     1000\n",
       "3  1000_3 2018-09-21        14     1000\n",
       "4  1000_4 2018-12-15         6     1000"
      ]
     },
     "execution_count": 36,
     "metadata": {},
     "output_type": "execute_result"
    }
   ],
   "source": [
    "calls.head()"
   ]
  },
  {
   "cell_type": "markdown",
   "metadata": {},
   "source": [
    "Для подсчёта создадим столбец с месяцем совершения звонка."
   ]
  },
  {
   "cell_type": "code",
   "execution_count": 37,
   "metadata": {},
   "outputs": [
    {
     "data": {
      "text/html": [
       "<div>\n",
       "<style scoped>\n",
       "    .dataframe tbody tr th:only-of-type {\n",
       "        vertical-align: middle;\n",
       "    }\n",
       "\n",
       "    .dataframe tbody tr th {\n",
       "        vertical-align: top;\n",
       "    }\n",
       "\n",
       "    .dataframe thead th {\n",
       "        text-align: right;\n",
       "    }\n",
       "</style>\n",
       "<table border=\"1\" class=\"dataframe\">\n",
       "  <thead>\n",
       "    <tr style=\"text-align: right;\">\n",
       "      <th></th>\n",
       "      <th>id</th>\n",
       "      <th>call_date</th>\n",
       "      <th>duration</th>\n",
       "      <th>user_id</th>\n",
       "      <th>month</th>\n",
       "    </tr>\n",
       "  </thead>\n",
       "  <tbody>\n",
       "    <tr>\n",
       "      <th>0</th>\n",
       "      <td>1000_0</td>\n",
       "      <td>2018-07-25</td>\n",
       "      <td>0</td>\n",
       "      <td>1000</td>\n",
       "      <td>7</td>\n",
       "    </tr>\n",
       "    <tr>\n",
       "      <th>1</th>\n",
       "      <td>1000_1</td>\n",
       "      <td>2018-08-17</td>\n",
       "      <td>0</td>\n",
       "      <td>1000</td>\n",
       "      <td>8</td>\n",
       "    </tr>\n",
       "    <tr>\n",
       "      <th>2</th>\n",
       "      <td>1000_2</td>\n",
       "      <td>2018-06-11</td>\n",
       "      <td>3</td>\n",
       "      <td>1000</td>\n",
       "      <td>6</td>\n",
       "    </tr>\n",
       "    <tr>\n",
       "      <th>3</th>\n",
       "      <td>1000_3</td>\n",
       "      <td>2018-09-21</td>\n",
       "      <td>14</td>\n",
       "      <td>1000</td>\n",
       "      <td>9</td>\n",
       "    </tr>\n",
       "    <tr>\n",
       "      <th>4</th>\n",
       "      <td>1000_4</td>\n",
       "      <td>2018-12-15</td>\n",
       "      <td>6</td>\n",
       "      <td>1000</td>\n",
       "      <td>12</td>\n",
       "    </tr>\n",
       "  </tbody>\n",
       "</table>\n",
       "</div>"
      ],
      "text/plain": [
       "       id  call_date  duration  user_id  month\n",
       "0  1000_0 2018-07-25         0     1000      7\n",
       "1  1000_1 2018-08-17         0     1000      8\n",
       "2  1000_2 2018-06-11         3     1000      6\n",
       "3  1000_3 2018-09-21        14     1000      9\n",
       "4  1000_4 2018-12-15         6     1000     12"
      ]
     },
     "execution_count": 37,
     "metadata": {},
     "output_type": "execute_result"
    }
   ],
   "source": [
    "calls['month'] = pd.DatetimeIndex(calls['call_date']).month\n",
    "calls.head()"
   ]
  },
  {
   "cell_type": "code",
   "execution_count": 38,
   "metadata": {
    "scrolled": true
   },
   "outputs": [
    {
     "data": {
      "text/html": [
       "<div>\n",
       "<style scoped>\n",
       "    .dataframe tbody tr th:only-of-type {\n",
       "        vertical-align: middle;\n",
       "    }\n",
       "\n",
       "    .dataframe tbody tr th {\n",
       "        vertical-align: top;\n",
       "    }\n",
       "\n",
       "    .dataframe thead th {\n",
       "        text-align: right;\n",
       "    }\n",
       "</style>\n",
       "<table border=\"1\" class=\"dataframe\">\n",
       "  <thead>\n",
       "    <tr style=\"text-align: right;\">\n",
       "      <th></th>\n",
       "      <th>user_id</th>\n",
       "      <th>month</th>\n",
       "      <th>count_calls</th>\n",
       "      <th>sum_duration_calls</th>\n",
       "    </tr>\n",
       "  </thead>\n",
       "  <tbody>\n",
       "    <tr>\n",
       "      <th>0</th>\n",
       "      <td>1000</td>\n",
       "      <td>5</td>\n",
       "      <td>22</td>\n",
       "      <td>159</td>\n",
       "    </tr>\n",
       "    <tr>\n",
       "      <th>1</th>\n",
       "      <td>1000</td>\n",
       "      <td>6</td>\n",
       "      <td>43</td>\n",
       "      <td>172</td>\n",
       "    </tr>\n",
       "    <tr>\n",
       "      <th>2</th>\n",
       "      <td>1000</td>\n",
       "      <td>7</td>\n",
       "      <td>47</td>\n",
       "      <td>340</td>\n",
       "    </tr>\n",
       "    <tr>\n",
       "      <th>3</th>\n",
       "      <td>1000</td>\n",
       "      <td>8</td>\n",
       "      <td>52</td>\n",
       "      <td>408</td>\n",
       "    </tr>\n",
       "    <tr>\n",
       "      <th>4</th>\n",
       "      <td>1000</td>\n",
       "      <td>9</td>\n",
       "      <td>58</td>\n",
       "      <td>466</td>\n",
       "    </tr>\n",
       "  </tbody>\n",
       "</table>\n",
       "</div>"
      ],
      "text/plain": [
       "   user_id  month  count_calls  sum_duration_calls\n",
       "0     1000      5           22                 159\n",
       "1     1000      6           43                 172\n",
       "2     1000      7           47                 340\n",
       "3     1000      8           52                 408\n",
       "4     1000      9           58                 466"
      ]
     },
     "execution_count": 38,
     "metadata": {},
     "output_type": "execute_result"
    }
   ],
   "source": [
    "calls_pivot = calls.pivot_table(\n",
    "    index = ['user_id', 'month'], # группируем по столбцу user_id и 'month'\n",
    "    values = 'duration', # в качестве значений столбец duration\n",
    "    aggfunc = ['count','sum'] # считаем количество звонков и сумму продолжительностей\n",
    ").reset_index( # перезадаём индекс\n",
    ")\n",
    "calls_pivot.columns = ['user_id','month','count_calls', 'sum_duration_calls'] # переименовываем столбцы\n",
    "calls_pivot.head(5)"
   ]
  },
  {
   "cell_type": "markdown",
   "metadata": {},
   "source": [
    "#### Таблица internet "
   ]
  },
  {
   "cell_type": "code",
   "execution_count": 39,
   "metadata": {
    "scrolled": true
   },
   "outputs": [
    {
     "data": {
      "text/html": [
       "<div>\n",
       "<style scoped>\n",
       "    .dataframe tbody tr th:only-of-type {\n",
       "        vertical-align: middle;\n",
       "    }\n",
       "\n",
       "    .dataframe tbody tr th {\n",
       "        vertical-align: top;\n",
       "    }\n",
       "\n",
       "    .dataframe thead th {\n",
       "        text-align: right;\n",
       "    }\n",
       "</style>\n",
       "<table border=\"1\" class=\"dataframe\">\n",
       "  <thead>\n",
       "    <tr style=\"text-align: right;\">\n",
       "      <th></th>\n",
       "      <th>id</th>\n",
       "      <th>mb_used</th>\n",
       "      <th>session_date</th>\n",
       "      <th>user_id</th>\n",
       "    </tr>\n",
       "  </thead>\n",
       "  <tbody>\n",
       "    <tr>\n",
       "      <th>0</th>\n",
       "      <td>1000_0</td>\n",
       "      <td>112.95</td>\n",
       "      <td>2018-11-25</td>\n",
       "      <td>1000</td>\n",
       "    </tr>\n",
       "    <tr>\n",
       "      <th>1</th>\n",
       "      <td>1000_1</td>\n",
       "      <td>1052.81</td>\n",
       "      <td>2018-09-07</td>\n",
       "      <td>1000</td>\n",
       "    </tr>\n",
       "    <tr>\n",
       "      <th>2</th>\n",
       "      <td>1000_2</td>\n",
       "      <td>1197.26</td>\n",
       "      <td>2018-06-25</td>\n",
       "      <td>1000</td>\n",
       "    </tr>\n",
       "    <tr>\n",
       "      <th>3</th>\n",
       "      <td>1000_3</td>\n",
       "      <td>550.27</td>\n",
       "      <td>2018-08-22</td>\n",
       "      <td>1000</td>\n",
       "    </tr>\n",
       "    <tr>\n",
       "      <th>4</th>\n",
       "      <td>1000_4</td>\n",
       "      <td>302.56</td>\n",
       "      <td>2018-09-24</td>\n",
       "      <td>1000</td>\n",
       "    </tr>\n",
       "  </tbody>\n",
       "</table>\n",
       "</div>"
      ],
      "text/plain": [
       "       id  mb_used session_date  user_id\n",
       "0  1000_0   112.95   2018-11-25     1000\n",
       "1  1000_1  1052.81   2018-09-07     1000\n",
       "2  1000_2  1197.26   2018-06-25     1000\n",
       "3  1000_3   550.27   2018-08-22     1000\n",
       "4  1000_4   302.56   2018-09-24     1000"
      ]
     },
     "execution_count": 39,
     "metadata": {},
     "output_type": "execute_result"
    }
   ],
   "source": [
    "internet.head()"
   ]
  },
  {
   "cell_type": "markdown",
   "metadata": {},
   "source": [
    "Для подсчёта создадим столбец с месяцем."
   ]
  },
  {
   "cell_type": "code",
   "execution_count": 40,
   "metadata": {},
   "outputs": [
    {
     "data": {
      "text/html": [
       "<div>\n",
       "<style scoped>\n",
       "    .dataframe tbody tr th:only-of-type {\n",
       "        vertical-align: middle;\n",
       "    }\n",
       "\n",
       "    .dataframe tbody tr th {\n",
       "        vertical-align: top;\n",
       "    }\n",
       "\n",
       "    .dataframe thead th {\n",
       "        text-align: right;\n",
       "    }\n",
       "</style>\n",
       "<table border=\"1\" class=\"dataframe\">\n",
       "  <thead>\n",
       "    <tr style=\"text-align: right;\">\n",
       "      <th></th>\n",
       "      <th>id</th>\n",
       "      <th>mb_used</th>\n",
       "      <th>session_date</th>\n",
       "      <th>user_id</th>\n",
       "      <th>month</th>\n",
       "    </tr>\n",
       "  </thead>\n",
       "  <tbody>\n",
       "    <tr>\n",
       "      <th>0</th>\n",
       "      <td>1000_0</td>\n",
       "      <td>112.95</td>\n",
       "      <td>2018-11-25</td>\n",
       "      <td>1000</td>\n",
       "      <td>11</td>\n",
       "    </tr>\n",
       "    <tr>\n",
       "      <th>1</th>\n",
       "      <td>1000_1</td>\n",
       "      <td>1052.81</td>\n",
       "      <td>2018-09-07</td>\n",
       "      <td>1000</td>\n",
       "      <td>9</td>\n",
       "    </tr>\n",
       "    <tr>\n",
       "      <th>2</th>\n",
       "      <td>1000_2</td>\n",
       "      <td>1197.26</td>\n",
       "      <td>2018-06-25</td>\n",
       "      <td>1000</td>\n",
       "      <td>6</td>\n",
       "    </tr>\n",
       "    <tr>\n",
       "      <th>3</th>\n",
       "      <td>1000_3</td>\n",
       "      <td>550.27</td>\n",
       "      <td>2018-08-22</td>\n",
       "      <td>1000</td>\n",
       "      <td>8</td>\n",
       "    </tr>\n",
       "    <tr>\n",
       "      <th>4</th>\n",
       "      <td>1000_4</td>\n",
       "      <td>302.56</td>\n",
       "      <td>2018-09-24</td>\n",
       "      <td>1000</td>\n",
       "      <td>9</td>\n",
       "    </tr>\n",
       "  </tbody>\n",
       "</table>\n",
       "</div>"
      ],
      "text/plain": [
       "       id  mb_used session_date  user_id  month\n",
       "0  1000_0   112.95   2018-11-25     1000     11\n",
       "1  1000_1  1052.81   2018-09-07     1000      9\n",
       "2  1000_2  1197.26   2018-06-25     1000      6\n",
       "3  1000_3   550.27   2018-08-22     1000      8\n",
       "4  1000_4   302.56   2018-09-24     1000      9"
      ]
     },
     "execution_count": 40,
     "metadata": {},
     "output_type": "execute_result"
    }
   ],
   "source": [
    "internet['month'] = pd.DatetimeIndex(internet['session_date']).month\n",
    "internet.head()"
   ]
  },
  {
   "cell_type": "code",
   "execution_count": 41,
   "metadata": {},
   "outputs": [
    {
     "data": {
      "text/html": [
       "<div>\n",
       "<style scoped>\n",
       "    .dataframe tbody tr th:only-of-type {\n",
       "        vertical-align: middle;\n",
       "    }\n",
       "\n",
       "    .dataframe tbody tr th {\n",
       "        vertical-align: top;\n",
       "    }\n",
       "\n",
       "    .dataframe thead th {\n",
       "        text-align: right;\n",
       "    }\n",
       "</style>\n",
       "<table border=\"1\" class=\"dataframe\">\n",
       "  <thead>\n",
       "    <tr style=\"text-align: right;\">\n",
       "      <th></th>\n",
       "      <th>user_id</th>\n",
       "      <th>month</th>\n",
       "      <th>mb_used</th>\n",
       "    </tr>\n",
       "  </thead>\n",
       "  <tbody>\n",
       "    <tr>\n",
       "      <th>0</th>\n",
       "      <td>1000</td>\n",
       "      <td>5</td>\n",
       "      <td>2253.49</td>\n",
       "    </tr>\n",
       "    <tr>\n",
       "      <th>1</th>\n",
       "      <td>1000</td>\n",
       "      <td>6</td>\n",
       "      <td>23233.77</td>\n",
       "    </tr>\n",
       "    <tr>\n",
       "      <th>2</th>\n",
       "      <td>1000</td>\n",
       "      <td>7</td>\n",
       "      <td>14003.64</td>\n",
       "    </tr>\n",
       "    <tr>\n",
       "      <th>3</th>\n",
       "      <td>1000</td>\n",
       "      <td>8</td>\n",
       "      <td>14055.93</td>\n",
       "    </tr>\n",
       "    <tr>\n",
       "      <th>4</th>\n",
       "      <td>1000</td>\n",
       "      <td>9</td>\n",
       "      <td>14568.91</td>\n",
       "    </tr>\n",
       "    <tr>\n",
       "      <th>5</th>\n",
       "      <td>1000</td>\n",
       "      <td>10</td>\n",
       "      <td>14702.49</td>\n",
       "    </tr>\n",
       "    <tr>\n",
       "      <th>6</th>\n",
       "      <td>1000</td>\n",
       "      <td>11</td>\n",
       "      <td>14756.47</td>\n",
       "    </tr>\n",
       "    <tr>\n",
       "      <th>7</th>\n",
       "      <td>1000</td>\n",
       "      <td>12</td>\n",
       "      <td>9817.61</td>\n",
       "    </tr>\n",
       "    <tr>\n",
       "      <th>8</th>\n",
       "      <td>1001</td>\n",
       "      <td>11</td>\n",
       "      <td>18429.34</td>\n",
       "    </tr>\n",
       "    <tr>\n",
       "      <th>9</th>\n",
       "      <td>1001</td>\n",
       "      <td>12</td>\n",
       "      <td>14036.66</td>\n",
       "    </tr>\n",
       "  </tbody>\n",
       "</table>\n",
       "</div>"
      ],
      "text/plain": [
       "   user_id  month   mb_used\n",
       "0     1000      5   2253.49\n",
       "1     1000      6  23233.77\n",
       "2     1000      7  14003.64\n",
       "3     1000      8  14055.93\n",
       "4     1000      9  14568.91\n",
       "5     1000     10  14702.49\n",
       "6     1000     11  14756.47\n",
       "7     1000     12   9817.61\n",
       "8     1001     11  18429.34\n",
       "9     1001     12  14036.66"
      ]
     },
     "execution_count": 41,
     "metadata": {},
     "output_type": "execute_result"
    }
   ],
   "source": [
    "internet_pivot = internet.pivot_table(\n",
    "    index = ['user_id', 'month'], # группируем по столбцу user_id и month\n",
    "    values = 'mb_used', # в качестве значений столбец mb_used\n",
    "    aggfunc = 'sum' # считаем объем израсходованного интернет-трафика\n",
    ").reset_index( # перезадаём индекс\n",
    ")\n",
    "internet_pivot.head(10)"
   ]
  },
  {
   "cell_type": "markdown",
   "metadata": {},
   "source": [
    "«Мегалайн» всегда округляет мегабайты до гигабайт.\n",
    "Отдельные сессии не считаются. \n",
    "\n",
    "Вместо этого общая сумма за месяц округляется в бо́льшую сторону. \n",
    "\n",
    "Переведём мегабайты за месяц в гигабайты и округлим вверх:"
   ]
  },
  {
   "cell_type": "code",
   "execution_count": 42,
   "metadata": {
    "scrolled": true
   },
   "outputs": [
    {
     "data": {
      "text/html": [
       "<div>\n",
       "<style scoped>\n",
       "    .dataframe tbody tr th:only-of-type {\n",
       "        vertical-align: middle;\n",
       "    }\n",
       "\n",
       "    .dataframe tbody tr th {\n",
       "        vertical-align: top;\n",
       "    }\n",
       "\n",
       "    .dataframe thead th {\n",
       "        text-align: right;\n",
       "    }\n",
       "</style>\n",
       "<table border=\"1\" class=\"dataframe\">\n",
       "  <thead>\n",
       "    <tr style=\"text-align: right;\">\n",
       "      <th></th>\n",
       "      <th>user_id</th>\n",
       "      <th>month</th>\n",
       "      <th>mb_used</th>\n",
       "      <th>gb_used</th>\n",
       "    </tr>\n",
       "  </thead>\n",
       "  <tbody>\n",
       "    <tr>\n",
       "      <th>0</th>\n",
       "      <td>1000</td>\n",
       "      <td>5</td>\n",
       "      <td>2253.49</td>\n",
       "      <td>3</td>\n",
       "    </tr>\n",
       "    <tr>\n",
       "      <th>1</th>\n",
       "      <td>1000</td>\n",
       "      <td>6</td>\n",
       "      <td>23233.77</td>\n",
       "      <td>23</td>\n",
       "    </tr>\n",
       "    <tr>\n",
       "      <th>2</th>\n",
       "      <td>1000</td>\n",
       "      <td>7</td>\n",
       "      <td>14003.64</td>\n",
       "      <td>14</td>\n",
       "    </tr>\n",
       "    <tr>\n",
       "      <th>3</th>\n",
       "      <td>1000</td>\n",
       "      <td>8</td>\n",
       "      <td>14055.93</td>\n",
       "      <td>14</td>\n",
       "    </tr>\n",
       "    <tr>\n",
       "      <th>4</th>\n",
       "      <td>1000</td>\n",
       "      <td>9</td>\n",
       "      <td>14568.91</td>\n",
       "      <td>15</td>\n",
       "    </tr>\n",
       "  </tbody>\n",
       "</table>\n",
       "</div>"
      ],
      "text/plain": [
       "   user_id  month   mb_used  gb_used\n",
       "0     1000      5   2253.49        3\n",
       "1     1000      6  23233.77       23\n",
       "2     1000      7  14003.64       14\n",
       "3     1000      8  14055.93       14\n",
       "4     1000      9  14568.91       15"
      ]
     },
     "execution_count": 42,
     "metadata": {},
     "output_type": "execute_result"
    }
   ],
   "source": [
    "internet_pivot['gb_used'] = internet_pivot['mb_used']/1024 # переводим в гигабайты\n",
    "internet_pivot['gb_used'] = internet_pivot['gb_used'].apply(np.ceil).astype('int64') # округляем в большую сторону\n",
    "internet_pivot.head() # смотрим, что получилось"
   ]
  },
  {
   "cell_type": "code",
   "execution_count": 43,
   "metadata": {},
   "outputs": [
    {
     "data": {
      "text/html": [
       "<div>\n",
       "<style scoped>\n",
       "    .dataframe tbody tr th:only-of-type {\n",
       "        vertical-align: middle;\n",
       "    }\n",
       "\n",
       "    .dataframe tbody tr th {\n",
       "        vertical-align: top;\n",
       "    }\n",
       "\n",
       "    .dataframe thead th {\n",
       "        text-align: right;\n",
       "    }\n",
       "</style>\n",
       "<table border=\"1\" class=\"dataframe\">\n",
       "  <thead>\n",
       "    <tr style=\"text-align: right;\">\n",
       "      <th></th>\n",
       "      <th>user_id</th>\n",
       "      <th>month</th>\n",
       "      <th>gb_used</th>\n",
       "    </tr>\n",
       "  </thead>\n",
       "  <tbody>\n",
       "    <tr>\n",
       "      <th>0</th>\n",
       "      <td>1000</td>\n",
       "      <td>5</td>\n",
       "      <td>3</td>\n",
       "    </tr>\n",
       "    <tr>\n",
       "      <th>1</th>\n",
       "      <td>1000</td>\n",
       "      <td>6</td>\n",
       "      <td>23</td>\n",
       "    </tr>\n",
       "    <tr>\n",
       "      <th>2</th>\n",
       "      <td>1000</td>\n",
       "      <td>7</td>\n",
       "      <td>14</td>\n",
       "    </tr>\n",
       "    <tr>\n",
       "      <th>3</th>\n",
       "      <td>1000</td>\n",
       "      <td>8</td>\n",
       "      <td>14</td>\n",
       "    </tr>\n",
       "    <tr>\n",
       "      <th>4</th>\n",
       "      <td>1000</td>\n",
       "      <td>9</td>\n",
       "      <td>15</td>\n",
       "    </tr>\n",
       "  </tbody>\n",
       "</table>\n",
       "</div>"
      ],
      "text/plain": [
       "   user_id  month  gb_used\n",
       "0     1000      5        3\n",
       "1     1000      6       23\n",
       "2     1000      7       14\n",
       "3     1000      8       14\n",
       "4     1000      9       15"
      ]
     },
     "execution_count": 43,
     "metadata": {},
     "output_type": "execute_result"
    }
   ],
   "source": [
    "internet_pivot = internet_pivot[['user_id','month','gb_used']] # убираем ставший ненужным столбец\n",
    "internet_pivot.head()"
   ]
  },
  {
   "cell_type": "markdown",
   "metadata": {},
   "source": [
    "#### Таблица messages "
   ]
  },
  {
   "cell_type": "code",
   "execution_count": 44,
   "metadata": {
    "scrolled": true
   },
   "outputs": [
    {
     "data": {
      "text/html": [
       "<div>\n",
       "<style scoped>\n",
       "    .dataframe tbody tr th:only-of-type {\n",
       "        vertical-align: middle;\n",
       "    }\n",
       "\n",
       "    .dataframe tbody tr th {\n",
       "        vertical-align: top;\n",
       "    }\n",
       "\n",
       "    .dataframe thead th {\n",
       "        text-align: right;\n",
       "    }\n",
       "</style>\n",
       "<table border=\"1\" class=\"dataframe\">\n",
       "  <thead>\n",
       "    <tr style=\"text-align: right;\">\n",
       "      <th></th>\n",
       "      <th>id</th>\n",
       "      <th>message_date</th>\n",
       "      <th>user_id</th>\n",
       "    </tr>\n",
       "  </thead>\n",
       "  <tbody>\n",
       "    <tr>\n",
       "      <th>0</th>\n",
       "      <td>1000_0</td>\n",
       "      <td>2018-06-27</td>\n",
       "      <td>1000</td>\n",
       "    </tr>\n",
       "    <tr>\n",
       "      <th>1</th>\n",
       "      <td>1000_1</td>\n",
       "      <td>2018-10-08</td>\n",
       "      <td>1000</td>\n",
       "    </tr>\n",
       "    <tr>\n",
       "      <th>2</th>\n",
       "      <td>1000_2</td>\n",
       "      <td>2018-08-04</td>\n",
       "      <td>1000</td>\n",
       "    </tr>\n",
       "    <tr>\n",
       "      <th>3</th>\n",
       "      <td>1000_3</td>\n",
       "      <td>2018-06-16</td>\n",
       "      <td>1000</td>\n",
       "    </tr>\n",
       "    <tr>\n",
       "      <th>4</th>\n",
       "      <td>1000_4</td>\n",
       "      <td>2018-12-05</td>\n",
       "      <td>1000</td>\n",
       "    </tr>\n",
       "  </tbody>\n",
       "</table>\n",
       "</div>"
      ],
      "text/plain": [
       "       id message_date  user_id\n",
       "0  1000_0   2018-06-27     1000\n",
       "1  1000_1   2018-10-08     1000\n",
       "2  1000_2   2018-08-04     1000\n",
       "3  1000_3   2018-06-16     1000\n",
       "4  1000_4   2018-12-05     1000"
      ]
     },
     "execution_count": 44,
     "metadata": {},
     "output_type": "execute_result"
    }
   ],
   "source": [
    "messages.head()"
   ]
  },
  {
   "cell_type": "markdown",
   "metadata": {},
   "source": [
    "Для подсчёта создадим столбец с месяцем."
   ]
  },
  {
   "cell_type": "code",
   "execution_count": 45,
   "metadata": {},
   "outputs": [
    {
     "data": {
      "text/html": [
       "<div>\n",
       "<style scoped>\n",
       "    .dataframe tbody tr th:only-of-type {\n",
       "        vertical-align: middle;\n",
       "    }\n",
       "\n",
       "    .dataframe tbody tr th {\n",
       "        vertical-align: top;\n",
       "    }\n",
       "\n",
       "    .dataframe thead th {\n",
       "        text-align: right;\n",
       "    }\n",
       "</style>\n",
       "<table border=\"1\" class=\"dataframe\">\n",
       "  <thead>\n",
       "    <tr style=\"text-align: right;\">\n",
       "      <th></th>\n",
       "      <th>id</th>\n",
       "      <th>message_date</th>\n",
       "      <th>user_id</th>\n",
       "      <th>month</th>\n",
       "    </tr>\n",
       "  </thead>\n",
       "  <tbody>\n",
       "    <tr>\n",
       "      <th>0</th>\n",
       "      <td>1000_0</td>\n",
       "      <td>2018-06-27</td>\n",
       "      <td>1000</td>\n",
       "      <td>6</td>\n",
       "    </tr>\n",
       "    <tr>\n",
       "      <th>1</th>\n",
       "      <td>1000_1</td>\n",
       "      <td>2018-10-08</td>\n",
       "      <td>1000</td>\n",
       "      <td>10</td>\n",
       "    </tr>\n",
       "    <tr>\n",
       "      <th>2</th>\n",
       "      <td>1000_2</td>\n",
       "      <td>2018-08-04</td>\n",
       "      <td>1000</td>\n",
       "      <td>8</td>\n",
       "    </tr>\n",
       "    <tr>\n",
       "      <th>3</th>\n",
       "      <td>1000_3</td>\n",
       "      <td>2018-06-16</td>\n",
       "      <td>1000</td>\n",
       "      <td>6</td>\n",
       "    </tr>\n",
       "    <tr>\n",
       "      <th>4</th>\n",
       "      <td>1000_4</td>\n",
       "      <td>2018-12-05</td>\n",
       "      <td>1000</td>\n",
       "      <td>12</td>\n",
       "    </tr>\n",
       "  </tbody>\n",
       "</table>\n",
       "</div>"
      ],
      "text/plain": [
       "       id message_date  user_id  month\n",
       "0  1000_0   2018-06-27     1000      6\n",
       "1  1000_1   2018-10-08     1000     10\n",
       "2  1000_2   2018-08-04     1000      8\n",
       "3  1000_3   2018-06-16     1000      6\n",
       "4  1000_4   2018-12-05     1000     12"
      ]
     },
     "execution_count": 45,
     "metadata": {},
     "output_type": "execute_result"
    }
   ],
   "source": [
    "messages['month'] = pd.DatetimeIndex(messages['message_date']).month\n",
    "messages.head()"
   ]
  },
  {
   "cell_type": "code",
   "execution_count": 46,
   "metadata": {},
   "outputs": [
    {
     "data": {
      "text/html": [
       "<div>\n",
       "<style scoped>\n",
       "    .dataframe tbody tr th:only-of-type {\n",
       "        vertical-align: middle;\n",
       "    }\n",
       "\n",
       "    .dataframe tbody tr th {\n",
       "        vertical-align: top;\n",
       "    }\n",
       "\n",
       "    .dataframe thead th {\n",
       "        text-align: right;\n",
       "    }\n",
       "</style>\n",
       "<table border=\"1\" class=\"dataframe\">\n",
       "  <thead>\n",
       "    <tr style=\"text-align: right;\">\n",
       "      <th></th>\n",
       "      <th>user_id</th>\n",
       "      <th>month</th>\n",
       "      <th>count_messages</th>\n",
       "    </tr>\n",
       "  </thead>\n",
       "  <tbody>\n",
       "    <tr>\n",
       "      <th>0</th>\n",
       "      <td>1000</td>\n",
       "      <td>5</td>\n",
       "      <td>22</td>\n",
       "    </tr>\n",
       "    <tr>\n",
       "      <th>1</th>\n",
       "      <td>1000</td>\n",
       "      <td>6</td>\n",
       "      <td>60</td>\n",
       "    </tr>\n",
       "    <tr>\n",
       "      <th>2</th>\n",
       "      <td>1000</td>\n",
       "      <td>7</td>\n",
       "      <td>75</td>\n",
       "    </tr>\n",
       "    <tr>\n",
       "      <th>3</th>\n",
       "      <td>1000</td>\n",
       "      <td>8</td>\n",
       "      <td>81</td>\n",
       "    </tr>\n",
       "    <tr>\n",
       "      <th>4</th>\n",
       "      <td>1000</td>\n",
       "      <td>9</td>\n",
       "      <td>57</td>\n",
       "    </tr>\n",
       "    <tr>\n",
       "      <th>5</th>\n",
       "      <td>1000</td>\n",
       "      <td>10</td>\n",
       "      <td>73</td>\n",
       "    </tr>\n",
       "    <tr>\n",
       "      <th>6</th>\n",
       "      <td>1000</td>\n",
       "      <td>11</td>\n",
       "      <td>58</td>\n",
       "    </tr>\n",
       "    <tr>\n",
       "      <th>7</th>\n",
       "      <td>1000</td>\n",
       "      <td>12</td>\n",
       "      <td>70</td>\n",
       "    </tr>\n",
       "    <tr>\n",
       "      <th>8</th>\n",
       "      <td>1002</td>\n",
       "      <td>6</td>\n",
       "      <td>4</td>\n",
       "    </tr>\n",
       "    <tr>\n",
       "      <th>9</th>\n",
       "      <td>1002</td>\n",
       "      <td>7</td>\n",
       "      <td>11</td>\n",
       "    </tr>\n",
       "  </tbody>\n",
       "</table>\n",
       "</div>"
      ],
      "text/plain": [
       "   user_id  month  count_messages\n",
       "0     1000      5              22\n",
       "1     1000      6              60\n",
       "2     1000      7              75\n",
       "3     1000      8              81\n",
       "4     1000      9              57\n",
       "5     1000     10              73\n",
       "6     1000     11              58\n",
       "7     1000     12              70\n",
       "8     1002      6               4\n",
       "9     1002      7              11"
      ]
     },
     "execution_count": 46,
     "metadata": {},
     "output_type": "execute_result"
    }
   ],
   "source": [
    "messages_pivot = messages.pivot_table(\n",
    "    index = ['user_id', 'month'],      # группируем по столбцу user_id и month\n",
    "    values = 'id', # \n",
    "    aggfunc = 'count' \n",
    ").reset_index()\n",
    "messages_pivot.columns = ['user_id','month','count_messages'] \n",
    "messages_pivot.head(10)"
   ]
  },
  {
   "cell_type": "markdown",
   "metadata": {},
   "source": [
    "#### Объединение таблиц"
   ]
  },
  {
   "cell_type": "markdown",
   "metadata": {},
   "source": [
    "Создадим общую таблицу df, где будут все необходимые данные для расчётов."
   ]
  },
  {
   "cell_type": "code",
   "execution_count": 47,
   "metadata": {},
   "outputs": [
    {
     "data": {
      "text/html": [
       "<div>\n",
       "<style scoped>\n",
       "    .dataframe tbody tr th:only-of-type {\n",
       "        vertical-align: middle;\n",
       "    }\n",
       "\n",
       "    .dataframe tbody tr th {\n",
       "        vertical-align: top;\n",
       "    }\n",
       "\n",
       "    .dataframe thead th {\n",
       "        text-align: right;\n",
       "    }\n",
       "</style>\n",
       "<table border=\"1\" class=\"dataframe\">\n",
       "  <thead>\n",
       "    <tr style=\"text-align: right;\">\n",
       "      <th></th>\n",
       "      <th>user_id</th>\n",
       "      <th>month</th>\n",
       "      <th>count_calls</th>\n",
       "      <th>sum_duration_calls</th>\n",
       "      <th>gb_used</th>\n",
       "      <th>count_messages</th>\n",
       "      <th>tariff</th>\n",
       "      <th>city</th>\n",
       "      <th>messages_included</th>\n",
       "      <th>mb_per_month_included</th>\n",
       "      <th>minutes_included</th>\n",
       "      <th>rub_monthly_fee</th>\n",
       "      <th>rub_per_gb</th>\n",
       "      <th>rub_per_message</th>\n",
       "      <th>rub_per_minute</th>\n",
       "    </tr>\n",
       "  </thead>\n",
       "  <tbody>\n",
       "    <tr>\n",
       "      <th>0</th>\n",
       "      <td>1000</td>\n",
       "      <td>5.0</td>\n",
       "      <td>22.0</td>\n",
       "      <td>159.0</td>\n",
       "      <td>3.0</td>\n",
       "      <td>22.0</td>\n",
       "      <td>ultra</td>\n",
       "      <td>Краснодар</td>\n",
       "      <td>1000</td>\n",
       "      <td>30720</td>\n",
       "      <td>3000</td>\n",
       "      <td>1950</td>\n",
       "      <td>150</td>\n",
       "      <td>1</td>\n",
       "      <td>1</td>\n",
       "    </tr>\n",
       "    <tr>\n",
       "      <th>1</th>\n",
       "      <td>1000</td>\n",
       "      <td>6.0</td>\n",
       "      <td>43.0</td>\n",
       "      <td>172.0</td>\n",
       "      <td>23.0</td>\n",
       "      <td>60.0</td>\n",
       "      <td>ultra</td>\n",
       "      <td>Краснодар</td>\n",
       "      <td>1000</td>\n",
       "      <td>30720</td>\n",
       "      <td>3000</td>\n",
       "      <td>1950</td>\n",
       "      <td>150</td>\n",
       "      <td>1</td>\n",
       "      <td>1</td>\n",
       "    </tr>\n",
       "    <tr>\n",
       "      <th>2</th>\n",
       "      <td>1000</td>\n",
       "      <td>7.0</td>\n",
       "      <td>47.0</td>\n",
       "      <td>340.0</td>\n",
       "      <td>14.0</td>\n",
       "      <td>75.0</td>\n",
       "      <td>ultra</td>\n",
       "      <td>Краснодар</td>\n",
       "      <td>1000</td>\n",
       "      <td>30720</td>\n",
       "      <td>3000</td>\n",
       "      <td>1950</td>\n",
       "      <td>150</td>\n",
       "      <td>1</td>\n",
       "      <td>1</td>\n",
       "    </tr>\n",
       "    <tr>\n",
       "      <th>3</th>\n",
       "      <td>1000</td>\n",
       "      <td>8.0</td>\n",
       "      <td>52.0</td>\n",
       "      <td>408.0</td>\n",
       "      <td>14.0</td>\n",
       "      <td>81.0</td>\n",
       "      <td>ultra</td>\n",
       "      <td>Краснодар</td>\n",
       "      <td>1000</td>\n",
       "      <td>30720</td>\n",
       "      <td>3000</td>\n",
       "      <td>1950</td>\n",
       "      <td>150</td>\n",
       "      <td>1</td>\n",
       "      <td>1</td>\n",
       "    </tr>\n",
       "    <tr>\n",
       "      <th>4</th>\n",
       "      <td>1000</td>\n",
       "      <td>9.0</td>\n",
       "      <td>58.0</td>\n",
       "      <td>466.0</td>\n",
       "      <td>15.0</td>\n",
       "      <td>57.0</td>\n",
       "      <td>ultra</td>\n",
       "      <td>Краснодар</td>\n",
       "      <td>1000</td>\n",
       "      <td>30720</td>\n",
       "      <td>3000</td>\n",
       "      <td>1950</td>\n",
       "      <td>150</td>\n",
       "      <td>1</td>\n",
       "      <td>1</td>\n",
       "    </tr>\n",
       "  </tbody>\n",
       "</table>\n",
       "</div>"
      ],
      "text/plain": [
       "   user_id  month  count_calls  sum_duration_calls  gb_used  count_messages  \\\n",
       "0     1000    5.0         22.0               159.0      3.0            22.0   \n",
       "1     1000    6.0         43.0               172.0     23.0            60.0   \n",
       "2     1000    7.0         47.0               340.0     14.0            75.0   \n",
       "3     1000    8.0         52.0               408.0     14.0            81.0   \n",
       "4     1000    9.0         58.0               466.0     15.0            57.0   \n",
       "\n",
       "  tariff       city  messages_included  mb_per_month_included  \\\n",
       "0  ultra  Краснодар               1000                  30720   \n",
       "1  ultra  Краснодар               1000                  30720   \n",
       "2  ultra  Краснодар               1000                  30720   \n",
       "3  ultra  Краснодар               1000                  30720   \n",
       "4  ultra  Краснодар               1000                  30720   \n",
       "\n",
       "   minutes_included  rub_monthly_fee  rub_per_gb  rub_per_message  \\\n",
       "0              3000             1950         150                1   \n",
       "1              3000             1950         150                1   \n",
       "2              3000             1950         150                1   \n",
       "3              3000             1950         150                1   \n",
       "4              3000             1950         150                1   \n",
       "\n",
       "   rub_per_minute  \n",
       "0               1  \n",
       "1               1  \n",
       "2               1  \n",
       "3               1  \n",
       "4               1  "
      ]
     },
     "execution_count": 47,
     "metadata": {},
     "output_type": "execute_result"
    }
   ],
   "source": [
    "df = calls_pivot.merge(                   # к сводной таблице звонков\n",
    "    internet_pivot,                       # присоединяем сводную таблицу с интернет-трафиком\n",
    "    on = ['user_id', 'month'],            # нужно объединять по двум столбцам\n",
    "    how = 'outer'                         # нам нужны все столбцы\n",
    ").merge(                                  # далее присоединяем\n",
    "    messages_pivot,                       # сводную таблицу с сообщениями\n",
    "    on = ['user_id', 'month'],            # нужно объединять по двум столбцам\n",
    "    how = 'outer'                         # нам нужны все столбцы\n",
    ").merge(                                  # далее присоединяем\n",
    "    users[['user_id', 'tariff', 'city']], # только эти столбцы таблицы пользователей\n",
    "    on = 'user_id',                       # по столбцу user_id добавится тариф и город этого пользователя\n",
    "    how = 'outer'                         # нам нужны все столбцы\n",
    ").merge(                                  # далее присоединяем\n",
    "    tariffs.rename(columns = {'tariff_name':'tariff'}), # чтобы всё сошлось\n",
    "    on = 'tariff',                        # по столбцу tariff добавятся все характеристики этого тарифа\n",
    "    how = 'outer'                         # нам нужны все столбцы\n",
    ")\n",
    "df.head(5)"
   ]
  },
  {
   "cell_type": "code",
   "execution_count": 48,
   "metadata": {},
   "outputs": [
    {
     "data": {
      "text/plain": [
       "(3216, 15)"
      ]
     },
     "execution_count": 48,
     "metadata": {},
     "output_type": "execute_result"
    }
   ],
   "source": [
    "df.shape"
   ]
  },
  {
   "cell_type": "markdown",
   "metadata": {},
   "source": [
    "#### Расчёт выручки "
   ]
  },
  {
   "cell_type": "markdown",
   "metadata": {},
   "source": [
    "Напишем функцию, которая считает ежемесячную выручку с каждого пользователя:\n",
    "1) вычитает бесплатный лимит из суммарного количества звонков, сообщений и интернет-трафика;\n",
    "\n",
    "2) остаток умножает на значение из тарифного плана; \n",
    "\n",
    "3) прибавляет абонентскую плату, соответствующую тарифному плану"
   ]
  },
  {
   "cell_type": "code",
   "execution_count": 49,
   "metadata": {},
   "outputs": [],
   "source": [
    "def revenue_month_user (row):\n",
    "    try:\n",
    "        payed_minutes = row['sum_duration_calls'] - row['minutes_included']\n",
    "        payed_messages =  row['count_messages'] - row['messages_included']\n",
    "        payed_gb = row['gb_used'] - (row['mb_per_month_included']/1024)\n",
    "        revenue = 0\n",
    "        if payed_minutes > 0:\n",
    "            revenue += payed_minutes*row['rub_per_minute']\n",
    "        if payed_messages > 0:\n",
    "            revenue += payed_messages*row['rub_per_message']\n",
    "        if payed_gb > 0:\n",
    "            revenue += payed_gb*row['rub_per_gb']\n",
    "        revenue += row['rub_monthly_fee']\n",
    "        return revenue\n",
    "    except:\n",
    "        return 'в данных ошибка'"
   ]
  },
  {
   "cell_type": "code",
   "execution_count": 50,
   "metadata": {},
   "outputs": [],
   "source": [
    "df['revenue'] = df.apply(revenue_month_user, axis=1) # применяем функцию к строкам датафрейма"
   ]
  },
  {
   "cell_type": "code",
   "execution_count": 51,
   "metadata": {
    "scrolled": true
   },
   "outputs": [
    {
     "data": {
      "text/plain": [
       "0"
      ]
     },
     "execution_count": 51,
     "metadata": {},
     "output_type": "execute_result"
    }
   ],
   "source": [
    "len(df[df['revenue'] == 'в данных ошибка']) # проверим, нет ли ошибок"
   ]
  },
  {
   "cell_type": "markdown",
   "metadata": {},
   "source": [
    "Ошибок нет."
   ]
  },
  {
   "cell_type": "code",
   "execution_count": 52,
   "metadata": {
    "scrolled": false
   },
   "outputs": [
    {
     "data": {
      "text/html": [
       "<div>\n",
       "<style scoped>\n",
       "    .dataframe tbody tr th:only-of-type {\n",
       "        vertical-align: middle;\n",
       "    }\n",
       "\n",
       "    .dataframe tbody tr th {\n",
       "        vertical-align: top;\n",
       "    }\n",
       "\n",
       "    .dataframe thead th {\n",
       "        text-align: right;\n",
       "    }\n",
       "</style>\n",
       "<table border=\"1\" class=\"dataframe\">\n",
       "  <thead>\n",
       "    <tr style=\"text-align: right;\">\n",
       "      <th></th>\n",
       "      <th>user_id</th>\n",
       "      <th>month</th>\n",
       "      <th>count_calls</th>\n",
       "      <th>sum_duration_calls</th>\n",
       "      <th>gb_used</th>\n",
       "      <th>count_messages</th>\n",
       "      <th>tariff</th>\n",
       "      <th>city</th>\n",
       "      <th>messages_included</th>\n",
       "      <th>mb_per_month_included</th>\n",
       "      <th>minutes_included</th>\n",
       "      <th>rub_monthly_fee</th>\n",
       "      <th>rub_per_gb</th>\n",
       "      <th>rub_per_message</th>\n",
       "      <th>rub_per_minute</th>\n",
       "      <th>revenue</th>\n",
       "    </tr>\n",
       "  </thead>\n",
       "  <tbody>\n",
       "    <tr>\n",
       "      <th>1613</th>\n",
       "      <td>1136</td>\n",
       "      <td>12.0</td>\n",
       "      <td>64.0</td>\n",
       "      <td>471.0</td>\n",
       "      <td>31.0</td>\n",
       "      <td>90.0</td>\n",
       "      <td>smart</td>\n",
       "      <td>Липецк</td>\n",
       "      <td>50</td>\n",
       "      <td>15360</td>\n",
       "      <td>500</td>\n",
       "      <td>550</td>\n",
       "      <td>200</td>\n",
       "      <td>3</td>\n",
       "      <td>3</td>\n",
       "      <td>3870.0</td>\n",
       "    </tr>\n",
       "    <tr>\n",
       "      <th>3188</th>\n",
       "      <td>1496</td>\n",
       "      <td>2.0</td>\n",
       "      <td>77.0</td>\n",
       "      <td>594.0</td>\n",
       "      <td>28.0</td>\n",
       "      <td>45.0</td>\n",
       "      <td>smart</td>\n",
       "      <td>Вологда</td>\n",
       "      <td>50</td>\n",
       "      <td>15360</td>\n",
       "      <td>500</td>\n",
       "      <td>550</td>\n",
       "      <td>200</td>\n",
       "      <td>3</td>\n",
       "      <td>3</td>\n",
       "      <td>3432.0</td>\n",
       "    </tr>\n",
       "    <tr>\n",
       "      <th>138</th>\n",
       "      <td>1089</td>\n",
       "      <td>3.0</td>\n",
       "      <td>83.0</td>\n",
       "      <td>626.0</td>\n",
       "      <td>18.0</td>\n",
       "      <td>155.0</td>\n",
       "      <td>ultra</td>\n",
       "      <td>Иркутск</td>\n",
       "      <td>1000</td>\n",
       "      <td>30720</td>\n",
       "      <td>3000</td>\n",
       "      <td>1950</td>\n",
       "      <td>150</td>\n",
       "      <td>1</td>\n",
       "      <td>1</td>\n",
       "      <td>1950.0</td>\n",
       "    </tr>\n",
       "    <tr>\n",
       "      <th>2606</th>\n",
       "      <td>1366</td>\n",
       "      <td>10.0</td>\n",
       "      <td>38.0</td>\n",
       "      <td>254.0</td>\n",
       "      <td>7.0</td>\n",
       "      <td>44.0</td>\n",
       "      <td>smart</td>\n",
       "      <td>Санкт-Петербург</td>\n",
       "      <td>50</td>\n",
       "      <td>15360</td>\n",
       "      <td>500</td>\n",
       "      <td>550</td>\n",
       "      <td>200</td>\n",
       "      <td>3</td>\n",
       "      <td>3</td>\n",
       "      <td>550.0</td>\n",
       "    </tr>\n",
       "    <tr>\n",
       "      <th>3134</th>\n",
       "      <td>1482</td>\n",
       "      <td>5.0</td>\n",
       "      <td>59.0</td>\n",
       "      <td>360.0</td>\n",
       "      <td>13.0</td>\n",
       "      <td>61.0</td>\n",
       "      <td>smart</td>\n",
       "      <td>Санкт-Петербург</td>\n",
       "      <td>50</td>\n",
       "      <td>15360</td>\n",
       "      <td>500</td>\n",
       "      <td>550</td>\n",
       "      <td>200</td>\n",
       "      <td>3</td>\n",
       "      <td>3</td>\n",
       "      <td>583.0</td>\n",
       "    </tr>\n",
       "  </tbody>\n",
       "</table>\n",
       "</div>"
      ],
      "text/plain": [
       "      user_id  month  count_calls  sum_duration_calls  gb_used  \\\n",
       "1613     1136   12.0         64.0               471.0     31.0   \n",
       "3188     1496    2.0         77.0               594.0     28.0   \n",
       "138      1089    3.0         83.0               626.0     18.0   \n",
       "2606     1366   10.0         38.0               254.0      7.0   \n",
       "3134     1482    5.0         59.0               360.0     13.0   \n",
       "\n",
       "      count_messages tariff             city  messages_included  \\\n",
       "1613            90.0  smart           Липецк                 50   \n",
       "3188            45.0  smart          Вологда                 50   \n",
       "138            155.0  ultra          Иркутск               1000   \n",
       "2606            44.0  smart  Санкт-Петербург                 50   \n",
       "3134            61.0  smart  Санкт-Петербург                 50   \n",
       "\n",
       "      mb_per_month_included  minutes_included  rub_monthly_fee  rub_per_gb  \\\n",
       "1613                  15360               500              550         200   \n",
       "3188                  15360               500              550         200   \n",
       "138                   30720              3000             1950         150   \n",
       "2606                  15360               500              550         200   \n",
       "3134                  15360               500              550         200   \n",
       "\n",
       "      rub_per_message  rub_per_minute  revenue  \n",
       "1613                3               3   3870.0  \n",
       "3188                3               3   3432.0  \n",
       "138                 1               1   1950.0  \n",
       "2606                3               3    550.0  \n",
       "3134                3               3    583.0  "
      ]
     },
     "execution_count": 52,
     "metadata": {},
     "output_type": "execute_result"
    }
   ],
   "source": [
    "df.sample(5) # просмотр и контроль работы функции"
   ]
  },
  {
   "cell_type": "code",
   "execution_count": 53,
   "metadata": {},
   "outputs": [
    {
     "data": {
      "text/plain": [
       "count    3216.000000\n",
       "mean     1528.902674\n",
       "std       798.224060\n",
       "min       550.000000\n",
       "25%       750.000000\n",
       "50%      1653.500000\n",
       "75%      1950.000000\n",
       "max      6770.000000\n",
       "Name: revenue, dtype: float64"
      ]
     },
     "execution_count": 53,
     "metadata": {},
     "output_type": "execute_result"
    }
   ],
   "source": [
    "df['revenue'].describe() "
   ]
  },
  {
   "cell_type": "markdown",
   "metadata": {},
   "source": [
    "Значения от 550 (абонентская плата за тариф Smart) до 6770 рублей, среднее 1528 рублей, медиана 1653 рубля.  "
   ]
  },
  {
   "cell_type": "markdown",
   "metadata": {},
   "source": [
    "Посмотрим на график выручки для пользователей обоих тарифов:"
   ]
  },
  {
   "cell_type": "code",
   "execution_count": 54,
   "metadata": {},
   "outputs": [
    {
     "data": {
      "image/png": "[encoded data removed]",
      "text/plain": [
       "<Figure size 720x504 with 1 Axes>"
      ]
     },
     "metadata": {
      "needs_background": "light"
     },
     "output_type": "display_data"
    }
   ],
   "source": [
    "revenue_smart = df[df['tariff'] == 'smart']['revenue']   # выручка на тарифе Смарт\n",
    "mean_revenue_smart = round(revenue_smart.mean())         # посчитаем среднюю выручку\n",
    "mean_revenue_smart_label = f'Cредняя выручка Smart = {mean_revenue_smart}' # сделаем подпись\n",
    "revenue_ultra = df[df['tariff'] == 'ultra']['revenue']   # выручка на тарифе Ультра\n",
    "mean_revenue_ultra = round(revenue_ultra.mean())         # посчитаем среднюю выручку\n",
    "mean_revenue_ultra_label = f'Cредняя выручка Ultra = {mean_revenue_ultra}' # сделаем подпись\n",
    "\n",
    "plt.figure(figsize=(10, 7))       # размер\n",
    "plt.suptitle('Выручка в месяц', fontsize = 16)   # заголовок \n",
    "\n",
    "t1 = plt.text (mean_revenue_smart+100, 1000, mean_revenue_smart_label, fontsize = 12)\n",
    "t1.set_bbox(dict(facecolor='teal', alpha=0.3, edgecolor='teal'))\n",
    "# подпись средней выручки\n",
    "plt.vlines (mean_revenue_smart, 0, 1280, color = 'teal', alpha = 0.9)  # линия средней выручки\n",
    "\n",
    "t2 = plt.text (mean_revenue_ultra+100, 1200, mean_revenue_ultra_label, fontsize = 12)\n",
    "t2.set_bbox(dict(facecolor='orange', alpha=0.3, edgecolor='orange'))\n",
    "# подпись средней выручки\n",
    "plt.vlines (mean_revenue_ultra, 0, 1280, color = 'darkorange', alpha = 0.9)  # линия средней выручки\n",
    "plt.grid(True)\n",
    "plt.hist(revenue_smart,  alpha = 0.6, label='Тариф Smart', color = 'teal')    # первый график\n",
    "plt.hist(revenue_ultra,  alpha = 0.6, label='Тариф Ultra', color = 'orange')  # второй график\n",
    "plt.xlabel('Рублей в месяц', fontsize = 12)            # подпись горизонтальной оси \n",
    "plt.ylabel('Частота встречаемости', fontsize = 12)     # подпись вертикальной оси  \n",
    "plt.legend(loc='upper right', fontsize = 12)           # легенда \n",
    "plt.show()"
   ]
  },
  {
   "cell_type": "markdown",
   "metadata": {},
   "source": [
    "График показывает, что пользователи тарифа  в среднем приносят больше выручки, но их количество меньше."
   ]
  },
  {
   "cell_type": "markdown",
   "metadata": {},
   "source": [
    "## Анализ данных"
   ]
  },
  {
   "cell_type": "markdown",
   "metadata": {},
   "source": [
    "Посмотрим, сколько пользователей на каждом тарифе."
   ]
  },
  {
   "cell_type": "code",
   "execution_count": 55,
   "metadata": {
    "scrolled": true
   },
   "outputs": [
    {
     "data": {
      "text/plain": [
       "smart    2230\n",
       "ultra     986\n",
       "Name: tariff, dtype: int64"
      ]
     },
     "execution_count": 55,
     "metadata": {},
     "output_type": "execute_result"
    }
   ],
   "source": [
    "df['tariff'].value_counts() "
   ]
  },
  {
   "cell_type": "markdown",
   "metadata": {},
   "source": [
    "### Пользовательское поведение\n"
   ]
  },
  {
   "cell_type": "markdown",
   "metadata": {},
   "source": [
    "#### Пользователи с тарифом \"Smart\""
   ]
  },
  {
   "cell_type": "code",
   "execution_count": 56,
   "metadata": {},
   "outputs": [
    {
     "data": {
      "text/html": [
       "<div>\n",
       "<style scoped>\n",
       "    .dataframe tbody tr th:only-of-type {\n",
       "        vertical-align: middle;\n",
       "    }\n",
       "\n",
       "    .dataframe tbody tr th {\n",
       "        vertical-align: top;\n",
       "    }\n",
       "\n",
       "    .dataframe thead th {\n",
       "        text-align: right;\n",
       "    }\n",
       "</style>\n",
       "<table border=\"1\" class=\"dataframe\">\n",
       "  <thead>\n",
       "    <tr style=\"text-align: right;\">\n",
       "      <th></th>\n",
       "      <th>user_id</th>\n",
       "      <th>month</th>\n",
       "      <th>count_calls</th>\n",
       "      <th>sum_duration_calls</th>\n",
       "      <th>gb_used</th>\n",
       "      <th>count_messages</th>\n",
       "      <th>tariff</th>\n",
       "      <th>city</th>\n",
       "      <th>messages_included</th>\n",
       "      <th>mb_per_month_included</th>\n",
       "      <th>minutes_included</th>\n",
       "      <th>rub_monthly_fee</th>\n",
       "      <th>rub_per_gb</th>\n",
       "      <th>rub_per_message</th>\n",
       "      <th>rub_per_minute</th>\n",
       "      <th>revenue</th>\n",
       "    </tr>\n",
       "  </thead>\n",
       "  <tbody>\n",
       "    <tr>\n",
       "      <th>986</th>\n",
       "      <td>1001</td>\n",
       "      <td>11.0</td>\n",
       "      <td>59.0</td>\n",
       "      <td>430.0</td>\n",
       "      <td>18.0</td>\n",
       "      <td>NaN</td>\n",
       "      <td>smart</td>\n",
       "      <td>Москва</td>\n",
       "      <td>50</td>\n",
       "      <td>15360</td>\n",
       "      <td>500</td>\n",
       "      <td>550</td>\n",
       "      <td>200</td>\n",
       "      <td>3</td>\n",
       "      <td>3</td>\n",
       "      <td>1150.0</td>\n",
       "    </tr>\n",
       "    <tr>\n",
       "      <th>987</th>\n",
       "      <td>1001</td>\n",
       "      <td>12.0</td>\n",
       "      <td>63.0</td>\n",
       "      <td>414.0</td>\n",
       "      <td>14.0</td>\n",
       "      <td>NaN</td>\n",
       "      <td>smart</td>\n",
       "      <td>Москва</td>\n",
       "      <td>50</td>\n",
       "      <td>15360</td>\n",
       "      <td>500</td>\n",
       "      <td>550</td>\n",
       "      <td>200</td>\n",
       "      <td>3</td>\n",
       "      <td>3</td>\n",
       "      <td>550.0</td>\n",
       "    </tr>\n",
       "    <tr>\n",
       "      <th>988</th>\n",
       "      <td>1002</td>\n",
       "      <td>6.0</td>\n",
       "      <td>15.0</td>\n",
       "      <td>117.0</td>\n",
       "      <td>11.0</td>\n",
       "      <td>4.0</td>\n",
       "      <td>smart</td>\n",
       "      <td>Стерлитамак</td>\n",
       "      <td>50</td>\n",
       "      <td>15360</td>\n",
       "      <td>500</td>\n",
       "      <td>550</td>\n",
       "      <td>200</td>\n",
       "      <td>3</td>\n",
       "      <td>3</td>\n",
       "      <td>550.0</td>\n",
       "    </tr>\n",
       "    <tr>\n",
       "      <th>989</th>\n",
       "      <td>1002</td>\n",
       "      <td>7.0</td>\n",
       "      <td>26.0</td>\n",
       "      <td>214.0</td>\n",
       "      <td>18.0</td>\n",
       "      <td>11.0</td>\n",
       "      <td>smart</td>\n",
       "      <td>Стерлитамак</td>\n",
       "      <td>50</td>\n",
       "      <td>15360</td>\n",
       "      <td>500</td>\n",
       "      <td>550</td>\n",
       "      <td>200</td>\n",
       "      <td>3</td>\n",
       "      <td>3</td>\n",
       "      <td>1150.0</td>\n",
       "    </tr>\n",
       "    <tr>\n",
       "      <th>990</th>\n",
       "      <td>1002</td>\n",
       "      <td>8.0</td>\n",
       "      <td>42.0</td>\n",
       "      <td>289.0</td>\n",
       "      <td>20.0</td>\n",
       "      <td>13.0</td>\n",
       "      <td>smart</td>\n",
       "      <td>Стерлитамак</td>\n",
       "      <td>50</td>\n",
       "      <td>15360</td>\n",
       "      <td>500</td>\n",
       "      <td>550</td>\n",
       "      <td>200</td>\n",
       "      <td>3</td>\n",
       "      <td>3</td>\n",
       "      <td>1550.0</td>\n",
       "    </tr>\n",
       "  </tbody>\n",
       "</table>\n",
       "</div>"
      ],
      "text/plain": [
       "     user_id  month  count_calls  sum_duration_calls  gb_used  count_messages  \\\n",
       "986     1001   11.0         59.0               430.0     18.0             NaN   \n",
       "987     1001   12.0         63.0               414.0     14.0             NaN   \n",
       "988     1002    6.0         15.0               117.0     11.0             4.0   \n",
       "989     1002    7.0         26.0               214.0     18.0            11.0   \n",
       "990     1002    8.0         42.0               289.0     20.0            13.0   \n",
       "\n",
       "    tariff         city  messages_included  mb_per_month_included  \\\n",
       "986  smart       Москва                 50                  15360   \n",
       "987  smart       Москва                 50                  15360   \n",
       "988  smart  Стерлитамак                 50                  15360   \n",
       "989  smart  Стерлитамак                 50                  15360   \n",
       "990  smart  Стерлитамак                 50                  15360   \n",
       "\n",
       "     minutes_included  rub_monthly_fee  rub_per_gb  rub_per_message  \\\n",
       "986               500              550         200                3   \n",
       "987               500              550         200                3   \n",
       "988               500              550         200                3   \n",
       "989               500              550         200                3   \n",
       "990               500              550         200                3   \n",
       "\n",
       "     rub_per_minute  revenue  \n",
       "986               3   1150.0  \n",
       "987               3    550.0  \n",
       "988               3    550.0  \n",
       "989               3   1150.0  \n",
       "990               3   1550.0  "
      ]
     },
     "execution_count": 56,
     "metadata": {},
     "output_type": "execute_result"
    }
   ],
   "source": [
    "df[df['tariff'] == 'smart'].head()"
   ]
  },
  {
   "cell_type": "markdown",
   "metadata": {},
   "source": [
    "Посмотрим описание данных:"
   ]
  },
  {
   "cell_type": "code",
   "execution_count": 57,
   "metadata": {
    "scrolled": false
   },
   "outputs": [
    {
     "data": {
      "text/html": [
       "<div>\n",
       "<style scoped>\n",
       "    .dataframe tbody tr th:only-of-type {\n",
       "        vertical-align: middle;\n",
       "    }\n",
       "\n",
       "    .dataframe tbody tr th {\n",
       "        vertical-align: top;\n",
       "    }\n",
       "\n",
       "    .dataframe thead th {\n",
       "        text-align: right;\n",
       "    }\n",
       "</style>\n",
       "<table border=\"1\" class=\"dataframe\">\n",
       "  <thead>\n",
       "    <tr style=\"text-align: right;\">\n",
       "      <th></th>\n",
       "      <th>sum_duration_calls</th>\n",
       "      <th>count_messages</th>\n",
       "      <th>gb_used</th>\n",
       "    </tr>\n",
       "  </thead>\n",
       "  <tbody>\n",
       "    <tr>\n",
       "      <th>count</th>\n",
       "      <td>2223.000000</td>\n",
       "      <td>1922.000000</td>\n",
       "      <td>2228.000000</td>\n",
       "    </tr>\n",
       "    <tr>\n",
       "      <th>mean</th>\n",
       "      <td>419.062978</td>\n",
       "      <td>38.716441</td>\n",
       "      <td>16.336176</td>\n",
       "    </tr>\n",
       "    <tr>\n",
       "      <th>std</th>\n",
       "      <td>189.325618</td>\n",
       "      <td>26.787949</td>\n",
       "      <td>5.737923</td>\n",
       "    </tr>\n",
       "    <tr>\n",
       "      <th>min</th>\n",
       "      <td>0.000000</td>\n",
       "      <td>1.000000</td>\n",
       "      <td>0.000000</td>\n",
       "    </tr>\n",
       "    <tr>\n",
       "      <th>25%</th>\n",
       "      <td>285.000000</td>\n",
       "      <td>17.000000</td>\n",
       "      <td>13.000000</td>\n",
       "    </tr>\n",
       "    <tr>\n",
       "      <th>50%</th>\n",
       "      <td>423.000000</td>\n",
       "      <td>34.000000</td>\n",
       "      <td>17.000000</td>\n",
       "    </tr>\n",
       "    <tr>\n",
       "      <th>75%</th>\n",
       "      <td>545.500000</td>\n",
       "      <td>55.000000</td>\n",
       "      <td>20.000000</td>\n",
       "    </tr>\n",
       "    <tr>\n",
       "      <th>max</th>\n",
       "      <td>1435.000000</td>\n",
       "      <td>143.000000</td>\n",
       "      <td>38.000000</td>\n",
       "    </tr>\n",
       "  </tbody>\n",
       "</table>\n",
       "</div>"
      ],
      "text/plain": [
       "       sum_duration_calls  count_messages      gb_used\n",
       "count         2223.000000     1922.000000  2228.000000\n",
       "mean           419.062978       38.716441    16.336176\n",
       "std            189.325618       26.787949     5.737923\n",
       "min              0.000000        1.000000     0.000000\n",
       "25%            285.000000       17.000000    13.000000\n",
       "50%            423.000000       34.000000    17.000000\n",
       "75%            545.500000       55.000000    20.000000\n",
       "max           1435.000000      143.000000    38.000000"
      ]
     },
     "execution_count": 57,
     "metadata": {},
     "output_type": "execute_result"
    }
   ],
   "source": [
    "df[df['tariff'] == 'smart'][['sum_duration_calls','count_messages','gb_used']].describe()"
   ]
  },
  {
   "cell_type": "markdown",
   "metadata": {},
   "source": [
    "Дисперсии:"
   ]
  },
  {
   "cell_type": "code",
   "execution_count": 58,
   "metadata": {
    "scrolled": true
   },
   "outputs": [
    {
     "name": "stdout",
     "output_type": "stream",
     "text": [
      "Дисперсия продолжительности звонков: 35828.07\n"
     ]
    }
   ],
   "source": [
    "print('Дисперсия продолжительности звонков:', '%.2f' % (np.var(df[df['tariff'] == 'smart']['sum_duration_calls'])))"
   ]
  },
  {
   "cell_type": "code",
   "execution_count": 59,
   "metadata": {},
   "outputs": [
    {
     "name": "stdout",
     "output_type": "stream",
     "text": [
      "Дисперсия  количества сообщений: 717.22\n"
     ]
    }
   ],
   "source": [
    "print('Дисперсия  количества сообщений:', '%.2f' % (np.var(df[df['tariff'] == 'smart']['count_messages'])))"
   ]
  },
  {
   "cell_type": "code",
   "execution_count": 60,
   "metadata": {},
   "outputs": [
    {
     "name": "stdout",
     "output_type": "stream",
     "text": [
      "Дисперсия объёма интернет-трафика: 32.91\n"
     ]
    }
   ],
   "source": [
    "print('Дисперсия объёма интернет-трафика:', '%.2f' % (np.var(df[df['tariff'] == 'smart']['gb_used'])))"
   ]
  },
  {
   "cell_type": "markdown",
   "metadata": {},
   "source": [
    "***Статистика звонков:***\n",
    "* Среднее количество минут разговора - 419. \n",
    "* Стандартное отклонение - 189. Почти половина среднего.\n",
    "* Дисперсия - 35828. Разброс большой.\n",
    "\n",
    "***Статистика сообщений:***\n",
    "* Среднее количество сообщений - 39.\n",
    "* Стандартное отклонение  - 27. Почти три четверти среднего.\n",
    "* Дисперсия - 717. Разброс большой.\n",
    "\n",
    "***Статистика интернет-трафика:***\n",
    "* Среднее количество гигибайт - 16,3.\n",
    "* Стандартное отклонение  - 5,7.\n",
    "* Дисперсия - 32,9. Разброс большой."
   ]
  },
  {
   "cell_type": "markdown",
   "metadata": {},
   "source": [
    "Построим частотную гистограмму продолжительности звонков:"
   ]
  },
  {
   "cell_type": "code",
   "execution_count": 61,
   "metadata": {},
   "outputs": [
    {
     "data": {
      "image/png": "[encoded data removed]",
      "text/plain": [
       "<Figure size 720x360 with 1 Axes>"
      ]
     },
     "metadata": {
      "needs_background": "light"
     },
     "output_type": "display_data"
    }
   ],
   "source": [
    "plt.suptitle('Распределение продолжительности звонков за месяц среди пользователей тарифа Smart')\n",
    "plt.ylabel('Количество пользователей')\n",
    "plt.xlabel('Продолжительность звонков')\n",
    "df[\n",
    "    df['tariff'] == 'smart' # только пользователи с тарифом Smart\n",
    "]['sum_duration_calls'].hist(bins = 100, figsize = (10,5));"
   ]
  },
  {
   "cell_type": "markdown",
   "metadata": {},
   "source": [
    "График похож на распределение Пуассона, вначале частота встречаемости значения увеличивается, достигает максимума от 250 до 600 минут, дальше плавно убывает с уменьшением частоты, потому что всё меньше пользователей говорят больше на этом тарифе."
   ]
  },
  {
   "cell_type": "markdown",
   "metadata": {},
   "source": [
    "Построим частотную гистограмму количества сообщений:"
   ]
  },
  {
   "cell_type": "code",
   "execution_count": 62,
   "metadata": {},
   "outputs": [
    {
     "data": {
      "image/png": "[encoded data removed]",
      "text/plain": [
       "<Figure size 720x360 with 1 Axes>"
      ]
     },
     "metadata": {
      "needs_background": "light"
     },
     "output_type": "display_data"
    }
   ],
   "source": [
    "plt.suptitle('Распределение количества сообщений за месяц среди пользователей тарифа Smart')\n",
    "plt.ylabel('Количество пользователей')\n",
    "plt.xlabel('Количество сообщений')\n",
    "df[df['tariff'] == 'smart']['count_messages'].hist(bins = 100, figsize = (10,5));"
   ]
  },
  {
   "cell_type": "markdown",
   "metadata": {},
   "source": [
    "График похож на распределение Пуассона, вначале частота встречаемости значения увеличивается, достигает максимума от 10 до 30 сообщений, дальше плавно убывает с уменьшением частоты, потому что всё меньше пользователей отправляют больше сообщений на этом тарифе."
   ]
  },
  {
   "cell_type": "markdown",
   "metadata": {},
   "source": [
    "Построим частотную гистограмму объёма трафика:"
   ]
  },
  {
   "cell_type": "code",
   "execution_count": 63,
   "metadata": {},
   "outputs": [
    {
     "data": {
      "image/png": "[encoded data removed]",
      "text/plain": [
       "<Figure size 720x360 with 1 Axes>"
      ]
     },
     "metadata": {
      "needs_background": "light"
     },
     "output_type": "display_data"
    }
   ],
   "source": [
    "plt.suptitle('Распределение объёма трафика за месяц среди пользователей тарифа Smart')\n",
    "plt.ylabel('Количество пользователей')\n",
    "plt.xlabel('Объём трафика')\n",
    "bins = int(max(df[df['tariff'] == 'smart']['gb_used']))\n",
    "df[df['tariff'] == 'smart']['gb_used'].hist(bins = bins, figsize = (10,5));"
   ]
  },
  {
   "cell_type": "markdown",
   "metadata": {},
   "source": [
    "График похож на нормальное распределение, вначале частота встречаемости значения увеличивается, достигает максимума от 12 до 22 Гб, дальше убывает с уменьшением частоты."
   ]
  },
  {
   "cell_type": "markdown",
   "metadata": {},
   "source": [
    "#### Пользователи с тарифом \"Ultra\""
   ]
  },
  {
   "cell_type": "code",
   "execution_count": 64,
   "metadata": {},
   "outputs": [
    {
     "data": {
      "text/html": [
       "<div>\n",
       "<style scoped>\n",
       "    .dataframe tbody tr th:only-of-type {\n",
       "        vertical-align: middle;\n",
       "    }\n",
       "\n",
       "    .dataframe tbody tr th {\n",
       "        vertical-align: top;\n",
       "    }\n",
       "\n",
       "    .dataframe thead th {\n",
       "        text-align: right;\n",
       "    }\n",
       "</style>\n",
       "<table border=\"1\" class=\"dataframe\">\n",
       "  <thead>\n",
       "    <tr style=\"text-align: right;\">\n",
       "      <th></th>\n",
       "      <th>user_id</th>\n",
       "      <th>month</th>\n",
       "      <th>count_calls</th>\n",
       "      <th>sum_duration_calls</th>\n",
       "      <th>gb_used</th>\n",
       "      <th>count_messages</th>\n",
       "      <th>tariff</th>\n",
       "      <th>city</th>\n",
       "      <th>messages_included</th>\n",
       "      <th>mb_per_month_included</th>\n",
       "      <th>minutes_included</th>\n",
       "      <th>rub_monthly_fee</th>\n",
       "      <th>rub_per_gb</th>\n",
       "      <th>rub_per_message</th>\n",
       "      <th>rub_per_minute</th>\n",
       "      <th>revenue</th>\n",
       "    </tr>\n",
       "  </thead>\n",
       "  <tbody>\n",
       "    <tr>\n",
       "      <th>0</th>\n",
       "      <td>1000</td>\n",
       "      <td>5.0</td>\n",
       "      <td>22.0</td>\n",
       "      <td>159.0</td>\n",
       "      <td>3.0</td>\n",
       "      <td>22.0</td>\n",
       "      <td>ultra</td>\n",
       "      <td>Краснодар</td>\n",
       "      <td>1000</td>\n",
       "      <td>30720</td>\n",
       "      <td>3000</td>\n",
       "      <td>1950</td>\n",
       "      <td>150</td>\n",
       "      <td>1</td>\n",
       "      <td>1</td>\n",
       "      <td>1950.0</td>\n",
       "    </tr>\n",
       "    <tr>\n",
       "      <th>1</th>\n",
       "      <td>1000</td>\n",
       "      <td>6.0</td>\n",
       "      <td>43.0</td>\n",
       "      <td>172.0</td>\n",
       "      <td>23.0</td>\n",
       "      <td>60.0</td>\n",
       "      <td>ultra</td>\n",
       "      <td>Краснодар</td>\n",
       "      <td>1000</td>\n",
       "      <td>30720</td>\n",
       "      <td>3000</td>\n",
       "      <td>1950</td>\n",
       "      <td>150</td>\n",
       "      <td>1</td>\n",
       "      <td>1</td>\n",
       "      <td>1950.0</td>\n",
       "    </tr>\n",
       "    <tr>\n",
       "      <th>2</th>\n",
       "      <td>1000</td>\n",
       "      <td>7.0</td>\n",
       "      <td>47.0</td>\n",
       "      <td>340.0</td>\n",
       "      <td>14.0</td>\n",
       "      <td>75.0</td>\n",
       "      <td>ultra</td>\n",
       "      <td>Краснодар</td>\n",
       "      <td>1000</td>\n",
       "      <td>30720</td>\n",
       "      <td>3000</td>\n",
       "      <td>1950</td>\n",
       "      <td>150</td>\n",
       "      <td>1</td>\n",
       "      <td>1</td>\n",
       "      <td>1950.0</td>\n",
       "    </tr>\n",
       "    <tr>\n",
       "      <th>3</th>\n",
       "      <td>1000</td>\n",
       "      <td>8.0</td>\n",
       "      <td>52.0</td>\n",
       "      <td>408.0</td>\n",
       "      <td>14.0</td>\n",
       "      <td>81.0</td>\n",
       "      <td>ultra</td>\n",
       "      <td>Краснодар</td>\n",
       "      <td>1000</td>\n",
       "      <td>30720</td>\n",
       "      <td>3000</td>\n",
       "      <td>1950</td>\n",
       "      <td>150</td>\n",
       "      <td>1</td>\n",
       "      <td>1</td>\n",
       "      <td>1950.0</td>\n",
       "    </tr>\n",
       "    <tr>\n",
       "      <th>4</th>\n",
       "      <td>1000</td>\n",
       "      <td>9.0</td>\n",
       "      <td>58.0</td>\n",
       "      <td>466.0</td>\n",
       "      <td>15.0</td>\n",
       "      <td>57.0</td>\n",
       "      <td>ultra</td>\n",
       "      <td>Краснодар</td>\n",
       "      <td>1000</td>\n",
       "      <td>30720</td>\n",
       "      <td>3000</td>\n",
       "      <td>1950</td>\n",
       "      <td>150</td>\n",
       "      <td>1</td>\n",
       "      <td>1</td>\n",
       "      <td>1950.0</td>\n",
       "    </tr>\n",
       "  </tbody>\n",
       "</table>\n",
       "</div>"
      ],
      "text/plain": [
       "   user_id  month  count_calls  sum_duration_calls  gb_used  count_messages  \\\n",
       "0     1000    5.0         22.0               159.0      3.0            22.0   \n",
       "1     1000    6.0         43.0               172.0     23.0            60.0   \n",
       "2     1000    7.0         47.0               340.0     14.0            75.0   \n",
       "3     1000    8.0         52.0               408.0     14.0            81.0   \n",
       "4     1000    9.0         58.0               466.0     15.0            57.0   \n",
       "\n",
       "  tariff       city  messages_included  mb_per_month_included  \\\n",
       "0  ultra  Краснодар               1000                  30720   \n",
       "1  ultra  Краснодар               1000                  30720   \n",
       "2  ultra  Краснодар               1000                  30720   \n",
       "3  ultra  Краснодар               1000                  30720   \n",
       "4  ultra  Краснодар               1000                  30720   \n",
       "\n",
       "   minutes_included  rub_monthly_fee  rub_per_gb  rub_per_message  \\\n",
       "0              3000             1950         150                1   \n",
       "1              3000             1950         150                1   \n",
       "2              3000             1950         150                1   \n",
       "3              3000             1950         150                1   \n",
       "4              3000             1950         150                1   \n",
       "\n",
       "   rub_per_minute  revenue  \n",
       "0               1   1950.0  \n",
       "1               1   1950.0  \n",
       "2               1   1950.0  \n",
       "3               1   1950.0  \n",
       "4               1   1950.0  "
      ]
     },
     "execution_count": 64,
     "metadata": {},
     "output_type": "execute_result"
    }
   ],
   "source": [
    "df[df['tariff'] == 'ultra'].head()"
   ]
  },
  {
   "cell_type": "markdown",
   "metadata": {},
   "source": [
    "Посмотрим описание данных пользователей тарифа Ultra:"
   ]
  },
  {
   "cell_type": "code",
   "execution_count": 65,
   "metadata": {
    "scrolled": false
   },
   "outputs": [
    {
     "data": {
      "text/html": [
       "<div>\n",
       "<style scoped>\n",
       "    .dataframe tbody tr th:only-of-type {\n",
       "        vertical-align: middle;\n",
       "    }\n",
       "\n",
       "    .dataframe tbody tr th {\n",
       "        vertical-align: top;\n",
       "    }\n",
       "\n",
       "    .dataframe thead th {\n",
       "        text-align: right;\n",
       "    }\n",
       "</style>\n",
       "<table border=\"1\" class=\"dataframe\">\n",
       "  <thead>\n",
       "    <tr style=\"text-align: right;\">\n",
       "      <th></th>\n",
       "      <th>sum_duration_calls</th>\n",
       "      <th>count_messages</th>\n",
       "      <th>gb_used</th>\n",
       "    </tr>\n",
       "  </thead>\n",
       "  <tbody>\n",
       "    <tr>\n",
       "      <th>count</th>\n",
       "      <td>951.000000</td>\n",
       "      <td>795.000000</td>\n",
       "      <td>975.000000</td>\n",
       "    </tr>\n",
       "    <tr>\n",
       "      <th>mean</th>\n",
       "      <td>545.451104</td>\n",
       "      <td>61.161006</td>\n",
       "      <td>19.694359</td>\n",
       "    </tr>\n",
       "    <tr>\n",
       "      <th>std</th>\n",
       "      <td>306.925754</td>\n",
       "      <td>45.931026</td>\n",
       "      <td>9.702924</td>\n",
       "    </tr>\n",
       "    <tr>\n",
       "      <th>min</th>\n",
       "      <td>0.000000</td>\n",
       "      <td>1.000000</td>\n",
       "      <td>0.000000</td>\n",
       "    </tr>\n",
       "    <tr>\n",
       "      <th>25%</th>\n",
       "      <td>310.000000</td>\n",
       "      <td>24.000000</td>\n",
       "      <td>12.000000</td>\n",
       "    </tr>\n",
       "    <tr>\n",
       "      <th>50%</th>\n",
       "      <td>528.000000</td>\n",
       "      <td>51.000000</td>\n",
       "      <td>19.000000</td>\n",
       "    </tr>\n",
       "    <tr>\n",
       "      <th>75%</th>\n",
       "      <td>756.500000</td>\n",
       "      <td>87.500000</td>\n",
       "      <td>27.000000</td>\n",
       "    </tr>\n",
       "    <tr>\n",
       "      <th>max</th>\n",
       "      <td>1673.000000</td>\n",
       "      <td>224.000000</td>\n",
       "      <td>49.000000</td>\n",
       "    </tr>\n",
       "  </tbody>\n",
       "</table>\n",
       "</div>"
      ],
      "text/plain": [
       "       sum_duration_calls  count_messages     gb_used\n",
       "count          951.000000      795.000000  975.000000\n",
       "mean           545.451104       61.161006   19.694359\n",
       "std            306.925754       45.931026    9.702924\n",
       "min              0.000000        1.000000    0.000000\n",
       "25%            310.000000       24.000000   12.000000\n",
       "50%            528.000000       51.000000   19.000000\n",
       "75%            756.500000       87.500000   27.000000\n",
       "max           1673.000000      224.000000   49.000000"
      ]
     },
     "execution_count": 65,
     "metadata": {},
     "output_type": "execute_result"
    }
   ],
   "source": [
    "df[df['tariff'] == 'ultra'][['sum_duration_calls','count_messages','gb_used']].describe()"
   ]
  },
  {
   "cell_type": "code",
   "execution_count": 66,
   "metadata": {},
   "outputs": [
    {
     "name": "stdout",
     "output_type": "stream",
     "text": [
      "Дисперсия продолжительности звонков: 94104.36117385981\n"
     ]
    }
   ],
   "source": [
    "print('Дисперсия продолжительности звонков:', np.var(df[df['tariff'] == 'ultra']['sum_duration_calls']))"
   ]
  },
  {
   "cell_type": "code",
   "execution_count": 67,
   "metadata": {},
   "outputs": [
    {
     "name": "stdout",
     "output_type": "stream",
     "text": [
      "Дисперсия количества сообщений: 2107.0055235156874\n"
     ]
    }
   ],
   "source": [
    "print('Дисперсия количества сообщений:', np.var(df[df['tariff'] == 'ultra']['count_messages']))"
   ]
  },
  {
   "cell_type": "code",
   "execution_count": 68,
   "metadata": {},
   "outputs": [
    {
     "name": "stdout",
     "output_type": "stream",
     "text": [
      "Дисперсия объёма интернет-трафика: 94.0501733070347\n"
     ]
    }
   ],
   "source": [
    "print('Дисперсия объёма интернет-трафика:', np.var(df[df['tariff'] == 'ultra']['gb_used']))"
   ]
  },
  {
   "cell_type": "markdown",
   "metadata": {},
   "source": [
    "***Статистика звонков:***\n",
    "* Среднее количество минут разговора - 545. \n",
    "* Стандартное отклонение - 307. Больше половины среднего.\n",
    "* Дисперсия - 94104. Разброс очень большой.\n",
    "\n",
    "***Статистика сообщений:***\n",
    "* Среднее количество сообщений - 61.\n",
    "* Стандартное отклонение  - 46. Больше двух третей среднего.\n",
    "* Дисперсия - 2107. Разброс очень большой.\n",
    "\n",
    "***Статистика интернет-трафика:***\n",
    "* Среднее количество гигибайт - 19,7.\n",
    "* Стандартное отклонение  - 9,7.\n",
    "* Дисперсия - 94. Разброс большой."
   ]
  },
  {
   "cell_type": "markdown",
   "metadata": {},
   "source": [
    "Построим частотную гистограмму продолжительности звонков:"
   ]
  },
  {
   "cell_type": "code",
   "execution_count": 69,
   "metadata": {},
   "outputs": [
    {
     "data": {
      "image/png": "[encoded data removed]",
      "text/plain": [
       "<Figure size 720x360 with 1 Axes>"
      ]
     },
     "metadata": {
      "needs_background": "light"
     },
     "output_type": "display_data"
    }
   ],
   "source": [
    "plt.suptitle('Распределение продолжительности звонков среди пользователей тарифа Ultra')\n",
    "plt.ylabel('Количество пользователей')\n",
    "plt.xlabel('Продолжительность звонков')\n",
    "df[df['tariff'] == 'ultra']['sum_duration_calls'].hist(bins = 200, figsize = (10,5));"
   ]
  },
  {
   "cell_type": "markdown",
   "metadata": {},
   "source": [
    "График похож на распределение Пуассона, вначале частота встречаемости значения увеличивается, достигает максимума от 250 до 900 минут, дальше плавно убывает с уменьшением частоты, потому что всё меньше пользователей говорят больше на этом тарифе. Больше 1300 - только единичные пользователи."
   ]
  },
  {
   "cell_type": "markdown",
   "metadata": {},
   "source": [
    "Построим частотную гистограмму количества сообщений:"
   ]
  },
  {
   "cell_type": "code",
   "execution_count": 70,
   "metadata": {},
   "outputs": [
    {
     "data": {
      "image/png": "[encoded data removed]",
      "text/plain": [
       "<Figure size 720x360 with 1 Axes>"
      ]
     },
     "metadata": {
      "needs_background": "light"
     },
     "output_type": "display_data"
    }
   ],
   "source": [
    "plt.suptitle('Распределение количества сообщений за месяц среди пользователей тарифа Ultra')\n",
    "plt.ylabel('Количество пользователей')\n",
    "plt.xlabel('Количество сообщений')\n",
    "df[df['tariff'] == 'ultra']['count_messages'].hist(bins = 100, figsize = (10,5));"
   ]
  },
  {
   "cell_type": "markdown",
   "metadata": {},
   "source": [
    "График похож на распределение Пуассона, вначале частота встречаемости значения увеличивается, достигает максимума от 10 до 50 сообщений, дальше плавно убывает с уменьшением частоты, потому что всё меньше пользователей отправляют больше сообщений на этом тарифе."
   ]
  },
  {
   "cell_type": "markdown",
   "metadata": {},
   "source": [
    "Построим частотную гистограмму объёма трафика:"
   ]
  },
  {
   "cell_type": "code",
   "execution_count": 71,
   "metadata": {},
   "outputs": [
    {
     "data": {
      "image/png": "[encoded data removed]",
      "text/plain": [
       "<Figure size 720x360 with 1 Axes>"
      ]
     },
     "metadata": {
      "needs_background": "light"
     },
     "output_type": "display_data"
    }
   ],
   "source": [
    "plt.suptitle('Распределение трафика за месяц среди пользователей тарифа Ultra')\n",
    "plt.ylabel('Количество пользователей')\n",
    "plt.xlabel('Количество сообщений')\n",
    "bins = int(max(df[df['tariff'] == 'ultra']['gb_used']))\n",
    "df[df['tariff'] == 'ultra']['gb_used'].hist(bins = bins, figsize = (10,5));"
   ]
  },
  {
   "cell_type": "markdown",
   "metadata": {},
   "source": [
    "График похож на нормальное распределение, вначале частота встречаемости значения увеличивается, достигает максимума от 8 до 30 Гб, дальше убывает с уменьшением частоты встречаемости."
   ]
  },
  {
   "cell_type": "markdown",
   "metadata": {},
   "source": [
    "#### Сравнение пользователей обоих тарифов"
   ]
  },
  {
   "cell_type": "markdown",
   "metadata": {},
   "source": [
    "Для наглядности отразим вместе."
   ]
  },
  {
   "cell_type": "markdown",
   "metadata": {},
   "source": [
    "Построим сравнительную частотную гистограмму продолжительности звонков для обоих тарифов:"
   ]
  },
  {
   "cell_type": "code",
   "execution_count": 72,
   "metadata": {
    "scrolled": true
   },
   "outputs": [
    {
     "data": {
      "image/png": "[encoded data removed]",
      "text/plain": [
       "<Figure size 720x288 with 1 Axes>"
      ]
     },
     "metadata": {
      "needs_background": "light"
     },
     "output_type": "display_data"
    }
   ],
   "source": [
    "calls_smart = df[\n",
    "    df['tariff'] == 'smart' # только пользователи с тарифом Smart\n",
    "]['sum_duration_calls']\n",
    "\n",
    "calls_ultra = df[\n",
    "    df['tariff'] == 'ultra' # только пользователи с тарифом Ultra\n",
    "]['sum_duration_calls']\n",
    "\n",
    "plt.figure(figsize=(10, 4)) # размер\n",
    "plt.suptitle('Продолжительность звонков в месяц') # заголовок \n",
    "plt.hist(calls_smart, bins = 100, alpha = 0.5, label='Тариф Смарт', ) # первый график\n",
    "plt.hist(calls_ultra, bins = 100, alpha = 0.5, label='Тариф Ультра') # второй график\n",
    "plt.xlabel('Минут в месяц')   # подпись горизонтальной оси \n",
    "plt.ylabel('Частота встречаемости') # подпись вертикальной оси  \n",
    "plt.legend(loc='upper right') # легенда \n",
    "plt.show()"
   ]
  },
  {
   "cell_type": "markdown",
   "metadata": {},
   "source": [
    "**Вывод:** График для тарифа Ультра уходит больше вправо, но количество пользователей этого тарифа меньше, поскольку большая часть графика ниже, чем для тарифа Смарт."
   ]
  },
  {
   "cell_type": "markdown",
   "metadata": {},
   "source": [
    "Построим сравнительную частотную гистограмму количества сообщений для обоих тарифов:"
   ]
  },
  {
   "cell_type": "code",
   "execution_count": 73,
   "metadata": {
    "scrolled": true
   },
   "outputs": [
    {
     "data": {
      "image/png": "[encoded data removed]",
      "text/plain": [
       "<Figure size 720x288 with 1 Axes>"
      ]
     },
     "metadata": {
      "needs_background": "light"
     },
     "output_type": "display_data"
    }
   ],
   "source": [
    "messages_smart = df[\n",
    "    df['tariff'] == 'smart' # только пользователи с тарифом Smart\n",
    "]['count_messages']\n",
    "\n",
    "messages_ultra = df[\n",
    "    df['tariff'] == 'ultra' # только пользователи с тарифом Ultra\n",
    "]['count_messages']\n",
    "\n",
    "plt.figure(figsize=(10 , 4)) # размер\n",
    "plt.suptitle('Среднее количество сообщений в месяц') # заголовок \n",
    "plt.hist(messages_smart, bins = 50, alpha = 0.5, label='Тариф Смарт', ) # первый график\n",
    "plt.hist(messages_ultra, bins = 50, alpha = 0.5, label='Тариф Ультра') # второй график\n",
    "plt.xlabel('Сообщений в месяц')   # подпись горизонтальной оси \n",
    "plt.ylabel('Частота встречаемости') # подпись вертикальной оси  \n",
    "plt.legend(loc='upper right') # легенда \n",
    "plt.show()"
   ]
  },
  {
   "cell_type": "markdown",
   "metadata": {},
   "source": [
    "**Вывод:** График для тарифа Ультра уходит больше вправо, но количество пользователей этого тарифа меньше, поскольку большая часть графика ниже, чем для тарифа Смарт."
   ]
  },
  {
   "cell_type": "markdown",
   "metadata": {},
   "source": [
    "Построим сравнительную частотную гистограмму объёма трафика для обоих тарифов:"
   ]
  },
  {
   "cell_type": "code",
   "execution_count": 74,
   "metadata": {
    "scrolled": true
   },
   "outputs": [
    {
     "data": {
      "image/png": "[encoded data removed]",
      "text/plain": [
       "<Figure size 720x288 with 1 Axes>"
      ]
     },
     "metadata": {
      "needs_background": "light"
     },
     "output_type": "display_data"
    }
   ],
   "source": [
    "gb_smart = df[\n",
    "    df['tariff'] == 'smart' # пользователи с тарифом Smart\n",
    "]['gb_used'] \n",
    "\n",
    "gb_ultra = df[\n",
    "    df['tariff'] == 'ultra' # пользователи с тарифом Ultra\n",
    "]['gb_used']\n",
    "\n",
    "plt.figure(figsize=(10, 4)) # размер\n",
    "plt.suptitle('Средний объём трафика в месяц') # заголовок \n",
    "plt.hist(gb_smart, bins = 39, alpha = 0.5, label='Тариф Смарт', ) # первый график\n",
    "plt.hist(gb_ultra, bins = 50, alpha = 0.5, label='Тариф Ультра') # второй график\n",
    "plt.xlabel('Гигабайт в месяц')   # подпись горизонтальной оси \n",
    "plt.ylabel('Частота встречаемости') # подпись вертикальной оси  \n",
    "plt.legend(loc='upper right') # легенда \n",
    "plt.show()"
   ]
  },
  {
   "cell_type": "markdown",
   "metadata": {},
   "source": [
    "**Вывод:** График для тарифа Ультра уходит больше вправо, но количество пользователей этого тарифа меньше, поскольку большая часть графика ниже, чем для тарифа Смарт."
   ]
  },
  {
   "cell_type": "markdown",
   "metadata": {},
   "source": [
    "## Проверка гипотез"
   ]
  },
  {
   "cell_type": "markdown",
   "metadata": {},
   "source": [
    "### Гипотеза 1: Средняя выручка пользователей тарифов «Ультра» и «Смарт» различаются."
   ]
  },
  {
   "cell_type": "markdown",
   "metadata": {},
   "source": [
    "*Нулевая гипотеза H₀ всегда формулируется так, чтобы использовать знак равенства.  Альтернативная гипотеза H₁ - это утверждение, которое принимается верным, если отбрасывается H₀.*"
   ]
  },
  {
   "cell_type": "markdown",
   "metadata": {},
   "source": [
    "**Нулевая гипотеза: средние значения ежемесячной выручки пользователей тарифов \"Smart\" и \"Ultra\" равны.**"
   ]
  },
  {
   "cell_type": "markdown",
   "metadata": {},
   "source": [
    "*Альтернативная гипотеза: Средние значения ежемесячной выручки пользователей тарифов \"Smart\" и \"Ultra\" отличаются.*"
   ]
  },
  {
   "cell_type": "markdown",
   "metadata": {},
   "source": [
    "Посмотрим, сколько пользователей на каждом тарифе."
   ]
  },
  {
   "cell_type": "code",
   "execution_count": 75,
   "metadata": {},
   "outputs": [
    {
     "data": {
      "text/plain": [
       "smart    2230\n",
       "ultra     986\n",
       "Name: tariff, dtype: int64"
      ]
     },
     "execution_count": 75,
     "metadata": {},
     "output_type": "execute_result"
    }
   ],
   "source": [
    "df['tariff'].value_counts() "
   ]
  },
  {
   "cell_type": "markdown",
   "metadata": {},
   "source": [
    "Дисперсии: "
   ]
  },
  {
   "cell_type": "code",
   "execution_count": 76,
   "metadata": {},
   "outputs": [
    {
     "name": "stdout",
     "output_type": "stream",
     "text": [
      "Дисперсия выручки для тарифа Smart: 669430.44\n"
     ]
    }
   ],
   "source": [
    "print('Дисперсия выручки для тарифа Smart:', '%.2f' % (np.var(df[df['tariff'] == 'smart']['revenue'])))"
   ]
  },
  {
   "cell_type": "code",
   "execution_count": 77,
   "metadata": {},
   "outputs": [
    {
     "name": "stdout",
     "output_type": "stream",
     "text": [
      "Дисперсия выручки для тарифа Ultra: 141244.32\n"
     ]
    }
   ],
   "source": [
    "print('Дисперсия выручки для тарифа Ultra:', '%.2f' % (np.var(df[df['tariff'] == 'ultra']['revenue'])))"
   ]
  },
  {
   "cell_type": "markdown",
   "metadata": {},
   "source": [
    "Зададим уровень значимости в 5%, чтобы вероятность получить такое или большее различие между средними значениями выборки случайно было меньше 5%.\n",
    "\n",
    "Проведём T-тест.\n",
    "Если результат меньше 5%, то нулевую гипотезу следует отвергнуть."
   ]
  },
  {
   "cell_type": "markdown",
   "metadata": {},
   "source": [
    "* Размеры выборок отличаются (2230 и 986 значений)\n",
    "* Дисперсии выборок отличаются (669430 и 141244)\n",
    "\n",
    "Следовательно, зададим параметр, задающий равенство выборок \"equal_var\" = False"
   ]
  },
  {
   "cell_type": "code",
   "execution_count": 78,
   "metadata": {},
   "outputs": [
    {
     "name": "stdout",
     "output_type": "stream",
     "text": [
      "p-значение: 1.927011394420941e-250\n",
      "Отвергаем нулевую гипотезу\n"
     ]
    }
   ],
   "source": [
    "alpha = .05 # критический уровень статистической значимости\n",
    "# если p-value окажется меньше него - отвергнем гипотезу\n",
    "\n",
    "results = st.ttest_ind(\n",
    "    df[df['tariff'] == 'smart']['revenue'], # первая выборка\n",
    "    df[df['tariff'] == 'ultra']['revenue'],  # вторая выборка\n",
    "    equal_var = False \n",
    ")\n",
    "print('p-значение:', results.pvalue)\n",
    "\n",
    "if results.pvalue < alpha:\n",
    "    print(\"Отвергаем нулевую гипотезу\")\n",
    "else:\n",
    "    print(\"Не получилось отвергнуть нулевую гипотезу\") "
   ]
  },
  {
   "cell_type": "markdown",
   "metadata": {},
   "source": [
    "Вероятность получить такое различие средних крайне мала. Около 10 в минус 250 степени."
   ]
  },
  {
   "cell_type": "markdown",
   "metadata": {},
   "source": [
    "**Результат означает, что средняя выручка пользователей тарифов «Ультра» и «Смарт» различаются.**"
   ]
  },
  {
   "cell_type": "markdown",
   "metadata": {},
   "source": [
    "### Гипотеза 2: Средняя выручка пользователей из Москвы отличается от выручки пользователей из других регионов."
   ]
  },
  {
   "cell_type": "markdown",
   "metadata": {},
   "source": [
    "**Нулевая гипотеза: средние значения ежемесячной выручки пользователей из Москвы и регионов равны.**"
   ]
  },
  {
   "cell_type": "markdown",
   "metadata": {},
   "source": [
    "*Альтернативная гипотеза: Средние значения ежемесячной выручки пользователей из Москвы и регионов отличаются.*"
   ]
  },
  {
   "cell_type": "markdown",
   "metadata": {},
   "source": [
    "Посмотрим, сколько пользователей в каком городе."
   ]
  },
  {
   "cell_type": "code",
   "execution_count": 79,
   "metadata": {},
   "outputs": [
    {
     "data": {
      "text/plain": [
       "Москва             611\n",
       "Санкт-Петербург    270\n",
       "Новосибирск         98\n",
       "Уфа                 95\n",
       "Краснодар           86\n",
       "                  ... \n",
       "Сургут               6\n",
       "Нижневартовск        6\n",
       "Химки                5\n",
       "Кемерово             5\n",
       "Иваново              2\n",
       "Name: city, Length: 76, dtype: int64"
      ]
     },
     "execution_count": 79,
     "metadata": {},
     "output_type": "execute_result"
    }
   ],
   "source": [
    "df['city'].value_counts()"
   ]
  },
  {
   "cell_type": "markdown",
   "metadata": {},
   "source": [
    "Количество пользователей в Москве:"
   ]
  },
  {
   "cell_type": "code",
   "execution_count": 80,
   "metadata": {
    "scrolled": true
   },
   "outputs": [
    {
     "data": {
      "text/plain": [
       "611"
      ]
     },
     "execution_count": 80,
     "metadata": {},
     "output_type": "execute_result"
    }
   ],
   "source": [
    "len(df[df['city'] == 'Москва'])"
   ]
  },
  {
   "cell_type": "markdown",
   "metadata": {},
   "source": [
    "Количество пользователей в других регионах:"
   ]
  },
  {
   "cell_type": "code",
   "execution_count": 81,
   "metadata": {},
   "outputs": [
    {
     "data": {
      "text/plain": [
       "2605"
      ]
     },
     "execution_count": 81,
     "metadata": {},
     "output_type": "execute_result"
    }
   ],
   "source": [
    "len(df[df['city'] != 'Москва'])"
   ]
  },
  {
   "cell_type": "markdown",
   "metadata": {},
   "source": [
    "Дисперсия:"
   ]
  },
  {
   "cell_type": "code",
   "execution_count": 82,
   "metadata": {},
   "outputs": [
    {
     "name": "stdout",
     "output_type": "stream",
     "text": [
      "Дисперсия выручки для Москвы: 564710.71\n"
     ]
    }
   ],
   "source": [
    "print('Дисперсия выручки для Москвы:', '%.2f' % (np.var(df[df['city'] == 'Москва']['revenue'])))"
   ]
  },
  {
   "cell_type": "code",
   "execution_count": 83,
   "metadata": {},
   "outputs": [
    {
     "name": "stdout",
     "output_type": "stream",
     "text": [
      "Дисперсия выручки для других регионов: 653818.49\n"
     ]
    }
   ],
   "source": [
    "print('Дисперсия выручки для других регионов:', '%.2f' % (np.var(df[df['city'] != 'Москва']['revenue'])))\n"
   ]
  },
  {
   "cell_type": "markdown",
   "metadata": {},
   "source": [
    "* Размеры выборок значительно отличаются (611 и 2605 значений)\n",
    "* Дисперсии выборок отличаются (564710 и 653818)\n",
    "\n",
    "Следовательно, зададим параметр, задающий равенство выборок \"equal_var\" = False"
   ]
  },
  {
   "cell_type": "markdown",
   "metadata": {},
   "source": [
    "Зададим уровень значимости в 5%, чтобы вероятность получить такое или большее различие между средними значениями выборки случайно было меньше 5%.\n",
    "\n",
    "Проведём T-тест.\n",
    "Если результат меньше 5 %, то нулевую гипотезу следует отвергнуть."
   ]
  },
  {
   "cell_type": "code",
   "execution_count": 84,
   "metadata": {},
   "outputs": [
    {
     "name": "stdout",
     "output_type": "stream",
     "text": [
      "p-значение: 0.5216952110000278\n",
      "Не получилось отвергнуть нулевую гипотезу\n"
     ]
    }
   ],
   "source": [
    "alpha = .05 # критический уровень статистической значимости\n",
    "# если p-value окажется меньше него - отвергнем гипотезу\n",
    "\n",
    "results = st.ttest_ind(\n",
    "    df[df['city'] == 'Москва']['revenue'], # первая выборка\n",
    "    df[df['city'] != 'Москва']['revenue'],  # вторая выборка\n",
    "    equal_var = False ) \n",
    "print('p-значение:', results.pvalue)\n",
    "\n",
    "if results.pvalue < alpha:\n",
    "    print(\"Отвергаем нулевую гипотезу\")\n",
    "else:\n",
    "    print(\"Не получилось отвергнуть нулевую гипотезу\") "
   ]
  },
  {
   "cell_type": "markdown",
   "metadata": {},
   "source": [
    "Полученное p-значение составляет 52%, то есть 52% вероятности случайно получить различие между средними при условии, что нулевая гипотеза верна. Это очень большое значение.\n",
    "\n",
    "**По результатам статистического теста делаем вывод, что средние выручки пользователей из Москвы и других регионов не отличаются.**"
   ]
  },
  {
   "cell_type": "markdown",
   "metadata": {},
   "source": [
    "##  Вывод"
   ]
  },
  {
   "cell_type": "markdown",
   "metadata": {},
   "source": [
    "- Пользователи на тарифе \"Smart\" в среднем меньше звонят, меньше пишут сообщений и меньше тратят интернет-трафика, чем пользователи тарифа \"Ultra\"\n",
    "- При этом внутри одного тарифа у пользователей может быть очень большой разброс в потраченных минутах, сообщениях и звонках. \n",
    "- Средняя выручка на тарифе \"Ultra\" выше, чем на \"Smart\", а количество таких пользователей меньше. Следовательно, имеет смысл продвигать тариф \"Ultra\".\n",
    "- Средняя выручка пользователей из Москвы и других регионов не отличаются статистически значимо. Следовательно, рекламные бюджеты стоит распределить равномерно."
   ]
  },
  {
   "cell_type": "code",
   "execution_count": null,
   "metadata": {},
   "outputs": [],
   "source": []
  }
 ],
 "metadata": {
  "ExecuteTimeLog": [
   {
    "duration": 534,
    "start_time": "2022-04-25T11:23:18.137Z"
   },
   {
    "duration": 137,
    "start_time": "2022-04-25T11:27:13.428Z"
   },
   {
    "duration": 116,
    "start_time": "2022-04-25T11:27:21.162Z"
   },
   {
    "duration": 129,
    "start_time": "2022-04-25T11:27:26.923Z"
   },
   {
    "duration": 529,
    "start_time": "2022-04-25T11:27:46.767Z"
   },
   {
    "duration": 22,
    "start_time": "2022-04-25T11:27:57.124Z"
   },
   {
    "duration": 13,
    "start_time": "2022-04-25T11:28:10.660Z"
   },
   {
    "duration": 12,
    "start_time": "2022-04-25T11:28:17.361Z"
   },
   {
    "duration": 109,
    "start_time": "2022-04-25T11:28:32.006Z"
   },
   {
    "duration": 102,
    "start_time": "2022-04-25T11:28:35.215Z"
   },
   {
    "duration": 11,
    "start_time": "2022-04-25T11:28:44.316Z"
   },
   {
    "duration": 14,
    "start_time": "2022-04-25T11:28:58.173Z"
   },
   {
    "duration": 505,
    "start_time": "2022-04-25T11:29:49.934Z"
   },
   {
    "duration": 19,
    "start_time": "2022-04-25T11:30:51.924Z"
   },
   {
    "duration": 15,
    "start_time": "2022-04-25T11:31:01.356Z"
   },
   {
    "duration": 22,
    "start_time": "2022-04-25T11:31:08.785Z"
   },
   {
    "duration": 15,
    "start_time": "2022-04-25T11:31:27.139Z"
   },
   {
    "duration": 44,
    "start_time": "2022-04-25T11:34:19.503Z"
   },
   {
    "duration": 46,
    "start_time": "2022-04-25T11:34:23.383Z"
   },
   {
    "duration": 48,
    "start_time": "2022-04-25T11:34:26.594Z"
   },
   {
    "duration": 17,
    "start_time": "2022-04-25T11:34:31.582Z"
   },
   {
    "duration": 26,
    "start_time": "2022-04-25T11:34:35.434Z"
   },
   {
    "duration": 7,
    "start_time": "2022-04-25T11:38:03.219Z"
   },
   {
    "duration": 64,
    "start_time": "2022-04-25T11:38:50.415Z"
   },
   {
    "duration": 5,
    "start_time": "2022-04-25T11:47:03.777Z"
   },
   {
    "duration": 3,
    "start_time": "2022-04-25T11:47:09.139Z"
   },
   {
    "duration": 3,
    "start_time": "2022-04-25T11:47:17.970Z"
   },
   {
    "duration": 12,
    "start_time": "2022-04-25T11:48:42.739Z"
   },
   {
    "duration": 7,
    "start_time": "2022-04-25T11:48:58.142Z"
   },
   {
    "duration": 11,
    "start_time": "2022-04-25T11:49:07.306Z"
   },
   {
    "duration": 4,
    "start_time": "2022-04-25T12:52:28.884Z"
   },
   {
    "duration": 96,
    "start_time": "2022-04-25T12:53:45.639Z"
   },
   {
    "duration": 10,
    "start_time": "2022-04-25T12:53:50.153Z"
   },
   {
    "duration": 8,
    "start_time": "2022-04-25T12:53:54.938Z"
   },
   {
    "duration": 8,
    "start_time": "2022-04-25T12:54:02.689Z"
   },
   {
    "duration": 8,
    "start_time": "2022-04-25T12:54:11.647Z"
   },
   {
    "duration": 9,
    "start_time": "2022-04-25T12:55:01.700Z"
   },
   {
    "duration": 11,
    "start_time": "2022-04-25T12:55:50.637Z"
   },
   {
    "duration": 17,
    "start_time": "2022-04-25T12:56:02.229Z"
   },
   {
    "duration": 12,
    "start_time": "2022-04-25T12:58:18.972Z"
   },
   {
    "duration": 10,
    "start_time": "2022-04-25T12:58:26.949Z"
   },
   {
    "duration": 7,
    "start_time": "2022-04-25T12:58:39.349Z"
   },
   {
    "duration": 553,
    "start_time": "2022-04-25T13:47:50.222Z"
   },
   {
    "duration": 500,
    "start_time": "2022-04-25T13:47:50.778Z"
   },
   {
    "duration": 21,
    "start_time": "2022-04-25T13:47:51.280Z"
   },
   {
    "duration": 35,
    "start_time": "2022-04-25T13:47:51.304Z"
   },
   {
    "duration": 7,
    "start_time": "2022-04-25T13:47:51.341Z"
   },
   {
    "duration": 69,
    "start_time": "2022-04-25T13:47:51.349Z"
   },
   {
    "duration": 6,
    "start_time": "2022-04-25T13:47:51.420Z"
   },
   {
    "duration": 29,
    "start_time": "2022-04-25T13:47:51.428Z"
   },
   {
    "duration": 14,
    "start_time": "2022-04-25T13:47:51.460Z"
   },
   {
    "duration": 30,
    "start_time": "2022-04-25T13:47:51.479Z"
   },
   {
    "duration": 11,
    "start_time": "2022-04-25T13:47:51.511Z"
   },
   {
    "duration": 34,
    "start_time": "2022-04-25T13:47:51.552Z"
   },
   {
    "duration": 10,
    "start_time": "2022-04-25T13:47:51.588Z"
   },
   {
    "duration": 17,
    "start_time": "2022-04-25T13:47:51.601Z"
   },
   {
    "duration": 48,
    "start_time": "2022-04-25T13:47:51.620Z"
   },
   {
    "duration": 23,
    "start_time": "2022-04-25T13:47:51.670Z"
   },
   {
    "duration": 11,
    "start_time": "2022-04-25T13:48:30.271Z"
   },
   {
    "duration": 6,
    "start_time": "2022-04-25T13:52:33.265Z"
   },
   {
    "duration": 44,
    "start_time": "2022-04-25T13:52:46.537Z"
   },
   {
    "duration": 13,
    "start_time": "2022-04-25T13:54:58.584Z"
   },
   {
    "duration": 24,
    "start_time": "2022-04-25T13:55:03.866Z"
   },
   {
    "duration": 7,
    "start_time": "2022-04-25T13:55:20.994Z"
   },
   {
    "duration": 67,
    "start_time": "2022-04-25T13:55:22.240Z"
   },
   {
    "duration": 12,
    "start_time": "2022-04-25T13:55:58.942Z"
   },
   {
    "duration": 11,
    "start_time": "2022-04-25T13:56:03.625Z"
   },
   {
    "duration": 44,
    "start_time": "2022-04-25T13:56:05.030Z"
   },
   {
    "duration": 7,
    "start_time": "2022-04-25T13:57:07.336Z"
   },
   {
    "duration": 41,
    "start_time": "2022-04-25T13:57:08.336Z"
   },
   {
    "duration": 7,
    "start_time": "2022-04-25T14:01:16.603Z"
   },
   {
    "duration": 17,
    "start_time": "2022-04-25T14:01:17.850Z"
   },
   {
    "duration": 490,
    "start_time": "2022-04-25T14:02:41.173Z"
   },
   {
    "duration": 488,
    "start_time": "2022-04-25T14:02:41.667Z"
   },
   {
    "duration": 23,
    "start_time": "2022-04-25T14:02:42.157Z"
   },
   {
    "duration": 33,
    "start_time": "2022-04-25T14:02:42.184Z"
   },
   {
    "duration": 7,
    "start_time": "2022-04-25T14:02:42.219Z"
   },
   {
    "duration": 56,
    "start_time": "2022-04-25T14:02:42.253Z"
   },
   {
    "duration": 6,
    "start_time": "2022-04-25T14:02:42.311Z"
   },
   {
    "duration": 47,
    "start_time": "2022-04-25T14:02:42.319Z"
   },
   {
    "duration": 15,
    "start_time": "2022-04-25T14:02:42.368Z"
   },
   {
    "duration": 30,
    "start_time": "2022-04-25T14:02:42.391Z"
   },
   {
    "duration": 38,
    "start_time": "2022-04-25T14:02:42.424Z"
   },
   {
    "duration": 44,
    "start_time": "2022-04-25T14:02:42.465Z"
   },
   {
    "duration": 11,
    "start_time": "2022-04-25T14:02:42.512Z"
   },
   {
    "duration": 57,
    "start_time": "2022-04-25T14:02:42.525Z"
   },
   {
    "duration": 7,
    "start_time": "2022-04-25T14:02:42.585Z"
   },
   {
    "duration": 34,
    "start_time": "2022-04-25T14:02:42.594Z"
   },
   {
    "duration": 14,
    "start_time": "2022-04-25T14:02:42.659Z"
   },
   {
    "duration": 14,
    "start_time": "2022-04-25T14:02:42.675Z"
   },
   {
    "duration": 17,
    "start_time": "2022-04-25T14:02:42.691Z"
   },
   {
    "duration": 48,
    "start_time": "2022-04-25T14:02:42.710Z"
   },
   {
    "duration": 13,
    "start_time": "2022-04-25T14:02:42.760Z"
   },
   {
    "duration": 10,
    "start_time": "2022-04-25T14:02:42.776Z"
   },
   {
    "duration": 13,
    "start_time": "2022-04-25T14:03:36.307Z"
   },
   {
    "duration": 21,
    "start_time": "2022-04-25T14:03:51.949Z"
   },
   {
    "duration": 17,
    "start_time": "2022-04-25T14:04:00.947Z"
   },
   {
    "duration": 14,
    "start_time": "2022-04-25T14:04:19.548Z"
   },
   {
    "duration": 12,
    "start_time": "2022-04-25T14:04:25.375Z"
   },
   {
    "duration": 14,
    "start_time": "2022-04-25T14:04:45.565Z"
   },
   {
    "duration": 23,
    "start_time": "2022-04-25T14:04:53.033Z"
   },
   {
    "duration": 21,
    "start_time": "2022-04-25T14:05:05.568Z"
   },
   {
    "duration": 14,
    "start_time": "2022-04-25T14:05:28.985Z"
   },
   {
    "duration": 22,
    "start_time": "2022-04-25T14:07:11.142Z"
   },
   {
    "duration": 13,
    "start_time": "2022-04-25T14:08:06.751Z"
   },
   {
    "duration": 100,
    "start_time": "2022-04-25T14:09:10.214Z"
   },
   {
    "duration": 54,
    "start_time": "2022-04-25T14:09:14.284Z"
   },
   {
    "duration": 447,
    "start_time": "2022-04-25T14:10:33.028Z"
   },
   {
    "duration": 33,
    "start_time": "2022-04-25T14:10:47.652Z"
   },
   {
    "duration": 16,
    "start_time": "2022-04-25T14:12:52.511Z"
   },
   {
    "duration": 22,
    "start_time": "2022-04-25T14:13:48.249Z"
   },
   {
    "duration": 22,
    "start_time": "2022-04-25T14:14:18.672Z"
   },
   {
    "duration": 13,
    "start_time": "2022-04-25T14:16:26.750Z"
   },
   {
    "duration": 18,
    "start_time": "2022-04-25T14:16:34.171Z"
   },
   {
    "duration": 14,
    "start_time": "2022-04-25T14:17:25.585Z"
   },
   {
    "duration": 6,
    "start_time": "2022-04-25T14:21:18.065Z"
   },
   {
    "duration": 163,
    "start_time": "2022-04-25T14:21:48.482Z"
   },
   {
    "duration": 16,
    "start_time": "2022-04-25T14:22:13.583Z"
   },
   {
    "duration": 6,
    "start_time": "2022-04-25T14:23:27.965Z"
   },
   {
    "duration": 4,
    "start_time": "2022-04-25T14:23:42.076Z"
   },
   {
    "duration": 6,
    "start_time": "2022-04-25T14:23:49.901Z"
   },
   {
    "duration": 26,
    "start_time": "2022-04-25T14:24:39.075Z"
   },
   {
    "duration": 28,
    "start_time": "2022-04-25T14:24:54.837Z"
   },
   {
    "duration": 42,
    "start_time": "2022-04-25T14:25:49.189Z"
   },
   {
    "duration": 26,
    "start_time": "2022-04-25T14:26:13.240Z"
   },
   {
    "duration": 874,
    "start_time": "2022-04-25T14:28:13.281Z"
   },
   {
    "duration": 301,
    "start_time": "2022-04-25T14:28:25.190Z"
   },
   {
    "duration": 46,
    "start_time": "2022-04-25T14:30:07.405Z"
   },
   {
    "duration": 28,
    "start_time": "2022-04-25T14:30:18.765Z"
   },
   {
    "duration": 301,
    "start_time": "2022-04-25T14:30:56.803Z"
   },
   {
    "duration": 346,
    "start_time": "2022-04-25T14:31:54.165Z"
   },
   {
    "duration": 402,
    "start_time": "2022-04-25T14:32:18.574Z"
   },
   {
    "duration": 307,
    "start_time": "2022-04-25T14:32:27.480Z"
   },
   {
    "duration": 625,
    "start_time": "2022-04-25T14:33:16.147Z"
   },
   {
    "duration": 18,
    "start_time": "2022-04-25T14:34:18.423Z"
   },
   {
    "duration": 590,
    "start_time": "2022-04-25T14:34:36.323Z"
   },
   {
    "duration": 12,
    "start_time": "2022-04-25T14:44:16.830Z"
   },
   {
    "duration": 13,
    "start_time": "2022-04-25T14:44:27.371Z"
   },
   {
    "duration": 18,
    "start_time": "2022-04-25T14:46:53.099Z"
   },
   {
    "duration": 40,
    "start_time": "2022-04-25T14:47:26.318Z"
   },
   {
    "duration": 40,
    "start_time": "2022-04-25T14:48:01.139Z"
   },
   {
    "duration": 4,
    "start_time": "2022-04-25T14:49:21.632Z"
   },
   {
    "duration": 41,
    "start_time": "2022-04-25T14:49:31.112Z"
   },
   {
    "duration": 28,
    "start_time": "2022-04-25T14:49:39.359Z"
   },
   {
    "duration": 27,
    "start_time": "2022-04-25T14:50:05.430Z"
   },
   {
    "duration": 20,
    "start_time": "2022-04-25T14:50:22.650Z"
   },
   {
    "duration": 665,
    "start_time": "2022-04-25T14:52:15.344Z"
   },
   {
    "duration": 14,
    "start_time": "2022-04-25T14:52:20.685Z"
   },
   {
    "duration": 576,
    "start_time": "2022-04-25T14:52:28.360Z"
   },
   {
    "duration": 11,
    "start_time": "2022-04-25T14:58:14.910Z"
   },
   {
    "duration": 97,
    "start_time": "2022-04-25T14:59:21.579Z"
   },
   {
    "duration": 91,
    "start_time": "2022-04-25T14:59:50.067Z"
   },
   {
    "duration": 100,
    "start_time": "2022-04-25T15:00:03.805Z"
   },
   {
    "duration": 52,
    "start_time": "2022-04-25T15:00:26.485Z"
   },
   {
    "duration": 51,
    "start_time": "2022-04-25T15:00:36.107Z"
   },
   {
    "duration": 52,
    "start_time": "2022-04-25T15:01:28.472Z"
   },
   {
    "duration": 57,
    "start_time": "2022-04-25T15:02:07.122Z"
   },
   {
    "duration": 50,
    "start_time": "2022-04-25T15:03:10.702Z"
   },
   {
    "duration": 4,
    "start_time": "2022-04-25T15:03:30.584Z"
   },
   {
    "duration": 805,
    "start_time": "2022-04-25T15:03:30.592Z"
   },
   {
    "duration": 17,
    "start_time": "2022-04-25T15:03:31.400Z"
   },
   {
    "duration": 65,
    "start_time": "2022-04-25T15:03:31.419Z"
   },
   {
    "duration": 8,
    "start_time": "2022-04-25T15:03:31.489Z"
   },
   {
    "duration": 99,
    "start_time": "2022-04-25T15:03:31.500Z"
   },
   {
    "duration": 9,
    "start_time": "2022-04-25T15:03:31.601Z"
   },
   {
    "duration": 19,
    "start_time": "2022-04-25T15:03:31.613Z"
   },
   {
    "duration": 19,
    "start_time": "2022-04-25T15:03:31.651Z"
   },
   {
    "duration": 49,
    "start_time": "2022-04-25T15:03:31.673Z"
   },
   {
    "duration": 11,
    "start_time": "2022-04-25T15:03:31.723Z"
   },
   {
    "duration": 46,
    "start_time": "2022-04-25T15:03:31.736Z"
   },
   {
    "duration": 10,
    "start_time": "2022-04-25T15:03:31.786Z"
   },
   {
    "duration": 27,
    "start_time": "2022-04-25T15:03:31.798Z"
   },
   {
    "duration": 29,
    "start_time": "2022-04-25T15:03:31.828Z"
   },
   {
    "duration": 35,
    "start_time": "2022-04-25T15:03:31.859Z"
   },
   {
    "duration": 11,
    "start_time": "2022-04-25T15:03:31.897Z"
   },
   {
    "duration": 56,
    "start_time": "2022-04-25T15:03:31.911Z"
   },
   {
    "duration": 31,
    "start_time": "2022-04-25T15:03:31.969Z"
   },
   {
    "duration": 38,
    "start_time": "2022-04-25T15:03:32.002Z"
   },
   {
    "duration": 27,
    "start_time": "2022-04-25T15:03:32.043Z"
   },
   {
    "duration": 15,
    "start_time": "2022-04-25T15:03:32.073Z"
   },
   {
    "duration": 19,
    "start_time": "2022-04-25T15:03:32.091Z"
   },
   {
    "duration": 30,
    "start_time": "2022-04-25T15:03:32.112Z"
   },
   {
    "duration": 8,
    "start_time": "2022-04-25T15:03:32.144Z"
   },
   {
    "duration": 47,
    "start_time": "2022-04-25T15:03:32.155Z"
   },
   {
    "duration": 22,
    "start_time": "2022-04-25T15:03:32.204Z"
   },
   {
    "duration": 606,
    "start_time": "2022-04-25T15:03:32.228Z"
   },
   {
    "duration": 23,
    "start_time": "2022-04-25T15:03:32.836Z"
   },
   {
    "duration": 582,
    "start_time": "2022-04-25T15:03:32.861Z"
   },
   {
    "duration": 17,
    "start_time": "2022-04-25T15:03:33.445Z"
   },
   {
    "duration": 20,
    "start_time": "2022-04-25T15:03:33.464Z"
   },
   {
    "duration": 18,
    "start_time": "2022-04-25T15:03:33.487Z"
   },
   {
    "duration": 53,
    "start_time": "2022-04-25T15:03:33.507Z"
   },
   {
    "duration": 31,
    "start_time": "2022-04-25T15:03:33.562Z"
   },
   {
    "duration": 19,
    "start_time": "2022-04-25T15:03:33.595Z"
   },
   {
    "duration": 413,
    "start_time": "2022-04-25T15:03:33.651Z"
   },
   {
    "duration": 12,
    "start_time": "2022-04-25T15:03:34.066Z"
   },
   {
    "duration": 26,
    "start_time": "2022-04-25T15:03:34.081Z"
   },
   {
    "duration": 90,
    "start_time": "2022-04-25T15:03:34.110Z"
   },
   {
    "duration": 75,
    "start_time": "2022-04-25T15:03:41.306Z"
   },
   {
    "duration": 15,
    "start_time": "2022-04-25T15:03:46.426Z"
   },
   {
    "duration": 53,
    "start_time": "2022-04-25T15:03:47.113Z"
   },
   {
    "duration": 53,
    "start_time": "2022-04-25T15:04:09.535Z"
   },
   {
    "duration": 50,
    "start_time": "2022-04-25T15:04:15.206Z"
   },
   {
    "duration": 13,
    "start_time": "2022-04-25T15:04:36.202Z"
   },
   {
    "duration": 42,
    "start_time": "2022-04-25T15:05:29.206Z"
   },
   {
    "duration": 20,
    "start_time": "2022-04-25T15:08:14.332Z"
   },
   {
    "duration": 11,
    "start_time": "2022-04-25T15:08:38.589Z"
   },
   {
    "duration": 1623,
    "start_time": "2022-04-25T15:11:02.876Z"
   },
   {
    "duration": 42,
    "start_time": "2022-04-25T15:11:17.429Z"
   },
   {
    "duration": 40,
    "start_time": "2022-04-25T15:11:42.968Z"
   },
   {
    "duration": 429,
    "start_time": "2022-04-25T15:11:58.621Z"
   },
   {
    "duration": 75,
    "start_time": "2022-04-25T15:12:18.889Z"
   },
   {
    "duration": 72,
    "start_time": "2022-04-25T15:12:34.523Z"
   },
   {
    "duration": 77,
    "start_time": "2022-04-25T15:12:40.550Z"
   },
   {
    "duration": 78,
    "start_time": "2022-04-25T15:13:09.570Z"
   },
   {
    "duration": 75,
    "start_time": "2022-04-25T15:13:14.576Z"
   },
   {
    "duration": 34,
    "start_time": "2022-04-25T15:14:21.121Z"
   },
   {
    "duration": 454,
    "start_time": "2022-04-25T15:14:39.272Z"
   },
   {
    "duration": 38,
    "start_time": "2022-04-25T15:14:46.065Z"
   },
   {
    "duration": 39,
    "start_time": "2022-04-25T15:15:02.950Z"
   },
   {
    "duration": 11,
    "start_time": "2022-04-25T15:15:32.972Z"
   },
   {
    "duration": 31,
    "start_time": "2022-04-25T15:15:49.427Z"
   },
   {
    "duration": 40,
    "start_time": "2022-04-25T15:16:50.844Z"
   },
   {
    "duration": 29,
    "start_time": "2022-04-25T15:16:59.864Z"
   },
   {
    "duration": 49,
    "start_time": "2022-04-25T15:17:00.693Z"
   },
   {
    "duration": 39,
    "start_time": "2022-04-25T15:17:10.831Z"
   },
   {
    "duration": 39,
    "start_time": "2022-04-25T15:17:36.266Z"
   },
   {
    "duration": 59,
    "start_time": "2022-04-25T15:17:43.510Z"
   },
   {
    "duration": 15,
    "start_time": "2022-04-25T15:18:09.394Z"
   },
   {
    "duration": 15,
    "start_time": "2022-04-25T15:19:07.649Z"
   },
   {
    "duration": 520,
    "start_time": "2022-04-25T15:19:31.490Z"
   },
   {
    "duration": 554,
    "start_time": "2022-04-25T15:19:32.012Z"
   },
   {
    "duration": 30,
    "start_time": "2022-04-25T15:19:32.569Z"
   },
   {
    "duration": 50,
    "start_time": "2022-04-25T15:19:32.603Z"
   },
   {
    "duration": 7,
    "start_time": "2022-04-25T15:19:32.655Z"
   },
   {
    "duration": 88,
    "start_time": "2022-04-25T15:19:32.664Z"
   },
   {
    "duration": 10,
    "start_time": "2022-04-25T15:19:32.755Z"
   },
   {
    "duration": 23,
    "start_time": "2022-04-25T15:19:32.768Z"
   },
   {
    "duration": 16,
    "start_time": "2022-04-25T15:19:32.793Z"
   },
   {
    "duration": 62,
    "start_time": "2022-04-25T15:19:32.813Z"
   },
   {
    "duration": 8,
    "start_time": "2022-04-25T15:19:32.877Z"
   },
   {
    "duration": 65,
    "start_time": "2022-04-25T15:19:32.887Z"
   },
   {
    "duration": 12,
    "start_time": "2022-04-25T15:19:32.955Z"
   },
   {
    "duration": 28,
    "start_time": "2022-04-25T15:19:32.970Z"
   },
   {
    "duration": 7,
    "start_time": "2022-04-25T15:19:33.000Z"
   },
   {
    "duration": 91,
    "start_time": "2022-04-25T15:19:33.010Z"
   },
   {
    "duration": 13,
    "start_time": "2022-04-25T15:19:33.103Z"
   },
   {
    "duration": 44,
    "start_time": "2022-04-25T15:19:33.119Z"
   },
   {
    "duration": 16,
    "start_time": "2022-04-25T15:19:33.166Z"
   },
   {
    "duration": 30,
    "start_time": "2022-04-25T15:19:33.184Z"
   },
   {
    "duration": 19,
    "start_time": "2022-04-25T15:19:33.216Z"
   },
   {
    "duration": 20,
    "start_time": "2022-04-25T15:19:33.238Z"
   },
   {
    "duration": 15,
    "start_time": "2022-04-25T15:19:33.260Z"
   },
   {
    "duration": 21,
    "start_time": "2022-04-25T15:19:33.277Z"
   },
   {
    "duration": 3,
    "start_time": "2022-04-25T15:19:33.301Z"
   },
   {
    "duration": 80,
    "start_time": "2022-04-25T15:19:33.307Z"
   },
   {
    "duration": 24,
    "start_time": "2022-04-25T15:19:33.389Z"
   },
   {
    "duration": 1638,
    "start_time": "2022-04-25T15:19:33.418Z"
   },
   {
    "duration": 20,
    "start_time": "2022-04-25T15:19:35.060Z"
   },
   {
    "duration": 1077,
    "start_time": "2022-04-25T15:19:35.083Z"
   },
   {
    "duration": 14,
    "start_time": "2022-04-25T15:19:36.162Z"
   },
   {
    "duration": 47,
    "start_time": "2022-04-25T15:19:36.179Z"
   },
   {
    "duration": 28,
    "start_time": "2022-04-25T15:19:36.228Z"
   },
   {
    "duration": 10,
    "start_time": "2022-04-25T15:19:36.258Z"
   },
   {
    "duration": 31,
    "start_time": "2022-04-25T15:19:36.272Z"
   },
   {
    "duration": 51,
    "start_time": "2022-04-25T15:19:36.305Z"
   },
   {
    "duration": 313,
    "start_time": "2022-04-25T15:19:36.359Z"
   },
   {
    "duration": 13,
    "start_time": "2022-04-25T15:19:36.674Z"
   },
   {
    "duration": 20,
    "start_time": "2022-04-25T15:19:36.690Z"
   },
   {
    "duration": 66,
    "start_time": "2022-04-25T15:19:36.712Z"
   },
   {
    "duration": 11,
    "start_time": "2022-04-25T15:19:36.780Z"
   },
   {
    "duration": 65,
    "start_time": "2022-04-25T15:19:36.793Z"
   },
   {
    "duration": 97,
    "start_time": "2022-04-25T15:19:36.861Z"
   },
   {
    "duration": 13,
    "start_time": "2022-04-25T15:19:36.961Z"
   },
   {
    "duration": 37,
    "start_time": "2022-04-25T15:19:36.976Z"
   },
   {
    "duration": 539,
    "start_time": "2022-04-25T15:19:37.016Z"
   },
   {
    "duration": 0,
    "start_time": "2022-04-25T15:19:37.557Z"
   },
   {
    "duration": 0,
    "start_time": "2022-04-25T15:19:37.559Z"
   },
   {
    "duration": 0,
    "start_time": "2022-04-25T15:19:37.560Z"
   },
   {
    "duration": 0,
    "start_time": "2022-04-25T15:19:37.562Z"
   },
   {
    "duration": 40,
    "start_time": "2022-04-25T15:19:49.327Z"
   },
   {
    "duration": 40,
    "start_time": "2022-04-25T15:20:40.247Z"
   },
   {
    "duration": 85,
    "start_time": "2022-04-25T15:24:02.601Z"
   },
   {
    "duration": 12,
    "start_time": "2022-04-25T15:24:06.496Z"
   },
   {
    "duration": 21,
    "start_time": "2022-04-25T15:24:16.306Z"
   },
   {
    "duration": 20,
    "start_time": "2022-04-25T15:24:37.592Z"
   },
   {
    "duration": 12,
    "start_time": "2022-04-25T15:25:45.657Z"
   },
   {
    "duration": 503,
    "start_time": "2022-04-25T15:26:12.590Z"
   },
   {
    "duration": 489,
    "start_time": "2022-04-25T15:26:13.095Z"
   },
   {
    "duration": 22,
    "start_time": "2022-04-25T15:26:13.586Z"
   },
   {
    "duration": 33,
    "start_time": "2022-04-25T15:26:13.611Z"
   },
   {
    "duration": 6,
    "start_time": "2022-04-25T15:26:13.652Z"
   },
   {
    "duration": 86,
    "start_time": "2022-04-25T15:26:13.661Z"
   },
   {
    "duration": 7,
    "start_time": "2022-04-25T15:26:13.749Z"
   },
   {
    "duration": 17,
    "start_time": "2022-04-25T15:26:13.758Z"
   },
   {
    "duration": 24,
    "start_time": "2022-04-25T15:26:13.777Z"
   },
   {
    "duration": 51,
    "start_time": "2022-04-25T15:26:13.803Z"
   },
   {
    "duration": 6,
    "start_time": "2022-04-25T15:26:13.856Z"
   },
   {
    "duration": 40,
    "start_time": "2022-04-25T15:26:13.864Z"
   },
   {
    "duration": 10,
    "start_time": "2022-04-25T15:26:13.906Z"
   },
   {
    "duration": 26,
    "start_time": "2022-04-25T15:26:13.951Z"
   },
   {
    "duration": 6,
    "start_time": "2022-04-25T15:26:13.979Z"
   },
   {
    "duration": 47,
    "start_time": "2022-04-25T15:26:13.988Z"
   },
   {
    "duration": 24,
    "start_time": "2022-04-25T15:26:14.037Z"
   },
   {
    "duration": 28,
    "start_time": "2022-04-25T15:26:14.064Z"
   },
   {
    "duration": 19,
    "start_time": "2022-04-25T15:26:14.095Z"
   },
   {
    "duration": 19,
    "start_time": "2022-04-25T15:26:14.116Z"
   },
   {
    "duration": 14,
    "start_time": "2022-04-25T15:26:14.152Z"
   },
   {
    "duration": 18,
    "start_time": "2022-04-25T15:26:14.168Z"
   },
   {
    "duration": 22,
    "start_time": "2022-04-25T15:26:14.188Z"
   },
   {
    "duration": 34,
    "start_time": "2022-04-25T15:26:14.212Z"
   },
   {
    "duration": 12,
    "start_time": "2022-04-25T15:26:14.248Z"
   },
   {
    "duration": 64,
    "start_time": "2022-04-25T15:26:14.262Z"
   },
   {
    "duration": 23,
    "start_time": "2022-04-25T15:26:14.328Z"
   },
   {
    "duration": 899,
    "start_time": "2022-04-25T15:26:14.353Z"
   },
   {
    "duration": 14,
    "start_time": "2022-04-25T15:26:15.254Z"
   },
   {
    "duration": 617,
    "start_time": "2022-04-25T15:26:15.270Z"
   },
   {
    "duration": 13,
    "start_time": "2022-04-25T15:26:15.890Z"
   },
   {
    "duration": 23,
    "start_time": "2022-04-25T15:26:15.905Z"
   },
   {
    "duration": 19,
    "start_time": "2022-04-25T15:26:15.951Z"
   },
   {
    "duration": 11,
    "start_time": "2022-04-25T15:26:15.972Z"
   },
   {
    "duration": 29,
    "start_time": "2022-04-25T15:26:15.985Z"
   },
   {
    "duration": 53,
    "start_time": "2022-04-25T15:26:16.016Z"
   },
   {
    "duration": 306,
    "start_time": "2022-04-25T15:26:16.071Z"
   },
   {
    "duration": 11,
    "start_time": "2022-04-25T15:26:16.380Z"
   },
   {
    "duration": 16,
    "start_time": "2022-04-25T15:26:16.394Z"
   },
   {
    "duration": 64,
    "start_time": "2022-04-25T15:26:16.412Z"
   },
   {
    "duration": 11,
    "start_time": "2022-04-25T15:26:16.482Z"
   },
   {
    "duration": 66,
    "start_time": "2022-04-25T15:26:16.495Z"
   },
   {
    "duration": 90,
    "start_time": "2022-04-25T15:26:16.563Z"
   },
   {
    "duration": 11,
    "start_time": "2022-04-25T15:26:16.655Z"
   },
   {
    "duration": 37,
    "start_time": "2022-04-25T15:26:16.668Z"
   },
   {
    "duration": 63,
    "start_time": "2022-04-25T15:26:16.707Z"
   },
   {
    "duration": 12,
    "start_time": "2022-04-25T15:26:16.772Z"
   },
   {
    "duration": 12,
    "start_time": "2022-04-25T15:26:16.787Z"
   },
   {
    "duration": 14,
    "start_time": "2022-04-25T15:26:16.801Z"
   },
   {
    "duration": 57,
    "start_time": "2022-04-25T15:26:16.817Z"
   },
   {
    "duration": 43,
    "start_time": "2022-04-25T15:26:16.876Z"
   },
   {
    "duration": 39,
    "start_time": "2022-04-25T15:26:16.921Z"
   },
   {
    "duration": 15,
    "start_time": "2022-04-25T15:26:38.519Z"
   },
   {
    "duration": 15,
    "start_time": "2022-04-25T15:26:57.532Z"
   },
   {
    "duration": 11,
    "start_time": "2022-04-25T15:27:19.712Z"
   },
   {
    "duration": 10,
    "start_time": "2022-04-25T15:27:22.088Z"
   },
   {
    "duration": 10,
    "start_time": "2022-04-25T15:27:24.425Z"
   },
   {
    "duration": 26,
    "start_time": "2022-04-25T15:31:09.551Z"
   },
   {
    "duration": 21,
    "start_time": "2022-04-25T15:31:18.020Z"
   },
   {
    "duration": 1503,
    "start_time": "2022-04-25T15:31:56.814Z"
   },
   {
    "duration": 496,
    "start_time": "2022-04-25T15:32:17.787Z"
   },
   {
    "duration": 7,
    "start_time": "2022-04-25T15:32:27.084Z"
   },
   {
    "duration": 37,
    "start_time": "2022-04-25T15:32:27.757Z"
   },
   {
    "duration": 14,
    "start_time": "2022-04-25T15:32:33.143Z"
   },
   {
    "duration": 19,
    "start_time": "2022-04-25T15:32:39.324Z"
   },
   {
    "duration": 18,
    "start_time": "2022-04-25T15:32:41.310Z"
   },
   {
    "duration": 12,
    "start_time": "2022-04-25T15:32:47.886Z"
   },
   {
    "duration": 32,
    "start_time": "2022-04-25T15:32:49.353Z"
   },
   {
    "duration": 45,
    "start_time": "2022-04-25T15:32:51.388Z"
   },
   {
    "duration": 15,
    "start_time": "2022-04-25T15:32:55.453Z"
   },
   {
    "duration": 15,
    "start_time": "2022-04-25T15:33:10.332Z"
   },
   {
    "duration": 12,
    "start_time": "2022-04-25T15:33:14.906Z"
   },
   {
    "duration": 10,
    "start_time": "2022-04-25T15:33:27.811Z"
   },
   {
    "duration": 9,
    "start_time": "2022-04-25T15:33:28.760Z"
   },
   {
    "duration": 10,
    "start_time": "2022-04-25T15:33:30.261Z"
   },
   {
    "duration": 20,
    "start_time": "2022-04-25T15:33:31.217Z"
   },
   {
    "duration": 90,
    "start_time": "2022-04-25T15:38:14.665Z"
   },
   {
    "duration": 23,
    "start_time": "2022-04-25T15:38:39.448Z"
   },
   {
    "duration": 29,
    "start_time": "2022-04-25T15:39:21.591Z"
   },
   {
    "duration": 49,
    "start_time": "2022-04-25T15:39:31.031Z"
   },
   {
    "duration": 40,
    "start_time": "2022-04-25T15:42:42.196Z"
   },
   {
    "duration": 97,
    "start_time": "2022-04-25T16:05:49.410Z"
   },
   {
    "duration": 114,
    "start_time": "2022-04-25T16:05:55.166Z"
   },
   {
    "duration": 52,
    "start_time": "2022-04-25T16:06:39.885Z"
   },
   {
    "duration": 71,
    "start_time": "2022-04-25T16:17:27.944Z"
   },
   {
    "duration": 104,
    "start_time": "2022-04-25T16:28:39.342Z"
   },
   {
    "duration": 6,
    "start_time": "2022-04-25T16:29:05.577Z"
   },
   {
    "duration": 75,
    "start_time": "2022-04-25T16:29:38.462Z"
   },
   {
    "duration": 139,
    "start_time": "2022-04-25T16:30:08.201Z"
   },
   {
    "duration": 49,
    "start_time": "2022-04-25T16:30:19.122Z"
   },
   {
    "duration": 9,
    "start_time": "2022-04-25T16:31:00.799Z"
   },
   {
    "duration": 139,
    "start_time": "2022-04-25T16:31:01.465Z"
   },
   {
    "duration": 31,
    "start_time": "2022-04-25T16:31:02.333Z"
   },
   {
    "duration": 7,
    "start_time": "2022-04-25T16:31:37.164Z"
   },
   {
    "duration": 8,
    "start_time": "2022-04-25T16:31:43.640Z"
   },
   {
    "duration": 25,
    "start_time": "2022-04-25T16:31:50.448Z"
   },
   {
    "duration": 9,
    "start_time": "2022-04-25T16:32:01.265Z"
   },
   {
    "duration": 10,
    "start_time": "2022-04-25T16:32:48.194Z"
   },
   {
    "duration": 11,
    "start_time": "2022-04-25T16:33:27.351Z"
   },
   {
    "duration": 11,
    "start_time": "2022-04-25T16:33:32.966Z"
   },
   {
    "duration": 9,
    "start_time": "2022-04-25T16:33:41.212Z"
   },
   {
    "duration": 27,
    "start_time": "2022-04-25T16:34:05.329Z"
   },
   {
    "duration": 40,
    "start_time": "2022-04-25T16:34:19.441Z"
   },
   {
    "duration": 41,
    "start_time": "2022-04-25T16:35:25.749Z"
   },
   {
    "duration": 34,
    "start_time": "2022-04-25T16:35:28.810Z"
   },
   {
    "duration": 8,
    "start_time": "2022-04-25T16:39:27.733Z"
   },
   {
    "duration": 9,
    "start_time": "2022-04-25T16:40:03.501Z"
   },
   {
    "duration": 91,
    "start_time": "2022-04-25T16:41:26.435Z"
   },
   {
    "duration": 89,
    "start_time": "2022-04-25T16:41:29.497Z"
   },
   {
    "duration": 5,
    "start_time": "2022-04-25T16:41:33.033Z"
   },
   {
    "duration": 33,
    "start_time": "2022-04-25T16:41:36.718Z"
   },
   {
    "duration": 26,
    "start_time": "2022-04-25T16:41:48.800Z"
   },
   {
    "duration": 72,
    "start_time": "2022-04-25T16:42:21.583Z"
   },
   {
    "duration": 112,
    "start_time": "2022-04-25T16:42:49.249Z"
   },
   {
    "duration": 29,
    "start_time": "2022-04-25T16:44:49.923Z"
   },
   {
    "duration": 28,
    "start_time": "2022-04-25T16:45:38.903Z"
   },
   {
    "duration": 41,
    "start_time": "2022-04-25T16:52:50.665Z"
   },
   {
    "duration": 27,
    "start_time": "2022-04-25T16:53:12.669Z"
   },
   {
    "duration": 26,
    "start_time": "2022-04-25T16:53:17.803Z"
   },
   {
    "duration": 19,
    "start_time": "2022-04-25T16:53:23.158Z"
   },
   {
    "duration": 17,
    "start_time": "2022-04-25T16:53:31.314Z"
   },
   {
    "duration": 84,
    "start_time": "2022-04-25T16:53:41.581Z"
   },
   {
    "duration": 17,
    "start_time": "2022-04-25T16:53:59.844Z"
   },
   {
    "duration": 7,
    "start_time": "2022-04-25T16:54:45.992Z"
   },
   {
    "duration": 6,
    "start_time": "2022-04-25T16:55:11.315Z"
   },
   {
    "duration": 7,
    "start_time": "2022-04-25T16:55:38.057Z"
   },
   {
    "duration": 5,
    "start_time": "2022-04-25T16:58:50.202Z"
   },
   {
    "duration": 5,
    "start_time": "2022-04-25T16:58:59.133Z"
   },
   {
    "duration": 5,
    "start_time": "2022-04-25T16:59:03.452Z"
   },
   {
    "duration": 5,
    "start_time": "2022-04-25T16:59:10.310Z"
   },
   {
    "duration": 372,
    "start_time": "2022-04-25T17:01:24.109Z"
   },
   {
    "duration": 386,
    "start_time": "2022-04-25T17:01:55.206Z"
   },
   {
    "duration": 571,
    "start_time": "2022-04-25T17:02:48.131Z"
   },
   {
    "duration": 648,
    "start_time": "2022-04-25T17:02:55.283Z"
   },
   {
    "duration": 308,
    "start_time": "2022-04-25T17:03:03.793Z"
   },
   {
    "duration": 411,
    "start_time": "2022-04-25T17:03:21.254Z"
   },
   {
    "duration": 591,
    "start_time": "2022-04-25T17:03:26.155Z"
   },
   {
    "duration": 9,
    "start_time": "2022-04-25T17:10:29.605Z"
   },
   {
    "duration": 9,
    "start_time": "2022-04-25T17:10:40.043Z"
   },
   {
    "duration": 9,
    "start_time": "2022-04-25T17:10:41.408Z"
   },
   {
    "duration": 704,
    "start_time": "2022-04-25T17:14:00.511Z"
   },
   {
    "duration": 443,
    "start_time": "2022-04-25T17:14:26.291Z"
   },
   {
    "duration": 578,
    "start_time": "2022-04-25T17:17:20.078Z"
   },
   {
    "duration": 306,
    "start_time": "2022-04-25T17:17:25.107Z"
   },
   {
    "duration": 300,
    "start_time": "2022-04-25T17:17:41.762Z"
   },
   {
    "duration": 295,
    "start_time": "2022-04-25T17:18:01.573Z"
   },
   {
    "duration": 293,
    "start_time": "2022-04-25T17:18:43.873Z"
   },
   {
    "duration": 23,
    "start_time": "2022-04-25T17:24:11.029Z"
   },
   {
    "duration": 27,
    "start_time": "2022-04-25T17:24:20.703Z"
   },
   {
    "duration": 9,
    "start_time": "2022-04-25T17:24:27.514Z"
   },
   {
    "duration": 10,
    "start_time": "2022-04-25T17:24:30.530Z"
   },
   {
    "duration": 9,
    "start_time": "2022-04-25T17:24:36.330Z"
   },
   {
    "duration": 9,
    "start_time": "2022-04-25T17:24:38.326Z"
   },
   {
    "duration": 9,
    "start_time": "2022-04-25T17:24:41.312Z"
   },
   {
    "duration": 832,
    "start_time": "2022-04-25T17:28:07.451Z"
   },
   {
    "duration": 805,
    "start_time": "2022-04-25T17:28:25.718Z"
   },
   {
    "duration": 397,
    "start_time": "2022-04-25T17:29:41.757Z"
   },
   {
    "duration": 364,
    "start_time": "2022-04-25T17:29:52.138Z"
   },
   {
    "duration": 909,
    "start_time": "2022-04-25T17:29:57.501Z"
   },
   {
    "duration": 469,
    "start_time": "2022-04-25T17:30:04.351Z"
   },
   {
    "duration": 293,
    "start_time": "2022-04-25T17:30:48.753Z"
   },
   {
    "duration": 304,
    "start_time": "2022-04-25T17:31:05.543Z"
   },
   {
    "duration": 557,
    "start_time": "2022-04-25T17:45:38.108Z"
   },
   {
    "duration": 498,
    "start_time": "2022-04-25T17:45:38.668Z"
   },
   {
    "duration": 23,
    "start_time": "2022-04-25T17:45:39.168Z"
   },
   {
    "duration": 34,
    "start_time": "2022-04-25T17:45:39.194Z"
   },
   {
    "duration": 21,
    "start_time": "2022-04-25T17:45:39.231Z"
   },
   {
    "duration": 53,
    "start_time": "2022-04-25T17:45:39.255Z"
   },
   {
    "duration": 7,
    "start_time": "2022-04-25T17:45:39.310Z"
   },
   {
    "duration": 38,
    "start_time": "2022-04-25T17:45:39.319Z"
   },
   {
    "duration": 14,
    "start_time": "2022-04-25T17:45:39.359Z"
   },
   {
    "duration": 28,
    "start_time": "2022-04-25T17:45:39.377Z"
   },
   {
    "duration": 6,
    "start_time": "2022-04-25T17:45:39.408Z"
   },
   {
    "duration": 39,
    "start_time": "2022-04-25T17:45:39.452Z"
   },
   {
    "duration": 10,
    "start_time": "2022-04-25T17:45:39.494Z"
   },
   {
    "duration": 57,
    "start_time": "2022-04-25T17:45:39.507Z"
   },
   {
    "duration": 7,
    "start_time": "2022-04-25T17:45:39.567Z"
   },
   {
    "duration": 35,
    "start_time": "2022-04-25T17:45:39.576Z"
   },
   {
    "duration": 40,
    "start_time": "2022-04-25T17:45:39.613Z"
   },
   {
    "duration": 15,
    "start_time": "2022-04-25T17:45:39.656Z"
   },
   {
    "duration": 16,
    "start_time": "2022-04-25T17:45:39.673Z"
   },
   {
    "duration": 20,
    "start_time": "2022-04-25T17:45:39.692Z"
   },
   {
    "duration": 39,
    "start_time": "2022-04-25T17:45:39.714Z"
   },
   {
    "duration": 10,
    "start_time": "2022-04-25T17:45:39.755Z"
   },
   {
    "duration": 13,
    "start_time": "2022-04-25T17:45:39.768Z"
   },
   {
    "duration": 26,
    "start_time": "2022-04-25T17:45:39.783Z"
   },
   {
    "duration": 4,
    "start_time": "2022-04-25T17:45:39.811Z"
   },
   {
    "duration": 71,
    "start_time": "2022-04-25T17:45:39.817Z"
   },
   {
    "duration": 21,
    "start_time": "2022-04-25T17:45:39.890Z"
   },
   {
    "duration": 926,
    "start_time": "2022-04-25T17:45:39.917Z"
   },
   {
    "duration": 20,
    "start_time": "2022-04-25T17:45:40.846Z"
   },
   {
    "duration": 625,
    "start_time": "2022-04-25T17:45:40.868Z"
   },
   {
    "duration": 14,
    "start_time": "2022-04-25T17:45:41.495Z"
   },
   {
    "duration": 43,
    "start_time": "2022-04-25T17:45:41.511Z"
   },
   {
    "duration": 18,
    "start_time": "2022-04-25T17:45:41.557Z"
   },
   {
    "duration": 11,
    "start_time": "2022-04-25T17:45:41.577Z"
   },
   {
    "duration": 28,
    "start_time": "2022-04-25T17:45:41.590Z"
   },
   {
    "duration": 19,
    "start_time": "2022-04-25T17:45:41.652Z"
   },
   {
    "duration": 324,
    "start_time": "2022-04-25T17:45:41.673Z"
   },
   {
    "duration": 11,
    "start_time": "2022-04-25T17:45:42.000Z"
   },
   {
    "duration": 37,
    "start_time": "2022-04-25T17:45:42.014Z"
   },
   {
    "duration": 43,
    "start_time": "2022-04-25T17:45:42.054Z"
   },
   {
    "duration": 11,
    "start_time": "2022-04-25T17:45:42.100Z"
   },
   {
    "duration": 70,
    "start_time": "2022-04-25T17:45:42.113Z"
   },
   {
    "duration": 97,
    "start_time": "2022-04-25T17:45:42.186Z"
   },
   {
    "duration": 19,
    "start_time": "2022-04-25T17:45:42.287Z"
   },
   {
    "duration": 60,
    "start_time": "2022-04-25T17:45:42.309Z"
   },
   {
    "duration": 43,
    "start_time": "2022-04-25T17:45:42.371Z"
   },
   {
    "duration": 13,
    "start_time": "2022-04-25T17:45:42.417Z"
   },
   {
    "duration": 11,
    "start_time": "2022-04-25T17:45:42.453Z"
   },
   {
    "duration": 11,
    "start_time": "2022-04-25T17:45:42.466Z"
   },
   {
    "duration": 29,
    "start_time": "2022-04-25T17:45:42.479Z"
   },
   {
    "duration": 76,
    "start_time": "2022-04-25T17:45:42.511Z"
   },
   {
    "duration": 9,
    "start_time": "2022-04-25T17:45:42.589Z"
   },
   {
    "duration": 15,
    "start_time": "2022-04-25T17:45:42.601Z"
   },
   {
    "duration": 34,
    "start_time": "2022-04-25T17:45:42.618Z"
   },
   {
    "duration": 45,
    "start_time": "2022-04-25T17:45:42.655Z"
   },
   {
    "duration": 6,
    "start_time": "2022-04-25T17:45:42.702Z"
   },
   {
    "duration": 167,
    "start_time": "2022-04-25T17:45:42.710Z"
   },
   {
    "duration": 20,
    "start_time": "2022-04-25T17:45:42.879Z"
   },
   {
    "duration": 10,
    "start_time": "2022-04-25T17:45:42.902Z"
   },
   {
    "duration": 17,
    "start_time": "2022-04-25T17:45:42.914Z"
   },
   {
    "duration": 9,
    "start_time": "2022-04-25T17:45:42.952Z"
   },
   {
    "duration": 24,
    "start_time": "2022-04-25T17:45:42.964Z"
   },
   {
    "duration": 69,
    "start_time": "2022-04-25T17:45:42.991Z"
   },
   {
    "duration": 10,
    "start_time": "2022-04-25T17:45:43.062Z"
   },
   {
    "duration": 9,
    "start_time": "2022-04-25T17:45:43.075Z"
   },
   {
    "duration": 9,
    "start_time": "2022-04-25T17:45:43.087Z"
   },
   {
    "duration": 618,
    "start_time": "2022-04-25T17:45:43.099Z"
   },
   {
    "duration": 408,
    "start_time": "2022-04-25T17:45:43.719Z"
   },
   {
    "duration": 301,
    "start_time": "2022-04-25T17:45:44.130Z"
   },
   {
    "duration": 30,
    "start_time": "2022-04-25T17:45:44.433Z"
   },
   {
    "duration": 37,
    "start_time": "2022-04-25T17:45:44.465Z"
   },
   {
    "duration": 8,
    "start_time": "2022-04-25T17:45:44.504Z"
   },
   {
    "duration": 11,
    "start_time": "2022-04-25T17:45:44.514Z"
   },
   {
    "duration": 30,
    "start_time": "2022-04-25T17:45:44.527Z"
   },
   {
    "duration": 867,
    "start_time": "2022-04-25T17:45:44.559Z"
   },
   {
    "duration": 397,
    "start_time": "2022-04-25T17:45:45.428Z"
   },
   {
    "duration": 295,
    "start_time": "2022-04-25T17:45:45.827Z"
   },
   {
    "duration": 11,
    "start_time": "2022-04-25T17:46:47.126Z"
   },
   {
    "duration": 9,
    "start_time": "2022-04-25T17:46:55.148Z"
   },
   {
    "duration": 8,
    "start_time": "2022-04-25T17:47:06.072Z"
   },
   {
    "duration": 653,
    "start_time": "2022-04-25T17:48:30.805Z"
   },
   {
    "duration": 11,
    "start_time": "2022-04-25T17:49:37.585Z"
   },
   {
    "duration": 6,
    "start_time": "2022-04-25T17:49:38.242Z"
   },
   {
    "duration": 11,
    "start_time": "2022-04-25T17:51:13.647Z"
   },
   {
    "duration": 11,
    "start_time": "2022-04-25T17:52:06.437Z"
   },
   {
    "duration": 14,
    "start_time": "2022-04-25T17:54:41.914Z"
   },
   {
    "duration": 54,
    "start_time": "2022-04-25T17:57:32.448Z"
   },
   {
    "duration": 2002,
    "start_time": "2022-04-25T17:58:20.048Z"
   },
   {
    "duration": 1093,
    "start_time": "2022-04-25T17:58:35.789Z"
   },
   {
    "duration": 496,
    "start_time": "2022-04-25T17:58:36.885Z"
   },
   {
    "duration": 22,
    "start_time": "2022-04-25T17:58:37.383Z"
   },
   {
    "duration": 35,
    "start_time": "2022-04-25T17:58:37.408Z"
   },
   {
    "duration": 10,
    "start_time": "2022-04-25T17:58:37.445Z"
   },
   {
    "duration": 55,
    "start_time": "2022-04-25T17:58:37.458Z"
   },
   {
    "duration": 6,
    "start_time": "2022-04-25T17:58:37.515Z"
   },
   {
    "duration": 37,
    "start_time": "2022-04-25T17:58:37.523Z"
   },
   {
    "duration": 13,
    "start_time": "2022-04-25T17:58:37.562Z"
   },
   {
    "duration": 29,
    "start_time": "2022-04-25T17:58:37.579Z"
   },
   {
    "duration": 6,
    "start_time": "2022-04-25T17:58:37.611Z"
   },
   {
    "duration": 41,
    "start_time": "2022-04-25T17:58:37.653Z"
   },
   {
    "duration": 10,
    "start_time": "2022-04-25T17:58:37.696Z"
   },
   {
    "duration": 56,
    "start_time": "2022-04-25T17:58:37.709Z"
   },
   {
    "duration": 6,
    "start_time": "2022-04-25T17:58:37.767Z"
   },
   {
    "duration": 36,
    "start_time": "2022-04-25T17:58:37.775Z"
   },
   {
    "duration": 11,
    "start_time": "2022-04-25T17:58:37.813Z"
   },
   {
    "duration": 16,
    "start_time": "2022-04-25T17:58:37.853Z"
   },
   {
    "duration": 15,
    "start_time": "2022-04-25T17:58:37.871Z"
   },
   {
    "duration": 17,
    "start_time": "2022-04-25T17:58:37.888Z"
   },
   {
    "duration": 44,
    "start_time": "2022-04-25T17:58:37.908Z"
   },
   {
    "duration": 10,
    "start_time": "2022-04-25T17:58:37.954Z"
   },
   {
    "duration": 13,
    "start_time": "2022-04-25T17:58:37.966Z"
   },
   {
    "duration": 20,
    "start_time": "2022-04-25T17:58:37.981Z"
   },
   {
    "duration": 4,
    "start_time": "2022-04-25T17:58:38.004Z"
   },
   {
    "duration": 78,
    "start_time": "2022-04-25T17:58:38.010Z"
   },
   {
    "duration": 22,
    "start_time": "2022-04-25T17:58:38.090Z"
   },
   {
    "duration": 1010,
    "start_time": "2022-04-25T17:58:38.118Z"
   },
   {
    "duration": 23,
    "start_time": "2022-04-25T17:58:39.130Z"
   },
   {
    "duration": 903,
    "start_time": "2022-04-25T17:58:39.155Z"
   },
   {
    "duration": 19,
    "start_time": "2022-04-25T17:58:40.061Z"
   },
   {
    "duration": 78,
    "start_time": "2022-04-25T17:58:40.082Z"
   },
   {
    "duration": 18,
    "start_time": "2022-04-25T17:58:40.162Z"
   },
   {
    "duration": 10,
    "start_time": "2022-04-25T17:58:40.182Z"
   },
   {
    "duration": 78,
    "start_time": "2022-04-25T17:58:40.194Z"
   },
   {
    "duration": 18,
    "start_time": "2022-04-25T17:58:40.275Z"
   },
   {
    "duration": 659,
    "start_time": "2022-04-25T17:58:40.295Z"
   },
   {
    "duration": 12,
    "start_time": "2022-04-25T17:58:40.956Z"
   },
   {
    "duration": 25,
    "start_time": "2022-04-25T17:58:40.970Z"
   },
   {
    "duration": 95,
    "start_time": "2022-04-25T17:58:40.997Z"
   },
   {
    "duration": 65,
    "start_time": "2022-04-25T17:58:41.095Z"
   },
   {
    "duration": 95,
    "start_time": "2022-04-25T17:58:41.163Z"
   },
   {
    "duration": 133,
    "start_time": "2022-04-25T17:58:41.260Z"
   },
   {
    "duration": 66,
    "start_time": "2022-04-25T17:58:41.395Z"
   },
   {
    "duration": 33,
    "start_time": "2022-04-25T17:58:41.464Z"
   },
   {
    "duration": 92,
    "start_time": "2022-04-25T17:58:41.499Z"
   },
   {
    "duration": 62,
    "start_time": "2022-04-25T17:58:41.593Z"
   },
   {
    "duration": 13,
    "start_time": "2022-04-25T17:58:41.657Z"
   },
   {
    "duration": 11,
    "start_time": "2022-04-25T17:58:41.672Z"
   },
   {
    "duration": 82,
    "start_time": "2022-04-25T17:58:41.685Z"
   },
   {
    "duration": 96,
    "start_time": "2022-04-25T17:58:41.770Z"
   },
   {
    "duration": 9,
    "start_time": "2022-04-25T17:58:41.868Z"
   },
   {
    "duration": 14,
    "start_time": "2022-04-25T17:58:41.879Z"
   },
   {
    "duration": 14,
    "start_time": "2022-04-25T17:58:41.951Z"
   },
   {
    "duration": 126,
    "start_time": "2022-04-25T17:58:41.968Z"
   },
   {
    "duration": 61,
    "start_time": "2022-04-25T17:58:42.097Z"
   },
   {
    "duration": 501,
    "start_time": "2022-04-25T17:58:42.160Z"
   },
   {
    "duration": 34,
    "start_time": "2022-04-25T17:58:42.664Z"
   },
   {
    "duration": 61,
    "start_time": "2022-04-25T17:58:42.700Z"
   },
   {
    "duration": 14,
    "start_time": "2022-04-25T17:58:42.764Z"
   },
   {
    "duration": 11,
    "start_time": "2022-04-25T17:58:42.781Z"
   },
   {
    "duration": 90,
    "start_time": "2022-04-25T17:58:42.795Z"
   },
   {
    "duration": 78,
    "start_time": "2022-04-25T17:58:42.887Z"
   },
   {
    "duration": 8,
    "start_time": "2022-04-25T17:58:42.968Z"
   },
   {
    "duration": 10,
    "start_time": "2022-04-25T17:58:42.979Z"
   },
   {
    "duration": 7,
    "start_time": "2022-04-25T17:58:42.991Z"
   },
   {
    "duration": 604,
    "start_time": "2022-04-25T17:58:43.000Z"
   },
   {
    "duration": 594,
    "start_time": "2022-04-25T17:58:43.607Z"
   },
   {
    "duration": 291,
    "start_time": "2022-04-25T17:58:44.203Z"
   },
   {
    "duration": 24,
    "start_time": "2022-04-25T17:58:44.496Z"
   },
   {
    "duration": 44,
    "start_time": "2022-04-25T17:58:44.522Z"
   },
   {
    "duration": 9,
    "start_time": "2022-04-25T17:58:44.568Z"
   },
   {
    "duration": 14,
    "start_time": "2022-04-25T17:58:44.578Z"
   },
   {
    "duration": 10,
    "start_time": "2022-04-25T17:58:44.595Z"
   },
   {
    "duration": 1382,
    "start_time": "2022-04-25T17:58:44.607Z"
   },
   {
    "duration": 660,
    "start_time": "2022-04-25T17:58:45.992Z"
   },
   {
    "duration": 374,
    "start_time": "2022-04-25T17:58:46.655Z"
   },
   {
    "duration": 22,
    "start_time": "2022-04-25T17:58:47.032Z"
   },
   {
    "duration": 13,
    "start_time": "2022-04-25T17:58:47.056Z"
   },
   {
    "duration": 12,
    "start_time": "2022-04-25T17:58:58.540Z"
   },
   {
    "duration": 12,
    "start_time": "2022-04-25T17:59:15.376Z"
   },
   {
    "duration": 6,
    "start_time": "2022-04-25T18:00:10.705Z"
   },
   {
    "duration": 13,
    "start_time": "2022-04-25T18:00:15.869Z"
   },
   {
    "duration": 14,
    "start_time": "2022-04-25T18:00:26.710Z"
   },
   {
    "duration": 8,
    "start_time": "2022-04-25T18:09:39.480Z"
   },
   {
    "duration": 10,
    "start_time": "2022-04-25T18:10:13.450Z"
   },
   {
    "duration": 9,
    "start_time": "2022-04-25T18:10:34.996Z"
   },
   {
    "duration": 11,
    "start_time": "2022-04-25T18:15:16.252Z"
   },
   {
    "duration": 9,
    "start_time": "2022-04-25T18:16:46.929Z"
   },
   {
    "duration": 8,
    "start_time": "2022-04-25T18:18:02.779Z"
   },
   {
    "duration": 7,
    "start_time": "2022-04-25T18:18:14.303Z"
   },
   {
    "duration": 8,
    "start_time": "2022-04-25T18:19:00.044Z"
   },
   {
    "duration": 9,
    "start_time": "2022-04-25T18:19:18.185Z"
   },
   {
    "duration": 10,
    "start_time": "2022-04-25T18:20:46.569Z"
   },
   {
    "duration": 46,
    "start_time": "2022-04-25T18:27:43.066Z"
   },
   {
    "duration": 1536,
    "start_time": "2022-04-25T18:31:04.448Z"
   },
   {
    "duration": 1489,
    "start_time": "2022-04-25T18:31:21.385Z"
   },
   {
    "duration": 735,
    "start_time": "2022-04-25T18:31:22.877Z"
   },
   {
    "duration": 33,
    "start_time": "2022-04-25T18:31:23.615Z"
   },
   {
    "duration": 37,
    "start_time": "2022-04-25T18:31:23.651Z"
   },
   {
    "duration": 7,
    "start_time": "2022-04-25T18:31:23.690Z"
   },
   {
    "duration": 77,
    "start_time": "2022-04-25T18:31:23.700Z"
   },
   {
    "duration": 7,
    "start_time": "2022-04-25T18:31:23.779Z"
   },
   {
    "duration": 14,
    "start_time": "2022-04-25T18:31:23.789Z"
   },
   {
    "duration": 51,
    "start_time": "2022-04-25T18:31:23.806Z"
   },
   {
    "duration": 47,
    "start_time": "2022-04-25T18:31:23.863Z"
   },
   {
    "duration": 8,
    "start_time": "2022-04-25T18:31:23.912Z"
   },
   {
    "duration": 43,
    "start_time": "2022-04-25T18:31:23.952Z"
   },
   {
    "duration": 11,
    "start_time": "2022-04-25T18:31:23.998Z"
   },
   {
    "duration": 59,
    "start_time": "2022-04-25T18:31:24.012Z"
   },
   {
    "duration": 7,
    "start_time": "2022-04-25T18:31:24.073Z"
   },
   {
    "duration": 49,
    "start_time": "2022-04-25T18:31:24.083Z"
   },
   {
    "duration": 26,
    "start_time": "2022-04-25T18:31:24.134Z"
   },
   {
    "duration": 17,
    "start_time": "2022-04-25T18:31:24.163Z"
   },
   {
    "duration": 22,
    "start_time": "2022-04-25T18:31:24.183Z"
   },
   {
    "duration": 20,
    "start_time": "2022-04-25T18:31:24.207Z"
   },
   {
    "duration": 8,
    "start_time": "2022-04-25T18:31:24.253Z"
   },
   {
    "duration": 10,
    "start_time": "2022-04-25T18:31:24.264Z"
   },
   {
    "duration": 28,
    "start_time": "2022-04-25T18:31:24.276Z"
   },
   {
    "duration": 48,
    "start_time": "2022-04-25T18:31:24.306Z"
   },
   {
    "duration": 6,
    "start_time": "2022-04-25T18:31:24.357Z"
   },
   {
    "duration": 88,
    "start_time": "2022-04-25T18:31:24.365Z"
   },
   {
    "duration": 39,
    "start_time": "2022-04-25T18:31:24.457Z"
   },
   {
    "duration": 1179,
    "start_time": "2022-04-25T18:31:24.507Z"
   },
   {
    "duration": 16,
    "start_time": "2022-04-25T18:31:25.688Z"
   },
   {
    "duration": 823,
    "start_time": "2022-04-25T18:31:25.707Z"
   },
   {
    "duration": 29,
    "start_time": "2022-04-25T18:31:26.533Z"
   },
   {
    "duration": 49,
    "start_time": "2022-04-25T18:31:26.565Z"
   },
   {
    "duration": 26,
    "start_time": "2022-04-25T18:31:26.617Z"
   },
   {
    "duration": 17,
    "start_time": "2022-04-25T18:31:26.645Z"
   },
   {
    "duration": 45,
    "start_time": "2022-04-25T18:31:26.664Z"
   },
   {
    "duration": 25,
    "start_time": "2022-04-25T18:31:26.712Z"
   },
   {
    "duration": 354,
    "start_time": "2022-04-25T18:31:26.739Z"
   },
   {
    "duration": 13,
    "start_time": "2022-04-25T18:31:27.095Z"
   },
   {
    "duration": 40,
    "start_time": "2022-04-25T18:31:27.111Z"
   },
   {
    "duration": 53,
    "start_time": "2022-04-25T18:31:27.154Z"
   },
   {
    "duration": 12,
    "start_time": "2022-04-25T18:31:27.210Z"
   },
   {
    "duration": 62,
    "start_time": "2022-04-25T18:31:27.224Z"
   },
   {
    "duration": 98,
    "start_time": "2022-04-25T18:31:27.289Z"
   },
   {
    "duration": 12,
    "start_time": "2022-04-25T18:31:27.390Z"
   },
   {
    "duration": 59,
    "start_time": "2022-04-25T18:31:27.404Z"
   },
   {
    "duration": 45,
    "start_time": "2022-04-25T18:31:27.465Z"
   },
   {
    "duration": 14,
    "start_time": "2022-04-25T18:31:27.512Z"
   },
   {
    "duration": 11,
    "start_time": "2022-04-25T18:31:27.551Z"
   },
   {
    "duration": 34,
    "start_time": "2022-04-25T18:31:27.564Z"
   },
   {
    "duration": 43,
    "start_time": "2022-04-25T18:31:27.600Z"
   },
   {
    "duration": 44,
    "start_time": "2022-04-25T18:31:27.651Z"
   },
   {
    "duration": 10,
    "start_time": "2022-04-25T18:31:27.697Z"
   },
   {
    "duration": 42,
    "start_time": "2022-04-25T18:31:27.709Z"
   },
   {
    "duration": 35,
    "start_time": "2022-04-25T18:31:27.753Z"
   },
   {
    "duration": 70,
    "start_time": "2022-04-25T18:31:27.790Z"
   },
   {
    "duration": 7,
    "start_time": "2022-04-25T18:31:27.862Z"
   },
   {
    "duration": 179,
    "start_time": "2022-04-25T18:31:27.870Z"
   },
   {
    "duration": 25,
    "start_time": "2022-04-25T18:31:28.051Z"
   },
   {
    "duration": 20,
    "start_time": "2022-04-25T18:31:28.078Z"
   },
   {
    "duration": 33,
    "start_time": "2022-04-25T18:31:28.100Z"
   },
   {
    "duration": 12,
    "start_time": "2022-04-25T18:31:28.135Z"
   },
   {
    "duration": 50,
    "start_time": "2022-04-25T18:31:28.149Z"
   },
   {
    "duration": 37,
    "start_time": "2022-04-25T18:31:28.201Z"
   },
   {
    "duration": 8,
    "start_time": "2022-04-25T18:31:28.241Z"
   },
   {
    "duration": 38,
    "start_time": "2022-04-25T18:31:28.251Z"
   },
   {
    "duration": 36,
    "start_time": "2022-04-25T18:31:28.292Z"
   },
   {
    "duration": 603,
    "start_time": "2022-04-25T18:31:28.330Z"
   },
   {
    "duration": 523,
    "start_time": "2022-04-25T18:31:28.936Z"
   },
   {
    "duration": 323,
    "start_time": "2022-04-25T18:31:29.461Z"
   },
   {
    "duration": 318,
    "start_time": "2022-04-25T18:31:29.787Z"
   },
   {
    "duration": 44,
    "start_time": "2022-04-25T18:31:30.108Z"
   },
   {
    "duration": 32,
    "start_time": "2022-04-25T18:31:30.154Z"
   },
   {
    "duration": 14,
    "start_time": "2022-04-25T18:31:30.189Z"
   },
   {
    "duration": 31,
    "start_time": "2022-04-25T18:31:30.206Z"
   },
   {
    "duration": 36,
    "start_time": "2022-04-25T18:31:30.240Z"
   },
   {
    "duration": 1124,
    "start_time": "2022-04-25T18:31:30.278Z"
   },
   {
    "duration": 403,
    "start_time": "2022-04-25T18:31:31.404Z"
   },
   {
    "duration": 315,
    "start_time": "2022-04-25T18:31:31.809Z"
   },
   {
    "duration": 9,
    "start_time": "2022-04-25T18:31:32.128Z"
   },
   {
    "duration": 21,
    "start_time": "2022-04-25T18:31:32.152Z"
   },
   {
    "duration": 31,
    "start_time": "2022-04-25T18:31:32.176Z"
   },
   {
    "duration": 36,
    "start_time": "2022-04-25T18:31:32.215Z"
   },
   {
    "duration": 41,
    "start_time": "2022-04-25T18:31:32.254Z"
   },
   {
    "duration": 33,
    "start_time": "2022-04-25T18:31:32.298Z"
   },
   {
    "duration": 40,
    "start_time": "2022-04-25T18:31:32.334Z"
   },
   {
    "duration": 36,
    "start_time": "2022-04-25T18:31:32.376Z"
   },
   {
    "duration": 35,
    "start_time": "2022-04-25T18:31:32.414Z"
   },
   {
    "duration": 30,
    "start_time": "2022-04-25T18:31:32.452Z"
   },
   {
    "duration": 727,
    "start_time": "2022-04-25T18:31:42.555Z"
   },
   {
    "duration": 949,
    "start_time": "2022-04-25T18:32:47.779Z"
   },
   {
    "duration": 11,
    "start_time": "2022-04-25T18:33:30.761Z"
   },
   {
    "duration": 10,
    "start_time": "2022-04-25T18:34:55.780Z"
   },
   {
    "duration": 10,
    "start_time": "2022-04-25T18:35:58.842Z"
   },
   {
    "duration": 16,
    "start_time": "2022-04-25T18:37:27.584Z"
   },
   {
    "duration": 10,
    "start_time": "2022-04-25T18:37:33.615Z"
   },
   {
    "duration": 10,
    "start_time": "2022-04-25T18:37:41.694Z"
   },
   {
    "duration": 10,
    "start_time": "2022-04-25T18:38:12.855Z"
   },
   {
    "duration": 11,
    "start_time": "2022-04-25T18:39:05.916Z"
   },
   {
    "duration": 8,
    "start_time": "2022-04-25T18:41:45.530Z"
   },
   {
    "duration": 8,
    "start_time": "2022-04-25T18:45:21.764Z"
   },
   {
    "duration": 32,
    "start_time": "2022-04-25T18:45:30.020Z"
   },
   {
    "duration": 332,
    "start_time": "2022-04-25T18:47:08.766Z"
   },
   {
    "duration": 1422,
    "start_time": "2022-04-25T18:53:23.359Z"
   },
   {
    "duration": 695,
    "start_time": "2022-04-25T18:53:24.785Z"
   },
   {
    "duration": 22,
    "start_time": "2022-04-25T18:53:25.483Z"
   },
   {
    "duration": 38,
    "start_time": "2022-04-25T18:53:25.508Z"
   },
   {
    "duration": 6,
    "start_time": "2022-04-25T18:53:25.549Z"
   },
   {
    "duration": 81,
    "start_time": "2022-04-25T18:53:25.557Z"
   },
   {
    "duration": 7,
    "start_time": "2022-04-25T18:53:25.640Z"
   },
   {
    "duration": 29,
    "start_time": "2022-04-25T18:53:25.652Z"
   },
   {
    "duration": 55,
    "start_time": "2022-04-25T18:53:25.683Z"
   },
   {
    "duration": 44,
    "start_time": "2022-04-25T18:53:25.742Z"
   },
   {
    "duration": 23,
    "start_time": "2022-04-25T18:53:25.788Z"
   },
   {
    "duration": 55,
    "start_time": "2022-04-25T18:53:25.813Z"
   },
   {
    "duration": 10,
    "start_time": "2022-04-25T18:53:25.871Z"
   },
   {
    "duration": 28,
    "start_time": "2022-04-25T18:53:25.883Z"
   },
   {
    "duration": 7,
    "start_time": "2022-04-25T18:53:25.913Z"
   },
   {
    "duration": 64,
    "start_time": "2022-04-25T18:53:25.922Z"
   },
   {
    "duration": 12,
    "start_time": "2022-04-25T18:53:25.988Z"
   },
   {
    "duration": 55,
    "start_time": "2022-04-25T18:53:26.002Z"
   },
   {
    "duration": 15,
    "start_time": "2022-04-25T18:53:26.059Z"
   },
   {
    "duration": 17,
    "start_time": "2022-04-25T18:53:26.076Z"
   },
   {
    "duration": 7,
    "start_time": "2022-04-25T18:53:26.096Z"
   },
   {
    "duration": 47,
    "start_time": "2022-04-25T18:53:26.105Z"
   },
   {
    "duration": 16,
    "start_time": "2022-04-25T18:53:26.155Z"
   },
   {
    "duration": 26,
    "start_time": "2022-04-25T18:53:26.173Z"
   },
   {
    "duration": 3,
    "start_time": "2022-04-25T18:53:26.202Z"
   },
   {
    "duration": 71,
    "start_time": "2022-04-25T18:53:26.207Z"
   },
   {
    "duration": 22,
    "start_time": "2022-04-25T18:53:26.281Z"
   },
   {
    "duration": 989,
    "start_time": "2022-04-25T18:53:26.310Z"
   },
   {
    "duration": 14,
    "start_time": "2022-04-25T18:53:27.301Z"
   },
   {
    "duration": 629,
    "start_time": "2022-04-25T18:53:27.318Z"
   },
   {
    "duration": 14,
    "start_time": "2022-04-25T18:53:27.951Z"
   },
   {
    "duration": 25,
    "start_time": "2022-04-25T18:53:27.967Z"
   },
   {
    "duration": 28,
    "start_time": "2022-04-25T18:53:27.995Z"
   },
   {
    "duration": 40,
    "start_time": "2022-04-25T18:53:28.025Z"
   },
   {
    "duration": 41,
    "start_time": "2022-04-25T18:53:28.068Z"
   },
   {
    "duration": 48,
    "start_time": "2022-04-25T18:53:28.111Z"
   },
   {
    "duration": 331,
    "start_time": "2022-04-25T18:53:28.162Z"
   },
   {
    "duration": 12,
    "start_time": "2022-04-25T18:53:28.495Z"
   },
   {
    "duration": 18,
    "start_time": "2022-04-25T18:53:28.509Z"
   },
   {
    "duration": 45,
    "start_time": "2022-04-25T18:53:28.552Z"
   },
   {
    "duration": 11,
    "start_time": "2022-04-25T18:53:28.599Z"
   },
   {
    "duration": 67,
    "start_time": "2022-04-25T18:53:28.612Z"
   },
   {
    "duration": 100,
    "start_time": "2022-04-25T18:53:28.681Z"
   },
   {
    "duration": 12,
    "start_time": "2022-04-25T18:53:28.783Z"
   },
   {
    "duration": 56,
    "start_time": "2022-04-25T18:53:28.797Z"
   },
   {
    "duration": 45,
    "start_time": "2022-04-25T18:53:28.855Z"
   },
   {
    "duration": 14,
    "start_time": "2022-04-25T18:53:28.903Z"
   },
   {
    "duration": 42,
    "start_time": "2022-04-25T18:53:28.920Z"
   },
   {
    "duration": 13,
    "start_time": "2022-04-25T18:53:28.964Z"
   },
   {
    "duration": 31,
    "start_time": "2022-04-25T18:53:28.979Z"
   },
   {
    "duration": 83,
    "start_time": "2022-04-25T18:53:29.012Z"
   },
   {
    "duration": 10,
    "start_time": "2022-04-25T18:53:29.097Z"
   },
   {
    "duration": 42,
    "start_time": "2022-04-25T18:53:29.110Z"
   },
   {
    "duration": 11,
    "start_time": "2022-04-25T18:53:29.154Z"
   },
   {
    "duration": 50,
    "start_time": "2022-04-25T18:53:29.167Z"
   },
   {
    "duration": 6,
    "start_time": "2022-04-25T18:53:29.220Z"
   },
   {
    "duration": 156,
    "start_time": "2022-04-25T18:53:29.253Z"
   },
   {
    "duration": 7,
    "start_time": "2022-04-25T18:53:29.412Z"
   },
   {
    "duration": 39,
    "start_time": "2022-04-25T18:53:29.421Z"
   },
   {
    "duration": 14,
    "start_time": "2022-04-25T18:53:29.462Z"
   },
   {
    "duration": 7,
    "start_time": "2022-04-25T18:53:29.478Z"
   },
   {
    "duration": 26,
    "start_time": "2022-04-25T18:53:29.487Z"
   },
   {
    "duration": 57,
    "start_time": "2022-04-25T18:53:29.515Z"
   },
   {
    "duration": 8,
    "start_time": "2022-04-25T18:53:29.574Z"
   },
   {
    "duration": 9,
    "start_time": "2022-04-25T18:53:29.584Z"
   },
   {
    "duration": 14,
    "start_time": "2022-04-25T18:53:29.596Z"
   },
   {
    "duration": 633,
    "start_time": "2022-04-25T18:53:29.612Z"
   },
   {
    "duration": 533,
    "start_time": "2022-04-25T18:53:30.252Z"
   },
   {
    "duration": 327,
    "start_time": "2022-04-25T18:53:30.787Z"
   },
   {
    "duration": 35,
    "start_time": "2022-04-25T18:53:31.117Z"
   },
   {
    "duration": 58,
    "start_time": "2022-04-25T18:53:31.154Z"
   },
   {
    "duration": 9,
    "start_time": "2022-04-25T18:53:31.214Z"
   },
   {
    "duration": 13,
    "start_time": "2022-04-25T18:53:31.226Z"
   },
   {
    "duration": 42,
    "start_time": "2022-04-25T18:53:31.241Z"
   },
   {
    "duration": 811,
    "start_time": "2022-04-25T18:53:31.285Z"
   },
   {
    "duration": 401,
    "start_time": "2022-04-25T18:53:32.098Z"
   },
   {
    "duration": 311,
    "start_time": "2022-04-25T18:53:32.501Z"
   },
   {
    "duration": 8,
    "start_time": "2022-04-25T18:53:32.814Z"
   },
   {
    "duration": 29,
    "start_time": "2022-04-25T18:53:32.824Z"
   },
   {
    "duration": 11,
    "start_time": "2022-04-25T18:53:32.855Z"
   },
   {
    "duration": 11,
    "start_time": "2022-04-25T18:53:32.869Z"
   },
   {
    "duration": 10,
    "start_time": "2022-04-25T18:53:32.888Z"
   },
   {
    "duration": 9,
    "start_time": "2022-04-25T18:53:32.901Z"
   },
   {
    "duration": 12,
    "start_time": "2022-04-25T18:53:32.951Z"
   },
   {
    "duration": 10,
    "start_time": "2022-04-25T18:53:32.965Z"
   },
   {
    "duration": 12,
    "start_time": "2022-04-25T18:53:32.977Z"
   },
   {
    "duration": 10,
    "start_time": "2022-04-25T18:53:32.992Z"
   },
   {
    "duration": 49,
    "start_time": "2022-04-25T18:53:33.004Z"
   },
   {
    "duration": 15,
    "start_time": "2022-04-25T18:53:33.056Z"
   },
   {
    "duration": 1138,
    "start_time": "2022-04-25T19:06:56.629Z"
   },
   {
    "duration": 611,
    "start_time": "2022-04-25T19:06:57.771Z"
   },
   {
    "duration": 26,
    "start_time": "2022-04-25T19:06:58.384Z"
   },
   {
    "duration": 55,
    "start_time": "2022-04-25T19:06:58.415Z"
   },
   {
    "duration": 9,
    "start_time": "2022-04-25T19:06:58.473Z"
   },
   {
    "duration": 103,
    "start_time": "2022-04-25T19:06:58.485Z"
   },
   {
    "duration": 9,
    "start_time": "2022-04-25T19:06:58.591Z"
   },
   {
    "duration": 11,
    "start_time": "2022-04-25T19:06:58.603Z"
   },
   {
    "duration": 42,
    "start_time": "2022-04-25T19:06:58.616Z"
   },
   {
    "duration": 29,
    "start_time": "2022-04-25T19:06:58.662Z"
   },
   {
    "duration": 7,
    "start_time": "2022-04-25T19:06:58.693Z"
   },
   {
    "duration": 72,
    "start_time": "2022-04-25T19:06:58.703Z"
   },
   {
    "duration": 14,
    "start_time": "2022-04-25T19:06:58.778Z"
   },
   {
    "duration": 64,
    "start_time": "2022-04-25T19:06:58.794Z"
   },
   {
    "duration": 8,
    "start_time": "2022-04-25T19:06:58.861Z"
   },
   {
    "duration": 53,
    "start_time": "2022-04-25T19:06:58.872Z"
   },
   {
    "duration": 17,
    "start_time": "2022-04-25T19:06:58.951Z"
   },
   {
    "duration": 16,
    "start_time": "2022-04-25T19:06:58.970Z"
   },
   {
    "duration": 19,
    "start_time": "2022-04-25T19:06:58.988Z"
   },
   {
    "duration": 48,
    "start_time": "2022-04-25T19:06:59.009Z"
   },
   {
    "duration": 9,
    "start_time": "2022-04-25T19:06:59.060Z"
   },
   {
    "duration": 10,
    "start_time": "2022-04-25T19:06:59.072Z"
   },
   {
    "duration": 14,
    "start_time": "2022-04-25T19:06:59.084Z"
   },
   {
    "duration": 58,
    "start_time": "2022-04-25T19:06:59.100Z"
   },
   {
    "duration": 5,
    "start_time": "2022-04-25T19:06:59.160Z"
   },
   {
    "duration": 45,
    "start_time": "2022-04-25T19:06:59.168Z"
   },
   {
    "duration": 49,
    "start_time": "2022-04-25T19:06:59.216Z"
   },
   {
    "duration": 1048,
    "start_time": "2022-04-25T19:06:59.275Z"
   },
   {
    "duration": 27,
    "start_time": "2022-04-25T19:07:00.326Z"
   },
   {
    "duration": 626,
    "start_time": "2022-04-25T19:07:00.355Z"
   },
   {
    "duration": 14,
    "start_time": "2022-04-25T19:07:00.984Z"
   },
   {
    "duration": 42,
    "start_time": "2022-04-25T19:07:01.000Z"
   },
   {
    "duration": 31,
    "start_time": "2022-04-25T19:07:01.044Z"
   },
   {
    "duration": 23,
    "start_time": "2022-04-25T19:07:01.077Z"
   },
   {
    "duration": 70,
    "start_time": "2022-04-25T19:07:01.103Z"
   },
   {
    "duration": 25,
    "start_time": "2022-04-25T19:07:01.175Z"
   },
   {
    "duration": 337,
    "start_time": "2022-04-25T19:07:01.203Z"
   },
   {
    "duration": 20,
    "start_time": "2022-04-25T19:07:01.543Z"
   },
   {
    "duration": 42,
    "start_time": "2022-04-25T19:07:01.565Z"
   },
   {
    "duration": 84,
    "start_time": "2022-04-25T19:07:01.610Z"
   },
   {
    "duration": 16,
    "start_time": "2022-04-25T19:07:01.696Z"
   },
   {
    "duration": 74,
    "start_time": "2022-04-25T19:07:01.714Z"
   },
   {
    "duration": 137,
    "start_time": "2022-04-25T19:07:01.790Z"
   },
   {
    "duration": 23,
    "start_time": "2022-04-25T19:07:01.929Z"
   },
   {
    "duration": 53,
    "start_time": "2022-04-25T19:07:01.954Z"
   },
   {
    "duration": 58,
    "start_time": "2022-04-25T19:07:02.010Z"
   },
   {
    "duration": 13,
    "start_time": "2022-04-25T19:07:02.070Z"
   },
   {
    "duration": 32,
    "start_time": "2022-04-25T19:07:02.086Z"
   },
   {
    "duration": 36,
    "start_time": "2022-04-25T19:07:02.120Z"
   },
   {
    "duration": 40,
    "start_time": "2022-04-25T19:07:02.159Z"
   },
   {
    "duration": 52,
    "start_time": "2022-04-25T19:07:02.201Z"
   },
   {
    "duration": 71,
    "start_time": "2022-04-25T19:07:02.256Z"
   },
   {
    "duration": 24,
    "start_time": "2022-04-25T19:07:02.331Z"
   },
   {
    "duration": 263,
    "start_time": "2022-04-25T19:07:02.358Z"
   },
   {
    "duration": 9,
    "start_time": "2022-04-25T19:07:02.624Z"
   },
   {
    "duration": 44,
    "start_time": "2022-04-25T19:07:02.635Z"
   },
   {
    "duration": 42,
    "start_time": "2022-04-25T19:07:02.682Z"
   },
   {
    "duration": 42,
    "start_time": "2022-04-25T19:07:02.726Z"
   },
   {
    "duration": 37,
    "start_time": "2022-04-25T19:07:02.770Z"
   },
   {
    "duration": 57,
    "start_time": "2022-04-25T19:07:02.810Z"
   },
   {
    "duration": 21,
    "start_time": "2022-04-25T19:07:02.870Z"
   },
   {
    "duration": 17,
    "start_time": "2022-04-25T19:07:02.893Z"
   },
   {
    "duration": 13,
    "start_time": "2022-04-25T19:07:02.912Z"
   },
   {
    "duration": 801,
    "start_time": "2022-04-25T19:07:02.927Z"
   },
   {
    "duration": 738,
    "start_time": "2022-04-25T19:07:03.731Z"
   },
   {
    "duration": 330,
    "start_time": "2022-04-25T19:07:04.472Z"
   },
   {
    "duration": 24,
    "start_time": "2022-04-25T19:07:04.805Z"
   },
   {
    "duration": 45,
    "start_time": "2022-04-25T19:07:04.832Z"
   },
   {
    "duration": 11,
    "start_time": "2022-04-25T19:07:04.880Z"
   },
   {
    "duration": 9,
    "start_time": "2022-04-25T19:07:04.893Z"
   },
   {
    "duration": 50,
    "start_time": "2022-04-25T19:07:04.904Z"
   },
   {
    "duration": 1200,
    "start_time": "2022-04-25T19:07:04.956Z"
   },
   {
    "duration": 730,
    "start_time": "2022-04-25T19:07:06.158Z"
   },
   {
    "duration": 585,
    "start_time": "2022-04-25T19:07:06.890Z"
   },
   {
    "duration": 10,
    "start_time": "2022-04-25T19:07:07.478Z"
   },
   {
    "duration": 66,
    "start_time": "2022-04-25T19:07:07.491Z"
   },
   {
    "duration": 11,
    "start_time": "2022-04-25T19:07:07.560Z"
   },
   {
    "duration": 23,
    "start_time": "2022-04-25T19:07:07.573Z"
   },
   {
    "duration": 61,
    "start_time": "2022-04-25T19:07:07.599Z"
   },
   {
    "duration": 19,
    "start_time": "2022-04-25T19:07:07.663Z"
   },
   {
    "duration": 70,
    "start_time": "2022-04-25T19:07:07.684Z"
   },
   {
    "duration": 10,
    "start_time": "2022-04-25T19:07:07.765Z"
   },
   {
    "duration": 28,
    "start_time": "2022-04-25T19:07:07.777Z"
   },
   {
    "duration": 51,
    "start_time": "2022-04-25T19:07:07.807Z"
   },
   {
    "duration": 16,
    "start_time": "2022-04-25T19:07:07.861Z"
   },
   {
    "duration": 76,
    "start_time": "2022-04-25T19:07:07.880Z"
   },
   {
    "duration": 1120,
    "start_time": "2022-04-25T19:10:11.568Z"
   },
   {
    "duration": 498,
    "start_time": "2022-04-25T19:10:12.691Z"
   },
   {
    "duration": 23,
    "start_time": "2022-04-25T19:10:13.191Z"
   },
   {
    "duration": 36,
    "start_time": "2022-04-25T19:10:13.219Z"
   },
   {
    "duration": 7,
    "start_time": "2022-04-25T19:10:13.258Z"
   },
   {
    "duration": 84,
    "start_time": "2022-04-25T19:10:13.268Z"
   },
   {
    "duration": 9,
    "start_time": "2022-04-25T19:10:13.354Z"
   },
   {
    "duration": 15,
    "start_time": "2022-04-25T19:10:13.365Z"
   },
   {
    "duration": 23,
    "start_time": "2022-04-25T19:10:13.383Z"
   },
   {
    "duration": 68,
    "start_time": "2022-04-25T19:10:13.412Z"
   },
   {
    "duration": 7,
    "start_time": "2022-04-25T19:10:13.482Z"
   },
   {
    "duration": 83,
    "start_time": "2022-04-25T19:10:13.492Z"
   },
   {
    "duration": 13,
    "start_time": "2022-04-25T19:10:13.577Z"
   },
   {
    "duration": 39,
    "start_time": "2022-04-25T19:10:13.593Z"
   },
   {
    "duration": 8,
    "start_time": "2022-04-25T19:10:13.653Z"
   },
   {
    "duration": 37,
    "start_time": "2022-04-25T19:10:13.663Z"
   },
   {
    "duration": 12,
    "start_time": "2022-04-25T19:10:13.702Z"
   },
   {
    "duration": 17,
    "start_time": "2022-04-25T19:10:13.751Z"
   },
   {
    "duration": 16,
    "start_time": "2022-04-25T19:10:13.770Z"
   },
   {
    "duration": 14,
    "start_time": "2022-04-25T19:10:13.789Z"
   },
   {
    "duration": 7,
    "start_time": "2022-04-25T19:10:13.806Z"
   },
   {
    "duration": 43,
    "start_time": "2022-04-25T19:10:13.815Z"
   },
   {
    "duration": 15,
    "start_time": "2022-04-25T19:10:13.861Z"
   },
   {
    "duration": 20,
    "start_time": "2022-04-25T19:10:13.878Z"
   },
   {
    "duration": 4,
    "start_time": "2022-04-25T19:10:13.900Z"
   },
   {
    "duration": 81,
    "start_time": "2022-04-25T19:10:13.906Z"
   },
   {
    "duration": 23,
    "start_time": "2022-04-25T19:10:13.989Z"
   },
   {
    "duration": 1086,
    "start_time": "2022-04-25T19:10:14.019Z"
   },
   {
    "duration": 15,
    "start_time": "2022-04-25T19:10:15.108Z"
   },
   {
    "duration": 617,
    "start_time": "2022-04-25T19:10:15.125Z"
   },
   {
    "duration": 18,
    "start_time": "2022-04-25T19:10:15.745Z"
   },
   {
    "duration": 24,
    "start_time": "2022-04-25T19:10:15.766Z"
   },
   {
    "duration": 19,
    "start_time": "2022-04-25T19:10:15.793Z"
   },
   {
    "duration": 40,
    "start_time": "2022-04-25T19:10:15.815Z"
   },
   {
    "duration": 39,
    "start_time": "2022-04-25T19:10:15.857Z"
   },
   {
    "duration": 19,
    "start_time": "2022-04-25T19:10:15.898Z"
   },
   {
    "duration": 361,
    "start_time": "2022-04-25T19:10:15.920Z"
   },
   {
    "duration": 12,
    "start_time": "2022-04-25T19:10:16.284Z"
   },
   {
    "duration": 21,
    "start_time": "2022-04-25T19:10:16.298Z"
   },
   {
    "duration": 67,
    "start_time": "2022-04-25T19:10:16.321Z"
   },
   {
    "duration": 13,
    "start_time": "2022-04-25T19:10:16.390Z"
   },
   {
    "duration": 66,
    "start_time": "2022-04-25T19:10:16.405Z"
   },
   {
    "duration": 97,
    "start_time": "2022-04-25T19:10:16.473Z"
   },
   {
    "duration": 12,
    "start_time": "2022-04-25T19:10:16.572Z"
   },
   {
    "duration": 41,
    "start_time": "2022-04-25T19:10:16.587Z"
   },
   {
    "duration": 61,
    "start_time": "2022-04-25T19:10:16.631Z"
   },
   {
    "duration": 14,
    "start_time": "2022-04-25T19:10:16.694Z"
   },
   {
    "duration": 19,
    "start_time": "2022-04-25T19:10:16.710Z"
   },
   {
    "duration": 11,
    "start_time": "2022-04-25T19:10:16.753Z"
   },
   {
    "duration": 37,
    "start_time": "2022-04-25T19:10:16.766Z"
   },
   {
    "duration": 70,
    "start_time": "2022-04-25T19:10:16.806Z"
   },
   {
    "duration": 48,
    "start_time": "2022-04-25T19:10:16.878Z"
   },
   {
    "duration": 6,
    "start_time": "2022-04-25T19:10:16.928Z"
   },
   {
    "duration": 156,
    "start_time": "2022-04-25T19:10:16.953Z"
   },
   {
    "duration": 7,
    "start_time": "2022-04-25T19:10:17.112Z"
   },
   {
    "duration": 46,
    "start_time": "2022-04-25T19:10:17.121Z"
   },
   {
    "duration": 18,
    "start_time": "2022-04-25T19:10:17.170Z"
   },
   {
    "duration": 18,
    "start_time": "2022-04-25T19:10:17.190Z"
   },
   {
    "duration": 33,
    "start_time": "2022-04-25T19:10:17.210Z"
   },
   {
    "duration": 33,
    "start_time": "2022-04-25T19:10:17.246Z"
   },
   {
    "duration": 8,
    "start_time": "2022-04-25T19:10:17.281Z"
   },
   {
    "duration": 12,
    "start_time": "2022-04-25T19:10:17.291Z"
   },
   {
    "duration": 16,
    "start_time": "2022-04-25T19:10:17.305Z"
   },
   {
    "duration": 607,
    "start_time": "2022-04-25T19:10:17.324Z"
   },
   {
    "duration": 527,
    "start_time": "2022-04-25T19:10:17.934Z"
   },
   {
    "duration": 459,
    "start_time": "2022-04-25T19:10:18.464Z"
   },
   {
    "duration": 29,
    "start_time": "2022-04-25T19:10:18.926Z"
   },
   {
    "duration": 39,
    "start_time": "2022-04-25T19:10:18.958Z"
   },
   {
    "duration": 10,
    "start_time": "2022-04-25T19:10:19.000Z"
   },
   {
    "duration": 21,
    "start_time": "2022-04-25T19:10:19.012Z"
   },
   {
    "duration": 13,
    "start_time": "2022-04-25T19:10:19.036Z"
   },
   {
    "duration": 1312,
    "start_time": "2022-04-25T19:10:19.051Z"
   },
   {
    "duration": 581,
    "start_time": "2022-04-25T19:10:20.365Z"
   },
   {
    "duration": 308,
    "start_time": "2022-04-25T19:10:20.953Z"
   },
   {
    "duration": 8,
    "start_time": "2022-04-25T19:10:21.263Z"
   },
   {
    "duration": 16,
    "start_time": "2022-04-25T19:10:21.273Z"
   },
   {
    "duration": 11,
    "start_time": "2022-04-25T19:10:21.291Z"
   },
   {
    "duration": 17,
    "start_time": "2022-04-25T19:10:21.304Z"
   },
   {
    "duration": 9,
    "start_time": "2022-04-25T19:10:21.353Z"
   },
   {
    "duration": 17,
    "start_time": "2022-04-25T19:10:21.364Z"
   },
   {
    "duration": 11,
    "start_time": "2022-04-25T19:10:21.383Z"
   },
   {
    "duration": 9,
    "start_time": "2022-04-25T19:10:21.404Z"
   },
   {
    "duration": 42,
    "start_time": "2022-04-25T19:10:21.415Z"
   },
   {
    "duration": 11,
    "start_time": "2022-04-25T19:10:21.460Z"
   },
   {
    "duration": 207,
    "start_time": "2022-04-25T19:33:25.259Z"
   },
   {
    "duration": 1045,
    "start_time": "2022-04-25T19:45:23.281Z"
   },
   {
    "duration": 501,
    "start_time": "2022-04-25T19:45:25.260Z"
   },
   {
    "duration": 23,
    "start_time": "2022-04-25T19:45:28.446Z"
   },
   {
    "duration": 34,
    "start_time": "2022-04-25T19:45:29.050Z"
   },
   {
    "duration": 7,
    "start_time": "2022-04-25T19:45:30.435Z"
   },
   {
    "duration": 53,
    "start_time": "2022-04-25T19:45:30.920Z"
   },
   {
    "duration": 7,
    "start_time": "2022-04-25T19:45:32.000Z"
   },
   {
    "duration": 10,
    "start_time": "2022-04-25T19:45:32.513Z"
   },
   {
    "duration": 14,
    "start_time": "2022-04-25T19:45:34.470Z"
   },
   {
    "duration": 29,
    "start_time": "2022-04-25T19:45:35.006Z"
   },
   {
    "duration": 6,
    "start_time": "2022-04-25T19:45:36.446Z"
   },
   {
    "duration": 38,
    "start_time": "2022-04-25T19:45:36.913Z"
   },
   {
    "duration": 10,
    "start_time": "2022-04-25T19:45:38.426Z"
   },
   {
    "duration": 24,
    "start_time": "2022-04-25T19:45:38.800Z"
   },
   {
    "duration": 7,
    "start_time": "2022-04-25T19:45:40.219Z"
   },
   {
    "duration": 32,
    "start_time": "2022-04-25T19:45:40.630Z"
   },
   {
    "duration": 11,
    "start_time": "2022-04-25T19:45:41.904Z"
   },
   {
    "duration": 15,
    "start_time": "2022-04-25T19:45:42.340Z"
   },
   {
    "duration": 14,
    "start_time": "2022-04-25T19:45:43.636Z"
   },
   {
    "duration": 15,
    "start_time": "2022-04-25T19:45:44.109Z"
   },
   {
    "duration": 7,
    "start_time": "2022-04-25T19:45:45.527Z"
   },
   {
    "duration": 8,
    "start_time": "2022-04-25T19:45:45.901Z"
   },
   {
    "duration": 11,
    "start_time": "2022-04-25T19:45:47.202Z"
   },
   {
    "duration": 17,
    "start_time": "2022-04-25T19:45:48.031Z"
   },
   {
    "duration": 3,
    "start_time": "2022-04-25T19:45:48.871Z"
   },
   {
    "duration": 41,
    "start_time": "2022-04-25T19:45:49.319Z"
   },
   {
    "duration": 22,
    "start_time": "2022-04-25T19:45:51.314Z"
   },
   {
    "duration": 1234,
    "start_time": "2022-04-25T19:45:51.338Z"
   },
   {
    "duration": 17,
    "start_time": "2022-04-25T19:45:52.662Z"
   },
   {
    "duration": 571,
    "start_time": "2022-04-25T19:45:53.760Z"
   },
   {
    "duration": 15,
    "start_time": "2022-04-25T19:45:55.320Z"
   },
   {
    "duration": 26,
    "start_time": "2022-04-25T19:45:56.258Z"
   },
   {
    "duration": 19,
    "start_time": "2022-04-25T19:45:56.669Z"
   },
   {
    "duration": 12,
    "start_time": "2022-04-25T19:45:58.315Z"
   },
   {
    "duration": 30,
    "start_time": "2022-04-25T19:45:58.676Z"
   },
   {
    "duration": 18,
    "start_time": "2022-04-25T19:45:59.318Z"
   },
   {
    "duration": 312,
    "start_time": "2022-04-25T19:45:59.962Z"
   },
   {
    "duration": 12,
    "start_time": "2022-04-25T19:46:01.398Z"
   },
   {
    "duration": 16,
    "start_time": "2022-04-25T19:46:02.177Z"
   },
   {
    "duration": 44,
    "start_time": "2022-04-25T19:46:02.623Z"
   },
   {
    "duration": 11,
    "start_time": "2022-04-25T19:46:04.218Z"
   },
   {
    "duration": 39,
    "start_time": "2022-04-25T19:46:05.078Z"
   },
   {
    "duration": 80,
    "start_time": "2022-04-25T19:46:05.404Z"
   },
   {
    "duration": 12,
    "start_time": "2022-04-25T19:46:06.330Z"
   },
   {
    "duration": 33,
    "start_time": "2022-04-25T19:46:06.761Z"
   },
   {
    "duration": 41,
    "start_time": "2022-04-25T19:46:07.087Z"
   },
   {
    "duration": 15,
    "start_time": "2022-04-25T19:46:07.811Z"
   },
   {
    "duration": 11,
    "start_time": "2022-04-25T19:46:08.119Z"
   },
   {
    "duration": 10,
    "start_time": "2022-04-25T19:46:08.953Z"
   },
   {
    "duration": 28,
    "start_time": "2022-04-25T19:46:09.507Z"
   },
   {
    "duration": 45,
    "start_time": "2022-04-25T19:46:10.000Z"
   },
   {
    "duration": 46,
    "start_time": "2022-04-25T19:46:11.171Z"
   },
   {
    "duration": 6,
    "start_time": "2022-04-25T19:46:12.723Z"
   },
   {
    "duration": 142,
    "start_time": "2022-04-25T19:46:13.190Z"
   },
   {
    "duration": 8,
    "start_time": "2022-04-25T19:46:13.669Z"
   },
   {
    "duration": 22,
    "start_time": "2022-04-25T19:46:14.658Z"
   },
   {
    "duration": 11,
    "start_time": "2022-04-25T19:46:15.021Z"
   },
   {
    "duration": 8,
    "start_time": "2022-04-25T19:46:16.994Z"
   },
   {
    "duration": 24,
    "start_time": "2022-04-25T19:46:18.211Z"
   },
   {
    "duration": 27,
    "start_time": "2022-04-25T19:46:19.095Z"
   },
   {
    "duration": 9,
    "start_time": "2022-04-25T19:46:19.982Z"
   },
   {
    "duration": 8,
    "start_time": "2022-04-25T19:46:20.838Z"
   },
   {
    "duration": 8,
    "start_time": "2022-04-25T19:46:21.751Z"
   },
   {
    "duration": 635,
    "start_time": "2022-04-25T19:46:23.734Z"
   },
   {
    "duration": 407,
    "start_time": "2022-04-25T19:46:25.751Z"
   },
   {
    "duration": 305,
    "start_time": "2022-04-25T19:46:27.169Z"
   },
   {
    "duration": 25,
    "start_time": "2022-04-25T19:46:28.496Z"
   },
   {
    "duration": 28,
    "start_time": "2022-04-25T19:46:29.475Z"
   },
   {
    "duration": 9,
    "start_time": "2022-04-25T19:46:30.433Z"
   },
   {
    "duration": 9,
    "start_time": "2022-04-25T19:46:30.937Z"
   },
   {
    "duration": 8,
    "start_time": "2022-04-25T19:46:31.654Z"
   },
   {
    "duration": 767,
    "start_time": "2022-04-25T19:46:32.845Z"
   },
   {
    "duration": 382,
    "start_time": "2022-04-25T19:46:34.175Z"
   },
   {
    "duration": 379,
    "start_time": "2022-04-25T19:46:35.516Z"
   },
   {
    "duration": 8,
    "start_time": "2022-04-25T19:46:38.037Z"
   },
   {
    "duration": 8,
    "start_time": "2022-04-25T19:46:38.466Z"
   },
   {
    "duration": 9,
    "start_time": "2022-04-25T19:46:39.202Z"
   },
   {
    "duration": 12,
    "start_time": "2022-04-25T19:46:39.960Z"
   },
   {
    "duration": 9,
    "start_time": "2022-04-25T19:46:42.485Z"
   },
   {
    "duration": 7,
    "start_time": "2022-04-25T19:46:42.911Z"
   },
   {
    "duration": 7,
    "start_time": "2022-04-25T19:46:43.357Z"
   },
   {
    "duration": 9,
    "start_time": "2022-04-25T19:46:43.741Z"
   },
   {
    "duration": 8,
    "start_time": "2022-04-25T19:46:44.190Z"
   },
   {
    "duration": 10,
    "start_time": "2022-04-25T19:46:44.734Z"
   },
   {
    "duration": 197,
    "start_time": "2022-04-25T19:58:08.349Z"
   },
   {
    "duration": 206,
    "start_time": "2022-04-25T19:59:47.246Z"
   },
   {
    "duration": 199,
    "start_time": "2022-04-25T20:03:05.430Z"
   },
   {
    "duration": 195,
    "start_time": "2022-04-25T20:10:39.648Z"
   },
   {
    "duration": 204,
    "start_time": "2022-04-25T20:15:50.564Z"
   },
   {
    "duration": 5,
    "start_time": "2022-04-25T20:20:31.400Z"
   },
   {
    "duration": 215,
    "start_time": "2022-04-25T20:23:17.930Z"
   },
   {
    "duration": 8,
    "start_time": "2022-04-25T20:24:01.662Z"
   },
   {
    "duration": 5,
    "start_time": "2022-04-25T20:39:03.664Z"
   },
   {
    "duration": 245,
    "start_time": "2022-04-25T20:52:46.396Z"
   },
   {
    "duration": 196,
    "start_time": "2022-04-25T21:06:40.358Z"
   },
   {
    "duration": 197,
    "start_time": "2022-04-25T21:14:18.592Z"
   },
   {
    "duration": 197,
    "start_time": "2022-04-25T21:15:33.402Z"
   },
   {
    "duration": 200,
    "start_time": "2022-04-25T21:17:14.304Z"
   },
   {
    "duration": 191,
    "start_time": "2022-04-25T21:27:42.670Z"
   },
   {
    "duration": 89,
    "start_time": "2022-04-26T07:53:37.638Z"
   },
   {
    "duration": 115,
    "start_time": "2022-04-26T07:55:42.512Z"
   },
   {
    "duration": 69,
    "start_time": "2022-05-02T06:39:26.986Z"
   },
   {
    "duration": 1003,
    "start_time": "2022-05-02T06:39:34.869Z"
   },
   {
    "duration": 517,
    "start_time": "2022-05-02T06:39:35.875Z"
   },
   {
    "duration": 20,
    "start_time": "2022-05-02T06:39:36.394Z"
   },
   {
    "duration": 44,
    "start_time": "2022-05-02T06:39:36.417Z"
   },
   {
    "duration": 17,
    "start_time": "2022-05-02T06:39:36.463Z"
   },
   {
    "duration": 82,
    "start_time": "2022-05-02T06:39:36.482Z"
   },
   {
    "duration": 6,
    "start_time": "2022-05-02T06:39:36.566Z"
   },
   {
    "duration": 39,
    "start_time": "2022-05-02T06:39:36.575Z"
   },
   {
    "duration": 23,
    "start_time": "2022-05-02T06:39:36.616Z"
   },
   {
    "duration": 49,
    "start_time": "2022-05-02T06:39:36.641Z"
   },
   {
    "duration": 22,
    "start_time": "2022-05-02T06:39:36.692Z"
   },
   {
    "duration": 56,
    "start_time": "2022-05-02T06:39:36.715Z"
   },
   {
    "duration": 21,
    "start_time": "2022-05-02T06:39:36.773Z"
   },
   {
    "duration": 43,
    "start_time": "2022-05-02T06:39:36.796Z"
   },
   {
    "duration": 30,
    "start_time": "2022-05-02T06:39:36.841Z"
   },
   {
    "duration": 48,
    "start_time": "2022-05-02T06:39:36.872Z"
   },
   {
    "duration": 42,
    "start_time": "2022-05-02T06:39:36.922Z"
   },
   {
    "duration": 33,
    "start_time": "2022-05-02T06:39:36.966Z"
   },
   {
    "duration": 36,
    "start_time": "2022-05-02T06:39:37.001Z"
   },
   {
    "duration": 24,
    "start_time": "2022-05-02T06:39:37.039Z"
   },
   {
    "duration": 19,
    "start_time": "2022-05-02T06:39:37.064Z"
   },
   {
    "duration": 22,
    "start_time": "2022-05-02T06:39:37.085Z"
   },
   {
    "duration": 6,
    "start_time": "2022-05-02T06:39:45.114Z"
   },
   {
    "duration": 9,
    "start_time": "2022-05-02T06:39:48.339Z"
   },
   {
    "duration": 7,
    "start_time": "2022-05-02T06:40:23.653Z"
   },
   {
    "duration": 7,
    "start_time": "2022-05-02T06:40:41.971Z"
   },
   {
    "duration": 3,
    "start_time": "2022-05-02T06:40:49.744Z"
   },
   {
    "duration": 468,
    "start_time": "2022-05-02T06:40:49.752Z"
   },
   {
    "duration": 9,
    "start_time": "2022-05-02T06:40:50.222Z"
   },
   {
    "duration": 38,
    "start_time": "2022-05-02T06:40:50.232Z"
   },
   {
    "duration": 15,
    "start_time": "2022-05-02T06:40:50.273Z"
   },
   {
    "duration": 40,
    "start_time": "2022-05-02T06:40:50.290Z"
   },
   {
    "duration": 7,
    "start_time": "2022-05-02T06:40:50.332Z"
   },
   {
    "duration": 20,
    "start_time": "2022-05-02T06:40:50.341Z"
   },
   {
    "duration": 23,
    "start_time": "2022-05-02T06:40:50.363Z"
   },
   {
    "duration": 30,
    "start_time": "2022-05-02T06:40:50.388Z"
   },
   {
    "duration": 5,
    "start_time": "2022-05-02T06:40:50.421Z"
   },
   {
    "duration": 58,
    "start_time": "2022-05-02T06:40:50.427Z"
   },
   {
    "duration": 7,
    "start_time": "2022-05-02T06:40:50.487Z"
   },
   {
    "duration": 30,
    "start_time": "2022-05-02T06:40:50.496Z"
   },
   {
    "duration": 22,
    "start_time": "2022-05-02T06:40:50.528Z"
   },
   {
    "duration": 62,
    "start_time": "2022-05-02T06:40:50.552Z"
   },
   {
    "duration": 7,
    "start_time": "2022-05-02T06:40:50.616Z"
   },
   {
    "duration": 22,
    "start_time": "2022-05-02T06:40:50.624Z"
   },
   {
    "duration": 72,
    "start_time": "2022-05-02T06:40:50.648Z"
   },
   {
    "duration": 22,
    "start_time": "2022-05-02T06:40:50.722Z"
   },
   {
    "duration": 32,
    "start_time": "2022-05-02T06:40:50.746Z"
   },
   {
    "duration": 12,
    "start_time": "2022-05-02T06:40:50.780Z"
   },
   {
    "duration": 6,
    "start_time": "2022-05-02T06:40:54.231Z"
   },
   {
    "duration": 6,
    "start_time": "2022-05-02T06:45:01.683Z"
   },
   {
    "duration": 55,
    "start_time": "2022-05-02T06:45:02.791Z"
   },
   {
    "duration": 8,
    "start_time": "2022-05-02T06:48:05.879Z"
   },
   {
    "duration": 9,
    "start_time": "2022-05-02T06:48:39.818Z"
   },
   {
    "duration": 8,
    "start_time": "2022-05-02T06:49:26.672Z"
   },
   {
    "duration": 7,
    "start_time": "2022-05-02T06:49:54.356Z"
   },
   {
    "duration": 8,
    "start_time": "2022-05-02T06:50:30.203Z"
   },
   {
    "duration": 3,
    "start_time": "2022-05-02T06:50:37.580Z"
   },
   {
    "duration": 446,
    "start_time": "2022-05-02T06:50:37.585Z"
   },
   {
    "duration": 8,
    "start_time": "2022-05-02T06:50:38.033Z"
   },
   {
    "duration": 56,
    "start_time": "2022-05-02T06:50:38.043Z"
   },
   {
    "duration": 5,
    "start_time": "2022-05-02T06:50:38.101Z"
   },
   {
    "duration": 36,
    "start_time": "2022-05-02T06:50:38.108Z"
   },
   {
    "duration": 6,
    "start_time": "2022-05-02T06:50:38.146Z"
   },
   {
    "duration": 29,
    "start_time": "2022-05-02T06:50:38.153Z"
   },
   {
    "duration": 9,
    "start_time": "2022-05-02T06:50:38.184Z"
   },
   {
    "duration": 23,
    "start_time": "2022-05-02T06:50:38.195Z"
   },
   {
    "duration": 7,
    "start_time": "2022-05-02T06:50:38.221Z"
   },
   {
    "duration": 51,
    "start_time": "2022-05-02T06:50:38.229Z"
   },
   {
    "duration": 7,
    "start_time": "2022-05-02T06:50:38.282Z"
   },
   {
    "duration": 20,
    "start_time": "2022-05-02T06:50:38.291Z"
   },
   {
    "duration": 5,
    "start_time": "2022-05-02T06:50:38.313Z"
   },
   {
    "duration": 53,
    "start_time": "2022-05-02T06:50:38.319Z"
   },
   {
    "duration": 11,
    "start_time": "2022-05-02T06:50:38.376Z"
   },
   {
    "duration": 30,
    "start_time": "2022-05-02T06:50:38.388Z"
   },
   {
    "duration": 11,
    "start_time": "2022-05-02T06:50:38.420Z"
   },
   {
    "duration": 17,
    "start_time": "2022-05-02T06:50:38.433Z"
   },
   {
    "duration": 40,
    "start_time": "2022-05-02T06:50:38.451Z"
   },
   {
    "duration": 11,
    "start_time": "2022-05-02T06:50:38.493Z"
   },
   {
    "duration": 9,
    "start_time": "2022-05-02T06:50:38.505Z"
   },
   {
    "duration": 11,
    "start_time": "2022-05-02T06:50:43.070Z"
   },
   {
    "duration": 9,
    "start_time": "2022-05-02T06:50:56.279Z"
   },
   {
    "duration": 7,
    "start_time": "2022-05-02T06:51:22.494Z"
   },
   {
    "duration": 6,
    "start_time": "2022-05-02T06:51:27.455Z"
   },
   {
    "duration": 3,
    "start_time": "2022-05-02T06:52:20.494Z"
   },
   {
    "duration": 440,
    "start_time": "2022-05-02T06:52:20.500Z"
   },
   {
    "duration": 9,
    "start_time": "2022-05-02T06:52:20.942Z"
   },
   {
    "duration": 68,
    "start_time": "2022-05-02T06:52:20.953Z"
   },
   {
    "duration": 6,
    "start_time": "2022-05-02T06:52:21.023Z"
   },
   {
    "duration": 63,
    "start_time": "2022-05-02T06:52:21.031Z"
   },
   {
    "duration": 7,
    "start_time": "2022-05-02T06:52:21.096Z"
   },
   {
    "duration": 11,
    "start_time": "2022-05-02T06:52:21.106Z"
   },
   {
    "duration": 12,
    "start_time": "2022-05-02T06:52:21.120Z"
   },
   {
    "duration": 37,
    "start_time": "2022-05-02T06:52:21.161Z"
   },
   {
    "duration": 6,
    "start_time": "2022-05-02T06:52:21.203Z"
   },
   {
    "duration": 71,
    "start_time": "2022-05-02T06:52:21.211Z"
   },
   {
    "duration": 10,
    "start_time": "2022-05-02T06:52:21.284Z"
   },
   {
    "duration": 33,
    "start_time": "2022-05-02T06:52:21.296Z"
   },
   {
    "duration": 6,
    "start_time": "2022-05-02T06:52:21.331Z"
   },
   {
    "duration": 56,
    "start_time": "2022-05-02T06:52:21.356Z"
   },
   {
    "duration": 11,
    "start_time": "2022-05-02T06:52:21.414Z"
   },
   {
    "duration": 20,
    "start_time": "2022-05-02T06:52:21.427Z"
   },
   {
    "duration": 34,
    "start_time": "2022-05-02T06:52:21.450Z"
   },
   {
    "duration": 16,
    "start_time": "2022-05-02T06:52:21.486Z"
   },
   {
    "duration": 8,
    "start_time": "2022-05-02T06:52:21.504Z"
   },
   {
    "duration": 9,
    "start_time": "2022-05-02T06:52:21.515Z"
   },
   {
    "duration": 7,
    "start_time": "2022-05-02T06:52:21.526Z"
   },
   {
    "duration": 28,
    "start_time": "2022-05-02T06:52:21.535Z"
   },
   {
    "duration": 12,
    "start_time": "2022-05-02T06:52:21.565Z"
   },
   {
    "duration": 6,
    "start_time": "2022-05-02T06:52:47.728Z"
   },
   {
    "duration": 3,
    "start_time": "2022-05-02T06:53:00.044Z"
   },
   {
    "duration": 517,
    "start_time": "2022-05-02T06:53:00.052Z"
   },
   {
    "duration": 11,
    "start_time": "2022-05-02T06:53:00.572Z"
   },
   {
    "duration": 65,
    "start_time": "2022-05-02T06:53:00.585Z"
   },
   {
    "duration": 12,
    "start_time": "2022-05-02T06:53:00.653Z"
   },
   {
    "duration": 82,
    "start_time": "2022-05-02T06:53:00.670Z"
   },
   {
    "duration": 9,
    "start_time": "2022-05-02T06:53:00.754Z"
   },
   {
    "duration": 32,
    "start_time": "2022-05-02T06:53:00.765Z"
   },
   {
    "duration": 28,
    "start_time": "2022-05-02T06:53:00.798Z"
   },
   {
    "duration": 66,
    "start_time": "2022-05-02T06:53:00.828Z"
   },
   {
    "duration": 29,
    "start_time": "2022-05-02T06:53:00.897Z"
   },
   {
    "duration": 90,
    "start_time": "2022-05-02T06:53:00.928Z"
   },
   {
    "duration": 21,
    "start_time": "2022-05-02T06:53:01.019Z"
   },
   {
    "duration": 59,
    "start_time": "2022-05-02T06:53:01.042Z"
   },
   {
    "duration": 25,
    "start_time": "2022-05-02T06:53:01.103Z"
   },
   {
    "duration": 52,
    "start_time": "2022-05-02T06:53:01.130Z"
   },
   {
    "duration": 116,
    "start_time": "2022-05-02T06:53:01.185Z"
   },
   {
    "duration": 125,
    "start_time": "2022-05-02T06:53:01.303Z"
   },
   {
    "duration": 185,
    "start_time": "2022-05-02T06:53:01.430Z"
   },
   {
    "duration": 182,
    "start_time": "2022-05-02T06:53:01.617Z"
   },
   {
    "duration": 29,
    "start_time": "2022-05-02T06:53:01.801Z"
   },
   {
    "duration": 14,
    "start_time": "2022-05-02T06:53:01.831Z"
   },
   {
    "duration": 18,
    "start_time": "2022-05-02T06:53:01.847Z"
   },
   {
    "duration": 2383,
    "start_time": "2022-05-02T06:54:35.319Z"
   },
   {
    "duration": 2705,
    "start_time": "2022-05-02T06:54:54.363Z"
   },
   {
    "duration": 1346,
    "start_time": "2022-05-02T06:55:11.216Z"
   },
   {
    "duration": 6,
    "start_time": "2022-05-02T06:55:21.178Z"
   },
   {
    "duration": 13,
    "start_time": "2022-05-02T06:56:03.846Z"
   },
   {
    "duration": 11,
    "start_time": "2022-05-02T06:56:10.952Z"
   },
   {
    "duration": 7,
    "start_time": "2022-05-02T06:56:12.254Z"
   },
   {
    "duration": 4,
    "start_time": "2022-05-02T06:56:54.051Z"
   },
   {
    "duration": 559,
    "start_time": "2022-05-02T06:56:54.059Z"
   },
   {
    "duration": 10,
    "start_time": "2022-05-02T06:56:54.621Z"
   },
   {
    "duration": 59,
    "start_time": "2022-05-02T06:56:54.633Z"
   },
   {
    "duration": 15,
    "start_time": "2022-05-02T06:56:54.694Z"
   },
   {
    "duration": 40,
    "start_time": "2022-05-02T06:56:54.711Z"
   },
   {
    "duration": 5,
    "start_time": "2022-05-02T06:56:54.752Z"
   },
   {
    "duration": 41,
    "start_time": "2022-05-02T06:56:54.761Z"
   },
   {
    "duration": 23,
    "start_time": "2022-05-02T06:56:54.804Z"
   },
   {
    "duration": 57,
    "start_time": "2022-05-02T06:56:54.829Z"
   },
   {
    "duration": 5,
    "start_time": "2022-05-02T06:56:54.889Z"
   },
   {
    "duration": 50,
    "start_time": "2022-05-02T06:56:54.896Z"
   },
   {
    "duration": 13,
    "start_time": "2022-05-02T06:56:54.948Z"
   },
   {
    "duration": 47,
    "start_time": "2022-05-02T06:56:54.962Z"
   },
   {
    "duration": 13,
    "start_time": "2022-05-02T06:56:55.011Z"
   },
   {
    "duration": 53,
    "start_time": "2022-05-02T06:56:55.026Z"
   },
   {
    "duration": 18,
    "start_time": "2022-05-02T06:56:55.082Z"
   },
   {
    "duration": 29,
    "start_time": "2022-05-02T06:56:55.103Z"
   },
   {
    "duration": 28,
    "start_time": "2022-05-02T06:56:55.133Z"
   },
   {
    "duration": 24,
    "start_time": "2022-05-02T06:56:55.163Z"
   },
   {
    "duration": 8,
    "start_time": "2022-05-02T06:56:55.188Z"
   },
   {
    "duration": 8,
    "start_time": "2022-05-02T06:56:55.198Z"
   },
   {
    "duration": 7,
    "start_time": "2022-05-02T06:56:55.207Z"
   },
   {
    "duration": 7,
    "start_time": "2022-05-02T06:56:55.215Z"
   },
   {
    "duration": 7,
    "start_time": "2022-05-02T06:56:55.223Z"
   },
   {
    "duration": 30,
    "start_time": "2022-05-02T06:56:55.231Z"
   },
   {
    "duration": 15,
    "start_time": "2022-05-02T06:56:55.265Z"
   },
   {
    "duration": 148,
    "start_time": "2022-05-02T07:06:42.348Z"
   },
   {
    "duration": 3,
    "start_time": "2022-05-02T07:07:13.098Z"
   },
   {
    "duration": 608,
    "start_time": "2022-05-02T07:07:13.106Z"
   },
   {
    "duration": 11,
    "start_time": "2022-05-02T07:07:13.717Z"
   },
   {
    "duration": 60,
    "start_time": "2022-05-02T07:07:13.730Z"
   },
   {
    "duration": 6,
    "start_time": "2022-05-02T07:07:13.792Z"
   },
   {
    "duration": 47,
    "start_time": "2022-05-02T07:07:13.800Z"
   },
   {
    "duration": 14,
    "start_time": "2022-05-02T07:07:13.849Z"
   },
   {
    "duration": 16,
    "start_time": "2022-05-02T07:07:13.865Z"
   },
   {
    "duration": 16,
    "start_time": "2022-05-02T07:07:13.883Z"
   },
   {
    "duration": 29,
    "start_time": "2022-05-02T07:07:13.901Z"
   },
   {
    "duration": 9,
    "start_time": "2022-05-02T07:07:13.933Z"
   },
   {
    "duration": 42,
    "start_time": "2022-05-02T07:07:13.954Z"
   },
   {
    "duration": 10,
    "start_time": "2022-05-02T07:07:13.998Z"
   },
   {
    "duration": 59,
    "start_time": "2022-05-02T07:07:14.010Z"
   },
   {
    "duration": 15,
    "start_time": "2022-05-02T07:07:14.071Z"
   },
   {
    "duration": 53,
    "start_time": "2022-05-02T07:07:14.088Z"
   },
   {
    "duration": 9,
    "start_time": "2022-05-02T07:07:14.143Z"
   },
   {
    "duration": 36,
    "start_time": "2022-05-02T07:07:14.154Z"
   },
   {
    "duration": 24,
    "start_time": "2022-05-02T07:07:14.193Z"
   },
   {
    "duration": 14,
    "start_time": "2022-05-02T07:07:14.218Z"
   },
   {
    "duration": 8,
    "start_time": "2022-05-02T07:07:14.234Z"
   },
   {
    "duration": 9,
    "start_time": "2022-05-02T07:07:14.244Z"
   },
   {
    "duration": 18,
    "start_time": "2022-05-02T07:07:14.262Z"
   },
   {
    "duration": 8,
    "start_time": "2022-05-02T07:07:14.282Z"
   },
   {
    "duration": 9,
    "start_time": "2022-05-02T07:07:14.292Z"
   },
   {
    "duration": 11,
    "start_time": "2022-05-02T07:07:14.303Z"
   },
   {
    "duration": 8,
    "start_time": "2022-05-02T07:07:14.316Z"
   },
   {
    "duration": 17,
    "start_time": "2022-05-02T07:07:14.326Z"
   },
   {
    "duration": 124,
    "start_time": "2022-05-02T07:07:14.355Z"
   },
   {
    "duration": 66,
    "start_time": "2022-05-02T07:07:37.466Z"
   },
   {
    "duration": 44,
    "start_time": "2022-05-02T07:07:59.816Z"
   },
   {
    "duration": 7,
    "start_time": "2022-05-02T07:08:44.838Z"
   },
   {
    "duration": 10,
    "start_time": "2022-05-02T07:10:24.221Z"
   },
   {
    "duration": 3,
    "start_time": "2022-05-02T07:10:28.857Z"
   },
   {
    "duration": 420,
    "start_time": "2022-05-02T07:10:28.862Z"
   },
   {
    "duration": 9,
    "start_time": "2022-05-02T07:10:29.284Z"
   },
   {
    "duration": 27,
    "start_time": "2022-05-02T07:10:29.296Z"
   },
   {
    "duration": 5,
    "start_time": "2022-05-02T07:10:29.326Z"
   },
   {
    "duration": 46,
    "start_time": "2022-05-02T07:10:29.333Z"
   },
   {
    "duration": 5,
    "start_time": "2022-05-02T07:10:29.381Z"
   },
   {
    "duration": 25,
    "start_time": "2022-05-02T07:10:29.389Z"
   },
   {
    "duration": 12,
    "start_time": "2022-05-02T07:10:29.416Z"
   },
   {
    "duration": 60,
    "start_time": "2022-05-02T07:10:29.430Z"
   },
   {
    "duration": 6,
    "start_time": "2022-05-02T07:10:29.494Z"
   },
   {
    "duration": 65,
    "start_time": "2022-05-02T07:10:29.502Z"
   },
   {
    "duration": 9,
    "start_time": "2022-05-02T07:10:29.569Z"
   },
   {
    "duration": 21,
    "start_time": "2022-05-02T07:10:29.580Z"
   },
   {
    "duration": 5,
    "start_time": "2022-05-02T07:10:29.603Z"
   },
   {
    "duration": 49,
    "start_time": "2022-05-02T07:10:29.610Z"
   },
   {
    "duration": 8,
    "start_time": "2022-05-02T07:10:29.661Z"
   },
   {
    "duration": 13,
    "start_time": "2022-05-02T07:10:29.672Z"
   },
   {
    "duration": 12,
    "start_time": "2022-05-02T07:10:29.687Z"
   },
   {
    "duration": 12,
    "start_time": "2022-05-02T07:10:29.701Z"
   },
   {
    "duration": 41,
    "start_time": "2022-05-02T07:10:29.715Z"
   },
   {
    "duration": 7,
    "start_time": "2022-05-02T07:10:29.758Z"
   },
   {
    "duration": 6,
    "start_time": "2022-05-02T07:10:29.767Z"
   },
   {
    "duration": 14,
    "start_time": "2022-05-02T07:10:29.775Z"
   },
   {
    "duration": 10,
    "start_time": "2022-05-02T07:10:29.790Z"
   },
   {
    "duration": 10,
    "start_time": "2022-05-02T07:10:29.801Z"
   },
   {
    "duration": 10,
    "start_time": "2022-05-02T07:10:29.813Z"
   },
   {
    "duration": 36,
    "start_time": "2022-05-02T07:10:29.824Z"
   },
   {
    "duration": 117,
    "start_time": "2022-05-02T07:10:29.865Z"
   },
   {
    "duration": 15,
    "start_time": "2022-05-02T07:10:29.984Z"
   },
   {
    "duration": 3,
    "start_time": "2022-05-02T07:10:30.001Z"
   },
   {
    "duration": 59,
    "start_time": "2022-05-02T07:10:30.005Z"
   },
   {
    "duration": 18,
    "start_time": "2022-05-02T07:10:30.067Z"
   },
   {
    "duration": 895,
    "start_time": "2022-05-02T07:10:30.088Z"
   },
   {
    "duration": 12,
    "start_time": "2022-05-02T07:10:30.986Z"
   },
   {
    "duration": 382,
    "start_time": "2022-05-02T07:10:30.999Z"
   },
   {
    "duration": 12,
    "start_time": "2022-05-02T07:10:31.383Z"
   },
   {
    "duration": 32,
    "start_time": "2022-05-02T07:10:31.397Z"
   },
   {
    "duration": 71,
    "start_time": "2022-05-02T07:10:31.431Z"
   },
   {
    "duration": 15,
    "start_time": "2022-05-02T07:10:31.504Z"
   },
   {
    "duration": 34,
    "start_time": "2022-05-02T07:10:31.521Z"
   },
   {
    "duration": 63,
    "start_time": "2022-05-02T07:10:31.557Z"
   },
   {
    "duration": 41,
    "start_time": "2022-05-02T07:10:31.622Z"
   },
   {
    "duration": 23,
    "start_time": "2022-05-02T07:10:31.665Z"
   },
   {
    "duration": 315,
    "start_time": "2022-05-02T07:10:31.690Z"
   },
   {
    "duration": 11,
    "start_time": "2022-05-02T07:10:32.007Z"
   },
   {
    "duration": 19,
    "start_time": "2022-05-02T07:10:32.019Z"
   },
   {
    "duration": 149,
    "start_time": "2022-05-02T07:10:32.055Z"
   },
   {
    "duration": 9,
    "start_time": "2022-05-02T07:10:32.206Z"
   },
   {
    "duration": 23,
    "start_time": "2022-05-02T07:10:32.217Z"
   },
   {
    "duration": 52,
    "start_time": "2022-05-02T07:10:32.242Z"
   },
   {
    "duration": 90,
    "start_time": "2022-05-02T07:10:32.296Z"
   },
   {
    "duration": 12,
    "start_time": "2022-05-02T07:10:32.388Z"
   },
   {
    "duration": 28,
    "start_time": "2022-05-02T07:10:32.402Z"
   },
   {
    "duration": 56,
    "start_time": "2022-05-02T07:10:32.433Z"
   },
   {
    "duration": 10,
    "start_time": "2022-05-02T07:10:32.491Z"
   },
   {
    "duration": 12,
    "start_time": "2022-05-02T07:10:32.503Z"
   },
   {
    "duration": 39,
    "start_time": "2022-05-02T07:10:32.517Z"
   },
   {
    "duration": 27,
    "start_time": "2022-05-02T07:10:32.558Z"
   },
   {
    "duration": 69,
    "start_time": "2022-05-02T07:10:32.587Z"
   },
   {
    "duration": 35,
    "start_time": "2022-05-02T07:10:32.658Z"
   },
   {
    "duration": 4,
    "start_time": "2022-05-02T07:10:32.695Z"
   },
   {
    "duration": 6,
    "start_time": "2022-05-02T07:10:32.700Z"
   },
   {
    "duration": 163,
    "start_time": "2022-05-02T07:10:32.708Z"
   },
   {
    "duration": 7,
    "start_time": "2022-05-02T07:10:32.873Z"
   },
   {
    "duration": 19,
    "start_time": "2022-05-02T07:10:32.882Z"
   },
   {
    "duration": 14,
    "start_time": "2022-05-02T07:10:32.903Z"
   },
   {
    "duration": 7,
    "start_time": "2022-05-02T07:10:32.919Z"
   },
   {
    "duration": 41,
    "start_time": "2022-05-02T07:10:32.928Z"
   },
   {
    "duration": 21,
    "start_time": "2022-05-02T07:10:32.971Z"
   },
   {
    "duration": 8,
    "start_time": "2022-05-02T07:10:32.994Z"
   },
   {
    "duration": 13,
    "start_time": "2022-05-02T07:10:33.004Z"
   },
   {
    "duration": 39,
    "start_time": "2022-05-02T07:10:33.019Z"
   },
   {
    "duration": 337,
    "start_time": "2022-05-02T07:10:38.567Z"
   },
   {
    "duration": 210,
    "start_time": "2022-05-02T07:11:32.032Z"
   },
   {
    "duration": 347,
    "start_time": "2022-05-02T07:11:41.669Z"
   },
   {
    "duration": 353,
    "start_time": "2022-05-02T07:11:45.260Z"
   },
   {
    "duration": 379,
    "start_time": "2022-05-02T07:12:27.217Z"
   },
   {
    "duration": 187,
    "start_time": "2022-05-02T07:12:32.902Z"
   },
   {
    "duration": 708,
    "start_time": "2022-05-02T07:12:43.287Z"
   },
   {
    "duration": 229,
    "start_time": "2022-05-02T07:12:47.876Z"
   },
   {
    "duration": 169,
    "start_time": "2022-05-02T07:12:52.463Z"
   },
   {
    "duration": 1247,
    "start_time": "2022-05-02T07:15:09.461Z"
   },
   {
    "duration": 584,
    "start_time": "2022-05-02T07:15:10.711Z"
   },
   {
    "duration": 20,
    "start_time": "2022-05-02T07:15:11.298Z"
   },
   {
    "duration": 37,
    "start_time": "2022-05-02T07:15:11.320Z"
   },
   {
    "duration": 8,
    "start_time": "2022-05-02T07:15:11.360Z"
   },
   {
    "duration": 76,
    "start_time": "2022-05-02T07:15:11.370Z"
   },
   {
    "duration": 11,
    "start_time": "2022-05-02T07:15:11.448Z"
   },
   {
    "duration": 22,
    "start_time": "2022-05-02T07:15:11.462Z"
   },
   {
    "duration": 18,
    "start_time": "2022-05-02T07:15:11.486Z"
   },
   {
    "duration": 56,
    "start_time": "2022-05-02T07:15:11.507Z"
   },
   {
    "duration": 7,
    "start_time": "2022-05-02T07:15:11.565Z"
   },
   {
    "duration": 51,
    "start_time": "2022-05-02T07:15:11.574Z"
   },
   {
    "duration": 29,
    "start_time": "2022-05-02T07:15:11.627Z"
   },
   {
    "duration": 24,
    "start_time": "2022-05-02T07:15:11.658Z"
   },
   {
    "duration": 6,
    "start_time": "2022-05-02T07:15:11.684Z"
   },
   {
    "duration": 61,
    "start_time": "2022-05-02T07:15:11.692Z"
   },
   {
    "duration": 16,
    "start_time": "2022-05-02T07:15:11.756Z"
   },
   {
    "duration": 11,
    "start_time": "2022-05-02T07:15:11.774Z"
   },
   {
    "duration": 14,
    "start_time": "2022-05-02T07:15:11.787Z"
   },
   {
    "duration": 14,
    "start_time": "2022-05-02T07:15:11.803Z"
   },
   {
    "duration": 37,
    "start_time": "2022-05-02T07:15:11.819Z"
   },
   {
    "duration": 11,
    "start_time": "2022-05-02T07:15:11.858Z"
   },
   {
    "duration": 8,
    "start_time": "2022-05-02T07:15:11.871Z"
   },
   {
    "duration": 13,
    "start_time": "2022-05-02T07:15:11.881Z"
   },
   {
    "duration": 7,
    "start_time": "2022-05-02T07:15:11.897Z"
   },
   {
    "duration": 16,
    "start_time": "2022-05-02T07:15:11.906Z"
   },
   {
    "duration": 36,
    "start_time": "2022-05-02T07:15:11.924Z"
   },
   {
    "duration": 12,
    "start_time": "2022-05-02T07:15:11.967Z"
   },
   {
    "duration": 136,
    "start_time": "2022-05-02T07:15:11.981Z"
   },
   {
    "duration": 21,
    "start_time": "2022-05-02T07:15:12.119Z"
   },
   {
    "duration": 13,
    "start_time": "2022-05-02T07:15:12.142Z"
   },
   {
    "duration": 40,
    "start_time": "2022-05-02T07:15:12.156Z"
   },
   {
    "duration": 20,
    "start_time": "2022-05-02T07:15:12.198Z"
   },
   {
    "duration": 980,
    "start_time": "2022-05-02T07:15:12.219Z"
   },
   {
    "duration": 14,
    "start_time": "2022-05-02T07:15:13.201Z"
   },
   {
    "duration": 629,
    "start_time": "2022-05-02T07:15:13.217Z"
   },
   {
    "duration": 11,
    "start_time": "2022-05-02T07:15:13.855Z"
   },
   {
    "duration": 45,
    "start_time": "2022-05-02T07:15:13.868Z"
   },
   {
    "duration": 52,
    "start_time": "2022-05-02T07:15:13.915Z"
   },
   {
    "duration": 14,
    "start_time": "2022-05-02T07:15:13.969Z"
   },
   {
    "duration": 9,
    "start_time": "2022-05-02T07:15:13.985Z"
   },
   {
    "duration": 100,
    "start_time": "2022-05-02T07:15:13.996Z"
   },
   {
    "duration": 32,
    "start_time": "2022-05-02T07:15:14.098Z"
   },
   {
    "duration": 40,
    "start_time": "2022-05-02T07:15:14.132Z"
   },
   {
    "duration": 337,
    "start_time": "2022-05-02T07:15:14.174Z"
   },
   {
    "duration": 13,
    "start_time": "2022-05-02T07:15:14.513Z"
   },
   {
    "duration": 33,
    "start_time": "2022-05-02T07:15:14.528Z"
   },
   {
    "duration": 62,
    "start_time": "2022-05-02T07:15:14.563Z"
   },
   {
    "duration": 23,
    "start_time": "2022-05-02T07:15:14.628Z"
   },
   {
    "duration": 30,
    "start_time": "2022-05-02T07:15:14.654Z"
   },
   {
    "duration": 40,
    "start_time": "2022-05-02T07:15:14.686Z"
   },
   {
    "duration": 68,
    "start_time": "2022-05-02T07:15:14.727Z"
   },
   {
    "duration": 9,
    "start_time": "2022-05-02T07:15:14.797Z"
   },
   {
    "duration": 50,
    "start_time": "2022-05-02T07:15:14.808Z"
   },
   {
    "duration": 47,
    "start_time": "2022-05-02T07:15:14.860Z"
   },
   {
    "duration": 15,
    "start_time": "2022-05-02T07:15:14.909Z"
   },
   {
    "duration": 34,
    "start_time": "2022-05-02T07:15:14.925Z"
   },
   {
    "duration": 14,
    "start_time": "2022-05-02T07:15:14.961Z"
   },
   {
    "duration": 28,
    "start_time": "2022-05-02T07:15:14.977Z"
   },
   {
    "duration": 81,
    "start_time": "2022-05-02T07:15:15.007Z"
   },
   {
    "duration": 103,
    "start_time": "2022-05-02T07:15:15.090Z"
   },
   {
    "duration": 4,
    "start_time": "2022-05-02T07:15:15.195Z"
   },
   {
    "duration": 78,
    "start_time": "2022-05-02T07:15:15.201Z"
   },
   {
    "duration": 207,
    "start_time": "2022-05-02T07:15:15.281Z"
   },
   {
    "duration": 7,
    "start_time": "2022-05-02T07:15:15.490Z"
   },
   {
    "duration": 70,
    "start_time": "2022-05-02T07:15:15.498Z"
   },
   {
    "duration": 16,
    "start_time": "2022-05-02T07:15:15.570Z"
   },
   {
    "duration": 7,
    "start_time": "2022-05-02T07:15:15.588Z"
   },
   {
    "duration": 69,
    "start_time": "2022-05-02T07:15:15.596Z"
   },
   {
    "duration": 22,
    "start_time": "2022-05-02T07:15:15.667Z"
   },
   {
    "duration": 7,
    "start_time": "2022-05-02T07:15:15.691Z"
   },
   {
    "duration": 7,
    "start_time": "2022-05-02T07:15:15.755Z"
   },
   {
    "duration": 9,
    "start_time": "2022-05-02T07:15:15.764Z"
   },
   {
    "duration": 697,
    "start_time": "2022-05-02T07:15:15.775Z"
   },
   {
    "duration": 996,
    "start_time": "2022-05-02T07:15:16.474Z"
   },
   {
    "duration": 505,
    "start_time": "2022-05-02T07:15:17.472Z"
   },
   {
    "duration": 23,
    "start_time": "2022-05-02T07:15:17.979Z"
   },
   {
    "duration": 41,
    "start_time": "2022-05-02T07:15:18.004Z"
   },
   {
    "duration": 8,
    "start_time": "2022-05-02T07:15:18.055Z"
   },
   {
    "duration": 21,
    "start_time": "2022-05-02T07:15:18.065Z"
   },
   {
    "duration": 25,
    "start_time": "2022-05-02T07:15:18.087Z"
   },
   {
    "duration": 712,
    "start_time": "2022-05-02T07:15:18.121Z"
   },
   {
    "duration": 332,
    "start_time": "2022-05-02T07:15:18.835Z"
   },
   {
    "duration": 181,
    "start_time": "2022-05-02T07:15:19.169Z"
   },
   {
    "duration": 7,
    "start_time": "2022-05-02T07:15:19.355Z"
   },
   {
    "duration": 11,
    "start_time": "2022-05-02T07:15:19.364Z"
   },
   {
    "duration": 8,
    "start_time": "2022-05-02T07:15:19.376Z"
   },
   {
    "duration": 10,
    "start_time": "2022-05-02T07:15:19.385Z"
   },
   {
    "duration": 10,
    "start_time": "2022-05-02T07:15:19.397Z"
   },
   {
    "duration": 47,
    "start_time": "2022-05-02T07:15:19.409Z"
   },
   {
    "duration": 11,
    "start_time": "2022-05-02T07:15:19.458Z"
   },
   {
    "duration": 12,
    "start_time": "2022-05-02T07:15:19.471Z"
   },
   {
    "duration": 12,
    "start_time": "2022-05-02T07:15:19.485Z"
   },
   {
    "duration": 11,
    "start_time": "2022-05-02T07:15:19.499Z"
   },
   {
    "duration": 959,
    "start_time": "2022-05-02T17:13:11.288Z"
   },
   {
    "duration": 412,
    "start_time": "2022-05-02T17:13:12.250Z"
   },
   {
    "duration": 63,
    "start_time": "2022-05-02T17:13:12.664Z"
   },
   {
    "duration": 29,
    "start_time": "2022-05-02T17:13:12.729Z"
   },
   {
    "duration": 5,
    "start_time": "2022-05-02T17:13:12.759Z"
   },
   {
    "duration": 87,
    "start_time": "2022-05-02T17:13:12.766Z"
   },
   {
    "duration": 58,
    "start_time": "2022-05-02T17:13:12.855Z"
   },
   {
    "duration": 13,
    "start_time": "2022-05-02T17:13:12.915Z"
   },
   {
    "duration": 10,
    "start_time": "2022-05-02T17:13:12.929Z"
   },
   {
    "duration": 73,
    "start_time": "2022-05-02T17:13:12.942Z"
   },
   {
    "duration": 7,
    "start_time": "2022-05-02T17:13:13.017Z"
   },
   {
    "duration": 30,
    "start_time": "2022-05-02T17:13:13.027Z"
   },
   {
    "duration": 8,
    "start_time": "2022-05-02T17:13:13.059Z"
   },
   {
    "duration": 56,
    "start_time": "2022-05-02T17:13:13.069Z"
   },
   {
    "duration": 5,
    "start_time": "2022-05-02T17:13:13.128Z"
   },
   {
    "duration": 26,
    "start_time": "2022-05-02T17:13:13.135Z"
   },
   {
    "duration": 8,
    "start_time": "2022-05-02T17:13:13.163Z"
   },
   {
    "duration": 41,
    "start_time": "2022-05-02T17:13:13.173Z"
   },
   {
    "duration": 14,
    "start_time": "2022-05-02T17:13:13.218Z"
   },
   {
    "duration": 11,
    "start_time": "2022-05-02T17:13:13.234Z"
   },
   {
    "duration": 7,
    "start_time": "2022-05-02T17:13:13.247Z"
   },
   {
    "duration": 8,
    "start_time": "2022-05-02T17:13:13.256Z"
   },
   {
    "duration": 7,
    "start_time": "2022-05-02T17:13:13.266Z"
   },
   {
    "duration": 34,
    "start_time": "2022-05-02T17:13:13.275Z"
   },
   {
    "duration": 7,
    "start_time": "2022-05-02T17:13:13.317Z"
   },
   {
    "duration": 10,
    "start_time": "2022-05-02T17:13:13.326Z"
   },
   {
    "duration": 7,
    "start_time": "2022-05-02T17:13:13.339Z"
   },
   {
    "duration": 8,
    "start_time": "2022-05-02T17:13:13.351Z"
   },
   {
    "duration": 147,
    "start_time": "2022-05-02T17:13:13.362Z"
   },
   {
    "duration": 20,
    "start_time": "2022-05-02T17:13:13.515Z"
   },
   {
    "duration": 3,
    "start_time": "2022-05-02T17:13:13.537Z"
   },
   {
    "duration": 37,
    "start_time": "2022-05-02T17:13:13.542Z"
   },
   {
    "duration": 34,
    "start_time": "2022-05-02T17:13:13.581Z"
   },
   {
    "duration": 899,
    "start_time": "2022-05-02T17:13:13.617Z"
   },
   {
    "duration": 12,
    "start_time": "2022-05-02T17:13:14.518Z"
   },
   {
    "duration": 406,
    "start_time": "2022-05-02T17:13:14.532Z"
   },
   {
    "duration": 10,
    "start_time": "2022-05-02T17:13:14.940Z"
   },
   {
    "duration": 19,
    "start_time": "2022-05-02T17:13:14.952Z"
   },
   {
    "duration": 75,
    "start_time": "2022-05-02T17:13:14.973Z"
   },
   {
    "duration": 14,
    "start_time": "2022-05-02T17:13:15.050Z"
   },
   {
    "duration": 9,
    "start_time": "2022-05-02T17:13:15.065Z"
   },
   {
    "duration": 84,
    "start_time": "2022-05-02T17:13:15.076Z"
   },
   {
    "duration": 22,
    "start_time": "2022-05-02T17:13:15.161Z"
   },
   {
    "duration": 36,
    "start_time": "2022-05-02T17:13:15.185Z"
   },
   {
    "duration": 221,
    "start_time": "2022-05-02T17:13:15.223Z"
   },
   {
    "duration": 9,
    "start_time": "2022-05-02T17:13:15.446Z"
   },
   {
    "duration": 17,
    "start_time": "2022-05-02T17:13:15.456Z"
   },
   {
    "duration": 45,
    "start_time": "2022-05-02T17:13:15.475Z"
   },
   {
    "duration": 7,
    "start_time": "2022-05-02T17:13:15.522Z"
   },
   {
    "duration": 9,
    "start_time": "2022-05-02T17:13:15.531Z"
   },
   {
    "duration": 30,
    "start_time": "2022-05-02T17:13:15.542Z"
   },
   {
    "duration": 99,
    "start_time": "2022-05-02T17:13:15.574Z"
   },
   {
    "duration": 8,
    "start_time": "2022-05-02T17:13:15.675Z"
   },
   {
    "duration": 48,
    "start_time": "2022-05-02T17:13:15.685Z"
   },
   {
    "duration": 33,
    "start_time": "2022-05-02T17:13:15.735Z"
   },
   {
    "duration": 11,
    "start_time": "2022-05-02T17:13:15.769Z"
   },
   {
    "duration": 33,
    "start_time": "2022-05-02T17:13:15.781Z"
   },
   {
    "duration": 11,
    "start_time": "2022-05-02T17:13:15.816Z"
   },
   {
    "duration": 21,
    "start_time": "2022-05-02T17:13:15.829Z"
   },
   {
    "duration": 62,
    "start_time": "2022-05-02T17:13:15.852Z"
   },
   {
    "duration": 33,
    "start_time": "2022-05-02T17:13:15.916Z"
   },
   {
    "duration": 4,
    "start_time": "2022-05-02T17:13:15.951Z"
   },
   {
    "duration": 5,
    "start_time": "2022-05-02T17:13:15.956Z"
   },
   {
    "duration": 117,
    "start_time": "2022-05-02T17:13:15.963Z"
   },
   {
    "duration": 6,
    "start_time": "2022-05-02T17:13:16.082Z"
   },
   {
    "duration": 36,
    "start_time": "2022-05-02T17:13:16.090Z"
   },
   {
    "duration": 9,
    "start_time": "2022-05-02T17:13:16.127Z"
   },
   {
    "duration": 123,
    "start_time": "2022-05-02T17:13:20.977Z"
   },
   {
    "duration": 4,
    "start_time": "2022-05-02T17:13:38.844Z"
   },
   {
    "duration": 318,
    "start_time": "2022-05-02T17:13:43.705Z"
   },
   {
    "duration": 246,
    "start_time": "2022-05-02T17:14:22.665Z"
   },
   {
    "duration": 1098,
    "start_time": "2022-05-02T17:16:59.430Z"
   },
   {
    "duration": 457,
    "start_time": "2022-05-02T17:17:00.530Z"
   },
   {
    "duration": 12,
    "start_time": "2022-05-02T17:17:00.989Z"
   },
   {
    "duration": 36,
    "start_time": "2022-05-02T17:17:01.004Z"
   },
   {
    "duration": 5,
    "start_time": "2022-05-02T17:17:01.042Z"
   },
   {
    "duration": 41,
    "start_time": "2022-05-02T17:17:01.049Z"
   },
   {
    "duration": 20,
    "start_time": "2022-05-02T17:17:01.092Z"
   },
   {
    "duration": 17,
    "start_time": "2022-05-02T17:17:01.114Z"
   },
   {
    "duration": 15,
    "start_time": "2022-05-02T17:17:01.132Z"
   },
   {
    "duration": 27,
    "start_time": "2022-05-02T17:17:01.150Z"
   },
   {
    "duration": 4,
    "start_time": "2022-05-02T17:17:01.179Z"
   },
   {
    "duration": 55,
    "start_time": "2022-05-02T17:17:01.185Z"
   },
   {
    "duration": 7,
    "start_time": "2022-05-02T17:17:01.242Z"
   },
   {
    "duration": 21,
    "start_time": "2022-05-02T17:17:01.251Z"
   },
   {
    "duration": 16,
    "start_time": "2022-05-02T17:17:01.274Z"
   },
   {
    "duration": 51,
    "start_time": "2022-05-02T17:17:01.292Z"
   },
   {
    "duration": 17,
    "start_time": "2022-05-02T17:17:01.345Z"
   },
   {
    "duration": 17,
    "start_time": "2022-05-02T17:17:01.364Z"
   },
   {
    "duration": 35,
    "start_time": "2022-05-02T17:17:01.382Z"
   },
   {
    "duration": 15,
    "start_time": "2022-05-02T17:17:01.418Z"
   },
   {
    "duration": 5,
    "start_time": "2022-05-02T17:17:01.435Z"
   },
   {
    "duration": 11,
    "start_time": "2022-05-02T17:17:01.442Z"
   },
   {
    "duration": 10,
    "start_time": "2022-05-02T17:17:01.455Z"
   },
   {
    "duration": 10,
    "start_time": "2022-05-02T17:17:01.467Z"
   },
   {
    "duration": 11,
    "start_time": "2022-05-02T17:17:01.479Z"
   },
   {
    "duration": 25,
    "start_time": "2022-05-02T17:17:01.492Z"
   },
   {
    "duration": 9,
    "start_time": "2022-05-02T17:17:01.519Z"
   },
   {
    "duration": 10,
    "start_time": "2022-05-02T17:17:01.532Z"
   },
   {
    "duration": 116,
    "start_time": "2022-05-02T17:17:01.544Z"
   },
   {
    "duration": 14,
    "start_time": "2022-05-02T17:17:01.662Z"
   },
   {
    "duration": 3,
    "start_time": "2022-05-02T17:17:01.678Z"
   },
   {
    "duration": 55,
    "start_time": "2022-05-02T17:17:01.682Z"
   },
   {
    "duration": 16,
    "start_time": "2022-05-02T17:17:01.739Z"
   },
   {
    "duration": 417,
    "start_time": "2022-05-02T17:17:01.757Z"
   },
   {
    "duration": 9,
    "start_time": "2022-05-02T17:17:02.176Z"
   },
   {
    "duration": 394,
    "start_time": "2022-05-02T17:17:02.187Z"
   },
   {
    "duration": 9,
    "start_time": "2022-05-02T17:17:02.583Z"
   },
   {
    "duration": 24,
    "start_time": "2022-05-02T17:17:02.594Z"
   },
   {
    "duration": 52,
    "start_time": "2022-05-02T17:17:02.620Z"
   },
   {
    "duration": 42,
    "start_time": "2022-05-02T17:17:02.674Z"
   },
   {
    "duration": 10,
    "start_time": "2022-05-02T17:17:02.718Z"
   },
   {
    "duration": 50,
    "start_time": "2022-05-02T17:17:02.729Z"
   },
   {
    "duration": 37,
    "start_time": "2022-05-02T17:17:02.780Z"
   },
   {
    "duration": 17,
    "start_time": "2022-05-02T17:17:02.819Z"
   },
   {
    "duration": 218,
    "start_time": "2022-05-02T17:17:02.838Z"
   },
   {
    "duration": 9,
    "start_time": "2022-05-02T17:17:03.059Z"
   },
   {
    "duration": 13,
    "start_time": "2022-05-02T17:17:03.070Z"
   },
   {
    "duration": 51,
    "start_time": "2022-05-02T17:17:03.085Z"
   },
   {
    "duration": 8,
    "start_time": "2022-05-02T17:17:03.138Z"
   },
   {
    "duration": 13,
    "start_time": "2022-05-02T17:17:03.148Z"
   },
   {
    "duration": 58,
    "start_time": "2022-05-02T17:17:03.164Z"
   },
   {
    "duration": 63,
    "start_time": "2022-05-02T17:17:03.224Z"
   },
   {
    "duration": 24,
    "start_time": "2022-05-02T17:17:03.289Z"
   },
   {
    "duration": 30,
    "start_time": "2022-05-02T17:17:03.315Z"
   },
   {
    "duration": 33,
    "start_time": "2022-05-02T17:17:03.346Z"
   },
   {
    "duration": 35,
    "start_time": "2022-05-02T17:17:03.381Z"
   },
   {
    "duration": 10,
    "start_time": "2022-05-02T17:17:03.420Z"
   },
   {
    "duration": 10,
    "start_time": "2022-05-02T17:17:03.432Z"
   },
   {
    "duration": 27,
    "start_time": "2022-05-02T17:17:03.444Z"
   },
   {
    "duration": 67,
    "start_time": "2022-05-02T17:17:03.473Z"
   },
   {
    "duration": 33,
    "start_time": "2022-05-02T17:17:03.541Z"
   },
   {
    "duration": 5,
    "start_time": "2022-05-02T17:17:03.575Z"
   },
   {
    "duration": 29,
    "start_time": "2022-05-02T17:17:03.582Z"
   },
   {
    "duration": 101,
    "start_time": "2022-05-02T17:17:03.613Z"
   },
   {
    "duration": 8,
    "start_time": "2022-05-02T17:17:03.716Z"
   },
   {
    "duration": 19,
    "start_time": "2022-05-02T17:17:03.726Z"
   },
   {
    "duration": 9,
    "start_time": "2022-05-02T17:17:03.747Z"
   },
   {
    "duration": 268,
    "start_time": "2022-05-02T17:17:03.758Z"
   },
   {
    "duration": 5,
    "start_time": "2022-05-02T17:17:04.028Z"
   },
   {
    "duration": 18,
    "start_time": "2022-05-02T17:17:04.035Z"
   },
   {
    "duration": 28,
    "start_time": "2022-05-02T17:17:04.055Z"
   },
   {
    "duration": 31,
    "start_time": "2022-05-02T17:17:04.084Z"
   },
   {
    "duration": 9,
    "start_time": "2022-05-02T17:17:04.117Z"
   },
   {
    "duration": 7,
    "start_time": "2022-05-02T17:17:04.127Z"
   },
   {
    "duration": 486,
    "start_time": "2022-05-02T17:17:04.136Z"
   },
   {
    "duration": 269,
    "start_time": "2022-05-02T17:17:04.624Z"
   },
   {
    "duration": 219,
    "start_time": "2022-05-02T17:17:04.895Z"
   },
   {
    "duration": 18,
    "start_time": "2022-05-02T17:17:05.115Z"
   },
   {
    "duration": 20,
    "start_time": "2022-05-02T17:17:05.135Z"
   },
   {
    "duration": 6,
    "start_time": "2022-05-02T17:17:05.156Z"
   },
   {
    "duration": 7,
    "start_time": "2022-05-02T17:17:05.164Z"
   },
   {
    "duration": 9,
    "start_time": "2022-05-02T17:17:05.213Z"
   },
   {
    "duration": 528,
    "start_time": "2022-05-02T17:17:05.225Z"
   },
   {
    "duration": 363,
    "start_time": "2022-05-02T17:17:05.755Z"
   },
   {
    "duration": 188,
    "start_time": "2022-05-02T17:17:06.120Z"
   },
   {
    "duration": 448,
    "start_time": "2022-05-02T17:17:06.310Z"
   },
   {
    "duration": 299,
    "start_time": "2022-05-02T17:17:06.760Z"
   },
   {
    "duration": 291,
    "start_time": "2022-05-02T17:17:07.061Z"
   },
   {
    "duration": 5,
    "start_time": "2022-05-02T17:17:07.354Z"
   },
   {
    "duration": 11,
    "start_time": "2022-05-02T17:17:07.360Z"
   },
   {
    "duration": 12,
    "start_time": "2022-05-02T17:17:07.373Z"
   },
   {
    "duration": 30,
    "start_time": "2022-05-02T17:17:07.387Z"
   },
   {
    "duration": 10,
    "start_time": "2022-05-02T17:17:07.419Z"
   },
   {
    "duration": 18,
    "start_time": "2022-05-02T17:17:07.431Z"
   },
   {
    "duration": 10,
    "start_time": "2022-05-02T17:17:07.451Z"
   },
   {
    "duration": 15,
    "start_time": "2022-05-02T17:17:07.463Z"
   },
   {
    "duration": 9,
    "start_time": "2022-05-02T17:17:07.480Z"
   },
   {
    "duration": 11,
    "start_time": "2022-05-02T17:17:07.490Z"
   },
   {
    "duration": 1122,
    "start_time": "2022-05-02T17:24:33.503Z"
   },
   {
    "duration": 452,
    "start_time": "2022-05-02T17:24:34.630Z"
   },
   {
    "duration": 13,
    "start_time": "2022-05-02T17:24:35.084Z"
   },
   {
    "duration": 37,
    "start_time": "2022-05-02T17:24:35.100Z"
   },
   {
    "duration": 5,
    "start_time": "2022-05-02T17:24:35.138Z"
   },
   {
    "duration": 39,
    "start_time": "2022-05-02T17:24:35.145Z"
   },
   {
    "duration": 5,
    "start_time": "2022-05-02T17:24:35.186Z"
   },
   {
    "duration": 10,
    "start_time": "2022-05-02T17:24:35.209Z"
   },
   {
    "duration": 11,
    "start_time": "2022-05-02T17:24:35.221Z"
   },
   {
    "duration": 23,
    "start_time": "2022-05-02T17:24:35.235Z"
   },
   {
    "duration": 5,
    "start_time": "2022-05-02T17:24:35.260Z"
   },
   {
    "duration": 71,
    "start_time": "2022-05-02T17:24:35.267Z"
   },
   {
    "duration": 7,
    "start_time": "2022-05-02T17:24:35.340Z"
   },
   {
    "duration": 20,
    "start_time": "2022-05-02T17:24:35.349Z"
   },
   {
    "duration": 5,
    "start_time": "2022-05-02T17:24:35.371Z"
   },
   {
    "duration": 55,
    "start_time": "2022-05-02T17:24:35.378Z"
   },
   {
    "duration": 8,
    "start_time": "2022-05-02T17:24:35.435Z"
   },
   {
    "duration": 13,
    "start_time": "2022-05-02T17:24:35.445Z"
   },
   {
    "duration": 11,
    "start_time": "2022-05-02T17:24:35.460Z"
   },
   {
    "duration": 43,
    "start_time": "2022-05-02T17:24:35.474Z"
   },
   {
    "duration": 6,
    "start_time": "2022-05-02T17:24:35.519Z"
   },
   {
    "duration": 7,
    "start_time": "2022-05-02T17:24:35.527Z"
   },
   {
    "duration": 10,
    "start_time": "2022-05-02T17:24:35.535Z"
   },
   {
    "duration": 6,
    "start_time": "2022-05-02T17:24:35.546Z"
   },
   {
    "duration": 10,
    "start_time": "2022-05-02T17:24:35.554Z"
   },
   {
    "duration": 45,
    "start_time": "2022-05-02T17:24:35.566Z"
   },
   {
    "duration": 13,
    "start_time": "2022-05-02T17:24:35.612Z"
   },
   {
    "duration": 9,
    "start_time": "2022-05-02T17:24:35.630Z"
   },
   {
    "duration": 112,
    "start_time": "2022-05-02T17:24:35.640Z"
   },
   {
    "duration": 15,
    "start_time": "2022-05-02T17:24:35.753Z"
   },
   {
    "duration": 3,
    "start_time": "2022-05-02T17:24:35.769Z"
   },
   {
    "duration": 51,
    "start_time": "2022-05-02T17:24:35.773Z"
   },
   {
    "duration": 17,
    "start_time": "2022-05-02T17:24:35.826Z"
   },
   {
    "duration": 703,
    "start_time": "2022-05-02T17:24:35.845Z"
   },
   {
    "duration": 65,
    "start_time": "2022-05-02T17:24:36.550Z"
   },
   {
    "duration": 829,
    "start_time": "2022-05-02T17:24:36.617Z"
   },
   {
    "duration": 72,
    "start_time": "2022-05-02T17:24:37.447Z"
   },
   {
    "duration": 14,
    "start_time": "2022-05-02T17:24:37.521Z"
   },
   {
    "duration": 93,
    "start_time": "2022-05-02T17:24:37.537Z"
   },
   {
    "duration": 13,
    "start_time": "2022-05-02T17:24:37.632Z"
   },
   {
    "duration": 7,
    "start_time": "2022-05-02T17:24:37.646Z"
   },
   {
    "duration": 170,
    "start_time": "2022-05-02T17:24:37.655Z"
   },
   {
    "duration": 26,
    "start_time": "2022-05-02T17:24:37.828Z"
   },
   {
    "duration": 67,
    "start_time": "2022-05-02T17:24:37.857Z"
   },
   {
    "duration": 215,
    "start_time": "2022-05-02T17:24:37.925Z"
   },
   {
    "duration": 9,
    "start_time": "2022-05-02T17:24:38.142Z"
   },
   {
    "duration": 12,
    "start_time": "2022-05-02T17:24:38.152Z"
   },
   {
    "duration": 48,
    "start_time": "2022-05-02T17:24:38.166Z"
   },
   {
    "duration": 10,
    "start_time": "2022-05-02T17:24:38.217Z"
   },
   {
    "duration": 8,
    "start_time": "2022-05-02T17:24:38.229Z"
   },
   {
    "duration": 32,
    "start_time": "2022-05-02T17:24:38.239Z"
   },
   {
    "duration": 90,
    "start_time": "2022-05-02T17:24:38.273Z"
   },
   {
    "duration": 9,
    "start_time": "2022-05-02T17:24:38.365Z"
   },
   {
    "duration": 50,
    "start_time": "2022-05-02T17:24:38.376Z"
   },
   {
    "duration": 33,
    "start_time": "2022-05-02T17:24:38.428Z"
   },
   {
    "duration": 11,
    "start_time": "2022-05-02T17:24:38.463Z"
   },
   {
    "duration": 38,
    "start_time": "2022-05-02T17:24:38.476Z"
   },
   {
    "duration": 13,
    "start_time": "2022-05-02T17:24:38.516Z"
   },
   {
    "duration": 21,
    "start_time": "2022-05-02T17:24:38.531Z"
   },
   {
    "duration": 56,
    "start_time": "2022-05-02T17:24:38.553Z"
   },
   {
    "duration": 45,
    "start_time": "2022-05-02T17:24:38.611Z"
   },
   {
    "duration": 5,
    "start_time": "2022-05-02T17:24:38.658Z"
   },
   {
    "duration": 6,
    "start_time": "2022-05-02T17:24:38.665Z"
   },
   {
    "duration": 112,
    "start_time": "2022-05-02T17:24:38.673Z"
   },
   {
    "duration": 7,
    "start_time": "2022-05-02T17:24:38.786Z"
   },
   {
    "duration": 30,
    "start_time": "2022-05-02T17:24:38.795Z"
   },
   {
    "duration": 8,
    "start_time": "2022-05-02T17:24:38.827Z"
   },
   {
    "duration": 290,
    "start_time": "2022-05-02T17:24:38.837Z"
   },
   {
    "duration": 5,
    "start_time": "2022-05-02T17:24:39.129Z"
   },
   {
    "duration": 20,
    "start_time": "2022-05-02T17:24:39.135Z"
   },
   {
    "duration": 26,
    "start_time": "2022-05-02T17:24:39.157Z"
   },
   {
    "duration": 34,
    "start_time": "2022-05-02T17:24:39.184Z"
   },
   {
    "duration": 15,
    "start_time": "2022-05-02T17:24:39.220Z"
   },
   {
    "duration": 6,
    "start_time": "2022-05-02T17:24:39.237Z"
   },
   {
    "duration": 472,
    "start_time": "2022-05-02T17:24:39.245Z"
   },
   {
    "duration": 259,
    "start_time": "2022-05-02T17:24:39.719Z"
   },
   {
    "duration": 202,
    "start_time": "2022-05-02T17:24:39.979Z"
   },
   {
    "duration": 16,
    "start_time": "2022-05-02T17:24:40.182Z"
   },
   {
    "duration": 21,
    "start_time": "2022-05-02T17:24:40.213Z"
   },
   {
    "duration": 6,
    "start_time": "2022-05-02T17:24:40.235Z"
   },
   {
    "duration": 6,
    "start_time": "2022-05-02T17:24:40.242Z"
   },
   {
    "duration": 6,
    "start_time": "2022-05-02T17:24:40.253Z"
   },
   {
    "duration": 535,
    "start_time": "2022-05-02T17:24:40.261Z"
   },
   {
    "duration": 347,
    "start_time": "2022-05-02T17:24:40.798Z"
   },
   {
    "duration": 189,
    "start_time": "2022-05-02T17:24:41.147Z"
   },
   {
    "duration": 424,
    "start_time": "2022-05-02T17:24:41.338Z"
   },
   {
    "duration": 285,
    "start_time": "2022-05-02T17:24:41.763Z"
   },
   {
    "duration": 290,
    "start_time": "2022-05-02T17:24:42.049Z"
   },
   {
    "duration": 6,
    "start_time": "2022-05-02T17:24:42.341Z"
   },
   {
    "duration": 14,
    "start_time": "2022-05-02T17:24:42.349Z"
   },
   {
    "duration": 17,
    "start_time": "2022-05-02T17:24:42.364Z"
   },
   {
    "duration": 15,
    "start_time": "2022-05-02T17:24:42.383Z"
   },
   {
    "duration": 21,
    "start_time": "2022-05-02T17:24:42.399Z"
   },
   {
    "duration": 19,
    "start_time": "2022-05-02T17:24:42.422Z"
   },
   {
    "duration": 14,
    "start_time": "2022-05-02T17:24:42.443Z"
   },
   {
    "duration": 16,
    "start_time": "2022-05-02T17:24:42.459Z"
   },
   {
    "duration": 20,
    "start_time": "2022-05-02T17:24:42.477Z"
   },
   {
    "duration": 23,
    "start_time": "2022-05-02T17:24:42.499Z"
   },
   {
    "duration": 6,
    "start_time": "2022-05-02T17:28:55.637Z"
   },
   {
    "duration": 5,
    "start_time": "2022-05-02T17:29:04.588Z"
   },
   {
    "duration": 5,
    "start_time": "2022-05-02T17:29:07.663Z"
   },
   {
    "duration": 6,
    "start_time": "2022-05-02T17:29:12.033Z"
   },
   {
    "duration": 6,
    "start_time": "2022-05-02T17:29:15.817Z"
   },
   {
    "duration": 6,
    "start_time": "2022-05-02T17:29:20.021Z"
   },
   {
    "duration": 7,
    "start_time": "2022-05-02T17:29:45.569Z"
   },
   {
    "duration": 6,
    "start_time": "2022-05-02T17:29:53.681Z"
   },
   {
    "duration": 1182,
    "start_time": "2022-05-02T17:30:47.816Z"
   },
   {
    "duration": 458,
    "start_time": "2022-05-02T17:30:49.000Z"
   },
   {
    "duration": 13,
    "start_time": "2022-05-02T17:30:49.459Z"
   },
   {
    "duration": 28,
    "start_time": "2022-05-02T17:30:49.474Z"
   },
   {
    "duration": 16,
    "start_time": "2022-05-02T17:30:49.503Z"
   },
   {
    "duration": 52,
    "start_time": "2022-05-02T17:30:49.521Z"
   },
   {
    "duration": 5,
    "start_time": "2022-05-02T17:30:49.575Z"
   },
   {
    "duration": 27,
    "start_time": "2022-05-02T17:30:49.582Z"
   },
   {
    "duration": 11,
    "start_time": "2022-05-02T17:30:49.611Z"
   },
   {
    "duration": 22,
    "start_time": "2022-05-02T17:30:49.627Z"
   },
   {
    "duration": 11,
    "start_time": "2022-05-02T17:30:49.651Z"
   },
   {
    "duration": 51,
    "start_time": "2022-05-02T17:30:49.663Z"
   },
   {
    "duration": 12,
    "start_time": "2022-05-02T17:30:49.716Z"
   },
   {
    "duration": 20,
    "start_time": "2022-05-02T17:30:49.730Z"
   },
   {
    "duration": 6,
    "start_time": "2022-05-02T17:30:49.752Z"
   },
   {
    "duration": 52,
    "start_time": "2022-05-02T17:30:49.759Z"
   },
   {
    "duration": 10,
    "start_time": "2022-05-02T17:30:49.814Z"
   },
   {
    "duration": 11,
    "start_time": "2022-05-02T17:30:49.826Z"
   },
   {
    "duration": 12,
    "start_time": "2022-05-02T17:30:49.839Z"
   },
   {
    "duration": 14,
    "start_time": "2022-05-02T17:30:49.853Z"
   },
   {
    "duration": 8,
    "start_time": "2022-05-02T17:30:49.869Z"
   },
   {
    "duration": 36,
    "start_time": "2022-05-02T17:30:49.878Z"
   },
   {
    "duration": 8,
    "start_time": "2022-05-02T17:30:49.917Z"
   },
   {
    "duration": 5,
    "start_time": "2022-05-02T17:30:49.927Z"
   },
   {
    "duration": 9,
    "start_time": "2022-05-02T17:30:49.934Z"
   },
   {
    "duration": 7,
    "start_time": "2022-05-02T17:30:49.945Z"
   },
   {
    "duration": 9,
    "start_time": "2022-05-02T17:30:49.954Z"
   },
   {
    "duration": 130,
    "start_time": "2022-05-02T17:30:49.968Z"
   },
   {
    "duration": 21,
    "start_time": "2022-05-02T17:30:50.107Z"
   },
   {
    "duration": 3,
    "start_time": "2022-05-02T17:30:50.129Z"
   },
   {
    "duration": 33,
    "start_time": "2022-05-02T17:30:50.134Z"
   },
   {
    "duration": 17,
    "start_time": "2022-05-02T17:30:50.168Z"
   },
   {
    "duration": 420,
    "start_time": "2022-05-02T17:30:50.210Z"
   },
   {
    "duration": 10,
    "start_time": "2022-05-02T17:30:50.631Z"
   },
   {
    "duration": 397,
    "start_time": "2022-05-02T17:30:50.642Z"
   },
   {
    "duration": 10,
    "start_time": "2022-05-02T17:30:51.041Z"
   },
   {
    "duration": 15,
    "start_time": "2022-05-02T17:30:51.052Z"
   },
   {
    "duration": 70,
    "start_time": "2022-05-02T17:30:51.069Z"
   },
   {
    "duration": 14,
    "start_time": "2022-05-02T17:30:51.141Z"
   },
   {
    "duration": 8,
    "start_time": "2022-05-02T17:30:51.157Z"
   },
   {
    "duration": 80,
    "start_time": "2022-05-02T17:30:51.166Z"
   },
   {
    "duration": 20,
    "start_time": "2022-05-02T17:30:51.248Z"
   },
   {
    "duration": 14,
    "start_time": "2022-05-02T17:30:51.270Z"
   },
   {
    "duration": 215,
    "start_time": "2022-05-02T17:30:51.307Z"
   },
   {
    "duration": 8,
    "start_time": "2022-05-02T17:30:51.524Z"
   },
   {
    "duration": 11,
    "start_time": "2022-05-02T17:30:51.534Z"
   },
   {
    "duration": 27,
    "start_time": "2022-05-02T17:30:51.547Z"
   },
   {
    "duration": 37,
    "start_time": "2022-05-02T17:30:51.575Z"
   },
   {
    "duration": 13,
    "start_time": "2022-05-02T17:30:51.614Z"
   },
   {
    "duration": 29,
    "start_time": "2022-05-02T17:30:51.629Z"
   },
   {
    "duration": 94,
    "start_time": "2022-05-02T17:30:51.659Z"
   },
   {
    "duration": 9,
    "start_time": "2022-05-02T17:30:51.754Z"
   },
   {
    "duration": 25,
    "start_time": "2022-05-02T17:30:51.765Z"
   },
   {
    "duration": 50,
    "start_time": "2022-05-02T17:30:51.792Z"
   },
   {
    "duration": 10,
    "start_time": "2022-05-02T17:30:51.844Z"
   },
   {
    "duration": 11,
    "start_time": "2022-05-02T17:30:51.855Z"
   },
   {
    "duration": 9,
    "start_time": "2022-05-02T17:30:51.868Z"
   },
   {
    "duration": 49,
    "start_time": "2022-05-02T17:30:51.878Z"
   },
   {
    "duration": 35,
    "start_time": "2022-05-02T17:30:51.929Z"
   },
   {
    "duration": 63,
    "start_time": "2022-05-02T17:30:51.966Z"
   },
   {
    "duration": 4,
    "start_time": "2022-05-02T17:30:52.031Z"
   },
   {
    "duration": 5,
    "start_time": "2022-05-02T17:30:52.036Z"
   },
   {
    "duration": 106,
    "start_time": "2022-05-02T17:30:52.042Z"
   },
   {
    "duration": 6,
    "start_time": "2022-05-02T17:30:52.150Z"
   },
   {
    "duration": 16,
    "start_time": "2022-05-02T17:30:52.157Z"
   },
   {
    "duration": 24,
    "start_time": "2022-05-02T17:30:52.175Z"
   },
   {
    "duration": 243,
    "start_time": "2022-05-02T17:30:52.208Z"
   },
   {
    "duration": 6,
    "start_time": "2022-05-02T17:30:52.452Z"
   },
   {
    "duration": 18,
    "start_time": "2022-05-02T17:30:52.459Z"
   },
   {
    "duration": 44,
    "start_time": "2022-05-02T17:30:52.479Z"
   },
   {
    "duration": 6,
    "start_time": "2022-05-02T17:30:52.525Z"
   },
   {
    "duration": 6,
    "start_time": "2022-05-02T17:30:52.533Z"
   },
   {
    "duration": 5,
    "start_time": "2022-05-02T17:30:52.540Z"
   },
   {
    "duration": 502,
    "start_time": "2022-05-02T17:30:52.547Z"
   },
   {
    "duration": 278,
    "start_time": "2022-05-02T17:30:53.051Z"
   },
   {
    "duration": 208,
    "start_time": "2022-05-02T17:30:53.331Z"
   },
   {
    "duration": 17,
    "start_time": "2022-05-02T17:30:53.540Z"
   },
   {
    "duration": 83,
    "start_time": "2022-05-02T17:30:53.558Z"
   },
   {
    "duration": 6,
    "start_time": "2022-05-02T17:30:53.642Z"
   },
   {
    "duration": 7,
    "start_time": "2022-05-02T17:30:53.650Z"
   },
   {
    "duration": 64,
    "start_time": "2022-05-02T17:30:53.658Z"
   },
   {
    "duration": 1123,
    "start_time": "2022-05-02T17:30:53.728Z"
   },
   {
    "duration": 635,
    "start_time": "2022-05-02T17:30:54.853Z"
   },
   {
    "duration": 196,
    "start_time": "2022-05-02T17:30:55.489Z"
   },
   {
    "duration": 477,
    "start_time": "2022-05-02T17:30:55.687Z"
   },
   {
    "duration": 304,
    "start_time": "2022-05-02T17:30:56.166Z"
   },
   {
    "duration": 297,
    "start_time": "2022-05-02T17:30:56.472Z"
   },
   {
    "duration": 6,
    "start_time": "2022-05-02T17:30:56.771Z"
   },
   {
    "duration": 7,
    "start_time": "2022-05-02T17:30:56.779Z"
   },
   {
    "duration": 28,
    "start_time": "2022-05-02T17:30:56.788Z"
   },
   {
    "duration": 10,
    "start_time": "2022-05-02T17:30:56.818Z"
   },
   {
    "duration": 7,
    "start_time": "2022-05-02T17:30:56.830Z"
   },
   {
    "duration": 7,
    "start_time": "2022-05-02T17:30:56.839Z"
   },
   {
    "duration": 6,
    "start_time": "2022-05-02T17:30:56.848Z"
   },
   {
    "duration": 6,
    "start_time": "2022-05-02T17:30:56.856Z"
   },
   {
    "duration": 56,
    "start_time": "2022-05-02T17:30:56.864Z"
   },
   {
    "duration": 13,
    "start_time": "2022-05-02T17:30:56.922Z"
   },
   {
    "duration": 111,
    "start_time": "2022-05-02T17:36:30.762Z"
   },
   {
    "duration": 9,
    "start_time": "2022-05-02T17:36:38.124Z"
   },
   {
    "duration": 1051,
    "start_time": "2022-05-02T17:37:02.697Z"
   },
   {
    "duration": 1186,
    "start_time": "2022-05-02T17:37:20.400Z"
   },
   {
    "duration": 989,
    "start_time": "2022-05-02T17:37:46.677Z"
   },
   {
    "duration": 1177,
    "start_time": "2022-05-02T17:39:10.780Z"
   },
   {
    "duration": 4,
    "start_time": "2022-05-02T17:39:39.191Z"
   },
   {
    "duration": 5,
    "start_time": "2022-05-02T17:40:30.867Z"
   },
   {
    "duration": 4,
    "start_time": "2022-05-02T17:40:38.278Z"
   },
   {
    "duration": 240,
    "start_time": "2022-05-02T17:48:46.920Z"
   },
   {
    "duration": 231,
    "start_time": "2022-05-02T17:49:22.768Z"
   },
   {
    "duration": 327,
    "start_time": "2022-05-02T17:50:39.783Z"
   },
   {
    "duration": 228,
    "start_time": "2022-05-02T17:51:31.001Z"
   },
   {
    "duration": 228,
    "start_time": "2022-05-02T17:51:53.050Z"
   },
   {
    "duration": 227,
    "start_time": "2022-05-02T17:52:16.116Z"
   },
   {
    "duration": 322,
    "start_time": "2022-05-02T17:52:52.283Z"
   },
   {
    "duration": 274,
    "start_time": "2022-05-02T17:52:59.328Z"
   },
   {
    "duration": 252,
    "start_time": "2022-05-02T17:53:18.351Z"
   },
   {
    "duration": 236,
    "start_time": "2022-05-02T17:53:34.730Z"
   },
   {
    "duration": 237,
    "start_time": "2022-05-02T17:53:49.877Z"
   },
   {
    "duration": 341,
    "start_time": "2022-05-02T17:54:01.230Z"
   },
   {
    "duration": 231,
    "start_time": "2022-05-02T17:54:20.245Z"
   },
   {
    "duration": 1146,
    "start_time": "2022-05-02T17:56:28.223Z"
   },
   {
    "duration": 436,
    "start_time": "2022-05-02T17:56:29.371Z"
   },
   {
    "duration": 14,
    "start_time": "2022-05-02T17:56:29.809Z"
   },
   {
    "duration": 28,
    "start_time": "2022-05-02T17:56:29.825Z"
   },
   {
    "duration": 6,
    "start_time": "2022-05-02T17:56:29.856Z"
   },
   {
    "duration": 68,
    "start_time": "2022-05-02T17:56:29.864Z"
   },
   {
    "duration": 5,
    "start_time": "2022-05-02T17:56:29.934Z"
   },
   {
    "duration": 9,
    "start_time": "2022-05-02T17:56:29.941Z"
   },
   {
    "duration": 11,
    "start_time": "2022-05-02T17:56:29.951Z"
   },
   {
    "duration": 57,
    "start_time": "2022-05-02T17:56:29.963Z"
   },
   {
    "duration": 6,
    "start_time": "2022-05-02T17:56:30.022Z"
   },
   {
    "duration": 31,
    "start_time": "2022-05-02T17:56:30.030Z"
   },
   {
    "duration": 8,
    "start_time": "2022-05-02T17:56:30.063Z"
   },
   {
    "duration": 49,
    "start_time": "2022-05-02T17:56:30.075Z"
   },
   {
    "duration": 6,
    "start_time": "2022-05-02T17:56:30.125Z"
   },
   {
    "duration": 30,
    "start_time": "2022-05-02T17:56:30.133Z"
   },
   {
    "duration": 8,
    "start_time": "2022-05-02T17:56:30.164Z"
   },
   {
    "duration": 21,
    "start_time": "2022-05-02T17:56:30.174Z"
   },
   {
    "duration": 10,
    "start_time": "2022-05-02T17:56:30.207Z"
   },
   {
    "duration": 14,
    "start_time": "2022-05-02T17:56:30.219Z"
   },
   {
    "duration": 7,
    "start_time": "2022-05-02T17:56:30.234Z"
   },
   {
    "duration": 10,
    "start_time": "2022-05-02T17:56:30.243Z"
   },
   {
    "duration": 8,
    "start_time": "2022-05-02T17:56:30.255Z"
   },
   {
    "duration": 9,
    "start_time": "2022-05-02T17:56:30.264Z"
   },
   {
    "duration": 34,
    "start_time": "2022-05-02T17:56:30.275Z"
   },
   {
    "duration": 7,
    "start_time": "2022-05-02T17:56:30.311Z"
   },
   {
    "duration": 6,
    "start_time": "2022-05-02T17:56:30.320Z"
   },
   {
    "duration": 11,
    "start_time": "2022-05-02T17:56:30.327Z"
   },
   {
    "duration": 126,
    "start_time": "2022-05-02T17:56:30.340Z"
   },
   {
    "duration": 15,
    "start_time": "2022-05-02T17:56:30.467Z"
   },
   {
    "duration": 2,
    "start_time": "2022-05-02T17:56:30.484Z"
   },
   {
    "duration": 47,
    "start_time": "2022-05-02T17:56:30.488Z"
   },
   {
    "duration": 17,
    "start_time": "2022-05-02T17:56:30.537Z"
   },
   {
    "duration": 417,
    "start_time": "2022-05-02T17:56:30.555Z"
   },
   {
    "duration": 10,
    "start_time": "2022-05-02T17:56:30.974Z"
   },
   {
    "duration": 398,
    "start_time": "2022-05-02T17:56:30.986Z"
   },
   {
    "duration": 20,
    "start_time": "2022-05-02T17:56:31.387Z"
   },
   {
    "duration": 15,
    "start_time": "2022-05-02T17:56:31.409Z"
   },
   {
    "duration": 49,
    "start_time": "2022-05-02T17:56:31.426Z"
   },
   {
    "duration": 40,
    "start_time": "2022-05-02T17:56:31.477Z"
   },
   {
    "duration": 8,
    "start_time": "2022-05-02T17:56:31.523Z"
   },
   {
    "duration": 59,
    "start_time": "2022-05-02T17:56:31.533Z"
   },
   {
    "duration": 31,
    "start_time": "2022-05-02T17:56:31.594Z"
   },
   {
    "duration": 16,
    "start_time": "2022-05-02T17:56:31.627Z"
   },
   {
    "duration": 226,
    "start_time": "2022-05-02T17:56:31.645Z"
   },
   {
    "duration": 8,
    "start_time": "2022-05-02T17:56:31.873Z"
   },
   {
    "duration": 25,
    "start_time": "2022-05-02T17:56:31.883Z"
   },
   {
    "duration": 29,
    "start_time": "2022-05-02T17:56:31.910Z"
   },
   {
    "duration": 7,
    "start_time": "2022-05-02T17:56:31.941Z"
   },
   {
    "duration": 8,
    "start_time": "2022-05-02T17:56:31.950Z"
   },
   {
    "duration": 55,
    "start_time": "2022-05-02T17:56:31.960Z"
   },
   {
    "duration": 62,
    "start_time": "2022-05-02T17:56:32.017Z"
   },
   {
    "duration": 27,
    "start_time": "2022-05-02T17:56:32.081Z"
   },
   {
    "duration": 25,
    "start_time": "2022-05-02T17:56:32.109Z"
   },
   {
    "duration": 31,
    "start_time": "2022-05-02T17:56:32.136Z"
   },
   {
    "duration": 9,
    "start_time": "2022-05-02T17:56:32.168Z"
   },
   {
    "duration": 33,
    "start_time": "2022-05-02T17:56:32.179Z"
   },
   {
    "duration": 8,
    "start_time": "2022-05-02T17:56:32.214Z"
   },
   {
    "duration": 22,
    "start_time": "2022-05-02T17:56:32.223Z"
   },
   {
    "duration": 32,
    "start_time": "2022-05-02T17:56:32.247Z"
   },
   {
    "duration": 57,
    "start_time": "2022-05-02T17:56:32.281Z"
   },
   {
    "duration": 5,
    "start_time": "2022-05-02T17:56:32.339Z"
   },
   {
    "duration": 6,
    "start_time": "2022-05-02T17:56:32.345Z"
   },
   {
    "duration": 112,
    "start_time": "2022-05-02T17:56:32.353Z"
   },
   {
    "duration": 5,
    "start_time": "2022-05-02T17:56:32.467Z"
   },
   {
    "duration": 16,
    "start_time": "2022-05-02T17:56:32.473Z"
   },
   {
    "duration": 22,
    "start_time": "2022-05-02T17:56:32.491Z"
   },
   {
    "duration": 234,
    "start_time": "2022-05-02T17:56:32.515Z"
   },
   {
    "duration": 5,
    "start_time": "2022-05-02T17:56:32.751Z"
   },
   {
    "duration": 19,
    "start_time": "2022-05-02T17:56:32.757Z"
   },
   {
    "duration": 39,
    "start_time": "2022-05-02T17:56:32.778Z"
   },
   {
    "duration": 6,
    "start_time": "2022-05-02T17:56:32.819Z"
   },
   {
    "duration": 6,
    "start_time": "2022-05-02T17:56:32.827Z"
   },
   {
    "duration": 6,
    "start_time": "2022-05-02T17:56:32.835Z"
   },
   {
    "duration": 457,
    "start_time": "2022-05-02T17:56:32.843Z"
   },
   {
    "duration": 265,
    "start_time": "2022-05-02T17:56:33.302Z"
   },
   {
    "duration": 201,
    "start_time": "2022-05-02T17:56:33.568Z"
   },
   {
    "duration": 18,
    "start_time": "2022-05-02T17:56:33.770Z"
   },
   {
    "duration": 30,
    "start_time": "2022-05-02T17:56:33.790Z"
   },
   {
    "duration": 6,
    "start_time": "2022-05-02T17:56:33.822Z"
   },
   {
    "duration": 6,
    "start_time": "2022-05-02T17:56:33.830Z"
   },
   {
    "duration": 6,
    "start_time": "2022-05-02T17:56:33.838Z"
   },
   {
    "duration": 530,
    "start_time": "2022-05-02T17:56:33.845Z"
   },
   {
    "duration": 343,
    "start_time": "2022-05-02T17:56:34.377Z"
   },
   {
    "duration": 184,
    "start_time": "2022-05-02T17:56:34.722Z"
   },
   {
    "duration": 421,
    "start_time": "2022-05-02T17:56:34.908Z"
   },
   {
    "duration": 284,
    "start_time": "2022-05-02T17:56:35.331Z"
   },
   {
    "duration": 286,
    "start_time": "2022-05-02T17:56:35.617Z"
   },
   {
    "duration": 6,
    "start_time": "2022-05-02T17:56:35.908Z"
   },
   {
    "duration": 16,
    "start_time": "2022-05-02T17:56:35.916Z"
   },
   {
    "duration": 13,
    "start_time": "2022-05-02T17:56:35.934Z"
   },
   {
    "duration": 24,
    "start_time": "2022-05-02T17:56:35.949Z"
   },
   {
    "duration": 25,
    "start_time": "2022-05-02T17:56:35.975Z"
   },
   {
    "duration": 22,
    "start_time": "2022-05-02T17:56:36.002Z"
   },
   {
    "duration": 6,
    "start_time": "2022-05-02T17:56:36.026Z"
   },
   {
    "duration": 23,
    "start_time": "2022-05-02T17:56:36.034Z"
   },
   {
    "duration": 13,
    "start_time": "2022-05-02T17:56:36.059Z"
   },
   {
    "duration": 21,
    "start_time": "2022-05-02T17:56:36.073Z"
   }
  ],
  "kernelspec": {
   "display_name": "Python 3 (ipykernel)",
   "language": "python",
   "name": "python3"
  },
  "language_info": {
   "codemirror_mode": {
    "name": "ipython",
    "version": 3
   },
   "file_extension": ".py",
   "mimetype": "text/x-python",
   "name": "python",
   "nbconvert_exporter": "python",
   "pygments_lexer": "ipython3",
   "version": "3.9.7"
  },
  "toc": {
   "base_numbering": 1,
   "nav_menu": {},
   "number_sections": true,
   "sideBar": true,
   "skip_h1_title": true,
   "title_cell": "Table of Contents",
   "title_sidebar": "Contents",
   "toc_cell": false,
   "toc_position": {
    "height": "calc(100% - 180px)",
    "left": "10px",
    "top": "150px",
    "width": "286.2px"
   },
   "toc_section_display": true,
   "toc_window_display": true
  }
 },
 "nbformat": 4,
 "nbformat_minor": 2
}
