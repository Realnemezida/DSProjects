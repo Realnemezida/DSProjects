{
 "cells": [
  {
   "cell_type": "markdown",
   "metadata": {},
   "source": [
    "# Определение стоимости автомобилей"
   ]
  },
  {
   "cell_type": "markdown",
   "metadata": {},
   "source": [
    "Сервис по продаже автомобилей с пробегом «Не бит, не крашен» разрабатывает приложение для привлечения новых клиентов. В нём можно быстро узнать рыночную стоимость своего автомобиля. В вашем распоряжении исторические данные: технические характеристики, комплектации и цены автомобилей. Вам нужно построить модель для определения стоимости. \n",
    "\n",
    "Заказчику важны:\n",
    "\n",
    "- качество предсказания;\n",
    "- скорость предсказания;\n",
    "- время обучения."
   ]
  },
  {
   "cell_type": "markdown",
   "metadata": {},
   "source": [
    "**Описание данных:**\n",
    "\n",
    "Датасет содержит исторические данные: технические характеристики, комплектации и цены автомобилей. \n",
    "\n",
    "Необходимо построить модель для определения стоимости.\n",
    "\n",
    "Признаки:\n",
    "- DateCrawled — дата скачивания анкеты из базы\n",
    "- VehicleType — тип автомобильного кузова\n",
    "- RegistrationYear — год регистрации автомобиля\n",
    "- Gearbox — тип коробки передач\n",
    "- Power — мощность (л. с.)\n",
    "- Model — модель автомобиля\n",
    "- Kilometer — пробег (км)\n",
    "- RegistrationMonth — месяц регистрации автомобиля\n",
    "- FuelType — тип топлива\n",
    "- Brand — марка автомобиля\n",
    "- NotRepaired — была машина в ремонте или нет\n",
    "- DateCreated — дата создания анкеты\n",
    "- NumberOfPictures — количество фотографий автомобиля\n",
    "- PostalCode — почтовый индекс владельца анкеты (пользователя)\n",
    "- LastSeen — дата последней активности пользователя\n",
    "\n",
    "Целевой признак:\n",
    "- Price — цена (евро)"
   ]
  },
  {
   "cell_type": "markdown",
   "metadata": {},
   "source": [
    "## Подготовка данных"
   ]
  },
  {
   "cell_type": "code",
   "execution_count": 1,
   "metadata": {},
   "outputs": [],
   "source": [
    "import pandas as pd #импорт библиотек\n",
    "\n",
    "import numpy as np\n",
    "\n",
    "import lightgbm as lgb\n",
    "\n",
    "from catboost import CatBoostRegressor\n",
    "\n",
    "import matplotlib.pyplot as plt\n",
    "\n",
    "from sklearn.compose import ColumnTransformer\n",
    "from sklearn.dummy import DummyRegressor\n",
    "from sklearn.ensemble import RandomForestRegressor\n",
    "from sklearn.linear_model import LinearRegression\n",
    "from sklearn.metrics import mean_squared_error\n",
    "from sklearn.model_selection import train_test_split\n",
    "from sklearn.model_selection import GridSearchCV\n",
    "from sklearn.tree import DecisionTreeRegressor\n",
    "from sklearn.pipeline import Pipeline\n",
    "from sklearn.preprocessing import OneHotEncoder\n",
    "from sklearn.preprocessing import OrdinalEncoder\n",
    "from sklearn.preprocessing import StandardScaler\n",
    "\n",
    "\n",
    "import warnings\n",
    "warnings.filterwarnings(\"ignore\")"
   ]
  },
  {
   "cell_type": "code",
   "execution_count": 2,
   "metadata": {},
   "outputs": [],
   "source": [
    "try: # чтение файла с сайта\n",
    "    df = pd.read_csv('/datasets/autos.csv')\n",
    "except: # чтение файла локально\n",
    "    df = pd.read_csv('datasets\\\\autos.csv')"
   ]
  },
  {
   "cell_type": "markdown",
   "metadata": {},
   "source": [
    "### Обзор данных"
   ]
  },
  {
   "cell_type": "code",
   "execution_count": 3,
   "metadata": {},
   "outputs": [
    {
     "data": {
      "text/html": [
       "<div>\n",
       "<style scoped>\n",
       "    .dataframe tbody tr th:only-of-type {\n",
       "        vertical-align: middle;\n",
       "    }\n",
       "\n",
       "    .dataframe tbody tr th {\n",
       "        vertical-align: top;\n",
       "    }\n",
       "\n",
       "    .dataframe thead th {\n",
       "        text-align: right;\n",
       "    }\n",
       "</style>\n",
       "<table border=\"1\" class=\"dataframe\">\n",
       "  <thead>\n",
       "    <tr style=\"text-align: right;\">\n",
       "      <th></th>\n",
       "      <th>DateCrawled</th>\n",
       "      <th>Price</th>\n",
       "      <th>VehicleType</th>\n",
       "      <th>RegistrationYear</th>\n",
       "      <th>Gearbox</th>\n",
       "      <th>Power</th>\n",
       "      <th>Model</th>\n",
       "      <th>Kilometer</th>\n",
       "      <th>RegistrationMonth</th>\n",
       "      <th>FuelType</th>\n",
       "      <th>Brand</th>\n",
       "      <th>NotRepaired</th>\n",
       "      <th>DateCreated</th>\n",
       "      <th>NumberOfPictures</th>\n",
       "      <th>PostalCode</th>\n",
       "      <th>LastSeen</th>\n",
       "    </tr>\n",
       "  </thead>\n",
       "  <tbody>\n",
       "    <tr>\n",
       "      <th>0</th>\n",
       "      <td>2016-03-24 11:52:17</td>\n",
       "      <td>480</td>\n",
       "      <td>NaN</td>\n",
       "      <td>1993</td>\n",
       "      <td>manual</td>\n",
       "      <td>0</td>\n",
       "      <td>golf</td>\n",
       "      <td>150000</td>\n",
       "      <td>0</td>\n",
       "      <td>petrol</td>\n",
       "      <td>volkswagen</td>\n",
       "      <td>NaN</td>\n",
       "      <td>2016-03-24 00:00:00</td>\n",
       "      <td>0</td>\n",
       "      <td>70435</td>\n",
       "      <td>2016-04-07 03:16:57</td>\n",
       "    </tr>\n",
       "    <tr>\n",
       "      <th>1</th>\n",
       "      <td>2016-03-24 10:58:45</td>\n",
       "      <td>18300</td>\n",
       "      <td>coupe</td>\n",
       "      <td>2011</td>\n",
       "      <td>manual</td>\n",
       "      <td>190</td>\n",
       "      <td>NaN</td>\n",
       "      <td>125000</td>\n",
       "      <td>5</td>\n",
       "      <td>gasoline</td>\n",
       "      <td>audi</td>\n",
       "      <td>yes</td>\n",
       "      <td>2016-03-24 00:00:00</td>\n",
       "      <td>0</td>\n",
       "      <td>66954</td>\n",
       "      <td>2016-04-07 01:46:50</td>\n",
       "    </tr>\n",
       "    <tr>\n",
       "      <th>2</th>\n",
       "      <td>2016-03-14 12:52:21</td>\n",
       "      <td>9800</td>\n",
       "      <td>suv</td>\n",
       "      <td>2004</td>\n",
       "      <td>auto</td>\n",
       "      <td>163</td>\n",
       "      <td>grand</td>\n",
       "      <td>125000</td>\n",
       "      <td>8</td>\n",
       "      <td>gasoline</td>\n",
       "      <td>jeep</td>\n",
       "      <td>NaN</td>\n",
       "      <td>2016-03-14 00:00:00</td>\n",
       "      <td>0</td>\n",
       "      <td>90480</td>\n",
       "      <td>2016-04-05 12:47:46</td>\n",
       "    </tr>\n",
       "    <tr>\n",
       "      <th>3</th>\n",
       "      <td>2016-03-17 16:54:04</td>\n",
       "      <td>1500</td>\n",
       "      <td>small</td>\n",
       "      <td>2001</td>\n",
       "      <td>manual</td>\n",
       "      <td>75</td>\n",
       "      <td>golf</td>\n",
       "      <td>150000</td>\n",
       "      <td>6</td>\n",
       "      <td>petrol</td>\n",
       "      <td>volkswagen</td>\n",
       "      <td>no</td>\n",
       "      <td>2016-03-17 00:00:00</td>\n",
       "      <td>0</td>\n",
       "      <td>91074</td>\n",
       "      <td>2016-03-17 17:40:17</td>\n",
       "    </tr>\n",
       "    <tr>\n",
       "      <th>4</th>\n",
       "      <td>2016-03-31 17:25:20</td>\n",
       "      <td>3600</td>\n",
       "      <td>small</td>\n",
       "      <td>2008</td>\n",
       "      <td>manual</td>\n",
       "      <td>69</td>\n",
       "      <td>fabia</td>\n",
       "      <td>90000</td>\n",
       "      <td>7</td>\n",
       "      <td>gasoline</td>\n",
       "      <td>skoda</td>\n",
       "      <td>no</td>\n",
       "      <td>2016-03-31 00:00:00</td>\n",
       "      <td>0</td>\n",
       "      <td>60437</td>\n",
       "      <td>2016-04-06 10:17:21</td>\n",
       "    </tr>\n",
       "  </tbody>\n",
       "</table>\n",
       "</div>"
      ],
      "text/plain": [
       "           DateCrawled  Price VehicleType  RegistrationYear Gearbox  Power  \\\n",
       "0  2016-03-24 11:52:17    480         NaN              1993  manual      0   \n",
       "1  2016-03-24 10:58:45  18300       coupe              2011  manual    190   \n",
       "2  2016-03-14 12:52:21   9800         suv              2004    auto    163   \n",
       "3  2016-03-17 16:54:04   1500       small              2001  manual     75   \n",
       "4  2016-03-31 17:25:20   3600       small              2008  manual     69   \n",
       "\n",
       "   Model  Kilometer  RegistrationMonth  FuelType       Brand NotRepaired  \\\n",
       "0   golf     150000                  0    petrol  volkswagen         NaN   \n",
       "1    NaN     125000                  5  gasoline        audi         yes   \n",
       "2  grand     125000                  8  gasoline        jeep         NaN   \n",
       "3   golf     150000                  6    petrol  volkswagen          no   \n",
       "4  fabia      90000                  7  gasoline       skoda          no   \n",
       "\n",
       "           DateCreated  NumberOfPictures  PostalCode             LastSeen  \n",
       "0  2016-03-24 00:00:00                 0       70435  2016-04-07 03:16:57  \n",
       "1  2016-03-24 00:00:00                 0       66954  2016-04-07 01:46:50  \n",
       "2  2016-03-14 00:00:00                 0       90480  2016-04-05 12:47:46  \n",
       "3  2016-03-17 00:00:00                 0       91074  2016-03-17 17:40:17  \n",
       "4  2016-03-31 00:00:00                 0       60437  2016-04-06 10:17:21  "
      ]
     },
     "metadata": {},
     "output_type": "display_data"
    },
    {
     "name": "stdout",
     "output_type": "stream",
     "text": [
      "--------------------------------------\n",
      "Размер:\n",
      "(354369, 16)\n",
      "--------------------------------------\n",
      "Информация:\n",
      "<class 'pandas.core.frame.DataFrame'>\n",
      "RangeIndex: 354369 entries, 0 to 354368\n",
      "Data columns (total 16 columns):\n",
      " #   Column             Non-Null Count   Dtype \n",
      "---  ------             --------------   ----- \n",
      " 0   DateCrawled        354369 non-null  object\n",
      " 1   Price              354369 non-null  int64 \n",
      " 2   VehicleType        316879 non-null  object\n",
      " 3   RegistrationYear   354369 non-null  int64 \n",
      " 4   Gearbox            334536 non-null  object\n",
      " 5   Power              354369 non-null  int64 \n",
      " 6   Model              334664 non-null  object\n",
      " 7   Kilometer          354369 non-null  int64 \n",
      " 8   RegistrationMonth  354369 non-null  int64 \n",
      " 9   FuelType           321474 non-null  object\n",
      " 10  Brand              354369 non-null  object\n",
      " 11  NotRepaired        283215 non-null  object\n",
      " 12  DateCreated        354369 non-null  object\n",
      " 13  NumberOfPictures   354369 non-null  int64 \n",
      " 14  PostalCode         354369 non-null  int64 \n",
      " 15  LastSeen           354369 non-null  object\n",
      "dtypes: int64(7), object(9)\n",
      "memory usage: 43.3+ MB\n",
      "None\n",
      "--------------------------------------\n",
      "Дубликаты:\n",
      "4\n",
      "--------------------------------------\n",
      "Пропуски:\n",
      "DateCrawled              0\n",
      "Price                    0\n",
      "VehicleType          37490\n",
      "RegistrationYear         0\n",
      "Gearbox              19833\n",
      "Power                    0\n",
      "Model                19705\n",
      "Kilometer                0\n",
      "RegistrationMonth        0\n",
      "FuelType             32895\n",
      "Brand                    0\n",
      "NotRepaired          71154\n",
      "DateCreated              0\n",
      "NumberOfPictures         0\n",
      "PostalCode               0\n",
      "LastSeen                 0\n",
      "dtype: int64\n",
      "--------------------------------------\n",
      "Описание данных:\n"
     ]
    },
    {
     "data": {
      "text/html": [
       "<div>\n",
       "<style scoped>\n",
       "    .dataframe tbody tr th:only-of-type {\n",
       "        vertical-align: middle;\n",
       "    }\n",
       "\n",
       "    .dataframe tbody tr th {\n",
       "        vertical-align: top;\n",
       "    }\n",
       "\n",
       "    .dataframe thead th {\n",
       "        text-align: right;\n",
       "    }\n",
       "</style>\n",
       "<table border=\"1\" class=\"dataframe\">\n",
       "  <thead>\n",
       "    <tr style=\"text-align: right;\">\n",
       "      <th></th>\n",
       "      <th>DateCrawled</th>\n",
       "      <th>Price</th>\n",
       "      <th>VehicleType</th>\n",
       "      <th>RegistrationYear</th>\n",
       "      <th>Gearbox</th>\n",
       "      <th>Power</th>\n",
       "      <th>Model</th>\n",
       "      <th>Kilometer</th>\n",
       "      <th>RegistrationMonth</th>\n",
       "      <th>FuelType</th>\n",
       "      <th>Brand</th>\n",
       "      <th>NotRepaired</th>\n",
       "      <th>DateCreated</th>\n",
       "      <th>NumberOfPictures</th>\n",
       "      <th>PostalCode</th>\n",
       "      <th>LastSeen</th>\n",
       "    </tr>\n",
       "  </thead>\n",
       "  <tbody>\n",
       "    <tr>\n",
       "      <th>count</th>\n",
       "      <td>354369</td>\n",
       "      <td>354369.000000</td>\n",
       "      <td>316879</td>\n",
       "      <td>354369.000000</td>\n",
       "      <td>334536</td>\n",
       "      <td>354369.000000</td>\n",
       "      <td>334664</td>\n",
       "      <td>354369.000000</td>\n",
       "      <td>354369.000000</td>\n",
       "      <td>321474</td>\n",
       "      <td>354369</td>\n",
       "      <td>283215</td>\n",
       "      <td>354369</td>\n",
       "      <td>354369.0</td>\n",
       "      <td>354369.000000</td>\n",
       "      <td>354369</td>\n",
       "    </tr>\n",
       "    <tr>\n",
       "      <th>unique</th>\n",
       "      <td>271174</td>\n",
       "      <td>NaN</td>\n",
       "      <td>8</td>\n",
       "      <td>NaN</td>\n",
       "      <td>2</td>\n",
       "      <td>NaN</td>\n",
       "      <td>250</td>\n",
       "      <td>NaN</td>\n",
       "      <td>NaN</td>\n",
       "      <td>7</td>\n",
       "      <td>40</td>\n",
       "      <td>2</td>\n",
       "      <td>109</td>\n",
       "      <td>NaN</td>\n",
       "      <td>NaN</td>\n",
       "      <td>179150</td>\n",
       "    </tr>\n",
       "    <tr>\n",
       "      <th>top</th>\n",
       "      <td>2016-03-24 14:49:47</td>\n",
       "      <td>NaN</td>\n",
       "      <td>sedan</td>\n",
       "      <td>NaN</td>\n",
       "      <td>manual</td>\n",
       "      <td>NaN</td>\n",
       "      <td>golf</td>\n",
       "      <td>NaN</td>\n",
       "      <td>NaN</td>\n",
       "      <td>petrol</td>\n",
       "      <td>volkswagen</td>\n",
       "      <td>no</td>\n",
       "      <td>2016-04-03 00:00:00</td>\n",
       "      <td>NaN</td>\n",
       "      <td>NaN</td>\n",
       "      <td>2016-04-06 13:45:54</td>\n",
       "    </tr>\n",
       "    <tr>\n",
       "      <th>freq</th>\n",
       "      <td>7</td>\n",
       "      <td>NaN</td>\n",
       "      <td>91457</td>\n",
       "      <td>NaN</td>\n",
       "      <td>268251</td>\n",
       "      <td>NaN</td>\n",
       "      <td>29232</td>\n",
       "      <td>NaN</td>\n",
       "      <td>NaN</td>\n",
       "      <td>216352</td>\n",
       "      <td>77013</td>\n",
       "      <td>247161</td>\n",
       "      <td>13719</td>\n",
       "      <td>NaN</td>\n",
       "      <td>NaN</td>\n",
       "      <td>17</td>\n",
       "    </tr>\n",
       "    <tr>\n",
       "      <th>mean</th>\n",
       "      <td>NaN</td>\n",
       "      <td>4416.656776</td>\n",
       "      <td>NaN</td>\n",
       "      <td>2004.234448</td>\n",
       "      <td>NaN</td>\n",
       "      <td>110.094337</td>\n",
       "      <td>NaN</td>\n",
       "      <td>128211.172535</td>\n",
       "      <td>5.714645</td>\n",
       "      <td>NaN</td>\n",
       "      <td>NaN</td>\n",
       "      <td>NaN</td>\n",
       "      <td>NaN</td>\n",
       "      <td>0.0</td>\n",
       "      <td>50508.689087</td>\n",
       "      <td>NaN</td>\n",
       "    </tr>\n",
       "    <tr>\n",
       "      <th>std</th>\n",
       "      <td>NaN</td>\n",
       "      <td>4514.158514</td>\n",
       "      <td>NaN</td>\n",
       "      <td>90.227958</td>\n",
       "      <td>NaN</td>\n",
       "      <td>189.850405</td>\n",
       "      <td>NaN</td>\n",
       "      <td>37905.341530</td>\n",
       "      <td>3.726421</td>\n",
       "      <td>NaN</td>\n",
       "      <td>NaN</td>\n",
       "      <td>NaN</td>\n",
       "      <td>NaN</td>\n",
       "      <td>0.0</td>\n",
       "      <td>25783.096248</td>\n",
       "      <td>NaN</td>\n",
       "    </tr>\n",
       "    <tr>\n",
       "      <th>min</th>\n",
       "      <td>NaN</td>\n",
       "      <td>0.000000</td>\n",
       "      <td>NaN</td>\n",
       "      <td>1000.000000</td>\n",
       "      <td>NaN</td>\n",
       "      <td>0.000000</td>\n",
       "      <td>NaN</td>\n",
       "      <td>5000.000000</td>\n",
       "      <td>0.000000</td>\n",
       "      <td>NaN</td>\n",
       "      <td>NaN</td>\n",
       "      <td>NaN</td>\n",
       "      <td>NaN</td>\n",
       "      <td>0.0</td>\n",
       "      <td>1067.000000</td>\n",
       "      <td>NaN</td>\n",
       "    </tr>\n",
       "    <tr>\n",
       "      <th>25%</th>\n",
       "      <td>NaN</td>\n",
       "      <td>1050.000000</td>\n",
       "      <td>NaN</td>\n",
       "      <td>1999.000000</td>\n",
       "      <td>NaN</td>\n",
       "      <td>69.000000</td>\n",
       "      <td>NaN</td>\n",
       "      <td>125000.000000</td>\n",
       "      <td>3.000000</td>\n",
       "      <td>NaN</td>\n",
       "      <td>NaN</td>\n",
       "      <td>NaN</td>\n",
       "      <td>NaN</td>\n",
       "      <td>0.0</td>\n",
       "      <td>30165.000000</td>\n",
       "      <td>NaN</td>\n",
       "    </tr>\n",
       "    <tr>\n",
       "      <th>50%</th>\n",
       "      <td>NaN</td>\n",
       "      <td>2700.000000</td>\n",
       "      <td>NaN</td>\n",
       "      <td>2003.000000</td>\n",
       "      <td>NaN</td>\n",
       "      <td>105.000000</td>\n",
       "      <td>NaN</td>\n",
       "      <td>150000.000000</td>\n",
       "      <td>6.000000</td>\n",
       "      <td>NaN</td>\n",
       "      <td>NaN</td>\n",
       "      <td>NaN</td>\n",
       "      <td>NaN</td>\n",
       "      <td>0.0</td>\n",
       "      <td>49413.000000</td>\n",
       "      <td>NaN</td>\n",
       "    </tr>\n",
       "    <tr>\n",
       "      <th>75%</th>\n",
       "      <td>NaN</td>\n",
       "      <td>6400.000000</td>\n",
       "      <td>NaN</td>\n",
       "      <td>2008.000000</td>\n",
       "      <td>NaN</td>\n",
       "      <td>143.000000</td>\n",
       "      <td>NaN</td>\n",
       "      <td>150000.000000</td>\n",
       "      <td>9.000000</td>\n",
       "      <td>NaN</td>\n",
       "      <td>NaN</td>\n",
       "      <td>NaN</td>\n",
       "      <td>NaN</td>\n",
       "      <td>0.0</td>\n",
       "      <td>71083.000000</td>\n",
       "      <td>NaN</td>\n",
       "    </tr>\n",
       "    <tr>\n",
       "      <th>max</th>\n",
       "      <td>NaN</td>\n",
       "      <td>20000.000000</td>\n",
       "      <td>NaN</td>\n",
       "      <td>9999.000000</td>\n",
       "      <td>NaN</td>\n",
       "      <td>20000.000000</td>\n",
       "      <td>NaN</td>\n",
       "      <td>150000.000000</td>\n",
       "      <td>12.000000</td>\n",
       "      <td>NaN</td>\n",
       "      <td>NaN</td>\n",
       "      <td>NaN</td>\n",
       "      <td>NaN</td>\n",
       "      <td>0.0</td>\n",
       "      <td>99998.000000</td>\n",
       "      <td>NaN</td>\n",
       "    </tr>\n",
       "  </tbody>\n",
       "</table>\n",
       "</div>"
      ],
      "text/plain": [
       "                DateCrawled          Price VehicleType  RegistrationYear  \\\n",
       "count                354369  354369.000000      316879     354369.000000   \n",
       "unique               271174            NaN           8               NaN   \n",
       "top     2016-03-24 14:49:47            NaN       sedan               NaN   \n",
       "freq                      7            NaN       91457               NaN   \n",
       "mean                    NaN    4416.656776         NaN       2004.234448   \n",
       "std                     NaN    4514.158514         NaN         90.227958   \n",
       "min                     NaN       0.000000         NaN       1000.000000   \n",
       "25%                     NaN    1050.000000         NaN       1999.000000   \n",
       "50%                     NaN    2700.000000         NaN       2003.000000   \n",
       "75%                     NaN    6400.000000         NaN       2008.000000   \n",
       "max                     NaN   20000.000000         NaN       9999.000000   \n",
       "\n",
       "       Gearbox          Power   Model      Kilometer  RegistrationMonth  \\\n",
       "count   334536  354369.000000  334664  354369.000000      354369.000000   \n",
       "unique       2            NaN     250            NaN                NaN   \n",
       "top     manual            NaN    golf            NaN                NaN   \n",
       "freq    268251            NaN   29232            NaN                NaN   \n",
       "mean       NaN     110.094337     NaN  128211.172535           5.714645   \n",
       "std        NaN     189.850405     NaN   37905.341530           3.726421   \n",
       "min        NaN       0.000000     NaN    5000.000000           0.000000   \n",
       "25%        NaN      69.000000     NaN  125000.000000           3.000000   \n",
       "50%        NaN     105.000000     NaN  150000.000000           6.000000   \n",
       "75%        NaN     143.000000     NaN  150000.000000           9.000000   \n",
       "max        NaN   20000.000000     NaN  150000.000000          12.000000   \n",
       "\n",
       "       FuelType       Brand NotRepaired          DateCreated  \\\n",
       "count    321474      354369      283215               354369   \n",
       "unique        7          40           2                  109   \n",
       "top      petrol  volkswagen          no  2016-04-03 00:00:00   \n",
       "freq     216352       77013      247161                13719   \n",
       "mean        NaN         NaN         NaN                  NaN   \n",
       "std         NaN         NaN         NaN                  NaN   \n",
       "min         NaN         NaN         NaN                  NaN   \n",
       "25%         NaN         NaN         NaN                  NaN   \n",
       "50%         NaN         NaN         NaN                  NaN   \n",
       "75%         NaN         NaN         NaN                  NaN   \n",
       "max         NaN         NaN         NaN                  NaN   \n",
       "\n",
       "        NumberOfPictures     PostalCode             LastSeen  \n",
       "count           354369.0  354369.000000               354369  \n",
       "unique               NaN            NaN               179150  \n",
       "top                  NaN            NaN  2016-04-06 13:45:54  \n",
       "freq                 NaN            NaN                   17  \n",
       "mean                 0.0   50508.689087                  NaN  \n",
       "std                  0.0   25783.096248                  NaN  \n",
       "min                  0.0    1067.000000                  NaN  \n",
       "25%                  0.0   30165.000000                  NaN  \n",
       "50%                  0.0   49413.000000                  NaN  \n",
       "75%                  0.0   71083.000000                  NaN  \n",
       "max                  0.0   99998.000000                  NaN  "
      ]
     },
     "metadata": {},
     "output_type": "display_data"
    }
   ],
   "source": [
    "display(df.head())\n",
    "print('--------------------------------------')\n",
    "print('Размер:')\n",
    "print(df.shape)\n",
    "print('--------------------------------------')\n",
    "print('Информация:')\n",
    "print(df.info())\n",
    "print('--------------------------------------')\n",
    "print('Дубликаты:')\n",
    "print(df.duplicated().sum())\n",
    "print('--------------------------------------')\n",
    "print('Пропуски:')\n",
    "print(df.isna().sum())\n",
    "print('--------------------------------------')\n",
    "print('Описание данных:')\n",
    "display(df.describe(include='all'))"
   ]
  },
  {
   "cell_type": "markdown",
   "metadata": {},
   "source": [
    "По описанию данных, названия столбцов написаны в \"верблюжьем регистре\". Проверим. "
   ]
  },
  {
   "cell_type": "code",
   "execution_count": 4,
   "metadata": {
    "scrolled": true
   },
   "outputs": [
    {
     "data": {
      "text/plain": [
       "Index(['DateCrawled', 'Price', 'VehicleType', 'RegistrationYear', 'Gearbox',\n",
       "       'Power', 'Model', 'Kilometer', 'RegistrationMonth', 'FuelType', 'Brand',\n",
       "       'NotRepaired', 'DateCreated', 'NumberOfPictures', 'PostalCode',\n",
       "       'LastSeen'],\n",
       "      dtype='object')"
      ]
     },
     "execution_count": 4,
     "metadata": {},
     "output_type": "execute_result"
    }
   ],
   "source": [
    "df.columns"
   ]
  },
  {
   "cell_type": "markdown",
   "metadata": {},
   "source": [
    "Названия столбцов заменим на 'змеиный регистр'."
   ]
  },
  {
   "cell_type": "code",
   "execution_count": 5,
   "metadata": {},
   "outputs": [
    {
     "data": {
      "text/plain": [
       "Index(['date_crawled', 'price', 'vehicle_type', 'registration_year', 'gearbox',\n",
       "       'power', 'model', 'kilometer', 'registration_month', 'fuel_type',\n",
       "       'brand', 'not_repaired', 'date_created', 'number_of_pictures',\n",
       "       'postal_code', 'last_seen'],\n",
       "      dtype='object')"
      ]
     },
     "execution_count": 5,
     "metadata": {},
     "output_type": "execute_result"
    }
   ],
   "source": [
    "df.columns = df.columns.str.replace(r\"([A-Z])\", r\" \\1\").str.lower().str.replace(' ', '_').str[1:]\n",
    "df.columns # проверка"
   ]
  },
  {
   "cell_type": "markdown",
   "metadata": {},
   "source": [
    "Посмотрим на дубликаты:"
   ]
  },
  {
   "cell_type": "code",
   "execution_count": 6,
   "metadata": {},
   "outputs": [
    {
     "data": {
      "text/html": [
       "<div>\n",
       "<style scoped>\n",
       "    .dataframe tbody tr th:only-of-type {\n",
       "        vertical-align: middle;\n",
       "    }\n",
       "\n",
       "    .dataframe tbody tr th {\n",
       "        vertical-align: top;\n",
       "    }\n",
       "\n",
       "    .dataframe thead th {\n",
       "        text-align: right;\n",
       "    }\n",
       "</style>\n",
       "<table border=\"1\" class=\"dataframe\">\n",
       "  <thead>\n",
       "    <tr style=\"text-align: right;\">\n",
       "      <th></th>\n",
       "      <th>date_crawled</th>\n",
       "      <th>price</th>\n",
       "      <th>vehicle_type</th>\n",
       "      <th>registration_year</th>\n",
       "      <th>gearbox</th>\n",
       "      <th>power</th>\n",
       "      <th>model</th>\n",
       "      <th>kilometer</th>\n",
       "      <th>registration_month</th>\n",
       "      <th>fuel_type</th>\n",
       "      <th>brand</th>\n",
       "      <th>not_repaired</th>\n",
       "      <th>date_created</th>\n",
       "      <th>number_of_pictures</th>\n",
       "      <th>postal_code</th>\n",
       "      <th>last_seen</th>\n",
       "    </tr>\n",
       "  </thead>\n",
       "  <tbody>\n",
       "    <tr>\n",
       "      <th>90964</th>\n",
       "      <td>2016-03-28 00:56:10</td>\n",
       "      <td>1000</td>\n",
       "      <td>small</td>\n",
       "      <td>2002</td>\n",
       "      <td>manual</td>\n",
       "      <td>83</td>\n",
       "      <td>other</td>\n",
       "      <td>150000</td>\n",
       "      <td>1</td>\n",
       "      <td>petrol</td>\n",
       "      <td>suzuki</td>\n",
       "      <td>no</td>\n",
       "      <td>2016-03-28 00:00:00</td>\n",
       "      <td>0</td>\n",
       "      <td>66589</td>\n",
       "      <td>2016-03-28 08:46:21</td>\n",
       "    </tr>\n",
       "    <tr>\n",
       "      <th>231258</th>\n",
       "      <td>2016-03-28 00:56:10</td>\n",
       "      <td>1000</td>\n",
       "      <td>small</td>\n",
       "      <td>2002</td>\n",
       "      <td>manual</td>\n",
       "      <td>83</td>\n",
       "      <td>other</td>\n",
       "      <td>150000</td>\n",
       "      <td>1</td>\n",
       "      <td>petrol</td>\n",
       "      <td>suzuki</td>\n",
       "      <td>no</td>\n",
       "      <td>2016-03-28 00:00:00</td>\n",
       "      <td>0</td>\n",
       "      <td>66589</td>\n",
       "      <td>2016-03-28 08:46:21</td>\n",
       "    </tr>\n",
       "    <tr>\n",
       "      <th>88087</th>\n",
       "      <td>2016-03-08 18:42:48</td>\n",
       "      <td>1799</td>\n",
       "      <td>coupe</td>\n",
       "      <td>1999</td>\n",
       "      <td>auto</td>\n",
       "      <td>193</td>\n",
       "      <td>clk</td>\n",
       "      <td>20000</td>\n",
       "      <td>7</td>\n",
       "      <td>petrol</td>\n",
       "      <td>mercedes_benz</td>\n",
       "      <td>no</td>\n",
       "      <td>2016-03-08 00:00:00</td>\n",
       "      <td>0</td>\n",
       "      <td>89518</td>\n",
       "      <td>2016-03-09 09:46:57</td>\n",
       "    </tr>\n",
       "    <tr>\n",
       "      <th>171088</th>\n",
       "      <td>2016-03-08 18:42:48</td>\n",
       "      <td>1799</td>\n",
       "      <td>coupe</td>\n",
       "      <td>1999</td>\n",
       "      <td>auto</td>\n",
       "      <td>193</td>\n",
       "      <td>clk</td>\n",
       "      <td>20000</td>\n",
       "      <td>7</td>\n",
       "      <td>petrol</td>\n",
       "      <td>mercedes_benz</td>\n",
       "      <td>no</td>\n",
       "      <td>2016-03-08 00:00:00</td>\n",
       "      <td>0</td>\n",
       "      <td>89518</td>\n",
       "      <td>2016-03-09 09:46:57</td>\n",
       "    </tr>\n",
       "    <tr>\n",
       "      <th>41529</th>\n",
       "      <td>2016-03-18 18:46:15</td>\n",
       "      <td>1999</td>\n",
       "      <td>wagon</td>\n",
       "      <td>2001</td>\n",
       "      <td>manual</td>\n",
       "      <td>131</td>\n",
       "      <td>passat</td>\n",
       "      <td>150000</td>\n",
       "      <td>7</td>\n",
       "      <td>gasoline</td>\n",
       "      <td>volkswagen</td>\n",
       "      <td>no</td>\n",
       "      <td>2016-03-18 00:00:00</td>\n",
       "      <td>0</td>\n",
       "      <td>36391</td>\n",
       "      <td>2016-03-18 18:46:15</td>\n",
       "    </tr>\n",
       "    <tr>\n",
       "      <th>325651</th>\n",
       "      <td>2016-03-18 18:46:15</td>\n",
       "      <td>1999</td>\n",
       "      <td>wagon</td>\n",
       "      <td>2001</td>\n",
       "      <td>manual</td>\n",
       "      <td>131</td>\n",
       "      <td>passat</td>\n",
       "      <td>150000</td>\n",
       "      <td>7</td>\n",
       "      <td>gasoline</td>\n",
       "      <td>volkswagen</td>\n",
       "      <td>no</td>\n",
       "      <td>2016-03-18 00:00:00</td>\n",
       "      <td>0</td>\n",
       "      <td>36391</td>\n",
       "      <td>2016-03-18 18:46:15</td>\n",
       "    </tr>\n",
       "    <tr>\n",
       "      <th>187735</th>\n",
       "      <td>2016-04-03 09:01:15</td>\n",
       "      <td>4699</td>\n",
       "      <td>coupe</td>\n",
       "      <td>2003</td>\n",
       "      <td>auto</td>\n",
       "      <td>218</td>\n",
       "      <td>clk</td>\n",
       "      <td>125000</td>\n",
       "      <td>6</td>\n",
       "      <td>petrol</td>\n",
       "      <td>mercedes_benz</td>\n",
       "      <td>yes</td>\n",
       "      <td>2016-04-03 00:00:00</td>\n",
       "      <td>0</td>\n",
       "      <td>75196</td>\n",
       "      <td>2016-04-07 09:44:54</td>\n",
       "    </tr>\n",
       "    <tr>\n",
       "      <th>258109</th>\n",
       "      <td>2016-04-03 09:01:15</td>\n",
       "      <td>4699</td>\n",
       "      <td>coupe</td>\n",
       "      <td>2003</td>\n",
       "      <td>auto</td>\n",
       "      <td>218</td>\n",
       "      <td>clk</td>\n",
       "      <td>125000</td>\n",
       "      <td>6</td>\n",
       "      <td>petrol</td>\n",
       "      <td>mercedes_benz</td>\n",
       "      <td>yes</td>\n",
       "      <td>2016-04-03 00:00:00</td>\n",
       "      <td>0</td>\n",
       "      <td>75196</td>\n",
       "      <td>2016-04-07 09:44:54</td>\n",
       "    </tr>\n",
       "  </tbody>\n",
       "</table>\n",
       "</div>"
      ],
      "text/plain": [
       "               date_crawled  price vehicle_type  registration_year gearbox  \\\n",
       "90964   2016-03-28 00:56:10   1000        small               2002  manual   \n",
       "231258  2016-03-28 00:56:10   1000        small               2002  manual   \n",
       "88087   2016-03-08 18:42:48   1799        coupe               1999    auto   \n",
       "171088  2016-03-08 18:42:48   1799        coupe               1999    auto   \n",
       "41529   2016-03-18 18:46:15   1999        wagon               2001  manual   \n",
       "325651  2016-03-18 18:46:15   1999        wagon               2001  manual   \n",
       "187735  2016-04-03 09:01:15   4699        coupe               2003    auto   \n",
       "258109  2016-04-03 09:01:15   4699        coupe               2003    auto   \n",
       "\n",
       "        power   model  kilometer  registration_month fuel_type          brand  \\\n",
       "90964      83   other     150000                   1    petrol         suzuki   \n",
       "231258     83   other     150000                   1    petrol         suzuki   \n",
       "88087     193     clk      20000                   7    petrol  mercedes_benz   \n",
       "171088    193     clk      20000                   7    petrol  mercedes_benz   \n",
       "41529     131  passat     150000                   7  gasoline     volkswagen   \n",
       "325651    131  passat     150000                   7  gasoline     volkswagen   \n",
       "187735    218     clk     125000                   6    petrol  mercedes_benz   \n",
       "258109    218     clk     125000                   6    petrol  mercedes_benz   \n",
       "\n",
       "       not_repaired         date_created  number_of_pictures  postal_code  \\\n",
       "90964            no  2016-03-28 00:00:00                   0        66589   \n",
       "231258           no  2016-03-28 00:00:00                   0        66589   \n",
       "88087            no  2016-03-08 00:00:00                   0        89518   \n",
       "171088           no  2016-03-08 00:00:00                   0        89518   \n",
       "41529            no  2016-03-18 00:00:00                   0        36391   \n",
       "325651           no  2016-03-18 00:00:00                   0        36391   \n",
       "187735          yes  2016-04-03 00:00:00                   0        75196   \n",
       "258109          yes  2016-04-03 00:00:00                   0        75196   \n",
       "\n",
       "                  last_seen  \n",
       "90964   2016-03-28 08:46:21  \n",
       "231258  2016-03-28 08:46:21  \n",
       "88087   2016-03-09 09:46:57  \n",
       "171088  2016-03-09 09:46:57  \n",
       "41529   2016-03-18 18:46:15  \n",
       "325651  2016-03-18 18:46:15  \n",
       "187735  2016-04-07 09:44:54  \n",
       "258109  2016-04-07 09:44:54  "
      ]
     },
     "execution_count": 6,
     "metadata": {},
     "output_type": "execute_result"
    }
   ],
   "source": [
    "df[df.duplicated(keep=False)].sort_values(by = 'price')"
   ]
  },
  {
   "cell_type": "markdown",
   "metadata": {},
   "source": [
    "Восемь строк, четыре дубликата. Кажется, их можно безболезненно удалить."
   ]
  },
  {
   "cell_type": "code",
   "execution_count": 7,
   "metadata": {},
   "outputs": [
    {
     "data": {
      "text/plain": [
       "0"
      ]
     },
     "execution_count": 7,
     "metadata": {},
     "output_type": "execute_result"
    }
   ],
   "source": [
    "df = df.drop_duplicates().reset_index(drop=True)\n",
    "df.duplicated().sum()  # проверка"
   ]
  },
  {
   "cell_type": "markdown",
   "metadata": {},
   "source": [
    "### Удаление колонок."
   ]
  },
  {
   "cell_type": "markdown",
   "metadata": {},
   "source": [
    "#### Столбцы \"date_crawled\", \"date_created\", \"last_seen\""
   ]
  },
  {
   "cell_type": "markdown",
   "metadata": {},
   "source": [
    "Столбцы с датами обычно нужно преобразовать в формат даты и времени. \n",
    "\n",
    "Но дата скачивания данных из базы, дата последней активности пользователя и дата создания анкеты не влияют на цену автомобиля. Эти столбцы следует удалить."
   ]
  },
  {
   "cell_type": "code",
   "execution_count": 8,
   "metadata": {},
   "outputs": [
    {
     "data": {
      "text/plain": [
       "Index(['price', 'vehicle_type', 'registration_year', 'gearbox', 'power',\n",
       "       'model', 'kilometer', 'registration_month', 'fuel_type', 'brand',\n",
       "       'not_repaired', 'number_of_pictures', 'postal_code'],\n",
       "      dtype='object')"
      ]
     },
     "execution_count": 8,
     "metadata": {},
     "output_type": "execute_result"
    }
   ],
   "source": [
    "df = df.drop(['date_crawled', 'date_created', 'last_seen'], axis=1)\n",
    "df.columns"
   ]
  },
  {
   "cell_type": "markdown",
   "metadata": {},
   "source": [
    "#### Столбец \"postal_code\""
   ]
  },
  {
   "cell_type": "markdown",
   "metadata": {},
   "source": [
    "Почтовый индекс не может влиять на стоимость автомобиля. \n",
    "\n",
    "Удаляем этот столбец."
   ]
  },
  {
   "cell_type": "code",
   "execution_count": 9,
   "metadata": {},
   "outputs": [
    {
     "data": {
      "text/plain": [
       "Index(['price', 'vehicle_type', 'registration_year', 'gearbox', 'power',\n",
       "       'model', 'kilometer', 'registration_month', 'fuel_type', 'brand',\n",
       "       'not_repaired', 'number_of_pictures'],\n",
       "      dtype='object')"
      ]
     },
     "execution_count": 9,
     "metadata": {},
     "output_type": "execute_result"
    }
   ],
   "source": [
    "df = df.drop('postal_code', axis=1)\n",
    "df.columns"
   ]
  },
  {
   "cell_type": "markdown",
   "metadata": {},
   "source": [
    "Неинформативные столбцы  удалены."
   ]
  },
  {
   "cell_type": "markdown",
   "metadata": {},
   "source": [
    "### Заполнение пропусков"
   ]
  },
  {
   "cell_type": "markdown",
   "metadata": {},
   "source": [
    "#### Столбец \"vehicle_type\"."
   ]
  },
  {
   "cell_type": "markdown",
   "metadata": {},
   "source": [
    "Посмотрим, какие значения встречаются в столбце:"
   ]
  },
  {
   "cell_type": "code",
   "execution_count": 10,
   "metadata": {
    "scrolled": true
   },
   "outputs": [
    {
     "data": {
      "text/plain": [
       "array([nan, 'coupe', 'suv', 'small', 'sedan', 'convertible', 'bus',\n",
       "       'wagon', 'other'], dtype=object)"
      ]
     },
     "execution_count": 10,
     "metadata": {},
     "output_type": "execute_result"
    }
   ],
   "source": [
    "df['vehicle_type'].unique()"
   ]
  },
  {
   "cell_type": "markdown",
   "metadata": {},
   "source": [
    "Значений не много, это упрощает задачу."
   ]
  },
  {
   "cell_type": "markdown",
   "metadata": {},
   "source": [
    "Посмотрим на примеры пропусков:"
   ]
  },
  {
   "cell_type": "code",
   "execution_count": 11,
   "metadata": {},
   "outputs": [
    {
     "data": {
      "text/html": [
       "<div>\n",
       "<style scoped>\n",
       "    .dataframe tbody tr th:only-of-type {\n",
       "        vertical-align: middle;\n",
       "    }\n",
       "\n",
       "    .dataframe tbody tr th {\n",
       "        vertical-align: top;\n",
       "    }\n",
       "\n",
       "    .dataframe thead th {\n",
       "        text-align: right;\n",
       "    }\n",
       "</style>\n",
       "<table border=\"1\" class=\"dataframe\">\n",
       "  <thead>\n",
       "    <tr style=\"text-align: right;\">\n",
       "      <th></th>\n",
       "      <th>price</th>\n",
       "      <th>vehicle_type</th>\n",
       "      <th>registration_year</th>\n",
       "      <th>gearbox</th>\n",
       "      <th>power</th>\n",
       "      <th>model</th>\n",
       "      <th>kilometer</th>\n",
       "      <th>registration_month</th>\n",
       "      <th>fuel_type</th>\n",
       "      <th>brand</th>\n",
       "      <th>not_repaired</th>\n",
       "      <th>number_of_pictures</th>\n",
       "    </tr>\n",
       "  </thead>\n",
       "  <tbody>\n",
       "    <tr>\n",
       "      <th>0</th>\n",
       "      <td>480</td>\n",
       "      <td>NaN</td>\n",
       "      <td>1993</td>\n",
       "      <td>manual</td>\n",
       "      <td>0</td>\n",
       "      <td>golf</td>\n",
       "      <td>150000</td>\n",
       "      <td>0</td>\n",
       "      <td>petrol</td>\n",
       "      <td>volkswagen</td>\n",
       "      <td>NaN</td>\n",
       "      <td>0</td>\n",
       "    </tr>\n",
       "    <tr>\n",
       "      <th>16</th>\n",
       "      <td>300</td>\n",
       "      <td>NaN</td>\n",
       "      <td>2016</td>\n",
       "      <td>NaN</td>\n",
       "      <td>60</td>\n",
       "      <td>polo</td>\n",
       "      <td>150000</td>\n",
       "      <td>0</td>\n",
       "      <td>petrol</td>\n",
       "      <td>volkswagen</td>\n",
       "      <td>NaN</td>\n",
       "      <td>0</td>\n",
       "    </tr>\n",
       "    <tr>\n",
       "      <th>22</th>\n",
       "      <td>2900</td>\n",
       "      <td>NaN</td>\n",
       "      <td>2018</td>\n",
       "      <td>manual</td>\n",
       "      <td>90</td>\n",
       "      <td>meriva</td>\n",
       "      <td>150000</td>\n",
       "      <td>5</td>\n",
       "      <td>petrol</td>\n",
       "      <td>opel</td>\n",
       "      <td>no</td>\n",
       "      <td>0</td>\n",
       "    </tr>\n",
       "    <tr>\n",
       "      <th>26</th>\n",
       "      <td>5555</td>\n",
       "      <td>NaN</td>\n",
       "      <td>2017</td>\n",
       "      <td>manual</td>\n",
       "      <td>125</td>\n",
       "      <td>c4</td>\n",
       "      <td>125000</td>\n",
       "      <td>4</td>\n",
       "      <td>NaN</td>\n",
       "      <td>citroen</td>\n",
       "      <td>no</td>\n",
       "      <td>0</td>\n",
       "    </tr>\n",
       "    <tr>\n",
       "      <th>31</th>\n",
       "      <td>899</td>\n",
       "      <td>NaN</td>\n",
       "      <td>2016</td>\n",
       "      <td>manual</td>\n",
       "      <td>60</td>\n",
       "      <td>clio</td>\n",
       "      <td>150000</td>\n",
       "      <td>6</td>\n",
       "      <td>petrol</td>\n",
       "      <td>renault</td>\n",
       "      <td>NaN</td>\n",
       "      <td>0</td>\n",
       "    </tr>\n",
       "  </tbody>\n",
       "</table>\n",
       "</div>"
      ],
      "text/plain": [
       "    price vehicle_type  registration_year gearbox  power   model  kilometer  \\\n",
       "0     480          NaN               1993  manual      0    golf     150000   \n",
       "16    300          NaN               2016     NaN     60    polo     150000   \n",
       "22   2900          NaN               2018  manual     90  meriva     150000   \n",
       "26   5555          NaN               2017  manual    125      c4     125000   \n",
       "31    899          NaN               2016  manual     60    clio     150000   \n",
       "\n",
       "    registration_month fuel_type       brand not_repaired  number_of_pictures  \n",
       "0                    0    petrol  volkswagen          NaN                   0  \n",
       "16                   0    petrol  volkswagen          NaN                   0  \n",
       "22                   5    petrol        opel           no                   0  \n",
       "26                   4       NaN     citroen           no                   0  \n",
       "31                   6    petrol     renault          NaN                   0  "
      ]
     },
     "execution_count": 11,
     "metadata": {},
     "output_type": "execute_result"
    }
   ],
   "source": [
    "df[df['vehicle_type'].isna()].head()"
   ]
  },
  {
   "cell_type": "markdown",
   "metadata": {},
   "source": [
    "В выборку попали разные автомобили. Посмотрим на нескольких примерах, можно ли по модели однозначно определить тип кузова:"
   ]
  },
  {
   "cell_type": "code",
   "execution_count": 12,
   "metadata": {
    "scrolled": true
   },
   "outputs": [
    {
     "data": {
      "text/html": [
       "<div>\n",
       "<style scoped>\n",
       "    .dataframe tbody tr th:only-of-type {\n",
       "        vertical-align: middle;\n",
       "    }\n",
       "\n",
       "    .dataframe tbody tr th {\n",
       "        vertical-align: top;\n",
       "    }\n",
       "\n",
       "    .dataframe thead th {\n",
       "        text-align: right;\n",
       "    }\n",
       "</style>\n",
       "<table border=\"1\" class=\"dataframe\">\n",
       "  <thead>\n",
       "    <tr style=\"text-align: right;\">\n",
       "      <th></th>\n",
       "      <th>price</th>\n",
       "      <th>vehicle_type</th>\n",
       "      <th>registration_year</th>\n",
       "      <th>gearbox</th>\n",
       "      <th>power</th>\n",
       "      <th>model</th>\n",
       "      <th>kilometer</th>\n",
       "      <th>registration_month</th>\n",
       "      <th>fuel_type</th>\n",
       "      <th>brand</th>\n",
       "      <th>not_repaired</th>\n",
       "      <th>number_of_pictures</th>\n",
       "    </tr>\n",
       "  </thead>\n",
       "  <tbody>\n",
       "    <tr>\n",
       "      <th>22</th>\n",
       "      <td>2900</td>\n",
       "      <td>NaN</td>\n",
       "      <td>2018</td>\n",
       "      <td>manual</td>\n",
       "      <td>90</td>\n",
       "      <td>meriva</td>\n",
       "      <td>150000</td>\n",
       "      <td>5</td>\n",
       "      <td>petrol</td>\n",
       "      <td>opel</td>\n",
       "      <td>no</td>\n",
       "      <td>0</td>\n",
       "    </tr>\n",
       "    <tr>\n",
       "      <th>152</th>\n",
       "      <td>0</td>\n",
       "      <td>bus</td>\n",
       "      <td>2004</td>\n",
       "      <td>manual</td>\n",
       "      <td>101</td>\n",
       "      <td>meriva</td>\n",
       "      <td>150000</td>\n",
       "      <td>10</td>\n",
       "      <td>lpg</td>\n",
       "      <td>opel</td>\n",
       "      <td>yes</td>\n",
       "      <td>0</td>\n",
       "    </tr>\n",
       "    <tr>\n",
       "      <th>1066</th>\n",
       "      <td>2250</td>\n",
       "      <td>NaN</td>\n",
       "      <td>2017</td>\n",
       "      <td>manual</td>\n",
       "      <td>90</td>\n",
       "      <td>meriva</td>\n",
       "      <td>150000</td>\n",
       "      <td>10</td>\n",
       "      <td>NaN</td>\n",
       "      <td>opel</td>\n",
       "      <td>NaN</td>\n",
       "      <td>0</td>\n",
       "    </tr>\n",
       "  </tbody>\n",
       "</table>\n",
       "</div>"
      ],
      "text/plain": [
       "      price vehicle_type  registration_year gearbox  power   model  kilometer  \\\n",
       "22     2900          NaN               2018  manual     90  meriva     150000   \n",
       "152       0          bus               2004  manual    101  meriva     150000   \n",
       "1066   2250          NaN               2017  manual     90  meriva     150000   \n",
       "\n",
       "      registration_month fuel_type brand not_repaired  number_of_pictures  \n",
       "22                     5    petrol  opel           no                   0  \n",
       "152                   10       lpg  opel          yes                   0  \n",
       "1066                  10       NaN  opel          NaN                   0  "
      ]
     },
     "metadata": {},
     "output_type": "display_data"
    },
    {
     "name": "stdout",
     "output_type": "stream",
     "text": [
      "Типы кузова: [nan 'bus' 'suv' 'wagon' 'small' 'sedan' 'other' 'coupe']\n"
     ]
    }
   ],
   "source": [
    "display(df[df['model'] == 'meriva'].head(3))\n",
    "print('Типы кузова:', df[df['model'] == 'meriva']['vehicle_type'].unique())"
   ]
  },
  {
   "cell_type": "code",
   "execution_count": 13,
   "metadata": {},
   "outputs": [
    {
     "data": {
      "text/html": [
       "<div>\n",
       "<style scoped>\n",
       "    .dataframe tbody tr th:only-of-type {\n",
       "        vertical-align: middle;\n",
       "    }\n",
       "\n",
       "    .dataframe tbody tr th {\n",
       "        vertical-align: top;\n",
       "    }\n",
       "\n",
       "    .dataframe thead th {\n",
       "        text-align: right;\n",
       "    }\n",
       "</style>\n",
       "<table border=\"1\" class=\"dataframe\">\n",
       "  <thead>\n",
       "    <tr style=\"text-align: right;\">\n",
       "      <th></th>\n",
       "      <th>price</th>\n",
       "      <th>vehicle_type</th>\n",
       "      <th>registration_year</th>\n",
       "      <th>gearbox</th>\n",
       "      <th>power</th>\n",
       "      <th>model</th>\n",
       "      <th>kilometer</th>\n",
       "      <th>registration_month</th>\n",
       "      <th>fuel_type</th>\n",
       "      <th>brand</th>\n",
       "      <th>not_repaired</th>\n",
       "      <th>number_of_pictures</th>\n",
       "    </tr>\n",
       "  </thead>\n",
       "  <tbody>\n",
       "    <tr>\n",
       "      <th>37</th>\n",
       "      <td>1500</td>\n",
       "      <td>NaN</td>\n",
       "      <td>2016</td>\n",
       "      <td>NaN</td>\n",
       "      <td>0</td>\n",
       "      <td>kangoo</td>\n",
       "      <td>150000</td>\n",
       "      <td>1</td>\n",
       "      <td>gasoline</td>\n",
       "      <td>renault</td>\n",
       "      <td>no</td>\n",
       "      <td>0</td>\n",
       "    </tr>\n",
       "    <tr>\n",
       "      <th>333</th>\n",
       "      <td>600</td>\n",
       "      <td>bus</td>\n",
       "      <td>2001</td>\n",
       "      <td>manual</td>\n",
       "      <td>75</td>\n",
       "      <td>kangoo</td>\n",
       "      <td>150000</td>\n",
       "      <td>12</td>\n",
       "      <td>petrol</td>\n",
       "      <td>renault</td>\n",
       "      <td>yes</td>\n",
       "      <td>0</td>\n",
       "    </tr>\n",
       "    <tr>\n",
       "      <th>690</th>\n",
       "      <td>400</td>\n",
       "      <td>NaN</td>\n",
       "      <td>2016</td>\n",
       "      <td>manual</td>\n",
       "      <td>0</td>\n",
       "      <td>kangoo</td>\n",
       "      <td>150000</td>\n",
       "      <td>0</td>\n",
       "      <td>gasoline</td>\n",
       "      <td>renault</td>\n",
       "      <td>yes</td>\n",
       "      <td>0</td>\n",
       "    </tr>\n",
       "  </tbody>\n",
       "</table>\n",
       "</div>"
      ],
      "text/plain": [
       "     price vehicle_type  registration_year gearbox  power   model  kilometer  \\\n",
       "37    1500          NaN               2016     NaN      0  kangoo     150000   \n",
       "333    600          bus               2001  manual     75  kangoo     150000   \n",
       "690    400          NaN               2016  manual      0  kangoo     150000   \n",
       "\n",
       "     registration_month fuel_type    brand not_repaired  number_of_pictures  \n",
       "37                    1  gasoline  renault           no                   0  \n",
       "333                  12    petrol  renault          yes                   0  \n",
       "690                   0  gasoline  renault          yes                   0  "
      ]
     },
     "metadata": {},
     "output_type": "display_data"
    },
    {
     "name": "stdout",
     "output_type": "stream",
     "text": [
      "Типы кузова: [nan 'bus' 'wagon' 'other' 'small' 'sedan' 'suv']\n"
     ]
    }
   ],
   "source": [
    "display(df[df['model'] == 'kangoo'].head(3))\n",
    "print('Типы кузова:', df[df['model'] == 'kangoo']['vehicle_type'].unique())"
   ]
  },
  {
   "cell_type": "code",
   "execution_count": 14,
   "metadata": {},
   "outputs": [
    {
     "data": {
      "text/html": [
       "<div>\n",
       "<style scoped>\n",
       "    .dataframe tbody tr th:only-of-type {\n",
       "        vertical-align: middle;\n",
       "    }\n",
       "\n",
       "    .dataframe tbody tr th {\n",
       "        vertical-align: top;\n",
       "    }\n",
       "\n",
       "    .dataframe thead th {\n",
       "        text-align: right;\n",
       "    }\n",
       "</style>\n",
       "<table border=\"1\" class=\"dataframe\">\n",
       "  <thead>\n",
       "    <tr style=\"text-align: right;\">\n",
       "      <th></th>\n",
       "      <th>price</th>\n",
       "      <th>vehicle_type</th>\n",
       "      <th>registration_year</th>\n",
       "      <th>gearbox</th>\n",
       "      <th>power</th>\n",
       "      <th>model</th>\n",
       "      <th>kilometer</th>\n",
       "      <th>registration_month</th>\n",
       "      <th>fuel_type</th>\n",
       "      <th>brand</th>\n",
       "      <th>not_repaired</th>\n",
       "      <th>number_of_pictures</th>\n",
       "    </tr>\n",
       "  </thead>\n",
       "  <tbody>\n",
       "    <tr>\n",
       "      <th>31</th>\n",
       "      <td>899</td>\n",
       "      <td>NaN</td>\n",
       "      <td>2016</td>\n",
       "      <td>manual</td>\n",
       "      <td>60</td>\n",
       "      <td>clio</td>\n",
       "      <td>150000</td>\n",
       "      <td>6</td>\n",
       "      <td>petrol</td>\n",
       "      <td>renault</td>\n",
       "      <td>NaN</td>\n",
       "      <td>0</td>\n",
       "    </tr>\n",
       "    <tr>\n",
       "      <th>45</th>\n",
       "      <td>590</td>\n",
       "      <td>small</td>\n",
       "      <td>1999</td>\n",
       "      <td>manual</td>\n",
       "      <td>75</td>\n",
       "      <td>clio</td>\n",
       "      <td>125000</td>\n",
       "      <td>8</td>\n",
       "      <td>petrol</td>\n",
       "      <td>renault</td>\n",
       "      <td>no</td>\n",
       "      <td>0</td>\n",
       "    </tr>\n",
       "    <tr>\n",
       "      <th>142</th>\n",
       "      <td>800</td>\n",
       "      <td>small</td>\n",
       "      <td>1998</td>\n",
       "      <td>manual</td>\n",
       "      <td>54</td>\n",
       "      <td>clio</td>\n",
       "      <td>150000</td>\n",
       "      <td>11</td>\n",
       "      <td>petrol</td>\n",
       "      <td>renault</td>\n",
       "      <td>no</td>\n",
       "      <td>0</td>\n",
       "    </tr>\n",
       "  </tbody>\n",
       "</table>\n",
       "</div>"
      ],
      "text/plain": [
       "     price vehicle_type  registration_year gearbox  power model  kilometer  \\\n",
       "31     899          NaN               2016  manual     60  clio     150000   \n",
       "45     590        small               1999  manual     75  clio     125000   \n",
       "142    800        small               1998  manual     54  clio     150000   \n",
       "\n",
       "     registration_month fuel_type    brand not_repaired  number_of_pictures  \n",
       "31                    6    petrol  renault          NaN                   0  \n",
       "45                    8    petrol  renault           no                   0  \n",
       "142                  11    petrol  renault           no                   0  "
      ]
     },
     "metadata": {},
     "output_type": "display_data"
    },
    {
     "name": "stdout",
     "output_type": "stream",
     "text": [
      "Типы кузова: [nan 'small' 'wagon' 'sedan' 'coupe' 'convertible' 'other']\n"
     ]
    }
   ],
   "source": [
    "display(df[df['model'] == 'clio'].head(3))\n",
    "print('Типы кузова:', df[df['model'] == 'clio']['vehicle_type'].unique())"
   ]
  },
  {
   "cell_type": "code",
   "execution_count": 15,
   "metadata": {
    "scrolled": true
   },
   "outputs": [
    {
     "data": {
      "text/html": [
       "<div>\n",
       "<style scoped>\n",
       "    .dataframe tbody tr th:only-of-type {\n",
       "        vertical-align: middle;\n",
       "    }\n",
       "\n",
       "    .dataframe tbody tr th {\n",
       "        vertical-align: top;\n",
       "    }\n",
       "\n",
       "    .dataframe thead th {\n",
       "        text-align: right;\n",
       "    }\n",
       "</style>\n",
       "<table border=\"1\" class=\"dataframe\">\n",
       "  <thead>\n",
       "    <tr style=\"text-align: right;\">\n",
       "      <th></th>\n",
       "      <th>price</th>\n",
       "      <th>vehicle_type</th>\n",
       "      <th>registration_year</th>\n",
       "      <th>gearbox</th>\n",
       "      <th>power</th>\n",
       "      <th>model</th>\n",
       "      <th>kilometer</th>\n",
       "      <th>registration_month</th>\n",
       "      <th>fuel_type</th>\n",
       "      <th>brand</th>\n",
       "      <th>not_repaired</th>\n",
       "      <th>number_of_pictures</th>\n",
       "    </tr>\n",
       "  </thead>\n",
       "  <tbody>\n",
       "    <tr>\n",
       "      <th>729</th>\n",
       "      <td>5000</td>\n",
       "      <td>sedan</td>\n",
       "      <td>2006</td>\n",
       "      <td>manual</td>\n",
       "      <td>185</td>\n",
       "      <td>159</td>\n",
       "      <td>125000</td>\n",
       "      <td>12</td>\n",
       "      <td>NaN</td>\n",
       "      <td>alfa_romeo</td>\n",
       "      <td>no</td>\n",
       "      <td>0</td>\n",
       "    </tr>\n",
       "    <tr>\n",
       "      <th>893</th>\n",
       "      <td>5500</td>\n",
       "      <td>sedan</td>\n",
       "      <td>2006</td>\n",
       "      <td>manual</td>\n",
       "      <td>150</td>\n",
       "      <td>159</td>\n",
       "      <td>150000</td>\n",
       "      <td>11</td>\n",
       "      <td>gasoline</td>\n",
       "      <td>alfa_romeo</td>\n",
       "      <td>no</td>\n",
       "      <td>0</td>\n",
       "    </tr>\n",
       "    <tr>\n",
       "      <th>2528</th>\n",
       "      <td>7250</td>\n",
       "      <td>wagon</td>\n",
       "      <td>2007</td>\n",
       "      <td>manual</td>\n",
       "      <td>150</td>\n",
       "      <td>159</td>\n",
       "      <td>150000</td>\n",
       "      <td>7</td>\n",
       "      <td>gasoline</td>\n",
       "      <td>alfa_romeo</td>\n",
       "      <td>no</td>\n",
       "      <td>0</td>\n",
       "    </tr>\n",
       "  </tbody>\n",
       "</table>\n",
       "</div>"
      ],
      "text/plain": [
       "      price vehicle_type  registration_year gearbox  power model  kilometer  \\\n",
       "729    5000        sedan               2006  manual    185   159     125000   \n",
       "893    5500        sedan               2006  manual    150   159     150000   \n",
       "2528   7250        wagon               2007  manual    150   159     150000   \n",
       "\n",
       "      registration_month fuel_type       brand not_repaired  \\\n",
       "729                   12       NaN  alfa_romeo           no   \n",
       "893                   11  gasoline  alfa_romeo           no   \n",
       "2528                   7  gasoline  alfa_romeo           no   \n",
       "\n",
       "      number_of_pictures  \n",
       "729                    0  \n",
       "893                    0  \n",
       "2528                   0  "
      ]
     },
     "metadata": {},
     "output_type": "display_data"
    },
    {
     "name": "stdout",
     "output_type": "stream",
     "text": [
      "Типы кузова: ['sedan' 'wagon' nan]\n"
     ]
    }
   ],
   "source": [
    "display(df[df['model'] == '159'].head(3))\n",
    "print('Типы кузова:', df[df['model'] == '159']['vehicle_type'].unique())"
   ]
  },
  {
   "cell_type": "markdown",
   "metadata": {},
   "source": [
    "Похоже, у большинство моделей выпускаются в нескольких типах кузова. Посмотрим полный список моделей, у которых только один указанный тип кузова:"
   ]
  },
  {
   "cell_type": "code",
   "execution_count": 16,
   "metadata": {},
   "outputs": [
    {
     "name": "stdout",
     "output_type": "stream",
     "text": [
      "Модель: s60\n",
      "Типы кузова: ['sedan' nan]\n",
      "Модель: cherokee\n",
      "Типы кузова: ['suv' nan]\n",
      "Модель: phaeton\n",
      "Типы кузова: ['sedan' nan]\n",
      "Модель: eos\n",
      "Типы кузова: ['convertible' nan]\n",
      "Модель: captiva\n",
      "Типы кузова: ['suv' nan]\n",
      "Модель: range_rover\n",
      "Типы кузова: ['suv' nan]\n",
      "Модель: serie_3\n",
      "Типы кузова: ['suv' nan]\n",
      "Модель: b_max\n",
      "Типы кузова: ['bus' nan]\n",
      "Модель: serie_1\n",
      "Типы кузова: ['wagon' nan]\n"
     ]
    }
   ],
   "source": [
    "for model in df[df['vehicle_type'].isna()]['model'].unique():\n",
    "    if df[df['model'] == model]['vehicle_type'].nunique() == 1:\n",
    "        print('Модель:', model)\n",
    "        print('Типы кузова:', df[df['model'] == model]['vehicle_type'].unique())"
   ]
  },
  {
   "cell_type": "markdown",
   "metadata": {},
   "source": [
    "Найдены модели автомобилей, у которых можно однозначно определить тип кузова. Заполним пропуски:"
   ]
  },
  {
   "cell_type": "code",
   "execution_count": 17,
   "metadata": {
    "scrolled": true
   },
   "outputs": [
    {
     "name": "stdout",
     "output_type": "stream",
     "text": [
      "Модель: s60\n",
      "Типы кузова: ['sedan']\n",
      "Модель: cherokee\n",
      "Типы кузова: ['suv']\n",
      "Модель: phaeton\n",
      "Типы кузова: ['sedan']\n",
      "Модель: eos\n",
      "Типы кузова: ['convertible']\n",
      "Модель: captiva\n",
      "Типы кузова: ['suv']\n",
      "Модель: range_rover\n",
      "Типы кузова: ['suv']\n",
      "Модель: serie_3\n",
      "Типы кузова: ['suv']\n",
      "Модель: b_max\n",
      "Типы кузова: ['bus']\n",
      "Модель: serie_1\n",
      "Типы кузова: ['wagon']\n"
     ]
    }
   ],
   "source": [
    "for model in df[df['vehicle_type'].isna()]['model'].unique():\n",
    "    if df[df['model'] == model]['vehicle_type'].nunique() == 1:\n",
    "        print('Модель:', model)\n",
    "        df.loc[\n",
    "            df['model'] == model, 'vehicle_type'\n",
    "        ] = df.loc[\n",
    "            df['model'] == model, 'vehicle_type'\n",
    "        ].fillna(df.loc[\n",
    "            df['model'] == model, 'vehicle_type'\n",
    "        ].sort_values().unique()[0])\n",
    "        print('Типы кузова:', df[df['model'] == model]['vehicle_type'].unique())"
   ]
  },
  {
   "cell_type": "code",
   "execution_count": 18,
   "metadata": {},
   "outputs": [
    {
     "data": {
      "text/plain": [
       "37428"
      ]
     },
     "execution_count": 18,
     "metadata": {},
     "output_type": "execute_result"
    }
   ],
   "source": [
    "df['vehicle_type'].isna().sum()"
   ]
  },
  {
   "cell_type": "markdown",
   "metadata": {},
   "source": [
    "Успешно заполнены 37490 - 37428 = 62 пропуска.\n",
    "\n",
    "Остальные пропуски придётся заполнить значением \"unknown\", поскольку заполнить их корректно нет возможности, а модели ML не смогут работать с пропусками."
   ]
  },
  {
   "cell_type": "code",
   "execution_count": 19,
   "metadata": {},
   "outputs": [
    {
     "data": {
      "text/plain": [
       "0"
      ]
     },
     "execution_count": 19,
     "metadata": {},
     "output_type": "execute_result"
    }
   ],
   "source": [
    "df['vehicle_type'] = df['vehicle_type'].fillna('unknown')\n",
    "df['vehicle_type'].isna().sum()"
   ]
  },
  {
   "cell_type": "markdown",
   "metadata": {},
   "source": [
    "#### Столбец \"gearbox\"."
   ]
  },
  {
   "cell_type": "markdown",
   "metadata": {},
   "source": [
    "Посмотрим, какие значения встречаются в столбце:"
   ]
  },
  {
   "cell_type": "code",
   "execution_count": 20,
   "metadata": {
    "scrolled": true
   },
   "outputs": [
    {
     "data": {
      "text/plain": [
       "array(['manual', 'auto', nan], dtype=object)"
      ]
     },
     "execution_count": 20,
     "metadata": {},
     "output_type": "execute_result"
    }
   ],
   "source": [
    "df['gearbox'].unique()"
   ]
  },
  {
   "cell_type": "markdown",
   "metadata": {},
   "source": [
    "Всего два варианта."
   ]
  },
  {
   "cell_type": "markdown",
   "metadata": {},
   "source": [
    "Посмотрим на примеры пропусков:"
   ]
  },
  {
   "cell_type": "code",
   "execution_count": 21,
   "metadata": {},
   "outputs": [
    {
     "data": {
      "text/html": [
       "<div>\n",
       "<style scoped>\n",
       "    .dataframe tbody tr th:only-of-type {\n",
       "        vertical-align: middle;\n",
       "    }\n",
       "\n",
       "    .dataframe tbody tr th {\n",
       "        vertical-align: top;\n",
       "    }\n",
       "\n",
       "    .dataframe thead th {\n",
       "        text-align: right;\n",
       "    }\n",
       "</style>\n",
       "<table border=\"1\" class=\"dataframe\">\n",
       "  <thead>\n",
       "    <tr style=\"text-align: right;\">\n",
       "      <th></th>\n",
       "      <th>price</th>\n",
       "      <th>vehicle_type</th>\n",
       "      <th>registration_year</th>\n",
       "      <th>gearbox</th>\n",
       "      <th>power</th>\n",
       "      <th>model</th>\n",
       "      <th>kilometer</th>\n",
       "      <th>registration_month</th>\n",
       "      <th>fuel_type</th>\n",
       "      <th>brand</th>\n",
       "      <th>not_repaired</th>\n",
       "      <th>number_of_pictures</th>\n",
       "    </tr>\n",
       "  </thead>\n",
       "  <tbody>\n",
       "    <tr>\n",
       "      <th>15</th>\n",
       "      <td>450</td>\n",
       "      <td>small</td>\n",
       "      <td>1910</td>\n",
       "      <td>NaN</td>\n",
       "      <td>0</td>\n",
       "      <td>ka</td>\n",
       "      <td>5000</td>\n",
       "      <td>0</td>\n",
       "      <td>petrol</td>\n",
       "      <td>ford</td>\n",
       "      <td>NaN</td>\n",
       "      <td>0</td>\n",
       "    </tr>\n",
       "    <tr>\n",
       "      <th>16</th>\n",
       "      <td>300</td>\n",
       "      <td>unknown</td>\n",
       "      <td>2016</td>\n",
       "      <td>NaN</td>\n",
       "      <td>60</td>\n",
       "      <td>polo</td>\n",
       "      <td>150000</td>\n",
       "      <td>0</td>\n",
       "      <td>petrol</td>\n",
       "      <td>volkswagen</td>\n",
       "      <td>NaN</td>\n",
       "      <td>0</td>\n",
       "    </tr>\n",
       "    <tr>\n",
       "      <th>32</th>\n",
       "      <td>245</td>\n",
       "      <td>sedan</td>\n",
       "      <td>1994</td>\n",
       "      <td>NaN</td>\n",
       "      <td>0</td>\n",
       "      <td>golf</td>\n",
       "      <td>150000</td>\n",
       "      <td>2</td>\n",
       "      <td>petrol</td>\n",
       "      <td>volkswagen</td>\n",
       "      <td>no</td>\n",
       "      <td>0</td>\n",
       "    </tr>\n",
       "    <tr>\n",
       "      <th>37</th>\n",
       "      <td>1500</td>\n",
       "      <td>unknown</td>\n",
       "      <td>2016</td>\n",
       "      <td>NaN</td>\n",
       "      <td>0</td>\n",
       "      <td>kangoo</td>\n",
       "      <td>150000</td>\n",
       "      <td>1</td>\n",
       "      <td>gasoline</td>\n",
       "      <td>renault</td>\n",
       "      <td>no</td>\n",
       "      <td>0</td>\n",
       "    </tr>\n",
       "    <tr>\n",
       "      <th>40</th>\n",
       "      <td>0</td>\n",
       "      <td>unknown</td>\n",
       "      <td>1990</td>\n",
       "      <td>NaN</td>\n",
       "      <td>0</td>\n",
       "      <td>corsa</td>\n",
       "      <td>150000</td>\n",
       "      <td>1</td>\n",
       "      <td>petrol</td>\n",
       "      <td>opel</td>\n",
       "      <td>NaN</td>\n",
       "      <td>0</td>\n",
       "    </tr>\n",
       "  </tbody>\n",
       "</table>\n",
       "</div>"
      ],
      "text/plain": [
       "    price vehicle_type  registration_year gearbox  power   model  kilometer  \\\n",
       "15    450        small               1910     NaN      0      ka       5000   \n",
       "16    300      unknown               2016     NaN     60    polo     150000   \n",
       "32    245        sedan               1994     NaN      0    golf     150000   \n",
       "37   1500      unknown               2016     NaN      0  kangoo     150000   \n",
       "40      0      unknown               1990     NaN      0   corsa     150000   \n",
       "\n",
       "    registration_month fuel_type       brand not_repaired  number_of_pictures  \n",
       "15                   0    petrol        ford          NaN                   0  \n",
       "16                   0    petrol  volkswagen          NaN                   0  \n",
       "32                   2    petrol  volkswagen           no                   0  \n",
       "37                   1  gasoline     renault           no                   0  \n",
       "40                   1    petrol        opel          NaN                   0  "
      ]
     },
     "execution_count": 21,
     "metadata": {},
     "output_type": "execute_result"
    }
   ],
   "source": [
    "df[df['gearbox'].isna()].head()"
   ]
  },
  {
   "cell_type": "markdown",
   "metadata": {},
   "source": [
    "Посмотрим, есть ли модели, у которых только один тип КПП:"
   ]
  },
  {
   "cell_type": "code",
   "execution_count": 22,
   "metadata": {},
   "outputs": [
    {
     "name": "stdout",
     "output_type": "stream",
     "text": [
      "Модель: 145\n",
      "Типы КПП: ['manual' nan]\n",
      "Модель: duster\n",
      "Типы КПП: ['manual' nan]\n",
      "Модель: fox\n",
      "Типы КПП: ['manual' nan]\n",
      "Модель: lodgy\n",
      "Типы КПП: ['manual' nan]\n",
      "Модель: logan\n",
      "Типы КПП: ['manual' nan]\n",
      "Модель: niva\n",
      "Типы КПП: ['manual' nan]\n",
      "Модель: serie_1\n",
      "Типы КПП: ['manual' nan]\n",
      "Модель: serie_3\n",
      "Типы КПП: ['manual' nan]\n",
      "Модель: spark\n",
      "Типы КПП: ['manual' nan]\n"
     ]
    }
   ],
   "source": [
    "for model in df.loc[df['gearbox'].isna(),'model'].sort_values().unique():\n",
    "    if df[df['model'] == model]['gearbox'].nunique() == 1:\n",
    "        print('Модель:', model)\n",
    "        print('Типы КПП:', df[df['model'] == model]['gearbox'].unique())"
   ]
  },
  {
   "cell_type": "markdown",
   "metadata": {},
   "source": [
    "Найдены модели автомобилей, у которых можно однозначно определить тип КПП. Заполним пропуски:"
   ]
  },
  {
   "cell_type": "code",
   "execution_count": 23,
   "metadata": {
    "scrolled": true
   },
   "outputs": [
    {
     "name": "stdout",
     "output_type": "stream",
     "text": [
      "Модель: 145\n",
      "Типы КПП: ['manual']\n",
      "Модель: duster\n",
      "Типы КПП: ['manual']\n",
      "Модель: fox\n",
      "Типы КПП: ['manual']\n",
      "Модель: lodgy\n",
      "Типы КПП: ['manual']\n",
      "Модель: logan\n",
      "Типы КПП: ['manual']\n",
      "Модель: niva\n",
      "Типы КПП: ['manual']\n",
      "Модель: serie_1\n",
      "Типы КПП: ['manual']\n",
      "Модель: serie_3\n",
      "Типы КПП: ['manual']\n",
      "Модель: spark\n",
      "Типы КПП: ['manual']\n"
     ]
    }
   ],
   "source": [
    "for model in df[df['gearbox'].isna()]['model'].sort_values().unique():\n",
    "    if df[df['model'] == model]['gearbox'].nunique() == 1:\n",
    "        print('Модель:', model)\n",
    "        df.loc[\n",
    "            df['model'] == model, 'gearbox'\n",
    "        ] = df.loc[\n",
    "            df['model'] == model, 'gearbox'\n",
    "        ].fillna(df.loc[\n",
    "            df['model'] == model, 'gearbox'\n",
    "        ].sort_values().unique()[0])\n",
    "        print('Типы КПП:', df.loc[df['model'] == model,'gearbox'].unique())"
   ]
  },
  {
   "cell_type": "code",
   "execution_count": 24,
   "metadata": {},
   "outputs": [
    {
     "data": {
      "text/plain": [
       "19755"
      ]
     },
     "execution_count": 24,
     "metadata": {},
     "output_type": "execute_result"
    }
   ],
   "source": [
    "df['gearbox'].isna().sum()"
   ]
  },
  {
   "cell_type": "markdown",
   "metadata": {},
   "source": [
    "Успешно заполнены 19833 - 19755 = 78 пропуска.\n",
    "\n",
    "Остальные пропуски придётся заполнить значением \"unknown\", поскольку заполнить их корректно нет возможности, а модели ML не смогут работать с пропусками."
   ]
  },
  {
   "cell_type": "code",
   "execution_count": 25,
   "metadata": {},
   "outputs": [
    {
     "data": {
      "text/plain": [
       "0"
      ]
     },
     "execution_count": 25,
     "metadata": {},
     "output_type": "execute_result"
    }
   ],
   "source": [
    "df['gearbox'] = df['gearbox'].fillna('unknown')\n",
    "df['gearbox'].isna().sum()"
   ]
  },
  {
   "cell_type": "markdown",
   "metadata": {},
   "source": [
    "#### Столбец \"model\"."
   ]
  },
  {
   "cell_type": "markdown",
   "metadata": {},
   "source": [
    "Посмотрим, какие значения встречаются в столбце:"
   ]
  },
  {
   "cell_type": "code",
   "execution_count": 26,
   "metadata": {},
   "outputs": [
    {
     "data": {
      "text/plain": [
       "array(['100', '145', '147', '156', '159', '1_reihe', '1er', '200',\n",
       "       '2_reihe', '300c', '3_reihe', '3er', '4_reihe', '500', '5_reihe',\n",
       "       '5er', '601', '6_reihe', '6er', '7er', '80', '850', '90', '900',\n",
       "       '9000', '911', 'a1', 'a2', 'a3', 'a4', 'a5', 'a6', 'a8',\n",
       "       'a_klasse', 'accord', 'agila', 'alhambra', 'almera', 'altea',\n",
       "       'amarok', 'antara', 'arosa', 'astra', 'auris', 'avensis', 'aveo',\n",
       "       'aygo', 'b_klasse', 'b_max', 'beetle', 'berlingo', 'bora',\n",
       "       'boxster', 'bravo', 'c1', 'c2', 'c3', 'c4', 'c5', 'c_klasse',\n",
       "       'c_max', 'c_reihe', 'caddy', 'calibra', 'captiva', 'carisma',\n",
       "       'carnival', 'cayenne', 'cc', 'ceed', 'charade', 'cherokee',\n",
       "       'citigo', 'civic', 'cl', 'clio', 'clk', 'clubman', 'colt', 'combo',\n",
       "       'cooper', 'cordoba', 'corolla', 'corsa', 'cr_reihe', 'croma',\n",
       "       'crossfire', 'cuore', 'cx_reihe', 'defender', 'delta', 'discovery',\n",
       "       'doblo', 'ducato', 'duster', 'e_klasse', 'elefantino', 'eos',\n",
       "       'escort', 'espace', 'exeo', 'fabia', 'fiesta', 'focus', 'forester',\n",
       "       'forfour', 'fortwo', 'fox', 'freelander', 'fusion', 'g_klasse',\n",
       "       'galant', 'galaxy', 'getz', 'gl', 'glk', 'golf', 'grand', 'i3',\n",
       "       'i_reihe', 'ibiza', 'impreza', 'insignia', 'jazz', 'jetta',\n",
       "       'jimny', 'juke', 'justy', 'ka', 'kadett', 'kaefer', 'kalina',\n",
       "       'kalos', 'kangoo', 'kappa', 'kuga', 'laguna', 'lancer', 'lanos',\n",
       "       'legacy', 'leon', 'lodgy', 'logan', 'lupo', 'lybra', 'm_klasse',\n",
       "       'm_reihe', 'materia', 'matiz', 'megane', 'meriva', 'micra', 'mii',\n",
       "       'modus', 'mondeo', 'move', 'musa', 'mustang', 'mx_reihe', 'navara',\n",
       "       'niva', 'note', 'nubira', 'octavia', 'omega', 'one', 'other',\n",
       "       'outlander', 'pajero', 'panda', 'passat', 'phaeton', 'picanto',\n",
       "       'polo', 'primera', 'ptcruiser', 'punto', 'q3', 'q5', 'q7',\n",
       "       'qashqai', 'r19', 'range_rover', 'range_rover_evoque',\n",
       "       'range_rover_sport', 'rangerover', 'rav', 'rio', 'roadster',\n",
       "       'roomster', 'rx_reihe', 's60', 's_klasse', 's_max', 's_type',\n",
       "       'samara', 'sandero', 'santa', 'scenic', 'scirocco', 'seicento',\n",
       "       'serie_1', 'serie_2', 'serie_3', 'sharan', 'signum', 'sirion',\n",
       "       'sl', 'slk', 'sorento', 'spark', 'spider', 'sportage', 'sprinter',\n",
       "       'stilo', 'superb', 'swift', 'terios', 'tigra', 'tiguan', 'toledo',\n",
       "       'touareg', 'touran', 'transit', 'transporter', 'tt', 'tucson',\n",
       "       'twingo', 'up', 'v40', 'v50', 'v60', 'v70', 'v_klasse', 'vectra',\n",
       "       'verso', 'viano', 'vito', 'vivaro', 'voyager', 'wrangler',\n",
       "       'x_reihe', 'x_trail', 'x_type', 'xc_reihe', 'yaris', 'yeti',\n",
       "       'ypsilon', 'z_reihe', 'zafira', nan], dtype=object)"
      ]
     },
     "execution_count": 26,
     "metadata": {},
     "output_type": "execute_result"
    }
   ],
   "source": [
    "df['model'].sort_values().unique()"
   ]
  },
  {
   "cell_type": "markdown",
   "metadata": {},
   "source": [
    "Множество вариантов."
   ]
  },
  {
   "cell_type": "markdown",
   "metadata": {},
   "source": [
    "Посмотрим на примеры пропусков:"
   ]
  },
  {
   "cell_type": "code",
   "execution_count": 27,
   "metadata": {},
   "outputs": [
    {
     "data": {
      "text/html": [
       "<div>\n",
       "<style scoped>\n",
       "    .dataframe tbody tr th:only-of-type {\n",
       "        vertical-align: middle;\n",
       "    }\n",
       "\n",
       "    .dataframe tbody tr th {\n",
       "        vertical-align: top;\n",
       "    }\n",
       "\n",
       "    .dataframe thead th {\n",
       "        text-align: right;\n",
       "    }\n",
       "</style>\n",
       "<table border=\"1\" class=\"dataframe\">\n",
       "  <thead>\n",
       "    <tr style=\"text-align: right;\">\n",
       "      <th></th>\n",
       "      <th>price</th>\n",
       "      <th>vehicle_type</th>\n",
       "      <th>registration_year</th>\n",
       "      <th>gearbox</th>\n",
       "      <th>power</th>\n",
       "      <th>model</th>\n",
       "      <th>kilometer</th>\n",
       "      <th>registration_month</th>\n",
       "      <th>fuel_type</th>\n",
       "      <th>brand</th>\n",
       "      <th>not_repaired</th>\n",
       "      <th>number_of_pictures</th>\n",
       "    </tr>\n",
       "  </thead>\n",
       "  <tbody>\n",
       "    <tr>\n",
       "      <th>1</th>\n",
       "      <td>18300</td>\n",
       "      <td>coupe</td>\n",
       "      <td>2011</td>\n",
       "      <td>manual</td>\n",
       "      <td>190</td>\n",
       "      <td>NaN</td>\n",
       "      <td>125000</td>\n",
       "      <td>5</td>\n",
       "      <td>gasoline</td>\n",
       "      <td>audi</td>\n",
       "      <td>yes</td>\n",
       "      <td>0</td>\n",
       "    </tr>\n",
       "    <tr>\n",
       "      <th>59</th>\n",
       "      <td>1</td>\n",
       "      <td>suv</td>\n",
       "      <td>1994</td>\n",
       "      <td>manual</td>\n",
       "      <td>286</td>\n",
       "      <td>NaN</td>\n",
       "      <td>150000</td>\n",
       "      <td>11</td>\n",
       "      <td>NaN</td>\n",
       "      <td>sonstige_autos</td>\n",
       "      <td>NaN</td>\n",
       "      <td>0</td>\n",
       "    </tr>\n",
       "    <tr>\n",
       "      <th>81</th>\n",
       "      <td>350</td>\n",
       "      <td>small</td>\n",
       "      <td>1997</td>\n",
       "      <td>manual</td>\n",
       "      <td>54</td>\n",
       "      <td>NaN</td>\n",
       "      <td>150000</td>\n",
       "      <td>3</td>\n",
       "      <td>NaN</td>\n",
       "      <td>fiat</td>\n",
       "      <td>yes</td>\n",
       "      <td>0</td>\n",
       "    </tr>\n",
       "    <tr>\n",
       "      <th>115</th>\n",
       "      <td>0</td>\n",
       "      <td>small</td>\n",
       "      <td>1999</td>\n",
       "      <td>unknown</td>\n",
       "      <td>0</td>\n",
       "      <td>NaN</td>\n",
       "      <td>5000</td>\n",
       "      <td>0</td>\n",
       "      <td>petrol</td>\n",
       "      <td>volkswagen</td>\n",
       "      <td>NaN</td>\n",
       "      <td>0</td>\n",
       "    </tr>\n",
       "    <tr>\n",
       "      <th>135</th>\n",
       "      <td>1450</td>\n",
       "      <td>sedan</td>\n",
       "      <td>1992</td>\n",
       "      <td>manual</td>\n",
       "      <td>136</td>\n",
       "      <td>NaN</td>\n",
       "      <td>150000</td>\n",
       "      <td>0</td>\n",
       "      <td>NaN</td>\n",
       "      <td>audi</td>\n",
       "      <td>no</td>\n",
       "      <td>0</td>\n",
       "    </tr>\n",
       "  </tbody>\n",
       "</table>\n",
       "</div>"
      ],
      "text/plain": [
       "     price vehicle_type  registration_year  gearbox  power model  kilometer  \\\n",
       "1    18300        coupe               2011   manual    190   NaN     125000   \n",
       "59       1          suv               1994   manual    286   NaN     150000   \n",
       "81     350        small               1997   manual     54   NaN     150000   \n",
       "115      0        small               1999  unknown      0   NaN       5000   \n",
       "135   1450        sedan               1992   manual    136   NaN     150000   \n",
       "\n",
       "     registration_month fuel_type           brand not_repaired  \\\n",
       "1                     5  gasoline            audi          yes   \n",
       "59                   11       NaN  sonstige_autos          NaN   \n",
       "81                    3       NaN            fiat          yes   \n",
       "115                   0    petrol      volkswagen          NaN   \n",
       "135                   0       NaN            audi           no   \n",
       "\n",
       "     number_of_pictures  \n",
       "1                     0  \n",
       "59                    0  \n",
       "81                    0  \n",
       "115                   0  \n",
       "135                   0  "
      ]
     },
     "execution_count": 27,
     "metadata": {},
     "output_type": "execute_result"
    }
   ],
   "source": [
    "df[df['model'].isna()].head()"
   ]
  },
  {
   "cell_type": "markdown",
   "metadata": {},
   "source": [
    "Есть ли шанс заполнить модель по производителю?"
   ]
  },
  {
   "cell_type": "code",
   "execution_count": 28,
   "metadata": {},
   "outputs": [],
   "source": [
    "for brand in df.loc[df['model'].isna(),'brand'].sort_values().unique():\n",
    "    if df.loc[df['brand'] == brand, 'model'].nunique() == 1:\n",
    "        print('Производитель:', brand)\n",
    "        print('Модели:', df[df['brand'] == brand]['model'].unique())"
   ]
  },
  {
   "cell_type": "markdown",
   "metadata": {},
   "source": [
    "Таких нет.\n",
    "\n",
    "Заполним пропуски значением \"unknown\". Также заменим на \"unknown\" значения \"other\", это будет фактически одно и то же, так будет единообразнее."
   ]
  },
  {
   "cell_type": "code",
   "execution_count": 29,
   "metadata": {},
   "outputs": [
    {
     "name": "stdout",
     "output_type": "stream",
     "text": [
      "0\n",
      "0\n"
     ]
    }
   ],
   "source": [
    "df['model'] = df['model'].fillna('unknown') #заполнение\n",
    "df['model'] = df['model'].replace('other', 'unknown') # замена \n",
    "print(df['model'].isna().sum())  # проверка заполнения\n",
    "print(len(df.loc[df['model'] == 'other'])) # проверка замены"
   ]
  },
  {
   "cell_type": "markdown",
   "metadata": {},
   "source": [
    "#### Столбец \"fuel_type\"."
   ]
  },
  {
   "cell_type": "markdown",
   "metadata": {},
   "source": [
    "Посмотрим, какие значения встречаются в столбце:"
   ]
  },
  {
   "cell_type": "code",
   "execution_count": 30,
   "metadata": {
    "scrolled": true
   },
   "outputs": [
    {
     "data": {
      "text/plain": [
       "array(['cng', 'electric', 'gasoline', 'hybrid', 'lpg', 'other', 'petrol',\n",
       "       nan], dtype=object)"
      ]
     },
     "execution_count": 30,
     "metadata": {},
     "output_type": "execute_result"
    }
   ],
   "source": [
    "df['fuel_type'].sort_values().unique()"
   ]
  },
  {
   "cell_type": "markdown",
   "metadata": {},
   "source": [
    "Немного вариантов."
   ]
  },
  {
   "cell_type": "markdown",
   "metadata": {},
   "source": [
    "Посмотрим на примеры пропусков:"
   ]
  },
  {
   "cell_type": "code",
   "execution_count": 31,
   "metadata": {},
   "outputs": [
    {
     "data": {
      "text/html": [
       "<div>\n",
       "<style scoped>\n",
       "    .dataframe tbody tr th:only-of-type {\n",
       "        vertical-align: middle;\n",
       "    }\n",
       "\n",
       "    .dataframe tbody tr th {\n",
       "        vertical-align: top;\n",
       "    }\n",
       "\n",
       "    .dataframe thead th {\n",
       "        text-align: right;\n",
       "    }\n",
       "</style>\n",
       "<table border=\"1\" class=\"dataframe\">\n",
       "  <thead>\n",
       "    <tr style=\"text-align: right;\">\n",
       "      <th></th>\n",
       "      <th>price</th>\n",
       "      <th>vehicle_type</th>\n",
       "      <th>registration_year</th>\n",
       "      <th>gearbox</th>\n",
       "      <th>power</th>\n",
       "      <th>model</th>\n",
       "      <th>kilometer</th>\n",
       "      <th>registration_month</th>\n",
       "      <th>fuel_type</th>\n",
       "      <th>brand</th>\n",
       "      <th>not_repaired</th>\n",
       "      <th>number_of_pictures</th>\n",
       "    </tr>\n",
       "  </thead>\n",
       "  <tbody>\n",
       "    <tr>\n",
       "      <th>9</th>\n",
       "      <td>999</td>\n",
       "      <td>small</td>\n",
       "      <td>1998</td>\n",
       "      <td>manual</td>\n",
       "      <td>101</td>\n",
       "      <td>golf</td>\n",
       "      <td>150000</td>\n",
       "      <td>0</td>\n",
       "      <td>NaN</td>\n",
       "      <td>volkswagen</td>\n",
       "      <td>NaN</td>\n",
       "      <td>0</td>\n",
       "    </tr>\n",
       "    <tr>\n",
       "      <th>13</th>\n",
       "      <td>2500</td>\n",
       "      <td>wagon</td>\n",
       "      <td>2004</td>\n",
       "      <td>manual</td>\n",
       "      <td>131</td>\n",
       "      <td>passat</td>\n",
       "      <td>150000</td>\n",
       "      <td>2</td>\n",
       "      <td>NaN</td>\n",
       "      <td>volkswagen</td>\n",
       "      <td>no</td>\n",
       "      <td>0</td>\n",
       "    </tr>\n",
       "    <tr>\n",
       "      <th>26</th>\n",
       "      <td>5555</td>\n",
       "      <td>unknown</td>\n",
       "      <td>2017</td>\n",
       "      <td>manual</td>\n",
       "      <td>125</td>\n",
       "      <td>c4</td>\n",
       "      <td>125000</td>\n",
       "      <td>4</td>\n",
       "      <td>NaN</td>\n",
       "      <td>citroen</td>\n",
       "      <td>no</td>\n",
       "      <td>0</td>\n",
       "    </tr>\n",
       "    <tr>\n",
       "      <th>36</th>\n",
       "      <td>1600</td>\n",
       "      <td>other</td>\n",
       "      <td>1991</td>\n",
       "      <td>manual</td>\n",
       "      <td>75</td>\n",
       "      <td>kadett</td>\n",
       "      <td>70000</td>\n",
       "      <td>0</td>\n",
       "      <td>NaN</td>\n",
       "      <td>opel</td>\n",
       "      <td>NaN</td>\n",
       "      <td>0</td>\n",
       "    </tr>\n",
       "    <tr>\n",
       "      <th>41</th>\n",
       "      <td>7500</td>\n",
       "      <td>sedan</td>\n",
       "      <td>2002</td>\n",
       "      <td>auto</td>\n",
       "      <td>306</td>\n",
       "      <td>e_klasse</td>\n",
       "      <td>150000</td>\n",
       "      <td>4</td>\n",
       "      <td>NaN</td>\n",
       "      <td>mercedes_benz</td>\n",
       "      <td>NaN</td>\n",
       "      <td>0</td>\n",
       "    </tr>\n",
       "  </tbody>\n",
       "</table>\n",
       "</div>"
      ],
      "text/plain": [
       "    price vehicle_type  registration_year gearbox  power     model  kilometer  \\\n",
       "9     999        small               1998  manual    101      golf     150000   \n",
       "13   2500        wagon               2004  manual    131    passat     150000   \n",
       "26   5555      unknown               2017  manual    125        c4     125000   \n",
       "36   1600        other               1991  manual     75    kadett      70000   \n",
       "41   7500        sedan               2002    auto    306  e_klasse     150000   \n",
       "\n",
       "    registration_month fuel_type          brand not_repaired  \\\n",
       "9                    0       NaN     volkswagen          NaN   \n",
       "13                   2       NaN     volkswagen           no   \n",
       "26                   4       NaN        citroen           no   \n",
       "36                   0       NaN           opel          NaN   \n",
       "41                   4       NaN  mercedes_benz          NaN   \n",
       "\n",
       "    number_of_pictures  \n",
       "9                    0  \n",
       "13                   0  \n",
       "26                   0  \n",
       "36                   0  \n",
       "41                   0  "
      ]
     },
     "execution_count": 31,
     "metadata": {},
     "output_type": "execute_result"
    }
   ],
   "source": [
    "df[df['fuel_type'].isna()].head()"
   ]
  },
  {
   "cell_type": "markdown",
   "metadata": {},
   "source": [
    "Посмотрим, есть ли модели, у которых только один тип топлива:"
   ]
  },
  {
   "cell_type": "code",
   "execution_count": 32,
   "metadata": {},
   "outputs": [
    {
     "name": "stdout",
     "output_type": "stream",
     "text": [
      "Модель: 200\n",
      "Типы топлива: ['petrol' nan]\n",
      "Модель: 90\n",
      "Типы топлива: ['petrol' nan]\n",
      "Модель: 911\n",
      "Типы топлива: ['petrol' nan]\n",
      "Модель: boxster\n",
      "Типы топлива: ['petrol' nan]\n",
      "Модель: charade\n",
      "Типы топлива: ['petrol' nan]\n",
      "Модель: elefantino\n",
      "Типы топлива: ['petrol' nan]\n",
      "Модель: kadett\n",
      "Типы топлива: ['petrol' nan]\n",
      "Модель: move\n",
      "Типы топлива: ['petrol' nan]\n",
      "Модель: r19\n",
      "Типы топлива: ['petrol' nan]\n"
     ]
    }
   ],
   "source": [
    "for model in df.loc[df['fuel_type'].isna(),'model'].sort_values().unique():\n",
    "    if df[df['model'] == model]['fuel_type'].nunique() == 1:\n",
    "        print('Модель:', model)\n",
    "        print('Типы топлива:', df[df['model'] == model]['fuel_type'].sort_values().unique())"
   ]
  },
  {
   "cell_type": "markdown",
   "metadata": {},
   "source": [
    "Найдены модели автомобилей, у которых можно однозначно определить тип топлива. Заполним пропуски:"
   ]
  },
  {
   "cell_type": "code",
   "execution_count": 33,
   "metadata": {
    "scrolled": true
   },
   "outputs": [
    {
     "name": "stdout",
     "output_type": "stream",
     "text": [
      "Модель: 200\n",
      "Типы топлива: ['petrol']\n",
      "Модель: 90\n",
      "Типы топлива: ['petrol']\n",
      "Модель: 911\n",
      "Типы топлива: ['petrol']\n",
      "Модель: boxster\n",
      "Типы топлива: ['petrol']\n",
      "Модель: charade\n",
      "Типы топлива: ['petrol']\n",
      "Модель: elefantino\n",
      "Типы топлива: ['petrol']\n",
      "Модель: kadett\n",
      "Типы топлива: ['petrol']\n",
      "Модель: move\n",
      "Типы топлива: ['petrol']\n",
      "Модель: r19\n",
      "Типы топлива: ['petrol']\n"
     ]
    }
   ],
   "source": [
    "for model in df[df['fuel_type'].isna()]['model'].sort_values().unique():\n",
    "    if df[df['model'] == model]['fuel_type'].nunique() == 1:\n",
    "        print('Модель:', model)\n",
    "        df.loc[\n",
    "            df['model'] == model, 'fuel_type'\n",
    "        ] = df.loc[\n",
    "            df['model'] == model, 'fuel_type'\n",
    "        ].fillna(df.loc[\n",
    "            df['model'] == model, 'fuel_type'\n",
    "        ].sort_values().unique()[0])\n",
    "        print('Типы топлива:', df.loc[df['model'] == model,'fuel_type'].unique())"
   ]
  },
  {
   "cell_type": "code",
   "execution_count": 34,
   "metadata": {},
   "outputs": [
    {
     "data": {
      "text/plain": [
       "32737"
      ]
     },
     "execution_count": 34,
     "metadata": {},
     "output_type": "execute_result"
    }
   ],
   "source": [
    "df['fuel_type'].isna().sum()"
   ]
  },
  {
   "cell_type": "markdown",
   "metadata": {},
   "source": [
    "Успешно заполнены 32895 - 32737 = 158 пропусков.\n",
    "\n",
    "Остальные пропуски придётся заполнить значением \"unknown\", поскольку заполнить их корректно нет возможности, а модели ML не смогут работать с пропусками."
   ]
  },
  {
   "cell_type": "code",
   "execution_count": 35,
   "metadata": {},
   "outputs": [
    {
     "data": {
      "text/plain": [
       "0"
      ]
     },
     "execution_count": 35,
     "metadata": {},
     "output_type": "execute_result"
    }
   ],
   "source": [
    "df['fuel_type'] = df['fuel_type'].fillna('unknown')\n",
    "df['fuel_type'].isna().sum()"
   ]
  },
  {
   "cell_type": "markdown",
   "metadata": {},
   "source": [
    "#### Столбец \"not_repaired\"."
   ]
  },
  {
   "cell_type": "markdown",
   "metadata": {},
   "source": [
    "Посмотрим, какие значения встречаются в столбце:"
   ]
  },
  {
   "cell_type": "code",
   "execution_count": 36,
   "metadata": {
    "scrolled": true
   },
   "outputs": [
    {
     "data": {
      "text/plain": [
       "array(['no', 'yes', nan], dtype=object)"
      ]
     },
     "execution_count": 36,
     "metadata": {},
     "output_type": "execute_result"
    }
   ],
   "source": [
    "df['not_repaired'].sort_values().unique()"
   ]
  },
  {
   "cell_type": "markdown",
   "metadata": {},
   "source": [
    "Всего два смысловых варианта. В идеале можно было бы преобразовать в булевый тип данных, но 71 154 пропусков не позволят этого сделать."
   ]
  },
  {
   "cell_type": "markdown",
   "metadata": {},
   "source": [
    "Посмотрим на примеры пропусков:"
   ]
  },
  {
   "cell_type": "code",
   "execution_count": 37,
   "metadata": {},
   "outputs": [
    {
     "data": {
      "text/html": [
       "<div>\n",
       "<style scoped>\n",
       "    .dataframe tbody tr th:only-of-type {\n",
       "        vertical-align: middle;\n",
       "    }\n",
       "\n",
       "    .dataframe tbody tr th {\n",
       "        vertical-align: top;\n",
       "    }\n",
       "\n",
       "    .dataframe thead th {\n",
       "        text-align: right;\n",
       "    }\n",
       "</style>\n",
       "<table border=\"1\" class=\"dataframe\">\n",
       "  <thead>\n",
       "    <tr style=\"text-align: right;\">\n",
       "      <th></th>\n",
       "      <th>price</th>\n",
       "      <th>vehicle_type</th>\n",
       "      <th>registration_year</th>\n",
       "      <th>gearbox</th>\n",
       "      <th>power</th>\n",
       "      <th>model</th>\n",
       "      <th>kilometer</th>\n",
       "      <th>registration_month</th>\n",
       "      <th>fuel_type</th>\n",
       "      <th>brand</th>\n",
       "      <th>not_repaired</th>\n",
       "      <th>number_of_pictures</th>\n",
       "    </tr>\n",
       "  </thead>\n",
       "  <tbody>\n",
       "    <tr>\n",
       "      <th>0</th>\n",
       "      <td>480</td>\n",
       "      <td>unknown</td>\n",
       "      <td>1993</td>\n",
       "      <td>manual</td>\n",
       "      <td>0</td>\n",
       "      <td>golf</td>\n",
       "      <td>150000</td>\n",
       "      <td>0</td>\n",
       "      <td>petrol</td>\n",
       "      <td>volkswagen</td>\n",
       "      <td>NaN</td>\n",
       "      <td>0</td>\n",
       "    </tr>\n",
       "    <tr>\n",
       "      <th>2</th>\n",
       "      <td>9800</td>\n",
       "      <td>suv</td>\n",
       "      <td>2004</td>\n",
       "      <td>auto</td>\n",
       "      <td>163</td>\n",
       "      <td>grand</td>\n",
       "      <td>125000</td>\n",
       "      <td>8</td>\n",
       "      <td>gasoline</td>\n",
       "      <td>jeep</td>\n",
       "      <td>NaN</td>\n",
       "      <td>0</td>\n",
       "    </tr>\n",
       "    <tr>\n",
       "      <th>8</th>\n",
       "      <td>14500</td>\n",
       "      <td>bus</td>\n",
       "      <td>2014</td>\n",
       "      <td>manual</td>\n",
       "      <td>125</td>\n",
       "      <td>c_max</td>\n",
       "      <td>30000</td>\n",
       "      <td>8</td>\n",
       "      <td>petrol</td>\n",
       "      <td>ford</td>\n",
       "      <td>NaN</td>\n",
       "      <td>0</td>\n",
       "    </tr>\n",
       "    <tr>\n",
       "      <th>9</th>\n",
       "      <td>999</td>\n",
       "      <td>small</td>\n",
       "      <td>1998</td>\n",
       "      <td>manual</td>\n",
       "      <td>101</td>\n",
       "      <td>golf</td>\n",
       "      <td>150000</td>\n",
       "      <td>0</td>\n",
       "      <td>unknown</td>\n",
       "      <td>volkswagen</td>\n",
       "      <td>NaN</td>\n",
       "      <td>0</td>\n",
       "    </tr>\n",
       "    <tr>\n",
       "      <th>12</th>\n",
       "      <td>999</td>\n",
       "      <td>wagon</td>\n",
       "      <td>1995</td>\n",
       "      <td>manual</td>\n",
       "      <td>115</td>\n",
       "      <td>passat</td>\n",
       "      <td>150000</td>\n",
       "      <td>11</td>\n",
       "      <td>petrol</td>\n",
       "      <td>volkswagen</td>\n",
       "      <td>NaN</td>\n",
       "      <td>0</td>\n",
       "    </tr>\n",
       "  </tbody>\n",
       "</table>\n",
       "</div>"
      ],
      "text/plain": [
       "    price vehicle_type  registration_year gearbox  power   model  kilometer  \\\n",
       "0     480      unknown               1993  manual      0    golf     150000   \n",
       "2    9800          suv               2004    auto    163   grand     125000   \n",
       "8   14500          bus               2014  manual    125   c_max      30000   \n",
       "9     999        small               1998  manual    101    golf     150000   \n",
       "12    999        wagon               1995  manual    115  passat     150000   \n",
       "\n",
       "    registration_month fuel_type       brand not_repaired  number_of_pictures  \n",
       "0                    0    petrol  volkswagen          NaN                   0  \n",
       "2                    8  gasoline        jeep          NaN                   0  \n",
       "8                    8    petrol        ford          NaN                   0  \n",
       "9                    0   unknown  volkswagen          NaN                   0  \n",
       "12                  11    petrol  volkswagen          NaN                   0  "
      ]
     },
     "execution_count": 37,
     "metadata": {},
     "output_type": "execute_result"
    }
   ],
   "source": [
    "df[df['not_repaired'].isna()].head()"
   ]
  },
  {
   "cell_type": "markdown",
   "metadata": {},
   "source": [
    "Заполним пропуски значением \"unknown\", поскольку заполнить их корректно нет возможности, а модели ML не смогут работать с пропусками."
   ]
  },
  {
   "cell_type": "code",
   "execution_count": 38,
   "metadata": {},
   "outputs": [
    {
     "data": {
      "text/plain": [
       "0"
      ]
     },
     "execution_count": 38,
     "metadata": {},
     "output_type": "execute_result"
    }
   ],
   "source": [
    "df['not_repaired'] = df['not_repaired'].fillna('unknown')\n",
    "df['not_repaired'].isna().sum()"
   ]
  },
  {
   "cell_type": "markdown",
   "metadata": {},
   "source": [
    "### Выявление аномалий"
   ]
  },
  {
   "cell_type": "markdown",
   "metadata": {},
   "source": [
    "#### Столбец \"registration_year\""
   ]
  },
  {
   "cell_type": "markdown",
   "metadata": {},
   "source": [
    "Посмотрим на \"ящик с усами\" для этого столбца:"
   ]
  },
  {
   "cell_type": "code",
   "execution_count": 39,
   "metadata": {},
   "outputs": [
    {
     "data": {
      "image/png": "[encoded data removed]",
      "text/plain": [
       "<Figure size 216x504 with 1 Axes>"
      ]
     },
     "metadata": {
      "needs_background": "light"
     },
     "output_type": "display_data"
    }
   ],
   "source": [
    "df[['registration_year']].boxplot(figsize = (3, 7));"
   ]
  },
  {
   "cell_type": "markdown",
   "metadata": {},
   "source": [
    "Множество неправдоподобных значений.\n",
    "\n",
    "Посмотрим на частотную гистограмму:"
   ]
  },
  {
   "cell_type": "code",
   "execution_count": 40,
   "metadata": {},
   "outputs": [
    {
     "data": {
      "image/png": "[encoded data removed]",
      "text/plain": [
       "<Figure size 432x288 with 1 Axes>"
      ]
     },
     "metadata": {
      "needs_background": "light"
     },
     "output_type": "display_data"
    }
   ],
   "source": [
    "df.hist(column='registration_year', bins = 100);"
   ]
  },
  {
   "cell_type": "markdown",
   "metadata": {},
   "source": [
    "Приблизим значения до 1900 года:"
   ]
  },
  {
   "cell_type": "code",
   "execution_count": 41,
   "metadata": {
    "scrolled": true
   },
   "outputs": [
    {
     "data": {
      "image/png": "[encoded data removed]",
      "text/plain": [
       "<Figure size 432x288 with 1 Axes>"
      ]
     },
     "metadata": {
      "needs_background": "light"
     },
     "output_type": "display_data"
    }
   ],
   "source": [
    "df[df['registration_year']<1900].hist(column='registration_year', bins = 100);"
   ]
  },
  {
   "cell_type": "markdown",
   "metadata": {},
   "source": [
    "Посмотрим на строки с такими значениями:"
   ]
  },
  {
   "cell_type": "code",
   "execution_count": 42,
   "metadata": {},
   "outputs": [
    {
     "data": {
      "text/html": [
       "<div>\n",
       "<style scoped>\n",
       "    .dataframe tbody tr th:only-of-type {\n",
       "        vertical-align: middle;\n",
       "    }\n",
       "\n",
       "    .dataframe tbody tr th {\n",
       "        vertical-align: top;\n",
       "    }\n",
       "\n",
       "    .dataframe thead th {\n",
       "        text-align: right;\n",
       "    }\n",
       "</style>\n",
       "<table border=\"1\" class=\"dataframe\">\n",
       "  <thead>\n",
       "    <tr style=\"text-align: right;\">\n",
       "      <th></th>\n",
       "      <th>price</th>\n",
       "      <th>vehicle_type</th>\n",
       "      <th>registration_year</th>\n",
       "      <th>gearbox</th>\n",
       "      <th>power</th>\n",
       "      <th>model</th>\n",
       "      <th>kilometer</th>\n",
       "      <th>registration_month</th>\n",
       "      <th>fuel_type</th>\n",
       "      <th>brand</th>\n",
       "      <th>not_repaired</th>\n",
       "      <th>number_of_pictures</th>\n",
       "    </tr>\n",
       "  </thead>\n",
       "  <tbody>\n",
       "    <tr>\n",
       "      <th>622</th>\n",
       "      <td>0</td>\n",
       "      <td>unknown</td>\n",
       "      <td>1111</td>\n",
       "      <td>unknown</td>\n",
       "      <td>0</td>\n",
       "      <td>unknown</td>\n",
       "      <td>5000</td>\n",
       "      <td>0</td>\n",
       "      <td>unknown</td>\n",
       "      <td>opel</td>\n",
       "      <td>unknown</td>\n",
       "      <td>0</td>\n",
       "    </tr>\n",
       "    <tr>\n",
       "      <th>16062</th>\n",
       "      <td>190</td>\n",
       "      <td>unknown</td>\n",
       "      <td>1000</td>\n",
       "      <td>unknown</td>\n",
       "      <td>0</td>\n",
       "      <td>mondeo</td>\n",
       "      <td>5000</td>\n",
       "      <td>0</td>\n",
       "      <td>unknown</td>\n",
       "      <td>ford</td>\n",
       "      <td>unknown</td>\n",
       "      <td>0</td>\n",
       "    </tr>\n",
       "    <tr>\n",
       "      <th>18224</th>\n",
       "      <td>7999</td>\n",
       "      <td>unknown</td>\n",
       "      <td>1500</td>\n",
       "      <td>manual</td>\n",
       "      <td>224</td>\n",
       "      <td>impreza</td>\n",
       "      <td>5000</td>\n",
       "      <td>3</td>\n",
       "      <td>unknown</td>\n",
       "      <td>subaru</td>\n",
       "      <td>unknown</td>\n",
       "      <td>0</td>\n",
       "    </tr>\n",
       "    <tr>\n",
       "      <th>34332</th>\n",
       "      <td>450</td>\n",
       "      <td>unknown</td>\n",
       "      <td>1800</td>\n",
       "      <td>unknown</td>\n",
       "      <td>1800</td>\n",
       "      <td>unknown</td>\n",
       "      <td>5000</td>\n",
       "      <td>2</td>\n",
       "      <td>unknown</td>\n",
       "      <td>mitsubishi</td>\n",
       "      <td>no</td>\n",
       "      <td>0</td>\n",
       "    </tr>\n",
       "    <tr>\n",
       "      <th>38875</th>\n",
       "      <td>1234</td>\n",
       "      <td>unknown</td>\n",
       "      <td>1234</td>\n",
       "      <td>unknown</td>\n",
       "      <td>26</td>\n",
       "      <td>unknown</td>\n",
       "      <td>5000</td>\n",
       "      <td>1</td>\n",
       "      <td>unknown</td>\n",
       "      <td>trabant</td>\n",
       "      <td>unknown</td>\n",
       "      <td>0</td>\n",
       "    </tr>\n",
       "    <tr>\n",
       "      <th>53577</th>\n",
       "      <td>330</td>\n",
       "      <td>unknown</td>\n",
       "      <td>1000</td>\n",
       "      <td>unknown</td>\n",
       "      <td>0</td>\n",
       "      <td>polo</td>\n",
       "      <td>5000</td>\n",
       "      <td>0</td>\n",
       "      <td>unknown</td>\n",
       "      <td>volkswagen</td>\n",
       "      <td>unknown</td>\n",
       "      <td>0</td>\n",
       "    </tr>\n",
       "    <tr>\n",
       "      <th>55605</th>\n",
       "      <td>500</td>\n",
       "      <td>unknown</td>\n",
       "      <td>1000</td>\n",
       "      <td>unknown</td>\n",
       "      <td>0</td>\n",
       "      <td>unknown</td>\n",
       "      <td>5000</td>\n",
       "      <td>0</td>\n",
       "      <td>unknown</td>\n",
       "      <td>citroen</td>\n",
       "      <td>yes</td>\n",
       "      <td>0</td>\n",
       "    </tr>\n",
       "    <tr>\n",
       "      <th>56241</th>\n",
       "      <td>950</td>\n",
       "      <td>unknown</td>\n",
       "      <td>1400</td>\n",
       "      <td>manual</td>\n",
       "      <td>1400</td>\n",
       "      <td>golf</td>\n",
       "      <td>125000</td>\n",
       "      <td>4</td>\n",
       "      <td>petrol</td>\n",
       "      <td>volkswagen</td>\n",
       "      <td>unknown</td>\n",
       "      <td>0</td>\n",
       "    </tr>\n",
       "    <tr>\n",
       "      <th>60017</th>\n",
       "      <td>80</td>\n",
       "      <td>unknown</td>\n",
       "      <td>1000</td>\n",
       "      <td>unknown</td>\n",
       "      <td>0</td>\n",
       "      <td>unknown</td>\n",
       "      <td>5000</td>\n",
       "      <td>0</td>\n",
       "      <td>unknown</td>\n",
       "      <td>volkswagen</td>\n",
       "      <td>unknown</td>\n",
       "      <td>0</td>\n",
       "    </tr>\n",
       "    <tr>\n",
       "      <th>66198</th>\n",
       "      <td>1300</td>\n",
       "      <td>unknown</td>\n",
       "      <td>1000</td>\n",
       "      <td>auto</td>\n",
       "      <td>0</td>\n",
       "      <td>unknown</td>\n",
       "      <td>5000</td>\n",
       "      <td>6</td>\n",
       "      <td>petrol</td>\n",
       "      <td>sonstige_autos</td>\n",
       "      <td>unknown</td>\n",
       "      <td>0</td>\n",
       "    </tr>\n",
       "  </tbody>\n",
       "</table>\n",
       "</div>"
      ],
      "text/plain": [
       "       price vehicle_type  registration_year  gearbox  power    model  \\\n",
       "622        0      unknown               1111  unknown      0  unknown   \n",
       "16062    190      unknown               1000  unknown      0   mondeo   \n",
       "18224   7999      unknown               1500   manual    224  impreza   \n",
       "34332    450      unknown               1800  unknown   1800  unknown   \n",
       "38875   1234      unknown               1234  unknown     26  unknown   \n",
       "53577    330      unknown               1000  unknown      0     polo   \n",
       "55605    500      unknown               1000  unknown      0  unknown   \n",
       "56241    950      unknown               1400   manual   1400     golf   \n",
       "60017     80      unknown               1000  unknown      0  unknown   \n",
       "66198   1300      unknown               1000     auto      0  unknown   \n",
       "\n",
       "       kilometer  registration_month fuel_type           brand not_repaired  \\\n",
       "622         5000                   0   unknown            opel      unknown   \n",
       "16062       5000                   0   unknown            ford      unknown   \n",
       "18224       5000                   3   unknown          subaru      unknown   \n",
       "34332       5000                   2   unknown      mitsubishi           no   \n",
       "38875       5000                   1   unknown         trabant      unknown   \n",
       "53577       5000                   0   unknown      volkswagen      unknown   \n",
       "55605       5000                   0   unknown         citroen          yes   \n",
       "56241     125000                   4    petrol      volkswagen      unknown   \n",
       "60017       5000                   0   unknown      volkswagen      unknown   \n",
       "66198       5000                   6    petrol  sonstige_autos      unknown   \n",
       "\n",
       "       number_of_pictures  \n",
       "622                     0  \n",
       "16062                   0  \n",
       "18224                   0  \n",
       "34332                   0  \n",
       "38875                   0  \n",
       "53577                   0  \n",
       "55605                   0  \n",
       "56241                   0  \n",
       "60017                   0  \n",
       "66198                   0  "
      ]
     },
     "execution_count": 42,
     "metadata": {},
     "output_type": "execute_result"
    }
   ],
   "source": [
    "df[df['registration_year']<1900].head(10)"
   ]
  },
  {
   "cell_type": "markdown",
   "metadata": {},
   "source": [
    "Похоже, год заполнялся буквально наобум (\"1111\", \"1234\"). Также в этих cтроках часто встречается значение \"unknown\", полезных данных немного.\n",
    "\n",
    "Сколько таких строк?"
   ]
  },
  {
   "cell_type": "code",
   "execution_count": 43,
   "metadata": {},
   "outputs": [
    {
     "name": "stdout",
     "output_type": "stream",
     "text": [
      "Строк с годом меньше 1900: 66\n",
      "Доля датафрейма 0.018624864193698586 %\n"
     ]
    }
   ],
   "source": [
    "print('Строк с годом меньше 1900:', len(df[df['registration_year']<1900]))\n",
    "print('Доля датафрейма', 100*len(df[df['registration_year']<1900])/len(df), \"%\")"
   ]
  },
  {
   "cell_type": "markdown",
   "metadata": {},
   "source": [
    "Всего 66 или 0.019% записей можно удалить без потери качества обучения."
   ]
  },
  {
   "cell_type": "code",
   "execution_count": 44,
   "metadata": {},
   "outputs": [
    {
     "name": "stdout",
     "output_type": "stream",
     "text": [
      "Строк с годом меньше 1900: 0\n"
     ]
    }
   ],
   "source": [
    "df = df.loc[df['registration_year']>1900]\n",
    "print('Строк с годом меньше 1900:', len(df[df['registration_year']<1900]))"
   ]
  },
  {
   "cell_type": "markdown",
   "metadata": {},
   "source": [
    "Приблизим значения после 2022 года:"
   ]
  },
  {
   "cell_type": "code",
   "execution_count": 45,
   "metadata": {
    "scrolled": true
   },
   "outputs": [
    {
     "data": {
      "image/png": "[encoded data removed]",
      "text/plain": [
       "<Figure size 432x288 with 1 Axes>"
      ]
     },
     "metadata": {
      "needs_background": "light"
     },
     "output_type": "display_data"
    }
   ],
   "source": [
    "df[df['registration_year']>2022].hist(column='registration_year', bins = 100);"
   ]
  },
  {
   "cell_type": "markdown",
   "metadata": {},
   "source": [
    "Посмотрим на строки с такими значениями:"
   ]
  },
  {
   "cell_type": "code",
   "execution_count": 46,
   "metadata": {},
   "outputs": [
    {
     "data": {
      "text/html": [
       "<div>\n",
       "<style scoped>\n",
       "    .dataframe tbody tr th:only-of-type {\n",
       "        vertical-align: middle;\n",
       "    }\n",
       "\n",
       "    .dataframe tbody tr th {\n",
       "        vertical-align: top;\n",
       "    }\n",
       "\n",
       "    .dataframe thead th {\n",
       "        text-align: right;\n",
       "    }\n",
       "</style>\n",
       "<table border=\"1\" class=\"dataframe\">\n",
       "  <thead>\n",
       "    <tr style=\"text-align: right;\">\n",
       "      <th></th>\n",
       "      <th>price</th>\n",
       "      <th>vehicle_type</th>\n",
       "      <th>registration_year</th>\n",
       "      <th>gearbox</th>\n",
       "      <th>power</th>\n",
       "      <th>model</th>\n",
       "      <th>kilometer</th>\n",
       "      <th>registration_month</th>\n",
       "      <th>fuel_type</th>\n",
       "      <th>brand</th>\n",
       "      <th>not_repaired</th>\n",
       "      <th>number_of_pictures</th>\n",
       "    </tr>\n",
       "  </thead>\n",
       "  <tbody>\n",
       "    <tr>\n",
       "      <th>12946</th>\n",
       "      <td>49</td>\n",
       "      <td>unknown</td>\n",
       "      <td>5000</td>\n",
       "      <td>unknown</td>\n",
       "      <td>0</td>\n",
       "      <td>golf</td>\n",
       "      <td>5000</td>\n",
       "      <td>12</td>\n",
       "      <td>unknown</td>\n",
       "      <td>volkswagen</td>\n",
       "      <td>unknown</td>\n",
       "      <td>0</td>\n",
       "    </tr>\n",
       "    <tr>\n",
       "      <th>15147</th>\n",
       "      <td>0</td>\n",
       "      <td>unknown</td>\n",
       "      <td>9999</td>\n",
       "      <td>unknown</td>\n",
       "      <td>0</td>\n",
       "      <td>unknown</td>\n",
       "      <td>10000</td>\n",
       "      <td>0</td>\n",
       "      <td>unknown</td>\n",
       "      <td>sonstige_autos</td>\n",
       "      <td>unknown</td>\n",
       "      <td>0</td>\n",
       "    </tr>\n",
       "    <tr>\n",
       "      <th>15870</th>\n",
       "      <td>1700</td>\n",
       "      <td>unknown</td>\n",
       "      <td>3200</td>\n",
       "      <td>unknown</td>\n",
       "      <td>0</td>\n",
       "      <td>unknown</td>\n",
       "      <td>5000</td>\n",
       "      <td>0</td>\n",
       "      <td>unknown</td>\n",
       "      <td>sonstige_autos</td>\n",
       "      <td>unknown</td>\n",
       "      <td>0</td>\n",
       "    </tr>\n",
       "    <tr>\n",
       "      <th>17271</th>\n",
       "      <td>700</td>\n",
       "      <td>unknown</td>\n",
       "      <td>9999</td>\n",
       "      <td>unknown</td>\n",
       "      <td>0</td>\n",
       "      <td>unknown</td>\n",
       "      <td>10000</td>\n",
       "      <td>0</td>\n",
       "      <td>unknown</td>\n",
       "      <td>opel</td>\n",
       "      <td>unknown</td>\n",
       "      <td>0</td>\n",
       "    </tr>\n",
       "    <tr>\n",
       "      <th>17346</th>\n",
       "      <td>6500</td>\n",
       "      <td>unknown</td>\n",
       "      <td>8888</td>\n",
       "      <td>unknown</td>\n",
       "      <td>0</td>\n",
       "      <td>unknown</td>\n",
       "      <td>10000</td>\n",
       "      <td>0</td>\n",
       "      <td>unknown</td>\n",
       "      <td>sonstige_autos</td>\n",
       "      <td>unknown</td>\n",
       "      <td>0</td>\n",
       "    </tr>\n",
       "    <tr>\n",
       "      <th>18259</th>\n",
       "      <td>300</td>\n",
       "      <td>unknown</td>\n",
       "      <td>2200</td>\n",
       "      <td>unknown</td>\n",
       "      <td>0</td>\n",
       "      <td>twingo</td>\n",
       "      <td>5000</td>\n",
       "      <td>12</td>\n",
       "      <td>unknown</td>\n",
       "      <td>renault</td>\n",
       "      <td>unknown</td>\n",
       "      <td>0</td>\n",
       "    </tr>\n",
       "    <tr>\n",
       "      <th>20159</th>\n",
       "      <td>1600</td>\n",
       "      <td>unknown</td>\n",
       "      <td>4100</td>\n",
       "      <td>unknown</td>\n",
       "      <td>0</td>\n",
       "      <td>unknown</td>\n",
       "      <td>5000</td>\n",
       "      <td>0</td>\n",
       "      <td>unknown</td>\n",
       "      <td>sonstige_autos</td>\n",
       "      <td>unknown</td>\n",
       "      <td>0</td>\n",
       "    </tr>\n",
       "    <tr>\n",
       "      <th>26382</th>\n",
       "      <td>150</td>\n",
       "      <td>unknown</td>\n",
       "      <td>3000</td>\n",
       "      <td>unknown</td>\n",
       "      <td>0</td>\n",
       "      <td>a_klasse</td>\n",
       "      <td>5000</td>\n",
       "      <td>0</td>\n",
       "      <td>unknown</td>\n",
       "      <td>mercedes_benz</td>\n",
       "      <td>unknown</td>\n",
       "      <td>0</td>\n",
       "    </tr>\n",
       "    <tr>\n",
       "      <th>26560</th>\n",
       "      <td>800</td>\n",
       "      <td>unknown</td>\n",
       "      <td>2066</td>\n",
       "      <td>unknown</td>\n",
       "      <td>0</td>\n",
       "      <td>zafira</td>\n",
       "      <td>5000</td>\n",
       "      <td>0</td>\n",
       "      <td>gasoline</td>\n",
       "      <td>opel</td>\n",
       "      <td>unknown</td>\n",
       "      <td>0</td>\n",
       "    </tr>\n",
       "    <tr>\n",
       "      <th>28390</th>\n",
       "      <td>799</td>\n",
       "      <td>unknown</td>\n",
       "      <td>9999</td>\n",
       "      <td>unknown</td>\n",
       "      <td>0</td>\n",
       "      <td>3er</td>\n",
       "      <td>10000</td>\n",
       "      <td>4</td>\n",
       "      <td>petrol</td>\n",
       "      <td>bmw</td>\n",
       "      <td>unknown</td>\n",
       "      <td>0</td>\n",
       "    </tr>\n",
       "    <tr>\n",
       "      <th>28965</th>\n",
       "      <td>18000</td>\n",
       "      <td>unknown</td>\n",
       "      <td>9999</td>\n",
       "      <td>unknown</td>\n",
       "      <td>0</td>\n",
       "      <td>a_klasse</td>\n",
       "      <td>10000</td>\n",
       "      <td>0</td>\n",
       "      <td>petrol</td>\n",
       "      <td>mercedes_benz</td>\n",
       "      <td>unknown</td>\n",
       "      <td>0</td>\n",
       "    </tr>\n",
       "    <tr>\n",
       "      <th>29426</th>\n",
       "      <td>7999</td>\n",
       "      <td>unknown</td>\n",
       "      <td>9999</td>\n",
       "      <td>unknown</td>\n",
       "      <td>0</td>\n",
       "      <td>kaefer</td>\n",
       "      <td>10000</td>\n",
       "      <td>0</td>\n",
       "      <td>unknown</td>\n",
       "      <td>volkswagen</td>\n",
       "      <td>unknown</td>\n",
       "      <td>0</td>\n",
       "    </tr>\n",
       "    <tr>\n",
       "      <th>40954</th>\n",
       "      <td>59</td>\n",
       "      <td>unknown</td>\n",
       "      <td>8000</td>\n",
       "      <td>unknown</td>\n",
       "      <td>0</td>\n",
       "      <td>unknown</td>\n",
       "      <td>10000</td>\n",
       "      <td>0</td>\n",
       "      <td>unknown</td>\n",
       "      <td>chevrolet</td>\n",
       "      <td>unknown</td>\n",
       "      <td>0</td>\n",
       "    </tr>\n",
       "    <tr>\n",
       "      <th>41170</th>\n",
       "      <td>800</td>\n",
       "      <td>unknown</td>\n",
       "      <td>5300</td>\n",
       "      <td>unknown</td>\n",
       "      <td>0</td>\n",
       "      <td>unknown</td>\n",
       "      <td>10000</td>\n",
       "      <td>0</td>\n",
       "      <td>unknown</td>\n",
       "      <td>sonstige_autos</td>\n",
       "      <td>unknown</td>\n",
       "      <td>0</td>\n",
       "    </tr>\n",
       "    <tr>\n",
       "      <th>45662</th>\n",
       "      <td>999</td>\n",
       "      <td>unknown</td>\n",
       "      <td>9000</td>\n",
       "      <td>unknown</td>\n",
       "      <td>0</td>\n",
       "      <td>fiesta</td>\n",
       "      <td>10000</td>\n",
       "      <td>0</td>\n",
       "      <td>unknown</td>\n",
       "      <td>ford</td>\n",
       "      <td>yes</td>\n",
       "      <td>0</td>\n",
       "    </tr>\n",
       "  </tbody>\n",
       "</table>\n",
       "</div>"
      ],
      "text/plain": [
       "       price vehicle_type  registration_year  gearbox  power     model  \\\n",
       "12946     49      unknown               5000  unknown      0      golf   \n",
       "15147      0      unknown               9999  unknown      0   unknown   \n",
       "15870   1700      unknown               3200  unknown      0   unknown   \n",
       "17271    700      unknown               9999  unknown      0   unknown   \n",
       "17346   6500      unknown               8888  unknown      0   unknown   \n",
       "18259    300      unknown               2200  unknown      0    twingo   \n",
       "20159   1600      unknown               4100  unknown      0   unknown   \n",
       "26382    150      unknown               3000  unknown      0  a_klasse   \n",
       "26560    800      unknown               2066  unknown      0    zafira   \n",
       "28390    799      unknown               9999  unknown      0       3er   \n",
       "28965  18000      unknown               9999  unknown      0  a_klasse   \n",
       "29426   7999      unknown               9999  unknown      0    kaefer   \n",
       "40954     59      unknown               8000  unknown      0   unknown   \n",
       "41170    800      unknown               5300  unknown      0   unknown   \n",
       "45662    999      unknown               9000  unknown      0    fiesta   \n",
       "\n",
       "       kilometer  registration_month fuel_type           brand not_repaired  \\\n",
       "12946       5000                  12   unknown      volkswagen      unknown   \n",
       "15147      10000                   0   unknown  sonstige_autos      unknown   \n",
       "15870       5000                   0   unknown  sonstige_autos      unknown   \n",
       "17271      10000                   0   unknown            opel      unknown   \n",
       "17346      10000                   0   unknown  sonstige_autos      unknown   \n",
       "18259       5000                  12   unknown         renault      unknown   \n",
       "20159       5000                   0   unknown  sonstige_autos      unknown   \n",
       "26382       5000                   0   unknown   mercedes_benz      unknown   \n",
       "26560       5000                   0  gasoline            opel      unknown   \n",
       "28390      10000                   4    petrol             bmw      unknown   \n",
       "28965      10000                   0    petrol   mercedes_benz      unknown   \n",
       "29426      10000                   0   unknown      volkswagen      unknown   \n",
       "40954      10000                   0   unknown       chevrolet      unknown   \n",
       "41170      10000                   0   unknown  sonstige_autos      unknown   \n",
       "45662      10000                   0   unknown            ford          yes   \n",
       "\n",
       "       number_of_pictures  \n",
       "12946                   0  \n",
       "15147                   0  \n",
       "15870                   0  \n",
       "17271                   0  \n",
       "17346                   0  \n",
       "18259                   0  \n",
       "20159                   0  \n",
       "26382                   0  \n",
       "26560                   0  \n",
       "28390                   0  \n",
       "28965                   0  \n",
       "29426                   0  \n",
       "40954                   0  \n",
       "41170                   0  \n",
       "45662                   0  "
      ]
     },
     "execution_count": 46,
     "metadata": {},
     "output_type": "execute_result"
    }
   ],
   "source": [
    "df[df['registration_year']>2022].head(15)"
   ]
  },
  {
   "cell_type": "markdown",
   "metadata": {},
   "source": [
    "Те же случайно введённые значения, а также множество \"unknown\" в других столбцах.\n",
    "\n",
    "По принципу \"Trash in - trash out\" обучение модели станет только лучше, если такие \"мусорные\" значения удалить.\n",
    "\n",
    "Сколько таких строк?"
   ]
  },
  {
   "cell_type": "code",
   "execution_count": 47,
   "metadata": {},
   "outputs": [
    {
     "name": "stdout",
     "output_type": "stream",
     "text": [
      "Строк с годом больше 2022: 105\n",
      "Доля датафрейма 0.03 %\n"
     ]
    }
   ],
   "source": [
    "print('Строк с годом больше 2022:', len(df[df['registration_year']>2022]))\n",
    "print('Доля датафрейма', round(100*len(df[df['registration_year']>2022])/len(df), 3), \"%\")"
   ]
  },
  {
   "cell_type": "markdown",
   "metadata": {},
   "source": [
    "Удаляем:"
   ]
  },
  {
   "cell_type": "code",
   "execution_count": 48,
   "metadata": {
    "scrolled": true
   },
   "outputs": [
    {
     "name": "stdout",
     "output_type": "stream",
     "text": [
      "Строк с годом больше 2022: 0\n"
     ]
    }
   ],
   "source": [
    "df = df.loc[df['registration_year']<2022]\n",
    "print('Строк с годом больше 2022:', len(df[df['registration_year']>2022]))"
   ]
  },
  {
   "cell_type": "markdown",
   "metadata": {},
   "source": [
    "#### Столбец \"power\""
   ]
  },
  {
   "cell_type": "markdown",
   "metadata": {},
   "source": [
    "Посмотрим на \"ящик с усами\" для этого столбца:"
   ]
  },
  {
   "cell_type": "code",
   "execution_count": 49,
   "metadata": {},
   "outputs": [
    {
     "data": {
      "image/png": "[encoded data removed]",
      "text/plain": [
       "<Figure size 216x504 with 1 Axes>"
      ]
     },
     "metadata": {
      "needs_background": "light"
     },
     "output_type": "display_data"
    }
   ],
   "source": [
    "df[['power']].boxplot(figsize = (3, 7));"
   ]
  },
  {
   "cell_type": "markdown",
   "metadata": {},
   "source": [
    "Сомнительно, что мощность автомобиля может составлять 5000 л.с. и более. \n",
    "\n",
    "Посмотрим на частотную гистограмму:"
   ]
  },
  {
   "cell_type": "code",
   "execution_count": 50,
   "metadata": {},
   "outputs": [
    {
     "data": {
      "image/png": "[encoded data removed]",
      "text/plain": [
       "<Figure size 432x288 with 1 Axes>"
      ]
     },
     "metadata": {
      "needs_background": "light"
     },
     "output_type": "display_data"
    }
   ],
   "source": [
    "df.hist(column='power', bins = 100);"
   ]
  },
  {
   "cell_type": "markdown",
   "metadata": {},
   "source": [
    "Приблизим левую часть графика:"
   ]
  },
  {
   "cell_type": "markdown",
   "metadata": {},
   "source": [
    "Самый мощный известный автомобиль Hennessey Venom F5 поставляется с 8.0-литровым двигателем твин-турбо V8 мощностью 1600 л.с. Ограничим правдоподобный интервал этим значением."
   ]
  },
  {
   "cell_type": "code",
   "execution_count": 51,
   "metadata": {},
   "outputs": [
    {
     "data": {
      "image/png": "[encoded data removed]",
      "text/plain": [
       "<Figure size 432x288 with 1 Axes>"
      ]
     },
     "metadata": {
      "needs_background": "light"
     },
     "output_type": "display_data"
    }
   ],
   "source": [
    "df[df['power']<=1600].hist(column='power', bins = 50);"
   ]
  },
  {
   "cell_type": "markdown",
   "metadata": {},
   "source": [
    "Приблизим сильнее:"
   ]
  },
  {
   "cell_type": "code",
   "execution_count": 52,
   "metadata": {
    "scrolled": true
   },
   "outputs": [
    {
     "data": {
      "image/png": "[encoded data removed]",
      "text/plain": [
       "<Figure size 432x288 with 1 Axes>"
      ]
     },
     "metadata": {
      "needs_background": "light"
     },
     "output_type": "display_data"
    }
   ],
   "source": [
    "df[df['power']<=450].hist(column='power', bins = 50);"
   ]
  },
  {
   "cell_type": "markdown",
   "metadata": {},
   "source": [
    "Заметен выброс в нуле.\n",
    "\n",
    "Посмотрим на строки с этим значением:"
   ]
  },
  {
   "cell_type": "code",
   "execution_count": 53,
   "metadata": {},
   "outputs": [
    {
     "data": {
      "text/html": [
       "<div>\n",
       "<style scoped>\n",
       "    .dataframe tbody tr th:only-of-type {\n",
       "        vertical-align: middle;\n",
       "    }\n",
       "\n",
       "    .dataframe tbody tr th {\n",
       "        vertical-align: top;\n",
       "    }\n",
       "\n",
       "    .dataframe thead th {\n",
       "        text-align: right;\n",
       "    }\n",
       "</style>\n",
       "<table border=\"1\" class=\"dataframe\">\n",
       "  <thead>\n",
       "    <tr style=\"text-align: right;\">\n",
       "      <th></th>\n",
       "      <th>price</th>\n",
       "      <th>vehicle_type</th>\n",
       "      <th>registration_year</th>\n",
       "      <th>gearbox</th>\n",
       "      <th>power</th>\n",
       "      <th>model</th>\n",
       "      <th>kilometer</th>\n",
       "      <th>registration_month</th>\n",
       "      <th>fuel_type</th>\n",
       "      <th>brand</th>\n",
       "      <th>not_repaired</th>\n",
       "      <th>number_of_pictures</th>\n",
       "    </tr>\n",
       "  </thead>\n",
       "  <tbody>\n",
       "    <tr>\n",
       "      <th>0</th>\n",
       "      <td>480</td>\n",
       "      <td>unknown</td>\n",
       "      <td>1993</td>\n",
       "      <td>manual</td>\n",
       "      <td>0</td>\n",
       "      <td>golf</td>\n",
       "      <td>150000</td>\n",
       "      <td>0</td>\n",
       "      <td>petrol</td>\n",
       "      <td>volkswagen</td>\n",
       "      <td>unknown</td>\n",
       "      <td>0</td>\n",
       "    </tr>\n",
       "    <tr>\n",
       "      <th>15</th>\n",
       "      <td>450</td>\n",
       "      <td>small</td>\n",
       "      <td>1910</td>\n",
       "      <td>unknown</td>\n",
       "      <td>0</td>\n",
       "      <td>ka</td>\n",
       "      <td>5000</td>\n",
       "      <td>0</td>\n",
       "      <td>petrol</td>\n",
       "      <td>ford</td>\n",
       "      <td>unknown</td>\n",
       "      <td>0</td>\n",
       "    </tr>\n",
       "    <tr>\n",
       "      <th>32</th>\n",
       "      <td>245</td>\n",
       "      <td>sedan</td>\n",
       "      <td>1994</td>\n",
       "      <td>unknown</td>\n",
       "      <td>0</td>\n",
       "      <td>golf</td>\n",
       "      <td>150000</td>\n",
       "      <td>2</td>\n",
       "      <td>petrol</td>\n",
       "      <td>volkswagen</td>\n",
       "      <td>no</td>\n",
       "      <td>0</td>\n",
       "    </tr>\n",
       "    <tr>\n",
       "      <th>37</th>\n",
       "      <td>1500</td>\n",
       "      <td>unknown</td>\n",
       "      <td>2016</td>\n",
       "      <td>unknown</td>\n",
       "      <td>0</td>\n",
       "      <td>kangoo</td>\n",
       "      <td>150000</td>\n",
       "      <td>1</td>\n",
       "      <td>gasoline</td>\n",
       "      <td>renault</td>\n",
       "      <td>no</td>\n",
       "      <td>0</td>\n",
       "    </tr>\n",
       "    <tr>\n",
       "      <th>40</th>\n",
       "      <td>0</td>\n",
       "      <td>unknown</td>\n",
       "      <td>1990</td>\n",
       "      <td>unknown</td>\n",
       "      <td>0</td>\n",
       "      <td>corsa</td>\n",
       "      <td>150000</td>\n",
       "      <td>1</td>\n",
       "      <td>petrol</td>\n",
       "      <td>opel</td>\n",
       "      <td>unknown</td>\n",
       "      <td>0</td>\n",
       "    </tr>\n",
       "    <tr>\n",
       "      <th>54</th>\n",
       "      <td>4700</td>\n",
       "      <td>wagon</td>\n",
       "      <td>2005</td>\n",
       "      <td>manual</td>\n",
       "      <td>0</td>\n",
       "      <td>signum</td>\n",
       "      <td>150000</td>\n",
       "      <td>0</td>\n",
       "      <td>unknown</td>\n",
       "      <td>opel</td>\n",
       "      <td>no</td>\n",
       "      <td>0</td>\n",
       "    </tr>\n",
       "    <tr>\n",
       "      <th>55</th>\n",
       "      <td>550</td>\n",
       "      <td>wagon</td>\n",
       "      <td>1999</td>\n",
       "      <td>manual</td>\n",
       "      <td>0</td>\n",
       "      <td>astra</td>\n",
       "      <td>150000</td>\n",
       "      <td>8</td>\n",
       "      <td>gasoline</td>\n",
       "      <td>opel</td>\n",
       "      <td>yes</td>\n",
       "      <td>0</td>\n",
       "    </tr>\n",
       "    <tr>\n",
       "      <th>69</th>\n",
       "      <td>1200</td>\n",
       "      <td>coupe</td>\n",
       "      <td>2001</td>\n",
       "      <td>unknown</td>\n",
       "      <td>0</td>\n",
       "      <td>astra</td>\n",
       "      <td>150000</td>\n",
       "      <td>0</td>\n",
       "      <td>unknown</td>\n",
       "      <td>opel</td>\n",
       "      <td>unknown</td>\n",
       "      <td>0</td>\n",
       "    </tr>\n",
       "    <tr>\n",
       "      <th>70</th>\n",
       "      <td>800</td>\n",
       "      <td>small</td>\n",
       "      <td>1993</td>\n",
       "      <td>manual</td>\n",
       "      <td>0</td>\n",
       "      <td>polo</td>\n",
       "      <td>150000</td>\n",
       "      <td>3</td>\n",
       "      <td>petrol</td>\n",
       "      <td>volkswagen</td>\n",
       "      <td>no</td>\n",
       "      <td>0</td>\n",
       "    </tr>\n",
       "    <tr>\n",
       "      <th>90</th>\n",
       "      <td>2400</td>\n",
       "      <td>sedan</td>\n",
       "      <td>2003</td>\n",
       "      <td>manual</td>\n",
       "      <td>0</td>\n",
       "      <td>a4</td>\n",
       "      <td>150000</td>\n",
       "      <td>9</td>\n",
       "      <td>gasoline</td>\n",
       "      <td>audi</td>\n",
       "      <td>unknown</td>\n",
       "      <td>0</td>\n",
       "    </tr>\n",
       "  </tbody>\n",
       "</table>\n",
       "</div>"
      ],
      "text/plain": [
       "    price vehicle_type  registration_year  gearbox  power   model  kilometer  \\\n",
       "0     480      unknown               1993   manual      0    golf     150000   \n",
       "15    450        small               1910  unknown      0      ka       5000   \n",
       "32    245        sedan               1994  unknown      0    golf     150000   \n",
       "37   1500      unknown               2016  unknown      0  kangoo     150000   \n",
       "40      0      unknown               1990  unknown      0   corsa     150000   \n",
       "54   4700        wagon               2005   manual      0  signum     150000   \n",
       "55    550        wagon               1999   manual      0   astra     150000   \n",
       "69   1200        coupe               2001  unknown      0   astra     150000   \n",
       "70    800        small               1993   manual      0    polo     150000   \n",
       "90   2400        sedan               2003   manual      0      a4     150000   \n",
       "\n",
       "    registration_month fuel_type       brand not_repaired  number_of_pictures  \n",
       "0                    0    petrol  volkswagen      unknown                   0  \n",
       "15                   0    petrol        ford      unknown                   0  \n",
       "32                   2    petrol  volkswagen           no                   0  \n",
       "37                   1  gasoline     renault           no                   0  \n",
       "40                   1    petrol        opel      unknown                   0  \n",
       "54                   0   unknown        opel           no                   0  \n",
       "55                   8  gasoline        opel          yes                   0  \n",
       "69                   0   unknown        opel      unknown                   0  \n",
       "70                   3    petrol  volkswagen           no                   0  \n",
       "90                   9  gasoline        audi      unknown                   0  "
      ]
     },
     "execution_count": 53,
     "metadata": {},
     "output_type": "execute_result"
    }
   ],
   "source": [
    "df[df['power']==0].head(10)"
   ]
  },
  {
   "cell_type": "markdown",
   "metadata": {},
   "source": [
    "Сколько таких строк?"
   ]
  },
  {
   "cell_type": "code",
   "execution_count": 54,
   "metadata": {},
   "outputs": [
    {
     "data": {
      "text/plain": [
       "40098"
      ]
     },
     "execution_count": 54,
     "metadata": {},
     "output_type": "execute_result"
    }
   ],
   "source": [
    "len(df[df['power']==0])"
   ]
  },
  {
   "cell_type": "markdown",
   "metadata": {},
   "source": [
    "Очень много. Удалять такие данные нельзя, оставим как есть."
   ]
  },
  {
   "cell_type": "markdown",
   "metadata": {},
   "source": [
    "Посмотрим на неправдоподобно большие значения:"
   ]
  },
  {
   "cell_type": "code",
   "execution_count": 55,
   "metadata": {},
   "outputs": [
    {
     "data": {
      "image/png": "[encoded data removed]",
      "text/plain": [
       "<Figure size 432x288 with 1 Axes>"
      ]
     },
     "metadata": {
      "needs_background": "light"
     },
     "output_type": "display_data"
    }
   ],
   "source": [
    "df[df['power']>1600].hist(column='power', bins = 50);"
   ]
  },
  {
   "cell_type": "code",
   "execution_count": 56,
   "metadata": {},
   "outputs": [
    {
     "data": {
      "text/html": [
       "<div>\n",
       "<style scoped>\n",
       "    .dataframe tbody tr th:only-of-type {\n",
       "        vertical-align: middle;\n",
       "    }\n",
       "\n",
       "    .dataframe tbody tr th {\n",
       "        vertical-align: top;\n",
       "    }\n",
       "\n",
       "    .dataframe thead th {\n",
       "        text-align: right;\n",
       "    }\n",
       "</style>\n",
       "<table border=\"1\" class=\"dataframe\">\n",
       "  <thead>\n",
       "    <tr style=\"text-align: right;\">\n",
       "      <th></th>\n",
       "      <th>price</th>\n",
       "      <th>vehicle_type</th>\n",
       "      <th>registration_year</th>\n",
       "      <th>gearbox</th>\n",
       "      <th>power</th>\n",
       "      <th>model</th>\n",
       "      <th>kilometer</th>\n",
       "      <th>registration_month</th>\n",
       "      <th>fuel_type</th>\n",
       "      <th>brand</th>\n",
       "      <th>not_repaired</th>\n",
       "      <th>number_of_pictures</th>\n",
       "    </tr>\n",
       "  </thead>\n",
       "  <tbody>\n",
       "    <tr>\n",
       "      <th>2102</th>\n",
       "      <td>0</td>\n",
       "      <td>sedan</td>\n",
       "      <td>1999</td>\n",
       "      <td>unknown</td>\n",
       "      <td>1799</td>\n",
       "      <td>vectra</td>\n",
       "      <td>150000</td>\n",
       "      <td>1</td>\n",
       "      <td>petrol</td>\n",
       "      <td>opel</td>\n",
       "      <td>yes</td>\n",
       "      <td>0</td>\n",
       "    </tr>\n",
       "    <tr>\n",
       "      <th>7661</th>\n",
       "      <td>1499</td>\n",
       "      <td>small</td>\n",
       "      <td>1999</td>\n",
       "      <td>manual</td>\n",
       "      <td>7515</td>\n",
       "      <td>lupo</td>\n",
       "      <td>150000</td>\n",
       "      <td>4</td>\n",
       "      <td>petrol</td>\n",
       "      <td>volkswagen</td>\n",
       "      <td>unknown</td>\n",
       "      <td>0</td>\n",
       "    </tr>\n",
       "    <tr>\n",
       "      <th>9664</th>\n",
       "      <td>2599</td>\n",
       "      <td>unknown</td>\n",
       "      <td>2016</td>\n",
       "      <td>manual</td>\n",
       "      <td>1779</td>\n",
       "      <td>zafira</td>\n",
       "      <td>150000</td>\n",
       "      <td>0</td>\n",
       "      <td>petrol</td>\n",
       "      <td>opel</td>\n",
       "      <td>no</td>\n",
       "      <td>0</td>\n",
       "    </tr>\n",
       "    <tr>\n",
       "      <th>9875</th>\n",
       "      <td>550</td>\n",
       "      <td>wagon</td>\n",
       "      <td>2003</td>\n",
       "      <td>manual</td>\n",
       "      <td>1753</td>\n",
       "      <td>focus</td>\n",
       "      <td>150000</td>\n",
       "      <td>1</td>\n",
       "      <td>gasoline</td>\n",
       "      <td>ford</td>\n",
       "      <td>yes</td>\n",
       "      <td>0</td>\n",
       "    </tr>\n",
       "    <tr>\n",
       "      <th>11039</th>\n",
       "      <td>0</td>\n",
       "      <td>sedan</td>\n",
       "      <td>1998</td>\n",
       "      <td>manual</td>\n",
       "      <td>10317</td>\n",
       "      <td>unknown</td>\n",
       "      <td>150000</td>\n",
       "      <td>8</td>\n",
       "      <td>petrol</td>\n",
       "      <td>fiat</td>\n",
       "      <td>no</td>\n",
       "      <td>0</td>\n",
       "    </tr>\n",
       "    <tr>\n",
       "      <th>19092</th>\n",
       "      <td>9750</td>\n",
       "      <td>wagon</td>\n",
       "      <td>2005</td>\n",
       "      <td>auto</td>\n",
       "      <td>2729</td>\n",
       "      <td>5er</td>\n",
       "      <td>150000</td>\n",
       "      <td>7</td>\n",
       "      <td>gasoline</td>\n",
       "      <td>bmw</td>\n",
       "      <td>no</td>\n",
       "      <td>0</td>\n",
       "    </tr>\n",
       "    <tr>\n",
       "      <th>20050</th>\n",
       "      <td>2200</td>\n",
       "      <td>sedan</td>\n",
       "      <td>2002</td>\n",
       "      <td>auto</td>\n",
       "      <td>1704</td>\n",
       "      <td>e_klasse</td>\n",
       "      <td>150000</td>\n",
       "      <td>1</td>\n",
       "      <td>unknown</td>\n",
       "      <td>mercedes_benz</td>\n",
       "      <td>yes</td>\n",
       "      <td>0</td>\n",
       "    </tr>\n",
       "    <tr>\n",
       "      <th>20283</th>\n",
       "      <td>2000</td>\n",
       "      <td>wagon</td>\n",
       "      <td>2003</td>\n",
       "      <td>manual</td>\n",
       "      <td>1900</td>\n",
       "      <td>c5</td>\n",
       "      <td>150000</td>\n",
       "      <td>9</td>\n",
       "      <td>gasoline</td>\n",
       "      <td>citroen</td>\n",
       "      <td>yes</td>\n",
       "      <td>0</td>\n",
       "    </tr>\n",
       "    <tr>\n",
       "      <th>22281</th>\n",
       "      <td>3999</td>\n",
       "      <td>sedan</td>\n",
       "      <td>1998</td>\n",
       "      <td>manual</td>\n",
       "      <td>1993</td>\n",
       "      <td>3er</td>\n",
       "      <td>150000</td>\n",
       "      <td>2</td>\n",
       "      <td>cng</td>\n",
       "      <td>bmw</td>\n",
       "      <td>unknown</td>\n",
       "      <td>0</td>\n",
       "    </tr>\n",
       "    <tr>\n",
       "      <th>25232</th>\n",
       "      <td>10900</td>\n",
       "      <td>bus</td>\n",
       "      <td>2009</td>\n",
       "      <td>manual</td>\n",
       "      <td>10520</td>\n",
       "      <td>caddy</td>\n",
       "      <td>150000</td>\n",
       "      <td>6</td>\n",
       "      <td>gasoline</td>\n",
       "      <td>volkswagen</td>\n",
       "      <td>no</td>\n",
       "      <td>0</td>\n",
       "    </tr>\n",
       "  </tbody>\n",
       "</table>\n",
       "</div>"
      ],
      "text/plain": [
       "       price vehicle_type  registration_year  gearbox  power     model  \\\n",
       "2102       0        sedan               1999  unknown   1799    vectra   \n",
       "7661    1499        small               1999   manual   7515      lupo   \n",
       "9664    2599      unknown               2016   manual   1779    zafira   \n",
       "9875     550        wagon               2003   manual   1753     focus   \n",
       "11039      0        sedan               1998   manual  10317   unknown   \n",
       "19092   9750        wagon               2005     auto   2729       5er   \n",
       "20050   2200        sedan               2002     auto   1704  e_klasse   \n",
       "20283   2000        wagon               2003   manual   1900        c5   \n",
       "22281   3999        sedan               1998   manual   1993       3er   \n",
       "25232  10900          bus               2009   manual  10520     caddy   \n",
       "\n",
       "       kilometer  registration_month fuel_type          brand not_repaired  \\\n",
       "2102      150000                   1    petrol           opel          yes   \n",
       "7661      150000                   4    petrol     volkswagen      unknown   \n",
       "9664      150000                   0    petrol           opel           no   \n",
       "9875      150000                   1  gasoline           ford          yes   \n",
       "11039     150000                   8    petrol           fiat           no   \n",
       "19092     150000                   7  gasoline            bmw           no   \n",
       "20050     150000                   1   unknown  mercedes_benz          yes   \n",
       "20283     150000                   9  gasoline        citroen          yes   \n",
       "22281     150000                   2       cng            bmw      unknown   \n",
       "25232     150000                   6  gasoline     volkswagen           no   \n",
       "\n",
       "       number_of_pictures  \n",
       "2102                    0  \n",
       "7661                    0  \n",
       "9664                    0  \n",
       "9875                    0  \n",
       "11039                   0  \n",
       "19092                   0  \n",
       "20050                   0  \n",
       "20283                   0  \n",
       "22281                   0  \n",
       "25232                   0  "
      ]
     },
     "execution_count": 56,
     "metadata": {},
     "output_type": "execute_result"
    }
   ],
   "source": [
    "df[df['power']>1600].head(10)"
   ]
  },
  {
   "cell_type": "markdown",
   "metadata": {},
   "source": [
    "Сколько таких строк?"
   ]
  },
  {
   "cell_type": "code",
   "execution_count": 57,
   "metadata": {},
   "outputs": [
    {
     "data": {
      "text/plain": [
       "175"
      ]
     },
     "execution_count": 57,
     "metadata": {},
     "output_type": "execute_result"
    }
   ],
   "source": [
    "len(df[df['power']>1600])"
   ]
  },
  {
   "cell_type": "code",
   "execution_count": 58,
   "metadata": {
    "scrolled": true
   },
   "outputs": [
    {
     "name": "stdout",
     "output_type": "stream",
     "text": [
      "Строк с годом больше 2022: 175\n",
      "Доля датафрейма 0.049 %\n"
     ]
    }
   ],
   "source": [
    "print('Строк с годом больше 2022:', len(df[df['power']>1600]))\n",
    "print('Доля датафрейма', round(100*len(df[df['power']>1600])/len(df), 3), \"%\")"
   ]
  },
  {
   "cell_type": "markdown",
   "metadata": {},
   "source": [
    "Сколько из них не содержат целевого значения - цены?"
   ]
  },
  {
   "cell_type": "code",
   "execution_count": 59,
   "metadata": {},
   "outputs": [
    {
     "name": "stdout",
     "output_type": "stream",
     "text": [
      "Доля датафрейма 0.003 %\n"
     ]
    }
   ],
   "source": [
    "len(df.loc[(df['power']>1600) & (df['price']==0)])\n",
    "print('Доля датафрейма', round(100*len(df.loc[(df['power']>1600) & (df['price']==0)])/len(df), 3), \"%\")"
   ]
  },
  {
   "cell_type": "markdown",
   "metadata": {},
   "source": [
    "Эти строки удаляем, в них нет ценной информации для обучения модели."
   ]
  },
  {
   "cell_type": "code",
   "execution_count": 60,
   "metadata": {},
   "outputs": [
    {
     "data": {
      "text/plain": [
       "0"
      ]
     },
     "execution_count": 60,
     "metadata": {},
     "output_type": "execute_result"
    }
   ],
   "source": [
    "df = df.loc[(df['power']<1600) & (df['price']!=0)]\n",
    "len(df.loc[(df['power']>1600) & (df['price']==0)]) # проверка"
   ]
  },
  {
   "cell_type": "code",
   "execution_count": 61,
   "metadata": {},
   "outputs": [
    {
     "data": {
      "text/html": [
       "<div>\n",
       "<style scoped>\n",
       "    .dataframe tbody tr th:only-of-type {\n",
       "        vertical-align: middle;\n",
       "    }\n",
       "\n",
       "    .dataframe tbody tr th {\n",
       "        vertical-align: top;\n",
       "    }\n",
       "\n",
       "    .dataframe thead th {\n",
       "        text-align: right;\n",
       "    }\n",
       "</style>\n",
       "<table border=\"1\" class=\"dataframe\">\n",
       "  <thead>\n",
       "    <tr style=\"text-align: right;\">\n",
       "      <th></th>\n",
       "      <th>price</th>\n",
       "      <th>vehicle_type</th>\n",
       "      <th>registration_year</th>\n",
       "      <th>gearbox</th>\n",
       "      <th>power</th>\n",
       "      <th>model</th>\n",
       "      <th>kilometer</th>\n",
       "      <th>registration_month</th>\n",
       "      <th>fuel_type</th>\n",
       "      <th>brand</th>\n",
       "      <th>not_repaired</th>\n",
       "      <th>number_of_pictures</th>\n",
       "    </tr>\n",
       "  </thead>\n",
       "  <tbody>\n",
       "    <tr>\n",
       "      <th>0</th>\n",
       "      <td>480</td>\n",
       "      <td>unknown</td>\n",
       "      <td>1993</td>\n",
       "      <td>manual</td>\n",
       "      <td>0</td>\n",
       "      <td>golf</td>\n",
       "      <td>150000</td>\n",
       "      <td>0</td>\n",
       "      <td>petrol</td>\n",
       "      <td>volkswagen</td>\n",
       "      <td>unknown</td>\n",
       "      <td>0</td>\n",
       "    </tr>\n",
       "    <tr>\n",
       "      <th>1</th>\n",
       "      <td>18300</td>\n",
       "      <td>coupe</td>\n",
       "      <td>2011</td>\n",
       "      <td>manual</td>\n",
       "      <td>190</td>\n",
       "      <td>unknown</td>\n",
       "      <td>125000</td>\n",
       "      <td>5</td>\n",
       "      <td>gasoline</td>\n",
       "      <td>audi</td>\n",
       "      <td>yes</td>\n",
       "      <td>0</td>\n",
       "    </tr>\n",
       "    <tr>\n",
       "      <th>2</th>\n",
       "      <td>9800</td>\n",
       "      <td>suv</td>\n",
       "      <td>2004</td>\n",
       "      <td>auto</td>\n",
       "      <td>163</td>\n",
       "      <td>grand</td>\n",
       "      <td>125000</td>\n",
       "      <td>8</td>\n",
       "      <td>gasoline</td>\n",
       "      <td>jeep</td>\n",
       "      <td>unknown</td>\n",
       "      <td>0</td>\n",
       "    </tr>\n",
       "    <tr>\n",
       "      <th>3</th>\n",
       "      <td>1500</td>\n",
       "      <td>small</td>\n",
       "      <td>2001</td>\n",
       "      <td>manual</td>\n",
       "      <td>75</td>\n",
       "      <td>golf</td>\n",
       "      <td>150000</td>\n",
       "      <td>6</td>\n",
       "      <td>petrol</td>\n",
       "      <td>volkswagen</td>\n",
       "      <td>no</td>\n",
       "      <td>0</td>\n",
       "    </tr>\n",
       "    <tr>\n",
       "      <th>4</th>\n",
       "      <td>3600</td>\n",
       "      <td>small</td>\n",
       "      <td>2008</td>\n",
       "      <td>manual</td>\n",
       "      <td>69</td>\n",
       "      <td>fabia</td>\n",
       "      <td>90000</td>\n",
       "      <td>7</td>\n",
       "      <td>gasoline</td>\n",
       "      <td>skoda</td>\n",
       "      <td>no</td>\n",
       "      <td>0</td>\n",
       "    </tr>\n",
       "    <tr>\n",
       "      <th>...</th>\n",
       "      <td>...</td>\n",
       "      <td>...</td>\n",
       "      <td>...</td>\n",
       "      <td>...</td>\n",
       "      <td>...</td>\n",
       "      <td>...</td>\n",
       "      <td>...</td>\n",
       "      <td>...</td>\n",
       "      <td>...</td>\n",
       "      <td>...</td>\n",
       "      <td>...</td>\n",
       "      <td>...</td>\n",
       "    </tr>\n",
       "    <tr>\n",
       "      <th>354359</th>\n",
       "      <td>1150</td>\n",
       "      <td>bus</td>\n",
       "      <td>2000</td>\n",
       "      <td>manual</td>\n",
       "      <td>0</td>\n",
       "      <td>zafira</td>\n",
       "      <td>150000</td>\n",
       "      <td>3</td>\n",
       "      <td>petrol</td>\n",
       "      <td>opel</td>\n",
       "      <td>no</td>\n",
       "      <td>0</td>\n",
       "    </tr>\n",
       "    <tr>\n",
       "      <th>354361</th>\n",
       "      <td>2200</td>\n",
       "      <td>unknown</td>\n",
       "      <td>2005</td>\n",
       "      <td>unknown</td>\n",
       "      <td>0</td>\n",
       "      <td>unknown</td>\n",
       "      <td>20000</td>\n",
       "      <td>1</td>\n",
       "      <td>unknown</td>\n",
       "      <td>sonstige_autos</td>\n",
       "      <td>unknown</td>\n",
       "      <td>0</td>\n",
       "    </tr>\n",
       "    <tr>\n",
       "      <th>354362</th>\n",
       "      <td>1199</td>\n",
       "      <td>convertible</td>\n",
       "      <td>2000</td>\n",
       "      <td>auto</td>\n",
       "      <td>101</td>\n",
       "      <td>fortwo</td>\n",
       "      <td>125000</td>\n",
       "      <td>3</td>\n",
       "      <td>petrol</td>\n",
       "      <td>smart</td>\n",
       "      <td>no</td>\n",
       "      <td>0</td>\n",
       "    </tr>\n",
       "    <tr>\n",
       "      <th>354363</th>\n",
       "      <td>9200</td>\n",
       "      <td>bus</td>\n",
       "      <td>1996</td>\n",
       "      <td>manual</td>\n",
       "      <td>102</td>\n",
       "      <td>transporter</td>\n",
       "      <td>150000</td>\n",
       "      <td>3</td>\n",
       "      <td>gasoline</td>\n",
       "      <td>volkswagen</td>\n",
       "      <td>no</td>\n",
       "      <td>0</td>\n",
       "    </tr>\n",
       "    <tr>\n",
       "      <th>354364</th>\n",
       "      <td>3400</td>\n",
       "      <td>wagon</td>\n",
       "      <td>2002</td>\n",
       "      <td>manual</td>\n",
       "      <td>100</td>\n",
       "      <td>golf</td>\n",
       "      <td>150000</td>\n",
       "      <td>6</td>\n",
       "      <td>gasoline</td>\n",
       "      <td>volkswagen</td>\n",
       "      <td>unknown</td>\n",
       "      <td>0</td>\n",
       "    </tr>\n",
       "  </tbody>\n",
       "</table>\n",
       "<p>343287 rows × 12 columns</p>\n",
       "</div>"
      ],
      "text/plain": [
       "        price vehicle_type  registration_year  gearbox  power        model  \\\n",
       "0         480      unknown               1993   manual      0         golf   \n",
       "1       18300        coupe               2011   manual    190      unknown   \n",
       "2        9800          suv               2004     auto    163        grand   \n",
       "3        1500        small               2001   manual     75         golf   \n",
       "4        3600        small               2008   manual     69        fabia   \n",
       "...       ...          ...                ...      ...    ...          ...   \n",
       "354359   1150          bus               2000   manual      0       zafira   \n",
       "354361   2200      unknown               2005  unknown      0      unknown   \n",
       "354362   1199  convertible               2000     auto    101       fortwo   \n",
       "354363   9200          bus               1996   manual    102  transporter   \n",
       "354364   3400        wagon               2002   manual    100         golf   \n",
       "\n",
       "        kilometer  registration_month fuel_type           brand not_repaired  \\\n",
       "0          150000                   0    petrol      volkswagen      unknown   \n",
       "1          125000                   5  gasoline            audi          yes   \n",
       "2          125000                   8  gasoline            jeep      unknown   \n",
       "3          150000                   6    petrol      volkswagen           no   \n",
       "4           90000                   7  gasoline           skoda           no   \n",
       "...           ...                 ...       ...             ...          ...   \n",
       "354359     150000                   3    petrol            opel           no   \n",
       "354361      20000                   1   unknown  sonstige_autos      unknown   \n",
       "354362     125000                   3    petrol           smart           no   \n",
       "354363     150000                   3  gasoline      volkswagen           no   \n",
       "354364     150000                   6  gasoline      volkswagen      unknown   \n",
       "\n",
       "        number_of_pictures  \n",
       "0                        0  \n",
       "1                        0  \n",
       "2                        0  \n",
       "3                        0  \n",
       "4                        0  \n",
       "...                    ...  \n",
       "354359                   0  \n",
       "354361                   0  \n",
       "354362                   0  \n",
       "354363                   0  \n",
       "354364                   0  \n",
       "\n",
       "[343287 rows x 12 columns]"
      ]
     },
     "execution_count": 61,
     "metadata": {},
     "output_type": "execute_result"
    }
   ],
   "source": [
    "df"
   ]
  },
  {
   "cell_type": "markdown",
   "metadata": {},
   "source": [
    "#### Столбец \"kilometer\""
   ]
  },
  {
   "cell_type": "markdown",
   "metadata": {},
   "source": [
    "Посмотрим на \"ящик с усами\" для этого столбца:"
   ]
  },
  {
   "cell_type": "code",
   "execution_count": 62,
   "metadata": {},
   "outputs": [
    {
     "data": {
      "image/png": "[encoded data removed]",
      "text/plain": [
       "<Figure size 216x504 with 1 Axes>"
      ]
     },
     "metadata": {
      "needs_background": "light"
     },
     "output_type": "display_data"
    }
   ],
   "source": [
    "df[['kilometer']].boxplot(figsize = (3, 7));"
   ]
  },
  {
   "cell_type": "markdown",
   "metadata": {},
   "source": [
    "\n",
    "\n",
    "Посмотрим на частотную гистограмму:"
   ]
  },
  {
   "cell_type": "code",
   "execution_count": 63,
   "metadata": {},
   "outputs": [
    {
     "data": {
      "image/png": "[encoded data removed]",
      "text/plain": [
       "<Figure size 432x288 with 1 Axes>"
      ]
     },
     "metadata": {
      "needs_background": "light"
     },
     "output_type": "display_data"
    }
   ],
   "source": [
    "df.hist(column='kilometer', bins = 100);"
   ]
  },
  {
   "cell_type": "markdown",
   "metadata": {},
   "source": [
    "Значения выглядят странно однообразно, но в целом правдоподобно."
   ]
  },
  {
   "cell_type": "code",
   "execution_count": 64,
   "metadata": {},
   "outputs": [
    {
     "data": {
      "image/png": "[encoded data removed]",
      "text/plain": [
       "<Figure size 432x288 with 1 Axes>"
      ]
     },
     "metadata": {
      "needs_background": "light"
     },
     "output_type": "display_data"
    }
   ],
   "source": [
    "(df['kilometer']/1000).hist(bins = 100, range = (100, 160));\n",
    "# разделим на 1000, чтобы подпись оси была в тасячах км"
   ]
  },
  {
   "cell_type": "markdown",
   "metadata": {},
   "source": [
    "Странно, что значения округлены и установились в точках 100 тыс км, 125 тыс км и 150 тыс км. \n",
    "\n",
    "Это не слишком хорошо для обучения модели, но поделать с этим ничего нельзя."
   ]
  },
  {
   "cell_type": "markdown",
   "metadata": {},
   "source": [
    "#### Столбец \"registration_month\""
   ]
  },
  {
   "cell_type": "markdown",
   "metadata": {},
   "source": [
    "\n",
    "\n",
    "Посмотрим на частотную гистограмму:"
   ]
  },
  {
   "cell_type": "code",
   "execution_count": 65,
   "metadata": {},
   "outputs": [
    {
     "data": {
      "image/png": "[encoded data removed]",
      "text/plain": [
       "<Figure size 432x288 with 1 Axes>"
      ]
     },
     "metadata": {
      "needs_background": "light"
     },
     "output_type": "display_data"
    }
   ],
   "source": [
    "df.hist(column='registration_month', bins = 100);"
   ]
  },
  {
   "cell_type": "markdown",
   "metadata": {},
   "source": [
    "Значения распределены равномерно. \n",
    "\n",
    "Есть значимая доля значений \"0\", но заполнить по смыслу или удалить мы их не может, оставляем как есть."
   ]
  },
  {
   "cell_type": "markdown",
   "metadata": {},
   "source": [
    "#### Столбец \"number_of_pictures\""
   ]
  },
  {
   "cell_type": "code",
   "execution_count": 66,
   "metadata": {},
   "outputs": [
    {
     "data": {
      "text/plain": [
       "count    343287.0\n",
       "mean          0.0\n",
       "std           0.0\n",
       "min           0.0\n",
       "25%           0.0\n",
       "50%           0.0\n",
       "75%           0.0\n",
       "max           0.0\n",
       "Name: number_of_pictures, dtype: float64"
      ]
     },
     "execution_count": 66,
     "metadata": {},
     "output_type": "execute_result"
    }
   ],
   "source": [
    "df['number_of_pictures'].describe()"
   ]
  },
  {
   "cell_type": "markdown",
   "metadata": {},
   "source": [
    "В этом столбце все значения равны нулю, полезной информации для обучения в нём нет. Удалим столбец."
   ]
  },
  {
   "cell_type": "code",
   "execution_count": 67,
   "metadata": {
    "scrolled": true
   },
   "outputs": [
    {
     "data": {
      "text/html": [
       "<div>\n",
       "<style scoped>\n",
       "    .dataframe tbody tr th:only-of-type {\n",
       "        vertical-align: middle;\n",
       "    }\n",
       "\n",
       "    .dataframe tbody tr th {\n",
       "        vertical-align: top;\n",
       "    }\n",
       "\n",
       "    .dataframe thead th {\n",
       "        text-align: right;\n",
       "    }\n",
       "</style>\n",
       "<table border=\"1\" class=\"dataframe\">\n",
       "  <thead>\n",
       "    <tr style=\"text-align: right;\">\n",
       "      <th></th>\n",
       "      <th>price</th>\n",
       "      <th>vehicle_type</th>\n",
       "      <th>registration_year</th>\n",
       "      <th>gearbox</th>\n",
       "      <th>power</th>\n",
       "      <th>model</th>\n",
       "      <th>kilometer</th>\n",
       "      <th>registration_month</th>\n",
       "      <th>fuel_type</th>\n",
       "      <th>brand</th>\n",
       "      <th>not_repaired</th>\n",
       "    </tr>\n",
       "  </thead>\n",
       "  <tbody>\n",
       "    <tr>\n",
       "      <th>0</th>\n",
       "      <td>480</td>\n",
       "      <td>unknown</td>\n",
       "      <td>1993</td>\n",
       "      <td>manual</td>\n",
       "      <td>0</td>\n",
       "      <td>golf</td>\n",
       "      <td>150000</td>\n",
       "      <td>0</td>\n",
       "      <td>petrol</td>\n",
       "      <td>volkswagen</td>\n",
       "      <td>unknown</td>\n",
       "    </tr>\n",
       "    <tr>\n",
       "      <th>1</th>\n",
       "      <td>18300</td>\n",
       "      <td>coupe</td>\n",
       "      <td>2011</td>\n",
       "      <td>manual</td>\n",
       "      <td>190</td>\n",
       "      <td>unknown</td>\n",
       "      <td>125000</td>\n",
       "      <td>5</td>\n",
       "      <td>gasoline</td>\n",
       "      <td>audi</td>\n",
       "      <td>yes</td>\n",
       "    </tr>\n",
       "    <tr>\n",
       "      <th>2</th>\n",
       "      <td>9800</td>\n",
       "      <td>suv</td>\n",
       "      <td>2004</td>\n",
       "      <td>auto</td>\n",
       "      <td>163</td>\n",
       "      <td>grand</td>\n",
       "      <td>125000</td>\n",
       "      <td>8</td>\n",
       "      <td>gasoline</td>\n",
       "      <td>jeep</td>\n",
       "      <td>unknown</td>\n",
       "    </tr>\n",
       "  </tbody>\n",
       "</table>\n",
       "</div>"
      ],
      "text/plain": [
       "   price vehicle_type  registration_year gearbox  power    model  kilometer  \\\n",
       "0    480      unknown               1993  manual      0     golf     150000   \n",
       "1  18300        coupe               2011  manual    190  unknown     125000   \n",
       "2   9800          suv               2004    auto    163    grand     125000   \n",
       "\n",
       "   registration_month fuel_type       brand not_repaired  \n",
       "0                   0    petrol  volkswagen      unknown  \n",
       "1                   5  gasoline        audi          yes  \n",
       "2                   8  gasoline        jeep      unknown  "
      ]
     },
     "execution_count": 67,
     "metadata": {},
     "output_type": "execute_result"
    }
   ],
   "source": [
    "df = df.drop(['number_of_pictures'], axis=1)\n",
    "df.head(3)"
   ]
  },
  {
   "cell_type": "markdown",
   "metadata": {},
   "source": [
    "#### Столбец \"price\""
   ]
  },
  {
   "cell_type": "markdown",
   "metadata": {},
   "source": [
    "Посмотрим на \"ящик с усами\" для этого столбца:"
   ]
  },
  {
   "cell_type": "code",
   "execution_count": 68,
   "metadata": {},
   "outputs": [
    {
     "data": {
      "image/png": "[encoded data removed]",
      "text/plain": [
       "<Figure size 216x504 with 1 Axes>"
      ]
     },
     "metadata": {
      "needs_background": "light"
     },
     "output_type": "display_data"
    }
   ],
   "source": [
    "df[['price']].boxplot(figsize = (3, 7));"
   ]
  },
  {
   "cell_type": "markdown",
   "metadata": {},
   "source": [
    "Отметим, что медианная цена немного выше 2500 евро, а минимум на нуле. Может ли цена быть нулевой?\n",
    "\n",
    "Посмотрим на частотную гистограмму:"
   ]
  },
  {
   "cell_type": "code",
   "execution_count": 69,
   "metadata": {},
   "outputs": [
    {
     "data": {
      "image/png": "[encoded data removed]",
      "text/plain": [
       "<Figure size 792x432 with 1 Axes>"
      ]
     },
     "metadata": {
      "needs_background": "light"
     },
     "output_type": "display_data"
    }
   ],
   "source": [
    "df.hist(column='price', bins = 300, figsize = (11, 6));"
   ]
  },
  {
   "cell_type": "markdown",
   "metadata": {},
   "source": [
    "Пока выглядит правдоподобно, частота встречаемости повышается примерно до 1000 евро, далее плавно снижается с пиками вокруг \"круглых\" чисел. График напоминает распределение Пуассона.\n",
    "\n",
    "Приблизим левую часть графика:"
   ]
  },
  {
   "cell_type": "code",
   "execution_count": 70,
   "metadata": {},
   "outputs": [
    {
     "data": {
      "image/png": "[encoded data removed]",
      "text/plain": [
       "<Figure size 432x288 with 1 Axes>"
      ]
     },
     "metadata": {
      "needs_background": "light"
     },
     "output_type": "display_data"
    }
   ],
   "source": [
    "df[df['price']<=500].hist(column='price', bins = 50);"
   ]
  },
  {
   "cell_type": "markdown",
   "metadata": {},
   "source": [
    "Заметен выброс вначале. Больше 1000 значений.\n",
    "\n",
    "Приблизим сильнее:"
   ]
  },
  {
   "cell_type": "code",
   "execution_count": 71,
   "metadata": {
    "scrolled": true
   },
   "outputs": [
    {
     "data": {
      "image/png": "[encoded data removed]",
      "text/plain": [
       "<Figure size 432x288 with 1 Axes>"
      ]
     },
     "metadata": {
      "needs_background": "light"
     },
     "output_type": "display_data"
    }
   ],
   "source": [
    "df[df['price']<=100].hist(column='price', bins = 50);"
   ]
  },
  {
   "cell_type": "markdown",
   "metadata": {},
   "source": [
    "Аномалия около нуля. Посмотрим на такие значения:"
   ]
  },
  {
   "cell_type": "code",
   "execution_count": 72,
   "metadata": {},
   "outputs": [
    {
     "data": {
      "text/html": [
       "<div>\n",
       "<style scoped>\n",
       "    .dataframe tbody tr th:only-of-type {\n",
       "        vertical-align: middle;\n",
       "    }\n",
       "\n",
       "    .dataframe tbody tr th {\n",
       "        vertical-align: top;\n",
       "    }\n",
       "\n",
       "    .dataframe thead th {\n",
       "        text-align: right;\n",
       "    }\n",
       "</style>\n",
       "<table border=\"1\" class=\"dataframe\">\n",
       "  <thead>\n",
       "    <tr style=\"text-align: right;\">\n",
       "      <th></th>\n",
       "      <th>price</th>\n",
       "      <th>vehicle_type</th>\n",
       "      <th>registration_year</th>\n",
       "      <th>gearbox</th>\n",
       "      <th>power</th>\n",
       "      <th>model</th>\n",
       "      <th>kilometer</th>\n",
       "      <th>registration_month</th>\n",
       "      <th>fuel_type</th>\n",
       "      <th>brand</th>\n",
       "      <th>not_repaired</th>\n",
       "    </tr>\n",
       "  </thead>\n",
       "  <tbody>\n",
       "    <tr>\n",
       "      <th>59</th>\n",
       "      <td>1</td>\n",
       "      <td>suv</td>\n",
       "      <td>1994</td>\n",
       "      <td>manual</td>\n",
       "      <td>286</td>\n",
       "      <td>unknown</td>\n",
       "      <td>150000</td>\n",
       "      <td>11</td>\n",
       "      <td>unknown</td>\n",
       "      <td>sonstige_autos</td>\n",
       "      <td>unknown</td>\n",
       "    </tr>\n",
       "    <tr>\n",
       "      <th>89</th>\n",
       "      <td>1</td>\n",
       "      <td>sedan</td>\n",
       "      <td>1995</td>\n",
       "      <td>manual</td>\n",
       "      <td>113</td>\n",
       "      <td>e_klasse</td>\n",
       "      <td>150000</td>\n",
       "      <td>4</td>\n",
       "      <td>gasoline</td>\n",
       "      <td>mercedes_benz</td>\n",
       "      <td>no</td>\n",
       "    </tr>\n",
       "    <tr>\n",
       "      <th>268</th>\n",
       "      <td>1</td>\n",
       "      <td>sedan</td>\n",
       "      <td>1990</td>\n",
       "      <td>manual</td>\n",
       "      <td>90</td>\n",
       "      <td>80</td>\n",
       "      <td>70000</td>\n",
       "      <td>6</td>\n",
       "      <td>petrol</td>\n",
       "      <td>audi</td>\n",
       "      <td>no</td>\n",
       "    </tr>\n",
       "    <tr>\n",
       "      <th>408</th>\n",
       "      <td>1</td>\n",
       "      <td>unknown</td>\n",
       "      <td>2000</td>\n",
       "      <td>unknown</td>\n",
       "      <td>75</td>\n",
       "      <td>golf</td>\n",
       "      <td>90000</td>\n",
       "      <td>3</td>\n",
       "      <td>petrol</td>\n",
       "      <td>volkswagen</td>\n",
       "      <td>unknown</td>\n",
       "    </tr>\n",
       "    <tr>\n",
       "      <th>901</th>\n",
       "      <td>1</td>\n",
       "      <td>unknown</td>\n",
       "      <td>1990</td>\n",
       "      <td>manual</td>\n",
       "      <td>0</td>\n",
       "      <td>unknown</td>\n",
       "      <td>150000</td>\n",
       "      <td>0</td>\n",
       "      <td>unknown</td>\n",
       "      <td>porsche</td>\n",
       "      <td>unknown</td>\n",
       "    </tr>\n",
       "    <tr>\n",
       "      <th>967</th>\n",
       "      <td>1</td>\n",
       "      <td>wagon</td>\n",
       "      <td>1998</td>\n",
       "      <td>manual</td>\n",
       "      <td>136</td>\n",
       "      <td>omega</td>\n",
       "      <td>150000</td>\n",
       "      <td>0</td>\n",
       "      <td>petrol</td>\n",
       "      <td>opel</td>\n",
       "      <td>no</td>\n",
       "    </tr>\n",
       "    <tr>\n",
       "      <th>1025</th>\n",
       "      <td>3</td>\n",
       "      <td>convertible</td>\n",
       "      <td>1998</td>\n",
       "      <td>manual</td>\n",
       "      <td>110</td>\n",
       "      <td>mx_reihe</td>\n",
       "      <td>150000</td>\n",
       "      <td>11</td>\n",
       "      <td>unknown</td>\n",
       "      <td>mazda</td>\n",
       "      <td>yes</td>\n",
       "    </tr>\n",
       "    <tr>\n",
       "      <th>1247</th>\n",
       "      <td>1</td>\n",
       "      <td>sedan</td>\n",
       "      <td>1983</td>\n",
       "      <td>manual</td>\n",
       "      <td>0</td>\n",
       "      <td>unknown</td>\n",
       "      <td>150000</td>\n",
       "      <td>6</td>\n",
       "      <td>petrol</td>\n",
       "      <td>mercedes_benz</td>\n",
       "      <td>no</td>\n",
       "    </tr>\n",
       "    <tr>\n",
       "      <th>1340</th>\n",
       "      <td>1</td>\n",
       "      <td>unknown</td>\n",
       "      <td>2016</td>\n",
       "      <td>manual</td>\n",
       "      <td>0</td>\n",
       "      <td>golf</td>\n",
       "      <td>150000</td>\n",
       "      <td>0</td>\n",
       "      <td>gasoline</td>\n",
       "      <td>volkswagen</td>\n",
       "      <td>yes</td>\n",
       "    </tr>\n",
       "    <tr>\n",
       "      <th>1542</th>\n",
       "      <td>1</td>\n",
       "      <td>unknown</td>\n",
       "      <td>2000</td>\n",
       "      <td>unknown</td>\n",
       "      <td>0</td>\n",
       "      <td>astra</td>\n",
       "      <td>150000</td>\n",
       "      <td>0</td>\n",
       "      <td>unknown</td>\n",
       "      <td>opel</td>\n",
       "      <td>unknown</td>\n",
       "    </tr>\n",
       "  </tbody>\n",
       "</table>\n",
       "</div>"
      ],
      "text/plain": [
       "      price vehicle_type  registration_year  gearbox  power     model  \\\n",
       "59        1          suv               1994   manual    286   unknown   \n",
       "89        1        sedan               1995   manual    113  e_klasse   \n",
       "268       1        sedan               1990   manual     90        80   \n",
       "408       1      unknown               2000  unknown     75      golf   \n",
       "901       1      unknown               1990   manual      0   unknown   \n",
       "967       1        wagon               1998   manual    136     omega   \n",
       "1025      3  convertible               1998   manual    110  mx_reihe   \n",
       "1247      1        sedan               1983   manual      0   unknown   \n",
       "1340      1      unknown               2016   manual      0      golf   \n",
       "1542      1      unknown               2000  unknown      0     astra   \n",
       "\n",
       "      kilometer  registration_month fuel_type           brand not_repaired  \n",
       "59       150000                  11   unknown  sonstige_autos      unknown  \n",
       "89       150000                   4  gasoline   mercedes_benz           no  \n",
       "268       70000                   6    petrol            audi           no  \n",
       "408       90000                   3    petrol      volkswagen      unknown  \n",
       "901      150000                   0   unknown         porsche      unknown  \n",
       "967      150000                   0    petrol            opel           no  \n",
       "1025     150000                  11   unknown           mazda          yes  \n",
       "1247     150000                   6    petrol   mercedes_benz           no  \n",
       "1340     150000                   0  gasoline      volkswagen          yes  \n",
       "1542     150000                   0   unknown            opel      unknown  "
      ]
     },
     "execution_count": 72,
     "metadata": {},
     "output_type": "execute_result"
    }
   ],
   "source": [
    "df[df['price']<10].head(10)"
   ]
  },
  {
   "cell_type": "markdown",
   "metadata": {},
   "source": [
    "Можно было предположить, что эти машины - после серьёзной аварии, поэтому отдаются даром, но столбец \"not_repaired\" содержит разные значения.\n",
    "\n",
    "Много значений 'unknown' в других столбцах, но есть и заполненные по смысле строки.\n",
    "\n",
    "Если бы это был один из признаков, оставили бы как есть, чтобы не терять важные данные. Но столбец 'price' содержит целевой признак, и аномалии в нём серьёзно повлияют на качество обучения модели.\n",
    "\n",
    "Удалим все значения ниже 100 евро, по гистограмме видно, что там начинается аномалия.\n",
    "\n",
    "Сколько таких значений?"
   ]
  },
  {
   "cell_type": "code",
   "execution_count": 73,
   "metadata": {},
   "outputs": [
    {
     "name": "stdout",
     "output_type": "stream",
     "text": [
      "Строк с ценой ниже 100 евро: 2516\n",
      "Доля датафрейма 0.733 %\n"
     ]
    }
   ],
   "source": [
    "print('Строк с ценой ниже 100 евро:', len(df[df['price']<100]))\n",
    "print('Доля датафрейма', round(100*len(df[df['price']<100])/len(df), 3), \"%\")"
   ]
  },
  {
   "cell_type": "code",
   "execution_count": 74,
   "metadata": {},
   "outputs": [
    {
     "name": "stdout",
     "output_type": "stream",
     "text": [
      "Строк с ценой ниже 100 евро: 0\n"
     ]
    },
    {
     "data": {
      "image/png": "[encoded data removed]",
      "text/plain": [
       "<Figure size 432x288 with 1 Axes>"
      ]
     },
     "metadata": {
      "needs_background": "light"
     },
     "output_type": "display_data"
    }
   ],
   "source": [
    "df = df[df['price']>=100]\n",
    "print('Строк с ценой ниже 100 евро:', len(df[df['price']<100]))\n",
    "df[df['price']<=1000].hist(column='price', bins = 50);"
   ]
  },
  {
   "cell_type": "markdown",
   "metadata": {},
   "source": [
    "Выброса в начале больше нет. "
   ]
  },
  {
   "cell_type": "code",
   "execution_count": 75,
   "metadata": {},
   "outputs": [],
   "source": [
    "df = df.reset_index(drop=True) # после удаления лишних строк обновим индекс"
   ]
  },
  {
   "cell_type": "markdown",
   "metadata": {},
   "source": [
    "Посмотрим на результат предобработки данных:"
   ]
  },
  {
   "cell_type": "code",
   "execution_count": 76,
   "metadata": {},
   "outputs": [
    {
     "name": "stdout",
     "output_type": "stream",
     "text": [
      "Информация:\n",
      "<class 'pandas.core.frame.DataFrame'>\n",
      "RangeIndex: 340771 entries, 0 to 340770\n",
      "Data columns (total 11 columns):\n",
      " #   Column              Non-Null Count   Dtype \n",
      "---  ------              --------------   ----- \n",
      " 0   price               340771 non-null  int64 \n",
      " 1   vehicle_type        340771 non-null  object\n",
      " 2   registration_year   340771 non-null  int64 \n",
      " 3   gearbox             340771 non-null  object\n",
      " 4   power               340771 non-null  int64 \n",
      " 5   model               340771 non-null  object\n",
      " 6   kilometer           340771 non-null  int64 \n",
      " 7   registration_month  340771 non-null  int64 \n",
      " 8   fuel_type           340771 non-null  object\n",
      " 9   brand               340771 non-null  object\n",
      " 10  not_repaired        340771 non-null  object\n",
      "dtypes: int64(5), object(6)\n",
      "memory usage: 28.6+ MB\n",
      "None\n",
      "--------------------------------------\n",
      "Дубликаты:\n",
      "26079\n",
      "--------------------------------------\n",
      "Пропуски:\n",
      "price                 0\n",
      "vehicle_type          0\n",
      "registration_year     0\n",
      "gearbox               0\n",
      "power                 0\n",
      "model                 0\n",
      "kilometer             0\n",
      "registration_month    0\n",
      "fuel_type             0\n",
      "brand                 0\n",
      "not_repaired          0\n",
      "dtype: int64\n"
     ]
    }
   ],
   "source": [
    "print('Информация:')\n",
    "print(df.info())\n",
    "print('--------------------------------------')\n",
    "print('Дубликаты:')\n",
    "print(df.duplicated().sum())\n",
    "print('--------------------------------------')\n",
    "print('Пропуски:')\n",
    "print(df.isna().sum())"
   ]
  },
  {
   "cell_type": "markdown",
   "metadata": {},
   "source": [
    "Данные подготовлены к обучению моделей."
   ]
  },
  {
   "cell_type": "markdown",
   "metadata": {},
   "source": [
    "## Обучение моделей"
   ]
  },
  {
   "cell_type": "markdown",
   "metadata": {},
   "source": [
    "#### Разделение данных на выборки."
   ]
  },
  {
   "cell_type": "markdown",
   "metadata": {},
   "source": [
    "Разделим исходные данные на обучающую, валидационную и тестовую выборки.\n",
    "- Обучающая выборка - 60%\n",
    "- Валидационная выборка - 20%\n",
    "- Тестовая выборка - 20%"
   ]
  },
  {
   "cell_type": "markdown",
   "metadata": {},
   "source": [
    "Сначала отделим тестовую выборку, затем разделим валидационную и обучающую выборки:"
   ]
  },
  {
   "cell_type": "code",
   "execution_count": 77,
   "metadata": {},
   "outputs": [
    {
     "name": "stdout",
     "output_type": "stream",
     "text": [
      "Размер обучающей выборки: 204462 , доля от данных: 0.5999982392867937\n",
      "-------------------------\n",
      "Размер валидационной выборки: 68154 , доля от данных: 0.19999941309559793\n",
      "-------------------------\n",
      "Размер тестовой выборки: 68155 , доля от данных: 0.2000023476176083\n"
     ]
    }
   ],
   "source": [
    "df_train_and_valid, df_test = train_test_split(\n",
    "    df, test_size=0.2, # разделяем 80% и 20% датасета\n",
    "    random_state=12345 \n",
    ")\n",
    "df_valid, df_train = train_test_split(\n",
    "    df_train_and_valid, test_size=0.75, random_state=12345,  # разделяем датасет, это будет 60 и 20% исходного\n",
    ")\n",
    "print(\"Размер обучающей выборки:\",len(df_train), \", доля от данных:\", len(df_train)/len(df))\n",
    "print('-------------------------')\n",
    "print(\"Размер валидационной выборки:\",len(df_valid),\", доля от данных:\", len(df_valid)/len(df))\n",
    "print('-------------------------')\n",
    "print(\"Размер тестовой выборки:\", len(df_test),\", доля от данных:\", len(df_test)/len(df))"
   ]
  },
  {
   "cell_type": "markdown",
   "metadata": {},
   "source": [
    "#### Выделение признаков"
   ]
  },
  {
   "cell_type": "code",
   "execution_count": 78,
   "metadata": {},
   "outputs": [
    {
     "name": "stdout",
     "output_type": "stream",
     "text": [
      "Train/Valid/Test: (204462, 10) (68154, 10) (68155, 10) (204462,) (68154,) (68155,)\n"
     ]
    }
   ],
   "source": [
    "features_train = df_train.drop(['price'], axis=1) # извлекаем признаки\n",
    "target_train = df_train['price'] # целевой признак\n",
    "\n",
    "features_train_and_valid = df_train_and_valid.drop(['price'], axis=1) # извлекаем признаки\n",
    "target_train_and_valid = df_train_and_valid['price'] # целевой признак\n",
    "\n",
    "\n",
    "features_valid = df_valid.drop(['price'], axis=1) # извлекаем признаки\n",
    "target_valid = df_valid['price'] # целевой признак\n",
    "\n",
    "features_test = df_test.drop(['price'], axis=1) # извлекаем признаки\n",
    "target_test = df_test['price'] # целевой признак\n",
    "\n",
    "print(\"Train/Valid/Test:\", \n",
    "      features_train.shape, features_valid.shape, features_test.shape,\n",
    "      target_train.shape, target_valid.shape, target_test.shape\n",
    "     )"
   ]
  },
  {
   "cell_type": "markdown",
   "metadata": {},
   "source": [
    "### Модель Линейная регрессия"
   ]
  },
  {
   "cell_type": "markdown",
   "id": "86a04126-4d13-4005-badc-fae83526df87",
   "metadata": {},
   "source": [
    "Преобразуем категориальные признаки при помощи One-Hot Encoder, a числовые StandardScaler. Чтобы одновременно применить их на один набор признаков, используем  ColumnTransformer и Pipeline."
   ]
  },
  {
   "cell_type": "code",
   "execution_count": 79,
   "metadata": {
    "scrolled": true
   },
   "outputs": [
    {
     "name": "stdout",
     "output_type": "stream",
     "text": [
      "RMSE = 2743.61\n"
     ]
    }
   ],
   "source": [
    "OHE = OneHotEncoder(handle_unknown = 'ignore')\n",
    "scaler = StandardScaler()\n",
    "\n",
    "cat_cols = ['vehicle_type', 'gearbox', 'model', 'fuel_type', 'brand', 'not_repaired']\n",
    "num_cols = ['registration_year', 'power', 'kilometer', 'registration_month']\n",
    "\n",
    "transformer = ColumnTransformer([('cat_cols', OHE, cat_cols),\n",
    "                                ('num_cols', scaler, num_cols)],\n",
    "                                remainder='passthrough'\n",
    "                               )\n",
    "LinReg = Pipeline(\n",
    "    [('transforming', transformer),\n",
    "     ('linreg', LinearRegression())]\n",
    ")\n",
    "\n",
    "LinReg.fit(features_train, target_train)\n",
    "predicted_valid = LinReg.predict(features_valid)\n",
    "rmse_linear = mean_squared_error(target_valid, predicted_valid, squared=False)\n",
    "print('RMSE =', round(rmse_linear, 2))"
   ]
  },
  {
   "cell_type": "markdown",
   "metadata": {},
   "source": [
    "\n",
    "### Модель Решающее дерево"
   ]
  },
  {
   "cell_type": "markdown",
   "metadata": {},
   "source": [
    "#### Ordinal Encoding"
   ]
  },
  {
   "cell_type": "markdown",
   "metadata": {},
   "source": [
    "Для модели Решающее дерево закодируем категориальные признаки через Ordinal Encoding. Для нахождения оптимальной глубины дерева решенийиспользуем GridSearch."
   ]
  },
  {
   "cell_type": "markdown",
   "metadata": {},
   "source": [
    "#### Обучение модели"
   ]
  },
  {
   "cell_type": "code",
   "execution_count": 80,
   "metadata": {
    "scrolled": true
   },
   "outputs": [
    {
     "name": "stdout",
     "output_type": "stream",
     "text": [
      "Best params are : {'tree__max_depth': 9}\n",
      "Best training rmse: 2083.331\n"
     ]
    }
   ],
   "source": [
    "encoder = OrdinalEncoder(handle_unknown = 'use_encoded_value', unknown_value = 500)\n",
    "scaler = StandardScaler()\n",
    "\n",
    "cat_cols = ['vehicle_type', 'gearbox', 'model', 'fuel_type', 'brand', 'not_repaired']\n",
    "num_cols = ['registration_year', 'power', 'kilometer', 'registration_month']\n",
    "\n",
    "transformer = ColumnTransformer([('cat_cols', encoder, cat_cols),\n",
    "                                ('num_cols', scaler, num_cols)],\n",
    "                                remainder='passthrough'\n",
    "                               )\n",
    "pipe_tree = Pipeline([('transform', transformer),\n",
    "                      ('tree', DecisionTreeRegressor(random_state=12345))])\n",
    "grid_params_tree = [{'tree__max_depth' : range(1, 10)}]\n",
    "tree_search = GridSearchCV(estimator=pipe_tree,\n",
    "            param_grid=grid_params_tree,\n",
    "            scoring='neg_root_mean_squared_error',\n",
    "            cv=10, \n",
    "            n_jobs=-1)\n",
    "tree_search.fit(features_train, target_train)\n",
    "print('Best params are : %s' % tree_search.best_params_)\n",
    "print('Best training rmse: %.3f' % abs(tree_search.best_score_))"
   ]
  },
  {
   "cell_type": "markdown",
   "metadata": {},
   "source": [
    "Работа модели с оптимальной глубиной:"
   ]
  },
  {
   "cell_type": "code",
   "execution_count": 81,
   "metadata": {},
   "outputs": [
    {
     "name": "stdout",
     "output_type": "stream",
     "text": [
      "RMSE = 2090.17\n"
     ]
    }
   ],
   "source": [
    "TreeReg = tree_search.best_estimator_\n",
    "predicted_valid = tree_search.predict(features_valid)\n",
    "rmse_tree = mean_squared_error(target_valid, predicted_valid, squared=False)\n",
    "print('RMSE =', round(rmse_tree, 2))"
   ]
  },
  {
   "cell_type": "markdown",
   "metadata": {},
   "source": [
    "### Модель Случайный лес"
   ]
  },
  {
   "cell_type": "markdown",
   "metadata": {},
   "source": [
    "#### Подбор гиперпараметров"
   ]
  },
  {
   "cell_type": "markdown",
   "metadata": {},
   "source": [
    "Напишем цикл для нахождения оптимального числа деревьев и глубины дерева:"
   ]
  },
  {
   "cell_type": "code",
   "execution_count": 82,
   "metadata": {
    "scrolled": true
   },
   "outputs": [
    {
     "name": "stdout",
     "output_type": "stream",
     "text": [
      "Best params are : {'forest__max_depth': 14, 'forest__n_estimators': 90}\n",
      "Best training rmse: 1719.206\n"
     ]
    }
   ],
   "source": [
    "encoder = OrdinalEncoder(handle_unknown = 'use_encoded_value', unknown_value = 500)\n",
    "scaler = StandardScaler()\n",
    "\n",
    "cat_cols = ['vehicle_type', 'gearbox', 'model', 'fuel_type', 'brand', 'not_repaired']\n",
    "num_cols = ['registration_year', 'power', 'kilometer', 'registration_month']\n",
    "\n",
    "transformer = ColumnTransformer([('cat_cols', encoder, cat_cols),\n",
    "                                ('num_cols', scaler, num_cols)],\n",
    "                                remainder='passthrough'\n",
    "                               )\n",
    "pipe_forest = Pipeline([('transform', transformer),\n",
    "                      ('forest', RandomForestRegressor(random_state=12345))])\n",
    "grid_params_forest = [{'forest__n_estimators': range(10, 110, 10),\n",
    "                   'forest__max_depth': range(1, 15)}]\n",
    "forest_search = GridSearchCV(estimator=pipe_forest,\n",
    "            param_grid=grid_params_forest,\n",
    "            scoring='neg_root_mean_squared_error',\n",
    "            cv=10, \n",
    "            n_jobs=-1)\n",
    "forest_search.fit(features_train, target_train)\n",
    "print('Best params are : %s' % forest_search.best_params_)\n",
    "print('Best training rmse: %.3f' % abs(forest_search.best_score_))"
   ]
  },
  {
   "cell_type": "markdown",
   "metadata": {},
   "source": [
    "### Обучение модели"
   ]
  },
  {
   "cell_type": "markdown",
   "metadata": {},
   "source": [
    "Выполним предсказание модели с наилучшими гиперпараметрами:"
   ]
  },
  {
   "cell_type": "code",
   "execution_count": 83,
   "metadata": {},
   "outputs": [
    {
     "name": "stdout",
     "output_type": "stream",
     "text": [
      "RMSE: 1713.49\n"
     ]
    }
   ],
   "source": [
    "ForestReg = forest_search.best_estimator_\n",
    "predicted_valid = forest_search.predict(features_valid)\n",
    "rmse_forest = mean_squared_error(target_valid, predicted_valid, squared=False) # считаем RMSE\n",
    "print(\"RMSE:\", round(rmse_forest, 2))"
   ]
  },
  {
   "cell_type": "markdown",
   "metadata": {},
   "source": [
    "### Модель LightGBM"
   ]
  },
  {
   "cell_type": "markdown",
   "metadata": {},
   "source": [
    "Модель LightGBM может обрабатывать категориальные и числовые признаки кодирования и масштабирования."
   ]
  },
  {
   "cell_type": "markdown",
   "metadata": {},
   "source": [
    "Подготавливаем типы данных категориальных признаков:"
   ]
  },
  {
   "cell_type": "code",
   "execution_count": 84,
   "metadata": {},
   "outputs": [],
   "source": [
    "cat_features = ['vehicle_type', 'gearbox', 'model', \n",
    "                'fuel_type', 'brand', 'not_repaired']\n",
    "features_train[cat_features] = features_train[cat_features].astype('category')\n",
    "features_valid[cat_features] = features_valid[cat_features].astype('category')\n",
    "features_test[cat_features] = features_test[cat_features].astype('category')\n",
    "features_train_and_valid[cat_features] = features_train_and_valid[cat_features].astype('category')"
   ]
  },
  {
   "cell_type": "markdown",
   "metadata": {},
   "source": [
    "#### Подбор гиперпараметров"
   ]
  },
  {
   "cell_type": "code",
   "execution_count": 85,
   "metadata": {},
   "outputs": [
    {
     "name": "stdout",
     "output_type": "stream",
     "text": [
      "Best params are : {'learning_rate': 0.3, 'n_estimators': 100, 'num_leaves': 45}\n",
      "Best training rmse: 1623.574\n"
     ]
    }
   ],
   "source": [
    "LightReg = lgb.LGBMRegressor(random_state=12345,\n",
    "                             metric = 'l2_root',\n",
    "                             n_jobs = -1)\n",
    "grid_params_light = [{'n_estimators' : range(50, 110, 10),\n",
    "                      'num_leaves'   : range(5, 50, 5),\n",
    "                      'learning_rate': [0.1, 0.3, 0.5, 0.7]}]\n",
    "light_search = GridSearchCV(estimator=LightReg,\n",
    "            param_grid=grid_params_light,\n",
    "            scoring='neg_root_mean_squared_error',\n",
    "            cv=10, \n",
    "            n_jobs=-1)\n",
    "light_search.fit(features_train, target_train)\n",
    "print('Best params are : %s' % light_search.best_params_)\n",
    "print('Best training rmse: %.3f' % abs(light_search.best_score_))"
   ]
  },
  {
   "cell_type": "markdown",
   "metadata": {},
   "source": [
    "#### Обучение модели"
   ]
  },
  {
   "cell_type": "markdown",
   "metadata": {},
   "source": [
    "Обучим модель с наилучшими найденными гиперпараметрами."
   ]
  },
  {
   "cell_type": "code",
   "execution_count": 86,
   "metadata": {},
   "outputs": [
    {
     "name": "stdout",
     "output_type": "stream",
     "text": [
      "RMSE: 1627.5\n"
     ]
    }
   ],
   "source": [
    "LightReg = light_search.best_estimator_\n",
    "LightReg.fit(features_train, target_train, categorical_feature = 'auto')\n",
    "predicted_valid = LightReg.predict(features_valid)\n",
    "rmse_light = mean_squared_error(target_valid, predicted_valid, squared=False) # считаем RMSE\n",
    "print(\"RMSE:\", round(rmse_light, 2))"
   ]
  },
  {
   "cell_type": "markdown",
   "metadata": {},
   "source": [
    "### Модель CatBoost "
   ]
  },
  {
   "cell_type": "markdown",
   "metadata": {},
   "source": [
    "#### Подбор гиперпараметров"
   ]
  },
  {
   "cell_type": "markdown",
   "metadata": {},
   "source": [
    "Внесём изменения в некоторые параметры, которые могут сильно повлиять на результат обучения. Это максимальная глубина дерева depth, скорость обучения learning_rate и количество деревьев в ансамбле iterations."
   ]
  },
  {
   "cell_type": "code",
   "execution_count": 87,
   "metadata": {
    "scrolled": true
   },
   "outputs": [
    {
     "name": "stdout",
     "output_type": "stream",
     "text": [
      "0:\tlearn: 2855.8680973\ttotal: 309ms\tremaining: 33.7s\n",
      "1:\tlearn: 2456.9082930\ttotal: 499ms\tremaining: 26.9s\n",
      "2:\tlearn: 2278.3591232\ttotal: 703ms\tremaining: 25.1s\n",
      "3:\tlearn: 2187.8125492\ttotal: 885ms\tremaining: 23.4s\n",
      "4:\tlearn: 2134.2912655\ttotal: 1.06s\tremaining: 22.2s\n",
      "5:\tlearn: 2075.0123806\ttotal: 1.22s\tremaining: 21.1s\n",
      "6:\tlearn: 2013.2712184\ttotal: 1.4s\tremaining: 20.6s\n",
      "7:\tlearn: 1994.4539584\ttotal: 1.58s\tremaining: 20.1s\n",
      "8:\tlearn: 1972.1447541\ttotal: 1.73s\tremaining: 19.4s\n",
      "9:\tlearn: 1955.5351295\ttotal: 1.88s\tremaining: 18.8s\n",
      "10:\tlearn: 1932.8527067\ttotal: 2.04s\tremaining: 18.3s\n",
      "11:\tlearn: 1921.6458749\ttotal: 2.19s\tremaining: 17.9s\n",
      "12:\tlearn: 1907.0849363\ttotal: 2.34s\tremaining: 17.5s\n",
      "13:\tlearn: 1885.0779459\ttotal: 2.5s\tremaining: 17.2s\n",
      "14:\tlearn: 1877.6321181\ttotal: 2.65s\tremaining: 16.8s\n",
      "15:\tlearn: 1869.1265821\ttotal: 2.81s\tremaining: 16.5s\n",
      "16:\tlearn: 1863.3594792\ttotal: 2.97s\tremaining: 16.2s\n",
      "17:\tlearn: 1853.6185602\ttotal: 3.13s\tremaining: 16s\n",
      "18:\tlearn: 1845.0495776\ttotal: 3.3s\tremaining: 15.8s\n",
      "19:\tlearn: 1838.0493799\ttotal: 3.46s\tremaining: 15.6s\n",
      "20:\tlearn: 1831.9139840\ttotal: 3.61s\tremaining: 15.3s\n",
      "21:\tlearn: 1824.6037081\ttotal: 3.78s\tremaining: 15.1s\n",
      "22:\tlearn: 1815.9485971\ttotal: 3.93s\tremaining: 14.9s\n",
      "23:\tlearn: 1808.8099250\ttotal: 4.09s\tremaining: 14.7s\n",
      "24:\tlearn: 1804.5965681\ttotal: 4.24s\tremaining: 14.4s\n",
      "25:\tlearn: 1799.6556927\ttotal: 4.4s\tremaining: 14.2s\n",
      "26:\tlearn: 1793.6653779\ttotal: 4.56s\tremaining: 14s\n",
      "27:\tlearn: 1788.6783670\ttotal: 4.72s\tremaining: 13.8s\n",
      "28:\tlearn: 1783.5111043\ttotal: 4.88s\tremaining: 13.6s\n",
      "29:\tlearn: 1780.0184680\ttotal: 5.04s\tremaining: 13.4s\n",
      "30:\tlearn: 1775.4480199\ttotal: 5.2s\tremaining: 13.2s\n",
      "31:\tlearn: 1771.7839634\ttotal: 5.35s\tremaining: 13s\n",
      "32:\tlearn: 1768.7765202\ttotal: 5.51s\tremaining: 12.9s\n",
      "33:\tlearn: 1764.7005086\ttotal: 5.66s\tremaining: 12.7s\n",
      "34:\tlearn: 1760.4754439\ttotal: 5.84s\tremaining: 12.5s\n",
      "35:\tlearn: 1757.2916526\ttotal: 6.01s\tremaining: 12.4s\n",
      "36:\tlearn: 1754.6780862\ttotal: 6.17s\tremaining: 12.2s\n",
      "37:\tlearn: 1752.2069163\ttotal: 6.32s\tremaining: 12s\n",
      "38:\tlearn: 1750.2822383\ttotal: 6.47s\tremaining: 11.8s\n",
      "39:\tlearn: 1747.8105538\ttotal: 6.63s\tremaining: 11.6s\n",
      "40:\tlearn: 1745.3860627\ttotal: 6.79s\tremaining: 11.4s\n",
      "41:\tlearn: 1742.6905663\ttotal: 6.96s\tremaining: 11.3s\n",
      "42:\tlearn: 1740.1762967\ttotal: 7.15s\tremaining: 11.1s\n",
      "43:\tlearn: 1737.1348407\ttotal: 7.35s\tremaining: 11s\n",
      "44:\tlearn: 1735.2929575\ttotal: 7.52s\tremaining: 10.9s\n",
      "45:\tlearn: 1732.5041473\ttotal: 7.67s\tremaining: 10.7s\n",
      "46:\tlearn: 1730.5686167\ttotal: 7.83s\tremaining: 10.5s\n",
      "47:\tlearn: 1728.4344349\ttotal: 8s\tremaining: 10.3s\n",
      "48:\tlearn: 1725.5893415\ttotal: 8.2s\tremaining: 10.2s\n",
      "49:\tlearn: 1722.3517743\ttotal: 8.39s\tremaining: 10.1s\n",
      "50:\tlearn: 1721.2768815\ttotal: 8.56s\tremaining: 9.9s\n",
      "51:\tlearn: 1719.5588773\ttotal: 8.71s\tremaining: 9.72s\n",
      "52:\tlearn: 1718.1086486\ttotal: 8.87s\tremaining: 9.54s\n",
      "53:\tlearn: 1716.2349298\ttotal: 9.03s\tremaining: 9.37s\n",
      "54:\tlearn: 1714.1016337\ttotal: 9.19s\tremaining: 9.19s\n",
      "55:\tlearn: 1712.1611831\ttotal: 9.34s\tremaining: 9.01s\n",
      "56:\tlearn: 1712.1129110\ttotal: 9.49s\tremaining: 8.82s\n",
      "57:\tlearn: 1711.0939576\ttotal: 9.64s\tremaining: 8.65s\n",
      "58:\tlearn: 1709.4374155\ttotal: 9.8s\tremaining: 8.47s\n",
      "59:\tlearn: 1707.6374481\ttotal: 9.96s\tremaining: 8.3s\n",
      "60:\tlearn: 1705.3060190\ttotal: 10.1s\tremaining: 8.13s\n",
      "61:\tlearn: 1704.5002517\ttotal: 10.3s\tremaining: 7.96s\n",
      "62:\tlearn: 1704.0325927\ttotal: 10.4s\tremaining: 7.78s\n",
      "63:\tlearn: 1702.4977329\ttotal: 10.6s\tremaining: 7.62s\n",
      "64:\tlearn: 1701.0604340\ttotal: 10.8s\tremaining: 7.46s\n",
      "65:\tlearn: 1699.0424129\ttotal: 10.9s\tremaining: 7.29s\n",
      "66:\tlearn: 1697.0279458\ttotal: 11.1s\tremaining: 7.12s\n",
      "67:\tlearn: 1695.9557067\ttotal: 11.2s\tremaining: 6.95s\n",
      "68:\tlearn: 1695.1575019\ttotal: 11.4s\tremaining: 6.77s\n",
      "69:\tlearn: 1693.6816622\ttotal: 11.6s\tremaining: 6.6s\n",
      "70:\tlearn: 1692.5589871\ttotal: 11.7s\tremaining: 6.45s\n",
      "71:\tlearn: 1691.2937362\ttotal: 11.9s\tremaining: 6.28s\n",
      "72:\tlearn: 1689.4332254\ttotal: 12.1s\tremaining: 6.12s\n",
      "73:\tlearn: 1687.1791398\ttotal: 12.2s\tremaining: 5.95s\n",
      "74:\tlearn: 1685.8379675\ttotal: 12.4s\tremaining: 5.78s\n",
      "75:\tlearn: 1684.6729110\ttotal: 12.6s\tremaining: 5.62s\n",
      "76:\tlearn: 1683.0122050\ttotal: 12.7s\tremaining: 5.46s\n",
      "77:\tlearn: 1681.6061956\ttotal: 12.9s\tremaining: 5.29s\n",
      "78:\tlearn: 1680.3782153\ttotal: 13s\tremaining: 5.12s\n",
      "79:\tlearn: 1678.7938771\ttotal: 13.2s\tremaining: 4.96s\n",
      "80:\tlearn: 1676.9064362\ttotal: 13.4s\tremaining: 4.79s\n",
      "81:\tlearn: 1675.7085089\ttotal: 13.5s\tremaining: 4.62s\n",
      "82:\tlearn: 1674.7865239\ttotal: 13.7s\tremaining: 4.45s\n",
      "83:\tlearn: 1673.8030184\ttotal: 13.8s\tremaining: 4.28s\n",
      "84:\tlearn: 1672.7551440\ttotal: 14s\tremaining: 4.12s\n",
      "85:\tlearn: 1671.9091145\ttotal: 14.2s\tremaining: 3.95s\n",
      "86:\tlearn: 1671.2166246\ttotal: 14.3s\tremaining: 3.78s\n",
      "87:\tlearn: 1669.7485300\ttotal: 14.5s\tremaining: 3.61s\n",
      "88:\tlearn: 1668.9085827\ttotal: 14.6s\tremaining: 3.45s\n",
      "89:\tlearn: 1667.1758909\ttotal: 14.8s\tremaining: 3.28s\n",
      "90:\tlearn: 1666.5695213\ttotal: 14.9s\tremaining: 3.12s\n",
      "91:\tlearn: 1665.9194276\ttotal: 15.1s\tremaining: 2.95s\n",
      "92:\tlearn: 1664.7762327\ttotal: 15.2s\tremaining: 2.79s\n",
      "93:\tlearn: 1664.4990224\ttotal: 15.4s\tremaining: 2.63s\n",
      "94:\tlearn: 1663.6566698\ttotal: 15.7s\tremaining: 2.47s\n",
      "95:\tlearn: 1662.4893026\ttotal: 15.8s\tremaining: 2.31s\n",
      "96:\tlearn: 1661.9657027\ttotal: 16s\tremaining: 2.15s\n",
      "97:\tlearn: 1660.5763820\ttotal: 16.2s\tremaining: 1.98s\n",
      "98:\tlearn: 1659.5290028\ttotal: 16.3s\tremaining: 1.81s\n",
      "99:\tlearn: 1658.9305481\ttotal: 16.5s\tremaining: 1.65s\n",
      "100:\tlearn: 1656.4237822\ttotal: 16.6s\tremaining: 1.48s\n",
      "101:\tlearn: 1656.0425106\ttotal: 16.8s\tremaining: 1.32s\n",
      "102:\tlearn: 1654.1629598\ttotal: 16.9s\tremaining: 1.15s\n",
      "103:\tlearn: 1652.1630365\ttotal: 17.1s\tremaining: 986ms\n",
      "104:\tlearn: 1651.2072694\ttotal: 17.2s\tremaining: 821ms\n",
      "105:\tlearn: 1650.6399706\ttotal: 17.4s\tremaining: 657ms\n",
      "106:\tlearn: 1648.8592600\ttotal: 17.6s\tremaining: 493ms\n",
      "107:\tlearn: 1647.8860236\ttotal: 17.7s\tremaining: 328ms\n",
      "108:\tlearn: 1647.3657374\ttotal: 17.9s\tremaining: 164ms\n",
      "109:\tlearn: 1646.2141693\ttotal: 18s\tremaining: 0us\n",
      "Best params are : {'depth': 6, 'iterations': 110, 'learning_rate': 0.8}\n",
      "Best training rmse: 1704.311\n"
     ]
    }
   ],
   "source": [
    "CatBReg = CatBoostRegressor(random_state=12345,\n",
    "                            loss_function=\"RMSE\",\n",
    "                            cat_features=cat_features)\n",
    "grid_params_cat = [{'iterations'     : range(10, 120, 10),\n",
    "                      'depth'        : range(1, 7),\n",
    "                      'learning_rate': [0.1, 0.4, 0.6, 0.8, 1]}]\n",
    "cat_search = GridSearchCV(estimator=CatBReg,\n",
    "            param_grid=grid_params_cat,\n",
    "            scoring='neg_root_mean_squared_error',\n",
    "            cv=10, \n",
    "            n_jobs=-1,\n",
    "            verbose=False)\n",
    "cat_search.fit(features_train, target_train)\n",
    "print('Best params are : %s' % cat_search.best_params_)\n",
    "print('Best training rmse: %.3f' % abs(cat_search.best_score_))"
   ]
  },
  {
   "cell_type": "markdown",
   "metadata": {},
   "source": [
    "#### Обучение модели"
   ]
  },
  {
   "cell_type": "markdown",
   "metadata": {},
   "source": [
    "Работа модели с наилучшими гиперпараметрами:"
   ]
  },
  {
   "cell_type": "code",
   "execution_count": 88,
   "metadata": {},
   "outputs": [
    {
     "name": "stdout",
     "output_type": "stream",
     "text": [
      "RMSE: 1720.09\n"
     ]
    }
   ],
   "source": [
    "CatBReg = cat_search.best_estimator_\n",
    "CatBReg.fit(features_train, target_train, verbose=False)\n",
    "predicted_valid = CatBReg.predict(features_valid)\n",
    "rmse_cat = mean_squared_error(target_valid, predicted_valid, squared=False) # считаем RMSE\n",
    "print(\"RMSE:\", round(rmse_cat, 2))"
   ]
  },
  {
   "cell_type": "markdown",
   "metadata": {},
   "source": [
    "### Константная модель "
   ]
  },
  {
   "cell_type": "markdown",
   "metadata": {},
   "source": [
    "Для проверки моделей на адекватность сравним их работу с константной моделью, которая всегда даёт в качестве ответа медианное значение целевого признака в обучающей выборке."
   ]
  },
  {
   "cell_type": "code",
   "execution_count": 89,
   "metadata": {},
   "outputs": [
    {
     "name": "stdout",
     "output_type": "stream",
     "text": [
      "RMSE константной модели: 4834.08\n"
     ]
    }
   ],
   "source": [
    "median_const = target_train.median()\n",
    "predicted_valid = pd.Series([median_const]*len(target_valid))\n",
    "rmse_constant = mean_squared_error(target_valid, predicted_valid, squared=False) # считаем RMSE\n",
    "print(\"RMSE константной модели:\", round(rmse_constant, 2))"
   ]
  },
  {
   "cell_type": "markdown",
   "metadata": {},
   "source": [
    "Все модели проходят проверку на адекватность и опережают константную модель по значению RMSE."
   ]
  },
  {
   "cell_type": "markdown",
   "metadata": {},
   "source": [
    "## Анализ моделей"
   ]
  },
  {
   "cell_type": "markdown",
   "metadata": {},
   "source": [
    "Проанализируем качество и время работы моделей на тестовой выборке.\n",
    "\n",
    "Понадобится функция, проводящая тест модели. \n",
    "\n",
    "**На вход** она будет получать модель, а также обучающие и тестовые признаки. \n",
    "\n",
    "**На выход** она будет выдавать полученные характеристики модели в виде списка:\n",
    "- RMSE на тестовой выборке\n",
    "- Время обучения\n",
    "- Время предсказания"
   ]
  },
  {
   "cell_type": "code",
   "execution_count": 97,
   "metadata": {},
   "outputs": [],
   "source": [
    "def model_test(model, features_train, target_train, features_test, target_test):\n",
    "    train_time = %timeit -r3 -n1 -o model.fit(features_train, target_train)\n",
    "    predicted_test = model.predict(features_test)\n",
    "    predict_time = %timeit -r3 -n1 -o predicted_test = model.predict(features_test)\n",
    "    rmse = mean_squared_error(target_test, predicted_test, squared=False)\n",
    "    print('RMSE =', round(rmse, 2))\n",
    "    print('Время обучения', round(train_time.average, 2), 'сек')\n",
    "    print('Время предсказания', round(predict_time.average, 2), 'сек')\n",
    "    return([rmse, predict_time.average, train_time.average])"
   ]
  },
  {
   "cell_type": "markdown",
   "metadata": {},
   "source": [
    "### Модель Линейная регрессия"
   ]
  },
  {
   "cell_type": "code",
   "execution_count": 98,
   "metadata": {},
   "outputs": [
    {
     "name": "stdout",
     "output_type": "stream",
     "text": [
      "8.21 s ± 123 ms per loop (mean ± std. dev. of 3 runs, 1 loop each)\n",
      "138 ms ± 8.23 ms per loop (mean ± std. dev. of 3 runs, 1 loop each)\n",
      "RMSE = 2743.08\n",
      "Время обучения 8.21 сек\n",
      "Время предсказания 0.14 сек\n"
     ]
    }
   ],
   "source": [
    "LinReg_result = model_test(LinReg, features_train_and_valid, target_train_and_valid, features_test, target_test)"
   ]
  },
  {
   "cell_type": "markdown",
   "metadata": {},
   "source": [
    "\n",
    "### Модель Решающее дерево"
   ]
  },
  {
   "cell_type": "code",
   "execution_count": 99,
   "metadata": {
    "scrolled": true
   },
   "outputs": [
    {
     "name": "stdout",
     "output_type": "stream",
     "text": [
      "1.4 s ± 46.9 ms per loop (mean ± std. dev. of 3 runs, 1 loop each)\n",
      "122 ms ± 6.68 ms per loop (mean ± std. dev. of 3 runs, 1 loop each)\n",
      "RMSE = 2111.46\n",
      "Время обучения 1.4 сек\n",
      "Время предсказания 0.12 сек\n"
     ]
    }
   ],
   "source": [
    "TreeReg_result = model_test(TreeReg, features_train_and_valid, target_train_and_valid, features_test, target_test)"
   ]
  },
  {
   "cell_type": "markdown",
   "metadata": {},
   "source": [
    "### Модель Случайный лес"
   ]
  },
  {
   "cell_type": "code",
   "execution_count": 100,
   "metadata": {},
   "outputs": [
    {
     "name": "stdout",
     "output_type": "stream",
     "text": [
      "1min 11s ± 3.22 s per loop (mean ± std. dev. of 3 runs, 1 loop each)\n",
      "985 ms ± 13.8 ms per loop (mean ± std. dev. of 3 runs, 1 loop each)\n",
      "RMSE = 1731.91\n",
      "Время обучения 71.56 сек\n",
      "Время предсказания 0.99 сек\n"
     ]
    }
   ],
   "source": [
    "ForestReg_result = model_test(ForestReg, features_train_and_valid, target_train_and_valid, features_test, target_test)"
   ]
  },
  {
   "cell_type": "markdown",
   "metadata": {},
   "source": [
    "### Модель LightGBM"
   ]
  },
  {
   "cell_type": "code",
   "execution_count": 101,
   "metadata": {},
   "outputs": [
    {
     "name": "stdout",
     "output_type": "stream",
     "text": [
      "1.39 s ± 83.4 ms per loop (mean ± std. dev. of 3 runs, 1 loop each)\n",
      "173 ms ± 3.53 ms per loop (mean ± std. dev. of 3 runs, 1 loop each)\n",
      "RMSE = 1640.9\n",
      "Время обучения 1.39 сек\n",
      "Время предсказания 0.17 сек\n"
     ]
    }
   ],
   "source": [
    "LightReg_result = model_test(LightReg, features_train_and_valid, target_train_and_valid, features_test, target_test)"
   ]
  },
  {
   "cell_type": "markdown",
   "metadata": {},
   "source": [
    "### Модель CatBoost "
   ]
  },
  {
   "cell_type": "code",
   "execution_count": 102,
   "metadata": {
    "scrolled": true
   },
   "outputs": [
    {
     "name": "stdout",
     "output_type": "stream",
     "text": [
      "0:\tlearn: 2791.2727999\ttotal: 212ms\tremaining: 23.1s\n",
      "1:\tlearn: 2404.4360655\ttotal: 413ms\tremaining: 22.3s\n",
      "2:\tlearn: 2241.9226619\ttotal: 611ms\tremaining: 21.8s\n",
      "3:\tlearn: 2141.2556678\ttotal: 801ms\tremaining: 21.2s\n",
      "4:\tlearn: 2069.9525282\ttotal: 982ms\tremaining: 20.6s\n",
      "5:\tlearn: 2024.1264317\ttotal: 1.2s\tremaining: 20.7s\n",
      "6:\tlearn: 1994.5425785\ttotal: 1.38s\tremaining: 20.3s\n",
      "7:\tlearn: 1967.1622901\ttotal: 1.58s\tremaining: 20.2s\n",
      "8:\tlearn: 1955.6540065\ttotal: 1.79s\tremaining: 20.1s\n",
      "9:\tlearn: 1938.6006911\ttotal: 2.06s\tremaining: 20.7s\n",
      "10:\tlearn: 1928.1492461\ttotal: 2.25s\tremaining: 20.3s\n",
      "11:\tlearn: 1913.4167774\ttotal: 2.44s\tremaining: 20s\n",
      "12:\tlearn: 1903.9551091\ttotal: 2.66s\tremaining: 19.8s\n",
      "13:\tlearn: 1893.1876627\ttotal: 2.88s\tremaining: 19.8s\n",
      "14:\tlearn: 1886.2773726\ttotal: 3.09s\tremaining: 19.6s\n",
      "15:\tlearn: 1876.8448147\ttotal: 3.32s\tremaining: 19.5s\n",
      "16:\tlearn: 1868.6095193\ttotal: 3.51s\tremaining: 19.2s\n",
      "17:\tlearn: 1854.4238484\ttotal: 3.69s\tremaining: 18.8s\n",
      "18:\tlearn: 1844.3454953\ttotal: 3.92s\tremaining: 18.8s\n",
      "19:\tlearn: 1839.9160907\ttotal: 4.12s\tremaining: 18.5s\n",
      "20:\tlearn: 1832.8738214\ttotal: 4.3s\tremaining: 18.2s\n",
      "21:\tlearn: 1825.2326990\ttotal: 4.55s\tremaining: 18.2s\n",
      "22:\tlearn: 1822.0555554\ttotal: 4.79s\tremaining: 18.1s\n",
      "23:\tlearn: 1814.3312894\ttotal: 4.97s\tremaining: 17.8s\n",
      "24:\tlearn: 1809.1267247\ttotal: 5.21s\tremaining: 17.7s\n",
      "25:\tlearn: 1806.4557391\ttotal: 5.39s\tremaining: 17.4s\n",
      "26:\tlearn: 1799.4790090\ttotal: 5.57s\tremaining: 17.1s\n",
      "27:\tlearn: 1790.7912042\ttotal: 5.75s\tremaining: 16.8s\n",
      "28:\tlearn: 1786.2652620\ttotal: 5.93s\tremaining: 16.6s\n",
      "29:\tlearn: 1780.1218810\ttotal: 6.12s\tremaining: 16.3s\n",
      "30:\tlearn: 1776.9282603\ttotal: 6.31s\tremaining: 16.1s\n",
      "31:\tlearn: 1774.4975090\ttotal: 6.5s\tremaining: 15.8s\n",
      "32:\tlearn: 1768.0424721\ttotal: 6.7s\tremaining: 15.6s\n",
      "33:\tlearn: 1763.9268797\ttotal: 6.88s\tremaining: 15.4s\n",
      "34:\tlearn: 1759.5896854\ttotal: 7.07s\tremaining: 15.2s\n",
      "35:\tlearn: 1756.7658634\ttotal: 7.25s\tremaining: 14.9s\n",
      "36:\tlearn: 1752.8877337\ttotal: 7.43s\tremaining: 14.7s\n",
      "37:\tlearn: 1749.2117961\ttotal: 7.62s\tremaining: 14.4s\n",
      "38:\tlearn: 1745.0656576\ttotal: 7.82s\tremaining: 14.2s\n",
      "39:\tlearn: 1743.4078562\ttotal: 8.07s\tremaining: 14.1s\n",
      "40:\tlearn: 1740.9297453\ttotal: 8.26s\tremaining: 13.9s\n",
      "41:\tlearn: 1738.4924344\ttotal: 8.45s\tremaining: 13.7s\n",
      "42:\tlearn: 1737.3440593\ttotal: 8.64s\tremaining: 13.5s\n",
      "43:\tlearn: 1733.6981645\ttotal: 8.87s\tremaining: 13.3s\n",
      "44:\tlearn: 1732.4311380\ttotal: 9.07s\tremaining: 13.1s\n",
      "45:\tlearn: 1729.8851941\ttotal: 9.25s\tremaining: 12.9s\n",
      "46:\tlearn: 1727.1862381\ttotal: 9.42s\tremaining: 12.6s\n",
      "47:\tlearn: 1725.7303299\ttotal: 9.6s\tremaining: 12.4s\n",
      "48:\tlearn: 1723.9350182\ttotal: 9.78s\tremaining: 12.2s\n",
      "49:\tlearn: 1722.1357261\ttotal: 9.96s\tremaining: 11.9s\n",
      "50:\tlearn: 1720.3071313\ttotal: 10.2s\tremaining: 11.8s\n",
      "51:\tlearn: 1717.9988605\ttotal: 10.4s\tremaining: 11.6s\n",
      "52:\tlearn: 1716.2689891\ttotal: 10.6s\tremaining: 11.4s\n",
      "53:\tlearn: 1713.2145112\ttotal: 10.8s\tremaining: 11.2s\n",
      "54:\tlearn: 1710.9034739\ttotal: 11s\tremaining: 11s\n",
      "55:\tlearn: 1708.4828358\ttotal: 11.2s\tremaining: 10.8s\n",
      "56:\tlearn: 1706.9067883\ttotal: 11.4s\tremaining: 10.6s\n",
      "57:\tlearn: 1705.6661439\ttotal: 11.7s\tremaining: 10.5s\n",
      "58:\tlearn: 1704.0557348\ttotal: 11.9s\tremaining: 10.3s\n",
      "59:\tlearn: 1702.6505939\ttotal: 12.1s\tremaining: 10.1s\n",
      "60:\tlearn: 1701.2577410\ttotal: 12.4s\tremaining: 9.92s\n",
      "61:\tlearn: 1698.0343632\ttotal: 12.5s\tremaining: 9.71s\n",
      "62:\tlearn: 1696.4505851\ttotal: 12.7s\tremaining: 9.5s\n",
      "63:\tlearn: 1694.0344187\ttotal: 12.9s\tremaining: 9.3s\n",
      "64:\tlearn: 1691.6420203\ttotal: 13.1s\tremaining: 9.09s\n",
      "65:\tlearn: 1690.4318321\ttotal: 13.3s\tremaining: 8.88s\n",
      "66:\tlearn: 1688.4777452\ttotal: 13.5s\tremaining: 8.66s\n",
      "67:\tlearn: 1687.8660049\ttotal: 13.7s\tremaining: 8.45s\n",
      "68:\tlearn: 1687.2068248\ttotal: 13.9s\tremaining: 8.25s\n",
      "69:\tlearn: 1685.2364678\ttotal: 14.1s\tremaining: 8.04s\n",
      "70:\tlearn: 1683.7514432\ttotal: 14.2s\tremaining: 7.83s\n",
      "71:\tlearn: 1682.3807910\ttotal: 14.4s\tremaining: 7.62s\n",
      "72:\tlearn: 1681.6160149\ttotal: 14.6s\tremaining: 7.41s\n",
      "73:\tlearn: 1680.0230046\ttotal: 14.8s\tremaining: 7.21s\n",
      "74:\tlearn: 1679.4536809\ttotal: 15s\tremaining: 7s\n",
      "75:\tlearn: 1678.2952295\ttotal: 15.2s\tremaining: 6.79s\n",
      "76:\tlearn: 1676.9088695\ttotal: 15.4s\tremaining: 6.58s\n",
      "77:\tlearn: 1676.2059307\ttotal: 15.6s\tremaining: 6.38s\n",
      "78:\tlearn: 1675.1999981\ttotal: 15.7s\tremaining: 6.17s\n",
      "79:\tlearn: 1674.2257766\ttotal: 15.9s\tremaining: 5.97s\n",
      "80:\tlearn: 1673.2352754\ttotal: 16.1s\tremaining: 5.77s\n",
      "81:\tlearn: 1671.3174401\ttotal: 16.4s\tremaining: 5.58s\n",
      "82:\tlearn: 1669.7682953\ttotal: 16.5s\tremaining: 5.38s\n",
      "83:\tlearn: 1668.1468677\ttotal: 16.8s\tremaining: 5.19s\n",
      "84:\tlearn: 1667.0658967\ttotal: 16.9s\tremaining: 4.98s\n",
      "85:\tlearn: 1664.6476168\ttotal: 17.1s\tremaining: 4.78s\n",
      "86:\tlearn: 1663.2893085\ttotal: 17.3s\tremaining: 4.58s\n",
      "87:\tlearn: 1662.3949441\ttotal: 17.5s\tremaining: 4.38s\n",
      "88:\tlearn: 1660.7109968\ttotal: 17.7s\tremaining: 4.17s\n",
      "89:\tlearn: 1660.1110707\ttotal: 17.9s\tremaining: 3.97s\n",
      "90:\tlearn: 1658.8273028\ttotal: 18.1s\tremaining: 3.77s\n",
      "91:\tlearn: 1657.8181576\ttotal: 18.2s\tremaining: 3.57s\n",
      "92:\tlearn: 1656.5113768\ttotal: 18.4s\tremaining: 3.37s\n",
      "93:\tlearn: 1654.4930687\ttotal: 18.6s\tremaining: 3.17s\n",
      "94:\tlearn: 1653.5335599\ttotal: 18.8s\tremaining: 2.96s\n",
      "95:\tlearn: 1652.0525071\ttotal: 19s\tremaining: 2.77s\n",
      "96:\tlearn: 1651.2021257\ttotal: 19.1s\tremaining: 2.56s\n",
      "97:\tlearn: 1650.8683279\ttotal: 19.3s\tremaining: 2.37s\n",
      "98:\tlearn: 1649.2824820\ttotal: 19.5s\tremaining: 2.17s\n",
      "99:\tlearn: 1647.7091449\ttotal: 19.7s\tremaining: 1.97s\n",
      "100:\tlearn: 1647.1859854\ttotal: 19.9s\tremaining: 1.77s\n",
      "101:\tlearn: 1645.4817520\ttotal: 20s\tremaining: 1.57s\n",
      "102:\tlearn: 1644.7244863\ttotal: 20.2s\tremaining: 1.37s\n",
      "103:\tlearn: 1643.8937736\ttotal: 20.4s\tremaining: 1.18s\n",
      "104:\tlearn: 1642.2412000\ttotal: 20.6s\tremaining: 981ms\n",
      "105:\tlearn: 1641.6170770\ttotal: 20.8s\tremaining: 784ms\n",
      "106:\tlearn: 1640.6592399\ttotal: 21s\tremaining: 588ms\n",
      "107:\tlearn: 1639.2193119\ttotal: 21.2s\tremaining: 392ms\n",
      "108:\tlearn: 1638.8358798\ttotal: 21.3s\tremaining: 196ms\n",
      "109:\tlearn: 1638.8346218\ttotal: 21.5s\tremaining: 0us\n",
      "0:\tlearn: 2791.2727999\ttotal: 194ms\tremaining: 21.2s\n",
      "1:\tlearn: 2404.4360655\ttotal: 409ms\tremaining: 22.1s\n",
      "2:\tlearn: 2241.9226619\ttotal: 616ms\tremaining: 22s\n",
      "3:\tlearn: 2141.2556678\ttotal: 809ms\tremaining: 21.5s\n",
      "4:\tlearn: 2069.9525282\ttotal: 1.04s\tremaining: 21.8s\n",
      "5:\tlearn: 2024.1264317\ttotal: 1.24s\tremaining: 21.5s\n",
      "6:\tlearn: 1994.5425785\ttotal: 1.43s\tremaining: 21.1s\n",
      "7:\tlearn: 1967.1622901\ttotal: 1.65s\tremaining: 21s\n",
      "8:\tlearn: 1955.6540065\ttotal: 1.82s\tremaining: 20.5s\n",
      "9:\tlearn: 1938.6006911\ttotal: 2.02s\tremaining: 20.2s\n",
      "10:\tlearn: 1928.1492461\ttotal: 2.21s\tremaining: 19.9s\n",
      "11:\tlearn: 1913.4167774\ttotal: 2.39s\tremaining: 19.5s\n",
      "12:\tlearn: 1903.9551091\ttotal: 2.56s\tremaining: 19.1s\n",
      "13:\tlearn: 1893.1876627\ttotal: 2.75s\tremaining: 18.9s\n",
      "14:\tlearn: 1886.2773726\ttotal: 2.93s\tremaining: 18.6s\n",
      "15:\tlearn: 1876.8448147\ttotal: 3.12s\tremaining: 18.3s\n",
      "16:\tlearn: 1868.6095193\ttotal: 3.31s\tremaining: 18.1s\n",
      "17:\tlearn: 1854.4238484\ttotal: 3.49s\tremaining: 17.8s\n",
      "18:\tlearn: 1844.3454953\ttotal: 3.67s\tremaining: 17.6s\n",
      "19:\tlearn: 1839.9160907\ttotal: 3.86s\tremaining: 17.4s\n",
      "20:\tlearn: 1832.8738214\ttotal: 4.05s\tremaining: 17.2s\n",
      "21:\tlearn: 1825.2326990\ttotal: 4.25s\tremaining: 17s\n",
      "22:\tlearn: 1822.0555554\ttotal: 4.43s\tremaining: 16.8s\n",
      "23:\tlearn: 1814.3312894\ttotal: 4.61s\tremaining: 16.5s\n",
      "24:\tlearn: 1809.1267247\ttotal: 4.8s\tremaining: 16.3s\n",
      "25:\tlearn: 1806.4557391\ttotal: 4.98s\tremaining: 16.1s\n",
      "26:\tlearn: 1799.4790090\ttotal: 5.17s\tremaining: 15.9s\n",
      "27:\tlearn: 1790.7912042\ttotal: 5.36s\tremaining: 15.7s\n",
      "28:\tlearn: 1786.2652620\ttotal: 5.54s\tremaining: 15.5s\n",
      "29:\tlearn: 1780.1218810\ttotal: 5.72s\tremaining: 15.3s\n",
      "30:\tlearn: 1776.9282603\ttotal: 5.91s\tremaining: 15.1s\n",
      "31:\tlearn: 1774.4975090\ttotal: 6.1s\tremaining: 14.9s\n",
      "32:\tlearn: 1768.0424721\ttotal: 6.29s\tremaining: 14.7s\n",
      "33:\tlearn: 1763.9268797\ttotal: 6.49s\tremaining: 14.5s\n",
      "34:\tlearn: 1759.5896854\ttotal: 6.68s\tremaining: 14.3s\n",
      "35:\tlearn: 1756.7658634\ttotal: 6.87s\tremaining: 14.1s\n",
      "36:\tlearn: 1752.8877337\ttotal: 7.07s\tremaining: 14s\n",
      "37:\tlearn: 1749.2117961\ttotal: 7.3s\tremaining: 13.8s\n",
      "38:\tlearn: 1745.0656576\ttotal: 7.49s\tremaining: 13.6s\n",
      "39:\tlearn: 1743.4078562\ttotal: 7.72s\tremaining: 13.5s\n",
      "40:\tlearn: 1740.9297453\ttotal: 7.92s\tremaining: 13.3s\n",
      "41:\tlearn: 1738.4924344\ttotal: 8.15s\tremaining: 13.2s\n",
      "42:\tlearn: 1737.3440593\ttotal: 8.35s\tremaining: 13s\n"
     ]
    },
    {
     "name": "stdout",
     "output_type": "stream",
     "text": [
      "43:\tlearn: 1733.6981645\ttotal: 8.58s\tremaining: 12.9s\n",
      "44:\tlearn: 1732.4311380\ttotal: 8.79s\tremaining: 12.7s\n",
      "45:\tlearn: 1729.8851941\ttotal: 8.98s\tremaining: 12.5s\n",
      "46:\tlearn: 1727.1862381\ttotal: 9.18s\tremaining: 12.3s\n",
      "47:\tlearn: 1725.7303299\ttotal: 9.38s\tremaining: 12.1s\n",
      "48:\tlearn: 1723.9350182\ttotal: 9.62s\tremaining: 12s\n",
      "49:\tlearn: 1722.1357261\ttotal: 9.82s\tremaining: 11.8s\n",
      "50:\tlearn: 1720.3071313\ttotal: 10.1s\tremaining: 11.7s\n",
      "51:\tlearn: 1717.9988605\ttotal: 10.3s\tremaining: 11.4s\n",
      "52:\tlearn: 1716.2689891\ttotal: 10.5s\tremaining: 11.3s\n",
      "53:\tlearn: 1713.2145112\ttotal: 10.7s\tremaining: 11.1s\n",
      "54:\tlearn: 1710.9034739\ttotal: 10.9s\tremaining: 10.9s\n",
      "55:\tlearn: 1708.4828358\ttotal: 11.1s\tremaining: 10.7s\n",
      "56:\tlearn: 1706.9067883\ttotal: 11.3s\tremaining: 10.5s\n",
      "57:\tlearn: 1705.6661439\ttotal: 11.5s\tremaining: 10.3s\n",
      "58:\tlearn: 1704.0557348\ttotal: 11.6s\tremaining: 10.1s\n",
      "59:\tlearn: 1702.6505939\ttotal: 11.8s\tremaining: 9.86s\n",
      "60:\tlearn: 1701.2577410\ttotal: 12s\tremaining: 9.66s\n",
      "61:\tlearn: 1698.0343632\ttotal: 12.2s\tremaining: 9.46s\n",
      "62:\tlearn: 1696.4505851\ttotal: 12.4s\tremaining: 9.26s\n",
      "63:\tlearn: 1694.0344187\ttotal: 12.6s\tremaining: 9.06s\n",
      "64:\tlearn: 1691.6420203\ttotal: 12.8s\tremaining: 8.86s\n",
      "65:\tlearn: 1690.4318321\ttotal: 13s\tremaining: 8.67s\n",
      "66:\tlearn: 1688.4777452\ttotal: 13.2s\tremaining: 8.48s\n",
      "67:\tlearn: 1687.8660049\ttotal: 13.5s\tremaining: 8.31s\n",
      "68:\tlearn: 1687.2068248\ttotal: 13.7s\tremaining: 8.11s\n",
      "69:\tlearn: 1685.2364678\ttotal: 13.9s\tremaining: 7.93s\n",
      "70:\tlearn: 1683.7514432\ttotal: 14.1s\tremaining: 7.74s\n",
      "71:\tlearn: 1682.3807910\ttotal: 14.3s\tremaining: 7.55s\n",
      "72:\tlearn: 1681.6160149\ttotal: 14.5s\tremaining: 7.36s\n",
      "73:\tlearn: 1680.0230046\ttotal: 14.7s\tremaining: 7.16s\n",
      "74:\tlearn: 1679.4536809\ttotal: 14.9s\tremaining: 6.97s\n",
      "75:\tlearn: 1678.2952295\ttotal: 15.1s\tremaining: 6.77s\n",
      "76:\tlearn: 1676.9088695\ttotal: 15.3s\tremaining: 6.57s\n",
      "77:\tlearn: 1676.2059307\ttotal: 15.6s\tremaining: 6.4s\n",
      "78:\tlearn: 1675.1999981\ttotal: 15.8s\tremaining: 6.21s\n",
      "79:\tlearn: 1674.2257766\ttotal: 16.1s\tremaining: 6.03s\n",
      "80:\tlearn: 1673.2352754\ttotal: 16.3s\tremaining: 5.83s\n",
      "81:\tlearn: 1671.3174401\ttotal: 16.5s\tremaining: 5.63s\n",
      "82:\tlearn: 1669.7682953\ttotal: 16.7s\tremaining: 5.45s\n",
      "83:\tlearn: 1668.1468677\ttotal: 16.9s\tremaining: 5.25s\n",
      "84:\tlearn: 1667.0658967\ttotal: 17.2s\tremaining: 5.06s\n",
      "85:\tlearn: 1664.6476168\ttotal: 17.4s\tremaining: 4.86s\n",
      "86:\tlearn: 1663.2893085\ttotal: 17.6s\tremaining: 4.65s\n",
      "87:\tlearn: 1662.3949441\ttotal: 17.8s\tremaining: 4.45s\n",
      "88:\tlearn: 1660.7109968\ttotal: 18s\tremaining: 4.25s\n",
      "89:\tlearn: 1660.1110707\ttotal: 18.2s\tremaining: 4.04s\n",
      "90:\tlearn: 1658.8273028\ttotal: 18.4s\tremaining: 3.84s\n",
      "91:\tlearn: 1657.8181576\ttotal: 18.6s\tremaining: 3.63s\n",
      "92:\tlearn: 1656.5113768\ttotal: 18.8s\tremaining: 3.43s\n",
      "93:\tlearn: 1654.4930687\ttotal: 19s\tremaining: 3.23s\n",
      "94:\tlearn: 1653.5335599\ttotal: 19.2s\tremaining: 3.03s\n",
      "95:\tlearn: 1652.0525071\ttotal: 19.4s\tremaining: 2.83s\n",
      "96:\tlearn: 1651.2021257\ttotal: 19.6s\tremaining: 2.62s\n",
      "97:\tlearn: 1650.8683279\ttotal: 19.8s\tremaining: 2.42s\n",
      "98:\tlearn: 1649.2824820\ttotal: 20s\tremaining: 2.22s\n",
      "99:\tlearn: 1647.7091449\ttotal: 20.2s\tremaining: 2.02s\n",
      "100:\tlearn: 1647.1859854\ttotal: 20.4s\tremaining: 1.81s\n",
      "101:\tlearn: 1645.4817520\ttotal: 20.6s\tremaining: 1.61s\n",
      "102:\tlearn: 1644.7244863\ttotal: 20.8s\tremaining: 1.41s\n",
      "103:\tlearn: 1643.8937736\ttotal: 21s\tremaining: 1.21s\n",
      "104:\tlearn: 1642.2412000\ttotal: 21.2s\tremaining: 1.01s\n",
      "105:\tlearn: 1641.6170770\ttotal: 21.5s\tremaining: 810ms\n",
      "106:\tlearn: 1640.6592399\ttotal: 21.7s\tremaining: 607ms\n",
      "107:\tlearn: 1639.2193119\ttotal: 21.9s\tremaining: 405ms\n",
      "108:\tlearn: 1638.8358798\ttotal: 22.1s\tremaining: 203ms\n",
      "109:\tlearn: 1638.8346218\ttotal: 22.3s\tremaining: 0us\n",
      "0:\tlearn: 2791.2727999\ttotal: 196ms\tremaining: 21.3s\n",
      "1:\tlearn: 2404.4360655\ttotal: 404ms\tremaining: 21.8s\n",
      "2:\tlearn: 2241.9226619\ttotal: 638ms\tremaining: 22.8s\n",
      "3:\tlearn: 2141.2556678\ttotal: 871ms\tremaining: 23.1s\n",
      "4:\tlearn: 2069.9525282\ttotal: 1.08s\tremaining: 22.7s\n",
      "5:\tlearn: 2024.1264317\ttotal: 1.32s\tremaining: 22.9s\n",
      "6:\tlearn: 1994.5425785\ttotal: 1.53s\tremaining: 22.5s\n",
      "7:\tlearn: 1967.1622901\ttotal: 1.76s\tremaining: 22.5s\n",
      "8:\tlearn: 1955.6540065\ttotal: 1.97s\tremaining: 22.1s\n",
      "9:\tlearn: 1938.6006911\ttotal: 2.19s\tremaining: 21.9s\n",
      "10:\tlearn: 1928.1492461\ttotal: 2.4s\tremaining: 21.6s\n",
      "11:\tlearn: 1913.4167774\ttotal: 2.61s\tremaining: 21.3s\n",
      "12:\tlearn: 1903.9551091\ttotal: 2.83s\tremaining: 21.1s\n",
      "13:\tlearn: 1893.1876627\ttotal: 3.01s\tremaining: 20.6s\n",
      "14:\tlearn: 1886.2773726\ttotal: 3.22s\tremaining: 20.4s\n",
      "15:\tlearn: 1876.8448147\ttotal: 3.4s\tremaining: 20s\n",
      "16:\tlearn: 1868.6095193\ttotal: 3.62s\tremaining: 19.8s\n",
      "17:\tlearn: 1854.4238484\ttotal: 3.8s\tremaining: 19.4s\n",
      "18:\tlearn: 1844.3454953\ttotal: 4s\tremaining: 19.2s\n",
      "19:\tlearn: 1839.9160907\ttotal: 4.2s\tremaining: 18.9s\n",
      "20:\tlearn: 1832.8738214\ttotal: 4.42s\tremaining: 18.7s\n",
      "21:\tlearn: 1825.2326990\ttotal: 4.61s\tremaining: 18.4s\n",
      "22:\tlearn: 1822.0555554\ttotal: 4.83s\tremaining: 18.3s\n",
      "23:\tlearn: 1814.3312894\ttotal: 5s\tremaining: 17.9s\n",
      "24:\tlearn: 1809.1267247\ttotal: 5.21s\tremaining: 17.7s\n",
      "25:\tlearn: 1806.4557391\ttotal: 5.41s\tremaining: 17.5s\n",
      "26:\tlearn: 1799.4790090\ttotal: 5.62s\tremaining: 17.3s\n",
      "27:\tlearn: 1790.7912042\ttotal: 5.81s\tremaining: 17s\n",
      "28:\tlearn: 1786.2652620\ttotal: 6.03s\tremaining: 16.8s\n",
      "29:\tlearn: 1780.1218810\ttotal: 6.2s\tremaining: 16.5s\n",
      "30:\tlearn: 1776.9282603\ttotal: 6.43s\tremaining: 16.4s\n",
      "31:\tlearn: 1774.4975090\ttotal: 6.61s\tremaining: 16.1s\n",
      "32:\tlearn: 1768.0424721\ttotal: 6.81s\tremaining: 15.9s\n",
      "33:\tlearn: 1763.9268797\ttotal: 7s\tremaining: 15.7s\n",
      "34:\tlearn: 1759.5896854\ttotal: 7.21s\tremaining: 15.4s\n",
      "35:\tlearn: 1756.7658634\ttotal: 7.39s\tremaining: 15.2s\n",
      "36:\tlearn: 1752.8877337\ttotal: 7.58s\tremaining: 15s\n",
      "37:\tlearn: 1749.2117961\ttotal: 7.77s\tremaining: 14.7s\n",
      "38:\tlearn: 1745.0656576\ttotal: 7.97s\tremaining: 14.5s\n",
      "39:\tlearn: 1743.4078562\ttotal: 8.18s\tremaining: 14.3s\n",
      "40:\tlearn: 1740.9297453\ttotal: 8.37s\tremaining: 14.1s\n",
      "41:\tlearn: 1738.4924344\ttotal: 8.58s\tremaining: 13.9s\n",
      "42:\tlearn: 1737.3440593\ttotal: 8.77s\tremaining: 13.7s\n",
      "43:\tlearn: 1733.6981645\ttotal: 8.96s\tremaining: 13.4s\n",
      "44:\tlearn: 1732.4311380\ttotal: 9.15s\tremaining: 13.2s\n",
      "45:\tlearn: 1729.8851941\ttotal: 9.34s\tremaining: 13s\n",
      "46:\tlearn: 1727.1862381\ttotal: 9.55s\tremaining: 12.8s\n",
      "47:\tlearn: 1725.7303299\ttotal: 9.78s\tremaining: 12.6s\n",
      "48:\tlearn: 1723.9350182\ttotal: 9.97s\tremaining: 12.4s\n",
      "49:\tlearn: 1722.1357261\ttotal: 10.2s\tremaining: 12.2s\n",
      "50:\tlearn: 1720.3071313\ttotal: 10.4s\tremaining: 12s\n",
      "51:\tlearn: 1717.9988605\ttotal: 10.6s\tremaining: 11.8s\n",
      "52:\tlearn: 1716.2689891\ttotal: 10.8s\tremaining: 11.6s\n",
      "53:\tlearn: 1713.2145112\ttotal: 11s\tremaining: 11.4s\n",
      "54:\tlearn: 1710.9034739\ttotal: 11.2s\tremaining: 11.2s\n",
      "55:\tlearn: 1708.4828358\ttotal: 11.4s\tremaining: 11s\n",
      "56:\tlearn: 1706.9067883\ttotal: 11.6s\tremaining: 10.8s\n",
      "57:\tlearn: 1705.6661439\ttotal: 11.8s\tremaining: 10.6s\n",
      "58:\tlearn: 1704.0557348\ttotal: 12s\tremaining: 10.4s\n",
      "59:\tlearn: 1702.6505939\ttotal: 12.2s\tremaining: 10.2s\n",
      "60:\tlearn: 1701.2577410\ttotal: 12.4s\tremaining: 9.95s\n",
      "61:\tlearn: 1698.0343632\ttotal: 12.6s\tremaining: 9.74s\n",
      "62:\tlearn: 1696.4505851\ttotal: 12.8s\tremaining: 9.53s\n",
      "63:\tlearn: 1694.0344187\ttotal: 13s\tremaining: 9.33s\n",
      "64:\tlearn: 1691.6420203\ttotal: 13.2s\tremaining: 9.11s\n",
      "65:\tlearn: 1690.4318321\ttotal: 13.4s\tremaining: 8.9s\n",
      "66:\tlearn: 1688.4777452\ttotal: 13.5s\tremaining: 8.69s\n",
      "67:\tlearn: 1687.8660049\ttotal: 13.7s\tremaining: 8.48s\n",
      "68:\tlearn: 1687.2068248\ttotal: 13.9s\tremaining: 8.27s\n",
      "69:\tlearn: 1685.2364678\ttotal: 14.1s\tremaining: 8.06s\n",
      "70:\tlearn: 1683.7514432\ttotal: 14.3s\tremaining: 7.84s\n",
      "71:\tlearn: 1682.3807910\ttotal: 14.5s\tremaining: 7.64s\n",
      "72:\tlearn: 1681.6160149\ttotal: 14.6s\tremaining: 7.42s\n",
      "73:\tlearn: 1680.0230046\ttotal: 14.8s\tremaining: 7.22s\n",
      "74:\tlearn: 1679.4536809\ttotal: 15s\tremaining: 7.01s\n",
      "75:\tlearn: 1678.2952295\ttotal: 15.2s\tremaining: 6.8s\n",
      "76:\tlearn: 1676.9088695\ttotal: 15.4s\tremaining: 6.59s\n",
      "77:\tlearn: 1676.2059307\ttotal: 15.6s\tremaining: 6.39s\n",
      "78:\tlearn: 1675.1999981\ttotal: 15.8s\tremaining: 6.18s\n",
      "79:\tlearn: 1674.2257766\ttotal: 15.9s\tremaining: 5.98s\n",
      "80:\tlearn: 1673.2352754\ttotal: 16.1s\tremaining: 5.78s\n",
      "81:\tlearn: 1671.3174401\ttotal: 16.3s\tremaining: 5.58s\n",
      "82:\tlearn: 1669.7682953\ttotal: 16.5s\tremaining: 5.38s\n",
      "83:\tlearn: 1668.1468677\ttotal: 16.7s\tremaining: 5.18s\n",
      "84:\tlearn: 1667.0658967\ttotal: 17s\tremaining: 4.99s\n",
      "85:\tlearn: 1664.6476168\ttotal: 17.1s\tremaining: 4.79s\n"
     ]
    },
    {
     "name": "stdout",
     "output_type": "stream",
     "text": [
      "86:\tlearn: 1663.2893085\ttotal: 17.4s\tremaining: 4.59s\n",
      "87:\tlearn: 1662.3949441\ttotal: 17.6s\tremaining: 4.39s\n",
      "88:\tlearn: 1660.7109968\ttotal: 17.8s\tremaining: 4.19s\n",
      "89:\tlearn: 1660.1110707\ttotal: 18s\tremaining: 4s\n",
      "90:\tlearn: 1658.8273028\ttotal: 18.2s\tremaining: 3.8s\n",
      "91:\tlearn: 1657.8181576\ttotal: 18.4s\tremaining: 3.6s\n",
      "92:\tlearn: 1656.5113768\ttotal: 18.6s\tremaining: 3.39s\n",
      "93:\tlearn: 1654.4930687\ttotal: 18.7s\tremaining: 3.19s\n",
      "94:\tlearn: 1653.5335599\ttotal: 18.9s\tremaining: 2.99s\n",
      "95:\tlearn: 1652.0525071\ttotal: 19.2s\tremaining: 2.8s\n",
      "96:\tlearn: 1651.2021257\ttotal: 19.4s\tremaining: 2.6s\n",
      "97:\tlearn: 1650.8683279\ttotal: 19.6s\tremaining: 2.4s\n",
      "98:\tlearn: 1649.2824820\ttotal: 19.8s\tremaining: 2.2s\n",
      "99:\tlearn: 1647.7091449\ttotal: 20s\tremaining: 2s\n",
      "100:\tlearn: 1647.1859854\ttotal: 20.2s\tremaining: 1.8s\n",
      "101:\tlearn: 1645.4817520\ttotal: 20.4s\tremaining: 1.6s\n",
      "102:\tlearn: 1644.7244863\ttotal: 20.7s\tremaining: 1.4s\n",
      "103:\tlearn: 1643.8937736\ttotal: 20.9s\tremaining: 1.2s\n",
      "104:\tlearn: 1642.2412000\ttotal: 21s\tremaining: 1s\n",
      "105:\tlearn: 1641.6170770\ttotal: 21.2s\tremaining: 801ms\n",
      "106:\tlearn: 1640.6592399\ttotal: 21.4s\tremaining: 600ms\n",
      "107:\tlearn: 1639.2193119\ttotal: 21.6s\tremaining: 400ms\n",
      "108:\tlearn: 1638.8358798\ttotal: 21.8s\tremaining: 200ms\n",
      "109:\tlearn: 1638.8346218\ttotal: 22s\tremaining: 0us\n",
      "22.4 s ± 292 ms per loop (mean ± std. dev. of 3 runs, 1 loop each)\n",
      "53 ms ± 3.46 ms per loop (mean ± std. dev. of 3 runs, 1 loop each)\n",
      "RMSE = 1720.06\n",
      "Время обучения 22.4 сек\n",
      "Время предсказания 0.05 сек\n"
     ]
    }
   ],
   "source": [
    "CatBReg_result = model_test(CatBReg, features_train_and_valid, target_train_and_valid, features_test, target_test)"
   ]
  },
  {
   "cell_type": "markdown",
   "metadata": {},
   "source": [
    "## Итоги"
   ]
  },
  {
   "cell_type": "markdown",
   "metadata": {},
   "source": [
    "Соберём полученные RMSE и время работы каждой модели в секундах в единый датафрейм."
   ]
  },
  {
   "cell_type": "code",
   "execution_count": 103,
   "metadata": {},
   "outputs": [
    {
     "data": {
      "image/png": "[encoded data removed]",
      "text/plain": [
       "<Figure size 1080x360 with 3 Axes>"
      ]
     },
     "metadata": {
      "needs_background": "light"
     },
     "output_type": "display_data"
    },
    {
     "data": {
      "text/html": [
       "<div>\n",
       "<style scoped>\n",
       "    .dataframe tbody tr th:only-of-type {\n",
       "        vertical-align: middle;\n",
       "    }\n",
       "\n",
       "    .dataframe tbody tr th {\n",
       "        vertical-align: top;\n",
       "    }\n",
       "\n",
       "    .dataframe thead th {\n",
       "        text-align: right;\n",
       "    }\n",
       "</style>\n",
       "<table border=\"1\" class=\"dataframe\">\n",
       "  <thead>\n",
       "    <tr style=\"text-align: right;\">\n",
       "      <th></th>\n",
       "      <th>RMSE</th>\n",
       "      <th>predict_time</th>\n",
       "      <th>train_time</th>\n",
       "    </tr>\n",
       "    <tr>\n",
       "      <th>model</th>\n",
       "      <th></th>\n",
       "      <th></th>\n",
       "      <th></th>\n",
       "    </tr>\n",
       "  </thead>\n",
       "  <tbody>\n",
       "    <tr>\n",
       "      <th>LightGBM</th>\n",
       "      <td>1640.899914</td>\n",
       "      <td>0.173477</td>\n",
       "      <td>1.386737</td>\n",
       "    </tr>\n",
       "    <tr>\n",
       "      <th>CatBoost</th>\n",
       "      <td>1720.064209</td>\n",
       "      <td>0.053013</td>\n",
       "      <td>22.403433</td>\n",
       "    </tr>\n",
       "    <tr>\n",
       "      <th>Random Forest</th>\n",
       "      <td>1731.910825</td>\n",
       "      <td>0.985484</td>\n",
       "      <td>71.559744</td>\n",
       "    </tr>\n",
       "    <tr>\n",
       "      <th>Decision Tree</th>\n",
       "      <td>2111.458484</td>\n",
       "      <td>0.122390</td>\n",
       "      <td>1.396424</td>\n",
       "    </tr>\n",
       "    <tr>\n",
       "      <th>Linear Regression</th>\n",
       "      <td>2743.078699</td>\n",
       "      <td>0.138445</td>\n",
       "      <td>8.207188</td>\n",
       "    </tr>\n",
       "  </tbody>\n",
       "</table>\n",
       "</div>"
      ],
      "text/plain": [
       "                          RMSE  predict_time  train_time\n",
       "model                                                   \n",
       "LightGBM           1640.899914      0.173477    1.386737\n",
       "CatBoost           1720.064209      0.053013   22.403433\n",
       "Random Forest      1731.910825      0.985484   71.559744\n",
       "Decision Tree      2111.458484      0.122390    1.396424\n",
       "Linear Regression  2743.078699      0.138445    8.207188"
      ]
     },
     "metadata": {},
     "output_type": "display_data"
    }
   ],
   "source": [
    "models_analysis = pd.concat(\n",
    "    [pd.DataFrame(\n",
    "        data = [\n",
    "            LinReg_result,\n",
    "            TreeReg_result,\n",
    "            ForestReg_result,\n",
    "            LightReg_result,\n",
    "            CatBReg_result,\n",
    "            ], \n",
    "        columns = ['RMSE', 'predict_time', 'train_time']\n",
    "    ), pd.DataFrame(['Linear Regression', 'Decision Tree', 'Random Forest', 'LightGBM', 'CatBoost'],\n",
    "        columns = ['model'])], sort=False, axis=1\n",
    ").set_index('model').sort_values(by = 'RMSE', ascending = False)\n",
    "\n",
    "# Графики сравнения\n",
    "colors = ['pink', 'xkcd:apricot', 'silver', 'steelblue', 'xkcd:sea green']\n",
    "fig, (ax1, ax2, ax3) = plt.subplots(figsize=(15,5), nrows=1, ncols=3)\n",
    "fig.suptitle('Сравнение моделей ML', fontsize=15)\n",
    "x = models_analysis.index\n",
    "ax1.barh(x, models_analysis['RMSE'], label = 'RMSE', color = colors)\n",
    "ax1.set_title('RMSE', fontsize=13)\n",
    "ax1.grid()\n",
    "ax2.barh(x, models_analysis['predict_time'], label = 'Время предсказания', color = colors)\n",
    "ax2.set_title('Время предсказания', fontsize=13)\n",
    "ax2.grid()\n",
    "ax2.get_yaxis().set_visible(False)\n",
    "ax3.barh(x, models_analysis['train_time'], label = 'Время обучения', color = colors)\n",
    "ax3.set_title('Время обучения', fontsize=13)\n",
    "ax3.grid()\n",
    "ax3.get_yaxis().set_visible(False)\n",
    "plt.tight_layout()\n",
    "plt.show()\n",
    "display(models_analysis.sort_values(by = 'RMSE'))"
   ]
  },
  {
   "cell_type": "markdown",
   "metadata": {},
   "source": [
    "Результаты сравнения:\n",
    "- Наименьшее RMSE - у модели LightGBM, но отличия от CatBoost и Случайного леса незначительные.\n",
    "- Наименьшее время предсказания у модели CatBoost, далее идут Решающее дерево и Линейная Регрессия.\n",
    "- Быстрее всех обучается Решающее дерево, далее LightGBM и CatBoost.\n"
   ]
  },
  {
   "cell_type": "markdown",
   "metadata": {},
   "source": [
    "### Обзор выполненной работы:\n",
    "- Были обработаны исторические данные объявлений о продаже автомобилей:\n",
    "    - Убраны неинформативные столбцы\n",
    "    - Заполнены пропуски\n",
    "    - Удалены \"мусорные\" строки\n",
    "- Подготовлены признаки для моделей:\n",
    "    - Линейная регрессия\n",
    "    - Решающее дерево\n",
    "    - Случайный лес\n",
    "    - LightGBM\n",
    "    - CatBoost\n",
    "- По параметрам качества обучения, скорости предсказания и скорости обучения подобрана оптимальная модель машинного обучения.\n",
    "\n",
    "## Вывод:\n",
    "- По итогам анализа данных построена модель предсказания рыночной стоимости автомобиля\n",
    "- Выбрана модель CatBoost:\n",
    "    - По первому по значимости параметру - RMSE - три модели показывают примерно одинаковые результаты.\n",
    "    - По скорости предсказания CatBoost существенно обходит две другие модели из предыдущего пункта. Время предсказания модели CatBoost составляет 0,05 сек.\n",
    "    - По скорости обучения CatBoost находится на втором месте.\n",
    "- Также можно рассмотреть модель LightGBM, она опережает CatBoost по времени обучения(1,38 с против 22,4 с), но проигрывает по времени предсказания более чем в 3 раза - результат 0,17 секунды против 0,05. При разработке и тестировании приложения можно принять окончательное решение.\n",
    "- Скорость обучения модели CatBoost составляет 22,4 секунды\n",
    "- Качество предсказания модели CatBoost на высоком уровне, RMSE составляет 1720 евро при требуемом значении не более 2500."
   ]
  },
  {
   "cell_type": "code",
   "execution_count": null,
   "metadata": {},
   "outputs": [],
   "source": []
  }
 ],
 "metadata": {
  "ExecuteTimeLog": [
   {
    "duration": 406,
    "start_time": "2022-07-30T08:22:50.934Z"
   },
   {
    "duration": 1003,
    "start_time": "2022-07-30T08:22:51.383Z"
   },
   {
    "duration": 51,
    "start_time": "2022-07-30T08:22:52.866Z"
   },
   {
    "duration": 724,
    "start_time": "2022-07-30T08:23:07.001Z"
   },
   {
    "duration": 5,
    "start_time": "2022-07-30T08:27:42.899Z"
   },
   {
    "duration": 6,
    "start_time": "2022-07-30T08:27:47.291Z"
   },
   {
    "duration": 6,
    "start_time": "2022-07-30T08:31:57.510Z"
   },
   {
    "duration": 422,
    "start_time": "2022-07-30T08:33:03.091Z"
   },
   {
    "duration": 5,
    "start_time": "2022-07-30T08:33:19.129Z"
   },
   {
    "duration": 812,
    "start_time": "2022-07-30T08:33:24.913Z"
   },
   {
    "duration": 718,
    "start_time": "2022-07-30T08:33:25.970Z"
   },
   {
    "duration": 4,
    "start_time": "2022-07-30T08:33:27.361Z"
   },
   {
    "duration": 9,
    "start_time": "2022-07-30T08:33:29.485Z"
   },
   {
    "duration": 364,
    "start_time": "2022-07-30T08:33:46.861Z"
   },
   {
    "duration": 440,
    "start_time": "2022-07-30T08:34:43.809Z"
   },
   {
    "duration": 783,
    "start_time": "2022-07-30T08:34:44.251Z"
   },
   {
    "duration": 758,
    "start_time": "2022-07-30T08:34:45.036Z"
   },
   {
    "duration": 4,
    "start_time": "2022-07-30T08:34:45.796Z"
   },
   {
    "duration": 14,
    "start_time": "2022-07-30T08:34:45.802Z"
   },
   {
    "duration": 426,
    "start_time": "2022-07-30T08:34:45.834Z"
   },
   {
    "duration": 426,
    "start_time": "2022-07-30T08:36:29.065Z"
   },
   {
    "duration": 505,
    "start_time": "2022-07-30T08:37:05.504Z"
   },
   {
    "duration": 401,
    "start_time": "2022-07-30T08:37:18.508Z"
   },
   {
    "duration": 413,
    "start_time": "2022-07-30T08:37:39.105Z"
   },
   {
    "duration": 886,
    "start_time": "2022-07-30T08:41:48.260Z"
   },
   {
    "duration": 1424,
    "start_time": "2022-07-30T08:43:10.762Z"
   },
   {
    "duration": 5,
    "start_time": "2022-07-30T08:46:07.155Z"
   },
   {
    "duration": 6,
    "start_time": "2022-07-30T08:46:27.920Z"
   },
   {
    "duration": 3,
    "start_time": "2022-07-30T08:46:29.024Z"
   },
   {
    "duration": 62,
    "start_time": "2022-07-30T08:46:39.405Z"
   },
   {
    "duration": 20,
    "start_time": "2022-07-30T08:49:45.239Z"
   },
   {
    "duration": 23,
    "start_time": "2022-07-30T08:50:25.914Z"
   },
   {
    "duration": 51,
    "start_time": "2022-07-30T08:51:03.109Z"
   },
   {
    "duration": 5,
    "start_time": "2022-07-30T08:51:07.083Z"
   },
   {
    "duration": 45,
    "start_time": "2022-07-30T08:51:09.328Z"
   },
   {
    "duration": 54,
    "start_time": "2022-07-30T08:52:44.782Z"
   },
   {
    "duration": 140,
    "start_time": "2022-07-30T08:52:57.799Z"
   },
   {
    "duration": 34,
    "start_time": "2022-07-30T08:54:50.318Z"
   },
   {
    "duration": 20,
    "start_time": "2022-07-30T08:54:54.131Z"
   },
   {
    "duration": 582,
    "start_time": "2022-07-30T08:58:03.386Z"
   },
   {
    "duration": 217,
    "start_time": "2022-07-30T08:58:12.340Z"
   },
   {
    "duration": 16,
    "start_time": "2022-07-30T08:58:56.668Z"
   },
   {
    "duration": 45,
    "start_time": "2022-07-30T08:59:02.457Z"
   },
   {
    "duration": 33,
    "start_time": "2022-07-30T08:59:34.028Z"
   },
   {
    "duration": 33,
    "start_time": "2022-07-30T08:59:45.636Z"
   },
   {
    "duration": 39,
    "start_time": "2022-07-30T09:00:34.469Z"
   },
   {
    "duration": 33,
    "start_time": "2022-07-30T09:00:48.385Z"
   },
   {
    "duration": 31,
    "start_time": "2022-07-30T09:01:33.259Z"
   },
   {
    "duration": 33,
    "start_time": "2022-07-30T09:01:45.140Z"
   },
   {
    "duration": 40,
    "start_time": "2022-07-30T09:02:07.035Z"
   },
   {
    "duration": 37,
    "start_time": "2022-07-30T09:02:33.860Z"
   },
   {
    "duration": 34,
    "start_time": "2022-07-30T09:05:16.021Z"
   },
   {
    "duration": 54,
    "start_time": "2022-07-30T09:06:33.654Z"
   },
   {
    "duration": 33,
    "start_time": "2022-07-30T09:07:19.615Z"
   },
   {
    "duration": 60,
    "start_time": "2022-07-30T09:08:02.681Z"
   },
   {
    "duration": 49,
    "start_time": "2022-07-30T09:09:06.414Z"
   },
   {
    "duration": 69,
    "start_time": "2022-07-30T09:09:09.588Z"
   },
   {
    "duration": 65,
    "start_time": "2022-07-30T09:09:17.270Z"
   },
   {
    "duration": 50,
    "start_time": "2022-07-30T09:09:29.955Z"
   },
   {
    "duration": 53,
    "start_time": "2022-07-30T09:09:56.775Z"
   },
   {
    "duration": 47,
    "start_time": "2022-07-30T09:10:48.260Z"
   },
   {
    "duration": 37,
    "start_time": "2022-07-30T09:12:39.891Z"
   },
   {
    "duration": 24,
    "start_time": "2022-07-30T09:12:57.984Z"
   },
   {
    "duration": 26,
    "start_time": "2022-07-30T09:13:10.167Z"
   },
   {
    "duration": 24,
    "start_time": "2022-07-30T09:13:26.627Z"
   },
   {
    "duration": 53,
    "start_time": "2022-07-30T09:13:39.669Z"
   },
   {
    "duration": 53,
    "start_time": "2022-07-30T09:14:11.612Z"
   },
   {
    "duration": 4517,
    "start_time": "2022-07-30T09:15:22.907Z"
   },
   {
    "duration": 59,
    "start_time": "2022-07-30T09:17:11.038Z"
   },
   {
    "duration": 50,
    "start_time": "2022-07-30T09:17:11.971Z"
   },
   {
    "duration": 56,
    "start_time": "2022-07-30T09:17:12.758Z"
   },
   {
    "duration": 47,
    "start_time": "2022-07-30T09:17:20.540Z"
   },
   {
    "duration": 5359,
    "start_time": "2022-07-30T09:18:55.036Z"
   },
   {
    "duration": 5383,
    "start_time": "2022-07-30T09:19:31.363Z"
   },
   {
    "duration": 4537,
    "start_time": "2022-07-30T09:20:09.876Z"
   },
   {
    "duration": 4524,
    "start_time": "2022-07-30T09:20:31.586Z"
   },
   {
    "duration": 63,
    "start_time": "2022-07-30T09:21:10.210Z"
   },
   {
    "duration": 4786,
    "start_time": "2022-07-30T09:22:32.705Z"
   },
   {
    "duration": 4959,
    "start_time": "2022-07-30T09:23:12.811Z"
   },
   {
    "duration": 4977,
    "start_time": "2022-07-30T09:25:20.400Z"
   },
   {
    "duration": 49,
    "start_time": "2022-07-30T09:26:46.757Z"
   },
   {
    "duration": 16,
    "start_time": "2022-07-30T09:26:57.602Z"
   },
   {
    "duration": 15,
    "start_time": "2022-07-30T09:27:33.822Z"
   },
   {
    "duration": 16,
    "start_time": "2022-07-30T09:27:59.335Z"
   },
   {
    "duration": 33,
    "start_time": "2022-07-30T09:29:45.266Z"
   },
   {
    "duration": 22,
    "start_time": "2022-07-30T09:29:56.747Z"
   },
   {
    "duration": 50,
    "start_time": "2022-07-30T09:30:02.859Z"
   },
   {
    "duration": 20,
    "start_time": "2022-07-30T09:30:49.086Z"
   },
   {
    "duration": 3,
    "start_time": "2022-07-30T09:30:53.503Z"
   },
   {
    "duration": 834,
    "start_time": "2022-07-30T09:30:53.509Z"
   },
   {
    "duration": 1553,
    "start_time": "2022-07-30T09:30:54.345Z"
   },
   {
    "duration": 4,
    "start_time": "2022-07-30T09:30:55.900Z"
   },
   {
    "duration": 8,
    "start_time": "2022-07-30T09:30:55.907Z"
   },
   {
    "duration": 436,
    "start_time": "2022-07-30T09:30:55.933Z"
   },
   {
    "duration": 933,
    "start_time": "2022-07-30T09:30:56.370Z"
   },
   {
    "duration": 6,
    "start_time": "2022-07-30T09:30:57.305Z"
   },
   {
    "duration": 93,
    "start_time": "2022-07-30T09:30:57.312Z"
   },
   {
    "duration": 152,
    "start_time": "2022-07-30T09:30:57.407Z"
   },
   {
    "duration": 21,
    "start_time": "2022-07-30T09:30:57.561Z"
   },
   {
    "duration": 57,
    "start_time": "2022-07-30T09:30:57.584Z"
   },
   {
    "duration": 33,
    "start_time": "2022-07-30T09:31:01.581Z"
   },
   {
    "duration": 75,
    "start_time": "2022-07-30T09:31:09.802Z"
   },
   {
    "duration": 50,
    "start_time": "2022-07-30T09:31:16.878Z"
   },
   {
    "duration": 62,
    "start_time": "2022-07-30T09:31:17.631Z"
   },
   {
    "duration": 51,
    "start_time": "2022-07-30T09:31:18.579Z"
   },
   {
    "duration": 20,
    "start_time": "2022-07-30T09:33:07.665Z"
   },
   {
    "duration": 45,
    "start_time": "2022-07-30T09:33:30.330Z"
   },
   {
    "duration": 9611,
    "start_time": "2022-07-30T09:34:30.323Z"
   },
   {
    "duration": 23,
    "start_time": "2022-07-30T09:35:08.673Z"
   },
   {
    "duration": 4849,
    "start_time": "2022-07-30T09:36:28.127Z"
   },
   {
    "duration": 4668,
    "start_time": "2022-07-30T09:36:58.531Z"
   },
   {
    "duration": 43,
    "start_time": "2022-07-30T09:37:22.031Z"
   },
   {
    "duration": 32,
    "start_time": "2022-07-30T09:37:29.633Z"
   },
   {
    "duration": 25,
    "start_time": "2022-07-30T09:37:34.099Z"
   },
   {
    "duration": 23,
    "start_time": "2022-07-30T09:37:41.892Z"
   },
   {
    "duration": 24,
    "start_time": "2022-07-30T09:37:53.117Z"
   },
   {
    "duration": 21,
    "start_time": "2022-07-30T09:39:06.268Z"
   },
   {
    "duration": 89,
    "start_time": "2022-07-30T09:39:18.170Z"
   },
   {
    "duration": 94,
    "start_time": "2022-07-30T09:39:30.635Z"
   },
   {
    "duration": 29,
    "start_time": "2022-07-30T09:40:11.411Z"
   },
   {
    "duration": 4509,
    "start_time": "2022-07-30T09:40:37.612Z"
   },
   {
    "duration": 424,
    "start_time": "2022-07-30T09:41:05.625Z"
   },
   {
    "duration": 919,
    "start_time": "2022-07-30T09:41:06.051Z"
   },
   {
    "duration": 2380,
    "start_time": "2022-07-30T09:41:06.972Z"
   },
   {
    "duration": 5,
    "start_time": "2022-07-30T09:41:09.354Z"
   },
   {
    "duration": 8,
    "start_time": "2022-07-30T09:41:09.362Z"
   },
   {
    "duration": 448,
    "start_time": "2022-07-30T09:41:09.372Z"
   },
   {
    "duration": 951,
    "start_time": "2022-07-30T09:41:09.822Z"
   },
   {
    "duration": 4,
    "start_time": "2022-07-30T09:41:10.775Z"
   },
   {
    "duration": 82,
    "start_time": "2022-07-30T09:41:10.781Z"
   },
   {
    "duration": 167,
    "start_time": "2022-07-30T09:41:10.865Z"
   },
   {
    "duration": 31,
    "start_time": "2022-07-30T09:41:11.034Z"
   },
   {
    "duration": 40,
    "start_time": "2022-07-30T09:41:11.066Z"
   },
   {
    "duration": 67,
    "start_time": "2022-07-30T09:41:11.108Z"
   },
   {
    "duration": 65,
    "start_time": "2022-07-30T09:41:11.178Z"
   },
   {
    "duration": 52,
    "start_time": "2022-07-30T09:41:11.244Z"
   },
   {
    "duration": 70,
    "start_time": "2022-07-30T09:41:11.297Z"
   },
   {
    "duration": 4431,
    "start_time": "2022-07-30T09:41:11.369Z"
   },
   {
    "duration": 4883,
    "start_time": "2022-07-30T09:41:15.802Z"
   },
   {
    "duration": 17,
    "start_time": "2022-07-30T09:41:20.686Z"
   },
   {
    "duration": 48,
    "start_time": "2022-07-30T09:41:20.704Z"
   },
   {
    "duration": 20,
    "start_time": "2022-07-30T09:41:20.754Z"
   },
   {
    "duration": 45,
    "start_time": "2022-07-30T09:41:20.776Z"
   },
   {
    "duration": 29,
    "start_time": "2022-07-30T09:41:20.834Z"
   },
   {
    "duration": 4549,
    "start_time": "2022-07-30T09:41:20.865Z"
   },
   {
    "duration": 4389,
    "start_time": "2022-07-30T09:41:47.359Z"
   },
   {
    "duration": 52,
    "start_time": "2022-07-30T09:42:09.198Z"
   },
   {
    "duration": 4258,
    "start_time": "2022-07-30T09:42:13.457Z"
   },
   {
    "duration": 29,
    "start_time": "2022-07-30T09:42:56.435Z"
   },
   {
    "duration": 5073,
    "start_time": "2022-07-30T09:45:18.369Z"
   },
   {
    "duration": 3953,
    "start_time": "2022-07-30T09:45:38.694Z"
   },
   {
    "duration": 3900,
    "start_time": "2022-07-30T09:46:05.089Z"
   },
   {
    "duration": 15,
    "start_time": "2022-07-30T09:46:08.991Z"
   },
   {
    "duration": 32,
    "start_time": "2022-07-30T09:47:48.434Z"
   },
   {
    "duration": 21,
    "start_time": "2022-07-30T09:49:20.908Z"
   },
   {
    "duration": 31,
    "start_time": "2022-07-30T09:50:11.415Z"
   },
   {
    "duration": 667,
    "start_time": "2022-07-30T09:51:54.256Z"
   },
   {
    "duration": 829,
    "start_time": "2022-07-30T09:52:02.475Z"
   },
   {
    "duration": 681,
    "start_time": "2022-07-30T09:52:06.472Z"
   },
   {
    "duration": 1728,
    "start_time": "2022-07-30T09:52:16.429Z"
   },
   {
    "duration": 1868,
    "start_time": "2022-07-30T09:52:22.385Z"
   },
   {
    "duration": 1636,
    "start_time": "2022-07-30T09:52:24.769Z"
   },
   {
    "duration": 1781,
    "start_time": "2022-07-30T09:53:05.468Z"
   },
   {
    "duration": 909,
    "start_time": "2022-07-30T09:53:15.231Z"
   },
   {
    "duration": 911,
    "start_time": "2022-07-30T09:53:22.659Z"
   },
   {
    "duration": 755,
    "start_time": "2022-07-30T09:53:29.690Z"
   },
   {
    "duration": 725,
    "start_time": "2022-07-30T09:53:37.229Z"
   },
   {
    "duration": 952,
    "start_time": "2022-07-30T09:53:46.514Z"
   },
   {
    "duration": 872,
    "start_time": "2022-07-30T09:53:59.641Z"
   },
   {
    "duration": 271,
    "start_time": "2022-07-30T09:54:23.639Z"
   },
   {
    "duration": 845,
    "start_time": "2022-07-30T09:55:22.937Z"
   },
   {
    "duration": 979,
    "start_time": "2022-07-30T09:55:32.429Z"
   },
   {
    "duration": 746,
    "start_time": "2022-07-30T09:55:37.226Z"
   },
   {
    "duration": 798,
    "start_time": "2022-07-30T09:55:42.715Z"
   },
   {
    "duration": 787,
    "start_time": "2022-07-30T09:55:45.827Z"
   },
   {
    "duration": 777,
    "start_time": "2022-07-30T09:55:50.997Z"
   },
   {
    "duration": 1001,
    "start_time": "2022-07-30T09:59:18.183Z"
   },
   {
    "duration": 974,
    "start_time": "2022-07-30T11:05:16.119Z"
   },
   {
    "duration": 897,
    "start_time": "2022-07-30T11:05:25.902Z"
   },
   {
    "duration": 853,
    "start_time": "2022-07-30T11:05:36.655Z"
   },
   {
    "duration": 58,
    "start_time": "2022-07-30T11:06:00.076Z"
   },
   {
    "duration": 52,
    "start_time": "2022-07-30T11:06:56.262Z"
   },
   {
    "duration": 54,
    "start_time": "2022-07-30T11:07:04.615Z"
   },
   {
    "duration": 55,
    "start_time": "2022-07-30T11:07:16.193Z"
   },
   {
    "duration": 223,
    "start_time": "2022-07-30T11:08:14.667Z"
   },
   {
    "duration": 32,
    "start_time": "2022-07-30T11:08:28.350Z"
   },
   {
    "duration": 4316,
    "start_time": "2022-07-30T11:09:54.343Z"
   },
   {
    "duration": 4791,
    "start_time": "2022-07-30T11:10:24.349Z"
   },
   {
    "duration": 3982,
    "start_time": "2022-07-30T11:11:04.407Z"
   },
   {
    "duration": 4066,
    "start_time": "2022-07-30T11:11:22.474Z"
   },
   {
    "duration": 2,
    "start_time": "2022-07-30T11:11:30.753Z"
   },
   {
    "duration": 778,
    "start_time": "2022-07-30T11:11:30.757Z"
   },
   {
    "duration": 1399,
    "start_time": "2022-07-30T11:11:31.536Z"
   },
   {
    "duration": 3,
    "start_time": "2022-07-30T11:11:32.937Z"
   },
   {
    "duration": 7,
    "start_time": "2022-07-30T11:11:32.942Z"
   },
   {
    "duration": 387,
    "start_time": "2022-07-30T11:11:32.951Z"
   },
   {
    "duration": 819,
    "start_time": "2022-07-30T11:11:33.339Z"
   },
   {
    "duration": 5,
    "start_time": "2022-07-30T11:11:34.160Z"
   },
   {
    "duration": 72,
    "start_time": "2022-07-30T11:11:34.166Z"
   },
   {
    "duration": 128,
    "start_time": "2022-07-30T11:11:34.239Z"
   },
   {
    "duration": 19,
    "start_time": "2022-07-30T11:11:34.368Z"
   },
   {
    "duration": 52,
    "start_time": "2022-07-30T11:11:34.388Z"
   },
   {
    "duration": 47,
    "start_time": "2022-07-30T11:11:34.443Z"
   },
   {
    "duration": 66,
    "start_time": "2022-07-30T11:11:34.491Z"
   },
   {
    "duration": 49,
    "start_time": "2022-07-30T11:11:34.558Z"
   },
   {
    "duration": 58,
    "start_time": "2022-07-30T11:11:34.609Z"
   },
   {
    "duration": 4289,
    "start_time": "2022-07-30T11:11:34.669Z"
   },
   {
    "duration": 5706,
    "start_time": "2022-07-30T11:11:38.959Z"
   },
   {
    "duration": 15,
    "start_time": "2022-07-30T11:11:44.666Z"
   },
   {
    "duration": 47,
    "start_time": "2022-07-30T11:11:44.683Z"
   },
   {
    "duration": 18,
    "start_time": "2022-07-30T11:11:44.732Z"
   },
   {
    "duration": 33,
    "start_time": "2022-07-30T11:11:44.751Z"
   },
   {
    "duration": 5048,
    "start_time": "2022-07-30T11:11:44.786Z"
   },
   {
    "duration": 5773,
    "start_time": "2022-07-30T11:11:49.836Z"
   },
   {
    "duration": 15,
    "start_time": "2022-07-30T11:11:55.611Z"
   },
   {
    "duration": 38,
    "start_time": "2022-07-30T11:11:55.633Z"
   },
   {
    "duration": 273,
    "start_time": "2022-07-30T11:11:55.673Z"
   },
   {
    "duration": 29,
    "start_time": "2022-07-30T11:11:55.948Z"
   },
   {
    "duration": 765,
    "start_time": "2022-07-30T11:11:55.978Z"
   },
   {
    "duration": 56,
    "start_time": "2022-07-30T11:11:56.745Z"
   },
   {
    "duration": 242,
    "start_time": "2022-07-30T11:11:56.802Z"
   },
   {
    "duration": 29,
    "start_time": "2022-07-30T11:11:57.046Z"
   },
   {
    "duration": 4362,
    "start_time": "2022-07-30T11:11:57.077Z"
   },
   {
    "duration": 14,
    "start_time": "2022-07-30T11:12:01.442Z"
   },
   {
    "duration": 4788,
    "start_time": "2022-07-30T11:13:30.400Z"
   },
   {
    "duration": 14,
    "start_time": "2022-07-30T11:13:38.598Z"
   },
   {
    "duration": 31,
    "start_time": "2022-07-30T11:28:40.798Z"
   },
   {
    "duration": 176,
    "start_time": "2022-07-30T11:31:04.806Z"
   },
   {
    "duration": 33,
    "start_time": "2022-07-30T11:31:23.134Z"
   },
   {
    "duration": 33,
    "start_time": "2022-07-30T11:32:42.330Z"
   },
   {
    "duration": 13,
    "start_time": "2022-07-30T11:34:09.942Z"
   },
   {
    "duration": 49,
    "start_time": "2022-07-30T11:34:24.957Z"
   },
   {
    "duration": 69,
    "start_time": "2022-07-30T11:34:38.202Z"
   },
   {
    "duration": 57,
    "start_time": "2022-07-30T11:34:52.683Z"
   },
   {
    "duration": 373,
    "start_time": "2022-07-30T11:35:06.381Z"
   },
   {
    "duration": 1173,
    "start_time": "2022-07-30T11:35:15.650Z"
   },
   {
    "duration": 1205,
    "start_time": "2022-07-30T11:35:21.625Z"
   },
   {
    "duration": 721,
    "start_time": "2022-07-30T11:35:34.556Z"
   },
   {
    "duration": 42,
    "start_time": "2022-07-30T11:36:13.704Z"
   },
   {
    "duration": 129,
    "start_time": "2022-07-30T11:36:31.410Z"
   },
   {
    "duration": 120,
    "start_time": "2022-07-30T11:36:36.226Z"
   },
   {
    "duration": 110,
    "start_time": "2022-07-30T11:36:42.954Z"
   },
   {
    "duration": 112,
    "start_time": "2022-07-30T11:36:47.873Z"
   },
   {
    "duration": 120,
    "start_time": "2022-07-30T11:36:51.714Z"
   },
   {
    "duration": 112,
    "start_time": "2022-07-30T11:37:04.128Z"
   },
   {
    "duration": 213,
    "start_time": "2022-07-30T11:37:11.207Z"
   },
   {
    "duration": 17,
    "start_time": "2022-07-30T11:37:34.140Z"
   },
   {
    "duration": 367,
    "start_time": "2022-07-30T11:43:50.368Z"
   },
   {
    "duration": 368,
    "start_time": "2022-07-30T11:43:53.116Z"
   },
   {
    "duration": 460,
    "start_time": "2022-07-30T11:44:12.408Z"
   },
   {
    "duration": 404,
    "start_time": "2022-07-30T11:44:24.818Z"
   },
   {
    "duration": 387,
    "start_time": "2022-07-30T11:44:44.667Z"
   },
   {
    "duration": 406,
    "start_time": "2022-07-30T11:44:51.155Z"
   },
   {
    "duration": 703,
    "start_time": "2022-07-30T11:46:54.095Z"
   },
   {
    "duration": 199,
    "start_time": "2022-07-30T11:46:58.190Z"
   },
   {
    "duration": 527,
    "start_time": "2022-07-30T11:47:09.691Z"
   },
   {
    "duration": 238,
    "start_time": "2022-07-30T11:48:48.150Z"
   },
   {
    "duration": 289,
    "start_time": "2022-07-30T11:49:24.073Z"
   },
   {
    "duration": 8,
    "start_time": "2022-07-30T11:50:01.848Z"
   },
   {
    "duration": 15,
    "start_time": "2022-07-30T11:50:09.778Z"
   },
   {
    "duration": 1,
    "start_time": "2022-07-30T11:50:27.267Z"
   },
   {
    "duration": 41,
    "start_time": "2022-07-30T11:50:32.808Z"
   },
   {
    "duration": 29,
    "start_time": "2022-07-30T11:50:36.748Z"
   },
   {
    "duration": 30,
    "start_time": "2022-07-30T11:50:41.629Z"
   },
   {
    "duration": 25,
    "start_time": "2022-07-30T11:50:59.046Z"
   },
   {
    "duration": 23,
    "start_time": "2022-07-30T11:52:00.876Z"
   },
   {
    "duration": 25,
    "start_time": "2022-07-30T11:52:07.972Z"
   },
   {
    "duration": 28,
    "start_time": "2022-07-30T11:52:26.114Z"
   },
   {
    "duration": 26,
    "start_time": "2022-07-30T11:53:22.525Z"
   },
   {
    "duration": 540,
    "start_time": "2022-07-30T11:57:40.946Z"
   },
   {
    "duration": 223,
    "start_time": "2022-07-30T11:58:15.655Z"
   },
   {
    "duration": 325,
    "start_time": "2022-07-30T11:58:26.309Z"
   },
   {
    "duration": 171,
    "start_time": "2022-07-30T11:58:41.227Z"
   },
   {
    "duration": 420,
    "start_time": "2022-07-30T12:04:27.414Z"
   },
   {
    "duration": 167,
    "start_time": "2022-07-30T12:04:44.045Z"
   },
   {
    "duration": 334,
    "start_time": "2022-07-30T12:06:12.944Z"
   },
   {
    "duration": 523,
    "start_time": "2022-07-30T12:06:26.211Z"
   },
   {
    "duration": 146,
    "start_time": "2022-07-30T12:06:34.208Z"
   },
   {
    "duration": 267,
    "start_time": "2022-07-30T12:07:12.507Z"
   },
   {
    "duration": 22,
    "start_time": "2022-07-30T12:07:47.655Z"
   },
   {
    "duration": 49,
    "start_time": "2022-07-30T12:08:07.873Z"
   },
   {
    "duration": 872,
    "start_time": "2022-07-30T12:08:23.606Z"
   },
   {
    "duration": 241,
    "start_time": "2022-07-30T12:08:37.097Z"
   },
   {
    "duration": 134,
    "start_time": "2022-07-30T12:08:40.885Z"
   },
   {
    "duration": 217,
    "start_time": "2022-07-30T12:08:51.710Z"
   },
   {
    "duration": 22,
    "start_time": "2022-07-30T12:09:06.511Z"
   },
   {
    "duration": 19,
    "start_time": "2022-07-30T12:10:45.860Z"
   },
   {
    "duration": 6,
    "start_time": "2022-07-30T12:11:22.061Z"
   },
   {
    "duration": 24,
    "start_time": "2022-07-30T12:11:29.897Z"
   },
   {
    "duration": 6,
    "start_time": "2022-07-30T12:13:42.556Z"
   },
   {
    "duration": 16,
    "start_time": "2022-07-30T12:15:10.848Z"
   },
   {
    "duration": 7,
    "start_time": "2022-07-30T12:16:33.447Z"
   },
   {
    "duration": 7,
    "start_time": "2022-07-30T12:17:02.470Z"
   },
   {
    "duration": 7,
    "start_time": "2022-07-30T12:18:05.925Z"
   },
   {
    "duration": 59,
    "start_time": "2022-07-30T12:18:13.733Z"
   },
   {
    "duration": 30,
    "start_time": "2022-07-30T12:18:31.960Z"
   },
   {
    "duration": 60,
    "start_time": "2022-07-30T12:20:24.936Z"
   },
   {
    "duration": 6,
    "start_time": "2022-07-30T12:20:34.379Z"
   },
   {
    "duration": 4,
    "start_time": "2022-07-30T12:20:50.145Z"
   },
   {
    "duration": 26,
    "start_time": "2022-07-30T12:20:58.805Z"
   },
   {
    "duration": 60,
    "start_time": "2022-07-30T12:21:20.299Z"
   },
   {
    "duration": 147,
    "start_time": "2022-07-30T12:22:46.207Z"
   },
   {
    "duration": 31,
    "start_time": "2022-07-30T12:23:08.608Z"
   },
   {
    "duration": 29,
    "start_time": "2022-07-30T12:23:19.384Z"
   },
   {
    "duration": 28,
    "start_time": "2022-07-30T12:25:23.152Z"
   },
   {
    "duration": 16,
    "start_time": "2022-07-30T12:25:40.685Z"
   },
   {
    "duration": 14,
    "start_time": "2022-07-30T12:26:18.009Z"
   },
   {
    "duration": 23,
    "start_time": "2022-07-30T12:26:29.434Z"
   },
   {
    "duration": 26,
    "start_time": "2022-07-30T12:26:36.914Z"
   },
   {
    "duration": 23,
    "start_time": "2022-07-30T12:26:40.609Z"
   },
   {
    "duration": 27,
    "start_time": "2022-07-30T12:26:44.155Z"
   },
   {
    "duration": 21,
    "start_time": "2022-07-30T12:28:07.230Z"
   },
   {
    "duration": 227,
    "start_time": "2022-07-30T12:28:42.127Z"
   },
   {
    "duration": 17,
    "start_time": "2022-07-30T12:28:55.796Z"
   },
   {
    "duration": 6,
    "start_time": "2022-07-30T12:31:57.782Z"
   },
   {
    "duration": 12,
    "start_time": "2022-07-30T12:34:11.980Z"
   },
   {
    "duration": 8,
    "start_time": "2022-07-30T12:34:18.161Z"
   },
   {
    "duration": 8,
    "start_time": "2022-07-30T12:34:49.353Z"
   },
   {
    "duration": 9,
    "start_time": "2022-07-30T12:36:43.822Z"
   },
   {
    "duration": 138,
    "start_time": "2022-07-30T12:37:16.198Z"
   },
   {
    "duration": 147,
    "start_time": "2022-07-30T12:37:40.936Z"
   },
   {
    "duration": 135,
    "start_time": "2022-07-30T12:37:49.780Z"
   },
   {
    "duration": 132,
    "start_time": "2022-07-30T12:38:08.312Z"
   },
   {
    "duration": 124,
    "start_time": "2022-07-30T12:38:26.446Z"
   },
   {
    "duration": 126,
    "start_time": "2022-07-30T12:38:37.887Z"
   },
   {
    "duration": 9,
    "start_time": "2022-07-30T12:39:20.563Z"
   },
   {
    "duration": 6,
    "start_time": "2022-07-30T12:39:41.863Z"
   },
   {
    "duration": 10,
    "start_time": "2022-07-30T12:39:44.836Z"
   },
   {
    "duration": 3,
    "start_time": "2022-07-30T12:40:28.078Z"
   },
   {
    "duration": 739,
    "start_time": "2022-07-30T12:40:28.083Z"
   },
   {
    "duration": 1436,
    "start_time": "2022-07-30T12:40:28.824Z"
   },
   {
    "duration": 3,
    "start_time": "2022-07-30T12:40:30.262Z"
   },
   {
    "duration": 6,
    "start_time": "2022-07-30T12:40:30.269Z"
   },
   {
    "duration": 410,
    "start_time": "2022-07-30T12:40:30.277Z"
   },
   {
    "duration": 849,
    "start_time": "2022-07-30T12:40:30.689Z"
   },
   {
    "duration": 4,
    "start_time": "2022-07-30T12:40:31.540Z"
   },
   {
    "duration": 106,
    "start_time": "2022-07-30T12:40:31.546Z"
   },
   {
    "duration": 163,
    "start_time": "2022-07-30T12:40:31.653Z"
   },
   {
    "duration": 20,
    "start_time": "2022-07-30T12:40:31.817Z"
   },
   {
    "duration": 72,
    "start_time": "2022-07-30T12:40:31.839Z"
   },
   {
    "duration": 54,
    "start_time": "2022-07-30T12:40:31.913Z"
   },
   {
    "duration": 50,
    "start_time": "2022-07-30T12:40:31.971Z"
   },
   {
    "duration": 73,
    "start_time": "2022-07-30T12:40:32.034Z"
   },
   {
    "duration": 71,
    "start_time": "2022-07-30T12:40:32.110Z"
   },
   {
    "duration": 4481,
    "start_time": "2022-07-30T12:40:32.183Z"
   },
   {
    "duration": 4886,
    "start_time": "2022-07-30T12:40:36.666Z"
   },
   {
    "duration": 16,
    "start_time": "2022-07-30T12:40:41.554Z"
   },
   {
    "duration": 34,
    "start_time": "2022-07-30T12:40:41.571Z"
   },
   {
    "duration": 31,
    "start_time": "2022-07-30T12:40:41.607Z"
   },
   {
    "duration": 30,
    "start_time": "2022-07-30T12:40:41.640Z"
   },
   {
    "duration": 4352,
    "start_time": "2022-07-30T12:40:41.672Z"
   },
   {
    "duration": 4937,
    "start_time": "2022-07-30T12:40:46.025Z"
   },
   {
    "duration": 17,
    "start_time": "2022-07-30T12:40:50.965Z"
   },
   {
    "duration": 33,
    "start_time": "2022-07-30T12:40:50.984Z"
   },
   {
    "duration": 294,
    "start_time": "2022-07-30T12:40:51.034Z"
   },
   {
    "duration": 33,
    "start_time": "2022-07-30T12:40:51.330Z"
   },
   {
    "duration": 796,
    "start_time": "2022-07-30T12:40:51.364Z"
   },
   {
    "duration": 56,
    "start_time": "2022-07-30T12:40:52.162Z"
   },
   {
    "duration": 229,
    "start_time": "2022-07-30T12:40:52.220Z"
   },
   {
    "duration": 32,
    "start_time": "2022-07-30T12:40:52.451Z"
   },
   {
    "duration": 4498,
    "start_time": "2022-07-30T12:40:52.485Z"
   },
   {
    "duration": 4899,
    "start_time": "2022-07-30T12:40:56.984Z"
   },
   {
    "duration": 15,
    "start_time": "2022-07-30T12:41:01.884Z"
   },
   {
    "duration": 51,
    "start_time": "2022-07-30T12:41:01.901Z"
   },
   {
    "duration": 187,
    "start_time": "2022-07-30T12:41:01.953Z"
   },
   {
    "duration": 33,
    "start_time": "2022-07-30T12:41:02.141Z"
   },
   {
    "duration": 38,
    "start_time": "2022-07-30T12:41:02.175Z"
   },
   {
    "duration": 424,
    "start_time": "2022-07-30T12:41:02.214Z"
   },
   {
    "duration": 642,
    "start_time": "2022-07-30T12:41:02.643Z"
   },
   {
    "duration": 185,
    "start_time": "2022-07-30T12:41:03.287Z"
   },
   {
    "duration": 173,
    "start_time": "2022-07-30T12:41:03.475Z"
   },
   {
    "duration": 19,
    "start_time": "2022-07-30T12:41:03.650Z"
   },
   {
    "duration": 387,
    "start_time": "2022-07-30T12:41:03.671Z"
   },
   {
    "duration": 231,
    "start_time": "2022-07-30T12:41:04.059Z"
   },
   {
    "duration": 253,
    "start_time": "2022-07-30T12:41:04.291Z"
   },
   {
    "duration": 16,
    "start_time": "2022-07-30T12:41:04.545Z"
   },
   {
    "duration": 19,
    "start_time": "2022-07-30T12:41:04.563Z"
   },
   {
    "duration": 34,
    "start_time": "2022-07-30T12:41:04.584Z"
   },
   {
    "duration": 366,
    "start_time": "2022-07-30T12:41:04.619Z"
   },
   {
    "duration": 17,
    "start_time": "2022-07-30T12:41:04.987Z"
   },
   {
    "duration": 7,
    "start_time": "2022-07-30T12:41:05.005Z"
   },
   {
    "duration": 24,
    "start_time": "2022-07-30T12:42:19.488Z"
   },
   {
    "duration": 334,
    "start_time": "2022-07-30T12:43:21.535Z"
   },
   {
    "duration": 263,
    "start_time": "2022-07-30T12:43:32.667Z"
   },
   {
    "duration": 206,
    "start_time": "2022-07-30T12:46:45.472Z"
   },
   {
    "duration": 189,
    "start_time": "2022-07-30T12:47:16.470Z"
   },
   {
    "duration": 22,
    "start_time": "2022-07-30T12:48:12.309Z"
   },
   {
    "duration": 13,
    "start_time": "2022-07-30T12:48:57.691Z"
   },
   {
    "duration": 13,
    "start_time": "2022-07-30T12:49:10.297Z"
   },
   {
    "duration": 22,
    "start_time": "2022-07-30T12:49:19.286Z"
   },
   {
    "duration": 12,
    "start_time": "2022-07-30T12:49:23.606Z"
   },
   {
    "duration": 162,
    "start_time": "2022-07-30T12:50:34.425Z"
   },
   {
    "duration": 16,
    "start_time": "2022-07-30T12:50:54.597Z"
   },
   {
    "duration": 5,
    "start_time": "2022-07-30T12:51:23.285Z"
   },
   {
    "duration": 7,
    "start_time": "2022-07-30T12:52:40.365Z"
   },
   {
    "duration": 10,
    "start_time": "2022-07-30T12:54:24.945Z"
   },
   {
    "duration": 9,
    "start_time": "2022-07-30T12:54:50.671Z"
   },
   {
    "duration": 7,
    "start_time": "2022-07-30T12:54:59.685Z"
   },
   {
    "duration": 8,
    "start_time": "2022-07-30T12:55:46.886Z"
   },
   {
    "duration": 33,
    "start_time": "2022-07-30T12:56:48.393Z"
   },
   {
    "duration": 32,
    "start_time": "2022-07-30T12:56:55.868Z"
   },
   {
    "duration": 22,
    "start_time": "2022-07-30T12:57:01.073Z"
   },
   {
    "duration": 394,
    "start_time": "2022-07-30T12:57:43.817Z"
   },
   {
    "duration": 229,
    "start_time": "2022-07-30T12:57:50.014Z"
   },
   {
    "duration": 719,
    "start_time": "2022-07-30T12:58:12.780Z"
   },
   {
    "duration": 214,
    "start_time": "2022-07-30T12:58:22.116Z"
   },
   {
    "duration": 171,
    "start_time": "2022-07-30T12:59:29.524Z"
   },
   {
    "duration": 30,
    "start_time": "2022-07-30T13:02:19.941Z"
   },
   {
    "duration": 59,
    "start_time": "2022-07-30T13:02:56.839Z"
   },
   {
    "duration": 170,
    "start_time": "2022-07-30T13:03:41.337Z"
   },
   {
    "duration": 163,
    "start_time": "2022-07-30T13:03:45.689Z"
   },
   {
    "duration": 335,
    "start_time": "2022-07-30T13:03:51.656Z"
   },
   {
    "duration": 216,
    "start_time": "2022-07-30T13:03:56.086Z"
   },
   {
    "duration": 216,
    "start_time": "2022-07-30T13:04:23.759Z"
   },
   {
    "duration": 224,
    "start_time": "2022-07-30T13:04:29.373Z"
   },
   {
    "duration": 210,
    "start_time": "2022-07-30T13:04:57.145Z"
   },
   {
    "duration": 206,
    "start_time": "2022-07-30T13:05:00.608Z"
   },
   {
    "duration": 318,
    "start_time": "2022-07-30T13:05:10.514Z"
   },
   {
    "duration": 23,
    "start_time": "2022-07-30T13:06:42.038Z"
   },
   {
    "duration": 286,
    "start_time": "2022-07-30T13:07:40.105Z"
   },
   {
    "duration": 225,
    "start_time": "2022-07-30T13:07:44.244Z"
   },
   {
    "duration": 265,
    "start_time": "2022-07-30T13:10:07.401Z"
   },
   {
    "duration": 139,
    "start_time": "2022-07-30T13:10:20.007Z"
   },
   {
    "duration": 132,
    "start_time": "2022-07-30T13:10:31.169Z"
   },
   {
    "duration": 12,
    "start_time": "2022-07-30T13:11:41.840Z"
   },
   {
    "duration": 49,
    "start_time": "2022-07-30T13:12:56.611Z"
   },
   {
    "duration": 29,
    "start_time": "2022-07-30T13:13:07.772Z"
   },
   {
    "duration": 11,
    "start_time": "2022-07-30T13:13:14.278Z"
   },
   {
    "duration": 11,
    "start_time": "2022-07-30T13:13:23.438Z"
   },
   {
    "duration": 12,
    "start_time": "2022-07-30T13:13:41.720Z"
   },
   {
    "duration": 6,
    "start_time": "2022-07-30T13:14:06.190Z"
   },
   {
    "duration": 21,
    "start_time": "2022-07-30T13:18:30.975Z"
   },
   {
    "duration": 424,
    "start_time": "2022-07-30T17:48:15.295Z"
   },
   {
    "duration": 1312,
    "start_time": "2022-07-30T17:48:15.726Z"
   },
   {
    "duration": 1581,
    "start_time": "2022-07-30T17:48:17.040Z"
   },
   {
    "duration": 5,
    "start_time": "2022-07-30T17:48:18.623Z"
   },
   {
    "duration": 9,
    "start_time": "2022-07-30T17:48:18.630Z"
   },
   {
    "duration": 445,
    "start_time": "2022-07-30T17:48:18.640Z"
   },
   {
    "duration": 978,
    "start_time": "2022-07-30T17:48:19.086Z"
   },
   {
    "duration": 5,
    "start_time": "2022-07-30T17:48:20.065Z"
   },
   {
    "duration": 78,
    "start_time": "2022-07-30T17:48:20.071Z"
   },
   {
    "duration": 179,
    "start_time": "2022-07-30T17:48:20.150Z"
   },
   {
    "duration": 331,
    "start_time": "2022-07-30T17:49:33.252Z"
   },
   {
    "duration": 95,
    "start_time": "2022-07-30T17:49:55.744Z"
   },
   {
    "duration": 111,
    "start_time": "2022-07-30T17:53:01.223Z"
   },
   {
    "duration": 22,
    "start_time": "2022-07-30T17:53:12.849Z"
   },
   {
    "duration": 19,
    "start_time": "2022-07-30T17:54:42.621Z"
   },
   {
    "duration": 19,
    "start_time": "2022-07-30T17:54:50.832Z"
   },
   {
    "duration": 20,
    "start_time": "2022-07-30T17:54:59.432Z"
   },
   {
    "duration": 20,
    "start_time": "2022-07-30T17:56:22.632Z"
   },
   {
    "duration": 26,
    "start_time": "2022-07-30T17:56:38.744Z"
   },
   {
    "duration": 403,
    "start_time": "2022-07-30T17:57:17.332Z"
   },
   {
    "duration": 816,
    "start_time": "2022-07-30T17:57:17.737Z"
   },
   {
    "duration": 1610,
    "start_time": "2022-07-30T17:57:18.555Z"
   },
   {
    "duration": 4,
    "start_time": "2022-07-30T17:57:20.167Z"
   },
   {
    "duration": 10,
    "start_time": "2022-07-30T17:57:20.173Z"
   },
   {
    "duration": 462,
    "start_time": "2022-07-30T17:57:20.184Z"
   },
   {
    "duration": 930,
    "start_time": "2022-07-30T17:57:20.648Z"
   },
   {
    "duration": 5,
    "start_time": "2022-07-30T17:57:21.579Z"
   },
   {
    "duration": 85,
    "start_time": "2022-07-30T17:57:21.586Z"
   },
   {
    "duration": 151,
    "start_time": "2022-07-30T17:57:21.673Z"
   },
   {
    "duration": 321,
    "start_time": "2022-07-30T17:57:21.826Z"
   },
   {
    "duration": 20,
    "start_time": "2022-07-30T17:57:22.149Z"
   },
   {
    "duration": 59,
    "start_time": "2022-07-30T17:57:22.170Z"
   },
   {
    "duration": 53,
    "start_time": "2022-07-30T17:57:22.232Z"
   },
   {
    "duration": 67,
    "start_time": "2022-07-30T17:57:22.286Z"
   },
   {
    "duration": 66,
    "start_time": "2022-07-30T17:57:22.355Z"
   },
   {
    "duration": 49,
    "start_time": "2022-07-30T17:57:22.422Z"
   },
   {
    "duration": 5213,
    "start_time": "2022-07-30T17:57:22.472Z"
   },
   {
    "duration": 5653,
    "start_time": "2022-07-30T17:57:27.686Z"
   },
   {
    "duration": 15,
    "start_time": "2022-07-30T17:57:33.341Z"
   },
   {
    "duration": 68,
    "start_time": "2022-07-30T17:57:33.357Z"
   },
   {
    "duration": 18,
    "start_time": "2022-07-30T17:57:33.427Z"
   },
   {
    "duration": 47,
    "start_time": "2022-07-30T17:57:33.446Z"
   },
   {
    "duration": 5286,
    "start_time": "2022-07-30T17:57:33.494Z"
   },
   {
    "duration": 5490,
    "start_time": "2022-07-30T17:57:38.782Z"
   },
   {
    "duration": 16,
    "start_time": "2022-07-30T17:57:44.273Z"
   },
   {
    "duration": 56,
    "start_time": "2022-07-30T17:57:44.290Z"
   },
   {
    "duration": 384,
    "start_time": "2022-07-30T17:57:44.348Z"
   },
   {
    "duration": 36,
    "start_time": "2022-07-30T17:57:44.734Z"
   },
   {
    "duration": 869,
    "start_time": "2022-07-30T17:57:44.772Z"
   },
   {
    "duration": 60,
    "start_time": "2022-07-30T17:57:45.643Z"
   },
   {
    "duration": 252,
    "start_time": "2022-07-30T17:57:45.705Z"
   },
   {
    "duration": 33,
    "start_time": "2022-07-30T17:57:45.958Z"
   },
   {
    "duration": 5179,
    "start_time": "2022-07-30T17:57:45.992Z"
   },
   {
    "duration": 5642,
    "start_time": "2022-07-30T17:57:51.173Z"
   },
   {
    "duration": 16,
    "start_time": "2022-07-30T17:57:56.821Z"
   },
   {
    "duration": 33,
    "start_time": "2022-07-30T17:57:56.839Z"
   },
   {
    "duration": 206,
    "start_time": "2022-07-30T17:57:56.874Z"
   },
   {
    "duration": 41,
    "start_time": "2022-07-30T17:57:57.082Z"
   },
   {
    "duration": 35,
    "start_time": "2022-07-30T17:57:57.125Z"
   },
   {
    "duration": 882,
    "start_time": "2022-07-30T17:57:57.165Z"
   },
   {
    "duration": 536,
    "start_time": "2022-07-30T17:57:58.049Z"
   },
   {
    "duration": 197,
    "start_time": "2022-07-30T17:57:58.587Z"
   },
   {
    "duration": 182,
    "start_time": "2022-07-30T17:57:58.786Z"
   },
   {
    "duration": 20,
    "start_time": "2022-07-30T17:57:58.970Z"
   },
   {
    "duration": 393,
    "start_time": "2022-07-30T17:57:58.992Z"
   },
   {
    "duration": 264,
    "start_time": "2022-07-30T17:57:59.386Z"
   },
   {
    "duration": 267,
    "start_time": "2022-07-30T17:57:59.652Z"
   },
   {
    "duration": 18,
    "start_time": "2022-07-30T17:57:59.921Z"
   },
   {
    "duration": 10,
    "start_time": "2022-07-30T17:57:59.940Z"
   },
   {
    "duration": 60,
    "start_time": "2022-07-30T17:57:59.951Z"
   },
   {
    "duration": 243,
    "start_time": "2022-07-30T17:58:00.013Z"
   },
   {
    "duration": 19,
    "start_time": "2022-07-30T17:58:00.258Z"
   },
   {
    "duration": 37,
    "start_time": "2022-07-30T17:58:00.279Z"
   },
   {
    "duration": 53,
    "start_time": "2022-07-30T17:58:00.321Z"
   },
   {
    "duration": 369,
    "start_time": "2022-07-30T17:58:00.376Z"
   },
   {
    "duration": 335,
    "start_time": "2022-07-30T17:58:00.747Z"
   },
   {
    "duration": 243,
    "start_time": "2022-07-30T17:58:01.084Z"
   },
   {
    "duration": 223,
    "start_time": "2022-07-30T17:58:01.329Z"
   },
   {
    "duration": 23,
    "start_time": "2022-07-30T17:58:01.553Z"
   },
   {
    "duration": 33,
    "start_time": "2022-07-30T17:58:01.578Z"
   },
   {
    "duration": 177,
    "start_time": "2022-07-30T17:58:01.613Z"
   },
   {
    "duration": 33,
    "start_time": "2022-07-30T17:58:01.792Z"
   },
   {
    "duration": 38,
    "start_time": "2022-07-30T17:58:01.827Z"
   },
   {
    "duration": 16,
    "start_time": "2022-07-30T17:58:01.867Z"
   },
   {
    "duration": 11,
    "start_time": "2022-07-30T17:58:01.885Z"
   },
   {
    "duration": 41,
    "start_time": "2022-07-30T17:58:01.915Z"
   },
   {
    "duration": 21,
    "start_time": "2022-07-30T17:58:01.958Z"
   },
   {
    "duration": 440,
    "start_time": "2022-07-30T17:58:01.981Z"
   },
   {
    "duration": 244,
    "start_time": "2022-07-30T17:58:02.422Z"
   },
   {
    "duration": 219,
    "start_time": "2022-07-30T17:58:02.668Z"
   },
   {
    "duration": 326,
    "start_time": "2022-07-30T17:58:02.889Z"
   },
   {
    "duration": 14,
    "start_time": "2022-07-30T17:58:03.217Z"
   },
   {
    "duration": 30,
    "start_time": "2022-07-30T17:58:03.233Z"
   },
   {
    "duration": 11,
    "start_time": "2022-07-30T17:58:03.264Z"
   },
   {
    "duration": 47,
    "start_time": "2022-07-30T17:58:03.277Z"
   },
   {
    "duration": 494,
    "start_time": "2022-07-30T17:59:29.221Z"
   },
   {
    "duration": 99,
    "start_time": "2022-07-30T18:00:08.394Z"
   },
   {
    "duration": 17,
    "start_time": "2022-07-30T18:04:11.346Z"
   },
   {
    "duration": 7,
    "start_time": "2022-07-30T18:04:38.924Z"
   },
   {
    "duration": 430,
    "start_time": "2022-07-30T18:05:25.332Z"
   },
   {
    "duration": 485,
    "start_time": "2022-07-30T18:05:31.478Z"
   },
   {
    "duration": 198,
    "start_time": "2022-07-30T18:05:34.832Z"
   },
   {
    "duration": 182,
    "start_time": "2022-07-30T18:05:58.429Z"
   },
   {
    "duration": 10,
    "start_time": "2022-07-30T18:06:03.489Z"
   },
   {
    "duration": 16,
    "start_time": "2022-07-30T18:06:19.024Z"
   },
   {
    "duration": 188,
    "start_time": "2022-07-30T18:08:36.319Z"
   },
   {
    "duration": 182,
    "start_time": "2022-07-30T18:08:51.475Z"
   },
   {
    "duration": 253,
    "start_time": "2022-07-30T18:10:22.622Z"
   },
   {
    "duration": 516,
    "start_time": "2022-07-30T18:10:53.429Z"
   },
   {
    "duration": 480,
    "start_time": "2022-07-30T18:10:58.571Z"
   },
   {
    "duration": 562,
    "start_time": "2022-07-30T18:11:08.147Z"
   },
   {
    "duration": 8,
    "start_time": "2022-07-30T18:11:44.559Z"
   },
   {
    "duration": 5,
    "start_time": "2022-07-30T18:11:52.148Z"
   },
   {
    "duration": 7,
    "start_time": "2022-07-30T18:12:49.286Z"
   },
   {
    "duration": 8,
    "start_time": "2022-07-30T18:13:09.719Z"
   },
   {
    "duration": 8,
    "start_time": "2022-07-30T18:13:13.235Z"
   },
   {
    "duration": 6,
    "start_time": "2022-07-30T18:13:39.742Z"
   },
   {
    "duration": 7,
    "start_time": "2022-07-30T18:14:08.022Z"
   },
   {
    "duration": 8,
    "start_time": "2022-07-30T18:14:21.741Z"
   },
   {
    "duration": 187,
    "start_time": "2022-07-30T18:15:20.649Z"
   },
   {
    "duration": 9,
    "start_time": "2022-07-30T18:15:55.371Z"
   },
   {
    "duration": 50,
    "start_time": "2022-07-30T18:16:42.484Z"
   },
   {
    "duration": 218,
    "start_time": "2022-07-30T18:16:55.158Z"
   },
   {
    "duration": 221,
    "start_time": "2022-07-30T18:17:04.220Z"
   },
   {
    "duration": 203,
    "start_time": "2022-07-30T18:17:16.932Z"
   },
   {
    "duration": 411,
    "start_time": "2022-07-30T18:18:14.726Z"
   },
   {
    "duration": 908,
    "start_time": "2022-07-30T18:18:15.139Z"
   },
   {
    "duration": 1791,
    "start_time": "2022-07-30T18:18:16.049Z"
   },
   {
    "duration": 4,
    "start_time": "2022-07-30T18:18:17.843Z"
   },
   {
    "duration": 9,
    "start_time": "2022-07-30T18:18:17.849Z"
   },
   {
    "duration": 520,
    "start_time": "2022-07-30T18:18:17.859Z"
   },
   {
    "duration": 1160,
    "start_time": "2022-07-30T18:18:18.381Z"
   },
   {
    "duration": 5,
    "start_time": "2022-07-30T18:18:19.543Z"
   },
   {
    "duration": 118,
    "start_time": "2022-07-30T18:18:19.550Z"
   },
   {
    "duration": 170,
    "start_time": "2022-07-30T18:18:19.672Z"
   },
   {
    "duration": 325,
    "start_time": "2022-07-30T18:18:19.844Z"
   },
   {
    "duration": 30,
    "start_time": "2022-07-30T18:18:20.170Z"
   },
   {
    "duration": 59,
    "start_time": "2022-07-30T18:18:20.203Z"
   },
   {
    "duration": 60,
    "start_time": "2022-07-30T18:18:20.263Z"
   },
   {
    "duration": 53,
    "start_time": "2022-07-30T18:18:20.325Z"
   },
   {
    "duration": 82,
    "start_time": "2022-07-30T18:18:20.379Z"
   },
   {
    "duration": 82,
    "start_time": "2022-07-30T18:18:20.464Z"
   },
   {
    "duration": 5290,
    "start_time": "2022-07-30T18:18:20.548Z"
   },
   {
    "duration": 5685,
    "start_time": "2022-07-30T18:18:25.839Z"
   },
   {
    "duration": 16,
    "start_time": "2022-07-30T18:18:31.526Z"
   },
   {
    "duration": 35,
    "start_time": "2022-07-30T18:18:31.543Z"
   },
   {
    "duration": 26,
    "start_time": "2022-07-30T18:18:31.579Z"
   },
   {
    "duration": 55,
    "start_time": "2022-07-30T18:18:31.607Z"
   },
   {
    "duration": 6120,
    "start_time": "2022-07-30T18:18:31.664Z"
   },
   {
    "duration": 6696,
    "start_time": "2022-07-30T18:18:37.785Z"
   },
   {
    "duration": 21,
    "start_time": "2022-07-30T18:18:44.483Z"
   },
   {
    "duration": 68,
    "start_time": "2022-07-30T18:18:44.506Z"
   },
   {
    "duration": 346,
    "start_time": "2022-07-30T18:18:44.581Z"
   },
   {
    "duration": 31,
    "start_time": "2022-07-30T18:18:44.928Z"
   },
   {
    "duration": 2138,
    "start_time": "2022-07-30T18:18:44.960Z"
   },
   {
    "duration": 118,
    "start_time": "2022-07-30T18:18:47.100Z"
   },
   {
    "duration": 603,
    "start_time": "2022-07-30T18:18:47.220Z"
   },
   {
    "duration": 95,
    "start_time": "2022-07-30T18:18:47.825Z"
   },
   {
    "duration": 5929,
    "start_time": "2022-07-30T18:18:47.922Z"
   },
   {
    "duration": 5912,
    "start_time": "2022-07-30T18:18:53.854Z"
   },
   {
    "duration": 19,
    "start_time": "2022-07-30T18:18:59.768Z"
   },
   {
    "duration": 77,
    "start_time": "2022-07-30T18:18:59.789Z"
   },
   {
    "duration": 217,
    "start_time": "2022-07-30T18:18:59.868Z"
   },
   {
    "duration": 42,
    "start_time": "2022-07-30T18:19:00.087Z"
   },
   {
    "duration": 42,
    "start_time": "2022-07-30T18:19:00.131Z"
   },
   {
    "duration": 711,
    "start_time": "2022-07-30T18:19:00.175Z"
   },
   {
    "duration": 291,
    "start_time": "2022-07-30T18:19:00.888Z"
   },
   {
    "duration": 369,
    "start_time": "2022-07-30T18:19:01.181Z"
   },
   {
    "duration": 18,
    "start_time": "2022-07-30T18:19:01.551Z"
   },
   {
    "duration": 77,
    "start_time": "2022-07-30T18:19:01.570Z"
   },
   {
    "duration": 80,
    "start_time": "2022-07-30T18:19:01.649Z"
   },
   {
    "duration": 277,
    "start_time": "2022-07-30T18:19:01.731Z"
   },
   {
    "duration": 24,
    "start_time": "2022-07-30T18:19:02.010Z"
   },
   {
    "duration": 10,
    "start_time": "2022-07-30T18:19:02.036Z"
   },
   {
    "duration": 49,
    "start_time": "2022-07-30T18:19:02.048Z"
   },
   {
    "duration": 377,
    "start_time": "2022-07-30T18:19:02.104Z"
   },
   {
    "duration": 254,
    "start_time": "2022-07-30T18:19:02.483Z"
   },
   {
    "duration": 238,
    "start_time": "2022-07-30T18:19:02.739Z"
   },
   {
    "duration": 242,
    "start_time": "2022-07-30T18:19:02.979Z"
   },
   {
    "duration": 26,
    "start_time": "2022-07-30T18:19:03.223Z"
   },
   {
    "duration": 14,
    "start_time": "2022-07-30T18:19:03.251Z"
   },
   {
    "duration": 216,
    "start_time": "2022-07-30T18:19:03.266Z"
   },
   {
    "duration": 26,
    "start_time": "2022-07-30T18:19:03.484Z"
   },
   {
    "duration": 44,
    "start_time": "2022-07-30T18:19:03.512Z"
   },
   {
    "duration": 24,
    "start_time": "2022-07-30T18:19:03.558Z"
   },
   {
    "duration": 24,
    "start_time": "2022-07-30T18:19:03.584Z"
   },
   {
    "duration": 51,
    "start_time": "2022-07-30T18:19:03.616Z"
   },
   {
    "duration": 26,
    "start_time": "2022-07-30T18:19:03.669Z"
   },
   {
    "duration": 456,
    "start_time": "2022-07-30T18:19:03.697Z"
   },
   {
    "duration": 338,
    "start_time": "2022-07-30T18:19:04.155Z"
   },
   {
    "duration": 260,
    "start_time": "2022-07-30T18:19:04.497Z"
   },
   {
    "duration": 273,
    "start_time": "2022-07-30T18:19:04.759Z"
   },
   {
    "duration": 14,
    "start_time": "2022-07-30T18:19:05.034Z"
   },
   {
    "duration": 59,
    "start_time": "2022-07-30T18:19:05.051Z"
   },
   {
    "duration": 117,
    "start_time": "2022-07-30T18:19:05.112Z"
   },
   {
    "duration": 469,
    "start_time": "2022-07-30T18:19:05.231Z"
   },
   {
    "duration": 519,
    "start_time": "2022-07-30T18:19:05.702Z"
   },
   {
    "duration": 264,
    "start_time": "2022-07-30T18:19:06.222Z"
   },
   {
    "duration": 196,
    "start_time": "2022-07-30T18:19:06.488Z"
   },
   {
    "duration": 22,
    "start_time": "2022-07-30T18:19:06.686Z"
   },
   {
    "duration": 10,
    "start_time": "2022-07-30T18:19:06.710Z"
   },
   {
    "duration": 225,
    "start_time": "2022-07-30T18:19:06.722Z"
   },
   {
    "duration": 83,
    "start_time": "2022-07-30T18:19:54.589Z"
   },
   {
    "duration": 481,
    "start_time": "2022-07-30T18:22:10.938Z"
   },
   {
    "duration": 691,
    "start_time": "2022-07-30T18:29:55.444Z"
   },
   {
    "duration": 69,
    "start_time": "2022-07-30T18:31:38.743Z"
   },
   {
    "duration": 114,
    "start_time": "2022-07-30T18:31:43.807Z"
   },
   {
    "duration": 127,
    "start_time": "2022-07-30T18:31:53.036Z"
   },
   {
    "duration": 118,
    "start_time": "2022-07-30T18:32:00.033Z"
   },
   {
    "duration": 100,
    "start_time": "2022-07-30T18:32:19.078Z"
   },
   {
    "duration": 60,
    "start_time": "2022-07-30T18:33:35.235Z"
   },
   {
    "duration": 115,
    "start_time": "2022-07-30T18:34:12.703Z"
   },
   {
    "duration": 22,
    "start_time": "2022-07-30T18:37:26.801Z"
   },
   {
    "duration": 21,
    "start_time": "2022-07-30T18:38:03.132Z"
   },
   {
    "duration": 149,
    "start_time": "2022-07-30T18:39:14.504Z"
   },
   {
    "duration": 3,
    "start_time": "2022-07-30T18:42:15.315Z"
   },
   {
    "duration": 2721,
    "start_time": "2022-07-30T18:43:23.911Z"
   },
   {
    "duration": 4,
    "start_time": "2022-07-30T18:44:47.337Z"
   },
   {
    "duration": 26,
    "start_time": "2022-07-30T18:48:59.801Z"
   },
   {
    "duration": 1551,
    "start_time": "2022-07-30T18:49:56.650Z"
   },
   {
    "duration": 1116,
    "start_time": "2022-07-30T18:49:58.203Z"
   },
   {
    "duration": 1427,
    "start_time": "2022-07-30T18:49:59.320Z"
   },
   {
    "duration": 5,
    "start_time": "2022-07-30T18:50:00.748Z"
   },
   {
    "duration": 17,
    "start_time": "2022-07-30T18:50:00.755Z"
   },
   {
    "duration": 447,
    "start_time": "2022-07-30T18:50:00.773Z"
   },
   {
    "duration": 926,
    "start_time": "2022-07-30T18:50:01.221Z"
   },
   {
    "duration": 52,
    "start_time": "2022-07-30T18:50:02.148Z"
   },
   {
    "duration": 296,
    "start_time": "2022-07-30T18:50:02.202Z"
   },
   {
    "duration": 21,
    "start_time": "2022-07-30T18:50:02.499Z"
   },
   {
    "duration": 39,
    "start_time": "2022-07-30T18:50:02.521Z"
   },
   {
    "duration": 66,
    "start_time": "2022-07-30T18:50:02.563Z"
   },
   {
    "duration": 49,
    "start_time": "2022-07-30T18:50:02.630Z"
   },
   {
    "duration": 65,
    "start_time": "2022-07-30T18:50:02.682Z"
   },
   {
    "duration": 72,
    "start_time": "2022-07-30T18:50:02.749Z"
   },
   {
    "duration": 4418,
    "start_time": "2022-07-30T18:50:02.823Z"
   },
   {
    "duration": 4967,
    "start_time": "2022-07-30T18:50:07.243Z"
   },
   {
    "duration": 16,
    "start_time": "2022-07-30T18:50:12.212Z"
   },
   {
    "duration": 58,
    "start_time": "2022-07-30T18:50:12.229Z"
   },
   {
    "duration": 19,
    "start_time": "2022-07-30T18:50:12.289Z"
   },
   {
    "duration": 34,
    "start_time": "2022-07-30T18:50:12.310Z"
   },
   {
    "duration": 4388,
    "start_time": "2022-07-30T18:50:12.346Z"
   },
   {
    "duration": 4757,
    "start_time": "2022-07-30T18:50:16.736Z"
   },
   {
    "duration": 16,
    "start_time": "2022-07-30T18:50:21.494Z"
   },
   {
    "duration": 35,
    "start_time": "2022-07-30T18:50:21.511Z"
   },
   {
    "duration": 280,
    "start_time": "2022-07-30T18:50:21.547Z"
   },
   {
    "duration": 28,
    "start_time": "2022-07-30T18:50:21.829Z"
   },
   {
    "duration": 768,
    "start_time": "2022-07-30T18:50:21.858Z"
   },
   {
    "duration": 54,
    "start_time": "2022-07-30T18:50:22.627Z"
   },
   {
    "duration": 229,
    "start_time": "2022-07-30T18:50:22.683Z"
   },
   {
    "duration": 29,
    "start_time": "2022-07-30T18:50:22.914Z"
   },
   {
    "duration": 4403,
    "start_time": "2022-07-30T18:50:22.945Z"
   },
   {
    "duration": 4880,
    "start_time": "2022-07-30T18:50:27.350Z"
   },
   {
    "duration": 18,
    "start_time": "2022-07-30T18:50:32.231Z"
   },
   {
    "duration": 36,
    "start_time": "2022-07-30T18:50:32.251Z"
   },
   {
    "duration": 187,
    "start_time": "2022-07-30T18:50:32.298Z"
   },
   {
    "duration": 32,
    "start_time": "2022-07-30T18:50:32.486Z"
   },
   {
    "duration": 36,
    "start_time": "2022-07-30T18:50:32.519Z"
   },
   {
    "duration": 505,
    "start_time": "2022-07-30T18:50:32.557Z"
   },
   {
    "duration": 228,
    "start_time": "2022-07-30T18:50:33.064Z"
   },
   {
    "duration": 235,
    "start_time": "2022-07-30T18:50:33.301Z"
   },
   {
    "duration": 16,
    "start_time": "2022-07-30T18:50:33.537Z"
   },
   {
    "duration": 8,
    "start_time": "2022-07-30T18:50:33.556Z"
   },
   {
    "duration": 59,
    "start_time": "2022-07-30T18:50:33.566Z"
   },
   {
    "duration": 306,
    "start_time": "2022-07-30T18:50:33.627Z"
   },
   {
    "duration": 17,
    "start_time": "2022-07-30T18:50:33.935Z"
   },
   {
    "duration": 7,
    "start_time": "2022-07-30T18:50:33.954Z"
   },
   {
    "duration": 56,
    "start_time": "2022-07-30T18:50:33.963Z"
   },
   {
    "duration": 346,
    "start_time": "2022-07-30T18:50:34.021Z"
   },
   {
    "duration": 324,
    "start_time": "2022-07-30T18:50:34.368Z"
   },
   {
    "duration": 220,
    "start_time": "2022-07-30T18:50:34.698Z"
   },
   {
    "duration": 204,
    "start_time": "2022-07-30T18:50:34.919Z"
   },
   {
    "duration": 21,
    "start_time": "2022-07-30T18:50:35.125Z"
   },
   {
    "duration": 14,
    "start_time": "2022-07-30T18:50:35.147Z"
   },
   {
    "duration": 207,
    "start_time": "2022-07-30T18:50:35.163Z"
   },
   {
    "duration": 27,
    "start_time": "2022-07-30T18:50:35.372Z"
   },
   {
    "duration": 5,
    "start_time": "2022-07-30T18:50:35.401Z"
   },
   {
    "duration": 7,
    "start_time": "2022-07-30T18:50:35.408Z"
   },
   {
    "duration": 16,
    "start_time": "2022-07-30T18:50:35.417Z"
   },
   {
    "duration": 39,
    "start_time": "2022-07-30T18:50:35.435Z"
   },
   {
    "duration": 22,
    "start_time": "2022-07-30T18:50:35.499Z"
   },
   {
    "duration": 442,
    "start_time": "2022-07-30T18:50:35.523Z"
   },
   {
    "duration": 330,
    "start_time": "2022-07-30T18:50:35.966Z"
   },
   {
    "duration": 215,
    "start_time": "2022-07-30T18:50:36.297Z"
   },
   {
    "duration": 275,
    "start_time": "2022-07-30T18:50:36.513Z"
   },
   {
    "duration": 19,
    "start_time": "2022-07-30T18:50:36.790Z"
   },
   {
    "duration": 27,
    "start_time": "2022-07-30T18:50:36.810Z"
   },
   {
    "duration": 406,
    "start_time": "2022-07-30T18:50:36.838Z"
   },
   {
    "duration": 459,
    "start_time": "2022-07-30T18:50:37.245Z"
   },
   {
    "duration": 196,
    "start_time": "2022-07-30T18:50:37.706Z"
   },
   {
    "duration": 266,
    "start_time": "2022-07-30T18:50:37.904Z"
   },
   {
    "duration": 14,
    "start_time": "2022-07-30T18:50:38.172Z"
   },
   {
    "duration": 17,
    "start_time": "2022-07-30T18:50:38.187Z"
   },
   {
    "duration": 232,
    "start_time": "2022-07-30T18:50:38.206Z"
   },
   {
    "duration": 403,
    "start_time": "2022-07-30T18:50:38.440Z"
   },
   {
    "duration": 111,
    "start_time": "2022-07-30T18:50:38.844Z"
   },
   {
    "duration": 226,
    "start_time": "2022-07-30T18:50:38.957Z"
   },
   {
    "duration": 10,
    "start_time": "2022-07-30T18:56:42.256Z"
   },
   {
    "duration": 3,
    "start_time": "2022-07-30T18:56:52.673Z"
   },
   {
    "duration": 1105,
    "start_time": "2022-07-30T18:56:55.798Z"
   },
   {
    "duration": 1321,
    "start_time": "2022-07-30T19:00:38.705Z"
   },
   {
    "duration": 790,
    "start_time": "2022-07-30T19:00:40.028Z"
   },
   {
    "duration": 2579,
    "start_time": "2022-07-30T19:00:40.819Z"
   },
   {
    "duration": 4,
    "start_time": "2022-07-30T19:00:43.400Z"
   },
   {
    "duration": 19,
    "start_time": "2022-07-30T19:00:43.406Z"
   },
   {
    "duration": 673,
    "start_time": "2022-07-30T19:00:43.427Z"
   },
   {
    "duration": 1055,
    "start_time": "2022-07-30T19:00:44.103Z"
   },
   {
    "duration": 46,
    "start_time": "2022-07-30T19:00:45.160Z"
   },
   {
    "duration": 305,
    "start_time": "2022-07-30T19:00:45.208Z"
   },
   {
    "duration": 29,
    "start_time": "2022-07-30T19:00:45.515Z"
   },
   {
    "duration": 32,
    "start_time": "2022-07-30T19:00:45.546Z"
   },
   {
    "duration": 48,
    "start_time": "2022-07-30T19:00:45.597Z"
   },
   {
    "duration": 92,
    "start_time": "2022-07-30T19:00:45.647Z"
   },
   {
    "duration": 58,
    "start_time": "2022-07-30T19:00:45.740Z"
   },
   {
    "duration": 48,
    "start_time": "2022-07-30T19:00:45.800Z"
   },
   {
    "duration": 4389,
    "start_time": "2022-07-30T19:00:45.850Z"
   },
   {
    "duration": 5120,
    "start_time": "2022-07-30T19:00:50.240Z"
   },
   {
    "duration": 17,
    "start_time": "2022-07-30T19:00:55.361Z"
   },
   {
    "duration": 44,
    "start_time": "2022-07-30T19:00:55.380Z"
   },
   {
    "duration": 18,
    "start_time": "2022-07-30T19:00:55.425Z"
   },
   {
    "duration": 35,
    "start_time": "2022-07-30T19:00:55.445Z"
   },
   {
    "duration": 4311,
    "start_time": "2022-07-30T19:00:55.481Z"
   },
   {
    "duration": 6170,
    "start_time": "2022-07-30T19:00:59.793Z"
   },
   {
    "duration": 15,
    "start_time": "2022-07-30T19:01:05.965Z"
   },
   {
    "duration": 42,
    "start_time": "2022-07-30T19:01:05.982Z"
   },
   {
    "duration": 280,
    "start_time": "2022-07-30T19:01:06.026Z"
   },
   {
    "duration": 45,
    "start_time": "2022-07-30T19:01:06.308Z"
   },
   {
    "duration": 793,
    "start_time": "2022-07-30T19:01:06.359Z"
   },
   {
    "duration": 63,
    "start_time": "2022-07-30T19:01:07.153Z"
   },
   {
    "duration": 239,
    "start_time": "2022-07-30T19:01:07.217Z"
   },
   {
    "duration": 41,
    "start_time": "2022-07-30T19:01:07.457Z"
   },
   {
    "duration": 5386,
    "start_time": "2022-07-30T19:01:07.499Z"
   },
   {
    "duration": 4874,
    "start_time": "2022-07-30T19:01:12.887Z"
   },
   {
    "duration": 15,
    "start_time": "2022-07-30T19:01:17.763Z"
   },
   {
    "duration": 41,
    "start_time": "2022-07-30T19:01:17.779Z"
   },
   {
    "duration": 191,
    "start_time": "2022-07-30T19:01:17.822Z"
   },
   {
    "duration": 31,
    "start_time": "2022-07-30T19:01:18.015Z"
   },
   {
    "duration": 50,
    "start_time": "2022-07-30T19:01:18.048Z"
   },
   {
    "duration": 507,
    "start_time": "2022-07-30T19:01:18.100Z"
   },
   {
    "duration": 232,
    "start_time": "2022-07-30T19:01:18.609Z"
   },
   {
    "duration": 298,
    "start_time": "2022-07-30T19:01:18.842Z"
   },
   {
    "duration": 14,
    "start_time": "2022-07-30T19:01:19.142Z"
   },
   {
    "duration": 9,
    "start_time": "2022-07-30T19:01:19.158Z"
   },
   {
    "duration": 66,
    "start_time": "2022-07-30T19:01:19.169Z"
   },
   {
    "duration": 227,
    "start_time": "2022-07-30T19:01:19.238Z"
   },
   {
    "duration": 15,
    "start_time": "2022-07-30T19:01:19.467Z"
   },
   {
    "duration": 8,
    "start_time": "2022-07-30T19:01:19.497Z"
   },
   {
    "duration": 35,
    "start_time": "2022-07-30T19:01:19.506Z"
   },
   {
    "duration": 381,
    "start_time": "2022-07-30T19:01:19.543Z"
   },
   {
    "duration": 239,
    "start_time": "2022-07-30T19:01:19.926Z"
   },
   {
    "duration": 215,
    "start_time": "2022-07-30T19:01:20.167Z"
   },
   {
    "duration": 207,
    "start_time": "2022-07-30T19:01:20.384Z"
   },
   {
    "duration": 21,
    "start_time": "2022-07-30T19:01:20.597Z"
   },
   {
    "duration": 12,
    "start_time": "2022-07-30T19:01:20.620Z"
   },
   {
    "duration": 189,
    "start_time": "2022-07-30T19:01:20.634Z"
   },
   {
    "duration": 16,
    "start_time": "2022-07-30T19:01:20.825Z"
   },
   {
    "duration": 10,
    "start_time": "2022-07-30T19:01:20.842Z"
   },
   {
    "duration": 9,
    "start_time": "2022-07-30T19:01:20.855Z"
   },
   {
    "duration": 10,
    "start_time": "2022-07-30T19:01:20.866Z"
   },
   {
    "duration": 53,
    "start_time": "2022-07-30T19:01:20.878Z"
   },
   {
    "duration": 21,
    "start_time": "2022-07-30T19:01:20.933Z"
   },
   {
    "duration": 400,
    "start_time": "2022-07-30T19:01:20.955Z"
   },
   {
    "duration": 306,
    "start_time": "2022-07-30T19:01:21.356Z"
   },
   {
    "duration": 224,
    "start_time": "2022-07-30T19:01:21.664Z"
   },
   {
    "duration": 238,
    "start_time": "2022-07-30T19:01:21.889Z"
   },
   {
    "duration": 12,
    "start_time": "2022-07-30T19:01:22.129Z"
   },
   {
    "duration": 26,
    "start_time": "2022-07-30T19:01:22.143Z"
   },
   {
    "duration": 421,
    "start_time": "2022-07-30T19:01:22.171Z"
   },
   {
    "duration": 470,
    "start_time": "2022-07-30T19:01:22.595Z"
   },
   {
    "duration": 263,
    "start_time": "2022-07-30T19:01:23.067Z"
   },
   {
    "duration": 175,
    "start_time": "2022-07-30T19:01:23.331Z"
   },
   {
    "duration": 15,
    "start_time": "2022-07-30T19:01:23.508Z"
   },
   {
    "duration": 12,
    "start_time": "2022-07-30T19:01:23.525Z"
   },
   {
    "duration": 219,
    "start_time": "2022-07-30T19:01:23.539Z"
   },
   {
    "duration": 431,
    "start_time": "2022-07-30T19:01:23.760Z"
   },
   {
    "duration": 91,
    "start_time": "2022-07-30T19:01:24.197Z"
   },
   {
    "duration": 283,
    "start_time": "2022-07-30T19:01:25.320Z"
   },
   {
    "duration": 1203,
    "start_time": "2022-07-30T19:01:25.604Z"
   },
   {
    "duration": 856,
    "start_time": "2022-07-30T19:02:01.594Z"
   },
   {
    "duration": 94,
    "start_time": "2022-07-30T19:02:07.408Z"
   },
   {
    "duration": 145,
    "start_time": "2022-07-30T19:02:23.066Z"
   },
   {
    "duration": 251,
    "start_time": "2022-07-30T19:02:28.949Z"
   },
   {
    "duration": 127,
    "start_time": "2022-07-30T19:07:22.635Z"
   },
   {
    "duration": 12,
    "start_time": "2022-07-30T19:16:22.347Z"
   },
   {
    "duration": 4,
    "start_time": "2022-07-30T19:17:14.997Z"
   },
   {
    "duration": 121,
    "start_time": "2022-07-30T19:18:35.560Z"
   },
   {
    "duration": 50,
    "start_time": "2022-07-30T19:22:47.935Z"
   },
   {
    "duration": 865,
    "start_time": "2022-07-30T19:24:12.764Z"
   },
   {
    "duration": 885,
    "start_time": "2022-07-30T19:24:28.298Z"
   },
   {
    "duration": 10,
    "start_time": "2022-07-30T19:24:44.710Z"
   },
   {
    "duration": 1245,
    "start_time": "2022-07-30T19:28:06.598Z"
   },
   {
    "duration": 1066,
    "start_time": "2022-07-30T19:28:07.845Z"
   },
   {
    "duration": 2297,
    "start_time": "2022-07-30T19:28:08.912Z"
   },
   {
    "duration": 4,
    "start_time": "2022-07-30T19:28:11.211Z"
   },
   {
    "duration": 7,
    "start_time": "2022-07-30T19:28:11.216Z"
   },
   {
    "duration": 429,
    "start_time": "2022-07-30T19:28:11.225Z"
   },
   {
    "duration": 926,
    "start_time": "2022-07-30T19:28:11.656Z"
   },
   {
    "duration": 46,
    "start_time": "2022-07-30T19:28:12.584Z"
   },
   {
    "duration": 270,
    "start_time": "2022-07-30T19:28:12.632Z"
   },
   {
    "duration": 22,
    "start_time": "2022-07-30T19:28:12.906Z"
   },
   {
    "duration": 32,
    "start_time": "2022-07-30T19:28:12.930Z"
   },
   {
    "duration": 63,
    "start_time": "2022-07-30T19:28:12.963Z"
   },
   {
    "duration": 46,
    "start_time": "2022-07-30T19:28:13.028Z"
   },
   {
    "duration": 66,
    "start_time": "2022-07-30T19:28:13.076Z"
   },
   {
    "duration": 57,
    "start_time": "2022-07-30T19:28:13.143Z"
   },
   {
    "duration": 4372,
    "start_time": "2022-07-30T19:28:13.202Z"
   },
   {
    "duration": 4875,
    "start_time": "2022-07-30T19:28:17.576Z"
   },
   {
    "duration": 16,
    "start_time": "2022-07-30T19:28:22.452Z"
   },
   {
    "duration": 44,
    "start_time": "2022-07-30T19:28:22.469Z"
   },
   {
    "duration": 19,
    "start_time": "2022-07-30T19:28:22.514Z"
   },
   {
    "duration": 37,
    "start_time": "2022-07-30T19:28:22.534Z"
   },
   {
    "duration": 4340,
    "start_time": "2022-07-30T19:28:22.572Z"
   },
   {
    "duration": 4828,
    "start_time": "2022-07-30T19:28:26.914Z"
   },
   {
    "duration": 15,
    "start_time": "2022-07-30T19:28:31.743Z"
   },
   {
    "duration": 41,
    "start_time": "2022-07-30T19:28:31.759Z"
   },
   {
    "duration": 270,
    "start_time": "2022-07-30T19:28:31.802Z"
   },
   {
    "duration": 31,
    "start_time": "2022-07-30T19:28:32.074Z"
   },
   {
    "duration": 747,
    "start_time": "2022-07-30T19:28:32.109Z"
   },
   {
    "duration": 62,
    "start_time": "2022-07-30T19:28:32.858Z"
   },
   {
    "duration": 223,
    "start_time": "2022-07-30T19:28:32.922Z"
   },
   {
    "duration": 28,
    "start_time": "2022-07-30T19:28:33.147Z"
   },
   {
    "duration": 4460,
    "start_time": "2022-07-30T19:28:33.176Z"
   },
   {
    "duration": 4701,
    "start_time": "2022-07-30T19:28:37.637Z"
   },
   {
    "duration": 14,
    "start_time": "2022-07-30T19:28:42.340Z"
   },
   {
    "duration": 42,
    "start_time": "2022-07-30T19:28:42.356Z"
   },
   {
    "duration": 185,
    "start_time": "2022-07-30T19:28:42.400Z"
   },
   {
    "duration": 33,
    "start_time": "2022-07-30T19:28:42.587Z"
   },
   {
    "duration": 34,
    "start_time": "2022-07-30T19:28:42.621Z"
   },
   {
    "duration": 520,
    "start_time": "2022-07-30T19:28:42.656Z"
   },
   {
    "duration": 223,
    "start_time": "2022-07-30T19:28:43.177Z"
   },
   {
    "duration": 303,
    "start_time": "2022-07-30T19:28:43.401Z"
   },
   {
    "duration": 13,
    "start_time": "2022-07-30T19:28:43.706Z"
   },
   {
    "duration": 10,
    "start_time": "2022-07-30T19:28:43.720Z"
   },
   {
    "duration": 45,
    "start_time": "2022-07-30T19:28:43.731Z"
   },
   {
    "duration": 245,
    "start_time": "2022-07-30T19:28:43.777Z"
   },
   {
    "duration": 15,
    "start_time": "2022-07-30T19:28:44.023Z"
   },
   {
    "duration": 9,
    "start_time": "2022-07-30T19:28:44.040Z"
   },
   {
    "duration": 48,
    "start_time": "2022-07-30T19:28:44.051Z"
   },
   {
    "duration": 343,
    "start_time": "2022-07-30T19:28:44.100Z"
   },
   {
    "duration": 293,
    "start_time": "2022-07-30T19:28:44.445Z"
   },
   {
    "duration": 223,
    "start_time": "2022-07-30T19:28:44.740Z"
   },
   {
    "duration": 210,
    "start_time": "2022-07-30T19:28:44.965Z"
   },
   {
    "duration": 26,
    "start_time": "2022-07-30T19:28:45.177Z"
   },
   {
    "duration": 13,
    "start_time": "2022-07-30T19:28:45.205Z"
   },
   {
    "duration": 170,
    "start_time": "2022-07-30T19:28:45.220Z"
   },
   {
    "duration": 14,
    "start_time": "2022-07-30T19:28:45.398Z"
   },
   {
    "duration": 6,
    "start_time": "2022-07-30T19:28:45.413Z"
   },
   {
    "duration": 7,
    "start_time": "2022-07-30T19:28:45.421Z"
   },
   {
    "duration": 7,
    "start_time": "2022-07-30T19:28:45.430Z"
   },
   {
    "duration": 69,
    "start_time": "2022-07-30T19:28:45.438Z"
   },
   {
    "duration": 20,
    "start_time": "2022-07-30T19:28:45.509Z"
   },
   {
    "duration": 402,
    "start_time": "2022-07-30T19:28:45.532Z"
   },
   {
    "duration": 313,
    "start_time": "2022-07-30T19:28:45.935Z"
   },
   {
    "duration": 214,
    "start_time": "2022-07-30T19:28:46.250Z"
   },
   {
    "duration": 229,
    "start_time": "2022-07-30T19:28:46.466Z"
   },
   {
    "duration": 12,
    "start_time": "2022-07-30T19:28:46.697Z"
   },
   {
    "duration": 25,
    "start_time": "2022-07-30T19:28:46.710Z"
   },
   {
    "duration": 384,
    "start_time": "2022-07-30T19:28:46.737Z"
   },
   {
    "duration": 460,
    "start_time": "2022-07-30T19:28:47.122Z"
   },
   {
    "duration": 260,
    "start_time": "2022-07-30T19:28:47.584Z"
   },
   {
    "duration": 171,
    "start_time": "2022-07-30T19:28:47.846Z"
   },
   {
    "duration": 14,
    "start_time": "2022-07-30T19:28:48.018Z"
   },
   {
    "duration": 8,
    "start_time": "2022-07-30T19:28:48.033Z"
   },
   {
    "duration": 218,
    "start_time": "2022-07-30T19:28:48.042Z"
   },
   {
    "duration": 383,
    "start_time": "2022-07-30T19:28:48.261Z"
   },
   {
    "duration": 51,
    "start_time": "2022-07-30T19:29:29.448Z"
   },
   {
    "duration": 1247,
    "start_time": "2022-07-30T19:29:35.885Z"
   },
   {
    "duration": 1055,
    "start_time": "2022-07-30T19:29:37.134Z"
   },
   {
    "duration": 1444,
    "start_time": "2022-07-30T19:29:38.190Z"
   },
   {
    "duration": 4,
    "start_time": "2022-07-30T19:29:39.636Z"
   },
   {
    "duration": 8,
    "start_time": "2022-07-30T19:29:39.642Z"
   },
   {
    "duration": 426,
    "start_time": "2022-07-30T19:29:39.651Z"
   },
   {
    "duration": 916,
    "start_time": "2022-07-30T19:29:40.079Z"
   },
   {
    "duration": 45,
    "start_time": "2022-07-30T19:29:40.998Z"
   },
   {
    "duration": 290,
    "start_time": "2022-07-30T19:29:41.044Z"
   },
   {
    "duration": 43,
    "start_time": "2022-07-30T19:29:41.336Z"
   },
   {
    "duration": 27,
    "start_time": "2022-07-30T19:30:25.758Z"
   },
   {
    "duration": 1200,
    "start_time": "2022-07-30T19:31:26.016Z"
   },
   {
    "duration": 819,
    "start_time": "2022-07-30T19:31:27.218Z"
   },
   {
    "duration": 2304,
    "start_time": "2022-07-30T19:31:28.039Z"
   },
   {
    "duration": 56,
    "start_time": "2022-07-30T19:31:30.345Z"
   },
   {
    "duration": 15,
    "start_time": "2022-07-30T19:31:30.403Z"
   },
   {
    "duration": 715,
    "start_time": "2022-07-30T19:31:30.419Z"
   },
   {
    "duration": 1013,
    "start_time": "2022-07-30T19:31:31.136Z"
   },
   {
    "duration": 52,
    "start_time": "2022-07-30T19:31:32.151Z"
   },
   {
    "duration": 44,
    "start_time": "2022-07-30T19:31:32.205Z"
   },
   {
    "duration": 18,
    "start_time": "2022-07-30T19:31:32.252Z"
   },
   {
    "duration": 41,
    "start_time": "2022-07-30T19:31:32.272Z"
   },
   {
    "duration": 49,
    "start_time": "2022-07-30T19:31:32.314Z"
   },
   {
    "duration": 64,
    "start_time": "2022-07-30T19:31:32.365Z"
   },
   {
    "duration": 48,
    "start_time": "2022-07-30T19:31:32.431Z"
   },
   {
    "duration": 67,
    "start_time": "2022-07-30T19:31:32.480Z"
   },
   {
    "duration": 4651,
    "start_time": "2022-07-30T19:31:32.549Z"
   },
   {
    "duration": 5204,
    "start_time": "2022-07-30T19:31:37.202Z"
   },
   {
    "duration": 16,
    "start_time": "2022-07-30T19:31:42.411Z"
   },
   {
    "duration": 32,
    "start_time": "2022-07-30T19:31:42.428Z"
   },
   {
    "duration": 19,
    "start_time": "2022-07-30T19:31:42.461Z"
   },
   {
    "duration": 33,
    "start_time": "2022-07-30T19:31:42.498Z"
   },
   {
    "duration": 4628,
    "start_time": "2022-07-30T19:31:42.533Z"
   },
   {
    "duration": 5259,
    "start_time": "2022-07-30T19:31:47.162Z"
   },
   {
    "duration": 15,
    "start_time": "2022-07-30T19:31:52.423Z"
   },
   {
    "duration": 35,
    "start_time": "2022-07-30T19:31:52.440Z"
   },
   {
    "duration": 305,
    "start_time": "2022-07-30T19:31:52.477Z"
   },
   {
    "duration": 31,
    "start_time": "2022-07-30T19:31:52.783Z"
   },
   {
    "duration": 827,
    "start_time": "2022-07-30T19:31:52.818Z"
   },
   {
    "duration": 65,
    "start_time": "2022-07-30T19:31:53.646Z"
   },
   {
    "duration": 254,
    "start_time": "2022-07-30T19:31:53.713Z"
   },
   {
    "duration": 37,
    "start_time": "2022-07-30T19:31:53.969Z"
   },
   {
    "duration": 4654,
    "start_time": "2022-07-30T19:31:54.008Z"
   },
   {
    "duration": 5274,
    "start_time": "2022-07-30T19:31:58.663Z"
   },
   {
    "duration": 15,
    "start_time": "2022-07-30T19:32:03.939Z"
   },
   {
    "duration": 62,
    "start_time": "2022-07-30T19:32:03.955Z"
   },
   {
    "duration": 207,
    "start_time": "2022-07-30T19:32:04.019Z"
   },
   {
    "duration": 30,
    "start_time": "2022-07-30T19:32:04.228Z"
   },
   {
    "duration": 58,
    "start_time": "2022-07-30T19:32:04.260Z"
   },
   {
    "duration": 595,
    "start_time": "2022-07-30T19:32:04.320Z"
   },
   {
    "duration": 242,
    "start_time": "2022-07-30T19:32:04.917Z"
   },
   {
    "duration": 320,
    "start_time": "2022-07-30T19:32:05.160Z"
   },
   {
    "duration": 21,
    "start_time": "2022-07-30T19:32:05.482Z"
   },
   {
    "duration": 16,
    "start_time": "2022-07-30T19:32:05.506Z"
   },
   {
    "duration": 37,
    "start_time": "2022-07-30T19:32:05.524Z"
   },
   {
    "duration": 241,
    "start_time": "2022-07-30T19:32:05.563Z"
   },
   {
    "duration": 15,
    "start_time": "2022-07-30T19:32:05.806Z"
   },
   {
    "duration": 7,
    "start_time": "2022-07-30T19:32:05.823Z"
   },
   {
    "duration": 27,
    "start_time": "2022-07-30T19:32:05.832Z"
   },
   {
    "duration": 381,
    "start_time": "2022-07-30T19:32:05.861Z"
   },
   {
    "duration": 253,
    "start_time": "2022-07-30T19:32:06.244Z"
   },
   {
    "duration": 224,
    "start_time": "2022-07-30T19:32:06.500Z"
   },
   {
    "duration": 203,
    "start_time": "2022-07-30T19:32:06.726Z"
   },
   {
    "duration": 17,
    "start_time": "2022-07-30T19:32:06.931Z"
   },
   {
    "duration": 10,
    "start_time": "2022-07-30T19:32:06.950Z"
   },
   {
    "duration": 188,
    "start_time": "2022-07-30T19:32:06.961Z"
   },
   {
    "duration": 13,
    "start_time": "2022-07-30T19:32:07.151Z"
   },
   {
    "duration": 5,
    "start_time": "2022-07-30T19:32:07.165Z"
   },
   {
    "duration": 15,
    "start_time": "2022-07-30T19:32:07.171Z"
   },
   {
    "duration": 21,
    "start_time": "2022-07-30T19:32:07.197Z"
   },
   {
    "duration": 31,
    "start_time": "2022-07-30T19:32:07.220Z"
   },
   {
    "duration": 17,
    "start_time": "2022-07-30T19:32:07.253Z"
   },
   {
    "duration": 444,
    "start_time": "2022-07-30T19:32:07.272Z"
   },
   {
    "duration": 330,
    "start_time": "2022-07-30T19:32:07.718Z"
   },
   {
    "duration": 225,
    "start_time": "2022-07-30T19:32:08.049Z"
   },
   {
    "duration": 271,
    "start_time": "2022-07-30T19:32:08.275Z"
   },
   {
    "duration": 15,
    "start_time": "2022-07-30T19:32:08.547Z"
   },
   {
    "duration": 47,
    "start_time": "2022-07-30T19:32:08.563Z"
   },
   {
    "duration": 425,
    "start_time": "2022-07-30T19:32:08.612Z"
   },
   {
    "duration": 499,
    "start_time": "2022-07-30T19:32:09.039Z"
   },
   {
    "duration": 274,
    "start_time": "2022-07-30T19:32:09.540Z"
   },
   {
    "duration": 166,
    "start_time": "2022-07-30T19:32:09.816Z"
   },
   {
    "duration": 28,
    "start_time": "2022-07-30T19:32:09.983Z"
   },
   {
    "duration": 10,
    "start_time": "2022-07-30T19:32:10.013Z"
   },
   {
    "duration": 207,
    "start_time": "2022-07-30T19:32:10.024Z"
   },
   {
    "duration": 349,
    "start_time": "2022-07-30T19:32:10.232Z"
   },
   {
    "duration": 576,
    "start_time": "2022-07-30T19:32:10.583Z"
   },
   {
    "duration": 122,
    "start_time": "2022-07-30T19:32:11.161Z"
   },
   {
    "duration": 0,
    "start_time": "2022-07-30T19:32:11.285Z"
   },
   {
    "duration": 0,
    "start_time": "2022-07-30T19:32:11.286Z"
   },
   {
    "duration": 0,
    "start_time": "2022-07-30T19:32:11.287Z"
   },
   {
    "duration": 0,
    "start_time": "2022-07-30T19:32:11.297Z"
   },
   {
    "duration": 287,
    "start_time": "2022-07-30T19:33:07.546Z"
   },
   {
    "duration": 380,
    "start_time": "2022-07-30T19:33:33.753Z"
   },
   {
    "duration": 55,
    "start_time": "2022-07-30T19:33:43.079Z"
   },
   {
    "duration": 21733,
    "start_time": "2022-07-30T19:33:59.972Z"
   },
   {
    "duration": 8509,
    "start_time": "2022-07-30T19:34:53.977Z"
   },
   {
    "duration": 8549,
    "start_time": "2022-07-30T19:35:07.438Z"
   },
   {
    "duration": 4,
    "start_time": "2022-07-30T19:40:32.643Z"
   },
   {
    "duration": 28079,
    "start_time": "2022-07-30T19:40:42.084Z"
   },
   {
    "duration": 47,
    "start_time": "2022-07-30T19:41:30.720Z"
   },
   {
    "duration": 4,
    "start_time": "2022-07-30T19:41:44.860Z"
   },
   {
    "duration": 26423,
    "start_time": "2022-07-30T19:42:43.780Z"
   },
   {
    "duration": 8288,
    "start_time": "2022-07-30T19:43:10.205Z"
   },
   {
    "duration": 27082,
    "start_time": "2022-07-30T19:43:18.494Z"
   },
   {
    "duration": 84184,
    "start_time": "2022-07-30T19:43:58.391Z"
   },
   {
    "duration": 4,
    "start_time": "2022-07-30T19:45:22.578Z"
   },
   {
    "duration": 5796,
    "start_time": "2022-07-30T19:47:03.682Z"
   },
   {
    "duration": 16,
    "start_time": "2022-07-30T19:51:34.580Z"
   },
   {
    "duration": 1563,
    "start_time": "2022-07-30T20:52:48.915Z"
   },
   {
    "duration": 850,
    "start_time": "2022-07-30T20:52:50.480Z"
   },
   {
    "duration": 2747,
    "start_time": "2022-07-30T20:52:51.331Z"
   },
   {
    "duration": 4,
    "start_time": "2022-07-30T20:52:54.080Z"
   },
   {
    "duration": 10,
    "start_time": "2022-07-30T20:52:54.104Z"
   },
   {
    "duration": 1095,
    "start_time": "2022-07-30T20:52:54.116Z"
   },
   {
    "duration": 1458,
    "start_time": "2022-07-30T20:52:55.213Z"
   },
   {
    "duration": 54,
    "start_time": "2022-07-30T20:52:56.673Z"
   },
   {
    "duration": 31,
    "start_time": "2022-07-30T20:52:56.729Z"
   },
   {
    "duration": 40,
    "start_time": "2022-07-30T20:52:56.763Z"
   },
   {
    "duration": 35,
    "start_time": "2022-07-30T20:52:56.805Z"
   },
   {
    "duration": 77,
    "start_time": "2022-07-30T20:52:56.842Z"
   },
   {
    "duration": 61,
    "start_time": "2022-07-30T20:52:56.921Z"
   },
   {
    "duration": 67,
    "start_time": "2022-07-30T20:52:56.984Z"
   },
   {
    "duration": 73,
    "start_time": "2022-07-30T20:52:57.052Z"
   },
   {
    "duration": 6198,
    "start_time": "2022-07-30T20:52:57.127Z"
   },
   {
    "duration": 5726,
    "start_time": "2022-07-30T20:53:03.327Z"
   },
   {
    "duration": 16,
    "start_time": "2022-07-30T20:53:09.054Z"
   },
   {
    "duration": 40,
    "start_time": "2022-07-30T20:53:09.072Z"
   },
   {
    "duration": 23,
    "start_time": "2022-07-30T20:53:09.114Z"
   },
   {
    "duration": 30,
    "start_time": "2022-07-30T20:53:09.139Z"
   },
   {
    "duration": 5113,
    "start_time": "2022-07-30T20:53:09.171Z"
   },
   {
    "duration": 5844,
    "start_time": "2022-07-30T20:53:14.286Z"
   },
   {
    "duration": 15,
    "start_time": "2022-07-30T20:53:20.132Z"
   },
   {
    "duration": 35,
    "start_time": "2022-07-30T20:53:20.148Z"
   },
   {
    "duration": 332,
    "start_time": "2022-07-30T20:53:20.184Z"
   },
   {
    "duration": 30,
    "start_time": "2022-07-30T20:53:20.517Z"
   },
   {
    "duration": 896,
    "start_time": "2022-07-30T20:53:20.551Z"
   },
   {
    "duration": 76,
    "start_time": "2022-07-30T20:53:21.449Z"
   },
   {
    "duration": 250,
    "start_time": "2022-07-30T20:53:21.527Z"
   },
   {
    "duration": 37,
    "start_time": "2022-07-30T20:53:21.778Z"
   },
   {
    "duration": 6338,
    "start_time": "2022-07-30T20:53:21.817Z"
   },
   {
    "duration": 5895,
    "start_time": "2022-07-30T20:53:28.156Z"
   },
   {
    "duration": 16,
    "start_time": "2022-07-30T20:53:34.052Z"
   },
   {
    "duration": 59,
    "start_time": "2022-07-30T20:53:34.069Z"
   },
   {
    "duration": 220,
    "start_time": "2022-07-30T20:53:34.129Z"
   },
   {
    "duration": 34,
    "start_time": "2022-07-30T20:53:34.351Z"
   },
   {
    "duration": 54,
    "start_time": "2022-07-30T20:53:34.387Z"
   },
   {
    "duration": 519,
    "start_time": "2022-07-30T20:53:34.443Z"
   },
   {
    "duration": 252,
    "start_time": "2022-07-30T20:53:34.964Z"
   },
   {
    "duration": 351,
    "start_time": "2022-07-30T20:53:35.218Z"
   },
   {
    "duration": 12,
    "start_time": "2022-07-30T20:53:35.571Z"
   },
   {
    "duration": 19,
    "start_time": "2022-07-30T20:53:35.585Z"
   },
   {
    "duration": 32,
    "start_time": "2022-07-30T20:53:35.606Z"
   },
   {
    "duration": 251,
    "start_time": "2022-07-30T20:53:35.640Z"
   },
   {
    "duration": 17,
    "start_time": "2022-07-30T20:53:35.892Z"
   },
   {
    "duration": 29,
    "start_time": "2022-07-30T20:53:35.911Z"
   },
   {
    "duration": 31,
    "start_time": "2022-07-30T20:53:35.942Z"
   },
   {
    "duration": 380,
    "start_time": "2022-07-30T20:53:35.974Z"
   },
   {
    "duration": 299,
    "start_time": "2022-07-30T20:53:36.356Z"
   },
   {
    "duration": 231,
    "start_time": "2022-07-30T20:53:36.657Z"
   },
   {
    "duration": 216,
    "start_time": "2022-07-30T20:53:36.890Z"
   },
   {
    "duration": 22,
    "start_time": "2022-07-30T20:53:37.108Z"
   },
   {
    "duration": 11,
    "start_time": "2022-07-30T20:53:37.131Z"
   },
   {
    "duration": 188,
    "start_time": "2022-07-30T20:53:37.143Z"
   },
   {
    "duration": 13,
    "start_time": "2022-07-30T20:53:37.333Z"
   },
   {
    "duration": 5,
    "start_time": "2022-07-30T20:53:37.347Z"
   },
   {
    "duration": 8,
    "start_time": "2022-07-30T20:53:37.354Z"
   },
   {
    "duration": 12,
    "start_time": "2022-07-30T20:53:37.363Z"
   },
   {
    "duration": 35,
    "start_time": "2022-07-30T20:53:37.398Z"
   },
   {
    "duration": 17,
    "start_time": "2022-07-30T20:53:37.435Z"
   },
   {
    "duration": 548,
    "start_time": "2022-07-30T20:53:37.453Z"
   },
   {
    "duration": 247,
    "start_time": "2022-07-30T20:53:38.002Z"
   },
   {
    "duration": 233,
    "start_time": "2022-07-30T20:53:38.251Z"
   },
   {
    "duration": 261,
    "start_time": "2022-07-30T20:53:38.486Z"
   },
   {
    "duration": 13,
    "start_time": "2022-07-30T20:53:38.749Z"
   },
   {
    "duration": 49,
    "start_time": "2022-07-30T20:53:38.764Z"
   },
   {
    "duration": 440,
    "start_time": "2022-07-30T20:53:38.815Z"
   },
   {
    "duration": 603,
    "start_time": "2022-07-30T20:53:39.257Z"
   },
   {
    "duration": 190,
    "start_time": "2022-07-30T20:53:39.862Z"
   },
   {
    "duration": 182,
    "start_time": "2022-07-30T20:53:40.054Z"
   },
   {
    "duration": 13,
    "start_time": "2022-07-30T20:53:40.237Z"
   },
   {
    "duration": 8,
    "start_time": "2022-07-30T20:53:40.252Z"
   },
   {
    "duration": 227,
    "start_time": "2022-07-30T20:53:40.261Z"
   },
   {
    "duration": 366,
    "start_time": "2022-07-30T20:53:40.489Z"
   },
   {
    "duration": 594,
    "start_time": "2022-07-30T20:53:40.856Z"
   },
   {
    "duration": 311,
    "start_time": "2022-07-30T20:53:41.451Z"
   },
   {
    "duration": 363,
    "start_time": "2022-07-30T20:53:41.764Z"
   },
   {
    "duration": 36707,
    "start_time": "2022-07-30T20:53:42.128Z"
   },
   {
    "duration": 1425,
    "start_time": "2022-07-30T20:55:45.864Z"
   },
   {
    "duration": 880,
    "start_time": "2022-07-30T20:55:47.291Z"
   },
   {
    "duration": 1697,
    "start_time": "2022-07-30T20:55:48.198Z"
   },
   {
    "duration": 4,
    "start_time": "2022-07-30T20:55:49.897Z"
   },
   {
    "duration": 7,
    "start_time": "2022-07-30T20:55:49.902Z"
   },
   {
    "duration": 490,
    "start_time": "2022-07-30T20:55:49.911Z"
   },
   {
    "duration": 1124,
    "start_time": "2022-07-30T20:55:50.404Z"
   },
   {
    "duration": 101,
    "start_time": "2022-07-30T20:55:51.529Z"
   },
   {
    "duration": 84,
    "start_time": "2022-07-30T20:55:51.631Z"
   },
   {
    "duration": 87,
    "start_time": "2022-07-30T20:55:51.718Z"
   },
   {
    "duration": 38,
    "start_time": "2022-07-30T20:55:51.807Z"
   },
   {
    "duration": 160,
    "start_time": "2022-07-30T20:55:51.847Z"
   },
   {
    "duration": 123,
    "start_time": "2022-07-30T20:55:52.009Z"
   },
   {
    "duration": 168,
    "start_time": "2022-07-30T20:55:52.134Z"
   },
   {
    "duration": 127,
    "start_time": "2022-07-30T20:55:52.304Z"
   },
   {
    "duration": 6558,
    "start_time": "2022-07-30T20:55:52.432Z"
   },
   {
    "duration": 5453,
    "start_time": "2022-07-30T20:55:59.004Z"
   },
   {
    "duration": 18,
    "start_time": "2022-07-30T20:56:04.459Z"
   },
   {
    "duration": 97,
    "start_time": "2022-07-30T20:56:04.479Z"
   },
   {
    "duration": 38,
    "start_time": "2022-07-30T20:56:04.578Z"
   },
   {
    "duration": 55,
    "start_time": "2022-07-30T20:56:04.617Z"
   },
   {
    "duration": 6003,
    "start_time": "2022-07-30T20:56:04.674Z"
   },
   {
    "duration": 5262,
    "start_time": "2022-07-30T20:56:10.678Z"
   },
   {
    "duration": 14,
    "start_time": "2022-07-30T20:56:15.942Z"
   },
   {
    "duration": 45,
    "start_time": "2022-07-30T20:56:15.958Z"
   },
   {
    "duration": 312,
    "start_time": "2022-07-30T20:56:16.005Z"
   },
   {
    "duration": 25,
    "start_time": "2022-07-30T20:56:16.319Z"
   },
   {
    "duration": 809,
    "start_time": "2022-07-30T20:56:16.348Z"
   },
   {
    "duration": 75,
    "start_time": "2022-07-30T20:56:17.159Z"
   },
   {
    "duration": 236,
    "start_time": "2022-07-30T20:56:17.235Z"
   },
   {
    "duration": 41,
    "start_time": "2022-07-30T20:56:17.472Z"
   },
   {
    "duration": 5645,
    "start_time": "2022-07-30T20:56:17.515Z"
   },
   {
    "duration": 5227,
    "start_time": "2022-07-30T20:56:23.162Z"
   },
   {
    "duration": 24,
    "start_time": "2022-07-30T20:56:28.391Z"
   },
   {
    "duration": 41,
    "start_time": "2022-07-30T20:56:28.417Z"
   },
   {
    "duration": 213,
    "start_time": "2022-07-30T20:56:28.460Z"
   },
   {
    "duration": 37,
    "start_time": "2022-07-30T20:56:28.675Z"
   },
   {
    "duration": 34,
    "start_time": "2022-07-30T20:56:28.714Z"
   },
   {
    "duration": 409,
    "start_time": "2022-07-30T20:56:28.749Z"
   },
   {
    "duration": 251,
    "start_time": "2022-07-30T20:56:29.160Z"
   },
   {
    "duration": 300,
    "start_time": "2022-07-30T20:56:29.413Z"
   },
   {
    "duration": 13,
    "start_time": "2022-07-30T20:56:29.714Z"
   },
   {
    "duration": 6,
    "start_time": "2022-07-30T20:56:29.729Z"
   },
   {
    "duration": 36,
    "start_time": "2022-07-30T20:56:29.736Z"
   },
   {
    "duration": 248,
    "start_time": "2022-07-30T20:56:29.774Z"
   },
   {
    "duration": 14,
    "start_time": "2022-07-30T20:56:30.024Z"
   },
   {
    "duration": 7,
    "start_time": "2022-07-30T20:56:30.040Z"
   },
   {
    "duration": 32,
    "start_time": "2022-07-30T20:56:30.049Z"
   },
   {
    "duration": 352,
    "start_time": "2022-07-30T20:56:30.108Z"
   },
   {
    "duration": 272,
    "start_time": "2022-07-30T20:56:30.462Z"
   },
   {
    "duration": 224,
    "start_time": "2022-07-30T20:56:30.735Z"
   },
   {
    "duration": 211,
    "start_time": "2022-07-30T20:56:30.961Z"
   },
   {
    "duration": 33,
    "start_time": "2022-07-30T20:56:31.174Z"
   },
   {
    "duration": 14,
    "start_time": "2022-07-30T20:56:31.208Z"
   },
   {
    "duration": 170,
    "start_time": "2022-07-30T20:56:31.223Z"
   },
   {
    "duration": 18,
    "start_time": "2022-07-30T20:56:31.395Z"
   },
   {
    "duration": 34,
    "start_time": "2022-07-30T20:56:31.414Z"
   },
   {
    "duration": 30,
    "start_time": "2022-07-30T20:56:31.450Z"
   },
   {
    "duration": 22,
    "start_time": "2022-07-30T20:56:31.481Z"
   },
   {
    "duration": 48,
    "start_time": "2022-07-30T20:56:31.505Z"
   },
   {
    "duration": 17,
    "start_time": "2022-07-30T20:56:31.555Z"
   },
   {
    "duration": 521,
    "start_time": "2022-07-30T20:56:31.573Z"
   },
   {
    "duration": 225,
    "start_time": "2022-07-30T20:56:32.099Z"
   },
   {
    "duration": 211,
    "start_time": "2022-07-30T20:56:32.326Z"
   },
   {
    "duration": 241,
    "start_time": "2022-07-30T20:56:32.539Z"
   },
   {
    "duration": 18,
    "start_time": "2022-07-30T20:56:32.781Z"
   },
   {
    "duration": 24,
    "start_time": "2022-07-30T20:56:32.812Z"
   },
   {
    "duration": 410,
    "start_time": "2022-07-30T20:56:32.837Z"
   },
   {
    "duration": 568,
    "start_time": "2022-07-30T20:56:33.248Z"
   },
   {
    "duration": 171,
    "start_time": "2022-07-30T20:56:33.818Z"
   },
   {
    "duration": 168,
    "start_time": "2022-07-30T20:56:33.991Z"
   },
   {
    "duration": 12,
    "start_time": "2022-07-30T20:56:34.161Z"
   },
   {
    "duration": 36,
    "start_time": "2022-07-30T20:56:34.175Z"
   },
   {
    "duration": 198,
    "start_time": "2022-07-30T20:56:34.213Z"
   },
   {
    "duration": 378,
    "start_time": "2022-07-30T20:56:34.414Z"
   },
   {
    "duration": 611,
    "start_time": "2022-07-30T20:56:34.804Z"
   },
   {
    "duration": 308,
    "start_time": "2022-07-30T20:56:35.417Z"
   },
   {
    "duration": 352,
    "start_time": "2022-07-30T20:56:35.726Z"
   },
   {
    "duration": 55447,
    "start_time": "2022-07-30T20:56:36.080Z"
   },
   {
    "duration": 88644,
    "start_time": "2022-07-30T20:57:31.529Z"
   },
   {
    "duration": 6318,
    "start_time": "2022-07-30T20:59:00.174Z"
   },
   {
    "duration": 1635695,
    "start_time": "2022-07-30T20:59:06.497Z"
   },
   {
    "duration": 112833,
    "start_time": "2022-07-30T21:26:22.194Z"
   },
   {
    "duration": 105,
    "start_time": "2022-07-30T21:28:15.029Z"
   },
   {
    "duration": 185,
    "start_time": "2022-07-30T21:28:15.136Z"
   },
   {
    "duration": 57,
    "start_time": "2022-07-30T21:28:15.322Z"
   },
   {
    "duration": 15,
    "start_time": "2022-07-30T21:28:15.381Z"
   },
   {
    "duration": 0,
    "start_time": "2022-07-30T21:28:15.400Z"
   },
   {
    "duration": 0,
    "start_time": "2022-07-30T21:28:15.401Z"
   },
   {
    "duration": 1502,
    "start_time": "2022-07-31T03:32:28.036Z"
   },
   {
    "duration": 1030,
    "start_time": "2022-07-31T03:32:29.540Z"
   },
   {
    "duration": 1484,
    "start_time": "2022-07-31T03:32:30.572Z"
   },
   {
    "duration": 4,
    "start_time": "2022-07-31T03:32:32.057Z"
   },
   {
    "duration": 16,
    "start_time": "2022-07-31T03:32:32.063Z"
   },
   {
    "duration": 438,
    "start_time": "2022-07-31T03:32:32.080Z"
   },
   {
    "duration": 940,
    "start_time": "2022-07-31T03:32:32.520Z"
   },
   {
    "duration": 47,
    "start_time": "2022-07-31T03:32:33.462Z"
   },
   {
    "duration": 32,
    "start_time": "2022-07-31T03:32:33.510Z"
   },
   {
    "duration": 40,
    "start_time": "2022-07-31T03:32:33.543Z"
   },
   {
    "duration": 39,
    "start_time": "2022-07-31T03:32:33.585Z"
   },
   {
    "duration": 48,
    "start_time": "2022-07-31T03:32:33.625Z"
   },
   {
    "duration": 40,
    "start_time": "2022-07-31T03:32:33.675Z"
   },
   {
    "duration": 63,
    "start_time": "2022-07-31T03:32:33.717Z"
   },
   {
    "duration": 42,
    "start_time": "2022-07-31T03:32:33.782Z"
   },
   {
    "duration": 3718,
    "start_time": "2022-07-31T03:32:33.825Z"
   },
   {
    "duration": 4232,
    "start_time": "2022-07-31T03:32:37.545Z"
   },
   {
    "duration": 13,
    "start_time": "2022-07-31T03:32:41.778Z"
   },
   {
    "duration": 29,
    "start_time": "2022-07-31T03:32:41.793Z"
   },
   {
    "duration": 18,
    "start_time": "2022-07-31T03:32:41.824Z"
   },
   {
    "duration": 61,
    "start_time": "2022-07-31T03:32:41.843Z"
   },
   {
    "duration": 3587,
    "start_time": "2022-07-31T03:32:41.906Z"
   },
   {
    "duration": 4033,
    "start_time": "2022-07-31T03:32:45.494Z"
   },
   {
    "duration": 13,
    "start_time": "2022-07-31T03:32:49.528Z"
   },
   {
    "duration": 37,
    "start_time": "2022-07-31T03:32:49.542Z"
   },
   {
    "duration": 234,
    "start_time": "2022-07-31T03:32:49.580Z"
   },
   {
    "duration": 27,
    "start_time": "2022-07-31T03:32:49.815Z"
   },
   {
    "duration": 644,
    "start_time": "2022-07-31T03:32:49.843Z"
   },
   {
    "duration": 46,
    "start_time": "2022-07-31T03:32:50.489Z"
   },
   {
    "duration": 200,
    "start_time": "2022-07-31T03:32:50.536Z"
   },
   {
    "duration": 25,
    "start_time": "2022-07-31T03:32:50.738Z"
   },
   {
    "duration": 4013,
    "start_time": "2022-07-31T03:32:50.764Z"
   },
   {
    "duration": 4229,
    "start_time": "2022-07-31T03:32:54.778Z"
   },
   {
    "duration": 13,
    "start_time": "2022-07-31T03:32:59.009Z"
   },
   {
    "duration": 28,
    "start_time": "2022-07-31T03:32:59.023Z"
   },
   {
    "duration": 169,
    "start_time": "2022-07-31T03:32:59.053Z"
   },
   {
    "duration": 30,
    "start_time": "2022-07-31T03:32:59.224Z"
   },
   {
    "duration": 39,
    "start_time": "2022-07-31T03:32:59.255Z"
   },
   {
    "duration": 347,
    "start_time": "2022-07-31T03:32:59.295Z"
   },
   {
    "duration": 318,
    "start_time": "2022-07-31T03:32:59.643Z"
   },
   {
    "duration": 219,
    "start_time": "2022-07-31T03:32:59.972Z"
   },
   {
    "duration": 12,
    "start_time": "2022-07-31T03:33:00.193Z"
   },
   {
    "duration": 9,
    "start_time": "2022-07-31T03:33:00.207Z"
   },
   {
    "duration": 57,
    "start_time": "2022-07-31T03:33:00.217Z"
   },
   {
    "duration": 216,
    "start_time": "2022-07-31T03:33:00.276Z"
   },
   {
    "duration": 14,
    "start_time": "2022-07-31T03:33:00.493Z"
   },
   {
    "duration": 5,
    "start_time": "2022-07-31T03:33:00.509Z"
   },
   {
    "duration": 39,
    "start_time": "2022-07-31T03:33:00.516Z"
   },
   {
    "duration": 305,
    "start_time": "2022-07-31T03:33:00.556Z"
   },
   {
    "duration": 250,
    "start_time": "2022-07-31T03:33:00.863Z"
   },
   {
    "duration": 213,
    "start_time": "2022-07-31T03:33:01.114Z"
   },
   {
    "duration": 232,
    "start_time": "2022-07-31T03:33:01.329Z"
   },
   {
    "duration": 30,
    "start_time": "2022-07-31T03:33:01.563Z"
   },
   {
    "duration": 24,
    "start_time": "2022-07-31T03:33:01.595Z"
   },
   {
    "duration": 301,
    "start_time": "2022-07-31T03:33:01.621Z"
   },
   {
    "duration": 12,
    "start_time": "2022-07-31T03:33:01.924Z"
   },
   {
    "duration": 15,
    "start_time": "2022-07-31T03:33:01.938Z"
   },
   {
    "duration": 29,
    "start_time": "2022-07-31T03:33:01.955Z"
   },
   {
    "duration": 18,
    "start_time": "2022-07-31T03:33:01.986Z"
   },
   {
    "duration": 50,
    "start_time": "2022-07-31T03:33:02.006Z"
   },
   {
    "duration": 17,
    "start_time": "2022-07-31T03:33:02.057Z"
   },
   {
    "duration": 385,
    "start_time": "2022-07-31T03:33:02.076Z"
   },
   {
    "duration": 227,
    "start_time": "2022-07-31T03:33:02.463Z"
   },
   {
    "duration": 212,
    "start_time": "2022-07-31T03:33:02.692Z"
   },
   {
    "duration": 230,
    "start_time": "2022-07-31T03:33:02.906Z"
   },
   {
    "duration": 12,
    "start_time": "2022-07-31T03:33:03.138Z"
   },
   {
    "duration": 67,
    "start_time": "2022-07-31T03:33:03.151Z"
   },
   {
    "duration": 355,
    "start_time": "2022-07-31T03:33:03.219Z"
   },
   {
    "duration": 548,
    "start_time": "2022-07-31T03:33:03.576Z"
   },
   {
    "duration": 165,
    "start_time": "2022-07-31T03:33:04.126Z"
   },
   {
    "duration": 173,
    "start_time": "2022-07-31T03:33:04.293Z"
   },
   {
    "duration": 14,
    "start_time": "2022-07-31T03:33:04.468Z"
   },
   {
    "duration": 12,
    "start_time": "2022-07-31T03:33:04.484Z"
   },
   {
    "duration": 225,
    "start_time": "2022-07-31T03:33:04.497Z"
   },
   {
    "duration": 289,
    "start_time": "2022-07-31T03:33:04.723Z"
   },
   {
    "duration": 807,
    "start_time": "2022-07-31T03:33:05.014Z"
   },
   {
    "duration": 302,
    "start_time": "2022-07-31T03:33:05.822Z"
   },
   {
    "duration": 463,
    "start_time": "2022-07-31T03:33:06.125Z"
   },
   {
    "duration": 148,
    "start_time": "2022-07-31T03:33:06.589Z"
   },
   {
    "duration": 107657,
    "start_time": "2022-07-31T03:33:06.739Z"
   },
   {
    "duration": 7712,
    "start_time": "2022-07-31T03:34:54.398Z"
   },
   {
    "duration": 529195,
    "start_time": "2022-07-31T03:35:02.112Z"
   },
   {
    "duration": 132,
    "start_time": "2022-07-31T03:44:27.872Z"
   },
   {
    "duration": 64,
    "start_time": "2022-07-31T03:44:28.006Z"
   },
   {
    "duration": 55,
    "start_time": "2022-07-31T03:44:28.072Z"
   },
   {
    "duration": 24,
    "start_time": "2022-07-31T03:44:28.129Z"
   },
   {
    "duration": 10,
    "start_time": "2022-07-31T03:44:28.155Z"
   },
   {
    "duration": 0,
    "start_time": "2022-07-31T03:44:28.166Z"
   },
   {
    "duration": 0,
    "start_time": "2022-07-31T03:44:28.169Z"
   },
   {
    "duration": 111,
    "start_time": "2022-07-31T03:44:48.488Z"
   },
   {
    "duration": 768,
    "start_time": "2022-07-31T03:45:19.565Z"
   },
   {
    "duration": 300,
    "start_time": "2022-07-31T03:45:22.979Z"
   },
   {
    "duration": 446,
    "start_time": "2022-07-31T03:45:25.904Z"
   },
   {
    "duration": 141556,
    "start_time": "2022-07-31T03:45:31.902Z"
   },
   {
    "duration": 82,
    "start_time": "2022-07-31T03:48:43.856Z"
   },
   {
    "duration": 56,
    "start_time": "2022-07-31T03:48:45.970Z"
   },
   {
    "duration": 6220,
    "start_time": "2022-07-31T03:50:01.316Z"
   },
   {
    "duration": 25,
    "start_time": "2022-07-31T03:55:33.385Z"
   },
   {
    "duration": 63360,
    "start_time": "2022-07-31T03:55:55.471Z"
   },
   {
    "duration": 4776,
    "start_time": "2022-07-31T03:58:40.660Z"
   },
   {
    "duration": 31,
    "start_time": "2022-07-31T03:59:14.903Z"
   },
   {
    "duration": 4899,
    "start_time": "2022-07-31T03:59:19.072Z"
   },
   {
    "duration": 4986,
    "start_time": "2022-07-31T04:00:06.021Z"
   },
   {
    "duration": 77,
    "start_time": "2022-07-31T04:02:33.027Z"
   },
   {
    "duration": 59,
    "start_time": "2022-07-31T04:02:43.006Z"
   },
   {
    "duration": 325783,
    "start_time": "2022-07-31T04:04:38.835Z"
   },
   {
    "duration": 4871,
    "start_time": "2022-07-31T04:10:19.373Z"
   },
   {
    "duration": 77,
    "start_time": "2022-07-31T04:12:02.660Z"
   },
   {
    "duration": 54,
    "start_time": "2022-07-31T04:13:51.544Z"
   },
   {
    "duration": 75,
    "start_time": "2022-07-31T04:14:52.981Z"
   },
   {
    "duration": 78,
    "start_time": "2022-07-31T04:14:59.673Z"
   },
   {
    "duration": 75,
    "start_time": "2022-07-31T04:16:10.140Z"
   },
   {
    "duration": 4,
    "start_time": "2022-07-31T04:55:10.170Z"
   },
   {
    "duration": 703,
    "start_time": "2022-07-31T04:55:10.176Z"
   },
   {
    "duration": 1328,
    "start_time": "2022-07-31T04:55:10.880Z"
   },
   {
    "duration": 4,
    "start_time": "2022-07-31T04:55:12.209Z"
   },
   {
    "duration": 7,
    "start_time": "2022-07-31T04:55:12.214Z"
   },
   {
    "duration": 386,
    "start_time": "2022-07-31T04:55:12.223Z"
   },
   {
    "duration": 1395,
    "start_time": "2022-07-31T04:55:12.611Z"
   },
   {
    "duration": 93,
    "start_time": "2022-07-31T04:55:14.007Z"
   },
   {
    "duration": 77,
    "start_time": "2022-07-31T04:55:14.103Z"
   },
   {
    "duration": 20,
    "start_time": "2022-07-31T04:55:14.181Z"
   },
   {
    "duration": 83,
    "start_time": "2022-07-31T04:55:14.203Z"
   },
   {
    "duration": 96,
    "start_time": "2022-07-31T04:55:14.287Z"
   },
   {
    "duration": 96,
    "start_time": "2022-07-31T04:55:14.384Z"
   },
   {
    "duration": 105,
    "start_time": "2022-07-31T04:55:14.481Z"
   },
   {
    "duration": 38,
    "start_time": "2022-07-31T04:55:14.588Z"
   },
   {
    "duration": 4759,
    "start_time": "2022-07-31T04:55:14.627Z"
   },
   {
    "duration": 5298,
    "start_time": "2022-07-31T04:55:19.388Z"
   },
   {
    "duration": 13,
    "start_time": "2022-07-31T04:55:24.688Z"
   },
   {
    "duration": 29,
    "start_time": "2022-07-31T04:55:24.702Z"
   },
   {
    "duration": 16,
    "start_time": "2022-07-31T04:55:24.733Z"
   },
   {
    "duration": 44,
    "start_time": "2022-07-31T04:55:24.751Z"
   },
   {
    "duration": 3634,
    "start_time": "2022-07-31T04:55:24.796Z"
   },
   {
    "duration": 4131,
    "start_time": "2022-07-31T04:55:28.432Z"
   },
   {
    "duration": 14,
    "start_time": "2022-07-31T04:55:32.566Z"
   },
   {
    "duration": 32,
    "start_time": "2022-07-31T04:55:32.582Z"
   },
   {
    "duration": 234,
    "start_time": "2022-07-31T04:55:32.615Z"
   },
   {
    "duration": 32,
    "start_time": "2022-07-31T04:55:32.850Z"
   },
   {
    "duration": 630,
    "start_time": "2022-07-31T04:55:32.883Z"
   },
   {
    "duration": 46,
    "start_time": "2022-07-31T04:55:33.515Z"
   },
   {
    "duration": 175,
    "start_time": "2022-07-31T04:55:33.573Z"
   },
   {
    "duration": 31,
    "start_time": "2022-07-31T04:55:33.750Z"
   },
   {
    "duration": 3736,
    "start_time": "2022-07-31T04:55:33.782Z"
   },
   {
    "duration": 4217,
    "start_time": "2022-07-31T04:55:37.519Z"
   },
   {
    "duration": 13,
    "start_time": "2022-07-31T04:55:41.737Z"
   },
   {
    "duration": 38,
    "start_time": "2022-07-31T04:55:41.751Z"
   },
   {
    "duration": 168,
    "start_time": "2022-07-31T04:55:41.791Z"
   },
   {
    "duration": 28,
    "start_time": "2022-07-31T04:55:41.960Z"
   },
   {
    "duration": 27,
    "start_time": "2022-07-31T04:55:41.990Z"
   },
   {
    "duration": 320,
    "start_time": "2022-07-31T04:55:42.018Z"
   },
   {
    "duration": 210,
    "start_time": "2022-07-31T04:55:42.340Z"
   },
   {
    "duration": 323,
    "start_time": "2022-07-31T04:55:42.552Z"
   },
   {
    "duration": 13,
    "start_time": "2022-07-31T04:55:42.877Z"
   },
   {
    "duration": 7,
    "start_time": "2022-07-31T04:55:42.891Z"
   },
   {
    "duration": 26,
    "start_time": "2022-07-31T04:55:42.899Z"
   },
   {
    "duration": 236,
    "start_time": "2022-07-31T04:55:42.927Z"
   },
   {
    "duration": 15,
    "start_time": "2022-07-31T04:55:43.165Z"
   },
   {
    "duration": 6,
    "start_time": "2022-07-31T04:55:43.182Z"
   },
   {
    "duration": 26,
    "start_time": "2022-07-31T04:55:43.190Z"
   },
   {
    "duration": 293,
    "start_time": "2022-07-31T04:55:43.218Z"
   },
   {
    "duration": 217,
    "start_time": "2022-07-31T04:55:43.513Z"
   },
   {
    "duration": 196,
    "start_time": "2022-07-31T04:55:43.732Z"
   },
   {
    "duration": 190,
    "start_time": "2022-07-31T04:55:43.930Z"
   },
   {
    "duration": 19,
    "start_time": "2022-07-31T04:55:44.122Z"
   },
   {
    "duration": 11,
    "start_time": "2022-07-31T04:55:44.143Z"
   },
   {
    "duration": 175,
    "start_time": "2022-07-31T04:55:44.156Z"
   },
   {
    "duration": 14,
    "start_time": "2022-07-31T04:55:44.333Z"
   },
   {
    "duration": 5,
    "start_time": "2022-07-31T04:55:44.349Z"
   },
   {
    "duration": 21,
    "start_time": "2022-07-31T04:55:44.356Z"
   },
   {
    "duration": 7,
    "start_time": "2022-07-31T04:55:44.378Z"
   },
   {
    "duration": 28,
    "start_time": "2022-07-31T04:55:44.386Z"
   },
   {
    "duration": 16,
    "start_time": "2022-07-31T04:55:44.416Z"
   },
   {
    "duration": 364,
    "start_time": "2022-07-31T04:55:44.434Z"
   },
   {
    "duration": 318,
    "start_time": "2022-07-31T04:55:44.799Z"
   },
   {
    "duration": 197,
    "start_time": "2022-07-31T04:55:45.119Z"
   },
   {
    "duration": 215,
    "start_time": "2022-07-31T04:55:45.318Z"
   },
   {
    "duration": 13,
    "start_time": "2022-07-31T04:55:45.535Z"
   },
   {
    "duration": 32,
    "start_time": "2022-07-31T04:55:45.549Z"
   },
   {
    "duration": 343,
    "start_time": "2022-07-31T04:55:45.583Z"
   },
   {
    "duration": 420,
    "start_time": "2022-07-31T04:55:45.930Z"
   },
   {
    "duration": 268,
    "start_time": "2022-07-31T04:55:46.352Z"
   },
   {
    "duration": 151,
    "start_time": "2022-07-31T04:55:46.622Z"
   },
   {
    "duration": 13,
    "start_time": "2022-07-31T04:55:46.774Z"
   },
   {
    "duration": 23,
    "start_time": "2022-07-31T04:55:46.788Z"
   },
   {
    "duration": 190,
    "start_time": "2022-07-31T04:55:46.812Z"
   },
   {
    "duration": 273,
    "start_time": "2022-07-31T04:55:47.003Z"
   },
   {
    "duration": 91,
    "start_time": "2022-07-31T04:58:18.149Z"
   },
   {
    "duration": 77,
    "start_time": "2022-07-31T04:58:23.830Z"
   },
   {
    "duration": 26,
    "start_time": "2022-07-31T04:59:01.909Z"
   },
   {
    "duration": 70,
    "start_time": "2022-07-31T04:59:10.302Z"
   },
   {
    "duration": 107,
    "start_time": "2022-07-31T05:00:29.828Z"
   },
   {
    "duration": 117,
    "start_time": "2022-07-31T05:02:16.676Z"
   },
   {
    "duration": 2527,
    "start_time": "2022-07-31T05:07:05.052Z"
   },
   {
    "duration": 10579,
    "start_time": "2022-07-31T05:07:22.607Z"
   },
   {
    "duration": 16335,
    "start_time": "2022-07-31T05:12:06.050Z"
   },
   {
    "duration": 30,
    "start_time": "2022-07-31T05:13:17.180Z"
   },
   {
    "duration": 96,
    "start_time": "2022-07-31T05:13:30.183Z"
   },
   {
    "duration": 83054,
    "start_time": "2022-07-31T05:13:52.091Z"
   },
   {
    "duration": 25930,
    "start_time": "2022-07-31T05:15:57.532Z"
   },
   {
    "duration": 8120,
    "start_time": "2022-07-31T05:16:23.464Z"
   },
   {
    "duration": 1293,
    "start_time": "2022-07-31T05:19:48.794Z"
   },
   {
    "duration": 718,
    "start_time": "2022-07-31T05:19:50.089Z"
   },
   {
    "duration": 1500,
    "start_time": "2022-07-31T05:19:50.809Z"
   },
   {
    "duration": 4,
    "start_time": "2022-07-31T05:19:52.311Z"
   },
   {
    "duration": 9,
    "start_time": "2022-07-31T05:19:52.317Z"
   },
   {
    "duration": 458,
    "start_time": "2022-07-31T05:19:52.327Z"
   },
   {
    "duration": 959,
    "start_time": "2022-07-31T05:19:52.786Z"
   },
   {
    "duration": 51,
    "start_time": "2022-07-31T05:19:53.747Z"
   },
   {
    "duration": 32,
    "start_time": "2022-07-31T05:19:53.799Z"
   },
   {
    "duration": 19,
    "start_time": "2022-07-31T05:19:53.833Z"
   },
   {
    "duration": 42,
    "start_time": "2022-07-31T05:19:53.854Z"
   },
   {
    "duration": 42,
    "start_time": "2022-07-31T05:19:53.898Z"
   },
   {
    "duration": 50,
    "start_time": "2022-07-31T05:19:53.941Z"
   },
   {
    "duration": 41,
    "start_time": "2022-07-31T05:19:53.993Z"
   },
   {
    "duration": 61,
    "start_time": "2022-07-31T05:19:54.036Z"
   },
   {
    "duration": 3625,
    "start_time": "2022-07-31T05:19:54.099Z"
   },
   {
    "duration": 4067,
    "start_time": "2022-07-31T05:19:57.726Z"
   },
   {
    "duration": 13,
    "start_time": "2022-07-31T05:20:01.794Z"
   },
   {
    "duration": 85,
    "start_time": "2022-07-31T05:20:01.808Z"
   },
   {
    "duration": 24,
    "start_time": "2022-07-31T05:20:01.895Z"
   },
   {
    "duration": 44,
    "start_time": "2022-07-31T05:20:01.920Z"
   },
   {
    "duration": 3513,
    "start_time": "2022-07-31T05:20:01.965Z"
   },
   {
    "duration": 4036,
    "start_time": "2022-07-31T05:20:05.479Z"
   },
   {
    "duration": 13,
    "start_time": "2022-07-31T05:20:09.516Z"
   },
   {
    "duration": 29,
    "start_time": "2022-07-31T05:20:09.531Z"
   },
   {
    "duration": 235,
    "start_time": "2022-07-31T05:20:09.561Z"
   },
   {
    "duration": 25,
    "start_time": "2022-07-31T05:20:09.797Z"
   },
   {
    "duration": 620,
    "start_time": "2022-07-31T05:20:09.827Z"
   },
   {
    "duration": 53,
    "start_time": "2022-07-31T05:20:10.448Z"
   },
   {
    "duration": 184,
    "start_time": "2022-07-31T05:20:10.503Z"
   },
   {
    "duration": 26,
    "start_time": "2022-07-31T05:20:10.689Z"
   },
   {
    "duration": 3721,
    "start_time": "2022-07-31T05:20:10.717Z"
   },
   {
    "duration": 4049,
    "start_time": "2022-07-31T05:20:14.440Z"
   },
   {
    "duration": 12,
    "start_time": "2022-07-31T05:20:18.491Z"
   },
   {
    "duration": 29,
    "start_time": "2022-07-31T05:20:18.505Z"
   },
   {
    "duration": 165,
    "start_time": "2022-07-31T05:20:18.535Z"
   },
   {
    "duration": 27,
    "start_time": "2022-07-31T05:20:18.701Z"
   },
   {
    "duration": 27,
    "start_time": "2022-07-31T05:20:18.730Z"
   },
   {
    "duration": 335,
    "start_time": "2022-07-31T05:20:18.758Z"
   },
   {
    "duration": 218,
    "start_time": "2022-07-31T05:20:19.095Z"
   },
   {
    "duration": 288,
    "start_time": "2022-07-31T05:20:19.315Z"
   },
   {
    "duration": 13,
    "start_time": "2022-07-31T05:20:19.605Z"
   },
   {
    "duration": 17,
    "start_time": "2022-07-31T05:20:19.620Z"
   },
   {
    "duration": 45,
    "start_time": "2022-07-31T05:20:19.639Z"
   },
   {
    "duration": 214,
    "start_time": "2022-07-31T05:20:19.685Z"
   },
   {
    "duration": 13,
    "start_time": "2022-07-31T05:20:19.901Z"
   },
   {
    "duration": 6,
    "start_time": "2022-07-31T05:20:19.916Z"
   },
   {
    "duration": 26,
    "start_time": "2022-07-31T05:20:19.924Z"
   },
   {
    "duration": 268,
    "start_time": "2022-07-31T05:20:19.974Z"
   },
   {
    "duration": 223,
    "start_time": "2022-07-31T05:20:20.244Z"
   },
   {
    "duration": 200,
    "start_time": "2022-07-31T05:20:20.469Z"
   },
   {
    "duration": 182,
    "start_time": "2022-07-31T05:20:20.670Z"
   },
   {
    "duration": 26,
    "start_time": "2022-07-31T05:20:20.854Z"
   },
   {
    "duration": 10,
    "start_time": "2022-07-31T05:20:20.882Z"
   },
   {
    "duration": 159,
    "start_time": "2022-07-31T05:20:20.894Z"
   },
   {
    "duration": 19,
    "start_time": "2022-07-31T05:20:21.055Z"
   },
   {
    "duration": 11,
    "start_time": "2022-07-31T05:20:21.075Z"
   },
   {
    "duration": 7,
    "start_time": "2022-07-31T05:20:21.087Z"
   },
   {
    "duration": 12,
    "start_time": "2022-07-31T05:20:21.095Z"
   },
   {
    "duration": 29,
    "start_time": "2022-07-31T05:20:21.108Z"
   },
   {
    "duration": 15,
    "start_time": "2022-07-31T05:20:21.139Z"
   },
   {
    "duration": 509,
    "start_time": "2022-07-31T05:20:21.173Z"
   },
   {
    "duration": 237,
    "start_time": "2022-07-31T05:20:21.684Z"
   },
   {
    "duration": 204,
    "start_time": "2022-07-31T05:20:21.924Z"
   },
   {
    "duration": 229,
    "start_time": "2022-07-31T05:20:22.130Z"
   },
   {
    "duration": 14,
    "start_time": "2022-07-31T05:20:22.361Z"
   },
   {
    "duration": 39,
    "start_time": "2022-07-31T05:20:22.376Z"
   },
   {
    "duration": 358,
    "start_time": "2022-07-31T05:20:22.417Z"
   },
   {
    "duration": 572,
    "start_time": "2022-07-31T05:20:22.776Z"
   },
   {
    "duration": 174,
    "start_time": "2022-07-31T05:20:23.350Z"
   },
   {
    "duration": 153,
    "start_time": "2022-07-31T05:20:23.525Z"
   },
   {
    "duration": 13,
    "start_time": "2022-07-31T05:20:23.680Z"
   },
   {
    "duration": 32,
    "start_time": "2022-07-31T05:20:23.694Z"
   },
   {
    "duration": 172,
    "start_time": "2022-07-31T05:20:23.727Z"
   },
   {
    "duration": 283,
    "start_time": "2022-07-31T05:20:23.900Z"
   },
   {
    "duration": 748,
    "start_time": "2022-07-31T05:20:24.184Z"
   },
   {
    "duration": 319,
    "start_time": "2022-07-31T05:20:24.934Z"
   },
   {
    "duration": 459,
    "start_time": "2022-07-31T05:20:25.255Z"
   },
   {
    "duration": 26364,
    "start_time": "2022-07-31T05:20:25.716Z"
   },
   {
    "duration": 109517,
    "start_time": "2022-07-31T05:20:52.082Z"
   },
   {
    "duration": 7466,
    "start_time": "2022-07-31T05:22:41.600Z"
   },
   {
    "duration": 1287,
    "start_time": "2022-07-31T05:25:48.033Z"
   },
   {
    "duration": 743,
    "start_time": "2022-07-31T05:25:49.321Z"
   },
   {
    "duration": 1446,
    "start_time": "2022-07-31T05:25:50.066Z"
   },
   {
    "duration": 5,
    "start_time": "2022-07-31T05:25:51.514Z"
   },
   {
    "duration": 11,
    "start_time": "2022-07-31T05:25:51.522Z"
   },
   {
    "duration": 489,
    "start_time": "2022-07-31T05:25:51.537Z"
   },
   {
    "duration": 966,
    "start_time": "2022-07-31T05:25:52.028Z"
   },
   {
    "duration": 52,
    "start_time": "2022-07-31T05:25:52.996Z"
   },
   {
    "duration": 48,
    "start_time": "2022-07-31T05:25:53.049Z"
   },
   {
    "duration": 18,
    "start_time": "2022-07-31T05:25:53.098Z"
   },
   {
    "duration": 30,
    "start_time": "2022-07-31T05:25:53.117Z"
   },
   {
    "duration": 62,
    "start_time": "2022-07-31T05:25:53.148Z"
   },
   {
    "duration": 39,
    "start_time": "2022-07-31T05:25:53.212Z"
   },
   {
    "duration": 52,
    "start_time": "2022-07-31T05:25:53.273Z"
   },
   {
    "duration": 46,
    "start_time": "2022-07-31T05:25:53.327Z"
   },
   {
    "duration": 3869,
    "start_time": "2022-07-31T05:25:53.375Z"
   },
   {
    "duration": 4291,
    "start_time": "2022-07-31T05:25:57.245Z"
   },
   {
    "duration": 17,
    "start_time": "2022-07-31T05:26:01.538Z"
   },
   {
    "duration": 48,
    "start_time": "2022-07-31T05:26:01.557Z"
   },
   {
    "duration": 23,
    "start_time": "2022-07-31T05:26:01.607Z"
   },
   {
    "duration": 34,
    "start_time": "2022-07-31T05:26:01.631Z"
   },
   {
    "duration": 3830,
    "start_time": "2022-07-31T05:26:01.667Z"
   },
   {
    "duration": 4324,
    "start_time": "2022-07-31T05:26:05.498Z"
   },
   {
    "duration": 13,
    "start_time": "2022-07-31T05:26:09.824Z"
   },
   {
    "duration": 37,
    "start_time": "2022-07-31T05:26:09.838Z"
   },
   {
    "duration": 247,
    "start_time": "2022-07-31T05:26:09.877Z"
   },
   {
    "duration": 25,
    "start_time": "2022-07-31T05:26:10.126Z"
   },
   {
    "duration": 653,
    "start_time": "2022-07-31T05:26:10.152Z"
   },
   {
    "duration": 47,
    "start_time": "2022-07-31T05:26:10.806Z"
   },
   {
    "duration": 201,
    "start_time": "2022-07-31T05:26:10.855Z"
   },
   {
    "duration": 33,
    "start_time": "2022-07-31T05:26:11.058Z"
   },
   {
    "duration": 3926,
    "start_time": "2022-07-31T05:26:11.093Z"
   },
   {
    "duration": 4289,
    "start_time": "2022-07-31T05:26:15.020Z"
   },
   {
    "duration": 12,
    "start_time": "2022-07-31T05:26:19.311Z"
   },
   {
    "duration": 35,
    "start_time": "2022-07-31T05:26:19.324Z"
   },
   {
    "duration": 165,
    "start_time": "2022-07-31T05:26:19.360Z"
   },
   {
    "duration": 26,
    "start_time": "2022-07-31T05:26:19.527Z"
   },
   {
    "duration": 41,
    "start_time": "2022-07-31T05:26:19.555Z"
   },
   {
    "duration": 346,
    "start_time": "2022-07-31T05:26:19.598Z"
   },
   {
    "duration": 224,
    "start_time": "2022-07-31T05:26:19.945Z"
   },
   {
    "duration": 303,
    "start_time": "2022-07-31T05:26:20.174Z"
   },
   {
    "duration": 14,
    "start_time": "2022-07-31T05:26:20.479Z"
   },
   {
    "duration": 19,
    "start_time": "2022-07-31T05:26:20.495Z"
   },
   {
    "duration": 53,
    "start_time": "2022-07-31T05:26:20.516Z"
   },
   {
    "duration": 224,
    "start_time": "2022-07-31T05:26:20.570Z"
   },
   {
    "duration": 13,
    "start_time": "2022-07-31T05:26:20.796Z"
   },
   {
    "duration": 39,
    "start_time": "2022-07-31T05:26:20.811Z"
   },
   {
    "duration": 73,
    "start_time": "2022-07-31T05:26:20.851Z"
   },
   {
    "duration": 288,
    "start_time": "2022-07-31T05:26:20.925Z"
   },
   {
    "duration": 280,
    "start_time": "2022-07-31T05:26:21.215Z"
   },
   {
    "duration": 247,
    "start_time": "2022-07-31T05:26:21.497Z"
   },
   {
    "duration": 228,
    "start_time": "2022-07-31T05:26:21.746Z"
   },
   {
    "duration": 20,
    "start_time": "2022-07-31T05:26:21.976Z"
   },
   {
    "duration": 24,
    "start_time": "2022-07-31T05:26:21.998Z"
   },
   {
    "duration": 169,
    "start_time": "2022-07-31T05:26:22.024Z"
   },
   {
    "duration": 12,
    "start_time": "2022-07-31T05:26:22.195Z"
   },
   {
    "duration": 26,
    "start_time": "2022-07-31T05:26:22.208Z"
   },
   {
    "duration": 22,
    "start_time": "2022-07-31T05:26:22.236Z"
   },
   {
    "duration": 15,
    "start_time": "2022-07-31T05:26:22.260Z"
   },
   {
    "duration": 63,
    "start_time": "2022-07-31T05:26:22.277Z"
   },
   {
    "duration": 17,
    "start_time": "2022-07-31T05:26:22.341Z"
   },
   {
    "duration": 467,
    "start_time": "2022-07-31T05:26:22.360Z"
   },
   {
    "duration": 261,
    "start_time": "2022-07-31T05:26:22.829Z"
   },
   {
    "duration": 431,
    "start_time": "2022-07-31T05:26:23.091Z"
   },
   {
    "duration": 531,
    "start_time": "2022-07-31T05:26:23.577Z"
   },
   {
    "duration": 64,
    "start_time": "2022-07-31T05:26:24.110Z"
   },
   {
    "duration": 24,
    "start_time": "2022-07-31T05:26:24.176Z"
   },
   {
    "duration": 710,
    "start_time": "2022-07-31T05:26:24.202Z"
   },
   {
    "duration": 595,
    "start_time": "2022-07-31T05:26:24.913Z"
   },
   {
    "duration": 180,
    "start_time": "2022-07-31T05:26:25.509Z"
   },
   {
    "duration": 157,
    "start_time": "2022-07-31T05:26:25.691Z"
   },
   {
    "duration": 16,
    "start_time": "2022-07-31T05:26:25.850Z"
   },
   {
    "duration": 45,
    "start_time": "2022-07-31T05:26:25.867Z"
   },
   {
    "duration": 188,
    "start_time": "2022-07-31T05:26:25.914Z"
   },
   {
    "duration": 284,
    "start_time": "2022-07-31T05:26:26.103Z"
   },
   {
    "duration": 763,
    "start_time": "2022-07-31T05:26:26.389Z"
   },
   {
    "duration": 306,
    "start_time": "2022-07-31T05:26:27.154Z"
   },
   {
    "duration": 459,
    "start_time": "2022-07-31T05:26:27.461Z"
   },
   {
    "duration": 23261,
    "start_time": "2022-07-31T05:26:27.922Z"
   },
   {
    "duration": 109062,
    "start_time": "2022-07-31T05:26:51.185Z"
   },
   {
    "duration": 7241,
    "start_time": "2022-07-31T05:28:40.249Z"
   },
   {
    "duration": 4171659,
    "start_time": "2022-07-31T05:28:47.492Z"
   },
   {
    "duration": 205503,
    "start_time": "2022-07-31T06:38:19.152Z"
   },
   {
    "duration": 104,
    "start_time": "2022-07-31T06:41:44.657Z"
   },
   {
    "duration": 173,
    "start_time": "2022-07-31T06:41:44.762Z"
   },
   {
    "duration": 52,
    "start_time": "2022-07-31T06:41:44.937Z"
   },
   {
    "duration": 156,
    "start_time": "2022-07-31T06:41:44.991Z"
   },
   {
    "duration": 13341910,
    "start_time": "2022-07-31T06:41:45.149Z"
   },
   {
    "duration": 21910,
    "start_time": "2022-07-31T10:24:07.061Z"
   },
   {
    "duration": 24,
    "start_time": "2022-07-31T10:24:28.972Z"
   },
   {
    "duration": 35,
    "start_time": "2022-07-31T10:24:28.998Z"
   },
   {
    "duration": 0,
    "start_time": "2022-07-31T10:24:29.035Z"
   },
   {
    "duration": 0,
    "start_time": "2022-07-31T10:24:29.039Z"
   },
   {
    "duration": 99,
    "start_time": "2022-07-31T10:24:35.009Z"
   },
   {
    "duration": 1094651,
    "start_time": "2022-07-31T10:24:38.883Z"
   },
   {
    "duration": 9458,
    "start_time": "2022-07-31T10:42:53.536Z"
   },
   {
    "duration": 156,
    "start_time": "2022-07-31T10:43:03.001Z"
   },
   {
    "duration": 897485,
    "start_time": "2022-07-31T10:43:03.159Z"
   },
   {
    "duration": 13034,
    "start_time": "2022-07-31T10:58:00.645Z"
   },
   {
    "duration": 24,
    "start_time": "2022-07-31T10:58:13.687Z"
   },
   {
    "duration": 22,
    "start_time": "2022-07-31T10:58:13.713Z"
   },
   {
    "duration": 0,
    "start_time": "2022-07-31T10:58:13.737Z"
   },
   {
    "duration": 11,
    "start_time": "2022-07-31T10:58:26.098Z"
   },
   {
    "duration": 1393,
    "start_time": "2022-07-31T12:04:29.416Z"
   },
   {
    "duration": 810,
    "start_time": "2022-07-31T12:04:30.811Z"
   },
   {
    "duration": 1638,
    "start_time": "2022-07-31T12:04:31.623Z"
   },
   {
    "duration": 3,
    "start_time": "2022-07-31T12:04:33.262Z"
   },
   {
    "duration": 27,
    "start_time": "2022-07-31T12:04:33.274Z"
   },
   {
    "duration": 479,
    "start_time": "2022-07-31T12:04:33.303Z"
   },
   {
    "duration": 981,
    "start_time": "2022-07-31T12:04:33.783Z"
   },
   {
    "duration": 47,
    "start_time": "2022-07-31T12:04:34.766Z"
   },
   {
    "duration": 27,
    "start_time": "2022-07-31T12:04:34.814Z"
   },
   {
    "duration": 52,
    "start_time": "2022-07-31T12:04:34.842Z"
   },
   {
    "duration": 35,
    "start_time": "2022-07-31T12:04:34.901Z"
   },
   {
    "duration": 54,
    "start_time": "2022-07-31T12:04:34.938Z"
   },
   {
    "duration": 56,
    "start_time": "2022-07-31T12:04:34.997Z"
   },
   {
    "duration": 54,
    "start_time": "2022-07-31T12:04:35.056Z"
   },
   {
    "duration": 39,
    "start_time": "2022-07-31T12:04:35.111Z"
   },
   {
    "duration": 4298,
    "start_time": "2022-07-31T12:04:35.151Z"
   },
   {
    "duration": 4734,
    "start_time": "2022-07-31T12:04:39.451Z"
   },
   {
    "duration": 18,
    "start_time": "2022-07-31T12:04:44.187Z"
   },
   {
    "duration": 31,
    "start_time": "2022-07-31T12:04:44.207Z"
   },
   {
    "duration": 15,
    "start_time": "2022-07-31T12:04:44.240Z"
   },
   {
    "duration": 42,
    "start_time": "2022-07-31T12:04:44.256Z"
   },
   {
    "duration": 4057,
    "start_time": "2022-07-31T12:04:44.301Z"
   },
   {
    "duration": 4797,
    "start_time": "2022-07-31T12:04:48.360Z"
   },
   {
    "duration": 18,
    "start_time": "2022-07-31T12:04:53.159Z"
   },
   {
    "duration": 71,
    "start_time": "2022-07-31T12:04:53.178Z"
   },
   {
    "duration": 288,
    "start_time": "2022-07-31T12:04:53.250Z"
   },
   {
    "duration": 46,
    "start_time": "2022-07-31T12:04:53.540Z"
   },
   {
    "duration": 756,
    "start_time": "2022-07-31T12:04:53.588Z"
   },
   {
    "duration": 71,
    "start_time": "2022-07-31T12:04:54.346Z"
   },
   {
    "duration": 221,
    "start_time": "2022-07-31T12:04:54.419Z"
   },
   {
    "duration": 43,
    "start_time": "2022-07-31T12:04:54.642Z"
   },
   {
    "duration": 4469,
    "start_time": "2022-07-31T12:04:54.687Z"
   },
   {
    "duration": 4850,
    "start_time": "2022-07-31T12:04:59.158Z"
   },
   {
    "duration": 13,
    "start_time": "2022-07-31T12:05:04.009Z"
   },
   {
    "duration": 41,
    "start_time": "2022-07-31T12:05:04.023Z"
   },
   {
    "duration": 180,
    "start_time": "2022-07-31T12:05:04.066Z"
   },
   {
    "duration": 38,
    "start_time": "2022-07-31T12:05:04.247Z"
   },
   {
    "duration": 28,
    "start_time": "2022-07-31T12:05:04.295Z"
   },
   {
    "duration": 389,
    "start_time": "2022-07-31T12:05:04.325Z"
   },
   {
    "duration": 252,
    "start_time": "2022-07-31T12:05:04.716Z"
   },
   {
    "duration": 340,
    "start_time": "2022-07-31T12:05:04.973Z"
   },
   {
    "duration": 12,
    "start_time": "2022-07-31T12:05:05.315Z"
   },
   {
    "duration": 11,
    "start_time": "2022-07-31T12:05:05.329Z"
   },
   {
    "duration": 51,
    "start_time": "2022-07-31T12:05:05.341Z"
   },
   {
    "duration": 228,
    "start_time": "2022-07-31T12:05:05.393Z"
   },
   {
    "duration": 13,
    "start_time": "2022-07-31T12:05:05.624Z"
   },
   {
    "duration": 11,
    "start_time": "2022-07-31T12:05:05.639Z"
   },
   {
    "duration": 47,
    "start_time": "2022-07-31T12:05:05.651Z"
   },
   {
    "duration": 311,
    "start_time": "2022-07-31T12:05:05.702Z"
   },
   {
    "duration": 250,
    "start_time": "2022-07-31T12:05:06.014Z"
   },
   {
    "duration": 234,
    "start_time": "2022-07-31T12:05:06.266Z"
   },
   {
    "duration": 206,
    "start_time": "2022-07-31T12:05:06.502Z"
   },
   {
    "duration": 19,
    "start_time": "2022-07-31T12:05:06.710Z"
   },
   {
    "duration": 11,
    "start_time": "2022-07-31T12:05:06.731Z"
   },
   {
    "duration": 199,
    "start_time": "2022-07-31T12:05:06.743Z"
   },
   {
    "duration": 18,
    "start_time": "2022-07-31T12:05:06.943Z"
   },
   {
    "duration": 17,
    "start_time": "2022-07-31T12:05:06.976Z"
   },
   {
    "duration": 19,
    "start_time": "2022-07-31T12:05:07.000Z"
   },
   {
    "duration": 9,
    "start_time": "2022-07-31T12:05:07.020Z"
   },
   {
    "duration": 36,
    "start_time": "2022-07-31T12:05:07.031Z"
   },
   {
    "duration": 21,
    "start_time": "2022-07-31T12:05:07.068Z"
   },
   {
    "duration": 525,
    "start_time": "2022-07-31T12:05:07.090Z"
   },
   {
    "duration": 254,
    "start_time": "2022-07-31T12:05:07.616Z"
   },
   {
    "duration": 266,
    "start_time": "2022-07-31T12:05:07.872Z"
   },
   {
    "duration": 271,
    "start_time": "2022-07-31T12:05:08.139Z"
   },
   {
    "duration": 14,
    "start_time": "2022-07-31T12:05:08.411Z"
   },
   {
    "duration": 26,
    "start_time": "2022-07-31T12:05:08.427Z"
   },
   {
    "duration": 465,
    "start_time": "2022-07-31T12:05:08.454Z"
   },
   {
    "duration": 619,
    "start_time": "2022-07-31T12:05:08.920Z"
   },
   {
    "duration": 186,
    "start_time": "2022-07-31T12:05:09.541Z"
   },
   {
    "duration": 172,
    "start_time": "2022-07-31T12:05:09.728Z"
   },
   {
    "duration": 13,
    "start_time": "2022-07-31T12:05:09.901Z"
   },
   {
    "duration": 9,
    "start_time": "2022-07-31T12:05:09.915Z"
   },
   {
    "duration": 203,
    "start_time": "2022-07-31T12:05:09.926Z"
   },
   {
    "duration": 319,
    "start_time": "2022-07-31T12:05:10.130Z"
   },
   {
    "duration": 1007,
    "start_time": "2022-07-31T12:05:10.451Z"
   },
   {
    "duration": 343,
    "start_time": "2022-07-31T12:05:11.461Z"
   },
   {
    "duration": 484,
    "start_time": "2022-07-31T12:05:11.806Z"
   },
   {
    "duration": 65087,
    "start_time": "2022-07-31T12:05:12.295Z"
   },
   {
    "duration": 114669,
    "start_time": "2022-07-31T12:06:17.388Z"
   },
   {
    "duration": 8152,
    "start_time": "2022-07-31T12:08:12.059Z"
   },
   {
    "duration": 4899013,
    "start_time": "2022-07-31T12:08:20.213Z"
   },
   {
    "duration": 239234,
    "start_time": "2022-07-31T13:29:59.229Z"
   },
   {
    "duration": 147,
    "start_time": "2022-07-31T13:33:58.465Z"
   },
   {
    "duration": 1166591,
    "start_time": "2022-07-31T13:33:58.614Z"
   },
   {
    "duration": 9662,
    "start_time": "2022-07-31T13:53:25.210Z"
   },
   {
    "duration": 174,
    "start_time": "2022-07-31T13:53:34.878Z"
   },
   {
    "duration": 0,
    "start_time": "2022-07-31T23:12:23.932Z"
   },
   {
    "duration": 0,
    "start_time": "2022-07-31T23:12:23.934Z"
   },
   {
    "duration": 0,
    "start_time": "2022-07-31T23:12:23.935Z"
   },
   {
    "duration": 0,
    "start_time": "2022-07-31T23:12:23.936Z"
   },
   {
    "duration": 0,
    "start_time": "2022-07-31T23:12:23.937Z"
   },
   {
    "duration": 1422,
    "start_time": "2022-08-01T05:42:13.931Z"
   },
   {
    "duration": 837,
    "start_time": "2022-08-01T05:42:15.355Z"
   },
   {
    "duration": 1674,
    "start_time": "2022-08-01T05:42:16.194Z"
   },
   {
    "duration": 5,
    "start_time": "2022-08-01T05:42:17.871Z"
   },
   {
    "duration": 44,
    "start_time": "2022-08-01T05:42:17.878Z"
   },
   {
    "duration": 489,
    "start_time": "2022-08-01T05:42:17.924Z"
   },
   {
    "duration": 1032,
    "start_time": "2022-08-01T05:42:18.415Z"
   },
   {
    "duration": 59,
    "start_time": "2022-08-01T05:42:19.449Z"
   },
   {
    "duration": 54,
    "start_time": "2022-08-01T05:42:19.510Z"
   },
   {
    "duration": 41,
    "start_time": "2022-08-01T05:42:19.567Z"
   },
   {
    "duration": 45,
    "start_time": "2022-08-01T05:42:19.610Z"
   },
   {
    "duration": 66,
    "start_time": "2022-08-01T05:42:19.657Z"
   },
   {
    "duration": 58,
    "start_time": "2022-08-01T05:42:19.726Z"
   },
   {
    "duration": 52,
    "start_time": "2022-08-01T05:42:19.786Z"
   },
   {
    "duration": 59,
    "start_time": "2022-08-01T05:42:19.840Z"
   },
   {
    "duration": 4103,
    "start_time": "2022-08-01T05:42:19.901Z"
   },
   {
    "duration": 4417,
    "start_time": "2022-08-01T05:42:24.007Z"
   },
   {
    "duration": 14,
    "start_time": "2022-08-01T05:42:28.426Z"
   },
   {
    "duration": 43,
    "start_time": "2022-08-01T05:42:28.441Z"
   },
   {
    "duration": 18,
    "start_time": "2022-08-01T05:42:28.486Z"
   },
   {
    "duration": 35,
    "start_time": "2022-08-01T05:42:28.507Z"
   },
   {
    "duration": 3939,
    "start_time": "2022-08-01T05:42:28.544Z"
   },
   {
    "duration": 4384,
    "start_time": "2022-08-01T05:42:32.485Z"
   },
   {
    "duration": 17,
    "start_time": "2022-08-01T05:42:36.871Z"
   },
   {
    "duration": 36,
    "start_time": "2022-08-01T05:42:36.890Z"
   },
   {
    "duration": 295,
    "start_time": "2022-08-01T05:42:36.927Z"
   },
   {
    "duration": 28,
    "start_time": "2022-08-01T05:42:37.223Z"
   },
   {
    "duration": 700,
    "start_time": "2022-08-01T05:42:37.274Z"
   },
   {
    "duration": 63,
    "start_time": "2022-08-01T05:42:37.976Z"
   },
   {
    "duration": 238,
    "start_time": "2022-08-01T05:42:38.041Z"
   },
   {
    "duration": 29,
    "start_time": "2022-08-01T05:42:38.281Z"
   },
   {
    "duration": 4176,
    "start_time": "2022-08-01T05:42:38.312Z"
   },
   {
    "duration": 4360,
    "start_time": "2022-08-01T05:42:42.489Z"
   },
   {
    "duration": 15,
    "start_time": "2022-08-01T05:42:46.850Z"
   },
   {
    "duration": 49,
    "start_time": "2022-08-01T05:42:46.873Z"
   },
   {
    "duration": 188,
    "start_time": "2022-08-01T05:42:46.924Z"
   },
   {
    "duration": 29,
    "start_time": "2022-08-01T05:42:47.114Z"
   },
   {
    "duration": 44,
    "start_time": "2022-08-01T05:42:47.145Z"
   },
   {
    "duration": 364,
    "start_time": "2022-08-01T05:42:47.191Z"
   },
   {
    "duration": 245,
    "start_time": "2022-08-01T05:42:47.556Z"
   },
   {
    "duration": 358,
    "start_time": "2022-08-01T05:42:47.803Z"
   },
   {
    "duration": 19,
    "start_time": "2022-08-01T05:42:48.163Z"
   },
   {
    "duration": 9,
    "start_time": "2022-08-01T05:42:48.184Z"
   },
   {
    "duration": 39,
    "start_time": "2022-08-01T05:42:48.195Z"
   },
   {
    "duration": 247,
    "start_time": "2022-08-01T05:42:48.236Z"
   },
   {
    "duration": 20,
    "start_time": "2022-08-01T05:42:48.485Z"
   },
   {
    "duration": 16,
    "start_time": "2022-08-01T05:42:48.507Z"
   },
   {
    "duration": 48,
    "start_time": "2022-08-01T05:42:48.525Z"
   },
   {
    "duration": 306,
    "start_time": "2022-08-01T05:42:48.576Z"
   },
   {
    "duration": 257,
    "start_time": "2022-08-01T05:42:48.884Z"
   },
   {
    "duration": 220,
    "start_time": "2022-08-01T05:42:49.143Z"
   },
   {
    "duration": 197,
    "start_time": "2022-08-01T05:42:49.365Z"
   },
   {
    "duration": 26,
    "start_time": "2022-08-01T05:42:49.564Z"
   },
   {
    "duration": 12,
    "start_time": "2022-08-01T05:42:49.592Z"
   },
   {
    "duration": 183,
    "start_time": "2022-08-01T05:42:49.606Z"
   },
   {
    "duration": 13,
    "start_time": "2022-08-01T05:42:49.791Z"
   },
   {
    "duration": 12,
    "start_time": "2022-08-01T05:42:49.805Z"
   },
   {
    "duration": 9,
    "start_time": "2022-08-01T05:42:49.819Z"
   },
   {
    "duration": 8,
    "start_time": "2022-08-01T05:42:49.830Z"
   },
   {
    "duration": 57,
    "start_time": "2022-08-01T05:42:49.840Z"
   },
   {
    "duration": 18,
    "start_time": "2022-08-01T05:42:49.899Z"
   },
   {
    "duration": 520,
    "start_time": "2022-08-01T05:42:49.919Z"
   },
   {
    "duration": 255,
    "start_time": "2022-08-01T05:42:50.441Z"
   },
   {
    "duration": 238,
    "start_time": "2022-08-01T05:42:50.698Z"
   },
   {
    "duration": 256,
    "start_time": "2022-08-01T05:42:50.938Z"
   },
   {
    "duration": 14,
    "start_time": "2022-08-01T05:42:51.195Z"
   },
   {
    "duration": 24,
    "start_time": "2022-08-01T05:42:51.210Z"
   },
   {
    "duration": 513,
    "start_time": "2022-08-01T05:42:51.237Z"
   },
   {
    "duration": 629,
    "start_time": "2022-08-01T05:42:51.752Z"
   },
   {
    "duration": 181,
    "start_time": "2022-08-01T05:42:52.382Z"
   },
   {
    "duration": 186,
    "start_time": "2022-08-01T05:42:52.565Z"
   },
   {
    "duration": 24,
    "start_time": "2022-08-01T05:42:52.753Z"
   },
   {
    "duration": 10,
    "start_time": "2022-08-01T05:42:52.779Z"
   },
   {
    "duration": 215,
    "start_time": "2022-08-01T05:42:52.791Z"
   },
   {
    "duration": 290,
    "start_time": "2022-08-01T05:42:53.008Z"
   },
   {
    "duration": 958,
    "start_time": "2022-08-01T05:42:53.300Z"
   },
   {
    "duration": 335,
    "start_time": "2022-08-01T05:42:54.260Z"
   },
   {
    "duration": 471,
    "start_time": "2022-08-01T05:42:54.596Z"
   },
   {
    "duration": 31009,
    "start_time": "2022-08-01T05:42:55.068Z"
   },
   {
    "duration": 175,
    "start_time": "2022-08-01T05:43:26.079Z"
   },
   {
    "duration": 0,
    "start_time": "2022-08-01T05:43:26.257Z"
   },
   {
    "duration": 0,
    "start_time": "2022-08-01T05:43:26.258Z"
   },
   {
    "duration": 0,
    "start_time": "2022-08-01T05:43:26.259Z"
   },
   {
    "duration": 0,
    "start_time": "2022-08-01T05:43:26.260Z"
   },
   {
    "duration": 0,
    "start_time": "2022-08-01T05:43:26.261Z"
   },
   {
    "duration": 1,
    "start_time": "2022-08-01T05:43:26.272Z"
   },
   {
    "duration": 0,
    "start_time": "2022-08-01T05:43:26.274Z"
   },
   {
    "duration": 0,
    "start_time": "2022-08-01T05:43:26.275Z"
   },
   {
    "duration": 0,
    "start_time": "2022-08-01T05:43:26.275Z"
   },
   {
    "duration": 0,
    "start_time": "2022-08-01T05:43:26.276Z"
   },
   {
    "duration": 0,
    "start_time": "2022-08-01T05:43:26.277Z"
   },
   {
    "duration": 0,
    "start_time": "2022-08-01T05:43:26.279Z"
   },
   {
    "duration": 112156,
    "start_time": "2022-08-01T05:57:54.667Z"
   },
   {
    "duration": 7659,
    "start_time": "2022-08-01T05:59:46.825Z"
   },
   {
    "duration": 4153474,
    "start_time": "2022-08-01T06:00:34.780Z"
   },
   {
    "duration": 215660,
    "start_time": "2022-08-01T07:09:48.258Z"
   },
   {
    "duration": 113,
    "start_time": "2022-08-01T07:13:23.920Z"
   },
   {
    "duration": 68,
    "start_time": "2022-08-01T07:13:24.036Z"
   },
   {
    "duration": 113,
    "start_time": "2022-08-01T07:13:24.106Z"
   },
   {
    "duration": 151,
    "start_time": "2022-08-01T07:13:24.220Z"
   },
   {
    "duration": 8491715,
    "start_time": "2022-08-01T07:13:24.373Z"
   },
   {
    "duration": 7684,
    "start_time": "2022-08-01T09:34:56.090Z"
   },
   {
    "duration": 17,
    "start_time": "2022-08-01T09:35:03.776Z"
   },
   {
    "duration": 985639,
    "start_time": "2022-08-01T11:19:58.876Z"
   },
   {
    "duration": 8863,
    "start_time": "2022-08-01T11:36:24.583Z"
   },
   {
    "duration": 17,
    "start_time": "2022-08-01T11:37:17.910Z"
   },
   {
    "duration": 5,
    "start_time": "2022-08-01T11:37:21.206Z"
   },
   {
    "duration": 13,
    "start_time": "2022-08-01T12:50:50.768Z"
   },
   {
    "duration": 112,
    "start_time": "2022-08-01T12:50:52.986Z"
   },
   {
    "duration": 104,
    "start_time": "2022-08-01T12:50:54.541Z"
   },
   {
    "duration": 89,
    "start_time": "2022-08-01T12:51:06.951Z"
   },
   {
    "duration": 132,
    "start_time": "2022-08-01T12:51:31.437Z"
   },
   {
    "duration": 111,
    "start_time": "2022-08-01T12:51:41.818Z"
   },
   {
    "duration": 1540,
    "start_time": "2022-08-02T15:12:43.713Z"
   },
   {
    "duration": 1234,
    "start_time": "2022-08-02T15:12:46.115Z"
   },
   {
    "duration": 1588,
    "start_time": "2022-08-02T15:12:47.460Z"
   },
   {
    "duration": 4,
    "start_time": "2022-08-02T15:12:49.050Z"
   },
   {
    "duration": 6,
    "start_time": "2022-08-02T15:12:50.918Z"
   },
   {
    "duration": 477,
    "start_time": "2022-08-02T15:12:52.345Z"
   },
   {
    "duration": 1034,
    "start_time": "2022-08-02T15:12:53.276Z"
   },
   {
    "duration": 46,
    "start_time": "2022-08-02T15:12:55.134Z"
   },
   {
    "duration": 34,
    "start_time": "2022-08-02T15:12:56.259Z"
   },
   {
    "duration": 22,
    "start_time": "2022-08-02T15:12:57.518Z"
   },
   {
    "duration": 32,
    "start_time": "2022-08-02T15:12:58.169Z"
   },
   {
    "duration": 48,
    "start_time": "2022-08-02T15:12:58.571Z"
   },
   {
    "duration": 48,
    "start_time": "2022-08-02T15:12:58.783Z"
   },
   {
    "duration": 52,
    "start_time": "2022-08-02T15:12:59.018Z"
   },
   {
    "duration": 47,
    "start_time": "2022-08-02T15:12:59.230Z"
   },
   {
    "duration": 4611,
    "start_time": "2022-08-02T15:12:59.722Z"
   },
   {
    "duration": 5097,
    "start_time": "2022-08-02T15:13:04.335Z"
   },
   {
    "duration": 16,
    "start_time": "2022-08-02T15:13:09.433Z"
   },
   {
    "duration": 41,
    "start_time": "2022-08-02T15:13:09.451Z"
   },
   {
    "duration": 28,
    "start_time": "2022-08-02T15:13:09.493Z"
   },
   {
    "duration": 33,
    "start_time": "2022-08-02T15:13:09.523Z"
   },
   {
    "duration": 4472,
    "start_time": "2022-08-02T15:13:09.558Z"
   },
   {
    "duration": 4854,
    "start_time": "2022-08-02T15:13:14.033Z"
   },
   {
    "duration": 21,
    "start_time": "2022-08-02T15:13:18.889Z"
   },
   {
    "duration": 35,
    "start_time": "2022-08-02T15:13:18.913Z"
   },
   {
    "duration": 307,
    "start_time": "2022-08-02T15:13:18.950Z"
   },
   {
    "duration": 29,
    "start_time": "2022-08-02T15:13:19.259Z"
   },
   {
    "duration": 755,
    "start_time": "2022-08-02T15:13:19.289Z"
   },
   {
    "duration": 64,
    "start_time": "2022-08-02T15:13:20.046Z"
   },
   {
    "duration": 227,
    "start_time": "2022-08-02T15:13:20.112Z"
   },
   {
    "duration": 28,
    "start_time": "2022-08-02T15:13:20.341Z"
   },
   {
    "duration": 4406,
    "start_time": "2022-08-02T15:13:20.370Z"
   },
   {
    "duration": 4996,
    "start_time": "2022-08-02T15:13:24.778Z"
   },
   {
    "duration": 16,
    "start_time": "2022-08-02T15:13:29.776Z"
   },
   {
    "duration": 42,
    "start_time": "2022-08-02T15:13:29.794Z"
   },
   {
    "duration": 203,
    "start_time": "2022-08-02T15:13:29.837Z"
   },
   {
    "duration": 31,
    "start_time": "2022-08-02T15:13:30.043Z"
   },
   {
    "duration": 55,
    "start_time": "2022-08-02T15:13:30.075Z"
   },
   {
    "duration": 406,
    "start_time": "2022-08-02T15:13:30.131Z"
   },
   {
    "duration": 250,
    "start_time": "2022-08-02T15:13:30.539Z"
   },
   {
    "duration": 328,
    "start_time": "2022-08-02T15:13:30.791Z"
   },
   {
    "duration": 14,
    "start_time": "2022-08-02T15:13:31.121Z"
   },
   {
    "duration": 30,
    "start_time": "2022-08-02T15:13:31.137Z"
   },
   {
    "duration": 68,
    "start_time": "2022-08-02T15:13:31.168Z"
   },
   {
    "duration": 248,
    "start_time": "2022-08-02T15:13:31.238Z"
   },
   {
    "duration": 22,
    "start_time": "2022-08-02T15:13:31.488Z"
   },
   {
    "duration": 6,
    "start_time": "2022-08-02T15:13:31.512Z"
   },
   {
    "duration": 31,
    "start_time": "2022-08-02T15:13:31.520Z"
   },
   {
    "duration": 349,
    "start_time": "2022-08-02T15:13:31.552Z"
   },
   {
    "duration": 233,
    "start_time": "2022-08-02T15:13:31.908Z"
   },
   {
    "duration": 221,
    "start_time": "2022-08-02T15:13:32.143Z"
   },
   {
    "duration": 201,
    "start_time": "2022-08-02T15:13:32.367Z"
   },
   {
    "duration": 19,
    "start_time": "2022-08-02T15:13:32.570Z"
   },
   {
    "duration": 38,
    "start_time": "2022-08-02T15:13:32.591Z"
   },
   {
    "duration": 165,
    "start_time": "2022-08-02T15:13:32.631Z"
   },
   {
    "duration": 20,
    "start_time": "2022-08-02T15:13:32.799Z"
   },
   {
    "duration": 6,
    "start_time": "2022-08-02T15:13:32.923Z"
   },
   {
    "duration": 7,
    "start_time": "2022-08-02T15:13:33.155Z"
   },
   {
    "duration": 8,
    "start_time": "2022-08-02T15:13:33.655Z"
   },
   {
    "duration": 30,
    "start_time": "2022-08-02T15:13:34.130Z"
   },
   {
    "duration": 19,
    "start_time": "2022-08-02T15:13:34.371Z"
   },
   {
    "duration": 521,
    "start_time": "2022-08-02T15:13:35.307Z"
   },
   {
    "duration": 269,
    "start_time": "2022-08-02T15:13:35.830Z"
   },
   {
    "duration": 215,
    "start_time": "2022-08-02T15:13:36.282Z"
   },
   {
    "duration": 280,
    "start_time": "2022-08-02T15:13:37.225Z"
   },
   {
    "duration": 14,
    "start_time": "2022-08-02T15:13:37.972Z"
   },
   {
    "duration": 23,
    "start_time": "2022-08-02T15:13:38.498Z"
   },
   {
    "duration": 410,
    "start_time": "2022-08-02T15:13:40.518Z"
   },
   {
    "duration": 571,
    "start_time": "2022-08-02T15:13:41.415Z"
   },
   {
    "duration": 175,
    "start_time": "2022-08-02T15:13:42.310Z"
   },
   {
    "duration": 189,
    "start_time": "2022-08-02T15:13:43.614Z"
   },
   {
    "duration": 15,
    "start_time": "2022-08-02T15:13:44.703Z"
   },
   {
    "duration": 10,
    "start_time": "2022-08-02T15:13:45.575Z"
   },
   {
    "duration": 220,
    "start_time": "2022-08-02T15:13:45.983Z"
   },
   {
    "duration": 322,
    "start_time": "2022-08-02T15:13:47.815Z"
   },
   {
    "duration": 761,
    "start_time": "2022-08-02T15:13:52.536Z"
   },
   {
    "duration": 139,
    "start_time": "2022-08-02T15:19:20.866Z"
   },
   {
    "duration": 402,
    "start_time": "2022-08-02T15:19:36.632Z"
   },
   {
    "duration": 242,
    "start_time": "2022-08-02T15:19:51.730Z"
   },
   {
    "duration": 240,
    "start_time": "2022-08-02T15:22:09.714Z"
   },
   {
    "duration": 58,
    "start_time": "2022-08-02T15:22:39.421Z"
   },
   {
    "duration": 106,
    "start_time": "2022-08-02T15:25:08.012Z"
   },
   {
    "duration": 17843,
    "start_time": "2022-08-02T15:25:26.077Z"
   },
   {
    "duration": 1395,
    "start_time": "2022-08-02T15:33:07.770Z"
   },
   {
    "duration": 785,
    "start_time": "2022-08-02T15:33:09.167Z"
   },
   {
    "duration": 1615,
    "start_time": "2022-08-02T15:33:09.954Z"
   },
   {
    "duration": 4,
    "start_time": "2022-08-02T15:33:11.571Z"
   },
   {
    "duration": 7,
    "start_time": "2022-08-02T15:33:11.577Z"
   },
   {
    "duration": 473,
    "start_time": "2022-08-02T15:33:11.586Z"
   },
   {
    "duration": 973,
    "start_time": "2022-08-02T15:33:12.061Z"
   },
   {
    "duration": 50,
    "start_time": "2022-08-02T15:33:13.035Z"
   },
   {
    "duration": 44,
    "start_time": "2022-08-02T15:33:13.086Z"
   },
   {
    "duration": 22,
    "start_time": "2022-08-02T15:33:13.131Z"
   },
   {
    "duration": 43,
    "start_time": "2022-08-02T15:33:13.155Z"
   },
   {
    "duration": 51,
    "start_time": "2022-08-02T15:33:13.200Z"
   },
   {
    "duration": 63,
    "start_time": "2022-08-02T15:33:13.253Z"
   },
   {
    "duration": 51,
    "start_time": "2022-08-02T15:33:13.319Z"
   },
   {
    "duration": 64,
    "start_time": "2022-08-02T15:33:13.371Z"
   },
   {
    "duration": 4428,
    "start_time": "2022-08-02T15:33:13.436Z"
   },
   {
    "duration": 4807,
    "start_time": "2022-08-02T15:33:17.866Z"
   },
   {
    "duration": 16,
    "start_time": "2022-08-02T15:33:22.675Z"
   },
   {
    "duration": 47,
    "start_time": "2022-08-02T15:33:22.693Z"
   },
   {
    "duration": 22,
    "start_time": "2022-08-02T15:33:22.742Z"
   },
   {
    "duration": 48,
    "start_time": "2022-08-02T15:33:22.766Z"
   },
   {
    "duration": 4337,
    "start_time": "2022-08-02T15:33:22.816Z"
   },
   {
    "duration": 4876,
    "start_time": "2022-08-02T15:33:27.155Z"
   },
   {
    "duration": 17,
    "start_time": "2022-08-02T15:33:32.032Z"
   },
   {
    "duration": 37,
    "start_time": "2022-08-02T15:33:32.050Z"
   },
   {
    "duration": 286,
    "start_time": "2022-08-02T15:33:32.088Z"
   },
   {
    "duration": 35,
    "start_time": "2022-08-02T15:33:32.375Z"
   },
   {
    "duration": 737,
    "start_time": "2022-08-02T15:33:32.411Z"
   },
   {
    "duration": 66,
    "start_time": "2022-08-02T15:33:33.150Z"
   },
   {
    "duration": 232,
    "start_time": "2022-08-02T15:33:33.218Z"
   },
   {
    "duration": 31,
    "start_time": "2022-08-02T15:33:33.452Z"
   },
   {
    "duration": 4524,
    "start_time": "2022-08-02T15:33:33.485Z"
   },
   {
    "duration": 4878,
    "start_time": "2022-08-02T15:33:38.011Z"
   },
   {
    "duration": 21,
    "start_time": "2022-08-02T15:33:42.891Z"
   },
   {
    "duration": 45,
    "start_time": "2022-08-02T15:33:42.913Z"
   },
   {
    "duration": 194,
    "start_time": "2022-08-02T15:33:42.960Z"
   },
   {
    "duration": 30,
    "start_time": "2022-08-02T15:33:43.156Z"
   },
   {
    "duration": 46,
    "start_time": "2022-08-02T15:33:43.188Z"
   },
   {
    "duration": 407,
    "start_time": "2022-08-02T15:33:43.236Z"
   },
   {
    "duration": 241,
    "start_time": "2022-08-02T15:33:43.645Z"
   },
   {
    "duration": 322,
    "start_time": "2022-08-02T15:33:43.889Z"
   },
   {
    "duration": 14,
    "start_time": "2022-08-02T15:33:44.212Z"
   },
   {
    "duration": 10,
    "start_time": "2022-08-02T15:33:44.228Z"
   },
   {
    "duration": 38,
    "start_time": "2022-08-02T15:33:44.240Z"
   },
   {
    "duration": 240,
    "start_time": "2022-08-02T15:33:44.280Z"
   },
   {
    "duration": 13,
    "start_time": "2022-08-02T15:33:44.522Z"
   },
   {
    "duration": 14,
    "start_time": "2022-08-02T15:33:44.537Z"
   },
   {
    "duration": 39,
    "start_time": "2022-08-02T15:33:44.553Z"
   },
   {
    "duration": 332,
    "start_time": "2022-08-02T15:33:44.594Z"
   },
   {
    "duration": 268,
    "start_time": "2022-08-02T15:33:44.927Z"
   },
   {
    "duration": 225,
    "start_time": "2022-08-02T15:33:45.196Z"
   },
   {
    "duration": 208,
    "start_time": "2022-08-02T15:33:45.423Z"
   },
   {
    "duration": 19,
    "start_time": "2022-08-02T15:33:45.633Z"
   },
   {
    "duration": 12,
    "start_time": "2022-08-02T15:33:45.654Z"
   },
   {
    "duration": 194,
    "start_time": "2022-08-02T15:33:45.668Z"
   },
   {
    "duration": 16,
    "start_time": "2022-08-02T15:33:45.865Z"
   },
   {
    "duration": 19,
    "start_time": "2022-08-02T15:33:45.883Z"
   },
   {
    "duration": 12,
    "start_time": "2022-08-02T15:33:45.908Z"
   },
   {
    "duration": 30,
    "start_time": "2022-08-02T15:33:45.922Z"
   },
   {
    "duration": 36,
    "start_time": "2022-08-02T15:33:45.953Z"
   },
   {
    "duration": 19,
    "start_time": "2022-08-02T15:33:45.991Z"
   },
   {
    "duration": 530,
    "start_time": "2022-08-02T15:33:46.011Z"
   },
   {
    "duration": 237,
    "start_time": "2022-08-02T15:33:46.543Z"
   },
   {
    "duration": 217,
    "start_time": "2022-08-02T15:33:46.782Z"
   },
   {
    "duration": 260,
    "start_time": "2022-08-02T15:33:47.000Z"
   },
   {
    "duration": 12,
    "start_time": "2022-08-02T15:33:47.262Z"
   },
   {
    "duration": 45,
    "start_time": "2022-08-02T15:33:47.276Z"
   },
   {
    "duration": 487,
    "start_time": "2022-08-02T15:33:47.323Z"
   },
   {
    "duration": 597,
    "start_time": "2022-08-02T15:33:47.812Z"
   },
   {
    "duration": 180,
    "start_time": "2022-08-02T15:33:48.410Z"
   },
   {
    "duration": 174,
    "start_time": "2022-08-02T15:33:48.592Z"
   },
   {
    "duration": 16,
    "start_time": "2022-08-02T15:33:48.767Z"
   },
   {
    "duration": 18,
    "start_time": "2022-08-02T15:33:48.798Z"
   },
   {
    "duration": 200,
    "start_time": "2022-08-02T15:33:48.817Z"
   },
   {
    "duration": 336,
    "start_time": "2022-08-02T15:33:49.018Z"
   },
   {
    "duration": 72,
    "start_time": "2022-08-02T15:33:49.355Z"
   },
   {
    "duration": 61,
    "start_time": "2022-08-02T15:33:49.429Z"
   },
   {
    "duration": 126,
    "start_time": "2022-08-02T15:36:44.272Z"
   },
   {
    "duration": 57,
    "start_time": "2022-08-02T15:36:54.223Z"
   },
   {
    "duration": 649,
    "start_time": "2022-08-02T15:36:58.846Z"
   },
   {
    "duration": 337,
    "start_time": "2022-08-02T15:37:08.054Z"
   },
   {
    "duration": 19,
    "start_time": "2022-08-02T15:39:13.239Z"
   },
   {
    "duration": 104,
    "start_time": "2022-08-02T15:39:49.472Z"
   },
   {
    "duration": 635,
    "start_time": "2022-08-02T15:40:35.675Z"
   },
   {
    "duration": 319,
    "start_time": "2022-08-02T15:40:38.869Z"
   },
   {
    "duration": 19,
    "start_time": "2022-08-02T15:40:40.953Z"
   },
   {
    "duration": 102,
    "start_time": "2022-08-02T15:40:41.977Z"
   },
   {
    "duration": 122,
    "start_time": "2022-08-02T15:41:05.021Z"
   },
   {
    "duration": 17952,
    "start_time": "2022-08-02T15:41:06.643Z"
   },
   {
    "duration": 734,
    "start_time": "2022-08-02T15:42:43.822Z"
   },
   {
    "duration": 4,
    "start_time": "2022-08-02T15:43:57.040Z"
   },
   {
    "duration": 935,
    "start_time": "2022-08-02T15:43:57.048Z"
   },
   {
    "duration": 1597,
    "start_time": "2022-08-02T15:43:57.985Z"
   },
   {
    "duration": 5,
    "start_time": "2022-08-02T15:43:59.584Z"
   },
   {
    "duration": 19,
    "start_time": "2022-08-02T15:43:59.591Z"
   },
   {
    "duration": 425,
    "start_time": "2022-08-02T15:43:59.613Z"
   },
   {
    "duration": 930,
    "start_time": "2022-08-02T15:44:00.040Z"
   },
   {
    "duration": 55,
    "start_time": "2022-08-02T15:44:00.972Z"
   },
   {
    "duration": 29,
    "start_time": "2022-08-02T15:44:01.030Z"
   },
   {
    "duration": 31,
    "start_time": "2022-08-02T15:44:01.061Z"
   },
   {
    "duration": 55,
    "start_time": "2022-08-02T15:44:01.093Z"
   },
   {
    "duration": 63,
    "start_time": "2022-08-02T15:44:01.150Z"
   },
   {
    "duration": 48,
    "start_time": "2022-08-02T15:44:01.215Z"
   },
   {
    "duration": 73,
    "start_time": "2022-08-02T15:44:01.265Z"
   },
   {
    "duration": 52,
    "start_time": "2022-08-02T15:44:01.341Z"
   },
   {
    "duration": 4513,
    "start_time": "2022-08-02T15:44:01.410Z"
   },
   {
    "duration": 4951,
    "start_time": "2022-08-02T15:44:05.924Z"
   },
   {
    "duration": 16,
    "start_time": "2022-08-02T15:44:10.877Z"
   },
   {
    "duration": 42,
    "start_time": "2022-08-02T15:44:10.895Z"
   },
   {
    "duration": 23,
    "start_time": "2022-08-02T15:44:10.938Z"
   },
   {
    "duration": 51,
    "start_time": "2022-08-02T15:44:10.963Z"
   },
   {
    "duration": 4270,
    "start_time": "2022-08-02T15:44:11.016Z"
   },
   {
    "duration": 4888,
    "start_time": "2022-08-02T15:44:15.288Z"
   },
   {
    "duration": 17,
    "start_time": "2022-08-02T15:44:20.178Z"
   },
   {
    "duration": 44,
    "start_time": "2022-08-02T15:44:20.197Z"
   },
   {
    "duration": 300,
    "start_time": "2022-08-02T15:44:20.243Z"
   },
   {
    "duration": 28,
    "start_time": "2022-08-02T15:44:20.545Z"
   },
   {
    "duration": 760,
    "start_time": "2022-08-02T15:44:20.574Z"
   },
   {
    "duration": 60,
    "start_time": "2022-08-02T15:44:21.336Z"
   },
   {
    "duration": 236,
    "start_time": "2022-08-02T15:44:21.398Z"
   },
   {
    "duration": 27,
    "start_time": "2022-08-02T15:44:21.636Z"
   },
   {
    "duration": 4379,
    "start_time": "2022-08-02T15:44:21.665Z"
   },
   {
    "duration": 4925,
    "start_time": "2022-08-02T15:44:26.046Z"
   },
   {
    "duration": 16,
    "start_time": "2022-08-02T15:44:30.973Z"
   },
   {
    "duration": 72,
    "start_time": "2022-08-02T15:44:30.991Z"
   },
   {
    "duration": 185,
    "start_time": "2022-08-02T15:44:31.064Z"
   },
   {
    "duration": 30,
    "start_time": "2022-08-02T15:44:31.251Z"
   },
   {
    "duration": 47,
    "start_time": "2022-08-02T15:44:31.282Z"
   },
   {
    "duration": 414,
    "start_time": "2022-08-02T15:44:31.331Z"
   },
   {
    "duration": 228,
    "start_time": "2022-08-02T15:44:31.747Z"
   },
   {
    "duration": 237,
    "start_time": "2022-08-02T15:44:31.977Z"
   },
   {
    "duration": 13,
    "start_time": "2022-08-02T15:44:32.218Z"
   },
   {
    "duration": 12,
    "start_time": "2022-08-02T15:44:32.233Z"
   },
   {
    "duration": 27,
    "start_time": "2022-08-02T15:44:32.247Z"
   },
   {
    "duration": 229,
    "start_time": "2022-08-02T15:44:32.276Z"
   },
   {
    "duration": 13,
    "start_time": "2022-08-02T15:44:32.509Z"
   },
   {
    "duration": 6,
    "start_time": "2022-08-02T15:44:32.523Z"
   },
   {
    "duration": 46,
    "start_time": "2022-08-02T15:44:32.530Z"
   },
   {
    "duration": 482,
    "start_time": "2022-08-02T15:44:32.578Z"
   },
   {
    "duration": 249,
    "start_time": "2022-08-02T15:44:33.062Z"
   },
   {
    "duration": 219,
    "start_time": "2022-08-02T15:44:33.313Z"
   },
   {
    "duration": 231,
    "start_time": "2022-08-02T15:44:33.534Z"
   },
   {
    "duration": 19,
    "start_time": "2022-08-02T15:44:33.766Z"
   },
   {
    "duration": 24,
    "start_time": "2022-08-02T15:44:33.787Z"
   },
   {
    "duration": 175,
    "start_time": "2022-08-02T15:44:33.813Z"
   },
   {
    "duration": 22,
    "start_time": "2022-08-02T15:44:33.990Z"
   },
   {
    "duration": 7,
    "start_time": "2022-08-02T15:44:34.014Z"
   },
   {
    "duration": 8,
    "start_time": "2022-08-02T15:44:34.023Z"
   },
   {
    "duration": 7,
    "start_time": "2022-08-02T15:44:34.032Z"
   },
   {
    "duration": 28,
    "start_time": "2022-08-02T15:44:34.041Z"
   },
   {
    "duration": 50,
    "start_time": "2022-08-02T15:44:34.070Z"
   },
   {
    "duration": 410,
    "start_time": "2022-08-02T15:44:34.122Z"
   },
   {
    "duration": 244,
    "start_time": "2022-08-02T15:44:34.534Z"
   },
   {
    "duration": 334,
    "start_time": "2022-08-02T15:44:34.780Z"
   },
   {
    "duration": 252,
    "start_time": "2022-08-02T15:44:35.116Z"
   },
   {
    "duration": 13,
    "start_time": "2022-08-02T15:44:35.370Z"
   },
   {
    "duration": 35,
    "start_time": "2022-08-02T15:44:35.384Z"
   },
   {
    "duration": 415,
    "start_time": "2022-08-02T15:44:35.422Z"
   },
   {
    "duration": 516,
    "start_time": "2022-08-02T15:44:35.839Z"
   },
   {
    "duration": 176,
    "start_time": "2022-08-02T15:44:36.357Z"
   },
   {
    "duration": 170,
    "start_time": "2022-08-02T15:44:36.535Z"
   },
   {
    "duration": 14,
    "start_time": "2022-08-02T15:44:36.706Z"
   },
   {
    "duration": 14,
    "start_time": "2022-08-02T15:44:36.722Z"
   },
   {
    "duration": 200,
    "start_time": "2022-08-02T15:44:36.737Z"
   },
   {
    "duration": 345,
    "start_time": "2022-08-02T15:44:36.939Z"
   },
   {
    "duration": 784,
    "start_time": "2022-08-02T15:44:37.286Z"
   },
   {
    "duration": 11,
    "start_time": "2022-08-02T15:45:29.383Z"
   },
   {
    "duration": 783,
    "start_time": "2022-08-02T15:45:37.196Z"
   },
   {
    "duration": 413,
    "start_time": "2022-08-02T15:45:40.944Z"
   },
   {
    "duration": 252,
    "start_time": "2022-08-02T15:45:43.522Z"
   },
   {
    "duration": 357,
    "start_time": "2022-08-02T15:45:50.732Z"
   },
   {
    "duration": 117,
    "start_time": "2022-08-02T15:45:58.444Z"
   },
   {
    "duration": 18558,
    "start_time": "2022-08-02T15:46:01.753Z"
   },
   {
    "duration": 6,
    "start_time": "2022-08-02T15:47:49.229Z"
   },
   {
    "duration": 110,
    "start_time": "2022-08-02T15:48:02.735Z"
   },
   {
    "duration": 6,
    "start_time": "2022-08-02T15:48:06.786Z"
   },
   {
    "duration": 18597,
    "start_time": "2022-08-02T15:48:27.614Z"
   },
   {
    "duration": 21909,
    "start_time": "2022-08-02T15:48:48.219Z"
   },
   {
    "duration": 4,
    "start_time": "2022-08-02T15:49:19.367Z"
   },
   {
    "duration": 6,
    "start_time": "2022-08-02T15:49:35.825Z"
   },
   {
    "duration": 4,
    "start_time": "2022-08-02T15:50:05.823Z"
   },
   {
    "duration": 6,
    "start_time": "2022-08-02T15:51:46.157Z"
   },
   {
    "duration": 5,
    "start_time": "2022-08-02T15:51:51.758Z"
   },
   {
    "duration": 6,
    "start_time": "2022-08-02T15:51:55.985Z"
   },
   {
    "duration": 256,
    "start_time": "2022-08-02T15:57:05.963Z"
   },
   {
    "duration": 243,
    "start_time": "2022-08-02T15:57:09.076Z"
   },
   {
    "duration": 112,
    "start_time": "2022-08-02T15:57:11.124Z"
   },
   {
    "duration": 18367,
    "start_time": "2022-08-02T15:57:12.243Z"
   },
   {
    "duration": 849,
    "start_time": "2022-08-02T15:58:42.670Z"
   },
   {
    "duration": 1491,
    "start_time": "2022-08-02T15:59:07.173Z"
   },
   {
    "duration": 821,
    "start_time": "2022-08-02T15:59:08.665Z"
   },
   {
    "duration": 1576,
    "start_time": "2022-08-02T15:59:09.487Z"
   },
   {
    "duration": 5,
    "start_time": "2022-08-02T15:59:11.065Z"
   },
   {
    "duration": 9,
    "start_time": "2022-08-02T15:59:11.072Z"
   },
   {
    "duration": 454,
    "start_time": "2022-08-02T15:59:11.083Z"
   },
   {
    "duration": 965,
    "start_time": "2022-08-02T15:59:11.539Z"
   },
   {
    "duration": 49,
    "start_time": "2022-08-02T15:59:12.510Z"
   },
   {
    "duration": 49,
    "start_time": "2022-08-02T15:59:12.561Z"
   },
   {
    "duration": 20,
    "start_time": "2022-08-02T15:59:12.612Z"
   },
   {
    "duration": 33,
    "start_time": "2022-08-02T15:59:12.633Z"
   },
   {
    "duration": 62,
    "start_time": "2022-08-02T15:59:12.667Z"
   },
   {
    "duration": 46,
    "start_time": "2022-08-02T15:59:12.730Z"
   },
   {
    "duration": 62,
    "start_time": "2022-08-02T15:59:12.777Z"
   },
   {
    "duration": 44,
    "start_time": "2022-08-02T15:59:12.840Z"
   },
   {
    "duration": 4459,
    "start_time": "2022-08-02T15:59:12.886Z"
   },
   {
    "duration": 4905,
    "start_time": "2022-08-02T15:59:17.347Z"
   },
   {
    "duration": 16,
    "start_time": "2022-08-02T15:59:22.254Z"
   },
   {
    "duration": 47,
    "start_time": "2022-08-02T15:59:22.272Z"
   },
   {
    "duration": 18,
    "start_time": "2022-08-02T15:59:22.320Z"
   },
   {
    "duration": 32,
    "start_time": "2022-08-02T15:59:22.340Z"
   },
   {
    "duration": 4414,
    "start_time": "2022-08-02T15:59:22.374Z"
   },
   {
    "duration": 4965,
    "start_time": "2022-08-02T15:59:26.790Z"
   },
   {
    "duration": 16,
    "start_time": "2022-08-02T15:59:31.757Z"
   },
   {
    "duration": 45,
    "start_time": "2022-08-02T15:59:31.774Z"
   },
   {
    "duration": 282,
    "start_time": "2022-08-02T15:59:31.820Z"
   },
   {
    "duration": 34,
    "start_time": "2022-08-02T15:59:32.103Z"
   },
   {
    "duration": 1387,
    "start_time": "2022-08-02T15:59:32.141Z"
   },
   {
    "duration": 111,
    "start_time": "2022-08-02T15:59:33.530Z"
   },
   {
    "duration": 490,
    "start_time": "2022-08-02T15:59:33.643Z"
   },
   {
    "duration": 82,
    "start_time": "2022-08-02T15:59:34.134Z"
   },
   {
    "duration": 6033,
    "start_time": "2022-08-02T15:59:34.218Z"
   },
   {
    "duration": 4851,
    "start_time": "2022-08-02T15:59:40.253Z"
   },
   {
    "duration": 16,
    "start_time": "2022-08-02T15:59:45.106Z"
   },
   {
    "duration": 40,
    "start_time": "2022-08-02T15:59:45.124Z"
   },
   {
    "duration": 197,
    "start_time": "2022-08-02T15:59:45.166Z"
   },
   {
    "duration": 30,
    "start_time": "2022-08-02T15:59:45.365Z"
   },
   {
    "duration": 42,
    "start_time": "2022-08-02T15:59:45.396Z"
   },
   {
    "duration": 416,
    "start_time": "2022-08-02T15:59:45.440Z"
   },
   {
    "duration": 291,
    "start_time": "2022-08-02T15:59:45.857Z"
   },
   {
    "duration": 321,
    "start_time": "2022-08-02T15:59:46.149Z"
   },
   {
    "duration": 13,
    "start_time": "2022-08-02T15:59:46.471Z"
   },
   {
    "duration": 22,
    "start_time": "2022-08-02T15:59:46.486Z"
   },
   {
    "duration": 53,
    "start_time": "2022-08-02T15:59:46.510Z"
   },
   {
    "duration": 222,
    "start_time": "2022-08-02T15:59:46.565Z"
   },
   {
    "duration": 22,
    "start_time": "2022-08-02T15:59:46.789Z"
   },
   {
    "duration": 15,
    "start_time": "2022-08-02T15:59:46.812Z"
   },
   {
    "duration": 26,
    "start_time": "2022-08-02T15:59:46.829Z"
   },
   {
    "duration": 364,
    "start_time": "2022-08-02T15:59:46.857Z"
   },
   {
    "duration": 317,
    "start_time": "2022-08-02T15:59:47.224Z"
   },
   {
    "duration": 226,
    "start_time": "2022-08-02T15:59:47.543Z"
   },
   {
    "duration": 207,
    "start_time": "2022-08-02T15:59:47.771Z"
   },
   {
    "duration": 19,
    "start_time": "2022-08-02T15:59:47.979Z"
   },
   {
    "duration": 11,
    "start_time": "2022-08-02T15:59:48.009Z"
   },
   {
    "duration": 176,
    "start_time": "2022-08-02T15:59:48.022Z"
   },
   {
    "duration": 21,
    "start_time": "2022-08-02T15:59:48.199Z"
   },
   {
    "duration": 5,
    "start_time": "2022-08-02T15:59:48.221Z"
   },
   {
    "duration": 7,
    "start_time": "2022-08-02T15:59:48.227Z"
   },
   {
    "duration": 9,
    "start_time": "2022-08-02T15:59:48.235Z"
   },
   {
    "duration": 29,
    "start_time": "2022-08-02T15:59:48.245Z"
   },
   {
    "duration": 46,
    "start_time": "2022-08-02T15:59:48.275Z"
   },
   {
    "duration": 517,
    "start_time": "2022-08-02T15:59:48.323Z"
   },
   {
    "duration": 238,
    "start_time": "2022-08-02T15:59:48.842Z"
   },
   {
    "duration": 237,
    "start_time": "2022-08-02T15:59:49.081Z"
   },
   {
    "duration": 261,
    "start_time": "2022-08-02T15:59:49.319Z"
   },
   {
    "duration": 12,
    "start_time": "2022-08-02T15:59:49.582Z"
   },
   {
    "duration": 31,
    "start_time": "2022-08-02T15:59:49.596Z"
   },
   {
    "duration": 444,
    "start_time": "2022-08-02T15:59:49.628Z"
   },
   {
    "duration": 589,
    "start_time": "2022-08-02T15:59:50.074Z"
   },
   {
    "duration": 182,
    "start_time": "2022-08-02T15:59:50.664Z"
   },
   {
    "duration": 181,
    "start_time": "2022-08-02T15:59:50.848Z"
   },
   {
    "duration": 13,
    "start_time": "2022-08-02T15:59:51.031Z"
   },
   {
    "duration": 15,
    "start_time": "2022-08-02T15:59:51.046Z"
   },
   {
    "duration": 216,
    "start_time": "2022-08-02T15:59:51.063Z"
   },
   {
    "duration": 335,
    "start_time": "2022-08-02T15:59:51.281Z"
   },
   {
    "duration": 1816,
    "start_time": "2022-08-02T15:59:51.617Z"
   },
   {
    "duration": 415,
    "start_time": "2022-08-02T15:59:53.435Z"
   },
   {
    "duration": 351,
    "start_time": "2022-08-02T15:59:53.852Z"
   },
   {
    "duration": 0,
    "start_time": "2022-08-02T15:59:54.204Z"
   },
   {
    "duration": 0,
    "start_time": "2022-08-02T15:59:54.209Z"
   },
   {
    "duration": 0,
    "start_time": "2022-08-02T15:59:54.210Z"
   },
   {
    "duration": 267,
    "start_time": "2022-08-02T16:00:08.323Z"
   },
   {
    "duration": 231,
    "start_time": "2022-08-02T16:00:24.595Z"
   },
   {
    "duration": 88,
    "start_time": "2022-08-02T16:00:29.181Z"
   },
   {
    "duration": 123,
    "start_time": "2022-08-02T16:00:53.029Z"
   },
   {
    "duration": 64,
    "start_time": "2022-08-02T16:00:57.430Z"
   },
   {
    "duration": 18991,
    "start_time": "2022-08-02T16:01:12.427Z"
   },
   {
    "duration": 18771,
    "start_time": "2022-08-02T16:01:46.340Z"
   },
   {
    "duration": 10,
    "start_time": "2022-08-02T16:03:10.688Z"
   },
   {
    "duration": 143,
    "start_time": "2022-08-02T16:03:13.767Z"
   },
   {
    "duration": 654,
    "start_time": "2022-08-02T16:03:25.156Z"
   },
   {
    "duration": 74,
    "start_time": "2022-08-02T16:03:27.992Z"
   },
   {
    "duration": 666,
    "start_time": "2022-08-02T16:03:40.829Z"
   },
   {
    "duration": 705,
    "start_time": "2022-08-02T16:04:48.822Z"
   },
   {
    "duration": 10,
    "start_time": "2022-08-02T16:08:09.779Z"
   },
   {
    "duration": 957,
    "start_time": "2022-08-02T16:10:03.036Z"
   },
   {
    "duration": 491,
    "start_time": "2022-08-02T16:10:30.435Z"
   },
   {
    "duration": 463,
    "start_time": "2022-08-02T16:17:04.793Z"
   },
   {
    "duration": 465,
    "start_time": "2022-08-02T16:17:12.254Z"
   },
   {
    "duration": 503,
    "start_time": "2022-08-02T16:17:19.593Z"
   },
   {
    "duration": 906,
    "start_time": "2022-08-02T16:20:08.634Z"
   },
   {
    "duration": 542,
    "start_time": "2022-08-02T16:20:32.723Z"
   },
   {
    "duration": 558,
    "start_time": "2022-08-02T16:25:07.368Z"
   },
   {
    "duration": 77,
    "start_time": "2022-08-02T16:25:11.757Z"
   },
   {
    "duration": 14,
    "start_time": "2022-08-02T16:25:19.323Z"
   },
   {
    "duration": 217,
    "start_time": "2022-08-02T16:25:45.356Z"
   },
   {
    "duration": 11,
    "start_time": "2022-08-02T16:26:57.516Z"
   },
   {
    "duration": 0,
    "start_time": "2022-08-02T16:26:57.529Z"
   },
   {
    "duration": 14,
    "start_time": "2022-08-02T16:28:49.638Z"
   },
   {
    "duration": 32,
    "start_time": "2022-08-02T16:28:55.787Z"
   },
   {
    "duration": 554,
    "start_time": "2022-08-02T16:30:09.642Z"
   },
   {
    "duration": 79,
    "start_time": "2022-08-02T16:30:14.522Z"
   },
   {
    "duration": 225,
    "start_time": "2022-08-02T16:30:16.230Z"
   },
   {
    "duration": 30,
    "start_time": "2022-08-02T16:30:26.609Z"
   },
   {
    "duration": 25,
    "start_time": "2022-08-02T16:30:30.018Z"
   },
   {
    "duration": 79,
    "start_time": "2022-08-02T16:30:42.183Z"
   },
   {
    "duration": 17,
    "start_time": "2022-08-02T16:31:26.118Z"
   },
   {
    "duration": 537,
    "start_time": "2022-08-02T16:32:22.418Z"
   },
   {
    "duration": 518,
    "start_time": "2022-08-02T16:32:33.320Z"
   },
   {
    "duration": 145,
    "start_time": "2022-08-02T16:36:07.728Z"
   },
   {
    "duration": 1409,
    "start_time": "2022-08-02T16:37:52.042Z"
   },
   {
    "duration": 547,
    "start_time": "2022-08-02T16:38:11.119Z"
   },
   {
    "duration": 550,
    "start_time": "2022-08-02T16:38:30.514Z"
   },
   {
    "duration": 552,
    "start_time": "2022-08-02T16:38:43.473Z"
   },
   {
    "duration": 602,
    "start_time": "2022-08-02T16:39:37.934Z"
   },
   {
    "duration": 1480,
    "start_time": "2022-08-02T16:43:40.447Z"
   },
   {
    "duration": 844,
    "start_time": "2022-08-02T16:43:41.928Z"
   },
   {
    "duration": 1800,
    "start_time": "2022-08-02T16:43:42.774Z"
   },
   {
    "duration": 4,
    "start_time": "2022-08-02T16:43:44.577Z"
   },
   {
    "duration": 9,
    "start_time": "2022-08-02T16:43:44.583Z"
   },
   {
    "duration": 583,
    "start_time": "2022-08-02T16:43:44.594Z"
   },
   {
    "duration": 1158,
    "start_time": "2022-08-02T16:43:45.179Z"
   },
   {
    "duration": 44,
    "start_time": "2022-08-02T16:43:46.338Z"
   },
   {
    "duration": 47,
    "start_time": "2022-08-02T16:43:46.384Z"
   },
   {
    "duration": 25,
    "start_time": "2022-08-02T16:43:46.435Z"
   },
   {
    "duration": 49,
    "start_time": "2022-08-02T16:43:46.461Z"
   },
   {
    "duration": 50,
    "start_time": "2022-08-02T16:43:46.512Z"
   },
   {
    "duration": 70,
    "start_time": "2022-08-02T16:43:46.563Z"
   },
   {
    "duration": 86,
    "start_time": "2022-08-02T16:43:46.635Z"
   },
   {
    "duration": 60,
    "start_time": "2022-08-02T16:43:46.723Z"
   },
   {
    "duration": 4882,
    "start_time": "2022-08-02T16:43:46.785Z"
   },
   {
    "duration": 5458,
    "start_time": "2022-08-02T16:43:51.669Z"
   },
   {
    "duration": 28,
    "start_time": "2022-08-02T16:43:57.129Z"
   },
   {
    "duration": 70,
    "start_time": "2022-08-02T16:43:57.159Z"
   },
   {
    "duration": 28,
    "start_time": "2022-08-02T16:43:57.233Z"
   },
   {
    "duration": 55,
    "start_time": "2022-08-02T16:43:57.263Z"
   },
   {
    "duration": 4973,
    "start_time": "2022-08-02T16:43:57.320Z"
   },
   {
    "duration": 5274,
    "start_time": "2022-08-02T16:44:02.295Z"
   },
   {
    "duration": 17,
    "start_time": "2022-08-02T16:44:07.571Z"
   },
   {
    "duration": 46,
    "start_time": "2022-08-02T16:44:07.590Z"
   },
   {
    "duration": 301,
    "start_time": "2022-08-02T16:44:07.637Z"
   },
   {
    "duration": 30,
    "start_time": "2022-08-02T16:44:07.940Z"
   },
   {
    "duration": 767,
    "start_time": "2022-08-02T16:44:07.974Z"
   },
   {
    "duration": 83,
    "start_time": "2022-08-02T16:44:08.742Z"
   },
   {
    "duration": 254,
    "start_time": "2022-08-02T16:44:08.827Z"
   },
   {
    "duration": 39,
    "start_time": "2022-08-02T16:44:09.083Z"
   },
   {
    "duration": 4481,
    "start_time": "2022-08-02T16:44:09.123Z"
   },
   {
    "duration": 4968,
    "start_time": "2022-08-02T16:44:13.609Z"
   },
   {
    "duration": 16,
    "start_time": "2022-08-02T16:44:18.579Z"
   },
   {
    "duration": 41,
    "start_time": "2022-08-02T16:44:18.596Z"
   },
   {
    "duration": 262,
    "start_time": "2022-08-02T16:44:18.638Z"
   },
   {
    "duration": 48,
    "start_time": "2022-08-02T16:44:18.902Z"
   },
   {
    "duration": 69,
    "start_time": "2022-08-02T16:44:18.952Z"
   },
   {
    "duration": 397,
    "start_time": "2022-08-02T16:44:19.023Z"
   },
   {
    "duration": 265,
    "start_time": "2022-08-02T16:44:19.422Z"
   },
   {
    "duration": 320,
    "start_time": "2022-08-02T16:44:19.689Z"
   },
   {
    "duration": 13,
    "start_time": "2022-08-02T16:44:20.011Z"
   },
   {
    "duration": 6,
    "start_time": "2022-08-02T16:44:20.026Z"
   },
   {
    "duration": 39,
    "start_time": "2022-08-02T16:44:20.034Z"
   },
   {
    "duration": 255,
    "start_time": "2022-08-02T16:44:20.074Z"
   },
   {
    "duration": 13,
    "start_time": "2022-08-02T16:44:20.331Z"
   },
   {
    "duration": 10,
    "start_time": "2022-08-02T16:44:20.346Z"
   },
   {
    "duration": 28,
    "start_time": "2022-08-02T16:44:20.357Z"
   },
   {
    "duration": 343,
    "start_time": "2022-08-02T16:44:20.387Z"
   },
   {
    "duration": 256,
    "start_time": "2022-08-02T16:44:20.733Z"
   },
   {
    "duration": 224,
    "start_time": "2022-08-02T16:44:20.991Z"
   },
   {
    "duration": 208,
    "start_time": "2022-08-02T16:44:21.216Z"
   },
   {
    "duration": 19,
    "start_time": "2022-08-02T16:44:21.426Z"
   },
   {
    "duration": 12,
    "start_time": "2022-08-02T16:44:21.447Z"
   },
   {
    "duration": 189,
    "start_time": "2022-08-02T16:44:21.461Z"
   },
   {
    "duration": 13,
    "start_time": "2022-08-02T16:44:21.652Z"
   },
   {
    "duration": 5,
    "start_time": "2022-08-02T16:44:21.667Z"
   },
   {
    "duration": 7,
    "start_time": "2022-08-02T16:44:21.674Z"
   },
   {
    "duration": 33,
    "start_time": "2022-08-02T16:44:21.683Z"
   },
   {
    "duration": 32,
    "start_time": "2022-08-02T16:44:21.718Z"
   },
   {
    "duration": 17,
    "start_time": "2022-08-02T16:44:21.752Z"
   },
   {
    "duration": 524,
    "start_time": "2022-08-02T16:44:21.771Z"
   },
   {
    "duration": 233,
    "start_time": "2022-08-02T16:44:22.296Z"
   },
   {
    "duration": 223,
    "start_time": "2022-08-02T16:44:22.531Z"
   },
   {
    "duration": 255,
    "start_time": "2022-08-02T16:44:22.755Z"
   },
   {
    "duration": 13,
    "start_time": "2022-08-02T16:44:23.011Z"
   },
   {
    "duration": 23,
    "start_time": "2022-08-02T16:44:23.025Z"
   },
   {
    "duration": 425,
    "start_time": "2022-08-02T16:44:23.050Z"
   },
   {
    "duration": 585,
    "start_time": "2022-08-02T16:44:23.477Z"
   },
   {
    "duration": 184,
    "start_time": "2022-08-02T16:44:24.063Z"
   },
   {
    "duration": 172,
    "start_time": "2022-08-02T16:44:24.249Z"
   },
   {
    "duration": 13,
    "start_time": "2022-08-02T16:44:24.423Z"
   },
   {
    "duration": 9,
    "start_time": "2022-08-02T16:44:24.438Z"
   },
   {
    "duration": 243,
    "start_time": "2022-08-02T16:44:24.449Z"
   },
   {
    "duration": 316,
    "start_time": "2022-08-02T16:44:24.693Z"
   },
   {
    "duration": 718,
    "start_time": "2022-08-02T16:44:25.011Z"
   },
   {
    "duration": 432,
    "start_time": "2022-08-02T16:44:25.731Z"
   },
   {
    "duration": 260,
    "start_time": "2022-08-02T16:44:26.165Z"
   },
   {
    "duration": 236,
    "start_time": "2022-08-02T16:44:26.427Z"
   },
   {
    "duration": 136,
    "start_time": "2022-08-02T16:44:26.665Z"
   },
   {
    "duration": 32409,
    "start_time": "2022-08-02T16:44:26.808Z"
   },
   {
    "duration": 758,
    "start_time": "2022-08-02T16:44:59.312Z"
   },
   {
    "duration": 110,
    "start_time": "2022-08-02T16:45:00.072Z"
   },
   {
    "duration": 244,
    "start_time": "2022-08-02T16:45:00.184Z"
   },
   {
    "duration": 46,
    "start_time": "2022-08-02T16:45:00.429Z"
   },
   {
    "duration": 18,
    "start_time": "2022-08-02T16:45:28.587Z"
   },
   {
    "duration": 544,
    "start_time": "2022-08-02T16:47:18.225Z"
   },
   {
    "duration": 555,
    "start_time": "2022-08-02T16:47:42.824Z"
   },
   {
    "duration": 509,
    "start_time": "2022-08-02T16:48:10.283Z"
   },
   {
    "duration": 513,
    "start_time": "2022-08-02T16:48:31.239Z"
   },
   {
    "duration": 502,
    "start_time": "2022-08-02T16:48:40.832Z"
   },
   {
    "duration": 509,
    "start_time": "2022-08-02T16:50:34.863Z"
   },
   {
    "duration": 97,
    "start_time": "2022-08-02T16:50:47.175Z"
   },
   {
    "duration": 16,
    "start_time": "2022-08-02T16:50:49.694Z"
   },
   {
    "duration": 16,
    "start_time": "2022-08-02T16:50:51.863Z"
   },
   {
    "duration": 9185,
    "start_time": "2022-08-02T16:50:59.256Z"
   },
   {
    "duration": 480,
    "start_time": "2022-08-02T16:51:08.444Z"
   },
   {
    "duration": 528,
    "start_time": "2022-08-02T16:51:25.165Z"
   },
   {
    "duration": 13462,
    "start_time": "2022-08-02T16:53:47.198Z"
   },
   {
    "duration": 1474,
    "start_time": "2022-08-02T16:54:37.177Z"
   },
   {
    "duration": 799,
    "start_time": "2022-08-02T16:54:38.653Z"
   },
   {
    "duration": 1556,
    "start_time": "2022-08-02T16:54:39.454Z"
   },
   {
    "duration": 4,
    "start_time": "2022-08-02T16:54:41.012Z"
   },
   {
    "duration": 11,
    "start_time": "2022-08-02T16:54:41.018Z"
   },
   {
    "duration": 435,
    "start_time": "2022-08-02T16:54:41.030Z"
   },
   {
    "duration": 944,
    "start_time": "2022-08-02T16:54:41.466Z"
   },
   {
    "duration": 41,
    "start_time": "2022-08-02T16:54:42.411Z"
   },
   {
    "duration": 31,
    "start_time": "2022-08-02T16:54:42.453Z"
   },
   {
    "duration": 38,
    "start_time": "2022-08-02T16:54:42.486Z"
   },
   {
    "duration": 33,
    "start_time": "2022-08-02T16:54:42.525Z"
   },
   {
    "duration": 57,
    "start_time": "2022-08-02T16:54:42.560Z"
   },
   {
    "duration": 48,
    "start_time": "2022-08-02T16:54:42.619Z"
   },
   {
    "duration": 68,
    "start_time": "2022-08-02T16:54:42.670Z"
   },
   {
    "duration": 46,
    "start_time": "2022-08-02T16:54:42.740Z"
   },
   {
    "duration": 4459,
    "start_time": "2022-08-02T16:54:42.787Z"
   },
   {
    "duration": 4971,
    "start_time": "2022-08-02T16:54:47.249Z"
   },
   {
    "duration": 17,
    "start_time": "2022-08-02T16:54:52.222Z"
   },
   {
    "duration": 35,
    "start_time": "2022-08-02T16:54:52.240Z"
   },
   {
    "duration": 35,
    "start_time": "2022-08-02T16:54:52.277Z"
   },
   {
    "duration": 33,
    "start_time": "2022-08-02T16:54:52.313Z"
   },
   {
    "duration": 4419,
    "start_time": "2022-08-02T16:54:52.348Z"
   },
   {
    "duration": 5967,
    "start_time": "2022-08-02T16:54:56.768Z"
   },
   {
    "duration": 17,
    "start_time": "2022-08-02T16:55:02.737Z"
   },
   {
    "duration": 53,
    "start_time": "2022-08-02T16:55:02.756Z"
   },
   {
    "duration": 316,
    "start_time": "2022-08-02T16:55:02.810Z"
   },
   {
    "duration": 29,
    "start_time": "2022-08-02T16:55:03.128Z"
   },
   {
    "duration": 794,
    "start_time": "2022-08-02T16:55:03.159Z"
   },
   {
    "duration": 71,
    "start_time": "2022-08-02T16:55:03.955Z"
   },
   {
    "duration": 240,
    "start_time": "2022-08-02T16:55:04.028Z"
   },
   {
    "duration": 29,
    "start_time": "2022-08-02T16:55:04.270Z"
   },
   {
    "duration": 4595,
    "start_time": "2022-08-02T16:55:04.309Z"
   },
   {
    "duration": 4852,
    "start_time": "2022-08-02T16:55:08.905Z"
   },
   {
    "duration": 16,
    "start_time": "2022-08-02T16:55:13.759Z"
   },
   {
    "duration": 45,
    "start_time": "2022-08-02T16:55:13.776Z"
   },
   {
    "duration": 191,
    "start_time": "2022-08-02T16:55:13.823Z"
   },
   {
    "duration": 29,
    "start_time": "2022-08-02T16:55:14.016Z"
   },
   {
    "duration": 34,
    "start_time": "2022-08-02T16:55:14.046Z"
   },
   {
    "duration": 404,
    "start_time": "2022-08-02T16:55:14.082Z"
   },
   {
    "duration": 251,
    "start_time": "2022-08-02T16:55:14.487Z"
   },
   {
    "duration": 326,
    "start_time": "2022-08-02T16:55:14.742Z"
   },
   {
    "duration": 13,
    "start_time": "2022-08-02T16:55:15.070Z"
   },
   {
    "duration": 14,
    "start_time": "2022-08-02T16:55:15.085Z"
   },
   {
    "duration": 37,
    "start_time": "2022-08-02T16:55:15.108Z"
   },
   {
    "duration": 245,
    "start_time": "2022-08-02T16:55:15.147Z"
   },
   {
    "duration": 18,
    "start_time": "2022-08-02T16:55:15.394Z"
   },
   {
    "duration": 12,
    "start_time": "2022-08-02T16:55:15.414Z"
   },
   {
    "duration": 29,
    "start_time": "2022-08-02T16:55:15.428Z"
   },
   {
    "duration": 351,
    "start_time": "2022-08-02T16:55:15.458Z"
   },
   {
    "duration": 291,
    "start_time": "2022-08-02T16:55:15.810Z"
   },
   {
    "duration": 225,
    "start_time": "2022-08-02T16:55:16.103Z"
   },
   {
    "duration": 207,
    "start_time": "2022-08-02T16:55:16.329Z"
   },
   {
    "duration": 19,
    "start_time": "2022-08-02T16:55:16.538Z"
   },
   {
    "duration": 11,
    "start_time": "2022-08-02T16:55:16.558Z"
   },
   {
    "duration": 197,
    "start_time": "2022-08-02T16:55:16.571Z"
   },
   {
    "duration": 14,
    "start_time": "2022-08-02T16:55:16.769Z"
   },
   {
    "duration": 7,
    "start_time": "2022-08-02T16:55:16.784Z"
   },
   {
    "duration": 20,
    "start_time": "2022-08-02T16:55:16.793Z"
   },
   {
    "duration": 9,
    "start_time": "2022-08-02T16:55:16.814Z"
   },
   {
    "duration": 31,
    "start_time": "2022-08-02T16:55:16.824Z"
   },
   {
    "duration": 20,
    "start_time": "2022-08-02T16:55:16.858Z"
   },
   {
    "duration": 572,
    "start_time": "2022-08-02T16:55:16.880Z"
   },
   {
    "duration": 258,
    "start_time": "2022-08-02T16:55:17.454Z"
   },
   {
    "duration": 233,
    "start_time": "2022-08-02T16:55:17.714Z"
   },
   {
    "duration": 253,
    "start_time": "2022-08-02T16:55:17.949Z"
   },
   {
    "duration": 13,
    "start_time": "2022-08-02T16:55:18.208Z"
   },
   {
    "duration": 23,
    "start_time": "2022-08-02T16:55:18.223Z"
   },
   {
    "duration": 422,
    "start_time": "2022-08-02T16:55:18.247Z"
   },
   {
    "duration": 594,
    "start_time": "2022-08-02T16:55:18.670Z"
   },
   {
    "duration": 180,
    "start_time": "2022-08-02T16:55:19.265Z"
   },
   {
    "duration": 174,
    "start_time": "2022-08-02T16:55:19.446Z"
   },
   {
    "duration": 14,
    "start_time": "2022-08-02T16:55:19.621Z"
   },
   {
    "duration": 10,
    "start_time": "2022-08-02T16:55:19.636Z"
   },
   {
    "duration": 265,
    "start_time": "2022-08-02T16:55:19.647Z"
   },
   {
    "duration": 317,
    "start_time": "2022-08-02T16:55:19.914Z"
   },
   {
    "duration": 777,
    "start_time": "2022-08-02T16:55:20.233Z"
   },
   {
    "duration": 412,
    "start_time": "2022-08-02T16:55:21.011Z"
   },
   {
    "duration": 249,
    "start_time": "2022-08-02T16:55:21.425Z"
   },
   {
    "duration": 242,
    "start_time": "2022-08-02T16:55:21.676Z"
   },
   {
    "duration": 130,
    "start_time": "2022-08-02T16:55:21.919Z"
   },
   {
    "duration": 18974,
    "start_time": "2022-08-02T16:55:22.051Z"
   },
   {
    "duration": 764,
    "start_time": "2022-08-02T16:55:41.027Z"
   },
   {
    "duration": 118,
    "start_time": "2022-08-02T16:55:41.794Z"
   },
   {
    "duration": 19,
    "start_time": "2022-08-02T16:55:41.914Z"
   },
   {
    "duration": 10370,
    "start_time": "2022-08-02T16:56:05.745Z"
   },
   {
    "duration": 624,
    "start_time": "2022-08-02T16:56:16.120Z"
   },
   {
    "duration": 42347,
    "start_time": "2022-08-02T16:56:29.634Z"
   },
   {
    "duration": 1853721,
    "start_time": "2022-08-02T16:57:45.986Z"
   },
   {
    "duration": 41349,
    "start_time": "2022-08-02T17:28:39.709Z"
   },
   {
    "duration": 131,
    "start_time": "2022-08-02T17:29:21.060Z"
   },
   {
    "duration": 27,
    "start_time": "2022-08-02T17:29:21.193Z"
   },
   {
    "duration": 66,
    "start_time": "2022-08-02T17:29:21.222Z"
   },
   {
    "duration": 0,
    "start_time": "2022-08-02T17:29:21.289Z"
   },
   {
    "duration": 159,
    "start_time": "2022-08-02T18:09:02.581Z"
   },
   {
    "duration": 158539,
    "start_time": "2022-08-02T18:35:41.521Z"
   },
   {
    "duration": 85,
    "start_time": "2022-08-02T18:38:20.063Z"
   },
   {
    "duration": 64331,
    "start_time": "2022-08-02T18:38:29.926Z"
   },
   {
    "duration": 14,
    "start_time": "2022-08-02T18:39:34.260Z"
   },
   {
    "duration": 7486,
    "start_time": "2022-08-02T18:39:46.451Z"
   },
   {
    "duration": 11,
    "start_time": "2022-08-02T18:41:15.927Z"
   },
   {
    "duration": 403054,
    "start_time": "2022-08-02T18:41:16.731Z"
   },
   {
    "duration": 56147,
    "start_time": "2022-08-02T18:47:59.787Z"
   },
   {
    "duration": 964800,
    "start_time": "2022-08-02T18:48:55.936Z"
   },
   {
    "duration": 8029,
    "start_time": "2022-08-02T19:05:00.738Z"
   },
   {
    "duration": 21,
    "start_time": "2022-08-02T19:05:08.769Z"
   },
   {
    "duration": 33177,
    "start_time": "2022-08-02T19:12:09.437Z"
   },
   {
    "duration": 0,
    "start_time": "2022-08-02T19:27:41.242Z"
   },
   {
    "duration": 4,
    "start_time": "2022-08-02T19:27:57.847Z"
   },
   {
    "duration": 796,
    "start_time": "2022-08-02T19:27:57.853Z"
   },
   {
    "duration": 1568,
    "start_time": "2022-08-02T19:27:58.651Z"
   },
   {
    "duration": 4,
    "start_time": "2022-08-02T19:28:00.221Z"
   },
   {
    "duration": 10,
    "start_time": "2022-08-02T19:28:00.227Z"
   },
   {
    "duration": 454,
    "start_time": "2022-08-02T19:28:00.239Z"
   },
   {
    "duration": 921,
    "start_time": "2022-08-02T19:28:00.695Z"
   },
   {
    "duration": 43,
    "start_time": "2022-08-02T19:28:01.618Z"
   },
   {
    "duration": 32,
    "start_time": "2022-08-02T19:28:01.665Z"
   },
   {
    "duration": 38,
    "start_time": "2022-08-02T19:28:01.699Z"
   },
   {
    "duration": 30,
    "start_time": "2022-08-02T19:28:01.738Z"
   },
   {
    "duration": 73,
    "start_time": "2022-08-02T19:28:01.770Z"
   },
   {
    "duration": 70,
    "start_time": "2022-08-02T19:28:01.845Z"
   },
   {
    "duration": 59,
    "start_time": "2022-08-02T19:28:01.920Z"
   },
   {
    "duration": 63,
    "start_time": "2022-08-02T19:28:01.981Z"
   },
   {
    "duration": 5155,
    "start_time": "2022-08-02T19:28:02.046Z"
   },
   {
    "duration": 6862,
    "start_time": "2022-08-02T19:28:07.203Z"
   },
   {
    "duration": 20,
    "start_time": "2022-08-02T19:28:14.067Z"
   },
   {
    "duration": 60,
    "start_time": "2022-08-02T19:28:14.089Z"
   },
   {
    "duration": 19,
    "start_time": "2022-08-02T19:28:14.151Z"
   },
   {
    "duration": 55,
    "start_time": "2022-08-02T19:28:14.171Z"
   },
   {
    "duration": 6052,
    "start_time": "2022-08-02T19:28:14.228Z"
   },
   {
    "duration": 5559,
    "start_time": "2022-08-02T19:28:20.281Z"
   },
   {
    "duration": 16,
    "start_time": "2022-08-02T19:28:25.844Z"
   },
   {
    "duration": 56,
    "start_time": "2022-08-02T19:28:25.862Z"
   },
   {
    "duration": 340,
    "start_time": "2022-08-02T19:28:25.923Z"
   },
   {
    "duration": 28,
    "start_time": "2022-08-02T19:28:26.264Z"
   },
   {
    "duration": 874,
    "start_time": "2022-08-02T19:28:26.294Z"
   },
   {
    "duration": 95,
    "start_time": "2022-08-02T19:28:27.170Z"
   },
   {
    "duration": 307,
    "start_time": "2022-08-02T19:28:27.267Z"
   },
   {
    "duration": 50,
    "start_time": "2022-08-02T19:28:27.576Z"
   },
   {
    "duration": 5202,
    "start_time": "2022-08-02T19:28:27.628Z"
   },
   {
    "duration": 5837,
    "start_time": "2022-08-02T19:28:32.832Z"
   },
   {
    "duration": 16,
    "start_time": "2022-08-02T19:28:38.670Z"
   },
   {
    "duration": 49,
    "start_time": "2022-08-02T19:28:38.687Z"
   },
   {
    "duration": 225,
    "start_time": "2022-08-02T19:28:38.738Z"
   },
   {
    "duration": 51,
    "start_time": "2022-08-02T19:28:38.965Z"
   },
   {
    "duration": 34,
    "start_time": "2022-08-02T19:28:39.022Z"
   },
   {
    "duration": 383,
    "start_time": "2022-08-02T19:28:39.058Z"
   },
   {
    "duration": 245,
    "start_time": "2022-08-02T19:28:39.442Z"
   },
   {
    "duration": 365,
    "start_time": "2022-08-02T19:28:39.689Z"
   },
   {
    "duration": 13,
    "start_time": "2022-08-02T19:28:40.055Z"
   },
   {
    "duration": 8,
    "start_time": "2022-08-02T19:28:40.070Z"
   },
   {
    "duration": 45,
    "start_time": "2022-08-02T19:28:40.079Z"
   },
   {
    "duration": 245,
    "start_time": "2022-08-02T19:28:40.126Z"
   },
   {
    "duration": 50,
    "start_time": "2022-08-02T19:28:40.373Z"
   },
   {
    "duration": 9,
    "start_time": "2022-08-02T19:28:40.425Z"
   },
   {
    "duration": 83,
    "start_time": "2022-08-02T19:28:40.435Z"
   },
   {
    "duration": 730,
    "start_time": "2022-08-02T19:28:40.519Z"
   },
   {
    "duration": 579,
    "start_time": "2022-08-02T19:28:41.251Z"
   },
   {
    "duration": 498,
    "start_time": "2022-08-02T19:28:41.832Z"
   },
   {
    "duration": 212,
    "start_time": "2022-08-02T19:28:42.332Z"
   },
   {
    "duration": 18,
    "start_time": "2022-08-02T19:28:42.546Z"
   },
   {
    "duration": 10,
    "start_time": "2022-08-02T19:28:42.566Z"
   },
   {
    "duration": 191,
    "start_time": "2022-08-02T19:28:42.578Z"
   },
   {
    "duration": 12,
    "start_time": "2022-08-02T19:28:42.771Z"
   },
   {
    "duration": 5,
    "start_time": "2022-08-02T19:28:42.785Z"
   },
   {
    "duration": 25,
    "start_time": "2022-08-02T19:28:42.791Z"
   },
   {
    "duration": 13,
    "start_time": "2022-08-02T19:28:42.819Z"
   },
   {
    "duration": 28,
    "start_time": "2022-08-02T19:28:42.833Z"
   },
   {
    "duration": 17,
    "start_time": "2022-08-02T19:28:42.863Z"
   },
   {
    "duration": 430,
    "start_time": "2022-08-02T19:28:42.881Z"
   },
   {
    "duration": 345,
    "start_time": "2022-08-02T19:28:43.313Z"
   },
   {
    "duration": 226,
    "start_time": "2022-08-02T19:28:43.660Z"
   },
   {
    "duration": 254,
    "start_time": "2022-08-02T19:28:43.887Z"
   },
   {
    "duration": 12,
    "start_time": "2022-08-02T19:28:44.143Z"
   },
   {
    "duration": 24,
    "start_time": "2022-08-02T19:28:44.156Z"
   },
   {
    "duration": 429,
    "start_time": "2022-08-02T19:28:44.182Z"
   },
   {
    "duration": 528,
    "start_time": "2022-08-02T19:28:44.620Z"
   },
   {
    "duration": 288,
    "start_time": "2022-08-02T19:28:45.149Z"
   },
   {
    "duration": 172,
    "start_time": "2022-08-02T19:28:45.438Z"
   },
   {
    "duration": 14,
    "start_time": "2022-08-02T19:28:45.621Z"
   },
   {
    "duration": 14,
    "start_time": "2022-08-02T19:28:45.636Z"
   },
   {
    "duration": 201,
    "start_time": "2022-08-02T19:28:45.653Z"
   },
   {
    "duration": 58,
    "start_time": "2022-08-02T19:28:45.856Z"
   },
   {
    "duration": 340,
    "start_time": "2022-08-02T19:28:45.918Z"
   },
   {
    "duration": 323,
    "start_time": "2022-08-02T19:28:55.654Z"
   },
   {
    "duration": 248,
    "start_time": "2022-08-02T19:28:58.434Z"
   },
   {
    "duration": 283,
    "start_time": "2022-08-02T19:29:00.051Z"
   },
   {
    "duration": 122,
    "start_time": "2022-08-02T19:29:03.141Z"
   },
   {
    "duration": 33787,
    "start_time": "2022-08-02T19:29:07.128Z"
   },
   {
    "duration": 33457,
    "start_time": "2022-08-02T19:29:55.553Z"
   },
   {
    "duration": 621,
    "start_time": "2022-08-02T19:30:29.014Z"
   },
   {
    "duration": 101,
    "start_time": "2022-08-02T19:30:29.637Z"
   },
   {
    "duration": 13,
    "start_time": "2022-08-02T19:30:29.741Z"
   },
   {
    "duration": 15,
    "start_time": "2022-08-02T19:30:29.756Z"
   },
   {
    "duration": 575,
    "start_time": "2022-08-02T19:30:29.772Z"
   },
   {
    "duration": 2,
    "start_time": "2022-08-02T19:30:55.276Z"
   },
   {
    "duration": 47871,
    "start_time": "2022-08-02T19:30:55.861Z"
   },
   {
    "duration": 148,
    "start_time": "2022-08-02T19:31:43.734Z"
   },
   {
    "duration": 29,
    "start_time": "2022-08-02T19:31:43.884Z"
   },
   {
    "duration": 141,
    "start_time": "2022-08-02T19:31:45.394Z"
   },
   {
    "duration": 5,
    "start_time": "2022-08-02T19:32:38.226Z"
   },
   {
    "duration": 29028,
    "start_time": "2022-08-02T19:32:38.897Z"
   },
   {
    "duration": 3,
    "start_time": "2022-08-02T19:34:24.520Z"
   },
   {
    "duration": 16530,
    "start_time": "2022-08-02T19:34:24.940Z"
   },
   {
    "duration": 23,
    "start_time": "2022-08-02T19:35:00.379Z"
   },
   {
    "duration": 33736,
    "start_time": "2022-08-02T19:36:15.979Z"
   },
   {
    "duration": 0,
    "start_time": "2022-08-02T19:36:49.717Z"
   },
   {
    "duration": 34467,
    "start_time": "2022-08-02T19:37:35.654Z"
   },
   {
    "duration": 50143,
    "start_time": "2022-08-02T19:38:41.578Z"
   },
   {
    "duration": 778,
    "start_time": "2022-08-02T19:40:06.848Z"
   },
   {
    "duration": 725,
    "start_time": "2022-08-02T19:40:15.392Z"
   },
   {
    "duration": 676,
    "start_time": "2022-08-02T19:40:32.249Z"
   },
   {
    "duration": 733,
    "start_time": "2022-08-02T19:40:47.087Z"
   },
   {
    "duration": 690,
    "start_time": "2022-08-02T19:40:51.528Z"
   },
   {
    "duration": 773,
    "start_time": "2022-08-02T19:41:57.665Z"
   },
   {
    "duration": 597,
    "start_time": "2022-08-02T19:42:13.443Z"
   },
   {
    "duration": 50356,
    "start_time": "2022-08-02T19:43:14.525Z"
   },
   {
    "duration": 7,
    "start_time": "2022-08-02T19:54:19.453Z"
   },
   {
    "duration": 66099,
    "start_time": "2022-08-02T19:55:11.317Z"
   },
   {
    "duration": 1213,
    "start_time": "2022-08-02T19:57:01.184Z"
   },
   {
    "duration": 9,
    "start_time": "2022-08-02T20:00:38.952Z"
   },
   {
    "duration": 9364,
    "start_time": "2022-08-02T20:01:03.991Z"
   },
   {
    "duration": 19019,
    "start_time": "2022-08-02T20:01:19.609Z"
   },
   {
    "duration": 3,
    "start_time": "2022-08-02T20:02:16.465Z"
   },
   {
    "duration": 39504,
    "start_time": "2022-08-02T20:02:16.906Z"
   },
   {
    "duration": 81916,
    "start_time": "2022-08-02T20:03:09.382Z"
   },
   {
    "duration": 7332,
    "start_time": "2022-08-02T20:04:31.299Z"
   },
   {
    "duration": 0,
    "start_time": "2022-08-02T20:04:38.632Z"
   },
   {
    "duration": 44,
    "start_time": "2022-08-02T20:06:06.529Z"
   },
   {
    "duration": 4799,
    "start_time": "2022-08-02T20:06:12.426Z"
   },
   {
    "duration": 9715,
    "start_time": "2022-08-02T20:07:22.767Z"
   },
   {
    "duration": 15,
    "start_time": "2022-08-02T20:08:28.918Z"
   },
   {
    "duration": 2,
    "start_time": "2022-08-02T20:08:52.128Z"
   },
   {
    "duration": 8606,
    "start_time": "2022-08-02T20:08:53.491Z"
   },
   {
    "duration": 799,
    "start_time": "2022-08-02T20:09:06.857Z"
   },
   {
    "duration": 5,
    "start_time": "2022-08-02T20:10:19.684Z"
   },
   {
    "duration": 8598,
    "start_time": "2022-08-02T20:12:00.513Z"
   },
   {
    "duration": 796,
    "start_time": "2022-08-02T20:12:27.592Z"
   },
   {
    "duration": 1002,
    "start_time": "2022-08-02T20:13:09.716Z"
   },
   {
    "duration": 8,
    "start_time": "2022-08-02T20:16:20.219Z"
   },
   {
    "duration": 18495,
    "start_time": "2022-08-02T20:16:21.922Z"
   },
   {
    "duration": 656,
    "start_time": "2022-08-02T20:16:47.383Z"
   },
   {
    "duration": 41308,
    "start_time": "2022-08-02T20:16:53.117Z"
   },
   {
    "duration": 68,
    "start_time": "2022-08-02T20:17:48.618Z"
   },
   {
    "duration": 25093,
    "start_time": "2022-08-02T20:19:06.521Z"
   },
   {
    "duration": 3,
    "start_time": "2022-08-02T20:19:32.009Z"
   },
   {
    "duration": 2905,
    "start_time": "2022-08-02T20:19:32.014Z"
   },
   {
    "duration": 2671,
    "start_time": "2022-08-02T20:19:39.652Z"
   },
   {
    "duration": 3,
    "start_time": "2022-08-02T20:19:48.092Z"
   },
   {
    "duration": 8929,
    "start_time": "2022-08-02T20:19:48.977Z"
   },
   {
    "duration": 8494,
    "start_time": "2022-08-02T20:20:03.835Z"
   },
   {
    "duration": 7,
    "start_time": "2022-08-02T20:20:34.449Z"
   },
   {
    "duration": 796,
    "start_time": "2022-08-02T20:20:38.032Z"
   },
   {
    "duration": 284,
    "start_time": "2022-08-02T20:23:24.871Z"
   },
   {
    "duration": 2,
    "start_time": "2022-08-02T20:23:32.207Z"
   },
   {
    "duration": 8747,
    "start_time": "2022-08-02T20:23:32.211Z"
   },
   {
    "duration": 1757,
    "start_time": "2022-08-02T20:23:48.519Z"
   },
   {
    "duration": 348,
    "start_time": "2022-08-02T20:24:18.415Z"
   },
   {
    "duration": 13244,
    "start_time": "2022-08-02T20:24:55.463Z"
   },
   {
    "duration": 1094,
    "start_time": "2022-08-02T20:25:59.819Z"
   },
   {
    "duration": 7,
    "start_time": "2022-08-02T20:28:51.138Z"
   },
   {
    "duration": 589,
    "start_time": "2022-08-02T20:28:55.767Z"
   },
   {
    "duration": 39927,
    "start_time": "2022-08-02T20:28:58.358Z"
   },
   {
    "duration": 2541,
    "start_time": "2022-08-02T20:29:38.287Z"
   },
   {
    "duration": 17982,
    "start_time": "2022-08-02T20:32:16.824Z"
   },
   {
    "duration": 18,
    "start_time": "2022-08-02T20:39:54.920Z"
   },
   {
    "duration": 10,
    "start_time": "2022-08-02T20:40:41.418Z"
   },
   {
    "duration": 11,
    "start_time": "2022-08-02T20:41:10.784Z"
   },
   {
    "duration": 13,
    "start_time": "2022-08-02T20:41:19.247Z"
   },
   {
    "duration": 11,
    "start_time": "2022-08-02T20:42:23.569Z"
   },
   {
    "duration": 13,
    "start_time": "2022-08-02T20:42:32.843Z"
   },
   {
    "duration": 11,
    "start_time": "2022-08-02T20:43:20.757Z"
   },
   {
    "duration": 101,
    "start_time": "2022-08-02T20:43:34.772Z"
   },
   {
    "duration": 102,
    "start_time": "2022-08-02T20:43:43.821Z"
   },
   {
    "duration": 11,
    "start_time": "2022-08-02T20:44:15.421Z"
   },
   {
    "duration": 106,
    "start_time": "2022-08-02T20:44:22.753Z"
   },
   {
    "duration": 120,
    "start_time": "2022-08-02T20:44:27.006Z"
   },
   {
    "duration": 106,
    "start_time": "2022-08-02T20:44:40.925Z"
   },
   {
    "duration": 17286,
    "start_time": "2022-08-02T20:46:45.630Z"
   },
   {
    "duration": 19,
    "start_time": "2022-08-02T20:50:07.373Z"
   },
   {
    "duration": 19,
    "start_time": "2022-08-02T20:50:14.249Z"
   },
   {
    "duration": 21,
    "start_time": "2022-08-02T20:50:27.359Z"
   },
   {
    "duration": 112,
    "start_time": "2022-08-02T20:54:36.419Z"
   },
   {
    "duration": 115,
    "start_time": "2022-08-02T20:54:38.788Z"
   },
   {
    "duration": 1408,
    "start_time": "2022-08-02T20:56:24.184Z"
   },
   {
    "duration": 824,
    "start_time": "2022-08-02T20:56:25.594Z"
   },
   {
    "duration": 1693,
    "start_time": "2022-08-02T20:56:26.420Z"
   },
   {
    "duration": 4,
    "start_time": "2022-08-02T20:56:28.116Z"
   },
   {
    "duration": 9,
    "start_time": "2022-08-02T20:56:28.121Z"
   },
   {
    "duration": 505,
    "start_time": "2022-08-02T20:56:28.131Z"
   },
   {
    "duration": 961,
    "start_time": "2022-08-02T20:56:28.638Z"
   },
   {
    "duration": 45,
    "start_time": "2022-08-02T20:56:29.601Z"
   },
   {
    "duration": 27,
    "start_time": "2022-08-02T20:56:29.647Z"
   },
   {
    "duration": 35,
    "start_time": "2022-08-02T20:56:29.676Z"
   },
   {
    "duration": 34,
    "start_time": "2022-08-02T20:56:29.712Z"
   },
   {
    "duration": 64,
    "start_time": "2022-08-02T20:56:29.747Z"
   },
   {
    "duration": 47,
    "start_time": "2022-08-02T20:56:29.812Z"
   },
   {
    "duration": 64,
    "start_time": "2022-08-02T20:56:29.861Z"
   },
   {
    "duration": 44,
    "start_time": "2022-08-02T20:56:29.926Z"
   },
   {
    "duration": 4315,
    "start_time": "2022-08-02T20:56:29.971Z"
   },
   {
    "duration": 4905,
    "start_time": "2022-08-02T20:56:34.287Z"
   },
   {
    "duration": 21,
    "start_time": "2022-08-02T20:56:39.194Z"
   },
   {
    "duration": 34,
    "start_time": "2022-08-02T20:56:39.217Z"
   },
   {
    "duration": 19,
    "start_time": "2022-08-02T20:56:39.253Z"
   },
   {
    "duration": 51,
    "start_time": "2022-08-02T20:56:39.273Z"
   },
   {
    "duration": 4258,
    "start_time": "2022-08-02T20:56:39.325Z"
   },
   {
    "duration": 4817,
    "start_time": "2022-08-02T20:56:43.584Z"
   },
   {
    "duration": 19,
    "start_time": "2022-08-02T20:56:48.403Z"
   },
   {
    "duration": 37,
    "start_time": "2022-08-02T20:56:48.424Z"
   },
   {
    "duration": 276,
    "start_time": "2022-08-02T20:56:48.462Z"
   },
   {
    "duration": 29,
    "start_time": "2022-08-02T20:56:48.739Z"
   },
   {
    "duration": 721,
    "start_time": "2022-08-02T20:56:48.772Z"
   },
   {
    "duration": 56,
    "start_time": "2022-08-02T20:56:49.494Z"
   },
   {
    "duration": 233,
    "start_time": "2022-08-02T20:56:49.552Z"
   },
   {
    "duration": 39,
    "start_time": "2022-08-02T20:56:49.787Z"
   },
   {
    "duration": 4377,
    "start_time": "2022-08-02T20:56:49.828Z"
   },
   {
    "duration": 5714,
    "start_time": "2022-08-02T20:56:54.207Z"
   },
   {
    "duration": 15,
    "start_time": "2022-08-02T20:56:59.923Z"
   },
   {
    "duration": 39,
    "start_time": "2022-08-02T20:56:59.940Z"
   },
   {
    "duration": 226,
    "start_time": "2022-08-02T20:56:59.980Z"
   },
   {
    "duration": 35,
    "start_time": "2022-08-02T20:57:00.210Z"
   },
   {
    "duration": 42,
    "start_time": "2022-08-02T20:57:00.248Z"
   },
   {
    "duration": 402,
    "start_time": "2022-08-02T20:57:00.291Z"
   },
   {
    "duration": 236,
    "start_time": "2022-08-02T20:57:00.694Z"
   },
   {
    "duration": 334,
    "start_time": "2022-08-02T20:57:00.932Z"
   },
   {
    "duration": 13,
    "start_time": "2022-08-02T20:57:01.268Z"
   },
   {
    "duration": 27,
    "start_time": "2022-08-02T20:57:01.282Z"
   },
   {
    "duration": 47,
    "start_time": "2022-08-02T20:57:01.311Z"
   },
   {
    "duration": 236,
    "start_time": "2022-08-02T20:57:01.360Z"
   },
   {
    "duration": 18,
    "start_time": "2022-08-02T20:57:01.598Z"
   },
   {
    "duration": 45,
    "start_time": "2022-08-02T20:57:01.617Z"
   },
   {
    "duration": 32,
    "start_time": "2022-08-02T20:57:01.664Z"
   },
   {
    "duration": 323,
    "start_time": "2022-08-02T20:57:01.698Z"
   },
   {
    "duration": 254,
    "start_time": "2022-08-02T20:57:02.023Z"
   },
   {
    "duration": 216,
    "start_time": "2022-08-02T20:57:02.278Z"
   },
   {
    "duration": 207,
    "start_time": "2022-08-02T20:57:02.496Z"
   },
   {
    "duration": 22,
    "start_time": "2022-08-02T20:57:02.704Z"
   },
   {
    "duration": 12,
    "start_time": "2022-08-02T20:57:02.727Z"
   },
   {
    "duration": 184,
    "start_time": "2022-08-02T20:57:02.741Z"
   },
   {
    "duration": 13,
    "start_time": "2022-08-02T20:57:02.927Z"
   },
   {
    "duration": 7,
    "start_time": "2022-08-02T20:57:02.942Z"
   },
   {
    "duration": 7,
    "start_time": "2022-08-02T20:57:02.952Z"
   },
   {
    "duration": 20,
    "start_time": "2022-08-02T20:57:02.961Z"
   },
   {
    "duration": 51,
    "start_time": "2022-08-02T20:57:02.982Z"
   },
   {
    "duration": 18,
    "start_time": "2022-08-02T20:57:03.034Z"
   },
   {
    "duration": 771,
    "start_time": "2022-08-02T20:57:03.053Z"
   },
   {
    "duration": 497,
    "start_time": "2022-08-02T20:57:03.826Z"
   },
   {
    "duration": 429,
    "start_time": "2022-08-02T20:57:04.325Z"
   },
   {
    "duration": 555,
    "start_time": "2022-08-02T20:57:04.756Z"
   },
   {
    "duration": 12,
    "start_time": "2022-08-02T20:57:05.313Z"
   },
   {
    "duration": 23,
    "start_time": "2022-08-02T20:57:05.327Z"
   },
   {
    "duration": 434,
    "start_time": "2022-08-02T20:57:05.351Z"
   },
   {
    "duration": 608,
    "start_time": "2022-08-02T20:57:05.786Z"
   },
   {
    "duration": 172,
    "start_time": "2022-08-02T20:57:06.396Z"
   },
   {
    "duration": 170,
    "start_time": "2022-08-02T20:57:06.570Z"
   },
   {
    "duration": 15,
    "start_time": "2022-08-02T20:57:06.742Z"
   },
   {
    "duration": 20,
    "start_time": "2022-08-02T20:57:06.759Z"
   },
   {
    "duration": 196,
    "start_time": "2022-08-02T20:57:06.781Z"
   },
   {
    "duration": 45,
    "start_time": "2022-08-02T20:57:06.979Z"
   },
   {
    "duration": 352,
    "start_time": "2022-08-02T20:57:07.025Z"
   },
   {
    "duration": 754,
    "start_time": "2022-08-02T20:57:07.378Z"
   },
   {
    "duration": 412,
    "start_time": "2022-08-02T20:57:08.134Z"
   },
   {
    "duration": 254,
    "start_time": "2022-08-02T20:57:08.547Z"
   },
   {
    "duration": 240,
    "start_time": "2022-08-02T20:57:08.809Z"
   },
   {
    "duration": 130,
    "start_time": "2022-08-02T20:57:09.051Z"
   },
   {
    "duration": 17722,
    "start_time": "2022-08-02T20:57:09.187Z"
   },
   {
    "duration": 651,
    "start_time": "2022-08-02T20:57:26.912Z"
   },
   {
    "duration": 105,
    "start_time": "2022-08-02T20:57:27.565Z"
   },
   {
    "duration": 14,
    "start_time": "2022-08-02T20:57:27.672Z"
   },
   {
    "duration": 8880,
    "start_time": "2022-08-02T20:57:27.689Z"
   },
   {
    "duration": 531,
    "start_time": "2022-08-02T20:57:36.570Z"
   },
   {
    "duration": 1689029,
    "start_time": "2022-08-02T20:57:37.103Z"
   },
   {
    "duration": 37884,
    "start_time": "2022-08-02T21:25:46.133Z"
   },
   {
    "duration": 143,
    "start_time": "2022-08-02T21:26:24.019Z"
   },
   {
    "duration": 20,
    "start_time": "2022-08-02T21:26:24.163Z"
   },
   {
    "duration": 180,
    "start_time": "2022-08-02T21:26:24.186Z"
   },
   {
    "duration": 762754,
    "start_time": "2022-08-02T21:26:24.368Z"
   },
   {
    "duration": 4804,
    "start_time": "2022-08-02T21:39:07.124Z"
   },
   {
    "duration": 1304583,
    "start_time": "2022-08-02T21:39:11.929Z"
   },
   {
    "duration": 8609,
    "start_time": "2022-08-02T22:00:56.514Z"
   },
   {
    "duration": 18,
    "start_time": "2022-08-02T22:01:05.125Z"
   },
   {
    "duration": 6,
    "start_time": "2022-08-02T22:01:05.145Z"
   },
   {
    "duration": 18064,
    "start_time": "2022-08-02T22:01:05.153Z"
   },
   {
    "duration": 588,
    "start_time": "2022-08-02T22:01:23.310Z"
   },
   {
    "duration": 39377,
    "start_time": "2022-08-02T22:01:23.900Z"
   },
   {
    "duration": 5254,
    "start_time": "2022-08-02T22:02:03.279Z"
   },
   {
    "duration": 8910,
    "start_time": "2022-08-02T22:02:08.535Z"
   },
   {
    "duration": 11,
    "start_time": "2022-08-02T22:02:17.446Z"
   },
   {
    "duration": 122,
    "start_time": "2022-08-02T22:02:17.458Z"
   },
   {
    "duration": 124,
    "start_time": "2022-08-02T22:02:17.582Z"
   },
   {
    "duration": 111,
    "start_time": "2022-08-02T22:02:17.708Z"
   },
   {
    "duration": 8759,
    "start_time": "2022-08-03T03:39:00.317Z"
   },
   {
    "duration": 10,
    "start_time": "2022-08-03T03:39:09.078Z"
   },
   {
    "duration": 222,
    "start_time": "2022-08-03T03:39:09.090Z"
   },
   {
    "duration": 119,
    "start_time": "2022-08-03T03:39:09.314Z"
   },
   {
    "duration": 111,
    "start_time": "2022-08-03T03:39:09.434Z"
   },
   {
    "duration": 87,
    "start_time": "2022-08-03T04:05:31.315Z"
   },
   {
    "duration": 83,
    "start_time": "2022-08-03T04:05:54.464Z"
   },
   {
    "duration": 1345,
    "start_time": "2022-08-03T04:18:07.967Z"
   },
   {
    "duration": 796,
    "start_time": "2022-08-03T04:18:09.313Z"
   },
   {
    "duration": 1592,
    "start_time": "2022-08-03T04:18:10.111Z"
   },
   {
    "duration": 4,
    "start_time": "2022-08-03T04:18:11.708Z"
   },
   {
    "duration": 10,
    "start_time": "2022-08-03T04:18:11.713Z"
   },
   {
    "duration": 481,
    "start_time": "2022-08-03T04:18:11.724Z"
   },
   {
    "duration": 968,
    "start_time": "2022-08-03T04:18:12.208Z"
   },
   {
    "duration": 50,
    "start_time": "2022-08-03T04:18:13.178Z"
   },
   {
    "duration": 32,
    "start_time": "2022-08-03T04:18:13.229Z"
   },
   {
    "duration": 23,
    "start_time": "2022-08-03T04:18:13.264Z"
   },
   {
    "duration": 45,
    "start_time": "2022-08-03T04:18:13.289Z"
   },
   {
    "duration": 46,
    "start_time": "2022-08-03T04:18:13.336Z"
   },
   {
    "duration": 61,
    "start_time": "2022-08-03T04:18:13.384Z"
   },
   {
    "duration": 64,
    "start_time": "2022-08-03T04:18:13.447Z"
   },
   {
    "duration": 43,
    "start_time": "2022-08-03T04:18:13.513Z"
   },
   {
    "duration": 4307,
    "start_time": "2022-08-03T04:18:13.558Z"
   },
   {
    "duration": 4690,
    "start_time": "2022-08-03T04:18:17.867Z"
   },
   {
    "duration": 16,
    "start_time": "2022-08-03T04:18:22.559Z"
   },
   {
    "duration": 44,
    "start_time": "2022-08-03T04:18:22.576Z"
   },
   {
    "duration": 18,
    "start_time": "2022-08-03T04:18:22.622Z"
   },
   {
    "duration": 43,
    "start_time": "2022-08-03T04:18:22.641Z"
   },
   {
    "duration": 4269,
    "start_time": "2022-08-03T04:18:22.685Z"
   },
   {
    "duration": 4749,
    "start_time": "2022-08-03T04:18:26.956Z"
   },
   {
    "duration": 16,
    "start_time": "2022-08-03T04:18:31.709Z"
   },
   {
    "duration": 43,
    "start_time": "2022-08-03T04:18:31.727Z"
   },
   {
    "duration": 276,
    "start_time": "2022-08-03T04:18:31.771Z"
   },
   {
    "duration": 29,
    "start_time": "2022-08-03T04:18:32.048Z"
   },
   {
    "duration": 720,
    "start_time": "2022-08-03T04:18:32.081Z"
   },
   {
    "duration": 61,
    "start_time": "2022-08-03T04:18:32.803Z"
   },
   {
    "duration": 232,
    "start_time": "2022-08-03T04:18:32.865Z"
   },
   {
    "duration": 32,
    "start_time": "2022-08-03T04:18:33.099Z"
   },
   {
    "duration": 4557,
    "start_time": "2022-08-03T04:18:33.132Z"
   },
   {
    "duration": 4738,
    "start_time": "2022-08-03T04:18:37.691Z"
   },
   {
    "duration": 18,
    "start_time": "2022-08-03T04:18:42.430Z"
   },
   {
    "duration": 36,
    "start_time": "2022-08-03T04:18:42.449Z"
   },
   {
    "duration": 208,
    "start_time": "2022-08-03T04:18:42.486Z"
   },
   {
    "duration": 33,
    "start_time": "2022-08-03T04:18:42.696Z"
   },
   {
    "duration": 35,
    "start_time": "2022-08-03T04:18:42.731Z"
   },
   {
    "duration": 390,
    "start_time": "2022-08-03T04:18:42.768Z"
   },
   {
    "duration": 236,
    "start_time": "2022-08-03T04:18:43.159Z"
   },
   {
    "duration": 306,
    "start_time": "2022-08-03T04:18:43.397Z"
   },
   {
    "duration": 16,
    "start_time": "2022-08-03T04:18:43.705Z"
   },
   {
    "duration": 7,
    "start_time": "2022-08-03T04:18:43.723Z"
   },
   {
    "duration": 28,
    "start_time": "2022-08-03T04:18:43.732Z"
   },
   {
    "duration": 249,
    "start_time": "2022-08-03T04:18:43.762Z"
   },
   {
    "duration": 13,
    "start_time": "2022-08-03T04:18:44.013Z"
   },
   {
    "duration": 6,
    "start_time": "2022-08-03T04:18:44.027Z"
   },
   {
    "duration": 27,
    "start_time": "2022-08-03T04:18:44.034Z"
   },
   {
    "duration": 338,
    "start_time": "2022-08-03T04:18:44.062Z"
   },
   {
    "duration": 234,
    "start_time": "2022-08-03T04:18:44.401Z"
   },
   {
    "duration": 218,
    "start_time": "2022-08-03T04:18:44.636Z"
   },
   {
    "duration": 200,
    "start_time": "2022-08-03T04:18:44.856Z"
   },
   {
    "duration": 19,
    "start_time": "2022-08-03T04:18:45.058Z"
   },
   {
    "duration": 11,
    "start_time": "2022-08-03T04:18:45.079Z"
   },
   {
    "duration": 162,
    "start_time": "2022-08-03T04:18:45.109Z"
   },
   {
    "duration": 12,
    "start_time": "2022-08-03T04:18:45.272Z"
   },
   {
    "duration": 4,
    "start_time": "2022-08-03T04:18:45.286Z"
   },
   {
    "duration": 21,
    "start_time": "2022-08-03T04:18:45.291Z"
   },
   {
    "duration": 7,
    "start_time": "2022-08-03T04:18:45.314Z"
   },
   {
    "duration": 28,
    "start_time": "2022-08-03T04:18:45.322Z"
   },
   {
    "duration": 18,
    "start_time": "2022-08-03T04:18:45.351Z"
   },
   {
    "duration": 524,
    "start_time": "2022-08-03T04:18:45.370Z"
   },
   {
    "duration": 259,
    "start_time": "2022-08-03T04:18:45.896Z"
   },
   {
    "duration": 229,
    "start_time": "2022-08-03T04:18:46.156Z"
   },
   {
    "duration": 238,
    "start_time": "2022-08-03T04:18:46.387Z"
   },
   {
    "duration": 13,
    "start_time": "2022-08-03T04:18:46.626Z"
   },
   {
    "duration": 23,
    "start_time": "2022-08-03T04:18:46.641Z"
   },
   {
    "duration": 427,
    "start_time": "2022-08-03T04:18:46.667Z"
   },
   {
    "duration": 598,
    "start_time": "2022-08-03T04:18:47.096Z"
   },
   {
    "duration": 178,
    "start_time": "2022-08-03T04:18:47.696Z"
   },
   {
    "duration": 179,
    "start_time": "2022-08-03T04:18:47.875Z"
   },
   {
    "duration": 15,
    "start_time": "2022-08-03T04:18:48.055Z"
   },
   {
    "duration": 11,
    "start_time": "2022-08-03T04:18:48.071Z"
   },
   {
    "duration": 212,
    "start_time": "2022-08-03T04:18:48.083Z"
   },
   {
    "duration": 117,
    "start_time": "2022-08-03T04:18:48.296Z"
   },
   {
    "duration": 300,
    "start_time": "2022-08-03T04:18:48.414Z"
   },
   {
    "duration": 750,
    "start_time": "2022-08-03T04:18:48.715Z"
   },
   {
    "duration": 401,
    "start_time": "2022-08-03T04:18:49.466Z"
   },
   {
    "duration": 255,
    "start_time": "2022-08-03T04:18:49.869Z"
   },
   {
    "duration": 235,
    "start_time": "2022-08-03T04:18:50.125Z"
   },
   {
    "duration": 136,
    "start_time": "2022-08-03T04:18:50.362Z"
   },
   {
    "duration": 17302,
    "start_time": "2022-08-03T04:18:50.508Z"
   },
   {
    "duration": 596,
    "start_time": "2022-08-03T04:19:07.813Z"
   },
   {
    "duration": 100,
    "start_time": "2022-08-03T04:19:08.410Z"
   },
   {
    "duration": 15,
    "start_time": "2022-08-03T04:19:08.511Z"
   },
   {
    "duration": 8826,
    "start_time": "2022-08-03T04:19:08.527Z"
   },
   {
    "duration": 556,
    "start_time": "2022-08-03T04:19:17.354Z"
   },
   {
    "duration": 1676746,
    "start_time": "2022-08-03T04:19:17.913Z"
   },
   {
    "duration": 37630,
    "start_time": "2022-08-03T04:47:14.661Z"
   },
   {
    "duration": 139,
    "start_time": "2022-08-03T04:47:52.292Z"
   },
   {
    "duration": 19,
    "start_time": "2022-08-03T04:47:52.433Z"
   },
   {
    "duration": 66,
    "start_time": "2022-08-03T04:47:52.454Z"
   },
   {
    "duration": 0,
    "start_time": "2022-08-03T04:47:52.522Z"
   },
   {
    "duration": 0,
    "start_time": "2022-08-03T04:47:52.523Z"
   },
   {
    "duration": 0,
    "start_time": "2022-08-03T04:47:52.524Z"
   },
   {
    "duration": 0,
    "start_time": "2022-08-03T04:47:52.525Z"
   },
   {
    "duration": 0,
    "start_time": "2022-08-03T04:47:52.526Z"
   },
   {
    "duration": 0,
    "start_time": "2022-08-03T04:47:52.527Z"
   },
   {
    "duration": 0,
    "start_time": "2022-08-03T04:47:52.528Z"
   },
   {
    "duration": 0,
    "start_time": "2022-08-03T04:47:52.529Z"
   },
   {
    "duration": 0,
    "start_time": "2022-08-03T04:47:52.530Z"
   },
   {
    "duration": 0,
    "start_time": "2022-08-03T04:47:52.531Z"
   },
   {
    "duration": 0,
    "start_time": "2022-08-03T04:47:52.531Z"
   },
   {
    "duration": 0,
    "start_time": "2022-08-03T04:47:52.533Z"
   },
   {
    "duration": 0,
    "start_time": "2022-08-03T04:47:52.533Z"
   },
   {
    "duration": 0,
    "start_time": "2022-08-03T04:47:52.534Z"
   },
   {
    "duration": 0,
    "start_time": "2022-08-03T04:47:52.535Z"
   },
   {
    "duration": 169,
    "start_time": "2022-08-03T05:05:53.217Z"
   },
   {
    "duration": 767762,
    "start_time": "2022-08-03T05:05:56.249Z"
   },
   {
    "duration": 4708,
    "start_time": "2022-08-03T05:18:44.013Z"
   },
   {
    "duration": 1319505,
    "start_time": "2022-08-03T05:18:48.722Z"
   },
   {
    "duration": 8735,
    "start_time": "2022-08-03T05:40:48.229Z"
   },
   {
    "duration": 17,
    "start_time": "2022-08-03T05:40:56.966Z"
   },
   {
    "duration": 6,
    "start_time": "2022-08-03T05:40:56.985Z"
   },
   {
    "duration": 17526,
    "start_time": "2022-08-03T05:40:56.992Z"
   },
   {
    "duration": 569,
    "start_time": "2022-08-03T05:41:14.610Z"
   },
   {
    "duration": 39244,
    "start_time": "2022-08-03T05:41:15.181Z"
   },
   {
    "duration": 5093,
    "start_time": "2022-08-03T05:41:54.427Z"
   },
   {
    "duration": 8844,
    "start_time": "2022-08-03T05:41:59.523Z"
   },
   {
    "duration": 12,
    "start_time": "2022-08-03T05:42:08.368Z"
   },
   {
    "duration": 128,
    "start_time": "2022-08-03T05:42:08.382Z"
   },
   {
    "duration": 111,
    "start_time": "2022-08-03T05:42:08.512Z"
   },
   {
    "duration": 144,
    "start_time": "2022-08-03T05:42:08.625Z"
   }
  ],
  "kernelspec": {
   "display_name": "Python 3 (ipykernel)",
   "language": "python",
   "name": "python3"
  },
  "language_info": {
   "codemirror_mode": {
    "name": "ipython",
    "version": 3
   },
   "file_extension": ".py",
   "mimetype": "text/x-python",
   "name": "python",
   "nbconvert_exporter": "python",
   "pygments_lexer": "ipython3",
   "version": "3.9.7"
  },
  "toc": {
   "base_numbering": 1,
   "nav_menu": {},
   "number_sections": true,
   "sideBar": true,
   "skip_h1_title": true,
   "title_cell": "Table of Contents",
   "title_sidebar": "Contents",
   "toc_cell": false,
   "toc_position": {
    "height": "calc(100% - 180px)",
    "left": "10px",
    "top": "150px",
    "width": "165px"
   },
   "toc_section_display": true,
   "toc_window_display": true
  },
  "toc-autonumbering": true
 },
 "nbformat": 4,
 "nbformat_minor": 4
}
