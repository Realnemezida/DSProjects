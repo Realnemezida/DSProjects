{
 "cells": [
  {
   "cell_type": "markdown",
   "id": "fd972d86-2422-4140-801f-a68943f578a5",
   "metadata": {},
   "source": [
    "# Телеком — задача проекта\n",
    "\n",
    "Оператор связи «Ниединогоразрыва.ком» хочет научиться прогнозировать отток клиентов. Если выяснится, что пользователь планирует уйти, ему будут предложены промокоды и специальные условия. Команда оператора собрала персональные данные о некоторых клиентах, информацию об их тарифах и договорах.\n",
    "\n",
    "### Описание услуг\n",
    "\n",
    "Оператор предоставляет два основных типа услуг: \n",
    "\n",
    "1. Стационарную телефонную связь. Возможно подключение телефонного аппарата к нескольким линиям одновременно.\n",
    "2. Интернет. Подключение может быть двух типов: через телефонную линию (DSL*,* от англ. *digital subscriber line*, «цифровая абонентская линия») или оптоволоконный кабель (*Fiber optic*).  \n",
    "\n",
    "Также доступны такие услуги:\n",
    "\n",
    "- Интернет-безопасность: антивирус (*DeviceProtection*) и блокировка небезопасных сайтов (*OnlineSecurity*);\n",
    "- Выделенная линия технической поддержки (*TechSupport*);\n",
    "- Облачное хранилище файлов для резервного копирования данных (*OnlineBackup*);\n",
    "- Стриминговое телевидение (*StreamingTV*) и каталог фильмов (*StreamingMovies*).\n",
    "\n",
    "За услуги клиенты могут платить каждый месяц или заключить договор на 1–2 года. Доступны различные способы расчёта и возможность получения электронного чека.\n",
    "\n",
    "### Описание данных\n",
    "\n",
    "Данные состоят из файлов, полученных из разных источников:\n",
    "\n",
    "- `contract.csv` — информация о договоре;\n",
    "- `personal.csv` — персональные данные клиента;\n",
    "- `internet.csv` — информация об интернет-услугах;\n",
    "- `phone.csv` — информация об услугах телефонии.\n",
    "\n",
    "Во всех файлах столбец `customerID` содержит код клиента.\n",
    "\n",
    "Информация о договорах актуальна на 1 февраля 2020."
   ]
  },
  {
   "cell_type": "code",
   "execution_count": 1,
   "id": "359aaae4-df9b-42e2-a471-ea18b31cda40",
   "metadata": {},
   "outputs": [],
   "source": [
    "import pandas as pd\n",
    "import numpy as np\n",
    "import matplotlib.pyplot as plt\n",
    "import seaborn as sns\n",
    "\n",
    "from sklearn.compose import ColumnTransformer\n",
    "from sklearn.ensemble import RandomForestClassifier\n",
    "from sklearn.feature_extraction import DictVectorizer\n",
    "from sklearn.linear_model import LogisticRegression\n",
    "from sklearn.linear_model import RidgeClassifier\n",
    "from sklearn.model_selection import RandomizedSearchCV\n",
    "from sklearn.model_selection import train_test_split\n",
    "from sklearn.metrics import confusion_matrix, ConfusionMatrixDisplay\n",
    "from sklearn.metrics import precision_score, accuracy_score, f1_score\n",
    "from sklearn.metrics import roc_curve\n",
    "from sklearn.metrics import roc_auc_score\n",
    "from sklearn.model_selection import cross_val_score\n",
    "from sklearn.model_selection import GridSearchCV\n",
    "from sklearn.pipeline import make_pipeline\n",
    "from sklearn.preprocessing import StandardScaler\n",
    "from sklearn.preprocessing import OneHotEncoder\n",
    "from sklearn.preprocessing import FunctionTransformer\n",
    "from sklearn.tree import DecisionTreeClassifier\n",
    "\n",
    "from catboost import CatBoostClassifier\n",
    "\n",
    "import warnings\n",
    "warnings.filterwarnings('ignore', category=FutureWarning) "
   ]
  },
  {
   "cell_type": "markdown",
   "id": "6b4e1556-6063-4ce7-a636-695a033f7087",
   "metadata": {},
   "source": [
    "## Подготовка данных"
   ]
  },
  {
   "cell_type": "code",
   "execution_count": 2,
   "id": "61e5df7c-44fd-439e-8775-f6ba14cf9d7a",
   "metadata": {},
   "outputs": [],
   "source": [
    "try: # чтение файлов с сайта\n",
    "    contract = pd.read_csv('/datasets/final_provider/contract.csv')\n",
    "    internet = pd.read_csv('/datasets/final_provider/internet.csv')\n",
    "    personal = pd.read_csv('/datasets/final_provider/personal.csv')\n",
    "    phone = pd.read_csv('/datasets/final_provider/phone.csv')\n",
    "except: # чтение файлов локально\n",
    "    contract = pd.read_csv('datasets\\\\final_provider\\\\contract.csv')\n",
    "    internet = pd.read_csv('datasets\\\\final_provider\\\\internet.csv')\n",
    "    personal = pd.read_csv('datasets\\\\final_provider\\\\personal.csv')\n",
    "    phone = pd.read_csv('datasets\\\\final_provider\\\\phone.csv')"
   ]
  },
  {
   "cell_type": "markdown",
   "id": "baf6b18d-417d-4923-9fe5-c92f783cdd44",
   "metadata": {},
   "source": [
    "Зададим константы проекта:"
   ]
  },
  {
   "cell_type": "code",
   "execution_count": 3,
   "id": "e4d92ce2-9914-4e60-aa70-75463d9b8ac6",
   "metadata": {},
   "outputs": [],
   "source": [
    "DATE = pd.to_datetime('2020-02-01') # дата выгрузки базы данных\n",
    "RANDOM_STATE = 171022"
   ]
  },
  {
   "cell_type": "markdown",
   "id": "c1e7bc14-8960-4599-9073-59f003f49a94",
   "metadata": {},
   "source": [
    "### Обзор данных"
   ]
  },
  {
   "cell_type": "code",
   "execution_count": 4,
   "id": "43ece05d",
   "metadata": {},
   "outputs": [],
   "source": [
    "# функция для обзора дотафрейма\n",
    "def review_df(df):    \n",
    "    display(df.head())\n",
    "    print('--------------------------------------')\n",
    "    print('Размер:')\n",
    "    print(df.shape)\n",
    "    print('--------------------------------------')\n",
    "    print('Информация:')\n",
    "    print(df.info())\n",
    "    print('--------------------------------------')\n",
    "    print('Дубликаты:')\n",
    "    print(df.duplicated().sum())\n",
    "    print('--------------------------------------')\n",
    "    print('Пропуски:')\n",
    "    print(df.isna().sum())\n",
    "    print('--------------------------------------')\n",
    "    print('Описание данных:')\n",
    "    display(df.describe(include='all'))"
   ]
  },
  {
   "cell_type": "markdown",
   "id": "448c5d30-5541-4987-81b5-92b58c2f018e",
   "metadata": {},
   "source": [
    "Посмотрим первую таблицу - contract"
   ]
  },
  {
   "cell_type": "code",
   "execution_count": 5,
   "id": "8772d9f0-b5d8-4781-8a1a-a46739a0dc4d",
   "metadata": {
    "tags": []
   },
   "outputs": [
    {
     "data": {
      "text/html": [
       "<div>\n",
       "<style scoped>\n",
       "    .dataframe tbody tr th:only-of-type {\n",
       "        vertical-align: middle;\n",
       "    }\n",
       "\n",
       "    .dataframe tbody tr th {\n",
       "        vertical-align: top;\n",
       "    }\n",
       "\n",
       "    .dataframe thead th {\n",
       "        text-align: right;\n",
       "    }\n",
       "</style>\n",
       "<table border=\"1\" class=\"dataframe\">\n",
       "  <thead>\n",
       "    <tr style=\"text-align: right;\">\n",
       "      <th></th>\n",
       "      <th>customerID</th>\n",
       "      <th>BeginDate</th>\n",
       "      <th>EndDate</th>\n",
       "      <th>Type</th>\n",
       "      <th>PaperlessBilling</th>\n",
       "      <th>PaymentMethod</th>\n",
       "      <th>MonthlyCharges</th>\n",
       "      <th>TotalCharges</th>\n",
       "    </tr>\n",
       "  </thead>\n",
       "  <tbody>\n",
       "    <tr>\n",
       "      <th>0</th>\n",
       "      <td>7590-VHVEG</td>\n",
       "      <td>2020-01-01</td>\n",
       "      <td>No</td>\n",
       "      <td>Month-to-month</td>\n",
       "      <td>Yes</td>\n",
       "      <td>Electronic check</td>\n",
       "      <td>29.85</td>\n",
       "      <td>29.85</td>\n",
       "    </tr>\n",
       "    <tr>\n",
       "      <th>1</th>\n",
       "      <td>5575-GNVDE</td>\n",
       "      <td>2017-04-01</td>\n",
       "      <td>No</td>\n",
       "      <td>One year</td>\n",
       "      <td>No</td>\n",
       "      <td>Mailed check</td>\n",
       "      <td>56.95</td>\n",
       "      <td>1889.5</td>\n",
       "    </tr>\n",
       "    <tr>\n",
       "      <th>2</th>\n",
       "      <td>3668-QPYBK</td>\n",
       "      <td>2019-10-01</td>\n",
       "      <td>2019-12-01 00:00:00</td>\n",
       "      <td>Month-to-month</td>\n",
       "      <td>Yes</td>\n",
       "      <td>Mailed check</td>\n",
       "      <td>53.85</td>\n",
       "      <td>108.15</td>\n",
       "    </tr>\n",
       "    <tr>\n",
       "      <th>3</th>\n",
       "      <td>7795-CFOCW</td>\n",
       "      <td>2016-05-01</td>\n",
       "      <td>No</td>\n",
       "      <td>One year</td>\n",
       "      <td>No</td>\n",
       "      <td>Bank transfer (automatic)</td>\n",
       "      <td>42.30</td>\n",
       "      <td>1840.75</td>\n",
       "    </tr>\n",
       "    <tr>\n",
       "      <th>4</th>\n",
       "      <td>9237-HQITU</td>\n",
       "      <td>2019-09-01</td>\n",
       "      <td>2019-11-01 00:00:00</td>\n",
       "      <td>Month-to-month</td>\n",
       "      <td>Yes</td>\n",
       "      <td>Electronic check</td>\n",
       "      <td>70.70</td>\n",
       "      <td>151.65</td>\n",
       "    </tr>\n",
       "  </tbody>\n",
       "</table>\n",
       "</div>"
      ],
      "text/plain": [
       "   customerID   BeginDate              EndDate            Type  \\\n",
       "0  7590-VHVEG  2020-01-01                   No  Month-to-month   \n",
       "1  5575-GNVDE  2017-04-01                   No        One year   \n",
       "2  3668-QPYBK  2019-10-01  2019-12-01 00:00:00  Month-to-month   \n",
       "3  7795-CFOCW  2016-05-01                   No        One year   \n",
       "4  9237-HQITU  2019-09-01  2019-11-01 00:00:00  Month-to-month   \n",
       "\n",
       "  PaperlessBilling              PaymentMethod  MonthlyCharges TotalCharges  \n",
       "0              Yes           Electronic check           29.85        29.85  \n",
       "1               No               Mailed check           56.95       1889.5  \n",
       "2              Yes               Mailed check           53.85       108.15  \n",
       "3               No  Bank transfer (automatic)           42.30      1840.75  \n",
       "4              Yes           Electronic check           70.70       151.65  "
      ]
     },
     "metadata": {},
     "output_type": "display_data"
    },
    {
     "name": "stdout",
     "output_type": "stream",
     "text": [
      "--------------------------------------\n",
      "Размер:\n",
      "(7043, 8)\n",
      "--------------------------------------\n",
      "Информация:\n",
      "<class 'pandas.core.frame.DataFrame'>\n",
      "RangeIndex: 7043 entries, 0 to 7042\n",
      "Data columns (total 8 columns):\n",
      " #   Column            Non-Null Count  Dtype  \n",
      "---  ------            --------------  -----  \n",
      " 0   customerID        7043 non-null   object \n",
      " 1   BeginDate         7043 non-null   object \n",
      " 2   EndDate           7043 non-null   object \n",
      " 3   Type              7043 non-null   object \n",
      " 4   PaperlessBilling  7043 non-null   object \n",
      " 5   PaymentMethod     7043 non-null   object \n",
      " 6   MonthlyCharges    7043 non-null   float64\n",
      " 7   TotalCharges      7043 non-null   object \n",
      "dtypes: float64(1), object(7)\n",
      "memory usage: 440.3+ KB\n",
      "None\n",
      "--------------------------------------\n",
      "Дубликаты:\n",
      "0\n",
      "--------------------------------------\n",
      "Пропуски:\n",
      "customerID          0\n",
      "BeginDate           0\n",
      "EndDate             0\n",
      "Type                0\n",
      "PaperlessBilling    0\n",
      "PaymentMethod       0\n",
      "MonthlyCharges      0\n",
      "TotalCharges        0\n",
      "dtype: int64\n",
      "--------------------------------------\n",
      "Описание данных:\n"
     ]
    },
    {
     "data": {
      "text/html": [
       "<div>\n",
       "<style scoped>\n",
       "    .dataframe tbody tr th:only-of-type {\n",
       "        vertical-align: middle;\n",
       "    }\n",
       "\n",
       "    .dataframe tbody tr th {\n",
       "        vertical-align: top;\n",
       "    }\n",
       "\n",
       "    .dataframe thead th {\n",
       "        text-align: right;\n",
       "    }\n",
       "</style>\n",
       "<table border=\"1\" class=\"dataframe\">\n",
       "  <thead>\n",
       "    <tr style=\"text-align: right;\">\n",
       "      <th></th>\n",
       "      <th>customerID</th>\n",
       "      <th>BeginDate</th>\n",
       "      <th>EndDate</th>\n",
       "      <th>Type</th>\n",
       "      <th>PaperlessBilling</th>\n",
       "      <th>PaymentMethod</th>\n",
       "      <th>MonthlyCharges</th>\n",
       "      <th>TotalCharges</th>\n",
       "    </tr>\n",
       "  </thead>\n",
       "  <tbody>\n",
       "    <tr>\n",
       "      <th>count</th>\n",
       "      <td>7043</td>\n",
       "      <td>7043</td>\n",
       "      <td>7043</td>\n",
       "      <td>7043</td>\n",
       "      <td>7043</td>\n",
       "      <td>7043</td>\n",
       "      <td>7043.000000</td>\n",
       "      <td>7043</td>\n",
       "    </tr>\n",
       "    <tr>\n",
       "      <th>unique</th>\n",
       "      <td>7043</td>\n",
       "      <td>77</td>\n",
       "      <td>5</td>\n",
       "      <td>3</td>\n",
       "      <td>2</td>\n",
       "      <td>4</td>\n",
       "      <td>NaN</td>\n",
       "      <td>6531</td>\n",
       "    </tr>\n",
       "    <tr>\n",
       "      <th>top</th>\n",
       "      <td>9929-PLVPA</td>\n",
       "      <td>2014-02-01</td>\n",
       "      <td>No</td>\n",
       "      <td>Month-to-month</td>\n",
       "      <td>Yes</td>\n",
       "      <td>Electronic check</td>\n",
       "      <td>NaN</td>\n",
       "      <td></td>\n",
       "    </tr>\n",
       "    <tr>\n",
       "      <th>freq</th>\n",
       "      <td>1</td>\n",
       "      <td>366</td>\n",
       "      <td>5174</td>\n",
       "      <td>3875</td>\n",
       "      <td>4171</td>\n",
       "      <td>2365</td>\n",
       "      <td>NaN</td>\n",
       "      <td>11</td>\n",
       "    </tr>\n",
       "    <tr>\n",
       "      <th>mean</th>\n",
       "      <td>NaN</td>\n",
       "      <td>NaN</td>\n",
       "      <td>NaN</td>\n",
       "      <td>NaN</td>\n",
       "      <td>NaN</td>\n",
       "      <td>NaN</td>\n",
       "      <td>64.761692</td>\n",
       "      <td>NaN</td>\n",
       "    </tr>\n",
       "    <tr>\n",
       "      <th>std</th>\n",
       "      <td>NaN</td>\n",
       "      <td>NaN</td>\n",
       "      <td>NaN</td>\n",
       "      <td>NaN</td>\n",
       "      <td>NaN</td>\n",
       "      <td>NaN</td>\n",
       "      <td>30.090047</td>\n",
       "      <td>NaN</td>\n",
       "    </tr>\n",
       "    <tr>\n",
       "      <th>min</th>\n",
       "      <td>NaN</td>\n",
       "      <td>NaN</td>\n",
       "      <td>NaN</td>\n",
       "      <td>NaN</td>\n",
       "      <td>NaN</td>\n",
       "      <td>NaN</td>\n",
       "      <td>18.250000</td>\n",
       "      <td>NaN</td>\n",
       "    </tr>\n",
       "    <tr>\n",
       "      <th>25%</th>\n",
       "      <td>NaN</td>\n",
       "      <td>NaN</td>\n",
       "      <td>NaN</td>\n",
       "      <td>NaN</td>\n",
       "      <td>NaN</td>\n",
       "      <td>NaN</td>\n",
       "      <td>35.500000</td>\n",
       "      <td>NaN</td>\n",
       "    </tr>\n",
       "    <tr>\n",
       "      <th>50%</th>\n",
       "      <td>NaN</td>\n",
       "      <td>NaN</td>\n",
       "      <td>NaN</td>\n",
       "      <td>NaN</td>\n",
       "      <td>NaN</td>\n",
       "      <td>NaN</td>\n",
       "      <td>70.350000</td>\n",
       "      <td>NaN</td>\n",
       "    </tr>\n",
       "    <tr>\n",
       "      <th>75%</th>\n",
       "      <td>NaN</td>\n",
       "      <td>NaN</td>\n",
       "      <td>NaN</td>\n",
       "      <td>NaN</td>\n",
       "      <td>NaN</td>\n",
       "      <td>NaN</td>\n",
       "      <td>89.850000</td>\n",
       "      <td>NaN</td>\n",
       "    </tr>\n",
       "    <tr>\n",
       "      <th>max</th>\n",
       "      <td>NaN</td>\n",
       "      <td>NaN</td>\n",
       "      <td>NaN</td>\n",
       "      <td>NaN</td>\n",
       "      <td>NaN</td>\n",
       "      <td>NaN</td>\n",
       "      <td>118.750000</td>\n",
       "      <td>NaN</td>\n",
       "    </tr>\n",
       "  </tbody>\n",
       "</table>\n",
       "</div>"
      ],
      "text/plain": [
       "        customerID   BeginDate EndDate            Type PaperlessBilling  \\\n",
       "count         7043        7043    7043            7043             7043   \n",
       "unique        7043          77       5               3                2   \n",
       "top     9929-PLVPA  2014-02-01      No  Month-to-month              Yes   \n",
       "freq             1         366    5174            3875             4171   \n",
       "mean           NaN         NaN     NaN             NaN              NaN   \n",
       "std            NaN         NaN     NaN             NaN              NaN   \n",
       "min            NaN         NaN     NaN             NaN              NaN   \n",
       "25%            NaN         NaN     NaN             NaN              NaN   \n",
       "50%            NaN         NaN     NaN             NaN              NaN   \n",
       "75%            NaN         NaN     NaN             NaN              NaN   \n",
       "max            NaN         NaN     NaN             NaN              NaN   \n",
       "\n",
       "           PaymentMethod  MonthlyCharges TotalCharges  \n",
       "count               7043     7043.000000         7043  \n",
       "unique                 4             NaN         6531  \n",
       "top     Electronic check             NaN               \n",
       "freq                2365             NaN           11  \n",
       "mean                 NaN       64.761692          NaN  \n",
       "std                  NaN       30.090047          NaN  \n",
       "min                  NaN       18.250000          NaN  \n",
       "25%                  NaN       35.500000          NaN  \n",
       "50%                  NaN       70.350000          NaN  \n",
       "75%                  NaN       89.850000          NaN  \n",
       "max                  NaN      118.750000          NaN  "
      ]
     },
     "metadata": {},
     "output_type": "display_data"
    }
   ],
   "source": [
    "review_df(contract)"
   ]
  },
  {
   "cell_type": "markdown",
   "id": "e060ca27-8ec6-47d5-9e88-2bc2d28887a7",
   "metadata": {},
   "source": [
    "Пропусков нет, дубликатов нет, некоторые столбцы содержат данные не оптимальных типов."
   ]
  },
  {
   "cell_type": "markdown",
   "id": "11deddd1-2429-479b-a9ac-a17b6cc6c243",
   "metadata": {},
   "source": [
    "Названия столбцов заменим на 'змеиный регистр'."
   ]
  },
  {
   "cell_type": "code",
   "execution_count": 6,
   "id": "51022d9e-1027-400c-a24d-b05cba76e357",
   "metadata": {},
   "outputs": [
    {
     "data": {
      "text/plain": [
       "Index(['customer_id', 'begin_date', 'end_date', 'type', 'paperless_billing',\n",
       "       'payment_method', 'monthly_charges', 'total_charges'],\n",
       "      dtype='object')"
      ]
     },
     "execution_count": 6,
     "metadata": {},
     "output_type": "execute_result"
    }
   ],
   "source": [
    "contract.columns = contract.columns.str.replace(r\"([a-z])([A-Z])\", r\"\\1 \\2\").str.lower().str.replace(' ', '_')\n",
    "contract.columns # проверка"
   ]
  },
  {
   "cell_type": "markdown",
   "id": "0e82bc1e-dbea-4c16-a46d-1cbd21e9b950",
   "metadata": {},
   "source": [
    "Всё стало красиво."
   ]
  },
  {
   "cell_type": "markdown",
   "id": "1d717b4b-ef7b-4daa-a09a-b903bfa5f6f9",
   "metadata": {},
   "source": [
    "Посмотрим таблицу с данными клиентов personal"
   ]
  },
  {
   "cell_type": "code",
   "execution_count": 7,
   "id": "0452afd1-1334-4932-86c8-390626138a0e",
   "metadata": {
    "tags": []
   },
   "outputs": [
    {
     "data": {
      "text/html": [
       "<div>\n",
       "<style scoped>\n",
       "    .dataframe tbody tr th:only-of-type {\n",
       "        vertical-align: middle;\n",
       "    }\n",
       "\n",
       "    .dataframe tbody tr th {\n",
       "        vertical-align: top;\n",
       "    }\n",
       "\n",
       "    .dataframe thead th {\n",
       "        text-align: right;\n",
       "    }\n",
       "</style>\n",
       "<table border=\"1\" class=\"dataframe\">\n",
       "  <thead>\n",
       "    <tr style=\"text-align: right;\">\n",
       "      <th></th>\n",
       "      <th>customerID</th>\n",
       "      <th>gender</th>\n",
       "      <th>SeniorCitizen</th>\n",
       "      <th>Partner</th>\n",
       "      <th>Dependents</th>\n",
       "    </tr>\n",
       "  </thead>\n",
       "  <tbody>\n",
       "    <tr>\n",
       "      <th>0</th>\n",
       "      <td>7590-VHVEG</td>\n",
       "      <td>Female</td>\n",
       "      <td>0</td>\n",
       "      <td>Yes</td>\n",
       "      <td>No</td>\n",
       "    </tr>\n",
       "    <tr>\n",
       "      <th>1</th>\n",
       "      <td>5575-GNVDE</td>\n",
       "      <td>Male</td>\n",
       "      <td>0</td>\n",
       "      <td>No</td>\n",
       "      <td>No</td>\n",
       "    </tr>\n",
       "    <tr>\n",
       "      <th>2</th>\n",
       "      <td>3668-QPYBK</td>\n",
       "      <td>Male</td>\n",
       "      <td>0</td>\n",
       "      <td>No</td>\n",
       "      <td>No</td>\n",
       "    </tr>\n",
       "    <tr>\n",
       "      <th>3</th>\n",
       "      <td>7795-CFOCW</td>\n",
       "      <td>Male</td>\n",
       "      <td>0</td>\n",
       "      <td>No</td>\n",
       "      <td>No</td>\n",
       "    </tr>\n",
       "    <tr>\n",
       "      <th>4</th>\n",
       "      <td>9237-HQITU</td>\n",
       "      <td>Female</td>\n",
       "      <td>0</td>\n",
       "      <td>No</td>\n",
       "      <td>No</td>\n",
       "    </tr>\n",
       "  </tbody>\n",
       "</table>\n",
       "</div>"
      ],
      "text/plain": [
       "   customerID  gender  SeniorCitizen Partner Dependents\n",
       "0  7590-VHVEG  Female              0     Yes         No\n",
       "1  5575-GNVDE    Male              0      No         No\n",
       "2  3668-QPYBK    Male              0      No         No\n",
       "3  7795-CFOCW    Male              0      No         No\n",
       "4  9237-HQITU  Female              0      No         No"
      ]
     },
     "metadata": {},
     "output_type": "display_data"
    },
    {
     "name": "stdout",
     "output_type": "stream",
     "text": [
      "--------------------------------------\n",
      "Размер:\n",
      "(7043, 5)\n",
      "--------------------------------------\n",
      "Информация:\n",
      "<class 'pandas.core.frame.DataFrame'>\n",
      "RangeIndex: 7043 entries, 0 to 7042\n",
      "Data columns (total 5 columns):\n",
      " #   Column         Non-Null Count  Dtype \n",
      "---  ------         --------------  ----- \n",
      " 0   customerID     7043 non-null   object\n",
      " 1   gender         7043 non-null   object\n",
      " 2   SeniorCitizen  7043 non-null   int64 \n",
      " 3   Partner        7043 non-null   object\n",
      " 4   Dependents     7043 non-null   object\n",
      "dtypes: int64(1), object(4)\n",
      "memory usage: 275.2+ KB\n",
      "None\n",
      "--------------------------------------\n",
      "Дубликаты:\n",
      "0\n",
      "--------------------------------------\n",
      "Пропуски:\n",
      "customerID       0\n",
      "gender           0\n",
      "SeniorCitizen    0\n",
      "Partner          0\n",
      "Dependents       0\n",
      "dtype: int64\n",
      "--------------------------------------\n",
      "Описание данных:\n"
     ]
    },
    {
     "data": {
      "text/html": [
       "<div>\n",
       "<style scoped>\n",
       "    .dataframe tbody tr th:only-of-type {\n",
       "        vertical-align: middle;\n",
       "    }\n",
       "\n",
       "    .dataframe tbody tr th {\n",
       "        vertical-align: top;\n",
       "    }\n",
       "\n",
       "    .dataframe thead th {\n",
       "        text-align: right;\n",
       "    }\n",
       "</style>\n",
       "<table border=\"1\" class=\"dataframe\">\n",
       "  <thead>\n",
       "    <tr style=\"text-align: right;\">\n",
       "      <th></th>\n",
       "      <th>customerID</th>\n",
       "      <th>gender</th>\n",
       "      <th>SeniorCitizen</th>\n",
       "      <th>Partner</th>\n",
       "      <th>Dependents</th>\n",
       "    </tr>\n",
       "  </thead>\n",
       "  <tbody>\n",
       "    <tr>\n",
       "      <th>count</th>\n",
       "      <td>7043</td>\n",
       "      <td>7043</td>\n",
       "      <td>7043.000000</td>\n",
       "      <td>7043</td>\n",
       "      <td>7043</td>\n",
       "    </tr>\n",
       "    <tr>\n",
       "      <th>unique</th>\n",
       "      <td>7043</td>\n",
       "      <td>2</td>\n",
       "      <td>NaN</td>\n",
       "      <td>2</td>\n",
       "      <td>2</td>\n",
       "    </tr>\n",
       "    <tr>\n",
       "      <th>top</th>\n",
       "      <td>9929-PLVPA</td>\n",
       "      <td>Male</td>\n",
       "      <td>NaN</td>\n",
       "      <td>No</td>\n",
       "      <td>No</td>\n",
       "    </tr>\n",
       "    <tr>\n",
       "      <th>freq</th>\n",
       "      <td>1</td>\n",
       "      <td>3555</td>\n",
       "      <td>NaN</td>\n",
       "      <td>3641</td>\n",
       "      <td>4933</td>\n",
       "    </tr>\n",
       "    <tr>\n",
       "      <th>mean</th>\n",
       "      <td>NaN</td>\n",
       "      <td>NaN</td>\n",
       "      <td>0.162147</td>\n",
       "      <td>NaN</td>\n",
       "      <td>NaN</td>\n",
       "    </tr>\n",
       "    <tr>\n",
       "      <th>std</th>\n",
       "      <td>NaN</td>\n",
       "      <td>NaN</td>\n",
       "      <td>0.368612</td>\n",
       "      <td>NaN</td>\n",
       "      <td>NaN</td>\n",
       "    </tr>\n",
       "    <tr>\n",
       "      <th>min</th>\n",
       "      <td>NaN</td>\n",
       "      <td>NaN</td>\n",
       "      <td>0.000000</td>\n",
       "      <td>NaN</td>\n",
       "      <td>NaN</td>\n",
       "    </tr>\n",
       "    <tr>\n",
       "      <th>25%</th>\n",
       "      <td>NaN</td>\n",
       "      <td>NaN</td>\n",
       "      <td>0.000000</td>\n",
       "      <td>NaN</td>\n",
       "      <td>NaN</td>\n",
       "    </tr>\n",
       "    <tr>\n",
       "      <th>50%</th>\n",
       "      <td>NaN</td>\n",
       "      <td>NaN</td>\n",
       "      <td>0.000000</td>\n",
       "      <td>NaN</td>\n",
       "      <td>NaN</td>\n",
       "    </tr>\n",
       "    <tr>\n",
       "      <th>75%</th>\n",
       "      <td>NaN</td>\n",
       "      <td>NaN</td>\n",
       "      <td>0.000000</td>\n",
       "      <td>NaN</td>\n",
       "      <td>NaN</td>\n",
       "    </tr>\n",
       "    <tr>\n",
       "      <th>max</th>\n",
       "      <td>NaN</td>\n",
       "      <td>NaN</td>\n",
       "      <td>1.000000</td>\n",
       "      <td>NaN</td>\n",
       "      <td>NaN</td>\n",
       "    </tr>\n",
       "  </tbody>\n",
       "</table>\n",
       "</div>"
      ],
      "text/plain": [
       "        customerID gender  SeniorCitizen Partner Dependents\n",
       "count         7043   7043    7043.000000    7043       7043\n",
       "unique        7043      2            NaN       2          2\n",
       "top     9929-PLVPA   Male            NaN      No         No\n",
       "freq             1   3555            NaN    3641       4933\n",
       "mean           NaN    NaN       0.162147     NaN        NaN\n",
       "std            NaN    NaN       0.368612     NaN        NaN\n",
       "min            NaN    NaN       0.000000     NaN        NaN\n",
       "25%            NaN    NaN       0.000000     NaN        NaN\n",
       "50%            NaN    NaN       0.000000     NaN        NaN\n",
       "75%            NaN    NaN       0.000000     NaN        NaN\n",
       "max            NaN    NaN       1.000000     NaN        NaN"
      ]
     },
     "metadata": {},
     "output_type": "display_data"
    }
   ],
   "source": [
    "review_df(personal)"
   ]
  },
  {
   "cell_type": "markdown",
   "id": "4def5b72-d967-454f-b82b-fb28e9d795ec",
   "metadata": {},
   "source": [
    "Пропусков нет, дубликатов нет, типы данных с некоторых столбцах не оптимальные. Количество строк совпадает с предыдущим датасетом.\n"
   ]
  },
  {
   "cell_type": "markdown",
   "id": "c0a21013-74d8-44f1-a92a-95418ba216a4",
   "metadata": {},
   "source": [
    "Названия столбцов заменим на 'змеиный регистр'."
   ]
  },
  {
   "cell_type": "code",
   "execution_count": 8,
   "id": "2572f6af-3327-42bc-b8a8-b5beb809ce3f",
   "metadata": {},
   "outputs": [
    {
     "data": {
      "text/plain": [
       "Index(['customer_id', 'gender', 'senior_citizen', 'partner', 'dependents'], dtype='object')"
      ]
     },
     "execution_count": 8,
     "metadata": {},
     "output_type": "execute_result"
    }
   ],
   "source": [
    "personal.columns = personal.columns.str.replace(r\"([a-z])([A-Z])\", r\"\\1 \\2\").str.lower().str.replace(' ', '_')\n",
    "personal.columns # проверка"
   ]
  },
  {
   "cell_type": "markdown",
   "id": "6c8c4113-474b-4ad3-ae9e-766dab82aabd",
   "metadata": {},
   "source": [
    "Посмотрим таблицу internet"
   ]
  },
  {
   "cell_type": "code",
   "execution_count": 9,
   "id": "842fe51a-7402-4614-829d-b956d5d23786",
   "metadata": {
    "tags": []
   },
   "outputs": [
    {
     "data": {
      "text/html": [
       "<div>\n",
       "<style scoped>\n",
       "    .dataframe tbody tr th:only-of-type {\n",
       "        vertical-align: middle;\n",
       "    }\n",
       "\n",
       "    .dataframe tbody tr th {\n",
       "        vertical-align: top;\n",
       "    }\n",
       "\n",
       "    .dataframe thead th {\n",
       "        text-align: right;\n",
       "    }\n",
       "</style>\n",
       "<table border=\"1\" class=\"dataframe\">\n",
       "  <thead>\n",
       "    <tr style=\"text-align: right;\">\n",
       "      <th></th>\n",
       "      <th>customerID</th>\n",
       "      <th>InternetService</th>\n",
       "      <th>OnlineSecurity</th>\n",
       "      <th>OnlineBackup</th>\n",
       "      <th>DeviceProtection</th>\n",
       "      <th>TechSupport</th>\n",
       "      <th>StreamingTV</th>\n",
       "      <th>StreamingMovies</th>\n",
       "    </tr>\n",
       "  </thead>\n",
       "  <tbody>\n",
       "    <tr>\n",
       "      <th>0</th>\n",
       "      <td>7590-VHVEG</td>\n",
       "      <td>DSL</td>\n",
       "      <td>No</td>\n",
       "      <td>Yes</td>\n",
       "      <td>No</td>\n",
       "      <td>No</td>\n",
       "      <td>No</td>\n",
       "      <td>No</td>\n",
       "    </tr>\n",
       "    <tr>\n",
       "      <th>1</th>\n",
       "      <td>5575-GNVDE</td>\n",
       "      <td>DSL</td>\n",
       "      <td>Yes</td>\n",
       "      <td>No</td>\n",
       "      <td>Yes</td>\n",
       "      <td>No</td>\n",
       "      <td>No</td>\n",
       "      <td>No</td>\n",
       "    </tr>\n",
       "    <tr>\n",
       "      <th>2</th>\n",
       "      <td>3668-QPYBK</td>\n",
       "      <td>DSL</td>\n",
       "      <td>Yes</td>\n",
       "      <td>Yes</td>\n",
       "      <td>No</td>\n",
       "      <td>No</td>\n",
       "      <td>No</td>\n",
       "      <td>No</td>\n",
       "    </tr>\n",
       "    <tr>\n",
       "      <th>3</th>\n",
       "      <td>7795-CFOCW</td>\n",
       "      <td>DSL</td>\n",
       "      <td>Yes</td>\n",
       "      <td>No</td>\n",
       "      <td>Yes</td>\n",
       "      <td>Yes</td>\n",
       "      <td>No</td>\n",
       "      <td>No</td>\n",
       "    </tr>\n",
       "    <tr>\n",
       "      <th>4</th>\n",
       "      <td>9237-HQITU</td>\n",
       "      <td>Fiber optic</td>\n",
       "      <td>No</td>\n",
       "      <td>No</td>\n",
       "      <td>No</td>\n",
       "      <td>No</td>\n",
       "      <td>No</td>\n",
       "      <td>No</td>\n",
       "    </tr>\n",
       "  </tbody>\n",
       "</table>\n",
       "</div>"
      ],
      "text/plain": [
       "   customerID InternetService OnlineSecurity OnlineBackup DeviceProtection  \\\n",
       "0  7590-VHVEG             DSL             No          Yes               No   \n",
       "1  5575-GNVDE             DSL            Yes           No              Yes   \n",
       "2  3668-QPYBK             DSL            Yes          Yes               No   \n",
       "3  7795-CFOCW             DSL            Yes           No              Yes   \n",
       "4  9237-HQITU     Fiber optic             No           No               No   \n",
       "\n",
       "  TechSupport StreamingTV StreamingMovies  \n",
       "0          No          No              No  \n",
       "1          No          No              No  \n",
       "2          No          No              No  \n",
       "3         Yes          No              No  \n",
       "4          No          No              No  "
      ]
     },
     "metadata": {},
     "output_type": "display_data"
    },
    {
     "name": "stdout",
     "output_type": "stream",
     "text": [
      "--------------------------------------\n",
      "Размер:\n",
      "(5517, 8)\n",
      "--------------------------------------\n",
      "Информация:\n",
      "<class 'pandas.core.frame.DataFrame'>\n",
      "RangeIndex: 5517 entries, 0 to 5516\n",
      "Data columns (total 8 columns):\n",
      " #   Column            Non-Null Count  Dtype \n",
      "---  ------            --------------  ----- \n",
      " 0   customerID        5517 non-null   object\n",
      " 1   InternetService   5517 non-null   object\n",
      " 2   OnlineSecurity    5517 non-null   object\n",
      " 3   OnlineBackup      5517 non-null   object\n",
      " 4   DeviceProtection  5517 non-null   object\n",
      " 5   TechSupport       5517 non-null   object\n",
      " 6   StreamingTV       5517 non-null   object\n",
      " 7   StreamingMovies   5517 non-null   object\n",
      "dtypes: object(8)\n",
      "memory usage: 344.9+ KB\n",
      "None\n",
      "--------------------------------------\n",
      "Дубликаты:\n",
      "0\n",
      "--------------------------------------\n",
      "Пропуски:\n",
      "customerID          0\n",
      "InternetService     0\n",
      "OnlineSecurity      0\n",
      "OnlineBackup        0\n",
      "DeviceProtection    0\n",
      "TechSupport         0\n",
      "StreamingTV         0\n",
      "StreamingMovies     0\n",
      "dtype: int64\n",
      "--------------------------------------\n",
      "Описание данных:\n"
     ]
    },
    {
     "data": {
      "text/html": [
       "<div>\n",
       "<style scoped>\n",
       "    .dataframe tbody tr th:only-of-type {\n",
       "        vertical-align: middle;\n",
       "    }\n",
       "\n",
       "    .dataframe tbody tr th {\n",
       "        vertical-align: top;\n",
       "    }\n",
       "\n",
       "    .dataframe thead th {\n",
       "        text-align: right;\n",
       "    }\n",
       "</style>\n",
       "<table border=\"1\" class=\"dataframe\">\n",
       "  <thead>\n",
       "    <tr style=\"text-align: right;\">\n",
       "      <th></th>\n",
       "      <th>customerID</th>\n",
       "      <th>InternetService</th>\n",
       "      <th>OnlineSecurity</th>\n",
       "      <th>OnlineBackup</th>\n",
       "      <th>DeviceProtection</th>\n",
       "      <th>TechSupport</th>\n",
       "      <th>StreamingTV</th>\n",
       "      <th>StreamingMovies</th>\n",
       "    </tr>\n",
       "  </thead>\n",
       "  <tbody>\n",
       "    <tr>\n",
       "      <th>count</th>\n",
       "      <td>5517</td>\n",
       "      <td>5517</td>\n",
       "      <td>5517</td>\n",
       "      <td>5517</td>\n",
       "      <td>5517</td>\n",
       "      <td>5517</td>\n",
       "      <td>5517</td>\n",
       "      <td>5517</td>\n",
       "    </tr>\n",
       "    <tr>\n",
       "      <th>unique</th>\n",
       "      <td>5517</td>\n",
       "      <td>2</td>\n",
       "      <td>2</td>\n",
       "      <td>2</td>\n",
       "      <td>2</td>\n",
       "      <td>2</td>\n",
       "      <td>2</td>\n",
       "      <td>2</td>\n",
       "    </tr>\n",
       "    <tr>\n",
       "      <th>top</th>\n",
       "      <td>0489-WMEMG</td>\n",
       "      <td>Fiber optic</td>\n",
       "      <td>No</td>\n",
       "      <td>No</td>\n",
       "      <td>No</td>\n",
       "      <td>No</td>\n",
       "      <td>No</td>\n",
       "      <td>No</td>\n",
       "    </tr>\n",
       "    <tr>\n",
       "      <th>freq</th>\n",
       "      <td>1</td>\n",
       "      <td>3096</td>\n",
       "      <td>3498</td>\n",
       "      <td>3088</td>\n",
       "      <td>3095</td>\n",
       "      <td>3473</td>\n",
       "      <td>2810</td>\n",
       "      <td>2785</td>\n",
       "    </tr>\n",
       "  </tbody>\n",
       "</table>\n",
       "</div>"
      ],
      "text/plain": [
       "        customerID InternetService OnlineSecurity OnlineBackup  \\\n",
       "count         5517            5517           5517         5517   \n",
       "unique        5517               2              2            2   \n",
       "top     0489-WMEMG     Fiber optic             No           No   \n",
       "freq             1            3096           3498         3088   \n",
       "\n",
       "       DeviceProtection TechSupport StreamingTV StreamingMovies  \n",
       "count              5517        5517        5517            5517  \n",
       "unique                2           2           2               2  \n",
       "top                  No          No          No              No  \n",
       "freq               3095        3473        2810            2785  "
      ]
     },
     "metadata": {},
     "output_type": "display_data"
    }
   ],
   "source": [
    "review_df(internet)"
   ]
  },
  {
   "cell_type": "markdown",
   "id": "8d0b6a93-1e5a-4a5c-99cf-637e0c79c763",
   "metadata": {},
   "source": [
    "Пропусков нет, дубликатов нет, типы данных в некоторых столбцах не оптимальные. Нужно будет заменить yes и no на False и True для ускорения обработки. Количество строк меньше, чем у двух предыдущих датасетов.\n"
   ]
  },
  {
   "cell_type": "code",
   "execution_count": 10,
   "id": "ce1dde88-590c-4edf-9d72-f9519681823f",
   "metadata": {},
   "outputs": [
    {
     "data": {
      "text/plain": [
       "Index(['customer_id', 'internet_service', 'online_security', 'online_backup',\n",
       "       'device_protection', 'tech_support', 'streaming_tv',\n",
       "       'streaming_movies'],\n",
       "      dtype='object')"
      ]
     },
     "execution_count": 10,
     "metadata": {},
     "output_type": "execute_result"
    }
   ],
   "source": [
    "internet.columns = internet.columns.str.replace(r\"([a-z])([A-Z])\", r\"\\1 \\2\").str.lower().str.replace(' ', '_')\n",
    "internet.columns # проверка"
   ]
  },
  {
   "cell_type": "markdown",
   "id": "f0c68b93-0e3f-4807-8ae8-e25bc09c3d40",
   "metadata": {},
   "source": [
    "Посмотрим таблицу phone"
   ]
  },
  {
   "cell_type": "code",
   "execution_count": 11,
   "id": "0c271af7-4346-477f-b84e-753f0248332c",
   "metadata": {
    "tags": []
   },
   "outputs": [
    {
     "data": {
      "text/html": [
       "<div>\n",
       "<style scoped>\n",
       "    .dataframe tbody tr th:only-of-type {\n",
       "        vertical-align: middle;\n",
       "    }\n",
       "\n",
       "    .dataframe tbody tr th {\n",
       "        vertical-align: top;\n",
       "    }\n",
       "\n",
       "    .dataframe thead th {\n",
       "        text-align: right;\n",
       "    }\n",
       "</style>\n",
       "<table border=\"1\" class=\"dataframe\">\n",
       "  <thead>\n",
       "    <tr style=\"text-align: right;\">\n",
       "      <th></th>\n",
       "      <th>customerID</th>\n",
       "      <th>MultipleLines</th>\n",
       "    </tr>\n",
       "  </thead>\n",
       "  <tbody>\n",
       "    <tr>\n",
       "      <th>0</th>\n",
       "      <td>5575-GNVDE</td>\n",
       "      <td>No</td>\n",
       "    </tr>\n",
       "    <tr>\n",
       "      <th>1</th>\n",
       "      <td>3668-QPYBK</td>\n",
       "      <td>No</td>\n",
       "    </tr>\n",
       "    <tr>\n",
       "      <th>2</th>\n",
       "      <td>9237-HQITU</td>\n",
       "      <td>No</td>\n",
       "    </tr>\n",
       "    <tr>\n",
       "      <th>3</th>\n",
       "      <td>9305-CDSKC</td>\n",
       "      <td>Yes</td>\n",
       "    </tr>\n",
       "    <tr>\n",
       "      <th>4</th>\n",
       "      <td>1452-KIOVK</td>\n",
       "      <td>Yes</td>\n",
       "    </tr>\n",
       "  </tbody>\n",
       "</table>\n",
       "</div>"
      ],
      "text/plain": [
       "   customerID MultipleLines\n",
       "0  5575-GNVDE            No\n",
       "1  3668-QPYBK            No\n",
       "2  9237-HQITU            No\n",
       "3  9305-CDSKC           Yes\n",
       "4  1452-KIOVK           Yes"
      ]
     },
     "metadata": {},
     "output_type": "display_data"
    },
    {
     "name": "stdout",
     "output_type": "stream",
     "text": [
      "--------------------------------------\n",
      "Размер:\n",
      "(6361, 2)\n",
      "--------------------------------------\n",
      "Информация:\n",
      "<class 'pandas.core.frame.DataFrame'>\n",
      "RangeIndex: 6361 entries, 0 to 6360\n",
      "Data columns (total 2 columns):\n",
      " #   Column         Non-Null Count  Dtype \n",
      "---  ------         --------------  ----- \n",
      " 0   customerID     6361 non-null   object\n",
      " 1   MultipleLines  6361 non-null   object\n",
      "dtypes: object(2)\n",
      "memory usage: 99.5+ KB\n",
      "None\n",
      "--------------------------------------\n",
      "Дубликаты:\n",
      "0\n",
      "--------------------------------------\n",
      "Пропуски:\n",
      "customerID       0\n",
      "MultipleLines    0\n",
      "dtype: int64\n",
      "--------------------------------------\n",
      "Описание данных:\n"
     ]
    },
    {
     "data": {
      "text/html": [
       "<div>\n",
       "<style scoped>\n",
       "    .dataframe tbody tr th:only-of-type {\n",
       "        vertical-align: middle;\n",
       "    }\n",
       "\n",
       "    .dataframe tbody tr th {\n",
       "        vertical-align: top;\n",
       "    }\n",
       "\n",
       "    .dataframe thead th {\n",
       "        text-align: right;\n",
       "    }\n",
       "</style>\n",
       "<table border=\"1\" class=\"dataframe\">\n",
       "  <thead>\n",
       "    <tr style=\"text-align: right;\">\n",
       "      <th></th>\n",
       "      <th>customerID</th>\n",
       "      <th>MultipleLines</th>\n",
       "    </tr>\n",
       "  </thead>\n",
       "  <tbody>\n",
       "    <tr>\n",
       "      <th>count</th>\n",
       "      <td>6361</td>\n",
       "      <td>6361</td>\n",
       "    </tr>\n",
       "    <tr>\n",
       "      <th>unique</th>\n",
       "      <td>6361</td>\n",
       "      <td>2</td>\n",
       "    </tr>\n",
       "    <tr>\n",
       "      <th>top</th>\n",
       "      <td>9929-PLVPA</td>\n",
       "      <td>No</td>\n",
       "    </tr>\n",
       "    <tr>\n",
       "      <th>freq</th>\n",
       "      <td>1</td>\n",
       "      <td>3390</td>\n",
       "    </tr>\n",
       "  </tbody>\n",
       "</table>\n",
       "</div>"
      ],
      "text/plain": [
       "        customerID MultipleLines\n",
       "count         6361          6361\n",
       "unique        6361             2\n",
       "top     9929-PLVPA            No\n",
       "freq             1          3390"
      ]
     },
     "metadata": {},
     "output_type": "display_data"
    }
   ],
   "source": [
    "review_df(phone)"
   ]
  },
  {
   "cell_type": "markdown",
   "id": "01b4f533-b0a0-4ee3-8cde-07942cadd9e3",
   "metadata": {},
   "source": [
    "Пропусков нет, дубликатов нет, тип данных в MultipleLines не оптимальный. Нужно будет заменить Yes и No на False и True для ускорения обработки. Количество строк отличается от предыдущих датасетов.\n"
   ]
  },
  {
   "cell_type": "code",
   "execution_count": 12,
   "id": "c81c420e-b3f9-44a5-8f75-9c331dc23b00",
   "metadata": {},
   "outputs": [
    {
     "data": {
      "text/plain": [
       "Index(['customer_id', 'multiple_lines'], dtype='object')"
      ]
     },
     "execution_count": 12,
     "metadata": {},
     "output_type": "execute_result"
    }
   ],
   "source": [
    "phone.columns = phone.columns.str.replace(r\"([a-z])([A-Z])\", r\"\\1 \\2\").str.lower().str.replace(' ', '_')\n",
    "phone.columns # проверка"
   ]
  },
  {
   "cell_type": "markdown",
   "id": "cf99596d-4620-467c-b161-a47f43c9cead",
   "metadata": {},
   "source": [
    "### Объединение датафреймов\n"
   ]
  },
  {
   "cell_type": "markdown",
   "id": "307696cf-41e1-4d26-a6e1-2dfecbf92f3a",
   "metadata": {},
   "source": [
    "Объединим все датафреймы в один по столбцу 'customer_id', чтобы идентификаторы клиентов не повторялись. Установим Этот столбец в качестве индекса."
   ]
  },
  {
   "cell_type": "code",
   "execution_count": 13,
   "id": "5f96fb4a-30f7-472a-97de-901317c6698b",
   "metadata": {},
   "outputs": [],
   "source": [
    "df = contract.merge(internet, on='customer_id', how='outer')\\\n",
    "             .merge(personal, on='customer_id', how='outer')\\\n",
    "             .merge(phone, on='customer_id', how='outer')\\\n",
    "             .set_index('customer_id')"
   ]
  },
  {
   "cell_type": "code",
   "execution_count": 14,
   "id": "15186fa0-5777-4bd3-94d7-d16edbb58609",
   "metadata": {
    "scrolled": false,
    "tags": []
   },
   "outputs": [
    {
     "data": {
      "text/html": [
       "<div>\n",
       "<style scoped>\n",
       "    .dataframe tbody tr th:only-of-type {\n",
       "        vertical-align: middle;\n",
       "    }\n",
       "\n",
       "    .dataframe tbody tr th {\n",
       "        vertical-align: top;\n",
       "    }\n",
       "\n",
       "    .dataframe thead th {\n",
       "        text-align: right;\n",
       "    }\n",
       "</style>\n",
       "<table border=\"1\" class=\"dataframe\">\n",
       "  <thead>\n",
       "    <tr style=\"text-align: right;\">\n",
       "      <th></th>\n",
       "      <th>begin_date</th>\n",
       "      <th>end_date</th>\n",
       "      <th>type</th>\n",
       "      <th>paperless_billing</th>\n",
       "      <th>payment_method</th>\n",
       "      <th>monthly_charges</th>\n",
       "      <th>total_charges</th>\n",
       "      <th>internet_service</th>\n",
       "      <th>online_security</th>\n",
       "      <th>online_backup</th>\n",
       "      <th>device_protection</th>\n",
       "      <th>tech_support</th>\n",
       "      <th>streaming_tv</th>\n",
       "      <th>streaming_movies</th>\n",
       "      <th>gender</th>\n",
       "      <th>senior_citizen</th>\n",
       "      <th>partner</th>\n",
       "      <th>dependents</th>\n",
       "      <th>multiple_lines</th>\n",
       "    </tr>\n",
       "    <tr>\n",
       "      <th>customer_id</th>\n",
       "      <th></th>\n",
       "      <th></th>\n",
       "      <th></th>\n",
       "      <th></th>\n",
       "      <th></th>\n",
       "      <th></th>\n",
       "      <th></th>\n",
       "      <th></th>\n",
       "      <th></th>\n",
       "      <th></th>\n",
       "      <th></th>\n",
       "      <th></th>\n",
       "      <th></th>\n",
       "      <th></th>\n",
       "      <th></th>\n",
       "      <th></th>\n",
       "      <th></th>\n",
       "      <th></th>\n",
       "      <th></th>\n",
       "    </tr>\n",
       "  </thead>\n",
       "  <tbody>\n",
       "    <tr>\n",
       "      <th>7590-VHVEG</th>\n",
       "      <td>2020-01-01</td>\n",
       "      <td>No</td>\n",
       "      <td>Month-to-month</td>\n",
       "      <td>Yes</td>\n",
       "      <td>Electronic check</td>\n",
       "      <td>29.85</td>\n",
       "      <td>29.85</td>\n",
       "      <td>DSL</td>\n",
       "      <td>No</td>\n",
       "      <td>Yes</td>\n",
       "      <td>No</td>\n",
       "      <td>No</td>\n",
       "      <td>No</td>\n",
       "      <td>No</td>\n",
       "      <td>Female</td>\n",
       "      <td>0</td>\n",
       "      <td>Yes</td>\n",
       "      <td>No</td>\n",
       "      <td>NaN</td>\n",
       "    </tr>\n",
       "    <tr>\n",
       "      <th>5575-GNVDE</th>\n",
       "      <td>2017-04-01</td>\n",
       "      <td>No</td>\n",
       "      <td>One year</td>\n",
       "      <td>No</td>\n",
       "      <td>Mailed check</td>\n",
       "      <td>56.95</td>\n",
       "      <td>1889.5</td>\n",
       "      <td>DSL</td>\n",
       "      <td>Yes</td>\n",
       "      <td>No</td>\n",
       "      <td>Yes</td>\n",
       "      <td>No</td>\n",
       "      <td>No</td>\n",
       "      <td>No</td>\n",
       "      <td>Male</td>\n",
       "      <td>0</td>\n",
       "      <td>No</td>\n",
       "      <td>No</td>\n",
       "      <td>No</td>\n",
       "    </tr>\n",
       "    <tr>\n",
       "      <th>3668-QPYBK</th>\n",
       "      <td>2019-10-01</td>\n",
       "      <td>2019-12-01 00:00:00</td>\n",
       "      <td>Month-to-month</td>\n",
       "      <td>Yes</td>\n",
       "      <td>Mailed check</td>\n",
       "      <td>53.85</td>\n",
       "      <td>108.15</td>\n",
       "      <td>DSL</td>\n",
       "      <td>Yes</td>\n",
       "      <td>Yes</td>\n",
       "      <td>No</td>\n",
       "      <td>No</td>\n",
       "      <td>No</td>\n",
       "      <td>No</td>\n",
       "      <td>Male</td>\n",
       "      <td>0</td>\n",
       "      <td>No</td>\n",
       "      <td>No</td>\n",
       "      <td>No</td>\n",
       "    </tr>\n",
       "    <tr>\n",
       "      <th>7795-CFOCW</th>\n",
       "      <td>2016-05-01</td>\n",
       "      <td>No</td>\n",
       "      <td>One year</td>\n",
       "      <td>No</td>\n",
       "      <td>Bank transfer (automatic)</td>\n",
       "      <td>42.30</td>\n",
       "      <td>1840.75</td>\n",
       "      <td>DSL</td>\n",
       "      <td>Yes</td>\n",
       "      <td>No</td>\n",
       "      <td>Yes</td>\n",
       "      <td>Yes</td>\n",
       "      <td>No</td>\n",
       "      <td>No</td>\n",
       "      <td>Male</td>\n",
       "      <td>0</td>\n",
       "      <td>No</td>\n",
       "      <td>No</td>\n",
       "      <td>NaN</td>\n",
       "    </tr>\n",
       "    <tr>\n",
       "      <th>9237-HQITU</th>\n",
       "      <td>2019-09-01</td>\n",
       "      <td>2019-11-01 00:00:00</td>\n",
       "      <td>Month-to-month</td>\n",
       "      <td>Yes</td>\n",
       "      <td>Electronic check</td>\n",
       "      <td>70.70</td>\n",
       "      <td>151.65</td>\n",
       "      <td>Fiber optic</td>\n",
       "      <td>No</td>\n",
       "      <td>No</td>\n",
       "      <td>No</td>\n",
       "      <td>No</td>\n",
       "      <td>No</td>\n",
       "      <td>No</td>\n",
       "      <td>Female</td>\n",
       "      <td>0</td>\n",
       "      <td>No</td>\n",
       "      <td>No</td>\n",
       "      <td>No</td>\n",
       "    </tr>\n",
       "  </tbody>\n",
       "</table>\n",
       "</div>"
      ],
      "text/plain": [
       "             begin_date             end_date            type  \\\n",
       "customer_id                                                    \n",
       "7590-VHVEG   2020-01-01                   No  Month-to-month   \n",
       "5575-GNVDE   2017-04-01                   No        One year   \n",
       "3668-QPYBK   2019-10-01  2019-12-01 00:00:00  Month-to-month   \n",
       "7795-CFOCW   2016-05-01                   No        One year   \n",
       "9237-HQITU   2019-09-01  2019-11-01 00:00:00  Month-to-month   \n",
       "\n",
       "            paperless_billing             payment_method  monthly_charges  \\\n",
       "customer_id                                                                 \n",
       "7590-VHVEG                Yes           Electronic check            29.85   \n",
       "5575-GNVDE                 No               Mailed check            56.95   \n",
       "3668-QPYBK                Yes               Mailed check            53.85   \n",
       "7795-CFOCW                 No  Bank transfer (automatic)            42.30   \n",
       "9237-HQITU                Yes           Electronic check            70.70   \n",
       "\n",
       "            total_charges internet_service online_security online_backup  \\\n",
       "customer_id                                                                \n",
       "7590-VHVEG          29.85              DSL              No           Yes   \n",
       "5575-GNVDE         1889.5              DSL             Yes            No   \n",
       "3668-QPYBK         108.15              DSL             Yes           Yes   \n",
       "7795-CFOCW        1840.75              DSL             Yes            No   \n",
       "9237-HQITU         151.65      Fiber optic              No            No   \n",
       "\n",
       "            device_protection tech_support streaming_tv streaming_movies  \\\n",
       "customer_id                                                                \n",
       "7590-VHVEG                 No           No           No               No   \n",
       "5575-GNVDE                Yes           No           No               No   \n",
       "3668-QPYBK                 No           No           No               No   \n",
       "7795-CFOCW                Yes          Yes           No               No   \n",
       "9237-HQITU                 No           No           No               No   \n",
       "\n",
       "             gender  senior_citizen partner dependents multiple_lines  \n",
       "customer_id                                                            \n",
       "7590-VHVEG   Female               0     Yes         No            NaN  \n",
       "5575-GNVDE     Male               0      No         No             No  \n",
       "3668-QPYBK     Male               0      No         No             No  \n",
       "7795-CFOCW     Male               0      No         No            NaN  \n",
       "9237-HQITU   Female               0      No         No             No  "
      ]
     },
     "metadata": {},
     "output_type": "display_data"
    },
    {
     "name": "stdout",
     "output_type": "stream",
     "text": [
      "--------------------------------------\n",
      "Размер:\n",
      "(7043, 19)\n",
      "--------------------------------------\n",
      "Информация:\n",
      "<class 'pandas.core.frame.DataFrame'>\n",
      "Index: 7043 entries, 7590-VHVEG to 3186-AJIEK\n",
      "Data columns (total 19 columns):\n",
      " #   Column             Non-Null Count  Dtype  \n",
      "---  ------             --------------  -----  \n",
      " 0   begin_date         7043 non-null   object \n",
      " 1   end_date           7043 non-null   object \n",
      " 2   type               7043 non-null   object \n",
      " 3   paperless_billing  7043 non-null   object \n",
      " 4   payment_method     7043 non-null   object \n",
      " 5   monthly_charges    7043 non-null   float64\n",
      " 6   total_charges      7043 non-null   object \n",
      " 7   internet_service   5517 non-null   object \n",
      " 8   online_security    5517 non-null   object \n",
      " 9   online_backup      5517 non-null   object \n",
      " 10  device_protection  5517 non-null   object \n",
      " 11  tech_support       5517 non-null   object \n",
      " 12  streaming_tv       5517 non-null   object \n",
      " 13  streaming_movies   5517 non-null   object \n",
      " 14  gender             7043 non-null   object \n",
      " 15  senior_citizen     7043 non-null   int64  \n",
      " 16  partner            7043 non-null   object \n",
      " 17  dependents         7043 non-null   object \n",
      " 18  multiple_lines     6361 non-null   object \n",
      "dtypes: float64(1), int64(1), object(17)\n",
      "memory usage: 1.1+ MB\n",
      "None\n",
      "--------------------------------------\n",
      "Дубликаты:\n",
      "13\n",
      "--------------------------------------\n",
      "Пропуски:\n",
      "begin_date              0\n",
      "end_date                0\n",
      "type                    0\n",
      "paperless_billing       0\n",
      "payment_method          0\n",
      "monthly_charges         0\n",
      "total_charges           0\n",
      "internet_service     1526\n",
      "online_security      1526\n",
      "online_backup        1526\n",
      "device_protection    1526\n",
      "tech_support         1526\n",
      "streaming_tv         1526\n",
      "streaming_movies     1526\n",
      "gender                  0\n",
      "senior_citizen          0\n",
      "partner                 0\n",
      "dependents              0\n",
      "multiple_lines        682\n",
      "dtype: int64\n",
      "--------------------------------------\n",
      "Описание данных:\n"
     ]
    },
    {
     "data": {
      "text/html": [
       "<div>\n",
       "<style scoped>\n",
       "    .dataframe tbody tr th:only-of-type {\n",
       "        vertical-align: middle;\n",
       "    }\n",
       "\n",
       "    .dataframe tbody tr th {\n",
       "        vertical-align: top;\n",
       "    }\n",
       "\n",
       "    .dataframe thead th {\n",
       "        text-align: right;\n",
       "    }\n",
       "</style>\n",
       "<table border=\"1\" class=\"dataframe\">\n",
       "  <thead>\n",
       "    <tr style=\"text-align: right;\">\n",
       "      <th></th>\n",
       "      <th>begin_date</th>\n",
       "      <th>end_date</th>\n",
       "      <th>type</th>\n",
       "      <th>paperless_billing</th>\n",
       "      <th>payment_method</th>\n",
       "      <th>monthly_charges</th>\n",
       "      <th>total_charges</th>\n",
       "      <th>internet_service</th>\n",
       "      <th>online_security</th>\n",
       "      <th>online_backup</th>\n",
       "      <th>device_protection</th>\n",
       "      <th>tech_support</th>\n",
       "      <th>streaming_tv</th>\n",
       "      <th>streaming_movies</th>\n",
       "      <th>gender</th>\n",
       "      <th>senior_citizen</th>\n",
       "      <th>partner</th>\n",
       "      <th>dependents</th>\n",
       "      <th>multiple_lines</th>\n",
       "    </tr>\n",
       "  </thead>\n",
       "  <tbody>\n",
       "    <tr>\n",
       "      <th>count</th>\n",
       "      <td>7043</td>\n",
       "      <td>7043</td>\n",
       "      <td>7043</td>\n",
       "      <td>7043</td>\n",
       "      <td>7043</td>\n",
       "      <td>7043.000000</td>\n",
       "      <td>7043</td>\n",
       "      <td>5517</td>\n",
       "      <td>5517</td>\n",
       "      <td>5517</td>\n",
       "      <td>5517</td>\n",
       "      <td>5517</td>\n",
       "      <td>5517</td>\n",
       "      <td>5517</td>\n",
       "      <td>7043</td>\n",
       "      <td>7043.000000</td>\n",
       "      <td>7043</td>\n",
       "      <td>7043</td>\n",
       "      <td>6361</td>\n",
       "    </tr>\n",
       "    <tr>\n",
       "      <th>unique</th>\n",
       "      <td>77</td>\n",
       "      <td>5</td>\n",
       "      <td>3</td>\n",
       "      <td>2</td>\n",
       "      <td>4</td>\n",
       "      <td>NaN</td>\n",
       "      <td>6531</td>\n",
       "      <td>2</td>\n",
       "      <td>2</td>\n",
       "      <td>2</td>\n",
       "      <td>2</td>\n",
       "      <td>2</td>\n",
       "      <td>2</td>\n",
       "      <td>2</td>\n",
       "      <td>2</td>\n",
       "      <td>NaN</td>\n",
       "      <td>2</td>\n",
       "      <td>2</td>\n",
       "      <td>2</td>\n",
       "    </tr>\n",
       "    <tr>\n",
       "      <th>top</th>\n",
       "      <td>2014-02-01</td>\n",
       "      <td>No</td>\n",
       "      <td>Month-to-month</td>\n",
       "      <td>Yes</td>\n",
       "      <td>Electronic check</td>\n",
       "      <td>NaN</td>\n",
       "      <td></td>\n",
       "      <td>Fiber optic</td>\n",
       "      <td>No</td>\n",
       "      <td>No</td>\n",
       "      <td>No</td>\n",
       "      <td>No</td>\n",
       "      <td>No</td>\n",
       "      <td>No</td>\n",
       "      <td>Male</td>\n",
       "      <td>NaN</td>\n",
       "      <td>No</td>\n",
       "      <td>No</td>\n",
       "      <td>No</td>\n",
       "    </tr>\n",
       "    <tr>\n",
       "      <th>freq</th>\n",
       "      <td>366</td>\n",
       "      <td>5174</td>\n",
       "      <td>3875</td>\n",
       "      <td>4171</td>\n",
       "      <td>2365</td>\n",
       "      <td>NaN</td>\n",
       "      <td>11</td>\n",
       "      <td>3096</td>\n",
       "      <td>3498</td>\n",
       "      <td>3088</td>\n",
       "      <td>3095</td>\n",
       "      <td>3473</td>\n",
       "      <td>2810</td>\n",
       "      <td>2785</td>\n",
       "      <td>3555</td>\n",
       "      <td>NaN</td>\n",
       "      <td>3641</td>\n",
       "      <td>4933</td>\n",
       "      <td>3390</td>\n",
       "    </tr>\n",
       "    <tr>\n",
       "      <th>mean</th>\n",
       "      <td>NaN</td>\n",
       "      <td>NaN</td>\n",
       "      <td>NaN</td>\n",
       "      <td>NaN</td>\n",
       "      <td>NaN</td>\n",
       "      <td>64.761692</td>\n",
       "      <td>NaN</td>\n",
       "      <td>NaN</td>\n",
       "      <td>NaN</td>\n",
       "      <td>NaN</td>\n",
       "      <td>NaN</td>\n",
       "      <td>NaN</td>\n",
       "      <td>NaN</td>\n",
       "      <td>NaN</td>\n",
       "      <td>NaN</td>\n",
       "      <td>0.162147</td>\n",
       "      <td>NaN</td>\n",
       "      <td>NaN</td>\n",
       "      <td>NaN</td>\n",
       "    </tr>\n",
       "    <tr>\n",
       "      <th>std</th>\n",
       "      <td>NaN</td>\n",
       "      <td>NaN</td>\n",
       "      <td>NaN</td>\n",
       "      <td>NaN</td>\n",
       "      <td>NaN</td>\n",
       "      <td>30.090047</td>\n",
       "      <td>NaN</td>\n",
       "      <td>NaN</td>\n",
       "      <td>NaN</td>\n",
       "      <td>NaN</td>\n",
       "      <td>NaN</td>\n",
       "      <td>NaN</td>\n",
       "      <td>NaN</td>\n",
       "      <td>NaN</td>\n",
       "      <td>NaN</td>\n",
       "      <td>0.368612</td>\n",
       "      <td>NaN</td>\n",
       "      <td>NaN</td>\n",
       "      <td>NaN</td>\n",
       "    </tr>\n",
       "    <tr>\n",
       "      <th>min</th>\n",
       "      <td>NaN</td>\n",
       "      <td>NaN</td>\n",
       "      <td>NaN</td>\n",
       "      <td>NaN</td>\n",
       "      <td>NaN</td>\n",
       "      <td>18.250000</td>\n",
       "      <td>NaN</td>\n",
       "      <td>NaN</td>\n",
       "      <td>NaN</td>\n",
       "      <td>NaN</td>\n",
       "      <td>NaN</td>\n",
       "      <td>NaN</td>\n",
       "      <td>NaN</td>\n",
       "      <td>NaN</td>\n",
       "      <td>NaN</td>\n",
       "      <td>0.000000</td>\n",
       "      <td>NaN</td>\n",
       "      <td>NaN</td>\n",
       "      <td>NaN</td>\n",
       "    </tr>\n",
       "    <tr>\n",
       "      <th>25%</th>\n",
       "      <td>NaN</td>\n",
       "      <td>NaN</td>\n",
       "      <td>NaN</td>\n",
       "      <td>NaN</td>\n",
       "      <td>NaN</td>\n",
       "      <td>35.500000</td>\n",
       "      <td>NaN</td>\n",
       "      <td>NaN</td>\n",
       "      <td>NaN</td>\n",
       "      <td>NaN</td>\n",
       "      <td>NaN</td>\n",
       "      <td>NaN</td>\n",
       "      <td>NaN</td>\n",
       "      <td>NaN</td>\n",
       "      <td>NaN</td>\n",
       "      <td>0.000000</td>\n",
       "      <td>NaN</td>\n",
       "      <td>NaN</td>\n",
       "      <td>NaN</td>\n",
       "    </tr>\n",
       "    <tr>\n",
       "      <th>50%</th>\n",
       "      <td>NaN</td>\n",
       "      <td>NaN</td>\n",
       "      <td>NaN</td>\n",
       "      <td>NaN</td>\n",
       "      <td>NaN</td>\n",
       "      <td>70.350000</td>\n",
       "      <td>NaN</td>\n",
       "      <td>NaN</td>\n",
       "      <td>NaN</td>\n",
       "      <td>NaN</td>\n",
       "      <td>NaN</td>\n",
       "      <td>NaN</td>\n",
       "      <td>NaN</td>\n",
       "      <td>NaN</td>\n",
       "      <td>NaN</td>\n",
       "      <td>0.000000</td>\n",
       "      <td>NaN</td>\n",
       "      <td>NaN</td>\n",
       "      <td>NaN</td>\n",
       "    </tr>\n",
       "    <tr>\n",
       "      <th>75%</th>\n",
       "      <td>NaN</td>\n",
       "      <td>NaN</td>\n",
       "      <td>NaN</td>\n",
       "      <td>NaN</td>\n",
       "      <td>NaN</td>\n",
       "      <td>89.850000</td>\n",
       "      <td>NaN</td>\n",
       "      <td>NaN</td>\n",
       "      <td>NaN</td>\n",
       "      <td>NaN</td>\n",
       "      <td>NaN</td>\n",
       "      <td>NaN</td>\n",
       "      <td>NaN</td>\n",
       "      <td>NaN</td>\n",
       "      <td>NaN</td>\n",
       "      <td>0.000000</td>\n",
       "      <td>NaN</td>\n",
       "      <td>NaN</td>\n",
       "      <td>NaN</td>\n",
       "    </tr>\n",
       "    <tr>\n",
       "      <th>max</th>\n",
       "      <td>NaN</td>\n",
       "      <td>NaN</td>\n",
       "      <td>NaN</td>\n",
       "      <td>NaN</td>\n",
       "      <td>NaN</td>\n",
       "      <td>118.750000</td>\n",
       "      <td>NaN</td>\n",
       "      <td>NaN</td>\n",
       "      <td>NaN</td>\n",
       "      <td>NaN</td>\n",
       "      <td>NaN</td>\n",
       "      <td>NaN</td>\n",
       "      <td>NaN</td>\n",
       "      <td>NaN</td>\n",
       "      <td>NaN</td>\n",
       "      <td>1.000000</td>\n",
       "      <td>NaN</td>\n",
       "      <td>NaN</td>\n",
       "      <td>NaN</td>\n",
       "    </tr>\n",
       "  </tbody>\n",
       "</table>\n",
       "</div>"
      ],
      "text/plain": [
       "        begin_date end_date            type paperless_billing  \\\n",
       "count         7043     7043            7043              7043   \n",
       "unique          77        5               3                 2   \n",
       "top     2014-02-01       No  Month-to-month               Yes   \n",
       "freq           366     5174            3875              4171   \n",
       "mean           NaN      NaN             NaN               NaN   \n",
       "std            NaN      NaN             NaN               NaN   \n",
       "min            NaN      NaN             NaN               NaN   \n",
       "25%            NaN      NaN             NaN               NaN   \n",
       "50%            NaN      NaN             NaN               NaN   \n",
       "75%            NaN      NaN             NaN               NaN   \n",
       "max            NaN      NaN             NaN               NaN   \n",
       "\n",
       "          payment_method  monthly_charges total_charges internet_service  \\\n",
       "count               7043      7043.000000          7043             5517   \n",
       "unique                 4              NaN          6531                2   \n",
       "top     Electronic check              NaN                    Fiber optic   \n",
       "freq                2365              NaN            11             3096   \n",
       "mean                 NaN        64.761692           NaN              NaN   \n",
       "std                  NaN        30.090047           NaN              NaN   \n",
       "min                  NaN        18.250000           NaN              NaN   \n",
       "25%                  NaN        35.500000           NaN              NaN   \n",
       "50%                  NaN        70.350000           NaN              NaN   \n",
       "75%                  NaN        89.850000           NaN              NaN   \n",
       "max                  NaN       118.750000           NaN              NaN   \n",
       "\n",
       "       online_security online_backup device_protection tech_support  \\\n",
       "count             5517          5517              5517         5517   \n",
       "unique               2             2                 2            2   \n",
       "top                 No            No                No           No   \n",
       "freq              3498          3088              3095         3473   \n",
       "mean               NaN           NaN               NaN          NaN   \n",
       "std                NaN           NaN               NaN          NaN   \n",
       "min                NaN           NaN               NaN          NaN   \n",
       "25%                NaN           NaN               NaN          NaN   \n",
       "50%                NaN           NaN               NaN          NaN   \n",
       "75%                NaN           NaN               NaN          NaN   \n",
       "max                NaN           NaN               NaN          NaN   \n",
       "\n",
       "       streaming_tv streaming_movies gender  senior_citizen partner  \\\n",
       "count          5517             5517   7043     7043.000000    7043   \n",
       "unique            2                2      2             NaN       2   \n",
       "top              No               No   Male             NaN      No   \n",
       "freq           2810             2785   3555             NaN    3641   \n",
       "mean            NaN              NaN    NaN        0.162147     NaN   \n",
       "std             NaN              NaN    NaN        0.368612     NaN   \n",
       "min             NaN              NaN    NaN        0.000000     NaN   \n",
       "25%             NaN              NaN    NaN        0.000000     NaN   \n",
       "50%             NaN              NaN    NaN        0.000000     NaN   \n",
       "75%             NaN              NaN    NaN        0.000000     NaN   \n",
       "max             NaN              NaN    NaN        1.000000     NaN   \n",
       "\n",
       "       dependents multiple_lines  \n",
       "count        7043           6361  \n",
       "unique          2              2  \n",
       "top            No             No  \n",
       "freq         4933           3390  \n",
       "mean          NaN            NaN  \n",
       "std           NaN            NaN  \n",
       "min           NaN            NaN  \n",
       "25%           NaN            NaN  \n",
       "50%           NaN            NaN  \n",
       "75%           NaN            NaN  \n",
       "max           NaN            NaN  "
      ]
     },
     "metadata": {},
     "output_type": "display_data"
    }
   ],
   "source": [
    "review_df(df)"
   ]
  },
  {
   "cell_type": "markdown",
   "id": "f23a156a-800e-4a0a-924a-6527412dd779",
   "metadata": {},
   "source": [
    "### Предобработка данных"
   ]
  },
  {
   "cell_type": "markdown",
   "id": "4ba19b52-a1da-43c5-aa6f-ebfe70dd4354",
   "metadata": {},
   "source": [
    "#### Изменение типов данных"
   ]
  },
  {
   "cell_type": "markdown",
   "id": "98810db4-c01b-49d7-a940-6a4916806b50",
   "metadata": {},
   "source": [
    "Заменим тип данных в cтолбцах, которые содержат только два значения, на булевый тип."
   ]
  },
  {
   "cell_type": "code",
   "execution_count": 15,
   "id": "d0ba446c-54ec-4a3d-8896-83bd4bcc00e3",
   "metadata": {},
   "outputs": [
    {
     "data": {
      "text/html": [
       "<div>\n",
       "<style scoped>\n",
       "    .dataframe tbody tr th:only-of-type {\n",
       "        vertical-align: middle;\n",
       "    }\n",
       "\n",
       "    .dataframe tbody tr th {\n",
       "        vertical-align: top;\n",
       "    }\n",
       "\n",
       "    .dataframe thead th {\n",
       "        text-align: right;\n",
       "    }\n",
       "</style>\n",
       "<table border=\"1\" class=\"dataframe\">\n",
       "  <thead>\n",
       "    <tr style=\"text-align: right;\">\n",
       "      <th></th>\n",
       "      <th>paperless_billing</th>\n",
       "      <th>online_security</th>\n",
       "      <th>online_backup</th>\n",
       "      <th>device_protection</th>\n",
       "      <th>tech_support</th>\n",
       "      <th>streaming_tv</th>\n",
       "      <th>streaming_movies</th>\n",
       "      <th>partner</th>\n",
       "      <th>dependents</th>\n",
       "      <th>senior_citizen</th>\n",
       "      <th>gender</th>\n",
       "    </tr>\n",
       "    <tr>\n",
       "      <th>customer_id</th>\n",
       "      <th></th>\n",
       "      <th></th>\n",
       "      <th></th>\n",
       "      <th></th>\n",
       "      <th></th>\n",
       "      <th></th>\n",
       "      <th></th>\n",
       "      <th></th>\n",
       "      <th></th>\n",
       "      <th></th>\n",
       "      <th></th>\n",
       "    </tr>\n",
       "  </thead>\n",
       "  <tbody>\n",
       "    <tr>\n",
       "      <th>6840-RESVB</th>\n",
       "      <td>Yes</td>\n",
       "      <td>Yes</td>\n",
       "      <td>No</td>\n",
       "      <td>Yes</td>\n",
       "      <td>Yes</td>\n",
       "      <td>Yes</td>\n",
       "      <td>Yes</td>\n",
       "      <td>Yes</td>\n",
       "      <td>Yes</td>\n",
       "      <td>0</td>\n",
       "      <td>Male</td>\n",
       "    </tr>\n",
       "    <tr>\n",
       "      <th>2234-XADUH</th>\n",
       "      <td>Yes</td>\n",
       "      <td>No</td>\n",
       "      <td>Yes</td>\n",
       "      <td>Yes</td>\n",
       "      <td>No</td>\n",
       "      <td>Yes</td>\n",
       "      <td>Yes</td>\n",
       "      <td>Yes</td>\n",
       "      <td>Yes</td>\n",
       "      <td>0</td>\n",
       "      <td>Female</td>\n",
       "    </tr>\n",
       "    <tr>\n",
       "      <th>4801-JZAZL</th>\n",
       "      <td>Yes</td>\n",
       "      <td>Yes</td>\n",
       "      <td>No</td>\n",
       "      <td>No</td>\n",
       "      <td>No</td>\n",
       "      <td>No</td>\n",
       "      <td>No</td>\n",
       "      <td>Yes</td>\n",
       "      <td>Yes</td>\n",
       "      <td>0</td>\n",
       "      <td>Female</td>\n",
       "    </tr>\n",
       "    <tr>\n",
       "      <th>8361-LTMKD</th>\n",
       "      <td>Yes</td>\n",
       "      <td>No</td>\n",
       "      <td>No</td>\n",
       "      <td>No</td>\n",
       "      <td>No</td>\n",
       "      <td>No</td>\n",
       "      <td>No</td>\n",
       "      <td>Yes</td>\n",
       "      <td>No</td>\n",
       "      <td>1</td>\n",
       "      <td>Male</td>\n",
       "    </tr>\n",
       "    <tr>\n",
       "      <th>3186-AJIEK</th>\n",
       "      <td>Yes</td>\n",
       "      <td>Yes</td>\n",
       "      <td>No</td>\n",
       "      <td>Yes</td>\n",
       "      <td>Yes</td>\n",
       "      <td>Yes</td>\n",
       "      <td>Yes</td>\n",
       "      <td>No</td>\n",
       "      <td>No</td>\n",
       "      <td>0</td>\n",
       "      <td>Male</td>\n",
       "    </tr>\n",
       "  </tbody>\n",
       "</table>\n",
       "</div>"
      ],
      "text/plain": [
       "            paperless_billing online_security online_backup device_protection  \\\n",
       "customer_id                                                                     \n",
       "6840-RESVB                Yes             Yes            No               Yes   \n",
       "2234-XADUH                Yes              No           Yes               Yes   \n",
       "4801-JZAZL                Yes             Yes            No                No   \n",
       "8361-LTMKD                Yes              No            No                No   \n",
       "3186-AJIEK                Yes             Yes            No               Yes   \n",
       "\n",
       "            tech_support streaming_tv streaming_movies partner dependents  \\\n",
       "customer_id                                                                 \n",
       "6840-RESVB           Yes          Yes              Yes     Yes        Yes   \n",
       "2234-XADUH            No          Yes              Yes     Yes        Yes   \n",
       "4801-JZAZL            No           No               No     Yes        Yes   \n",
       "8361-LTMKD            No           No               No     Yes         No   \n",
       "3186-AJIEK           Yes          Yes              Yes      No         No   \n",
       "\n",
       "             senior_citizen  gender  \n",
       "customer_id                          \n",
       "6840-RESVB                0    Male  \n",
       "2234-XADUH                0  Female  \n",
       "4801-JZAZL                0  Female  \n",
       "8361-LTMKD                1    Male  \n",
       "3186-AJIEK                0    Male  "
      ]
     },
     "execution_count": 15,
     "metadata": {},
     "output_type": "execute_result"
    }
   ],
   "source": [
    "bool_columns = [\"paperless_billing\", 'online_security', 'online_backup',       # список столбцов с \"Yes\" и \"No\"\n",
    "               'device_protection','tech_support','streaming_tv',\n",
    "               'streaming_movies', 'partner', 'dependents']\n",
    "df[bool_columns+['senior_citizen', 'gender']].tail() # выводим для проверки"
   ]
  },
  {
   "cell_type": "code",
   "execution_count": 16,
   "id": "bc3cd142-4420-455d-97cf-1808ac7e8550",
   "metadata": {},
   "outputs": [
    {
     "data": {
      "text/html": [
       "<div>\n",
       "<style scoped>\n",
       "    .dataframe tbody tr th:only-of-type {\n",
       "        vertical-align: middle;\n",
       "    }\n",
       "\n",
       "    .dataframe tbody tr th {\n",
       "        vertical-align: top;\n",
       "    }\n",
       "\n",
       "    .dataframe thead th {\n",
       "        text-align: right;\n",
       "    }\n",
       "</style>\n",
       "<table border=\"1\" class=\"dataframe\">\n",
       "  <thead>\n",
       "    <tr style=\"text-align: right;\">\n",
       "      <th></th>\n",
       "      <th>paperless_billing</th>\n",
       "      <th>online_security</th>\n",
       "      <th>online_backup</th>\n",
       "      <th>device_protection</th>\n",
       "      <th>tech_support</th>\n",
       "      <th>streaming_tv</th>\n",
       "      <th>streaming_movies</th>\n",
       "      <th>partner</th>\n",
       "      <th>dependents</th>\n",
       "      <th>senior_citizen</th>\n",
       "      <th>gender_male</th>\n",
       "    </tr>\n",
       "    <tr>\n",
       "      <th>customer_id</th>\n",
       "      <th></th>\n",
       "      <th></th>\n",
       "      <th></th>\n",
       "      <th></th>\n",
       "      <th></th>\n",
       "      <th></th>\n",
       "      <th></th>\n",
       "      <th></th>\n",
       "      <th></th>\n",
       "      <th></th>\n",
       "      <th></th>\n",
       "    </tr>\n",
       "  </thead>\n",
       "  <tbody>\n",
       "    <tr>\n",
       "      <th>6840-RESVB</th>\n",
       "      <td>True</td>\n",
       "      <td>True</td>\n",
       "      <td>False</td>\n",
       "      <td>True</td>\n",
       "      <td>True</td>\n",
       "      <td>True</td>\n",
       "      <td>True</td>\n",
       "      <td>True</td>\n",
       "      <td>True</td>\n",
       "      <td>False</td>\n",
       "      <td>True</td>\n",
       "    </tr>\n",
       "    <tr>\n",
       "      <th>2234-XADUH</th>\n",
       "      <td>True</td>\n",
       "      <td>False</td>\n",
       "      <td>True</td>\n",
       "      <td>True</td>\n",
       "      <td>False</td>\n",
       "      <td>True</td>\n",
       "      <td>True</td>\n",
       "      <td>True</td>\n",
       "      <td>True</td>\n",
       "      <td>False</td>\n",
       "      <td>False</td>\n",
       "    </tr>\n",
       "    <tr>\n",
       "      <th>4801-JZAZL</th>\n",
       "      <td>True</td>\n",
       "      <td>True</td>\n",
       "      <td>False</td>\n",
       "      <td>False</td>\n",
       "      <td>False</td>\n",
       "      <td>False</td>\n",
       "      <td>False</td>\n",
       "      <td>True</td>\n",
       "      <td>True</td>\n",
       "      <td>False</td>\n",
       "      <td>False</td>\n",
       "    </tr>\n",
       "    <tr>\n",
       "      <th>8361-LTMKD</th>\n",
       "      <td>True</td>\n",
       "      <td>False</td>\n",
       "      <td>False</td>\n",
       "      <td>False</td>\n",
       "      <td>False</td>\n",
       "      <td>False</td>\n",
       "      <td>False</td>\n",
       "      <td>True</td>\n",
       "      <td>False</td>\n",
       "      <td>True</td>\n",
       "      <td>True</td>\n",
       "    </tr>\n",
       "    <tr>\n",
       "      <th>3186-AJIEK</th>\n",
       "      <td>True</td>\n",
       "      <td>True</td>\n",
       "      <td>False</td>\n",
       "      <td>True</td>\n",
       "      <td>True</td>\n",
       "      <td>True</td>\n",
       "      <td>True</td>\n",
       "      <td>False</td>\n",
       "      <td>False</td>\n",
       "      <td>False</td>\n",
       "      <td>True</td>\n",
       "    </tr>\n",
       "  </tbody>\n",
       "</table>\n",
       "</div>"
      ],
      "text/plain": [
       "             paperless_billing  online_security  online_backup  \\\n",
       "customer_id                                                      \n",
       "6840-RESVB                True             True          False   \n",
       "2234-XADUH                True            False           True   \n",
       "4801-JZAZL                True             True          False   \n",
       "8361-LTMKD                True            False          False   \n",
       "3186-AJIEK                True             True          False   \n",
       "\n",
       "             device_protection  tech_support  streaming_tv  streaming_movies  \\\n",
       "customer_id                                                                    \n",
       "6840-RESVB                True          True          True              True   \n",
       "2234-XADUH                True         False          True              True   \n",
       "4801-JZAZL               False         False         False             False   \n",
       "8361-LTMKD               False         False         False             False   \n",
       "3186-AJIEK                True          True          True              True   \n",
       "\n",
       "             partner  dependents  senior_citizen  gender_male  \n",
       "customer_id                                                    \n",
       "6840-RESVB      True        True           False         True  \n",
       "2234-XADUH      True        True           False        False  \n",
       "4801-JZAZL      True        True           False        False  \n",
       "8361-LTMKD      True       False            True         True  \n",
       "3186-AJIEK     False       False           False         True  "
      ]
     },
     "execution_count": 16,
     "metadata": {},
     "output_type": "execute_result"
    }
   ],
   "source": [
    "df[bool_columns] = np.where(df[bool_columns] == \"Yes\", True, False)\n",
    "df['senior_citizen'] = np.where(df['senior_citizen'] == 1, True, False) # столбец с 0 и 1\n",
    "df['gender'] = np.where(df['gender'] == 'Male', True, False) # столбец с Male и Female\n",
    "df.rename({'gender': 'gender_male'}, axis=1, inplace=True) # переименуем столбец для понятности\n",
    "\n",
    "df[bool_columns+['senior_citizen', 'gender_male']].tail()   # проверка"
   ]
  },
  {
   "cell_type": "markdown",
   "id": "7199e56c-05cd-47d6-afe7-cd91073b7531",
   "metadata": {},
   "source": [
    "Заполнено верно."
   ]
  },
  {
   "cell_type": "markdown",
   "id": "51972b52-5b4e-4ce2-af4d-b25ca9d1dea7",
   "metadata": {},
   "source": [
    "Приведём столбцы с датами  из строки в тип данных datetime."
   ]
  },
  {
   "cell_type": "code",
   "execution_count": 17,
   "id": "2a74e6a6-1bfe-4d25-9436-c4607e01f203",
   "metadata": {},
   "outputs": [
    {
     "data": {
      "text/html": [
       "<div>\n",
       "<style scoped>\n",
       "    .dataframe tbody tr th:only-of-type {\n",
       "        vertical-align: middle;\n",
       "    }\n",
       "\n",
       "    .dataframe tbody tr th {\n",
       "        vertical-align: top;\n",
       "    }\n",
       "\n",
       "    .dataframe thead th {\n",
       "        text-align: right;\n",
       "    }\n",
       "</style>\n",
       "<table border=\"1\" class=\"dataframe\">\n",
       "  <thead>\n",
       "    <tr style=\"text-align: right;\">\n",
       "      <th></th>\n",
       "      <th>begin_date</th>\n",
       "      <th>end_date</th>\n",
       "    </tr>\n",
       "    <tr>\n",
       "      <th>customer_id</th>\n",
       "      <th></th>\n",
       "      <th></th>\n",
       "    </tr>\n",
       "  </thead>\n",
       "  <tbody>\n",
       "    <tr>\n",
       "      <th>7590-VHVEG</th>\n",
       "      <td>2020-01-01</td>\n",
       "      <td>NaT</td>\n",
       "    </tr>\n",
       "    <tr>\n",
       "      <th>5575-GNVDE</th>\n",
       "      <td>2017-04-01</td>\n",
       "      <td>NaT</td>\n",
       "    </tr>\n",
       "    <tr>\n",
       "      <th>3668-QPYBK</th>\n",
       "      <td>2019-10-01</td>\n",
       "      <td>2019-12-01</td>\n",
       "    </tr>\n",
       "    <tr>\n",
       "      <th>7795-CFOCW</th>\n",
       "      <td>2016-05-01</td>\n",
       "      <td>NaT</td>\n",
       "    </tr>\n",
       "    <tr>\n",
       "      <th>9237-HQITU</th>\n",
       "      <td>2019-09-01</td>\n",
       "      <td>2019-11-01</td>\n",
       "    </tr>\n",
       "  </tbody>\n",
       "</table>\n",
       "</div>"
      ],
      "text/plain": [
       "            begin_date   end_date\n",
       "customer_id                      \n",
       "7590-VHVEG  2020-01-01        NaT\n",
       "5575-GNVDE  2017-04-01        NaT\n",
       "3668-QPYBK  2019-10-01 2019-12-01\n",
       "7795-CFOCW  2016-05-01        NaT\n",
       "9237-HQITU  2019-09-01 2019-11-01"
      ]
     },
     "execution_count": 17,
     "metadata": {},
     "output_type": "execute_result"
    }
   ],
   "source": [
    "df['begin_date'] = pd.to_datetime(df['begin_date'], errors = 'raise', format='%Y-%m-%d')\n",
    "df['end_date'] = pd.to_datetime(df['end_date'], errors = 'coerce', format='%Y-%m-%d %H:%M:%S')\n",
    "df[['begin_date', 'end_date']].head()"
   ]
  },
  {
   "cell_type": "markdown",
   "id": "53f18db0-ab3e-4b57-ac6c-e8ff76445185",
   "metadata": {},
   "source": [
    "Столбец с численными значениями 'total_charges' приведём к числовому типу."
   ]
  },
  {
   "cell_type": "code",
   "execution_count": 18,
   "id": "8c2e09a9-183c-4aff-a9e2-fe47102b768a",
   "metadata": {},
   "outputs": [
    {
     "data": {
      "text/plain": [
       "customer_id\n",
       "7590-VHVEG      29.85\n",
       "5575-GNVDE    1889.50\n",
       "3668-QPYBK     108.15\n",
       "7795-CFOCW    1840.75\n",
       "9237-HQITU     151.65\n",
       "Name: total_charges, dtype: float64"
      ]
     },
     "metadata": {},
     "output_type": "display_data"
    },
    {
     "name": "stdout",
     "output_type": "stream",
     "text": [
      "float64\n"
     ]
    }
   ],
   "source": [
    "df['total_charges'] = pd.to_numeric(df['total_charges'], errors = 'coerce')\n",
    "display(df['total_charges'].head())\n",
    "print(df['total_charges'].dtypes)"
   ]
  },
  {
   "cell_type": "markdown",
   "id": "f5183bcd",
   "metadata": {},
   "source": [
    "#### Заполнение пропусков"
   ]
  },
  {
   "cell_type": "code",
   "execution_count": 19,
   "id": "07a2266b-1dff-4ff3-9dc7-037e1fa28f73",
   "metadata": {},
   "outputs": [
    {
     "data": {
      "text/plain": [
       "begin_date              0\n",
       "end_date             5174\n",
       "type                    0\n",
       "paperless_billing       0\n",
       "payment_method          0\n",
       "monthly_charges         0\n",
       "total_charges          11\n",
       "internet_service     1526\n",
       "online_security         0\n",
       "online_backup           0\n",
       "device_protection       0\n",
       "tech_support            0\n",
       "streaming_tv            0\n",
       "streaming_movies        0\n",
       "gender_male             0\n",
       "senior_citizen          0\n",
       "partner                 0\n",
       "dependents              0\n",
       "multiple_lines        682\n",
       "dtype: int64"
      ]
     },
     "execution_count": 19,
     "metadata": {},
     "output_type": "execute_result"
    }
   ],
   "source": [
    "df.isna().sum()"
   ]
  },
  {
   "cell_type": "markdown",
   "id": "103d390e-5840-41a3-87c8-e56278414f79",
   "metadata": {},
   "source": [
    "Заполнение пропусков в 'internet_service' и 'multiple_lines' значением 'No' и 'No phone', поскольку эти пользователи не пользуются услугами."
   ]
  },
  {
   "cell_type": "code",
   "execution_count": 20,
   "id": "bedb5fdc-c616-4d0d-bf55-6b52ef4f85b0",
   "metadata": {},
   "outputs": [],
   "source": [
    "df['internet_service'] = df['internet_service'].fillna('No')\n",
    "df['multiple_lines'] = df['multiple_lines'].fillna('No phone')"
   ]
  },
  {
   "cell_type": "markdown",
   "id": "c5535977-5646-4ac1-bed0-4148efa36e3f",
   "metadata": {},
   "source": [
    "Заполнение пропусков в 'total_charges'.\n",
    "\n",
    "Посмотрим на строки с пропусками:"
   ]
  },
  {
   "cell_type": "code",
   "execution_count": 21,
   "id": "73dddb56-b90d-4cbf-8a67-64a7f38fa139",
   "metadata": {},
   "outputs": [
    {
     "data": {
      "text/html": [
       "<div>\n",
       "<style scoped>\n",
       "    .dataframe tbody tr th:only-of-type {\n",
       "        vertical-align: middle;\n",
       "    }\n",
       "\n",
       "    .dataframe tbody tr th {\n",
       "        vertical-align: top;\n",
       "    }\n",
       "\n",
       "    .dataframe thead th {\n",
       "        text-align: right;\n",
       "    }\n",
       "</style>\n",
       "<table border=\"1\" class=\"dataframe\">\n",
       "  <thead>\n",
       "    <tr style=\"text-align: right;\">\n",
       "      <th></th>\n",
       "      <th>begin_date</th>\n",
       "      <th>end_date</th>\n",
       "      <th>type</th>\n",
       "      <th>paperless_billing</th>\n",
       "      <th>payment_method</th>\n",
       "      <th>monthly_charges</th>\n",
       "      <th>total_charges</th>\n",
       "      <th>internet_service</th>\n",
       "      <th>online_security</th>\n",
       "      <th>online_backup</th>\n",
       "      <th>device_protection</th>\n",
       "      <th>tech_support</th>\n",
       "      <th>streaming_tv</th>\n",
       "      <th>streaming_movies</th>\n",
       "      <th>gender_male</th>\n",
       "      <th>senior_citizen</th>\n",
       "      <th>partner</th>\n",
       "      <th>dependents</th>\n",
       "      <th>multiple_lines</th>\n",
       "    </tr>\n",
       "    <tr>\n",
       "      <th>customer_id</th>\n",
       "      <th></th>\n",
       "      <th></th>\n",
       "      <th></th>\n",
       "      <th></th>\n",
       "      <th></th>\n",
       "      <th></th>\n",
       "      <th></th>\n",
       "      <th></th>\n",
       "      <th></th>\n",
       "      <th></th>\n",
       "      <th></th>\n",
       "      <th></th>\n",
       "      <th></th>\n",
       "      <th></th>\n",
       "      <th></th>\n",
       "      <th></th>\n",
       "      <th></th>\n",
       "      <th></th>\n",
       "      <th></th>\n",
       "    </tr>\n",
       "  </thead>\n",
       "  <tbody>\n",
       "    <tr>\n",
       "      <th>4472-LVYGI</th>\n",
       "      <td>2020-02-01</td>\n",
       "      <td>NaT</td>\n",
       "      <td>Two year</td>\n",
       "      <td>True</td>\n",
       "      <td>Bank transfer (automatic)</td>\n",
       "      <td>52.55</td>\n",
       "      <td>NaN</td>\n",
       "      <td>DSL</td>\n",
       "      <td>True</td>\n",
       "      <td>False</td>\n",
       "      <td>True</td>\n",
       "      <td>True</td>\n",
       "      <td>True</td>\n",
       "      <td>False</td>\n",
       "      <td>False</td>\n",
       "      <td>False</td>\n",
       "      <td>True</td>\n",
       "      <td>True</td>\n",
       "      <td>No phone</td>\n",
       "    </tr>\n",
       "    <tr>\n",
       "      <th>3115-CZMZD</th>\n",
       "      <td>2020-02-01</td>\n",
       "      <td>NaT</td>\n",
       "      <td>Two year</td>\n",
       "      <td>False</td>\n",
       "      <td>Mailed check</td>\n",
       "      <td>20.25</td>\n",
       "      <td>NaN</td>\n",
       "      <td>No</td>\n",
       "      <td>False</td>\n",
       "      <td>False</td>\n",
       "      <td>False</td>\n",
       "      <td>False</td>\n",
       "      <td>False</td>\n",
       "      <td>False</td>\n",
       "      <td>True</td>\n",
       "      <td>False</td>\n",
       "      <td>False</td>\n",
       "      <td>True</td>\n",
       "      <td>No</td>\n",
       "    </tr>\n",
       "    <tr>\n",
       "      <th>5709-LVOEQ</th>\n",
       "      <td>2020-02-01</td>\n",
       "      <td>NaT</td>\n",
       "      <td>Two year</td>\n",
       "      <td>False</td>\n",
       "      <td>Mailed check</td>\n",
       "      <td>80.85</td>\n",
       "      <td>NaN</td>\n",
       "      <td>DSL</td>\n",
       "      <td>True</td>\n",
       "      <td>True</td>\n",
       "      <td>True</td>\n",
       "      <td>False</td>\n",
       "      <td>True</td>\n",
       "      <td>True</td>\n",
       "      <td>False</td>\n",
       "      <td>False</td>\n",
       "      <td>True</td>\n",
       "      <td>True</td>\n",
       "      <td>No</td>\n",
       "    </tr>\n",
       "    <tr>\n",
       "      <th>4367-NUYAO</th>\n",
       "      <td>2020-02-01</td>\n",
       "      <td>NaT</td>\n",
       "      <td>Two year</td>\n",
       "      <td>False</td>\n",
       "      <td>Mailed check</td>\n",
       "      <td>25.75</td>\n",
       "      <td>NaN</td>\n",
       "      <td>No</td>\n",
       "      <td>False</td>\n",
       "      <td>False</td>\n",
       "      <td>False</td>\n",
       "      <td>False</td>\n",
       "      <td>False</td>\n",
       "      <td>False</td>\n",
       "      <td>True</td>\n",
       "      <td>False</td>\n",
       "      <td>True</td>\n",
       "      <td>True</td>\n",
       "      <td>Yes</td>\n",
       "    </tr>\n",
       "    <tr>\n",
       "      <th>1371-DWPAZ</th>\n",
       "      <td>2020-02-01</td>\n",
       "      <td>NaT</td>\n",
       "      <td>Two year</td>\n",
       "      <td>False</td>\n",
       "      <td>Credit card (automatic)</td>\n",
       "      <td>56.05</td>\n",
       "      <td>NaN</td>\n",
       "      <td>DSL</td>\n",
       "      <td>True</td>\n",
       "      <td>True</td>\n",
       "      <td>True</td>\n",
       "      <td>True</td>\n",
       "      <td>True</td>\n",
       "      <td>False</td>\n",
       "      <td>False</td>\n",
       "      <td>False</td>\n",
       "      <td>True</td>\n",
       "      <td>True</td>\n",
       "      <td>No phone</td>\n",
       "    </tr>\n",
       "    <tr>\n",
       "      <th>7644-OMVMY</th>\n",
       "      <td>2020-02-01</td>\n",
       "      <td>NaT</td>\n",
       "      <td>Two year</td>\n",
       "      <td>False</td>\n",
       "      <td>Mailed check</td>\n",
       "      <td>19.85</td>\n",
       "      <td>NaN</td>\n",
       "      <td>No</td>\n",
       "      <td>False</td>\n",
       "      <td>False</td>\n",
       "      <td>False</td>\n",
       "      <td>False</td>\n",
       "      <td>False</td>\n",
       "      <td>False</td>\n",
       "      <td>True</td>\n",
       "      <td>False</td>\n",
       "      <td>True</td>\n",
       "      <td>True</td>\n",
       "      <td>No</td>\n",
       "    </tr>\n",
       "    <tr>\n",
       "      <th>3213-VVOLG</th>\n",
       "      <td>2020-02-01</td>\n",
       "      <td>NaT</td>\n",
       "      <td>Two year</td>\n",
       "      <td>False</td>\n",
       "      <td>Mailed check</td>\n",
       "      <td>25.35</td>\n",
       "      <td>NaN</td>\n",
       "      <td>No</td>\n",
       "      <td>False</td>\n",
       "      <td>False</td>\n",
       "      <td>False</td>\n",
       "      <td>False</td>\n",
       "      <td>False</td>\n",
       "      <td>False</td>\n",
       "      <td>True</td>\n",
       "      <td>False</td>\n",
       "      <td>True</td>\n",
       "      <td>True</td>\n",
       "      <td>Yes</td>\n",
       "    </tr>\n",
       "    <tr>\n",
       "      <th>2520-SGTTA</th>\n",
       "      <td>2020-02-01</td>\n",
       "      <td>NaT</td>\n",
       "      <td>Two year</td>\n",
       "      <td>False</td>\n",
       "      <td>Mailed check</td>\n",
       "      <td>20.00</td>\n",
       "      <td>NaN</td>\n",
       "      <td>No</td>\n",
       "      <td>False</td>\n",
       "      <td>False</td>\n",
       "      <td>False</td>\n",
       "      <td>False</td>\n",
       "      <td>False</td>\n",
       "      <td>False</td>\n",
       "      <td>False</td>\n",
       "      <td>False</td>\n",
       "      <td>True</td>\n",
       "      <td>True</td>\n",
       "      <td>No</td>\n",
       "    </tr>\n",
       "    <tr>\n",
       "      <th>2923-ARZLG</th>\n",
       "      <td>2020-02-01</td>\n",
       "      <td>NaT</td>\n",
       "      <td>One year</td>\n",
       "      <td>True</td>\n",
       "      <td>Mailed check</td>\n",
       "      <td>19.70</td>\n",
       "      <td>NaN</td>\n",
       "      <td>No</td>\n",
       "      <td>False</td>\n",
       "      <td>False</td>\n",
       "      <td>False</td>\n",
       "      <td>False</td>\n",
       "      <td>False</td>\n",
       "      <td>False</td>\n",
       "      <td>True</td>\n",
       "      <td>False</td>\n",
       "      <td>True</td>\n",
       "      <td>True</td>\n",
       "      <td>No</td>\n",
       "    </tr>\n",
       "    <tr>\n",
       "      <th>4075-WKNIU</th>\n",
       "      <td>2020-02-01</td>\n",
       "      <td>NaT</td>\n",
       "      <td>Two year</td>\n",
       "      <td>False</td>\n",
       "      <td>Mailed check</td>\n",
       "      <td>73.35</td>\n",
       "      <td>NaN</td>\n",
       "      <td>DSL</td>\n",
       "      <td>False</td>\n",
       "      <td>True</td>\n",
       "      <td>True</td>\n",
       "      <td>True</td>\n",
       "      <td>True</td>\n",
       "      <td>False</td>\n",
       "      <td>False</td>\n",
       "      <td>False</td>\n",
       "      <td>True</td>\n",
       "      <td>True</td>\n",
       "      <td>Yes</td>\n",
       "    </tr>\n",
       "    <tr>\n",
       "      <th>2775-SEFEE</th>\n",
       "      <td>2020-02-01</td>\n",
       "      <td>NaT</td>\n",
       "      <td>Two year</td>\n",
       "      <td>True</td>\n",
       "      <td>Bank transfer (automatic)</td>\n",
       "      <td>61.90</td>\n",
       "      <td>NaN</td>\n",
       "      <td>DSL</td>\n",
       "      <td>True</td>\n",
       "      <td>True</td>\n",
       "      <td>False</td>\n",
       "      <td>True</td>\n",
       "      <td>False</td>\n",
       "      <td>False</td>\n",
       "      <td>True</td>\n",
       "      <td>False</td>\n",
       "      <td>False</td>\n",
       "      <td>True</td>\n",
       "      <td>Yes</td>\n",
       "    </tr>\n",
       "  </tbody>\n",
       "</table>\n",
       "</div>"
      ],
      "text/plain": [
       "            begin_date end_date      type  paperless_billing  \\\n",
       "customer_id                                                    \n",
       "4472-LVYGI  2020-02-01      NaT  Two year               True   \n",
       "3115-CZMZD  2020-02-01      NaT  Two year              False   \n",
       "5709-LVOEQ  2020-02-01      NaT  Two year              False   \n",
       "4367-NUYAO  2020-02-01      NaT  Two year              False   \n",
       "1371-DWPAZ  2020-02-01      NaT  Two year              False   \n",
       "7644-OMVMY  2020-02-01      NaT  Two year              False   \n",
       "3213-VVOLG  2020-02-01      NaT  Two year              False   \n",
       "2520-SGTTA  2020-02-01      NaT  Two year              False   \n",
       "2923-ARZLG  2020-02-01      NaT  One year               True   \n",
       "4075-WKNIU  2020-02-01      NaT  Two year              False   \n",
       "2775-SEFEE  2020-02-01      NaT  Two year               True   \n",
       "\n",
       "                        payment_method  monthly_charges  total_charges  \\\n",
       "customer_id                                                              \n",
       "4472-LVYGI   Bank transfer (automatic)            52.55            NaN   \n",
       "3115-CZMZD                Mailed check            20.25            NaN   \n",
       "5709-LVOEQ                Mailed check            80.85            NaN   \n",
       "4367-NUYAO                Mailed check            25.75            NaN   \n",
       "1371-DWPAZ     Credit card (automatic)            56.05            NaN   \n",
       "7644-OMVMY                Mailed check            19.85            NaN   \n",
       "3213-VVOLG                Mailed check            25.35            NaN   \n",
       "2520-SGTTA                Mailed check            20.00            NaN   \n",
       "2923-ARZLG                Mailed check            19.70            NaN   \n",
       "4075-WKNIU                Mailed check            73.35            NaN   \n",
       "2775-SEFEE   Bank transfer (automatic)            61.90            NaN   \n",
       "\n",
       "            internet_service  online_security  online_backup  \\\n",
       "customer_id                                                    \n",
       "4472-LVYGI               DSL             True          False   \n",
       "3115-CZMZD                No            False          False   \n",
       "5709-LVOEQ               DSL             True           True   \n",
       "4367-NUYAO                No            False          False   \n",
       "1371-DWPAZ               DSL             True           True   \n",
       "7644-OMVMY                No            False          False   \n",
       "3213-VVOLG                No            False          False   \n",
       "2520-SGTTA                No            False          False   \n",
       "2923-ARZLG                No            False          False   \n",
       "4075-WKNIU               DSL            False           True   \n",
       "2775-SEFEE               DSL             True           True   \n",
       "\n",
       "             device_protection  tech_support  streaming_tv  streaming_movies  \\\n",
       "customer_id                                                                    \n",
       "4472-LVYGI                True          True          True             False   \n",
       "3115-CZMZD               False         False         False             False   \n",
       "5709-LVOEQ                True         False          True              True   \n",
       "4367-NUYAO               False         False         False             False   \n",
       "1371-DWPAZ                True          True          True             False   \n",
       "7644-OMVMY               False         False         False             False   \n",
       "3213-VVOLG               False         False         False             False   \n",
       "2520-SGTTA               False         False         False             False   \n",
       "2923-ARZLG               False         False         False             False   \n",
       "4075-WKNIU                True          True          True             False   \n",
       "2775-SEFEE               False          True         False             False   \n",
       "\n",
       "             gender_male  senior_citizen  partner  dependents multiple_lines  \n",
       "customer_id                                                                   \n",
       "4472-LVYGI         False           False     True        True       No phone  \n",
       "3115-CZMZD          True           False    False        True             No  \n",
       "5709-LVOEQ         False           False     True        True             No  \n",
       "4367-NUYAO          True           False     True        True            Yes  \n",
       "1371-DWPAZ         False           False     True        True       No phone  \n",
       "7644-OMVMY          True           False     True        True             No  \n",
       "3213-VVOLG          True           False     True        True            Yes  \n",
       "2520-SGTTA         False           False     True        True             No  \n",
       "2923-ARZLG          True           False     True        True             No  \n",
       "4075-WKNIU         False           False     True        True            Yes  \n",
       "2775-SEFEE          True           False    False        True            Yes  "
      ]
     },
     "execution_count": 21,
     "metadata": {},
     "output_type": "execute_result"
    }
   ],
   "source": [
    "df.loc[df['total_charges'].isna()]"
   ]
  },
  {
   "cell_type": "markdown",
   "id": "bd0438eb-120d-4f65-b8c2-a2327f78a103",
   "metadata": {},
   "source": [
    "Все эти пользователи зарегистрировались в день выгрузки данных, поэтому у них нет информации, всего потрачено денег на услуги. Интересно, что у всех годовой или двухгодовой тариф. Нужно выяснить, при регистрации с таким тарифом нужно заплатить сразу за год? Можем ли мы использовать сумму в столбце 'monthly_charges'? Должны ли при этом умножить её на 12 и 24?\n",
    "\n",
    "Для этого посмотрим, в какой предыдущий день регистрировались пользователи."
   ]
  },
  {
   "cell_type": "code",
   "execution_count": 22,
   "id": "c7b43954-d1a8-48d2-bfaf-1f237e0225c8",
   "metadata": {},
   "outputs": [
    {
     "data": {
      "text/plain": [
       "Timestamp('2020-01-01 00:00:00')"
      ]
     },
     "execution_count": 22,
     "metadata": {},
     "output_type": "execute_result"
    }
   ],
   "source": [
    "max(df.loc[df['total_charges'].notna()]['begin_date'])"
   ]
  },
  {
   "cell_type": "markdown",
   "id": "74af7b01-b41e-4801-a27b-5871431d0e56",
   "metadata": {},
   "source": [
    "Посмотрим на строки за этот день для пользователей с годовой и двухгодовой подпиской."
   ]
  },
  {
   "cell_type": "code",
   "execution_count": 23,
   "id": "cc6bf869-b35a-45c0-8f7e-954ac9706c0b",
   "metadata": {},
   "outputs": [
    {
     "data": {
      "text/html": [
       "<div>\n",
       "<style scoped>\n",
       "    .dataframe tbody tr th:only-of-type {\n",
       "        vertical-align: middle;\n",
       "    }\n",
       "\n",
       "    .dataframe tbody tr th {\n",
       "        vertical-align: top;\n",
       "    }\n",
       "\n",
       "    .dataframe thead th {\n",
       "        text-align: right;\n",
       "    }\n",
       "</style>\n",
       "<table border=\"1\" class=\"dataframe\">\n",
       "  <thead>\n",
       "    <tr style=\"text-align: right;\">\n",
       "      <th></th>\n",
       "      <th>begin_date</th>\n",
       "      <th>end_date</th>\n",
       "      <th>type</th>\n",
       "      <th>paperless_billing</th>\n",
       "      <th>payment_method</th>\n",
       "      <th>monthly_charges</th>\n",
       "      <th>total_charges</th>\n",
       "      <th>internet_service</th>\n",
       "      <th>online_security</th>\n",
       "      <th>online_backup</th>\n",
       "      <th>device_protection</th>\n",
       "      <th>tech_support</th>\n",
       "      <th>streaming_tv</th>\n",
       "      <th>streaming_movies</th>\n",
       "      <th>gender_male</th>\n",
       "      <th>senior_citizen</th>\n",
       "      <th>partner</th>\n",
       "      <th>dependents</th>\n",
       "      <th>multiple_lines</th>\n",
       "    </tr>\n",
       "    <tr>\n",
       "      <th>customer_id</th>\n",
       "      <th></th>\n",
       "      <th></th>\n",
       "      <th></th>\n",
       "      <th></th>\n",
       "      <th></th>\n",
       "      <th></th>\n",
       "      <th></th>\n",
       "      <th></th>\n",
       "      <th></th>\n",
       "      <th></th>\n",
       "      <th></th>\n",
       "      <th></th>\n",
       "      <th></th>\n",
       "      <th></th>\n",
       "      <th></th>\n",
       "      <th></th>\n",
       "      <th></th>\n",
       "      <th></th>\n",
       "      <th></th>\n",
       "    </tr>\n",
       "  </thead>\n",
       "  <tbody>\n",
       "    <tr>\n",
       "      <th>6469-MRVET</th>\n",
       "      <td>2020-01-01</td>\n",
       "      <td>NaT</td>\n",
       "      <td>One year</td>\n",
       "      <td>True</td>\n",
       "      <td>Electronic check</td>\n",
       "      <td>20.20</td>\n",
       "      <td>20.20</td>\n",
       "      <td>No</td>\n",
       "      <td>False</td>\n",
       "      <td>False</td>\n",
       "      <td>False</td>\n",
       "      <td>False</td>\n",
       "      <td>False</td>\n",
       "      <td>False</td>\n",
       "      <td>True</td>\n",
       "      <td>False</td>\n",
       "      <td>True</td>\n",
       "      <td>True</td>\n",
       "      <td>No</td>\n",
       "    </tr>\n",
       "    <tr>\n",
       "      <th>5562-BETPV</th>\n",
       "      <td>2020-01-01</td>\n",
       "      <td>NaT</td>\n",
       "      <td>One year</td>\n",
       "      <td>False</td>\n",
       "      <td>Mailed check</td>\n",
       "      <td>19.65</td>\n",
       "      <td>19.65</td>\n",
       "      <td>No</td>\n",
       "      <td>False</td>\n",
       "      <td>False</td>\n",
       "      <td>False</td>\n",
       "      <td>False</td>\n",
       "      <td>False</td>\n",
       "      <td>False</td>\n",
       "      <td>True</td>\n",
       "      <td>False</td>\n",
       "      <td>True</td>\n",
       "      <td>True</td>\n",
       "      <td>No</td>\n",
       "    </tr>\n",
       "    <tr>\n",
       "      <th>8985-OOPOS</th>\n",
       "      <td>2020-01-01</td>\n",
       "      <td>NaT</td>\n",
       "      <td>One year</td>\n",
       "      <td>False</td>\n",
       "      <td>Credit card (automatic)</td>\n",
       "      <td>74.10</td>\n",
       "      <td>74.10</td>\n",
       "      <td>DSL</td>\n",
       "      <td>False</td>\n",
       "      <td>False</td>\n",
       "      <td>True</td>\n",
       "      <td>True</td>\n",
       "      <td>True</td>\n",
       "      <td>True</td>\n",
       "      <td>False</td>\n",
       "      <td>False</td>\n",
       "      <td>False</td>\n",
       "      <td>False</td>\n",
       "      <td>No</td>\n",
       "    </tr>\n",
       "    <tr>\n",
       "      <th>2967-MXRAV</th>\n",
       "      <td>2020-01-01</td>\n",
       "      <td>NaT</td>\n",
       "      <td>One year</td>\n",
       "      <td>False</td>\n",
       "      <td>Mailed check</td>\n",
       "      <td>18.80</td>\n",
       "      <td>18.80</td>\n",
       "      <td>No</td>\n",
       "      <td>False</td>\n",
       "      <td>False</td>\n",
       "      <td>False</td>\n",
       "      <td>False</td>\n",
       "      <td>False</td>\n",
       "      <td>False</td>\n",
       "      <td>True</td>\n",
       "      <td>False</td>\n",
       "      <td>True</td>\n",
       "      <td>True</td>\n",
       "      <td>No</td>\n",
       "    </tr>\n",
       "    <tr>\n",
       "      <th>8559-WNQZS</th>\n",
       "      <td>2020-01-01</td>\n",
       "      <td>NaT</td>\n",
       "      <td>Two year</td>\n",
       "      <td>False</td>\n",
       "      <td>Mailed check</td>\n",
       "      <td>20.45</td>\n",
       "      <td>20.45</td>\n",
       "      <td>No</td>\n",
       "      <td>False</td>\n",
       "      <td>False</td>\n",
       "      <td>False</td>\n",
       "      <td>False</td>\n",
       "      <td>False</td>\n",
       "      <td>False</td>\n",
       "      <td>True</td>\n",
       "      <td>False</td>\n",
       "      <td>False</td>\n",
       "      <td>False</td>\n",
       "      <td>No</td>\n",
       "    </tr>\n",
       "    <tr>\n",
       "      <th>2239-CFOUJ</th>\n",
       "      <td>2020-01-01</td>\n",
       "      <td>NaT</td>\n",
       "      <td>One year</td>\n",
       "      <td>False</td>\n",
       "      <td>Mailed check</td>\n",
       "      <td>20.40</td>\n",
       "      <td>20.40</td>\n",
       "      <td>No</td>\n",
       "      <td>False</td>\n",
       "      <td>False</td>\n",
       "      <td>False</td>\n",
       "      <td>False</td>\n",
       "      <td>False</td>\n",
       "      <td>False</td>\n",
       "      <td>True</td>\n",
       "      <td>False</td>\n",
       "      <td>True</td>\n",
       "      <td>True</td>\n",
       "      <td>No</td>\n",
       "    </tr>\n",
       "    <tr>\n",
       "      <th>1064-FBXNK</th>\n",
       "      <td>2020-01-01</td>\n",
       "      <td>NaT</td>\n",
       "      <td>One year</td>\n",
       "      <td>False</td>\n",
       "      <td>Credit card (automatic)</td>\n",
       "      <td>19.85</td>\n",
       "      <td>19.85</td>\n",
       "      <td>No</td>\n",
       "      <td>False</td>\n",
       "      <td>False</td>\n",
       "      <td>False</td>\n",
       "      <td>False</td>\n",
       "      <td>False</td>\n",
       "      <td>False</td>\n",
       "      <td>True</td>\n",
       "      <td>False</td>\n",
       "      <td>True</td>\n",
       "      <td>True</td>\n",
       "      <td>No</td>\n",
       "    </tr>\n",
       "    <tr>\n",
       "      <th>1099-GODLO</th>\n",
       "      <td>2020-01-01</td>\n",
       "      <td>NaT</td>\n",
       "      <td>Two year</td>\n",
       "      <td>False</td>\n",
       "      <td>Mailed check</td>\n",
       "      <td>20.35</td>\n",
       "      <td>20.35</td>\n",
       "      <td>No</td>\n",
       "      <td>False</td>\n",
       "      <td>False</td>\n",
       "      <td>False</td>\n",
       "      <td>False</td>\n",
       "      <td>False</td>\n",
       "      <td>False</td>\n",
       "      <td>False</td>\n",
       "      <td>False</td>\n",
       "      <td>True</td>\n",
       "      <td>True</td>\n",
       "      <td>No</td>\n",
       "    </tr>\n",
       "    <tr>\n",
       "      <th>3069-SSVSN</th>\n",
       "      <td>2020-01-01</td>\n",
       "      <td>NaT</td>\n",
       "      <td>One year</td>\n",
       "      <td>False</td>\n",
       "      <td>Mailed check</td>\n",
       "      <td>25.85</td>\n",
       "      <td>25.85</td>\n",
       "      <td>DSL</td>\n",
       "      <td>False</td>\n",
       "      <td>False</td>\n",
       "      <td>False</td>\n",
       "      <td>False</td>\n",
       "      <td>False</td>\n",
       "      <td>False</td>\n",
       "      <td>False</td>\n",
       "      <td>False</td>\n",
       "      <td>False</td>\n",
       "      <td>False</td>\n",
       "      <td>No phone</td>\n",
       "    </tr>\n",
       "  </tbody>\n",
       "</table>\n",
       "</div>"
      ],
      "text/plain": [
       "            begin_date end_date      type  paperless_billing  \\\n",
       "customer_id                                                    \n",
       "6469-MRVET  2020-01-01      NaT  One year               True   \n",
       "5562-BETPV  2020-01-01      NaT  One year              False   \n",
       "8985-OOPOS  2020-01-01      NaT  One year              False   \n",
       "2967-MXRAV  2020-01-01      NaT  One year              False   \n",
       "8559-WNQZS  2020-01-01      NaT  Two year              False   \n",
       "2239-CFOUJ  2020-01-01      NaT  One year              False   \n",
       "1064-FBXNK  2020-01-01      NaT  One year              False   \n",
       "1099-GODLO  2020-01-01      NaT  Two year              False   \n",
       "3069-SSVSN  2020-01-01      NaT  One year              False   \n",
       "\n",
       "                      payment_method  monthly_charges  total_charges  \\\n",
       "customer_id                                                            \n",
       "6469-MRVET          Electronic check            20.20          20.20   \n",
       "5562-BETPV              Mailed check            19.65          19.65   \n",
       "8985-OOPOS   Credit card (automatic)            74.10          74.10   \n",
       "2967-MXRAV              Mailed check            18.80          18.80   \n",
       "8559-WNQZS              Mailed check            20.45          20.45   \n",
       "2239-CFOUJ              Mailed check            20.40          20.40   \n",
       "1064-FBXNK   Credit card (automatic)            19.85          19.85   \n",
       "1099-GODLO              Mailed check            20.35          20.35   \n",
       "3069-SSVSN              Mailed check            25.85          25.85   \n",
       "\n",
       "            internet_service  online_security  online_backup  \\\n",
       "customer_id                                                    \n",
       "6469-MRVET                No            False          False   \n",
       "5562-BETPV                No            False          False   \n",
       "8985-OOPOS               DSL            False          False   \n",
       "2967-MXRAV                No            False          False   \n",
       "8559-WNQZS                No            False          False   \n",
       "2239-CFOUJ                No            False          False   \n",
       "1064-FBXNK                No            False          False   \n",
       "1099-GODLO                No            False          False   \n",
       "3069-SSVSN               DSL            False          False   \n",
       "\n",
       "             device_protection  tech_support  streaming_tv  streaming_movies  \\\n",
       "customer_id                                                                    \n",
       "6469-MRVET               False         False         False             False   \n",
       "5562-BETPV               False         False         False             False   \n",
       "8985-OOPOS                True          True          True              True   \n",
       "2967-MXRAV               False         False         False             False   \n",
       "8559-WNQZS               False         False         False             False   \n",
       "2239-CFOUJ               False         False         False             False   \n",
       "1064-FBXNK               False         False         False             False   \n",
       "1099-GODLO               False         False         False             False   \n",
       "3069-SSVSN               False         False         False             False   \n",
       "\n",
       "             gender_male  senior_citizen  partner  dependents multiple_lines  \n",
       "customer_id                                                                   \n",
       "6469-MRVET          True           False     True        True             No  \n",
       "5562-BETPV          True           False     True        True             No  \n",
       "8985-OOPOS         False           False    False       False             No  \n",
       "2967-MXRAV          True           False     True        True             No  \n",
       "8559-WNQZS          True           False    False       False             No  \n",
       "2239-CFOUJ          True           False     True        True             No  \n",
       "1064-FBXNK          True           False     True        True             No  \n",
       "1099-GODLO         False           False     True        True             No  \n",
       "3069-SSVSN         False           False    False       False       No phone  "
      ]
     },
     "execution_count": 23,
     "metadata": {},
     "output_type": "execute_result"
    }
   ],
   "source": [
    "df.loc[(df['begin_date'] == '2020-01-01')&(df['type'].isin(['Two year', 'One year']))]"
   ]
  },
  {
   "cell_type": "markdown",
   "id": "267f7f61-6b31-4d2b-b37d-200531a94cc4",
   "metadata": {},
   "source": [
    "Значения в столбцах 'total_charges' и 'monthly_charges' совпадают. Следовательно, пропуски можно заполнить таким же образом."
   ]
  },
  {
   "cell_type": "code",
   "execution_count": 24,
   "id": "d0e7f889-d159-4ffa-9ea7-ceaf2250a4f4",
   "metadata": {},
   "outputs": [
    {
     "data": {
      "text/html": [
       "<div>\n",
       "<style scoped>\n",
       "    .dataframe tbody tr th:only-of-type {\n",
       "        vertical-align: middle;\n",
       "    }\n",
       "\n",
       "    .dataframe tbody tr th {\n",
       "        vertical-align: top;\n",
       "    }\n",
       "\n",
       "    .dataframe thead th {\n",
       "        text-align: right;\n",
       "    }\n",
       "</style>\n",
       "<table border=\"1\" class=\"dataframe\">\n",
       "  <thead>\n",
       "    <tr style=\"text-align: right;\">\n",
       "      <th></th>\n",
       "      <th>begin_date</th>\n",
       "      <th>end_date</th>\n",
       "      <th>type</th>\n",
       "      <th>paperless_billing</th>\n",
       "      <th>payment_method</th>\n",
       "      <th>monthly_charges</th>\n",
       "      <th>total_charges</th>\n",
       "      <th>internet_service</th>\n",
       "      <th>online_security</th>\n",
       "      <th>online_backup</th>\n",
       "      <th>device_protection</th>\n",
       "      <th>tech_support</th>\n",
       "      <th>streaming_tv</th>\n",
       "      <th>streaming_movies</th>\n",
       "      <th>gender_male</th>\n",
       "      <th>senior_citizen</th>\n",
       "      <th>partner</th>\n",
       "      <th>dependents</th>\n",
       "      <th>multiple_lines</th>\n",
       "    </tr>\n",
       "    <tr>\n",
       "      <th>customer_id</th>\n",
       "      <th></th>\n",
       "      <th></th>\n",
       "      <th></th>\n",
       "      <th></th>\n",
       "      <th></th>\n",
       "      <th></th>\n",
       "      <th></th>\n",
       "      <th></th>\n",
       "      <th></th>\n",
       "      <th></th>\n",
       "      <th></th>\n",
       "      <th></th>\n",
       "      <th></th>\n",
       "      <th></th>\n",
       "      <th></th>\n",
       "      <th></th>\n",
       "      <th></th>\n",
       "      <th></th>\n",
       "      <th></th>\n",
       "    </tr>\n",
       "  </thead>\n",
       "  <tbody>\n",
       "    <tr>\n",
       "      <th>4472-LVYGI</th>\n",
       "      <td>2020-02-01</td>\n",
       "      <td>NaT</td>\n",
       "      <td>Two year</td>\n",
       "      <td>True</td>\n",
       "      <td>Bank transfer (automatic)</td>\n",
       "      <td>52.55</td>\n",
       "      <td>52.55</td>\n",
       "      <td>DSL</td>\n",
       "      <td>True</td>\n",
       "      <td>False</td>\n",
       "      <td>True</td>\n",
       "      <td>True</td>\n",
       "      <td>True</td>\n",
       "      <td>False</td>\n",
       "      <td>False</td>\n",
       "      <td>False</td>\n",
       "      <td>True</td>\n",
       "      <td>True</td>\n",
       "      <td>No phone</td>\n",
       "    </tr>\n",
       "    <tr>\n",
       "      <th>3115-CZMZD</th>\n",
       "      <td>2020-02-01</td>\n",
       "      <td>NaT</td>\n",
       "      <td>Two year</td>\n",
       "      <td>False</td>\n",
       "      <td>Mailed check</td>\n",
       "      <td>20.25</td>\n",
       "      <td>20.25</td>\n",
       "      <td>No</td>\n",
       "      <td>False</td>\n",
       "      <td>False</td>\n",
       "      <td>False</td>\n",
       "      <td>False</td>\n",
       "      <td>False</td>\n",
       "      <td>False</td>\n",
       "      <td>True</td>\n",
       "      <td>False</td>\n",
       "      <td>False</td>\n",
       "      <td>True</td>\n",
       "      <td>No</td>\n",
       "    </tr>\n",
       "    <tr>\n",
       "      <th>5709-LVOEQ</th>\n",
       "      <td>2020-02-01</td>\n",
       "      <td>NaT</td>\n",
       "      <td>Two year</td>\n",
       "      <td>False</td>\n",
       "      <td>Mailed check</td>\n",
       "      <td>80.85</td>\n",
       "      <td>80.85</td>\n",
       "      <td>DSL</td>\n",
       "      <td>True</td>\n",
       "      <td>True</td>\n",
       "      <td>True</td>\n",
       "      <td>False</td>\n",
       "      <td>True</td>\n",
       "      <td>True</td>\n",
       "      <td>False</td>\n",
       "      <td>False</td>\n",
       "      <td>True</td>\n",
       "      <td>True</td>\n",
       "      <td>No</td>\n",
       "    </tr>\n",
       "    <tr>\n",
       "      <th>4367-NUYAO</th>\n",
       "      <td>2020-02-01</td>\n",
       "      <td>NaT</td>\n",
       "      <td>Two year</td>\n",
       "      <td>False</td>\n",
       "      <td>Mailed check</td>\n",
       "      <td>25.75</td>\n",
       "      <td>25.75</td>\n",
       "      <td>No</td>\n",
       "      <td>False</td>\n",
       "      <td>False</td>\n",
       "      <td>False</td>\n",
       "      <td>False</td>\n",
       "      <td>False</td>\n",
       "      <td>False</td>\n",
       "      <td>True</td>\n",
       "      <td>False</td>\n",
       "      <td>True</td>\n",
       "      <td>True</td>\n",
       "      <td>Yes</td>\n",
       "    </tr>\n",
       "    <tr>\n",
       "      <th>1371-DWPAZ</th>\n",
       "      <td>2020-02-01</td>\n",
       "      <td>NaT</td>\n",
       "      <td>Two year</td>\n",
       "      <td>False</td>\n",
       "      <td>Credit card (automatic)</td>\n",
       "      <td>56.05</td>\n",
       "      <td>56.05</td>\n",
       "      <td>DSL</td>\n",
       "      <td>True</td>\n",
       "      <td>True</td>\n",
       "      <td>True</td>\n",
       "      <td>True</td>\n",
       "      <td>True</td>\n",
       "      <td>False</td>\n",
       "      <td>False</td>\n",
       "      <td>False</td>\n",
       "      <td>True</td>\n",
       "      <td>True</td>\n",
       "      <td>No phone</td>\n",
       "    </tr>\n",
       "  </tbody>\n",
       "</table>\n",
       "</div>"
      ],
      "text/plain": [
       "            begin_date end_date      type  paperless_billing  \\\n",
       "customer_id                                                    \n",
       "4472-LVYGI  2020-02-01      NaT  Two year               True   \n",
       "3115-CZMZD  2020-02-01      NaT  Two year              False   \n",
       "5709-LVOEQ  2020-02-01      NaT  Two year              False   \n",
       "4367-NUYAO  2020-02-01      NaT  Two year              False   \n",
       "1371-DWPAZ  2020-02-01      NaT  Two year              False   \n",
       "\n",
       "                        payment_method  monthly_charges  total_charges  \\\n",
       "customer_id                                                              \n",
       "4472-LVYGI   Bank transfer (automatic)            52.55          52.55   \n",
       "3115-CZMZD                Mailed check            20.25          20.25   \n",
       "5709-LVOEQ                Mailed check            80.85          80.85   \n",
       "4367-NUYAO                Mailed check            25.75          25.75   \n",
       "1371-DWPAZ     Credit card (automatic)            56.05          56.05   \n",
       "\n",
       "            internet_service  online_security  online_backup  \\\n",
       "customer_id                                                    \n",
       "4472-LVYGI               DSL             True          False   \n",
       "3115-CZMZD                No            False          False   \n",
       "5709-LVOEQ               DSL             True           True   \n",
       "4367-NUYAO                No            False          False   \n",
       "1371-DWPAZ               DSL             True           True   \n",
       "\n",
       "             device_protection  tech_support  streaming_tv  streaming_movies  \\\n",
       "customer_id                                                                    \n",
       "4472-LVYGI                True          True          True             False   \n",
       "3115-CZMZD               False         False         False             False   \n",
       "5709-LVOEQ                True         False          True              True   \n",
       "4367-NUYAO               False         False         False             False   \n",
       "1371-DWPAZ                True          True          True             False   \n",
       "\n",
       "             gender_male  senior_citizen  partner  dependents multiple_lines  \n",
       "customer_id                                                                   \n",
       "4472-LVYGI         False           False     True        True       No phone  \n",
       "3115-CZMZD          True           False    False        True             No  \n",
       "5709-LVOEQ         False           False     True        True             No  \n",
       "4367-NUYAO          True           False     True        True            Yes  \n",
       "1371-DWPAZ         False           False     True        True       No phone  "
      ]
     },
     "execution_count": 24,
     "metadata": {},
     "output_type": "execute_result"
    }
   ],
   "source": [
    "df['total_charges'] = df['total_charges'].where(df['total_charges'].notna(), df.monthly_charges)\n",
    "df.loc[df['begin_date'] == '2020-02-01'].head()    # проверка "
   ]
  },
  {
   "cell_type": "markdown",
   "id": "2f2e8d9d-9986-408a-8d74-776d3ada23ec",
   "metadata": {},
   "source": [
    "Заполнено верно."
   ]
  },
  {
   "cell_type": "markdown",
   "id": "626f6f9c-afdd-4016-a289-4fe81bc3edd7",
   "metadata": {},
   "source": [
    "Посмотрим на значения в столбце \"end_date\""
   ]
  },
  {
   "cell_type": "code",
   "execution_count": 25,
   "id": "de3b4d48-12b6-40fb-9fe9-a139c90f11a2",
   "metadata": {},
   "outputs": [
    {
     "data": {
      "text/plain": [
       "array([                          'NaT', '2019-12-01T00:00:00.000000000',\n",
       "       '2019-11-01T00:00:00.000000000', '2019-10-01T00:00:00.000000000',\n",
       "       '2020-01-01T00:00:00.000000000'], dtype='datetime64[ns]')"
      ]
     },
     "execution_count": 25,
     "metadata": {},
     "output_type": "execute_result"
    }
   ],
   "source": [
    "df['end_date'].unique()"
   ]
  },
  {
   "cell_type": "markdown",
   "id": "4dac78d5-75a7-4090-9455-98208c05f037",
   "metadata": {},
   "source": [
    "Всего четыре даты и пропуски. Оставим эти пропуски, они необходимы. Из них мы сделаем целевой признак."
   ]
  },
  {
   "cell_type": "markdown",
   "id": "d3d70674-96c2-40df-bd6f-c330065702d8",
   "metadata": {},
   "source": [
    "Проверим, что получилось в итоге:"
   ]
  },
  {
   "cell_type": "code",
   "execution_count": 26,
   "id": "02bd5375-d77f-40ab-85ed-57d64b4177e0",
   "metadata": {
    "scrolled": true
   },
   "outputs": [
    {
     "data": {
      "text/html": [
       "<div>\n",
       "<style scoped>\n",
       "    .dataframe tbody tr th:only-of-type {\n",
       "        vertical-align: middle;\n",
       "    }\n",
       "\n",
       "    .dataframe tbody tr th {\n",
       "        vertical-align: top;\n",
       "    }\n",
       "\n",
       "    .dataframe thead th {\n",
       "        text-align: right;\n",
       "    }\n",
       "</style>\n",
       "<table border=\"1\" class=\"dataframe\">\n",
       "  <thead>\n",
       "    <tr style=\"text-align: right;\">\n",
       "      <th></th>\n",
       "      <th>begin_date</th>\n",
       "      <th>end_date</th>\n",
       "      <th>type</th>\n",
       "      <th>paperless_billing</th>\n",
       "      <th>payment_method</th>\n",
       "      <th>monthly_charges</th>\n",
       "      <th>total_charges</th>\n",
       "      <th>internet_service</th>\n",
       "      <th>online_security</th>\n",
       "      <th>online_backup</th>\n",
       "      <th>device_protection</th>\n",
       "      <th>tech_support</th>\n",
       "      <th>streaming_tv</th>\n",
       "      <th>streaming_movies</th>\n",
       "      <th>gender_male</th>\n",
       "      <th>senior_citizen</th>\n",
       "      <th>partner</th>\n",
       "      <th>dependents</th>\n",
       "      <th>multiple_lines</th>\n",
       "    </tr>\n",
       "    <tr>\n",
       "      <th>customer_id</th>\n",
       "      <th></th>\n",
       "      <th></th>\n",
       "      <th></th>\n",
       "      <th></th>\n",
       "      <th></th>\n",
       "      <th></th>\n",
       "      <th></th>\n",
       "      <th></th>\n",
       "      <th></th>\n",
       "      <th></th>\n",
       "      <th></th>\n",
       "      <th></th>\n",
       "      <th></th>\n",
       "      <th></th>\n",
       "      <th></th>\n",
       "      <th></th>\n",
       "      <th></th>\n",
       "      <th></th>\n",
       "      <th></th>\n",
       "    </tr>\n",
       "  </thead>\n",
       "  <tbody>\n",
       "    <tr>\n",
       "      <th>7590-VHVEG</th>\n",
       "      <td>2020-01-01</td>\n",
       "      <td>NaT</td>\n",
       "      <td>Month-to-month</td>\n",
       "      <td>True</td>\n",
       "      <td>Electronic check</td>\n",
       "      <td>29.85</td>\n",
       "      <td>29.85</td>\n",
       "      <td>DSL</td>\n",
       "      <td>False</td>\n",
       "      <td>True</td>\n",
       "      <td>False</td>\n",
       "      <td>False</td>\n",
       "      <td>False</td>\n",
       "      <td>False</td>\n",
       "      <td>False</td>\n",
       "      <td>False</td>\n",
       "      <td>True</td>\n",
       "      <td>False</td>\n",
       "      <td>No phone</td>\n",
       "    </tr>\n",
       "    <tr>\n",
       "      <th>5575-GNVDE</th>\n",
       "      <td>2017-04-01</td>\n",
       "      <td>NaT</td>\n",
       "      <td>One year</td>\n",
       "      <td>False</td>\n",
       "      <td>Mailed check</td>\n",
       "      <td>56.95</td>\n",
       "      <td>1889.50</td>\n",
       "      <td>DSL</td>\n",
       "      <td>True</td>\n",
       "      <td>False</td>\n",
       "      <td>True</td>\n",
       "      <td>False</td>\n",
       "      <td>False</td>\n",
       "      <td>False</td>\n",
       "      <td>True</td>\n",
       "      <td>False</td>\n",
       "      <td>False</td>\n",
       "      <td>False</td>\n",
       "      <td>No</td>\n",
       "    </tr>\n",
       "    <tr>\n",
       "      <th>3668-QPYBK</th>\n",
       "      <td>2019-10-01</td>\n",
       "      <td>2019-12-01</td>\n",
       "      <td>Month-to-month</td>\n",
       "      <td>True</td>\n",
       "      <td>Mailed check</td>\n",
       "      <td>53.85</td>\n",
       "      <td>108.15</td>\n",
       "      <td>DSL</td>\n",
       "      <td>True</td>\n",
       "      <td>True</td>\n",
       "      <td>False</td>\n",
       "      <td>False</td>\n",
       "      <td>False</td>\n",
       "      <td>False</td>\n",
       "      <td>True</td>\n",
       "      <td>False</td>\n",
       "      <td>False</td>\n",
       "      <td>False</td>\n",
       "      <td>No</td>\n",
       "    </tr>\n",
       "    <tr>\n",
       "      <th>7795-CFOCW</th>\n",
       "      <td>2016-05-01</td>\n",
       "      <td>NaT</td>\n",
       "      <td>One year</td>\n",
       "      <td>False</td>\n",
       "      <td>Bank transfer (automatic)</td>\n",
       "      <td>42.30</td>\n",
       "      <td>1840.75</td>\n",
       "      <td>DSL</td>\n",
       "      <td>True</td>\n",
       "      <td>False</td>\n",
       "      <td>True</td>\n",
       "      <td>True</td>\n",
       "      <td>False</td>\n",
       "      <td>False</td>\n",
       "      <td>True</td>\n",
       "      <td>False</td>\n",
       "      <td>False</td>\n",
       "      <td>False</td>\n",
       "      <td>No phone</td>\n",
       "    </tr>\n",
       "    <tr>\n",
       "      <th>9237-HQITU</th>\n",
       "      <td>2019-09-01</td>\n",
       "      <td>2019-11-01</td>\n",
       "      <td>Month-to-month</td>\n",
       "      <td>True</td>\n",
       "      <td>Electronic check</td>\n",
       "      <td>70.70</td>\n",
       "      <td>151.65</td>\n",
       "      <td>Fiber optic</td>\n",
       "      <td>False</td>\n",
       "      <td>False</td>\n",
       "      <td>False</td>\n",
       "      <td>False</td>\n",
       "      <td>False</td>\n",
       "      <td>False</td>\n",
       "      <td>False</td>\n",
       "      <td>False</td>\n",
       "      <td>False</td>\n",
       "      <td>False</td>\n",
       "      <td>No</td>\n",
       "    </tr>\n",
       "  </tbody>\n",
       "</table>\n",
       "</div>"
      ],
      "text/plain": [
       "            begin_date   end_date            type  paperless_billing  \\\n",
       "customer_id                                                            \n",
       "7590-VHVEG  2020-01-01        NaT  Month-to-month               True   \n",
       "5575-GNVDE  2017-04-01        NaT        One year              False   \n",
       "3668-QPYBK  2019-10-01 2019-12-01  Month-to-month               True   \n",
       "7795-CFOCW  2016-05-01        NaT        One year              False   \n",
       "9237-HQITU  2019-09-01 2019-11-01  Month-to-month               True   \n",
       "\n",
       "                        payment_method  monthly_charges  total_charges  \\\n",
       "customer_id                                                              \n",
       "7590-VHVEG            Electronic check            29.85          29.85   \n",
       "5575-GNVDE                Mailed check            56.95        1889.50   \n",
       "3668-QPYBK                Mailed check            53.85         108.15   \n",
       "7795-CFOCW   Bank transfer (automatic)            42.30        1840.75   \n",
       "9237-HQITU            Electronic check            70.70         151.65   \n",
       "\n",
       "            internet_service  online_security  online_backup  \\\n",
       "customer_id                                                    \n",
       "7590-VHVEG               DSL            False           True   \n",
       "5575-GNVDE               DSL             True          False   \n",
       "3668-QPYBK               DSL             True           True   \n",
       "7795-CFOCW               DSL             True          False   \n",
       "9237-HQITU       Fiber optic            False          False   \n",
       "\n",
       "             device_protection  tech_support  streaming_tv  streaming_movies  \\\n",
       "customer_id                                                                    \n",
       "7590-VHVEG               False         False         False             False   \n",
       "5575-GNVDE                True         False         False             False   \n",
       "3668-QPYBK               False         False         False             False   \n",
       "7795-CFOCW                True          True         False             False   \n",
       "9237-HQITU               False         False         False             False   \n",
       "\n",
       "             gender_male  senior_citizen  partner  dependents multiple_lines  \n",
       "customer_id                                                                   \n",
       "7590-VHVEG         False           False     True       False       No phone  \n",
       "5575-GNVDE          True           False    False       False             No  \n",
       "3668-QPYBK          True           False    False       False             No  \n",
       "7795-CFOCW          True           False    False       False       No phone  \n",
       "9237-HQITU         False           False    False       False             No  "
      ]
     },
     "metadata": {},
     "output_type": "display_data"
    },
    {
     "name": "stdout",
     "output_type": "stream",
     "text": [
      "--------------------------------------\n",
      "Размер:\n",
      "(7043, 19)\n",
      "--------------------------------------\n",
      "Информация:\n",
      "<class 'pandas.core.frame.DataFrame'>\n",
      "Index: 7043 entries, 7590-VHVEG to 3186-AJIEK\n",
      "Data columns (total 19 columns):\n",
      " #   Column             Non-Null Count  Dtype         \n",
      "---  ------             --------------  -----         \n",
      " 0   begin_date         7043 non-null   datetime64[ns]\n",
      " 1   end_date           1869 non-null   datetime64[ns]\n",
      " 2   type               7043 non-null   object        \n",
      " 3   paperless_billing  7043 non-null   bool          \n",
      " 4   payment_method     7043 non-null   object        \n",
      " 5   monthly_charges    7043 non-null   float64       \n",
      " 6   total_charges      7043 non-null   float64       \n",
      " 7   internet_service   7043 non-null   object        \n",
      " 8   online_security    7043 non-null   bool          \n",
      " 9   online_backup      7043 non-null   bool          \n",
      " 10  device_protection  7043 non-null   bool          \n",
      " 11  tech_support       7043 non-null   bool          \n",
      " 12  streaming_tv       7043 non-null   bool          \n",
      " 13  streaming_movies   7043 non-null   bool          \n",
      " 14  gender_male        7043 non-null   bool          \n",
      " 15  senior_citizen     7043 non-null   bool          \n",
      " 16  partner            7043 non-null   bool          \n",
      " 17  dependents         7043 non-null   bool          \n",
      " 18  multiple_lines     7043 non-null   object        \n",
      "dtypes: bool(11), datetime64[ns](2), float64(2), object(4)\n",
      "memory usage: 570.9+ KB\n",
      "None\n",
      "--------------------------------------\n",
      "Дубликаты:\n",
      "13\n",
      "--------------------------------------\n",
      "Пропуски:\n",
      "begin_date              0\n",
      "end_date             5174\n",
      "type                    0\n",
      "paperless_billing       0\n",
      "payment_method          0\n",
      "monthly_charges         0\n",
      "total_charges           0\n",
      "internet_service        0\n",
      "online_security         0\n",
      "online_backup           0\n",
      "device_protection       0\n",
      "tech_support            0\n",
      "streaming_tv            0\n",
      "streaming_movies        0\n",
      "gender_male             0\n",
      "senior_citizen          0\n",
      "partner                 0\n",
      "dependents              0\n",
      "multiple_lines          0\n",
      "dtype: int64\n",
      "--------------------------------------\n",
      "Описание данных:\n"
     ]
    },
    {
     "data": {
      "text/html": [
       "<div>\n",
       "<style scoped>\n",
       "    .dataframe tbody tr th:only-of-type {\n",
       "        vertical-align: middle;\n",
       "    }\n",
       "\n",
       "    .dataframe tbody tr th {\n",
       "        vertical-align: top;\n",
       "    }\n",
       "\n",
       "    .dataframe thead th {\n",
       "        text-align: right;\n",
       "    }\n",
       "</style>\n",
       "<table border=\"1\" class=\"dataframe\">\n",
       "  <thead>\n",
       "    <tr style=\"text-align: right;\">\n",
       "      <th></th>\n",
       "      <th>begin_date</th>\n",
       "      <th>end_date</th>\n",
       "      <th>type</th>\n",
       "      <th>paperless_billing</th>\n",
       "      <th>payment_method</th>\n",
       "      <th>monthly_charges</th>\n",
       "      <th>total_charges</th>\n",
       "      <th>internet_service</th>\n",
       "      <th>online_security</th>\n",
       "      <th>online_backup</th>\n",
       "      <th>device_protection</th>\n",
       "      <th>tech_support</th>\n",
       "      <th>streaming_tv</th>\n",
       "      <th>streaming_movies</th>\n",
       "      <th>gender_male</th>\n",
       "      <th>senior_citizen</th>\n",
       "      <th>partner</th>\n",
       "      <th>dependents</th>\n",
       "      <th>multiple_lines</th>\n",
       "    </tr>\n",
       "  </thead>\n",
       "  <tbody>\n",
       "    <tr>\n",
       "      <th>count</th>\n",
       "      <td>7043</td>\n",
       "      <td>1869</td>\n",
       "      <td>7043</td>\n",
       "      <td>7043</td>\n",
       "      <td>7043</td>\n",
       "      <td>7043.000000</td>\n",
       "      <td>7043.000000</td>\n",
       "      <td>7043</td>\n",
       "      <td>7043</td>\n",
       "      <td>7043</td>\n",
       "      <td>7043</td>\n",
       "      <td>7043</td>\n",
       "      <td>7043</td>\n",
       "      <td>7043</td>\n",
       "      <td>7043</td>\n",
       "      <td>7043</td>\n",
       "      <td>7043</td>\n",
       "      <td>7043</td>\n",
       "      <td>7043</td>\n",
       "    </tr>\n",
       "    <tr>\n",
       "      <th>unique</th>\n",
       "      <td>77</td>\n",
       "      <td>4</td>\n",
       "      <td>3</td>\n",
       "      <td>2</td>\n",
       "      <td>4</td>\n",
       "      <td>NaN</td>\n",
       "      <td>NaN</td>\n",
       "      <td>3</td>\n",
       "      <td>2</td>\n",
       "      <td>2</td>\n",
       "      <td>2</td>\n",
       "      <td>2</td>\n",
       "      <td>2</td>\n",
       "      <td>2</td>\n",
       "      <td>2</td>\n",
       "      <td>2</td>\n",
       "      <td>2</td>\n",
       "      <td>2</td>\n",
       "      <td>3</td>\n",
       "    </tr>\n",
       "    <tr>\n",
       "      <th>top</th>\n",
       "      <td>2014-02-01 00:00:00</td>\n",
       "      <td>2019-11-01 00:00:00</td>\n",
       "      <td>Month-to-month</td>\n",
       "      <td>True</td>\n",
       "      <td>Electronic check</td>\n",
       "      <td>NaN</td>\n",
       "      <td>NaN</td>\n",
       "      <td>Fiber optic</td>\n",
       "      <td>False</td>\n",
       "      <td>False</td>\n",
       "      <td>False</td>\n",
       "      <td>False</td>\n",
       "      <td>False</td>\n",
       "      <td>False</td>\n",
       "      <td>True</td>\n",
       "      <td>False</td>\n",
       "      <td>False</td>\n",
       "      <td>False</td>\n",
       "      <td>No</td>\n",
       "    </tr>\n",
       "    <tr>\n",
       "      <th>freq</th>\n",
       "      <td>366</td>\n",
       "      <td>485</td>\n",
       "      <td>3875</td>\n",
       "      <td>4171</td>\n",
       "      <td>2365</td>\n",
       "      <td>NaN</td>\n",
       "      <td>NaN</td>\n",
       "      <td>3096</td>\n",
       "      <td>5024</td>\n",
       "      <td>4614</td>\n",
       "      <td>4621</td>\n",
       "      <td>4999</td>\n",
       "      <td>4336</td>\n",
       "      <td>4311</td>\n",
       "      <td>3555</td>\n",
       "      <td>5901</td>\n",
       "      <td>3641</td>\n",
       "      <td>4933</td>\n",
       "      <td>3390</td>\n",
       "    </tr>\n",
       "    <tr>\n",
       "      <th>first</th>\n",
       "      <td>2013-10-01 00:00:00</td>\n",
       "      <td>2019-10-01 00:00:00</td>\n",
       "      <td>NaN</td>\n",
       "      <td>NaN</td>\n",
       "      <td>NaN</td>\n",
       "      <td>NaN</td>\n",
       "      <td>NaN</td>\n",
       "      <td>NaN</td>\n",
       "      <td>NaN</td>\n",
       "      <td>NaN</td>\n",
       "      <td>NaN</td>\n",
       "      <td>NaN</td>\n",
       "      <td>NaN</td>\n",
       "      <td>NaN</td>\n",
       "      <td>NaN</td>\n",
       "      <td>NaN</td>\n",
       "      <td>NaN</td>\n",
       "      <td>NaN</td>\n",
       "      <td>NaN</td>\n",
       "    </tr>\n",
       "    <tr>\n",
       "      <th>last</th>\n",
       "      <td>2020-02-01 00:00:00</td>\n",
       "      <td>2020-01-01 00:00:00</td>\n",
       "      <td>NaN</td>\n",
       "      <td>NaN</td>\n",
       "      <td>NaN</td>\n",
       "      <td>NaN</td>\n",
       "      <td>NaN</td>\n",
       "      <td>NaN</td>\n",
       "      <td>NaN</td>\n",
       "      <td>NaN</td>\n",
       "      <td>NaN</td>\n",
       "      <td>NaN</td>\n",
       "      <td>NaN</td>\n",
       "      <td>NaN</td>\n",
       "      <td>NaN</td>\n",
       "      <td>NaN</td>\n",
       "      <td>NaN</td>\n",
       "      <td>NaN</td>\n",
       "      <td>NaN</td>\n",
       "    </tr>\n",
       "    <tr>\n",
       "      <th>mean</th>\n",
       "      <td>NaN</td>\n",
       "      <td>NaN</td>\n",
       "      <td>NaN</td>\n",
       "      <td>NaN</td>\n",
       "      <td>NaN</td>\n",
       "      <td>64.761692</td>\n",
       "      <td>2279.798992</td>\n",
       "      <td>NaN</td>\n",
       "      <td>NaN</td>\n",
       "      <td>NaN</td>\n",
       "      <td>NaN</td>\n",
       "      <td>NaN</td>\n",
       "      <td>NaN</td>\n",
       "      <td>NaN</td>\n",
       "      <td>NaN</td>\n",
       "      <td>NaN</td>\n",
       "      <td>NaN</td>\n",
       "      <td>NaN</td>\n",
       "      <td>NaN</td>\n",
       "    </tr>\n",
       "    <tr>\n",
       "      <th>std</th>\n",
       "      <td>NaN</td>\n",
       "      <td>NaN</td>\n",
       "      <td>NaN</td>\n",
       "      <td>NaN</td>\n",
       "      <td>NaN</td>\n",
       "      <td>30.090047</td>\n",
       "      <td>2266.730170</td>\n",
       "      <td>NaN</td>\n",
       "      <td>NaN</td>\n",
       "      <td>NaN</td>\n",
       "      <td>NaN</td>\n",
       "      <td>NaN</td>\n",
       "      <td>NaN</td>\n",
       "      <td>NaN</td>\n",
       "      <td>NaN</td>\n",
       "      <td>NaN</td>\n",
       "      <td>NaN</td>\n",
       "      <td>NaN</td>\n",
       "      <td>NaN</td>\n",
       "    </tr>\n",
       "    <tr>\n",
       "      <th>min</th>\n",
       "      <td>NaN</td>\n",
       "      <td>NaN</td>\n",
       "      <td>NaN</td>\n",
       "      <td>NaN</td>\n",
       "      <td>NaN</td>\n",
       "      <td>18.250000</td>\n",
       "      <td>18.800000</td>\n",
       "      <td>NaN</td>\n",
       "      <td>NaN</td>\n",
       "      <td>NaN</td>\n",
       "      <td>NaN</td>\n",
       "      <td>NaN</td>\n",
       "      <td>NaN</td>\n",
       "      <td>NaN</td>\n",
       "      <td>NaN</td>\n",
       "      <td>NaN</td>\n",
       "      <td>NaN</td>\n",
       "      <td>NaN</td>\n",
       "      <td>NaN</td>\n",
       "    </tr>\n",
       "    <tr>\n",
       "      <th>25%</th>\n",
       "      <td>NaN</td>\n",
       "      <td>NaN</td>\n",
       "      <td>NaN</td>\n",
       "      <td>NaN</td>\n",
       "      <td>NaN</td>\n",
       "      <td>35.500000</td>\n",
       "      <td>398.550000</td>\n",
       "      <td>NaN</td>\n",
       "      <td>NaN</td>\n",
       "      <td>NaN</td>\n",
       "      <td>NaN</td>\n",
       "      <td>NaN</td>\n",
       "      <td>NaN</td>\n",
       "      <td>NaN</td>\n",
       "      <td>NaN</td>\n",
       "      <td>NaN</td>\n",
       "      <td>NaN</td>\n",
       "      <td>NaN</td>\n",
       "      <td>NaN</td>\n",
       "    </tr>\n",
       "    <tr>\n",
       "      <th>50%</th>\n",
       "      <td>NaN</td>\n",
       "      <td>NaN</td>\n",
       "      <td>NaN</td>\n",
       "      <td>NaN</td>\n",
       "      <td>NaN</td>\n",
       "      <td>70.350000</td>\n",
       "      <td>1394.550000</td>\n",
       "      <td>NaN</td>\n",
       "      <td>NaN</td>\n",
       "      <td>NaN</td>\n",
       "      <td>NaN</td>\n",
       "      <td>NaN</td>\n",
       "      <td>NaN</td>\n",
       "      <td>NaN</td>\n",
       "      <td>NaN</td>\n",
       "      <td>NaN</td>\n",
       "      <td>NaN</td>\n",
       "      <td>NaN</td>\n",
       "      <td>NaN</td>\n",
       "    </tr>\n",
       "    <tr>\n",
       "      <th>75%</th>\n",
       "      <td>NaN</td>\n",
       "      <td>NaN</td>\n",
       "      <td>NaN</td>\n",
       "      <td>NaN</td>\n",
       "      <td>NaN</td>\n",
       "      <td>89.850000</td>\n",
       "      <td>3786.600000</td>\n",
       "      <td>NaN</td>\n",
       "      <td>NaN</td>\n",
       "      <td>NaN</td>\n",
       "      <td>NaN</td>\n",
       "      <td>NaN</td>\n",
       "      <td>NaN</td>\n",
       "      <td>NaN</td>\n",
       "      <td>NaN</td>\n",
       "      <td>NaN</td>\n",
       "      <td>NaN</td>\n",
       "      <td>NaN</td>\n",
       "      <td>NaN</td>\n",
       "    </tr>\n",
       "    <tr>\n",
       "      <th>max</th>\n",
       "      <td>NaN</td>\n",
       "      <td>NaN</td>\n",
       "      <td>NaN</td>\n",
       "      <td>NaN</td>\n",
       "      <td>NaN</td>\n",
       "      <td>118.750000</td>\n",
       "      <td>8684.800000</td>\n",
       "      <td>NaN</td>\n",
       "      <td>NaN</td>\n",
       "      <td>NaN</td>\n",
       "      <td>NaN</td>\n",
       "      <td>NaN</td>\n",
       "      <td>NaN</td>\n",
       "      <td>NaN</td>\n",
       "      <td>NaN</td>\n",
       "      <td>NaN</td>\n",
       "      <td>NaN</td>\n",
       "      <td>NaN</td>\n",
       "      <td>NaN</td>\n",
       "    </tr>\n",
       "  </tbody>\n",
       "</table>\n",
       "</div>"
      ],
      "text/plain": [
       "                 begin_date             end_date            type  \\\n",
       "count                  7043                 1869            7043   \n",
       "unique                   77                    4               3   \n",
       "top     2014-02-01 00:00:00  2019-11-01 00:00:00  Month-to-month   \n",
       "freq                    366                  485            3875   \n",
       "first   2013-10-01 00:00:00  2019-10-01 00:00:00             NaN   \n",
       "last    2020-02-01 00:00:00  2020-01-01 00:00:00             NaN   \n",
       "mean                    NaN                  NaN             NaN   \n",
       "std                     NaN                  NaN             NaN   \n",
       "min                     NaN                  NaN             NaN   \n",
       "25%                     NaN                  NaN             NaN   \n",
       "50%                     NaN                  NaN             NaN   \n",
       "75%                     NaN                  NaN             NaN   \n",
       "max                     NaN                  NaN             NaN   \n",
       "\n",
       "       paperless_billing    payment_method  monthly_charges  total_charges  \\\n",
       "count               7043              7043      7043.000000    7043.000000   \n",
       "unique                 2                 4              NaN            NaN   \n",
       "top                 True  Electronic check              NaN            NaN   \n",
       "freq                4171              2365              NaN            NaN   \n",
       "first                NaN               NaN              NaN            NaN   \n",
       "last                 NaN               NaN              NaN            NaN   \n",
       "mean                 NaN               NaN        64.761692    2279.798992   \n",
       "std                  NaN               NaN        30.090047    2266.730170   \n",
       "min                  NaN               NaN        18.250000      18.800000   \n",
       "25%                  NaN               NaN        35.500000     398.550000   \n",
       "50%                  NaN               NaN        70.350000    1394.550000   \n",
       "75%                  NaN               NaN        89.850000    3786.600000   \n",
       "max                  NaN               NaN       118.750000    8684.800000   \n",
       "\n",
       "       internet_service online_security online_backup device_protection  \\\n",
       "count              7043            7043          7043              7043   \n",
       "unique                3               2             2                 2   \n",
       "top         Fiber optic           False         False             False   \n",
       "freq               3096            5024          4614              4621   \n",
       "first               NaN             NaN           NaN               NaN   \n",
       "last                NaN             NaN           NaN               NaN   \n",
       "mean                NaN             NaN           NaN               NaN   \n",
       "std                 NaN             NaN           NaN               NaN   \n",
       "min                 NaN             NaN           NaN               NaN   \n",
       "25%                 NaN             NaN           NaN               NaN   \n",
       "50%                 NaN             NaN           NaN               NaN   \n",
       "75%                 NaN             NaN           NaN               NaN   \n",
       "max                 NaN             NaN           NaN               NaN   \n",
       "\n",
       "       tech_support streaming_tv streaming_movies gender_male senior_citizen  \\\n",
       "count          7043         7043             7043        7043           7043   \n",
       "unique            2            2                2           2              2   \n",
       "top           False        False            False        True          False   \n",
       "freq           4999         4336             4311        3555           5901   \n",
       "first           NaN          NaN              NaN         NaN            NaN   \n",
       "last            NaN          NaN              NaN         NaN            NaN   \n",
       "mean            NaN          NaN              NaN         NaN            NaN   \n",
       "std             NaN          NaN              NaN         NaN            NaN   \n",
       "min             NaN          NaN              NaN         NaN            NaN   \n",
       "25%             NaN          NaN              NaN         NaN            NaN   \n",
       "50%             NaN          NaN              NaN         NaN            NaN   \n",
       "75%             NaN          NaN              NaN         NaN            NaN   \n",
       "max             NaN          NaN              NaN         NaN            NaN   \n",
       "\n",
       "       partner dependents multiple_lines  \n",
       "count     7043       7043           7043  \n",
       "unique       2          2              3  \n",
       "top      False      False             No  \n",
       "freq      3641       4933           3390  \n",
       "first      NaN        NaN            NaN  \n",
       "last       NaN        NaN            NaN  \n",
       "mean       NaN        NaN            NaN  \n",
       "std        NaN        NaN            NaN  \n",
       "min        NaN        NaN            NaN  \n",
       "25%        NaN        NaN            NaN  \n",
       "50%        NaN        NaN            NaN  \n",
       "75%        NaN        NaN            NaN  \n",
       "max        NaN        NaN            NaN  "
      ]
     },
     "metadata": {},
     "output_type": "display_data"
    }
   ],
   "source": [
    "review_df(df)"
   ]
  },
  {
   "cell_type": "markdown",
   "id": "86190e84-9955-4042-acd7-5637c98e8509",
   "metadata": {},
   "source": [
    "Типы данных приведены к оптимальным.\n",
    "\n",
    "Пропуски заполнены.\n",
    "\n",
    "Остались пропуски только в столбце 'end_date'. Это нормально, они означают, что клиент ещё пользуется услугами."
   ]
  },
  {
   "cell_type": "markdown",
   "id": "53eecfca-6982-437f-811b-dbaf06ec85df",
   "metadata": {},
   "source": [
    "### Создание признаков"
   ]
  },
  {
   "cell_type": "markdown",
   "id": "0568cbc1-dc98-4996-bc8b-3815ce7fda11",
   "metadata": {},
   "source": [
    "#### Выделение целевого признака\n"
   ]
  },
  {
   "cell_type": "markdown",
   "id": "f3efcc03-52d4-4512-a58d-123a4397875f",
   "metadata": {},
   "source": [
    "В этом датафрейме нет целевого признака. \n",
    "\n",
    "Выведем его из столбца 'end_date' (если значение в столбце заполнено, это 1, если пустое - 0)\n"
   ]
  },
  {
   "cell_type": "code",
   "execution_count": 27,
   "id": "57506128-e2b7-4b3d-834d-554f55e5302e",
   "metadata": {},
   "outputs": [
    {
     "data": {
      "text/html": [
       "<div>\n",
       "<style scoped>\n",
       "    .dataframe tbody tr th:only-of-type {\n",
       "        vertical-align: middle;\n",
       "    }\n",
       "\n",
       "    .dataframe tbody tr th {\n",
       "        vertical-align: top;\n",
       "    }\n",
       "\n",
       "    .dataframe thead th {\n",
       "        text-align: right;\n",
       "    }\n",
       "</style>\n",
       "<table border=\"1\" class=\"dataframe\">\n",
       "  <thead>\n",
       "    <tr style=\"text-align: right;\">\n",
       "      <th></th>\n",
       "      <th>target</th>\n",
       "      <th>end_date</th>\n",
       "    </tr>\n",
       "    <tr>\n",
       "      <th>customer_id</th>\n",
       "      <th></th>\n",
       "      <th></th>\n",
       "    </tr>\n",
       "  </thead>\n",
       "  <tbody>\n",
       "    <tr>\n",
       "      <th>7590-VHVEG</th>\n",
       "      <td>0</td>\n",
       "      <td>NaT</td>\n",
       "    </tr>\n",
       "    <tr>\n",
       "      <th>5575-GNVDE</th>\n",
       "      <td>0</td>\n",
       "      <td>NaT</td>\n",
       "    </tr>\n",
       "    <tr>\n",
       "      <th>3668-QPYBK</th>\n",
       "      <td>1</td>\n",
       "      <td>2019-12-01</td>\n",
       "    </tr>\n",
       "    <tr>\n",
       "      <th>7795-CFOCW</th>\n",
       "      <td>0</td>\n",
       "      <td>NaT</td>\n",
       "    </tr>\n",
       "    <tr>\n",
       "      <th>9237-HQITU</th>\n",
       "      <td>1</td>\n",
       "      <td>2019-11-01</td>\n",
       "    </tr>\n",
       "  </tbody>\n",
       "</table>\n",
       "</div>"
      ],
      "text/plain": [
       "             target   end_date\n",
       "customer_id                   \n",
       "7590-VHVEG        0        NaT\n",
       "5575-GNVDE        0        NaT\n",
       "3668-QPYBK        1 2019-12-01\n",
       "7795-CFOCW        0        NaT\n",
       "9237-HQITU        1 2019-11-01"
      ]
     },
     "execution_count": 27,
     "metadata": {},
     "output_type": "execute_result"
    }
   ],
   "source": [
    "df['target'] = np.where(df['end_date'].isna(), 0, 1)\n",
    "df[['target', 'end_date']].head()    # проверка"
   ]
  },
  {
   "cell_type": "markdown",
   "id": "1e41c26c-fa87-4fe7-a6eb-4c89e0e06bdb",
   "metadata": {},
   "source": [
    "#### Создание признака времени"
   ]
  },
  {
   "cell_type": "markdown",
   "id": "d6afb98e-e46c-4213-83cd-c991e814dda4",
   "metadata": {},
   "source": [
    "Столбец с датой начала кажется неудобным для обучения моделей. \n",
    "\n",
    "Сделаем из него сделать новый - с количеством дней, когда человек пользовался услугами. \n"
   ]
  },
  {
   "cell_type": "code",
   "execution_count": 28,
   "id": "ef49bcfb-fce2-4872-a6af-516ad98d5e8a",
   "metadata": {
    "scrolled": true,
    "tags": []
   },
   "outputs": [
    {
     "data": {
      "text/html": [
       "<div>\n",
       "<style scoped>\n",
       "    .dataframe tbody tr th:only-of-type {\n",
       "        vertical-align: middle;\n",
       "    }\n",
       "\n",
       "    .dataframe tbody tr th {\n",
       "        vertical-align: top;\n",
       "    }\n",
       "\n",
       "    .dataframe thead th {\n",
       "        text-align: right;\n",
       "    }\n",
       "</style>\n",
       "<table border=\"1\" class=\"dataframe\">\n",
       "  <thead>\n",
       "    <tr style=\"text-align: right;\">\n",
       "      <th></th>\n",
       "      <th>days</th>\n",
       "      <th>end_date</th>\n",
       "      <th>begin_date</th>\n",
       "    </tr>\n",
       "    <tr>\n",
       "      <th>customer_id</th>\n",
       "      <th></th>\n",
       "      <th></th>\n",
       "      <th></th>\n",
       "    </tr>\n",
       "  </thead>\n",
       "  <tbody>\n",
       "    <tr>\n",
       "      <th>7590-VHVEG</th>\n",
       "      <td>31</td>\n",
       "      <td>NaT</td>\n",
       "      <td>2020-01-01</td>\n",
       "    </tr>\n",
       "    <tr>\n",
       "      <th>5575-GNVDE</th>\n",
       "      <td>1036</td>\n",
       "      <td>NaT</td>\n",
       "      <td>2017-04-01</td>\n",
       "    </tr>\n",
       "    <tr>\n",
       "      <th>3668-QPYBK</th>\n",
       "      <td>61</td>\n",
       "      <td>2019-12-01</td>\n",
       "      <td>2019-10-01</td>\n",
       "    </tr>\n",
       "    <tr>\n",
       "      <th>7795-CFOCW</th>\n",
       "      <td>1371</td>\n",
       "      <td>NaT</td>\n",
       "      <td>2016-05-01</td>\n",
       "    </tr>\n",
       "    <tr>\n",
       "      <th>9237-HQITU</th>\n",
       "      <td>61</td>\n",
       "      <td>2019-11-01</td>\n",
       "      <td>2019-09-01</td>\n",
       "    </tr>\n",
       "  </tbody>\n",
       "</table>\n",
       "</div>"
      ],
      "text/plain": [
       "             days   end_date begin_date\n",
       "customer_id                            \n",
       "7590-VHVEG     31        NaT 2020-01-01\n",
       "5575-GNVDE   1036        NaT 2017-04-01\n",
       "3668-QPYBK     61 2019-12-01 2019-10-01\n",
       "7795-CFOCW   1371        NaT 2016-05-01\n",
       "9237-HQITU     61 2019-11-01 2019-09-01"
      ]
     },
     "execution_count": 28,
     "metadata": {},
     "output_type": "execute_result"
    }
   ],
   "source": [
    "df['days'] = np.where(df['end_date'].isna(),\n",
    "                      DATE-df['begin_date'],    \n",
    "                      df['end_date']-df['begin_date'])\n",
    "df['days'] = df['days'].dt.days\n",
    "df[['days','end_date','begin_date']].head()    # проверка "
   ]
  },
  {
   "cell_type": "markdown",
   "id": "afa1006d-87fe-43b5-a449-52d9c71e7613",
   "metadata": {},
   "source": [
    "### Исследовательский анализ данных"
   ]
  },
  {
   "cell_type": "markdown",
   "id": "74f14a98-ea71-4b43-ba24-fb251bff7a64",
   "metadata": {},
   "source": [
    "#### Анализ численных данных"
   ]
  },
  {
   "cell_type": "code",
   "execution_count": 29,
   "id": "ab09828e-ceeb-4856-9201-990bcfb7889f",
   "metadata": {},
   "outputs": [
    {
     "data": {
      "image/png": "[encoded data removed]",
      "text/plain": [
       "<Figure size 720x288 with 1 Axes>"
      ]
     },
     "metadata": {
      "needs_background": "light"
     },
     "output_type": "display_data"
    }
   ],
   "source": [
    "plt.figure(figsize=(10, 4))\n",
    "n, bins, patches = plt.hist(df['monthly_charges'], bins = 50, color = 'm')\n",
    "plt.xlabel('Оплата за месяц')\n",
    "plt.ylabel('Количество примеров')\n",
    "plt.title('Частотная диаграмма распределения месячной оплаты')\n",
    "plt.grid(True)\n",
    "plt.show()"
   ]
  },
  {
   "cell_type": "markdown",
   "id": "3072b222",
   "metadata": {},
   "source": [
    "Общее распределение выглядело бы как нормальное, если бы не выброс в районе минимума. Там отображаются клиенты, которым достаточно минимального тарифа."
   ]
  },
  {
   "cell_type": "markdown",
   "id": "4b995fef",
   "metadata": {},
   "source": [
    "Посмотрим на статистики лояльных и ушедших клиентов:"
   ]
  },
  {
   "cell_type": "code",
   "execution_count": 30,
   "id": "087b684d",
   "metadata": {},
   "outputs": [
    {
     "data": {
      "text/html": [
       "<div>\n",
       "<style scoped>\n",
       "    .dataframe tbody tr th:only-of-type {\n",
       "        vertical-align: middle;\n",
       "    }\n",
       "\n",
       "    .dataframe tbody tr th {\n",
       "        vertical-align: top;\n",
       "    }\n",
       "\n",
       "    .dataframe thead th {\n",
       "        text-align: right;\n",
       "    }\n",
       "</style>\n",
       "<table border=\"1\" class=\"dataframe\">\n",
       "  <thead>\n",
       "    <tr style=\"text-align: right;\">\n",
       "      <th></th>\n",
       "      <th>loyal</th>\n",
       "      <th>left</th>\n",
       "    </tr>\n",
       "  </thead>\n",
       "  <tbody>\n",
       "    <tr>\n",
       "      <th>count</th>\n",
       "      <td>5174.000000</td>\n",
       "      <td>1869.000000</td>\n",
       "    </tr>\n",
       "    <tr>\n",
       "      <th>mean</th>\n",
       "      <td>61.265124</td>\n",
       "      <td>74.441332</td>\n",
       "    </tr>\n",
       "    <tr>\n",
       "      <th>std</th>\n",
       "      <td>31.092648</td>\n",
       "      <td>24.666053</td>\n",
       "    </tr>\n",
       "    <tr>\n",
       "      <th>min</th>\n",
       "      <td>18.250000</td>\n",
       "      <td>18.850000</td>\n",
       "    </tr>\n",
       "    <tr>\n",
       "      <th>25%</th>\n",
       "      <td>25.100000</td>\n",
       "      <td>56.150000</td>\n",
       "    </tr>\n",
       "    <tr>\n",
       "      <th>50%</th>\n",
       "      <td>64.425000</td>\n",
       "      <td>79.650000</td>\n",
       "    </tr>\n",
       "    <tr>\n",
       "      <th>75%</th>\n",
       "      <td>88.400000</td>\n",
       "      <td>94.200000</td>\n",
       "    </tr>\n",
       "    <tr>\n",
       "      <th>max</th>\n",
       "      <td>118.750000</td>\n",
       "      <td>118.350000</td>\n",
       "    </tr>\n",
       "  </tbody>\n",
       "</table>\n",
       "</div>"
      ],
      "text/plain": [
       "             loyal         left\n",
       "count  5174.000000  1869.000000\n",
       "mean     61.265124    74.441332\n",
       "std      31.092648    24.666053\n",
       "min      18.250000    18.850000\n",
       "25%      25.100000    56.150000\n",
       "50%      64.425000    79.650000\n",
       "75%      88.400000    94.200000\n",
       "max     118.750000   118.350000"
      ]
     },
     "metadata": {},
     "output_type": "display_data"
    }
   ],
   "source": [
    "df_loyal = df.loc[df['end_date'].isna()]['monthly_charges']\n",
    "df_left = df.loc[df['end_date'].notna()]['monthly_charges']\n",
    "\n",
    "display(\n",
    "    pd.DataFrame({\n",
    "    'loyal' : df_loyal.describe(),\n",
    "    'left': df_left.describe()\n",
    "    }))"
   ]
  },
  {
   "cell_type": "markdown",
   "id": "abc7bf9b",
   "metadata": {},
   "source": [
    "- Лояльных клиентов намного больше, это плюс для бизнеса.\n",
    "- Средняя оплата за месяц у ушедших клиентов выше, чем у лояльных (74 и 61 соответственно)\n",
    "- Медианная оплата за месяц у ушедших также выше (79 и 64)\n",
    "- Минимум и максимум отличаются незначительно\n",
    "- У лояльных клиентов больше стандартное отклонение и, следовательно, разброс в значениях."
   ]
  },
  {
   "cell_type": "markdown",
   "id": "e32cfd56",
   "metadata": {},
   "source": [
    "Оценим диаграмму размаха:"
   ]
  },
  {
   "cell_type": "code",
   "execution_count": 31,
   "id": "04f3b1ec",
   "metadata": {},
   "outputs": [
    {
     "data": {
      "image/png": "[encoded data removed]",
      "text/plain": [
       "<Figure size 288x432 with 1 Axes>"
      ]
     },
     "metadata": {
      "needs_background": "light"
     },
     "output_type": "display_data"
    }
   ],
   "source": [
    "plt.figure(figsize=(4, 6))\n",
    "plt.boxplot([df_loyal, df_left], \n",
    "            patch_artist = True, \n",
    "            widths=0.3, \n",
    "            labels=['Лояльные абоненты', 'Ушедшие абоненты'])\n",
    "plt.ylabel('Среднемесячные платежи')\n",
    "plt.yticks(np.arange(0, 130, 10))\n",
    "plt.title('Ежемесячные платежи')\n",
    "plt.show()"
   ]
  },
  {
   "cell_type": "markdown",
   "id": "8c48eac6",
   "metadata": {},
   "source": [
    "Посмотрим на гистограммы распределения ежемесячных платежей для лояльных и ушедших клиентов:"
   ]
  },
  {
   "cell_type": "code",
   "execution_count": 32,
   "id": "e9f09244",
   "metadata": {},
   "outputs": [
    {
     "data": {
      "image/png": "[encoded data removed]",
      "text/plain": [
       "<Figure size 720x360 with 1 Axes>"
      ]
     },
     "metadata": {
      "needs_background": "light"
     },
     "output_type": "display_data"
    }
   ],
   "source": [
    "weights_loyal = np.ones_like(df_loyal) / len(df_loyal)\n",
    "weights_left = (np.ones_like(df_left) / len(df_left))\n",
    "                              \n",
    "plt.figure(figsize=(10, 5))\n",
    "df_loyal.hist(bins=50, weights=weights_loyal, alpha=0.5, label = 'Лояльные клиенты')\n",
    "df_left.hist(bins=50, weights=weights_left, alpha=0.5, label = 'Ушедшие клиенты')\n",
    "plt.title('Среднемесячные платежи всех и ушедших абонентов')\n",
    "plt.xlabel('Среднемесячный платеж')\n",
    "plt.ylabel('Относительная частота')\n",
    "plt.legend()\n",
    "plt.show()"
   ]
  },
  {
   "cell_type": "markdown",
   "id": "078d8c6e",
   "metadata": {},
   "source": [
    "Среди ушедших клиентов распределение равномернее, большая часть оплачивала от 70 и выше за месяц. На обоих графиках есть явный пик в начале, в районе стоимости 20 за месяц. Выброс, вероятно, говорит о том, что много людей пользуются минимальным тарифом. \n",
    "\n",
    "Из графиков следует, что уходят важные клиенты, оплачивающие большие суммы за месяц. Это подтверждает необходимость удержать их от ухода."
   ]
  },
  {
   "cell_type": "code",
   "execution_count": 33,
   "id": "4a37d7e8-2e2e-422c-ac18-9eb2e19b12be",
   "metadata": {},
   "outputs": [
    {
     "data": {
      "image/png": "[encoded data removed]",
      "text/plain": [
       "<Figure size 864x432 with 1 Axes>"
      ]
     },
     "metadata": {
      "needs_background": "light"
     },
     "output_type": "display_data"
    }
   ],
   "source": [
    "plt.figure(figsize=(12, 6))\n",
    "n, bins, patches = plt.hist(df['total_charges'], 50, color = 'tab:blue')\n",
    "plt.xlabel('Оплата за всё время')\n",
    "plt.ylabel('Количество примеров')\n",
    "plt.title('Оплата за всё время')\n",
    "plt.grid(True)\n",
    "plt.show()"
   ]
  },
  {
   "cell_type": "markdown",
   "id": "007aa299-f954-41d5-8934-e2b45a487e08",
   "metadata": {},
   "source": [
    "График равномерно убывает, есть выброс в районе минимума. Судя по всему, эти клиенты недавно заключили договоры.\n",
    "\n",
    "Это можно посмотреть."
   ]
  },
  {
   "cell_type": "code",
   "execution_count": 34,
   "id": "d79e54b2-1787-4e0d-83f7-6008c0161f5e",
   "metadata": {},
   "outputs": [
    {
     "data": {
      "image/png": "[encoded data removed]",
      "text/plain": [
       "<Figure size 864x432 with 1 Axes>"
      ]
     },
     "metadata": {
      "needs_background": "light"
     },
     "output_type": "display_data"
    }
   ],
   "source": [
    "plt.figure(figsize=(12, 6))\n",
    "n, bins, patches = plt.hist(df['begin_date'], df['begin_date'].nunique(), color = 'tab:green' )\n",
    "plt.ylabel('Количество примеров')\n",
    "plt.xlabel('Дата заключения договора')\n",
    "plt.title('Даты заключения договора')\n",
    "plt.grid(True)\n",
    "plt.show()"
   ]
  },
  {
   "cell_type": "markdown",
   "id": "7af08582-5505-4d8c-bcad-5b8e2ebc6815",
   "metadata": {},
   "source": [
    "Интересно, что есть большой выброс в начале 2014 года. Возможно, это время начала работы компании и результат какой-то рекламной акции на старте, либо это время, когда перезаключались старые договора, если компания начала деятельность раньше.\n",
    "\n",
    "В остальном график выглядит правдоподобно: резкий рост в начале, затем равномерное увеличение количества клиентов и в последние годы рост количества клиентов ускоряется."
   ]
  },
  {
   "cell_type": "markdown",
   "id": "2668cab0-cb04-4863-a496-1a961066f2da",
   "metadata": {},
   "source": [
    "#### Анализ категориальных данных"
   ]
  },
  {
   "cell_type": "markdown",
   "id": "c46676d4-37d5-4da9-93c4-8d032a7b7f23",
   "metadata": {},
   "source": [
    "Посмотрим на графиках, как распределены данные в столбцах \"type\", \"payment_method\", \"internet_service\", \"multiple_lines\"."
   ]
  },
  {
   "cell_type": "code",
   "execution_count": 35,
   "id": "0943ed74-d3b0-4661-a577-4549783ac3a9",
   "metadata": {},
   "outputs": [
    {
     "data": {
      "image/png": "[encoded data removed]",
      "text/plain": [
       "<Figure size 504x504 with 1 Axes>"
      ]
     },
     "metadata": {},
     "output_type": "display_data"
    }
   ],
   "source": [
    "plt.figure(figsize=(7, 7))\n",
    "plt.pie(list(df['type'].value_counts()), \n",
    "          labels=list(df['type'].value_counts().index), autopct='%.0f%%', \n",
    "          colors = ['pink', 'silver', 'steelblue'])\n",
    "plt.title('Диаграмма графиков оплаты')\n",
    "plt.show()"
   ]
  },
  {
   "cell_type": "markdown",
   "id": "092be291-062f-460c-8f64-9c11d3adc3e8",
   "metadata": {},
   "source": [
    "Больше половины клиентов предпочитают помесячную оплату."
   ]
  },
  {
   "cell_type": "code",
   "execution_count": 36,
   "id": "f3eaf1b7-c060-4881-9a1c-c2d66b900c67",
   "metadata": {},
   "outputs": [
    {
     "data": {
      "image/png": "[encoded data removed]",
      "text/plain": [
       "<Figure size 504x504 with 1 Axes>"
      ]
     },
     "metadata": {},
     "output_type": "display_data"
    }
   ],
   "source": [
    "plt.figure(figsize=(7, 7))\n",
    "plt.pie(list(df['payment_method'].value_counts()), \n",
    "          labels=list(df['payment_method'].value_counts().index), autopct='%.0f%%', \n",
    "          colors = ['pink', 'silver', 'steelblue', 'xkcd:eggshell'])\n",
    "plt.title('Диаграмма способов оплаты')\n",
    "plt.show()"
   ]
  },
  {
   "cell_type": "markdown",
   "id": "fd5c79b1-7174-4124-9eda-b2458e31dd9b",
   "metadata": {},
   "source": [
    "Способы оплаты распределены почти равномерно, но электронные чеки популярнее других."
   ]
  },
  {
   "cell_type": "code",
   "execution_count": 37,
   "id": "14258f91-c573-4ac0-bea5-146cfb906c6d",
   "metadata": {},
   "outputs": [
    {
     "data": {
      "image/png": "[encoded data removed]",
      "text/plain": [
       "<Figure size 504x504 with 1 Axes>"
      ]
     },
     "metadata": {},
     "output_type": "display_data"
    }
   ],
   "source": [
    "plt.figure(figsize=(7, 7))\n",
    "plt.pie(list(df['internet_service'].value_counts()), \n",
    "          labels=list(df['internet_service'].value_counts().index), autopct='%.0f%%', \n",
    "          colors = ['pink', 'silver', 'steelblue'])\n",
    "plt.title('Диаграмма способов подключения к интернету')\n",
    "plt.show()\n"
   ]
  },
  {
   "cell_type": "markdown",
   "id": "2dc655e0-907c-403e-b0a1-7884ee7ce013",
   "metadata": {},
   "source": [
    "Около 20% клиентов не пользуются интернетом. Среди пользователей интернета популярность DSL значительно превышает оптоволоконное подключение на 10%."
   ]
  },
  {
   "cell_type": "code",
   "execution_count": 38,
   "id": "4a332a19",
   "metadata": {
    "scrolled": false
   },
   "outputs": [
    {
     "data": {
      "image/png": "[encoded data removed]",
      "text/plain": [
       "<Figure size 504x504 with 1 Axes>"
      ]
     },
     "metadata": {},
     "output_type": "display_data"
    }
   ],
   "source": [
    "plt.figure(figsize=(7, 7))\n",
    "plt.pie(list(df['multiple_lines'].value_counts()), \n",
    "          labels=list(df['multiple_lines'].value_counts().index), autopct='%.0f%%', \n",
    "          colors = ['pink', 'silver', 'steelblue'])\n",
    "plt.title('Диаграмма услуг телефонии')\n",
    "plt.show()"
   ]
  },
  {
   "cell_type": "markdown",
   "id": "c6536381",
   "metadata": {},
   "source": [
    "Только 10% клиентов не пользуются телефонией. 48% пользуются телефоном с одной линией, 42% клиентов - немколькими линиями связи."
   ]
  },
  {
   "cell_type": "markdown",
   "id": "85f7d79e",
   "metadata": {},
   "source": [
    "Сравним предпочтения ушедших и лояльных клиентов в способах оплаты:"
   ]
  },
  {
   "cell_type": "code",
   "execution_count": 39,
   "id": "63702f8f",
   "metadata": {},
   "outputs": [
    {
     "data": {
      "image/png": "[encoded data removed]",
      "text/plain": [
       "<Figure size 720x360 with 2 Axes>"
      ]
     },
     "metadata": {},
     "output_type": "display_data"
    }
   ],
   "source": [
    "colors = ['pink', 'silver', 'steelblue']\n",
    "fig, (ax1, ax2) = plt.subplots(figsize=(10,5), nrows=1, ncols=2)\n",
    "fig.suptitle('Сравнение графиков оплаты', fontsize=15)\n",
    "ax1.pie(list(df.loc[df['target']==0]['type'].value_counts()), \n",
    "        labels=list(df['type'].value_counts().index), autopct='%.0f%%', \n",
    "        colors = colors, startangle = 45)\n",
    "ax1.set_title('Лояльные клиенты')\n",
    "ax2.pie(list(df.loc[df['target']==1]['type'].value_counts()), \n",
    "        labels=list(df['type'].value_counts().index), autopct='%.0f%%', \n",
    "        colors = colors, startangle = 0)\n",
    "ax2.set_title('Ушедшие  клиенты')\n",
    "plt.show()"
   ]
  },
  {
   "cell_type": "markdown",
   "id": "2b3fc137",
   "metadata": {},
   "source": [
    "Явное отличие в графиках - ушедшие клиенты пользовались помесячным тарифом оплаты, редко годовым, и всего 2,6% ушедших платили за два года сразу."
   ]
  },
  {
   "cell_type": "code",
   "execution_count": 40,
   "id": "016c57cd",
   "metadata": {},
   "outputs": [
    {
     "data": {
      "image/png": "[encoded data removed]",
      "text/plain": [
       "<Figure size 720x360 with 2 Axes>"
      ]
     },
     "metadata": {},
     "output_type": "display_data"
    }
   ],
   "source": [
    "colors = ['pink', 'silver', 'steelblue', 'xkcd:eggshell']\n",
    "fig, (ax1, ax2) = plt.subplots(figsize=(10, 5), nrows=1, ncols=2)\n",
    "fig.suptitle('Сравнение способов оплаты', fontsize=15)\n",
    "ax1.pie(list(df.loc[df['target']==0]['payment_method'].value_counts()), \n",
    "        labels=list(df['payment_method'].value_counts().index), autopct='%.1f%%', \n",
    "        colors = colors, startangle = 50)\n",
    "ax1.set_title('Лояльные клиенты')\n",
    "ax2.pie(list(df.loc[df['target']==1]['payment_method'].value_counts()), \n",
    "        labels=list(df['payment_method'].value_counts().index), autopct='%.0f%%', \n",
    "        colors = colors, startangle = -10)\n",
    "ax2.set_title('Ушедшие  клиенты')\n",
    "plt.show()"
   ]
  },
  {
   "cell_type": "markdown",
   "id": "f9139ff4",
   "metadata": {},
   "source": [
    "Лояльные клиенты равномерно используют все четыре возможных способа оплаты.\n",
    "\n",
    "Среди ушедших клиентов распределение неравномерное, они пользовались электронным чеком в 57% случаев, а автоматическое списание с кредитной карты выбирали только в 12% случаев.\n",
    "\n",
    "Можно предположить, что клиенты просто не получали электронный чек, и с этим связан их уход. \n",
    "\n",
    "Есть смысл предложить клиентам, которых выявит модель, перейти в оплаты по электронным чекам на другой способ."
   ]
  },
  {
   "cell_type": "code",
   "execution_count": 41,
   "id": "b3e2bd2d",
   "metadata": {},
   "outputs": [
    {
     "data": {
      "image/png": "[encoded data removed]",
      "text/plain": [
       "<Figure size 720x360 with 2 Axes>"
      ]
     },
     "metadata": {},
     "output_type": "display_data"
    }
   ],
   "source": [
    "colors = ['pink', 'silver', 'steelblue']\n",
    "fig, (ax1, ax2) = plt.subplots(figsize=(10,5), nrows=1, ncols=2)\n",
    "fig.suptitle('Сравнение способов подключения к интернету', fontsize=15)\n",
    "ax1.pie(list(df.loc[df['target']==0]['internet_service'].value_counts()), \n",
    "        labels=list(df['internet_service'].value_counts().index), autopct='%.0f%%', \n",
    "        colors = colors, startangle = 45)\n",
    "ax1.set_title('Лояльные клиенты')\n",
    "ax2.pie(list(df.loc[df['target']==1]['internet_service'].value_counts()), \n",
    "        labels=list(df['internet_service'].value_counts().index), autopct='%.0f%%', \n",
    "        colors = colors, startangle = 0)\n",
    "ax2.set_title('Ушедшие  клиенты')\n",
    "plt.show()"
   ]
  },
  {
   "cell_type": "markdown",
   "id": "825181c7",
   "metadata": {},
   "source": [
    "Ушедшие клиенты гораздо чаще лояльных пользовались технологией Fiber Optic. \n",
    "\n",
    "Есть смысл предложить потенциально уходящи клиентам, которых выявит модель, перейти на DSL."
   ]
  },
  {
   "cell_type": "code",
   "execution_count": 42,
   "id": "55497122",
   "metadata": {
    "scrolled": true
   },
   "outputs": [
    {
     "data": {
      "image/png": "[encoded data removed]",
      "text/plain": [
       "<Figure size 720x360 with 2 Axes>"
      ]
     },
     "metadata": {},
     "output_type": "display_data"
    }
   ],
   "source": [
    "colors = ['pink', 'silver', 'steelblue']\n",
    "fig, (ax1, ax2) = plt.subplots(figsize=(10,5), nrows=1, ncols=2)\n",
    "fig.suptitle('Сравнение использования услуг телефонии', fontsize=15)\n",
    "ax1.pie(list(df.loc[df['target']==0]['internet_service'].value_counts()), \n",
    "        labels=list(df['multiple_lines'].value_counts().index), autopct='%.0f%%', \n",
    "        colors = colors, startangle = 45)\n",
    "ax1.set_title('Лояльные клиенты')\n",
    "ax2.pie(list(df.loc[df['target']==1]['internet_service'].value_counts()), \n",
    "        labels=list(df['multiple_lines'].value_counts().index), autopct='%.0f%%', \n",
    "        colors = colors, startangle = 0)\n",
    "ax2.set_title('Ушедшие  клиенты')\n",
    "plt.show()"
   ]
  },
  {
   "cell_type": "markdown",
   "id": "234ebd4e",
   "metadata": {},
   "source": [
    "Среди ушедших клиентов гораздо ниже процент не пользующихся телефонией (6% при 27% у лояльных клиентов), при этом услуга подключения к нескольким линиям есть у 25% ушедших клиентов и 35% лояльных."
   ]
  },
  {
   "cell_type": "markdown",
   "id": "3878d907-0951-4592-8d02-85e26d9181d3",
   "metadata": {},
   "source": [
    "## Проверка мультиколлинеарности\n"
   ]
  },
  {
   "cell_type": "code",
   "execution_count": 43,
   "id": "d3283301-4244-4e80-ba38-17c6489f312d",
   "metadata": {},
   "outputs": [
    {
     "data": {
      "image/png": "[encoded data removed]",
      "text/plain": [
       "<Figure size 288x216 with 2 Axes>"
      ]
     },
     "metadata": {
      "needs_background": "light"
     },
     "output_type": "display_data"
    }
   ],
   "source": [
    "corr = df[['monthly_charges', 'total_charges','days']].corr()\n",
    "\n",
    "plt.figure(figsize = (4, 3))\n",
    "\n",
    "df_plot = sns.heatmap(corr, cmap=\"YlGnBu\", annot=True)  \n",
    "\n",
    "plt.show()"
   ]
  },
  {
   "cell_type": "markdown",
   "id": "686d53e7",
   "metadata": {},
   "source": [
    "Колонка 'total_charges' имеет высокую степень корреляции 'days' и среднюю - с 'monthly_charges'. Если подумать логически, общая сумма оплаты и должна быть прямо пропорциональна ежемесячной сумма оплаты и продолжительности действия договора, являться их произведением в том случае клиент всё время пользовался одним и тем же тарифом и оплата за этот тариф не менялась. \n",
    "\n",
    "Столбец 'total_charges' кажется излишним, уберём его. "
   ]
  },
  {
   "cell_type": "code",
   "execution_count": 44,
   "id": "f3828f52",
   "metadata": {},
   "outputs": [
    {
     "data": {
      "text/html": [
       "<div>\n",
       "<style scoped>\n",
       "    .dataframe tbody tr th:only-of-type {\n",
       "        vertical-align: middle;\n",
       "    }\n",
       "\n",
       "    .dataframe tbody tr th {\n",
       "        vertical-align: top;\n",
       "    }\n",
       "\n",
       "    .dataframe thead th {\n",
       "        text-align: right;\n",
       "    }\n",
       "</style>\n",
       "<table border=\"1\" class=\"dataframe\">\n",
       "  <thead>\n",
       "    <tr style=\"text-align: right;\">\n",
       "      <th></th>\n",
       "      <th>begin_date</th>\n",
       "      <th>end_date</th>\n",
       "      <th>type</th>\n",
       "      <th>paperless_billing</th>\n",
       "      <th>payment_method</th>\n",
       "      <th>monthly_charges</th>\n",
       "      <th>internet_service</th>\n",
       "      <th>online_security</th>\n",
       "      <th>online_backup</th>\n",
       "      <th>device_protection</th>\n",
       "      <th>tech_support</th>\n",
       "      <th>streaming_tv</th>\n",
       "      <th>streaming_movies</th>\n",
       "      <th>gender_male</th>\n",
       "      <th>senior_citizen</th>\n",
       "      <th>partner</th>\n",
       "      <th>dependents</th>\n",
       "      <th>multiple_lines</th>\n",
       "      <th>target</th>\n",
       "      <th>days</th>\n",
       "    </tr>\n",
       "    <tr>\n",
       "      <th>customer_id</th>\n",
       "      <th></th>\n",
       "      <th></th>\n",
       "      <th></th>\n",
       "      <th></th>\n",
       "      <th></th>\n",
       "      <th></th>\n",
       "      <th></th>\n",
       "      <th></th>\n",
       "      <th></th>\n",
       "      <th></th>\n",
       "      <th></th>\n",
       "      <th></th>\n",
       "      <th></th>\n",
       "      <th></th>\n",
       "      <th></th>\n",
       "      <th></th>\n",
       "      <th></th>\n",
       "      <th></th>\n",
       "      <th></th>\n",
       "      <th></th>\n",
       "    </tr>\n",
       "  </thead>\n",
       "  <tbody>\n",
       "    <tr>\n",
       "      <th>7590-VHVEG</th>\n",
       "      <td>2020-01-01</td>\n",
       "      <td>NaT</td>\n",
       "      <td>Month-to-month</td>\n",
       "      <td>True</td>\n",
       "      <td>Electronic check</td>\n",
       "      <td>29.85</td>\n",
       "      <td>DSL</td>\n",
       "      <td>False</td>\n",
       "      <td>True</td>\n",
       "      <td>False</td>\n",
       "      <td>False</td>\n",
       "      <td>False</td>\n",
       "      <td>False</td>\n",
       "      <td>False</td>\n",
       "      <td>False</td>\n",
       "      <td>True</td>\n",
       "      <td>False</td>\n",
       "      <td>No phone</td>\n",
       "      <td>0</td>\n",
       "      <td>31</td>\n",
       "    </tr>\n",
       "    <tr>\n",
       "      <th>5575-GNVDE</th>\n",
       "      <td>2017-04-01</td>\n",
       "      <td>NaT</td>\n",
       "      <td>One year</td>\n",
       "      <td>False</td>\n",
       "      <td>Mailed check</td>\n",
       "      <td>56.95</td>\n",
       "      <td>DSL</td>\n",
       "      <td>True</td>\n",
       "      <td>False</td>\n",
       "      <td>True</td>\n",
       "      <td>False</td>\n",
       "      <td>False</td>\n",
       "      <td>False</td>\n",
       "      <td>True</td>\n",
       "      <td>False</td>\n",
       "      <td>False</td>\n",
       "      <td>False</td>\n",
       "      <td>No</td>\n",
       "      <td>0</td>\n",
       "      <td>1036</td>\n",
       "    </tr>\n",
       "    <tr>\n",
       "      <th>3668-QPYBK</th>\n",
       "      <td>2019-10-01</td>\n",
       "      <td>2019-12-01</td>\n",
       "      <td>Month-to-month</td>\n",
       "      <td>True</td>\n",
       "      <td>Mailed check</td>\n",
       "      <td>53.85</td>\n",
       "      <td>DSL</td>\n",
       "      <td>True</td>\n",
       "      <td>True</td>\n",
       "      <td>False</td>\n",
       "      <td>False</td>\n",
       "      <td>False</td>\n",
       "      <td>False</td>\n",
       "      <td>True</td>\n",
       "      <td>False</td>\n",
       "      <td>False</td>\n",
       "      <td>False</td>\n",
       "      <td>No</td>\n",
       "      <td>1</td>\n",
       "      <td>61</td>\n",
       "    </tr>\n",
       "    <tr>\n",
       "      <th>7795-CFOCW</th>\n",
       "      <td>2016-05-01</td>\n",
       "      <td>NaT</td>\n",
       "      <td>One year</td>\n",
       "      <td>False</td>\n",
       "      <td>Bank transfer (automatic)</td>\n",
       "      <td>42.30</td>\n",
       "      <td>DSL</td>\n",
       "      <td>True</td>\n",
       "      <td>False</td>\n",
       "      <td>True</td>\n",
       "      <td>True</td>\n",
       "      <td>False</td>\n",
       "      <td>False</td>\n",
       "      <td>True</td>\n",
       "      <td>False</td>\n",
       "      <td>False</td>\n",
       "      <td>False</td>\n",
       "      <td>No phone</td>\n",
       "      <td>0</td>\n",
       "      <td>1371</td>\n",
       "    </tr>\n",
       "    <tr>\n",
       "      <th>9237-HQITU</th>\n",
       "      <td>2019-09-01</td>\n",
       "      <td>2019-11-01</td>\n",
       "      <td>Month-to-month</td>\n",
       "      <td>True</td>\n",
       "      <td>Electronic check</td>\n",
       "      <td>70.70</td>\n",
       "      <td>Fiber optic</td>\n",
       "      <td>False</td>\n",
       "      <td>False</td>\n",
       "      <td>False</td>\n",
       "      <td>False</td>\n",
       "      <td>False</td>\n",
       "      <td>False</td>\n",
       "      <td>False</td>\n",
       "      <td>False</td>\n",
       "      <td>False</td>\n",
       "      <td>False</td>\n",
       "      <td>No</td>\n",
       "      <td>1</td>\n",
       "      <td>61</td>\n",
       "    </tr>\n",
       "  </tbody>\n",
       "</table>\n",
       "</div>"
      ],
      "text/plain": [
       "            begin_date   end_date            type  paperless_billing  \\\n",
       "customer_id                                                            \n",
       "7590-VHVEG  2020-01-01        NaT  Month-to-month               True   \n",
       "5575-GNVDE  2017-04-01        NaT        One year              False   \n",
       "3668-QPYBK  2019-10-01 2019-12-01  Month-to-month               True   \n",
       "7795-CFOCW  2016-05-01        NaT        One year              False   \n",
       "9237-HQITU  2019-09-01 2019-11-01  Month-to-month               True   \n",
       "\n",
       "                        payment_method  monthly_charges internet_service  \\\n",
       "customer_id                                                                \n",
       "7590-VHVEG            Electronic check            29.85              DSL   \n",
       "5575-GNVDE                Mailed check            56.95              DSL   \n",
       "3668-QPYBK                Mailed check            53.85              DSL   \n",
       "7795-CFOCW   Bank transfer (automatic)            42.30              DSL   \n",
       "9237-HQITU            Electronic check            70.70      Fiber optic   \n",
       "\n",
       "             online_security  online_backup  device_protection  tech_support  \\\n",
       "customer_id                                                                    \n",
       "7590-VHVEG             False           True              False         False   \n",
       "5575-GNVDE              True          False               True         False   \n",
       "3668-QPYBK              True           True              False         False   \n",
       "7795-CFOCW              True          False               True          True   \n",
       "9237-HQITU             False          False              False         False   \n",
       "\n",
       "             streaming_tv  streaming_movies  gender_male  senior_citizen  \\\n",
       "customer_id                                                                \n",
       "7590-VHVEG          False             False        False           False   \n",
       "5575-GNVDE          False             False         True           False   \n",
       "3668-QPYBK          False             False         True           False   \n",
       "7795-CFOCW          False             False         True           False   \n",
       "9237-HQITU          False             False        False           False   \n",
       "\n",
       "             partner  dependents multiple_lines  target  days  \n",
       "customer_id                                                    \n",
       "7590-VHVEG      True       False       No phone       0    31  \n",
       "5575-GNVDE     False       False             No       0  1036  \n",
       "3668-QPYBK     False       False             No       1    61  \n",
       "7795-CFOCW     False       False       No phone       0  1371  \n",
       "9237-HQITU     False       False             No       1    61  "
      ]
     },
     "execution_count": 44,
     "metadata": {},
     "output_type": "execute_result"
    }
   ],
   "source": [
    "df = df.drop('total_charges', axis = 1)\n",
    "df.head()"
   ]
  },
  {
   "cell_type": "markdown",
   "id": "a8ab6788",
   "metadata": {},
   "source": [
    "## Разделение на выборки"
   ]
  },
  {
   "cell_type": "markdown",
   "id": "4f391f9d",
   "metadata": {},
   "source": [
    "Разделим исходные данные на обучающую и тестовую выборки.\n",
    "- Обучающая выборка - 75%\n",
    "- Тестовая выборка - 25%"
   ]
  },
  {
   "cell_type": "code",
   "execution_count": 45,
   "id": "41acb1b4",
   "metadata": {},
   "outputs": [
    {
     "name": "stdout",
     "output_type": "stream",
     "text": [
      "Train/Test: (5282, 20) (1761, 20)\n",
      "Целевой признак: 0.2654 : 0.2652\n"
     ]
    }
   ],
   "source": [
    "df_train, df_test = train_test_split(\n",
    "    df, test_size=0.25, \n",
    "    random_state=RANDOM_STATE,\n",
    "    stratify=df['target'])\n",
    "\n",
    "print(\"Train/Test:\", df_train.shape, df_test.shape)\n",
    "print(\"Целевой признак:\", round(df_train['target'].mean(), 4), ':', round(df_test['target'].mean(),4))"
   ]
  },
  {
   "cell_type": "markdown",
   "id": "1e46bc0e",
   "metadata": {},
   "source": [
    "## Подготовка признаков для обучения модели"
   ]
  },
  {
   "cell_type": "markdown",
   "id": "202a92c5",
   "metadata": {},
   "source": [
    "Извлечём из датафрейма признаки. Столбцы с датами среди признаков не нужны."
   ]
  },
  {
   "cell_type": "code",
   "execution_count": 46,
   "id": "91b2fc88",
   "metadata": {},
   "outputs": [],
   "source": [
    "target_train = df_train['target']\n",
    "features_train = df_train.drop(['begin_date','end_date','target'], axis = 1)\n",
    "\n",
    "target_test = df_test['target']\n",
    "features_test = df_test.drop(['begin_date','end_date','target'], axis = 1)"
   ]
  },
  {
   "cell_type": "markdown",
   "id": "86a04126-4d13-4005-badc-fae83526df87",
   "metadata": {},
   "source": [
    "Преобразуем категориальные признаки при помощи One-Hot Encoder, a числовые StandardScaler. Чтобы одновременно применить их на один набор признаков, используем  ColumnTransformer."
   ]
  },
  {
   "cell_type": "code",
   "execution_count": 47,
   "id": "a24cb11c",
   "metadata": {},
   "outputs": [],
   "source": [
    "OHE = OneHotEncoder(drop = 'first')\n",
    "scaler = StandardScaler()\n",
    "\n",
    "cat_cols = ['type', 'payment_method', 'internet_service', 'multiple_lines']\n",
    "num_cols = ['monthly_charges', 'days']\n",
    "\n",
    "transformer = ColumnTransformer([('cat_cols', OHE, cat_cols),\n",
    "                                ('num_cols', scaler, num_cols)],\n",
    "                                remainder='passthrough'\n",
    "                               )\n",
    "\n",
    "ohe_features_train = transformer.fit_transform(features_train)\n",
    "ohe_features_test = transformer.transform(features_test)\n",
    "\n",
    "# для моделей, умеющих обрабатывать категориальные признаки, применим только Scaler\n",
    "features_train[num_cols] = scaler.fit_transform(features_train[num_cols]) \n",
    "features_test[num_cols] = scaler.transform(features_test[num_cols])"
   ]
  },
  {
   "cell_type": "code",
   "execution_count": 48,
   "id": "37171df3",
   "metadata": {},
   "outputs": [
    {
     "name": "stdout",
     "output_type": "stream",
     "text": [
      "Было/стало: (5282, 17) (5282, 22)\n"
     ]
    }
   ],
   "source": [
    "print(\"Было/стало:\", features_train.shape, ohe_features_train.shape)"
   ]
  },
  {
   "cell_type": "markdown",
   "id": "eb362cd7-695f-4771-a630-27f1ebc0f7de",
   "metadata": {},
   "source": [
    "## Выбор модели"
   ]
  },
  {
   "cell_type": "markdown",
   "id": "68c7f7b1-b662-4e97-9047-a1d3b7fbf44a",
   "metadata": {},
   "source": [
    "### Модель Логистическая регрессия"
   ]
  },
  {
   "cell_type": "markdown",
   "id": "c29e1d77",
   "metadata": {},
   "source": [
    "Подбор гиперпараметров:"
   ]
  },
  {
   "cell_type": "code",
   "execution_count": 49,
   "id": "de790f6f-329d-449d-bcf3-f29effb76bc9",
   "metadata": {
    "tags": []
   },
   "outputs": [
    {
     "name": "stdout",
     "output_type": "stream",
     "text": [
      "Наилучшие гиперпараметры:  {'C': 1, 'penalty': 'l1', 'solver': 'liblinear'}\n",
      "ROC_AUC наилучшей модели: 0.8398\n"
     ]
    }
   ],
   "source": [
    "LogReg = LogisticRegression(max_iter = 1000, random_state = RANDOM_STATE)\n",
    "params = {'C':[1,5, 10, 20, 30, 40, 50],\n",
    "          'penalty': ['l1', 'l2'],\n",
    "          'solver':['liblinear', 'saga']}\n",
    "gridlog = GridSearchCV(LogReg, params, cv=3, scoring='roc_auc', refit = True)\n",
    "gridlog.fit(ohe_features_train, target_train)\n",
    "print('Наилучшие гиперпараметры: ', gridlog.best_params_)\n",
    "print(\"ROC_AUC наилучшей модели:\", round(gridlog.best_score_, 4))"
   ]
  },
  {
   "cell_type": "markdown",
   "id": "37dee8f1",
   "metadata": {},
   "source": [
    "Функция для отрисовки графика ROC_AUC:"
   ]
  },
  {
   "cell_type": "code",
   "execution_count": 50,
   "id": "e819da56",
   "metadata": {},
   "outputs": [],
   "source": [
    "def ROC_plot(model, fpr, tpr):\n",
    "    plt.figure()\n",
    "    plt.plot([0, 1], [0, 1], linestyle='--')\n",
    "    plt.plot(fpr, tpr)\n",
    "    plt.xlim([0.0, 1.0])\n",
    "    plt.ylim([0.0, 1.0])\n",
    "    plt.xlabel('False Positive Rate')\n",
    "    plt.ylabel('True Positive Rate')\n",
    "    plt.title('ROC-кривая модели')\n",
    "    plt.show() "
   ]
  },
  {
   "cell_type": "markdown",
   "id": "7ea67723",
   "metadata": {},
   "source": [
    "Посмотрим на график:"
   ]
  },
  {
   "cell_type": "code",
   "execution_count": 51,
   "id": "63fd0108",
   "metadata": {},
   "outputs": [
    {
     "data": {
      "image/png": "[encoded data removed]",
      "text/plain": [
       "<Figure size 432x288 with 1 Axes>"
      ]
     },
     "metadata": {
      "needs_background": "light"
     },
     "output_type": "display_data"
    }
   ],
   "source": [
    "LogReg = gridlog.best_estimator_\n",
    "fpr, tpr, thresholds = roc_curve(\n",
    "    target_train, \n",
    "    LogReg.predict_proba(ohe_features_train)[:, 1]) \n",
    "ROC_plot(LogReg, fpr, tpr)"
   ]
  },
  {
   "cell_type": "markdown",
   "id": "9403f52e-8efe-4faa-b2eb-66c9fedd0d17",
   "metadata": {
    "id": "_sbcAWsd4JLX"
   },
   "source": [
    "### Модель Ridge Classifier"
   ]
  },
  {
   "cell_type": "code",
   "execution_count": 52,
   "id": "85288b23-a046-4624-a763-928e64da6cb5",
   "metadata": {
    "colab": {
     "base_uri": "https://localhost:8080/"
    },
    "id": "y0Hj8V434trK",
    "outputId": "023d3d76-5320-451a-a5b2-8df6e78d5815"
   },
   "outputs": [
    {
     "name": "stdout",
     "output_type": "stream",
     "text": [
      "Наилучшие гиперпараметры:  {'alpha': 19}\n",
      "ROC_AUC наилучшей модели: 0.8376\n"
     ]
    }
   ],
   "source": [
    "RidClf = RidgeClassifier(max_iter = 1000, random_state = RANDOM_STATE)\n",
    "params = {'alpha': range(1, 20)}\n",
    "gridridge = GridSearchCV(RidClf, params, cv=5, scoring='roc_auc', refit = True)\n",
    "gridridge.fit(ohe_features_train, target_train)\n",
    "print('Наилучшие гиперпараметры: ', gridridge.best_params_)\n",
    "print(\"ROC_AUC наилучшей модели:\", round(gridridge.best_score_, 4))"
   ]
  },
  {
   "cell_type": "code",
   "execution_count": 53,
   "id": "e06829a6-6214-4174-badc-77154b3e0cca",
   "metadata": {},
   "outputs": [
    {
     "data": {
      "image/png": "[encoded data removed]",
      "text/plain": [
       "<Figure size 432x288 with 1 Axes>"
      ]
     },
     "metadata": {
      "needs_background": "light"
     },
     "output_type": "display_data"
    }
   ],
   "source": [
    "RidClf = gridridge.best_estimator_ \n",
    "fpr, tpr, thresholds = roc_curve(\n",
    "    target_train, \n",
    "    RidClf.decision_function(ohe_features_train)) \n",
    "ROC_plot(RidClf, fpr, tpr)"
   ]
  },
  {
   "cell_type": "markdown",
   "id": "bb97a95e-8841-4427-b104-0de61a7daaff",
   "metadata": {
    "id": "Hs9ftmskw_P6",
    "tags": []
   },
   "source": [
    "### Модель Decision Tree"
   ]
  },
  {
   "cell_type": "markdown",
   "id": "fc1418ba-1fed-47d5-9e79-d8964cce0da8",
   "metadata": {
    "id": "zhnm4hLQ6BqP"
   },
   "source": [
    "Подбор оптимальной глубины дерева кросс-валидацией:"
   ]
  },
  {
   "cell_type": "code",
   "execution_count": 54,
   "id": "bd07ca9f-1a2f-466e-a515-1e125c54a633",
   "metadata": {
    "colab": {
     "base_uri": "https://localhost:8080/"
    },
    "id": "hGn03g6m3plI",
    "outputId": "91504373-ef71-426f-e0dd-91bcfff33320"
   },
   "outputs": [
    {
     "name": "stdout",
     "output_type": "stream",
     "text": [
      "Наилучшее количество деревьев {'max_depth': 6}\n",
      "ROC_AUC наилучшей модели: 0.8456\n"
     ]
    }
   ],
   "source": [
    "Tree = DecisionTreeClassifier(random_state=RANDOM_STATE)\n",
    "parametrs = { 'max_depth' : range (1, 13, 1)}\n",
    "grid_Tree = GridSearchCV(Tree, parametrs, cv=3, scoring = 'roc_auc')\n",
    "grid_Tree.fit(ohe_features_train, target_train)\n",
    "best_parametrs = grid_Tree.best_params_\n",
    "print('Наилучшее количество деревьев', best_parametrs)\n",
    "print(\"ROC_AUC наилучшей модели:\", round(grid_Tree.best_score_, 4))"
   ]
  },
  {
   "cell_type": "code",
   "execution_count": 55,
   "id": "96338078-0ae2-44eb-ac5d-1d4b6e1b8c74",
   "metadata": {},
   "outputs": [
    {
     "data": {
      "image/png": "[encoded data removed]",
      "text/plain": [
       "<Figure size 432x288 with 1 Axes>"
      ]
     },
     "metadata": {
      "needs_background": "light"
     },
     "output_type": "display_data"
    }
   ],
   "source": [
    "Tree = grid_Tree.best_estimator_\n",
    "fpr, tpr, thresholds = roc_curve(\n",
    "    target_train, \n",
    "    Tree.predict_proba(ohe_features_train)[:, 1]) \n",
    "ROC_plot(Tree, fpr, tpr)"
   ]
  },
  {
   "cell_type": "markdown",
   "id": "52f48851-362f-4b7c-b0ff-a47e7e0730aa",
   "metadata": {
    "id": "l-IUsEKDw6Uw"
   },
   "source": [
    "### Модель Random Forest"
   ]
  },
  {
   "cell_type": "markdown",
   "id": "3a1de800-818b-486b-92f7-16ad50160be4",
   "metadata": {
    "id": "y7MTdsmUjdTK"
   },
   "source": [
    "Подбор гиперпараметров при помощи GridSearch:"
   ]
  },
  {
   "cell_type": "code",
   "execution_count": 56,
   "id": "3516f2ee-1ed7-43c7-891d-3bbb701a0f36",
   "metadata": {
    "colab": {
     "base_uri": "https://localhost:8080/"
    },
    "id": "sIMMDo_Hihee",
    "outputId": "53969bb3-44c2-47e7-eda7-43854f5dd80d",
    "scrolled": true
   },
   "outputs": [
    {
     "name": "stdout",
     "output_type": "stream",
     "text": [
      "Наилучшие гиперпараметры: {'max_depth': 7, 'min_samples_leaf': 5, 'n_estimators': 17}\n",
      "ROC_AUC наилучшей модели: 0.8517\n"
     ]
    }
   ],
   "source": [
    "Forest = RandomForestClassifier(random_state=RANDOM_STATE)\n",
    "parametrs = { 'n_estimators'    : range (5, 20, 2),\n",
    "              'max_depth'       : range (1, 13, 2),\n",
    "              'min_samples_leaf': range (1,10)}\n",
    "grid_Forest = GridSearchCV(Forest, parametrs, cv=2, scoring = 'roc_auc', n_jobs = -1)\n",
    "grid_Forest.fit(ohe_features_train, target_train)\n",
    "best_parametrs = grid_Forest.best_params_\n",
    "print('Наилучшие гиперпараметры:', best_parametrs)\n",
    "print(\"ROC_AUC наилучшей модели:\", round(grid_Forest.best_score_, 4))"
   ]
  },
  {
   "cell_type": "code",
   "execution_count": 57,
   "id": "e0eb68e6-d8c1-4817-954a-1304762decb6",
   "metadata": {
    "scrolled": true
   },
   "outputs": [
    {
     "data": {
      "image/png": "[encoded data removed]",
      "text/plain": [
       "<Figure size 432x288 with 1 Axes>"
      ]
     },
     "metadata": {
      "needs_background": "light"
     },
     "output_type": "display_data"
    }
   ],
   "source": [
    "Forest = grid_Forest.best_estimator_\n",
    "fpr, tpr, thresholds = roc_curve(\n",
    "    target_train, \n",
    "    Forest.predict_proba(ohe_features_train)[:, 1]) \n",
    "ROC_plot(Forest, fpr, tpr)"
   ]
  },
  {
   "cell_type": "markdown",
   "id": "29627f89-11db-4a4c-9b84-c2c7fb600114",
   "metadata": {
    "id": "59xiJrXLwy4i"
   },
   "source": [
    "### Модель CatBoostClassifier"
   ]
  },
  {
   "cell_type": "markdown",
   "id": "a7e57738-ea63-4673-8217-079d58b0b9d3",
   "metadata": {
    "id": "7ERQzwNDfUNc"
   },
   "source": [
    "Подбор гиперпараметров при помощи GridSearch:"
   ]
  },
  {
   "cell_type": "code",
   "execution_count": 58,
   "id": "a9bb02a2",
   "metadata": {},
   "outputs": [],
   "source": [
    "cat_cols = ['type', 'paperless_billing', 'payment_method',\n",
    "           'internet_service', 'online_security', 'online_backup',\n",
    "           'device_protection', 'tech_support', 'streaming_tv', 'streaming_movies',\n",
    "           'gender_male', 'senior_citizen', 'partner', 'dependents',\n",
    "           'multiple_lines']"
   ]
  },
  {
   "cell_type": "code",
   "execution_count": 59,
   "id": "d800873a",
   "metadata": {},
   "outputs": [
    {
     "name": "stdout",
     "output_type": "stream",
     "text": [
      "Наилучшие гиперпараметры: {'learning_rate': 0.1, 'iterations': 3000, 'depth': 2, 'border_count': 250}\n",
      "ROC_AUC наилучшей модели: 0.928\n"
     ]
    }
   ],
   "source": [
    "CBC = CatBoostClassifier(random_seed  = RANDOM_STATE,\n",
    "                        loss_function = 'Logloss',\n",
    "                        custom_metric = 'PRAUC:type=Classic',\n",
    "                        cat_features  = cat_cols\n",
    "                        )\n",
    "parameter_dist={'depth'           : [2, 3],\n",
    "                'learning_rate'   : [0.08, 0.09, 0.1, 0.11, 0.12],\n",
    "                'border_count'    : [75, 150, 250],\n",
    "                'iterations'      : [1500, 2000, 2500, 3000]\n",
    "                }\n",
    "\n",
    "Rand_Search_CBC = RandomizedSearchCV(CBC, parameter_dist, n_iter=5, cv=5, n_jobs=-1, verbose=False, scoring = 'roc_auc',\n",
    "                                     random_state  = RANDOM_STATE)\n",
    "Rand_Search_CBC.fit(features_train, target_train, plot = False, verbose = False)\n",
    "print(\"Наилучшие гиперпараметры:\", Rand_Search_CBC.best_params_)\n",
    "print(\"ROC_AUC наилучшей модели:\", round(Rand_Search_CBC.best_score_, 4))"
   ]
  },
  {
   "cell_type": "code",
   "execution_count": 60,
   "id": "049279dd",
   "metadata": {},
   "outputs": [
    {
     "data": {
      "image/png": "[encoded data removed]",
      "text/plain": [
       "<Figure size 432x288 with 1 Axes>"
      ]
     },
     "metadata": {
      "needs_background": "light"
     },
     "output_type": "display_data"
    }
   ],
   "source": [
    "CBC = Rand_Search_CBC.best_estimator_\n",
    "fpr, tpr, thresholds = roc_curve(\n",
    "    target_train, \n",
    "    CBC.predict_proba(features_train)[:, 1]) \n",
    "ROC_plot(CBC, fpr, tpr)"
   ]
  },
  {
   "cell_type": "markdown",
   "id": "aece3b25-9aaf-4e35-9034-762159f5a064",
   "metadata": {
    "id": "L38-0oUGBxmT"
   },
   "source": [
    "### Константная модель\n"
   ]
  },
  {
   "cell_type": "markdown",
   "id": "8bac3030-6cd0-4a1e-9d6e-646d61e013a2",
   "metadata": {
    "id": "RJ-0HlEP9FYF"
   },
   "source": [
    "Сравним работу  изученных моделей с константной моделью.\n",
    "\n",
    "Работа константной модели. Она будет случайно предсказывать значение 0 и 1 с постоянной вероятностью, как в целевом признаке обучающей выборки."
   ]
  },
  {
   "cell_type": "code",
   "execution_count": 61,
   "id": "566a787f-313d-4745-88e7-0f009c329bdc",
   "metadata": {
    "colab": {
     "base_uri": "https://localhost:8080/"
    },
    "id": "z3WW7lGq8AlZ",
    "outputId": "3b602601-2750-4558-b43a-f9dadde5d3e0"
   },
   "outputs": [
    {
     "name": "stdout",
     "output_type": "stream",
     "text": [
      "0.4982\n"
     ]
    }
   ],
   "source": [
    "p = target_train.mean() # вероятнось единицы\n",
    "predicted_train = np.where(p > np.random.rand(features_train.shape[0]), 1, 0, ) \n",
    "predicted_test = np.where(p > np.random.rand(features_test.shape[0]), 1, 0)\n",
    "score_constant = roc_auc_score(target_train, predicted_train)\n",
    "print(round(score_constant, 4))"
   ]
  },
  {
   "cell_type": "markdown",
   "id": "6cf30e03",
   "metadata": {},
   "source": [
    "### Сравнение моделей"
   ]
  },
  {
   "cell_type": "markdown",
   "id": "e27525e2",
   "metadata": {},
   "source": [
    "Соберём результаты всех моделей:"
   ]
  },
  {
   "cell_type": "code",
   "execution_count": 62,
   "id": "649d3231",
   "metadata": {},
   "outputs": [
    {
     "data": {
      "text/html": [
       "<div>\n",
       "<style scoped>\n",
       "    .dataframe tbody tr th:only-of-type {\n",
       "        vertical-align: middle;\n",
       "    }\n",
       "\n",
       "    .dataframe tbody tr th {\n",
       "        vertical-align: top;\n",
       "    }\n",
       "\n",
       "    .dataframe thead th {\n",
       "        text-align: right;\n",
       "    }\n",
       "</style>\n",
       "<table border=\"1\" class=\"dataframe\">\n",
       "  <thead>\n",
       "    <tr style=\"text-align: right;\">\n",
       "      <th></th>\n",
       "      <th>ROC_AUC</th>\n",
       "    </tr>\n",
       "    <tr>\n",
       "      <th>model</th>\n",
       "      <th></th>\n",
       "    </tr>\n",
       "  </thead>\n",
       "  <tbody>\n",
       "    <tr>\n",
       "      <th>Сonstant</th>\n",
       "      <td>0.498200</td>\n",
       "    </tr>\n",
       "    <tr>\n",
       "      <th>Ridge Classifier</th>\n",
       "      <td>0.837608</td>\n",
       "    </tr>\n",
       "    <tr>\n",
       "      <th>Logistic Regression</th>\n",
       "      <td>0.839795</td>\n",
       "    </tr>\n",
       "    <tr>\n",
       "      <th>Decision Tree</th>\n",
       "      <td>0.845561</td>\n",
       "    </tr>\n",
       "    <tr>\n",
       "      <th>Random Forest</th>\n",
       "      <td>0.851651</td>\n",
       "    </tr>\n",
       "    <tr>\n",
       "      <th>CatBoost</th>\n",
       "      <td>0.927963</td>\n",
       "    </tr>\n",
       "  </tbody>\n",
       "</table>\n",
       "</div>"
      ],
      "text/plain": [
       "                      ROC_AUC\n",
       "model                        \n",
       "Сonstant             0.498200\n",
       "Ridge Classifier     0.837608\n",
       "Logistic Regression  0.839795\n",
       "Decision Tree        0.845561\n",
       "Random Forest        0.851651\n",
       "CatBoost             0.927963"
      ]
     },
     "execution_count": 62,
     "metadata": {},
     "output_type": "execute_result"
    }
   ],
   "source": [
    "models_analysis = pd.DataFrame(\n",
    "    data = [\n",
    "    ['Logistic Regression', gridlog.best_score_],\n",
    "    ['Ridge Classifier', gridridge.best_score_],\n",
    "    ['Decision Tree', grid_Tree.best_score_],\n",
    "    ['Random Forest', grid_Forest.best_score_],\n",
    "    ['CatBoost', Rand_Search_CBC.best_score_],\n",
    "    ['Сonstant', score_constant]\n",
    "],  columns = ['model', 'ROC_AUC']\n",
    ").set_index('model').sort_values(by ='ROC_AUC')\n",
    "models_analysis"
   ]
  },
  {
   "cell_type": "code",
   "execution_count": 63,
   "id": "a3827ee6",
   "metadata": {},
   "outputs": [
    {
     "data": {
      "image/png": "[encoded data removed]",
      "text/plain": [
       "<Figure size 504x360 with 1 Axes>"
      ]
     },
     "metadata": {
      "needs_background": "light"
     },
     "output_type": "display_data"
    }
   ],
   "source": [
    "plt.figure(figsize = (7, 5))\n",
    "plt.title('Сравнение ROC-AUC моделей')\n",
    "plt.barh(y = models_analysis.index, \n",
    "         width = models_analysis['ROC_AUC']);"
   ]
  },
  {
   "cell_type": "markdown",
   "id": "56d982be-3dd9-440d-a43a-a673f3624ca6",
   "metadata": {},
   "source": [
    "Все модели проходят проверку на адекватность, их ROC-AUC выше, чем у константной модели.\n",
    "\n"
   ]
  },
  {
   "cell_type": "markdown",
   "id": "d1b95bdc-9412-4507-8ac3-0a28c2436140",
   "metadata": {},
   "source": [
    "## Тестирование модели"
   ]
  },
  {
   "cell_type": "markdown",
   "id": "d39dbb19-5d68-4674-bc7d-446ccd8cf683",
   "metadata": {},
   "source": [
    "Обучение наилучшей модели на обучающей выборке и проверка на тестовой."
   ]
  },
  {
   "cell_type": "code",
   "execution_count": 64,
   "id": "d49f912c-fe49-4fbf-a150-88a92ea2f374",
   "metadata": {},
   "outputs": [
    {
     "name": "stdout",
     "output_type": "stream",
     "text": [
      "ROC-AUC модели на тестовой выборке 0.9414\n",
      "Параметры наилучшей модели:\n",
      "{'iterations': 3000, 'learning_rate': 0.1, 'depth': 2, 'loss_function': 'Logloss', 'border_count': 250, 'random_seed': 171022, 'custom_metric': 'PRAUC:type=Classic', 'cat_features': ['type', 'paperless_billing', 'payment_method', 'internet_service', 'online_security', 'online_backup', 'device_protection', 'tech_support', 'streaming_tv', 'streaming_movies', 'gender_male', 'senior_citizen', 'partner', 'dependents', 'multiple_lines']}\n"
     ]
    }
   ],
   "source": [
    "params = Rand_Search_CBC.best_estimator_.get_params()\n",
    "model = CatBoostClassifier(**params)\n",
    "model.fit(features_train, target_train, plot = False, verbose = False)\n",
    "probabilities_test = model.predict_proba(features_test)\n",
    "probabilities_one_test = probabilities_test[:, 1]\n",
    "model_score = roc_auc_score(target_test, probabilities_one_test)\n",
    "print('ROC-AUC модели на тестовой выборке', round(model_score, 4))\n",
    "print('Параметры наилучшей модели:')\n",
    "print(params)"
   ]
  },
  {
   "cell_type": "markdown",
   "id": "bbd7ec06",
   "metadata": {},
   "source": [
    "Посмотрим матрицу ошибок:"
   ]
  },
  {
   "cell_type": "code",
   "execution_count": 65,
   "id": "e9f31228",
   "metadata": {},
   "outputs": [
    {
     "data": {
      "image/png": "[encoded data removed]",
      "text/plain": [
       "<Figure size 432x288 with 2 Axes>"
      ]
     },
     "metadata": {
      "needs_background": "light"
     },
     "output_type": "display_data"
    }
   ],
   "source": [
    "prediction = model.predict(features_test)\n",
    "ConfusionMatrixDisplay(confusion_matrix(target_test, prediction)).plot();"
   ]
  },
  {
   "cell_type": "markdown",
   "id": "28718d39",
   "metadata": {},
   "source": [
    "Из всех 1761 записей предсказано, что:\n",
    "   - 1 294 не планируют расторгнуть договор, и из них:\n",
    "     - 1251 предсказаны верно,\n",
    "     - 43 ошибки (клиент планирует уйти, но модель этого не предугадала);\n",
    "   - 467 планируют расторгнуть договор, и из них:\n",
    "     - 332 предсказаны верно;\n",
    "     - 135 ошибок (модель предсказала уход лояльного клиента)"
   ]
  },
  {
   "cell_type": "markdown",
   "id": "9fc5b96a",
   "metadata": {},
   "source": [
    "Вычисление метрик качества предсказания:"
   ]
  },
  {
   "cell_type": "code",
   "execution_count": 66,
   "id": "40a49409-a7c1-4705-8e52-9d5574c22846",
   "metadata": {},
   "outputs": [
    {
     "name": "stdout",
     "output_type": "stream",
     "text": [
      "Precision = 0.8853\n",
      "Accuracy = 0.8989\n",
      "F1-score = 0.7886\n"
     ]
    }
   ],
   "source": [
    "print('Precision =', round(precision_score(target_test, prediction), 4))\n",
    "print('Accuracy =', round(accuracy_score(target_test, prediction), 4))\n",
    "print('F1-score =', round(f1_score(target_test, prediction), 4))"
   ]
  },
  {
   "cell_type": "markdown",
   "id": "551f8cc3",
   "metadata": {},
   "source": [
    "Точность достаточно высокая для решения поставленной перед моделью задачи."
   ]
  },
  {
   "cell_type": "markdown",
   "id": "3aa89e91",
   "metadata": {},
   "source": [
    "Посмотрим на важность признаков по мнению модели:"
   ]
  },
  {
   "cell_type": "code",
   "execution_count": 67,
   "id": "fa229c70",
   "metadata": {},
   "outputs": [
    {
     "data": {
      "image/png": "[encoded data removed]",
      "text/plain": [
       "<Figure size 720x720 with 1 Axes>"
      ]
     },
     "metadata": {
      "needs_background": "light"
     },
     "output_type": "display_data"
    }
   ],
   "source": [
    "labels = df_train.drop(['begin_date','end_date','target'], axis = 1).columns\n",
    "\n",
    "feature_importances = pd.DataFrame(\n",
    "    zip(labels, model.feature_importances_), \n",
    "    columns = ['feature', 'importance']\n",
    "    ).sort_values(by = 'importance', ascending = False)\n",
    "    \n",
    "plt.figure(figsize = (10, 10))\n",
    "plt.title('Важность признаков')\n",
    "feature_importances = feature_importances.sort_values(by = 'importance')\n",
    "plt.barh(y = feature_importances.feature, \n",
    "         width = feature_importances['importance'])\n",
    "plt.show;"
   ]
  },
  {
   "cell_type": "markdown",
   "id": "bfe606cd",
   "metadata": {},
   "source": [
    "Наиболее важными для предсказания оказались:\n",
    "- время с заключения договора - с большим отрывом от остальных, \n",
    "- стоимость за месяц,\n",
    "- платит ли клиент помесячно, за год или два,\n",
    "- подключён ли клиент по оптоволокну или DSL."
   ]
  },
  {
   "cell_type": "markdown",
   "id": "c29a49b6",
   "metadata": {},
   "source": [
    "## Вывод"
   ]
  },
  {
   "cell_type": "markdown",
   "id": "adeb0946",
   "metadata": {},
   "source": [
    "Для оператора связи «Ниединогоразрыва.ком» подобрана модель машинного обучения, предсказывающая вероятность ухода клиента. При обучении модели для воспроизводимости результатов использовался фиксированный параметр  случайности, равный 171022.\n",
    "\n",
    "Чтобы удержать клиента от перехода к конкуренту, «Ниединогоразрыва.ком» сможет предложить ему выгодные условия.\n",
    "\n"
   ]
  },
  {
   "attachments": {
    "internet-2.png": {
     "image/png": "[encoded data removed]"
    }
   },
   "cell_type": "markdown",
   "id": "42b122f4",
   "metadata": {},
   "source": [
    "![internet-2.png](attachment:internet-2.png)"
   ]
  },
  {
   "cell_type": "markdown",
   "id": "3e448d5d",
   "metadata": {},
   "source": [
    "\n",
    "Ушедшие клиенты гораздо чаще лояльных пользовались технологией Fiber Optic. Есть смысл предложить потенциально уходящи клиентам, которых выявит модель, перейти на  DSL.\n",
    "\n",
    "\n"
   ]
  },
  {
   "attachments": {
    "pay_method.png": {
     "image/png": "[encoded data removed]"
    }
   },
   "cell_type": "markdown",
   "id": "807644b9",
   "metadata": {},
   "source": [
    "![pay_method.png](attachment:pay_method.png)"
   ]
  },
  {
   "cell_type": "markdown",
   "id": "2f0cad5e",
   "metadata": {},
   "source": [
    "\n",
    "Среди ушедших клиентов распределение способов оплаты неравномерное, они пользовались электронным чеком в 57% случаев, а автоматическое списание с кредитной карты выбирали только в 12% случаев. Есть смысл предложить клиентам, которых выявит модель, перейти в оплаты по электронным чекам на другой способ."
   ]
  },
  {
   "attachments": {
    "type_pay.png": {
     "image/png": "[encoded data removed]"
    }
   },
   "cell_type": "markdown",
   "id": "e78efd4c",
   "metadata": {},
   "source": [
    "![type_pay.png](attachment:type_pay.png)"
   ]
  },
  {
   "cell_type": "markdown",
   "id": "6d716a97",
   "metadata": {},
   "source": [
    "\n",
    "Ушедшие клиенты пользовались помесячным тарифом оплаты, редко годовым, и всего 3% ушедших платили за два года сразу. Клиентов, которых выявляет модель, можно стимулировать переходить на оплату за год или два. В обучении модели признак оплаты помесячно оказался на третьем месте по значимости предсказания.\n",
    "     \n"
   ]
  },
  {
   "attachments": {
    "phone.png": {
     "image/png": "[encoded data removed]"
    }
   },
   "cell_type": "markdown",
   "id": "54947708",
   "metadata": {},
   "source": [
    "![phone.png](attachment:phone.png)"
   ]
  },
  {
   "cell_type": "markdown",
   "id": "07b299fe",
   "metadata": {},
   "source": [
    "Ушедшие клиенты в большинбольшинстве своём пользовались телефонией, но большая часть - без услуги многоканального доступа."
   ]
  },
  {
   "attachments": {
    "conf_mtrx.png": {
     "image/png": "[encoded data removed]"
    }
   },
   "cell_type": "markdown",
   "id": "e8dfa5f7",
   "metadata": {},
   "source": [
    "Метрики качества обучения модели на тестовой выборке:\n",
    "\n",
    "|Метрика|Значение|\n",
    "|------|------|\n",
    "|ROC-AUC     |0.948     |\n",
    "|Precision     |0.8728     |\n",
    "|Accuracy | 0.9012|\n",
    "|F1-score | 0.7977|\n",
    "\n",
    "\n",
    "**Итоговая модель** имеет гиперпараметры:\n",
    "-  'border_count': 150, \n",
    "-  'depth': 2, \n",
    "-  'iterations': 2500, \n",
    "-  'l2_leaf_reg': 3, \n",
    "-  'learning_rate': 0.15,\n",
    "-  'random_seed' : 171022\n",
    "\n",
    "Самый важный признак для предсказания - время с заключения договора.\n",
    "\n",
    "Матрица ошибок:\n",
    "\n",
    "![conf_mtrx.png](attachment:conf_mtrx.png)\n",
    "\n",
    "Из всех 100% тестовой выборки предсказано, что:\n",
    "   - 73,5% не планируют расторгнуть договор, и:\n",
    "     - 70,6% предсказаны верно,\n",
    "     - 2,8% ошибок(клиент планирует уйти, но модель этого не предугадала);\n",
    "   - 26,5% планируют расторгнуть договор, и из них:\n",
    "     - 20% предсказаны верно;\n",
    "     - 6,5% ошибок (модель предсказала уход лояльного клиента)."
   ]
  },
  {
   "cell_type": "code",
   "execution_count": null,
   "id": "759656f7",
   "metadata": {},
   "outputs": [],
   "source": []
  }
 ],
 "metadata": {
  "ExecuteTimeLog": [
   {
    "duration": 840,
    "start_time": "2022-10-19T20:43:05.087Z"
   },
   {
    "duration": 408,
    "start_time": "2022-10-19T20:43:05.930Z"
   },
   {
    "duration": 70,
    "start_time": "2022-10-19T20:43:06.339Z"
   },
   {
    "duration": 11,
    "start_time": "2022-10-19T20:43:06.411Z"
   },
   {
    "duration": 13,
    "start_time": "2022-10-19T20:43:06.424Z"
   },
   {
    "duration": 74,
    "start_time": "2022-10-19T20:43:06.439Z"
   },
   {
    "duration": 8,
    "start_time": "2022-10-19T20:43:06.515Z"
   },
   {
    "duration": 102,
    "start_time": "2022-10-19T20:43:06.525Z"
   },
   {
    "duration": 8,
    "start_time": "2022-10-19T20:43:06.629Z"
   },
   {
    "duration": 65,
    "start_time": "2022-10-19T20:43:06.641Z"
   },
   {
    "duration": 7,
    "start_time": "2022-10-19T20:43:06.707Z"
   },
   {
    "duration": 25,
    "start_time": "2022-10-19T20:43:06.716Z"
   },
   {
    "duration": 18,
    "start_time": "2022-10-19T20:43:06.743Z"
   },
   {
    "duration": 151,
    "start_time": "2022-10-19T20:43:06.791Z"
   },
   {
    "duration": 18,
    "start_time": "2022-10-19T20:43:06.944Z"
   },
   {
    "duration": 52,
    "start_time": "2022-10-19T20:43:06.964Z"
   },
   {
    "duration": 17,
    "start_time": "2022-10-19T20:43:07.018Z"
   },
   {
    "duration": 11,
    "start_time": "2022-10-19T20:43:07.037Z"
   },
   {
    "duration": 21,
    "start_time": "2022-10-19T20:43:07.049Z"
   },
   {
    "duration": 25,
    "start_time": "2022-10-19T20:43:07.072Z"
   },
   {
    "duration": 5,
    "start_time": "2022-10-19T20:43:07.099Z"
   },
   {
    "duration": 33,
    "start_time": "2022-10-19T20:43:07.106Z"
   },
   {
    "duration": 16,
    "start_time": "2022-10-19T20:43:07.141Z"
   },
   {
    "duration": 42,
    "start_time": "2022-10-19T20:43:07.159Z"
   },
   {
    "duration": 23,
    "start_time": "2022-10-19T20:43:07.203Z"
   },
   {
    "duration": 6,
    "start_time": "2022-10-19T20:43:07.228Z"
   },
   {
    "duration": 119,
    "start_time": "2022-10-19T20:43:07.236Z"
   },
   {
    "duration": 323,
    "start_time": "2022-10-19T20:43:07.358Z"
   },
   {
    "duration": 500,
    "start_time": "2022-10-19T20:43:07.683Z"
   },
   {
    "duration": 543,
    "start_time": "2022-10-19T20:43:08.185Z"
   },
   {
    "duration": 502,
    "start_time": "2022-10-19T20:43:08.730Z"
   },
   {
    "duration": 119,
    "start_time": "2022-10-19T20:43:09.235Z"
   },
   {
    "duration": 159,
    "start_time": "2022-10-19T20:43:09.357Z"
   },
   {
    "duration": 116,
    "start_time": "2022-10-19T20:43:09.519Z"
   },
   {
    "duration": 6,
    "start_time": "2022-10-19T20:48:49.775Z"
   },
   {
    "duration": 645,
    "start_time": "2022-10-19T20:48:55.080Z"
   },
   {
    "duration": 108,
    "start_time": "2022-10-19T20:48:55.727Z"
   },
   {
    "duration": 69,
    "start_time": "2022-10-19T20:48:55.837Z"
   },
   {
    "duration": 6,
    "start_time": "2022-10-19T20:48:55.907Z"
   },
   {
    "duration": 10,
    "start_time": "2022-10-19T20:48:55.914Z"
   },
   {
    "duration": 62,
    "start_time": "2022-10-19T20:48:55.926Z"
   },
   {
    "duration": 5,
    "start_time": "2022-10-19T20:48:55.990Z"
   },
   {
    "duration": 10,
    "start_time": "2022-10-19T20:48:55.997Z"
   },
   {
    "duration": 104,
    "start_time": "2022-10-19T20:48:56.009Z"
   },
   {
    "duration": 7,
    "start_time": "2022-10-19T20:48:56.115Z"
   },
   {
    "duration": 41,
    "start_time": "2022-10-19T20:48:56.124Z"
   },
   {
    "duration": 23,
    "start_time": "2022-10-19T20:48:56.167Z"
   },
   {
    "duration": 86,
    "start_time": "2022-10-19T20:48:56.191Z"
   },
   {
    "duration": 0,
    "start_time": "2022-10-19T20:48:56.279Z"
   },
   {
    "duration": 0,
    "start_time": "2022-10-19T20:48:56.289Z"
   },
   {
    "duration": 0,
    "start_time": "2022-10-19T20:48:56.290Z"
   },
   {
    "duration": 0,
    "start_time": "2022-10-19T20:48:56.291Z"
   },
   {
    "duration": 0,
    "start_time": "2022-10-19T20:48:56.292Z"
   },
   {
    "duration": 0,
    "start_time": "2022-10-19T20:48:56.293Z"
   },
   {
    "duration": 0,
    "start_time": "2022-10-19T20:48:56.294Z"
   },
   {
    "duration": 0,
    "start_time": "2022-10-19T20:48:56.295Z"
   },
   {
    "duration": 0,
    "start_time": "2022-10-19T20:48:56.296Z"
   },
   {
    "duration": 0,
    "start_time": "2022-10-19T20:48:56.298Z"
   },
   {
    "duration": 0,
    "start_time": "2022-10-19T20:48:56.299Z"
   },
   {
    "duration": 0,
    "start_time": "2022-10-19T20:48:56.301Z"
   },
   {
    "duration": 0,
    "start_time": "2022-10-19T20:48:56.302Z"
   },
   {
    "duration": 0,
    "start_time": "2022-10-19T20:48:56.303Z"
   },
   {
    "duration": 0,
    "start_time": "2022-10-19T20:48:56.304Z"
   },
   {
    "duration": 0,
    "start_time": "2022-10-19T20:48:56.304Z"
   },
   {
    "duration": 0,
    "start_time": "2022-10-19T20:48:56.305Z"
   },
   {
    "duration": 0,
    "start_time": "2022-10-19T20:48:56.306Z"
   },
   {
    "duration": 0,
    "start_time": "2022-10-19T20:48:56.307Z"
   },
   {
    "duration": 0,
    "start_time": "2022-10-19T20:48:56.308Z"
   },
   {
    "duration": 0,
    "start_time": "2022-10-19T20:48:56.310Z"
   },
   {
    "duration": 0,
    "start_time": "2022-10-19T20:48:56.311Z"
   },
   {
    "duration": 744,
    "start_time": "2022-10-19T20:49:41.352Z"
   },
   {
    "duration": 112,
    "start_time": "2022-10-19T20:49:42.099Z"
   },
   {
    "duration": 65,
    "start_time": "2022-10-19T20:49:42.212Z"
   },
   {
    "duration": 5,
    "start_time": "2022-10-19T20:49:42.279Z"
   },
   {
    "duration": 37,
    "start_time": "2022-10-19T20:49:42.286Z"
   },
   {
    "duration": 55,
    "start_time": "2022-10-19T20:49:42.325Z"
   },
   {
    "duration": 9,
    "start_time": "2022-10-19T20:49:42.382Z"
   },
   {
    "duration": 80,
    "start_time": "2022-10-19T20:49:42.393Z"
   },
   {
    "duration": 6,
    "start_time": "2022-10-19T20:49:42.475Z"
   },
   {
    "duration": 57,
    "start_time": "2022-10-19T20:49:42.484Z"
   },
   {
    "duration": 11,
    "start_time": "2022-10-19T20:49:42.543Z"
   },
   {
    "duration": 46,
    "start_time": "2022-10-19T20:49:42.556Z"
   },
   {
    "duration": 41,
    "start_time": "2022-10-19T20:49:42.604Z"
   },
   {
    "duration": 138,
    "start_time": "2022-10-19T20:49:42.646Z"
   },
   {
    "duration": 18,
    "start_time": "2022-10-19T20:49:42.789Z"
   },
   {
    "duration": 69,
    "start_time": "2022-10-19T20:49:42.808Z"
   },
   {
    "duration": 21,
    "start_time": "2022-10-19T20:49:42.878Z"
   },
   {
    "duration": 22,
    "start_time": "2022-10-19T20:49:42.901Z"
   },
   {
    "duration": 39,
    "start_time": "2022-10-19T20:49:42.925Z"
   },
   {
    "duration": 51,
    "start_time": "2022-10-19T20:49:42.966Z"
   },
   {
    "duration": 30,
    "start_time": "2022-10-19T20:49:43.019Z"
   },
   {
    "duration": 54,
    "start_time": "2022-10-19T20:49:43.051Z"
   },
   {
    "duration": 42,
    "start_time": "2022-10-19T20:49:43.107Z"
   },
   {
    "duration": 41,
    "start_time": "2022-10-19T20:49:43.150Z"
   },
   {
    "duration": 57,
    "start_time": "2022-10-19T20:49:43.193Z"
   },
   {
    "duration": 26,
    "start_time": "2022-10-19T20:49:43.251Z"
   },
   {
    "duration": 111,
    "start_time": "2022-10-19T20:49:43.279Z"
   },
   {
    "duration": 352,
    "start_time": "2022-10-19T20:49:43.393Z"
   },
   {
    "duration": 433,
    "start_time": "2022-10-19T20:49:43.747Z"
   },
   {
    "duration": 409,
    "start_time": "2022-10-19T20:49:44.182Z"
   },
   {
    "duration": 342,
    "start_time": "2022-10-19T20:49:44.593Z"
   },
   {
    "duration": 107,
    "start_time": "2022-10-19T20:49:44.937Z"
   },
   {
    "duration": 119,
    "start_time": "2022-10-19T20:49:45.047Z"
   },
   {
    "duration": 99,
    "start_time": "2022-10-19T20:49:45.169Z"
   },
   {
    "duration": 13,
    "start_time": "2022-10-19T21:00:33.470Z"
   },
   {
    "duration": 716,
    "start_time": "2022-10-20T07:23:49.105Z"
   },
   {
    "duration": 397,
    "start_time": "2022-10-20T07:23:50.811Z"
   },
   {
    "duration": 4,
    "start_time": "2022-10-20T07:23:54.953Z"
   },
   {
    "duration": 61,
    "start_time": "2022-10-20T07:24:11.803Z"
   },
   {
    "duration": 37,
    "start_time": "2022-10-20T07:24:27.865Z"
   },
   {
    "duration": 44,
    "start_time": "2022-10-20T07:24:52.257Z"
   },
   {
    "duration": 75,
    "start_time": "2022-10-20T07:25:07.761Z"
   },
   {
    "duration": 28,
    "start_time": "2022-10-20T07:25:12.465Z"
   },
   {
    "duration": 7,
    "start_time": "2022-10-20T07:25:30.054Z"
   },
   {
    "duration": 15,
    "start_time": "2022-10-20T07:25:36.450Z"
   },
   {
    "duration": 3,
    "start_time": "2022-10-20T07:25:45.250Z"
   },
   {
    "duration": 110,
    "start_time": "2022-10-20T07:25:45.255Z"
   },
   {
    "duration": 4,
    "start_time": "2022-10-20T07:25:45.367Z"
   },
   {
    "duration": 61,
    "start_time": "2022-10-20T07:25:45.373Z"
   },
   {
    "duration": 6,
    "start_time": "2022-10-20T07:25:45.436Z"
   },
   {
    "duration": 11,
    "start_time": "2022-10-20T07:25:45.443Z"
   },
   {
    "duration": 58,
    "start_time": "2022-10-20T07:25:45.455Z"
   },
   {
    "duration": 6,
    "start_time": "2022-10-20T07:25:45.515Z"
   },
   {
    "duration": 63,
    "start_time": "2022-10-20T07:25:45.523Z"
   },
   {
    "duration": 7,
    "start_time": "2022-10-20T07:25:45.587Z"
   },
   {
    "duration": 30,
    "start_time": "2022-10-20T07:25:45.596Z"
   },
   {
    "duration": 6,
    "start_time": "2022-10-20T07:25:45.627Z"
   },
   {
    "duration": 22,
    "start_time": "2022-10-20T07:25:55.836Z"
   },
   {
    "duration": 20,
    "start_time": "2022-10-20T07:25:56.920Z"
   },
   {
    "duration": 117,
    "start_time": "2022-10-20T07:26:02.152Z"
   },
   {
    "duration": 110,
    "start_time": "2022-10-20T07:26:32.686Z"
   },
   {
    "duration": 630,
    "start_time": "2022-10-20T07:26:48.276Z"
   },
   {
    "duration": 103,
    "start_time": "2022-10-20T07:26:48.908Z"
   },
   {
    "duration": 5,
    "start_time": "2022-10-20T07:26:49.013Z"
   },
   {
    "duration": 65,
    "start_time": "2022-10-20T07:26:49.020Z"
   },
   {
    "duration": 5,
    "start_time": "2022-10-20T07:26:49.087Z"
   },
   {
    "duration": 8,
    "start_time": "2022-10-20T07:26:49.094Z"
   },
   {
    "duration": 41,
    "start_time": "2022-10-20T07:26:49.104Z"
   },
   {
    "duration": 5,
    "start_time": "2022-10-20T07:26:49.147Z"
   },
   {
    "duration": 77,
    "start_time": "2022-10-20T07:26:49.154Z"
   },
   {
    "duration": 5,
    "start_time": "2022-10-20T07:26:49.234Z"
   },
   {
    "duration": 46,
    "start_time": "2022-10-20T07:26:49.240Z"
   },
   {
    "duration": 6,
    "start_time": "2022-10-20T07:26:49.287Z"
   },
   {
    "duration": 24,
    "start_time": "2022-10-20T07:26:49.294Z"
   },
   {
    "duration": 108,
    "start_time": "2022-10-20T07:26:49.319Z"
   },
   {
    "duration": 15,
    "start_time": "2022-10-20T07:26:49.428Z"
   },
   {
    "duration": 45,
    "start_time": "2022-10-20T07:26:49.444Z"
   },
   {
    "duration": 13,
    "start_time": "2022-10-20T07:26:49.491Z"
   },
   {
    "duration": 5,
    "start_time": "2022-10-20T07:26:49.505Z"
   },
   {
    "duration": 10,
    "start_time": "2022-10-20T07:26:49.512Z"
   },
   {
    "duration": 11,
    "start_time": "2022-10-20T07:26:49.524Z"
   },
   {
    "duration": 3,
    "start_time": "2022-10-20T07:26:49.537Z"
   },
   {
    "duration": 24,
    "start_time": "2022-10-20T07:26:49.541Z"
   },
   {
    "duration": 10,
    "start_time": "2022-10-20T07:26:49.585Z"
   },
   {
    "duration": 19,
    "start_time": "2022-10-20T07:26:49.597Z"
   },
   {
    "duration": 22,
    "start_time": "2022-10-20T07:26:49.618Z"
   },
   {
    "duration": 5,
    "start_time": "2022-10-20T07:26:49.641Z"
   },
   {
    "duration": 101,
    "start_time": "2022-10-20T07:26:49.647Z"
   },
   {
    "duration": 301,
    "start_time": "2022-10-20T07:26:49.751Z"
   },
   {
    "duration": 391,
    "start_time": "2022-10-20T07:26:50.053Z"
   },
   {
    "duration": 369,
    "start_time": "2022-10-20T07:26:50.445Z"
   },
   {
    "duration": 297,
    "start_time": "2022-10-20T07:26:50.816Z"
   },
   {
    "duration": 94,
    "start_time": "2022-10-20T07:26:51.115Z"
   },
   {
    "duration": 103,
    "start_time": "2022-10-20T07:26:51.211Z"
   },
   {
    "duration": 92,
    "start_time": "2022-10-20T07:26:51.316Z"
   },
   {
    "duration": 8,
    "start_time": "2022-10-23T13:21:39.331Z"
   },
   {
    "duration": 39,
    "start_time": "2022-10-23T13:21:48.863Z"
   },
   {
    "duration": 1490,
    "start_time": "2022-10-23T13:21:53.454Z"
   },
   {
    "duration": 366,
    "start_time": "2022-10-23T13:21:54.946Z"
   },
   {
    "duration": 4,
    "start_time": "2022-10-23T13:21:55.313Z"
   },
   {
    "duration": 6,
    "start_time": "2022-10-23T13:21:55.319Z"
   },
   {
    "duration": 63,
    "start_time": "2022-10-23T13:21:55.327Z"
   },
   {
    "duration": 16,
    "start_time": "2022-10-23T13:21:55.392Z"
   },
   {
    "duration": 7,
    "start_time": "2022-10-23T13:21:55.410Z"
   },
   {
    "duration": 40,
    "start_time": "2022-10-23T13:21:55.418Z"
   },
   {
    "duration": 6,
    "start_time": "2022-10-23T13:21:55.459Z"
   },
   {
    "duration": 61,
    "start_time": "2022-10-23T13:21:55.466Z"
   },
   {
    "duration": 6,
    "start_time": "2022-10-23T13:21:55.529Z"
   },
   {
    "duration": 27,
    "start_time": "2022-10-23T13:21:55.536Z"
   },
   {
    "duration": 6,
    "start_time": "2022-10-23T13:21:55.564Z"
   },
   {
    "duration": 49,
    "start_time": "2022-10-23T13:21:55.572Z"
   },
   {
    "duration": 114,
    "start_time": "2022-10-23T13:21:55.623Z"
   },
   {
    "duration": 15,
    "start_time": "2022-10-23T13:21:55.739Z"
   },
   {
    "duration": 50,
    "start_time": "2022-10-23T13:21:55.755Z"
   },
   {
    "duration": 13,
    "start_time": "2022-10-23T13:21:55.807Z"
   },
   {
    "duration": 10,
    "start_time": "2022-10-23T13:21:55.821Z"
   },
   {
    "duration": 9,
    "start_time": "2022-10-23T13:21:55.832Z"
   },
   {
    "duration": 5,
    "start_time": "2022-10-23T13:21:55.843Z"
   },
   {
    "duration": 22,
    "start_time": "2022-10-23T13:21:55.850Z"
   },
   {
    "duration": 10,
    "start_time": "2022-10-23T13:21:55.873Z"
   },
   {
    "duration": 28,
    "start_time": "2022-10-23T13:21:55.904Z"
   },
   {
    "duration": 21,
    "start_time": "2022-10-23T13:21:55.934Z"
   },
   {
    "duration": 5,
    "start_time": "2022-10-23T13:21:55.956Z"
   },
   {
    "duration": 96,
    "start_time": "2022-10-23T13:21:55.963Z"
   },
   {
    "duration": 9,
    "start_time": "2022-10-23T13:21:56.060Z"
   },
   {
    "duration": 11,
    "start_time": "2022-10-23T13:21:56.071Z"
   },
   {
    "duration": 358,
    "start_time": "2022-10-23T13:21:56.084Z"
   },
   {
    "duration": 345,
    "start_time": "2022-10-23T13:21:56.444Z"
   },
   {
    "duration": 368,
    "start_time": "2022-10-23T13:21:56.791Z"
   },
   {
    "duration": 299,
    "start_time": "2022-10-23T13:21:57.161Z"
   },
   {
    "duration": 87,
    "start_time": "2022-10-23T13:21:57.462Z"
   },
   {
    "duration": 117,
    "start_time": "2022-10-23T13:21:57.551Z"
   },
   {
    "duration": 254,
    "start_time": "2022-10-23T13:21:57.670Z"
   },
   {
    "duration": 196,
    "start_time": "2022-10-23T13:21:57.927Z"
   },
   {
    "duration": 186,
    "start_time": "2022-10-23T13:21:58.125Z"
   },
   {
    "duration": 156,
    "start_time": "2022-10-23T13:21:58.312Z"
   },
   {
    "duration": 1456,
    "start_time": "2022-10-23T13:21:58.470Z"
   },
   {
    "duration": 376,
    "start_time": "2022-10-23T13:22:08.558Z"
   },
   {
    "duration": 17,
    "start_time": "2022-10-23T13:26:31.524Z"
   },
   {
    "duration": 9,
    "start_time": "2022-10-23T13:26:42.084Z"
   },
   {
    "duration": 5,
    "start_time": "2022-10-23T13:26:48.777Z"
   },
   {
    "duration": 9,
    "start_time": "2022-10-23T13:29:36.027Z"
   },
   {
    "duration": 22,
    "start_time": "2022-10-23T13:29:38.441Z"
   },
   {
    "duration": 4,
    "start_time": "2022-10-23T13:29:39.292Z"
   },
   {
    "duration": 14725,
    "start_time": "2022-10-23T13:29:59.597Z"
   },
   {
    "duration": 229,
    "start_time": "2022-10-23T13:30:18.653Z"
   },
   {
    "duration": 6277,
    "start_time": "2022-10-23T13:30:33.235Z"
   },
   {
    "duration": 374,
    "start_time": "2022-10-23T13:30:39.514Z"
   },
   {
    "duration": 305,
    "start_time": "2022-10-23T13:30:53.884Z"
   },
   {
    "duration": 110,
    "start_time": "2022-10-23T13:30:54.348Z"
   },
   {
    "duration": 11,
    "start_time": "2022-10-23T13:31:16.438Z"
   },
   {
    "duration": 24705,
    "start_time": "2022-10-23T13:31:20.585Z"
   },
   {
    "duration": 125,
    "start_time": "2022-10-23T13:31:45.291Z"
   },
   {
    "duration": 40,
    "start_time": "2022-10-23T13:33:59.375Z"
   },
   {
    "duration": 31,
    "start_time": "2022-10-23T13:34:25.708Z"
   },
   {
    "duration": 11338,
    "start_time": "2022-10-23T13:34:32.993Z"
   },
   {
    "duration": 160486,
    "start_time": "2022-10-23T13:35:04.377Z"
   },
   {
    "duration": 151,
    "start_time": "2022-10-23T13:38:11.487Z"
   },
   {
    "duration": 7,
    "start_time": "2022-10-23T13:38:13.061Z"
   },
   {
    "duration": 12,
    "start_time": "2022-10-23T13:38:15.264Z"
   },
   {
    "duration": 120,
    "start_time": "2022-10-23T13:38:16.667Z"
   },
   {
    "duration": 7927,
    "start_time": "2022-10-23T13:38:18.840Z"
   },
   {
    "duration": 288490,
    "start_time": "2022-10-23T13:39:00.871Z"
   },
   {
    "duration": 7731,
    "start_time": "2022-10-23T13:43:49.363Z"
   },
   {
    "duration": 9940,
    "start_time": "2022-10-23T13:45:37.408Z"
   },
   {
    "duration": 13329,
    "start_time": "2022-10-23T13:45:57.245Z"
   },
   {
    "duration": 8847,
    "start_time": "2022-10-23T13:46:16.892Z"
   },
   {
    "duration": 15926,
    "start_time": "2022-10-23T13:46:30.980Z"
   },
   {
    "duration": 15450,
    "start_time": "2022-10-23T13:46:58.312Z"
   },
   {
    "duration": 15321,
    "start_time": "2022-10-23T13:47:19.495Z"
   },
   {
    "duration": 16247,
    "start_time": "2022-10-23T13:47:39.373Z"
   },
   {
    "duration": 9221,
    "start_time": "2022-10-23T13:48:00.112Z"
   },
   {
    "duration": 13551,
    "start_time": "2022-10-23T13:48:13.437Z"
   },
   {
    "duration": 13499,
    "start_time": "2022-10-23T13:48:31.443Z"
   },
   {
    "duration": 13103,
    "start_time": "2022-10-23T13:48:49.496Z"
   },
   {
    "duration": 203123,
    "start_time": "2022-10-23T13:49:25.021Z"
   },
   {
    "duration": 13475,
    "start_time": "2022-10-23T13:52:55.568Z"
   },
   {
    "duration": 14737,
    "start_time": "2022-10-23T13:53:17.979Z"
   },
   {
    "duration": 13806,
    "start_time": "2022-10-23T13:53:39.657Z"
   },
   {
    "duration": 155,
    "start_time": "2022-10-23T13:55:05.467Z"
   },
   {
    "duration": 37,
    "start_time": "2022-10-23T13:58:09.843Z"
   },
   {
    "duration": 23999,
    "start_time": "2022-10-23T13:58:46.504Z"
   },
   {
    "duration": 13451,
    "start_time": "2022-10-23T13:59:42.601Z"
   },
   {
    "duration": 128,
    "start_time": "2022-10-23T14:00:00.264Z"
   },
   {
    "duration": 8,
    "start_time": "2022-10-23T14:00:27.254Z"
   },
   {
    "duration": 17423,
    "start_time": "2022-10-23T14:25:04.745Z"
   },
   {
    "duration": 11153,
    "start_time": "2022-10-23T14:25:26.331Z"
   },
   {
    "duration": 8449,
    "start_time": "2022-10-23T14:25:45.427Z"
   },
   {
    "duration": 12784,
    "start_time": "2022-10-23T14:26:04.421Z"
   },
   {
    "duration": 9441,
    "start_time": "2022-10-23T14:26:21.138Z"
   },
   {
    "duration": 14318,
    "start_time": "2022-10-23T14:26:36.031Z"
   },
   {
    "duration": 12879,
    "start_time": "2022-10-23T14:26:57.246Z"
   },
   {
    "duration": 12671,
    "start_time": "2022-10-23T14:27:15.480Z"
   },
   {
    "duration": 13345,
    "start_time": "2022-10-23T14:27:32.921Z"
   },
   {
    "duration": 12728,
    "start_time": "2022-10-23T14:27:51.491Z"
   },
   {
    "duration": 12900,
    "start_time": "2022-10-23T14:28:08.304Z"
   },
   {
    "duration": 11412,
    "start_time": "2022-10-23T14:28:37.500Z"
   },
   {
    "duration": 11007,
    "start_time": "2022-10-23T14:28:54.986Z"
   },
   {
    "duration": 16623,
    "start_time": "2022-10-23T14:29:10.416Z"
   },
   {
    "duration": 8408,
    "start_time": "2022-10-23T14:29:31.755Z"
   },
   {
    "duration": 8318,
    "start_time": "2022-10-23T14:29:49.251Z"
   },
   {
    "duration": 9644,
    "start_time": "2022-10-23T14:31:35.500Z"
   },
   {
    "duration": 9410,
    "start_time": "2022-10-23T14:31:51.587Z"
   },
   {
    "duration": 9342,
    "start_time": "2022-10-23T14:32:05.796Z"
   },
   {
    "duration": 8807,
    "start_time": "2022-10-23T14:32:23.173Z"
   },
   {
    "duration": 9835,
    "start_time": "2022-10-23T14:32:36.181Z"
   },
   {
    "duration": 10146,
    "start_time": "2022-10-23T14:32:51.221Z"
   },
   {
    "duration": 10871,
    "start_time": "2022-10-23T14:33:06.464Z"
   },
   {
    "duration": 11913,
    "start_time": "2022-10-23T14:33:23.828Z"
   },
   {
    "duration": 10642,
    "start_time": "2022-10-23T14:33:50.440Z"
   },
   {
    "duration": 10731,
    "start_time": "2022-10-23T14:34:10.770Z"
   },
   {
    "duration": 10061,
    "start_time": "2022-10-23T14:34:26.904Z"
   },
   {
    "duration": 1489,
    "start_time": "2022-10-23T14:35:31.369Z"
   },
   {
    "duration": 95,
    "start_time": "2022-10-23T14:35:32.860Z"
   },
   {
    "duration": 4,
    "start_time": "2022-10-23T14:35:32.957Z"
   },
   {
    "duration": 6,
    "start_time": "2022-10-23T14:35:32.963Z"
   },
   {
    "duration": 78,
    "start_time": "2022-10-23T14:35:32.971Z"
   },
   {
    "duration": 6,
    "start_time": "2022-10-23T14:35:33.051Z"
   },
   {
    "duration": 7,
    "start_time": "2022-10-23T14:35:33.059Z"
   },
   {
    "duration": 75,
    "start_time": "2022-10-23T14:35:33.068Z"
   },
   {
    "duration": 7,
    "start_time": "2022-10-23T14:35:33.144Z"
   },
   {
    "duration": 62,
    "start_time": "2022-10-23T14:35:33.153Z"
   },
   {
    "duration": 6,
    "start_time": "2022-10-23T14:35:33.216Z"
   },
   {
    "duration": 34,
    "start_time": "2022-10-23T14:35:33.224Z"
   },
   {
    "duration": 6,
    "start_time": "2022-10-23T14:35:33.260Z"
   },
   {
    "duration": 51,
    "start_time": "2022-10-23T14:35:33.267Z"
   },
   {
    "duration": 105,
    "start_time": "2022-10-23T14:35:33.319Z"
   },
   {
    "duration": 16,
    "start_time": "2022-10-23T14:35:33.426Z"
   },
   {
    "duration": 63,
    "start_time": "2022-10-23T14:35:33.444Z"
   },
   {
    "duration": 16,
    "start_time": "2022-10-23T14:35:33.509Z"
   },
   {
    "duration": 12,
    "start_time": "2022-10-23T14:35:33.527Z"
   },
   {
    "duration": 9,
    "start_time": "2022-10-23T14:35:33.541Z"
   },
   {
    "duration": 5,
    "start_time": "2022-10-23T14:35:33.551Z"
   },
   {
    "duration": 62,
    "start_time": "2022-10-23T14:35:33.557Z"
   },
   {
    "duration": 15,
    "start_time": "2022-10-23T14:35:33.621Z"
   },
   {
    "duration": 20,
    "start_time": "2022-10-23T14:35:33.637Z"
   },
   {
    "duration": 27,
    "start_time": "2022-10-23T14:35:33.659Z"
   },
   {
    "duration": 20,
    "start_time": "2022-10-23T14:35:33.688Z"
   },
   {
    "duration": 71,
    "start_time": "2022-10-23T14:35:33.709Z"
   },
   {
    "duration": 9,
    "start_time": "2022-10-23T14:35:33.804Z"
   },
   {
    "duration": 15,
    "start_time": "2022-10-23T14:35:33.815Z"
   },
   {
    "duration": 310,
    "start_time": "2022-10-23T14:35:33.832Z"
   },
   {
    "duration": 420,
    "start_time": "2022-10-23T14:35:34.144Z"
   },
   {
    "duration": 368,
    "start_time": "2022-10-23T14:35:34.566Z"
   },
   {
    "duration": 314,
    "start_time": "2022-10-23T14:35:34.936Z"
   },
   {
    "duration": 98,
    "start_time": "2022-10-23T14:35:35.252Z"
   },
   {
    "duration": 104,
    "start_time": "2022-10-23T14:35:35.352Z"
   },
   {
    "duration": 94,
    "start_time": "2022-10-23T14:35:35.457Z"
   },
   {
    "duration": 266,
    "start_time": "2022-10-23T14:35:35.553Z"
   },
   {
    "duration": 193,
    "start_time": "2022-10-23T14:35:35.821Z"
   },
   {
    "duration": 157,
    "start_time": "2022-10-23T14:35:36.015Z"
   },
   {
    "duration": 348,
    "start_time": "2022-10-23T14:35:36.174Z"
   },
   {
    "duration": 16,
    "start_time": "2022-10-23T14:35:36.524Z"
   },
   {
    "duration": 11,
    "start_time": "2022-10-23T14:35:36.542Z"
   },
   {
    "duration": 5,
    "start_time": "2022-10-23T14:35:36.554Z"
   },
   {
    "duration": 55,
    "start_time": "2022-10-23T14:35:36.561Z"
   },
   {
    "duration": 3,
    "start_time": "2022-10-23T14:35:36.617Z"
   },
   {
    "duration": 14796,
    "start_time": "2022-10-23T14:35:36.622Z"
   },
   {
    "duration": 267,
    "start_time": "2022-10-23T14:35:51.419Z"
   },
   {
    "duration": 6829,
    "start_time": "2022-10-23T14:35:51.688Z"
   },
   {
    "duration": 505,
    "start_time": "2022-10-23T14:35:58.519Z"
   },
   {
    "duration": 696,
    "start_time": "2022-10-23T14:35:59.026Z"
   },
   {
    "duration": 224,
    "start_time": "2022-10-23T14:35:59.724Z"
   },
   {
    "duration": 26556,
    "start_time": "2022-10-23T14:35:59.950Z"
   },
   {
    "duration": 144,
    "start_time": "2022-10-23T14:36:26.509Z"
   },
   {
    "duration": 126999,
    "start_time": "2022-10-23T14:36:26.655Z"
   },
   {
    "duration": 137,
    "start_time": "2022-10-23T14:38:33.655Z"
   },
   {
    "duration": 12,
    "start_time": "2022-10-23T14:38:33.793Z"
   },
   {
    "duration": 8,
    "start_time": "2022-10-23T14:38:33.807Z"
   },
   {
    "duration": 114,
    "start_time": "2022-10-23T14:38:33.817Z"
   },
   {
    "duration": 10675,
    "start_time": "2022-10-23T14:38:33.933Z"
   },
   {
    "duration": 129,
    "start_time": "2022-10-23T14:38:44.610Z"
   },
   {
    "duration": 8,
    "start_time": "2022-10-23T14:38:44.740Z"
   },
   {
    "duration": 138,
    "start_time": "2022-10-23T14:38:44.750Z"
   },
   {
    "duration": 405,
    "start_time": "2022-10-23T14:38:44.890Z"
   },
   {
    "duration": 6,
    "start_time": "2022-10-23T14:44:17.617Z"
   },
   {
    "duration": 68,
    "start_time": "2022-10-23T14:45:19.573Z"
   },
   {
    "duration": 13,
    "start_time": "2022-10-23T14:46:25.786Z"
   },
   {
    "duration": 75,
    "start_time": "2022-10-23T14:47:38.441Z"
   },
   {
    "duration": 22,
    "start_time": "2022-10-23T14:47:44.616Z"
   },
   {
    "duration": 5,
    "start_time": "2022-10-23T14:47:52.928Z"
   },
   {
    "duration": 16,
    "start_time": "2022-10-23T14:48:06.446Z"
   },
   {
    "duration": 5,
    "start_time": "2022-10-23T14:48:15.378Z"
   },
   {
    "duration": 72,
    "start_time": "2022-10-23T14:48:42.603Z"
   },
   {
    "duration": 216,
    "start_time": "2022-10-23T14:48:50.351Z"
   },
   {
    "duration": 1694,
    "start_time": "2022-10-23T15:05:50.759Z"
   },
   {
    "duration": 528,
    "start_time": "2022-10-23T15:05:52.455Z"
   },
   {
    "duration": 3,
    "start_time": "2022-10-23T15:05:52.987Z"
   },
   {
    "duration": 35,
    "start_time": "2022-10-23T15:05:52.993Z"
   },
   {
    "duration": 91,
    "start_time": "2022-10-23T15:05:53.030Z"
   },
   {
    "duration": 6,
    "start_time": "2022-10-23T15:05:53.122Z"
   },
   {
    "duration": 5,
    "start_time": "2022-10-23T15:05:53.130Z"
   },
   {
    "duration": 49,
    "start_time": "2022-10-23T15:05:53.137Z"
   },
   {
    "duration": 7,
    "start_time": "2022-10-23T15:05:53.188Z"
   },
   {
    "duration": 72,
    "start_time": "2022-10-23T15:05:53.197Z"
   },
   {
    "duration": 7,
    "start_time": "2022-10-23T15:05:53.271Z"
   },
   {
    "duration": 52,
    "start_time": "2022-10-23T15:05:53.280Z"
   },
   {
    "duration": 6,
    "start_time": "2022-10-23T15:05:53.334Z"
   },
   {
    "duration": 28,
    "start_time": "2022-10-23T15:05:53.341Z"
   },
   {
    "duration": 122,
    "start_time": "2022-10-23T15:05:53.371Z"
   },
   {
    "duration": 14,
    "start_time": "2022-10-23T15:05:53.495Z"
   },
   {
    "duration": 32,
    "start_time": "2022-10-23T15:05:53.523Z"
   },
   {
    "duration": 13,
    "start_time": "2022-10-23T15:05:53.556Z"
   },
   {
    "duration": 8,
    "start_time": "2022-10-23T15:05:53.571Z"
   },
   {
    "duration": 7,
    "start_time": "2022-10-23T15:05:53.580Z"
   },
   {
    "duration": 4,
    "start_time": "2022-10-23T15:05:53.588Z"
   },
   {
    "duration": 20,
    "start_time": "2022-10-23T15:05:53.624Z"
   },
   {
    "duration": 11,
    "start_time": "2022-10-23T15:05:53.646Z"
   },
   {
    "duration": 19,
    "start_time": "2022-10-23T15:05:53.659Z"
   },
   {
    "duration": 51,
    "start_time": "2022-10-23T15:05:53.680Z"
   },
   {
    "duration": 4,
    "start_time": "2022-10-23T15:05:53.733Z"
   },
   {
    "duration": 96,
    "start_time": "2022-10-23T15:05:53.739Z"
   },
   {
    "duration": 9,
    "start_time": "2022-10-23T15:05:53.838Z"
   },
   {
    "duration": 12,
    "start_time": "2022-10-23T15:05:53.848Z"
   },
   {
    "duration": 381,
    "start_time": "2022-10-23T15:05:53.861Z"
   },
   {
    "duration": 369,
    "start_time": "2022-10-23T15:05:54.244Z"
   },
   {
    "duration": 715,
    "start_time": "2022-10-23T15:05:54.615Z"
   },
   {
    "duration": 726,
    "start_time": "2022-10-23T15:05:55.331Z"
   },
   {
    "duration": 198,
    "start_time": "2022-10-23T15:05:56.059Z"
   },
   {
    "duration": 201,
    "start_time": "2022-10-23T15:05:56.259Z"
   },
   {
    "duration": 315,
    "start_time": "2022-10-23T15:05:56.462Z"
   },
   {
    "duration": 164,
    "start_time": "2022-10-23T15:05:56.779Z"
   },
   {
    "duration": 188,
    "start_time": "2022-10-23T15:05:56.945Z"
   },
   {
    "duration": 156,
    "start_time": "2022-10-23T15:05:57.134Z"
   },
   {
    "duration": 397,
    "start_time": "2022-10-23T15:05:57.291Z"
   },
   {
    "duration": 17,
    "start_time": "2022-10-23T15:05:57.689Z"
   },
   {
    "duration": 17,
    "start_time": "2022-10-23T15:05:57.708Z"
   },
   {
    "duration": 5,
    "start_time": "2022-10-23T15:05:57.727Z"
   },
   {
    "duration": 32,
    "start_time": "2022-10-23T15:05:57.733Z"
   },
   {
    "duration": 3,
    "start_time": "2022-10-23T15:05:57.766Z"
   },
   {
    "duration": 14683,
    "start_time": "2022-10-23T15:05:57.771Z"
   },
   {
    "duration": 269,
    "start_time": "2022-10-23T15:06:12.456Z"
   },
   {
    "duration": 8103,
    "start_time": "2022-10-23T15:06:12.727Z"
   },
   {
    "duration": 411,
    "start_time": "2022-10-23T15:06:20.833Z"
   },
   {
    "duration": 689,
    "start_time": "2022-10-23T15:06:21.246Z"
   },
   {
    "duration": 143,
    "start_time": "2022-10-23T15:06:21.937Z"
   },
   {
    "duration": 27193,
    "start_time": "2022-10-23T15:06:22.081Z"
   },
   {
    "duration": 209,
    "start_time": "2022-10-23T15:06:49.276Z"
   },
   {
    "duration": 134838,
    "start_time": "2022-10-23T15:06:49.486Z"
   },
   {
    "duration": 353485,
    "start_time": "2022-10-23T15:09:04.326Z"
   },
   {
    "duration": 141,
    "start_time": "2022-10-23T15:14:57.812Z"
   },
   {
    "duration": 8,
    "start_time": "2022-10-23T15:14:57.954Z"
   },
   {
    "duration": 11,
    "start_time": "2022-10-23T15:14:57.963Z"
   },
   {
    "duration": 130,
    "start_time": "2022-10-23T15:14:57.976Z"
   },
   {
    "duration": 10556,
    "start_time": "2022-10-23T15:14:58.107Z"
   },
   {
    "duration": 149,
    "start_time": "2022-10-23T15:15:08.665Z"
   },
   {
    "duration": 13,
    "start_time": "2022-10-23T15:15:08.816Z"
   },
   {
    "duration": 142,
    "start_time": "2022-10-23T15:15:08.831Z"
   },
   {
    "duration": 319,
    "start_time": "2022-10-23T15:15:08.975Z"
   },
   {
    "duration": 17,
    "start_time": "2022-10-23T15:26:07.039Z"
   },
   {
    "duration": 6019,
    "start_time": "2022-10-23T15:27:11.867Z"
   },
   {
    "duration": 24,
    "start_time": "2022-10-23T15:28:15.177Z"
   },
   {
    "duration": 4,
    "start_time": "2022-10-23T15:30:35.138Z"
   },
   {
    "duration": 4,
    "start_time": "2022-10-23T15:31:48.045Z"
   },
   {
    "duration": 4,
    "start_time": "2022-10-23T15:32:47.489Z"
   },
   {
    "duration": 4,
    "start_time": "2022-10-23T15:32:59.860Z"
   },
   {
    "duration": 3,
    "start_time": "2022-10-23T15:33:07.482Z"
   },
   {
    "duration": 6216,
    "start_time": "2022-10-23T15:33:12.572Z"
   },
   {
    "duration": 3,
    "start_time": "2022-10-23T15:33:43.990Z"
   },
   {
    "duration": 147446,
    "start_time": "2022-10-23T15:33:46.975Z"
   },
   {
    "duration": 231,
    "start_time": "2022-10-23T15:36:14.423Z"
   },
   {
    "duration": 6549,
    "start_time": "2022-10-23T15:36:14.656Z"
   },
   {
    "duration": 12402,
    "start_time": "2022-10-23T15:37:02.403Z"
   },
   {
    "duration": 47,
    "start_time": "2022-10-23T15:37:14.807Z"
   },
   {
    "duration": 46,
    "start_time": "2022-10-23T15:42:19.797Z"
   },
   {
    "duration": 48,
    "start_time": "2022-10-23T15:45:42.664Z"
   },
   {
    "duration": 4543,
    "start_time": "2022-10-23T16:35:41.643Z"
   },
   {
    "duration": 5682,
    "start_time": "2022-10-23T16:36:01.785Z"
   },
   {
    "duration": 5485,
    "start_time": "2022-10-23T16:36:27.531Z"
   },
   {
    "duration": 5,
    "start_time": "2022-10-23T16:38:33.989Z"
   },
   {
    "duration": 10,
    "start_time": "2022-10-23T16:38:49.806Z"
   },
   {
    "duration": 65,
    "start_time": "2022-10-23T16:38:56.136Z"
   },
   {
    "duration": 5646,
    "start_time": "2022-10-23T16:40:34.066Z"
   },
   {
    "duration": 5723,
    "start_time": "2022-10-23T16:41:55.580Z"
   },
   {
    "duration": 88,
    "start_time": "2022-10-23T16:42:52.910Z"
   },
   {
    "duration": 47,
    "start_time": "2022-10-23T16:42:58.225Z"
   },
   {
    "duration": 136786,
    "start_time": "2022-10-23T16:45:36.367Z"
   },
   {
    "duration": 51,
    "start_time": "2022-10-23T16:51:00.155Z"
   },
   {
    "duration": 45,
    "start_time": "2022-10-23T16:51:23.586Z"
   },
   {
    "duration": 48,
    "start_time": "2022-10-23T16:51:29.740Z"
   },
   {
    "duration": 11,
    "start_time": "2022-10-23T16:53:51.830Z"
   },
   {
    "duration": 2864,
    "start_time": "2022-10-23T16:54:02.763Z"
   },
   {
    "duration": 52,
    "start_time": "2022-10-23T16:55:02.885Z"
   },
   {
    "duration": 5845,
    "start_time": "2022-10-23T16:55:17.148Z"
   },
   {
    "duration": 47,
    "start_time": "2022-10-23T16:55:43.701Z"
   },
   {
    "duration": 5566,
    "start_time": "2022-10-23T16:56:13.347Z"
   },
   {
    "duration": 1465,
    "start_time": "2022-10-23T16:56:33.084Z"
   },
   {
    "duration": 107,
    "start_time": "2022-10-23T16:56:34.551Z"
   },
   {
    "duration": 3,
    "start_time": "2022-10-23T16:56:34.660Z"
   },
   {
    "duration": 5,
    "start_time": "2022-10-23T16:56:34.665Z"
   },
   {
    "duration": 62,
    "start_time": "2022-10-23T16:56:34.671Z"
   },
   {
    "duration": 5,
    "start_time": "2022-10-23T16:56:34.735Z"
   },
   {
    "duration": 6,
    "start_time": "2022-10-23T16:56:34.742Z"
   },
   {
    "duration": 40,
    "start_time": "2022-10-23T16:56:34.749Z"
   },
   {
    "duration": 6,
    "start_time": "2022-10-23T16:56:34.790Z"
   },
   {
    "duration": 68,
    "start_time": "2022-10-23T16:56:34.798Z"
   },
   {
    "duration": 6,
    "start_time": "2022-10-23T16:56:34.868Z"
   },
   {
    "duration": 51,
    "start_time": "2022-10-23T16:56:34.875Z"
   },
   {
    "duration": 6,
    "start_time": "2022-10-23T16:56:34.928Z"
   },
   {
    "duration": 23,
    "start_time": "2022-10-23T16:56:34.936Z"
   },
   {
    "duration": 114,
    "start_time": "2022-10-23T16:56:34.960Z"
   },
   {
    "duration": 15,
    "start_time": "2022-10-23T16:56:35.076Z"
   },
   {
    "duration": 49,
    "start_time": "2022-10-23T16:56:35.092Z"
   },
   {
    "duration": 11,
    "start_time": "2022-10-23T16:56:35.143Z"
   },
   {
    "duration": 8,
    "start_time": "2022-10-23T16:56:35.155Z"
   },
   {
    "duration": 7,
    "start_time": "2022-10-23T16:56:35.164Z"
   },
   {
    "duration": 4,
    "start_time": "2022-10-23T16:56:35.172Z"
   },
   {
    "duration": 22,
    "start_time": "2022-10-23T16:56:35.177Z"
   },
   {
    "duration": 10,
    "start_time": "2022-10-23T16:56:35.224Z"
   },
   {
    "duration": 20,
    "start_time": "2022-10-23T16:56:35.235Z"
   },
   {
    "duration": 19,
    "start_time": "2022-10-23T16:56:35.256Z"
   },
   {
    "duration": 4,
    "start_time": "2022-10-23T16:56:35.276Z"
   },
   {
    "duration": 100,
    "start_time": "2022-10-23T16:56:35.282Z"
   },
   {
    "duration": 10,
    "start_time": "2022-10-23T16:56:35.385Z"
   },
   {
    "duration": 31,
    "start_time": "2022-10-23T16:56:35.397Z"
   },
   {
    "duration": 307,
    "start_time": "2022-10-23T16:56:35.429Z"
   },
   {
    "duration": 442,
    "start_time": "2022-10-23T16:56:35.738Z"
   },
   {
    "duration": 398,
    "start_time": "2022-10-23T16:56:36.182Z"
   },
   {
    "duration": 370,
    "start_time": "2022-10-23T16:56:36.582Z"
   },
   {
    "duration": 129,
    "start_time": "2022-10-23T16:56:36.954Z"
   },
   {
    "duration": 140,
    "start_time": "2022-10-23T16:56:37.086Z"
   },
   {
    "duration": 114,
    "start_time": "2022-10-23T16:56:37.228Z"
   },
   {
    "duration": 327,
    "start_time": "2022-10-23T16:56:37.344Z"
   },
   {
    "duration": 197,
    "start_time": "2022-10-23T16:56:37.673Z"
   },
   {
    "duration": 158,
    "start_time": "2022-10-23T16:56:37.871Z"
   },
   {
    "duration": 317,
    "start_time": "2022-10-23T16:56:38.030Z"
   },
   {
    "duration": 16,
    "start_time": "2022-10-23T16:56:38.349Z"
   },
   {
    "duration": 23,
    "start_time": "2022-10-23T16:56:38.367Z"
   },
   {
    "duration": 14,
    "start_time": "2022-10-23T16:56:38.391Z"
   },
   {
    "duration": 37,
    "start_time": "2022-10-23T16:56:38.407Z"
   },
   {
    "duration": 3,
    "start_time": "2022-10-23T16:56:38.446Z"
   },
   {
    "duration": 15598,
    "start_time": "2022-10-23T16:56:38.450Z"
   },
   {
    "duration": 277,
    "start_time": "2022-10-23T16:56:54.049Z"
   },
   {
    "duration": 8503,
    "start_time": "2022-10-23T16:56:54.327Z"
   },
   {
    "duration": 402,
    "start_time": "2022-10-23T16:57:02.832Z"
   },
   {
    "duration": 365,
    "start_time": "2022-10-23T16:57:03.236Z"
   },
   {
    "duration": 145,
    "start_time": "2022-10-23T16:57:03.603Z"
   },
   {
    "duration": 26775,
    "start_time": "2022-10-23T16:57:03.750Z"
   },
   {
    "duration": 133,
    "start_time": "2022-10-23T16:57:30.527Z"
   },
   {
    "duration": 3,
    "start_time": "2022-10-23T16:57:30.661Z"
   },
   {
    "duration": 135865,
    "start_time": "2022-10-23T16:57:30.665Z"
   },
   {
    "duration": 5407,
    "start_time": "2022-10-23T16:59:46.531Z"
   },
   {
    "duration": 257,
    "start_time": "2022-10-23T16:59:51.941Z"
   },
   {
    "duration": 9,
    "start_time": "2022-10-23T16:59:52.199Z"
   },
   {
    "duration": 19,
    "start_time": "2022-10-23T16:59:52.210Z"
   },
   {
    "duration": 121,
    "start_time": "2022-10-23T16:59:52.231Z"
   },
   {
    "duration": 12384,
    "start_time": "2022-10-23T16:59:52.353Z"
   },
   {
    "duration": 5386,
    "start_time": "2022-10-23T17:00:04.739Z"
   },
   {
    "duration": 229,
    "start_time": "2022-10-23T17:00:10.127Z"
   },
   {
    "duration": 8,
    "start_time": "2022-10-23T17:00:10.357Z"
   },
   {
    "duration": 168,
    "start_time": "2022-10-23T17:00:10.366Z"
   },
   {
    "duration": 226,
    "start_time": "2022-10-23T17:00:10.535Z"
   },
   {
    "duration": 4,
    "start_time": "2022-10-23T17:05:11.415Z"
   },
   {
    "duration": 5595,
    "start_time": "2022-10-23T17:05:44.101Z"
   },
   {
    "duration": 5772,
    "start_time": "2022-10-23T17:10:29.689Z"
   },
   {
    "duration": 42,
    "start_time": "2022-10-23T17:25:46.341Z"
   },
   {
    "duration": 1649,
    "start_time": "2022-10-23T17:30:31.946Z"
   },
   {
    "duration": 196,
    "start_time": "2022-10-23T17:30:33.597Z"
   },
   {
    "duration": 3,
    "start_time": "2022-10-23T17:30:33.795Z"
   },
   {
    "duration": 6,
    "start_time": "2022-10-23T17:30:33.799Z"
   },
   {
    "duration": 80,
    "start_time": "2022-10-23T17:30:33.806Z"
   },
   {
    "duration": 7,
    "start_time": "2022-10-23T17:30:33.888Z"
   },
   {
    "duration": 11,
    "start_time": "2022-10-23T17:30:33.896Z"
   },
   {
    "duration": 52,
    "start_time": "2022-10-23T17:30:33.915Z"
   },
   {
    "duration": 5,
    "start_time": "2022-10-23T17:30:33.969Z"
   },
   {
    "duration": 61,
    "start_time": "2022-10-23T17:30:33.977Z"
   },
   {
    "duration": 7,
    "start_time": "2022-10-23T17:30:34.040Z"
   },
   {
    "duration": 31,
    "start_time": "2022-10-23T17:30:34.049Z"
   },
   {
    "duration": 5,
    "start_time": "2022-10-23T17:30:34.082Z"
   },
   {
    "duration": 50,
    "start_time": "2022-10-23T17:30:34.089Z"
   },
   {
    "duration": 129,
    "start_time": "2022-10-23T17:30:34.140Z"
   },
   {
    "duration": 20,
    "start_time": "2022-10-23T17:30:34.271Z"
   },
   {
    "duration": 53,
    "start_time": "2022-10-23T17:30:34.293Z"
   },
   {
    "duration": 14,
    "start_time": "2022-10-23T17:30:34.348Z"
   },
   {
    "duration": 24,
    "start_time": "2022-10-23T17:30:34.364Z"
   },
   {
    "duration": 38,
    "start_time": "2022-10-23T17:30:34.389Z"
   },
   {
    "duration": 4,
    "start_time": "2022-10-23T17:30:34.429Z"
   },
   {
    "duration": 28,
    "start_time": "2022-10-23T17:30:34.435Z"
   },
   {
    "duration": 37,
    "start_time": "2022-10-23T17:30:34.465Z"
   },
   {
    "duration": 31,
    "start_time": "2022-10-23T17:30:34.505Z"
   },
   {
    "duration": 34,
    "start_time": "2022-10-23T17:30:34.538Z"
   },
   {
    "duration": 6,
    "start_time": "2022-10-23T17:30:34.574Z"
   },
   {
    "duration": 101,
    "start_time": "2022-10-23T17:30:34.582Z"
   },
   {
    "duration": 26,
    "start_time": "2022-10-23T17:30:34.688Z"
   },
   {
    "duration": 32,
    "start_time": "2022-10-23T17:30:34.716Z"
   },
   {
    "duration": 308,
    "start_time": "2022-10-23T17:30:34.750Z"
   },
   {
    "duration": 470,
    "start_time": "2022-10-23T17:30:35.060Z"
   },
   {
    "duration": 383,
    "start_time": "2022-10-23T17:30:35.532Z"
   },
   {
    "duration": 366,
    "start_time": "2022-10-23T17:30:35.916Z"
   },
   {
    "duration": 93,
    "start_time": "2022-10-23T17:30:36.285Z"
   },
   {
    "duration": 146,
    "start_time": "2022-10-23T17:30:36.379Z"
   },
   {
    "duration": 97,
    "start_time": "2022-10-23T17:30:36.528Z"
   },
   {
    "duration": 269,
    "start_time": "2022-10-23T17:30:36.627Z"
   },
   {
    "duration": 189,
    "start_time": "2022-10-23T17:30:36.898Z"
   },
   {
    "duration": 190,
    "start_time": "2022-10-23T17:30:37.089Z"
   },
   {
    "duration": 379,
    "start_time": "2022-10-23T17:30:37.282Z"
   },
   {
    "duration": 18,
    "start_time": "2022-10-23T17:30:37.663Z"
   },
   {
    "duration": 11,
    "start_time": "2022-10-23T17:30:37.683Z"
   },
   {
    "duration": 6,
    "start_time": "2022-10-23T17:30:37.709Z"
   },
   {
    "duration": 42,
    "start_time": "2022-10-23T17:30:37.717Z"
   },
   {
    "duration": 3,
    "start_time": "2022-10-23T17:30:37.761Z"
   },
   {
    "duration": 15181,
    "start_time": "2022-10-23T17:30:37.766Z"
   },
   {
    "duration": 285,
    "start_time": "2022-10-23T17:30:52.949Z"
   },
   {
    "duration": 8299,
    "start_time": "2022-10-23T17:30:53.236Z"
   },
   {
    "duration": 402,
    "start_time": "2022-10-23T17:31:01.537Z"
   },
   {
    "duration": 452,
    "start_time": "2022-10-23T17:31:01.942Z"
   },
   {
    "duration": 152,
    "start_time": "2022-10-23T17:31:02.397Z"
   },
   {
    "duration": 27965,
    "start_time": "2022-10-23T17:31:02.551Z"
   },
   {
    "duration": 130,
    "start_time": "2022-10-23T17:31:30.522Z"
   },
   {
    "duration": 3,
    "start_time": "2022-10-23T17:31:30.654Z"
   },
   {
    "duration": 45,
    "start_time": "2022-10-23T17:31:30.658Z"
   },
   {
    "duration": 0,
    "start_time": "2022-10-23T17:31:30.704Z"
   },
   {
    "duration": 0,
    "start_time": "2022-10-23T17:31:30.706Z"
   },
   {
    "duration": 0,
    "start_time": "2022-10-23T17:31:30.707Z"
   },
   {
    "duration": 0,
    "start_time": "2022-10-23T17:31:30.708Z"
   },
   {
    "duration": 0,
    "start_time": "2022-10-23T17:31:30.711Z"
   },
   {
    "duration": 0,
    "start_time": "2022-10-23T17:31:30.711Z"
   },
   {
    "duration": 0,
    "start_time": "2022-10-23T17:31:30.712Z"
   },
   {
    "duration": 0,
    "start_time": "2022-10-23T17:31:30.712Z"
   },
   {
    "duration": 0,
    "start_time": "2022-10-23T17:31:30.713Z"
   },
   {
    "duration": 0,
    "start_time": "2022-10-23T17:31:30.713Z"
   },
   {
    "duration": 0,
    "start_time": "2022-10-23T17:31:30.714Z"
   },
   {
    "duration": 26,
    "start_time": "2022-10-23T17:31:37.138Z"
   },
   {
    "duration": 609246,
    "start_time": "2022-10-23T17:31:46.623Z"
   },
   {
    "duration": 173902,
    "start_time": "2022-10-23T17:42:31.601Z"
   },
   {
    "duration": 5839,
    "start_time": "2022-10-23T17:45:25.506Z"
   },
   {
    "duration": 37677,
    "start_time": "2022-10-23T17:46:12.915Z"
   },
   {
    "duration": 10,
    "start_time": "2022-10-23T17:46:50.594Z"
   },
   {
    "duration": 8,
    "start_time": "2022-10-23T17:47:04.821Z"
   },
   {
    "duration": 2696353,
    "start_time": "2022-10-23T17:48:05.184Z"
   },
   {
    "duration": 8134,
    "start_time": "2022-10-23T18:33:01.539Z"
   },
   {
    "duration": 7423,
    "start_time": "2022-10-24T01:56:02.694Z"
   },
   {
    "duration": 7217,
    "start_time": "2022-10-24T01:56:45.796Z"
   },
   {
    "duration": 7459,
    "start_time": "2022-10-24T01:57:13.406Z"
   },
   {
    "duration": 7,
    "start_time": "2022-10-24T01:58:19.204Z"
   },
   {
    "duration": 8,
    "start_time": "2022-10-24T01:58:21.007Z"
   },
   {
    "duration": 123,
    "start_time": "2022-10-24T01:58:33.876Z"
   },
   {
    "duration": 1373,
    "start_time": "2022-10-24T02:04:50.489Z"
   },
   {
    "duration": 107,
    "start_time": "2022-10-24T02:04:51.864Z"
   },
   {
    "duration": 3,
    "start_time": "2022-10-24T02:04:51.972Z"
   },
   {
    "duration": 6,
    "start_time": "2022-10-24T02:04:51.976Z"
   },
   {
    "duration": 59,
    "start_time": "2022-10-24T02:04:51.984Z"
   },
   {
    "duration": 5,
    "start_time": "2022-10-24T02:04:52.045Z"
   },
   {
    "duration": 7,
    "start_time": "2022-10-24T02:04:52.051Z"
   },
   {
    "duration": 56,
    "start_time": "2022-10-24T02:04:52.059Z"
   },
   {
    "duration": 6,
    "start_time": "2022-10-24T02:04:52.116Z"
   },
   {
    "duration": 44,
    "start_time": "2022-10-24T02:04:52.124Z"
   },
   {
    "duration": 7,
    "start_time": "2022-10-24T02:04:52.170Z"
   },
   {
    "duration": 54,
    "start_time": "2022-10-24T02:04:52.178Z"
   },
   {
    "duration": 6,
    "start_time": "2022-10-24T02:04:52.233Z"
   },
   {
    "duration": 24,
    "start_time": "2022-10-24T02:04:52.241Z"
   },
   {
    "duration": 118,
    "start_time": "2022-10-24T02:04:52.267Z"
   },
   {
    "duration": 33,
    "start_time": "2022-10-24T02:04:52.387Z"
   },
   {
    "duration": 33,
    "start_time": "2022-10-24T02:04:52.421Z"
   },
   {
    "duration": 13,
    "start_time": "2022-10-24T02:04:52.455Z"
   },
   {
    "duration": 8,
    "start_time": "2022-10-24T02:04:52.469Z"
   },
   {
    "duration": 31,
    "start_time": "2022-10-24T02:04:52.478Z"
   },
   {
    "duration": 4,
    "start_time": "2022-10-24T02:04:52.510Z"
   },
   {
    "duration": 21,
    "start_time": "2022-10-24T02:04:52.515Z"
   },
   {
    "duration": 10,
    "start_time": "2022-10-24T02:04:52.538Z"
   },
   {
    "duration": 19,
    "start_time": "2022-10-24T02:04:52.550Z"
   },
   {
    "duration": 40,
    "start_time": "2022-10-24T02:04:52.571Z"
   },
   {
    "duration": 5,
    "start_time": "2022-10-24T02:04:52.612Z"
   },
   {
    "duration": 97,
    "start_time": "2022-10-24T02:04:52.618Z"
   },
   {
    "duration": 9,
    "start_time": "2022-10-24T02:04:52.718Z"
   },
   {
    "duration": 25,
    "start_time": "2022-10-24T02:04:52.728Z"
   },
   {
    "duration": 268,
    "start_time": "2022-10-24T02:04:52.754Z"
   },
   {
    "duration": 404,
    "start_time": "2022-10-24T02:04:53.023Z"
   },
   {
    "duration": 359,
    "start_time": "2022-10-24T02:04:53.429Z"
   },
   {
    "duration": 306,
    "start_time": "2022-10-24T02:04:53.790Z"
   },
   {
    "duration": 93,
    "start_time": "2022-10-24T02:04:54.097Z"
   },
   {
    "duration": 109,
    "start_time": "2022-10-24T02:04:54.191Z"
   },
   {
    "duration": 94,
    "start_time": "2022-10-24T02:04:54.301Z"
   },
   {
    "duration": 260,
    "start_time": "2022-10-24T02:04:54.397Z"
   },
   {
    "duration": 185,
    "start_time": "2022-10-24T02:04:54.658Z"
   },
   {
    "duration": 152,
    "start_time": "2022-10-24T02:04:54.844Z"
   },
   {
    "duration": 455,
    "start_time": "2022-10-24T02:04:54.997Z"
   },
   {
    "duration": 69,
    "start_time": "2022-10-24T02:04:55.454Z"
   },
   {
    "duration": 20,
    "start_time": "2022-10-24T02:04:55.525Z"
   },
   {
    "duration": 4,
    "start_time": "2022-10-24T02:04:55.547Z"
   },
   {
    "duration": 81,
    "start_time": "2022-10-24T02:04:55.553Z"
   },
   {
    "duration": 4,
    "start_time": "2022-10-24T02:04:55.635Z"
   },
   {
    "duration": 15197,
    "start_time": "2022-10-24T02:04:55.640Z"
   },
   {
    "duration": 262,
    "start_time": "2022-10-24T02:05:10.839Z"
   },
   {
    "duration": 5004,
    "start_time": "2022-10-24T02:05:11.109Z"
   },
   {
    "duration": 494,
    "start_time": "2022-10-24T02:05:16.115Z"
   },
   {
    "duration": 709,
    "start_time": "2022-10-24T02:05:16.611Z"
   },
   {
    "duration": 211,
    "start_time": "2022-10-24T02:05:17.321Z"
   },
   {
    "duration": 27640,
    "start_time": "2022-10-24T02:05:17.533Z"
   },
   {
    "duration": 124,
    "start_time": "2022-10-24T02:05:45.175Z"
   },
   {
    "duration": 9,
    "start_time": "2022-10-24T02:05:45.300Z"
   },
   {
    "duration": 2489173,
    "start_time": "2022-10-24T02:05:45.311Z"
   },
   {
    "duration": 7231,
    "start_time": "2022-10-24T02:47:14.485Z"
   },
   {
    "duration": 7327,
    "start_time": "2022-10-24T02:47:21.717Z"
   },
   {
    "duration": 242,
    "start_time": "2022-10-24T02:47:29.046Z"
   },
   {
    "duration": 7,
    "start_time": "2022-10-24T02:47:29.289Z"
   },
   {
    "duration": 19,
    "start_time": "2022-10-24T02:47:29.297Z"
   },
   {
    "duration": 117,
    "start_time": "2022-10-24T02:47:29.317Z"
   },
   {
    "duration": 7218,
    "start_time": "2022-10-24T02:47:29.436Z"
   },
   {
    "duration": 119,
    "start_time": "2022-10-24T02:47:36.656Z"
   },
   {
    "duration": 0,
    "start_time": "2022-10-24T02:47:36.777Z"
   },
   {
    "duration": 0,
    "start_time": "2022-10-24T02:47:36.778Z"
   },
   {
    "duration": 1,
    "start_time": "2022-10-24T02:47:36.778Z"
   },
   {
    "duration": 175,
    "start_time": "2022-10-24T03:13:00.910Z"
   },
   {
    "duration": 1305883,
    "start_time": "2022-10-24T03:16:53.705Z"
   },
   {
    "duration": 185144,
    "start_time": "2022-10-24T03:38:50.264Z"
   },
   {
    "duration": 11,
    "start_time": "2022-10-24T03:41:58.989Z"
   },
   {
    "duration": 10,
    "start_time": "2022-10-24T03:42:09.076Z"
   },
   {
    "duration": 978125,
    "start_time": "2022-10-24T03:43:20.178Z"
   },
   {
    "duration": 9711,
    "start_time": "2022-10-24T04:01:01.597Z"
   },
   {
    "duration": 9620,
    "start_time": "2022-10-24T04:01:11.310Z"
   },
   {
    "duration": 250,
    "start_time": "2022-10-24T04:01:29.776Z"
   },
   {
    "duration": 8,
    "start_time": "2022-10-24T04:01:31.127Z"
   },
   {
    "duration": 9,
    "start_time": "2022-10-24T04:01:33.744Z"
   },
   {
    "duration": 119,
    "start_time": "2022-10-24T04:01:36.163Z"
   },
   {
    "duration": 9681,
    "start_time": "2022-10-24T04:02:40.360Z"
   },
   {
    "duration": 171,
    "start_time": "2022-10-24T04:02:53.392Z"
   },
   {
    "duration": 7,
    "start_time": "2022-10-24T04:03:16.849Z"
   },
   {
    "duration": 168,
    "start_time": "2022-10-24T04:03:44.275Z"
   },
   {
    "duration": 199,
    "start_time": "2022-10-24T04:03:45.948Z"
   },
   {
    "duration": 1387,
    "start_time": "2022-10-24T04:09:18.298Z"
   },
   {
    "duration": 68,
    "start_time": "2022-10-24T04:09:19.687Z"
   },
   {
    "duration": 3,
    "start_time": "2022-10-24T04:09:19.756Z"
   },
   {
    "duration": 8,
    "start_time": "2022-10-24T04:09:19.762Z"
   },
   {
    "duration": 62,
    "start_time": "2022-10-24T04:09:19.771Z"
   },
   {
    "duration": 7,
    "start_time": "2022-10-24T04:09:19.835Z"
   },
   {
    "duration": 7,
    "start_time": "2022-10-24T04:09:19.844Z"
   },
   {
    "duration": 62,
    "start_time": "2022-10-24T04:09:19.853Z"
   },
   {
    "duration": 6,
    "start_time": "2022-10-24T04:09:19.918Z"
   },
   {
    "duration": 46,
    "start_time": "2022-10-24T04:09:19.927Z"
   },
   {
    "duration": 6,
    "start_time": "2022-10-24T04:09:19.975Z"
   },
   {
    "duration": 56,
    "start_time": "2022-10-24T04:09:19.982Z"
   },
   {
    "duration": 6,
    "start_time": "2022-10-24T04:09:20.039Z"
   },
   {
    "duration": 27,
    "start_time": "2022-10-24T04:09:20.047Z"
   },
   {
    "duration": 114,
    "start_time": "2022-10-24T04:09:20.075Z"
   },
   {
    "duration": 25,
    "start_time": "2022-10-24T04:09:20.191Z"
   },
   {
    "duration": 32,
    "start_time": "2022-10-24T04:09:20.217Z"
   },
   {
    "duration": 13,
    "start_time": "2022-10-24T04:09:20.251Z"
   },
   {
    "duration": 8,
    "start_time": "2022-10-24T04:09:20.265Z"
   },
   {
    "duration": 38,
    "start_time": "2022-10-24T04:09:20.274Z"
   },
   {
    "duration": 3,
    "start_time": "2022-10-24T04:09:20.314Z"
   },
   {
    "duration": 21,
    "start_time": "2022-10-24T04:09:20.319Z"
   },
   {
    "duration": 10,
    "start_time": "2022-10-24T04:09:20.341Z"
   },
   {
    "duration": 20,
    "start_time": "2022-10-24T04:09:20.352Z"
   },
   {
    "duration": 43,
    "start_time": "2022-10-24T04:09:20.373Z"
   },
   {
    "duration": 4,
    "start_time": "2022-10-24T04:09:20.418Z"
   },
   {
    "duration": 88,
    "start_time": "2022-10-24T04:09:20.423Z"
   },
   {
    "duration": 10,
    "start_time": "2022-10-24T04:09:20.515Z"
   },
   {
    "duration": 12,
    "start_time": "2022-10-24T04:09:20.526Z"
   },
   {
    "duration": 282,
    "start_time": "2022-10-24T04:09:20.539Z"
   },
   {
    "duration": 387,
    "start_time": "2022-10-24T04:09:20.822Z"
   },
   {
    "duration": 352,
    "start_time": "2022-10-24T04:09:21.210Z"
   },
   {
    "duration": 299,
    "start_time": "2022-10-24T04:09:21.563Z"
   },
   {
    "duration": 89,
    "start_time": "2022-10-24T04:09:21.863Z"
   },
   {
    "duration": 108,
    "start_time": "2022-10-24T04:09:21.953Z"
   },
   {
    "duration": 151,
    "start_time": "2022-10-24T04:09:22.062Z"
   },
   {
    "duration": 507,
    "start_time": "2022-10-24T04:09:22.214Z"
   },
   {
    "duration": 329,
    "start_time": "2022-10-24T04:09:22.722Z"
   },
   {
    "duration": 303,
    "start_time": "2022-10-24T04:09:23.108Z"
   },
   {
    "duration": 439,
    "start_time": "2022-10-24T04:09:23.413Z"
   },
   {
    "duration": 56,
    "start_time": "2022-10-24T04:09:23.854Z"
   },
   {
    "duration": 10,
    "start_time": "2022-10-24T04:09:23.911Z"
   },
   {
    "duration": 7,
    "start_time": "2022-10-24T04:09:23.922Z"
   },
   {
    "duration": 41,
    "start_time": "2022-10-24T04:09:23.930Z"
   },
   {
    "duration": 3,
    "start_time": "2022-10-24T04:09:23.972Z"
   },
   {
    "duration": 15061,
    "start_time": "2022-10-24T04:09:23.976Z"
   },
   {
    "duration": 259,
    "start_time": "2022-10-24T04:09:39.038Z"
   },
   {
    "duration": 4912,
    "start_time": "2022-10-24T04:09:39.299Z"
   },
   {
    "duration": 306,
    "start_time": "2022-10-24T04:09:44.212Z"
   },
   {
    "duration": 374,
    "start_time": "2022-10-24T04:09:44.520Z"
   },
   {
    "duration": 112,
    "start_time": "2022-10-24T04:09:44.896Z"
   },
   {
    "duration": 25253,
    "start_time": "2022-10-24T04:09:45.010Z"
   },
   {
    "duration": 124,
    "start_time": "2022-10-24T04:10:10.265Z"
   },
   {
    "duration": 3,
    "start_time": "2022-10-24T04:10:10.390Z"
   },
   {
    "duration": 983649,
    "start_time": "2022-10-24T04:10:10.395Z"
   },
   {
    "duration": 9619,
    "start_time": "2022-10-24T04:26:34.045Z"
   },
   {
    "duration": 9644,
    "start_time": "2022-10-24T04:26:43.665Z"
   },
   {
    "duration": 262,
    "start_time": "2022-10-24T04:26:53.311Z"
   },
   {
    "duration": 8,
    "start_time": "2022-10-24T04:26:53.574Z"
   },
   {
    "duration": 26,
    "start_time": "2022-10-24T04:26:53.584Z"
   },
   {
    "duration": 113,
    "start_time": "2022-10-24T04:26:53.612Z"
   },
   {
    "duration": 9651,
    "start_time": "2022-10-24T04:26:53.727Z"
   },
   {
    "duration": 173,
    "start_time": "2022-10-24T04:27:03.380Z"
   },
   {
    "duration": 7,
    "start_time": "2022-10-24T04:27:03.554Z"
   },
   {
    "duration": 255,
    "start_time": "2022-10-24T04:27:03.563Z"
   },
   {
    "duration": 214,
    "start_time": "2022-10-24T04:27:03.820Z"
   },
   {
    "duration": 1686,
    "start_time": "2022-10-27T16:59:30.349Z"
   },
   {
    "duration": 313,
    "start_time": "2022-10-27T16:59:32.037Z"
   },
   {
    "duration": 4,
    "start_time": "2022-10-27T16:59:32.352Z"
   },
   {
    "duration": 16,
    "start_time": "2022-10-27T16:59:32.357Z"
   },
   {
    "duration": 84,
    "start_time": "2022-10-27T16:59:32.374Z"
   },
   {
    "duration": 7,
    "start_time": "2022-10-27T16:59:32.460Z"
   },
   {
    "duration": 15,
    "start_time": "2022-10-27T16:59:32.469Z"
   },
   {
    "duration": 81,
    "start_time": "2022-10-27T16:59:32.486Z"
   },
   {
    "duration": 10,
    "start_time": "2022-10-27T16:59:32.569Z"
   },
   {
    "duration": 91,
    "start_time": "2022-10-27T16:59:32.585Z"
   },
   {
    "duration": 12,
    "start_time": "2022-10-27T16:59:32.678Z"
   },
   {
    "duration": 103,
    "start_time": "2022-10-27T16:59:32.692Z"
   },
   {
    "duration": 9,
    "start_time": "2022-10-27T16:59:32.797Z"
   },
   {
    "duration": 71,
    "start_time": "2022-10-27T16:59:32.808Z"
   },
   {
    "duration": 144,
    "start_time": "2022-10-27T16:59:32.881Z"
   },
   {
    "duration": 24,
    "start_time": "2022-10-27T16:59:33.027Z"
   },
   {
    "duration": 49,
    "start_time": "2022-10-27T16:59:33.053Z"
   },
   {
    "duration": 27,
    "start_time": "2022-10-27T16:59:33.104Z"
   },
   {
    "duration": 99,
    "start_time": "2022-10-27T16:59:33.133Z"
   },
   {
    "duration": 53,
    "start_time": "2022-10-27T16:59:33.234Z"
   },
   {
    "duration": 6,
    "start_time": "2022-10-27T16:59:33.289Z"
   },
   {
    "duration": 71,
    "start_time": "2022-10-27T16:59:33.296Z"
   },
   {
    "duration": 14,
    "start_time": "2022-10-27T16:59:33.369Z"
   },
   {
    "duration": 33,
    "start_time": "2022-10-27T16:59:33.385Z"
   },
   {
    "duration": 26,
    "start_time": "2022-10-27T16:59:33.421Z"
   },
   {
    "duration": 5,
    "start_time": "2022-10-27T16:59:33.449Z"
   },
   {
    "duration": 112,
    "start_time": "2022-10-27T16:59:33.455Z"
   },
   {
    "duration": 9,
    "start_time": "2022-10-27T16:59:33.572Z"
   },
   {
    "duration": 13,
    "start_time": "2022-10-27T16:59:33.583Z"
   },
   {
    "duration": 317,
    "start_time": "2022-10-27T16:59:33.616Z"
   },
   {
    "duration": 447,
    "start_time": "2022-10-27T16:59:33.935Z"
   },
   {
    "duration": 381,
    "start_time": "2022-10-27T16:59:34.383Z"
   },
   {
    "duration": 360,
    "start_time": "2022-10-27T16:59:34.765Z"
   },
   {
    "duration": 101,
    "start_time": "2022-10-27T16:59:35.127Z"
   },
   {
    "duration": 116,
    "start_time": "2022-10-27T16:59:35.230Z"
   },
   {
    "duration": 97,
    "start_time": "2022-10-27T16:59:35.347Z"
   },
   {
    "duration": 270,
    "start_time": "2022-10-27T16:59:35.445Z"
   },
   {
    "duration": 211,
    "start_time": "2022-10-27T16:59:35.717Z"
   },
   {
    "duration": 162,
    "start_time": "2022-10-27T16:59:35.930Z"
   },
   {
    "duration": 341,
    "start_time": "2022-10-27T16:59:41.594Z"
   },
   {
    "duration": 1474,
    "start_time": "2022-10-27T17:01:40.578Z"
   },
   {
    "duration": 116,
    "start_time": "2022-10-27T17:01:42.053Z"
   },
   {
    "duration": 2,
    "start_time": "2022-10-27T17:01:42.171Z"
   },
   {
    "duration": 16,
    "start_time": "2022-10-27T17:01:42.175Z"
   },
   {
    "duration": 90,
    "start_time": "2022-10-27T17:01:42.192Z"
   },
   {
    "duration": 7,
    "start_time": "2022-10-27T17:01:42.284Z"
   },
   {
    "duration": 32,
    "start_time": "2022-10-27T17:01:42.293Z"
   },
   {
    "duration": 89,
    "start_time": "2022-10-27T17:01:42.326Z"
   },
   {
    "duration": 8,
    "start_time": "2022-10-27T17:01:42.416Z"
   },
   {
    "duration": 55,
    "start_time": "2022-10-27T17:01:42.427Z"
   },
   {
    "duration": 41,
    "start_time": "2022-10-27T17:01:42.484Z"
   },
   {
    "duration": 34,
    "start_time": "2022-10-27T17:01:42.527Z"
   },
   {
    "duration": 7,
    "start_time": "2022-10-27T17:01:42.563Z"
   },
   {
    "duration": 54,
    "start_time": "2022-10-27T17:01:42.572Z"
   },
   {
    "duration": 136,
    "start_time": "2022-10-27T17:01:42.628Z"
   },
   {
    "duration": 21,
    "start_time": "2022-10-27T17:01:42.766Z"
   },
   {
    "duration": 66,
    "start_time": "2022-10-27T17:01:42.789Z"
   },
   {
    "duration": 17,
    "start_time": "2022-10-27T17:01:42.857Z"
   },
   {
    "duration": 23,
    "start_time": "2022-10-27T17:01:42.875Z"
   },
   {
    "duration": 22,
    "start_time": "2022-10-27T17:01:42.899Z"
   },
   {
    "duration": 9,
    "start_time": "2022-10-27T17:01:42.923Z"
   },
   {
    "duration": 25,
    "start_time": "2022-10-27T17:01:42.934Z"
   },
   {
    "duration": 16,
    "start_time": "2022-10-27T17:01:42.960Z"
   },
   {
    "duration": 19,
    "start_time": "2022-10-27T17:01:42.978Z"
   },
   {
    "duration": 38,
    "start_time": "2022-10-27T17:01:42.998Z"
   },
   {
    "duration": 5,
    "start_time": "2022-10-27T17:01:43.037Z"
   },
   {
    "duration": 91,
    "start_time": "2022-10-27T17:01:43.043Z"
   },
   {
    "duration": 9,
    "start_time": "2022-10-27T17:01:43.138Z"
   },
   {
    "duration": 16,
    "start_time": "2022-10-27T17:01:43.148Z"
   },
   {
    "duration": 301,
    "start_time": "2022-10-27T17:01:43.166Z"
   },
   {
    "duration": 438,
    "start_time": "2022-10-27T17:01:43.468Z"
   },
   {
    "duration": 416,
    "start_time": "2022-10-27T17:01:43.908Z"
   },
   {
    "duration": 332,
    "start_time": "2022-10-27T17:01:44.326Z"
   },
   {
    "duration": 99,
    "start_time": "2022-10-27T17:01:44.660Z"
   },
   {
    "duration": 111,
    "start_time": "2022-10-27T17:01:44.761Z"
   },
   {
    "duration": 105,
    "start_time": "2022-10-27T17:01:44.874Z"
   },
   {
    "duration": 281,
    "start_time": "2022-10-27T17:01:44.981Z"
   },
   {
    "duration": 205,
    "start_time": "2022-10-27T17:01:45.264Z"
   },
   {
    "duration": 174,
    "start_time": "2022-10-27T17:01:45.471Z"
   },
   {
    "duration": 269,
    "start_time": "2022-10-27T17:01:45.646Z"
   },
   {
    "duration": 19,
    "start_time": "2022-10-27T17:01:45.916Z"
   },
   {
    "duration": 13,
    "start_time": "2022-10-27T17:01:45.937Z"
   },
   {
    "duration": 6,
    "start_time": "2022-10-27T17:01:45.952Z"
   },
   {
    "duration": 64,
    "start_time": "2022-10-27T17:01:45.960Z"
   },
   {
    "duration": 3,
    "start_time": "2022-10-27T17:01:46.026Z"
   },
   {
    "duration": 14610,
    "start_time": "2022-10-27T17:01:46.031Z"
   },
   {
    "duration": 286,
    "start_time": "2022-10-27T17:02:00.642Z"
   },
   {
    "duration": 7084,
    "start_time": "2022-10-27T17:02:00.930Z"
   },
   {
    "duration": 303,
    "start_time": "2022-10-27T17:02:08.015Z"
   },
   {
    "duration": 406,
    "start_time": "2022-10-27T17:02:08.322Z"
   },
   {
    "duration": 132,
    "start_time": "2022-10-27T17:02:08.730Z"
   },
   {
    "duration": 28951,
    "start_time": "2022-10-27T17:02:08.864Z"
   },
   {
    "duration": 239,
    "start_time": "2022-10-27T17:02:37.817Z"
   },
   {
    "duration": 10,
    "start_time": "2022-10-27T17:02:38.115Z"
   },
   {
    "duration": 1228530,
    "start_time": "2022-10-27T17:02:38.127Z"
   },
   {
    "duration": 12001,
    "start_time": "2022-10-27T17:23:06.658Z"
   },
   {
    "duration": 12242,
    "start_time": "2022-10-27T17:23:18.661Z"
   },
   {
    "duration": 296,
    "start_time": "2022-10-27T17:23:30.905Z"
   },
   {
    "duration": 21,
    "start_time": "2022-10-27T17:23:31.203Z"
   },
   {
    "duration": 35,
    "start_time": "2022-10-27T17:23:31.226Z"
   },
   {
    "duration": 142,
    "start_time": "2022-10-27T17:23:31.263Z"
   },
   {
    "duration": 12511,
    "start_time": "2022-10-27T17:23:31.408Z"
   },
   {
    "duration": 190,
    "start_time": "2022-10-27T17:23:43.920Z"
   },
   {
    "duration": 17,
    "start_time": "2022-10-27T17:23:44.112Z"
   },
   {
    "duration": 294,
    "start_time": "2022-10-27T17:23:44.131Z"
   },
   {
    "duration": 226,
    "start_time": "2022-10-27T17:23:44.427Z"
   },
   {
    "duration": 1532,
    "start_time": "2022-11-09T18:47:47.074Z"
   },
   {
    "duration": 234,
    "start_time": "2022-11-09T18:47:48.607Z"
   },
   {
    "duration": 3,
    "start_time": "2022-11-09T18:47:48.843Z"
   },
   {
    "duration": 8,
    "start_time": "2022-11-09T18:47:48.847Z"
   },
   {
    "duration": 62,
    "start_time": "2022-11-09T18:47:48.857Z"
   },
   {
    "duration": 11,
    "start_time": "2022-11-09T18:47:48.920Z"
   },
   {
    "duration": 6,
    "start_time": "2022-11-09T18:47:48.934Z"
   },
   {
    "duration": 44,
    "start_time": "2022-11-09T18:47:48.942Z"
   },
   {
    "duration": 6,
    "start_time": "2022-11-09T18:47:48.988Z"
   },
   {
    "duration": 71,
    "start_time": "2022-11-09T18:47:48.996Z"
   },
   {
    "duration": 6,
    "start_time": "2022-11-09T18:47:49.068Z"
   },
   {
    "duration": 28,
    "start_time": "2022-11-09T18:47:49.075Z"
   },
   {
    "duration": 26,
    "start_time": "2022-11-09T18:47:49.105Z"
   },
   {
    "duration": 25,
    "start_time": "2022-11-09T18:47:49.134Z"
   },
   {
    "duration": 107,
    "start_time": "2022-11-09T18:47:49.161Z"
   },
   {
    "duration": 14,
    "start_time": "2022-11-09T18:47:49.270Z"
   },
   {
    "duration": 46,
    "start_time": "2022-11-09T18:47:49.286Z"
   },
   {
    "duration": 13,
    "start_time": "2022-11-09T18:47:49.333Z"
   },
   {
    "duration": 10,
    "start_time": "2022-11-09T18:47:49.347Z"
   },
   {
    "duration": 8,
    "start_time": "2022-11-09T18:47:49.358Z"
   },
   {
    "duration": 4,
    "start_time": "2022-11-09T18:47:49.367Z"
   },
   {
    "duration": 21,
    "start_time": "2022-11-09T18:47:49.373Z"
   },
   {
    "duration": 42,
    "start_time": "2022-11-09T18:47:49.395Z"
   },
   {
    "duration": 20,
    "start_time": "2022-11-09T18:47:49.438Z"
   },
   {
    "duration": 22,
    "start_time": "2022-11-09T18:47:49.459Z"
   },
   {
    "duration": 5,
    "start_time": "2022-11-09T18:47:49.483Z"
   },
   {
    "duration": 101,
    "start_time": "2022-11-09T18:47:49.489Z"
   },
   {
    "duration": 8,
    "start_time": "2022-11-09T18:47:49.592Z"
   },
   {
    "duration": 30,
    "start_time": "2022-11-09T18:47:49.602Z"
   },
   {
    "duration": 345,
    "start_time": "2022-11-09T18:47:49.633Z"
   },
   {
    "duration": 366,
    "start_time": "2022-11-09T18:47:49.979Z"
   },
   {
    "duration": 388,
    "start_time": "2022-11-09T18:47:50.346Z"
   },
   {
    "duration": 319,
    "start_time": "2022-11-09T18:47:50.735Z"
   },
   {
    "duration": 95,
    "start_time": "2022-11-09T18:47:51.056Z"
   },
   {
    "duration": 104,
    "start_time": "2022-11-09T18:47:51.152Z"
   },
   {
    "duration": 203,
    "start_time": "2022-11-09T18:47:51.257Z"
   },
   {
    "duration": 173,
    "start_time": "2022-11-09T18:47:51.462Z"
   },
   {
    "duration": 178,
    "start_time": "2022-11-09T18:47:51.637Z"
   },
   {
    "duration": 150,
    "start_time": "2022-11-09T18:47:51.817Z"
   },
   {
    "duration": 325,
    "start_time": "2022-11-09T18:47:51.969Z"
   },
   {
    "duration": 18,
    "start_time": "2022-11-09T18:47:52.298Z"
   },
   {
    "duration": 20,
    "start_time": "2022-11-09T18:47:52.318Z"
   },
   {
    "duration": 4,
    "start_time": "2022-11-09T18:47:52.340Z"
   },
   {
    "duration": 35,
    "start_time": "2022-11-09T18:47:52.346Z"
   },
   {
    "duration": 4,
    "start_time": "2022-11-09T18:47:56.431Z"
   },
   {
    "duration": 4,
    "start_time": "2022-11-09T18:48:49.090Z"
   },
   {
    "duration": 5,
    "start_time": "2022-11-09T18:49:01.251Z"
   },
   {
    "duration": 118,
    "start_time": "2022-11-09T18:49:01.258Z"
   },
   {
    "duration": 4,
    "start_time": "2022-11-09T18:49:01.377Z"
   },
   {
    "duration": 39,
    "start_time": "2022-11-09T18:49:01.385Z"
   },
   {
    "duration": 79,
    "start_time": "2022-11-09T18:49:01.425Z"
   },
   {
    "duration": 5,
    "start_time": "2022-11-09T18:49:01.505Z"
   },
   {
    "duration": 26,
    "start_time": "2022-11-09T18:49:01.512Z"
   },
   {
    "duration": 48,
    "start_time": "2022-11-09T18:49:01.539Z"
   },
   {
    "duration": 8,
    "start_time": "2022-11-09T18:49:01.589Z"
   },
   {
    "duration": 76,
    "start_time": "2022-11-09T18:49:01.598Z"
   },
   {
    "duration": 7,
    "start_time": "2022-11-09T18:49:01.675Z"
   },
   {
    "duration": 57,
    "start_time": "2022-11-09T18:49:01.683Z"
   },
   {
    "duration": 9,
    "start_time": "2022-11-09T18:49:01.741Z"
   },
   {
    "duration": 39,
    "start_time": "2022-11-09T18:49:01.752Z"
   },
   {
    "duration": 114,
    "start_time": "2022-11-09T18:49:01.792Z"
   },
   {
    "duration": 28,
    "start_time": "2022-11-09T18:49:01.907Z"
   },
   {
    "duration": 41,
    "start_time": "2022-11-09T18:49:01.937Z"
   },
   {
    "duration": 14,
    "start_time": "2022-11-09T18:49:01.980Z"
   },
   {
    "duration": 10,
    "start_time": "2022-11-09T18:49:01.995Z"
   },
   {
    "duration": 26,
    "start_time": "2022-11-09T18:49:02.006Z"
   },
   {
    "duration": 6,
    "start_time": "2022-11-09T18:49:02.033Z"
   },
   {
    "duration": 29,
    "start_time": "2022-11-09T18:49:02.041Z"
   },
   {
    "duration": 25,
    "start_time": "2022-11-09T18:49:02.072Z"
   },
   {
    "duration": 30,
    "start_time": "2022-11-09T18:49:02.101Z"
   },
   {
    "duration": 34,
    "start_time": "2022-11-09T18:49:02.133Z"
   },
   {
    "duration": 5,
    "start_time": "2022-11-09T18:49:02.168Z"
   },
   {
    "duration": 115,
    "start_time": "2022-11-09T18:49:02.175Z"
   },
   {
    "duration": 10,
    "start_time": "2022-11-09T18:49:02.291Z"
   },
   {
    "duration": 28,
    "start_time": "2022-11-09T18:49:02.303Z"
   },
   {
    "duration": 325,
    "start_time": "2022-11-09T18:49:02.333Z"
   },
   {
    "duration": 366,
    "start_time": "2022-11-09T18:49:02.660Z"
   },
   {
    "duration": 499,
    "start_time": "2022-11-09T18:49:03.028Z"
   },
   {
    "duration": 252,
    "start_time": "2022-11-09T18:49:03.530Z"
   },
   {
    "duration": 94,
    "start_time": "2022-11-09T18:49:03.784Z"
   },
   {
    "duration": 131,
    "start_time": "2022-11-09T18:49:03.880Z"
   },
   {
    "duration": 106,
    "start_time": "2022-11-09T18:49:04.012Z"
   },
   {
    "duration": 164,
    "start_time": "2022-11-09T18:49:04.120Z"
   },
   {
    "duration": 196,
    "start_time": "2022-11-09T18:49:04.286Z"
   },
   {
    "duration": 179,
    "start_time": "2022-11-09T18:49:04.485Z"
   },
   {
    "duration": 420,
    "start_time": "2022-11-09T18:49:04.666Z"
   },
   {
    "duration": 17,
    "start_time": "2022-11-09T18:49:05.089Z"
   },
   {
    "duration": 88,
    "start_time": "2022-11-09T18:49:05.108Z"
   },
   {
    "duration": 45,
    "start_time": "2022-11-09T18:49:05.198Z"
   },
   {
    "duration": 62,
    "start_time": "2022-11-09T18:49:05.245Z"
   },
   {
    "duration": 3,
    "start_time": "2022-11-09T18:49:05.309Z"
   },
   {
    "duration": 4,
    "start_time": "2022-11-09T18:51:38.680Z"
   },
   {
    "duration": 5,
    "start_time": "2022-11-09T18:52:11.888Z"
   },
   {
    "duration": 96,
    "start_time": "2022-11-09T18:52:11.894Z"
   },
   {
    "duration": 3,
    "start_time": "2022-11-09T18:52:11.991Z"
   },
   {
    "duration": 7,
    "start_time": "2022-11-09T18:52:11.995Z"
   },
   {
    "duration": 61,
    "start_time": "2022-11-09T18:52:12.003Z"
   },
   {
    "duration": 6,
    "start_time": "2022-11-09T18:52:12.066Z"
   },
   {
    "duration": 8,
    "start_time": "2022-11-09T18:52:12.074Z"
   },
   {
    "duration": 64,
    "start_time": "2022-11-09T18:52:12.083Z"
   },
   {
    "duration": 7,
    "start_time": "2022-11-09T18:52:12.149Z"
   },
   {
    "duration": 74,
    "start_time": "2022-11-09T18:52:12.158Z"
   },
   {
    "duration": 6,
    "start_time": "2022-11-09T18:52:12.234Z"
   },
   {
    "duration": 35,
    "start_time": "2022-11-09T18:52:12.242Z"
   },
   {
    "duration": 6,
    "start_time": "2022-11-09T18:52:12.278Z"
   },
   {
    "duration": 53,
    "start_time": "2022-11-09T18:52:12.286Z"
   },
   {
    "duration": 112,
    "start_time": "2022-11-09T18:52:12.341Z"
   },
   {
    "duration": 15,
    "start_time": "2022-11-09T18:52:12.455Z"
   },
   {
    "duration": 29,
    "start_time": "2022-11-09T18:52:12.472Z"
   },
   {
    "duration": 39,
    "start_time": "2022-11-09T18:52:12.503Z"
   },
   {
    "duration": 15,
    "start_time": "2022-11-09T18:52:12.544Z"
   },
   {
    "duration": 12,
    "start_time": "2022-11-09T18:52:12.560Z"
   },
   {
    "duration": 5,
    "start_time": "2022-11-09T18:52:12.574Z"
   },
   {
    "duration": 25,
    "start_time": "2022-11-09T18:52:12.581Z"
   },
   {
    "duration": 25,
    "start_time": "2022-11-09T18:52:12.608Z"
   },
   {
    "duration": 19,
    "start_time": "2022-11-09T18:52:12.635Z"
   },
   {
    "duration": 21,
    "start_time": "2022-11-09T18:52:12.656Z"
   },
   {
    "duration": 4,
    "start_time": "2022-11-09T18:52:12.679Z"
   },
   {
    "duration": 104,
    "start_time": "2022-11-09T18:52:12.684Z"
   },
   {
    "duration": 9,
    "start_time": "2022-11-09T18:52:12.789Z"
   },
   {
    "duration": 31,
    "start_time": "2022-11-09T18:52:12.801Z"
   },
   {
    "duration": 279,
    "start_time": "2022-11-09T18:52:12.833Z"
   },
   {
    "duration": 353,
    "start_time": "2022-11-09T18:52:13.114Z"
   },
   {
    "duration": 412,
    "start_time": "2022-11-09T18:52:13.469Z"
   },
   {
    "duration": 435,
    "start_time": "2022-11-09T18:52:13.883Z"
   },
   {
    "duration": 88,
    "start_time": "2022-11-09T18:52:14.320Z"
   },
   {
    "duration": 111,
    "start_time": "2022-11-09T18:52:14.410Z"
   },
   {
    "duration": 91,
    "start_time": "2022-11-09T18:52:14.523Z"
   },
   {
    "duration": 179,
    "start_time": "2022-11-09T18:52:14.615Z"
   },
   {
    "duration": 187,
    "start_time": "2022-11-09T18:52:14.795Z"
   },
   {
    "duration": 159,
    "start_time": "2022-11-09T18:52:14.984Z"
   },
   {
    "duration": 278,
    "start_time": "2022-11-09T18:52:15.144Z"
   },
   {
    "duration": 24,
    "start_time": "2022-11-09T18:52:15.424Z"
   },
   {
    "duration": 18,
    "start_time": "2022-11-09T18:52:15.450Z"
   },
   {
    "duration": 10,
    "start_time": "2022-11-09T18:52:15.469Z"
   },
   {
    "duration": 35,
    "start_time": "2022-11-09T18:52:15.481Z"
   },
   {
    "duration": 3,
    "start_time": "2022-11-09T18:52:15.517Z"
   },
   {
    "duration": 23537,
    "start_time": "2022-11-09T18:52:19.101Z"
   },
   {
    "duration": 9408,
    "start_time": "2022-11-09T18:52:49.228Z"
   },
   {
    "duration": 336,
    "start_time": "2022-11-09T18:53:16.492Z"
   },
   {
    "duration": 2,
    "start_time": "2022-11-09T18:53:36.126Z"
   },
   {
    "duration": 17763,
    "start_time": "2022-11-09T18:53:36.998Z"
   },
   {
    "duration": 248777,
    "start_time": "2022-11-09T19:02:59.178Z"
   },
   {
    "duration": 41202,
    "start_time": "2022-11-09T19:08:08.495Z"
   },
   {
    "duration": 257542,
    "start_time": "2022-11-09T19:08:50.676Z"
   },
   {
    "duration": 11092,
    "start_time": "2022-11-09T19:13:08.220Z"
   },
   {
    "duration": 249109,
    "start_time": "2022-11-09T19:14:10.659Z"
   },
   {
    "duration": 13319,
    "start_time": "2022-11-09T19:18:19.770Z"
   },
   {
    "duration": 228,
    "start_time": "2022-11-09T19:21:27.229Z"
   },
   {
    "duration": 8,
    "start_time": "2022-11-09T19:21:31.595Z"
   },
   {
    "duration": 10,
    "start_time": "2022-11-09T19:21:33.444Z"
   },
   {
    "duration": 108,
    "start_time": "2022-11-09T19:21:34.816Z"
   },
   {
    "duration": 9,
    "start_time": "2022-11-09T19:21:37.025Z"
   },
   {
    "duration": 171,
    "start_time": "2022-11-09T19:21:38.057Z"
   },
   {
    "duration": 1492,
    "start_time": "2022-11-09T19:36:47.306Z"
   },
   {
    "duration": 146,
    "start_time": "2022-11-09T19:36:48.800Z"
   },
   {
    "duration": 0,
    "start_time": "2022-11-09T19:36:48.949Z"
   },
   {
    "duration": 0,
    "start_time": "2022-11-09T19:36:48.950Z"
   },
   {
    "duration": 0,
    "start_time": "2022-11-09T19:36:48.952Z"
   },
   {
    "duration": 0,
    "start_time": "2022-11-09T19:36:48.953Z"
   },
   {
    "duration": 0,
    "start_time": "2022-11-09T19:36:48.954Z"
   },
   {
    "duration": 0,
    "start_time": "2022-11-09T19:36:48.955Z"
   },
   {
    "duration": 0,
    "start_time": "2022-11-09T19:36:48.957Z"
   },
   {
    "duration": 0,
    "start_time": "2022-11-09T19:36:48.958Z"
   },
   {
    "duration": 0,
    "start_time": "2022-11-09T19:36:48.959Z"
   },
   {
    "duration": 0,
    "start_time": "2022-11-09T19:36:48.960Z"
   },
   {
    "duration": 0,
    "start_time": "2022-11-09T19:36:48.962Z"
   },
   {
    "duration": 0,
    "start_time": "2022-11-09T19:36:48.963Z"
   },
   {
    "duration": 0,
    "start_time": "2022-11-09T19:36:48.964Z"
   },
   {
    "duration": 0,
    "start_time": "2022-11-09T19:36:48.965Z"
   },
   {
    "duration": 0,
    "start_time": "2022-11-09T19:36:48.966Z"
   },
   {
    "duration": 0,
    "start_time": "2022-11-09T19:36:48.967Z"
   },
   {
    "duration": 0,
    "start_time": "2022-11-09T19:36:48.968Z"
   },
   {
    "duration": 0,
    "start_time": "2022-11-09T19:36:48.970Z"
   },
   {
    "duration": 0,
    "start_time": "2022-11-09T19:36:48.971Z"
   },
   {
    "duration": 0,
    "start_time": "2022-11-09T19:36:48.972Z"
   },
   {
    "duration": 0,
    "start_time": "2022-11-09T19:36:48.974Z"
   },
   {
    "duration": 0,
    "start_time": "2022-11-09T19:36:48.975Z"
   },
   {
    "duration": 0,
    "start_time": "2022-11-09T19:36:48.976Z"
   },
   {
    "duration": 0,
    "start_time": "2022-11-09T19:36:48.978Z"
   },
   {
    "duration": 0,
    "start_time": "2022-11-09T19:36:48.979Z"
   },
   {
    "duration": 0,
    "start_time": "2022-11-09T19:36:48.981Z"
   },
   {
    "duration": 0,
    "start_time": "2022-11-09T19:36:49.031Z"
   },
   {
    "duration": 0,
    "start_time": "2022-11-09T19:36:49.032Z"
   },
   {
    "duration": 0,
    "start_time": "2022-11-09T19:36:49.034Z"
   },
   {
    "duration": 0,
    "start_time": "2022-11-09T19:36:49.036Z"
   },
   {
    "duration": 0,
    "start_time": "2022-11-09T19:36:49.037Z"
   },
   {
    "duration": 0,
    "start_time": "2022-11-09T19:36:49.039Z"
   },
   {
    "duration": 0,
    "start_time": "2022-11-09T19:36:49.040Z"
   },
   {
    "duration": 0,
    "start_time": "2022-11-09T19:36:49.042Z"
   },
   {
    "duration": 0,
    "start_time": "2022-11-09T19:36:49.043Z"
   },
   {
    "duration": 0,
    "start_time": "2022-11-09T19:36:49.044Z"
   },
   {
    "duration": 0,
    "start_time": "2022-11-09T19:36:49.046Z"
   },
   {
    "duration": 0,
    "start_time": "2022-11-09T19:36:49.047Z"
   },
   {
    "duration": 0,
    "start_time": "2022-11-09T19:36:49.048Z"
   },
   {
    "duration": 0,
    "start_time": "2022-11-09T19:36:49.050Z"
   },
   {
    "duration": 0,
    "start_time": "2022-11-09T19:36:49.051Z"
   },
   {
    "duration": 0,
    "start_time": "2022-11-09T19:36:49.052Z"
   },
   {
    "duration": 0,
    "start_time": "2022-11-09T19:36:49.054Z"
   },
   {
    "duration": 0,
    "start_time": "2022-11-09T19:36:49.055Z"
   },
   {
    "duration": 0,
    "start_time": "2022-11-09T19:36:49.056Z"
   },
   {
    "duration": 0,
    "start_time": "2022-11-09T19:36:49.057Z"
   },
   {
    "duration": 0,
    "start_time": "2022-11-09T19:36:49.059Z"
   },
   {
    "duration": 0,
    "start_time": "2022-11-09T19:36:49.060Z"
   },
   {
    "duration": 0,
    "start_time": "2022-11-09T19:36:49.061Z"
   },
   {
    "duration": 0,
    "start_time": "2022-11-09T19:36:49.062Z"
   },
   {
    "duration": 0,
    "start_time": "2022-11-09T19:36:49.064Z"
   },
   {
    "duration": 0,
    "start_time": "2022-11-09T19:36:49.065Z"
   },
   {
    "duration": 1,
    "start_time": "2022-11-09T19:36:49.066Z"
   },
   {
    "duration": 0,
    "start_time": "2022-11-09T19:36:49.068Z"
   },
   {
    "duration": 0,
    "start_time": "2022-11-09T19:36:49.069Z"
   },
   {
    "duration": 0,
    "start_time": "2022-11-09T19:36:49.131Z"
   },
   {
    "duration": 0,
    "start_time": "2022-11-09T19:36:49.133Z"
   },
   {
    "duration": 0,
    "start_time": "2022-11-09T19:36:49.134Z"
   },
   {
    "duration": 0,
    "start_time": "2022-11-09T19:36:49.135Z"
   },
   {
    "duration": 0,
    "start_time": "2022-11-09T19:36:49.137Z"
   },
   {
    "duration": 0,
    "start_time": "2022-11-09T19:36:49.138Z"
   },
   {
    "duration": 0,
    "start_time": "2022-11-09T19:36:49.140Z"
   },
   {
    "duration": 0,
    "start_time": "2022-11-09T19:36:49.141Z"
   },
   {
    "duration": 0,
    "start_time": "2022-11-09T19:36:49.142Z"
   },
   {
    "duration": 81,
    "start_time": "2022-11-09T19:38:05.403Z"
   },
   {
    "duration": 1413,
    "start_time": "2022-11-09T19:39:20.060Z"
   },
   {
    "duration": 82,
    "start_time": "2022-11-09T19:39:21.475Z"
   },
   {
    "duration": 3,
    "start_time": "2022-11-09T19:39:21.559Z"
   },
   {
    "duration": 6,
    "start_time": "2022-11-09T19:39:21.565Z"
   },
   {
    "duration": 79,
    "start_time": "2022-11-09T19:39:21.572Z"
   },
   {
    "duration": 7,
    "start_time": "2022-11-09T19:39:21.652Z"
   },
   {
    "duration": 51,
    "start_time": "2022-11-09T19:39:21.661Z"
   },
   {
    "duration": 17,
    "start_time": "2022-11-09T19:39:21.714Z"
   },
   {
    "duration": 47,
    "start_time": "2022-11-09T19:39:21.733Z"
   },
   {
    "duration": 5,
    "start_time": "2022-11-09T19:39:21.782Z"
   },
   {
    "duration": 55,
    "start_time": "2022-11-09T19:39:21.788Z"
   },
   {
    "duration": 5,
    "start_time": "2022-11-09T19:39:21.844Z"
   },
   {
    "duration": 26,
    "start_time": "2022-11-09T19:39:21.850Z"
   },
   {
    "duration": 121,
    "start_time": "2022-11-09T19:39:21.877Z"
   },
   {
    "duration": 16,
    "start_time": "2022-11-09T19:39:21.999Z"
   },
   {
    "duration": 44,
    "start_time": "2022-11-09T19:39:22.016Z"
   },
   {
    "duration": 14,
    "start_time": "2022-11-09T19:39:22.062Z"
   },
   {
    "duration": 8,
    "start_time": "2022-11-09T19:39:22.077Z"
   },
   {
    "duration": 8,
    "start_time": "2022-11-09T19:39:22.086Z"
   },
   {
    "duration": 4,
    "start_time": "2022-11-09T19:39:22.096Z"
   },
   {
    "duration": 20,
    "start_time": "2022-11-09T19:39:22.130Z"
   },
   {
    "duration": 13,
    "start_time": "2022-11-09T19:39:22.151Z"
   },
   {
    "duration": 21,
    "start_time": "2022-11-09T19:39:22.165Z"
   },
   {
    "duration": 45,
    "start_time": "2022-11-09T19:39:22.188Z"
   },
   {
    "duration": 4,
    "start_time": "2022-11-09T19:39:22.235Z"
   },
   {
    "duration": 96,
    "start_time": "2022-11-09T19:39:22.241Z"
   },
   {
    "duration": 9,
    "start_time": "2022-11-09T19:39:22.339Z"
   },
   {
    "duration": 12,
    "start_time": "2022-11-09T19:39:22.352Z"
   },
   {
    "duration": 213,
    "start_time": "2022-11-09T19:39:22.366Z"
   },
   {
    "duration": 15,
    "start_time": "2022-11-09T19:39:22.581Z"
   },
   {
    "duration": 210,
    "start_time": "2022-11-09T19:39:22.598Z"
   },
   {
    "duration": 331,
    "start_time": "2022-11-09T19:39:22.809Z"
   },
   {
    "duration": 205,
    "start_time": "2022-11-09T19:39:23.141Z"
   },
   {
    "duration": 338,
    "start_time": "2022-11-09T19:39:23.348Z"
   },
   {
    "duration": 90,
    "start_time": "2022-11-09T19:39:23.688Z"
   },
   {
    "duration": 111,
    "start_time": "2022-11-09T19:39:23.780Z"
   },
   {
    "duration": 107,
    "start_time": "2022-11-09T19:39:23.893Z"
   },
   {
    "duration": 118,
    "start_time": "2022-11-09T19:39:24.003Z"
   },
   {
    "duration": 190,
    "start_time": "2022-11-09T19:39:24.131Z"
   },
   {
    "duration": 278,
    "start_time": "2022-11-09T19:39:24.322Z"
   },
   {
    "duration": 158,
    "start_time": "2022-11-09T19:39:24.601Z"
   },
   {
    "duration": 152,
    "start_time": "2022-11-09T19:39:24.760Z"
   },
   {
    "duration": 301,
    "start_time": "2022-11-09T19:39:24.914Z"
   },
   {
    "duration": 28,
    "start_time": "2022-11-09T19:39:25.217Z"
   },
   {
    "duration": 12,
    "start_time": "2022-11-09T19:39:25.247Z"
   },
   {
    "duration": 7,
    "start_time": "2022-11-09T19:39:25.261Z"
   },
   {
    "duration": 39,
    "start_time": "2022-11-09T19:39:25.270Z"
   },
   {
    "duration": 3,
    "start_time": "2022-11-09T19:39:25.311Z"
   },
   {
    "duration": 23525,
    "start_time": "2022-11-09T19:39:25.315Z"
   },
   {
    "duration": 276,
    "start_time": "2022-11-09T19:39:48.842Z"
   },
   {
    "duration": 9514,
    "start_time": "2022-11-09T19:39:49.120Z"
   },
   {
    "duration": 370,
    "start_time": "2022-11-09T19:39:58.637Z"
   },
   {
    "duration": 352,
    "start_time": "2022-11-09T19:39:59.009Z"
   },
   {
    "duration": 112,
    "start_time": "2022-11-09T19:39:59.362Z"
   },
   {
    "duration": 26750,
    "start_time": "2022-11-09T19:39:59.475Z"
   },
   {
    "duration": 125,
    "start_time": "2022-11-09T19:40:26.227Z"
   },
   {
    "duration": 3,
    "start_time": "2022-11-09T19:40:26.354Z"
   },
   {
    "duration": 1473,
    "start_time": "2022-11-09T19:42:49.541Z"
   },
   {
    "duration": 83,
    "start_time": "2022-11-09T19:42:51.016Z"
   },
   {
    "duration": 3,
    "start_time": "2022-11-09T19:42:51.101Z"
   },
   {
    "duration": 5,
    "start_time": "2022-11-09T19:42:51.106Z"
   },
   {
    "duration": 63,
    "start_time": "2022-11-09T19:42:51.113Z"
   },
   {
    "duration": 5,
    "start_time": "2022-11-09T19:42:51.178Z"
   },
   {
    "duration": 57,
    "start_time": "2022-11-09T19:42:51.184Z"
   },
   {
    "duration": 5,
    "start_time": "2022-11-09T19:42:51.243Z"
   },
   {
    "duration": 48,
    "start_time": "2022-11-09T19:42:51.249Z"
   },
   {
    "duration": 5,
    "start_time": "2022-11-09T19:42:51.299Z"
   },
   {
    "duration": 29,
    "start_time": "2022-11-09T19:42:51.332Z"
   },
   {
    "duration": 5,
    "start_time": "2022-11-09T19:42:51.362Z"
   },
   {
    "duration": 35,
    "start_time": "2022-11-09T19:42:51.368Z"
   },
   {
    "duration": 127,
    "start_time": "2022-11-09T19:42:51.404Z"
   },
   {
    "duration": 14,
    "start_time": "2022-11-09T19:42:51.533Z"
   },
   {
    "duration": 30,
    "start_time": "2022-11-09T19:42:51.549Z"
   },
   {
    "duration": 15,
    "start_time": "2022-11-09T19:42:51.580Z"
   },
   {
    "duration": 38,
    "start_time": "2022-11-09T19:42:51.596Z"
   },
   {
    "duration": 7,
    "start_time": "2022-11-09T19:42:51.636Z"
   },
   {
    "duration": 4,
    "start_time": "2022-11-09T19:42:51.645Z"
   },
   {
    "duration": 21,
    "start_time": "2022-11-09T19:42:51.650Z"
   },
   {
    "duration": 11,
    "start_time": "2022-11-09T19:42:51.673Z"
   },
   {
    "duration": 47,
    "start_time": "2022-11-09T19:42:51.685Z"
   },
   {
    "duration": 20,
    "start_time": "2022-11-09T19:42:51.733Z"
   },
   {
    "duration": 4,
    "start_time": "2022-11-09T19:42:51.754Z"
   },
   {
    "duration": 102,
    "start_time": "2022-11-09T19:42:51.759Z"
   },
   {
    "duration": 9,
    "start_time": "2022-11-09T19:42:51.862Z"
   },
   {
    "duration": 13,
    "start_time": "2022-11-09T19:42:51.875Z"
   },
   {
    "duration": 209,
    "start_time": "2022-11-09T19:42:51.890Z"
   },
   {
    "duration": 15,
    "start_time": "2022-11-09T19:42:52.101Z"
   },
   {
    "duration": 206,
    "start_time": "2022-11-09T19:42:52.130Z"
   },
   {
    "duration": 337,
    "start_time": "2022-11-09T19:42:52.338Z"
   },
   {
    "duration": 203,
    "start_time": "2022-11-09T19:42:52.677Z"
   },
   {
    "duration": 313,
    "start_time": "2022-11-09T19:42:52.882Z"
   },
   {
    "duration": 94,
    "start_time": "2022-11-09T19:42:53.197Z"
   },
   {
    "duration": 107,
    "start_time": "2022-11-09T19:42:53.293Z"
   },
   {
    "duration": 91,
    "start_time": "2022-11-09T19:42:53.402Z"
   },
   {
    "duration": 95,
    "start_time": "2022-11-09T19:42:53.495Z"
   },
   {
    "duration": 190,
    "start_time": "2022-11-09T19:42:53.593Z"
   },
   {
    "duration": 326,
    "start_time": "2022-11-09T19:42:53.785Z"
   },
   {
    "duration": 184,
    "start_time": "2022-11-09T19:42:54.114Z"
   },
   {
    "duration": 159,
    "start_time": "2022-11-09T19:42:54.299Z"
   },
   {
    "duration": 273,
    "start_time": "2022-11-09T19:42:54.459Z"
   },
   {
    "duration": 17,
    "start_time": "2022-11-09T19:42:54.734Z"
   },
   {
    "duration": 11,
    "start_time": "2022-11-09T19:42:54.753Z"
   },
   {
    "duration": 13,
    "start_time": "2022-11-09T19:42:54.766Z"
   },
   {
    "duration": 50,
    "start_time": "2022-11-09T19:42:54.781Z"
   },
   {
    "duration": 4,
    "start_time": "2022-11-09T19:42:54.833Z"
   },
   {
    "duration": 23896,
    "start_time": "2022-11-09T19:42:54.839Z"
   },
   {
    "duration": 276,
    "start_time": "2022-11-09T19:43:18.737Z"
   },
   {
    "duration": 9819,
    "start_time": "2022-11-09T19:43:19.015Z"
   },
   {
    "duration": 434,
    "start_time": "2022-11-09T19:43:28.836Z"
   },
   {
    "duration": 760,
    "start_time": "2022-11-09T19:43:29.272Z"
   },
   {
    "duration": 221,
    "start_time": "2022-11-09T19:43:30.034Z"
   },
   {
    "duration": 29417,
    "start_time": "2022-11-09T19:43:30.256Z"
   },
   {
    "duration": 128,
    "start_time": "2022-11-09T19:43:59.674Z"
   },
   {
    "duration": 3,
    "start_time": "2022-11-09T19:43:59.804Z"
   },
   {
    "duration": 132088,
    "start_time": "2022-11-09T19:43:59.808Z"
   },
   {
    "duration": 0,
    "start_time": "2022-11-09T19:46:11.898Z"
   },
   {
    "duration": 0,
    "start_time": "2022-11-09T19:46:11.899Z"
   },
   {
    "duration": 0,
    "start_time": "2022-11-09T19:46:11.900Z"
   },
   {
    "duration": 0,
    "start_time": "2022-11-09T19:46:11.901Z"
   },
   {
    "duration": 0,
    "start_time": "2022-11-09T19:46:11.902Z"
   },
   {
    "duration": 0,
    "start_time": "2022-11-09T19:46:11.903Z"
   },
   {
    "duration": 0,
    "start_time": "2022-11-09T19:46:11.904Z"
   },
   {
    "duration": 0,
    "start_time": "2022-11-09T19:46:11.905Z"
   },
   {
    "duration": 5,
    "start_time": "2022-11-09T19:46:43.925Z"
   },
   {
    "duration": 279,
    "start_time": "2022-11-09T19:46:44.964Z"
   },
   {
    "duration": 333,
    "start_time": "2022-11-09T19:47:13.916Z"
   },
   {
    "duration": 261,
    "start_time": "2022-11-09T19:47:27.905Z"
   },
   {
    "duration": 414,
    "start_time": "2022-11-09T19:47:45.223Z"
   },
   {
    "duration": 312,
    "start_time": "2022-11-09T19:48:08.830Z"
   },
   {
    "duration": 1442,
    "start_time": "2022-11-09T19:49:20.388Z"
   },
   {
    "duration": 89,
    "start_time": "2022-11-09T19:49:21.832Z"
   },
   {
    "duration": 3,
    "start_time": "2022-11-09T19:49:21.923Z"
   },
   {
    "duration": 6,
    "start_time": "2022-11-09T19:49:21.927Z"
   },
   {
    "duration": 68,
    "start_time": "2022-11-09T19:49:21.935Z"
   },
   {
    "duration": 6,
    "start_time": "2022-11-09T19:49:22.004Z"
   },
   {
    "duration": 56,
    "start_time": "2022-11-09T19:49:22.011Z"
   },
   {
    "duration": 5,
    "start_time": "2022-11-09T19:49:22.069Z"
   },
   {
    "duration": 69,
    "start_time": "2022-11-09T19:49:22.075Z"
   },
   {
    "duration": 5,
    "start_time": "2022-11-09T19:49:22.147Z"
   },
   {
    "duration": 31,
    "start_time": "2022-11-09T19:49:22.154Z"
   },
   {
    "duration": 4,
    "start_time": "2022-11-09T19:49:22.187Z"
   },
   {
    "duration": 47,
    "start_time": "2022-11-09T19:49:22.193Z"
   },
   {
    "duration": 111,
    "start_time": "2022-11-09T19:49:22.242Z"
   },
   {
    "duration": 15,
    "start_time": "2022-11-09T19:49:22.355Z"
   },
   {
    "duration": 30,
    "start_time": "2022-11-09T19:49:22.372Z"
   },
   {
    "duration": 33,
    "start_time": "2022-11-09T19:49:22.403Z"
   },
   {
    "duration": 9,
    "start_time": "2022-11-09T19:49:22.438Z"
   },
   {
    "duration": 10,
    "start_time": "2022-11-09T19:49:22.449Z"
   },
   {
    "duration": 5,
    "start_time": "2022-11-09T19:49:22.460Z"
   },
   {
    "duration": 22,
    "start_time": "2022-11-09T19:49:22.467Z"
   },
   {
    "duration": 41,
    "start_time": "2022-11-09T19:49:22.491Z"
   },
   {
    "duration": 22,
    "start_time": "2022-11-09T19:49:22.533Z"
   },
   {
    "duration": 18,
    "start_time": "2022-11-09T19:49:22.557Z"
   },
   {
    "duration": 4,
    "start_time": "2022-11-09T19:49:22.577Z"
   },
   {
    "duration": 100,
    "start_time": "2022-11-09T19:49:22.583Z"
   },
   {
    "duration": 9,
    "start_time": "2022-11-09T19:49:22.684Z"
   },
   {
    "duration": 11,
    "start_time": "2022-11-09T19:49:22.697Z"
   },
   {
    "duration": 217,
    "start_time": "2022-11-09T19:49:22.710Z"
   },
   {
    "duration": 15,
    "start_time": "2022-11-09T19:49:22.930Z"
   },
   {
    "duration": 213,
    "start_time": "2022-11-09T19:49:22.947Z"
   },
   {
    "duration": 330,
    "start_time": "2022-11-09T19:49:23.161Z"
   },
   {
    "duration": 216,
    "start_time": "2022-11-09T19:49:23.493Z"
   },
   {
    "duration": 380,
    "start_time": "2022-11-09T19:49:23.711Z"
   },
   {
    "duration": 116,
    "start_time": "2022-11-09T19:49:24.094Z"
   },
   {
    "duration": 107,
    "start_time": "2022-11-09T19:49:24.212Z"
   },
   {
    "duration": 93,
    "start_time": "2022-11-09T19:49:24.321Z"
   },
   {
    "duration": 96,
    "start_time": "2022-11-09T19:49:24.416Z"
   },
   {
    "duration": 177,
    "start_time": "2022-11-09T19:49:24.514Z"
   },
   {
    "duration": 292,
    "start_time": "2022-11-09T19:49:24.692Z"
   },
   {
    "duration": 165,
    "start_time": "2022-11-09T19:49:24.985Z"
   },
   {
    "duration": 169,
    "start_time": "2022-11-09T19:49:25.151Z"
   },
   {
    "duration": 337,
    "start_time": "2022-11-09T19:49:25.321Z"
   },
   {
    "duration": 21,
    "start_time": "2022-11-09T19:49:25.660Z"
   },
   {
    "duration": 11,
    "start_time": "2022-11-09T19:49:25.683Z"
   },
   {
    "duration": 5,
    "start_time": "2022-11-09T19:49:25.696Z"
   },
   {
    "duration": 69,
    "start_time": "2022-11-09T19:49:25.702Z"
   },
   {
    "duration": 4,
    "start_time": "2022-11-09T19:49:25.773Z"
   },
   {
    "duration": 24159,
    "start_time": "2022-11-09T19:49:25.779Z"
   },
   {
    "duration": 5,
    "start_time": "2022-11-09T19:49:49.940Z"
   },
   {
    "duration": 292,
    "start_time": "2022-11-09T19:49:49.946Z"
   },
   {
    "duration": 9894,
    "start_time": "2022-11-09T19:49:50.240Z"
   },
   {
    "duration": 309,
    "start_time": "2022-11-09T19:50:00.136Z"
   },
   {
    "duration": 362,
    "start_time": "2022-11-09T19:50:00.447Z"
   },
   {
    "duration": 304,
    "start_time": "2022-11-09T19:50:00.810Z"
   },
   {
    "duration": 12424,
    "start_time": "2022-11-09T19:50:01.115Z"
   },
   {
    "duration": 0,
    "start_time": "2022-11-09T19:50:13.541Z"
   },
   {
    "duration": 0,
    "start_time": "2022-11-09T19:50:13.543Z"
   },
   {
    "duration": 0,
    "start_time": "2022-11-09T19:50:13.544Z"
   },
   {
    "duration": 0,
    "start_time": "2022-11-09T19:50:13.546Z"
   },
   {
    "duration": 0,
    "start_time": "2022-11-09T19:50:13.547Z"
   },
   {
    "duration": 0,
    "start_time": "2022-11-09T19:50:13.549Z"
   },
   {
    "duration": 0,
    "start_time": "2022-11-09T19:50:13.550Z"
   },
   {
    "duration": 0,
    "start_time": "2022-11-09T19:50:13.552Z"
   },
   {
    "duration": 0,
    "start_time": "2022-11-09T19:50:13.553Z"
   },
   {
    "duration": 0,
    "start_time": "2022-11-09T19:50:13.555Z"
   },
   {
    "duration": 0,
    "start_time": "2022-11-09T19:50:13.556Z"
   },
   {
    "duration": 0,
    "start_time": "2022-11-09T19:50:13.558Z"
   },
   {
    "duration": 0,
    "start_time": "2022-11-09T19:50:13.560Z"
   },
   {
    "duration": 1405,
    "start_time": "2022-11-09T19:50:17.084Z"
   },
   {
    "duration": 84,
    "start_time": "2022-11-09T19:50:18.491Z"
   },
   {
    "duration": 3,
    "start_time": "2022-11-09T19:50:18.576Z"
   },
   {
    "duration": 6,
    "start_time": "2022-11-09T19:50:18.582Z"
   },
   {
    "duration": 79,
    "start_time": "2022-11-09T19:50:18.590Z"
   },
   {
    "duration": 6,
    "start_time": "2022-11-09T19:50:18.671Z"
   },
   {
    "duration": 83,
    "start_time": "2022-11-09T19:50:18.679Z"
   },
   {
    "duration": 6,
    "start_time": "2022-11-09T19:50:18.764Z"
   },
   {
    "duration": 67,
    "start_time": "2022-11-09T19:50:18.772Z"
   },
   {
    "duration": 6,
    "start_time": "2022-11-09T19:50:18.842Z"
   },
   {
    "duration": 46,
    "start_time": "2022-11-09T19:50:18.850Z"
   },
   {
    "duration": 7,
    "start_time": "2022-11-09T19:50:18.898Z"
   },
   {
    "duration": 48,
    "start_time": "2022-11-09T19:50:18.907Z"
   },
   {
    "duration": 130,
    "start_time": "2022-11-09T19:50:18.957Z"
   },
   {
    "duration": 17,
    "start_time": "2022-11-09T19:50:19.089Z"
   },
   {
    "duration": 50,
    "start_time": "2022-11-09T19:50:19.108Z"
   },
   {
    "duration": 16,
    "start_time": "2022-11-09T19:50:19.159Z"
   },
   {
    "duration": 9,
    "start_time": "2022-11-09T19:50:19.176Z"
   },
   {
    "duration": 9,
    "start_time": "2022-11-09T19:50:19.187Z"
   },
   {
    "duration": 38,
    "start_time": "2022-11-09T19:50:19.198Z"
   },
   {
    "duration": 22,
    "start_time": "2022-11-09T19:50:19.238Z"
   },
   {
    "duration": 12,
    "start_time": "2022-11-09T19:50:19.261Z"
   },
   {
    "duration": 20,
    "start_time": "2022-11-09T19:50:19.274Z"
   },
   {
    "duration": 38,
    "start_time": "2022-11-09T19:50:19.295Z"
   },
   {
    "duration": 5,
    "start_time": "2022-11-09T19:50:19.334Z"
   },
   {
    "duration": 98,
    "start_time": "2022-11-09T19:50:19.341Z"
   },
   {
    "duration": 9,
    "start_time": "2022-11-09T19:50:19.441Z"
   },
   {
    "duration": 18,
    "start_time": "2022-11-09T19:50:19.454Z"
   },
   {
    "duration": 224,
    "start_time": "2022-11-09T19:50:19.473Z"
   },
   {
    "duration": 33,
    "start_time": "2022-11-09T19:50:19.699Z"
   },
   {
    "duration": 201,
    "start_time": "2022-11-09T19:50:19.734Z"
   },
   {
    "duration": 319,
    "start_time": "2022-11-09T19:50:19.937Z"
   },
   {
    "duration": 200,
    "start_time": "2022-11-09T19:50:20.258Z"
   },
   {
    "duration": 324,
    "start_time": "2022-11-09T19:50:20.461Z"
   },
   {
    "duration": 99,
    "start_time": "2022-11-09T19:50:20.787Z"
   },
   {
    "duration": 108,
    "start_time": "2022-11-09T19:50:20.888Z"
   },
   {
    "duration": 100,
    "start_time": "2022-11-09T19:50:20.997Z"
   },
   {
    "duration": 95,
    "start_time": "2022-11-09T19:50:21.099Z"
   },
   {
    "duration": 173,
    "start_time": "2022-11-09T19:50:21.195Z"
   },
   {
    "duration": 309,
    "start_time": "2022-11-09T19:50:21.370Z"
   },
   {
    "duration": 158,
    "start_time": "2022-11-09T19:50:21.680Z"
   },
   {
    "duration": 163,
    "start_time": "2022-11-09T19:50:21.840Z"
   },
   {
    "duration": 307,
    "start_time": "2022-11-09T19:50:22.005Z"
   },
   {
    "duration": 28,
    "start_time": "2022-11-09T19:50:22.314Z"
   },
   {
    "duration": 13,
    "start_time": "2022-11-09T19:50:22.343Z"
   },
   {
    "duration": 5,
    "start_time": "2022-11-09T19:50:22.358Z"
   },
   {
    "duration": 39,
    "start_time": "2022-11-09T19:50:22.364Z"
   },
   {
    "duration": 3,
    "start_time": "2022-11-09T19:50:22.404Z"
   },
   {
    "duration": 24330,
    "start_time": "2022-11-09T19:50:22.409Z"
   },
   {
    "duration": 5,
    "start_time": "2022-11-09T19:50:46.740Z"
   },
   {
    "duration": 288,
    "start_time": "2022-11-09T19:50:46.746Z"
   },
   {
    "duration": 7797,
    "start_time": "2022-11-09T19:50:47.036Z"
   },
   {
    "duration": 228,
    "start_time": "2022-11-09T19:50:54.836Z"
   },
   {
    "duration": 0,
    "start_time": "2022-11-09T19:50:55.066Z"
   },
   {
    "duration": 0,
    "start_time": "2022-11-09T19:50:55.067Z"
   },
   {
    "duration": 0,
    "start_time": "2022-11-09T19:50:55.068Z"
   },
   {
    "duration": 0,
    "start_time": "2022-11-09T19:50:55.069Z"
   },
   {
    "duration": 0,
    "start_time": "2022-11-09T19:50:55.070Z"
   },
   {
    "duration": 0,
    "start_time": "2022-11-09T19:50:55.072Z"
   },
   {
    "duration": 0,
    "start_time": "2022-11-09T19:50:55.073Z"
   },
   {
    "duration": 0,
    "start_time": "2022-11-09T19:50:55.074Z"
   },
   {
    "duration": 0,
    "start_time": "2022-11-09T19:50:55.074Z"
   },
   {
    "duration": 0,
    "start_time": "2022-11-09T19:50:55.075Z"
   },
   {
    "duration": 0,
    "start_time": "2022-11-09T19:50:55.076Z"
   },
   {
    "duration": 0,
    "start_time": "2022-11-09T19:50:55.077Z"
   },
   {
    "duration": 0,
    "start_time": "2022-11-09T19:50:55.077Z"
   },
   {
    "duration": 0,
    "start_time": "2022-11-09T19:50:55.079Z"
   },
   {
    "duration": 317,
    "start_time": "2022-11-09T19:52:11.033Z"
   },
   {
    "duration": 1471,
    "start_time": "2022-11-09T19:52:17.645Z"
   },
   {
    "duration": 84,
    "start_time": "2022-11-09T19:52:19.117Z"
   },
   {
    "duration": 3,
    "start_time": "2022-11-09T19:52:19.203Z"
   },
   {
    "duration": 6,
    "start_time": "2022-11-09T19:52:19.209Z"
   },
   {
    "duration": 94,
    "start_time": "2022-11-09T19:52:19.217Z"
   },
   {
    "duration": 8,
    "start_time": "2022-11-09T19:52:19.313Z"
   },
   {
    "duration": 52,
    "start_time": "2022-11-09T19:52:19.331Z"
   },
   {
    "duration": 5,
    "start_time": "2022-11-09T19:52:19.384Z"
   },
   {
    "duration": 73,
    "start_time": "2022-11-09T19:52:19.391Z"
   },
   {
    "duration": 6,
    "start_time": "2022-11-09T19:52:19.467Z"
   },
   {
    "duration": 36,
    "start_time": "2022-11-09T19:52:19.474Z"
   },
   {
    "duration": 6,
    "start_time": "2022-11-09T19:52:19.531Z"
   },
   {
    "duration": 33,
    "start_time": "2022-11-09T19:52:19.538Z"
   },
   {
    "duration": 125,
    "start_time": "2022-11-09T19:52:19.573Z"
   },
   {
    "duration": 16,
    "start_time": "2022-11-09T19:52:19.699Z"
   },
   {
    "duration": 40,
    "start_time": "2022-11-09T19:52:19.717Z"
   },
   {
    "duration": 13,
    "start_time": "2022-11-09T19:52:19.758Z"
   },
   {
    "duration": 8,
    "start_time": "2022-11-09T19:52:19.773Z"
   },
   {
    "duration": 20,
    "start_time": "2022-11-09T19:52:19.783Z"
   },
   {
    "duration": 34,
    "start_time": "2022-11-09T19:52:19.804Z"
   },
   {
    "duration": 25,
    "start_time": "2022-11-09T19:52:19.840Z"
   },
   {
    "duration": 12,
    "start_time": "2022-11-09T19:52:19.866Z"
   },
   {
    "duration": 20,
    "start_time": "2022-11-09T19:52:19.879Z"
   },
   {
    "duration": 37,
    "start_time": "2022-11-09T19:52:19.901Z"
   },
   {
    "duration": 5,
    "start_time": "2022-11-09T19:52:19.940Z"
   },
   {
    "duration": 103,
    "start_time": "2022-11-09T19:52:19.947Z"
   },
   {
    "duration": 9,
    "start_time": "2022-11-09T19:52:20.052Z"
   },
   {
    "duration": 12,
    "start_time": "2022-11-09T19:52:20.066Z"
   },
   {
    "duration": 214,
    "start_time": "2022-11-09T19:52:20.080Z"
   },
   {
    "duration": 16,
    "start_time": "2022-11-09T19:52:20.295Z"
   },
   {
    "duration": 217,
    "start_time": "2022-11-09T19:52:20.313Z"
   },
   {
    "duration": 344,
    "start_time": "2022-11-09T19:52:20.532Z"
   },
   {
    "duration": 205,
    "start_time": "2022-11-09T19:52:20.878Z"
   },
   {
    "duration": 746,
    "start_time": "2022-11-09T19:52:21.085Z"
   },
   {
    "duration": 200,
    "start_time": "2022-11-09T19:52:21.834Z"
   },
   {
    "duration": 221,
    "start_time": "2022-11-09T19:52:22.036Z"
   },
   {
    "duration": 193,
    "start_time": "2022-11-09T19:52:22.259Z"
   },
   {
    "duration": 277,
    "start_time": "2022-11-09T19:52:22.454Z"
   },
   {
    "duration": 305,
    "start_time": "2022-11-09T19:52:22.732Z"
   },
   {
    "duration": 313,
    "start_time": "2022-11-09T19:52:23.039Z"
   },
   {
    "duration": 191,
    "start_time": "2022-11-09T19:52:23.354Z"
   },
   {
    "duration": 174,
    "start_time": "2022-11-09T19:52:23.547Z"
   },
   {
    "duration": 325,
    "start_time": "2022-11-09T19:52:23.723Z"
   },
   {
    "duration": 28,
    "start_time": "2022-11-09T19:52:24.050Z"
   },
   {
    "duration": 17,
    "start_time": "2022-11-09T19:52:24.079Z"
   },
   {
    "duration": 11,
    "start_time": "2022-11-09T19:52:24.099Z"
   },
   {
    "duration": 78,
    "start_time": "2022-11-09T19:52:24.112Z"
   },
   {
    "duration": 4,
    "start_time": "2022-11-09T19:52:24.192Z"
   },
   {
    "duration": 23733,
    "start_time": "2022-11-09T19:52:24.198Z"
   },
   {
    "duration": 4,
    "start_time": "2022-11-09T19:52:47.933Z"
   },
   {
    "duration": 309,
    "start_time": "2022-11-09T19:52:47.939Z"
   },
   {
    "duration": 8689,
    "start_time": "2022-11-09T19:52:48.250Z"
   },
   {
    "duration": 301,
    "start_time": "2022-11-09T19:52:57.034Z"
   },
   {
    "duration": 408,
    "start_time": "2022-11-09T19:52:57.337Z"
   },
   {
    "duration": 112,
    "start_time": "2022-11-09T19:52:57.747Z"
   },
   {
    "duration": 26676,
    "start_time": "2022-11-09T19:52:57.861Z"
   },
   {
    "duration": 130,
    "start_time": "2022-11-09T19:53:24.539Z"
   },
   {
    "duration": 3,
    "start_time": "2022-11-09T19:53:24.671Z"
   },
   {
    "duration": 242499,
    "start_time": "2022-11-09T19:53:24.676Z"
   },
   {
    "duration": 121,
    "start_time": "2022-11-09T19:57:27.177Z"
   },
   {
    "duration": 0,
    "start_time": "2022-11-09T19:57:27.300Z"
   },
   {
    "duration": 0,
    "start_time": "2022-11-09T19:57:27.301Z"
   },
   {
    "duration": 1,
    "start_time": "2022-11-09T19:57:27.302Z"
   },
   {
    "duration": 0,
    "start_time": "2022-11-09T19:57:27.303Z"
   },
   {
    "duration": 0,
    "start_time": "2022-11-09T19:57:27.304Z"
   },
   {
    "duration": 0,
    "start_time": "2022-11-09T19:57:27.305Z"
   },
   {
    "duration": 0,
    "start_time": "2022-11-09T19:57:27.306Z"
   },
   {
    "duration": 15,
    "start_time": "2022-11-09T19:57:49.995Z"
   },
   {
    "duration": 248,
    "start_time": "2022-11-09T19:58:14.490Z"
   },
   {
    "duration": 1448,
    "start_time": "2022-11-09T19:59:01.355Z"
   },
   {
    "duration": 85,
    "start_time": "2022-11-09T19:59:02.805Z"
   },
   {
    "duration": 3,
    "start_time": "2022-11-09T19:59:02.891Z"
   },
   {
    "duration": 6,
    "start_time": "2022-11-09T19:59:02.896Z"
   },
   {
    "duration": 65,
    "start_time": "2022-11-09T19:59:02.904Z"
   },
   {
    "duration": 6,
    "start_time": "2022-11-09T19:59:02.970Z"
   },
   {
    "duration": 61,
    "start_time": "2022-11-09T19:59:02.978Z"
   },
   {
    "duration": 7,
    "start_time": "2022-11-09T19:59:03.040Z"
   },
   {
    "duration": 48,
    "start_time": "2022-11-09T19:59:03.048Z"
   },
   {
    "duration": 4,
    "start_time": "2022-11-09T19:59:03.098Z"
   },
   {
    "duration": 55,
    "start_time": "2022-11-09T19:59:03.104Z"
   },
   {
    "duration": 6,
    "start_time": "2022-11-09T19:59:03.160Z"
   },
   {
    "duration": 27,
    "start_time": "2022-11-09T19:59:03.167Z"
   },
   {
    "duration": 118,
    "start_time": "2022-11-09T19:59:03.198Z"
   },
   {
    "duration": 26,
    "start_time": "2022-11-09T19:59:03.317Z"
   },
   {
    "duration": 31,
    "start_time": "2022-11-09T19:59:03.344Z"
   },
   {
    "duration": 14,
    "start_time": "2022-11-09T19:59:03.376Z"
   },
   {
    "duration": 8,
    "start_time": "2022-11-09T19:59:03.391Z"
   },
   {
    "duration": 33,
    "start_time": "2022-11-09T19:59:03.401Z"
   },
   {
    "duration": 5,
    "start_time": "2022-11-09T19:59:03.435Z"
   },
   {
    "duration": 24,
    "start_time": "2022-11-09T19:59:03.441Z"
   },
   {
    "duration": 12,
    "start_time": "2022-11-09T19:59:03.466Z"
   },
   {
    "duration": 20,
    "start_time": "2022-11-09T19:59:03.479Z"
   },
   {
    "duration": 43,
    "start_time": "2022-11-09T19:59:03.501Z"
   },
   {
    "duration": 5,
    "start_time": "2022-11-09T19:59:03.546Z"
   },
   {
    "duration": 106,
    "start_time": "2022-11-09T19:59:03.552Z"
   },
   {
    "duration": 8,
    "start_time": "2022-11-09T19:59:03.660Z"
   },
   {
    "duration": 13,
    "start_time": "2022-11-09T19:59:03.669Z"
   },
   {
    "duration": 210,
    "start_time": "2022-11-09T19:59:03.684Z"
   },
   {
    "duration": 17,
    "start_time": "2022-11-09T19:59:03.896Z"
   },
   {
    "duration": 262,
    "start_time": "2022-11-09T19:59:03.914Z"
   },
   {
    "duration": 337,
    "start_time": "2022-11-09T19:59:04.178Z"
   },
   {
    "duration": 216,
    "start_time": "2022-11-09T19:59:04.517Z"
   },
   {
    "duration": 321,
    "start_time": "2022-11-09T19:59:04.735Z"
   },
   {
    "duration": 93,
    "start_time": "2022-11-09T19:59:05.058Z"
   },
   {
    "duration": 111,
    "start_time": "2022-11-09T19:59:05.153Z"
   },
   {
    "duration": 95,
    "start_time": "2022-11-09T19:59:05.265Z"
   },
   {
    "duration": 91,
    "start_time": "2022-11-09T19:59:05.362Z"
   },
   {
    "duration": 176,
    "start_time": "2022-11-09T19:59:05.454Z"
   },
   {
    "duration": 283,
    "start_time": "2022-11-09T19:59:05.632Z"
   },
   {
    "duration": 192,
    "start_time": "2022-11-09T19:59:05.918Z"
   },
   {
    "duration": 170,
    "start_time": "2022-11-09T19:59:06.112Z"
   },
   {
    "duration": 297,
    "start_time": "2022-11-09T19:59:06.283Z"
   },
   {
    "duration": 20,
    "start_time": "2022-11-09T19:59:06.582Z"
   },
   {
    "duration": 12,
    "start_time": "2022-11-09T19:59:06.603Z"
   },
   {
    "duration": 7,
    "start_time": "2022-11-09T19:59:06.631Z"
   },
   {
    "duration": 44,
    "start_time": "2022-11-09T19:59:06.640Z"
   },
   {
    "duration": 4,
    "start_time": "2022-11-09T19:59:06.686Z"
   },
   {
    "duration": 24351,
    "start_time": "2022-11-09T19:59:06.692Z"
   },
   {
    "duration": 4,
    "start_time": "2022-11-09T19:59:31.045Z"
   },
   {
    "duration": 282,
    "start_time": "2022-11-09T19:59:31.051Z"
   },
   {
    "duration": 9399,
    "start_time": "2022-11-09T19:59:31.335Z"
   },
   {
    "duration": 382,
    "start_time": "2022-11-09T19:59:40.739Z"
   },
   {
    "duration": 364,
    "start_time": "2022-11-09T19:59:41.131Z"
   },
   {
    "duration": 112,
    "start_time": "2022-11-09T19:59:41.496Z"
   },
   {
    "duration": 27053,
    "start_time": "2022-11-09T19:59:41.609Z"
   },
   {
    "duration": 135,
    "start_time": "2022-11-09T20:00:08.664Z"
   },
   {
    "duration": 3,
    "start_time": "2022-11-09T20:00:08.801Z"
   },
   {
    "duration": 143588,
    "start_time": "2022-11-09T20:00:08.806Z"
   },
   {
    "duration": 0,
    "start_time": "2022-11-09T20:02:32.396Z"
   },
   {
    "duration": 0,
    "start_time": "2022-11-09T20:02:32.397Z"
   },
   {
    "duration": 0,
    "start_time": "2022-11-09T20:02:32.398Z"
   },
   {
    "duration": 0,
    "start_time": "2022-11-09T20:02:32.399Z"
   },
   {
    "duration": 0,
    "start_time": "2022-11-09T20:02:32.400Z"
   },
   {
    "duration": 0,
    "start_time": "2022-11-09T20:02:32.401Z"
   },
   {
    "duration": 0,
    "start_time": "2022-11-09T20:02:32.402Z"
   },
   {
    "duration": 0,
    "start_time": "2022-11-09T20:02:32.403Z"
   },
   {
    "duration": 0,
    "start_time": "2022-11-09T20:02:32.406Z"
   },
   {
    "duration": 0,
    "start_time": "2022-11-09T20:02:32.407Z"
   },
   {
    "duration": 5,
    "start_time": "2022-11-09T20:02:36.587Z"
   },
   {
    "duration": 87,
    "start_time": "2022-11-09T20:02:36.594Z"
   },
   {
    "duration": 3,
    "start_time": "2022-11-09T20:02:36.683Z"
   },
   {
    "duration": 5,
    "start_time": "2022-11-09T20:02:36.687Z"
   },
   {
    "duration": 64,
    "start_time": "2022-11-09T20:02:36.694Z"
   },
   {
    "duration": 6,
    "start_time": "2022-11-09T20:02:36.759Z"
   },
   {
    "duration": 47,
    "start_time": "2022-11-09T20:02:36.766Z"
   },
   {
    "duration": 19,
    "start_time": "2022-11-09T20:02:36.815Z"
   },
   {
    "duration": 50,
    "start_time": "2022-11-09T20:02:36.836Z"
   },
   {
    "duration": 5,
    "start_time": "2022-11-09T20:02:36.888Z"
   },
   {
    "duration": 56,
    "start_time": "2022-11-09T20:02:36.895Z"
   },
   {
    "duration": 5,
    "start_time": "2022-11-09T20:02:36.953Z"
   },
   {
    "duration": 28,
    "start_time": "2022-11-09T20:02:36.959Z"
   },
   {
    "duration": 122,
    "start_time": "2022-11-09T20:02:36.988Z"
   },
   {
    "duration": 29,
    "start_time": "2022-11-09T20:02:37.111Z"
   },
   {
    "duration": 29,
    "start_time": "2022-11-09T20:02:37.142Z"
   },
   {
    "duration": 13,
    "start_time": "2022-11-09T20:02:37.173Z"
   },
   {
    "duration": 8,
    "start_time": "2022-11-09T20:02:37.188Z"
   },
   {
    "duration": 37,
    "start_time": "2022-11-09T20:02:37.197Z"
   },
   {
    "duration": 4,
    "start_time": "2022-11-09T20:02:37.236Z"
   },
   {
    "duration": 22,
    "start_time": "2022-11-09T20:02:37.242Z"
   },
   {
    "duration": 13,
    "start_time": "2022-11-09T20:02:37.266Z"
   },
   {
    "duration": 20,
    "start_time": "2022-11-09T20:02:37.280Z"
   },
   {
    "duration": 20,
    "start_time": "2022-11-09T20:02:37.330Z"
   },
   {
    "duration": 5,
    "start_time": "2022-11-09T20:02:37.352Z"
   },
   {
    "duration": 104,
    "start_time": "2022-11-09T20:02:37.359Z"
   },
   {
    "duration": 10,
    "start_time": "2022-11-09T20:02:37.465Z"
   },
   {
    "duration": 30,
    "start_time": "2022-11-09T20:02:37.477Z"
   },
   {
    "duration": 308,
    "start_time": "2022-11-09T20:02:37.512Z"
   },
   {
    "duration": 20,
    "start_time": "2022-11-09T20:02:37.822Z"
   },
   {
    "duration": 138,
    "start_time": "2022-11-09T20:02:37.843Z"
   },
   {
    "duration": 326,
    "start_time": "2022-11-09T20:02:37.982Z"
   },
   {
    "duration": 205,
    "start_time": "2022-11-09T20:02:38.309Z"
   },
   {
    "duration": 252,
    "start_time": "2022-11-09T20:02:38.515Z"
   },
   {
    "duration": 93,
    "start_time": "2022-11-09T20:02:38.769Z"
   },
   {
    "duration": 113,
    "start_time": "2022-11-09T20:02:38.863Z"
   },
   {
    "duration": 101,
    "start_time": "2022-11-09T20:02:38.978Z"
   },
   {
    "duration": 111,
    "start_time": "2022-11-09T20:02:39.080Z"
   },
   {
    "duration": 272,
    "start_time": "2022-11-09T20:02:39.192Z"
   },
   {
    "duration": 195,
    "start_time": "2022-11-09T20:02:39.466Z"
   },
   {
    "duration": 163,
    "start_time": "2022-11-09T20:02:39.662Z"
   },
   {
    "duration": 169,
    "start_time": "2022-11-09T20:02:39.830Z"
   },
   {
    "duration": 313,
    "start_time": "2022-11-09T20:02:40.001Z"
   },
   {
    "duration": 23,
    "start_time": "2022-11-09T20:02:40.315Z"
   },
   {
    "duration": 11,
    "start_time": "2022-11-09T20:02:40.340Z"
   },
   {
    "duration": 5,
    "start_time": "2022-11-09T20:02:40.352Z"
   },
   {
    "duration": 37,
    "start_time": "2022-11-09T20:02:40.359Z"
   },
   {
    "duration": 3,
    "start_time": "2022-11-09T20:02:40.398Z"
   },
   {
    "duration": 24009,
    "start_time": "2022-11-09T20:02:40.430Z"
   },
   {
    "duration": 5,
    "start_time": "2022-11-09T20:03:04.440Z"
   },
   {
    "duration": 237,
    "start_time": "2022-11-09T20:03:08.979Z"
   },
   {
    "duration": 334,
    "start_time": "2022-11-09T20:03:29.117Z"
   },
   {
    "duration": 141,
    "start_time": "2022-11-09T20:04:11.586Z"
   },
   {
    "duration": 127,
    "start_time": "2022-11-09T20:04:35.325Z"
   },
   {
    "duration": 29,
    "start_time": "2022-11-09T20:05:08.377Z"
   },
   {
    "duration": 1548,
    "start_time": "2022-11-09T20:05:19.263Z"
   },
   {
    "duration": 89,
    "start_time": "2022-11-09T20:05:20.814Z"
   },
   {
    "duration": 3,
    "start_time": "2022-11-09T20:05:20.905Z"
   },
   {
    "duration": 7,
    "start_time": "2022-11-09T20:05:20.909Z"
   },
   {
    "duration": 65,
    "start_time": "2022-11-09T20:05:20.918Z"
   },
   {
    "duration": 6,
    "start_time": "2022-11-09T20:05:20.985Z"
   },
   {
    "duration": 73,
    "start_time": "2022-11-09T20:05:20.993Z"
   },
   {
    "duration": 6,
    "start_time": "2022-11-09T20:05:21.070Z"
   },
   {
    "duration": 53,
    "start_time": "2022-11-09T20:05:21.078Z"
   },
   {
    "duration": 5,
    "start_time": "2022-11-09T20:05:21.134Z"
   },
   {
    "duration": 34,
    "start_time": "2022-11-09T20:05:21.141Z"
   },
   {
    "duration": 6,
    "start_time": "2022-11-09T20:05:21.176Z"
   },
   {
    "duration": 60,
    "start_time": "2022-11-09T20:05:21.183Z"
   },
   {
    "duration": 155,
    "start_time": "2022-11-09T20:05:21.246Z"
   },
   {
    "duration": 21,
    "start_time": "2022-11-09T20:05:21.403Z"
   },
   {
    "duration": 33,
    "start_time": "2022-11-09T20:05:21.426Z"
   },
   {
    "duration": 21,
    "start_time": "2022-11-09T20:05:21.462Z"
   },
   {
    "duration": 10,
    "start_time": "2022-11-09T20:05:21.485Z"
   },
   {
    "duration": 22,
    "start_time": "2022-11-09T20:05:21.498Z"
   },
   {
    "duration": 6,
    "start_time": "2022-11-09T20:05:21.522Z"
   },
   {
    "duration": 22,
    "start_time": "2022-11-09T20:05:21.530Z"
   },
   {
    "duration": 13,
    "start_time": "2022-11-09T20:05:21.553Z"
   },
   {
    "duration": 36,
    "start_time": "2022-11-09T20:05:21.568Z"
   },
   {
    "duration": 35,
    "start_time": "2022-11-09T20:05:21.606Z"
   },
   {
    "duration": 5,
    "start_time": "2022-11-09T20:05:21.643Z"
   },
   {
    "duration": 190,
    "start_time": "2022-11-09T20:05:21.649Z"
   },
   {
    "duration": 8,
    "start_time": "2022-11-09T20:05:21.841Z"
   },
   {
    "duration": 16,
    "start_time": "2022-11-09T20:05:21.851Z"
   },
   {
    "duration": 327,
    "start_time": "2022-11-09T20:05:21.869Z"
   },
   {
    "duration": 49,
    "start_time": "2022-11-09T20:05:22.198Z"
   },
   {
    "duration": 226,
    "start_time": "2022-11-09T20:05:22.249Z"
   },
   {
    "duration": 438,
    "start_time": "2022-11-09T20:05:22.477Z"
   },
   {
    "duration": 216,
    "start_time": "2022-11-09T20:05:22.917Z"
   },
   {
    "duration": 342,
    "start_time": "2022-11-09T20:05:23.135Z"
   },
   {
    "duration": 103,
    "start_time": "2022-11-09T20:05:23.479Z"
   },
   {
    "duration": 123,
    "start_time": "2022-11-09T20:05:23.584Z"
   },
   {
    "duration": 96,
    "start_time": "2022-11-09T20:05:23.709Z"
   },
   {
    "duration": 95,
    "start_time": "2022-11-09T20:05:23.807Z"
   },
   {
    "duration": 209,
    "start_time": "2022-11-09T20:05:23.904Z"
   },
   {
    "duration": 297,
    "start_time": "2022-11-09T20:05:24.115Z"
   },
   {
    "duration": 166,
    "start_time": "2022-11-09T20:05:24.416Z"
   },
   {
    "duration": 170,
    "start_time": "2022-11-09T20:05:24.584Z"
   },
   {
    "duration": 275,
    "start_time": "2022-11-09T20:05:24.755Z"
   },
   {
    "duration": 18,
    "start_time": "2022-11-09T20:05:25.032Z"
   },
   {
    "duration": 15,
    "start_time": "2022-11-09T20:05:25.052Z"
   },
   {
    "duration": 5,
    "start_time": "2022-11-09T20:05:25.069Z"
   },
   {
    "duration": 38,
    "start_time": "2022-11-09T20:05:25.075Z"
   },
   {
    "duration": 4,
    "start_time": "2022-11-09T20:05:25.130Z"
   },
   {
    "duration": 23597,
    "start_time": "2022-11-09T20:05:25.136Z"
   },
   {
    "duration": 4,
    "start_time": "2022-11-09T20:05:48.736Z"
   },
   {
    "duration": 277,
    "start_time": "2022-11-09T20:05:48.742Z"
   },
   {
    "duration": 8312,
    "start_time": "2022-11-09T20:05:49.021Z"
   },
   {
    "duration": 413,
    "start_time": "2022-11-09T20:05:57.335Z"
   },
   {
    "duration": 720,
    "start_time": "2022-11-09T20:05:57.750Z"
   },
   {
    "duration": 274,
    "start_time": "2022-11-09T20:05:58.472Z"
   },
   {
    "duration": 27621,
    "start_time": "2022-11-09T20:05:58.748Z"
   },
   {
    "duration": 123,
    "start_time": "2022-11-09T20:06:26.370Z"
   },
   {
    "duration": 3,
    "start_time": "2022-11-09T20:06:26.495Z"
   },
   {
    "duration": 261090,
    "start_time": "2022-11-09T20:06:26.500Z"
   },
   {
    "duration": 238,
    "start_time": "2022-11-09T20:10:47.592Z"
   },
   {
    "duration": 7,
    "start_time": "2022-11-09T20:10:47.832Z"
   },
   {
    "duration": 10,
    "start_time": "2022-11-09T20:10:47.840Z"
   },
   {
    "duration": 124,
    "start_time": "2022-11-09T20:10:47.852Z"
   },
   {
    "duration": 13265,
    "start_time": "2022-11-09T20:10:47.978Z"
   },
   {
    "duration": 192,
    "start_time": "2022-11-09T20:11:01.245Z"
   },
   {
    "duration": 10,
    "start_time": "2022-11-09T20:11:01.439Z"
   },
   {
    "duration": 341,
    "start_time": "2022-11-09T20:11:01.450Z"
   }
  ],
  "kernelspec": {
   "display_name": "Python 3 (ipykernel)",
   "language": "python",
   "name": "python3"
  },
  "language_info": {
   "codemirror_mode": {
    "name": "ipython",
    "version": 3
   },
   "file_extension": ".py",
   "mimetype": "text/x-python",
   "name": "python",
   "nbconvert_exporter": "python",
   "pygments_lexer": "ipython3",
   "version": "3.9.7"
  },
  "toc": {
   "base_numbering": 1,
   "nav_menu": {},
   "number_sections": true,
   "sideBar": true,
   "skip_h1_title": true,
   "title_cell": "Table of Contents",
   "title_sidebar": "Contents",
   "toc_cell": false,
   "toc_position": {
    "height": "calc(100% - 180px)",
    "left": "10px",
    "top": "150px",
    "width": "218.425px"
   },
   "toc_section_display": true,
   "toc_window_display": true
  }
 },
 "nbformat": 4,
 "nbformat_minor": 5
}
