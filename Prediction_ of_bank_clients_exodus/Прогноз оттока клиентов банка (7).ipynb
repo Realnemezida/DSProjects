{
 "cells": [
  {
   "cell_type": "markdown",
   "metadata": {},
   "source": [
    "# Отток клиентов"
   ]
  },
  {
   "cell_type": "markdown",
   "metadata": {},
   "source": [
    "Из «Бета-Банка» стали уходить клиенты. Каждый месяц. Немного, но заметно. Банковские маркетологи посчитали: сохранять текущих клиентов дешевле, чем привлекать новых.\n",
    "\n",
    "Нужно спрогнозировать, уйдёт клиент из банка в ближайшее время или нет. Для анализа есть исторические данные о поведении клиентов и расторжении договоров с банком. \n",
    "\n",
    "Построим модель с предельно большим значением *F1*-меры.\n",
    "\n",
    "Дополнительно измерим *AUC-ROC*, сравнивая её значение с *F1*-мерой.\n",
    "\n",
    "Источник данных: [https://www.kaggle.com/barelydedicated/bank-customer-churn-modeling](https://www.kaggle.com/barelydedicated/bank-customer-churn-modeling)"
   ]
  },
  {
   "cell_type": "markdown",
   "metadata": {},
   "source": [
    "**Описание данных**\n",
    "\n",
    "*Признаки:*\n",
    "- RowNumber — индекс строки в данных\n",
    "- CustomerId — уникальный идентификатор клиента\n",
    "- Surname — фамилия\n",
    "- CreditScore — кредитный рейтинг\n",
    "- Geography — страна проживания\n",
    "- Gender — пол\n",
    "- Age — возраст\n",
    "- Tenure — сколько лет человек является клиентом банка\n",
    "- Balance — баланс на счёте\n",
    "- NumOfProducts — количество продуктов банка, используемых клиентом\n",
    "- HasCrCard — наличие кредитной карты\n",
    "- IsActiveMember — активность клиента\n",
    "- EstimatedSalary — предполагаемая зарплата\n",
    "\n",
    "*Целевой признак*\n",
    "\n",
    "- Exited — факт ухода клиента"
   ]
  },
  {
   "cell_type": "markdown",
   "metadata": {},
   "source": [
    "## Подготовка данных"
   ]
  },
  {
   "cell_type": "code",
   "execution_count": 1,
   "metadata": {},
   "outputs": [],
   "source": [
    "import pandas as pd\n",
    "\n",
    "from sklearn.compose import ColumnTransformer\n",
    "from sklearn.dummy import DummyClassifier\n",
    "from sklearn.ensemble import RandomForestClassifier\n",
    "from sklearn.linear_model import LogisticRegression\n",
    "from sklearn.metrics import accuracy_score\n",
    "from sklearn.metrics import confusion_matrix, ConfusionMatrixDisplay\n",
    "from sklearn.metrics import f1_score\n",
    "from sklearn.metrics import roc_auc_score\n",
    "from sklearn.metrics import roc_curve\n",
    "from sklearn.model_selection import GridSearchCV\n",
    "from sklearn.model_selection import RandomizedSearchCV\n",
    "from sklearn.model_selection import train_test_split\n",
    "from sklearn.preprocessing import OneHotEncoder\n",
    "from sklearn.preprocessing import StandardScaler\n",
    "from sklearn.tree import DecisionTreeClassifier\n",
    "from sklearn.utils import shuffle\n",
    "\n",
    "from catboost import CatBoostClassifier\n",
    "\n",
    "import matplotlib.pyplot as plt\n",
    "\n",
    "import warnings\n",
    "warnings.filterwarnings('ignore', category=FutureWarning) "
   ]
  },
  {
   "cell_type": "code",
   "execution_count": 2,
   "metadata": {},
   "outputs": [],
   "source": [
    "try: # чтение файла с сайта\n",
    "    df = pd.read_csv('/datasets/Churn.csv')\n",
    "except: # чтение файла локально\n",
    "    df = pd.read_csv('datasets/Churn.csv')"
   ]
  },
  {
   "cell_type": "markdown",
   "metadata": {},
   "source": [
    "Обзор данных:"
   ]
  },
  {
   "cell_type": "code",
   "execution_count": 3,
   "metadata": {},
   "outputs": [
    {
     "data": {
      "text/html": [
       "<div>\n",
       "<style scoped>\n",
       "    .dataframe tbody tr th:only-of-type {\n",
       "        vertical-align: middle;\n",
       "    }\n",
       "\n",
       "    .dataframe tbody tr th {\n",
       "        vertical-align: top;\n",
       "    }\n",
       "\n",
       "    .dataframe thead th {\n",
       "        text-align: right;\n",
       "    }\n",
       "</style>\n",
       "<table border=\"1\" class=\"dataframe\">\n",
       "  <thead>\n",
       "    <tr style=\"text-align: right;\">\n",
       "      <th></th>\n",
       "      <th>RowNumber</th>\n",
       "      <th>CustomerId</th>\n",
       "      <th>Surname</th>\n",
       "      <th>CreditScore</th>\n",
       "      <th>Geography</th>\n",
       "      <th>Gender</th>\n",
       "      <th>Age</th>\n",
       "      <th>Tenure</th>\n",
       "      <th>Balance</th>\n",
       "      <th>NumOfProducts</th>\n",
       "      <th>HasCrCard</th>\n",
       "      <th>IsActiveMember</th>\n",
       "      <th>EstimatedSalary</th>\n",
       "      <th>Exited</th>\n",
       "    </tr>\n",
       "  </thead>\n",
       "  <tbody>\n",
       "    <tr>\n",
       "      <th>0</th>\n",
       "      <td>1</td>\n",
       "      <td>15634602</td>\n",
       "      <td>Hargrave</td>\n",
       "      <td>619</td>\n",
       "      <td>France</td>\n",
       "      <td>Female</td>\n",
       "      <td>42</td>\n",
       "      <td>2.0</td>\n",
       "      <td>0.00</td>\n",
       "      <td>1</td>\n",
       "      <td>1</td>\n",
       "      <td>1</td>\n",
       "      <td>101348.88</td>\n",
       "      <td>1</td>\n",
       "    </tr>\n",
       "    <tr>\n",
       "      <th>1</th>\n",
       "      <td>2</td>\n",
       "      <td>15647311</td>\n",
       "      <td>Hill</td>\n",
       "      <td>608</td>\n",
       "      <td>Spain</td>\n",
       "      <td>Female</td>\n",
       "      <td>41</td>\n",
       "      <td>1.0</td>\n",
       "      <td>83807.86</td>\n",
       "      <td>1</td>\n",
       "      <td>0</td>\n",
       "      <td>1</td>\n",
       "      <td>112542.58</td>\n",
       "      <td>0</td>\n",
       "    </tr>\n",
       "    <tr>\n",
       "      <th>2</th>\n",
       "      <td>3</td>\n",
       "      <td>15619304</td>\n",
       "      <td>Onio</td>\n",
       "      <td>502</td>\n",
       "      <td>France</td>\n",
       "      <td>Female</td>\n",
       "      <td>42</td>\n",
       "      <td>8.0</td>\n",
       "      <td>159660.80</td>\n",
       "      <td>3</td>\n",
       "      <td>1</td>\n",
       "      <td>0</td>\n",
       "      <td>113931.57</td>\n",
       "      <td>1</td>\n",
       "    </tr>\n",
       "    <tr>\n",
       "      <th>3</th>\n",
       "      <td>4</td>\n",
       "      <td>15701354</td>\n",
       "      <td>Boni</td>\n",
       "      <td>699</td>\n",
       "      <td>France</td>\n",
       "      <td>Female</td>\n",
       "      <td>39</td>\n",
       "      <td>1.0</td>\n",
       "      <td>0.00</td>\n",
       "      <td>2</td>\n",
       "      <td>0</td>\n",
       "      <td>0</td>\n",
       "      <td>93826.63</td>\n",
       "      <td>0</td>\n",
       "    </tr>\n",
       "    <tr>\n",
       "      <th>4</th>\n",
       "      <td>5</td>\n",
       "      <td>15737888</td>\n",
       "      <td>Mitchell</td>\n",
       "      <td>850</td>\n",
       "      <td>Spain</td>\n",
       "      <td>Female</td>\n",
       "      <td>43</td>\n",
       "      <td>2.0</td>\n",
       "      <td>125510.82</td>\n",
       "      <td>1</td>\n",
       "      <td>1</td>\n",
       "      <td>1</td>\n",
       "      <td>79084.10</td>\n",
       "      <td>0</td>\n",
       "    </tr>\n",
       "  </tbody>\n",
       "</table>\n",
       "</div>"
      ],
      "text/plain": [
       "   RowNumber  CustomerId   Surname  CreditScore Geography  Gender  Age  \\\n",
       "0          1    15634602  Hargrave          619    France  Female   42   \n",
       "1          2    15647311      Hill          608     Spain  Female   41   \n",
       "2          3    15619304      Onio          502    France  Female   42   \n",
       "3          4    15701354      Boni          699    France  Female   39   \n",
       "4          5    15737888  Mitchell          850     Spain  Female   43   \n",
       "\n",
       "   Tenure    Balance  NumOfProducts  HasCrCard  IsActiveMember  \\\n",
       "0     2.0       0.00              1          1               1   \n",
       "1     1.0   83807.86              1          0               1   \n",
       "2     8.0  159660.80              3          1               0   \n",
       "3     1.0       0.00              2          0               0   \n",
       "4     2.0  125510.82              1          1               1   \n",
       "\n",
       "   EstimatedSalary  Exited  \n",
       "0        101348.88       1  \n",
       "1        112542.58       0  \n",
       "2        113931.57       1  \n",
       "3         93826.63       0  \n",
       "4         79084.10       0  "
      ]
     },
     "metadata": {},
     "output_type": "display_data"
    },
    {
     "name": "stdout",
     "output_type": "stream",
     "text": [
      "--------------------------------------\n",
      "Размер:\n",
      "(10000, 14)\n",
      "--------------------------------------\n",
      "Информация:\n",
      "<class 'pandas.core.frame.DataFrame'>\n",
      "RangeIndex: 10000 entries, 0 to 9999\n",
      "Data columns (total 14 columns):\n",
      " #   Column           Non-Null Count  Dtype  \n",
      "---  ------           --------------  -----  \n",
      " 0   RowNumber        10000 non-null  int64  \n",
      " 1   CustomerId       10000 non-null  int64  \n",
      " 2   Surname          10000 non-null  object \n",
      " 3   CreditScore      10000 non-null  int64  \n",
      " 4   Geography        10000 non-null  object \n",
      " 5   Gender           10000 non-null  object \n",
      " 6   Age              10000 non-null  int64  \n",
      " 7   Tenure           9091 non-null   float64\n",
      " 8   Balance          10000 non-null  float64\n",
      " 9   NumOfProducts    10000 non-null  int64  \n",
      " 10  HasCrCard        10000 non-null  int64  \n",
      " 11  IsActiveMember   10000 non-null  int64  \n",
      " 12  EstimatedSalary  10000 non-null  float64\n",
      " 13  Exited           10000 non-null  int64  \n",
      "dtypes: float64(3), int64(8), object(3)\n",
      "memory usage: 1.1+ MB\n",
      "None\n",
      "--------------------------------------\n",
      "Дубликаты:\n",
      "0\n",
      "--------------------------------------\n",
      "Пропуски:\n",
      "RowNumber            0\n",
      "CustomerId           0\n",
      "Surname              0\n",
      "CreditScore          0\n",
      "Geography            0\n",
      "Gender               0\n",
      "Age                  0\n",
      "Tenure             909\n",
      "Balance              0\n",
      "NumOfProducts        0\n",
      "HasCrCard            0\n",
      "IsActiveMember       0\n",
      "EstimatedSalary      0\n",
      "Exited               0\n",
      "dtype: int64\n",
      "--------------------------------------\n",
      "Описание данных:\n"
     ]
    },
    {
     "data": {
      "text/html": [
       "<div>\n",
       "<style scoped>\n",
       "    .dataframe tbody tr th:only-of-type {\n",
       "        vertical-align: middle;\n",
       "    }\n",
       "\n",
       "    .dataframe tbody tr th {\n",
       "        vertical-align: top;\n",
       "    }\n",
       "\n",
       "    .dataframe thead th {\n",
       "        text-align: right;\n",
       "    }\n",
       "</style>\n",
       "<table border=\"1\" class=\"dataframe\">\n",
       "  <thead>\n",
       "    <tr style=\"text-align: right;\">\n",
       "      <th></th>\n",
       "      <th>RowNumber</th>\n",
       "      <th>CustomerId</th>\n",
       "      <th>Surname</th>\n",
       "      <th>CreditScore</th>\n",
       "      <th>Geography</th>\n",
       "      <th>Gender</th>\n",
       "      <th>Age</th>\n",
       "      <th>Tenure</th>\n",
       "      <th>Balance</th>\n",
       "      <th>NumOfProducts</th>\n",
       "      <th>HasCrCard</th>\n",
       "      <th>IsActiveMember</th>\n",
       "      <th>EstimatedSalary</th>\n",
       "      <th>Exited</th>\n",
       "    </tr>\n",
       "  </thead>\n",
       "  <tbody>\n",
       "    <tr>\n",
       "      <th>count</th>\n",
       "      <td>10000.00000</td>\n",
       "      <td>1.000000e+04</td>\n",
       "      <td>10000</td>\n",
       "      <td>10000.000000</td>\n",
       "      <td>10000</td>\n",
       "      <td>10000</td>\n",
       "      <td>10000.000000</td>\n",
       "      <td>9091.000000</td>\n",
       "      <td>10000.000000</td>\n",
       "      <td>10000.000000</td>\n",
       "      <td>10000.00000</td>\n",
       "      <td>10000.000000</td>\n",
       "      <td>10000.000000</td>\n",
       "      <td>10000.000000</td>\n",
       "    </tr>\n",
       "    <tr>\n",
       "      <th>unique</th>\n",
       "      <td>NaN</td>\n",
       "      <td>NaN</td>\n",
       "      <td>2932</td>\n",
       "      <td>NaN</td>\n",
       "      <td>3</td>\n",
       "      <td>2</td>\n",
       "      <td>NaN</td>\n",
       "      <td>NaN</td>\n",
       "      <td>NaN</td>\n",
       "      <td>NaN</td>\n",
       "      <td>NaN</td>\n",
       "      <td>NaN</td>\n",
       "      <td>NaN</td>\n",
       "      <td>NaN</td>\n",
       "    </tr>\n",
       "    <tr>\n",
       "      <th>top</th>\n",
       "      <td>NaN</td>\n",
       "      <td>NaN</td>\n",
       "      <td>Smith</td>\n",
       "      <td>NaN</td>\n",
       "      <td>France</td>\n",
       "      <td>Male</td>\n",
       "      <td>NaN</td>\n",
       "      <td>NaN</td>\n",
       "      <td>NaN</td>\n",
       "      <td>NaN</td>\n",
       "      <td>NaN</td>\n",
       "      <td>NaN</td>\n",
       "      <td>NaN</td>\n",
       "      <td>NaN</td>\n",
       "    </tr>\n",
       "    <tr>\n",
       "      <th>freq</th>\n",
       "      <td>NaN</td>\n",
       "      <td>NaN</td>\n",
       "      <td>32</td>\n",
       "      <td>NaN</td>\n",
       "      <td>5014</td>\n",
       "      <td>5457</td>\n",
       "      <td>NaN</td>\n",
       "      <td>NaN</td>\n",
       "      <td>NaN</td>\n",
       "      <td>NaN</td>\n",
       "      <td>NaN</td>\n",
       "      <td>NaN</td>\n",
       "      <td>NaN</td>\n",
       "      <td>NaN</td>\n",
       "    </tr>\n",
       "    <tr>\n",
       "      <th>mean</th>\n",
       "      <td>5000.50000</td>\n",
       "      <td>1.569094e+07</td>\n",
       "      <td>NaN</td>\n",
       "      <td>650.528800</td>\n",
       "      <td>NaN</td>\n",
       "      <td>NaN</td>\n",
       "      <td>38.921800</td>\n",
       "      <td>4.997690</td>\n",
       "      <td>76485.889288</td>\n",
       "      <td>1.530200</td>\n",
       "      <td>0.70550</td>\n",
       "      <td>0.515100</td>\n",
       "      <td>100090.239881</td>\n",
       "      <td>0.203700</td>\n",
       "    </tr>\n",
       "    <tr>\n",
       "      <th>std</th>\n",
       "      <td>2886.89568</td>\n",
       "      <td>7.193619e+04</td>\n",
       "      <td>NaN</td>\n",
       "      <td>96.653299</td>\n",
       "      <td>NaN</td>\n",
       "      <td>NaN</td>\n",
       "      <td>10.487806</td>\n",
       "      <td>2.894723</td>\n",
       "      <td>62397.405202</td>\n",
       "      <td>0.581654</td>\n",
       "      <td>0.45584</td>\n",
       "      <td>0.499797</td>\n",
       "      <td>57510.492818</td>\n",
       "      <td>0.402769</td>\n",
       "    </tr>\n",
       "    <tr>\n",
       "      <th>min</th>\n",
       "      <td>1.00000</td>\n",
       "      <td>1.556570e+07</td>\n",
       "      <td>NaN</td>\n",
       "      <td>350.000000</td>\n",
       "      <td>NaN</td>\n",
       "      <td>NaN</td>\n",
       "      <td>18.000000</td>\n",
       "      <td>0.000000</td>\n",
       "      <td>0.000000</td>\n",
       "      <td>1.000000</td>\n",
       "      <td>0.00000</td>\n",
       "      <td>0.000000</td>\n",
       "      <td>11.580000</td>\n",
       "      <td>0.000000</td>\n",
       "    </tr>\n",
       "    <tr>\n",
       "      <th>25%</th>\n",
       "      <td>2500.75000</td>\n",
       "      <td>1.562853e+07</td>\n",
       "      <td>NaN</td>\n",
       "      <td>584.000000</td>\n",
       "      <td>NaN</td>\n",
       "      <td>NaN</td>\n",
       "      <td>32.000000</td>\n",
       "      <td>2.000000</td>\n",
       "      <td>0.000000</td>\n",
       "      <td>1.000000</td>\n",
       "      <td>0.00000</td>\n",
       "      <td>0.000000</td>\n",
       "      <td>51002.110000</td>\n",
       "      <td>0.000000</td>\n",
       "    </tr>\n",
       "    <tr>\n",
       "      <th>50%</th>\n",
       "      <td>5000.50000</td>\n",
       "      <td>1.569074e+07</td>\n",
       "      <td>NaN</td>\n",
       "      <td>652.000000</td>\n",
       "      <td>NaN</td>\n",
       "      <td>NaN</td>\n",
       "      <td>37.000000</td>\n",
       "      <td>5.000000</td>\n",
       "      <td>97198.540000</td>\n",
       "      <td>1.000000</td>\n",
       "      <td>1.00000</td>\n",
       "      <td>1.000000</td>\n",
       "      <td>100193.915000</td>\n",
       "      <td>0.000000</td>\n",
       "    </tr>\n",
       "    <tr>\n",
       "      <th>75%</th>\n",
       "      <td>7500.25000</td>\n",
       "      <td>1.575323e+07</td>\n",
       "      <td>NaN</td>\n",
       "      <td>718.000000</td>\n",
       "      <td>NaN</td>\n",
       "      <td>NaN</td>\n",
       "      <td>44.000000</td>\n",
       "      <td>7.000000</td>\n",
       "      <td>127644.240000</td>\n",
       "      <td>2.000000</td>\n",
       "      <td>1.00000</td>\n",
       "      <td>1.000000</td>\n",
       "      <td>149388.247500</td>\n",
       "      <td>0.000000</td>\n",
       "    </tr>\n",
       "    <tr>\n",
       "      <th>max</th>\n",
       "      <td>10000.00000</td>\n",
       "      <td>1.581569e+07</td>\n",
       "      <td>NaN</td>\n",
       "      <td>850.000000</td>\n",
       "      <td>NaN</td>\n",
       "      <td>NaN</td>\n",
       "      <td>92.000000</td>\n",
       "      <td>10.000000</td>\n",
       "      <td>250898.090000</td>\n",
       "      <td>4.000000</td>\n",
       "      <td>1.00000</td>\n",
       "      <td>1.000000</td>\n",
       "      <td>199992.480000</td>\n",
       "      <td>1.000000</td>\n",
       "    </tr>\n",
       "  </tbody>\n",
       "</table>\n",
       "</div>"
      ],
      "text/plain": [
       "          RowNumber    CustomerId Surname   CreditScore Geography Gender  \\\n",
       "count   10000.00000  1.000000e+04   10000  10000.000000     10000  10000   \n",
       "unique          NaN           NaN    2932           NaN         3      2   \n",
       "top             NaN           NaN   Smith           NaN    France   Male   \n",
       "freq            NaN           NaN      32           NaN      5014   5457   \n",
       "mean     5000.50000  1.569094e+07     NaN    650.528800       NaN    NaN   \n",
       "std      2886.89568  7.193619e+04     NaN     96.653299       NaN    NaN   \n",
       "min         1.00000  1.556570e+07     NaN    350.000000       NaN    NaN   \n",
       "25%      2500.75000  1.562853e+07     NaN    584.000000       NaN    NaN   \n",
       "50%      5000.50000  1.569074e+07     NaN    652.000000       NaN    NaN   \n",
       "75%      7500.25000  1.575323e+07     NaN    718.000000       NaN    NaN   \n",
       "max     10000.00000  1.581569e+07     NaN    850.000000       NaN    NaN   \n",
       "\n",
       "                 Age       Tenure        Balance  NumOfProducts    HasCrCard  \\\n",
       "count   10000.000000  9091.000000   10000.000000   10000.000000  10000.00000   \n",
       "unique           NaN          NaN            NaN            NaN          NaN   \n",
       "top              NaN          NaN            NaN            NaN          NaN   \n",
       "freq             NaN          NaN            NaN            NaN          NaN   \n",
       "mean       38.921800     4.997690   76485.889288       1.530200      0.70550   \n",
       "std        10.487806     2.894723   62397.405202       0.581654      0.45584   \n",
       "min        18.000000     0.000000       0.000000       1.000000      0.00000   \n",
       "25%        32.000000     2.000000       0.000000       1.000000      0.00000   \n",
       "50%        37.000000     5.000000   97198.540000       1.000000      1.00000   \n",
       "75%        44.000000     7.000000  127644.240000       2.000000      1.00000   \n",
       "max        92.000000    10.000000  250898.090000       4.000000      1.00000   \n",
       "\n",
       "        IsActiveMember  EstimatedSalary        Exited  \n",
       "count     10000.000000     10000.000000  10000.000000  \n",
       "unique             NaN              NaN           NaN  \n",
       "top                NaN              NaN           NaN  \n",
       "freq               NaN              NaN           NaN  \n",
       "mean          0.515100    100090.239881      0.203700  \n",
       "std           0.499797     57510.492818      0.402769  \n",
       "min           0.000000        11.580000      0.000000  \n",
       "25%           0.000000     51002.110000      0.000000  \n",
       "50%           1.000000    100193.915000      0.000000  \n",
       "75%           1.000000    149388.247500      0.000000  \n",
       "max           1.000000    199992.480000      1.000000  "
      ]
     },
     "metadata": {},
     "output_type": "display_data"
    }
   ],
   "source": [
    "display(df.head())\n",
    "print('--------------------------------------')\n",
    "print('Размер:')\n",
    "print(df.shape)\n",
    "print('--------------------------------------')\n",
    "print('Информация:')\n",
    "print(df.info())\n",
    "print('--------------------------------------')\n",
    "print('Дубликаты:')\n",
    "print(df.duplicated().sum())\n",
    "print('--------------------------------------')\n",
    "print('Пропуски:')\n",
    "print(df.isna().sum())\n",
    "print('--------------------------------------')\n",
    "print('Описание данных:')\n",
    "display(df.describe(include='all'))"
   ]
  },
  {
   "cell_type": "markdown",
   "metadata": {},
   "source": [
    "Дубликатов нет. Типы данных соответствуют оптимальным. Пропуски есть в столбце 'Tenure', который хранит информацию, сколько лет человек является клиентом банка."
   ]
  },
  {
   "cell_type": "markdown",
   "metadata": {},
   "source": [
    "В датасете есть столбец, который повторяет индекс. Он не несёт информации, удалим его."
   ]
  },
  {
   "cell_type": "code",
   "execution_count": 4,
   "metadata": {},
   "outputs": [],
   "source": [
    "df = df.drop('RowNumber', axis=1) # из исходного датасета убираем номер строки."
   ]
  },
  {
   "cell_type": "markdown",
   "metadata": {},
   "source": [
    "По описанию данных, названия столбцов написаны в \"верблюжьем регистре\". Проверим. "
   ]
  },
  {
   "cell_type": "code",
   "execution_count": 5,
   "metadata": {
    "scrolled": true
   },
   "outputs": [
    {
     "data": {
      "text/plain": [
       "Index(['CustomerId', 'Surname', 'CreditScore', 'Geography', 'Gender', 'Age',\n",
       "       'Tenure', 'Balance', 'NumOfProducts', 'HasCrCard', 'IsActiveMember',\n",
       "       'EstimatedSalary', 'Exited'],\n",
       "      dtype='object')"
      ]
     },
     "execution_count": 5,
     "metadata": {},
     "output_type": "execute_result"
    }
   ],
   "source": [
    "df.columns"
   ]
  },
  {
   "cell_type": "markdown",
   "metadata": {},
   "source": [
    "Названия столбцов заменим на 'змеиный регистр'."
   ]
  },
  {
   "cell_type": "code",
   "execution_count": 6,
   "metadata": {
    "scrolled": true
   },
   "outputs": [
    {
     "data": {
      "text/plain": [
       "Index(['customer_id', 'surname', 'credit_score', 'geography', 'gender', 'age',\n",
       "       'tenure', 'balance', 'num_of_products', 'has_cr_card',\n",
       "       'is_active_member', 'estimated_salary', 'exited'],\n",
       "      dtype='object')"
      ]
     },
     "execution_count": 6,
     "metadata": {},
     "output_type": "execute_result"
    }
   ],
   "source": [
    "df.columns = df.columns.str.replace(r\"([a-z])([A-Z])\", r\"\\1 \\2\").str.lower().str.replace(' ', '_')\n",
    "df.columns"
   ]
  },
  {
   "cell_type": "markdown",
   "metadata": {},
   "source": [
    "Посмотрим на пропуски в столбце 'tenure'."
   ]
  },
  {
   "cell_type": "code",
   "execution_count": 7,
   "metadata": {},
   "outputs": [
    {
     "data": {
      "text/html": [
       "<div>\n",
       "<style scoped>\n",
       "    .dataframe tbody tr th:only-of-type {\n",
       "        vertical-align: middle;\n",
       "    }\n",
       "\n",
       "    .dataframe tbody tr th {\n",
       "        vertical-align: top;\n",
       "    }\n",
       "\n",
       "    .dataframe thead th {\n",
       "        text-align: right;\n",
       "    }\n",
       "</style>\n",
       "<table border=\"1\" class=\"dataframe\">\n",
       "  <thead>\n",
       "    <tr style=\"text-align: right;\">\n",
       "      <th></th>\n",
       "      <th>customer_id</th>\n",
       "      <th>surname</th>\n",
       "      <th>credit_score</th>\n",
       "      <th>geography</th>\n",
       "      <th>gender</th>\n",
       "      <th>age</th>\n",
       "      <th>tenure</th>\n",
       "      <th>balance</th>\n",
       "      <th>num_of_products</th>\n",
       "      <th>has_cr_card</th>\n",
       "      <th>is_active_member</th>\n",
       "      <th>estimated_salary</th>\n",
       "      <th>exited</th>\n",
       "    </tr>\n",
       "  </thead>\n",
       "  <tbody>\n",
       "    <tr>\n",
       "      <th>30</th>\n",
       "      <td>15589475</td>\n",
       "      <td>Azikiwe</td>\n",
       "      <td>591</td>\n",
       "      <td>Spain</td>\n",
       "      <td>Female</td>\n",
       "      <td>39</td>\n",
       "      <td>NaN</td>\n",
       "      <td>0.00</td>\n",
       "      <td>3</td>\n",
       "      <td>1</td>\n",
       "      <td>0</td>\n",
       "      <td>140469.38</td>\n",
       "      <td>1</td>\n",
       "    </tr>\n",
       "    <tr>\n",
       "      <th>48</th>\n",
       "      <td>15766205</td>\n",
       "      <td>Yin</td>\n",
       "      <td>550</td>\n",
       "      <td>Germany</td>\n",
       "      <td>Male</td>\n",
       "      <td>38</td>\n",
       "      <td>NaN</td>\n",
       "      <td>103391.38</td>\n",
       "      <td>1</td>\n",
       "      <td>0</td>\n",
       "      <td>1</td>\n",
       "      <td>90878.13</td>\n",
       "      <td>0</td>\n",
       "    </tr>\n",
       "    <tr>\n",
       "      <th>51</th>\n",
       "      <td>15768193</td>\n",
       "      <td>Trevisani</td>\n",
       "      <td>585</td>\n",
       "      <td>Germany</td>\n",
       "      <td>Male</td>\n",
       "      <td>36</td>\n",
       "      <td>NaN</td>\n",
       "      <td>146050.97</td>\n",
       "      <td>2</td>\n",
       "      <td>0</td>\n",
       "      <td>0</td>\n",
       "      <td>86424.57</td>\n",
       "      <td>0</td>\n",
       "    </tr>\n",
       "    <tr>\n",
       "      <th>53</th>\n",
       "      <td>15702298</td>\n",
       "      <td>Parkhill</td>\n",
       "      <td>655</td>\n",
       "      <td>Germany</td>\n",
       "      <td>Male</td>\n",
       "      <td>41</td>\n",
       "      <td>NaN</td>\n",
       "      <td>125561.97</td>\n",
       "      <td>1</td>\n",
       "      <td>0</td>\n",
       "      <td>0</td>\n",
       "      <td>164040.94</td>\n",
       "      <td>1</td>\n",
       "    </tr>\n",
       "    <tr>\n",
       "      <th>60</th>\n",
       "      <td>15651280</td>\n",
       "      <td>Hunter</td>\n",
       "      <td>742</td>\n",
       "      <td>Germany</td>\n",
       "      <td>Male</td>\n",
       "      <td>35</td>\n",
       "      <td>NaN</td>\n",
       "      <td>136857.00</td>\n",
       "      <td>1</td>\n",
       "      <td>0</td>\n",
       "      <td>0</td>\n",
       "      <td>84509.57</td>\n",
       "      <td>0</td>\n",
       "    </tr>\n",
       "  </tbody>\n",
       "</table>\n",
       "</div>"
      ],
      "text/plain": [
       "    customer_id    surname  credit_score geography  gender  age  tenure  \\\n",
       "30     15589475    Azikiwe           591     Spain  Female   39     NaN   \n",
       "48     15766205        Yin           550   Germany    Male   38     NaN   \n",
       "51     15768193  Trevisani           585   Germany    Male   36     NaN   \n",
       "53     15702298   Parkhill           655   Germany    Male   41     NaN   \n",
       "60     15651280     Hunter           742   Germany    Male   35     NaN   \n",
       "\n",
       "      balance  num_of_products  has_cr_card  is_active_member  \\\n",
       "30       0.00                3            1                 0   \n",
       "48  103391.38                1            0                 1   \n",
       "51  146050.97                2            0                 0   \n",
       "53  125561.97                1            0                 0   \n",
       "60  136857.00                1            0                 0   \n",
       "\n",
       "    estimated_salary  exited  \n",
       "30         140469.38       1  \n",
       "48          90878.13       0  \n",
       "51          86424.57       0  \n",
       "53         164040.94       1  \n",
       "60          84509.57       0  "
      ]
     },
     "execution_count": 7,
     "metadata": {},
     "output_type": "execute_result"
    }
   ],
   "source": [
    "df.loc[df['tenure'].isna()].head()"
   ]
  },
  {
   "cell_type": "markdown",
   "metadata": {},
   "source": [
    "Остальные данные в этих ячейках нормальные, информативные."
   ]
  },
  {
   "cell_type": "code",
   "execution_count": 8,
   "metadata": {},
   "outputs": [
    {
     "data": {
      "image/png": "[encoded data removed]",
      "text/plain": [
       "<Figure size 432x288 with 1 Axes>"
      ]
     },
     "metadata": {
      "needs_background": "light"
     },
     "output_type": "display_data"
    }
   ],
   "source": [
    "df['tenure'].hist()\n",
    "plt.suptitle('Частотная диаграмма значений столбца tenure')\n",
    "plt.show;"
   ]
  },
  {
   "cell_type": "markdown",
   "metadata": {},
   "source": [
    "Посмотрим на числа в данных:"
   ]
  },
  {
   "cell_type": "code",
   "execution_count": 9,
   "metadata": {
    "scrolled": true
   },
   "outputs": [
    {
     "data": {
      "text/html": [
       "<div>\n",
       "<style scoped>\n",
       "    .dataframe tbody tr th:only-of-type {\n",
       "        vertical-align: middle;\n",
       "    }\n",
       "\n",
       "    .dataframe tbody tr th {\n",
       "        vertical-align: top;\n",
       "    }\n",
       "\n",
       "    .dataframe thead th {\n",
       "        text-align: right;\n",
       "    }\n",
       "</style>\n",
       "<table border=\"1\" class=\"dataframe\">\n",
       "  <thead>\n",
       "    <tr style=\"text-align: right;\">\n",
       "      <th></th>\n",
       "      <th>customer_id</th>\n",
       "      <th>credit_score</th>\n",
       "      <th>age</th>\n",
       "      <th>tenure</th>\n",
       "      <th>balance</th>\n",
       "      <th>num_of_products</th>\n",
       "      <th>has_cr_card</th>\n",
       "      <th>is_active_member</th>\n",
       "      <th>estimated_salary</th>\n",
       "      <th>exited</th>\n",
       "    </tr>\n",
       "  </thead>\n",
       "  <tbody>\n",
       "    <tr>\n",
       "      <th>count</th>\n",
       "      <td>1.000000e+04</td>\n",
       "      <td>10000.000000</td>\n",
       "      <td>10000.000000</td>\n",
       "      <td>9091.000000</td>\n",
       "      <td>10000.000000</td>\n",
       "      <td>10000.000000</td>\n",
       "      <td>10000.00000</td>\n",
       "      <td>10000.000000</td>\n",
       "      <td>10000.000000</td>\n",
       "      <td>10000.000000</td>\n",
       "    </tr>\n",
       "    <tr>\n",
       "      <th>mean</th>\n",
       "      <td>1.569094e+07</td>\n",
       "      <td>650.528800</td>\n",
       "      <td>38.921800</td>\n",
       "      <td>4.997690</td>\n",
       "      <td>76485.889288</td>\n",
       "      <td>1.530200</td>\n",
       "      <td>0.70550</td>\n",
       "      <td>0.515100</td>\n",
       "      <td>100090.239881</td>\n",
       "      <td>0.203700</td>\n",
       "    </tr>\n",
       "    <tr>\n",
       "      <th>std</th>\n",
       "      <td>7.193619e+04</td>\n",
       "      <td>96.653299</td>\n",
       "      <td>10.487806</td>\n",
       "      <td>2.894723</td>\n",
       "      <td>62397.405202</td>\n",
       "      <td>0.581654</td>\n",
       "      <td>0.45584</td>\n",
       "      <td>0.499797</td>\n",
       "      <td>57510.492818</td>\n",
       "      <td>0.402769</td>\n",
       "    </tr>\n",
       "    <tr>\n",
       "      <th>min</th>\n",
       "      <td>1.556570e+07</td>\n",
       "      <td>350.000000</td>\n",
       "      <td>18.000000</td>\n",
       "      <td>0.000000</td>\n",
       "      <td>0.000000</td>\n",
       "      <td>1.000000</td>\n",
       "      <td>0.00000</td>\n",
       "      <td>0.000000</td>\n",
       "      <td>11.580000</td>\n",
       "      <td>0.000000</td>\n",
       "    </tr>\n",
       "    <tr>\n",
       "      <th>25%</th>\n",
       "      <td>1.562853e+07</td>\n",
       "      <td>584.000000</td>\n",
       "      <td>32.000000</td>\n",
       "      <td>2.000000</td>\n",
       "      <td>0.000000</td>\n",
       "      <td>1.000000</td>\n",
       "      <td>0.00000</td>\n",
       "      <td>0.000000</td>\n",
       "      <td>51002.110000</td>\n",
       "      <td>0.000000</td>\n",
       "    </tr>\n",
       "    <tr>\n",
       "      <th>50%</th>\n",
       "      <td>1.569074e+07</td>\n",
       "      <td>652.000000</td>\n",
       "      <td>37.000000</td>\n",
       "      <td>5.000000</td>\n",
       "      <td>97198.540000</td>\n",
       "      <td>1.000000</td>\n",
       "      <td>1.00000</td>\n",
       "      <td>1.000000</td>\n",
       "      <td>100193.915000</td>\n",
       "      <td>0.000000</td>\n",
       "    </tr>\n",
       "    <tr>\n",
       "      <th>75%</th>\n",
       "      <td>1.575323e+07</td>\n",
       "      <td>718.000000</td>\n",
       "      <td>44.000000</td>\n",
       "      <td>7.000000</td>\n",
       "      <td>127644.240000</td>\n",
       "      <td>2.000000</td>\n",
       "      <td>1.00000</td>\n",
       "      <td>1.000000</td>\n",
       "      <td>149388.247500</td>\n",
       "      <td>0.000000</td>\n",
       "    </tr>\n",
       "    <tr>\n",
       "      <th>max</th>\n",
       "      <td>1.581569e+07</td>\n",
       "      <td>850.000000</td>\n",
       "      <td>92.000000</td>\n",
       "      <td>10.000000</td>\n",
       "      <td>250898.090000</td>\n",
       "      <td>4.000000</td>\n",
       "      <td>1.00000</td>\n",
       "      <td>1.000000</td>\n",
       "      <td>199992.480000</td>\n",
       "      <td>1.000000</td>\n",
       "    </tr>\n",
       "  </tbody>\n",
       "</table>\n",
       "</div>"
      ],
      "text/plain": [
       "        customer_id  credit_score           age       tenure        balance  \\\n",
       "count  1.000000e+04  10000.000000  10000.000000  9091.000000   10000.000000   \n",
       "mean   1.569094e+07    650.528800     38.921800     4.997690   76485.889288   \n",
       "std    7.193619e+04     96.653299     10.487806     2.894723   62397.405202   \n",
       "min    1.556570e+07    350.000000     18.000000     0.000000       0.000000   \n",
       "25%    1.562853e+07    584.000000     32.000000     2.000000       0.000000   \n",
       "50%    1.569074e+07    652.000000     37.000000     5.000000   97198.540000   \n",
       "75%    1.575323e+07    718.000000     44.000000     7.000000  127644.240000   \n",
       "max    1.581569e+07    850.000000     92.000000    10.000000  250898.090000   \n",
       "\n",
       "       num_of_products  has_cr_card  is_active_member  estimated_salary  \\\n",
       "count     10000.000000  10000.00000      10000.000000      10000.000000   \n",
       "mean          1.530200      0.70550          0.515100     100090.239881   \n",
       "std           0.581654      0.45584          0.499797      57510.492818   \n",
       "min           1.000000      0.00000          0.000000         11.580000   \n",
       "25%           1.000000      0.00000          0.000000      51002.110000   \n",
       "50%           1.000000      1.00000          1.000000     100193.915000   \n",
       "75%           2.000000      1.00000          1.000000     149388.247500   \n",
       "max           4.000000      1.00000          1.000000     199992.480000   \n",
       "\n",
       "             exited  \n",
       "count  10000.000000  \n",
       "mean       0.203700  \n",
       "std        0.402769  \n",
       "min        0.000000  \n",
       "25%        0.000000  \n",
       "50%        0.000000  \n",
       "75%        0.000000  \n",
       "max        1.000000  "
      ]
     },
     "execution_count": 9,
     "metadata": {},
     "output_type": "execute_result"
    }
   ],
   "source": [
    "df.describe()"
   ]
  },
  {
   "cell_type": "markdown",
   "metadata": {},
   "source": [
    "Сравним со значениями в строках с пропусками:"
   ]
  },
  {
   "cell_type": "code",
   "execution_count": 10,
   "metadata": {
    "scrolled": true
   },
   "outputs": [
    {
     "data": {
      "text/html": [
       "<div>\n",
       "<style scoped>\n",
       "    .dataframe tbody tr th:only-of-type {\n",
       "        vertical-align: middle;\n",
       "    }\n",
       "\n",
       "    .dataframe tbody tr th {\n",
       "        vertical-align: top;\n",
       "    }\n",
       "\n",
       "    .dataframe thead th {\n",
       "        text-align: right;\n",
       "    }\n",
       "</style>\n",
       "<table border=\"1\" class=\"dataframe\">\n",
       "  <thead>\n",
       "    <tr style=\"text-align: right;\">\n",
       "      <th></th>\n",
       "      <th>customer_id</th>\n",
       "      <th>credit_score</th>\n",
       "      <th>age</th>\n",
       "      <th>tenure</th>\n",
       "      <th>balance</th>\n",
       "      <th>num_of_products</th>\n",
       "      <th>has_cr_card</th>\n",
       "      <th>is_active_member</th>\n",
       "      <th>estimated_salary</th>\n",
       "      <th>exited</th>\n",
       "    </tr>\n",
       "  </thead>\n",
       "  <tbody>\n",
       "    <tr>\n",
       "      <th>count</th>\n",
       "      <td>9.090000e+02</td>\n",
       "      <td>909.000000</td>\n",
       "      <td>909.000000</td>\n",
       "      <td>0.0</td>\n",
       "      <td>909.000000</td>\n",
       "      <td>909.000000</td>\n",
       "      <td>909.000000</td>\n",
       "      <td>909.000000</td>\n",
       "      <td>909.000000</td>\n",
       "      <td>909.000000</td>\n",
       "    </tr>\n",
       "    <tr>\n",
       "      <th>mean</th>\n",
       "      <td>1.568981e+07</td>\n",
       "      <td>648.451045</td>\n",
       "      <td>38.647965</td>\n",
       "      <td>NaN</td>\n",
       "      <td>76117.341474</td>\n",
       "      <td>1.530253</td>\n",
       "      <td>0.710671</td>\n",
       "      <td>0.510451</td>\n",
       "      <td>99180.389373</td>\n",
       "      <td>0.201320</td>\n",
       "    </tr>\n",
       "    <tr>\n",
       "      <th>std</th>\n",
       "      <td>7.511225e+04</td>\n",
       "      <td>99.079381</td>\n",
       "      <td>9.785438</td>\n",
       "      <td>NaN</td>\n",
       "      <td>63105.690715</td>\n",
       "      <td>0.588452</td>\n",
       "      <td>0.453701</td>\n",
       "      <td>0.500166</td>\n",
       "      <td>56378.063765</td>\n",
       "      <td>0.401207</td>\n",
       "    </tr>\n",
       "    <tr>\n",
       "      <th>min</th>\n",
       "      <td>1.556581e+07</td>\n",
       "      <td>359.000000</td>\n",
       "      <td>18.000000</td>\n",
       "      <td>NaN</td>\n",
       "      <td>0.000000</td>\n",
       "      <td>1.000000</td>\n",
       "      <td>0.000000</td>\n",
       "      <td>0.000000</td>\n",
       "      <td>106.670000</td>\n",
       "      <td>0.000000</td>\n",
       "    </tr>\n",
       "    <tr>\n",
       "      <th>25%</th>\n",
       "      <td>1.562658e+07</td>\n",
       "      <td>580.000000</td>\n",
       "      <td>32.000000</td>\n",
       "      <td>NaN</td>\n",
       "      <td>0.000000</td>\n",
       "      <td>1.000000</td>\n",
       "      <td>0.000000</td>\n",
       "      <td>0.000000</td>\n",
       "      <td>49872.330000</td>\n",
       "      <td>0.000000</td>\n",
       "    </tr>\n",
       "    <tr>\n",
       "      <th>50%</th>\n",
       "      <td>1.568687e+07</td>\n",
       "      <td>647.000000</td>\n",
       "      <td>37.000000</td>\n",
       "      <td>NaN</td>\n",
       "      <td>96674.550000</td>\n",
       "      <td>1.000000</td>\n",
       "      <td>1.000000</td>\n",
       "      <td>1.000000</td>\n",
       "      <td>99444.020000</td>\n",
       "      <td>0.000000</td>\n",
       "    </tr>\n",
       "    <tr>\n",
       "      <th>75%</th>\n",
       "      <td>1.575680e+07</td>\n",
       "      <td>718.000000</td>\n",
       "      <td>43.000000</td>\n",
       "      <td>NaN</td>\n",
       "      <td>128554.980000</td>\n",
       "      <td>2.000000</td>\n",
       "      <td>1.000000</td>\n",
       "      <td>1.000000</td>\n",
       "      <td>145759.700000</td>\n",
       "      <td>0.000000</td>\n",
       "    </tr>\n",
       "    <tr>\n",
       "      <th>max</th>\n",
       "      <td>1.581569e+07</td>\n",
       "      <td>850.000000</td>\n",
       "      <td>92.000000</td>\n",
       "      <td>NaN</td>\n",
       "      <td>206663.750000</td>\n",
       "      <td>4.000000</td>\n",
       "      <td>1.000000</td>\n",
       "      <td>1.000000</td>\n",
       "      <td>199390.450000</td>\n",
       "      <td>1.000000</td>\n",
       "    </tr>\n",
       "  </tbody>\n",
       "</table>\n",
       "</div>"
      ],
      "text/plain": [
       "        customer_id  credit_score         age  tenure        balance  \\\n",
       "count  9.090000e+02    909.000000  909.000000     0.0     909.000000   \n",
       "mean   1.568981e+07    648.451045   38.647965     NaN   76117.341474   \n",
       "std    7.511225e+04     99.079381    9.785438     NaN   63105.690715   \n",
       "min    1.556581e+07    359.000000   18.000000     NaN       0.000000   \n",
       "25%    1.562658e+07    580.000000   32.000000     NaN       0.000000   \n",
       "50%    1.568687e+07    647.000000   37.000000     NaN   96674.550000   \n",
       "75%    1.575680e+07    718.000000   43.000000     NaN  128554.980000   \n",
       "max    1.581569e+07    850.000000   92.000000     NaN  206663.750000   \n",
       "\n",
       "       num_of_products  has_cr_card  is_active_member  estimated_salary  \\\n",
       "count       909.000000   909.000000        909.000000        909.000000   \n",
       "mean          1.530253     0.710671          0.510451      99180.389373   \n",
       "std           0.588452     0.453701          0.500166      56378.063765   \n",
       "min           1.000000     0.000000          0.000000        106.670000   \n",
       "25%           1.000000     0.000000          0.000000      49872.330000   \n",
       "50%           1.000000     1.000000          1.000000      99444.020000   \n",
       "75%           2.000000     1.000000          1.000000     145759.700000   \n",
       "max           4.000000     1.000000          1.000000     199390.450000   \n",
       "\n",
       "           exited  \n",
       "count  909.000000  \n",
       "mean     0.201320  \n",
       "std      0.401207  \n",
       "min      0.000000  \n",
       "25%      0.000000  \n",
       "50%      0.000000  \n",
       "75%      0.000000  \n",
       "max      1.000000  "
      ]
     },
     "execution_count": 10,
     "metadata": {},
     "output_type": "execute_result"
    }
   ],
   "source": [
    "df.loc[df['tenure'].isna()].describe()"
   ]
  },
  {
   "cell_type": "markdown",
   "metadata": {},
   "source": [
    "Все значения средних, медиан близки. Выборка не выбивается из общей. \n",
    "Заполним пустые значения медианным, чтобы не сместить выборку."
   ]
  },
  {
   "cell_type": "code",
   "execution_count": 11,
   "metadata": {},
   "outputs": [
    {
     "data": {
      "image/png": "[encoded data removed]",
      "text/plain": [
       "<Figure size 432x288 with 1 Axes>"
      ]
     },
     "metadata": {
      "needs_background": "light"
     },
     "output_type": "display_data"
    }
   ],
   "source": [
    "df['tenure'] = df['tenure'].fillna(df['tenure'].median())\n",
    "df['tenure'].hist()\n",
    "plt.suptitle('Частотная диаграмма значений столбца tenure после заполнения пропусков')\n",
    "plt.show;"
   ]
  },
  {
   "cell_type": "markdown",
   "metadata": {},
   "source": [
    "В таблице есть столбец с фамилией. Очевидно, для исследования эта информация не нужна. Отделим фамилии и номер пользователя в отдельный датафрейм, с которым можно будет по номеру получить фамилию.\n",
    "\n",
    "Номер пользователя установим в качестве индекса, чтобы он не участвовал в исследовании, но сохранился."
   ]
  },
  {
   "cell_type": "code",
   "execution_count": 12,
   "metadata": {},
   "outputs": [
    {
     "data": {
      "text/html": [
       "<div>\n",
       "<style scoped>\n",
       "    .dataframe tbody tr th:only-of-type {\n",
       "        vertical-align: middle;\n",
       "    }\n",
       "\n",
       "    .dataframe tbody tr th {\n",
       "        vertical-align: top;\n",
       "    }\n",
       "\n",
       "    .dataframe thead th {\n",
       "        text-align: right;\n",
       "    }\n",
       "</style>\n",
       "<table border=\"1\" class=\"dataframe\">\n",
       "  <thead>\n",
       "    <tr style=\"text-align: right;\">\n",
       "      <th></th>\n",
       "      <th>customer_id</th>\n",
       "      <th>surname</th>\n",
       "    </tr>\n",
       "  </thead>\n",
       "  <tbody>\n",
       "    <tr>\n",
       "      <th>0</th>\n",
       "      <td>15634602</td>\n",
       "      <td>Hargrave</td>\n",
       "    </tr>\n",
       "    <tr>\n",
       "      <th>1</th>\n",
       "      <td>15647311</td>\n",
       "      <td>Hill</td>\n",
       "    </tr>\n",
       "    <tr>\n",
       "      <th>2</th>\n",
       "      <td>15619304</td>\n",
       "      <td>Onio</td>\n",
       "    </tr>\n",
       "    <tr>\n",
       "      <th>3</th>\n",
       "      <td>15701354</td>\n",
       "      <td>Boni</td>\n",
       "    </tr>\n",
       "    <tr>\n",
       "      <th>4</th>\n",
       "      <td>15737888</td>\n",
       "      <td>Mitchell</td>\n",
       "    </tr>\n",
       "  </tbody>\n",
       "</table>\n",
       "</div>"
      ],
      "text/plain": [
       "   customer_id   surname\n",
       "0     15634602  Hargrave\n",
       "1     15647311      Hill\n",
       "2     15619304      Onio\n",
       "3     15701354      Boni\n",
       "4     15737888  Mitchell"
      ]
     },
     "metadata": {},
     "output_type": "display_data"
    },
    {
     "data": {
      "text/html": [
       "<div>\n",
       "<style scoped>\n",
       "    .dataframe tbody tr th:only-of-type {\n",
       "        vertical-align: middle;\n",
       "    }\n",
       "\n",
       "    .dataframe tbody tr th {\n",
       "        vertical-align: top;\n",
       "    }\n",
       "\n",
       "    .dataframe thead th {\n",
       "        text-align: right;\n",
       "    }\n",
       "</style>\n",
       "<table border=\"1\" class=\"dataframe\">\n",
       "  <thead>\n",
       "    <tr style=\"text-align: right;\">\n",
       "      <th></th>\n",
       "      <th>credit_score</th>\n",
       "      <th>geography</th>\n",
       "      <th>gender</th>\n",
       "      <th>age</th>\n",
       "      <th>tenure</th>\n",
       "      <th>balance</th>\n",
       "      <th>num_of_products</th>\n",
       "      <th>has_cr_card</th>\n",
       "      <th>is_active_member</th>\n",
       "      <th>estimated_salary</th>\n",
       "      <th>exited</th>\n",
       "    </tr>\n",
       "    <tr>\n",
       "      <th>customer_id</th>\n",
       "      <th></th>\n",
       "      <th></th>\n",
       "      <th></th>\n",
       "      <th></th>\n",
       "      <th></th>\n",
       "      <th></th>\n",
       "      <th></th>\n",
       "      <th></th>\n",
       "      <th></th>\n",
       "      <th></th>\n",
       "      <th></th>\n",
       "    </tr>\n",
       "  </thead>\n",
       "  <tbody>\n",
       "    <tr>\n",
       "      <th>15634602</th>\n",
       "      <td>619</td>\n",
       "      <td>France</td>\n",
       "      <td>Female</td>\n",
       "      <td>42</td>\n",
       "      <td>2.0</td>\n",
       "      <td>0.00</td>\n",
       "      <td>1</td>\n",
       "      <td>1</td>\n",
       "      <td>1</td>\n",
       "      <td>101348.88</td>\n",
       "      <td>1</td>\n",
       "    </tr>\n",
       "    <tr>\n",
       "      <th>15647311</th>\n",
       "      <td>608</td>\n",
       "      <td>Spain</td>\n",
       "      <td>Female</td>\n",
       "      <td>41</td>\n",
       "      <td>1.0</td>\n",
       "      <td>83807.86</td>\n",
       "      <td>1</td>\n",
       "      <td>0</td>\n",
       "      <td>1</td>\n",
       "      <td>112542.58</td>\n",
       "      <td>0</td>\n",
       "    </tr>\n",
       "    <tr>\n",
       "      <th>15619304</th>\n",
       "      <td>502</td>\n",
       "      <td>France</td>\n",
       "      <td>Female</td>\n",
       "      <td>42</td>\n",
       "      <td>8.0</td>\n",
       "      <td>159660.80</td>\n",
       "      <td>3</td>\n",
       "      <td>1</td>\n",
       "      <td>0</td>\n",
       "      <td>113931.57</td>\n",
       "      <td>1</td>\n",
       "    </tr>\n",
       "    <tr>\n",
       "      <th>15701354</th>\n",
       "      <td>699</td>\n",
       "      <td>France</td>\n",
       "      <td>Female</td>\n",
       "      <td>39</td>\n",
       "      <td>1.0</td>\n",
       "      <td>0.00</td>\n",
       "      <td>2</td>\n",
       "      <td>0</td>\n",
       "      <td>0</td>\n",
       "      <td>93826.63</td>\n",
       "      <td>0</td>\n",
       "    </tr>\n",
       "    <tr>\n",
       "      <th>15737888</th>\n",
       "      <td>850</td>\n",
       "      <td>Spain</td>\n",
       "      <td>Female</td>\n",
       "      <td>43</td>\n",
       "      <td>2.0</td>\n",
       "      <td>125510.82</td>\n",
       "      <td>1</td>\n",
       "      <td>1</td>\n",
       "      <td>1</td>\n",
       "      <td>79084.10</td>\n",
       "      <td>0</td>\n",
       "    </tr>\n",
       "  </tbody>\n",
       "</table>\n",
       "</div>"
      ],
      "text/plain": [
       "             credit_score geography  gender  age  tenure    balance  \\\n",
       "customer_id                                                           \n",
       "15634602              619    France  Female   42     2.0       0.00   \n",
       "15647311              608     Spain  Female   41     1.0   83807.86   \n",
       "15619304              502    France  Female   42     8.0  159660.80   \n",
       "15701354              699    France  Female   39     1.0       0.00   \n",
       "15737888              850     Spain  Female   43     2.0  125510.82   \n",
       "\n",
       "             num_of_products  has_cr_card  is_active_member  estimated_salary  \\\n",
       "customer_id                                                                     \n",
       "15634602                   1            1                 1         101348.88   \n",
       "15647311                   1            0                 1         112542.58   \n",
       "15619304                   3            1                 0         113931.57   \n",
       "15701354                   2            0                 0          93826.63   \n",
       "15737888                   1            1                 1          79084.10   \n",
       "\n",
       "             exited  \n",
       "customer_id          \n",
       "15634602          1  \n",
       "15647311          0  \n",
       "15619304          1  \n",
       "15701354          0  \n",
       "15737888          0  "
      ]
     },
     "metadata": {},
     "output_type": "display_data"
    }
   ],
   "source": [
    "df_names = df[['customer_id', 'surname']]    \n",
    "df = df.drop('surname', axis=1)              \n",
    "df = df.set_index('customer_id')             \n",
    "display(df_names.head())                     \n",
    "display(df.head())                           "
   ]
  },
  {
   "cell_type": "markdown",
   "metadata": {},
   "source": [
    "### Разделение данных на выборки"
   ]
  },
  {
   "cell_type": "markdown",
   "metadata": {},
   "source": [
    "Разделим исходные данные на обучающую, валидационную и тестовую выборки.\n",
    "- Обучающая выборка - 60%\n",
    "- Валидационная выборка - 20%\n",
    "- Тестовая выборка - 20%"
   ]
  },
  {
   "cell_type": "markdown",
   "metadata": {},
   "source": [
    "Отделим тестовую выборку:"
   ]
  },
  {
   "cell_type": "code",
   "execution_count": 13,
   "metadata": {},
   "outputs": [
    {
     "name": "stdout",
     "output_type": "stream",
     "text": [
      "(2000, 11)\n",
      "(8000, 11)\n"
     ]
    }
   ],
   "source": [
    "df_train, df_test = train_test_split(\n",
    "    df, test_size=0.2, # разделяем 80% и 20% датасета\n",
    "    random_state=12345, \n",
    "    stratify=df['exited'] # так, чтобы соотношение в целевом столбце осталось неизменным\n",
    ")\n",
    "print(df_test.shape) # контроль размера тестовой выборки\n",
    "print(df_train.shape) # контроль размера остальной выборки"
   ]
  },
  {
   "cell_type": "markdown",
   "metadata": {},
   "source": [
    "Проверим равномерность распределения целевого значения:"
   ]
  },
  {
   "cell_type": "code",
   "execution_count": 14,
   "metadata": {},
   "outputs": [
    {
     "name": "stdout",
     "output_type": "stream",
     "text": [
      "0.20375\n",
      "0.2035\n"
     ]
    }
   ],
   "source": [
    "print(df_train['exited'].mean())\n",
    "print(df_test['exited'].mean())"
   ]
  },
  {
   "cell_type": "markdown",
   "metadata": {},
   "source": [
    "Всё совпадает."
   ]
  },
  {
   "cell_type": "markdown",
   "metadata": {},
   "source": [
    "### Подготовка признаков"
   ]
  },
  {
   "cell_type": "markdown",
   "metadata": {},
   "source": [
    "Извлечём признаки и целевой признак:"
   ]
  },
  {
   "cell_type": "code",
   "execution_count": 15,
   "metadata": {},
   "outputs": [],
   "source": [
    "features_train = df_train.drop(['exited'], axis=1) # извлекаем признаки\n",
    "target_train = df_train['exited'] # целевой признак"
   ]
  },
  {
   "cell_type": "markdown",
   "metadata": {},
   "source": [
    "Преобразуем категориальные признаки при помощи One-Hot Encoder, a числовые StandardScaler. Чтобы одновременно применить их на один набор признаков, используем  ColumnTransformer."
   ]
  },
  {
   "cell_type": "code",
   "execution_count": 16,
   "id": "a24cb11c",
   "metadata": {},
   "outputs": [],
   "source": [
    "OHE = OneHotEncoder(drop = 'first')\n",
    "scaler = StandardScaler()\n",
    "\n",
    "cat_cols = ['geography', 'gender']\n",
    "num_cols = ['credit_score', 'age', 'tenure', 'balance', 'num_of_products', 'estimated_salary']\n",
    "\n",
    "transformer = ColumnTransformer([('cat_cols', OHE, cat_cols),\n",
    "                                ('num_cols', scaler, num_cols)],\n",
    "                                remainder='passthrough'\n",
    "                               )\n",
    "\n",
    "ohe_features_train = transformer.fit_transform(features_train)\n",
    "\n",
    "# для моделей, умеющих обрабатывать категориальные признаки, применим только Scaler\n",
    "features_train[num_cols] = scaler.fit_transform(features_train[num_cols]) "
   ]
  },
  {
   "cell_type": "code",
   "execution_count": 17,
   "id": "37171df3",
   "metadata": {
    "scrolled": true
   },
   "outputs": [
    {
     "name": "stdout",
     "output_type": "stream",
     "text": [
      "Было/стало: (8000, 10) (8000, 11)\n"
     ]
    }
   ],
   "source": [
    "print(\"Было/стало:\", features_train.shape, ohe_features_train.shape)"
   ]
  },
  {
   "cell_type": "code",
   "execution_count": 18,
   "metadata": {},
   "outputs": [
    {
     "data": {
      "text/html": [
       "<div>\n",
       "<style scoped>\n",
       "    .dataframe tbody tr th:only-of-type {\n",
       "        vertical-align: middle;\n",
       "    }\n",
       "\n",
       "    .dataframe tbody tr th {\n",
       "        vertical-align: top;\n",
       "    }\n",
       "\n",
       "    .dataframe thead th {\n",
       "        text-align: right;\n",
       "    }\n",
       "</style>\n",
       "<table border=\"1\" class=\"dataframe\">\n",
       "  <thead>\n",
       "    <tr style=\"text-align: right;\">\n",
       "      <th></th>\n",
       "      <th>credit_score</th>\n",
       "      <th>geography</th>\n",
       "      <th>gender</th>\n",
       "      <th>age</th>\n",
       "      <th>tenure</th>\n",
       "      <th>balance</th>\n",
       "      <th>num_of_products</th>\n",
       "      <th>has_cr_card</th>\n",
       "      <th>is_active_member</th>\n",
       "      <th>estimated_salary</th>\n",
       "    </tr>\n",
       "    <tr>\n",
       "      <th>customer_id</th>\n",
       "      <th></th>\n",
       "      <th></th>\n",
       "      <th></th>\n",
       "      <th></th>\n",
       "      <th></th>\n",
       "      <th></th>\n",
       "      <th></th>\n",
       "      <th></th>\n",
       "      <th></th>\n",
       "      <th></th>\n",
       "    </tr>\n",
       "  </thead>\n",
       "  <tbody>\n",
       "    <tr>\n",
       "      <th>15721582</th>\n",
       "      <td>-0.061427</td>\n",
       "      <td>Germany</td>\n",
       "      <td>Female</td>\n",
       "      <td>0.106098</td>\n",
       "      <td>-0.366474</td>\n",
       "      <td>0.010530</td>\n",
       "      <td>0.805878</td>\n",
       "      <td>1</td>\n",
       "      <td>1</td>\n",
       "      <td>0.267707</td>\n",
       "    </tr>\n",
       "    <tr>\n",
       "      <th>15734634</th>\n",
       "      <td>-0.443298</td>\n",
       "      <td>Spain</td>\n",
       "      <td>Female</td>\n",
       "      <td>-1.139433</td>\n",
       "      <td>-0.002321</td>\n",
       "      <td>0.388533</td>\n",
       "      <td>-0.911497</td>\n",
       "      <td>0</td>\n",
       "      <td>0</td>\n",
       "      <td>-1.612531</td>\n",
       "    </tr>\n",
       "  </tbody>\n",
       "</table>\n",
       "</div>"
      ],
      "text/plain": [
       "             credit_score geography  gender       age    tenure   balance  \\\n",
       "customer_id                                                                 \n",
       "15721582        -0.061427   Germany  Female  0.106098 -0.366474  0.010530   \n",
       "15734634        -0.443298     Spain  Female -1.139433 -0.002321  0.388533   \n",
       "\n",
       "             num_of_products  has_cr_card  is_active_member  estimated_salary  \n",
       "customer_id                                                                    \n",
       "15721582            0.805878            1                 1          0.267707  \n",
       "15734634           -0.911497            0                 0         -1.612531  "
      ]
     },
     "execution_count": 18,
     "metadata": {},
     "output_type": "execute_result"
    }
   ],
   "source": [
    "features_train.head(2)"
   ]
  },
  {
   "cell_type": "markdown",
   "metadata": {},
   "source": [
    "## Исследование задачи"
   ]
  },
  {
   "cell_type": "markdown",
   "metadata": {},
   "source": [
    "### Модель логистическая регрессия"
   ]
  },
  {
   "cell_type": "markdown",
   "metadata": {},
   "source": [
    "Обучим модель и проверим точность:"
   ]
  },
  {
   "cell_type": "code",
   "execution_count": 19,
   "metadata": {
    "scrolled": true
   },
   "outputs": [
    {
     "name": "stdout",
     "output_type": "stream",
     "text": [
      "Наилучшие гиперпараметры:  {'C': 5, 'penalty': 'l1', 'solver': 'liblinear'}\n",
      "F1-мера наилучшей модели: 0.3222\n",
      "Accuracy наилучшей модели: 0.8132\n",
      "ROC-AUC наилучшей модели: 0.7637\n"
     ]
    }
   ],
   "source": [
    "LogReg = LogisticRegression(max_iter = 1000, random_state = 12345)\n",
    "params = {'C':[1,5, 10, 20, 30, 40, 50],\n",
    "          'penalty': ['l1', 'l2'],\n",
    "          'solver':['liblinear', 'saga']}\n",
    "gridlog = GridSearchCV(LogReg, params, cv=3, scoring='f1', refit = True)\n",
    "gridlog.fit(ohe_features_train, target_train)\n",
    "print('Наилучшие гиперпараметры: ', gridlog.best_params_)\n",
    "f1_log_reg = gridlog.best_score_\n",
    "print(\"F1-мера наилучшей модели:\", round(f1_log_reg, 4))\n",
    "accuracy_log_reg = accuracy_score(\n",
    "    target_train, \n",
    "    gridlog.best_estimator_.predict(ohe_features_train))\n",
    "print(\"Accuracy наилучшей модели:\", round(accuracy_log_reg, 4))\n",
    "print(\"ROC-AUC наилучшей модели:\", round(roc_auc_score(\n",
    "    target_train, \n",
    "    gridlog.best_estimator_.predict_proba(ohe_features_train)[:, 1]), 4))"
   ]
  },
  {
   "cell_type": "markdown",
   "id": "37dee8f1",
   "metadata": {},
   "source": [
    "Функция для отрисовки графика ROC-AUC:"
   ]
  },
  {
   "cell_type": "code",
   "execution_count": 20,
   "id": "e819da56",
   "metadata": {},
   "outputs": [],
   "source": [
    "def ROC_plot(model, fpr, tpr):\n",
    "    plt.figure()\n",
    "    plt.plot([0, 1], [0, 1], linestyle='--')\n",
    "    plt.plot(fpr, tpr)\n",
    "    plt.xlim([0.0, 1.0])\n",
    "    plt.ylim([0.0, 1.0])\n",
    "    plt.xlabel('False Positive Rate')\n",
    "    plt.ylabel('True Positive Rate')\n",
    "    plt.title('ROC-кривая модели')\n",
    "    plt.show() "
   ]
  },
  {
   "cell_type": "markdown",
   "id": "7ea67723",
   "metadata": {},
   "source": [
    "Посмотрим на график:"
   ]
  },
  {
   "cell_type": "code",
   "execution_count": 21,
   "id": "63fd0108",
   "metadata": {
    "scrolled": true
   },
   "outputs": [
    {
     "data": {
      "image/png": "[encoded data removed]",
      "text/plain": [
       "<Figure size 432x288 with 1 Axes>"
      ]
     },
     "metadata": {
      "needs_background": "light"
     },
     "output_type": "display_data"
    }
   ],
   "source": [
    "LogReg = gridlog.best_estimator_\n",
    "fpr, tpr, thresholds = roc_curve(\n",
    "    target_train, \n",
    "    LogReg.predict_proba(ohe_features_train)[:, 1]) \n",
    "ROC_plot(LogReg, fpr, tpr)"
   ]
  },
  {
   "cell_type": "markdown",
   "metadata": {},
   "source": [
    "### Модель дерево решений"
   ]
  },
  {
   "cell_type": "markdown",
   "id": "fc1418ba-1fed-47d5-9e79-d8964cce0da8",
   "metadata": {
    "id": "zhnm4hLQ6BqP"
   },
   "source": [
    "Подбор оптимальной глубины дерева кросс-валидацией:"
   ]
  },
  {
   "cell_type": "code",
   "execution_count": 22,
   "id": "bd07ca9f-1a2f-466e-a515-1e125c54a633",
   "metadata": {
    "colab": {
     "base_uri": "https://localhost:8080/"
    },
    "id": "hGn03g6m3plI",
    "outputId": "91504373-ef71-426f-e0dd-91bcfff33320"
   },
   "outputs": [
    {
     "name": "stdout",
     "output_type": "stream",
     "text": [
      "Наилучшее количество деревьев {'max_depth': 7}\n",
      "F1 наилучшей модели: 0.5564\n",
      "Accuracy наилучшей модели: 0.8718\n",
      "ROC-AUC наилучшей модели: 0.8782\n"
     ]
    }
   ],
   "source": [
    "Tree = DecisionTreeClassifier(random_state=12345)\n",
    "parametrs = { 'max_depth' : range (1, 13, 1)}\n",
    "grid_Tree = GridSearchCV(Tree, parametrs, cv=3, scoring = 'f1')\n",
    "grid_Tree.fit(ohe_features_train, target_train)\n",
    "\n",
    "best_parametrs = grid_Tree.best_params_\n",
    "print('Наилучшее количество деревьев', best_parametrs)\n",
    "\n",
    "best_f1_tree = grid_Tree.best_score_\n",
    "print(\"F1 наилучшей модели:\", round(best_f1_tree, 4))\n",
    "\n",
    "best_accuracy_tree = accuracy_score(\n",
    "    target_train, \n",
    "    grid_Tree.best_estimator_.predict(ohe_features_train))\n",
    "print(\"Accuracy наилучшей модели:\", round(best_accuracy_tree, 4))\n",
    "\n",
    "print(\"ROC-AUC наилучшей модели:\", round(roc_auc_score(\n",
    "    target_train, \n",
    "    grid_Tree.best_estimator_.predict_proba(ohe_features_train)[:, 1]), 4))"
   ]
  },
  {
   "cell_type": "code",
   "execution_count": 23,
   "id": "96338078-0ae2-44eb-ac5d-1d4b6e1b8c74",
   "metadata": {},
   "outputs": [
    {
     "data": {
      "image/png": "[encoded data removed]",
      "text/plain": [
       "<Figure size 432x288 with 1 Axes>"
      ]
     },
     "metadata": {
      "needs_background": "light"
     },
     "output_type": "display_data"
    }
   ],
   "source": [
    "Tree = grid_Tree.best_estimator_\n",
    "fpr, tpr, thresholds = roc_curve(\n",
    "    target_train, \n",
    "    Tree.predict_proba(ohe_features_train)[:, 1]) \n",
    "ROC_plot(Tree, fpr, tpr)"
   ]
  },
  {
   "cell_type": "markdown",
   "metadata": {},
   "source": [
    "### Модель cлучайный лес"
   ]
  },
  {
   "cell_type": "markdown",
   "id": "3a1de800-818b-486b-92f7-16ad50160be4",
   "metadata": {
    "id": "y7MTdsmUjdTK"
   },
   "source": [
    "Подбор гиперпараметров при помощи GridSearch:"
   ]
  },
  {
   "cell_type": "code",
   "execution_count": 24,
   "id": "3516f2ee-1ed7-43c7-891d-3bbb701a0f36",
   "metadata": {
    "colab": {
     "base_uri": "https://localhost:8080/"
    },
    "id": "sIMMDo_Hihee",
    "outputId": "53969bb3-44c2-47e7-eda7-43854f5dd80d",
    "scrolled": true
   },
   "outputs": [
    {
     "name": "stdout",
     "output_type": "stream",
     "text": [
      "Наилучшие гиперпараметры: {'max_depth': 11, 'min_samples_leaf': 4, 'n_estimators': 15}\n",
      "F1 наилучшей модели: 0.5657\n",
      "Accuracy наилучшей модели: 0.8946\n",
      "ROC-AUC наилучшей модели: 0.9448\n"
     ]
    }
   ],
   "source": [
    "Forest = RandomForestClassifier(random_state=12345)\n",
    "parametrs = { 'n_estimators'    : range (5, 20, 2),\n",
    "              'max_depth'       : range (1, 13, 2),\n",
    "              'min_samples_leaf': range (1,10)}\n",
    "grid_Forest = GridSearchCV(Forest, parametrs, cv=3, scoring = 'f1', n_jobs = -1)\n",
    "grid_Forest.fit(ohe_features_train, target_train)\n",
    "\n",
    "best_parametrs = grid_Forest.best_params_\n",
    "print('Наилучшие гиперпараметры:', best_parametrs)\n",
    "\n",
    "best_f1_forest = grid_Forest.best_score_\n",
    "print(\"F1 наилучшей модели:\", round(best_f1_forest, 4))\n",
    "\n",
    "best_accuracy_forest = accuracy_score(\n",
    "    target_train, \n",
    "    grid_Forest.best_estimator_.predict(ohe_features_train))\n",
    "print(\"Accuracy наилучшей модели:\", round(best_accuracy_forest, 4))\n",
    "\n",
    "print(\"ROC-AUC наилучшей модели:\", round(roc_auc_score(\n",
    "    target_train, \n",
    "    grid_Forest.best_estimator_.predict_proba(ohe_features_train)[:, 1]), 4))"
   ]
  },
  {
   "cell_type": "code",
   "execution_count": 25,
   "id": "e0eb68e6-d8c1-4817-954a-1304762decb6",
   "metadata": {
    "scrolled": true
   },
   "outputs": [
    {
     "data": {
      "image/png": "[encoded data removed]",
      "text/plain": [
       "<Figure size 432x288 with 1 Axes>"
      ]
     },
     "metadata": {
      "needs_background": "light"
     },
     "output_type": "display_data"
    }
   ],
   "source": [
    "Forest = grid_Forest.best_estimator_\n",
    "fpr, tpr, thresholds = roc_curve(\n",
    "    target_train, \n",
    "    Forest.predict_proba(ohe_features_train)[:, 1]) \n",
    "ROC_plot(Forest, fpr, tpr)"
   ]
  },
  {
   "cell_type": "markdown",
   "metadata": {},
   "source": [
    "### Константная модель"
   ]
  },
  {
   "cell_type": "markdown",
   "metadata": {},
   "source": [
    "Проверим, как часто в целевом признаке встречается класс «1» или «0»"
   ]
  },
  {
   "cell_type": "code",
   "execution_count": 26,
   "metadata": {
    "scrolled": true
   },
   "outputs": [
    {
     "name": "stdout",
     "output_type": "stream",
     "text": [
      "0    0.7963\n",
      "1    0.2037\n",
      "Name: exited, dtype: float64\n"
     ]
    },
    {
     "data": {
      "image/png": "[encoded data removed]",
      "text/plain": [
       "<Figure size 432x288 with 1 Axes>"
      ]
     },
     "metadata": {
      "needs_background": "light"
     },
     "output_type": "display_data"
    }
   ],
   "source": [
    "class_frequency = df['exited'].value_counts(normalize=True)\n",
    "print(class_frequency)\n",
    "class_frequency.plot(kind='bar');"
   ]
  },
  {
   "cell_type": "markdown",
   "metadata": {},
   "source": [
    "Значение \"0\" встречается гораздо чаще, данные не сбалансированы."
   ]
  },
  {
   "cell_type": "markdown",
   "metadata": {},
   "source": [
    "Создадим константную модель, которая всегда предсказывает самое частое значение.\n",
    "\n",
    "Сравним её работу с предыдущими моделями."
   ]
  },
  {
   "cell_type": "code",
   "execution_count": 27,
   "metadata": {
    "scrolled": true
   },
   "outputs": [],
   "source": [
    "target_pred_constant = pd.Series([0] * len(target_train))\n",
    "accuracy_constant = accuracy_score(target_train, target_pred_constant)\n",
    "f1_constant = f1_score(target_train, target_pred_constant)"
   ]
  },
  {
   "cell_type": "markdown",
   "metadata": {},
   "source": [
    "Собираем результаты работы моделей наглядно:"
   ]
  },
  {
   "cell_type": "code",
   "execution_count": 28,
   "metadata": {
    "scrolled": true
   },
   "outputs": [
    {
     "data": {
      "text/html": [
       "<div>\n",
       "<style scoped>\n",
       "    .dataframe tbody tr th:only-of-type {\n",
       "        vertical-align: middle;\n",
       "    }\n",
       "\n",
       "    .dataframe tbody tr th {\n",
       "        vertical-align: top;\n",
       "    }\n",
       "\n",
       "    .dataframe thead th {\n",
       "        text-align: right;\n",
       "    }\n",
       "</style>\n",
       "<table border=\"1\" class=\"dataframe\">\n",
       "  <thead>\n",
       "    <tr style=\"text-align: right;\">\n",
       "      <th></th>\n",
       "      <th>accuracy</th>\n",
       "      <th>f1-мера</th>\n",
       "    </tr>\n",
       "    <tr>\n",
       "      <th>model</th>\n",
       "      <th></th>\n",
       "      <th></th>\n",
       "    </tr>\n",
       "  </thead>\n",
       "  <tbody>\n",
       "    <tr>\n",
       "      <th>Константная модель</th>\n",
       "      <td>0.796250</td>\n",
       "      <td>0.000000</td>\n",
       "    </tr>\n",
       "    <tr>\n",
       "      <th>Логистическая регрессия</th>\n",
       "      <td>0.813250</td>\n",
       "      <td>0.322179</td>\n",
       "    </tr>\n",
       "    <tr>\n",
       "      <th>Решающее дерево</th>\n",
       "      <td>0.871750</td>\n",
       "      <td>0.556372</td>\n",
       "    </tr>\n",
       "    <tr>\n",
       "      <th>Случайный лес</th>\n",
       "      <td>0.894625</td>\n",
       "      <td>0.565673</td>\n",
       "    </tr>\n",
       "  </tbody>\n",
       "</table>\n",
       "</div>"
      ],
      "text/plain": [
       "                         accuracy   f1-мера\n",
       "model                                      \n",
       "Константная модель       0.796250  0.000000\n",
       "Логистическая регрессия  0.813250  0.322179\n",
       "Решающее дерево          0.871750  0.556372\n",
       "Случайный лес            0.894625  0.565673"
      ]
     },
     "execution_count": 28,
     "metadata": {},
     "output_type": "execute_result"
    }
   ],
   "source": [
    "results = {\n",
    "    'model': ['Константная модель', 'Логистическая регрессия', 'Решающее дерево', 'Случайный лес'], \n",
    "    'accuracy': [accuracy_constant, accuracy_log_reg, best_accuracy_tree, best_accuracy_forest], \n",
    "    'f1-мера': [f1_constant, f1_log_reg, best_f1_tree, best_f1_forest]\n",
    "}\n",
    "mod_compare = pd.DataFrame(data=results).set_index('model')\n",
    "mod_compare"
   ]
  },
  {
   "cell_type": "markdown",
   "metadata": {},
   "source": [
    "Модели проходят проверку на адекватность."
   ]
  },
  {
   "cell_type": "markdown",
   "metadata": {},
   "source": [
    "## Борьба с дисбалансом"
   ]
  },
  {
   "cell_type": "markdown",
   "metadata": {},
   "source": [
    "### Aргумент class_weight"
   ]
  },
  {
   "cell_type": "markdown",
   "metadata": {},
   "source": [
    "Чтобы сбалансировать классы, можно использовать из библиотеки sklearn аргумент class_weight.\n",
    "\n",
    "Если указать \"class_weight='balanced'\", алгоритм посчитает, во сколько раз\n",
    "класс «0» встречается чаще класса «1». "
   ]
  },
  {
   "cell_type": "markdown",
   "metadata": {},
   "source": [
    "#### Модель логистическая регрессия"
   ]
  },
  {
   "cell_type": "markdown",
   "metadata": {},
   "source": [
    "Обучим модель и проверим точность:"
   ]
  },
  {
   "cell_type": "code",
   "execution_count": 29,
   "metadata": {
    "scrolled": false
   },
   "outputs": [
    {
     "name": "stdout",
     "output_type": "stream",
     "text": [
      "Наилучшие гиперпараметры:  {'C': 1, 'penalty': 'l1', 'solver': 'liblinear'}\n",
      "F1-мера наилучшей модели: 0.4846\n",
      "Accuracy наилучшей модели: 0.7066\n",
      "ROC-AUC наилучшей модели: 0.7671\n"
     ]
    }
   ],
   "source": [
    "LogReg = LogisticRegression(class_weight='balanced', # сбалансировать классы\n",
    "                            max_iter = 1000, random_state = 12345)\n",
    "params = {'C':[1,5, 10, 20, 30, 40, 50],\n",
    "          'penalty': ['l1', 'l2'],\n",
    "          'solver':['liblinear', 'saga']}\n",
    "gridlog_bal = GridSearchCV(LogReg, params, cv=3, scoring='f1', refit = True)\n",
    "gridlog_bal.fit(ohe_features_train, target_train)\n",
    "print('Наилучшие гиперпараметры: ', gridlog_bal.best_params_)\n",
    "bal_f1_log_reg = gridlog_bal.best_score_\n",
    "print(\"F1-мера наилучшей модели:\", round(bal_f1_log_reg, 4))\n",
    "bal_accuracy_log_reg = accuracy_score(\n",
    "    target_train, \n",
    "    gridlog_bal.best_estimator_.predict(ohe_features_train))\n",
    "print(\"Accuracy наилучшей модели:\", round(bal_accuracy_log_reg, 4))\n",
    "print(\"ROC-AUC наилучшей модели:\", round(roc_auc_score(\n",
    "    target_train, \n",
    "    gridlog_bal.best_estimator_.predict_proba(ohe_features_train)[:, 1]), 4))"
   ]
  },
  {
   "cell_type": "code",
   "execution_count": 30,
   "id": "63fd0108",
   "metadata": {
    "scrolled": false
   },
   "outputs": [
    {
     "data": {
      "image/png": "[encoded data removed]",
      "text/plain": [
       "<Figure size 432x288 with 1 Axes>"
      ]
     },
     "metadata": {
      "needs_background": "light"
     },
     "output_type": "display_data"
    }
   ],
   "source": [
    "LogReg = gridlog_bal.best_estimator_\n",
    "fpr, tpr, thresholds = roc_curve(\n",
    "    target_train, \n",
    "    LogReg.predict_proba(ohe_features_train)[:, 1]) \n",
    "ROC_plot(LogReg, fpr, tpr)"
   ]
  },
  {
   "cell_type": "markdown",
   "metadata": {},
   "source": [
    "#### Модель дерево решений"
   ]
  },
  {
   "cell_type": "markdown",
   "id": "fc1418ba-1fed-47d5-9e79-d8964cce0da8",
   "metadata": {
    "id": "zhnm4hLQ6BqP"
   },
   "source": [
    "Подбор оптимальной глубины дерева кросс-валидацией:"
   ]
  },
  {
   "cell_type": "code",
   "execution_count": 31,
   "id": "bd07ca9f-1a2f-466e-a515-1e125c54a633",
   "metadata": {
    "colab": {
     "base_uri": "https://localhost:8080/"
    },
    "id": "hGn03g6m3plI",
    "outputId": "91504373-ef71-426f-e0dd-91bcfff33320"
   },
   "outputs": [
    {
     "name": "stdout",
     "output_type": "stream",
     "text": [
      "Наилучшее количество деревьев {'max_depth': 7}\n",
      "F1 наилучшей модели: 0.5615\n",
      "Accuracy наилучшей модели: 0.7884\n",
      "ROC-AUC наилучшей модели: 0.8825\n"
     ]
    }
   ],
   "source": [
    "Tree = DecisionTreeClassifier(class_weight='balanced', # сбалансировать классы\n",
    "                              random_state=12345)\n",
    "parametrs = { 'max_depth' : range (1, 13, 1)}\n",
    "grid_Tree_bal = GridSearchCV(Tree, parametrs, cv=3, scoring = 'f1')\n",
    "grid_Tree_bal.fit(ohe_features_train, target_train)\n",
    "\n",
    "best_parametrs = grid_Tree_bal.best_params_\n",
    "print('Наилучшее количество деревьев', best_parametrs)\n",
    "\n",
    "bal_f1_tree = grid_Tree_bal.best_score_\n",
    "print(\"F1 наилучшей модели:\", round(bal_f1_tree, 4))\n",
    "\n",
    "bal_accuracy_tree = accuracy_score(\n",
    "    target_train, \n",
    "    grid_Tree_bal.best_estimator_.predict(ohe_features_train))\n",
    "print(\"Accuracy наилучшей модели:\", round(bal_accuracy_tree, 4))\n",
    "\n",
    "print(\"ROC-AUC наилучшей модели:\", round(roc_auc_score(\n",
    "    target_train, \n",
    "    grid_Tree_bal.best_estimator_.predict_proba(ohe_features_train)[:, 1]), 4))"
   ]
  },
  {
   "cell_type": "code",
   "execution_count": 32,
   "id": "96338078-0ae2-44eb-ac5d-1d4b6e1b8c74",
   "metadata": {},
   "outputs": [
    {
     "data": {
      "image/png": "[encoded data removed]",
      "text/plain": [
       "<Figure size 432x288 with 1 Axes>"
      ]
     },
     "metadata": {
      "needs_background": "light"
     },
     "output_type": "display_data"
    }
   ],
   "source": [
    "Tree = grid_Tree_bal.best_estimator_\n",
    "fpr, tpr, thresholds = roc_curve(\n",
    "    target_train, \n",
    "    Tree.predict_proba(ohe_features_train)[:, 1]) \n",
    "ROC_plot(Tree, fpr, tpr)"
   ]
  },
  {
   "cell_type": "markdown",
   "metadata": {},
   "source": [
    "#### Модель cлучайный лес"
   ]
  },
  {
   "cell_type": "markdown",
   "id": "3a1de800-818b-486b-92f7-16ad50160be4",
   "metadata": {
    "id": "y7MTdsmUjdTK"
   },
   "source": [
    "Подбор гиперпараметров при помощи GridSearch:"
   ]
  },
  {
   "cell_type": "code",
   "execution_count": 33,
   "id": "3516f2ee-1ed7-43c7-891d-3bbb701a0f36",
   "metadata": {
    "colab": {
     "base_uri": "https://localhost:8080/"
    },
    "id": "sIMMDo_Hihee",
    "outputId": "53969bb3-44c2-47e7-eda7-43854f5dd80d",
    "scrolled": true
   },
   "outputs": [
    {
     "name": "stdout",
     "output_type": "stream",
     "text": [
      "Наилучшие гиперпараметры: {'max_depth': 9, 'min_samples_leaf': 4, 'n_estimators': 15}\n",
      "F1 наилучшей модели: 0.6161\n",
      "Accuracy наилучшей модели: 0.8614\n",
      "ROC-AUC наилучшей модели: 0.9254\n"
     ]
    }
   ],
   "source": [
    "Forest = RandomForestClassifier(class_weight='balanced',\n",
    "                                random_state=12345)\n",
    "parametrs = { 'n_estimators'    : range (5, 20, 2),\n",
    "              'max_depth'       : range (1, 13, 2),\n",
    "              'min_samples_leaf': range (1,10)}\n",
    "grid_Forest_bal = GridSearchCV(Forest, parametrs, cv=3, scoring = 'f1', n_jobs = -1)\n",
    "grid_Forest_bal.fit(ohe_features_train, target_train)\n",
    "\n",
    "best_parametrs = grid_Forest_bal.best_params_\n",
    "print('Наилучшие гиперпараметры:', best_parametrs)\n",
    "\n",
    "bal_f1_forest = grid_Forest_bal.best_score_\n",
    "print(\"F1 наилучшей модели:\", round(bal_f1_forest, 4))\n",
    "\n",
    "bal_accuracy_forest = accuracy_score(\n",
    "    target_train, \n",
    "    grid_Forest_bal.best_estimator_.predict(ohe_features_train))\n",
    "print(\"Accuracy наилучшей модели:\", round(bal_accuracy_forest, 4))\n",
    "\n",
    "print(\"ROC-AUC наилучшей модели:\", round(roc_auc_score(\n",
    "    target_train, \n",
    "    grid_Forest_bal.best_estimator_.predict_proba(ohe_features_train)[:, 1]), 4))"
   ]
  },
  {
   "cell_type": "code",
   "execution_count": 34,
   "id": "e0eb68e6-d8c1-4817-954a-1304762decb6",
   "metadata": {
    "scrolled": true
   },
   "outputs": [
    {
     "data": {
      "image/png": "[encoded data removed]",
      "text/plain": [
       "<Figure size 432x288 with 1 Axes>"
      ]
     },
     "metadata": {
      "needs_background": "light"
     },
     "output_type": "display_data"
    }
   ],
   "source": [
    "Forest = grid_Forest_bal.best_estimator_\n",
    "fpr, tpr, thresholds = roc_curve(\n",
    "    target_train, \n",
    "    Forest.predict_proba(ohe_features_train)[:, 1]) \n",
    "ROC_plot(Forest, fpr, tpr)"
   ]
  },
  {
   "cell_type": "markdown",
   "id": "29627f89-11db-4a4c-9b84-c2c7fb600114",
   "metadata": {
    "id": "59xiJrXLwy4i"
   },
   "source": [
    "### Модель CatBoostClassifier"
   ]
  },
  {
   "cell_type": "markdown",
   "id": "a7e57738-ea63-4673-8217-079d58b0b9d3",
   "metadata": {
    "id": "7ERQzwNDfUNc"
   },
   "source": [
    "Подбор гиперпараметров при помощи GridSearch:"
   ]
  },
  {
   "cell_type": "code",
   "execution_count": 35,
   "id": "d800873a",
   "metadata": {},
   "outputs": [
    {
     "name": "stdout",
     "output_type": "stream",
     "text": [
      "0:\tlearn: 0.6191631\ttotal: 231ms\tremaining: 45.9s\n",
      "50:\tlearn: 0.3270362\ttotal: 4.86s\tremaining: 14.2s\n",
      "100:\tlearn: 0.3133374\ttotal: 9.36s\tremaining: 9.17s\n",
      "150:\tlearn: 0.3035414\ttotal: 14s\tremaining: 4.54s\n",
      "199:\tlearn: 0.2948146\ttotal: 18.6s\tremaining: 0us\n",
      "Наилучшие гиперпараметры: {'border_count': 250, 'depth': 4, 'iterations': 200, 'learning_rate': 0.1}\n",
      "F1-мера наилучшей модели: 0.5996\n",
      "Accuracy наилучшей модели: 0.882\n",
      "ROC-AUC наилучшей модели: 0.8986\n",
      "Wall time: 45min 45s\n"
     ]
    }
   ],
   "source": [
    "%%time\n",
    "CBC = CatBoostClassifier(random_seed  = 12345,\n",
    "                        loss_function = 'Logloss',\n",
    "                        custom_metric = 'F1',\n",
    "                        cat_features  = cat_cols\n",
    "                        )\n",
    "parameter_dist={'depth'           : [3, 4, 5],\n",
    "                'learning_rate'   : [0.05, 0.1, 0.2, 0.3],\n",
    "                'border_count'    : [150, 250],\n",
    "                'iterations'      : [100, 200, 300]\n",
    "                }\n",
    "Grid_CBC = GridSearchCV(CBC, parameter_dist, cv=5, n_jobs=-1, verbose=False, scoring = 'f1')\n",
    "Grid_CBC.fit(features_train, target_train, plot = False, verbose = 50)\n",
    "print(\"Наилучшие гиперпараметры:\", Grid_CBC.best_params_)\n",
    "print(\"F1-мера наилучшей модели:\", round(Grid_CBC.best_score_, 4))\n",
    "accuracy_cat = accuracy_score(\n",
    "    target_train, \n",
    "    Grid_CBC.best_estimator_.predict(features_train))\n",
    "print(\"Accuracy наилучшей модели:\", round(accuracy_cat, 4))\n",
    "\n",
    "print(\"ROC-AUC наилучшей модели:\", round(roc_auc_score(\n",
    "    target_train, \n",
    "    Grid_CBC.best_estimator_.predict_proba(features_train)[:, 1]), 4))"
   ]
  },
  {
   "cell_type": "code",
   "execution_count": 36,
   "id": "049279dd",
   "metadata": {},
   "outputs": [
    {
     "data": {
      "image/png": "[encoded data removed]",
      "text/plain": [
       "<Figure size 432x288 with 1 Axes>"
      ]
     },
     "metadata": {
      "needs_background": "light"
     },
     "output_type": "display_data"
    }
   ],
   "source": [
    "CBCg = Grid_CBC.best_estimator_\n",
    "fpr, tpr, thresholds = roc_curve(\n",
    "    target_train, \n",
    "    CBCg.predict_proba(features_train)[:, 1]) \n",
    "ROC_plot(CBCg, fpr, tpr)"
   ]
  },
  {
   "cell_type": "markdown",
   "metadata": {},
   "source": [
    "#### Результаты моделей\n"
   ]
  },
  {
   "cell_type": "markdown",
   "metadata": {},
   "source": [
    "Собираем результаты работы моделей наглядно:"
   ]
  },
  {
   "cell_type": "code",
   "execution_count": 37,
   "metadata": {},
   "outputs": [
    {
     "data": {
      "text/html": [
       "<div>\n",
       "<style scoped>\n",
       "    .dataframe tbody tr th:only-of-type {\n",
       "        vertical-align: middle;\n",
       "    }\n",
       "\n",
       "    .dataframe tbody tr th {\n",
       "        vertical-align: top;\n",
       "    }\n",
       "\n",
       "    .dataframe thead th {\n",
       "        text-align: right;\n",
       "    }\n",
       "</style>\n",
       "<table border=\"1\" class=\"dataframe\">\n",
       "  <thead>\n",
       "    <tr style=\"text-align: right;\">\n",
       "      <th></th>\n",
       "      <th>accuracy</th>\n",
       "      <th>f1-мера</th>\n",
       "    </tr>\n",
       "    <tr>\n",
       "      <th>model</th>\n",
       "      <th></th>\n",
       "      <th></th>\n",
       "    </tr>\n",
       "  </thead>\n",
       "  <tbody>\n",
       "    <tr>\n",
       "      <th>Константная модель</th>\n",
       "      <td>0.796250</td>\n",
       "      <td>0.000000</td>\n",
       "    </tr>\n",
       "    <tr>\n",
       "      <th>Логистическая регрессия</th>\n",
       "      <td>0.813250</td>\n",
       "      <td>0.322179</td>\n",
       "    </tr>\n",
       "    <tr>\n",
       "      <th>Логистическая регрессия баланс.</th>\n",
       "      <td>0.706625</td>\n",
       "      <td>0.484629</td>\n",
       "    </tr>\n",
       "    <tr>\n",
       "      <th>Решающее дерево</th>\n",
       "      <td>0.871750</td>\n",
       "      <td>0.556372</td>\n",
       "    </tr>\n",
       "    <tr>\n",
       "      <th>Решающее дерево баланс.</th>\n",
       "      <td>0.788375</td>\n",
       "      <td>0.561504</td>\n",
       "    </tr>\n",
       "    <tr>\n",
       "      <th>Случайный лес</th>\n",
       "      <td>0.894625</td>\n",
       "      <td>0.565673</td>\n",
       "    </tr>\n",
       "    <tr>\n",
       "      <th>Catboost</th>\n",
       "      <td>0.882000</td>\n",
       "      <td>0.599639</td>\n",
       "    </tr>\n",
       "    <tr>\n",
       "      <th>Случайный лес баланс.</th>\n",
       "      <td>0.861375</td>\n",
       "      <td>0.616133</td>\n",
       "    </tr>\n",
       "  </tbody>\n",
       "</table>\n",
       "</div>"
      ],
      "text/plain": [
       "                                 accuracy   f1-мера\n",
       "model                                              \n",
       "Константная модель               0.796250  0.000000\n",
       "Логистическая регрессия          0.813250  0.322179\n",
       "Логистическая регрессия баланс.  0.706625  0.484629\n",
       "Решающее дерево                  0.871750  0.556372\n",
       "Решающее дерево баланс.          0.788375  0.561504\n",
       "Случайный лес                    0.894625  0.565673\n",
       "Catboost                         0.882000  0.599639\n",
       "Случайный лес баланс.            0.861375  0.616133"
      ]
     },
     "execution_count": 37,
     "metadata": {},
     "output_type": "execute_result"
    }
   ],
   "source": [
    "results = {\n",
    "    'model': ['Логистическая регрессия баланс.', 'Решающее дерево баланс.', 'Случайный лес баланс.', 'Catboost'], \n",
    "    'accuracy': [bal_accuracy_log_reg, bal_accuracy_tree, bal_accuracy_forest, accuracy_cat], \n",
    "    'f1-мера': [bal_f1_log_reg, bal_f1_tree, bal_f1_forest, Grid_CBC.best_score_]\n",
    "}\n",
    "mod_compare_balanced = pd.DataFrame(data=results).set_index('model')\n",
    "full_mod_compare = pd.concat([mod_compare, mod_compare_balanced]).sort_values(by = 'f1-мера')\n",
    "full_mod_compare"
   ]
  },
  {
   "cell_type": "markdown",
   "metadata": {},
   "source": [
    "Сравним значения f1-меры и точности разных моделей:"
   ]
  },
  {
   "cell_type": "code",
   "execution_count": 38,
   "metadata": {},
   "outputs": [
    {
     "data": {
      "image/png": "[encoded data removed]",
      "text/plain": [
       "<Figure size 864x432 with 2 Axes>"
      ]
     },
     "metadata": {
      "needs_background": "light"
     },
     "output_type": "display_data"
    }
   ],
   "source": [
    "fig, (ax1, ax2) = plt.subplots(nrows = 1, ncols = 2, figsize = (12, 6))\n",
    "ax1.barh(width = full_mod_compare['f1-мера'], y = full_mod_compare.index)\n",
    "ax1.grid(True)\n",
    "ax1.set_title('Сравнение F1-меры моделей')\n",
    "ax1.set_xlabel('F1-мера')\n",
    "ax1.set_ylabel('Модель')\n",
    "\n",
    "ax2.barh(width = full_mod_compare['accuracy'], y = full_mod_compare.index)\n",
    "ax2.grid(True)\n",
    "ax2.set_title('Сравнение точности моделей')\n",
    "ax2.set_xlabel('Точность')\n",
    "ax2.set_yticks([])\n",
    "plt.tight_layout()\n",
    "plt.show;"
   ]
  },
  {
   "cell_type": "markdown",
   "metadata": {},
   "source": [
    "Наибольшее значение F1-меры достигнуто моделью Случайный лес с балансом классов и составляет 0.616.\n",
    "\n",
    "Целевое значение F1-меры равно 0.59.\n",
    "\n",
    "Обучение прошло успешно."
   ]
  },
  {
   "cell_type": "markdown",
   "metadata": {},
   "source": [
    "## Тестирование модели"
   ]
  },
  {
   "cell_type": "markdown",
   "metadata": {},
   "source": [
    "Наилучшая F1-мера была у модели случайный лес."
   ]
  },
  {
   "cell_type": "markdown",
   "metadata": {},
   "source": [
    "Извлечём признаки и целевой признак из тестовой выборки:"
   ]
  },
  {
   "cell_type": "code",
   "execution_count": 39,
   "metadata": {
    "scrolled": true
   },
   "outputs": [],
   "source": [
    "features_test = df_test.drop(['exited'], axis=1) # извлекаем признаки\n",
    "ohe_features_test = transformer.transform(features_test) # масштабирование и кодирование\n",
    "target_test = df_test['exited'] # целевой признак"
   ]
  },
  {
   "cell_type": "markdown",
   "metadata": {},
   "source": [
    "Работа модели:"
   ]
  },
  {
   "cell_type": "code",
   "execution_count": 40,
   "metadata": {},
   "outputs": [
    {
     "name": "stdout",
     "output_type": "stream",
     "text": [
      "F1-мера: 0.6321467098166127\n",
      "Accuracy: 0.8295\n",
      "AUC-ROC: 0.8658057132633404\n"
     ]
    }
   ],
   "source": [
    "model = grid_Forest_bal.best_estimator_\n",
    "model.fit(ohe_features_train, target_train)\n",
    "predicted_test = model.predict(ohe_features_test)\n",
    "probabilities_test = model.predict_proba(ohe_features_test) \n",
    "probabilities_one_test = probabilities_test[:, 1] \n",
    "accuracy_final = model.score(ohe_features_test, target_test)\n",
    "f1_final = f1_score(target_test, predicted_test)\n",
    "auc_roc_final = roc_auc_score(target_test, probabilities_one_test)\n",
    "print(\"F1-мера:\", f1_final)\n",
    "print(\"Accuracy:\", accuracy_final)\n",
    "print(\"AUC-ROC:\", auc_roc_final)"
   ]
  },
  {
   "cell_type": "markdown",
   "metadata": {},
   "source": [
    "Построим ROC-кривую."
   ]
  },
  {
   "cell_type": "code",
   "execution_count": 41,
   "metadata": {},
   "outputs": [
    {
     "data": {
      "image/png": "[encoded data removed]",
      "text/plain": [
       "<Figure size 432x288 with 1 Axes>"
      ]
     },
     "metadata": {
      "needs_background": "light"
     },
     "output_type": "display_data"
    }
   ],
   "source": [
    "model = grid_Forest_bal.best_estimator_\n",
    "fpr, tpr, thresholds = roc_curve(\n",
    "    target_test, \n",
    "    model.predict_proba(ohe_features_test)[:, 1]) \n",
    "ROC_plot(model, fpr, tpr)"
   ]
  },
  {
   "cell_type": "markdown",
   "metadata": {},
   "source": [
    "Посмотрим матрицу ошибок:"
   ]
  },
  {
   "cell_type": "code",
   "execution_count": 42,
   "metadata": {},
   "outputs": [
    {
     "data": {
      "image/png": "[encoded data removed]",
      "text/plain": [
       "<Figure size 432x288 with 2 Axes>"
      ]
     },
     "metadata": {
      "needs_background": "light"
     },
     "output_type": "display_data"
    }
   ],
   "source": [
    "prediction = model.predict(ohe_features_test)\n",
    "ConfusionMatrixDisplay(confusion_matrix(target_test, prediction)).plot();"
   ]
  },
  {
   "cell_type": "markdown",
   "metadata": {},
   "source": [
    "Из всех 2000 записей предсказано, что:\n",
    "   - 1 294 не планируют расторгнуть договор, и из них:\n",
    "     - 1366 предсказаны верно,\n",
    "     - 114 ошибок(клиент планирует уйти, но модель этого не предугадала);\n",
    "   - 706 планируют расторгнуть договор, и из них:\n",
    "     - 293 предсказаны верно;\n",
    "     - 227 ошибок (модель предсказала уход лояльного клиента)"
   ]
  },
  {
   "cell_type": "markdown",
   "id": "3aa89e91",
   "metadata": {},
   "source": [
    "Посмотрим на важность признаков по мнению модели:"
   ]
  },
  {
   "cell_type": "code",
   "execution_count": 44,
   "id": "fa229c70",
   "metadata": {},
   "outputs": [
    {
     "data": {
      "image/png": "[encoded data removed]",
      "text/plain": [
       "<Figure size 504x504 with 1 Axes>"
      ]
     },
     "metadata": {
      "needs_background": "light"
     },
     "output_type": "display_data"
    }
   ],
   "source": [
    "labels = features_test.columns\n",
    "\n",
    "feature_importances = pd.DataFrame(\n",
    "    zip(labels, model.feature_importances_), \n",
    "    columns = ['feature', 'importance']\n",
    "    ).sort_values(by = 'importance', ascending = False)\n",
    "    \n",
    "plt.figure(figsize = (7, 7))\n",
    "plt.title('Важность признаков')\n",
    "feature_importances = feature_importances.sort_values(by = 'importance')\n",
    "plt.barh(y = feature_importances.feature, \n",
    "         width = feature_importances['importance'])\n",
    "plt.show;"
   ]
  },
  {
   "cell_type": "markdown",
   "metadata": {},
   "source": [
    "## Вывод:\n",
    "\n",
    "Чтобы сохранить клиентов, которые планируют уйти, разработана модель машинного обучения. Она предсказывает вероятный уход клиента. \n",
    "\n",
    "Из 2000 записей тестовой выборки предсказано, что:\n",
    "   - 1 294 не планируют расторгнуть договор, и из них:\n",
    "     - 1366 предсказаны верно,\n",
    "     - 227 ошибок(клиент планирует уйти, но модель этого не предугадала);\n",
    "   - 706 планируют расторгнуть договор, и из них:\n",
    "     - 293 предсказаны верно;\n",
    "     - 114 ошибок (модель предсказала уход лояльного клиента)\n",
    "\n",
    "Самым важным признаком для предсказания оказалось время с заключения договора, на втором месте - наличие кредитной карты, далее - количество продуктов, которыми пользуется клиент.\n",
    "\n",
    "Значение F1-меры на тестовой выборке равно 0.632.\n",
    "\n",
    "Необходимо было достигнуть значения F1-меры 0.59, значит, обучение прошло успешно."
   ]
  },
  {
   "cell_type": "code",
   "execution_count": null,
   "metadata": {},
   "outputs": [],
   "source": []
  }
 ],
 "metadata": {
  "ExecuteTimeLog": [
   {
    "duration": 856,
    "start_time": "2022-06-05T06:04:54.196Z"
   },
   {
    "duration": 4,
    "start_time": "2022-06-05T06:05:58.434Z"
   },
   {
    "duration": 76,
    "start_time": "2022-06-05T06:07:21.679Z"
   },
   {
    "duration": 38,
    "start_time": "2022-06-05T06:07:32.643Z"
   },
   {
    "duration": 4,
    "start_time": "2022-06-05T06:07:40.710Z"
   },
   {
    "duration": 43,
    "start_time": "2022-06-05T06:08:17.091Z"
   },
   {
    "duration": 16,
    "start_time": "2022-06-05T06:08:29.073Z"
   },
   {
    "duration": 11,
    "start_time": "2022-06-05T06:08:35.309Z"
   },
   {
    "duration": 96,
    "start_time": "2022-06-05T06:08:41.779Z"
   },
   {
    "duration": 11,
    "start_time": "2022-06-05T06:08:52.713Z"
   },
   {
    "duration": 5,
    "start_time": "2022-06-05T06:13:19.005Z"
   },
   {
    "duration": 6,
    "start_time": "2022-06-05T06:14:59.704Z"
   },
   {
    "duration": 5,
    "start_time": "2022-06-05T06:15:05.829Z"
   },
   {
    "duration": 20,
    "start_time": "2022-06-05T06:15:09.931Z"
   },
   {
    "duration": 3,
    "start_time": "2022-06-05T06:18:37.007Z"
   },
   {
    "duration": 5,
    "start_time": "2022-06-05T06:18:39.617Z"
   },
   {
    "duration": 4,
    "start_time": "2022-06-05T06:18:40.815Z"
   },
   {
    "duration": 11,
    "start_time": "2022-06-05T06:18:42.048Z"
   },
   {
    "duration": 39,
    "start_time": "2022-06-05T06:18:43.414Z"
   },
   {
    "duration": 11,
    "start_time": "2022-06-05T06:18:44.783Z"
   },
   {
    "duration": 29,
    "start_time": "2022-06-05T06:18:45.272Z"
   },
   {
    "duration": 969,
    "start_time": "2022-06-06T06:13:59.337Z"
   },
   {
    "duration": 80,
    "start_time": "2022-06-06T06:14:00.310Z"
   },
   {
    "duration": 9,
    "start_time": "2022-06-06T06:14:00.391Z"
   },
   {
    "duration": 21,
    "start_time": "2022-06-06T06:14:00.402Z"
   },
   {
    "duration": 18,
    "start_time": "2022-06-06T06:14:00.424Z"
   },
   {
    "duration": 26,
    "start_time": "2022-06-06T06:14:00.443Z"
   },
   {
    "duration": 69,
    "start_time": "2022-06-06T06:14:00.471Z"
   },
   {
    "duration": 12,
    "start_time": "2022-06-06T06:14:00.542Z"
   },
   {
    "duration": 46,
    "start_time": "2022-06-06T06:14:00.556Z"
   },
   {
    "duration": 21,
    "start_time": "2022-06-06T06:16:19.199Z"
   },
   {
    "duration": 41,
    "start_time": "2022-06-06T06:17:32.038Z"
   },
   {
    "duration": 18,
    "start_time": "2022-06-06T06:17:54.533Z"
   },
   {
    "duration": 41,
    "start_time": "2022-06-06T06:18:11.610Z"
   },
   {
    "duration": 24,
    "start_time": "2022-06-06T06:19:30.157Z"
   },
   {
    "duration": 3,
    "start_time": "2022-06-06T06:29:24.525Z"
   },
   {
    "duration": 110,
    "start_time": "2022-06-06T06:29:43.522Z"
   },
   {
    "duration": 200,
    "start_time": "2022-06-06T06:29:55.884Z"
   },
   {
    "duration": 236,
    "start_time": "2022-06-06T06:30:01.708Z"
   },
   {
    "duration": 3,
    "start_time": "2022-06-06T06:32:25.065Z"
   },
   {
    "duration": 6,
    "start_time": "2022-06-06T06:32:30.294Z"
   },
   {
    "duration": 7,
    "start_time": "2022-06-06T06:32:39.123Z"
   },
   {
    "duration": 9,
    "start_time": "2022-06-06T06:33:14.951Z"
   },
   {
    "duration": 6,
    "start_time": "2022-06-06T06:33:28.900Z"
   },
   {
    "duration": 12,
    "start_time": "2022-06-06T06:33:38.498Z"
   },
   {
    "duration": 17,
    "start_time": "2022-06-06T06:34:11.968Z"
   },
   {
    "duration": 19,
    "start_time": "2022-06-06T06:34:16.889Z"
   },
   {
    "duration": 15,
    "start_time": "2022-06-06T06:34:32.886Z"
   },
   {
    "duration": 26,
    "start_time": "2022-06-06T06:34:43.491Z"
   },
   {
    "duration": 15,
    "start_time": "2022-06-06T06:42:37.637Z"
   },
   {
    "duration": 3,
    "start_time": "2022-06-06T06:42:45.950Z"
   },
   {
    "duration": 36,
    "start_time": "2022-06-06T06:42:50.523Z"
   },
   {
    "duration": 5,
    "start_time": "2022-06-06T06:42:51.623Z"
   },
   {
    "duration": 4,
    "start_time": "2022-06-06T06:42:52.423Z"
   },
   {
    "duration": 4,
    "start_time": "2022-06-06T06:42:53.199Z"
   },
   {
    "duration": 14,
    "start_time": "2022-06-06T06:42:53.974Z"
   },
   {
    "duration": 24,
    "start_time": "2022-06-06T06:42:54.995Z"
   },
   {
    "duration": 40,
    "start_time": "2022-06-06T06:42:56.159Z"
   },
   {
    "duration": 38,
    "start_time": "2022-06-06T06:42:56.970Z"
   },
   {
    "duration": 12,
    "start_time": "2022-06-06T06:42:58.135Z"
   },
   {
    "duration": 20,
    "start_time": "2022-06-06T06:42:59.743Z"
   },
   {
    "duration": 13,
    "start_time": "2022-06-06T06:43:57.024Z"
   },
   {
    "duration": 3,
    "start_time": "2022-06-06T06:44:00.973Z"
   },
   {
    "duration": 55,
    "start_time": "2022-06-06T06:44:00.978Z"
   },
   {
    "duration": 4,
    "start_time": "2022-06-06T06:44:01.035Z"
   },
   {
    "duration": 29,
    "start_time": "2022-06-06T06:44:01.040Z"
   },
   {
    "duration": 17,
    "start_time": "2022-06-06T06:44:01.072Z"
   },
   {
    "duration": 28,
    "start_time": "2022-06-06T06:44:01.091Z"
   },
   {
    "duration": 32,
    "start_time": "2022-06-06T06:44:01.121Z"
   },
   {
    "duration": 69,
    "start_time": "2022-06-06T06:44:01.155Z"
   },
   {
    "duration": 40,
    "start_time": "2022-06-06T06:44:01.226Z"
   },
   {
    "duration": 19,
    "start_time": "2022-06-06T06:44:01.268Z"
   },
   {
    "duration": 23,
    "start_time": "2022-06-06T06:44:01.288Z"
   },
   {
    "duration": 26,
    "start_time": "2022-06-06T06:44:11.149Z"
   },
   {
    "duration": 24,
    "start_time": "2022-06-06T06:44:19.059Z"
   },
   {
    "duration": 4,
    "start_time": "2022-06-06T06:46:16.855Z"
   },
   {
    "duration": 37,
    "start_time": "2022-06-06T06:46:17.293Z"
   },
   {
    "duration": 4,
    "start_time": "2022-06-06T06:46:18.190Z"
   },
   {
    "duration": 16,
    "start_time": "2022-06-06T06:46:28.521Z"
   },
   {
    "duration": 3,
    "start_time": "2022-06-06T06:46:31.071Z"
   },
   {
    "duration": 39,
    "start_time": "2022-06-06T06:46:31.449Z"
   },
   {
    "duration": 5,
    "start_time": "2022-06-06T06:46:32.547Z"
   },
   {
    "duration": 4,
    "start_time": "2022-06-06T06:46:34.818Z"
   },
   {
    "duration": 5,
    "start_time": "2022-06-06T06:46:40.735Z"
   },
   {
    "duration": 4,
    "start_time": "2022-06-06T06:46:42.861Z"
   },
   {
    "duration": 11,
    "start_time": "2022-06-06T06:46:44.103Z"
   },
   {
    "duration": 25,
    "start_time": "2022-06-06T06:46:45.624Z"
   },
   {
    "duration": 38,
    "start_time": "2022-06-06T06:46:47.858Z"
   },
   {
    "duration": 40,
    "start_time": "2022-06-06T06:46:52.453Z"
   },
   {
    "duration": 11,
    "start_time": "2022-06-06T06:46:55.057Z"
   },
   {
    "duration": 19,
    "start_time": "2022-06-06T06:46:57.166Z"
   },
   {
    "duration": 19,
    "start_time": "2022-06-06T06:47:03.308Z"
   },
   {
    "duration": 20,
    "start_time": "2022-06-06T06:55:08.829Z"
   },
   {
    "duration": 16,
    "start_time": "2022-06-06T06:55:15.230Z"
   },
   {
    "duration": 14,
    "start_time": "2022-06-06T06:56:02.368Z"
   },
   {
    "duration": 10,
    "start_time": "2022-06-06T06:57:53.431Z"
   },
   {
    "duration": 19,
    "start_time": "2022-06-06T06:58:06.085Z"
   },
   {
    "duration": 20,
    "start_time": "2022-06-06T06:58:47.858Z"
   },
   {
    "duration": 37,
    "start_time": "2022-06-06T06:58:52.581Z"
   },
   {
    "duration": 41,
    "start_time": "2022-06-06T06:59:05.559Z"
   },
   {
    "duration": 45,
    "start_time": "2022-06-06T06:59:10.982Z"
   },
   {
    "duration": 13,
    "start_time": "2022-06-06T07:03:02.870Z"
   },
   {
    "duration": 24,
    "start_time": "2022-06-06T07:05:31.484Z"
   },
   {
    "duration": 14,
    "start_time": "2022-06-06T07:05:43.319Z"
   },
   {
    "duration": 3,
    "start_time": "2022-06-06T07:05:54.011Z"
   },
   {
    "duration": 50,
    "start_time": "2022-06-06T07:05:54.017Z"
   },
   {
    "duration": 5,
    "start_time": "2022-06-06T07:05:54.069Z"
   },
   {
    "duration": 8,
    "start_time": "2022-06-06T07:05:54.076Z"
   },
   {
    "duration": 9,
    "start_time": "2022-06-06T07:05:54.087Z"
   },
   {
    "duration": 11,
    "start_time": "2022-06-06T07:05:54.097Z"
   },
   {
    "duration": 24,
    "start_time": "2022-06-06T07:05:54.110Z"
   },
   {
    "duration": 30,
    "start_time": "2022-06-06T07:05:54.136Z"
   },
   {
    "duration": 40,
    "start_time": "2022-06-06T07:05:54.167Z"
   },
   {
    "duration": 58,
    "start_time": "2022-06-06T07:05:54.210Z"
   },
   {
    "duration": 12,
    "start_time": "2022-06-06T07:05:54.271Z"
   },
   {
    "duration": 19,
    "start_time": "2022-06-06T07:05:54.286Z"
   },
   {
    "duration": 18,
    "start_time": "2022-06-06T07:06:59.780Z"
   },
   {
    "duration": 4,
    "start_time": "2022-06-06T07:07:02.986Z"
   },
   {
    "duration": 51,
    "start_time": "2022-06-06T07:07:02.992Z"
   },
   {
    "duration": 5,
    "start_time": "2022-06-06T07:07:03.046Z"
   },
   {
    "duration": 12,
    "start_time": "2022-06-06T07:07:03.054Z"
   },
   {
    "duration": 21,
    "start_time": "2022-06-06T07:07:03.069Z"
   },
   {
    "duration": 24,
    "start_time": "2022-06-06T07:07:03.092Z"
   },
   {
    "duration": 20,
    "start_time": "2022-06-06T07:07:03.119Z"
   },
   {
    "duration": 15,
    "start_time": "2022-06-06T07:07:03.142Z"
   },
   {
    "duration": 52,
    "start_time": "2022-06-06T07:07:03.159Z"
   },
   {
    "duration": 37,
    "start_time": "2022-06-06T07:07:03.213Z"
   },
   {
    "duration": 17,
    "start_time": "2022-06-06T07:07:03.252Z"
   },
   {
    "duration": 20,
    "start_time": "2022-06-06T07:07:03.271Z"
   },
   {
    "duration": 20,
    "start_time": "2022-06-06T07:07:11.575Z"
   },
   {
    "duration": 30,
    "start_time": "2022-06-06T07:07:18.711Z"
   },
   {
    "duration": 4,
    "start_time": "2022-06-06T07:08:09.951Z"
   },
   {
    "duration": 47,
    "start_time": "2022-06-06T07:08:09.958Z"
   },
   {
    "duration": 5,
    "start_time": "2022-06-06T07:08:10.007Z"
   },
   {
    "duration": 10,
    "start_time": "2022-06-06T07:08:10.014Z"
   },
   {
    "duration": 14,
    "start_time": "2022-06-06T07:08:10.027Z"
   },
   {
    "duration": 15,
    "start_time": "2022-06-06T07:08:10.043Z"
   },
   {
    "duration": 20,
    "start_time": "2022-06-06T07:08:10.060Z"
   },
   {
    "duration": 15,
    "start_time": "2022-06-06T07:08:10.082Z"
   },
   {
    "duration": 62,
    "start_time": "2022-06-06T07:08:10.099Z"
   },
   {
    "duration": 55,
    "start_time": "2022-06-06T07:08:10.164Z"
   },
   {
    "duration": 17,
    "start_time": "2022-06-06T07:08:10.222Z"
   },
   {
    "duration": 24,
    "start_time": "2022-06-06T07:08:14.031Z"
   },
   {
    "duration": 26,
    "start_time": "2022-06-06T07:08:17.443Z"
   },
   {
    "duration": 50,
    "start_time": "2022-06-06T07:08:18.886Z"
   },
   {
    "duration": 10,
    "start_time": "2022-06-06T07:12:10.940Z"
   },
   {
    "duration": 23,
    "start_time": "2022-06-06T07:12:37.852Z"
   },
   {
    "duration": 37,
    "start_time": "2022-06-06T07:12:53.716Z"
   },
   {
    "duration": 6,
    "start_time": "2022-06-06T07:13:56.752Z"
   },
   {
    "duration": 1105,
    "start_time": "2022-06-06T07:14:11.544Z"
   },
   {
    "duration": 52,
    "start_time": "2022-06-06T07:14:12.652Z"
   },
   {
    "duration": 5,
    "start_time": "2022-06-06T07:14:12.707Z"
   },
   {
    "duration": 17,
    "start_time": "2022-06-06T07:14:12.714Z"
   },
   {
    "duration": 8,
    "start_time": "2022-06-06T07:14:12.734Z"
   },
   {
    "duration": 5,
    "start_time": "2022-06-06T07:14:12.743Z"
   },
   {
    "duration": 25,
    "start_time": "2022-06-06T07:14:12.749Z"
   },
   {
    "duration": 23,
    "start_time": "2022-06-06T07:14:12.777Z"
   },
   {
    "duration": 78,
    "start_time": "2022-06-06T07:14:12.803Z"
   },
   {
    "duration": 42,
    "start_time": "2022-06-06T07:14:12.884Z"
   },
   {
    "duration": 13,
    "start_time": "2022-06-06T07:14:12.927Z"
   },
   {
    "duration": 42,
    "start_time": "2022-06-06T07:14:12.942Z"
   },
   {
    "duration": 21,
    "start_time": "2022-06-06T07:14:12.986Z"
   },
   {
    "duration": 61,
    "start_time": "2022-06-06T07:14:13.010Z"
   },
   {
    "duration": 10,
    "start_time": "2022-06-06T07:14:13.072Z"
   },
   {
    "duration": 40,
    "start_time": "2022-06-06T07:14:13.084Z"
   },
   {
    "duration": 5,
    "start_time": "2022-06-06T07:14:13.126Z"
   },
   {
    "duration": 10,
    "start_time": "2022-06-06T07:14:27.057Z"
   },
   {
    "duration": 49,
    "start_time": "2022-06-06T07:14:28.563Z"
   },
   {
    "duration": 5,
    "start_time": "2022-06-06T07:14:29.791Z"
   },
   {
    "duration": 54,
    "start_time": "2022-06-06T07:14:47.811Z"
   },
   {
    "duration": 11,
    "start_time": "2022-06-06T07:15:04.072Z"
   },
   {
    "duration": 16,
    "start_time": "2022-06-06T07:15:12.594Z"
   },
   {
    "duration": 132,
    "start_time": "2022-06-06T07:23:55.309Z"
   },
   {
    "duration": 7,
    "start_time": "2022-06-06T07:24:10.399Z"
   },
   {
    "duration": 7,
    "start_time": "2022-06-06T07:24:53.563Z"
   },
   {
    "duration": 3,
    "start_time": "2022-06-06T07:26:27.816Z"
   },
   {
    "duration": 50,
    "start_time": "2022-06-06T07:26:28.352Z"
   },
   {
    "duration": 5,
    "start_time": "2022-06-06T07:26:29.784Z"
   },
   {
    "duration": 5,
    "start_time": "2022-06-06T07:26:33.386Z"
   },
   {
    "duration": 5,
    "start_time": "2022-06-06T07:26:35.431Z"
   },
   {
    "duration": 4,
    "start_time": "2022-06-06T07:26:36.507Z"
   },
   {
    "duration": 20,
    "start_time": "2022-06-06T07:26:37.542Z"
   },
   {
    "duration": 19,
    "start_time": "2022-06-06T07:26:39.090Z"
   },
   {
    "duration": 43,
    "start_time": "2022-06-06T07:26:43.466Z"
   },
   {
    "duration": 39,
    "start_time": "2022-06-06T07:26:44.941Z"
   },
   {
    "duration": 25,
    "start_time": "2022-06-06T07:34:12.802Z"
   },
   {
    "duration": 20,
    "start_time": "2022-06-06T07:34:15.109Z"
   },
   {
    "duration": 33,
    "start_time": "2022-06-06T07:34:16.709Z"
   },
   {
    "duration": 10,
    "start_time": "2022-06-06T07:34:18.633Z"
   },
   {
    "duration": 15,
    "start_time": "2022-06-06T07:34:19.701Z"
   },
   {
    "duration": 7,
    "start_time": "2022-06-06T07:34:20.573Z"
   },
   {
    "duration": 14,
    "start_time": "2022-06-06T07:34:21.881Z"
   },
   {
    "duration": 7,
    "start_time": "2022-06-06T07:34:31.358Z"
   },
   {
    "duration": 9,
    "start_time": "2022-06-06T07:44:01.639Z"
   },
   {
    "duration": 3,
    "start_time": "2022-06-06T07:44:51.694Z"
   },
   {
    "duration": 20,
    "start_time": "2022-06-06T07:44:59.949Z"
   },
   {
    "duration": 3,
    "start_time": "2022-06-06T07:47:46.104Z"
   },
   {
    "duration": 40,
    "start_time": "2022-06-06T07:47:46.492Z"
   },
   {
    "duration": 5,
    "start_time": "2022-06-06T07:47:47.337Z"
   },
   {
    "duration": 4,
    "start_time": "2022-06-06T07:47:48.193Z"
   },
   {
    "duration": 7,
    "start_time": "2022-06-06T07:47:49.475Z"
   },
   {
    "duration": 4,
    "start_time": "2022-06-06T07:47:50.450Z"
   },
   {
    "duration": 13,
    "start_time": "2022-06-06T07:47:51.693Z"
   },
   {
    "duration": 11,
    "start_time": "2022-06-06T07:47:53.192Z"
   },
   {
    "duration": 20,
    "start_time": "2022-06-06T07:47:55.281Z"
   },
   {
    "duration": 39,
    "start_time": "2022-06-06T07:48:00.318Z"
   },
   {
    "duration": 47,
    "start_time": "2022-06-06T07:48:01.626Z"
   },
   {
    "duration": 27,
    "start_time": "2022-06-06T07:48:08.288Z"
   },
   {
    "duration": 19,
    "start_time": "2022-06-06T07:48:10.085Z"
   },
   {
    "duration": 19,
    "start_time": "2022-06-06T07:48:15.079Z"
   },
   {
    "duration": 34,
    "start_time": "2022-06-06T07:48:17.828Z"
   },
   {
    "duration": 8,
    "start_time": "2022-06-06T07:48:20.856Z"
   },
   {
    "duration": 10,
    "start_time": "2022-06-06T07:48:23.483Z"
   },
   {
    "duration": 6,
    "start_time": "2022-06-06T07:48:25.303Z"
   },
   {
    "duration": 10,
    "start_time": "2022-06-06T07:48:27.375Z"
   },
   {
    "duration": 35,
    "start_time": "2022-06-06T07:48:29.287Z"
   },
   {
    "duration": 35,
    "start_time": "2022-06-06T07:49:31.652Z"
   },
   {
    "duration": 10,
    "start_time": "2022-06-06T07:51:54.752Z"
   },
   {
    "duration": 4,
    "start_time": "2022-06-06T07:52:14.878Z"
   },
   {
    "duration": 7,
    "start_time": "2022-06-06T07:52:19.133Z"
   },
   {
    "duration": 3,
    "start_time": "2022-06-06T07:53:41.430Z"
   },
   {
    "duration": 38,
    "start_time": "2022-06-06T07:54:30.949Z"
   },
   {
    "duration": 7,
    "start_time": "2022-06-06T07:54:47.145Z"
   },
   {
    "duration": 8,
    "start_time": "2022-06-06T07:57:58.286Z"
   },
   {
    "duration": 11,
    "start_time": "2022-06-06T07:58:09.095Z"
   },
   {
    "duration": 5,
    "start_time": "2022-06-06T08:01:25.378Z"
   },
   {
    "duration": 4,
    "start_time": "2022-06-06T08:01:51.376Z"
   },
   {
    "duration": 10,
    "start_time": "2022-06-06T08:01:59.524Z"
   },
   {
    "duration": 4,
    "start_time": "2022-06-06T08:02:04.620Z"
   },
   {
    "duration": 4,
    "start_time": "2022-06-06T08:02:14.806Z"
   },
   {
    "duration": 4,
    "start_time": "2022-06-06T08:02:19.555Z"
   },
   {
    "duration": 5,
    "start_time": "2022-06-06T08:07:16.619Z"
   },
   {
    "duration": 41,
    "start_time": "2022-06-06T08:07:23.002Z"
   },
   {
    "duration": 5,
    "start_time": "2022-06-06T08:07:24.324Z"
   },
   {
    "duration": 4,
    "start_time": "2022-06-06T08:07:25.360Z"
   },
   {
    "duration": 5,
    "start_time": "2022-06-06T08:07:26.996Z"
   },
   {
    "duration": 7,
    "start_time": "2022-06-06T08:07:28.172Z"
   },
   {
    "duration": 14,
    "start_time": "2022-06-06T08:07:29.129Z"
   },
   {
    "duration": 11,
    "start_time": "2022-06-06T08:07:30.129Z"
   },
   {
    "duration": 16,
    "start_time": "2022-06-06T08:07:31.721Z"
   },
   {
    "duration": 41,
    "start_time": "2022-06-06T08:07:33.692Z"
   },
   {
    "duration": 35,
    "start_time": "2022-06-06T08:07:36.192Z"
   },
   {
    "duration": 4,
    "start_time": "2022-06-06T08:07:38.018Z"
   },
   {
    "duration": 18,
    "start_time": "2022-06-06T08:07:41.370Z"
   },
   {
    "duration": 1025,
    "start_time": "2022-06-06T08:08:22.873Z"
   },
   {
    "duration": 42,
    "start_time": "2022-06-06T08:08:24.358Z"
   },
   {
    "duration": 5,
    "start_time": "2022-06-06T08:08:25.644Z"
   },
   {
    "duration": 8,
    "start_time": "2022-06-06T08:08:26.709Z"
   },
   {
    "duration": 5,
    "start_time": "2022-06-06T08:08:30.125Z"
   },
   {
    "duration": 4,
    "start_time": "2022-06-06T08:08:33.021Z"
   },
   {
    "duration": 25,
    "start_time": "2022-06-06T08:08:36.156Z"
   },
   {
    "duration": 12,
    "start_time": "2022-06-06T08:08:37.687Z"
   },
   {
    "duration": 18,
    "start_time": "2022-06-06T08:08:39.671Z"
   },
   {
    "duration": 42,
    "start_time": "2022-06-06T08:08:42.600Z"
   },
   {
    "duration": 36,
    "start_time": "2022-06-06T08:08:44.083Z"
   },
   {
    "duration": 5,
    "start_time": "2022-06-06T08:08:45.455Z"
   },
   {
    "duration": 130,
    "start_time": "2022-06-06T08:08:53.403Z"
   },
   {
    "duration": 6,
    "start_time": "2022-06-06T08:09:22.034Z"
   },
   {
    "duration": 11,
    "start_time": "2022-06-06T08:09:33.063Z"
   },
   {
    "duration": 46,
    "start_time": "2022-06-06T08:09:33.356Z"
   },
   {
    "duration": 4,
    "start_time": "2022-06-06T08:09:33.800Z"
   },
   {
    "duration": 5,
    "start_time": "2022-06-06T08:09:34.539Z"
   },
   {
    "duration": 5,
    "start_time": "2022-06-06T08:09:35.036Z"
   },
   {
    "duration": 4,
    "start_time": "2022-06-06T08:09:35.660Z"
   },
   {
    "duration": 14,
    "start_time": "2022-06-06T08:09:36.327Z"
   },
   {
    "duration": 10,
    "start_time": "2022-06-06T08:09:37.096Z"
   },
   {
    "duration": 15,
    "start_time": "2022-06-06T08:09:38.231Z"
   },
   {
    "duration": 45,
    "start_time": "2022-06-06T08:09:39.428Z"
   },
   {
    "duration": 43,
    "start_time": "2022-06-06T08:09:40.332Z"
   },
   {
    "duration": 4,
    "start_time": "2022-06-06T08:09:41.125Z"
   },
   {
    "duration": 21,
    "start_time": "2022-06-06T08:09:44.933Z"
   },
   {
    "duration": 21,
    "start_time": "2022-06-06T08:09:54.581Z"
   },
   {
    "duration": 19,
    "start_time": "2022-06-06T08:09:58.678Z"
   },
   {
    "duration": 30,
    "start_time": "2022-06-06T08:10:00.205Z"
   },
   {
    "duration": 10,
    "start_time": "2022-06-06T08:10:03.506Z"
   },
   {
    "duration": 10,
    "start_time": "2022-06-06T08:10:04.936Z"
   },
   {
    "duration": 5,
    "start_time": "2022-06-06T08:10:06.235Z"
   },
   {
    "duration": 6,
    "start_time": "2022-06-06T08:10:10.688Z"
   },
   {
    "duration": 11,
    "start_time": "2022-06-06T08:10:13.736Z"
   },
   {
    "duration": 622,
    "start_time": "2022-06-06T08:10:26.284Z"
   },
   {
    "duration": 113,
    "start_time": "2022-06-06T08:10:38.312Z"
   },
   {
    "duration": 40,
    "start_time": "2022-06-06T08:12:29.746Z"
   },
   {
    "duration": 20,
    "start_time": "2022-06-06T08:15:27.632Z"
   },
   {
    "duration": 7,
    "start_time": "2022-06-06T08:15:28.689Z"
   },
   {
    "duration": 5,
    "start_time": "2022-06-06T08:15:29.151Z"
   },
   {
    "duration": 37,
    "start_time": "2022-06-06T08:16:28.511Z"
   },
   {
    "duration": 12,
    "start_time": "2022-06-06T08:16:30.063Z"
   },
   {
    "duration": 39,
    "start_time": "2022-06-06T08:16:53.962Z"
   },
   {
    "duration": 6,
    "start_time": "2022-06-06T08:16:55.157Z"
   },
   {
    "duration": 27,
    "start_time": "2022-06-06T08:21:56.056Z"
   },
   {
    "duration": 191,
    "start_time": "2022-06-06T08:22:02.416Z"
   },
   {
    "duration": 10,
    "start_time": "2022-06-06T08:22:37.130Z"
   },
   {
    "duration": 4,
    "start_time": "2022-06-06T08:22:55.360Z"
   },
   {
    "duration": 4,
    "start_time": "2022-06-06T08:23:08.221Z"
   },
   {
    "duration": 181,
    "start_time": "2022-06-06T08:23:13.026Z"
   },
   {
    "duration": 124,
    "start_time": "2022-06-06T08:23:13.878Z"
   },
   {
    "duration": 195,
    "start_time": "2022-06-06T08:23:31.004Z"
   },
   {
    "duration": 189,
    "start_time": "2022-06-06T08:24:10.159Z"
   },
   {
    "duration": 4,
    "start_time": "2022-06-06T08:24:22.163Z"
   },
   {
    "duration": 182,
    "start_time": "2022-06-06T08:24:34.465Z"
   },
   {
    "duration": 4,
    "start_time": "2022-06-06T08:24:34.847Z"
   },
   {
    "duration": 110,
    "start_time": "2022-06-06T08:24:35.378Z"
   },
   {
    "duration": 208,
    "start_time": "2022-06-06T08:24:50.489Z"
   },
   {
    "duration": 4,
    "start_time": "2022-06-06T08:24:51.697Z"
   },
   {
    "duration": 114,
    "start_time": "2022-06-06T08:24:52.708Z"
   },
   {
    "duration": 501,
    "start_time": "2022-06-06T08:25:14.182Z"
   },
   {
    "duration": 4,
    "start_time": "2022-06-06T08:25:15.710Z"
   },
   {
    "duration": 138,
    "start_time": "2022-06-06T08:25:16.463Z"
   },
   {
    "duration": 4,
    "start_time": "2022-06-06T08:25:30.380Z"
   },
   {
    "duration": 4,
    "start_time": "2022-06-06T08:25:34.539Z"
   },
   {
    "duration": 517,
    "start_time": "2022-06-06T08:26:35.965Z"
   },
   {
    "duration": 4,
    "start_time": "2022-06-06T08:26:36.754Z"
   },
   {
    "duration": 137,
    "start_time": "2022-06-06T08:26:37.406Z"
   },
   {
    "duration": 1179,
    "start_time": "2022-06-06T08:27:06.830Z"
   },
   {
    "duration": 122,
    "start_time": "2022-06-06T08:27:08.011Z"
   },
   {
    "duration": 4,
    "start_time": "2022-06-06T08:27:08.135Z"
   },
   {
    "duration": 10,
    "start_time": "2022-06-06T08:27:08.141Z"
   },
   {
    "duration": 22,
    "start_time": "2022-06-06T08:27:08.153Z"
   },
   {
    "duration": 4,
    "start_time": "2022-06-06T08:27:08.178Z"
   },
   {
    "duration": 15,
    "start_time": "2022-06-06T08:27:08.183Z"
   },
   {
    "duration": 12,
    "start_time": "2022-06-06T08:27:08.199Z"
   },
   {
    "duration": 15,
    "start_time": "2022-06-06T08:27:08.212Z"
   },
   {
    "duration": 64,
    "start_time": "2022-06-06T08:27:08.228Z"
   },
   {
    "duration": 39,
    "start_time": "2022-06-06T08:27:08.294Z"
   },
   {
    "duration": 4,
    "start_time": "2022-06-06T08:27:08.335Z"
   },
   {
    "duration": 40,
    "start_time": "2022-06-06T08:27:08.340Z"
   },
   {
    "duration": 20,
    "start_time": "2022-06-06T08:27:08.383Z"
   },
   {
    "duration": 29,
    "start_time": "2022-06-06T08:27:08.405Z"
   },
   {
    "duration": 37,
    "start_time": "2022-06-06T08:27:08.436Z"
   },
   {
    "duration": 11,
    "start_time": "2022-06-06T08:27:08.477Z"
   },
   {
    "duration": 6,
    "start_time": "2022-06-06T08:27:08.489Z"
   },
   {
    "duration": 9,
    "start_time": "2022-06-06T08:27:08.496Z"
   },
   {
    "duration": 119,
    "start_time": "2022-06-06T08:27:11.934Z"
   },
   {
    "duration": 514,
    "start_time": "2022-06-06T08:27:23.719Z"
   },
   {
    "duration": 4,
    "start_time": "2022-06-06T08:27:25.383Z"
   },
   {
    "duration": 161,
    "start_time": "2022-06-06T08:27:28.883Z"
   },
   {
    "duration": 190,
    "start_time": "2022-06-06T08:27:47.557Z"
   },
   {
    "duration": 109,
    "start_time": "2022-06-06T08:27:48.445Z"
   },
   {
    "duration": 518,
    "start_time": "2022-06-06T08:28:04.385Z"
   },
   {
    "duration": 124,
    "start_time": "2022-06-06T08:28:05.081Z"
   },
   {
    "duration": 131,
    "start_time": "2022-06-06T08:30:21.740Z"
   },
   {
    "duration": 138,
    "start_time": "2022-06-06T08:30:58.451Z"
   },
   {
    "duration": 121,
    "start_time": "2022-06-06T08:31:50.968Z"
   },
   {
    "duration": 108,
    "start_time": "2022-06-06T08:32:00.596Z"
   },
   {
    "duration": 110,
    "start_time": "2022-06-06T08:32:24.533Z"
   },
   {
    "duration": 102,
    "start_time": "2022-06-06T08:32:40.733Z"
   },
   {
    "duration": 100,
    "start_time": "2022-06-06T08:32:45.441Z"
   },
   {
    "duration": 130,
    "start_time": "2022-06-06T08:32:49.260Z"
   },
   {
    "duration": 35,
    "start_time": "2022-06-06T08:33:23.070Z"
   },
   {
    "duration": 40,
    "start_time": "2022-06-06T08:33:35.351Z"
   },
   {
    "duration": 1067,
    "start_time": "2022-06-06T08:35:29.527Z"
   },
   {
    "duration": 1104,
    "start_time": "2022-06-06T08:37:13.047Z"
   },
   {
    "duration": 1193,
    "start_time": "2022-06-06T08:37:50.634Z"
   },
   {
    "duration": 1270,
    "start_time": "2022-06-06T08:38:18.180Z"
   },
   {
    "duration": 6826,
    "start_time": "2022-06-06T08:38:56.471Z"
   },
   {
    "duration": 6622,
    "start_time": "2022-06-06T08:39:19.134Z"
   },
   {
    "duration": 6487,
    "start_time": "2022-06-06T08:39:49.040Z"
   },
   {
    "duration": 529,
    "start_time": "2022-06-06T08:41:17.352Z"
   },
   {
    "duration": 118,
    "start_time": "2022-06-06T08:41:19.531Z"
   },
   {
    "duration": 6362,
    "start_time": "2022-06-06T08:41:22.397Z"
   },
   {
    "duration": 5,
    "start_time": "2022-06-06T08:41:58.119Z"
   },
   {
    "duration": 572,
    "start_time": "2022-06-06T08:44:01.639Z"
   },
   {
    "duration": 6360,
    "start_time": "2022-06-06T08:45:24.186Z"
   },
   {
    "duration": 18604,
    "start_time": "2022-06-06T08:45:47.719Z"
   },
   {
    "duration": 141,
    "start_time": "2022-06-06T08:47:06.332Z"
   },
   {
    "duration": 204,
    "start_time": "2022-06-06T08:48:16.642Z"
   },
   {
    "duration": 12,
    "start_time": "2022-06-06T08:49:02.734Z"
   },
   {
    "duration": 10,
    "start_time": "2022-06-06T08:49:21.972Z"
   },
   {
    "duration": 5,
    "start_time": "2022-06-06T08:49:26.916Z"
   },
   {
    "duration": 7,
    "start_time": "2022-06-06T08:50:46.764Z"
   },
   {
    "duration": 9,
    "start_time": "2022-06-06T08:53:24.466Z"
   },
   {
    "duration": 23,
    "start_time": "2022-06-06T08:56:41.194Z"
   },
   {
    "duration": 3,
    "start_time": "2022-06-06T08:58:18.291Z"
   },
   {
    "duration": 30,
    "start_time": "2022-06-06T09:00:54.949Z"
   },
   {
    "duration": 4,
    "start_time": "2022-06-06T09:02:27.862Z"
   },
   {
    "duration": 4,
    "start_time": "2022-06-06T09:02:35.815Z"
   },
   {
    "duration": 5,
    "start_time": "2022-06-06T09:02:36.484Z"
   },
   {
    "duration": 4,
    "start_time": "2022-06-06T09:04:22.270Z"
   },
   {
    "duration": 5,
    "start_time": "2022-06-06T09:04:27.372Z"
   },
   {
    "duration": 32,
    "start_time": "2022-06-06T09:07:15.198Z"
   },
   {
    "duration": 4,
    "start_time": "2022-06-06T09:07:17.274Z"
   },
   {
    "duration": 4,
    "start_time": "2022-06-06T09:07:17.854Z"
   },
   {
    "duration": 32,
    "start_time": "2022-06-06T09:07:32.381Z"
   },
   {
    "duration": 5,
    "start_time": "2022-06-06T09:07:33.099Z"
   },
   {
    "duration": 4,
    "start_time": "2022-06-06T09:07:33.544Z"
   },
   {
    "duration": 31,
    "start_time": "2022-06-06T09:08:46.750Z"
   },
   {
    "duration": 18847,
    "start_time": "2022-06-06T09:09:52.690Z"
   },
   {
    "duration": 347,
    "start_time": "2022-06-06T09:10:18.539Z"
   },
   {
    "duration": 105,
    "start_time": "2022-06-06T09:10:26.932Z"
   },
   {
    "duration": 9,
    "start_time": "2022-06-06T09:10:29.110Z"
   },
   {
    "duration": 31,
    "start_time": "2022-06-06T09:11:07.086Z"
   },
   {
    "duration": 32,
    "start_time": "2022-06-06T09:11:12.951Z"
   },
   {
    "duration": 343,
    "start_time": "2022-06-06T09:11:21.865Z"
   },
   {
    "duration": 337,
    "start_time": "2022-06-06T09:12:26.781Z"
   },
   {
    "duration": 36,
    "start_time": "2022-06-06T09:12:35.280Z"
   },
   {
    "duration": 10,
    "start_time": "2022-06-06T09:12:40.524Z"
   },
   {
    "duration": 11,
    "start_time": "2022-06-06T09:13:26.972Z"
   },
   {
    "duration": 14,
    "start_time": "2022-06-06T09:14:10.997Z"
   },
   {
    "duration": 1157,
    "start_time": "2022-06-06T09:14:52.106Z"
   },
   {
    "duration": 112,
    "start_time": "2022-06-06T09:14:53.265Z"
   },
   {
    "duration": 5,
    "start_time": "2022-06-06T09:14:53.378Z"
   },
   {
    "duration": 19,
    "start_time": "2022-06-06T09:14:53.385Z"
   },
   {
    "duration": 22,
    "start_time": "2022-06-06T09:14:53.405Z"
   },
   {
    "duration": 24,
    "start_time": "2022-06-06T09:14:53.428Z"
   },
   {
    "duration": 26,
    "start_time": "2022-06-06T09:14:53.454Z"
   },
   {
    "duration": 16,
    "start_time": "2022-06-06T09:14:53.482Z"
   },
   {
    "duration": 18,
    "start_time": "2022-06-06T09:14:53.499Z"
   },
   {
    "duration": 46,
    "start_time": "2022-06-06T09:14:53.520Z"
   },
   {
    "duration": 40,
    "start_time": "2022-06-06T09:14:53.568Z"
   },
   {
    "duration": 7,
    "start_time": "2022-06-06T09:14:53.609Z"
   },
   {
    "duration": 41,
    "start_time": "2022-06-06T09:14:53.618Z"
   },
   {
    "duration": 23,
    "start_time": "2022-06-06T09:14:53.665Z"
   },
   {
    "duration": 43,
    "start_time": "2022-06-06T09:14:53.690Z"
   },
   {
    "duration": 32,
    "start_time": "2022-06-06T09:14:53.735Z"
   },
   {
    "duration": 10,
    "start_time": "2022-06-06T09:14:53.768Z"
   },
   {
    "duration": 8,
    "start_time": "2022-06-06T09:14:53.780Z"
   },
   {
    "duration": 18,
    "start_time": "2022-06-06T09:14:53.790Z"
   },
   {
    "duration": 499,
    "start_time": "2022-06-06T09:14:53.810Z"
   },
   {
    "duration": 130,
    "start_time": "2022-06-06T09:14:54.311Z"
   },
   {
    "duration": 45,
    "start_time": "2022-06-06T09:14:54.443Z"
   },
   {
    "duration": 19809,
    "start_time": "2022-06-06T09:14:54.490Z"
   },
   {
    "duration": 344,
    "start_time": "2022-06-06T09:15:14.301Z"
   },
   {
    "duration": 120,
    "start_time": "2022-06-06T09:15:14.647Z"
   },
   {
    "duration": 9,
    "start_time": "2022-06-06T09:15:14.769Z"
   },
   {
    "duration": 4,
    "start_time": "2022-06-06T09:18:12.804Z"
   },
   {
    "duration": 29,
    "start_time": "2022-06-06T09:24:07.247Z"
   },
   {
    "duration": 11,
    "start_time": "2022-06-06T09:25:44.385Z"
   },
   {
    "duration": 19,
    "start_time": "2022-06-06T11:01:55.261Z"
   },
   {
    "duration": 7,
    "start_time": "2022-06-06T11:02:27.374Z"
   },
   {
    "duration": 5,
    "start_time": "2022-06-06T11:03:23.019Z"
   },
   {
    "duration": 48,
    "start_time": "2022-06-06T11:03:23.406Z"
   },
   {
    "duration": 7,
    "start_time": "2022-06-06T11:03:24.606Z"
   },
   {
    "duration": 5,
    "start_time": "2022-06-06T11:03:26.855Z"
   },
   {
    "duration": 6,
    "start_time": "2022-06-06T11:03:28.175Z"
   },
   {
    "duration": 4,
    "start_time": "2022-06-06T11:03:29.888Z"
   },
   {
    "duration": 15,
    "start_time": "2022-06-06T11:03:31.315Z"
   },
   {
    "duration": 13,
    "start_time": "2022-06-06T11:03:33.177Z"
   },
   {
    "duration": 19,
    "start_time": "2022-06-06T11:03:34.548Z"
   },
   {
    "duration": 50,
    "start_time": "2022-06-06T11:03:36.784Z"
   },
   {
    "duration": 39,
    "start_time": "2022-06-06T11:03:40.318Z"
   },
   {
    "duration": 7,
    "start_time": "2022-06-06T11:03:45.755Z"
   },
   {
    "duration": 143,
    "start_time": "2022-06-06T11:04:02.282Z"
   },
   {
    "duration": 218,
    "start_time": "2022-06-06T11:04:08.955Z"
   },
   {
    "duration": 41,
    "start_time": "2022-06-06T11:04:37.886Z"
   },
   {
    "duration": 7,
    "start_time": "2022-06-06T11:04:38.632Z"
   },
   {
    "duration": 5,
    "start_time": "2022-06-06T11:04:39.409Z"
   },
   {
    "duration": 6,
    "start_time": "2022-06-06T11:04:40.249Z"
   },
   {
    "duration": 4,
    "start_time": "2022-06-06T11:04:41.201Z"
   },
   {
    "duration": 17,
    "start_time": "2022-06-06T11:04:42.902Z"
   },
   {
    "duration": 14,
    "start_time": "2022-06-06T11:04:43.978Z"
   },
   {
    "duration": 19,
    "start_time": "2022-06-06T11:04:45.880Z"
   },
   {
    "duration": 147,
    "start_time": "2022-06-06T11:04:47.729Z"
   },
   {
    "duration": 59,
    "start_time": "2022-06-06T11:04:50.438Z"
   },
   {
    "duration": 57,
    "start_time": "2022-06-06T11:04:51.788Z"
   },
   {
    "duration": 170,
    "start_time": "2022-06-06T11:04:52.769Z"
   },
   {
    "duration": 24,
    "start_time": "2022-06-06T11:05:32.221Z"
   },
   {
    "duration": 1642,
    "start_time": "2022-06-06T11:08:27.695Z"
   },
   {
    "duration": 20,
    "start_time": "2022-06-06T11:10:59.882Z"
   },
   {
    "duration": 16,
    "start_time": "2022-06-06T11:11:23.923Z"
   },
   {
    "duration": 13,
    "start_time": "2022-06-06T11:11:36.409Z"
   },
   {
    "duration": 18,
    "start_time": "2022-06-06T11:12:02.183Z"
   },
   {
    "duration": 32,
    "start_time": "2022-06-06T11:12:25.824Z"
   },
   {
    "duration": 10,
    "start_time": "2022-06-06T11:13:11.631Z"
   },
   {
    "duration": 10,
    "start_time": "2022-06-06T11:13:12.885Z"
   },
   {
    "duration": 5,
    "start_time": "2022-06-06T11:13:14.009Z"
   },
   {
    "duration": 7,
    "start_time": "2022-06-06T11:13:15.890Z"
   },
   {
    "duration": 691,
    "start_time": "2022-06-06T11:13:24.504Z"
   },
   {
    "duration": 129,
    "start_time": "2022-06-06T11:13:26.930Z"
   },
   {
    "duration": 45,
    "start_time": "2022-06-06T11:13:32.617Z"
   },
   {
    "duration": 170,
    "start_time": "2022-06-06T11:19:38.956Z"
   },
   {
    "duration": 4,
    "start_time": "2022-06-06T11:19:55.933Z"
   },
   {
    "duration": 51,
    "start_time": "2022-06-06T11:19:59.221Z"
   },
   {
    "duration": 17,
    "start_time": "2022-06-06T11:20:07.729Z"
   },
   {
    "duration": 44,
    "start_time": "2022-06-06T11:21:14.424Z"
   },
   {
    "duration": 12,
    "start_time": "2022-06-06T11:22:36.083Z"
   },
   {
    "duration": 12,
    "start_time": "2022-06-06T11:22:42.330Z"
   },
   {
    "duration": 11,
    "start_time": "2022-06-06T11:23:00.335Z"
   },
   {
    "duration": 7,
    "start_time": "2022-06-06T11:24:55.208Z"
   },
   {
    "duration": 11,
    "start_time": "2022-06-06T11:25:06.762Z"
   },
   {
    "duration": 7,
    "start_time": "2022-06-06T11:25:10.474Z"
   },
   {
    "duration": 14,
    "start_time": "2022-06-06T11:25:35.343Z"
   },
   {
    "duration": 5,
    "start_time": "2022-06-06T11:25:45.633Z"
   },
   {
    "duration": 6,
    "start_time": "2022-06-06T11:25:51.054Z"
   },
   {
    "duration": 59,
    "start_time": "2022-06-06T11:26:04.742Z"
   },
   {
    "duration": 9,
    "start_time": "2022-06-06T11:26:10.171Z"
   },
   {
    "duration": 12,
    "start_time": "2022-06-06T11:26:38.196Z"
   },
   {
    "duration": 18,
    "start_time": "2022-06-06T11:26:39.418Z"
   },
   {
    "duration": 71,
    "start_time": "2022-06-06T11:28:01.811Z"
   },
   {
    "duration": 83,
    "start_time": "2022-06-06T11:29:12.590Z"
   },
   {
    "duration": 4,
    "start_time": "2022-06-06T11:30:19.482Z"
   },
   {
    "duration": 129,
    "start_time": "2022-06-06T11:30:39.584Z"
   },
   {
    "duration": 136,
    "start_time": "2022-06-06T11:31:23.752Z"
   },
   {
    "duration": 174,
    "start_time": "2022-06-06T11:32:08.586Z"
   },
   {
    "duration": 49,
    "start_time": "2022-06-06T11:32:11.481Z"
   },
   {
    "duration": 194,
    "start_time": "2022-06-06T11:32:12.483Z"
   },
   {
    "duration": 485,
    "start_time": "2022-06-06T11:32:28.043Z"
   },
   {
    "duration": 125,
    "start_time": "2022-06-06T11:32:28.727Z"
   },
   {
    "duration": 7,
    "start_time": "2022-06-06T11:33:13.210Z"
   },
   {
    "duration": 14,
    "start_time": "2022-06-06T11:33:14.118Z"
   },
   {
    "duration": 826,
    "start_time": "2022-06-06T11:34:00.874Z"
   },
   {
    "duration": 141,
    "start_time": "2022-06-06T11:34:08.497Z"
   },
   {
    "duration": 51,
    "start_time": "2022-06-06T11:34:25.021Z"
   },
   {
    "duration": 151,
    "start_time": "2022-06-06T11:35:29.176Z"
   },
   {
    "duration": 47,
    "start_time": "2022-06-06T11:36:08.600Z"
   },
   {
    "duration": 134,
    "start_time": "2022-06-06T11:36:09.896Z"
   },
   {
    "duration": 29756,
    "start_time": "2022-06-06T11:37:32.423Z"
   },
   {
    "duration": 247,
    "start_time": "2022-06-06T11:38:29.172Z"
   },
   {
    "duration": 143,
    "start_time": "2022-06-06T11:38:30.958Z"
   },
   {
    "duration": 12,
    "start_time": "2022-06-06T11:46:13.439Z"
   },
   {
    "duration": 15,
    "start_time": "2022-06-06T11:48:10.961Z"
   },
   {
    "duration": 181,
    "start_time": "2022-06-06T11:48:34.362Z"
   },
   {
    "duration": 14,
    "start_time": "2022-06-06T11:48:43.595Z"
   },
   {
    "duration": 12,
    "start_time": "2022-06-06T11:49:32.850Z"
   },
   {
    "duration": 15,
    "start_time": "2022-06-06T11:49:54.427Z"
   },
   {
    "duration": 165,
    "start_time": "2022-06-06T11:50:12.559Z"
   },
   {
    "duration": 501,
    "start_time": "2022-06-06T11:50:43.481Z"
   },
   {
    "duration": 128,
    "start_time": "2022-06-06T11:50:55.622Z"
   },
   {
    "duration": 125,
    "start_time": "2022-06-06T11:51:01.697Z"
   },
   {
    "duration": 181,
    "start_time": "2022-06-06T11:52:00.920Z"
   },
   {
    "duration": 151,
    "start_time": "2022-06-06T11:52:07.206Z"
   },
   {
    "duration": 182,
    "start_time": "2022-06-06T11:53:21.400Z"
   },
   {
    "duration": 164,
    "start_time": "2022-06-06T11:53:55.957Z"
   },
   {
    "duration": 169,
    "start_time": "2022-06-06T11:53:59.613Z"
   },
   {
    "duration": 13,
    "start_time": "2022-06-06T11:55:21.990Z"
   },
   {
    "duration": 12,
    "start_time": "2022-06-06T11:55:22.726Z"
   },
   {
    "duration": 131,
    "start_time": "2022-06-06T11:55:32.642Z"
   },
   {
    "duration": 249,
    "start_time": "2022-06-06T11:55:34.854Z"
   },
   {
    "duration": 37,
    "start_time": "2022-06-06T11:55:42.287Z"
   },
   {
    "duration": 133,
    "start_time": "2022-06-06T11:55:43.370Z"
   },
   {
    "duration": 410,
    "start_time": "2022-06-06T11:55:46.459Z"
   },
   {
    "duration": 128,
    "start_time": "2022-06-06T11:55:47.470Z"
   },
   {
    "duration": 121,
    "start_time": "2022-06-06T11:55:51.397Z"
   },
   {
    "duration": 7,
    "start_time": "2022-06-06T11:55:54.859Z"
   },
   {
    "duration": 10,
    "start_time": "2022-06-06T11:55:56.492Z"
   },
   {
    "duration": 6,
    "start_time": "2022-06-06T11:57:14.808Z"
   },
   {
    "duration": 16,
    "start_time": "2022-06-06T11:57:15.617Z"
   },
   {
    "duration": 13,
    "start_time": "2022-06-06T11:58:51.119Z"
   },
   {
    "duration": 18,
    "start_time": "2022-06-06T11:59:54.588Z"
   },
   {
    "duration": 9,
    "start_time": "2022-06-06T12:00:13.515Z"
   },
   {
    "duration": 18,
    "start_time": "2022-06-06T12:00:14.195Z"
   },
   {
    "duration": 59,
    "start_time": "2022-06-06T12:00:23.067Z"
   },
   {
    "duration": 193,
    "start_time": "2022-06-06T12:00:24.405Z"
   },
   {
    "duration": 236,
    "start_time": "2022-06-06T12:00:42.091Z"
   },
   {
    "duration": 145,
    "start_time": "2022-06-06T12:00:45.263Z"
   },
   {
    "duration": 108,
    "start_time": "2022-06-06T12:02:35.376Z"
   },
   {
    "duration": 134,
    "start_time": "2022-06-06T12:02:37.845Z"
   },
   {
    "duration": 45,
    "start_time": "2022-06-06T12:03:04.007Z"
   },
   {
    "duration": 208,
    "start_time": "2022-06-06T12:03:17.606Z"
   },
   {
    "duration": 7,
    "start_time": "2022-06-06T12:03:32.111Z"
   },
   {
    "duration": 20,
    "start_time": "2022-06-06T12:03:33.088Z"
   },
   {
    "duration": 137,
    "start_time": "2022-06-06T12:03:35.759Z"
   },
   {
    "duration": 178,
    "start_time": "2022-06-06T12:03:36.456Z"
   },
   {
    "duration": 63,
    "start_time": "2022-06-06T12:03:49.190Z"
   },
   {
    "duration": 151,
    "start_time": "2022-06-06T12:03:56.606Z"
   },
   {
    "duration": 318,
    "start_time": "2022-06-06T12:04:01.579Z"
   },
   {
    "duration": 158,
    "start_time": "2022-06-06T12:04:04.130Z"
   },
   {
    "duration": 22,
    "start_time": "2022-06-06T12:04:07.263Z"
   },
   {
    "duration": 20,
    "start_time": "2022-06-06T12:04:33.957Z"
   },
   {
    "duration": 11,
    "start_time": "2022-06-06T12:05:15.884Z"
   },
   {
    "duration": 21,
    "start_time": "2022-06-06T12:06:19.783Z"
   },
   {
    "duration": 13,
    "start_time": "2022-06-06T12:07:46.202Z"
   },
   {
    "duration": 20,
    "start_time": "2022-06-06T12:07:50.757Z"
   },
   {
    "duration": 1344,
    "start_time": "2022-06-06T12:08:15.104Z"
   },
   {
    "duration": 153,
    "start_time": "2022-06-06T12:08:16.450Z"
   },
   {
    "duration": 5,
    "start_time": "2022-06-06T12:08:16.605Z"
   },
   {
    "duration": 15,
    "start_time": "2022-06-06T12:08:16.613Z"
   },
   {
    "duration": 13,
    "start_time": "2022-06-06T12:08:16.633Z"
   },
   {
    "duration": 6,
    "start_time": "2022-06-06T12:08:16.648Z"
   },
   {
    "duration": 26,
    "start_time": "2022-06-06T12:08:16.665Z"
   },
   {
    "duration": 22,
    "start_time": "2022-06-06T12:08:16.693Z"
   },
   {
    "duration": 24,
    "start_time": "2022-06-06T12:08:16.716Z"
   },
   {
    "duration": 166,
    "start_time": "2022-06-06T12:08:16.744Z"
   },
   {
    "duration": 58,
    "start_time": "2022-06-06T12:08:16.912Z"
   },
   {
    "duration": 64,
    "start_time": "2022-06-06T12:08:16.971Z"
   },
   {
    "duration": 173,
    "start_time": "2022-06-06T12:08:17.037Z"
   },
   {
    "duration": 29,
    "start_time": "2022-06-06T12:08:17.213Z"
   },
   {
    "duration": 49,
    "start_time": "2022-06-06T12:08:17.244Z"
   },
   {
    "duration": 36,
    "start_time": "2022-06-06T12:08:17.295Z"
   },
   {
    "duration": 11,
    "start_time": "2022-06-06T12:08:17.333Z"
   },
   {
    "duration": 31,
    "start_time": "2022-06-06T12:08:17.345Z"
   },
   {
    "duration": 48,
    "start_time": "2022-06-06T12:08:17.378Z"
   },
   {
    "duration": 25,
    "start_time": "2022-06-06T12:08:17.428Z"
   },
   {
    "duration": 321,
    "start_time": "2022-06-06T12:08:17.456Z"
   },
   {
    "duration": 0,
    "start_time": "2022-06-06T12:08:17.779Z"
   },
   {
    "duration": 0,
    "start_time": "2022-06-06T12:08:17.780Z"
   },
   {
    "duration": 0,
    "start_time": "2022-06-06T12:08:17.781Z"
   },
   {
    "duration": 0,
    "start_time": "2022-06-06T12:08:17.782Z"
   },
   {
    "duration": 0,
    "start_time": "2022-06-06T12:08:17.782Z"
   },
   {
    "duration": 0,
    "start_time": "2022-06-06T12:08:17.783Z"
   },
   {
    "duration": 0,
    "start_time": "2022-06-06T12:08:17.784Z"
   },
   {
    "duration": 0,
    "start_time": "2022-06-06T12:08:17.786Z"
   },
   {
    "duration": 0,
    "start_time": "2022-06-06T12:08:17.791Z"
   },
   {
    "duration": 0,
    "start_time": "2022-06-06T12:08:17.792Z"
   },
   {
    "duration": 0,
    "start_time": "2022-06-06T12:08:17.793Z"
   },
   {
    "duration": 0,
    "start_time": "2022-06-06T12:08:17.794Z"
   },
   {
    "duration": 0,
    "start_time": "2022-06-06T12:08:17.795Z"
   },
   {
    "duration": 0,
    "start_time": "2022-06-06T12:08:17.796Z"
   },
   {
    "duration": 0,
    "start_time": "2022-06-06T12:08:17.798Z"
   },
   {
    "duration": 0,
    "start_time": "2022-06-06T12:08:17.798Z"
   },
   {
    "duration": 0,
    "start_time": "2022-06-06T12:08:17.799Z"
   },
   {
    "duration": 0,
    "start_time": "2022-06-06T12:08:17.801Z"
   },
   {
    "duration": 0,
    "start_time": "2022-06-06T12:08:17.804Z"
   },
   {
    "duration": 0,
    "start_time": "2022-06-06T12:08:17.806Z"
   },
   {
    "duration": 0,
    "start_time": "2022-06-06T12:08:17.808Z"
   },
   {
    "duration": 0,
    "start_time": "2022-06-06T12:08:17.809Z"
   },
   {
    "duration": 0,
    "start_time": "2022-06-06T12:08:17.811Z"
   },
   {
    "duration": 0,
    "start_time": "2022-06-06T12:08:17.812Z"
   },
   {
    "duration": 0,
    "start_time": "2022-06-06T12:08:17.814Z"
   },
   {
    "duration": 80,
    "start_time": "2022-06-06T12:10:57.323Z"
   },
   {
    "duration": 187,
    "start_time": "2022-06-06T12:10:59.230Z"
   },
   {
    "duration": 148,
    "start_time": "2022-06-06T12:11:31.981Z"
   },
   {
    "duration": 672,
    "start_time": "2022-06-06T12:12:21.412Z"
   },
   {
    "duration": 140,
    "start_time": "2022-06-06T12:12:25.463Z"
   },
   {
    "duration": 54,
    "start_time": "2022-06-06T12:12:35.351Z"
   },
   {
    "duration": 185,
    "start_time": "2022-06-06T12:12:47.910Z"
   },
   {
    "duration": 22398,
    "start_time": "2022-06-06T12:12:52.499Z"
   },
   {
    "duration": 682,
    "start_time": "2022-06-06T12:13:58.950Z"
   },
   {
    "duration": 180,
    "start_time": "2022-06-06T12:14:26.110Z"
   },
   {
    "duration": 163,
    "start_time": "2022-06-06T12:14:29.467Z"
   },
   {
    "duration": 9,
    "start_time": "2022-06-06T12:14:39.791Z"
   },
   {
    "duration": 14,
    "start_time": "2022-06-06T12:14:41.685Z"
   },
   {
    "duration": 9,
    "start_time": "2022-06-06T12:15:14.110Z"
   },
   {
    "duration": 17,
    "start_time": "2022-06-06T12:15:19.343Z"
   },
   {
    "duration": 178,
    "start_time": "2022-06-06T12:15:22.323Z"
   },
   {
    "duration": 30,
    "start_time": "2022-06-06T12:15:26.789Z"
   },
   {
    "duration": 182,
    "start_time": "2022-06-06T12:15:34.134Z"
   },
   {
    "duration": 841,
    "start_time": "2022-06-06T12:16:00.994Z"
   },
   {
    "duration": 166,
    "start_time": "2022-06-06T12:16:01.995Z"
   },
   {
    "duration": 66,
    "start_time": "2022-06-06T12:16:11.250Z"
   },
   {
    "duration": 127,
    "start_time": "2022-06-06T12:16:14.330Z"
   },
   {
    "duration": 30672,
    "start_time": "2022-06-06T12:16:26.538Z"
   },
   {
    "duration": 231,
    "start_time": "2022-06-06T12:17:04.284Z"
   },
   {
    "duration": 271,
    "start_time": "2022-06-06T12:17:19.518Z"
   },
   {
    "duration": 69,
    "start_time": "2022-06-06T12:17:21.942Z"
   },
   {
    "duration": 152,
    "start_time": "2022-06-06T12:17:27.359Z"
   },
   {
    "duration": 20,
    "start_time": "2022-06-06T12:17:33.953Z"
   },
   {
    "duration": 12,
    "start_time": "2022-06-06T12:17:41.144Z"
   },
   {
    "duration": 14,
    "start_time": "2022-06-06T12:17:46.715Z"
   },
   {
    "duration": 13,
    "start_time": "2022-06-06T12:17:48.283Z"
   },
   {
    "duration": 9,
    "start_time": "2022-06-06T12:18:50.242Z"
   },
   {
    "duration": 289,
    "start_time": "2022-06-06T12:22:26.122Z"
   },
   {
    "duration": 62,
    "start_time": "2022-06-06T12:23:16.724Z"
   },
   {
    "duration": 56,
    "start_time": "2022-06-06T12:23:49.932Z"
   },
   {
    "duration": 274,
    "start_time": "2022-06-06T12:23:54.052Z"
   },
   {
    "duration": 906,
    "start_time": "2022-06-06T12:23:56.276Z"
   },
   {
    "duration": 210,
    "start_time": "2022-06-06T12:24:00.484Z"
   },
   {
    "duration": 55,
    "start_time": "2022-06-06T12:24:02.403Z"
   },
   {
    "duration": 181,
    "start_time": "2022-06-06T12:24:07.765Z"
   },
   {
    "duration": 388,
    "start_time": "2022-06-06T12:24:12.118Z"
   },
   {
    "duration": 191,
    "start_time": "2022-06-06T12:24:13.834Z"
   },
   {
    "duration": 10,
    "start_time": "2022-06-06T12:24:17.093Z"
   },
   {
    "duration": 19,
    "start_time": "2022-06-06T12:24:18.886Z"
   },
   {
    "duration": 11,
    "start_time": "2022-06-06T12:24:20.686Z"
   },
   {
    "duration": 13,
    "start_time": "2022-06-06T12:24:21.731Z"
   },
   {
    "duration": 32086,
    "start_time": "2022-06-06T12:26:44.994Z"
   },
   {
    "duration": 213,
    "start_time": "2022-06-06T12:27:23.949Z"
   },
   {
    "duration": 141,
    "start_time": "2022-06-06T12:27:43.781Z"
   },
   {
    "duration": 16,
    "start_time": "2022-06-06T12:27:45.699Z"
   },
   {
    "duration": 13,
    "start_time": "2022-06-06T12:27:46.764Z"
   },
   {
    "duration": 9,
    "start_time": "2022-06-06T12:27:47.613Z"
   },
   {
    "duration": 10,
    "start_time": "2022-06-06T12:29:38.486Z"
   },
   {
    "duration": 7,
    "start_time": "2022-06-06T12:29:40.654Z"
   },
   {
    "duration": 17,
    "start_time": "2022-06-06T12:29:42.181Z"
   },
   {
    "duration": 42,
    "start_time": "2022-06-06T12:30:59.582Z"
   },
   {
    "duration": 1281,
    "start_time": "2022-06-06T12:31:25.988Z"
   },
   {
    "duration": 137,
    "start_time": "2022-06-06T12:31:27.272Z"
   },
   {
    "duration": 9,
    "start_time": "2022-06-06T12:31:27.411Z"
   },
   {
    "duration": 23,
    "start_time": "2022-06-06T12:31:27.422Z"
   },
   {
    "duration": 9,
    "start_time": "2022-06-06T12:31:27.448Z"
   },
   {
    "duration": 48,
    "start_time": "2022-06-06T12:31:27.459Z"
   },
   {
    "duration": 22,
    "start_time": "2022-06-06T12:31:27.510Z"
   },
   {
    "duration": 15,
    "start_time": "2022-06-06T12:31:27.535Z"
   },
   {
    "duration": 33,
    "start_time": "2022-06-06T12:31:27.553Z"
   },
   {
    "duration": 172,
    "start_time": "2022-06-06T12:31:27.588Z"
   },
   {
    "duration": 47,
    "start_time": "2022-06-06T12:31:27.762Z"
   },
   {
    "duration": 56,
    "start_time": "2022-06-06T12:31:27.811Z"
   },
   {
    "duration": 147,
    "start_time": "2022-06-06T12:31:27.869Z"
   },
   {
    "duration": 30,
    "start_time": "2022-06-06T12:31:28.021Z"
   },
   {
    "duration": 36,
    "start_time": "2022-06-06T12:31:28.053Z"
   },
   {
    "duration": 41,
    "start_time": "2022-06-06T12:31:28.091Z"
   },
   {
    "duration": 9,
    "start_time": "2022-06-06T12:31:28.134Z"
   },
   {
    "duration": 29,
    "start_time": "2022-06-06T12:31:28.145Z"
   },
   {
    "duration": 12,
    "start_time": "2022-06-06T12:31:28.177Z"
   },
   {
    "duration": 21,
    "start_time": "2022-06-06T12:31:28.192Z"
   },
   {
    "duration": 61,
    "start_time": "2022-06-06T12:31:28.216Z"
   },
   {
    "duration": 295,
    "start_time": "2022-06-06T12:31:28.280Z"
   },
   {
    "duration": 841,
    "start_time": "2022-06-06T12:31:28.584Z"
   },
   {
    "duration": 186,
    "start_time": "2022-06-06T12:31:29.427Z"
   },
   {
    "duration": 39,
    "start_time": "2022-06-06T12:31:29.615Z"
   },
   {
    "duration": 139,
    "start_time": "2022-06-06T12:31:29.665Z"
   },
   {
    "duration": 26477,
    "start_time": "2022-06-06T12:31:29.806Z"
   },
   {
    "duration": 578,
    "start_time": "2022-06-06T12:31:56.285Z"
   },
   {
    "duration": 177,
    "start_time": "2022-06-06T12:31:56.865Z"
   },
   {
    "duration": 138,
    "start_time": "2022-06-06T12:31:57.044Z"
   },
   {
    "duration": 9,
    "start_time": "2022-06-06T12:31:57.184Z"
   },
   {
    "duration": 10,
    "start_time": "2022-06-06T12:31:57.195Z"
   },
   {
    "duration": 9,
    "start_time": "2022-06-06T12:31:57.207Z"
   },
   {
    "duration": 17,
    "start_time": "2022-06-06T12:31:57.218Z"
   },
   {
    "duration": 142,
    "start_time": "2022-06-06T12:31:57.237Z"
   },
   {
    "duration": 226,
    "start_time": "2022-06-06T12:31:57.381Z"
   },
   {
    "duration": 819,
    "start_time": "2022-06-06T12:31:57.609Z"
   },
   {
    "duration": 163,
    "start_time": "2022-06-06T12:31:58.430Z"
   },
   {
    "duration": 46,
    "start_time": "2022-06-06T12:31:58.599Z"
   },
   {
    "duration": 146,
    "start_time": "2022-06-06T12:31:58.646Z"
   },
   {
    "duration": 31290,
    "start_time": "2022-06-06T12:31:58.796Z"
   },
   {
    "duration": 284,
    "start_time": "2022-06-06T12:32:30.087Z"
   },
   {
    "duration": 175,
    "start_time": "2022-06-06T12:32:30.374Z"
   },
   {
    "duration": 21,
    "start_time": "2022-06-06T12:32:30.552Z"
   },
   {
    "duration": 54,
    "start_time": "2022-06-06T12:32:30.576Z"
   },
   {
    "duration": 31,
    "start_time": "2022-06-06T12:32:30.632Z"
   },
   {
    "duration": 36,
    "start_time": "2022-06-06T12:32:30.674Z"
   },
   {
    "duration": 11,
    "start_time": "2022-06-06T12:34:53.851Z"
   },
   {
    "duration": 11,
    "start_time": "2022-06-06T12:34:55.343Z"
   },
   {
    "duration": 7,
    "start_time": "2022-06-06T12:34:56.834Z"
   },
   {
    "duration": 22,
    "start_time": "2022-06-06T12:35:09.463Z"
   },
   {
    "duration": 9,
    "start_time": "2022-06-06T12:35:11.384Z"
   },
   {
    "duration": 14,
    "start_time": "2022-06-06T12:35:12.165Z"
   },
   {
    "duration": 13,
    "start_time": "2022-06-06T12:36:12.704Z"
   },
   {
    "duration": 8,
    "start_time": "2022-06-06T12:36:14.739Z"
   },
   {
    "duration": 15,
    "start_time": "2022-06-06T12:36:16.152Z"
   },
   {
    "duration": 151,
    "start_time": "2022-06-06T12:36:39.017Z"
   },
   {
    "duration": 99,
    "start_time": "2022-06-06T12:36:44.592Z"
   },
   {
    "duration": 125,
    "start_time": "2022-06-06T12:37:33.956Z"
   },
   {
    "duration": 329,
    "start_time": "2022-06-06T12:37:39.183Z"
   },
   {
    "duration": 10,
    "start_time": "2022-06-06T12:38:14.804Z"
   },
   {
    "duration": 50,
    "start_time": "2022-06-06T12:38:57.842Z"
   },
   {
    "duration": 228,
    "start_time": "2022-06-06T12:39:01.020Z"
   },
   {
    "duration": 14,
    "start_time": "2022-06-06T12:39:07.583Z"
   },
   {
    "duration": 10,
    "start_time": "2022-06-06T12:39:09.843Z"
   },
   {
    "duration": 14,
    "start_time": "2022-06-06T12:39:21.290Z"
   },
   {
    "duration": 150,
    "start_time": "2022-06-06T12:39:46.018Z"
   },
   {
    "duration": 170,
    "start_time": "2022-06-06T12:40:09.598Z"
   },
   {
    "duration": 159,
    "start_time": "2022-06-06T12:40:10.759Z"
   },
   {
    "duration": 32,
    "start_time": "2022-06-06T12:40:14.265Z"
   },
   {
    "duration": 173,
    "start_time": "2022-06-06T12:40:16.081Z"
   },
   {
    "duration": 195,
    "start_time": "2022-06-06T12:40:54.400Z"
   },
   {
    "duration": 188,
    "start_time": "2022-06-06T12:41:01.525Z"
   },
   {
    "duration": 212,
    "start_time": "2022-06-06T12:41:18.335Z"
   },
   {
    "duration": 173,
    "start_time": "2022-06-06T12:41:48.513Z"
   },
   {
    "duration": 576,
    "start_time": "2022-06-06T12:43:15.150Z"
   },
   {
    "duration": 175,
    "start_time": "2022-06-06T12:43:40.563Z"
   },
   {
    "duration": 182,
    "start_time": "2022-06-06T12:44:01.933Z"
   },
   {
    "duration": 163,
    "start_time": "2022-06-06T12:46:03.284Z"
   },
   {
    "duration": 158,
    "start_time": "2022-06-06T12:51:15.604Z"
   },
   {
    "duration": 29,
    "start_time": "2022-06-06T12:51:33.788Z"
   },
   {
    "duration": 122,
    "start_time": "2022-06-06T12:51:37.489Z"
   },
   {
    "duration": 119,
    "start_time": "2022-06-06T12:51:45.142Z"
   },
   {
    "duration": 269,
    "start_time": "2022-06-06T12:51:49.737Z"
   },
   {
    "duration": 153,
    "start_time": "2022-06-06T12:52:04.061Z"
   },
   {
    "duration": 171,
    "start_time": "2022-06-06T12:53:55.013Z"
   },
   {
    "duration": 150,
    "start_time": "2022-06-06T12:54:05.709Z"
   },
   {
    "duration": 151,
    "start_time": "2022-06-06T12:54:41.543Z"
   },
   {
    "duration": 147,
    "start_time": "2022-06-06T12:56:10.385Z"
   },
   {
    "duration": 178,
    "start_time": "2022-06-06T12:56:10.534Z"
   },
   {
    "duration": 166,
    "start_time": "2022-06-06T12:56:31.423Z"
   },
   {
    "duration": 191,
    "start_time": "2022-06-06T12:57:14.352Z"
   },
   {
    "duration": 191,
    "start_time": "2022-06-06T12:57:28.240Z"
   },
   {
    "duration": 161,
    "start_time": "2022-06-06T12:59:02.046Z"
   },
   {
    "duration": 732,
    "start_time": "2022-06-06T12:59:21.289Z"
   },
   {
    "duration": 146,
    "start_time": "2022-06-06T12:59:23.097Z"
   },
   {
    "duration": 10,
    "start_time": "2022-06-06T12:59:59.746Z"
   },
   {
    "duration": 10,
    "start_time": "2022-06-06T13:01:06.985Z"
   },
   {
    "duration": 122,
    "start_time": "2022-06-06T13:01:12.222Z"
   },
   {
    "duration": 190,
    "start_time": "2022-06-06T13:01:21.307Z"
   },
   {
    "duration": 146,
    "start_time": "2022-06-06T13:01:37.396Z"
   },
   {
    "duration": 7,
    "start_time": "2022-06-06T13:07:53.216Z"
   },
   {
    "duration": 11,
    "start_time": "2022-06-06T13:08:12.911Z"
   },
   {
    "duration": 4,
    "start_time": "2022-06-06T13:08:17.819Z"
   },
   {
    "duration": 4,
    "start_time": "2022-06-06T13:08:19.516Z"
   },
   {
    "duration": 6,
    "start_time": "2022-06-06T13:08:20.957Z"
   },
   {
    "duration": 17,
    "start_time": "2022-06-06T13:08:35.276Z"
   },
   {
    "duration": 16,
    "start_time": "2022-06-06T13:10:32.875Z"
   },
   {
    "duration": 370,
    "start_time": "2022-06-06T13:10:36.952Z"
   },
   {
    "duration": 291,
    "start_time": "2022-06-06T13:12:31.989Z"
   },
   {
    "duration": 139,
    "start_time": "2022-06-06T13:12:55.095Z"
   },
   {
    "duration": 290,
    "start_time": "2022-06-06T13:13:03.120Z"
   },
   {
    "duration": 127,
    "start_time": "2022-06-06T13:13:04.218Z"
   },
   {
    "duration": 2382,
    "start_time": "2022-06-06T13:14:27.248Z"
   },
   {
    "duration": 130,
    "start_time": "2022-06-06T13:14:29.632Z"
   },
   {
    "duration": 6,
    "start_time": "2022-06-06T13:14:29.765Z"
   },
   {
    "duration": 7,
    "start_time": "2022-06-06T13:14:29.773Z"
   },
   {
    "duration": 33,
    "start_time": "2022-06-06T13:14:29.782Z"
   },
   {
    "duration": 13,
    "start_time": "2022-06-06T13:14:29.817Z"
   },
   {
    "duration": 23,
    "start_time": "2022-06-06T13:14:29.831Z"
   },
   {
    "duration": 22,
    "start_time": "2022-06-06T13:14:29.855Z"
   },
   {
    "duration": 35,
    "start_time": "2022-06-06T13:14:29.879Z"
   },
   {
    "duration": 204,
    "start_time": "2022-06-06T13:14:29.917Z"
   },
   {
    "duration": 73,
    "start_time": "2022-06-06T13:14:30.123Z"
   },
   {
    "duration": 38,
    "start_time": "2022-06-06T13:14:30.199Z"
   },
   {
    "duration": 165,
    "start_time": "2022-06-06T13:14:30.239Z"
   },
   {
    "duration": 20,
    "start_time": "2022-06-06T13:14:30.406Z"
   },
   {
    "duration": 30,
    "start_time": "2022-06-06T13:14:30.427Z"
   },
   {
    "duration": 66,
    "start_time": "2022-06-06T13:14:30.480Z"
   },
   {
    "duration": 60,
    "start_time": "2022-06-06T13:14:30.548Z"
   },
   {
    "duration": 28,
    "start_time": "2022-06-06T13:14:30.610Z"
   },
   {
    "duration": 8,
    "start_time": "2022-06-06T13:14:30.640Z"
   },
   {
    "duration": 186,
    "start_time": "2022-06-06T13:14:30.649Z"
   },
   {
    "duration": 0,
    "start_time": "2022-06-06T13:14:30.838Z"
   },
   {
    "duration": 0,
    "start_time": "2022-06-06T13:14:30.840Z"
   },
   {
    "duration": 0,
    "start_time": "2022-06-06T13:14:30.841Z"
   },
   {
    "duration": 0,
    "start_time": "2022-06-06T13:14:30.843Z"
   },
   {
    "duration": 0,
    "start_time": "2022-06-06T13:14:30.844Z"
   },
   {
    "duration": 0,
    "start_time": "2022-06-06T13:14:30.846Z"
   },
   {
    "duration": 0,
    "start_time": "2022-06-06T13:14:30.847Z"
   },
   {
    "duration": 0,
    "start_time": "2022-06-06T13:14:30.848Z"
   },
   {
    "duration": 1,
    "start_time": "2022-06-06T13:14:30.848Z"
   },
   {
    "duration": 0,
    "start_time": "2022-06-06T13:14:30.865Z"
   },
   {
    "duration": 0,
    "start_time": "2022-06-06T13:14:30.866Z"
   },
   {
    "duration": 0,
    "start_time": "2022-06-06T13:14:30.867Z"
   },
   {
    "duration": 0,
    "start_time": "2022-06-06T13:14:30.868Z"
   },
   {
    "duration": 0,
    "start_time": "2022-06-06T13:14:30.869Z"
   },
   {
    "duration": 0,
    "start_time": "2022-06-06T13:14:30.870Z"
   },
   {
    "duration": 0,
    "start_time": "2022-06-06T13:14:30.871Z"
   },
   {
    "duration": 0,
    "start_time": "2022-06-06T13:14:30.872Z"
   },
   {
    "duration": 0,
    "start_time": "2022-06-06T13:14:30.873Z"
   },
   {
    "duration": 0,
    "start_time": "2022-06-06T13:14:30.874Z"
   },
   {
    "duration": 0,
    "start_time": "2022-06-06T13:14:30.874Z"
   },
   {
    "duration": 0,
    "start_time": "2022-06-06T13:14:30.875Z"
   },
   {
    "duration": 0,
    "start_time": "2022-06-06T13:14:30.876Z"
   },
   {
    "duration": 0,
    "start_time": "2022-06-06T13:14:30.877Z"
   },
   {
    "duration": 0,
    "start_time": "2022-06-06T13:14:30.880Z"
   },
   {
    "duration": 0,
    "start_time": "2022-06-06T13:14:30.880Z"
   },
   {
    "duration": 0,
    "start_time": "2022-06-06T13:14:30.882Z"
   },
   {
    "duration": 0,
    "start_time": "2022-06-06T13:14:30.884Z"
   },
   {
    "duration": 0,
    "start_time": "2022-06-06T13:14:30.885Z"
   },
   {
    "duration": 0,
    "start_time": "2022-06-06T13:14:30.886Z"
   },
   {
    "duration": 0,
    "start_time": "2022-06-06T13:14:30.887Z"
   },
   {
    "duration": 0,
    "start_time": "2022-06-06T13:14:30.888Z"
   },
   {
    "duration": 0,
    "start_time": "2022-06-06T13:14:30.889Z"
   },
   {
    "duration": 6,
    "start_time": "2022-06-06T13:16:37.837Z"
   },
   {
    "duration": 35,
    "start_time": "2022-06-06T13:16:40.836Z"
   },
   {
    "duration": 154,
    "start_time": "2022-06-06T13:16:45.658Z"
   },
   {
    "duration": 655,
    "start_time": "2022-06-06T13:16:49.597Z"
   },
   {
    "duration": 1295,
    "start_time": "2022-06-06T13:16:58.032Z"
   },
   {
    "duration": 133,
    "start_time": "2022-06-06T13:16:59.330Z"
   },
   {
    "duration": 10,
    "start_time": "2022-06-06T13:16:59.468Z"
   },
   {
    "duration": 23,
    "start_time": "2022-06-06T13:16:59.480Z"
   },
   {
    "duration": 9,
    "start_time": "2022-06-06T13:16:59.505Z"
   },
   {
    "duration": 8,
    "start_time": "2022-06-06T13:16:59.515Z"
   },
   {
    "duration": 15,
    "start_time": "2022-06-06T13:16:59.524Z"
   },
   {
    "duration": 12,
    "start_time": "2022-06-06T13:16:59.541Z"
   },
   {
    "duration": 31,
    "start_time": "2022-06-06T13:16:59.555Z"
   },
   {
    "duration": 143,
    "start_time": "2022-06-06T13:16:59.589Z"
   },
   {
    "duration": 57,
    "start_time": "2022-06-06T13:16:59.734Z"
   },
   {
    "duration": 48,
    "start_time": "2022-06-06T13:16:59.793Z"
   },
   {
    "duration": 174,
    "start_time": "2022-06-06T13:16:59.843Z"
   },
   {
    "duration": 20,
    "start_time": "2022-06-06T13:17:00.019Z"
   },
   {
    "duration": 50,
    "start_time": "2022-06-06T13:17:00.041Z"
   },
   {
    "duration": 46,
    "start_time": "2022-06-06T13:17:00.093Z"
   },
   {
    "duration": 15,
    "start_time": "2022-06-06T13:17:00.140Z"
   },
   {
    "duration": 26,
    "start_time": "2022-06-06T13:17:00.157Z"
   },
   {
    "duration": 13,
    "start_time": "2022-06-06T13:17:00.185Z"
   },
   {
    "duration": 18,
    "start_time": "2022-06-06T13:17:00.200Z"
   },
   {
    "duration": 57,
    "start_time": "2022-06-06T13:17:00.220Z"
   },
   {
    "duration": 304,
    "start_time": "2022-06-06T13:17:00.280Z"
   },
   {
    "duration": 674,
    "start_time": "2022-06-06T13:17:00.586Z"
   },
   {
    "duration": 147,
    "start_time": "2022-06-06T13:17:01.264Z"
   },
   {
    "duration": 69,
    "start_time": "2022-06-06T13:17:01.412Z"
   },
   {
    "duration": 150,
    "start_time": "2022-06-06T13:17:01.483Z"
   },
   {
    "duration": 21974,
    "start_time": "2022-06-06T13:17:01.635Z"
   },
   {
    "duration": 542,
    "start_time": "2022-06-06T13:17:23.614Z"
   },
   {
    "duration": 144,
    "start_time": "2022-06-06T13:17:24.157Z"
   },
   {
    "duration": 129,
    "start_time": "2022-06-06T13:17:24.303Z"
   },
   {
    "duration": 8,
    "start_time": "2022-06-06T13:17:24.434Z"
   },
   {
    "duration": 30,
    "start_time": "2022-06-06T13:17:24.444Z"
   },
   {
    "duration": 22,
    "start_time": "2022-06-06T13:17:24.475Z"
   },
   {
    "duration": 14,
    "start_time": "2022-06-06T13:17:24.499Z"
   },
   {
    "duration": 71,
    "start_time": "2022-06-06T13:17:24.515Z"
   },
   {
    "duration": 275,
    "start_time": "2022-06-06T13:17:24.592Z"
   },
   {
    "duration": 807,
    "start_time": "2022-06-06T13:17:24.875Z"
   },
   {
    "duration": 139,
    "start_time": "2022-06-06T13:17:25.684Z"
   },
   {
    "duration": 63,
    "start_time": "2022-06-06T13:17:25.825Z"
   },
   {
    "duration": 144,
    "start_time": "2022-06-06T13:17:25.889Z"
   },
   {
    "duration": 29548,
    "start_time": "2022-06-06T13:17:26.035Z"
   },
   {
    "duration": 215,
    "start_time": "2022-06-06T13:17:55.585Z"
   },
   {
    "duration": 136,
    "start_time": "2022-06-06T13:17:55.802Z"
   },
   {
    "duration": 14,
    "start_time": "2022-06-06T13:17:55.940Z"
   },
   {
    "duration": 38,
    "start_time": "2022-06-06T13:17:55.967Z"
   },
   {
    "duration": 266,
    "start_time": "2022-06-06T13:17:56.008Z"
   },
   {
    "duration": 166,
    "start_time": "2022-06-06T13:17:56.275Z"
   },
   {
    "duration": 4,
    "start_time": "2022-06-06T13:17:56.443Z"
   },
   {
    "duration": 25,
    "start_time": "2022-06-06T13:17:56.449Z"
   },
   {
    "duration": 14,
    "start_time": "2022-06-06T13:17:56.476Z"
   },
   {
    "duration": 27,
    "start_time": "2022-06-06T13:17:56.492Z"
   },
   {
    "duration": 259,
    "start_time": "2022-06-06T13:17:56.520Z"
   },
   {
    "duration": 140,
    "start_time": "2022-06-06T13:17:56.780Z"
   },
   {
    "duration": 40,
    "start_time": "2022-06-06T13:22:00.128Z"
   },
   {
    "duration": 37,
    "start_time": "2022-06-06T13:22:13.357Z"
   },
   {
    "duration": 53,
    "start_time": "2022-06-06T13:23:05.721Z"
   },
   {
    "duration": 149,
    "start_time": "2022-06-06T13:25:27.124Z"
   },
   {
    "duration": 141,
    "start_time": "2022-06-06T13:25:30.757Z"
   },
   {
    "duration": 707,
    "start_time": "2022-06-06T13:26:51.382Z"
   },
   {
    "duration": 145,
    "start_time": "2022-06-06T13:26:56.563Z"
   },
   {
    "duration": 51,
    "start_time": "2022-06-06T13:27:57.638Z"
   },
   {
    "duration": 178,
    "start_time": "2022-06-06T13:28:16.040Z"
   },
   {
    "duration": 61,
    "start_time": "2022-06-06T13:28:40.351Z"
   },
   {
    "duration": 32,
    "start_time": "2022-06-06T13:28:46.790Z"
   },
   {
    "duration": 23760,
    "start_time": "2022-06-06T13:28:55.192Z"
   },
   {
    "duration": 687,
    "start_time": "2022-06-06T13:30:26.029Z"
   },
   {
    "duration": 130,
    "start_time": "2022-06-06T13:30:36.326Z"
   },
   {
    "duration": 16,
    "start_time": "2022-06-06T13:30:41.369Z"
   },
   {
    "duration": 10,
    "start_time": "2022-06-06T13:30:43.396Z"
   },
   {
    "duration": 151,
    "start_time": "2022-06-06T13:30:45.147Z"
   },
   {
    "duration": 207,
    "start_time": "2022-06-06T13:30:47.941Z"
   },
   {
    "duration": 6,
    "start_time": "2022-06-06T13:31:30.551Z"
   },
   {
    "duration": 4,
    "start_time": "2022-06-06T13:31:31.556Z"
   },
   {
    "duration": 8,
    "start_time": "2022-06-06T13:31:32.595Z"
   },
   {
    "duration": 27,
    "start_time": "2022-06-06T13:31:33.546Z"
   },
   {
    "duration": 196,
    "start_time": "2022-06-06T13:32:43.830Z"
   },
   {
    "duration": 128,
    "start_time": "2022-06-06T13:32:49.289Z"
   },
   {
    "duration": 210,
    "start_time": "2022-06-06T13:33:35.875Z"
   },
   {
    "duration": 265,
    "start_time": "2022-06-06T13:35:19.131Z"
   },
   {
    "duration": 149,
    "start_time": "2022-06-06T13:35:20.458Z"
   },
   {
    "duration": 1333,
    "start_time": "2022-06-06T13:45:58.302Z"
   },
   {
    "duration": 120,
    "start_time": "2022-06-06T13:45:59.637Z"
   },
   {
    "duration": 8,
    "start_time": "2022-06-06T13:45:59.759Z"
   },
   {
    "duration": 40,
    "start_time": "2022-06-06T13:45:59.770Z"
   },
   {
    "duration": 16,
    "start_time": "2022-06-06T13:45:59.813Z"
   },
   {
    "duration": 5,
    "start_time": "2022-06-06T13:45:59.832Z"
   },
   {
    "duration": 22,
    "start_time": "2022-06-06T13:45:59.839Z"
   },
   {
    "duration": 32,
    "start_time": "2022-06-06T13:45:59.863Z"
   },
   {
    "duration": 41,
    "start_time": "2022-06-06T13:45:59.898Z"
   },
   {
    "duration": 184,
    "start_time": "2022-06-06T13:45:59.943Z"
   },
   {
    "duration": 84,
    "start_time": "2022-06-06T13:46:00.129Z"
   },
   {
    "duration": 42,
    "start_time": "2022-06-06T13:46:00.215Z"
   },
   {
    "duration": 208,
    "start_time": "2022-06-06T13:46:00.266Z"
   },
   {
    "duration": 31,
    "start_time": "2022-06-06T13:46:00.476Z"
   },
   {
    "duration": 22,
    "start_time": "2022-06-06T13:46:00.509Z"
   },
   {
    "duration": 49,
    "start_time": "2022-06-06T13:46:00.533Z"
   },
   {
    "duration": 18,
    "start_time": "2022-06-06T13:46:00.584Z"
   },
   {
    "duration": 39,
    "start_time": "2022-06-06T13:46:00.611Z"
   },
   {
    "duration": 61,
    "start_time": "2022-06-06T13:46:00.663Z"
   },
   {
    "duration": 15,
    "start_time": "2022-06-06T13:46:00.726Z"
   },
   {
    "duration": 226,
    "start_time": "2022-06-06T13:46:00.743Z"
   },
   {
    "duration": 241,
    "start_time": "2022-06-06T13:46:00.992Z"
   },
   {
    "duration": 699,
    "start_time": "2022-06-06T13:46:01.235Z"
   },
   {
    "duration": 178,
    "start_time": "2022-06-06T13:46:01.936Z"
   },
   {
    "duration": 65,
    "start_time": "2022-06-06T13:46:02.116Z"
   },
   {
    "duration": 169,
    "start_time": "2022-06-06T13:46:02.183Z"
   },
   {
    "duration": 23217,
    "start_time": "2022-06-06T13:46:02.354Z"
   },
   {
    "duration": 1425,
    "start_time": "2022-06-06T13:46:25.577Z"
   },
   {
    "duration": 300,
    "start_time": "2022-06-06T13:46:27.004Z"
   },
   {
    "duration": 307,
    "start_time": "2022-06-06T13:46:27.306Z"
   },
   {
    "duration": 7,
    "start_time": "2022-06-06T13:46:27.615Z"
   },
   {
    "duration": 69,
    "start_time": "2022-06-06T13:46:27.624Z"
   },
   {
    "duration": 90,
    "start_time": "2022-06-06T13:46:27.695Z"
   },
   {
    "duration": 219,
    "start_time": "2022-06-06T13:46:27.787Z"
   },
   {
    "duration": 699,
    "start_time": "2022-06-06T13:46:28.008Z"
   },
   {
    "duration": 180,
    "start_time": "2022-06-06T13:46:28.709Z"
   },
   {
    "duration": 45,
    "start_time": "2022-06-06T13:46:28.891Z"
   },
   {
    "duration": 178,
    "start_time": "2022-06-06T13:46:28.938Z"
   },
   {
    "duration": 25861,
    "start_time": "2022-06-06T13:46:29.118Z"
   },
   {
    "duration": 694,
    "start_time": "2022-06-06T13:46:54.983Z"
   },
   {
    "duration": 143,
    "start_time": "2022-06-06T13:46:55.678Z"
   },
   {
    "duration": 10,
    "start_time": "2022-06-06T13:46:55.823Z"
   },
   {
    "duration": 12,
    "start_time": "2022-06-06T13:46:55.835Z"
   },
   {
    "duration": 259,
    "start_time": "2022-06-06T13:46:55.867Z"
   },
   {
    "duration": 192,
    "start_time": "2022-06-06T13:46:56.128Z"
   },
   {
    "duration": 8,
    "start_time": "2022-06-06T13:46:56.322Z"
   },
   {
    "duration": 50,
    "start_time": "2022-06-06T13:46:56.331Z"
   },
   {
    "duration": 179,
    "start_time": "2022-06-06T13:46:56.393Z"
   },
   {
    "duration": 247,
    "start_time": "2022-06-06T13:46:56.576Z"
   },
   {
    "duration": 858,
    "start_time": "2022-06-06T13:46:56.825Z"
   },
   {
    "duration": 155,
    "start_time": "2022-06-06T13:46:57.684Z"
   },
   {
    "duration": 65,
    "start_time": "2022-06-06T13:46:57.841Z"
   },
   {
    "duration": 146,
    "start_time": "2022-06-06T13:46:57.908Z"
   },
   {
    "duration": 32276,
    "start_time": "2022-06-06T13:46:58.056Z"
   },
   {
    "duration": 254,
    "start_time": "2022-06-06T13:47:30.334Z"
   },
   {
    "duration": 146,
    "start_time": "2022-06-06T13:47:30.596Z"
   },
   {
    "duration": 28,
    "start_time": "2022-06-06T13:47:30.744Z"
   },
   {
    "duration": 40,
    "start_time": "2022-06-06T13:47:30.774Z"
   },
   {
    "duration": 16,
    "start_time": "2022-06-06T13:47:30.816Z"
   },
   {
    "duration": 25,
    "start_time": "2022-06-06T13:47:30.834Z"
   },
   {
    "duration": 291,
    "start_time": "2022-06-06T13:47:30.861Z"
   },
   {
    "duration": 157,
    "start_time": "2022-06-06T13:47:31.154Z"
   },
   {
    "duration": 178,
    "start_time": "2022-06-06T13:48:07.245Z"
   },
   {
    "duration": 186,
    "start_time": "2022-06-06T13:48:31.127Z"
   },
   {
    "duration": 225,
    "start_time": "2022-06-06T13:51:07.598Z"
   },
   {
    "duration": 152,
    "start_time": "2022-06-06T13:51:13.251Z"
   },
   {
    "duration": 232,
    "start_time": "2022-06-06T13:51:37.983Z"
   },
   {
    "duration": 135,
    "start_time": "2022-06-06T13:51:39.407Z"
   }
  ],
  "kernelspec": {
   "display_name": "Python 3 (ipykernel)",
   "language": "python",
   "name": "python3"
  },
  "language_info": {
   "codemirror_mode": {
    "name": "ipython",
    "version": 3
   },
   "file_extension": ".py",
   "mimetype": "text/x-python",
   "name": "python",
   "nbconvert_exporter": "python",
   "pygments_lexer": "ipython3",
   "version": "3.9.7"
  },
  "toc": {
   "base_numbering": 1,
   "nav_menu": {},
   "number_sections": true,
   "sideBar": true,
   "skip_h1_title": true,
   "title_cell": "Содержание",
   "title_sidebar": "Contents",
   "toc_cell": true,
   "toc_position": {
    "height": "calc(100% - 180px)",
    "left": "10px",
    "top": "150px",
    "width": "286.237px"
   },
   "toc_section_display": true,
   "toc_window_display": true
  }
 },
 "nbformat": 4,
 "nbformat_minor": 4
}
